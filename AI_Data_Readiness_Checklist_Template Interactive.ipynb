{
 "cells": [
  {
   "cell_type": "markdown",
   "id": "f8198bd3-3e2a-444f-bff5-c9647a804ca9",
   "metadata": {},
   "source": [
    "# **Data Readiness For AI Checklist**\n",
    "\n",
    " * Creator(s) John Pill\n",
    " * Affiliation: UK Met Office\n",
    " * History: 1.0\n",
    " * Last update: 27 August 2024.\n",
    "\n",
    "\n",
    "---"
   ]
  },
  {
   "cell_type": "markdown",
   "id": "6ac1eb47-ae19-48f9-8a66-268b970dc97c",
   "metadata": {},
   "source": [
    "## **Overview**\n",
    "The checklist is developed using the 2019 draft readiness matrix developed by the Office of Science and Technology Policy Subcommittee on Open Science as a basis. The checklist has been improved based on further research and user feedback. Definitions for some concepts are listed at the end of this document. This checklist is developed through a collaboration of ESIP Data Readiness Cluster members include representatives from NOAA, NASA, USGS, and other organizations. The checklist will be updated periodically to reflect community feedback.\n",
    "\n",
    "ESIP Data Readiness Cluster (2023): Checklist to Examine AI-readiness for Open Environmental Datasets v.1.0. ESIP. Online resource. https://doi.org/10.6084/m9.figshare.19983722.v1\n",
    "\n",
    "Readiness Matrix (2020): What is AI-Ready Open Data? NOAA. Online resource. https://www.star.nesdis.noaa.gov/star/documents/meetings/2020AI/presentations/202010/20201022_Christensen.pdf\n",
    "\n",
    "### Prerequisites\n",
    "Ideally for AI-ready assessment, a dataset should be defined as the minimum measurable bundle (i.e., a physical parameter/variable of observational datasets or model simulations). The assessment at this scale will enable better integration of data from different sources for research and development. However, it can be an intensive process for manual assessment without automation. Therefore, we recommend current assessments be done on the data file level. If the dataset has different versions, the checklist should be applied to each dataset type (e.g. raw, derived).\n",
    "\n",
    "### Learning Outcomes\n",
    "* Know how to check a range of dataset features. \n",
    "* Assess a wide range of dataset features, which will impact the dataset's 'readiness' for machine learning.  \n",
    "\n",
    "\n",
    "---"
   ]
  },
  {
   "cell_type": "markdown",
   "id": "f61ad742-0a6d-4b49-83f3-a4bb1828975e",
   "metadata": {},
   "source": [
    "## **Tutorial Material TODO**\n",
    "\n",
    "\n",
    "Remember to save your notebook regularly as you work through it to prevent loosing your answers.\n",
    "\n",
    "\n",
    "Run this Jupyter notebook locally using Jupyter Lab. \n",
    "* **Add download and running instructions**\n",
    "* **May need to 'run all cells' to generate checklist - need to test**.\n",
    "\n",
    "\n",
    "### Data section, optional\n",
    "Scripts for pulling the data into the notebook assuming\n"
   ]
  },
  {
   "cell_type": "markdown",
   "id": "4fa896be-aa57-4cb7-b376-80fd9c4e0160",
   "metadata": {},
   "source": [
    "# NOTES \n",
    "### * Could switch to combobox then the default unselected value would be None if this would be more useful?\n",
    "### * Consider creating a class to model a question, response, question type etc. This way it could be possible to attach different importance weightings to questions and make accessing the information easier later on.\n",
    "### * Consider the best way to format the data object to store checklist results.\n",
    "### * Add export functions for different formats (CSV, JSON, etc.)\n"
   ]
  },
  {
   "cell_type": "code",
   "execution_count": 1,
   "id": "5b5a42bb-1da9-4460-a6a0-8d85063fd096",
   "metadata": {},
   "outputs": [],
   "source": [
    "import ipywidgets as widgets\n",
    "from IPython.display import display, clear_output"
   ]
  },
  {
   "cell_type": "markdown",
   "id": "3bf24dda-6822-45ae-a005-6d2f4138e7a8",
   "metadata": {},
   "source": [
    "---\n",
    "\n",
    "## **1. Dataset General Info**\n"
   ]
  },
  {
   "cell_type": "markdown",
   "id": "6faea870-624c-4cb6-8bfa-d93a4a16aea0",
   "metadata": {},
   "source": [
    "### Basic details"
   ]
  },
  {
   "cell_type": "code",
   "execution_count": 2,
   "id": "e6f9be9b-7e01-4210-8b77-8b0632be47a8",
   "metadata": {
    "jupyter": {
     "source_hidden": true
    }
   },
   "outputs": [
    {
     "data": {
      "application/vnd.jupyter.widget-view+json": {
       "model_id": "fff8248d9dc54142be14fda378ed2623",
       "version_major": 2,
       "version_minor": 0
      },
      "text/plain": [
       "Text(value='', placeholder='1.1 Dataset name')"
      ]
     },
     "metadata": {},
     "output_type": "display_data"
    },
    {
     "data": {
      "application/vnd.jupyter.widget-view+json": {
       "model_id": "19208ae464204284a5f2892f3bea4b29",
       "version_major": 2,
       "version_minor": 0
      },
      "text/plain": [
       "Text(value='', placeholder='1.2. Dataset version')"
      ]
     },
     "metadata": {},
     "output_type": "display_data"
    },
    {
     "data": {
      "application/vnd.jupyter.widget-view+json": {
       "model_id": "c4bf6172fc2e490ebab5733606134a26",
       "version_major": 2,
       "version_minor": 0
      },
      "text/plain": [
       "Text(value='', placeholder='1.3. Location / url link')"
      ]
     },
     "metadata": {},
     "output_type": "display_data"
    },
    {
     "data": {
      "application/vnd.jupyter.widget-view+json": {
       "model_id": "e1ff5d7b06e04d078b78b0bf9a440ce6",
       "version_major": 2,
       "version_minor": 0
      },
      "text/plain": [
       "Text(value='', placeholder='1.4. Assessor name')"
      ]
     },
     "metadata": {},
     "output_type": "display_data"
    },
    {
     "data": {
      "application/vnd.jupyter.widget-view+json": {
       "model_id": "70794b0b0eee41b8a3a24307c696a84a",
       "version_major": 2,
       "version_minor": 0
      },
      "text/plain": [
       "Text(value='', placeholder='1.5. Assessor email address')"
      ]
     },
     "metadata": {},
     "output_type": "display_data"
    }
   ],
   "source": [
    "\n",
    "dataset_name = widgets.Text(\n",
    "    value='',\n",
    "    placeholder='1.1 Dataset name',\n",
    "    disabled=False   \n",
    ")\n",
    "\n",
    "dataset_version = widgets.Text(\n",
    "    value='',\n",
    "    placeholder='1.2. Dataset version',\n",
    "    disabled=False   \n",
    ")\n",
    "\n",
    "dataset_link = widgets.Text(\n",
    "    value='',\n",
    "    placeholder='1.3. Location / url link',\n",
    "    disabled=False   \n",
    ")\n",
    "\n",
    "dataset_assessor_name = widgets.Text(\n",
    "    value='',\n",
    "    placeholder='1.4. Assessor name',\n",
    "    disabled=False   \n",
    ")\n",
    "\n",
    "dataset_assessor_email = widgets.Text(\n",
    "    value='',\n",
    "    placeholder='1.5. Assessor email address',\n",
    "    disabled=False   \n",
    ")\n",
    "\n",
    "\n",
    "display(dataset_name, dataset_version, dataset_link, dataset_assessor_name, dataset_assessor_email)"
   ]
  },
  {
   "cell_type": "markdown",
   "id": "ab7b5096-fc94-4bbb-bf29-885026e712bf",
   "metadata": {},
   "source": [
    "### Dataset details"
   ]
  },
  {
   "cell_type": "code",
   "execution_count": 3,
   "id": "0a8fb145-184b-4d9b-b0e9-e95faec68561",
   "metadata": {
    "jupyter": {
     "source_hidden": true
    },
    "slideshow": {
     "slide_type": ""
    },
    "tags": []
   },
   "outputs": [
    {
     "data": {
      "application/vnd.jupyter.widget-view+json": {
       "model_id": "93cd0137b5e147e79ef2a3ecd29981e3",
       "version_major": 2,
       "version_minor": 0
      },
      "text/plain": [
       "ToggleButtons(description='6. Is this raw data or a derived/processed data product?', options=('Raw', 'Derived…"
      ]
     },
     "metadata": {},
     "output_type": "display_data"
    },
    {
     "data": {
      "application/vnd.jupyter.widget-view+json": {
       "model_id": "74dff524f4dd458bb7e868a74187d4f5",
       "version_major": 2,
       "version_minor": 0
      },
      "text/plain": [
       "ToggleButtons(description='7. Is this observational data, simulation/model output, or synthetic data?', option…"
      ]
     },
     "metadata": {},
     "output_type": "display_data"
    },
    {
     "data": {
      "application/vnd.jupyter.widget-view+json": {
       "model_id": "1e32b61056e540d0b66e9c8c40b5e714",
       "version_major": 2,
       "version_minor": 0
      },
      "text/plain": [
       "ToggleButtons(description='8. Is the data single-source or aggregated from several sources? ', options=('Singl…"
      ]
     },
     "metadata": {},
     "output_type": "display_data"
    }
   ],
   "source": [
    "\n",
    "raw_derived = widgets.ToggleButtons(\n",
    "            options=['Raw', 'Derived', 'Unknown'],\n",
    "            value='Raw',\n",
    "            description='6. Is this raw data or a derived/processed data product?',\n",
    "            )\n",
    "\n",
    "observe_model_synthetic = widgets.ToggleButtons(\n",
    "            options=['Observed', 'Modeled', 'Synthetic'],\n",
    "            value='Observed',\n",
    "            description='7. Is this observational data, simulation/model output, or synthetic data?',\n",
    "            )\n",
    "\n",
    "data_sources = widgets.ToggleButtons(\n",
    "            options=['Single-source', 'Aggregated'],\n",
    "            value='Single-source',\n",
    "            description='8. Is the data single-source or aggregated from several sources? ',\n",
    "            )\n",
    "\n",
    "display(raw_derived, observe_model_synthetic, data_sources)"
   ]
  },
  {
   "cell_type": "markdown",
   "id": "7b756c71-6015-4d1a-a019-8be3355438af",
   "metadata": {},
   "source": [
    "---\n",
    "\n",
    "## **2. Data Quality**"
   ]
  },
  {
   "cell_type": "markdown",
   "id": "c5444121-9f6b-4257-90eb-b3e280c227d4",
   "metadata": {
    "editable": true,
    "slideshow": {
     "slide_type": ""
    },
    "tags": []
   },
   "source": [
    "### Data timeliness    "
   ]
  },
  {
   "cell_type": "code",
   "execution_count": 4,
   "id": "72515fef-8b32-45f0-9bdf-8d0ee82e9a1b",
   "metadata": {
    "editable": true,
    "jupyter": {
     "source_hidden": true
    },
    "slideshow": {
     "slide_type": ""
    },
    "tags": []
   },
   "outputs": [
    {
     "data": {
      "application/vnd.jupyter.widget-view+json": {
       "model_id": "e9a7ac0bdd074adc86809375b28bf995",
       "version_major": 2,
       "version_minor": 0
      },
      "text/plain": [
       "ToggleButtons(description='2.1 Will the dataset be updated?', index=1, options=('Yes', 'No'), value='No')"
      ]
     },
     "metadata": {},
     "output_type": "display_data"
    },
    {
     "data": {
      "application/vnd.jupyter.widget-view+json": {
       "model_id": "2f728af42fc84a2e8a17dda16623429d",
       "version_major": 2,
       "version_minor": 0
      },
      "text/plain": [
       "ToggleButtons(description='If the data will be updated, how often will it be updated?', index=7, layout=Layout…"
      ]
     },
     "metadata": {},
     "output_type": "display_data"
    },
    {
     "data": {
      "application/vnd.jupyter.widget-view+json": {
       "model_id": "34817fe18cfb45fbab97b31d13eb5778",
       "version_major": 2,
       "version_minor": 0
      },
      "text/plain": [
       "ToggleButtons(description='Will there be different stages of the update?', index=2, layout=Layout(display='non…"
      ]
     },
     "metadata": {},
     "output_type": "display_data"
    },
    {
     "data": {
      "application/vnd.jupyter.widget-view+json": {
       "model_id": "ca007c0e48d9497b9e38f1aebbee3d34",
       "version_major": 2,
       "version_minor": 0
      },
      "text/plain": [
       "Text(value='', layout=Layout(display='none', width='500px'), placeholder='If yes, what is the delay between di…"
      ]
     },
     "metadata": {},
     "output_type": "display_data"
    },
    {
     "data": {
      "application/vnd.jupyter.widget-view+json": {
       "model_id": "0228688660b04adface62e3025e5c00b",
       "version_major": 2,
       "version_minor": 0
      },
      "text/plain": [
       "ToggleButtons(description='Should the new version of the dataset supersede the current version?', index=2, lay…"
      ]
     },
     "metadata": {},
     "output_type": "display_data"
    }
   ],
   "source": [
    "\n",
    "data_update = widgets.ToggleButtons(\n",
    "            options=['Yes', 'No'],\n",
    "            value='No',\n",
    "            description='2.1 Will the dataset be updated?',\n",
    "            disabled=False\n",
    "            )\n",
    "\n",
    "data_update_frequency = widgets.ToggleButtons(\n",
    "            options=['When data updated', 'Hourly', 'Daily', 'Weekly', 'Monthly', 'Annually', 'Other', \"N/A\"],\n",
    "            value='N/A',\n",
    "            description='If the data will be updated, how often will it be updated?',\n",
    "            disabled=False,\n",
    "            layout=widgets.Layout(display='none'),\n",
    "            )\n",
    "\n",
    "data_update_stages = widgets.ToggleButtons(\n",
    "            options=['Preliminary data first, then updated later', 'Full record', \"N/A\"],\n",
    "            value='N/A',\n",
    "            description='Will there be different stages of the update?',\n",
    "            disabled=False,\n",
    "            layout=widgets.Layout(display='none'),\n",
    "            )\n",
    "\n",
    "data_update_delay = widgets.Text(\n",
    "            value='',\n",
    "            placeholder='If yes, what is the delay between different stages?',\n",
    "            disabled=False,\n",
    "            layout=widgets.Layout(display='none', width='500px'),\n",
    "            )\n",
    "\n",
    "data_update_supersede = widgets.ToggleButtons(\n",
    "            options=['Yes', 'No', \"N/A\"],\n",
    "            value='N/A',\n",
    "            description='Should the new version of the dataset supersede the current version?',\n",
    "            disabled=False,\n",
    "            layout=widgets.Layout(display='none'),\n",
    "            )\n",
    "\n",
    "# Function to change the display setting of the following UI components. \n",
    "def on_click_handler(change): \n",
    "    if change[\"new\"] == \"Yes\":\n",
    "        data_update_frequency.layout.display = ''\n",
    "        data_update_stages.layout.display = ''\n",
    "        data_update_delay.layout.display = ''\n",
    "        data_update_supersede.layout.display = ''\n",
    "    else:\n",
    "        data_update_frequency.layout.display = 'none'\n",
    "        data_update_stages.layout.display = 'none'\n",
    "        data_update_delay.layout.display = 'none'\n",
    "        data_update_supersede.layout.display = 'none'\n",
    "        \n",
    "        # Return the values back to default state if 1st option changed back.\n",
    "        data_update_frequency.value = \"N/A\"\n",
    "        data_update_stages.value = \"N/A\"\n",
    "        data_update_delay.value = \"\"\n",
    "        data_update_supersede.value = \"N/A\"\n",
    "        \n",
    "\n",
    "# Show UI components based on their display settings. \n",
    "display(data_update, data_update_frequency, data_update_stages, data_update_delay, data_update_supersede)\n",
    "\n",
    "# Observe the first UI component for changes and call the on_click_handler function if value property changed. \n",
    "data_update.observe(on_click_handler, names=\"value\")"
   ]
  },
  {
   "cell_type": "markdown",
   "id": "eea71f21-807f-481c-97bb-80c43427f270",
   "metadata": {},
   "source": [
    "### Data completeness"
   ]
  },
  {
   "cell_type": "code",
   "execution_count": 5,
   "id": "3884dd0c-7cc0-4c2d-9f37-4ee8e5eb5741",
   "metadata": {
    "jupyter": {
     "source_hidden": true
    }
   },
   "outputs": [
    {
     "data": {
      "application/vnd.jupyter.widget-view+json": {
       "model_id": "2812a90c5e0944b99ad8780032ee787c",
       "version_major": 2,
       "version_minor": 0
      },
      "text/plain": [
       "ToggleButtons(description='2.2 Is there any documentation about the completeness of the dataset?', index=1, op…"
      ]
     },
     "metadata": {},
     "output_type": "display_data"
    },
    {
     "data": {
      "application/vnd.jupyter.widget-view+json": {
       "model_id": "fa3849fc74434b64a683c8224214c55c",
       "version_major": 2,
       "version_minor": 0
      },
      "text/plain": [
       "Text(value='', layout=Layout(display='none', width='500px'), placeholder='Please provide a link to the documen…"
      ]
     },
     "metadata": {},
     "output_type": "display_data"
    },
    {
     "data": {
      "application/vnd.jupyter.widget-view+json": {
       "model_id": "f10de2806f4d4edb99744e0da24631d3",
       "version_major": 2,
       "version_minor": 0
      },
      "text/plain": [
       "ToggleButtons(description='2.3 How complete is the dataset compared to the expected spatial coverage?', index=…"
      ]
     },
     "metadata": {},
     "output_type": "display_data"
    },
    {
     "data": {
      "application/vnd.jupyter.widget-view+json": {
       "model_id": "2e2d7c7c6dcd4d3e84687b1f55602cbf",
       "version_major": 2,
       "version_minor": 0
      },
      "text/plain": [
       "ToggleButtons(description='2.4 How complete is the dataset compared to the expected temporal coverage?', index…"
      ]
     },
     "metadata": {},
     "output_type": "display_data"
    }
   ],
   "source": [
    "\n",
    "completeness_docs = widgets.ToggleButtons(\n",
    "            options=['Yes', 'No'],\n",
    "            value='No',\n",
    "            description='2.2 Is there any documentation about the completeness of the dataset?',\n",
    "            disabled=False\n",
    "            )\n",
    "\n",
    "completeness_docs_link = widgets.Text(\n",
    "            value='',\n",
    "            placeholder='Please provide a link to the document',\n",
    "            disabled=False,\n",
    "            layout=widgets.Layout(display='none', width=\"500px\"),\n",
    "            )\n",
    "\n",
    "expected_spatial_coverage = widgets.ToggleButtons(\n",
    "            options=['Complete', 'Partial', 'Unknown', 'N/A'],\n",
    "            value='Unknown',\n",
    "            description='2.3 How complete is the dataset compared to the expected spatial coverage?',\n",
    "            disabled=False\n",
    "            )\n",
    "\n",
    "expected_temporal_coverage = widgets.ToggleButtons(\n",
    "            options=['Complete', 'Partial', 'Unknown', 'N/A'],\n",
    "            value='Unknown',\n",
    "            description='2.4 How complete is the dataset compared to the expected temporal coverage?',\n",
    "            disabled=False\n",
    "            )\n",
    "\n",
    "# Function to change the display setting of the following UI components. \n",
    "def on_click_handler(change): \n",
    "    if change[\"new\"] == \"Yes\":\n",
    "        completeness_docs_link.layout.display = ''\n",
    "    else:\n",
    "        completeness_docs_link.layout.display = 'none'\n",
    "        \n",
    "        # Return the values back to default state if 1st option changed back.\n",
    "        completeness_docs_link.value = \"\"\n",
    "\n",
    "# Show UI components based on their display settings. \n",
    "display(completeness_docs, completeness_docs_link, expected_spatial_coverage, expected_temporal_coverage)\n",
    "\n",
    "# Observe the first UI component for changes and call the on_click_handler function if value property changed. \n",
    "completeness_docs.observe(on_click_handler, names=\"value\")\n"
   ]
  },
  {
   "cell_type": "markdown",
   "id": "5b56e1f9-6811-446a-a67b-67d04e932be0",
   "metadata": {},
   "source": [
    "### Data consistency"
   ]
  },
  {
   "cell_type": "code",
   "execution_count": 6,
   "id": "e5fcf4e2-015f-4daa-ba16-ac75ebf502f8",
   "metadata": {
    "jupyter": {
     "source_hidden": true
    },
    "scrolled": true
   },
   "outputs": [
    {
     "data": {
      "application/vnd.jupyter.widget-view+json": {
       "model_id": "24c2005f66e44448996bf88a53fbf4c6",
       "version_major": 2,
       "version_minor": 0
      },
      "text/plain": [
       "ToggleButtons(description='2.5 Is this dataset self-consistent in that its units, data types, and parameter na…"
      ]
     },
     "metadata": {},
     "output_type": "display_data"
    },
    {
     "data": {
      "application/vnd.jupyter.widget-view+json": {
       "model_id": "71315d67ec5f485e8b4e3f6eee881711",
       "version_major": 2,
       "version_minor": 0
      },
      "text/plain": [
       "ToggleButtons(description='2.6 Is this dataset’s units, data types, and parameter names consistent with simila…"
      ]
     },
     "metadata": {},
     "output_type": "display_data"
    },
    {
     "data": {
      "application/vnd.jupyter.widget-view+json": {
       "model_id": "ed68270770444583881dbb67458938a9",
       "version_major": 2,
       "version_minor": 0
      },
      "text/plain": [
       "ToggleButtons(description='2.7 Are there processes to monitor for units, data types, and parameter consistency…"
      ]
     },
     "metadata": {},
     "output_type": "display_data"
    },
    {
     "data": {
      "application/vnd.jupyter.widget-view+json": {
       "model_id": "0ac99ca05db943ac93143272c6a74c5f",
       "version_major": 2,
       "version_minor": 0
      },
      "text/plain": [
       "Text(value='', layout=Layout(display='none', width='500px'), placeholder='If yes, what measures are taken? Man…"
      ]
     },
     "metadata": {},
     "output_type": "display_data"
    }
   ],
   "source": [
    "\n",
    "self_consistent_units = widgets.ToggleButtons(\n",
    "            options=['Yes', 'No', 'N/A'],\n",
    "            value='N/A',\n",
    "            description='2.5 Is this dataset self-consistent in that its units, data types, and parameter names do not change over time and space?',\n",
    "            disabled=False\n",
    "            )\n",
    "\n",
    "consistent_units = widgets.ToggleButtons(\n",
    "            options=['Yes', 'No', 'N/A'],\n",
    "            value='N/A',\n",
    "            description='2.6 Is this dataset’s units, data types, and parameter names consistent with similar data collections?',\n",
    "            disabled=False\n",
    "            )\n",
    "\n",
    "consistent_unit_monitoring = widgets.ToggleButtons(\n",
    "            options=['Yes', 'No', 'N/A'],\n",
    "            value='N/A',\n",
    "            description='2.7 Are there processes to monitor for units, data types, and parameter consistency?',\n",
    "            disabled=False\n",
    "            )\n",
    "\n",
    "consistent_unit_review = widgets.Text(\n",
    "            value='',\n",
    "            placeholder='If yes, what measures are taken? Manual review / Automated review etc.',\n",
    "            disabled=False,\n",
    "            layout=widgets.Layout(display='none', width=\"500px\"),\n",
    "            )\n",
    "\n",
    "# Function to change the display setting of the following UI components. \n",
    "def on_click_handler(change): \n",
    "    if change[\"new\"] == \"Yes\":\n",
    "        consistent_unit_review.layout.display = ''\n",
    "    else:\n",
    "        consistent_unit_review.layout.display = 'none'\n",
    "        \n",
    "        # Return the values back to default state if 1st option changed back.\n",
    "        consistent_unit_review.value = \"\"\n",
    "\n",
    "# Show UI components based on their display settings. \n",
    "display(self_consistent_units, consistent_units, consistent_unit_monitoring, consistent_unit_review)\n",
    "\n",
    "# Observe the first UI component for changes and call the on_click_handler function if value property changed. \n",
    "consistent_unit_monitoring.observe(on_click_handler, names=\"value\")\n"
   ]
  },
  {
   "cell_type": "markdown",
   "id": "55405b83-c482-41d0-b1a4-df37191f1a9b",
   "metadata": {},
   "source": [
    "### Data bias"
   ]
  },
  {
   "cell_type": "code",
   "execution_count": 7,
   "id": "a792cb9e-46ab-46d6-b6d6-b2347322c904",
   "metadata": {
    "editable": true,
    "jupyter": {
     "source_hidden": true
    },
    "slideshow": {
     "slide_type": ""
    },
    "tags": []
   },
   "outputs": [
    {
     "data": {
      "application/vnd.jupyter.widget-view+json": {
       "model_id": "f8c6dc5220ea46c9ae72dd46267b362c",
       "version_major": 2,
       "version_minor": 0
      },
      "text/plain": [
       "ToggleButtons(description='2.8 Is there known bias in the dataset?', index=2, options=('Yes', 'No', 'Unknown')…"
      ]
     },
     "metadata": {},
     "output_type": "display_data"
    },
    {
     "data": {
      "application/vnd.jupyter.widget-view+json": {
       "model_id": "72f41f6d6ccf42e79b03d9545bb6fb3a",
       "version_major": 2,
       "version_minor": 0
      },
      "text/plain": [
       "ToggleButtons(description='Have measures been taken to examine bias?', index=3, layout=Layout(display='none'),…"
      ]
     },
     "metadata": {},
     "output_type": "display_data"
    },
    {
     "data": {
      "application/vnd.jupyter.widget-view+json": {
       "model_id": "c53012dfb1524683bb0d7dbd1ab023c6",
       "version_major": 2,
       "version_minor": 0
      },
      "text/plain": [
       "Textarea(value='', layout=Layout(display='none', width='500px'), placeholder='If yes, what measures were used?…"
      ]
     },
     "metadata": {},
     "output_type": "display_data"
    },
    {
     "data": {
      "application/vnd.jupyter.widget-view+json": {
       "model_id": "e3ad430ea6104de3a8fba06f43fe3fac",
       "version_major": 2,
       "version_minor": 0
      },
      "text/plain": [
       "Textarea(value='', layout=Layout(display='none', width='500px'), placeholder='Is the bias metrological traceab…"
      ]
     },
     "metadata": {},
     "output_type": "display_data"
    },
    {
     "data": {
      "application/vnd.jupyter.widget-view+json": {
       "model_id": "d181b586b7d647b1820db1e3aaf727f7",
       "version_major": 2,
       "version_minor": 0
      },
      "text/plain": [
       "ToggleButtons(description='Is there reported bias in the data?', index=3, layout=Layout(display='none'), optio…"
      ]
     },
     "metadata": {},
     "output_type": "display_data"
    },
    {
     "data": {
      "application/vnd.jupyter.widget-view+json": {
       "model_id": "4acf48adc6044776a5d4aff5c95c21a9",
       "version_major": 2,
       "version_minor": 0
      },
      "text/plain": [
       "Text(value='', layout=Layout(display='none', width='500px'), placeholder='(optional) Link to the report/docume…"
      ]
     },
     "metadata": {},
     "output_type": "display_data"
    },
    {
     "data": {
      "application/vnd.jupyter.widget-view+json": {
       "model_id": "789764aa5d2b43ffa66ce90af5f7dad6",
       "version_major": 2,
       "version_minor": 0
      },
      "text/plain": [
       "Text(value='', layout=Layout(display='none', width='500px'), placeholder='(optional) Link to a bias-corrected …"
      ]
     },
     "metadata": {},
     "output_type": "display_data"
    },
    {
     "data": {
      "application/vnd.jupyter.widget-view+json": {
       "model_id": "9562658ee12649b8854539a689e7a40b",
       "version_major": 2,
       "version_minor": 0
      },
      "text/plain": [
       "Text(value='', layout=Layout(display='none', width='500px'), placeholder='(optional) Link to tools available t…"
      ]
     },
     "metadata": {},
     "output_type": "display_data"
    }
   ],
   "source": [
    "\n",
    "dataset_bias = widgets.ToggleButtons(\n",
    "            options=['Yes', 'No', 'Unknown'],\n",
    "            value='Unknown',\n",
    "            description='2.8 Is there known bias in the dataset?',\n",
    "            )\n",
    "\n",
    "dataset_bias_measures = widgets.ToggleButtons(\n",
    "            options=['Yes', 'No', 'Unknown', 'N/A'],\n",
    "            value='N/A',\n",
    "            description='Have measures been taken to examine bias?',\n",
    "            layout=widgets.Layout(display=\"none\")\n",
    "            )\n",
    "\n",
    "dataset_bias_measures_detail = widgets.Textarea(\n",
    "            value='',\n",
    "            placeholder='If yes, what measures were used?',\n",
    "            layout=widgets.Layout(display=\"none\", width=\"500px\")\n",
    "            )\n",
    "\n",
    "dataset_bias_metrological_traceable = widgets.Textarea(\n",
    "            value='',\n",
    "            placeholder='Is the bias metrological traceable?',\n",
    "            layout=widgets.Layout(display=\"none\", width=\"500px\")\n",
    "            )\n",
    "\n",
    "dataset_bias_report = widgets.ToggleButtons(\n",
    "            options=['No known bias', 'Found and reported', 'No info available', 'N/A'],\n",
    "            value='N/A',\n",
    "            description='Is there reported bias in the data?',\n",
    "            layout=widgets.Layout(display=\"none\")\n",
    "            )\n",
    "\n",
    "dataset_bias_report_link = widgets.Text(\n",
    "            value='',\n",
    "            placeholder='(optional) Link to the report/document on the bias',\n",
    "            layout=widgets.Layout(display=\"none\", width=\"500px\")\n",
    "            )\n",
    "\n",
    "dataset_bias_corrected_link = widgets.Text(\n",
    "            value='',\n",
    "            placeholder='(optional) Link to a bias-corrected or bias-reduced version of the dataset',\n",
    "            layout=widgets.Layout(display=\"none\", width=\"500px\")\n",
    "            )\n",
    "\n",
    "dataset_bias_tools_link = widgets.Text(\n",
    "            value='',\n",
    "            placeholder='(optional) Link to tools available to reduce bias',\n",
    "            layout=widgets.Layout(display=\"none\", width=\"500px\")\n",
    "            )\n",
    "\n",
    "# Function to change the display setting of the following UI components. \n",
    "def on_click_handler(change):    \n",
    "\n",
    "    # Show / hide main trunk of questions. \n",
    "    if dataset_bias.value == \"Yes\":\n",
    "        dataset_bias_measures.layout.display = ''\n",
    "        dataset_bias_report.layout.display = ''\n",
    "        dataset_bias_report_link.layout.display = ''\n",
    "        dataset_bias_corrected_link.layout.display = ''\n",
    "        dataset_bias_tools_link.layout.display = ''\n",
    "\n",
    "    else:   \n",
    "        dataset_bias_measures.layout.display = 'none'\n",
    "        dataset_bias_report.layout.display = 'none'\n",
    "        dataset_bias_report_link.layout.display = 'none'\n",
    "        dataset_bias_corrected_link.layout.display = 'none'\n",
    "        dataset_bias_tools_link.layout.display = 'none'\n",
    "        dataset_bias_measures.value = 'N/A'\n",
    "        dataset_bias_report.value = 'N/A'\n",
    "        dataset_bias_report_link.value = ''\n",
    "        dataset_bias_corrected_link.value = ''\n",
    "        dataset_bias_tools_link.value = ''\n",
    "\n",
    "    # Show / hide 2nd trunk of questions.\n",
    "    if dataset_bias_measures.value == \"Yes\":\n",
    "        dataset_bias_measures_detail.layout.display = ''\n",
    "        dataset_bias_metrological_traceable.layout.display = ''\n",
    "    else:\n",
    "        dataset_bias_measures_detail.layout.display = 'none'\n",
    "        dataset_bias_metrological_traceable.layout.display = 'none'\n",
    "        dataset_bias_measures_detail.value = ''\n",
    "        dataset_bias_metrological_traceable.value = ''\n",
    "        \n",
    "            \n",
    "# Display the UI components\n",
    "display(dataset_bias, dataset_bias_measures, dataset_bias_measures_detail, dataset_bias_metrological_traceable, dataset_bias_report, dataset_bias_report_link, dataset_bias_corrected_link, dataset_bias_tools_link)\n",
    "\n",
    "# Observe UI components for changes and call the on_click_handler function if value property changed. \n",
    "dataset_bias.observe(on_click_handler, names=\"value\")\n",
    "dataset_bias_measures.observe(on_click_handler, names=\"value\")\n",
    "\n"
   ]
  },
  {
   "cell_type": "code",
   "execution_count": 8,
   "id": "aacda1c4-d578-421e-9804-efcc75e53599",
   "metadata": {
    "jupyter": {
     "source_hidden": true
    },
    "scrolled": true
   },
   "outputs": [
    {
     "data": {
      "application/vnd.jupyter.widget-view+json": {
       "model_id": "0cc4d6beefb44fc5a38534b82a5ad3d7",
       "version_major": 2,
       "version_minor": 0
      },
      "text/plain": [
       "ToggleButtons(description='2.9 Is there quantitative information about data resolution in space and time?', in…"
      ]
     },
     "metadata": {},
     "output_type": "display_data"
    },
    {
     "data": {
      "application/vnd.jupyter.widget-view+json": {
       "model_id": "f925cf89ad5a406fb4e28f996eb4fca0",
       "version_major": 2,
       "version_minor": 0
      },
      "text/plain": [
       "ToggleButtons(description='2.10 Are there published data quality procedures or reports?', index=2, options=('Y…"
      ]
     },
     "metadata": {},
     "output_type": "display_data"
    },
    {
     "data": {
      "application/vnd.jupyter.widget-view+json": {
       "model_id": "c1025917c9924f47ac44b05911a119d4",
       "version_major": 2,
       "version_minor": 0
      },
      "text/plain": [
       "Text(value='', layout=Layout(width='500px'), placeholder='If there is published quality information, please pr…"
      ]
     },
     "metadata": {},
     "output_type": "display_data"
    },
    {
     "data": {
      "application/vnd.jupyter.widget-view+json": {
       "model_id": "0e7e4676c9ca4de381b566a06a0a5c50",
       "version_major": 2,
       "version_minor": 0
      },
      "text/plain": [
       "ToggleButtons(description='2.11 Is the provenance of the dataset tracked and documented?', index=2, options=('…"
      ]
     },
     "metadata": {},
     "output_type": "display_data"
    },
    {
     "data": {
      "application/vnd.jupyter.widget-view+json": {
       "model_id": "00cf3418f01b44f8a6ebe25634461a23",
       "version_major": 2,
       "version_minor": 0
      },
      "text/plain": [
       "ToggleButtons(description='2.12 Are there checksums / other checks for data integrity? ', index=2, options=('Y…"
      ]
     },
     "metadata": {},
     "output_type": "display_data"
    }
   ],
   "source": [
    "\n",
    "data_resolution_info = widgets.ToggleButtons(\n",
    "            options=['Yes', 'No', 'N/A'],\n",
    "            value='N/A',\n",
    "            description='2.9 Is there quantitative information about data resolution in space and time?',\n",
    "            )\n",
    "\n",
    "data_quality_report = widgets.ToggleButtons(\n",
    "            options=['Yes', 'No', 'N/A'],\n",
    "            value='N/A',\n",
    "            description='2.10 Are there published data quality procedures or reports?',\n",
    "            )\n",
    "\n",
    "data_quality_report_link = widgets.Text(\n",
    "            value='',\n",
    "            placeholder='If there is published quality information, please provide the link.',\n",
    "            layout=widgets.Layout(width=\"500px\")\n",
    "            )\n",
    "\n",
    "dataset_provenance = widgets.ToggleButtons(\n",
    "            options=['Yes', 'No', 'N/A'],\n",
    "            value='N/A',\n",
    "            description='2.11 Is the provenance of the dataset tracked and documented?',\n",
    "            )\n",
    "\n",
    "data_integrity = widgets.ToggleButtons(\n",
    "            options=['Yes', 'No', 'N/A'],\n",
    "            value='N/A',\n",
    "            description='2.12 Are there checksums / other checks for data integrity? ',\n",
    "            )\n",
    "\n",
    "display(data_resolution_info, data_quality_report, data_quality_report_link, dataset_provenance, data_integrity)"
   ]
  },
  {
   "cell_type": "code",
   "execution_count": 9,
   "id": "962fb6eb-a36f-4239-a613-daac8fefc77c",
   "metadata": {
    "jupyter": {
     "source_hidden": true
    }
   },
   "outputs": [
    {
     "data": {
      "application/vnd.jupyter.widget-view+json": {
       "model_id": "6e32e34659544bfcb05cd1c662ab5704",
       "version_major": 2,
       "version_minor": 0
      },
      "text/plain": [
       "Label(value='2.13 What is the size of the dataset? Depending on the resource, this might be:')"
      ]
     },
     "metadata": {},
     "output_type": "display_data"
    },
    {
     "data": {
      "application/vnd.jupyter.widget-view+json": {
       "model_id": "4f5071fe2097403792fae6de0a50e766",
       "version_major": 2,
       "version_minor": 0
      },
      "text/plain": [
       "Text(value='', placeholder='Total data volumn:')"
      ]
     },
     "metadata": {},
     "output_type": "display_data"
    },
    {
     "data": {
      "application/vnd.jupyter.widget-view+json": {
       "model_id": "06efe163002e4aa7a5d6b703fe577f3d",
       "version_major": 2,
       "version_minor": 0
      },
      "text/plain": [
       "HBox(children=(Label(value='Number of data files:'), IntText(value=0, layout=Layout(width='100px'))))"
      ]
     },
     "metadata": {},
     "output_type": "display_data"
    },
    {
     "data": {
      "application/vnd.jupyter.widget-view+json": {
       "model_id": "f8047619814540be9eeb6ed25a8eb3cc",
       "version_major": 2,
       "version_minor": 0
      },
      "text/plain": [
       "HBox(children=(Label(value='Number of data table rows:'), IntText(value=0, layout=Layout(width='100px'))))"
      ]
     },
     "metadata": {},
     "output_type": "display_data"
    },
    {
     "data": {
      "application/vnd.jupyter.widget-view+json": {
       "model_id": "5821de5439df48999262b0cf4b5ae92c",
       "version_major": 2,
       "version_minor": 0
      },
      "text/plain": [
       "HBox(children=(Label(value='Number of data dimensions:'), IntText(value=0, layout=Layout(width='100px'))))"
      ]
     },
     "metadata": {},
     "output_type": "display_data"
    },
    {
     "data": {
      "application/vnd.jupyter.widget-view+json": {
       "model_id": "ec2cb2b40fce419bba90845e8337008b",
       "version_major": 2,
       "version_minor": 0
      },
      "text/plain": [
       "HBox(children=(Label(value='Number of images:'), IntText(value=0, layout=Layout(width='100px')), Box(layout=La…"
      ]
     },
     "metadata": {},
     "output_type": "display_data"
    }
   ],
   "source": [
    "\n",
    "data_size_question = widgets.Label(\n",
    "    value = '2.13 What is the size of the dataset? Depending on the resource, this might be:'\n",
    ")\n",
    "\n",
    "spacer = widgets.Box(layout=widgets.Layout(width='20px'))\n",
    "\n",
    "total_data_volume = widgets.Text(\n",
    "    value = '',\n",
    "    placeholder='Total data volumn:'\n",
    ")\n",
    "\n",
    "num_data_dimensions_label = widgets.Label(\n",
    "    value = \"Number of data dimensions:\"\n",
    ")\n",
    "\n",
    "num_data_dimensions = widgets.IntText(\n",
    "    value = 0,\n",
    "    layout = widgets.Layout(width=\"100px\")\n",
    ")\n",
    "\n",
    "dimensions = widgets.HBox([num_data_dimensions_label, num_data_dimensions])\n",
    "\n",
    "\n",
    "num_data_files_label = widgets.Label(\n",
    "    value = \"Number of data files:\"\n",
    ")\n",
    "\n",
    "num_data_files = widgets.IntText(\n",
    "    value = 0,\n",
    "    layout = widgets.Layout(width=\"100px\")\n",
    ")\n",
    "\n",
    "data_files = widgets.HBox([num_data_files_label, num_data_files])\n",
    "\n",
    "num_data_rows_label = widgets.Label(\n",
    "    value = \"Number of data table rows:\"\n",
    ")\n",
    "\n",
    "num_data_rows = widgets.IntText(\n",
    "    value = 0,\n",
    "    layout = widgets.Layout(width=\"100px\")\n",
    ")\n",
    "\n",
    "data_rows = widgets.HBox([num_data_rows_label, num_data_rows])\n",
    "\n",
    "num_data_images_label = widgets.Label(\n",
    "    value = \"Number of images:\"\n",
    ")\n",
    "\n",
    "num_data_images = widgets.IntText(\n",
    "    value = 0,\n",
    "    layout = widgets.Layout(width=\"100px\")\n",
    ")\n",
    "\n",
    "num_data_images_size_label = widgets.Label(\n",
    "    value = \"Size of images:\"\n",
    ")\n",
    "\n",
    "num_data_images_size = widgets.Text(\n",
    "    value = '',\n",
    "    placeholder='228 x 228'\n",
    ")\n",
    "\n",
    "images = widgets.HBox([num_data_images_label, num_data_images, spacer, num_data_images_size_label, num_data_images_size])\n",
    "\n",
    "\n",
    "display(data_size_question, total_data_volume, data_files, data_rows, dimensions, images)"
   ]
  },
  {
   "cell_type": "markdown",
   "id": "7117d50a-3575-4662-b1a3-f8530ecf7242",
   "metadata": {
    "jupyter": {
     "source_hidden": true
    }
   },
   "source": [
    "### Data Quality Assessment Matrix\n",
    "\n",
    "<img src=\"Images/data_quality_matrix.png\" width=800 height=\"auto\" />"
   ]
  },
  {
   "cell_type": "markdown",
   "id": "f8636b2a-2be4-43ea-9517-048263170adb",
   "metadata": {},
   "source": [
    "---\n",
    "\n",
    "## **3. Data Documentation**"
   ]
  },
  {
   "cell_type": "markdown",
   "id": "d2991113-c9d9-4782-bf73-066651005ce5",
   "metadata": {},
   "source": [
    "### Community standard or convention\n"
   ]
  },
  {
   "cell_type": "code",
   "execution_count": 10,
   "id": "670d1474-ce77-4109-8dd9-7da3e470cc55",
   "metadata": {
    "jupyter": {
     "source_hidden": true
    }
   },
   "outputs": [
    {
     "data": {
      "application/vnd.jupyter.widget-view+json": {
       "model_id": "1e657309b55d4667ad1d9544f9e0cbea",
       "version_major": 2,
       "version_minor": 0
      },
      "text/plain": [
       "ToggleButtons(description='3.1 Does the dataset metadata follow a community/domain standard or convention?', i…"
      ]
     },
     "metadata": {},
     "output_type": "display_data"
    },
    {
     "data": {
      "application/vnd.jupyter.widget-view+json": {
       "model_id": "43627c4a4c8e42b9bd4cde1dbdbb760a",
       "version_major": 2,
       "version_minor": 0
      },
      "text/plain": [
       "Text(value='', layout=Layout(display='none'), placeholder='Which standard is it? (CF, TBD, etc.)')"
      ]
     },
     "metadata": {},
     "output_type": "display_data"
    },
    {
     "data": {
      "application/vnd.jupyter.widget-view+json": {
       "model_id": "1915533566f440db88ad0d8e8df292bd",
       "version_major": 2,
       "version_minor": 0
      },
      "text/plain": [
       "ToggleButtons(description='Is the dataset metadata machine-readable?', index=2, layout=Layout(display='none'),…"
      ]
     },
     "metadata": {},
     "output_type": "display_data"
    },
    {
     "data": {
      "application/vnd.jupyter.widget-view+json": {
       "model_id": "d80003b73006405f81f9efc09b07e10b",
       "version_major": 2,
       "version_minor": 0
      },
      "text/plain": [
       "ToggleButtons(description='Does it include details on the spatial and temporal extent?', index=2, layout=Layou…"
      ]
     },
     "metadata": {},
     "output_type": "display_data"
    }
   ],
   "source": [
    "\n",
    "metadata_standard = widgets.ToggleButtons(\n",
    "            options=['Yes', 'No', 'N/A'],\n",
    "            value='N/A',\n",
    "            description='3.1 Does the dataset metadata follow a community/domain standard or convention?',\n",
    "            )\n",
    "\n",
    "metadata_standard_detail = widgets.Text(\n",
    "            value='',\n",
    "            placeholder='Which standard is it? (CF, TBD, etc.)',\n",
    "            layout = widgets.Layout(display=\"none\")\n",
    "            )\n",
    "\n",
    "metadata_machine_readable = widgets.ToggleButtons(\n",
    "            options=['Yes', 'No', 'N/A'],\n",
    "            value='N/A',\n",
    "            description='Is the dataset metadata machine-readable?',\n",
    "            layout = widgets.Layout(display=\"none\")\n",
    "            )\n",
    "\n",
    "metadata_spatial_temporal = widgets.ToggleButtons(\n",
    "            options=['Yes', 'No', 'N/A'],\n",
    "            value='N/A',\n",
    "            description='Does it include details on the spatial and temporal extent?',\n",
    "            layout = widgets.Layout(display=\"none\")\n",
    "            )\n",
    "\n",
    "\n",
    "# Function to change the display setting of the following UI components. \n",
    "def on_click_handler(change):    \n",
    "\n",
    "    # Show / hide main trunk of questions. \n",
    "    if metadata_standard.value == \"Yes\":\n",
    "        metadata_standard_detail.layout.display = ''\n",
    "        metadata_machine_readable.layout.display = ''\n",
    "        metadata_spatial_temporal.layout.display = ''\n",
    "    else: \n",
    "        metadata_standard_detail.layout.display = 'none'\n",
    "        metadata_machine_readable.layout.display = 'none'\n",
    "        metadata_spatial_temporal.layout.display = 'none'\n",
    "        metadata_standard_detail.value = ''\n",
    "        metadata_machine_readable.value = 'N/A'\n",
    "        metadata_spatial_temporal.value = 'N/A'\n",
    "        \n",
    "\n",
    "display(metadata_standard, metadata_standard_detail, metadata_machine_readable, metadata_spatial_temporal)\n",
    "\n",
    "# Observe UI components for changes and call the on_click_handler function if value property changed. \n",
    "metadata_standard.observe(on_click_handler, names=\"value\")"
   ]
  },
  {
   "cell_type": "markdown",
   "id": "6623c23f-c9d6-47ba-b4f0-9c6e777d3d49",
   "metadata": {},
   "source": [
    "### Data dictionary"
   ]
  },
  {
   "cell_type": "code",
   "execution_count": 18,
   "id": "a21fad8b-b633-4122-abcc-6e181ebf4af5",
   "metadata": {
    "jupyter": {
     "source_hidden": true
    }
   },
   "outputs": [
    {
     "data": {
      "application/vnd.jupyter.widget-view+json": {
       "model_id": "5864f3207d184de3a10d403f16ef1b0c",
       "version_major": 2,
       "version_minor": 0
      },
      "text/plain": [
       "ToggleButtons(description='3.2 Is there a comprehensive data dictionary/codebook that describes what each elem…"
      ]
     },
     "metadata": {},
     "output_type": "display_data"
    },
    {
     "data": {
      "application/vnd.jupyter.widget-view+json": {
       "model_id": "b7326c2e52d44dd6a192153413686e46",
       "version_major": 2,
       "version_minor": 0
      },
      "text/plain": [
       "ToggleButtons(description='Is the data dictionary standardized?', index=2, layout=Layout(display='none'), opti…"
      ]
     },
     "metadata": {},
     "output_type": "display_data"
    },
    {
     "data": {
      "application/vnd.jupyter.widget-view+json": {
       "model_id": "6fe9fb1d3a2a41a9b61c56bdfb8d986a",
       "version_major": 2,
       "version_minor": 0
      },
      "text/plain": [
       "ToggleButtons(description='Is the data dictionary machine-readable?', index=2, layout=Layout(display='none'), …"
      ]
     },
     "metadata": {},
     "output_type": "display_data"
    },
    {
     "data": {
      "application/vnd.jupyter.widget-view+json": {
       "model_id": "8426814f642c4b51a2ae954f455a0a6a",
       "version_major": 2,
       "version_minor": 0
      },
      "text/plain": [
       "ToggleButtons(description='Do the parameters follow a defined standard?', index=2, layout=Layout(display='none…"
      ]
     },
     "metadata": {},
     "output_type": "display_data"
    },
    {
     "data": {
      "application/vnd.jupyter.widget-view+json": {
       "model_id": "5bf7c11835da44038b7b0cd8a3fe1f37",
       "version_major": 2,
       "version_minor": 0
      },
      "text/plain": [
       "Text(value='', layout=Layout(display='none', width='500px'), placeholder='If the parameters follow a defined s…"
      ]
     },
     "metadata": {},
     "output_type": "display_data"
    },
    {
     "data": {
      "application/vnd.jupyter.widget-view+json": {
       "model_id": "d999d82eb02f444cbac6b5df659fd471",
       "version_major": 2,
       "version_minor": 0
      },
      "text/plain": [
       "ToggleButtons(description='Are parameters crosswalked in an ontology or common vocabulary (e.g. NIEM)?', index…"
      ]
     },
     "metadata": {},
     "output_type": "display_data"
    }
   ],
   "source": [
    "\n",
    "data_dictionary = widgets.ToggleButtons(\n",
    "            options=['Yes', 'No', 'N/A'],\n",
    "            value='N/A',\n",
    "            description='3.2 Is there a comprehensive data dictionary/codebook that describes what each element of the dataset means? parameters?',\n",
    "            )\n",
    "\n",
    "data_dictionary_standardized = widgets.ToggleButtons(\n",
    "            options=['Yes', 'No', 'N/A'],\n",
    "            value='N/A',\n",
    "            description='Is the data dictionary standardized?',\n",
    "            layout=widgets.Layout(display=\"none\")\n",
    "            )\n",
    "\n",
    "data_dictionary_machine_readable = widgets.ToggleButtons(\n",
    "            options=['Yes', 'No', 'N/A'],\n",
    "            value='N/A',\n",
    "            description='Is the data dictionary machine-readable?',\n",
    "            layout=widgets.Layout(display=\"none\")\n",
    "            )\n",
    "\n",
    "parameters_defined_standard = widgets.ToggleButtons(\n",
    "            options=['Yes', 'No', 'N/A'],\n",
    "            value='N/A',\n",
    "            description='Do the parameters follow a defined standard?',\n",
    "            layout=widgets.Layout(display=\"none\")\n",
    "            )\n",
    "\n",
    "parameters_defined_standard_detail = widgets.Text(\n",
    "            value='',\n",
    "            placeholder='If the parameters follow a defined standard, which standard it is??',\n",
    "            layout=widgets.Layout(display=\"none\", width=\"500px\")\n",
    "            )\n",
    "\n",
    "parameters_common_vocabulary = widgets.ToggleButtons(\n",
    "            options=['Yes', 'No', 'N/A'],\n",
    "            value='N/A',\n",
    "            description='Are parameters crosswalked in an ontology or common vocabulary (e.g. NIEM)?',\n",
    "            layout=widgets.Layout(display=\"none\")\n",
    "            )\n",
    "\n",
    "# Function to change the display setting of the following UI components. \n",
    "def on_click_handler(change):    \n",
    "\n",
    "    # Show / hide main trunk of questions. \n",
    "    if data_dictionary.value == \"Yes\":\n",
    "        data_dictionary_standardized.layout.display = ''\n",
    "        data_dictionary_machine_readable.layout.display = ''\n",
    "        parameters_defined_standard.layout.display = ''\n",
    "        parameters_defined_standard_detail.layout.display = ''\n",
    "        parameters_common_vocabulary.layout.display = ''\n",
    "\n",
    "    else:   \n",
    "        data_dictionary_standardized.layout.display = 'none'\n",
    "        data_dictionary_machine_readable.layout.display = 'none'\n",
    "        parameters_defined_standard.layout.display = 'none'\n",
    "        parameters_defined_standard_detail.layout.display = 'none'\n",
    "        parameters_common_vocabulary.layout.display = 'none'\n",
    "        data_dictionary_standardized.value = 'N/A'\n",
    "        data_dictionary_machine_readable.value = 'N/A'\n",
    "        parameters_defined_standard.value = 'N/A'\n",
    "        parameters_defined_standard_detail.value = ''\n",
    "        parameters_common_vocabulary.value = 'N/A'\n",
    "\n",
    "            \n",
    "# Display the UI components\n",
    "display(data_dictionary, data_dictionary_standardized, data_dictionary_machine_readable, parameters_defined_standard, parameters_defined_standard_detail, parameters_common_vocabulary)\n",
    "\n",
    "# Observe UI components for changes and call the on_click_handler function if value property changed. \n",
    "data_dictionary.observe(on_click_handler, names=\"value\")\n",
    "\n"
   ]
  },
  {
   "cell_type": "markdown",
   "id": "0b169329-5852-44c5-adbb-6d0ce30812cf",
   "metadata": {},
   "source": [
    "### Unique persistent identifier\n",
    "\n",
    "3. Does the dataset have a unique persistent identifier, e.g. DOI? Yes, [supply identifier] / No / Not applicable\n"
   ]
  },
  {
   "cell_type": "code",
   "execution_count": 28,
   "id": "94e5dc20-8289-463d-a273-5c5b7b7c81eb",
   "metadata": {
    "jupyter": {
     "source_hidden": true
    }
   },
   "outputs": [
    {
     "data": {
      "application/vnd.jupyter.widget-view+json": {
       "model_id": "a2fb125c84354461bba55c3087f258c4",
       "version_major": 2,
       "version_minor": 0
      },
      "text/plain": [
       "ToggleButtons(description='3.3 Does the dataset have a unique persistent identifier, e.g. DOI?', index=2, opti…"
      ]
     },
     "metadata": {},
     "output_type": "display_data"
    },
    {
     "data": {
      "application/vnd.jupyter.widget-view+json": {
       "model_id": "186cdcbc3bab42c481bc7a587c5fe900",
       "version_major": 2,
       "version_minor": 0
      },
      "text/plain": [
       "Text(value='', layout=Layout(width='500px'), placeholder='If yes, please supply identifier')"
      ]
     },
     "metadata": {},
     "output_type": "display_data"
    }
   ],
   "source": [
    "\n",
    "unique_persistent_identifier = widgets.ToggleButtons(\n",
    "            options=['Yes', 'No', 'N/A'],\n",
    "            value='N/A',\n",
    "            description='3.3 Does the dataset have a unique persistent identifier, e.g. DOI?',\n",
    "            )\n",
    "\n",
    "unique_persistent_identifier_link = widgets.Text(\n",
    "            value='',\n",
    "            placeholder='If yes, please supply identifier',\n",
    "            layout=widgets.Layout(width=\"500px\")\n",
    "            )\n",
    "\n",
    "display(unique_persistent_identifier, unique_persistent_identifier_link)"
   ]
  },
  {
   "cell_type": "markdown",
   "id": "fffa0c8f-cea1-4c94-8e21-93dcaa4f7cf3",
   "metadata": {},
   "source": [
    "### Contact information and feedback"
   ]
  },
  {
   "cell_type": "code",
   "execution_count": 30,
   "id": "d609d2cf-6580-4488-bd39-5a607c42ed02",
   "metadata": {
    "jupyter": {
     "source_hidden": true
    }
   },
   "outputs": [
    {
     "data": {
      "application/vnd.jupyter.widget-view+json": {
       "model_id": "84542e8f90fa47f68ccd3260950075e8",
       "version_major": 2,
       "version_minor": 0
      },
      "text/plain": [
       "ToggleButtons(description='3.4 Is there contact information for subject-matter experts?', index=2, options=('Y…"
      ]
     },
     "metadata": {},
     "output_type": "display_data"
    },
    {
     "data": {
      "application/vnd.jupyter.widget-view+json": {
       "model_id": "275e08296fbc418a9c32aff530e89a51",
       "version_major": 2,
       "version_minor": 0
      },
      "text/plain": [
       "ToggleButtons(description='3.5 Is there a mechanism for user feedback and suggestions?', index=2, options=('Ye…"
      ]
     },
     "metadata": {},
     "output_type": "display_data"
    }
   ],
   "source": [
    "\n",
    "contact_info_available = widgets.ToggleButtons(\n",
    "            options=['Yes', 'No', 'N/A'],\n",
    "            value='N/A',\n",
    "            description='3.4 Is there contact information for subject-matter experts?',\n",
    "            )\n",
    "\n",
    "feedback_mechanism_available = widgets.ToggleButtons(\n",
    "            options=['Yes', 'No', 'N/A'],\n",
    "            value='N/A',\n",
    "            description='3.5 Is there a mechanism for user feedback and suggestions?',\n",
    "            )\n",
    "\n",
    "display(contact_info_available, feedback_mechanism_available)\n"
   ]
  },
  {
   "cell_type": "markdown",
   "id": "1ee9173d-e7cb-4959-bc32-ced1247122b9",
   "metadata": {},
   "source": [
    "### Examples codes / notebooks / toolkits\n"
   ]
  },
  {
   "cell_type": "code",
   "execution_count": 33,
   "id": "783c36e6-3f82-4354-b4e1-06dfa99d2485",
   "metadata": {
    "jupyter": {
     "source_hidden": true
    }
   },
   "outputs": [
    {
     "data": {
      "application/vnd.jupyter.widget-view+json": {
       "model_id": "33c10552696c4c24a32365371c831089",
       "version_major": 2,
       "version_minor": 0
      },
      "text/plain": [
       "ToggleButtons(description='3.6 Are there example codes / notebooks / toolkits available showing how the data c…"
      ]
     },
     "metadata": {},
     "output_type": "display_data"
    }
   ],
   "source": [
    "\n",
    "example_code_available = widgets.ToggleButtons(\n",
    "            options=['Yes', 'No', 'N/A'],\n",
    "            value='N/A',\n",
    "            description='3.6 Are there example codes / notebooks / toolkits available showing how the data can be used?',\n",
    "            )\n",
    "\n",
    "display(example_code_available)"
   ]
  },
  {
   "cell_type": "markdown",
   "id": "b80cff89-1971-426d-8ddc-c130b22d8294",
   "metadata": {},
   "source": [
    "### Licenses"
   ]
  },
  {
   "cell_type": "code",
   "execution_count": 37,
   "id": "c95e3538-de4e-481c-bfed-b541cb46989e",
   "metadata": {
    "jupyter": {
     "source_hidden": true
    }
   },
   "outputs": [
    {
     "data": {
      "application/vnd.jupyter.widget-view+json": {
       "model_id": "5dd4c47666304f409660c7fd719b2bb2",
       "version_major": 2,
       "version_minor": 0
      },
      "text/plain": [
       "Text(value='', layout=Layout(width='500px'), placeholder='3.7 What is the license for the data?')"
      ]
     },
     "metadata": {},
     "output_type": "display_data"
    },
    {
     "data": {
      "application/vnd.jupyter.widget-view+json": {
       "model_id": "f0dec7426a5b4d31ba13b2bb7a0b11b0",
       "version_major": 2,
       "version_minor": 0
      },
      "text/plain": [
       "ToggleButtons(description='Is the license standardized and machine-readable (e.g. Creative Commons)?', index=2…"
      ]
     },
     "metadata": {},
     "output_type": "display_data"
    }
   ],
   "source": [
    "\n",
    "dataset_licence = widgets.Text(\n",
    "            value='',\n",
    "            placeholder='3.7 What is the license for the data?',\n",
    "            layout=widgets.Layout(width=\"500px\")\n",
    "            )\n",
    "\n",
    "dataset_licence_machine_readable = widgets.ToggleButtons(\n",
    "            options=['Yes', 'No', 'N/A'],\n",
    "            value='N/A',\n",
    "            description='Is the license standardized and machine-readable (e.g. Creative Commons)?',\n",
    "            )\n",
    "\n",
    "display(dataset_licence, dataset_licence_machine_readable)"
   ]
  },
  {
   "cell_type": "markdown",
   "id": "47b25bef-3f4d-4a88-b666-b1abefcbac18",
   "metadata": {},
   "source": [
    "### Dataset useage"
   ]
  },
  {
   "cell_type": "code",
   "execution_count": 40,
   "id": "cde4cc94-5bef-4dbd-93fc-6da650a82848",
   "metadata": {
    "jupyter": {
     "source_hidden": true
    },
    "scrolled": true
   },
   "outputs": [
    {
     "data": {
      "application/vnd.jupyter.widget-view+json": {
       "model_id": "0ee6e57087264ae5bddd4c1c1e391c5c",
       "version_major": 2,
       "version_minor": 0
      },
      "text/plain": [
       "Textarea(value='', layout=Layout(width='500px'), placeholder='3.8 Has this dataset already been used in AI or …"
      ]
     },
     "metadata": {},
     "output_type": "display_data"
    },
    {
     "data": {
      "application/vnd.jupyter.widget-view+json": {
       "model_id": "f05a060b487143daa453a4003b15198b",
       "version_major": 2,
       "version_minor": 0
      },
      "text/plain": [
       "ToggleButtons(description='3.9 Are there recommendations on the intended use of the data, and uses that are no…"
      ]
     },
     "metadata": {},
     "output_type": "display_data"
    }
   ],
   "source": [
    "\n",
    "ai_ml_existing_useage_links = widgets.Textarea(\n",
    "            value='',\n",
    "            placeholder='3.8 Has this dataset already been used in AI or ML activities? Link to publications/reports',\n",
    "            layout=widgets.Layout(width=\"500px\")\n",
    "            )\n",
    "\n",
    "usage_recomendations = widgets.ToggleButtons(\n",
    "            options=['Yes', 'No', 'N/A'],\n",
    "            value='N/A',\n",
    "            description='3.9 Are there recommendations on the intended use of the data, and uses that are not recommended?',\n",
    "            )\n",
    "\n",
    "display(ai_ml_existing_useage_links, usage_recomendations)"
   ]
  },
  {
   "cell_type": "markdown",
   "id": "7d83f99d-910f-4a87-b2d2-b995d26fddf2",
   "metadata": {
    "jp-MarkdownHeadingCollapsed": true,
    "jupyter": {
     "source_hidden": true
    }
   },
   "source": [
    "### Data Documentation Assessment Matrix\n",
    "\n",
    "<img src=\"Images/data_documentation_matrix.png\" width=800 height=\"auto\" />"
   ]
  },
  {
   "cell_type": "markdown",
   "id": "ead060fb-06f2-4aae-9078-bf85bc7d9228",
   "metadata": {},
   "source": [
    "---\n",
    "\n",
    "## **4. Data Access**"
   ]
  },
  {
   "cell_type": "markdown",
   "id": "12e3b61f-8d2d-45b1-84e5-edabefbf4277",
   "metadata": {},
   "source": [
    "### File formats"
   ]
  },
  {
   "cell_type": "code",
   "execution_count": 73,
   "id": "77ec0e3b-f57f-4b1a-ae3e-e11da3fd2cd0",
   "metadata": {
    "jupyter": {
     "source_hidden": true
    }
   },
   "outputs": [
    {
     "data": {
      "application/vnd.jupyter.widget-view+json": {
       "model_id": "93a11e3ba1d6477096d0f8ea5c8ff85d",
       "version_major": 2,
       "version_minor": 0
      },
      "text/plain": [
       "Label(value='4.1 What is/are the major file formats? (Use shift / Ctr / CMD to select multiple)')"
      ]
     },
     "metadata": {},
     "output_type": "display_data"
    },
    {
     "data": {
      "application/vnd.jupyter.widget-view+json": {
       "model_id": "d74fc933a40f463b8d6ae331ea6227ba",
       "version_major": 2,
       "version_minor": 0
      },
      "text/plain": [
       "SelectMultiple(index=(0, 1, 2, 3), options=('CSV', 'netCDF', 'geoJSON', 'Shapefile', 'GRIB', 'HDF', 'GeoTIFF',…"
      ]
     },
     "metadata": {},
     "output_type": "display_data"
    },
    {
     "data": {
      "application/vnd.jupyter.widget-view+json": {
       "model_id": "562e2ca14d1543f88b23d7696874da7e",
       "version_major": 2,
       "version_minor": 0
      },
      "text/plain": [
       "ToggleButtons(description='Are the main formats machine-readable?', index=2, options=('Yes', 'No', 'N/A'), val…"
      ]
     },
     "metadata": {},
     "output_type": "display_data"
    },
    {
     "data": {
      "application/vnd.jupyter.widget-view+json": {
       "model_id": "cb7b6819e3ce4950ac350d258ff06251",
       "version_major": 2,
       "version_minor": 0
      },
      "text/plain": [
       "ToggleButtons(description='Is the data available in at least one open, non-proprietary format?', index=2, opti…"
      ]
     },
     "metadata": {},
     "output_type": "display_data"
    },
    {
     "data": {
      "application/vnd.jupyter.widget-view+json": {
       "model_id": "992186bf741849e2998ead3e6d35af55",
       "version_major": 2,
       "version_minor": 0
      },
      "text/plain": [
       "ToggleButtons(description='Are there tools/services to support data format conversion?', index=2, options=('Ye…"
      ]
     },
     "metadata": {},
     "output_type": "display_data"
    },
    {
     "data": {
      "application/vnd.jupyter.widget-view+json": {
       "model_id": "ea5d85b35a69477799b0f726ec07fac9",
       "version_major": 2,
       "version_minor": 0
      },
      "text/plain": [
       "Text(value='', layout=Layout(width='500px'), placeholder='If yes, provide the link to the tools/services')"
      ]
     },
     "metadata": {},
     "output_type": "display_data"
    }
   ],
   "source": [
    "\n",
    "dataset_file_formats_label = widgets.Label(\n",
    "    value = \"4.1 What is/are the major file formats? (Use shift / Ctrl / CMD to select multiple)\"\n",
    ")\n",
    "\n",
    "dataset_file_format_options = ['CSV', 'netCDF', 'geoJSON', 'Shapefile', 'GRIB', 'HDF', 'GeoTIFF', 'KML', 'GINI', 'Zarr', 'Other']\n",
    "\n",
    "dataset_file_formats = widgets.SelectMultiple(\n",
    "    options=dataset_major_file_format_options,\n",
    "    value=(),\n",
    "    rows=len(dataset_major_file_format_options),\n",
    "    disabled=False\n",
    ")\n",
    "\n",
    "dataset_file_formats_machine_readable = widgets.ToggleButtons(\n",
    "            options=['Yes', 'No', 'N/A'],\n",
    "            value='N/A',\n",
    "            description='Are the main formats machine-readable?',\n",
    "            )\n",
    "\n",
    "dataset_file_formats_non_proprietary = widgets.ToggleButtons(\n",
    "            options=['Yes', 'No', 'N/A'],\n",
    "            value='N/A',\n",
    "            description='Is the data available in at least one open, non-proprietary format?',\n",
    "            )\n",
    "\n",
    "dataset_file_formats_conversion_tools = widgets.ToggleButtons(\n",
    "            options=['Yes', 'No', 'N/A'],\n",
    "            value='N/A',\n",
    "            description='Are there tools/services to support data format conversion?',\n",
    "            )\n",
    "\n",
    "dataset_file_formats_conversion_tools_link = widgets.Text(\n",
    "            value='',\n",
    "            placeholder='If yes, provide the link to the tools/services',\n",
    "            layout=widgets.Layout(width=\"500px\")\n",
    "            )\n",
    "\n",
    "display(dataset_major_file_formats_label, dataset_major_file_formats, dataset_file_formats_machine_readable, dataset_file_formats_non_proprietary, dataset_file_formats_conversion_tools, dataset_file_formats_conversion_tools_link)"
   ]
  },
  {
   "cell_type": "markdown",
   "id": "7e3bb476-ba1e-4507-b7f0-55db7ce9710a",
   "metadata": {},
   "source": [
    "### Data delivery"
   ]
  },
  {
   "cell_type": "code",
   "execution_count": 84,
   "id": "acf9768d-6572-4719-b5d3-b95e7e94d2f5",
   "metadata": {
    "jupyter": {
     "source_hidden": true
    }
   },
   "outputs": [
    {
     "data": {
      "application/vnd.jupyter.widget-view+json": {
       "model_id": "eedde2462b8948cdaa9da937f0007803",
       "version_major": 2,
       "version_minor": 0
      },
      "text/plain": [
       "ToggleButtons(description='4.2 Does data access require authentication (e.g., a registered user account)?', in…"
      ]
     },
     "metadata": {},
     "output_type": "display_data"
    },
    {
     "data": {
      "application/vnd.jupyter.widget-view+json": {
       "model_id": "c4e0fcaa8db048ee95628611afa39258",
       "version_major": 2,
       "version_minor": 0
      },
      "text/plain": [
       "ToggleButtons(description='4.3 Can the file be accessed via direct file downloading or ordering?', index=2, op…"
      ]
     },
     "metadata": {},
     "output_type": "display_data"
    },
    {
     "data": {
      "application/vnd.jupyter.widget-view+json": {
       "model_id": "a0fb276337134359bae3dda721998c98",
       "version_major": 2,
       "version_minor": 0
      },
      "text/plain": [
       "ToggleButtons(description='4.4 Is there an Application Programming Interface (API) or web service to access th…"
      ]
     },
     "metadata": {},
     "output_type": "display_data"
    },
    {
     "data": {
      "application/vnd.jupyter.widget-view+json": {
       "model_id": "3b763322e33547cd9a12df5c589d6443",
       "version_major": 2,
       "version_minor": 0
      },
      "text/plain": [
       "ToggleButtons(description='If there is an API, does the API follow an open standard protocol (e.g., OGC)?', in…"
      ]
     },
     "metadata": {},
     "output_type": "display_data"
    },
    {
     "data": {
      "application/vnd.jupyter.widget-view+json": {
       "model_id": "3ff09b5c8bc7425f95b0c5c2056d86bd",
       "version_major": 2,
       "version_minor": 0
      },
      "text/plain": [
       "ToggleButtons(description='If there is an API, is there documentation for the API?', index=2, layout=Layout(di…"
      ]
     },
     "metadata": {},
     "output_type": "display_data"
    },
    {
     "data": {
      "application/vnd.jupyter.widget-view+json": {
       "model_id": "7cf9ac190a644fe990751330db973067",
       "version_major": 2,
       "version_minor": 0
      },
      "text/plain": [
       "Text(value='', layout=Layout(display='none', width='500px'), placeholder='If “Yes”, please provide a URL to th…"
      ]
     },
     "metadata": {},
     "output_type": "display_data"
    }
   ],
   "source": [
    "\n",
    "dataset_authentication = widgets.ToggleButtons(\n",
    "            options=['Yes', 'No', 'N/A'],\n",
    "            value='N/A',\n",
    "            description='4.2 Does data access require authentication (e.g., a registered user account)?',\n",
    "            )\n",
    "\n",
    "dataset_direct_access = widgets.ToggleButtons(\n",
    "            options=['Yes', 'No', 'N/A'],\n",
    "            value='N/A',\n",
    "            description='4.3 Can the file be accessed via direct file downloading or ordering?',\n",
    "            )\n",
    "\n",
    "dataset_api_available = widgets.ToggleButtons(\n",
    "            options=['Yes', 'No', 'N/A'],\n",
    "            value='N/A',\n",
    "            description='4.4 Is there an Application Programming Interface (API) or web service to access the data?',\n",
    "            )\n",
    "\n",
    "dataset_api_standard_protocol = widgets.ToggleButtons(\n",
    "            options=['Yes', 'No', 'N/A'],\n",
    "            value='N/A',\n",
    "            description='If there is an API, does the API follow an open standard protocol (e.g., OGC)?',\n",
    "            layout=widgets.Layout(display=\"none\")\n",
    "            )\n",
    "\n",
    "dataset_api_documentation_available = widgets.ToggleButtons(\n",
    "            options=['Yes', 'No', 'N/A'],\n",
    "            value='N/A',\n",
    "            description='If there is an API, is there documentation for the API?',\n",
    "            layout=widgets.Layout(display=\"none\")\n",
    "            )\n",
    "\n",
    "dataset_api_documentation_link = widgets.Text(\n",
    "            value='',\n",
    "            placeholder='If “Yes”, please provide a URL to the documentation.',\n",
    "            layout=widgets.Layout(display=\"none\", width=\"500px\")\n",
    "            )\n",
    "\n",
    "\n",
    "\n",
    "# Function to change the display setting of the following UI components. \n",
    "def on_click_handler(change):    \n",
    "\n",
    "    # Show / hide main trunk of questions. \n",
    "    if dataset_api_available.value == \"Yes\":\n",
    "        dataset_api_standard_protocol.layout.display = ''\n",
    "        dataset_api_documentation_available.layout.display = ''\n",
    "        dataset_api_documentation_link.layout.display = ''\n",
    "\n",
    "    else:   \n",
    "        dataset_api_standard_protocol.layout.display = 'none'\n",
    "        dataset_api_documentation_available.layout.display = 'none'\n",
    "        dataset_api_documentation_link.layout.display = 'none'\n",
    "\n",
    "        dataset_api_standard_protocol.value = 'N/A'\n",
    "        dataset_api_documentation_available.value = 'N/A'\n",
    "        dataset_api_documentation_link.value = ''\n",
    "\n",
    "\n",
    "  \n",
    "            \n",
    "# Display the UI components\n",
    "display(dataset_authentication, dataset_direct_access, dataset_api_available, dataset_api_standard_protocol, dataset_api_documentation_available, dataset_api_documentation_link)\n",
    "\n",
    "\n",
    "# Observe UI components for changes and call the on_click_handler function if value property changed. \n",
    "dataset_api_available.observe(on_click_handler, names=\"value\")\n",
    "\n",
    "\n",
    "\n",
    "\n"
   ]
  },
  {
   "cell_type": "markdown",
   "id": "5cb8b683-a629-4616-8074-65e696da6e9a",
   "metadata": {},
   "source": [
    "### Privacy and security\n"
   ]
  },
  {
   "cell_type": "code",
   "execution_count": 87,
   "id": "16e6258a-3aee-42fe-bc61-3161b89a499c",
   "metadata": {
    "jupyter": {
     "source_hidden": true
    }
   },
   "outputs": [
    {
     "data": {
      "application/vnd.jupyter.widget-view+json": {
       "model_id": "f00650b931a04cd58eabce418ae88282",
       "version_major": 2,
       "version_minor": 0
      },
      "text/plain": [
       "ToggleButtons(description='4.5 For restricted data, have measures been taken to provide some access while stil…"
      ]
     },
     "metadata": {},
     "output_type": "display_data"
    },
    {
     "data": {
      "application/vnd.jupyter.widget-view+json": {
       "model_id": "7776d3961de542ccbb3927cf78c1679f",
       "version_major": 2,
       "version_minor": 0
      },
      "text/plain": [
       "ToggleButtons(description='4.6 Has the data been aggregated to reduce granularity?', index=2, options=('Yes', …"
      ]
     },
     "metadata": {},
     "output_type": "display_data"
    },
    {
     "data": {
      "application/vnd.jupyter.widget-view+json": {
       "model_id": "3e0981623c1444b88d6f743eed3f4c50",
       "version_major": 2,
       "version_minor": 0
      },
      "text/plain": [
       "ToggleButtons(description='4.7 Has the data been anonymized / de-identified?', index=2, options=('Yes', 'No', …"
      ]
     },
     "metadata": {},
     "output_type": "display_data"
    },
    {
     "data": {
      "application/vnd.jupyter.widget-view+json": {
       "model_id": "057abfb582f14b95bf390b848659cf80",
       "version_major": 2,
       "version_minor": 0
      },
      "text/plain": [
       "ToggleButtons(description='4.8 Is there secure access to the full dataset for authorized users? ', index=2, op…"
      ]
     },
     "metadata": {},
     "output_type": "display_data"
    }
   ],
   "source": [
    "\n",
    "dataset_restricted_protection = widgets.ToggleButtons(\n",
    "            options=['Yes', 'No', 'N/A'],\n",
    "            value='N/A',\n",
    "            description='4.5 For restricted data, have measures been taken to provide some access while still applying appropriate protection for privacy and security?',\n",
    "            )\n",
    "\n",
    "dataset_aggregation = widgets.ToggleButtons(\n",
    "            options=['Yes', 'No', 'N/A'],\n",
    "            value='N/A',\n",
    "            description='4.6 Has the data been aggregated to reduce granularity?',\n",
    "            )\n",
    "\n",
    "dataset_anonymization = widgets.ToggleButtons(\n",
    "            options=['Yes', 'No', 'N/A'],\n",
    "            value='N/A',\n",
    "            description='4.7 Has the data been anonymized / de-identified?',\n",
    "            )\n",
    "\n",
    "dataset_secure_access = widgets.ToggleButtons(\n",
    "            options=['Yes', 'No', 'N/A'],\n",
    "            value='N/A',\n",
    "            description='4.8 Is there secure access to the full dataset for authorized users? ',\n",
    "            )\n",
    "\n",
    "display(dataset_restricted_protection, dataset_aggregation, dataset_anonymization, dataset_secure_access)\n"
   ]
  },
  {
   "cell_type": "markdown",
   "id": "df576be3-39b4-49d3-9a70-223efa33a61a",
   "metadata": {
    "jupyter": {
     "source_hidden": true
    }
   },
   "source": [
    "### Data Access Assessment Matrix\n",
    "\n",
    "\n",
    "<img src=\"Images/data_access_matrix.png\" width=800 height=\"auto\" />"
   ]
  },
  {
   "cell_type": "markdown",
   "id": "0ef2f783-495b-406e-8c25-5258c410520c",
   "metadata": {},
   "source": [
    "---\n",
    "\n",
    "## **5. Data Preparation**"
   ]
  },
  {
   "cell_type": "markdown",
   "id": "fc47836b-19bb-4d24-b500-884d9e754f78",
   "metadata": {},
   "source": [
    "### Null values"
   ]
  },
  {
   "cell_type": "code",
   "execution_count": 93,
   "id": "598d7fa2-f6c6-451e-9b12-a282d6a70be7",
   "metadata": {
    "jupyter": {
     "source_hidden": true
    }
   },
   "outputs": [
    {
     "data": {
      "application/vnd.jupyter.widget-view+json": {
       "model_id": "149881ae05ac4e6aafe095cc136363c2",
       "version_major": 2,
       "version_minor": 0
      },
      "text/plain": [
       "ToggleButtons(description='5.1 Have null values/gaps been filled?', index=2, options=('Yes', 'No', 'N/A'), val…"
      ]
     },
     "metadata": {},
     "output_type": "display_data"
    }
   ],
   "source": [
    "\n",
    "dataset_null_values = widgets.ToggleButtons(\n",
    "            options=['Yes', 'No', 'N/A'],\n",
    "            value='N/A',\n",
    "            description='5.1 Have null values/gaps been filled?',\n",
    "            )\n",
    "\n",
    "display(dataset_null_values)"
   ]
  },
  {
   "cell_type": "markdown",
   "id": "8cc450ae-d5bb-464d-bc4d-da3f09bcca06",
   "metadata": {},
   "source": [
    "### Outliers"
   ]
  },
  {
   "cell_type": "code",
   "execution_count": 91,
   "id": "8c912605-887f-4b59-b07a-34dfbdc2bc8d",
   "metadata": {
    "jupyter": {
     "source_hidden": true
    }
   },
   "outputs": [
    {
     "data": {
      "application/vnd.jupyter.widget-view+json": {
       "model_id": "3e0443e2da964739907716472959eff8",
       "version_major": 2,
       "version_minor": 0
      },
      "text/plain": [
       "ToggleButtons(description='5.2 Have outliers been identified?', index=3, options=('Yes, tagged ', 'Yes, remove…"
      ]
     },
     "metadata": {},
     "output_type": "display_data"
    }
   ],
   "source": [
    "\n",
    "dataset_outliers = widgets.ToggleButtons(\n",
    "            options=['Yes, tagged ', 'Yes, removed', 'No', 'N/A'],\n",
    "            value='N/A',\n",
    "            description='5.2 Have outliers been identified?',\n",
    "            )\n",
    "\n",
    "display(dataset_outliers)\n"
   ]
  },
  {
   "cell_type": "markdown",
   "id": "ad80647b-e571-4b0c-a291-c75c76b867fd",
   "metadata": {},
   "source": [
    "### Gridded data\n"
   ]
  },
  {
   "cell_type": "code",
   "execution_count": 120,
   "id": "45f3adc6-7550-488b-923d-c3d17a912b89",
   "metadata": {
    "jupyter": {
     "source_hidden": true
    }
   },
   "outputs": [
    {
     "data": {
      "application/vnd.jupyter.widget-view+json": {
       "model_id": "e05f46f5e26c4182bd1a30314ccbc8cc",
       "version_major": 2,
       "version_minor": 0
      },
      "text/plain": [
       "Label(value='5.3 Is the data gridded (regularly sampled in time and space)?')"
      ]
     },
     "metadata": {},
     "output_type": "display_data"
    },
    {
     "data": {
      "application/vnd.jupyter.widget-view+json": {
       "model_id": "949b29563db94dbdbcf5e9ea251d64ab",
       "version_major": 2,
       "version_minor": 0
      },
      "text/plain": [
       "Select(index=4, layout=Layout(width='500px'), options=('Regularly gridded in space', 'Constant time-frequency'…"
      ]
     },
     "metadata": {},
     "output_type": "display_data"
    },
    {
     "data": {
      "application/vnd.jupyter.widget-view+json": {
       "model_id": "55a12a2d1e17481d9f1083f48db5e38f",
       "version_major": 2,
       "version_minor": 0
      },
      "text/plain": [
       "Label(value='If the data is gridded, was it transformed from a different original sampling?')"
      ]
     },
     "metadata": {},
     "output_type": "display_data"
    },
    {
     "data": {
      "application/vnd.jupyter.widget-view+json": {
       "model_id": "0b70fa26a7fb47379c6a80eebf144313",
       "version_major": 2,
       "version_minor": 0
      },
      "text/plain": [
       "Select(index=3, layout=Layout(width='500px'), options=('Yes, from irregular sampling', 'Yes, from a different …"
      ]
     },
     "metadata": {},
     "output_type": "display_data"
    },
    {
     "data": {
      "application/vnd.jupyter.widget-view+json": {
       "model_id": "435862a99fa94a3999ca32219f7780a6",
       "version_major": 2,
       "version_minor": 0
      },
      "text/plain": [
       "ToggleButtons(description='If the data is resampled from the original sampling, is the data also available at …"
      ]
     },
     "metadata": {},
     "output_type": "display_data"
    }
   ],
   "source": [
    "\n",
    "dataset_gridded_label = widgets.Label(\n",
    "    value = \"5.3 Is the data gridded (regularly sampled in time and space)?\"\n",
    ")\n",
    "\n",
    "dataset_gridded = widgets.Select(\n",
    "            options=['Regularly gridded in space', 'Constant time-frequency', 'Regularly gridded in space and constant time-frequency', 'Not gridded', 'N/A'],\n",
    "            value='N/A',\n",
    "            layout = widgets.Layout(width='500px')\n",
    "            )\n",
    "\n",
    "dataset_gridded_transformed_label = widgets.Label(\n",
    "    value = \"If the data is gridded, was it transformed from a different original sampling?\"\n",
    ")\n",
    "\n",
    "dataset_gridded_transformed = widgets.Select(\n",
    "            options=['Yes, from irregular sampling', 'Yes, from a different regular sampling', 'No, this is the original sampling', 'N/A'],\n",
    "            value='N/A',\n",
    "            layout = widgets.Layout(width='500px')\n",
    "            )\n",
    "\n",
    "\n",
    "dataset_gridded_original_sample = widgets.ToggleButtons(\n",
    "            options=['Yes', 'No', 'Only by request', 'N/A'],\n",
    "            value='N/A',\n",
    "            description = 'If the data is resampled from the original sampling, is the data also available at the original sampling?'\n",
    "            )\n",
    "\n",
    "display(dataset_gridded_label, dataset_gridded, dataset_gridded_transformed_label, dataset_gridded_transformed, dataset_gridded_original_sample)"
   ]
  },
  {
   "cell_type": "markdown",
   "id": "55a87005-4929-45c3-a2f6-f0b4eec60de8",
   "metadata": {},
   "source": [
    "### Targets / labels for supervised learning"
   ]
  },
  {
   "cell_type": "code",
   "execution_count": 134,
   "id": "e7447fb9-566f-4b99-b5ec-afc9ccc05954",
   "metadata": {
    "jupyter": {
     "source_hidden": true
    }
   },
   "outputs": [
    {
     "data": {
      "application/vnd.jupyter.widget-view+json": {
       "model_id": "4b92efb6357c4212b84292c92698cab1",
       "version_major": 2,
       "version_minor": 0
      },
      "text/plain": [
       "ToggleButtons(description='5.4 Are there associated targets or labels for supervised learning techniques (i.e.…"
      ]
     },
     "metadata": {},
     "output_type": "display_data"
    },
    {
     "data": {
      "application/vnd.jupyter.widget-view+json": {
       "model_id": "542ad524882849399c985c9cc57d1056",
       "version_major": 2,
       "version_minor": 0
      },
      "text/plain": [
       "Label(value='If there are associated targets/labels, are community labeling standards implemented?')"
      ]
     },
     "metadata": {},
     "output_type": "display_data"
    },
    {
     "data": {
      "application/vnd.jupyter.widget-view+json": {
       "model_id": "d1d6c3188ad546219e651398600804ad",
       "version_major": 2,
       "version_minor": 0
      },
      "text/plain": [
       "Text(value='', layout=Layout(width='500px'), placeholder='e.g., STAC label extension, ESA AIREO specification,…"
      ]
     },
     "metadata": {},
     "output_type": "display_data"
    }
   ],
   "source": [
    "\n",
    "dataset_targets_or_labels = widgets.ToggleButtons(\n",
    "            options=['Yes', 'No', 'N/A'],\n",
    "            value='N/A',\n",
    "            description = '5.4 Are there associated targets or labels for supervised learning techniques (i.e., can this be used as a training dataset for supervised learning techniques)?'\n",
    "            )\n",
    "\n",
    "dataset_targets_or_labels_standards_label = widgets.Label(\n",
    "    value = \"If there are associated targets/labels, are community labeling standards implemented?\"\n",
    ")\n",
    "\n",
    "dataset_targets_or_labels_standards = widgets.Text(\n",
    "            value = '',\n",
    "            placeholder = 'e.g., STAC label extension, ESA AIREO specification, etc.',\n",
    "            layout = widgets.Layout(width=\"500px\")\n",
    ")\n",
    "\n",
    "display(dataset_targets_or_labels, dataset_targets_or_labels_standards_label, dataset_targets_or_labels_standards )"
   ]
  },
  {
   "cell_type": "markdown",
   "id": "3824aa9e-9d66-4a2e-a1a2-60139f7c30dd",
   "metadata": {},
   "source": [
    "## Finished"
   ]
  },
  {
   "cell_type": "code",
   "execution_count": 133,
   "id": "05ee4ed7-ffac-473e-a8cf-712dce801b4b",
   "metadata": {
    "jupyter": {
     "source_hidden": true
    }
   },
   "outputs": [
    {
     "data": {
      "application/vnd.jupyter.widget-view+json": {
       "model_id": "68e3f3ceee7e4e5eb4a256212b10321d",
       "version_major": 2,
       "version_minor": 0
      },
      "text/plain": [
       "Button(button_style='info', description='Print checklist', style=ButtonStyle())"
      ]
     },
     "metadata": {},
     "output_type": "display_data"
    },
    {
     "data": {
      "application/vnd.jupyter.widget-view+json": {
       "model_id": "1cc624506ed34a8f96809b95367a0546",
       "version_major": 2,
       "version_minor": 0
      },
      "text/plain": [
       "Output()"
      ]
     },
     "metadata": {},
     "output_type": "display_data"
    }
   ],
   "source": [
    "\n",
    "button_finished = widgets.Button(description=\"Print checklist\",  button_style='info')\n",
    "output = widgets.Output()\n",
    "display(button_finished, output)\n",
    "\n",
    "\n",
    "results = {}\n",
    "\n",
    "def generate_results(b):\n",
    "    results[\"1.1 \\tDataset name\"] = dataset_name.value\n",
    "    results[\"1.2 \\tDataset version\"] = dataset_version.value\n",
    "    results[\"1.3 \\tDataset link\"] = dataset_link.value\n",
    "    results[\"1.4 \\tAssessor name\"] = dataset_assessor_name.value\n",
    "    results[\"1.5 \\tAssessor email address\"] = dataset_assessor_email.value\n",
    "    results[\"1.6 \\tData product\"] = raw_derived.value\n",
    "    results[\"1.7 \\tData origin\"] = observe_model_synthetic.value\n",
    "    results[\"1.8 \\tData source\"] = data_sources.value\n",
    "    results[\"2.1 \\tWill dataset be updated\"] = data_update.value\n",
    "    results[\"2.1.1 \\tUpdate frequency\"] = data_update_frequency.value\n",
    "    results[\"2.1.2 \\tUpdate stages\"] = data_update_stages.value\n",
    "    results[\"2.1.3 \\tUpdate delay reason\"] = data_update_delay.value\n",
    "    results[\"2.1.4 \\tShould new version supersede\"] = data_update_supersede.value\n",
    "    results[\"2.2 \\tDataset completeness documentation\"] = completeness_docs.value\n",
    "    results[\"2.2.1 \\tDataset completeness doc link\"] = completeness_docs_link.value\n",
    "    results[\"2.3 \\tDataset completion vs expected spatial coverage\"] = expected_spatial_coverage.value\n",
    "    results[\"2.4 \\tDataset completion vs expected temporal coverage\"] = expected_temporal_coverage.value\n",
    "    results[\"2.5 \\tSelf-consistent units, dtypes, parameters\"] = self_consistent_units.value\n",
    "    results[\"2.6 \\tConsistent units, dtypes, parameter with similar datasets\"] = consistent_units.value\n",
    "    results[\"2.7 \\tConsistent units, dtypes, parameters monitoring \"] = consistent_unit_monitoring.value\n",
    "    results[\"2.7.1 \\tConsistent units, dtypes, parameter monitoring measures\"] = consistent_unit_review.value\n",
    "    results[\"2.8 \\tIs there known bias in the dataset\"] = dataset_bias.value\n",
    "    results[\"2.8.1 \\tHas bias been examined\"] = dataset_bias_measures.value\n",
    "    results[\"2.8.2 \\tBias measures used\"] = dataset_bias_measures_detail.value\n",
    "    results[\"2.8.3 \\tIs bias metrological traceable\"] = dataset_bias_metrological_traceable.value\n",
    "    results[\"2.8.3 \\tReported bias in data\"] = dataset_bias_report.value\n",
    "    results[\"2.8.4 \\tBias report link\"] = dataset_bias_report_link.value\n",
    "    results[\"2.8.5 \\tBias corrected dataset version linke\"] = dataset_bias_report.value\n",
    "    results[\"2.8.6 \\tTools to reduce bias link\"] = dataset_bias_tools_link.value    \n",
    "    results[\"2.9 \\tSpace and time data resolution info\"] = data_resolution_info.value\n",
    "    results[\"2.10 \\tPublished data quality procedures or reports\"] = data_quality_report.value\n",
    "    results[\"2.10.1 \\tIf there is published quality information, please provide the link\"] = data_quality_report_link.value\n",
    "    results[\"2.11 \\tProvenance of the dataset tracked and documented\"] = dataset_provenance.value\n",
    "    results[\"2.12 \\tChecksums / other checks for data integrity\"] = data_integrity.value\n",
    "    results[\"2.13.1 \\tTotal data volume\"] = total_data_volume.value\n",
    "    results[\"2.13.2 \\tNumber of data dimensions\"] = num_data_dimensions.value\n",
    "    results[\"2.13.3 \\tNumber of data files\"] = num_data_files.value\n",
    "    results[\"2.13.4 \\tNumber of data table rows\"] = num_data_rows.value\n",
    "    results[\"2.13.5 \\tNumber of images\"] = num_data_images.value\n",
    "    results[\"2.13.6 \\tSize of images\"] = num_data_images_size.value\n",
    "    results[\"3.2 \\tData dictionary for dataset / parameters\"] = data_dictionary.value\n",
    "    results[\"3.2.1 \\tData dictionary standardized\"] = data_dictionary_standardized.value\n",
    "    results[\"3.2.2 \\tData dictionary machine-readable\"] = data_dictionary_machine_readable.value\n",
    "    results[\"3.2.3 \\tParameters follow a defined standard\"] = parameters_defined_standard.value\n",
    "    results[\"3.2.4 \\tWhich standard to the parameters follow\"] = parameters_defined_standard_detail.value\n",
    "    results[\"3.2.5 \\tAre parameters crosswalked in an ontology or common vocabulary\"] = parameters_common_vocabulary.value\n",
    "    results[\"3.3 \\tHas a unique persistent identifier\"] = unique_persistent_identifier.value\n",
    "    results[\"3.3.1 \\tUnique persistent identifier link\"] = unique_persistent_identifier_link.value\n",
    "    results[\"3.4 \\tContact info available\"] = contact_info_available.value\n",
    "    results[\"3.5 \\tFeedback mechanism available\"] = feedback_mechanism_available.value\n",
    "    results[\"3.6 \\tExample code / notebooks / toolkits\"] = example_code_available.value\n",
    "    results[\"3.7 \\tLicence\"] = dataset_licence.value\n",
    "    results[\"3.7.1 \\tLicence machine-readable\"] = dataset_licence_machine_readable.value\n",
    "    results[\"3.8 \\tAI / ML existing usage links\"] = ai_ml_existing_useage_links.value\n",
    "    results[\"3.9 \\tDataset useage recomendations\"] = usage_recomendations.value\n",
    "    results[\"4.1 \\tWhat is/are the major file formats\"] = dataset_file_formats.value\n",
    "    results[\"4.1.1 \\tMain data formats machine-readable\"] = dataset_file_formats_machine_readable.value\n",
    "    results[\"4.1.2 \\tData available in at least one open, non-proprietary format\"] = dataset_file_formats_non_proprietary.value\n",
    "    results[\"4.1.3 \\tData format conversion tools / services\"] = dataset_file_formats_conversion_tools.value\n",
    "    results[\"4.1.4 \\tData format conversion tools / services link\"] = dataset_file_formats_conversion_tools_link.value\n",
    "    results[\"4.2 \\tDataset requires authentication\"] = dataset_authentication.value\n",
    "    results[\"4.3 \\tDirect file download / order access\"] = dataset_direct_access.value\n",
    "    results[\"4.4 \\tAPI / webservice available\"] = dataset_api_available.value\n",
    "    results[\"4.4.1 \\tAPI follow an open standard protocol\"] = dataset_api_standard_protocol.value\n",
    "    results[\"4.4.2 \\tAPI documentation available\"] = dataset_api_documentation_available.value\n",
    "    results[\"4.4.3 \\tAPI documentation link \"] = dataset_api_documentation_link.value\n",
    "    results[\"4.5 \\tRestricted data with some access but appropriate protections\"] = dataset_restricted_protection.value\n",
    "    results[\"4.6 \\tData aggregated to reduce granularity\"] = dataset_aggregation.value\n",
    "    results[\"4.7 \\tData has been anonymized / de-identified\"] = dataset_anonymization.value\n",
    "    results[\"4.8 \\tSecure access to full dataset for authorized users\"] = dataset_secure_access.value\n",
    "    results[\"5.1 \\tNull values / gaps been filled\"] = dataset_null_values.value\n",
    "    results[\"5.2 \\tOutlier values been identified\"] = dataset_outliers.value\n",
    "    results[\"5.3 \\tIs the data gridded\"] = dataset_gridded.value\n",
    "    results[\"5.3.1 \\tIs gridded data transformed from original sampling\"] = dataset_gridded_transformed.value\n",
    "    results[\"5.3.2 \\tIf data is resampled, is the original sampling available\"] = dataset_gridded_original_sample.value\n",
    "    results[\"5.4 \\tAssociated targets or labels for supervised learning techniques\"] = dataset_targets_or_labels.value\n",
    "    results[\"5.4.1 \\tAre targets or labels community standards implimented\"] = dataset_targets_or_labels_standards.value\n",
    "    \n",
    "    # Print checklist results.      \n",
    "    with output:\n",
    "        clear_output()\n",
    "        print(\"\\n------ CHECKLIST RESULTS ------\\n\")\n",
    "        for key, value in results.items():\n",
    "            #if value != \"\":\n",
    "            print(f\"{key}: {value}\")\n",
    "        \n",
    "button_finished.on_click(generate_results)"
   ]
  },
  {
   "cell_type": "markdown",
   "id": "c760fc3b-f413-46e4-8a76-31684d83a2d2",
   "metadata": {},
   "source": [
    "---\n",
    "\n",
    "## **Appendix** - Definition of terms used in the checklist."
   ]
  },
  {
   "cell_type": "markdown",
   "id": "76b55144-23ad-41ed-bdb2-6b347026d278",
   "metadata": {},
   "source": [
    "### Quality\n",
    "* **Completeness**: the breadth of a dataset compared to an ideal 100% completion (spatial, temporal, demographic, etc.); important in avoiding sampling bias\n",
    "* **Consistency**: uniformity within the entire dataset or compared with similar data collections; for example, no changes in units or data types over time; the item measured against itself or its a counterpart in another dataset or database\n",
    "* **Bias**: a systematic tilt in the dataset when compared to a reference, caused for example by instrumentation, incorrect data processing, unrepresentative sampling, or human error; the exact nature of bias and how it is measured will vary depending on the type of data and the research domain.\n",
    "* **Uncertainty**: parameter, associated with the result of a measurement, that characterizes the dispersion of the values that could reasonably be attributed to the measurand.\n",
    "* **Timeliness**: the speed of data release, compared to when an event occurred or measurements were made; requirements will vary depending on the timeframe of the phenomenon (e.g., severe thunderstorms vs. climate change, or disease outbreaks vs. life expectancy trends)\n",
    "* **Provenance**: identification of the data sources, how it was processed, and who released it.\n",
    "* **Integrity**: verification that the data remains unchanged from the original; aka data fixity."
   ]
  },
  {
   "cell_type": "markdown",
   "id": "7e4e52d2-20ae-497a-8b99-3e219893c35f",
   "metadata": {},
   "source": [
    "### Documentation\n",
    "* **Dataset Metadata**: complete information about the dataset: quality, provenance, location, time period, responsible parties, purpose, etc.\n",
    "* **Data Dictionary/Codebook**: complete information about the individual variables / measures / parameters within a dataset: type, units, null value, etc.\n",
    "* **Identifier**: a code or number that uniquely identifies a dataset\n",
    "* **Ontology**: formalized definitions of concepts within a domain of knowledge, and the nature of the inter-relationships among those concepts"
   ]
  },
  {
   "cell_type": "markdown",
   "id": "d5efc4cd-4a6d-4226-a29e-314bcc526d22",
   "metadata": {},
   "source": [
    "### Data Access\n",
    "\n",
    "* **Formats**: standards that govern how information is stored in a computer file (e.g., CSV, JSON, GeoTIFF, etc.); different AI user communities will have different requirements, so the best practice is to provide several format options to meet the needs of multiple high priority user communities.\n",
    "* **Delivery Options**: mechanisms for publishing open data for public use (e.g., direct file download, Application Programming Interface (API), cloud services, etc.); different AI user communities will have different requirements, so the best practice is to provide several delivery options to meet the needs of multiple high priority user communities.\n",
    "* **License/Usage Rights**: information on who is allowed to use the data and for what purposes, including data sharing agreements, fees, etc.; some federal data needs to have restrictions and some will be fully open, so rights should be documented in detail\n",
    "* **Security/Privacy**: protection of data that is restricted in some way (privacy, proprietary/business information, national security, etc.)\n"
   ]
  }
 ],
 "metadata": {
  "kernelspec": {
   "display_name": "Python 3 (ipykernel)",
   "language": "python",
   "name": "python3"
  },
  "language_info": {
   "codemirror_mode": {
    "name": "ipython",
    "version": 3
   },
   "file_extension": ".py",
   "mimetype": "text/x-python",
   "name": "python",
   "nbconvert_exporter": "python",
   "pygments_lexer": "ipython3",
   "version": "3.11.8"
  }
 },
 "nbformat": 4,
 "nbformat_minor": 5
}
