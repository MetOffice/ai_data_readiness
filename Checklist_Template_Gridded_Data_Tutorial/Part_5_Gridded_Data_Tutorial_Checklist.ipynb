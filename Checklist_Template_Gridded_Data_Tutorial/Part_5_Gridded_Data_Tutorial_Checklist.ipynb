{
 "cells": [
  {
   "cell_type": "markdown",
   "id": "f8198bd3-3e2a-444f-bff5-c9647a804ca9",
   "metadata": {
    "editable": true,
    "slideshow": {
     "slide_type": ""
    },
    "tags": []
   },
   "source": [
    "# **Data Readiness For AI Checklist - Part 5**\n",
    "\n",
    " * Creator(s) John Pill\n",
    " * Affiliation: UK Met Office\n",
    " * History: 1.0\n",
    " * Last update: 27 August 2024.\n",
    "\n",
    "\n",
    "---"
   ]
  },
  {
   "cell_type": "markdown",
   "id": "4eb841fa-aab5-401b-9e67-1c2e0723c6dd",
   "metadata": {},
   "source": [
    "## **Tutorial Material**\n",
    "\n",
    "* **Run this Jupyter notebook locally using Jupyter Lab**\n",
    "* **Select 'Run All Cells' from the 'Run' menu to generate the checklist**.\n",
    "* **Remember to save your notebook regularly as you work through it.**\n",
    "\n",
    "\n",
    "## **Data section, optional**\n",
    "Scripts for pulling the data into the notebook assuming\n",
    "\n",
    "---"
   ]
  },
  {
   "cell_type": "markdown",
   "id": "f6840884-d7bb-43fa-a3e3-8c4106c435e5",
   "metadata": {},
   "source": [
    "## **Setup Notebook**"
   ]
  },
  {
   "cell_type": "code",
   "execution_count": 28,
   "id": "5b5a42bb-1da9-4460-a6a0-8d85063fd096",
   "metadata": {
    "editable": true,
    "slideshow": {
     "slide_type": ""
    },
    "tags": [
     "thebe-init"
    ]
   },
   "outputs": [],
   "source": [
    "import ipywidgets as widgets\n",
    "from IPython.display import display, clear_output\n",
    "import json\n",
    "import sys\n",
    "import os\n",
    "import numpy as np\n",
    "import traceback\n",
    "from aidatareadiness import utils\n",
    "from aidatareadiness.utils import WIDGET_WIDTH, DESCRIPTION_STYLE, PLACEHOLDER  \n",
    "from aidatareadiness.checklist_auto import gridded "
   ]
  },
  {
   "cell_type": "markdown",
   "id": "1447f5aa-9ece-403a-8846-ce51e9092f16",
   "metadata": {},
   "source": [
    "## **Load Data**"
   ]
  },
  {
   "cell_type": "code",
   "execution_count": 29,
   "id": "3ed9518b-c3da-4be1-ae52-35b76e33e709",
   "metadata": {},
   "outputs": [
    {
     "data": {
      "text/html": [
       "<div><svg style=\"position: absolute; width: 0; height: 0; overflow: hidden\">\n",
       "<defs>\n",
       "<symbol id=\"icon-database\" viewBox=\"0 0 32 32\">\n",
       "<path d=\"M16 0c-8.837 0-16 2.239-16 5v4c0 2.761 7.163 5 16 5s16-2.239 16-5v-4c0-2.761-7.163-5-16-5z\"></path>\n",
       "<path d=\"M16 17c-8.837 0-16-2.239-16-5v6c0 2.761 7.163 5 16 5s16-2.239 16-5v-6c0 2.761-7.163 5-16 5z\"></path>\n",
       "<path d=\"M16 26c-8.837 0-16-2.239-16-5v6c0 2.761 7.163 5 16 5s16-2.239 16-5v-6c0 2.761-7.163 5-16 5z\"></path>\n",
       "</symbol>\n",
       "<symbol id=\"icon-file-text2\" viewBox=\"0 0 32 32\">\n",
       "<path d=\"M28.681 7.159c-0.694-0.947-1.662-2.053-2.724-3.116s-2.169-2.030-3.116-2.724c-1.612-1.182-2.393-1.319-2.841-1.319h-15.5c-1.378 0-2.5 1.121-2.5 2.5v27c0 1.378 1.122 2.5 2.5 2.5h23c1.378 0 2.5-1.122 2.5-2.5v-19.5c0-0.448-0.137-1.23-1.319-2.841zM24.543 5.457c0.959 0.959 1.712 1.825 2.268 2.543h-4.811v-4.811c0.718 0.556 1.584 1.309 2.543 2.268zM28 29.5c0 0.271-0.229 0.5-0.5 0.5h-23c-0.271 0-0.5-0.229-0.5-0.5v-27c0-0.271 0.229-0.5 0.5-0.5 0 0 15.499-0 15.5 0v7c0 0.552 0.448 1 1 1h7v19.5z\"></path>\n",
       "<path d=\"M23 26h-14c-0.552 0-1-0.448-1-1s0.448-1 1-1h14c0.552 0 1 0.448 1 1s-0.448 1-1 1z\"></path>\n",
       "<path d=\"M23 22h-14c-0.552 0-1-0.448-1-1s0.448-1 1-1h14c0.552 0 1 0.448 1 1s-0.448 1-1 1z\"></path>\n",
       "<path d=\"M23 18h-14c-0.552 0-1-0.448-1-1s0.448-1 1-1h14c0.552 0 1 0.448 1 1s-0.448 1-1 1z\"></path>\n",
       "</symbol>\n",
       "</defs>\n",
       "</svg>\n",
       "<style>/* CSS stylesheet for displaying xarray objects in jupyterlab.\n",
       " *\n",
       " */\n",
       "\n",
       ":root {\n",
       "  --xr-font-color0: var(--jp-content-font-color0, rgba(0, 0, 0, 1));\n",
       "  --xr-font-color2: var(--jp-content-font-color2, rgba(0, 0, 0, 0.54));\n",
       "  --xr-font-color3: var(--jp-content-font-color3, rgba(0, 0, 0, 0.38));\n",
       "  --xr-border-color: var(--jp-border-color2, #e0e0e0);\n",
       "  --xr-disabled-color: var(--jp-layout-color3, #bdbdbd);\n",
       "  --xr-background-color: var(--jp-layout-color0, white);\n",
       "  --xr-background-color-row-even: var(--jp-layout-color1, white);\n",
       "  --xr-background-color-row-odd: var(--jp-layout-color2, #eeeeee);\n",
       "}\n",
       "\n",
       "html[theme=\"dark\"],\n",
       "html[data-theme=\"dark\"],\n",
       "body[data-theme=\"dark\"],\n",
       "body.vscode-dark {\n",
       "  --xr-font-color0: rgba(255, 255, 255, 1);\n",
       "  --xr-font-color2: rgba(255, 255, 255, 0.54);\n",
       "  --xr-font-color3: rgba(255, 255, 255, 0.38);\n",
       "  --xr-border-color: #1f1f1f;\n",
       "  --xr-disabled-color: #515151;\n",
       "  --xr-background-color: #111111;\n",
       "  --xr-background-color-row-even: #111111;\n",
       "  --xr-background-color-row-odd: #313131;\n",
       "}\n",
       "\n",
       ".xr-wrap {\n",
       "  display: block !important;\n",
       "  min-width: 300px;\n",
       "  max-width: 700px;\n",
       "}\n",
       "\n",
       ".xr-text-repr-fallback {\n",
       "  /* fallback to plain text repr when CSS is not injected (untrusted notebook) */\n",
       "  display: none;\n",
       "}\n",
       "\n",
       ".xr-header {\n",
       "  padding-top: 6px;\n",
       "  padding-bottom: 6px;\n",
       "  margin-bottom: 4px;\n",
       "  border-bottom: solid 1px var(--xr-border-color);\n",
       "}\n",
       "\n",
       ".xr-header > div,\n",
       ".xr-header > ul {\n",
       "  display: inline;\n",
       "  margin-top: 0;\n",
       "  margin-bottom: 0;\n",
       "}\n",
       "\n",
       ".xr-obj-type,\n",
       ".xr-array-name {\n",
       "  margin-left: 2px;\n",
       "  margin-right: 10px;\n",
       "}\n",
       "\n",
       ".xr-obj-type {\n",
       "  color: var(--xr-font-color2);\n",
       "}\n",
       "\n",
       ".xr-sections {\n",
       "  padding-left: 0 !important;\n",
       "  display: grid;\n",
       "  grid-template-columns: 150px auto auto 1fr 0 20px 0 20px;\n",
       "}\n",
       "\n",
       ".xr-section-item {\n",
       "  display: contents;\n",
       "}\n",
       "\n",
       ".xr-section-item input {\n",
       "  display: inline-block;\n",
       "  opacity: 0;\n",
       "  height: 0;\n",
       "}\n",
       "\n",
       ".xr-section-item input + label {\n",
       "  color: var(--xr-disabled-color);\n",
       "}\n",
       "\n",
       ".xr-section-item input:enabled + label {\n",
       "  cursor: pointer;\n",
       "  color: var(--xr-font-color2);\n",
       "}\n",
       "\n",
       ".xr-section-item input:focus + label {\n",
       "  border: 2px solid var(--xr-font-color0);\n",
       "}\n",
       "\n",
       ".xr-section-item input:enabled + label:hover {\n",
       "  color: var(--xr-font-color0);\n",
       "}\n",
       "\n",
       ".xr-section-summary {\n",
       "  grid-column: 1;\n",
       "  color: var(--xr-font-color2);\n",
       "  font-weight: 500;\n",
       "}\n",
       "\n",
       ".xr-section-summary > span {\n",
       "  display: inline-block;\n",
       "  padding-left: 0.5em;\n",
       "}\n",
       "\n",
       ".xr-section-summary-in:disabled + label {\n",
       "  color: var(--xr-font-color2);\n",
       "}\n",
       "\n",
       ".xr-section-summary-in + label:before {\n",
       "  display: inline-block;\n",
       "  content: \"►\";\n",
       "  font-size: 11px;\n",
       "  width: 15px;\n",
       "  text-align: center;\n",
       "}\n",
       "\n",
       ".xr-section-summary-in:disabled + label:before {\n",
       "  color: var(--xr-disabled-color);\n",
       "}\n",
       "\n",
       ".xr-section-summary-in:checked + label:before {\n",
       "  content: \"▼\";\n",
       "}\n",
       "\n",
       ".xr-section-summary-in:checked + label > span {\n",
       "  display: none;\n",
       "}\n",
       "\n",
       ".xr-section-summary,\n",
       ".xr-section-inline-details {\n",
       "  padding-top: 4px;\n",
       "  padding-bottom: 4px;\n",
       "}\n",
       "\n",
       ".xr-section-inline-details {\n",
       "  grid-column: 2 / -1;\n",
       "}\n",
       "\n",
       ".xr-section-details {\n",
       "  display: none;\n",
       "  grid-column: 1 / -1;\n",
       "  margin-bottom: 5px;\n",
       "}\n",
       "\n",
       ".xr-section-summary-in:checked ~ .xr-section-details {\n",
       "  display: contents;\n",
       "}\n",
       "\n",
       ".xr-array-wrap {\n",
       "  grid-column: 1 / -1;\n",
       "  display: grid;\n",
       "  grid-template-columns: 20px auto;\n",
       "}\n",
       "\n",
       ".xr-array-wrap > label {\n",
       "  grid-column: 1;\n",
       "  vertical-align: top;\n",
       "}\n",
       "\n",
       ".xr-preview {\n",
       "  color: var(--xr-font-color3);\n",
       "}\n",
       "\n",
       ".xr-array-preview,\n",
       ".xr-array-data {\n",
       "  padding: 0 5px !important;\n",
       "  grid-column: 2;\n",
       "}\n",
       "\n",
       ".xr-array-data,\n",
       ".xr-array-in:checked ~ .xr-array-preview {\n",
       "  display: none;\n",
       "}\n",
       "\n",
       ".xr-array-in:checked ~ .xr-array-data,\n",
       ".xr-array-preview {\n",
       "  display: inline-block;\n",
       "}\n",
       "\n",
       ".xr-dim-list {\n",
       "  display: inline-block !important;\n",
       "  list-style: none;\n",
       "  padding: 0 !important;\n",
       "  margin: 0;\n",
       "}\n",
       "\n",
       ".xr-dim-list li {\n",
       "  display: inline-block;\n",
       "  padding: 0;\n",
       "  margin: 0;\n",
       "}\n",
       "\n",
       ".xr-dim-list:before {\n",
       "  content: \"(\";\n",
       "}\n",
       "\n",
       ".xr-dim-list:after {\n",
       "  content: \")\";\n",
       "}\n",
       "\n",
       ".xr-dim-list li:not(:last-child):after {\n",
       "  content: \",\";\n",
       "  padding-right: 5px;\n",
       "}\n",
       "\n",
       ".xr-has-index {\n",
       "  font-weight: bold;\n",
       "}\n",
       "\n",
       ".xr-var-list,\n",
       ".xr-var-item {\n",
       "  display: contents;\n",
       "}\n",
       "\n",
       ".xr-var-item > div,\n",
       ".xr-var-item label,\n",
       ".xr-var-item > .xr-var-name span {\n",
       "  background-color: var(--xr-background-color-row-even);\n",
       "  margin-bottom: 0;\n",
       "}\n",
       "\n",
       ".xr-var-item > .xr-var-name:hover span {\n",
       "  padding-right: 5px;\n",
       "}\n",
       "\n",
       ".xr-var-list > li:nth-child(odd) > div,\n",
       ".xr-var-list > li:nth-child(odd) > label,\n",
       ".xr-var-list > li:nth-child(odd) > .xr-var-name span {\n",
       "  background-color: var(--xr-background-color-row-odd);\n",
       "}\n",
       "\n",
       ".xr-var-name {\n",
       "  grid-column: 1;\n",
       "}\n",
       "\n",
       ".xr-var-dims {\n",
       "  grid-column: 2;\n",
       "}\n",
       "\n",
       ".xr-var-dtype {\n",
       "  grid-column: 3;\n",
       "  text-align: right;\n",
       "  color: var(--xr-font-color2);\n",
       "}\n",
       "\n",
       ".xr-var-preview {\n",
       "  grid-column: 4;\n",
       "}\n",
       "\n",
       ".xr-index-preview {\n",
       "  grid-column: 2 / 5;\n",
       "  color: var(--xr-font-color2);\n",
       "}\n",
       "\n",
       ".xr-var-name,\n",
       ".xr-var-dims,\n",
       ".xr-var-dtype,\n",
       ".xr-preview,\n",
       ".xr-attrs dt {\n",
       "  white-space: nowrap;\n",
       "  overflow: hidden;\n",
       "  text-overflow: ellipsis;\n",
       "  padding-right: 10px;\n",
       "}\n",
       "\n",
       ".xr-var-name:hover,\n",
       ".xr-var-dims:hover,\n",
       ".xr-var-dtype:hover,\n",
       ".xr-attrs dt:hover {\n",
       "  overflow: visible;\n",
       "  width: auto;\n",
       "  z-index: 1;\n",
       "}\n",
       "\n",
       ".xr-var-attrs,\n",
       ".xr-var-data,\n",
       ".xr-index-data {\n",
       "  display: none;\n",
       "  background-color: var(--xr-background-color) !important;\n",
       "  padding-bottom: 5px !important;\n",
       "}\n",
       "\n",
       ".xr-var-attrs-in:checked ~ .xr-var-attrs,\n",
       ".xr-var-data-in:checked ~ .xr-var-data,\n",
       ".xr-index-data-in:checked ~ .xr-index-data {\n",
       "  display: block;\n",
       "}\n",
       "\n",
       ".xr-var-data > table {\n",
       "  float: right;\n",
       "}\n",
       "\n",
       ".xr-var-name span,\n",
       ".xr-var-data,\n",
       ".xr-index-name div,\n",
       ".xr-index-data,\n",
       ".xr-attrs {\n",
       "  padding-left: 25px !important;\n",
       "}\n",
       "\n",
       ".xr-attrs,\n",
       ".xr-var-attrs,\n",
       ".xr-var-data,\n",
       ".xr-index-data {\n",
       "  grid-column: 1 / -1;\n",
       "}\n",
       "\n",
       "dl.xr-attrs {\n",
       "  padding: 0;\n",
       "  margin: 0;\n",
       "  display: grid;\n",
       "  grid-template-columns: 125px auto;\n",
       "}\n",
       "\n",
       ".xr-attrs dt,\n",
       ".xr-attrs dd {\n",
       "  padding: 0;\n",
       "  margin: 0;\n",
       "  float: left;\n",
       "  padding-right: 10px;\n",
       "  width: auto;\n",
       "}\n",
       "\n",
       ".xr-attrs dt {\n",
       "  font-weight: normal;\n",
       "  grid-column: 1;\n",
       "}\n",
       "\n",
       ".xr-attrs dt:hover span {\n",
       "  display: inline-block;\n",
       "  background: var(--xr-background-color);\n",
       "  padding-right: 10px;\n",
       "}\n",
       "\n",
       ".xr-attrs dd {\n",
       "  grid-column: 2;\n",
       "  white-space: pre-wrap;\n",
       "  word-break: break-all;\n",
       "}\n",
       "\n",
       ".xr-icon-database,\n",
       ".xr-icon-file-text2,\n",
       ".xr-no-icon {\n",
       "  display: inline-block;\n",
       "  vertical-align: middle;\n",
       "  width: 1em;\n",
       "  height: 1.5em !important;\n",
       "  stroke-width: 0;\n",
       "  stroke: currentColor;\n",
       "  fill: currentColor;\n",
       "}\n",
       "</style><pre class='xr-text-repr-fallback'>&lt;xarray.Dataset&gt; Size: 3GB\n",
       "Dimensions:            (Time: 1, lat: 2901, lon: 4608)\n",
       "Coordinates:\n",
       "    lat                (lat, lon) float32 53MB ...\n",
       "    lon                (lat, lon) float32 53MB ...\n",
       "Dimensions without coordinates: Time\n",
       "Data variables: (12/47)\n",
       "    FRC_URB2D          (Time, lat, lon) float32 53MB ...\n",
       "    HGT                (Time, lat, lon) float32 53MB ...\n",
       "    ISLTYP             (Time, lat, lon) float64 107MB ...\n",
       "    IVGTYP             (Time, lat, lon) float64 107MB ...\n",
       "    LU_INDEX           (Time, lat, lon) float32 53MB ...\n",
       "    Lambert_Conformal  int32 4B ...\n",
       "    ...                 ...\n",
       "    trad_max           (Time, lat, lon) float32 53MB ...\n",
       "    trad_min           (Time, lat, lon) float32 53MB ...\n",
       "    tsk                (Time, lat, lon) float32 53MB ...\n",
       "    tsk_max            (Time, lat, lon) float32 53MB ...\n",
       "    tsk_min            (Time, lat, lon) float32 53MB ...\n",
       "    wspd               (Time, lat, lon) float32 53MB ...\n",
       "Attributes: (12/50)\n",
       "    SIMULATION_START_DATE:           0000-00-00_00:00:00\n",
       "    WEST-EAST_GRID_DIMENSION:        4609\n",
       "    SOUTH-NORTH_GRID_DIMENSION:      3841\n",
       "    BOTTOM-TOP_GRID_DIMENSION:       0\n",
       "    WEST-EAST_PATCH_START_UNSTAG:    1\n",
       "    WEST-EAST_PATCH_END_UNSTAG:      4608\n",
       "    ...                              ...\n",
       "    FLAG_LAI12M:                     1\n",
       "    FLAG_LAKE_DEPTH:                 1\n",
       "    nco_openmp_thread_number:        1\n",
       "    NCO:                             netCDF Operators version 5.1.9 (Homepage...\n",
       "    TITLE:                           OUTPUT FROM GEOGRID V4.0.1\n",
       "    history:                         Mon Feb 26 06:10:43 2024: ncks -4 -L 1 c...</pre><div class='xr-wrap' style='display:none'><div class='xr-header'><div class='xr-obj-type'>xarray.Dataset</div></div><ul class='xr-sections'><li class='xr-section-item'><input id='section-afe9006d-9bfe-4d41-a079-926948874af8' class='xr-section-summary-in' type='checkbox' disabled ><label for='section-afe9006d-9bfe-4d41-a079-926948874af8' class='xr-section-summary'  title='Expand/collapse section'>Dimensions:</label><div class='xr-section-inline-details'><ul class='xr-dim-list'><li><span>Time</span>: 1</li><li><span>lat</span>: 2901</li><li><span>lon</span>: 4608</li></ul></div><div class='xr-section-details'></div></li><li class='xr-section-item'><input id='section-4b419668-9a1e-4881-bb52-61f1fc04373a' class='xr-section-summary-in' type='checkbox'  checked><label for='section-4b419668-9a1e-4881-bb52-61f1fc04373a' class='xr-section-summary' >Coordinates: <span>(2)</span></label><div class='xr-section-inline-details'></div><div class='xr-section-details'><ul class='xr-var-list'><li class='xr-var-item'><div class='xr-var-name'><span>lat</span></div><div class='xr-var-dims'>(lat, lon)</div><div class='xr-var-dtype'>float32</div><div class='xr-var-preview xr-preview'>...</div><input id='attrs-182dd87a-8102-44bb-8ecc-2e10b6319aa4' class='xr-var-attrs-in' type='checkbox' ><label for='attrs-182dd87a-8102-44bb-8ecc-2e10b6319aa4' title='Show/Hide attributes'><svg class='icon xr-icon-file-text2'><use xlink:href='#icon-file-text2'></use></svg></label><input id='data-f713c93e-cd07-4575-905f-19076f6980e8' class='xr-var-data-in' type='checkbox'><label for='data-f713c93e-cd07-4575-905f-19076f6980e8' title='Show/Hide data repr'><svg class='icon xr-icon-database'><use xlink:href='#icon-database'></use></svg></label><div class='xr-var-attrs'><dl class='xr-attrs'><dt><span>units :</span></dt><dd>degrees_north</dd><dt><span>long_name :</span></dt><dd>latitude coordinate</dd><dt><span>standard_name :</span></dt><dd>latitude</dd></dl></div><div class='xr-var-data'><pre>[13367808 values with dtype=float32]</pre></div></li><li class='xr-var-item'><div class='xr-var-name'><span>lon</span></div><div class='xr-var-dims'>(lat, lon)</div><div class='xr-var-dtype'>float32</div><div class='xr-var-preview xr-preview'>...</div><input id='attrs-7a0ff2b5-c9c2-4211-a09d-0e67115e29b6' class='xr-var-attrs-in' type='checkbox' ><label for='attrs-7a0ff2b5-c9c2-4211-a09d-0e67115e29b6' title='Show/Hide attributes'><svg class='icon xr-icon-file-text2'><use xlink:href='#icon-file-text2'></use></svg></label><input id='data-59d7911e-7a71-4af1-a649-0522f1af9e5b' class='xr-var-data-in' type='checkbox'><label for='data-59d7911e-7a71-4af1-a649-0522f1af9e5b' title='Show/Hide data repr'><svg class='icon xr-icon-database'><use xlink:href='#icon-database'></use></svg></label><div class='xr-var-attrs'><dl class='xr-attrs'><dt><span>units :</span></dt><dd>degrees_east</dd><dt><span>long_name :</span></dt><dd>longitude coordinate</dd><dt><span>standard_name :</span></dt><dd>longitude</dd></dl></div><div class='xr-var-data'><pre>[13367808 values with dtype=float32]</pre></div></li></ul></div></li><li class='xr-section-item'><input id='section-8fe39e53-2728-4855-8560-064c037ee3e3' class='xr-section-summary-in' type='checkbox'  ><label for='section-8fe39e53-2728-4855-8560-064c037ee3e3' class='xr-section-summary' >Data variables: <span>(47)</span></label><div class='xr-section-inline-details'></div><div class='xr-section-details'><ul class='xr-var-list'><li class='xr-var-item'><div class='xr-var-name'><span>FRC_URB2D</span></div><div class='xr-var-dims'>(Time, lat, lon)</div><div class='xr-var-dtype'>float32</div><div class='xr-var-preview xr-preview'>...</div><input id='attrs-c3509e5b-2d75-4c5d-8b84-03723e56aa93' class='xr-var-attrs-in' type='checkbox' ><label for='attrs-c3509e5b-2d75-4c5d-8b84-03723e56aa93' title='Show/Hide attributes'><svg class='icon xr-icon-file-text2'><use xlink:href='#icon-file-text2'></use></svg></label><input id='data-f79089ba-0183-40ff-b554-f6575be5f6c7' class='xr-var-data-in' type='checkbox'><label for='data-f79089ba-0183-40ff-b554-f6575be5f6c7' title='Show/Hide data repr'><svg class='icon xr-icon-database'><use xlink:href='#icon-database'></use></svg></label><div class='xr-var-attrs'><dl class='xr-attrs'><dt><span>MemoryOrder :</span></dt><dd>XY </dd><dt><span>FieldType :</span></dt><dd>104</dd><dt><span>units :</span></dt><dd>unitless</dd><dt><span>stagger :</span></dt><dd>M</dd><dt><span>sr_y :</span></dt><dd>1</dd><dt><span>description :</span></dt><dd>urban fraction</dd><dt><span>sr_x :</span></dt><dd>1</dd></dl></div><div class='xr-var-data'><pre>[13367808 values with dtype=float32]</pre></div></li><li class='xr-var-item'><div class='xr-var-name'><span>HGT</span></div><div class='xr-var-dims'>(Time, lat, lon)</div><div class='xr-var-dtype'>float32</div><div class='xr-var-preview xr-preview'>...</div><input id='attrs-b02130f0-3e97-4be3-96cc-67398a776b01' class='xr-var-attrs-in' type='checkbox' ><label for='attrs-b02130f0-3e97-4be3-96cc-67398a776b01' title='Show/Hide attributes'><svg class='icon xr-icon-file-text2'><use xlink:href='#icon-file-text2'></use></svg></label><input id='data-3d79e607-f899-470a-b2ef-e8e586ffdcee' class='xr-var-data-in' type='checkbox'><label for='data-3d79e607-f899-470a-b2ef-e8e586ffdcee' title='Show/Hide data repr'><svg class='icon xr-icon-database'><use xlink:href='#icon-database'></use></svg></label><div class='xr-var-attrs'><dl class='xr-attrs'><dt><span>MemoryOrder :</span></dt><dd>XY </dd><dt><span>FieldType :</span></dt><dd>104</dd><dt><span>units :</span></dt><dd>meters MSL</dd><dt><span>stagger :</span></dt><dd>M</dd><dt><span>sr_y :</span></dt><dd>1</dd><dt><span>description :</span></dt><dd>Topography height</dd><dt><span>sr_x :</span></dt><dd>1</dd></dl></div><div class='xr-var-data'><pre>[13367808 values with dtype=float32]</pre></div></li><li class='xr-var-item'><div class='xr-var-name'><span>ISLTYP</span></div><div class='xr-var-dims'>(Time, lat, lon)</div><div class='xr-var-dtype'>float64</div><div class='xr-var-preview xr-preview'>...</div><input id='attrs-5c8accc5-8a6b-4efb-9288-a422d145b2ce' class='xr-var-attrs-in' type='checkbox' ><label for='attrs-5c8accc5-8a6b-4efb-9288-a422d145b2ce' title='Show/Hide attributes'><svg class='icon xr-icon-file-text2'><use xlink:href='#icon-file-text2'></use></svg></label><input id='data-d2c42b62-8be6-4dc3-9baa-29041106dd9f' class='xr-var-data-in' type='checkbox'><label for='data-d2c42b62-8be6-4dc3-9baa-29041106dd9f' title='Show/Hide data repr'><svg class='icon xr-icon-database'><use xlink:href='#icon-database'></use></svg></label><div class='xr-var-attrs'><dl class='xr-attrs'><dt><span>MemoryOrder :</span></dt><dd>XY </dd><dt><span>FieldType :</span></dt><dd>104</dd><dt><span>units :</span></dt><dd>category</dd><dt><span>stagger :</span></dt><dd>M</dd><dt><span>grid_mapping :</span></dt><dd>lambert_conformal_conic</dd><dt><span>sr_y :</span></dt><dd>1</dd><dt><span>description :</span></dt><dd>Dominant category</dd><dt><span>sr_x :</span></dt><dd>1</dd></dl></div><div class='xr-var-data'><pre>[13367808 values with dtype=float64]</pre></div></li><li class='xr-var-item'><div class='xr-var-name'><span>IVGTYP</span></div><div class='xr-var-dims'>(Time, lat, lon)</div><div class='xr-var-dtype'>float64</div><div class='xr-var-preview xr-preview'>...</div><input id='attrs-f8587667-2280-4622-ad90-238cf65b6ebd' class='xr-var-attrs-in' type='checkbox' ><label for='attrs-f8587667-2280-4622-ad90-238cf65b6ebd' title='Show/Hide attributes'><svg class='icon xr-icon-file-text2'><use xlink:href='#icon-file-text2'></use></svg></label><input id='data-32598678-eb3c-4e3d-b269-28bbc6023a5a' class='xr-var-data-in' type='checkbox'><label for='data-32598678-eb3c-4e3d-b269-28bbc6023a5a' title='Show/Hide data repr'><svg class='icon xr-icon-database'><use xlink:href='#icon-database'></use></svg></label><div class='xr-var-attrs'><dl class='xr-attrs'><dt><span>MemoryOrder :</span></dt><dd>XY </dd><dt><span>FieldType :</span></dt><dd>104</dd><dt><span>units :</span></dt><dd>category</dd><dt><span>stagger :</span></dt><dd>M</dd><dt><span>grid_mapping :</span></dt><dd>lambert_conformal_conic</dd><dt><span>sr_y :</span></dt><dd>1</dd><dt><span>description :</span></dt><dd>Dominant category</dd><dt><span>sr_x :</span></dt><dd>1</dd></dl></div><div class='xr-var-data'><pre>[13367808 values with dtype=float64]</pre></div></li><li class='xr-var-item'><div class='xr-var-name'><span>LU_INDEX</span></div><div class='xr-var-dims'>(Time, lat, lon)</div><div class='xr-var-dtype'>float32</div><div class='xr-var-preview xr-preview'>...</div><input id='attrs-1185622a-cc34-4eaf-996c-7bb61774fe55' class='xr-var-attrs-in' type='checkbox' ><label for='attrs-1185622a-cc34-4eaf-996c-7bb61774fe55' title='Show/Hide attributes'><svg class='icon xr-icon-file-text2'><use xlink:href='#icon-file-text2'></use></svg></label><input id='data-2805af2b-56ba-4053-9899-9385451157e9' class='xr-var-data-in' type='checkbox'><label for='data-2805af2b-56ba-4053-9899-9385451157e9' title='Show/Hide data repr'><svg class='icon xr-icon-database'><use xlink:href='#icon-database'></use></svg></label><div class='xr-var-attrs'><dl class='xr-attrs'><dt><span>MemoryOrder :</span></dt><dd>XY </dd><dt><span>FieldType :</span></dt><dd>104</dd><dt><span>units :</span></dt><dd>category</dd><dt><span>stagger :</span></dt><dd>M</dd><dt><span>sr_y :</span></dt><dd>1</dd><dt><span>description :</span></dt><dd>Dominant category</dd><dt><span>sr_x :</span></dt><dd>1</dd></dl></div><div class='xr-var-data'><pre>[13367808 values with dtype=float32]</pre></div></li><li class='xr-var-item'><div class='xr-var-name'><span>Lambert_Conformal</span></div><div class='xr-var-dims'>()</div><div class='xr-var-dtype'>int32</div><div class='xr-var-preview xr-preview'>...</div><input id='attrs-14c0fadb-768f-46a9-9e04-ce7235328206' class='xr-var-attrs-in' type='checkbox' ><label for='attrs-14c0fadb-768f-46a9-9e04-ce7235328206' title='Show/Hide attributes'><svg class='icon xr-icon-file-text2'><use xlink:href='#icon-file-text2'></use></svg></label><input id='data-b471996d-09b8-43c8-a3bf-3b09320526dd' class='xr-var-data-in' type='checkbox'><label for='data-b471996d-09b8-43c8-a3bf-3b09320526dd' title='Show/Hide data repr'><svg class='icon xr-icon-database'><use xlink:href='#icon-database'></use></svg></label><div class='xr-var-attrs'><dl class='xr-attrs'><dt><span>grid_mapping_name :</span></dt><dd>lambert_conformal_conic</dd><dt><span>hemisphere :</span></dt><dd>N</dd><dt><span>scale_lat_1 :</span></dt><dd>30.0</dd><dt><span>scale_lat_2 :</span></dt><dd>60.0</dd><dt><span>lat_pin :</span></dt><dd>40.00001</dd><dt><span>lon_pin :</span></dt><dd>-97.0</dd><dt><span>x_pin :</span></dt><dd>2304.0</dd><dt><span>lon_orient :</span></dt><dd>-97.0</dd><dt><span>d_km :</span></dt><dd>1.0</dd><dt><span>r_km :</span></dt><dd>6371.2</dd><dt><span>nx :</span></dt><dd>4608.0</dd><dt><span>ny :</span></dt><dd>2901.0</dd><dt><span>y_pin :</span></dt><dd>1450.5</dd></dl></div><div class='xr-var-data'><pre>[1 values with dtype=int32]</pre></div></li><li class='xr-var-item'><div class='xr-var-name'><span>Times</span></div><div class='xr-var-dims'>(Time)</div><div class='xr-var-dtype'>object</div><div class='xr-var-preview xr-preview'>...</div><input id='attrs-881d5493-9e01-46ea-aee1-982061523117' class='xr-var-attrs-in' type='checkbox' disabled><label for='attrs-881d5493-9e01-46ea-aee1-982061523117' title='Show/Hide attributes'><svg class='icon xr-icon-file-text2'><use xlink:href='#icon-file-text2'></use></svg></label><input id='data-2adb5502-cc44-4c89-b529-42e770d5a0a0' class='xr-var-data-in' type='checkbox'><label for='data-2adb5502-cc44-4c89-b529-42e770d5a0a0' title='Show/Hide data repr'><svg class='icon xr-icon-database'><use xlink:href='#icon-database'></use></svg></label><div class='xr-var-attrs'><dl class='xr-attrs'></dl></div><div class='xr-var-data'><pre>[1 values with dtype=object]</pre></div></li><li class='xr-var-item'><div class='xr-var-name'><span>URB_CAT</span></div><div class='xr-var-dims'>(Time, lat, lon)</div><div class='xr-var-dtype'>float32</div><div class='xr-var-preview xr-preview'>...</div><input id='attrs-5c0730f4-0107-4bcc-ba98-ef177399151d' class='xr-var-attrs-in' type='checkbox' ><label for='attrs-5c0730f4-0107-4bcc-ba98-ef177399151d' title='Show/Hide attributes'><svg class='icon xr-icon-file-text2'><use xlink:href='#icon-file-text2'></use></svg></label><input id='data-0e066a95-0880-4565-b6e9-24e5030a7016' class='xr-var-data-in' type='checkbox'><label for='data-0e066a95-0880-4565-b6e9-24e5030a7016' title='Show/Hide data repr'><svg class='icon xr-icon-database'><use xlink:href='#icon-database'></use></svg></label><div class='xr-var-attrs'><dl class='xr-attrs'><dt><span>MemoryOrder :</span></dt><dd>XY </dd><dt><span>FieldType :</span></dt><dd>104</dd><dt><span>units :</span></dt><dd>unitless</dd><dt><span>stagger :</span></dt><dd>M</dd><dt><span>sr_y :</span></dt><dd>1</dd><dt><span>description :</span></dt><dd>Dominant Urban Category</dd><dt><span>sr_x :</span></dt><dd>1</dd></dl></div><div class='xr-var-data'><pre>[13367808 values with dtype=float32]</pre></div></li><li class='xr-var-item'><div class='xr-var-name'><span>hfx</span></div><div class='xr-var-dims'>(Time, lat, lon)</div><div class='xr-var-dtype'>float32</div><div class='xr-var-preview xr-preview'>...</div><input id='attrs-7047b88b-9be5-4685-b7cf-902f5c3e6f2c' class='xr-var-attrs-in' type='checkbox' ><label for='attrs-7047b88b-9be5-4685-b7cf-902f5c3e6f2c' title='Show/Hide attributes'><svg class='icon xr-icon-file-text2'><use xlink:href='#icon-file-text2'></use></svg></label><input id='data-0b4b1bed-f6af-4970-853c-e486822c1fd4' class='xr-var-data-in' type='checkbox'><label for='data-0b4b1bed-f6af-4970-853c-e486822c1fd4' title='Show/Hide data repr'><svg class='icon xr-icon-database'><use xlink:href='#icon-database'></use></svg></label><div class='xr-var-attrs'><dl class='xr-attrs'><dt><span>MemoryOrder :</span></dt><dd>XY</dd><dt><span>description :</span></dt><dd>Daily mean sensible heat to atmosphere</dd><dt><span>units :</span></dt><dd>W m{-2}</dd><dt><span>stagger :</span></dt><dd>-</dd></dl></div><div class='xr-var-data'><pre>[13367808 values with dtype=float32]</pre></div></li><li class='xr-var-item'><div class='xr-var-name'><span>lh</span></div><div class='xr-var-dims'>(Time, lat, lon)</div><div class='xr-var-dtype'>float32</div><div class='xr-var-preview xr-preview'>...</div><input id='attrs-b9811faf-ba89-4b33-8f46-008d45f01bcb' class='xr-var-attrs-in' type='checkbox' ><label for='attrs-b9811faf-ba89-4b33-8f46-008d45f01bcb' title='Show/Hide attributes'><svg class='icon xr-icon-file-text2'><use xlink:href='#icon-file-text2'></use></svg></label><input id='data-af473ae2-583b-46f0-996b-1a1c56ae3656' class='xr-var-data-in' type='checkbox'><label for='data-af473ae2-583b-46f0-996b-1a1c56ae3656' title='Show/Hide data repr'><svg class='icon xr-icon-database'><use xlink:href='#icon-database'></use></svg></label><div class='xr-var-attrs'><dl class='xr-attrs'><dt><span>MemoryOrder :</span></dt><dd>XY</dd><dt><span>description :</span></dt><dd>Daily mean latent heat to atmosphere</dd><dt><span>units :</span></dt><dd>W m{-2}</dd><dt><span>stagger :</span></dt><dd>-</dd></dl></div><div class='xr-var-data'><pre>[13367808 values with dtype=float32]</pre></div></li><li class='xr-var-item'><div class='xr-var-name'><span>lwforc</span></div><div class='xr-var-dims'>(Time, lat, lon)</div><div class='xr-var-dtype'>float32</div><div class='xr-var-preview xr-preview'>...</div><input id='attrs-7dce0da5-0f6a-4992-8c11-9119f1a0481c' class='xr-var-attrs-in' type='checkbox' ><label for='attrs-7dce0da5-0f6a-4992-8c11-9119f1a0481c' title='Show/Hide attributes'><svg class='icon xr-icon-file-text2'><use xlink:href='#icon-file-text2'></use></svg></label><input id='data-59c9b0bb-cad3-4b28-ad25-c9544f443fb0' class='xr-var-data-in' type='checkbox'><label for='data-59c9b0bb-cad3-4b28-ad25-c9544f443fb0' title='Show/Hide data repr'><svg class='icon xr-icon-database'><use xlink:href='#icon-database'></use></svg></label><div class='xr-var-attrs'><dl class='xr-attrs'><dt><span>MemoryOrder :</span></dt><dd>XY</dd><dt><span>description :</span></dt><dd>Daily mean longwave forcing</dd><dt><span>units :</span></dt><dd>W m{-2}</dd><dt><span>stagger :</span></dt><dd>-</dd></dl></div><div class='xr-var-data'><pre>[13367808 values with dtype=float32]</pre></div></li><li class='xr-var-item'><div class='xr-var-name'><span>q2</span></div><div class='xr-var-dims'>(Time, lat, lon)</div><div class='xr-var-dtype'>float32</div><div class='xr-var-preview xr-preview'>...</div><input id='attrs-ac0ec292-a098-4c8b-8b05-146c878dd259' class='xr-var-attrs-in' type='checkbox' ><label for='attrs-ac0ec292-a098-4c8b-8b05-146c878dd259' title='Show/Hide attributes'><svg class='icon xr-icon-file-text2'><use xlink:href='#icon-file-text2'></use></svg></label><input id='data-a9c417d5-7e18-4851-b674-8509833a9900' class='xr-var-data-in' type='checkbox'><label for='data-a9c417d5-7e18-4851-b674-8509833a9900' title='Show/Hide data repr'><svg class='icon xr-icon-database'><use xlink:href='#icon-database'></use></svg></label><div class='xr-var-attrs'><dl class='xr-attrs'><dt><span>MemoryOrder :</span></dt><dd>XY</dd><dt><span>description :</span></dt><dd>Daily mean veg and urban weighted 2-m diagnostic spec. humidity</dd><dt><span>units :</span></dt><dd>kg/kg</dd><dt><span>stagger :</span></dt><dd>-</dd></dl></div><div class='xr-var-data'><pre>[13367808 values with dtype=float32]</pre></div></li><li class='xr-var-item'><div class='xr-var-name'><span>q2_max</span></div><div class='xr-var-dims'>(Time, lat, lon)</div><div class='xr-var-dtype'>float32</div><div class='xr-var-preview xr-preview'>...</div><input id='attrs-44f3e003-e9c3-42d5-9279-903cb5a8783e' class='xr-var-attrs-in' type='checkbox' ><label for='attrs-44f3e003-e9c3-42d5-9279-903cb5a8783e' title='Show/Hide attributes'><svg class='icon xr-icon-file-text2'><use xlink:href='#icon-file-text2'></use></svg></label><input id='data-ce70e81e-6cfd-4725-be34-c3892995cb10' class='xr-var-data-in' type='checkbox'><label for='data-ce70e81e-6cfd-4725-be34-c3892995cb10' title='Show/Hide data repr'><svg class='icon xr-icon-database'><use xlink:href='#icon-database'></use></svg></label><div class='xr-var-attrs'><dl class='xr-attrs'><dt><span>MemoryOrder :</span></dt><dd>XY</dd><dt><span>description :</span></dt><dd>Daily maximum veg and urban weighted 2-m diagnostic spec. humidity</dd><dt><span>units :</span></dt><dd>kg/kg</dd><dt><span>stagger :</span></dt><dd>-</dd></dl></div><div class='xr-var-data'><pre>[13367808 values with dtype=float32]</pre></div></li><li class='xr-var-item'><div class='xr-var-name'><span>q2_min</span></div><div class='xr-var-dims'>(Time, lat, lon)</div><div class='xr-var-dtype'>float32</div><div class='xr-var-preview xr-preview'>...</div><input id='attrs-2213e60b-30de-4788-a7bb-70b633cd5953' class='xr-var-attrs-in' type='checkbox' ><label for='attrs-2213e60b-30de-4788-a7bb-70b633cd5953' title='Show/Hide attributes'><svg class='icon xr-icon-file-text2'><use xlink:href='#icon-file-text2'></use></svg></label><input id='data-8c66e08a-ccde-41a9-9fd5-1cd2453e5c48' class='xr-var-data-in' type='checkbox'><label for='data-8c66e08a-ccde-41a9-9fd5-1cd2453e5c48' title='Show/Hide data repr'><svg class='icon xr-icon-database'><use xlink:href='#icon-database'></use></svg></label><div class='xr-var-attrs'><dl class='xr-attrs'><dt><span>MemoryOrder :</span></dt><dd>XY</dd><dt><span>description :</span></dt><dd>Daily minimum veg and urban weighted 2-m diagnostic spec. humidity</dd><dt><span>units :</span></dt><dd>kg/kg</dd><dt><span>stagger :</span></dt><dd>-</dd></dl></div><div class='xr-var-data'><pre>[13367808 values with dtype=float32]</pre></div></li><li class='xr-var-item'><div class='xr-var-name'><span>q2_urb2d</span></div><div class='xr-var-dims'>(Time, lat, lon)</div><div class='xr-var-dtype'>float32</div><div class='xr-var-preview xr-preview'>...</div><input id='attrs-1dc8a3e3-6615-4d1b-8f3b-03e0652cf7ed' class='xr-var-attrs-in' type='checkbox' ><label for='attrs-1dc8a3e3-6615-4d1b-8f3b-03e0652cf7ed' title='Show/Hide attributes'><svg class='icon xr-icon-file-text2'><use xlink:href='#icon-file-text2'></use></svg></label><input id='data-2326289b-ded5-483a-83eb-69f7abac2f73' class='xr-var-data-in' type='checkbox'><label for='data-2326289b-ded5-483a-83eb-69f7abac2f73' title='Show/Hide data repr'><svg class='icon xr-icon-database'><use xlink:href='#icon-database'></use></svg></label><div class='xr-var-attrs'><dl class='xr-attrs'><dt><span>MemoryOrder :</span></dt><dd>XY</dd><dt><span>description :</span></dt><dd>Daily mean urban 2-m diagnostic spec. humidity</dd><dt><span>units :</span></dt><dd>kg/kg</dd><dt><span>stagger :</span></dt><dd>-</dd></dl></div><div class='xr-var-data'><pre>[13367808 values with dtype=float32]</pre></div></li><li class='xr-var-item'><div class='xr-var-name'><span>q2_urb2d_max</span></div><div class='xr-var-dims'>(Time, lat, lon)</div><div class='xr-var-dtype'>float32</div><div class='xr-var-preview xr-preview'>...</div><input id='attrs-8a07e7ef-e03a-4591-94f7-9c52ef6871b7' class='xr-var-attrs-in' type='checkbox' ><label for='attrs-8a07e7ef-e03a-4591-94f7-9c52ef6871b7' title='Show/Hide attributes'><svg class='icon xr-icon-file-text2'><use xlink:href='#icon-file-text2'></use></svg></label><input id='data-bf90ff03-1c6e-4dca-a59c-79a3d97be0d7' class='xr-var-data-in' type='checkbox'><label for='data-bf90ff03-1c6e-4dca-a59c-79a3d97be0d7' title='Show/Hide data repr'><svg class='icon xr-icon-database'><use xlink:href='#icon-database'></use></svg></label><div class='xr-var-attrs'><dl class='xr-attrs'><dt><span>MemoryOrder :</span></dt><dd>XY</dd><dt><span>description :</span></dt><dd>Daily maximum urban 2-m diagnostic spec. humidity</dd><dt><span>units :</span></dt><dd>kg/kg</dd><dt><span>stagger :</span></dt><dd>-</dd></dl></div><div class='xr-var-data'><pre>[13367808 values with dtype=float32]</pre></div></li><li class='xr-var-item'><div class='xr-var-name'><span>q2_urb2d_min</span></div><div class='xr-var-dims'>(Time, lat, lon)</div><div class='xr-var-dtype'>float32</div><div class='xr-var-preview xr-preview'>...</div><input id='attrs-6281180b-504d-4400-be8a-587bebf77a75' class='xr-var-attrs-in' type='checkbox' ><label for='attrs-6281180b-504d-4400-be8a-587bebf77a75' title='Show/Hide attributes'><svg class='icon xr-icon-file-text2'><use xlink:href='#icon-file-text2'></use></svg></label><input id='data-19101e64-2143-4c40-94c3-7cc7022a9ca2' class='xr-var-data-in' type='checkbox'><label for='data-19101e64-2143-4c40-94c3-7cc7022a9ca2' title='Show/Hide data repr'><svg class='icon xr-icon-database'><use xlink:href='#icon-database'></use></svg></label><div class='xr-var-attrs'><dl class='xr-attrs'><dt><span>MemoryOrder :</span></dt><dd>XY</dd><dt><span>description :</span></dt><dd>Daily minimum urban 2-m diagnostic spec. humidity</dd><dt><span>units :</span></dt><dd>kg/kg</dd><dt><span>stagger :</span></dt><dd>-</dd></dl></div><div class='xr-var-data'><pre>[13367808 values with dtype=float32]</pre></div></li><li class='xr-var-item'><div class='xr-var-name'><span>rainrate</span></div><div class='xr-var-dims'>(Time, lat, lon)</div><div class='xr-var-dtype'>float32</div><div class='xr-var-preview xr-preview'>...</div><input id='attrs-883b68b2-f97a-4dc2-b1fd-fb0adc3043be' class='xr-var-attrs-in' type='checkbox' ><label for='attrs-883b68b2-f97a-4dc2-b1fd-fb0adc3043be' title='Show/Hide attributes'><svg class='icon xr-icon-file-text2'><use xlink:href='#icon-file-text2'></use></svg></label><input id='data-b26f23cb-0179-4e96-bd31-fa3d053a121b' class='xr-var-data-in' type='checkbox'><label for='data-b26f23cb-0179-4e96-bd31-fa3d053a121b' title='Show/Hide data repr'><svg class='icon xr-icon-database'><use xlink:href='#icon-database'></use></svg></label><div class='xr-var-attrs'><dl class='xr-attrs'><dt><span>MemoryOrder :</span></dt><dd>XY</dd><dt><span>description :</span></dt><dd>Daily mean precipitation rate</dd><dt><span>units :</span></dt><dd>kg m{-2} s{-1}</dd><dt><span>stagger :</span></dt><dd>-</dd></dl></div><div class='xr-var-data'><pre>[13367808 values with dtype=float32]</pre></div></li><li class='xr-var-item'><div class='xr-var-name'><span>swforc</span></div><div class='xr-var-dims'>(Time, lat, lon)</div><div class='xr-var-dtype'>float32</div><div class='xr-var-preview xr-preview'>...</div><input id='attrs-7e27f0a8-c24b-4183-9f66-21174bc09423' class='xr-var-attrs-in' type='checkbox' ><label for='attrs-7e27f0a8-c24b-4183-9f66-21174bc09423' title='Show/Hide attributes'><svg class='icon xr-icon-file-text2'><use xlink:href='#icon-file-text2'></use></svg></label><input id='data-8e034dc9-8d14-4102-b399-18304b39b30b' class='xr-var-data-in' type='checkbox'><label for='data-8e034dc9-8d14-4102-b399-18304b39b30b' title='Show/Hide data repr'><svg class='icon xr-icon-database'><use xlink:href='#icon-database'></use></svg></label><div class='xr-var-attrs'><dl class='xr-attrs'><dt><span>MemoryOrder :</span></dt><dd>XY</dd><dt><span>description :</span></dt><dd>Daily mean shortwave forcing</dd><dt><span>units :</span></dt><dd>W m{-2}</dd><dt><span>stagger :</span></dt><dd>-</dd></dl></div><div class='xr-var-data'><pre>[13367808 values with dtype=float32]</pre></div></li><li class='xr-var-item'><div class='xr-var-name'><span>t2_max_BC</span></div><div class='xr-var-dims'>(Time, lat, lon)</div><div class='xr-var-dtype'>float32</div><div class='xr-var-preview xr-preview'>...</div><input id='attrs-db56c793-d8e5-4f3e-bc1d-dc4e7f2146b9' class='xr-var-attrs-in' type='checkbox' ><label for='attrs-db56c793-d8e5-4f3e-bc1d-dc4e7f2146b9' title='Show/Hide attributes'><svg class='icon xr-icon-file-text2'><use xlink:href='#icon-file-text2'></use></svg></label><input id='data-40242ee8-10f7-4fb9-954b-e5f0baa8e2ec' class='xr-var-data-in' type='checkbox'><label for='data-40242ee8-10f7-4fb9-954b-e5f0baa8e2ec' title='Show/Hide data repr'><svg class='icon xr-icon-database'><use xlink:href='#icon-database'></use></svg></label><div class='xr-var-attrs'><dl class='xr-attrs'><dt><span>long_name :</span></dt><dd>Maximum Temperature Adjust</dd><dt><span>units :</span></dt><dd>K</dd><dt><span>grid_mapping :</span></dt><dd>Lambert_Conformal</dd></dl></div><div class='xr-var-data'><pre>[13367808 values with dtype=float32]</pre></div></li><li class='xr-var-item'><div class='xr-var-name'><span>t2_max_raw</span></div><div class='xr-var-dims'>(Time, lat, lon)</div><div class='xr-var-dtype'>float32</div><div class='xr-var-preview xr-preview'>...</div><input id='attrs-cc532511-59c5-4b2d-bd8e-7d3d8c8e249c' class='xr-var-attrs-in' type='checkbox' ><label for='attrs-cc532511-59c5-4b2d-bd8e-7d3d8c8e249c' title='Show/Hide attributes'><svg class='icon xr-icon-file-text2'><use xlink:href='#icon-file-text2'></use></svg></label><input id='data-9f39a672-1b72-43fe-84bd-964f3e5229f6' class='xr-var-data-in' type='checkbox'><label for='data-9f39a672-1b72-43fe-84bd-964f3e5229f6' title='Show/Hide data repr'><svg class='icon xr-icon-database'><use xlink:href='#icon-database'></use></svg></label><div class='xr-var-attrs'><dl class='xr-attrs'><dt><span>long_name :</span></dt><dd>Unadjusted Temperature Maximum</dd><dt><span>units :</span></dt><dd>K</dd><dt><span>grid_mapping :</span></dt><dd>Lambert_Conformal</dd></dl></div><div class='xr-var-data'><pre>[13367808 values with dtype=float32]</pre></div></li><li class='xr-var-item'><div class='xr-var-name'><span>t2_min_BC</span></div><div class='xr-var-dims'>(Time, lat, lon)</div><div class='xr-var-dtype'>float32</div><div class='xr-var-preview xr-preview'>...</div><input id='attrs-c980af6d-cbd5-495e-9d58-51966fc40552' class='xr-var-attrs-in' type='checkbox' ><label for='attrs-c980af6d-cbd5-495e-9d58-51966fc40552' title='Show/Hide attributes'><svg class='icon xr-icon-file-text2'><use xlink:href='#icon-file-text2'></use></svg></label><input id='data-332ecc6a-32fb-4bc0-ae35-2f7a4cedbbbb' class='xr-var-data-in' type='checkbox'><label for='data-332ecc6a-32fb-4bc0-ae35-2f7a4cedbbbb' title='Show/Hide data repr'><svg class='icon xr-icon-database'><use xlink:href='#icon-database'></use></svg></label><div class='xr-var-attrs'><dl class='xr-attrs'><dt><span>long_name :</span></dt><dd>Minimum Temperature Adjust</dd><dt><span>units :</span></dt><dd>K</dd><dt><span>grid_mapping :</span></dt><dd>Lambert_Conformal</dd></dl></div><div class='xr-var-data'><pre>[13367808 values with dtype=float32]</pre></div></li><li class='xr-var-item'><div class='xr-var-name'><span>t2_min_raw</span></div><div class='xr-var-dims'>(Time, lat, lon)</div><div class='xr-var-dtype'>float32</div><div class='xr-var-preview xr-preview'>...</div><input id='attrs-e57cdd25-8fb7-474d-b18d-9d2e5b6a4c16' class='xr-var-attrs-in' type='checkbox' ><label for='attrs-e57cdd25-8fb7-474d-b18d-9d2e5b6a4c16' title='Show/Hide attributes'><svg class='icon xr-icon-file-text2'><use xlink:href='#icon-file-text2'></use></svg></label><input id='data-13c5316f-f2ec-4fde-bfb4-6e5beb0d8c63' class='xr-var-data-in' type='checkbox'><label for='data-13c5316f-f2ec-4fde-bfb4-6e5beb0d8c63' title='Show/Hide data repr'><svg class='icon xr-icon-database'><use xlink:href='#icon-database'></use></svg></label><div class='xr-var-attrs'><dl class='xr-attrs'><dt><span>units :</span></dt><dd>K</dd><dt><span>long_name :</span></dt><dd>Unadjusted Temperature Minimum</dd><dt><span>grid_mapping :</span></dt><dd>Lambert_Conformal</dd></dl></div><div class='xr-var-data'><pre>[13367808 values with dtype=float32]</pre></div></li><li class='xr-var-item'><div class='xr-var-name'><span>t2_raw</span></div><div class='xr-var-dims'>(Time, lat, lon)</div><div class='xr-var-dtype'>float32</div><div class='xr-var-preview xr-preview'>...</div><input id='attrs-e86f6c0a-7157-46fe-b257-c8d2dbb916a4' class='xr-var-attrs-in' type='checkbox' ><label for='attrs-e86f6c0a-7157-46fe-b257-c8d2dbb916a4' title='Show/Hide attributes'><svg class='icon xr-icon-file-text2'><use xlink:href='#icon-file-text2'></use></svg></label><input id='data-07c29f18-d50b-4af6-9075-5f19dfc97a3b' class='xr-var-data-in' type='checkbox'><label for='data-07c29f18-d50b-4af6-9075-5f19dfc97a3b' title='Show/Hide data repr'><svg class='icon xr-icon-database'><use xlink:href='#icon-database'></use></svg></label><div class='xr-var-attrs'><dl class='xr-attrs'><dt><span>MemoryOrder :</span></dt><dd>XY</dd><dt><span>description :</span></dt><dd>Daily mean veg and urban weighted 2-m diagnostic temperature</dd><dt><span>units :</span></dt><dd>K</dd><dt><span>stagger :</span></dt><dd>-</dd></dl></div><div class='xr-var-data'><pre>[13367808 values with dtype=float32]</pre></div></li><li class='xr-var-item'><div class='xr-var-name'><span>tb_urb2d</span></div><div class='xr-var-dims'>(Time, lat, lon)</div><div class='xr-var-dtype'>float32</div><div class='xr-var-preview xr-preview'>...</div><input id='attrs-ae64691f-b897-450a-8218-c445a5c3f413' class='xr-var-attrs-in' type='checkbox' ><label for='attrs-ae64691f-b897-450a-8218-c445a5c3f413' title='Show/Hide attributes'><svg class='icon xr-icon-file-text2'><use xlink:href='#icon-file-text2'></use></svg></label><input id='data-f1edcea3-2b96-4a80-84e3-7231e9a61321' class='xr-var-data-in' type='checkbox'><label for='data-f1edcea3-2b96-4a80-84e3-7231e9a61321' title='Show/Hide data repr'><svg class='icon xr-icon-database'><use xlink:href='#icon-database'></use></svg></label><div class='xr-var-attrs'><dl class='xr-attrs'><dt><span>MemoryOrder :</span></dt><dd>XY</dd><dt><span>description :</span></dt><dd>Daily mean urban buliding temperature</dd><dt><span>units :</span></dt><dd>K</dd><dt><span>stagger :</span></dt><dd>-</dd></dl></div><div class='xr-var-data'><pre>[13367808 values with dtype=float32]</pre></div></li><li class='xr-var-item'><div class='xr-var-name'><span>tb_urb2d_max</span></div><div class='xr-var-dims'>(Time, lat, lon)</div><div class='xr-var-dtype'>float32</div><div class='xr-var-preview xr-preview'>...</div><input id='attrs-bf3cdd76-8b2c-4a7d-bab7-e200e669728e' class='xr-var-attrs-in' type='checkbox' ><label for='attrs-bf3cdd76-8b2c-4a7d-bab7-e200e669728e' title='Show/Hide attributes'><svg class='icon xr-icon-file-text2'><use xlink:href='#icon-file-text2'></use></svg></label><input id='data-24710c35-89e8-424f-89a5-646fce6a550b' class='xr-var-data-in' type='checkbox'><label for='data-24710c35-89e8-424f-89a5-646fce6a550b' title='Show/Hide data repr'><svg class='icon xr-icon-database'><use xlink:href='#icon-database'></use></svg></label><div class='xr-var-attrs'><dl class='xr-attrs'><dt><span>MemoryOrder :</span></dt><dd>XY</dd><dt><span>description :</span></dt><dd>Daily maximum urban buliding temperature</dd><dt><span>units :</span></dt><dd>K</dd><dt><span>stagger :</span></dt><dd>-</dd></dl></div><div class='xr-var-data'><pre>[13367808 values with dtype=float32]</pre></div></li><li class='xr-var-item'><div class='xr-var-name'><span>tb_urb2d_min</span></div><div class='xr-var-dims'>(Time, lat, lon)</div><div class='xr-var-dtype'>float32</div><div class='xr-var-preview xr-preview'>...</div><input id='attrs-eea75bbc-cc46-4383-8d6f-fa89bf4ababd' class='xr-var-attrs-in' type='checkbox' ><label for='attrs-eea75bbc-cc46-4383-8d6f-fa89bf4ababd' title='Show/Hide attributes'><svg class='icon xr-icon-file-text2'><use xlink:href='#icon-file-text2'></use></svg></label><input id='data-e42ce314-709c-4be4-8e38-e0bc1ce6ab41' class='xr-var-data-in' type='checkbox'><label for='data-e42ce314-709c-4be4-8e38-e0bc1ce6ab41' title='Show/Hide data repr'><svg class='icon xr-icon-database'><use xlink:href='#icon-database'></use></svg></label><div class='xr-var-attrs'><dl class='xr-attrs'><dt><span>MemoryOrder :</span></dt><dd>XY</dd><dt><span>description :</span></dt><dd>Daily minimum urban buliding temperature</dd><dt><span>units :</span></dt><dd>K</dd><dt><span>stagger :</span></dt><dd>-</dd></dl></div><div class='xr-var-data'><pre>[13367808 values with dtype=float32]</pre></div></li><li class='xr-var-item'><div class='xr-var-name'><span>tc_urb2d</span></div><div class='xr-var-dims'>(Time, lat, lon)</div><div class='xr-var-dtype'>float32</div><div class='xr-var-preview xr-preview'>...</div><input id='attrs-f9b8d8e1-3fef-4596-964e-193b3f6aa31d' class='xr-var-attrs-in' type='checkbox' ><label for='attrs-f9b8d8e1-3fef-4596-964e-193b3f6aa31d' title='Show/Hide attributes'><svg class='icon xr-icon-file-text2'><use xlink:href='#icon-file-text2'></use></svg></label><input id='data-71752932-4e45-4c47-8529-54e6d6c6e29a' class='xr-var-data-in' type='checkbox'><label for='data-71752932-4e45-4c47-8529-54e6d6c6e29a' title='Show/Hide data repr'><svg class='icon xr-icon-database'><use xlink:href='#icon-database'></use></svg></label><div class='xr-var-attrs'><dl class='xr-attrs'><dt><span>MemoryOrder :</span></dt><dd>XY</dd><dt><span>description :</span></dt><dd>Daily mean urban canopy temperature</dd><dt><span>units :</span></dt><dd>K</dd><dt><span>stagger :</span></dt><dd>-</dd></dl></div><div class='xr-var-data'><pre>[13367808 values with dtype=float32]</pre></div></li><li class='xr-var-item'><div class='xr-var-name'><span>tc_urb2d_max</span></div><div class='xr-var-dims'>(Time, lat, lon)</div><div class='xr-var-dtype'>float32</div><div class='xr-var-preview xr-preview'>...</div><input id='attrs-cbd683dc-37d3-45c9-a325-4971ad9fdee8' class='xr-var-attrs-in' type='checkbox' ><label for='attrs-cbd683dc-37d3-45c9-a325-4971ad9fdee8' title='Show/Hide attributes'><svg class='icon xr-icon-file-text2'><use xlink:href='#icon-file-text2'></use></svg></label><input id='data-ef670040-2f9f-485d-a1a8-1786465801f2' class='xr-var-data-in' type='checkbox'><label for='data-ef670040-2f9f-485d-a1a8-1786465801f2' title='Show/Hide data repr'><svg class='icon xr-icon-database'><use xlink:href='#icon-database'></use></svg></label><div class='xr-var-attrs'><dl class='xr-attrs'><dt><span>MemoryOrder :</span></dt><dd>XY</dd><dt><span>description :</span></dt><dd>Daily maximum urban canopy temperature</dd><dt><span>units :</span></dt><dd>K</dd><dt><span>stagger :</span></dt><dd>-</dd></dl></div><div class='xr-var-data'><pre>[13367808 values with dtype=float32]</pre></div></li><li class='xr-var-item'><div class='xr-var-name'><span>tc_urb2d_min</span></div><div class='xr-var-dims'>(Time, lat, lon)</div><div class='xr-var-dtype'>float32</div><div class='xr-var-preview xr-preview'>...</div><input id='attrs-1f743bed-bbee-44e9-9fb6-fcff44b12421' class='xr-var-attrs-in' type='checkbox' ><label for='attrs-1f743bed-bbee-44e9-9fb6-fcff44b12421' title='Show/Hide attributes'><svg class='icon xr-icon-file-text2'><use xlink:href='#icon-file-text2'></use></svg></label><input id='data-d49f4427-e948-4d7e-b908-0b5d6c3c1035' class='xr-var-data-in' type='checkbox'><label for='data-d49f4427-e948-4d7e-b908-0b5d6c3c1035' title='Show/Hide data repr'><svg class='icon xr-icon-database'><use xlink:href='#icon-database'></use></svg></label><div class='xr-var-attrs'><dl class='xr-attrs'><dt><span>MemoryOrder :</span></dt><dd>XY</dd><dt><span>description :</span></dt><dd>Daily minimum urban canopy temperature</dd><dt><span>units :</span></dt><dd>K</dd><dt><span>stagger :</span></dt><dd>-</dd></dl></div><div class='xr-var-data'><pre>[13367808 values with dtype=float32]</pre></div></li><li class='xr-var-item'><div class='xr-var-name'><span>tg</span></div><div class='xr-var-dims'>(Time, lat, lon)</div><div class='xr-var-dtype'>float32</div><div class='xr-var-preview xr-preview'>...</div><input id='attrs-a6e9f7b0-f321-404d-b743-753e6e8a944f' class='xr-var-attrs-in' type='checkbox' ><label for='attrs-a6e9f7b0-f321-404d-b743-753e6e8a944f' title='Show/Hide attributes'><svg class='icon xr-icon-file-text2'><use xlink:href='#icon-file-text2'></use></svg></label><input id='data-b5a97c94-4abd-453e-b967-95d6515a6e08' class='xr-var-data-in' type='checkbox'><label for='data-b5a97c94-4abd-453e-b967-95d6515a6e08' title='Show/Hide data repr'><svg class='icon xr-icon-database'><use xlink:href='#icon-database'></use></svg></label><div class='xr-var-attrs'><dl class='xr-attrs'><dt><span>MemoryOrder :</span></dt><dd>XY</dd><dt><span>description :</span></dt><dd>Daily mean ground temperature</dd><dt><span>units :</span></dt><dd>K</dd><dt><span>stagger :</span></dt><dd>-</dd></dl></div><div class='xr-var-data'><pre>[13367808 values with dtype=float32]</pre></div></li><li class='xr-var-item'><div class='xr-var-name'><span>tg_max</span></div><div class='xr-var-dims'>(Time, lat, lon)</div><div class='xr-var-dtype'>float32</div><div class='xr-var-preview xr-preview'>...</div><input id='attrs-6c374d26-7ec0-41a6-84d2-2ad4fe1590b7' class='xr-var-attrs-in' type='checkbox' ><label for='attrs-6c374d26-7ec0-41a6-84d2-2ad4fe1590b7' title='Show/Hide attributes'><svg class='icon xr-icon-file-text2'><use xlink:href='#icon-file-text2'></use></svg></label><input id='data-7b1094f8-8222-4476-ab86-6202035ce831' class='xr-var-data-in' type='checkbox'><label for='data-7b1094f8-8222-4476-ab86-6202035ce831' title='Show/Hide data repr'><svg class='icon xr-icon-database'><use xlink:href='#icon-database'></use></svg></label><div class='xr-var-attrs'><dl class='xr-attrs'><dt><span>MemoryOrder :</span></dt><dd>XY</dd><dt><span>description :</span></dt><dd>Daily maximum ground temperature</dd><dt><span>units :</span></dt><dd>K</dd><dt><span>stagger :</span></dt><dd>-</dd></dl></div><div class='xr-var-data'><pre>[13367808 values with dtype=float32]</pre></div></li><li class='xr-var-item'><div class='xr-var-name'><span>tg_min</span></div><div class='xr-var-dims'>(Time, lat, lon)</div><div class='xr-var-dtype'>float32</div><div class='xr-var-preview xr-preview'>...</div><input id='attrs-ddb99b14-0309-423e-bc87-56c6c1f7f5bf' class='xr-var-attrs-in' type='checkbox' ><label for='attrs-ddb99b14-0309-423e-bc87-56c6c1f7f5bf' title='Show/Hide attributes'><svg class='icon xr-icon-file-text2'><use xlink:href='#icon-file-text2'></use></svg></label><input id='data-17827478-5c16-45a0-a2c0-2f7800b19a90' class='xr-var-data-in' type='checkbox'><label for='data-17827478-5c16-45a0-a2c0-2f7800b19a90' title='Show/Hide data repr'><svg class='icon xr-icon-database'><use xlink:href='#icon-database'></use></svg></label><div class='xr-var-attrs'><dl class='xr-attrs'><dt><span>MemoryOrder :</span></dt><dd>XY</dd><dt><span>description :</span></dt><dd>Daily minimum ground temperature</dd><dt><span>units :</span></dt><dd>K</dd><dt><span>stagger :</span></dt><dd>-</dd></dl></div><div class='xr-var-data'><pre>[13367808 values with dtype=float32]</pre></div></li><li class='xr-var-item'><div class='xr-var-name'><span>tg_urb2d</span></div><div class='xr-var-dims'>(Time, lat, lon)</div><div class='xr-var-dtype'>float32</div><div class='xr-var-preview xr-preview'>...</div><input id='attrs-193c7bd8-e6e5-4abb-8d3d-601eff606c82' class='xr-var-attrs-in' type='checkbox' ><label for='attrs-193c7bd8-e6e5-4abb-8d3d-601eff606c82' title='Show/Hide attributes'><svg class='icon xr-icon-file-text2'><use xlink:href='#icon-file-text2'></use></svg></label><input id='data-130754e5-e22e-4138-8de3-ecf779fd2a4c' class='xr-var-data-in' type='checkbox'><label for='data-130754e5-e22e-4138-8de3-ecf779fd2a4c' title='Show/Hide data repr'><svg class='icon xr-icon-database'><use xlink:href='#icon-database'></use></svg></label><div class='xr-var-attrs'><dl class='xr-attrs'><dt><span>MemoryOrder :</span></dt><dd>XY</dd><dt><span>description :</span></dt><dd>Daily mean urban road temperature</dd><dt><span>units :</span></dt><dd>K</dd><dt><span>stagger :</span></dt><dd>-</dd></dl></div><div class='xr-var-data'><pre>[13367808 values with dtype=float32]</pre></div></li><li class='xr-var-item'><div class='xr-var-name'><span>tg_urb2d_max</span></div><div class='xr-var-dims'>(Time, lat, lon)</div><div class='xr-var-dtype'>float32</div><div class='xr-var-preview xr-preview'>...</div><input id='attrs-0d055591-471e-4c21-aee9-89466f303ecd' class='xr-var-attrs-in' type='checkbox' ><label for='attrs-0d055591-471e-4c21-aee9-89466f303ecd' title='Show/Hide attributes'><svg class='icon xr-icon-file-text2'><use xlink:href='#icon-file-text2'></use></svg></label><input id='data-89d58990-ffa1-414d-b738-8a4ba1a078f7' class='xr-var-data-in' type='checkbox'><label for='data-89d58990-ffa1-414d-b738-8a4ba1a078f7' title='Show/Hide data repr'><svg class='icon xr-icon-database'><use xlink:href='#icon-database'></use></svg></label><div class='xr-var-attrs'><dl class='xr-attrs'><dt><span>MemoryOrder :</span></dt><dd>XY</dd><dt><span>description :</span></dt><dd>Daily maximum urban road temperature</dd><dt><span>units :</span></dt><dd>K</dd><dt><span>stagger :</span></dt><dd>-</dd></dl></div><div class='xr-var-data'><pre>[13367808 values with dtype=float32]</pre></div></li><li class='xr-var-item'><div class='xr-var-name'><span>tg_urb2d_min</span></div><div class='xr-var-dims'>(Time, lat, lon)</div><div class='xr-var-dtype'>float32</div><div class='xr-var-preview xr-preview'>...</div><input id='attrs-6c88d6e9-124d-4783-85ec-ce2512794333' class='xr-var-attrs-in' type='checkbox' ><label for='attrs-6c88d6e9-124d-4783-85ec-ce2512794333' title='Show/Hide attributes'><svg class='icon xr-icon-file-text2'><use xlink:href='#icon-file-text2'></use></svg></label><input id='data-75022b2c-8b17-4954-bc0f-f1c3b927e8a9' class='xr-var-data-in' type='checkbox'><label for='data-75022b2c-8b17-4954-bc0f-f1c3b927e8a9' title='Show/Hide data repr'><svg class='icon xr-icon-database'><use xlink:href='#icon-database'></use></svg></label><div class='xr-var-attrs'><dl class='xr-attrs'><dt><span>MemoryOrder :</span></dt><dd>XY</dd><dt><span>description :</span></dt><dd>Daily minimum urban road temperature</dd><dt><span>units :</span></dt><dd>K</dd><dt><span>stagger :</span></dt><dd>-</dd></dl></div><div class='xr-var-data'><pre>[13367808 values with dtype=float32]</pre></div></li><li class='xr-var-item'><div class='xr-var-name'><span>time</span></div><div class='xr-var-dims'>(Time)</div><div class='xr-var-dtype'>datetime64[ns]</div><div class='xr-var-preview xr-preview'>...</div><input id='attrs-78cb25f8-84dd-45e1-bb60-1d0dc0496f5d' class='xr-var-attrs-in' type='checkbox' disabled><label for='attrs-78cb25f8-84dd-45e1-bb60-1d0dc0496f5d' title='Show/Hide attributes'><svg class='icon xr-icon-file-text2'><use xlink:href='#icon-file-text2'></use></svg></label><input id='data-911b55f9-ab8a-4bab-8a04-a1b553ee68a2' class='xr-var-data-in' type='checkbox'><label for='data-911b55f9-ab8a-4bab-8a04-a1b553ee68a2' title='Show/Hide data repr'><svg class='icon xr-icon-database'><use xlink:href='#icon-database'></use></svg></label><div class='xr-var-attrs'><dl class='xr-attrs'></dl></div><div class='xr-var-data'><pre>[1 values with dtype=datetime64[ns]]</pre></div></li><li class='xr-var-item'><div class='xr-var-name'><span>tr_urb2d</span></div><div class='xr-var-dims'>(Time, lat, lon)</div><div class='xr-var-dtype'>float32</div><div class='xr-var-preview xr-preview'>...</div><input id='attrs-fdd61696-c1e7-4b76-8b39-e586be2839a8' class='xr-var-attrs-in' type='checkbox' ><label for='attrs-fdd61696-c1e7-4b76-8b39-e586be2839a8' title='Show/Hide attributes'><svg class='icon xr-icon-file-text2'><use xlink:href='#icon-file-text2'></use></svg></label><input id='data-bd6d52e3-c85d-47a9-acfd-c138849341dd' class='xr-var-data-in' type='checkbox'><label for='data-bd6d52e3-c85d-47a9-acfd-c138849341dd' title='Show/Hide data repr'><svg class='icon xr-icon-database'><use xlink:href='#icon-database'></use></svg></label><div class='xr-var-attrs'><dl class='xr-attrs'><dt><span>MemoryOrder :</span></dt><dd>XY</dd><dt><span>description :</span></dt><dd>Daily mean urban radiative temperature</dd><dt><span>units :</span></dt><dd>K</dd><dt><span>stagger :</span></dt><dd>-</dd></dl></div><div class='xr-var-data'><pre>[13367808 values with dtype=float32]</pre></div></li><li class='xr-var-item'><div class='xr-var-name'><span>tr_urb2d_max</span></div><div class='xr-var-dims'>(Time, lat, lon)</div><div class='xr-var-dtype'>float32</div><div class='xr-var-preview xr-preview'>...</div><input id='attrs-70572d12-4298-482c-92f4-bac40eae95d4' class='xr-var-attrs-in' type='checkbox' ><label for='attrs-70572d12-4298-482c-92f4-bac40eae95d4' title='Show/Hide attributes'><svg class='icon xr-icon-file-text2'><use xlink:href='#icon-file-text2'></use></svg></label><input id='data-dde8f216-5972-493c-b722-0a4931df9328' class='xr-var-data-in' type='checkbox'><label for='data-dde8f216-5972-493c-b722-0a4931df9328' title='Show/Hide data repr'><svg class='icon xr-icon-database'><use xlink:href='#icon-database'></use></svg></label><div class='xr-var-attrs'><dl class='xr-attrs'><dt><span>MemoryOrder :</span></dt><dd>XY</dd><dt><span>description :</span></dt><dd>Daily maximum urban radiative temperature</dd><dt><span>units :</span></dt><dd>K</dd><dt><span>stagger :</span></dt><dd>-</dd></dl></div><div class='xr-var-data'><pre>[13367808 values with dtype=float32]</pre></div></li><li class='xr-var-item'><div class='xr-var-name'><span>tr_urb2d_min</span></div><div class='xr-var-dims'>(Time, lat, lon)</div><div class='xr-var-dtype'>float32</div><div class='xr-var-preview xr-preview'>...</div><input id='attrs-24c6348a-c698-4a1d-8001-53c1e0eb2b18' class='xr-var-attrs-in' type='checkbox' ><label for='attrs-24c6348a-c698-4a1d-8001-53c1e0eb2b18' title='Show/Hide attributes'><svg class='icon xr-icon-file-text2'><use xlink:href='#icon-file-text2'></use></svg></label><input id='data-46788c9f-09d9-43b4-a90f-081b8601efd2' class='xr-var-data-in' type='checkbox'><label for='data-46788c9f-09d9-43b4-a90f-081b8601efd2' title='Show/Hide data repr'><svg class='icon xr-icon-database'><use xlink:href='#icon-database'></use></svg></label><div class='xr-var-attrs'><dl class='xr-attrs'><dt><span>MemoryOrder :</span></dt><dd>XY</dd><dt><span>description :</span></dt><dd>Daily minimum urban radiative temperature</dd><dt><span>units :</span></dt><dd>K</dd><dt><span>stagger :</span></dt><dd>-</dd></dl></div><div class='xr-var-data'><pre>[13367808 values with dtype=float32]</pre></div></li><li class='xr-var-item'><div class='xr-var-name'><span>trad</span></div><div class='xr-var-dims'>(Time, lat, lon)</div><div class='xr-var-dtype'>float32</div><div class='xr-var-preview xr-preview'>...</div><input id='attrs-4da6cdae-ff12-44e2-a913-b281cd8b7330' class='xr-var-attrs-in' type='checkbox' ><label for='attrs-4da6cdae-ff12-44e2-a913-b281cd8b7330' title='Show/Hide attributes'><svg class='icon xr-icon-file-text2'><use xlink:href='#icon-file-text2'></use></svg></label><input id='data-75cc551b-fc3f-4761-9e65-22bec1b0399b' class='xr-var-data-in' type='checkbox'><label for='data-75cc551b-fc3f-4761-9e65-22bec1b0399b' title='Show/Hide data repr'><svg class='icon xr-icon-database'><use xlink:href='#icon-database'></use></svg></label><div class='xr-var-attrs'><dl class='xr-attrs'><dt><span>MemoryOrder :</span></dt><dd>XY</dd><dt><span>description :</span></dt><dd>Daily mean surface radiative temperature</dd><dt><span>units :</span></dt><dd>K</dd><dt><span>stagger :</span></dt><dd>-</dd></dl></div><div class='xr-var-data'><pre>[13367808 values with dtype=float32]</pre></div></li><li class='xr-var-item'><div class='xr-var-name'><span>trad_max</span></div><div class='xr-var-dims'>(Time, lat, lon)</div><div class='xr-var-dtype'>float32</div><div class='xr-var-preview xr-preview'>...</div><input id='attrs-61b4f786-7fe3-43e5-a057-925bb9669ce7' class='xr-var-attrs-in' type='checkbox' ><label for='attrs-61b4f786-7fe3-43e5-a057-925bb9669ce7' title='Show/Hide attributes'><svg class='icon xr-icon-file-text2'><use xlink:href='#icon-file-text2'></use></svg></label><input id='data-3cee2b66-39b7-4d91-88be-6d0052a8921e' class='xr-var-data-in' type='checkbox'><label for='data-3cee2b66-39b7-4d91-88be-6d0052a8921e' title='Show/Hide data repr'><svg class='icon xr-icon-database'><use xlink:href='#icon-database'></use></svg></label><div class='xr-var-attrs'><dl class='xr-attrs'><dt><span>MemoryOrder :</span></dt><dd>XY</dd><dt><span>description :</span></dt><dd>Daily maximum surface radiative temperature</dd><dt><span>units :</span></dt><dd>K</dd><dt><span>stagger :</span></dt><dd>-</dd></dl></div><div class='xr-var-data'><pre>[13367808 values with dtype=float32]</pre></div></li><li class='xr-var-item'><div class='xr-var-name'><span>trad_min</span></div><div class='xr-var-dims'>(Time, lat, lon)</div><div class='xr-var-dtype'>float32</div><div class='xr-var-preview xr-preview'>...</div><input id='attrs-35182e49-68e6-409f-b02b-832403daae9e' class='xr-var-attrs-in' type='checkbox' ><label for='attrs-35182e49-68e6-409f-b02b-832403daae9e' title='Show/Hide attributes'><svg class='icon xr-icon-file-text2'><use xlink:href='#icon-file-text2'></use></svg></label><input id='data-480688cb-631e-413a-9270-fb0e262e40b3' class='xr-var-data-in' type='checkbox'><label for='data-480688cb-631e-413a-9270-fb0e262e40b3' title='Show/Hide data repr'><svg class='icon xr-icon-database'><use xlink:href='#icon-database'></use></svg></label><div class='xr-var-attrs'><dl class='xr-attrs'><dt><span>MemoryOrder :</span></dt><dd>XY</dd><dt><span>description :</span></dt><dd>Daily minimum surface radiative temperature</dd><dt><span>units :</span></dt><dd>K</dd><dt><span>stagger :</span></dt><dd>-</dd></dl></div><div class='xr-var-data'><pre>[13367808 values with dtype=float32]</pre></div></li><li class='xr-var-item'><div class='xr-var-name'><span>tsk</span></div><div class='xr-var-dims'>(Time, lat, lon)</div><div class='xr-var-dtype'>float32</div><div class='xr-var-preview xr-preview'>...</div><input id='attrs-a18e977d-f0c5-4356-8614-f8d5e70933b2' class='xr-var-attrs-in' type='checkbox' ><label for='attrs-a18e977d-f0c5-4356-8614-f8d5e70933b2' title='Show/Hide attributes'><svg class='icon xr-icon-file-text2'><use xlink:href='#icon-file-text2'></use></svg></label><input id='data-cf4346a4-cc93-4cb7-9973-56051fa2ebc1' class='xr-var-data-in' type='checkbox'><label for='data-cf4346a4-cc93-4cb7-9973-56051fa2ebc1' title='Show/Hide data repr'><svg class='icon xr-icon-database'><use xlink:href='#icon-database'></use></svg></label><div class='xr-var-attrs'><dl class='xr-attrs'><dt><span>MemoryOrder :</span></dt><dd>XY</dd><dt><span>description :</span></dt><dd>Daily mean surface skin temperature (urban weighted)</dd><dt><span>units :</span></dt><dd>K</dd><dt><span>stagger :</span></dt><dd>-</dd></dl></div><div class='xr-var-data'><pre>[13367808 values with dtype=float32]</pre></div></li><li class='xr-var-item'><div class='xr-var-name'><span>tsk_max</span></div><div class='xr-var-dims'>(Time, lat, lon)</div><div class='xr-var-dtype'>float32</div><div class='xr-var-preview xr-preview'>...</div><input id='attrs-cb2a91ea-2fab-4d32-acd7-3b6ac2f62da3' class='xr-var-attrs-in' type='checkbox' ><label for='attrs-cb2a91ea-2fab-4d32-acd7-3b6ac2f62da3' title='Show/Hide attributes'><svg class='icon xr-icon-file-text2'><use xlink:href='#icon-file-text2'></use></svg></label><input id='data-c089ef21-6cc3-4022-863c-856f9f2b61e1' class='xr-var-data-in' type='checkbox'><label for='data-c089ef21-6cc3-4022-863c-856f9f2b61e1' title='Show/Hide data repr'><svg class='icon xr-icon-database'><use xlink:href='#icon-database'></use></svg></label><div class='xr-var-attrs'><dl class='xr-attrs'><dt><span>MemoryOrder :</span></dt><dd>XY</dd><dt><span>description :</span></dt><dd>Daily maximum surface skin temperature (urban weighted)</dd><dt><span>units :</span></dt><dd>K</dd><dt><span>stagger :</span></dt><dd>-</dd></dl></div><div class='xr-var-data'><pre>[13367808 values with dtype=float32]</pre></div></li><li class='xr-var-item'><div class='xr-var-name'><span>tsk_min</span></div><div class='xr-var-dims'>(Time, lat, lon)</div><div class='xr-var-dtype'>float32</div><div class='xr-var-preview xr-preview'>...</div><input id='attrs-940638da-17ef-4a58-9510-16d7a4671493' class='xr-var-attrs-in' type='checkbox' ><label for='attrs-940638da-17ef-4a58-9510-16d7a4671493' title='Show/Hide attributes'><svg class='icon xr-icon-file-text2'><use xlink:href='#icon-file-text2'></use></svg></label><input id='data-d846742c-8258-4d52-adfa-2b262e43bb89' class='xr-var-data-in' type='checkbox'><label for='data-d846742c-8258-4d52-adfa-2b262e43bb89' title='Show/Hide data repr'><svg class='icon xr-icon-database'><use xlink:href='#icon-database'></use></svg></label><div class='xr-var-attrs'><dl class='xr-attrs'><dt><span>MemoryOrder :</span></dt><dd>XY</dd><dt><span>description :</span></dt><dd>Daily minimum surface skin temperature (urban weighted)</dd><dt><span>units :</span></dt><dd>K</dd><dt><span>stagger :</span></dt><dd>-</dd></dl></div><div class='xr-var-data'><pre>[13367808 values with dtype=float32]</pre></div></li><li class='xr-var-item'><div class='xr-var-name'><span>wspd</span></div><div class='xr-var-dims'>(Time, lat, lon)</div><div class='xr-var-dtype'>float32</div><div class='xr-var-preview xr-preview'>...</div><input id='attrs-6da842ad-38ba-4fb5-9c53-c57cea8320ee' class='xr-var-attrs-in' type='checkbox' ><label for='attrs-6da842ad-38ba-4fb5-9c53-c57cea8320ee' title='Show/Hide attributes'><svg class='icon xr-icon-file-text2'><use xlink:href='#icon-file-text2'></use></svg></label><input id='data-28de551d-7a3b-4cad-8920-ae6e36bc4f06' class='xr-var-data-in' type='checkbox'><label for='data-28de551d-7a3b-4cad-8920-ae6e36bc4f06' title='Show/Hide data repr'><svg class='icon xr-icon-database'><use xlink:href='#icon-database'></use></svg></label><div class='xr-var-attrs'><dl class='xr-attrs'><dt><span>MemoryOrder :</span></dt><dd>XY</dd><dt><span>description :</span></dt><dd>Daily mean wind speed</dd><dt><span>units :</span></dt><dd>m s{-1}</dd><dt><span>stagger :</span></dt><dd>-</dd></dl></div><div class='xr-var-data'><pre>[13367808 values with dtype=float32]</pre></div></li></ul></div></li><li class='xr-section-item'><input id='section-906bdac0-7851-4e05-a009-cb71b534045b' class='xr-section-summary-in' type='checkbox' disabled ><label for='section-906bdac0-7851-4e05-a009-cb71b534045b' class='xr-section-summary'  title='Expand/collapse section'>Indexes: <span>(0)</span></label><div class='xr-section-inline-details'></div><div class='xr-section-details'><ul class='xr-var-list'></ul></div></li><li class='xr-section-item'><input id='section-93b1f285-1fc6-432c-9117-51187d856efb' class='xr-section-summary-in' type='checkbox'  ><label for='section-93b1f285-1fc6-432c-9117-51187d856efb' class='xr-section-summary' >Attributes: <span>(50)</span></label><div class='xr-section-inline-details'></div><div class='xr-section-details'><dl class='xr-attrs'><dt><span>SIMULATION_START_DATE :</span></dt><dd>0000-00-00_00:00:00</dd><dt><span>WEST-EAST_GRID_DIMENSION :</span></dt><dd>4609</dd><dt><span>SOUTH-NORTH_GRID_DIMENSION :</span></dt><dd>3841</dd><dt><span>BOTTOM-TOP_GRID_DIMENSION :</span></dt><dd>0</dd><dt><span>WEST-EAST_PATCH_START_UNSTAG :</span></dt><dd>1</dd><dt><span>WEST-EAST_PATCH_END_UNSTAG :</span></dt><dd>4608</dd><dt><span>WEST-EAST_PATCH_START_STAG :</span></dt><dd>1</dd><dt><span>WEST-EAST_PATCH_END_STAG :</span></dt><dd>4609</dd><dt><span>SOUTH-NORTH_PATCH_START_UNSTAG :</span></dt><dd>1</dd><dt><span>SOUTH-NORTH_PATCH_END_UNSTAG :</span></dt><dd>3840</dd><dt><span>SOUTH-NORTH_PATCH_START_STAG :</span></dt><dd>1</dd><dt><span>SOUTH-NORTH_PATCH_END_STAG :</span></dt><dd>3841</dd><dt><span>GRIDTYPE :</span></dt><dd>C</dd><dt><span>DX :</span></dt><dd>1000.0</dd><dt><span>DY :</span></dt><dd>1000.0</dd><dt><span>DYN_OPT :</span></dt><dd>2</dd><dt><span>CEN_LAT :</span></dt><dd>40.000008</dd><dt><span>CEN_LON :</span></dt><dd>-97.0</dd><dt><span>TRUELAT1 :</span></dt><dd>30.0</dd><dt><span>TRUELAT2 :</span></dt><dd>60.0</dd><dt><span>MOAD_CEN_LAT :</span></dt><dd>40.000008</dd><dt><span>STAND_LON :</span></dt><dd>-97.0</dd><dt><span>POLE_LAT :</span></dt><dd>90.0</dd><dt><span>POLE_LON :</span></dt><dd>0.0</dd><dt><span>corner_lats :</span></dt><dd>[20.077812 52.87278  52.87278  20.077812 20.076714 52.870747 52.870747\n",
       " 20.076714 20.073708 52.876926 52.876926 20.073708 20.072594 52.87489\n",
       " 52.87489  20.072594]</dd><dt><span>corner_lons :</span></dt><dd>[-118.10449  -133.50734   -60.492676  -75.89551  -118.10886  -133.5142\n",
       "  -60.48578   -75.89114  -118.1033   -133.51071   -60.48929   -75.8967\n",
       " -118.107666 -133.51758   -60.48242   -75.892334]</dd><dt><span>MAP_PROJ :</span></dt><dd>1</dd><dt><span>MMINLU :</span></dt><dd>USGS</dd><dt><span>NUM_LAND_CAT :</span></dt><dd>96</dd><dt><span>ISWATER :</span></dt><dd>16</dd><dt><span>ISLAKE :</span></dt><dd>-1</dd><dt><span>ISICE :</span></dt><dd>24</dd><dt><span>ISURBAN :</span></dt><dd>1</dd><dt><span>ISOILWATER :</span></dt><dd>14</dd><dt><span>grid_id :</span></dt><dd>1</dd><dt><span>parent_id :</span></dt><dd>1</dd><dt><span>i_parent_start :</span></dt><dd>1</dd><dt><span>j_parent_start :</span></dt><dd>1</dd><dt><span>i_parent_end :</span></dt><dd>4609</dd><dt><span>j_parent_end :</span></dt><dd>3841</dd><dt><span>parent_grid_ratio :</span></dt><dd>1</dd><dt><span>sr_x :</span></dt><dd>1</dd><dt><span>sr_y :</span></dt><dd>1</dd><dt><span>FLAG_MF_XY :</span></dt><dd>1</dd><dt><span>FLAG_LAI12M :</span></dt><dd>1</dd><dt><span>FLAG_LAKE_DEPTH :</span></dt><dd>1</dd><dt><span>nco_openmp_thread_number :</span></dt><dd>1</dd><dt><span>NCO :</span></dt><dd>netCDF Operators version 5.1.9 (Homepage = http://nco.sf.net, Code = http://github.com/nco/nco, Citation = 10.1016/j.envsoft.2008.03.004)</dd><dt><span>TITLE :</span></dt><dd>OUTPUT FROM GEOGRID V4.0.1</dd><dt><span>history :</span></dt><dd>Mon Feb 26 06:10:43 2024: ncks -4 -L 1 conus_HUMID_20180101.nc4 -O conus_HUMID_20180101.nc4</dd></dl></div></li></ul></div></div>"
      ],
      "text/plain": [
       "<xarray.Dataset> Size: 3GB\n",
       "Dimensions:            (Time: 1, lat: 2901, lon: 4608)\n",
       "Coordinates:\n",
       "    lat                (lat, lon) float32 53MB ...\n",
       "    lon                (lat, lon) float32 53MB ...\n",
       "Dimensions without coordinates: Time\n",
       "Data variables: (12/47)\n",
       "    FRC_URB2D          (Time, lat, lon) float32 53MB ...\n",
       "    HGT                (Time, lat, lon) float32 53MB ...\n",
       "    ISLTYP             (Time, lat, lon) float64 107MB ...\n",
       "    IVGTYP             (Time, lat, lon) float64 107MB ...\n",
       "    LU_INDEX           (Time, lat, lon) float32 53MB ...\n",
       "    Lambert_Conformal  int32 4B ...\n",
       "    ...                 ...\n",
       "    trad_max           (Time, lat, lon) float32 53MB ...\n",
       "    trad_min           (Time, lat, lon) float32 53MB ...\n",
       "    tsk                (Time, lat, lon) float32 53MB ...\n",
       "    tsk_max            (Time, lat, lon) float32 53MB ...\n",
       "    tsk_min            (Time, lat, lon) float32 53MB ...\n",
       "    wspd               (Time, lat, lon) float32 53MB ...\n",
       "Attributes: (12/50)\n",
       "    SIMULATION_START_DATE:           0000-00-00_00:00:00\n",
       "    WEST-EAST_GRID_DIMENSION:        4609\n",
       "    SOUTH-NORTH_GRID_DIMENSION:      3841\n",
       "    BOTTOM-TOP_GRID_DIMENSION:       0\n",
       "    WEST-EAST_PATCH_START_UNSTAG:    1\n",
       "    WEST-EAST_PATCH_END_UNSTAG:      4608\n",
       "    ...                              ...\n",
       "    FLAG_LAI12M:                     1\n",
       "    FLAG_LAKE_DEPTH:                 1\n",
       "    nco_openmp_thread_number:        1\n",
       "    NCO:                             netCDF Operators version 5.1.9 (Homepage...\n",
       "    TITLE:                           OUTPUT FROM GEOGRID V4.0.1\n",
       "    history:                         Mon Feb 26 06:10:43 2024: ncks -4 -L 1 c..."
      ]
     },
     "execution_count": 29,
     "metadata": {},
     "output_type": "execute_result"
    }
   ],
   "source": [
    "# Use the following function to laod your dataset and check its file format is compatible. \n",
    "# Add the filename / file path of your gridded dataset below:\n",
    "\n",
    "gridded_file_path = \"/home/coder/ai_data_readiness/new_data/conus_HUMID_20180101.nc\"\n",
    "\n",
    "# Uncomment the lines below to check compatibility and load your dataset. \n",
    "dataset = gridded.detect_gridded_format_and_open(gridded_file_path)\n",
    "dataset"
   ]
  },
  {
   "cell_type": "code",
   "execution_count": 30,
   "id": "675376e3-e283-4f76-b524-eb02f7c143ec",
   "metadata": {},
   "outputs": [
    {
     "name": "stdout",
     "output_type": "stream",
     "text": [
      "Frozen({'Time': 1, 'lat': 2901, 'lon': 4608})\n",
      "No time coordinate found.\n",
      "FrozenMappingWarningOnValuesAccess({'Time': 1, 'lat': 2901, 'lon': 4608})\n",
      "Time coordinate name changed to time\n",
      "FrozenMappingWarningOnValuesAccess({'time': 1, 'lat': 2901, 'lon': 4608})\n"
     ]
    }
   ],
   "source": [
    "# Convert temporal coord name to 'time'\n",
    "\n",
    "# Sometimes the temporal coord has a different name, you can use code below to rename the dimension to time to work with the following functions. \n",
    "# Use the function below to rename the temporal coord to 'time', this will be used in the later functions.\n",
    "\n",
    "# Uncoment the line below to check the current coord names and identify the temporal coord. \n",
    "print(dataset.sizes)\n",
    "\n",
    "# Uncomment the function call below and update the 2nd argument with the temporal coord name.\n",
    "dataset = gridded.temporal_check(dataset, \"Time\")"
   ]
  },
  {
   "cell_type": "code",
   "execution_count": 31,
   "id": "0b769970-71ed-48a7-95fb-da873b6330c8",
   "metadata": {
    "editable": true,
    "slideshow": {
     "slide_type": ""
    },
    "tags": [
     "thebe-init"
    ]
   },
   "outputs": [],
   "source": [
    "# Load checklist from JSON file:\n",
    "checklist = utils.load_checklist()"
   ]
  },
  {
   "cell_type": "markdown",
   "id": "087dd158-2a04-45b5-a0c0-599761f33f94",
   "metadata": {},
   "source": [
    "#### Reset stored answers to start again:"
   ]
  },
  {
   "cell_type": "code",
   "execution_count": 32,
   "id": "a467851d-ee03-46f7-a194-8e516c374b8e",
   "metadata": {
    "jupyter": {
     "source_hidden": true
    }
   },
   "outputs": [],
   "source": [
    "# Reset all checklist answers back to original blank answers for all sections.\n",
    "# Any completed information will be lost. \n",
    "\n",
    "# To reset the stored answers uncomment and run these lines of code below. Re-comment the lines afterwards to avoid them running again. \n",
    "# utils.reset_checklist()\n",
    "# checklist = utils.load_checklist()\n",
    "\n",
    "# You can then re-run each section to reload it on the reset data. "
   ]
  },
  {
   "cell_type": "code",
   "execution_count": 33,
   "id": "d23fc803-c02b-4a51-8d58-4f343b49c39b",
   "metadata": {
    "jupyter": {
     "source_hidden": true
    }
   },
   "outputs": [
    {
     "name": "stdout",
     "output_type": "stream",
     "text": [
      "Dataset: HUMID\n",
      "Dataset link: \n",
      "Assessor: \n",
      "Assessor email: \n"
     ]
    }
   ],
   "source": [
    "\n",
    "print(\"Dataset:\", checklist[\"GeneralInformation\"][\"DatasetName\"])\n",
    "print(\"Dataset link:\", checklist[\"GeneralInformation\"][\"DatasetLink\"])\n",
    "print(\"Assessor:\", checklist[\"GeneralInformation\"][\"AssessorName\"])\n",
    "print(\"Assessor email:\", checklist[\"GeneralInformation\"][\"AssessorEmailAddress\"])"
   ]
  },
  {
   "cell_type": "markdown",
   "id": "0ef2f783-495b-406e-8c25-5258c410520c",
   "metadata": {},
   "source": [
    "---\n",
    "\n",
    "## **5. Data Preparation**"
   ]
  },
  {
   "cell_type": "markdown",
   "id": "fc47836b-19bb-4d24-b500-884d9e754f78",
   "metadata": {},
   "source": [
    "### Null values"
   ]
  },
  {
   "cell_type": "code",
   "execution_count": 34,
   "id": "598d7fa2-f6c6-451e-9b12-a282d6a70be7",
   "metadata": {
    "jupyter": {
     "source_hidden": true
    }
   },
   "outputs": [
    {
     "data": {
      "application/vnd.jupyter.widget-view+json": {
       "model_id": "d2b12a00a08e436fb86590ff73b12c9e",
       "version_major": 2,
       "version_minor": 0
      },
      "text/plain": [
       "Combobox(value='', description='5.1 Have null values/gaps been filled?', layout=Layout(width='900px'), options…"
      ]
     },
     "metadata": {},
     "output_type": "display_data"
    }
   ],
   "source": [
    "\n",
    "dataset_null_values = widgets.Combobox(\n",
    "            value=checklist['DataPreparation']['NullValuesFilled'],\n",
    "            options=['Yes', 'No', 'N/A'],\n",
    "            description='5.1 Have null values/gaps been filled?',\n",
    "            placeholder=PLACEHOLDER,\n",
    "            layout=widgets.Layout(width=WIDGET_WIDTH),\n",
    "            style = DESCRIPTION_STYLE\n",
    "            )\n",
    "\n",
    "display(dataset_null_values)"
   ]
  },
  {
   "cell_type": "code",
   "execution_count": 35,
   "id": "97a35f49-7185-4a11-a6dd-1abadf2ed88f",
   "metadata": {},
   "outputs": [
    {
     "name": "stdout",
     "output_type": "stream",
     "text": [
      "MISSING / FILLED VALUE REPORT:\n",
      "    > variable_name: FRC_URB2D\n",
      "    > missing_values_count: 0\n",
      "    > percentage_missing: 0.0\n",
      "    > has_fill_value: False\n",
      "    > fill_value: None\n",
      "    > filled_values_count: 0\n",
      "    > percentage_filled: 0.0\n",
      "--------------------------------------------------\n"
     ]
    }
   ],
   "source": [
    "# This function will help you review if the dataset has missing or filled values. \n",
    "# However, it is still worth reading the dataset documentation as it should be explained in detail there. \n",
    "\n",
    "# Uncomment the line below to run the find_missing_values function.\n",
    "missing_value_stats = utils.find_missing_values(dataset)\n",
    "\n",
    "# Uncomment the lines below to print out the results:\n",
    "print(\"MISSING / FILLED VALUE REPORT:\")\n",
    "for stats in missing_value_stats:\n",
    "    for key, value in stats.items():\n",
    "        print(f\"    > {key}: {value}\")\n",
    "    print(\"-\" * 50)"
   ]
  },
  {
   "cell_type": "markdown",
   "id": "8cc450ae-d5bb-464d-bc4d-da3f09bcca06",
   "metadata": {},
   "source": [
    "### Outliers"
   ]
  },
  {
   "cell_type": "code",
   "execution_count": 36,
   "id": "8c912605-887f-4b59-b07a-34dfbdc2bc8d",
   "metadata": {
    "jupyter": {
     "source_hidden": true
    }
   },
   "outputs": [
    {
     "data": {
      "application/vnd.jupyter.widget-view+json": {
       "model_id": "9e59011086494ac8b178c4a19a428d7a",
       "version_major": 2,
       "version_minor": 0
      },
      "text/plain": [
       "Combobox(value='', description='5.2 Have outliers been identified?', layout=Layout(width='900px'), options=('Y…"
      ]
     },
     "metadata": {},
     "output_type": "display_data"
    }
   ],
   "source": [
    "\n",
    "dataset_outliers = widgets.Combobox(\n",
    "            value=checklist['DataPreparation']['OutliersIdentified'],\n",
    "            options=['Yes, tagged ', 'Yes, removed', 'No', 'N/A'],\n",
    "            description='5.2 Have outliers been identified?',\n",
    "            placeholder=PLACEHOLDER,\n",
    "            layout=widgets.Layout(width=WIDGET_WIDTH),\n",
    "            style = DESCRIPTION_STYLE\n",
    "            )\n",
    "\n",
    "display(dataset_outliers)\n"
   ]
  },
  {
   "cell_type": "code",
   "execution_count": 37,
   "id": "f469647e-e746-4383-a801-1e7f7951c4bf",
   "metadata": {},
   "outputs": [
    {
     "name": "stdout",
     "output_type": "stream",
     "text": [
      "NO OUTLIER VALUE REPORT FROM DATA\n",
      "ufunc 'isnan' not supported for the input types, and the inputs could not be safely coerced to any supported types according to the casting rule ''safe''\n"
     ]
    },
    {
     "name": "stderr",
     "output_type": "stream",
     "text": [
      "/home/coder/ai_data_readiness/src/aidatareadiness/utils.py:279: RuntimeWarning: invalid value encountered in divide\n",
      "  z_scores = (data_clean - mean) / std_dev\n"
     ]
    }
   ],
   "source": [
    "# This function could be used to review the z-score values over a set threshold. \n",
    "# This could be useful as an indication of outliers, however again, reading the dataset documentation should have information regarding outliers. \n",
    "\n",
    "# Uncomment the line below to run the count_z_score_outliers_for_dataset function:\n",
    "try:\n",
    "    outlier_stats = utils.count_z_score_outliers_for_dataset(dataset, threshold=3)\n",
    "    \n",
    "    # Uncomment the lines below to print the results for each variable\n",
    "    print(\"OUTLIER VALUE REPORT:\")\n",
    "    for stats in outlier_stats:\n",
    "        for key, value in stats.items():\n",
    "            print(f\"    > {key}: {value}\")\n",
    "        print(\"-\" * 50)\n",
    "except Exception as e:\n",
    "    print('NO OUTLIER VALUE REPORT FROM DATA')\n",
    "    print(e)"
   ]
  },
  {
   "cell_type": "markdown",
   "id": "ad80647b-e571-4b0c-a291-c75c76b867fd",
   "metadata": {},
   "source": [
    "### Gridded data\n"
   ]
  },
  {
   "cell_type": "code",
   "execution_count": 38,
   "id": "45f3adc6-7550-488b-923d-c3d17a912b89",
   "metadata": {
    "jupyter": {
     "source_hidden": true
    }
   },
   "outputs": [
    {
     "data": {
      "application/vnd.jupyter.widget-view+json": {
       "model_id": "99eb665da58847a79c1d97cbc8b12fd8",
       "version_major": 2,
       "version_minor": 0
      },
      "text/plain": [
       "Combobox(value='', description='5.3 Is the data gridded (regularly sampled in time and space)?', layout=Layout…"
      ]
     },
     "metadata": {},
     "output_type": "display_data"
    },
    {
     "data": {
      "application/vnd.jupyter.widget-view+json": {
       "model_id": "49c1073ac47c4aa9ac3ebdd9d8cbd182",
       "version_major": 2,
       "version_minor": 0
      },
      "text/plain": [
       "Combobox(value='', description='If the data is gridded, was it transformed from a different original sampling?…"
      ]
     },
     "metadata": {},
     "output_type": "display_data"
    },
    {
     "data": {
      "application/vnd.jupyter.widget-view+json": {
       "model_id": "42cd171fb7894f1fbe1709b0d16f6faf",
       "version_major": 2,
       "version_minor": 0
      },
      "text/plain": [
       "Combobox(value='', description='If the data is resampled from the original sampling, is the data also availabl…"
      ]
     },
     "metadata": {},
     "output_type": "display_data"
    }
   ],
   "source": [
    "\n",
    "dataset_gridded = widgets.Combobox(\n",
    "            value=checklist['DataPreparation']['Gridded'],\n",
    "            options=['Regularly gridded in space', 'Constant time-frequency', 'Regularly gridded in space and constant time-frequency', 'Not gridded', 'N/A'],\n",
    "            description='5.3 Is the data gridded (regularly sampled in time and space)?',\n",
    "            placeholder=PLACEHOLDER,\n",
    "            layout=widgets.Layout(width=WIDGET_WIDTH),\n",
    "            style = DESCRIPTION_STYLE\n",
    "            )\n",
    "\n",
    "dataset_gridded_transformed = widgets.Combobox(\n",
    "            value=checklist['DataPreparation']['TransformedFromOriginal'],\n",
    "            options=['Yes, from irregular sampling', 'Yes, from a different regular sampling', 'No, this is the original sampling', 'N/A'],\n",
    "            description='If the data is gridded, was it transformed from a different original sampling?',            \n",
    "            placeholder=PLACEHOLDER,\n",
    "            layout=widgets.Layout(width=WIDGET_WIDTH),\n",
    "            style = DESCRIPTION_STYLE\n",
    "            )\n",
    "\n",
    "\n",
    "dataset_gridded_original_sample = widgets.Combobox(\n",
    "            value=checklist['DataPreparation']['OriginalSamplingAvailable'],\n",
    "            options=['Yes', 'No', 'Only by request', 'N/A'],\n",
    "            description = 'If the data is resampled from the original sampling, is the data also available at the original sampling?',\n",
    "            placeholder=PLACEHOLDER,\n",
    "            layout=widgets.Layout(width=WIDGET_WIDTH),\n",
    "            style = DESCRIPTION_STYLE\n",
    "            )\n",
    "\n",
    "display(dataset_gridded, dataset_gridded_transformed, dataset_gridded_original_sample)"
   ]
  },
  {
   "cell_type": "code",
   "execution_count": 40,
   "id": "382f0c1b-1492-4af4-a558-ef443dca48a7",
   "metadata": {},
   "outputs": [
    {
     "name": "stderr",
     "output_type": "stream",
     "text": [
      "Time coordinate not found in the dataset.\n",
      "Spatial resolution is not consistent.\n",
      "Time coordinate not found in the dataset.\n"
     ]
    },
    {
     "name": "stdout",
     "output_type": "stream",
     "text": [
      "Spatial resolution: Latitude [0.00832367 0.0083313  0.00833893 ... 0.00833893 0.0083313  0.00832367] deg, Longitude [0.0025177  0.00253296 0.00250244 ... 0.00250244 0.00253296 0.00253296] deg\n",
      "Spatial coverage: Latitude 22.558914184570312 to 51.905601501464844, Longitude 230.37026977539062 to 295.6297302246094\n",
      "Temporal resolution: None\n",
      "SINGLE TIME FILE\n",
      "'NoneType' object is not subscriptable\n",
      "Spatial resolution not consistent\n",
      "Unable to determin temporal resolution consistency\n"
     ]
    },
    {
     "name": "stderr",
     "output_type": "stream",
     "text": [
      "Traceback (most recent call last):\n",
      "  File \"/tmp/ipykernel_19748/607420800.py\", line 15, in <module>\n",
      "    print(\"Min time:\", temporal_coverage['time'][0])\n",
      "TypeError: 'NoneType' object is not subscriptable\n"
     ]
    }
   ],
   "source": [
    "# The functions and information found in notebook 1 (part 2) might prove useful to answer some of the questions above. \n",
    "\n",
    "# Uncomment the 4 lines below to run various functions to check spatial and temporal information:\n",
    "resolution, coverage = gridded.get_spatial_resolution_and_coverage(dataset)\n",
    "temporal_resolution, temporal_coverage = gridded.get_temporal_resolution_and_coverage(dataset)\n",
    "spatial_consistency = gridded.check_spatial_consistency(dataset)\n",
    "temporal_consistency = gridded.check_temporal_consistency(dataset)\n",
    "\n",
    "# Uncomment the lines below to print the results from the 4 functions above. \n",
    "print(f\"Spatial resolution: Latitude {resolution[0]} deg, Longitude {resolution[1]} deg\")\n",
    "print(f\"Spatial coverage: Latitude {coverage['latitude'][0]} to {coverage['latitude'][1]}, Longitude {coverage['longitude'][0]} to {coverage['longitude'][1]}\")\n",
    "\n",
    "try:\n",
    "    print(\"Temporal resolution:\", temporal_resolution)\n",
    "    print(\"Min time:\", temporal_coverage['time'][0])\n",
    "    print(\"Max time:\", temporal_coverage['time'][1])\n",
    "except Exception as e:\n",
    "    print('SINGLE TIME FILE')\n",
    "    print(e)\n",
    "    traceback.print_exc()\n",
    "\n",
    "print(\"Spatial resolution is consistent\" if spatial_consistency == True \n",
    "      else \"Spatial resolution not consistent\" if spatial_consistency == False\n",
    "      else \"Unable to determin spatial resolution consistency\")\n",
    "\n",
    "print(\"Temporal resolution is consistent\" if temporal_consistency == True \n",
    "      else \"Temporal resolution not consistent\" if temporal_consistency == False\n",
    "      else \"Unable to determin temporal resolution consistency\")"
   ]
  },
  {
   "cell_type": "markdown",
   "id": "55a87005-4929-45c3-a2f6-f0b4eec60de8",
   "metadata": {},
   "source": [
    "### Targets / labels for supervised learning"
   ]
  },
  {
   "cell_type": "code",
   "execution_count": 41,
   "id": "e7447fb9-566f-4b99-b5ec-afc9ccc05954",
   "metadata": {
    "jupyter": {
     "source_hidden": true
    }
   },
   "outputs": [
    {
     "data": {
      "application/vnd.jupyter.widget-view+json": {
       "model_id": "d8dd197e46344a72bbec93d45c656410",
       "version_major": 2,
       "version_minor": 0
      },
      "text/plain": [
       "Combobox(value='', description='5.4 Are there associated targets or labels for supervised learning techniques?…"
      ]
     },
     "metadata": {},
     "output_type": "display_data"
    },
    {
     "data": {
      "application/vnd.jupyter.widget-view+json": {
       "model_id": "22c870ec78c84dcca2efe825fddd0750",
       "version_major": 2,
       "version_minor": 0
      },
      "text/plain": [
       "Label(value='If there are associated targets/labels, are community labeling standards implemented?')"
      ]
     },
     "metadata": {},
     "output_type": "display_data"
    },
    {
     "data": {
      "application/vnd.jupyter.widget-view+json": {
       "model_id": "ea30bde18ea44ae3866b1d0f18c9a1b2",
       "version_major": 2,
       "version_minor": 0
      },
      "text/plain": [
       "Text(value='', layout=Layout(width='900px'), placeholder='e.g., STAC label extension, ESA AIREO specification,…"
      ]
     },
     "metadata": {},
     "output_type": "display_data"
    }
   ],
   "source": [
    "\n",
    "dataset_targets_or_labels = widgets.Combobox(\n",
    "            value=checklist['DataPreparation']['SupervisedLearningLabels'],\n",
    "            options=['Yes', 'No', 'N/A'],\n",
    "            description = '5.4 Are there associated targets or labels for supervised learning techniques?',\n",
    "            placeholder='Click to select option - (Can this be used as a training dataset)?',\n",
    "            layout=widgets.Layout(width=WIDGET_WIDTH),\n",
    "            style = DESCRIPTION_STYLE\n",
    "            )\n",
    "\n",
    "dataset_targets_or_labels_standards_label = widgets.Label(\n",
    "    value = \"If there are associated targets/labels, are community labeling standards implemented?\"\n",
    ")\n",
    "\n",
    "dataset_targets_or_labels_standards = widgets.Text(\n",
    "            value=checklist['DataPreparation']['SupervisedLearningLabelStandards'],\n",
    "            placeholder = 'e.g., STAC label extension, ESA AIREO specification, etc.',\n",
    "            layout = widgets.Layout(width=WIDGET_WIDTH)\n",
    ")\n",
    "\n",
    "display(dataset_targets_or_labels, dataset_targets_or_labels_standards_label, dataset_targets_or_labels_standards)"
   ]
  },
  {
   "cell_type": "code",
   "execution_count": 42,
   "id": "a12da54d-ed9f-4c2b-8f0d-dc19a82309e7",
   "metadata": {
    "jupyter": {
     "source_hidden": true
    }
   },
   "outputs": [
    {
     "data": {
      "application/vnd.jupyter.widget-view+json": {
       "model_id": "417a4823548b4432a580c8b972ec57ad",
       "version_major": 2,
       "version_minor": 0
      },
      "text/plain": [
       "Button(button_style='primary', description='Save Data Access Answers to json file', layout=Layout(flex='1 1 au…"
      ]
     },
     "metadata": {},
     "output_type": "display_data"
    }
   ],
   "source": [
    "\n",
    "# Save button\n",
    "save_button = widgets.Button(description=\"Save Data Access Answers to json file\",  button_style=\"primary\",  layout=widgets.Layout(flex='1 1 auto', width='auto'))\n",
    "\n",
    "def generate_updates_preparation():\n",
    "\n",
    "    updates = {\n",
    "        \"DataPreparation\": {\n",
    "            \"NullValuesFilled\": dataset_null_values.value,\n",
    "            \"OutliersIdentified\": dataset_outliers.value,\n",
    "            \"Gridded\": dataset_gridded.value,\n",
    "            \"TransformedFromOriginal\": dataset_gridded_transformed.value,\n",
    "            \"OriginalSamplingAvailable\": dataset_gridded_original_sample.value, \n",
    "            \"SupervisedLearningLabels\" : dataset_targets_or_labels.value,\n",
    "            \"SupervisedLearningLabelStandards\" : dataset_targets_or_labels_standards.value,\n",
    "          \n",
    "        }\n",
    "    }\n",
    "    return updates\n",
    "\n",
    "save_button.on_click(lambda b: utils.update_checklist(b, generate_updates_preparation()))\n",
    "\n",
    "display(save_button)"
   ]
  },
  {
   "cell_type": "markdown",
   "id": "3824aa9e-9d66-4a2e-a1a2-60139f7c30dd",
   "metadata": {},
   "source": [
    "## Finished"
   ]
  },
  {
   "cell_type": "code",
   "execution_count": 43,
   "id": "d35683fe-7d9f-40fa-81fa-99f926702fd6",
   "metadata": {
    "jupyter": {
     "source_hidden": true
    }
   },
   "outputs": [
    {
     "data": {
      "application/vnd.jupyter.widget-view+json": {
       "model_id": "43096b5f77d04146b3d91f3374ec9ab4",
       "version_major": 2,
       "version_minor": 0
      },
      "text/plain": [
       "Button(button_style='info', description='Print json results', layout=Layout(flex='1 1 auto', width='auto'), st…"
      ]
     },
     "metadata": {},
     "output_type": "display_data"
    },
    {
     "data": {
      "application/vnd.jupyter.widget-view+json": {
       "model_id": "6f702e98f1f8400ca6c09db01514725b",
       "version_major": 2,
       "version_minor": 0
      },
      "text/plain": [
       "Output()"
      ]
     },
     "metadata": {},
     "output_type": "display_data"
    }
   ],
   "source": [
    "\n",
    "button_print_json = widgets.Button(description=\"Print json results\",  button_style='info', layout=widgets.Layout(flex='1 1 auto', width='auto'))\n",
    "output = widgets.Output()\n",
    "\n",
    "display(button_print_json, output)\n",
    "\n",
    "def print_json_info(b):\n",
    "    \"\"\"\n",
    "    Loads a copy of the json file to checklist variable. \n",
    "    Then prints the json file contents to Jupyter notebook cell output.\n",
    "\n",
    "    Arguments: b - represents the button calling the function. \n",
    "    \"\"\"\n",
    "    checklist = utils.load_checklist()\n",
    "    with output:\n",
    "        clear_output()\n",
    "        for key, value in checklist.items():\n",
    "            print(f\"{key}:\")\n",
    "            if isinstance(value, dict):\n",
    "                for sub_key, sub_value in value.items():\n",
    "                    print(f\"  {sub_key}: {sub_value}\")\n",
    "            else:\n",
    "                print(f\"  {value}\")\n",
    "\n",
    "button_print_json.on_click(print_json_info)\n"
   ]
  },
  {
   "cell_type": "markdown",
   "id": "c760fc3b-f413-46e4-8a76-31684d83a2d2",
   "metadata": {},
   "source": [
    "---\n",
    "\n",
    "## **Appendix** - Definition of terms used in the checklist."
   ]
  }
 ],
 "metadata": {
  "kernelspec": {
   "display_name": "data_readiness",
   "language": "python",
   "name": "data_readiness"
  },
  "language_info": {
   "codemirror_mode": {
    "name": "ipython",
    "version": 3
   },
   "file_extension": ".py",
   "mimetype": "text/x-python",
   "name": "python",
   "nbconvert_exporter": "python",
   "pygments_lexer": "ipython3",
   "version": "3.10.16"
  },
  "widgets": {
   "application/vnd.jupyter.widget-state+json": {
    "state": {
     "0fa12dbe3cb34c03af248cb7671cbfde": {
      "model_module": "@jupyter-widgets/base",
      "model_module_version": "2.0.0",
      "model_name": "LayoutModel",
      "state": {
       "width": "900px"
      }
     },
     "25ff37f7ace84f23aaa88dcc0de062d6": {
      "model_module": "@jupyter-widgets/base",
      "model_module_version": "2.0.0",
      "model_name": "LayoutModel",
      "state": {
       "width": "900px"
      }
     },
     "296fa93c63bb41e086a95c0593880600": {
      "model_module": "@jupyter-widgets/controls",
      "model_module_version": "2.0.0",
      "model_name": "TextStyleModel",
      "state": {
       "description_width": "initial",
       "font_size": null,
       "text_color": null
      }
     },
     "2e8819b59da64283bbfa3254a0570492": {
      "model_module": "@jupyter-widgets/controls",
      "model_module_version": "2.0.0",
      "model_name": "ComboboxModel",
      "state": {
       "description": "5.4 Are there associated targets or labels for supervised learning techniques?",
       "ensure_option": false,
       "layout": "IPY_MODEL_3b2aaa2d5f444d73a36247add3450e50",
       "options": [
        "Yes",
        "No",
        "N/A"
       ],
       "placeholder": "Click to select option - (Can this be used as a training dataset)?",
       "style": "IPY_MODEL_f4a154fbc5a34d77b33df161c8524b7d"
      }
     },
     "2f1fee6ccb5e403e8eb098487935e5ee": {
      "model_module": "@jupyter-widgets/base",
      "model_module_version": "2.0.0",
      "model_name": "LayoutModel",
      "state": {
       "flex": "1 1 auto",
       "width": "auto"
      }
     },
     "2fa501ad3fcc4208b39be8bcdd03b670": {
      "model_module": "@jupyter-widgets/base",
      "model_module_version": "2.0.0",
      "model_name": "LayoutModel",
      "state": {
       "flex": "1 1 auto",
       "width": "auto"
      }
     },
     "311d4570f0be4782919e604e3f95a833": {
      "model_module": "@jupyter-widgets/base",
      "model_module_version": "2.0.0",
      "model_name": "LayoutModel",
      "state": {
       "width": "900px"
      }
     },
     "31cf04e124dd48f797700056d079c4e4": {
      "model_module": "@jupyter-widgets/output",
      "model_module_version": "1.0.0",
      "model_name": "OutputModel",
      "state": {
       "layout": "IPY_MODEL_a041dd4e5a044a1c9ca603495abe1f2d"
      }
     },
     "3b2aaa2d5f444d73a36247add3450e50": {
      "model_module": "@jupyter-widgets/base",
      "model_module_version": "2.0.0",
      "model_name": "LayoutModel",
      "state": {
       "width": "900px"
      }
     },
     "3b90a645074c4d3c9ebe84fb5e7abaff": {
      "model_module": "@jupyter-widgets/controls",
      "model_module_version": "2.0.0",
      "model_name": "TextStyleModel",
      "state": {
       "description_width": "initial",
       "font_size": null,
       "text_color": null
      }
     },
     "3dd2ff316d6b4910aabb5538cd6d9213": {
      "model_module": "@jupyter-widgets/controls",
      "model_module_version": "2.0.0",
      "model_name": "ButtonStyleModel",
      "state": {
       "font_family": null,
       "font_size": null,
       "font_style": null,
       "font_variant": null,
       "font_weight": null,
       "text_color": null,
       "text_decoration": null
      }
     },
     "3f647e266b764fd6a10f16eecaa5570d": {
      "model_module": "@jupyter-widgets/controls",
      "model_module_version": "2.0.0",
      "model_name": "ComboboxModel",
      "state": {
       "description": "If the data is resampled from the original sampling, is the data also available at the original sampling?",
       "ensure_option": false,
       "layout": "IPY_MODEL_311d4570f0be4782919e604e3f95a833",
       "options": [
        "Yes",
        "No",
        "Only by request",
        "N/A"
       ],
       "placeholder": "Click to select option",
       "style": "IPY_MODEL_a4401f7a6d574200a037fba212e23968"
      }
     },
     "4cb3e09c82a54bf6bd5fa497f85350a0": {
      "model_module": "@jupyter-widgets/controls",
      "model_module_version": "2.0.0",
      "model_name": "LabelModel",
      "state": {
       "layout": "IPY_MODEL_78453e7ab4f347108a89e9901461b452",
       "style": "IPY_MODEL_a3ef5f5803c84a2fbd1d3f04e062b3ac",
       "value": "If there are associated targets/labels, are community labeling standards implemented?"
      }
     },
     "4eff81c7177c46b1bd65c589c1b6c6b0": {
      "model_module": "@jupyter-widgets/base",
      "model_module_version": "2.0.0",
      "model_name": "LayoutModel",
      "state": {
       "width": "900px"
      }
     },
     "78453e7ab4f347108a89e9901461b452": {
      "model_module": "@jupyter-widgets/base",
      "model_module_version": "2.0.0",
      "model_name": "LayoutModel",
      "state": {}
     },
     "7f64f58e3d7b4e2c8d3cd972737ed811": {
      "model_module": "@jupyter-widgets/controls",
      "model_module_version": "2.0.0",
      "model_name": "TextStyleModel",
      "state": {
       "description_width": "initial",
       "font_size": null,
       "text_color": null
      }
     },
     "8207d3592023491e9aaa14687d503282": {
      "model_module": "@jupyter-widgets/controls",
      "model_module_version": "2.0.0",
      "model_name": "ButtonStyleModel",
      "state": {
       "font_family": null,
       "font_size": null,
       "font_style": null,
       "font_variant": null,
       "font_weight": null,
       "text_color": null,
       "text_decoration": null
      }
     },
     "8f46290dfc844082a6211cb4500fa474": {
      "model_module": "@jupyter-widgets/base",
      "model_module_version": "2.0.0",
      "model_name": "LayoutModel",
      "state": {
       "width": "900px"
      }
     },
     "a041dd4e5a044a1c9ca603495abe1f2d": {
      "model_module": "@jupyter-widgets/base",
      "model_module_version": "2.0.0",
      "model_name": "LayoutModel",
      "state": {}
     },
     "a3ef5f5803c84a2fbd1d3f04e062b3ac": {
      "model_module": "@jupyter-widgets/controls",
      "model_module_version": "2.0.0",
      "model_name": "LabelStyleModel",
      "state": {
       "description_width": "",
       "font_family": null,
       "font_size": null,
       "font_style": null,
       "font_variant": null,
       "font_weight": null,
       "text_color": null,
       "text_decoration": null
      }
     },
     "a4401f7a6d574200a037fba212e23968": {
      "model_module": "@jupyter-widgets/controls",
      "model_module_version": "2.0.0",
      "model_name": "TextStyleModel",
      "state": {
       "description_width": "initial",
       "font_size": null,
       "text_color": null
      }
     },
     "a7bfece1a3f74c71aade076e6c3fdb6a": {
      "model_module": "@jupyter-widgets/controls",
      "model_module_version": "2.0.0",
      "model_name": "ComboboxModel",
      "state": {
       "description": "5.1 Have null values/gaps been filled?",
       "ensure_option": false,
       "layout": "IPY_MODEL_25ff37f7ace84f23aaa88dcc0de062d6",
       "options": [
        "Yes",
        "No",
        "N/A"
       ],
       "placeholder": "Click to select option",
       "style": "IPY_MODEL_296fa93c63bb41e086a95c0593880600"
      }
     },
     "acb5f1d0845d4d00a7eb7b3394978ce8": {
      "model_module": "@jupyter-widgets/controls",
      "model_module_version": "2.0.0",
      "model_name": "ButtonModel",
      "state": {
       "button_style": "info",
       "description": "Print json results",
       "layout": "IPY_MODEL_2f1fee6ccb5e403e8eb098487935e5ee",
       "style": "IPY_MODEL_8207d3592023491e9aaa14687d503282",
       "tooltip": null
      }
     },
     "b57641f399754f36b42cd83841d9994b": {
      "model_module": "@jupyter-widgets/controls",
      "model_module_version": "2.0.0",
      "model_name": "ButtonModel",
      "state": {
       "button_style": "primary",
       "description": "Save Data Access Answers to json file",
       "layout": "IPY_MODEL_2fa501ad3fcc4208b39be8bcdd03b670",
       "style": "IPY_MODEL_3dd2ff316d6b4910aabb5538cd6d9213",
       "tooltip": null
      }
     },
     "b79c214b659d4aae8b85740f8e5e3c7c": {
      "model_module": "@jupyter-widgets/controls",
      "model_module_version": "2.0.0",
      "model_name": "ComboboxModel",
      "state": {
       "description": "5.2 Have outliers been identified?",
       "ensure_option": false,
       "layout": "IPY_MODEL_8f46290dfc844082a6211cb4500fa474",
       "options": [
        "Yes, tagged ",
        "Yes, removed",
        "No",
        "N/A"
       ],
       "placeholder": "Click to select option",
       "style": "IPY_MODEL_fd60e17548ae42a88019b2b4501233a0"
      }
     },
     "e8fd2e32b0f5401aaf26d14395ac7138": {
      "model_module": "@jupyter-widgets/base",
      "model_module_version": "2.0.0",
      "model_name": "LayoutModel",
      "state": {
       "width": "900px"
      }
     },
     "ee0e814b63a9410ba83acc68cc4137bf": {
      "model_module": "@jupyter-widgets/controls",
      "model_module_version": "2.0.0",
      "model_name": "ComboboxModel",
      "state": {
       "description": "5.3 Is the data gridded (regularly sampled in time and space)?",
       "ensure_option": false,
       "layout": "IPY_MODEL_4eff81c7177c46b1bd65c589c1b6c6b0",
       "options": [
        "Regularly gridded in space",
        "Constant time-frequency",
        "Regularly gridded in space and constant time-frequency",
        "Not gridded",
        "N/A"
       ],
       "placeholder": "Click to select option",
       "style": "IPY_MODEL_3b90a645074c4d3c9ebe84fb5e7abaff"
      }
     },
     "f4a154fbc5a34d77b33df161c8524b7d": {
      "model_module": "@jupyter-widgets/controls",
      "model_module_version": "2.0.0",
      "model_name": "TextStyleModel",
      "state": {
       "description_width": "initial",
       "font_size": null,
       "text_color": null
      }
     },
     "f756331fd74f4e4f835ef9ab9ca6bca5": {
      "model_module": "@jupyter-widgets/controls",
      "model_module_version": "2.0.0",
      "model_name": "ComboboxModel",
      "state": {
       "description": "If the data is gridded, was it transformed from a different original sampling?",
       "ensure_option": false,
       "layout": "IPY_MODEL_e8fd2e32b0f5401aaf26d14395ac7138",
       "options": [
        "Yes, from irregular sampling",
        "Yes, from a different regular sampling",
        "No, this is the original sampling",
        "N/A"
       ],
       "placeholder": "Click to select option",
       "style": "IPY_MODEL_7f64f58e3d7b4e2c8d3cd972737ed811"
      }
     },
     "fafa3b62e60946ad8cfd3087b3865b53": {
      "model_module": "@jupyter-widgets/controls",
      "model_module_version": "2.0.0",
      "model_name": "TextModel",
      "state": {
       "layout": "IPY_MODEL_0fa12dbe3cb34c03af248cb7671cbfde",
       "placeholder": "e.g., STAC label extension, ESA AIREO specification, etc.",
       "style": "IPY_MODEL_fbfd491957ce4712ba006c68c7e7d78b"
      }
     },
     "fbfd491957ce4712ba006c68c7e7d78b": {
      "model_module": "@jupyter-widgets/controls",
      "model_module_version": "2.0.0",
      "model_name": "TextStyleModel",
      "state": {
       "description_width": "",
       "font_size": null,
       "text_color": null
      }
     },
     "fd60e17548ae42a88019b2b4501233a0": {
      "model_module": "@jupyter-widgets/controls",
      "model_module_version": "2.0.0",
      "model_name": "TextStyleModel",
      "state": {
       "description_width": "initial",
       "font_size": null,
       "text_color": null
      }
     }
    },
    "version_major": 2,
    "version_minor": 0
   }
  }
 },
 "nbformat": 4,
 "nbformat_minor": 5
}
