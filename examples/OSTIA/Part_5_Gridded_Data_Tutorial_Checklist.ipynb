{
 "cells": [
  {
   "cell_type": "markdown",
   "id": "f8198bd3-3e2a-444f-bff5-c9647a804ca9",
   "metadata": {
    "editable": true,
    "slideshow": {
     "slide_type": ""
    },
    "tags": []
   },
   "source": [
    "# **Data Readiness For AI Checklist - Part 5**\n",
    "\n",
    " * Creator(s) John Pill\n",
    " * Affiliation: UK Met Office\n",
    " * History: 1.0\n",
    " * Last update: 27 August 2024.\n",
    "\n",
    "\n",
    "---"
   ]
  },
  {
   "cell_type": "markdown",
   "id": "4eb841fa-aab5-401b-9e67-1c2e0723c6dd",
   "metadata": {},
   "source": [
    "## **Tutorial Material**\n",
    "\n",
    "* **Run this Jupyter notebook locally using Jupyter Lab**\n",
    "* **Select 'Run All Cells' from the 'Run' menu to generate the checklist**.\n",
    "* **Remember to save your notebook regularly as you work through it.**\n",
    "\n",
    "\n",
    "## **Data section, optional**\n",
    "Scripts for pulling the data into the notebook assuming\n",
    "\n",
    "---"
   ]
  },
  {
   "cell_type": "markdown",
   "id": "f6840884-d7bb-43fa-a3e3-8c4106c435e5",
   "metadata": {},
   "source": [
    "## **Setup Notebook**"
   ]
  },
  {
   "cell_type": "code",
   "execution_count": 1,
   "id": "5b5a42bb-1da9-4460-a6a0-8d85063fd096",
   "metadata": {
    "editable": true,
    "slideshow": {
     "slide_type": ""
    },
    "tags": [
     "thebe-init"
    ]
   },
   "outputs": [],
   "source": [
    "import ipywidgets as widgets\n",
    "from IPython.display import display, clear_output\n",
    "import json\n",
    "import sys\n",
    "import os\n",
    "import numpy as np\n",
    "from aidatareadiness import utils\n",
    "from aidatareadiness.utils import WIDGET_WIDTH, DESCRIPTION_STYLE, PLACEHOLDER  \n",
    "from aidatareadiness.checklist_auto import gridded "
   ]
  },
  {
   "cell_type": "markdown",
   "id": "1447f5aa-9ece-403a-8846-ce51e9092f16",
   "metadata": {},
   "source": [
    "## **Load Data**"
   ]
  },
  {
   "cell_type": "code",
   "execution_count": 2,
   "id": "3ed9518b-c3da-4be1-ae52-35b76e33e709",
   "metadata": {},
   "outputs": [
    {
     "data": {
      "text/html": [
       "<div><svg style=\"position: absolute; width: 0; height: 0; overflow: hidden\">\n",
       "<defs>\n",
       "<symbol id=\"icon-database\" viewBox=\"0 0 32 32\">\n",
       "<path d=\"M16 0c-8.837 0-16 2.239-16 5v4c0 2.761 7.163 5 16 5s16-2.239 16-5v-4c0-2.761-7.163-5-16-5z\"></path>\n",
       "<path d=\"M16 17c-8.837 0-16-2.239-16-5v6c0 2.761 7.163 5 16 5s16-2.239 16-5v-6c0 2.761-7.163 5-16 5z\"></path>\n",
       "<path d=\"M16 26c-8.837 0-16-2.239-16-5v6c0 2.761 7.163 5 16 5s16-2.239 16-5v-6c0 2.761-7.163 5-16 5z\"></path>\n",
       "</symbol>\n",
       "<symbol id=\"icon-file-text2\" viewBox=\"0 0 32 32\">\n",
       "<path d=\"M28.681 7.159c-0.694-0.947-1.662-2.053-2.724-3.116s-2.169-2.030-3.116-2.724c-1.612-1.182-2.393-1.319-2.841-1.319h-15.5c-1.378 0-2.5 1.121-2.5 2.5v27c0 1.378 1.122 2.5 2.5 2.5h23c1.378 0 2.5-1.122 2.5-2.5v-19.5c0-0.448-0.137-1.23-1.319-2.841zM24.543 5.457c0.959 0.959 1.712 1.825 2.268 2.543h-4.811v-4.811c0.718 0.556 1.584 1.309 2.543 2.268zM28 29.5c0 0.271-0.229 0.5-0.5 0.5h-23c-0.271 0-0.5-0.229-0.5-0.5v-27c0-0.271 0.229-0.5 0.5-0.5 0 0 15.499-0 15.5 0v7c0 0.552 0.448 1 1 1h7v19.5z\"></path>\n",
       "<path d=\"M23 26h-14c-0.552 0-1-0.448-1-1s0.448-1 1-1h14c0.552 0 1 0.448 1 1s-0.448 1-1 1z\"></path>\n",
       "<path d=\"M23 22h-14c-0.552 0-1-0.448-1-1s0.448-1 1-1h14c0.552 0 1 0.448 1 1s-0.448 1-1 1z\"></path>\n",
       "<path d=\"M23 18h-14c-0.552 0-1-0.448-1-1s0.448-1 1-1h14c0.552 0 1 0.448 1 1s-0.448 1-1 1z\"></path>\n",
       "</symbol>\n",
       "</defs>\n",
       "</svg>\n",
       "<style>/* CSS stylesheet for displaying xarray objects in jupyterlab.\n",
       " *\n",
       " */\n",
       "\n",
       ":root {\n",
       "  --xr-font-color0: var(--jp-content-font-color0, rgba(0, 0, 0, 1));\n",
       "  --xr-font-color2: var(--jp-content-font-color2, rgba(0, 0, 0, 0.54));\n",
       "  --xr-font-color3: var(--jp-content-font-color3, rgba(0, 0, 0, 0.38));\n",
       "  --xr-border-color: var(--jp-border-color2, #e0e0e0);\n",
       "  --xr-disabled-color: var(--jp-layout-color3, #bdbdbd);\n",
       "  --xr-background-color: var(--jp-layout-color0, white);\n",
       "  --xr-background-color-row-even: var(--jp-layout-color1, white);\n",
       "  --xr-background-color-row-odd: var(--jp-layout-color2, #eeeeee);\n",
       "}\n",
       "\n",
       "html[theme=\"dark\"],\n",
       "html[data-theme=\"dark\"],\n",
       "body[data-theme=\"dark\"],\n",
       "body.vscode-dark {\n",
       "  --xr-font-color0: rgba(255, 255, 255, 1);\n",
       "  --xr-font-color2: rgba(255, 255, 255, 0.54);\n",
       "  --xr-font-color3: rgba(255, 255, 255, 0.38);\n",
       "  --xr-border-color: #1f1f1f;\n",
       "  --xr-disabled-color: #515151;\n",
       "  --xr-background-color: #111111;\n",
       "  --xr-background-color-row-even: #111111;\n",
       "  --xr-background-color-row-odd: #313131;\n",
       "}\n",
       "\n",
       ".xr-wrap {\n",
       "  display: block !important;\n",
       "  min-width: 300px;\n",
       "  max-width: 700px;\n",
       "}\n",
       "\n",
       ".xr-text-repr-fallback {\n",
       "  /* fallback to plain text repr when CSS is not injected (untrusted notebook) */\n",
       "  display: none;\n",
       "}\n",
       "\n",
       ".xr-header {\n",
       "  padding-top: 6px;\n",
       "  padding-bottom: 6px;\n",
       "  margin-bottom: 4px;\n",
       "  border-bottom: solid 1px var(--xr-border-color);\n",
       "}\n",
       "\n",
       ".xr-header > div,\n",
       ".xr-header > ul {\n",
       "  display: inline;\n",
       "  margin-top: 0;\n",
       "  margin-bottom: 0;\n",
       "}\n",
       "\n",
       ".xr-obj-type,\n",
       ".xr-array-name {\n",
       "  margin-left: 2px;\n",
       "  margin-right: 10px;\n",
       "}\n",
       "\n",
       ".xr-obj-type {\n",
       "  color: var(--xr-font-color2);\n",
       "}\n",
       "\n",
       ".xr-sections {\n",
       "  padding-left: 0 !important;\n",
       "  display: grid;\n",
       "  grid-template-columns: 150px auto auto 1fr 0 20px 0 20px;\n",
       "}\n",
       "\n",
       ".xr-section-item {\n",
       "  display: contents;\n",
       "}\n",
       "\n",
       ".xr-section-item input {\n",
       "  display: inline-block;\n",
       "  opacity: 0;\n",
       "  height: 0;\n",
       "}\n",
       "\n",
       ".xr-section-item input + label {\n",
       "  color: var(--xr-disabled-color);\n",
       "}\n",
       "\n",
       ".xr-section-item input:enabled + label {\n",
       "  cursor: pointer;\n",
       "  color: var(--xr-font-color2);\n",
       "}\n",
       "\n",
       ".xr-section-item input:focus + label {\n",
       "  border: 2px solid var(--xr-font-color0);\n",
       "}\n",
       "\n",
       ".xr-section-item input:enabled + label:hover {\n",
       "  color: var(--xr-font-color0);\n",
       "}\n",
       "\n",
       ".xr-section-summary {\n",
       "  grid-column: 1;\n",
       "  color: var(--xr-font-color2);\n",
       "  font-weight: 500;\n",
       "}\n",
       "\n",
       ".xr-section-summary > span {\n",
       "  display: inline-block;\n",
       "  padding-left: 0.5em;\n",
       "}\n",
       "\n",
       ".xr-section-summary-in:disabled + label {\n",
       "  color: var(--xr-font-color2);\n",
       "}\n",
       "\n",
       ".xr-section-summary-in + label:before {\n",
       "  display: inline-block;\n",
       "  content: \"►\";\n",
       "  font-size: 11px;\n",
       "  width: 15px;\n",
       "  text-align: center;\n",
       "}\n",
       "\n",
       ".xr-section-summary-in:disabled + label:before {\n",
       "  color: var(--xr-disabled-color);\n",
       "}\n",
       "\n",
       ".xr-section-summary-in:checked + label:before {\n",
       "  content: \"▼\";\n",
       "}\n",
       "\n",
       ".xr-section-summary-in:checked + label > span {\n",
       "  display: none;\n",
       "}\n",
       "\n",
       ".xr-section-summary,\n",
       ".xr-section-inline-details {\n",
       "  padding-top: 4px;\n",
       "  padding-bottom: 4px;\n",
       "}\n",
       "\n",
       ".xr-section-inline-details {\n",
       "  grid-column: 2 / -1;\n",
       "}\n",
       "\n",
       ".xr-section-details {\n",
       "  display: none;\n",
       "  grid-column: 1 / -1;\n",
       "  margin-bottom: 5px;\n",
       "}\n",
       "\n",
       ".xr-section-summary-in:checked ~ .xr-section-details {\n",
       "  display: contents;\n",
       "}\n",
       "\n",
       ".xr-array-wrap {\n",
       "  grid-column: 1 / -1;\n",
       "  display: grid;\n",
       "  grid-template-columns: 20px auto;\n",
       "}\n",
       "\n",
       ".xr-array-wrap > label {\n",
       "  grid-column: 1;\n",
       "  vertical-align: top;\n",
       "}\n",
       "\n",
       ".xr-preview {\n",
       "  color: var(--xr-font-color3);\n",
       "}\n",
       "\n",
       ".xr-array-preview,\n",
       ".xr-array-data {\n",
       "  padding: 0 5px !important;\n",
       "  grid-column: 2;\n",
       "}\n",
       "\n",
       ".xr-array-data,\n",
       ".xr-array-in:checked ~ .xr-array-preview {\n",
       "  display: none;\n",
       "}\n",
       "\n",
       ".xr-array-in:checked ~ .xr-array-data,\n",
       ".xr-array-preview {\n",
       "  display: inline-block;\n",
       "}\n",
       "\n",
       ".xr-dim-list {\n",
       "  display: inline-block !important;\n",
       "  list-style: none;\n",
       "  padding: 0 !important;\n",
       "  margin: 0;\n",
       "}\n",
       "\n",
       ".xr-dim-list li {\n",
       "  display: inline-block;\n",
       "  padding: 0;\n",
       "  margin: 0;\n",
       "}\n",
       "\n",
       ".xr-dim-list:before {\n",
       "  content: \"(\";\n",
       "}\n",
       "\n",
       ".xr-dim-list:after {\n",
       "  content: \")\";\n",
       "}\n",
       "\n",
       ".xr-dim-list li:not(:last-child):after {\n",
       "  content: \",\";\n",
       "  padding-right: 5px;\n",
       "}\n",
       "\n",
       ".xr-has-index {\n",
       "  font-weight: bold;\n",
       "}\n",
       "\n",
       ".xr-var-list,\n",
       ".xr-var-item {\n",
       "  display: contents;\n",
       "}\n",
       "\n",
       ".xr-var-item > div,\n",
       ".xr-var-item label,\n",
       ".xr-var-item > .xr-var-name span {\n",
       "  background-color: var(--xr-background-color-row-even);\n",
       "  margin-bottom: 0;\n",
       "}\n",
       "\n",
       ".xr-var-item > .xr-var-name:hover span {\n",
       "  padding-right: 5px;\n",
       "}\n",
       "\n",
       ".xr-var-list > li:nth-child(odd) > div,\n",
       ".xr-var-list > li:nth-child(odd) > label,\n",
       ".xr-var-list > li:nth-child(odd) > .xr-var-name span {\n",
       "  background-color: var(--xr-background-color-row-odd);\n",
       "}\n",
       "\n",
       ".xr-var-name {\n",
       "  grid-column: 1;\n",
       "}\n",
       "\n",
       ".xr-var-dims {\n",
       "  grid-column: 2;\n",
       "}\n",
       "\n",
       ".xr-var-dtype {\n",
       "  grid-column: 3;\n",
       "  text-align: right;\n",
       "  color: var(--xr-font-color2);\n",
       "}\n",
       "\n",
       ".xr-var-preview {\n",
       "  grid-column: 4;\n",
       "}\n",
       "\n",
       ".xr-index-preview {\n",
       "  grid-column: 2 / 5;\n",
       "  color: var(--xr-font-color2);\n",
       "}\n",
       "\n",
       ".xr-var-name,\n",
       ".xr-var-dims,\n",
       ".xr-var-dtype,\n",
       ".xr-preview,\n",
       ".xr-attrs dt {\n",
       "  white-space: nowrap;\n",
       "  overflow: hidden;\n",
       "  text-overflow: ellipsis;\n",
       "  padding-right: 10px;\n",
       "}\n",
       "\n",
       ".xr-var-name:hover,\n",
       ".xr-var-dims:hover,\n",
       ".xr-var-dtype:hover,\n",
       ".xr-attrs dt:hover {\n",
       "  overflow: visible;\n",
       "  width: auto;\n",
       "  z-index: 1;\n",
       "}\n",
       "\n",
       ".xr-var-attrs,\n",
       ".xr-var-data,\n",
       ".xr-index-data {\n",
       "  display: none;\n",
       "  background-color: var(--xr-background-color) !important;\n",
       "  padding-bottom: 5px !important;\n",
       "}\n",
       "\n",
       ".xr-var-attrs-in:checked ~ .xr-var-attrs,\n",
       ".xr-var-data-in:checked ~ .xr-var-data,\n",
       ".xr-index-data-in:checked ~ .xr-index-data {\n",
       "  display: block;\n",
       "}\n",
       "\n",
       ".xr-var-data > table {\n",
       "  float: right;\n",
       "}\n",
       "\n",
       ".xr-var-name span,\n",
       ".xr-var-data,\n",
       ".xr-index-name div,\n",
       ".xr-index-data,\n",
       ".xr-attrs {\n",
       "  padding-left: 25px !important;\n",
       "}\n",
       "\n",
       ".xr-attrs,\n",
       ".xr-var-attrs,\n",
       ".xr-var-data,\n",
       ".xr-index-data {\n",
       "  grid-column: 1 / -1;\n",
       "}\n",
       "\n",
       "dl.xr-attrs {\n",
       "  padding: 0;\n",
       "  margin: 0;\n",
       "  display: grid;\n",
       "  grid-template-columns: 125px auto;\n",
       "}\n",
       "\n",
       ".xr-attrs dt,\n",
       ".xr-attrs dd {\n",
       "  padding: 0;\n",
       "  margin: 0;\n",
       "  float: left;\n",
       "  padding-right: 10px;\n",
       "  width: auto;\n",
       "}\n",
       "\n",
       ".xr-attrs dt {\n",
       "  font-weight: normal;\n",
       "  grid-column: 1;\n",
       "}\n",
       "\n",
       ".xr-attrs dt:hover span {\n",
       "  display: inline-block;\n",
       "  background: var(--xr-background-color);\n",
       "  padding-right: 10px;\n",
       "}\n",
       "\n",
       ".xr-attrs dd {\n",
       "  grid-column: 2;\n",
       "  white-space: pre-wrap;\n",
       "  word-break: break-all;\n",
       "}\n",
       "\n",
       ".xr-icon-database,\n",
       ".xr-icon-file-text2,\n",
       ".xr-no-icon {\n",
       "  display: inline-block;\n",
       "  vertical-align: middle;\n",
       "  width: 1em;\n",
       "  height: 1.5em !important;\n",
       "  stroke-width: 0;\n",
       "  stroke: currentColor;\n",
       "  fill: currentColor;\n",
       "}\n",
       "</style><pre class='xr-text-repr-fallback'>&lt;xarray.Dataset&gt; Size: 415MB\n",
       "Dimensions:           (time: 1, lat: 3600, lon: 7200)\n",
       "Coordinates:\n",
       "  * time              (time) datetime64[ns] 8B 2021-07-01T12:00:00\n",
       "  * lat               (lat) float32 14kB -89.97 -89.93 -89.88 ... 89.93 89.97\n",
       "  * lon               (lon) float32 29kB -180.0 -179.9 -179.9 ... 179.9 180.0\n",
       "Data variables:\n",
       "    analysed_sst      (time, lat, lon) float32 104MB ...\n",
       "    analysis_error    (time, lat, lon) float32 104MB ...\n",
       "    sea_ice_fraction  (time, lat, lon) float32 104MB ...\n",
       "    mask              (time, lat, lon) float32 104MB ...\n",
       "Attributes: (12/47)\n",
       "    Conventions:                CF-1.4, ACDD-1.3\n",
       "    title:                      Global SST &amp; Sea Ice Analysis, L4 OSTIA, 0.05...\n",
       "    summary:                    A merged, multi-sensor L4 Foundation SST product\n",
       "    references:                 Donlon, C.J., Martin, M., Stark, J.D., Robert...\n",
       "    institution:                UKMO\n",
       "    history:                    Created from sst.nc; obs_anal.nc; seaice.nc\n",
       "    ...                         ...\n",
       "    project:                    Group for High Resolution Sea Surface Tempera...\n",
       "    publisher_name:             GHRSST Project Office\n",
       "    publisher_url:              http://www.ghrsst.org\n",
       "    publisher_email:            ghrsst-po@nceo.ac.uk\n",
       "    processing_level:           L4\n",
       "    cdm_data_type:              grid</pre><div class='xr-wrap' style='display:none'><div class='xr-header'><div class='xr-obj-type'>xarray.Dataset</div></div><ul class='xr-sections'><li class='xr-section-item'><input id='section-929f44d8-61cd-49f5-8f49-9d4d143d3e17' class='xr-section-summary-in' type='checkbox' disabled ><label for='section-929f44d8-61cd-49f5-8f49-9d4d143d3e17' class='xr-section-summary'  title='Expand/collapse section'>Dimensions:</label><div class='xr-section-inline-details'><ul class='xr-dim-list'><li><span class='xr-has-index'>time</span>: 1</li><li><span class='xr-has-index'>lat</span>: 3600</li><li><span class='xr-has-index'>lon</span>: 7200</li></ul></div><div class='xr-section-details'></div></li><li class='xr-section-item'><input id='section-b2875375-0140-4759-9d4c-6b447c9b88cd' class='xr-section-summary-in' type='checkbox'  checked><label for='section-b2875375-0140-4759-9d4c-6b447c9b88cd' class='xr-section-summary' >Coordinates: <span>(3)</span></label><div class='xr-section-inline-details'></div><div class='xr-section-details'><ul class='xr-var-list'><li class='xr-var-item'><div class='xr-var-name'><span class='xr-has-index'>time</span></div><div class='xr-var-dims'>(time)</div><div class='xr-var-dtype'>datetime64[ns]</div><div class='xr-var-preview xr-preview'>2021-07-01T12:00:00</div><input id='attrs-f1f6b13c-1d6e-4b9a-976a-87564afd72c0' class='xr-var-attrs-in' type='checkbox' ><label for='attrs-f1f6b13c-1d6e-4b9a-976a-87564afd72c0' title='Show/Hide attributes'><svg class='icon xr-icon-file-text2'><use xlink:href='#icon-file-text2'></use></svg></label><input id='data-136f5eb5-a802-41c0-a93b-11ee91485627' class='xr-var-data-in' type='checkbox'><label for='data-136f5eb5-a802-41c0-a93b-11ee91485627' title='Show/Hide data repr'><svg class='icon xr-icon-database'><use xlink:href='#icon-database'></use></svg></label><div class='xr-var-attrs'><dl class='xr-attrs'><dt><span>long_name :</span></dt><dd>reference time of sst field</dd><dt><span>standard_name :</span></dt><dd>time</dd><dt><span>axis :</span></dt><dd>T</dd><dt><span>comment :</span></dt><dd></dd></dl></div><div class='xr-var-data'><pre>array([&#x27;2021-07-01T12:00:00.000000000&#x27;], dtype=&#x27;datetime64[ns]&#x27;)</pre></div></li><li class='xr-var-item'><div class='xr-var-name'><span class='xr-has-index'>lat</span></div><div class='xr-var-dims'>(lat)</div><div class='xr-var-dtype'>float32</div><div class='xr-var-preview xr-preview'>-89.97 -89.93 ... 89.93 89.97</div><input id='attrs-24681c81-8417-47a4-bd0e-24c1c4b11405' class='xr-var-attrs-in' type='checkbox' ><label for='attrs-24681c81-8417-47a4-bd0e-24c1c4b11405' title='Show/Hide attributes'><svg class='icon xr-icon-file-text2'><use xlink:href='#icon-file-text2'></use></svg></label><input id='data-cf42746d-97dd-4106-9c79-6e52825b83e0' class='xr-var-data-in' type='checkbox'><label for='data-cf42746d-97dd-4106-9c79-6e52825b83e0' title='Show/Hide data repr'><svg class='icon xr-icon-database'><use xlink:href='#icon-database'></use></svg></label><div class='xr-var-attrs'><dl class='xr-attrs'><dt><span>standard_name :</span></dt><dd>latitude</dd><dt><span>long_name :</span></dt><dd>latitude</dd><dt><span>units :</span></dt><dd>degrees_north</dd><dt><span>valid_min :</span></dt><dd>-90.0</dd><dt><span>valid_max :</span></dt><dd>90.0</dd><dt><span>axis :</span></dt><dd>Y</dd><dt><span>comment :</span></dt><dd> Latitude geographical coordinates,WGS84 projection</dd></dl></div><div class='xr-var-data'><pre>array([-89.975, -89.925, -89.875, ...,  89.875,  89.925,  89.975],\n",
       "      dtype=float32)</pre></div></li><li class='xr-var-item'><div class='xr-var-name'><span class='xr-has-index'>lon</span></div><div class='xr-var-dims'>(lon)</div><div class='xr-var-dtype'>float32</div><div class='xr-var-preview xr-preview'>-180.0 -179.9 ... 179.9 180.0</div><input id='attrs-696e8b32-64b0-4250-bb1b-59bf509c6281' class='xr-var-attrs-in' type='checkbox' ><label for='attrs-696e8b32-64b0-4250-bb1b-59bf509c6281' title='Show/Hide attributes'><svg class='icon xr-icon-file-text2'><use xlink:href='#icon-file-text2'></use></svg></label><input id='data-3cdfd4f8-7c01-4d93-9456-b215741be956' class='xr-var-data-in' type='checkbox'><label for='data-3cdfd4f8-7c01-4d93-9456-b215741be956' title='Show/Hide data repr'><svg class='icon xr-icon-database'><use xlink:href='#icon-database'></use></svg></label><div class='xr-var-attrs'><dl class='xr-attrs'><dt><span>standard_name :</span></dt><dd>longitude</dd><dt><span>long_name :</span></dt><dd>longitude</dd><dt><span>units :</span></dt><dd>degrees_east</dd><dt><span>valid_min :</span></dt><dd>-180.0</dd><dt><span>valid_max :</span></dt><dd>180.0</dd><dt><span>axis :</span></dt><dd>X</dd><dt><span>comment :</span></dt><dd> Longitude geographical coordinates,WGS84 projection</dd></dl></div><div class='xr-var-data'><pre>array([-179.975, -179.925, -179.875, ...,  179.875,  179.925,  179.975],\n",
       "      dtype=float32)</pre></div></li></ul></div></li><li class='xr-section-item'><input id='section-f22042c1-eae0-499f-8c5c-d50d8fea4c61' class='xr-section-summary-in' type='checkbox'  checked><label for='section-f22042c1-eae0-499f-8c5c-d50d8fea4c61' class='xr-section-summary' >Data variables: <span>(4)</span></label><div class='xr-section-inline-details'></div><div class='xr-section-details'><ul class='xr-var-list'><li class='xr-var-item'><div class='xr-var-name'><span>analysed_sst</span></div><div class='xr-var-dims'>(time, lat, lon)</div><div class='xr-var-dtype'>float32</div><div class='xr-var-preview xr-preview'>...</div><input id='attrs-312f5626-337f-4be9-b1c9-0deaf8b4c294' class='xr-var-attrs-in' type='checkbox' ><label for='attrs-312f5626-337f-4be9-b1c9-0deaf8b4c294' title='Show/Hide attributes'><svg class='icon xr-icon-file-text2'><use xlink:href='#icon-file-text2'></use></svg></label><input id='data-31a0cf60-6eae-4322-b34a-566cd807856a' class='xr-var-data-in' type='checkbox'><label for='data-31a0cf60-6eae-4322-b34a-566cd807856a' title='Show/Hide data repr'><svg class='icon xr-icon-database'><use xlink:href='#icon-database'></use></svg></label><div class='xr-var-attrs'><dl class='xr-attrs'><dt><span>long_name :</span></dt><dd>analysed sea surface temperature</dd><dt><span>standard_name :</span></dt><dd>sea_surface_foundation_temperature</dd><dt><span>units :</span></dt><dd>kelvin</dd><dt><span>valid_min :</span></dt><dd>-300</dd><dt><span>valid_max :</span></dt><dd>4500</dd><dt><span>source :</span></dt><dd>AMSR2-REMSS-L2P-v2.0, AMSRE-REMSS-L2P-v2.0, TMI-REMSS-L2P-v04, GOES&lt;13,16&gt;-OSISAF-L3C-v2.0, SEVIRI-OSISAF-L3C-v2.0, SLSTRA-C3S-L3C-v2.0, ATSR&lt;1,2&gt;-ESACCI-L3U-v2.0, AATSR-ESACCI-L3U-v2.0, AVHRR&lt;06,07,08,09,10,11,12,14,15,16,17,18,19&gt;-ESACCI-L3U-v2.0, AVHRRMTA-ESACCI-L3U-v2.0, GMI-REMSS-L3U-v2.0, VIIRS&lt;NPP,N20&gt;-OSPO-L3U-v2.0</dd><dt><span>reference :</span></dt><dd>C.J. Donlon, M. Martin,J.D. Stark, J. Roberts-Jones, E. Fiedler, W. Wimmer. The operational sea surface temperature and sea ice analysis (OSTIA) system. Remote Sensing Environ., 116 (2012), pp. 140-158 http://dx.doi.org/10.1016/j.rse.2010.10.017</dd><dt><span>comment :</span></dt><dd> OSTIA foundation SST</dd></dl></div><div class='xr-var-data'><pre>[25920000 values with dtype=float32]</pre></div></li><li class='xr-var-item'><div class='xr-var-name'><span>analysis_error</span></div><div class='xr-var-dims'>(time, lat, lon)</div><div class='xr-var-dtype'>float32</div><div class='xr-var-preview xr-preview'>...</div><input id='attrs-25391dfd-11ba-4c9b-9729-5b6863bbbd5c' class='xr-var-attrs-in' type='checkbox' ><label for='attrs-25391dfd-11ba-4c9b-9729-5b6863bbbd5c' title='Show/Hide attributes'><svg class='icon xr-icon-file-text2'><use xlink:href='#icon-file-text2'></use></svg></label><input id='data-9e81946d-7d6f-42e6-b5f8-bb136e6dd184' class='xr-var-data-in' type='checkbox'><label for='data-9e81946d-7d6f-42e6-b5f8-bb136e6dd184' title='Show/Hide data repr'><svg class='icon xr-icon-database'><use xlink:href='#icon-database'></use></svg></label><div class='xr-var-attrs'><dl class='xr-attrs'><dt><span>long_name :</span></dt><dd>estimated error standard deviation of analysed_sst</dd><dt><span>standard_name :</span></dt><dd>sea_surface_foundation_temperature standard_error</dd><dt><span>units :</span></dt><dd>kelvin</dd><dt><span>valid_min :</span></dt><dd>0</dd><dt><span>valid_max :</span></dt><dd>32767</dd><dt><span>comment :</span></dt><dd> OSTIA foundation SST analysis standard deviation error</dd></dl></div><div class='xr-var-data'><pre>[25920000 values with dtype=float32]</pre></div></li><li class='xr-var-item'><div class='xr-var-name'><span>sea_ice_fraction</span></div><div class='xr-var-dims'>(time, lat, lon)</div><div class='xr-var-dtype'>float32</div><div class='xr-var-preview xr-preview'>...</div><input id='attrs-a2544eb3-118a-4b23-8810-17b05aa8fbdc' class='xr-var-attrs-in' type='checkbox' ><label for='attrs-a2544eb3-118a-4b23-8810-17b05aa8fbdc' title='Show/Hide attributes'><svg class='icon xr-icon-file-text2'><use xlink:href='#icon-file-text2'></use></svg></label><input id='data-5bcc5275-67dc-4cfd-a991-04965e644294' class='xr-var-data-in' type='checkbox'><label for='data-5bcc5275-67dc-4cfd-a991-04965e644294' title='Show/Hide data repr'><svg class='icon xr-icon-database'><use xlink:href='#icon-database'></use></svg></label><div class='xr-var-attrs'><dl class='xr-attrs'><dt><span>long_name :</span></dt><dd>sea ice area fraction</dd><dt><span>standard_name :</span></dt><dd>sea_ice_area_fraction</dd><dt><span>units :</span></dt><dd>1</dd><dt><span>valid_min :</span></dt><dd>0</dd><dt><span>valid_max :</span></dt><dd>100</dd><dt><span>source :</span></dt><dd>EUMETSAT OSI-SAF</dd><dt><span>comment :</span></dt><dd> Sea ice area fraction</dd></dl></div><div class='xr-var-data'><pre>[25920000 values with dtype=float32]</pre></div></li><li class='xr-var-item'><div class='xr-var-name'><span>mask</span></div><div class='xr-var-dims'>(time, lat, lon)</div><div class='xr-var-dtype'>float32</div><div class='xr-var-preview xr-preview'>...</div><input id='attrs-746e0964-7b35-491c-a5f8-82370019e760' class='xr-var-attrs-in' type='checkbox' ><label for='attrs-746e0964-7b35-491c-a5f8-82370019e760' title='Show/Hide attributes'><svg class='icon xr-icon-file-text2'><use xlink:href='#icon-file-text2'></use></svg></label><input id='data-ddccce52-1765-42c3-9e48-dbb78822cb6c' class='xr-var-data-in' type='checkbox'><label for='data-ddccce52-1765-42c3-9e48-dbb78822cb6c' title='Show/Hide data repr'><svg class='icon xr-icon-database'><use xlink:href='#icon-database'></use></svg></label><div class='xr-var-attrs'><dl class='xr-attrs'><dt><span>long_name :</span></dt><dd>land sea ice lake bit mask</dd><dt><span>valid_min :</span></dt><dd>1</dd><dt><span>valid_max :</span></dt><dd>31</dd><dt><span>flag_masks :</span></dt><dd>[ 1  2  4  8 16]</dd><dt><span>flag_meanings :</span></dt><dd>water land optional_lake_surface sea_ice optional_river_surface</dd><dt><span>source :</span></dt><dd>NAVOCEANO_landmask_v1.0 EUMETSAT_OSI-SAF_icemask ARCLake_lakemask</dd><dt><span>comment :</span></dt><dd> Land/ open ocean/ sea ice /lake mask</dd></dl></div><div class='xr-var-data'><pre>[25920000 values with dtype=float32]</pre></div></li></ul></div></li><li class='xr-section-item'><input id='section-7a3592b4-00e6-4c02-b189-a254c4c086dc' class='xr-section-summary-in' type='checkbox'  ><label for='section-7a3592b4-00e6-4c02-b189-a254c4c086dc' class='xr-section-summary' >Indexes: <span>(3)</span></label><div class='xr-section-inline-details'></div><div class='xr-section-details'><ul class='xr-var-list'><li class='xr-var-item'><div class='xr-index-name'><div>time</div></div><div class='xr-index-preview'>PandasIndex</div><input type='checkbox' disabled/><label></label><input id='index-8711d254-e915-4574-8650-02128a9951cc' class='xr-index-data-in' type='checkbox'/><label for='index-8711d254-e915-4574-8650-02128a9951cc' title='Show/Hide index repr'><svg class='icon xr-icon-database'><use xlink:href='#icon-database'></use></svg></label><div class='xr-index-data'><pre>PandasIndex(DatetimeIndex([&#x27;2021-07-01 12:00:00&#x27;], dtype=&#x27;datetime64[ns]&#x27;, name=&#x27;time&#x27;, freq=None))</pre></div></li><li class='xr-var-item'><div class='xr-index-name'><div>lat</div></div><div class='xr-index-preview'>PandasIndex</div><input type='checkbox' disabled/><label></label><input id='index-9a4f3bca-51ca-43fb-843a-1a9f711ca2fa' class='xr-index-data-in' type='checkbox'/><label for='index-9a4f3bca-51ca-43fb-843a-1a9f711ca2fa' title='Show/Hide index repr'><svg class='icon xr-icon-database'><use xlink:href='#icon-database'></use></svg></label><div class='xr-index-data'><pre>PandasIndex(Index([ -89.9749984741211, -89.92500305175781,            -89.875,\n",
       "       -89.82499694824219,  -89.7750015258789,  -89.7249984741211,\n",
       "       -89.67500305175781,            -89.625, -89.57499694824219,\n",
       "        -89.5250015258789,\n",
       "       ...\n",
       "         89.5250015258789,  89.57499694824219,             89.625,\n",
       "        89.67500305175781,   89.7249984741211,   89.7750015258789,\n",
       "        89.82499694824219,             89.875,  89.92500305175781,\n",
       "         89.9749984741211],\n",
       "      dtype=&#x27;float32&#x27;, name=&#x27;lat&#x27;, length=3600))</pre></div></li><li class='xr-var-item'><div class='xr-index-name'><div>lon</div></div><div class='xr-index-preview'>PandasIndex</div><input type='checkbox' disabled/><label></label><input id='index-718256f8-2069-4d4b-8629-381bb331d7e6' class='xr-index-data-in' type='checkbox'/><label for='index-718256f8-2069-4d4b-8629-381bb331d7e6' title='Show/Hide index repr'><svg class='icon xr-icon-database'><use xlink:href='#icon-database'></use></svg></label><div class='xr-index-data'><pre>PandasIndex(Index([-179.97500610351562,  -179.9250030517578,            -179.875,\n",
       "        -179.8249969482422, -179.77499389648438, -179.72500610351562,\n",
       "        -179.6750030517578,            -179.625,  -179.5749969482422,\n",
       "       -179.52499389648438,\n",
       "       ...\n",
       "        179.52499389648438,   179.5749969482422,             179.625,\n",
       "         179.6750030517578,  179.72500610351562,  179.77499389648438,\n",
       "         179.8249969482422,             179.875,   179.9250030517578,\n",
       "        179.97500610351562],\n",
       "      dtype=&#x27;float32&#x27;, name=&#x27;lon&#x27;, length=7200))</pre></div></li></ul></div></li><li class='xr-section-item'><input id='section-70e01531-6b5f-4397-a876-e73c79a05e55' class='xr-section-summary-in' type='checkbox'  ><label for='section-70e01531-6b5f-4397-a876-e73c79a05e55' class='xr-section-summary' >Attributes: <span>(47)</span></label><div class='xr-section-inline-details'></div><div class='xr-section-details'><dl class='xr-attrs'><dt><span>Conventions :</span></dt><dd>CF-1.4, ACDD-1.3</dd><dt><span>title :</span></dt><dd>Global SST &amp; Sea Ice Analysis, L4 OSTIA, 0.05 deg daily (METOFFICE-GLO-SST-L4-REP-OBS-SST-V2)</dd><dt><span>summary :</span></dt><dd>A merged, multi-sensor L4 Foundation SST product</dd><dt><span>references :</span></dt><dd>Donlon, C.J., Martin, M., Stark, J.D., Roberts-Jones, J., Fiedler, E., Wimmer, W., 2011. The Operational Sea Surface Temperature and Sea Ice Analysis (OSTIA). Remote Sensing of the Environment</dd><dt><span>institution :</span></dt><dd>UKMO</dd><dt><span>history :</span></dt><dd>Created from sst.nc; obs_anal.nc; seaice.nc</dd><dt><span>comment :</span></dt><dd>WARNING Some applications are unable to properly handle signed byte values. If values are encountered &gt; 127, please subtract 256 from this reported value</dd><dt><span>license :</span></dt><dd>These data are available free of charge under the CMEMS data policy</dd><dt><span>id :</span></dt><dd>OSTIA-UKMO-L4-GLOB-v2.0</dd><dt><span>naming_authority :</span></dt><dd>org.ghrsst</dd><dt><span>product_version :</span></dt><dd>3.2</dd><dt><span>uuid :</span></dt><dd>a2df4a18-6f19-4772-9532-39307a0e2794</dd><dt><span>gds_version_id :</span></dt><dd>2.4</dd><dt><span>netcdf_version_id :</span></dt><dd>4.1</dd><dt><span>date_created :</span></dt><dd>20220115T053838Z</dd><dt><span>start_time :</span></dt><dd>20210701T000000Z</dd><dt><span>time_coverage_start :</span></dt><dd>20210701T000000Z</dd><dt><span>stop_time :</span></dt><dd>20210702T000000Z</dd><dt><span>time_coverage_end :</span></dt><dd>20210702T000000Z</dd><dt><span>file_quality_level :</span></dt><dd>3</dd><dt><span>source :</span></dt><dd>AMSR2-REMSS-L2P-v2.0, AMSRE-REMSS-L2P-v2.0, TMI-REMSS-L2P-v04, GOES&lt;13,16&gt;-OSISAF-L3C-v2.0, SEVIRI-OSISAF-L3C-v2.0, SLSTRA-C3S-L3C-v2.0, ATSR&lt;1,2&gt;-ESACCI-L3U-v2.0, AATSR-ESACCI-L3U-v2.0, AVHRR&lt;06,07,08,09,10,11,12,14,15,16,17,18,19&gt;-ESACCI-L3U-v2.0, AVHRRMTA-ESACCI-L3U-v2.0, GMI-REMSS-L3U-v2.0, VIIRS-OSPO-L3U-v2.0, OSISAF_ICE, NCEP_ICE</dd><dt><span>platform :</span></dt><dd>GCOM-W, AQUA, TRMM, GOES&lt;13,16&gt;, MetoSat&lt;08,09,10,11&gt;, Sential-&lt;3a,3b&gt;, ERS&lt;1,2&gt;, NOAA-&lt;06,07,08,09,10,11,12,14,15,16,17,18,19&gt;, MetOp, GPM-Core, Suomi-NPP, NOAA-20</dd><dt><span>sensor :</span></dt><dd>AMSR2, AMSRE, TMI, GOES&lt;13,16&gt;, SEVIRI, SLSTRA, ATSR1, ATSR2, AATSR, AVHRR&lt;06,07,08,09,10,11,12,14,15,16,17,18,19&gt;, AVHRRMTA, GMI, VIIRS&lt;NPP,N20&gt;</dd><dt><span>Metadata_Conventions :</span></dt><dd>Unidata Observation Dataset v1.0</dd><dt><span>metadata_link :</span></dt><dd>http://podaac.jpl.nasa.gov/ws/metadata/dataset?format=gcmd&amp;shortName=UKMO-L4HRfnd-GLOB-OSTIA</dd><dt><span>keywords :</span></dt><dd>Oceans &gt; Ocean Temperature &gt; Sea Surface Temperature</dd><dt><span>keywords_vocabulary :</span></dt><dd>NASA Global Change Master Directory (GCMD) Science Keywords</dd><dt><span>standard_name_vocabulary :</span></dt><dd>NetCDF Climate and Forecast (CF) Metadata Convention</dd><dt><span>westernmost_longitude :</span></dt><dd>-180.0</dd><dt><span>easternmost_longitude :</span></dt><dd>180.00002</dd><dt><span>southernmost_latitude :</span></dt><dd>-90.0</dd><dt><span>northernmost_latitude :</span></dt><dd>90.0</dd><dt><span>spatial_resolution :</span></dt><dd>0.05 degree</dd><dt><span>geospatial_lat_units :</span></dt><dd>degrees_north</dd><dt><span>geospatial_lat_resolution :</span></dt><dd>0.05</dd><dt><span>geospatial_lon_units :</span></dt><dd>degrees_east</dd><dt><span>geospatial_lon_resolution :</span></dt><dd>0.05</dd><dt><span>acknowledgment :</span></dt><dd>Please acknowledge the use of these data with the following statement: These data were provided by GHRSST, Met Office and CMEMS</dd><dt><span>creator_name :</span></dt><dd>Met Office as part of CMEMS</dd><dt><span>creator_email :</span></dt><dd>servicedesk.cmems@mercator-ocean.eu</dd><dt><span>creator_url :</span></dt><dd>http://marine.copernicus.eu</dd><dt><span>project :</span></dt><dd>Group for High Resolution Sea Surface Temperature</dd><dt><span>publisher_name :</span></dt><dd>GHRSST Project Office</dd><dt><span>publisher_url :</span></dt><dd>http://www.ghrsst.org</dd><dt><span>publisher_email :</span></dt><dd>ghrsst-po@nceo.ac.uk</dd><dt><span>processing_level :</span></dt><dd>L4</dd><dt><span>cdm_data_type :</span></dt><dd>grid</dd></dl></div></li></ul></div></div>"
      ],
      "text/plain": [
       "<xarray.Dataset> Size: 415MB\n",
       "Dimensions:           (time: 1, lat: 3600, lon: 7200)\n",
       "Coordinates:\n",
       "  * time              (time) datetime64[ns] 8B 2021-07-01T12:00:00\n",
       "  * lat               (lat) float32 14kB -89.97 -89.93 -89.88 ... 89.93 89.97\n",
       "  * lon               (lon) float32 29kB -180.0 -179.9 -179.9 ... 179.9 180.0\n",
       "Data variables:\n",
       "    analysed_sst      (time, lat, lon) float32 104MB ...\n",
       "    analysis_error    (time, lat, lon) float32 104MB ...\n",
       "    sea_ice_fraction  (time, lat, lon) float32 104MB ...\n",
       "    mask              (time, lat, lon) float32 104MB ...\n",
       "Attributes: (12/47)\n",
       "    Conventions:                CF-1.4, ACDD-1.3\n",
       "    title:                      Global SST & Sea Ice Analysis, L4 OSTIA, 0.05...\n",
       "    summary:                    A merged, multi-sensor L4 Foundation SST product\n",
       "    references:                 Donlon, C.J., Martin, M., Stark, J.D., Robert...\n",
       "    institution:                UKMO\n",
       "    history:                    Created from sst.nc; obs_anal.nc; seaice.nc\n",
       "    ...                         ...\n",
       "    project:                    Group for High Resolution Sea Surface Tempera...\n",
       "    publisher_name:             GHRSST Project Office\n",
       "    publisher_url:              http://www.ghrsst.org\n",
       "    publisher_email:            ghrsst-po@nceo.ac.uk\n",
       "    processing_level:           L4\n",
       "    cdm_data_type:              grid"
      ]
     },
     "execution_count": 2,
     "metadata": {},
     "output_type": "execute_result"
    }
   ],
   "source": [
    "# Use the following function to laod your dataset and check its file format is compatible. \n",
    "# Add the filename / file path of your gridded dataset below:\n",
    "\n",
    "gridded_file_path = \"data/20210701120000-UKMO-L4_GHRSST-SSTfnd-OSTIA-GLOB_REP-v02.0-fv02.0.nc\"\n",
    "\n",
    "# Uncomment the lines below to check compatibility and load your dataset. \n",
    "dataset = gridded.detect_gridded_format_and_open(gridded_file_path)\n",
    "dataset"
   ]
  },
  {
   "cell_type": "code",
   "execution_count": 3,
   "id": "675376e3-e283-4f76-b524-eb02f7c143ec",
   "metadata": {},
   "outputs": [
    {
     "name": "stdout",
     "output_type": "stream",
     "text": [
      "FrozenMappingWarningOnValuesAccess({'time': 1, 'lat': 3600, 'lon': 7200})\n"
     ]
    }
   ],
   "source": [
    "# Convert temporal coord name to 'time'\n",
    "\n",
    "# Sometimes the temporal coord has a different name, you can use code below to rename the dimension to time to work with the following functions. \n",
    "# Use the function below to rename the temporal coord to 'time', this will be used in the later functions.\n",
    "\n",
    "# Uncoment the line below to check the current coord names and identify the temporal coord. \n",
    "print(dataset.dims)\n",
    "\n",
    "# Uncomment the function call below and update the 2nd argument with the temporal coord name.\n",
    "# dataset = gridded.temporal_check(dataset, \"add_temporal_coord_name_here\")"
   ]
  },
  {
   "cell_type": "code",
   "execution_count": null,
   "id": "498e35c7-7aac-4ee5-b4c0-7333278c1c92",
   "metadata": {},
   "outputs": [],
   "source": []
  },
  {
   "cell_type": "code",
   "execution_count": 4,
   "id": "0b769970-71ed-48a7-95fb-da873b6330c8",
   "metadata": {
    "editable": true,
    "slideshow": {
     "slide_type": ""
    },
    "tags": [
     "thebe-init"
    ]
   },
   "outputs": [],
   "source": [
    "# Load checklist from JSON file:\n",
    "checklist = utils.load_checklist()"
   ]
  },
  {
   "cell_type": "markdown",
   "id": "087dd158-2a04-45b5-a0c0-599761f33f94",
   "metadata": {},
   "source": [
    "#### Reset stored answers to start again:"
   ]
  },
  {
   "cell_type": "code",
   "execution_count": 5,
   "id": "a467851d-ee03-46f7-a194-8e516c374b8e",
   "metadata": {
    "jupyter": {
     "source_hidden": true
    }
   },
   "outputs": [],
   "source": [
    "# Reset all checklist answers back to original blank answers for all sections.\n",
    "# Any completed information will be lost. \n",
    "\n",
    "# To reset the stored answers uncomment and run these lines of code below. Re-comment the lines afterwards to avoid them running again. \n",
    "# utils.reset_checklist()\n",
    "# checklist = utils.load_checklist()\n",
    "\n",
    "# You can then re-run each section to reload it on the reset data. "
   ]
  },
  {
   "cell_type": "code",
   "execution_count": 6,
   "id": "d23fc803-c02b-4a51-8d58-4f343b49c39b",
   "metadata": {
    "jupyter": {
     "source_hidden": true
    }
   },
   "outputs": [
    {
     "name": "stdout",
     "output_type": "stream",
     "text": [
      "Dataset: OSTIA\n",
      "Dataset link: https://data.marine.copernicus.eu/product/SST_GLO_SST_L4_NRT_OBSERVATIONS_010_001/services\n",
      "Assessor: Anna Shlyaeva\n",
      "Assessor email: anna.v.shlyaeva@noaa.gov\n"
     ]
    }
   ],
   "source": [
    "\n",
    "print(\"Dataset:\", checklist[\"GeneralInformation\"][\"DatasetName\"])\n",
    "print(\"Dataset link:\", checklist[\"GeneralInformation\"][\"DatasetLink\"])\n",
    "print(\"Assessor:\", checklist[\"GeneralInformation\"][\"AssessorName\"])\n",
    "print(\"Assessor email:\", checklist[\"GeneralInformation\"][\"AssessorEmailAddress\"])"
   ]
  },
  {
   "cell_type": "markdown",
   "id": "0ef2f783-495b-406e-8c25-5258c410520c",
   "metadata": {},
   "source": [
    "---\n",
    "\n",
    "## **5. Data Preparation**"
   ]
  },
  {
   "cell_type": "markdown",
   "id": "fc47836b-19bb-4d24-b500-884d9e754f78",
   "metadata": {},
   "source": [
    "### Null values"
   ]
  },
  {
   "cell_type": "code",
   "execution_count": 7,
   "id": "598d7fa2-f6c6-451e-9b12-a282d6a70be7",
   "metadata": {
    "jupyter": {
     "source_hidden": true
    }
   },
   "outputs": [
    {
     "data": {
      "application/vnd.jupyter.widget-view+json": {
       "model_id": "655ca260301747739a478b4c36e92b09",
       "version_major": 2,
       "version_minor": 0
      },
      "text/plain": [
       "Combobox(value='No', description='5.1 Have null values/gaps been filled?', layout=Layout(width='900px'), optio…"
      ]
     },
     "metadata": {},
     "output_type": "display_data"
    }
   ],
   "source": [
    "\n",
    "dataset_null_values = widgets.Combobox(\n",
    "            value=checklist['DataPreparation']['NullValuesFilled'],\n",
    "            options=['Yes', 'No', 'N/A'],\n",
    "            description='5.1 Have null values/gaps been filled?',\n",
    "            placeholder=PLACEHOLDER,\n",
    "            layout=widgets.Layout(width=WIDGET_WIDTH),\n",
    "            style = DESCRIPTION_STYLE\n",
    "            )\n",
    "\n",
    "display(dataset_null_values)"
   ]
  },
  {
   "cell_type": "code",
   "execution_count": 8,
   "id": "97a35f49-7185-4a11-a6dd-1abadf2ed88f",
   "metadata": {},
   "outputs": [
    {
     "name": "stdout",
     "output_type": "stream",
     "text": [
      "MISSING / FILLED VALUE REPORT:\n",
      "    > variable_name: analysed_sst\n",
      "    > missing_values_count: 8678335\n",
      "    > percentage_missing: 33.48123070987654\n",
      "    > has_fill_value: False\n",
      "    > fill_value: None\n",
      "    > filled_values_count: 0\n",
      "    > percentage_filled: 0.0\n",
      "--------------------------------------------------\n"
     ]
    }
   ],
   "source": [
    "# This function will help you review if the dataset has missing or filled values. \n",
    "# However, it is still worth reading the dataset documentation as it should be explained in detail there. \n",
    "\n",
    "# Uncomment the line below to run the find_missing_values function.\n",
    "missing_value_stats = utils.find_missing_values(dataset)\n",
    "\n",
    "# Uncomment the lines below to print out the results:\n",
    "print(\"MISSING / FILLED VALUE REPORT:\")\n",
    "for stats in missing_value_stats:\n",
    "    for key, value in stats.items():\n",
    "        print(f\"    > {key}: {value}\")\n",
    "    print(\"-\" * 50)"
   ]
  },
  {
   "cell_type": "markdown",
   "id": "8cc450ae-d5bb-464d-bc4d-da3f09bcca06",
   "metadata": {},
   "source": [
    "### Outliers"
   ]
  },
  {
   "cell_type": "code",
   "execution_count": 9,
   "id": "8c912605-887f-4b59-b07a-34dfbdc2bc8d",
   "metadata": {
    "jupyter": {
     "source_hidden": true
    }
   },
   "outputs": [
    {
     "data": {
      "application/vnd.jupyter.widget-view+json": {
       "model_id": "42a2f25df19f4f7ead5eb24a90d57771",
       "version_major": 2,
       "version_minor": 0
      },
      "text/plain": [
       "Combobox(value='No', description='5.2 Have outliers been identified?', layout=Layout(width='900px'), options=(…"
      ]
     },
     "metadata": {},
     "output_type": "display_data"
    }
   ],
   "source": [
    "\n",
    "dataset_outliers = widgets.Combobox(\n",
    "            value=checklist['DataPreparation']['OutliersIdentified'],\n",
    "            options=['Yes, tagged ', 'Yes, removed', 'No', 'N/A'],\n",
    "            description='5.2 Have outliers been identified?',\n",
    "            placeholder=PLACEHOLDER,\n",
    "            layout=widgets.Layout(width=WIDGET_WIDTH),\n",
    "            style = DESCRIPTION_STYLE\n",
    "            )\n",
    "\n",
    "display(dataset_outliers)\n"
   ]
  },
  {
   "cell_type": "code",
   "execution_count": 10,
   "id": "f469647e-e746-4383-a801-1e7f7951c4bf",
   "metadata": {},
   "outputs": [
    {
     "name": "stdout",
     "output_type": "stream",
     "text": [
      "OUTLIER VALUE REPORT:\n",
      "    > variable_name: analysed_sst\n",
      "    > total_values: 17241665\n",
      "    > num_outliers: 0\n",
      "    > percentage_outliers: 0.0\n",
      "--------------------------------------------------\n",
      "    > variable_name: analysis_error\n",
      "    > total_values: 17241665\n",
      "    > num_outliers: 506066\n",
      "    > percentage_outliers: 2.935134164826889\n",
      "--------------------------------------------------\n",
      "    > variable_name: sea_ice_fraction\n",
      "    > total_values: 17241665\n",
      "    > num_outliers: 0\n",
      "    > percentage_outliers: 0.0\n",
      "--------------------------------------------------\n",
      "    > variable_name: mask\n",
      "    > total_values: 25920000\n",
      "    > num_outliers: 166\n",
      "    > percentage_outliers: 0.0006404320987654321\n",
      "--------------------------------------------------\n"
     ]
    }
   ],
   "source": [
    "# This function could be used to review the z-score values over a set threshold. \n",
    "# This could be useful as an indication of outliers, however again, reading the dataset documentation should have information regarding outliers. \n",
    "\n",
    "# Uncomment the line below to run the count_z_score_outliers_for_dataset function:\n",
    "outlier_stats = utils.count_z_score_outliers_for_dataset(dataset, threshold=3)\n",
    "\n",
    "# Uncomment the lines below to print the results for each variable\n",
    "print(\"OUTLIER VALUE REPORT:\")\n",
    "for stats in outlier_stats:\n",
    "    for key, value in stats.items():\n",
    "        print(f\"    > {key}: {value}\")\n",
    "    print(\"-\" * 50)"
   ]
  },
  {
   "cell_type": "markdown",
   "id": "ad80647b-e571-4b0c-a291-c75c76b867fd",
   "metadata": {},
   "source": [
    "### Gridded data\n"
   ]
  },
  {
   "cell_type": "code",
   "execution_count": 11,
   "id": "45f3adc6-7550-488b-923d-c3d17a912b89",
   "metadata": {
    "jupyter": {
     "source_hidden": true
    }
   },
   "outputs": [
    {
     "data": {
      "application/vnd.jupyter.widget-view+json": {
       "model_id": "143e8990c5fa49deb6bebc31848361ca",
       "version_major": 2,
       "version_minor": 0
      },
      "text/plain": [
       "Combobox(value='Regularly gridded in space and constant time-frequency', description='5.3 Is the data gridded …"
      ]
     },
     "metadata": {},
     "output_type": "display_data"
    },
    {
     "data": {
      "application/vnd.jupyter.widget-view+json": {
       "model_id": "a4e14405f91c4de3b007483fc338b7f2",
       "version_major": 2,
       "version_minor": 0
      },
      "text/plain": [
       "Combobox(value='No, this is the original sampling', description='If the data is gridded, was it transformed fr…"
      ]
     },
     "metadata": {},
     "output_type": "display_data"
    },
    {
     "data": {
      "application/vnd.jupyter.widget-view+json": {
       "model_id": "deac93d373604fa38f60ab6fbf9a0fe1",
       "version_major": 2,
       "version_minor": 0
      },
      "text/plain": [
       "Combobox(value='N/A', description='If the data is resampled from the original sampling, is the data also avail…"
      ]
     },
     "metadata": {},
     "output_type": "display_data"
    }
   ],
   "source": [
    "\n",
    "dataset_gridded = widgets.Combobox(\n",
    "            value=checklist['DataPreparation']['Gridded'],\n",
    "            options=['Regularly gridded in space', 'Constant time-frequency', 'Regularly gridded in space and constant time-frequency', 'Not gridded', 'N/A'],\n",
    "            description='5.3 Is the data gridded (regularly sampled in time and space)?',\n",
    "            placeholder=PLACEHOLDER,\n",
    "            layout=widgets.Layout(width=WIDGET_WIDTH),\n",
    "            style = DESCRIPTION_STYLE\n",
    "            )\n",
    "\n",
    "dataset_gridded_transformed = widgets.Combobox(\n",
    "            value=checklist['DataPreparation']['TransformedFromOriginal'],\n",
    "            options=['Yes, from irregular sampling', 'Yes, from a different regular sampling', 'No, this is the original sampling', 'N/A'],\n",
    "            description='If the data is gridded, was it transformed from a different original sampling?',            \n",
    "            placeholder=PLACEHOLDER,\n",
    "            layout=widgets.Layout(width=WIDGET_WIDTH),\n",
    "            style = DESCRIPTION_STYLE\n",
    "            )\n",
    "\n",
    "\n",
    "dataset_gridded_original_sample = widgets.Combobox(\n",
    "            value=checklist['DataPreparation']['OriginalSamplingAvailable'],\n",
    "            options=['Yes', 'No', 'Only by request', 'N/A'],\n",
    "            description = 'If the data is resampled from the original sampling, is the data also available at the original sampling?',\n",
    "            placeholder=PLACEHOLDER,\n",
    "            layout=widgets.Layout(width=WIDGET_WIDTH),\n",
    "            style = DESCRIPTION_STYLE\n",
    "            )\n",
    "\n",
    "display(dataset_gridded, dataset_gridded_transformed, dataset_gridded_original_sample)"
   ]
  },
  {
   "cell_type": "code",
   "execution_count": 12,
   "id": "382f0c1b-1492-4af4-a558-ef443dca48a7",
   "metadata": {},
   "outputs": [
    {
     "name": "stderr",
     "output_type": "stream",
     "text": [
      "Spatial resolution is not consistent.\n"
     ]
    },
    {
     "name": "stdout",
     "output_type": "stream",
     "text": [
      "Spatial resolution: Latitude 0.04999542236328125 deg, Longitude 0.0500030517578125 deg\n",
      "Spatial coverage: Latitude -89.9749984741211 to 89.9749984741211, Longitude -179.97500610351562 to 179.97500610351562\n"
     ]
    }
   ],
   "source": [
    "# The functions and information found in notebook 1 (part 2) might prove useful to answer some of the questions above. \n",
    "\n",
    "# Uncomment the 4 lines below to run various functions to check spatial and temporal information:\n",
    "resolution, coverage = gridded.get_spatial_resolution_and_coverage(dataset)\n",
    "# temporal_resolution, temporal_coverage = gridded.get_temporal_resolution_and_coverage(dataset)\n",
    "spatial_consistency = gridded.check_spatial_consistency(dataset)\n",
    "# temporal_consistency = gridded.check_temporal_consistency(dataset)\n",
    "\n",
    "# Uncomment the lines below to print the results from the 4 functions above. \n",
    "print(f\"Spatial resolution: Latitude {resolution[0]} deg, Longitude {resolution[1]} deg\")\n",
    "print(f\"Spatial coverage: Latitude {coverage['latitude'][0]} to {coverage['latitude'][1]}, Longitude {coverage['longitude'][0]} to {coverage['longitude'][1]}\")\n",
    "\n",
    "# print(\"Temporal resolution:\", temporal_resolution)\n",
    "# print(\"Min time:\", temporal_coverage['time'][0])\n",
    "# print(\"Max time:\", temporal_coverage['time'][1])\n",
    "\n",
    "# print(\"Spatial resolution is consistent\" if spatial_consistency == True \n",
    "#       else \"Spatial resolution not consistent\" if spatial_consistency == False\n",
    "#       else \"Unable to determin spatial resolution consistency\")\n",
    "\n",
    "# print(\"Temporal resolution is consistent\" if temporal_consistency == True \n",
    "#       else \"Temporal resolution not consistent\" if temporal_consistency == False\n",
    "#       else \"Unable to determin temporal resolution consistency\")"
   ]
  },
  {
   "cell_type": "markdown",
   "id": "55a87005-4929-45c3-a2f6-f0b4eec60de8",
   "metadata": {},
   "source": [
    "### Targets / labels for supervised learning"
   ]
  },
  {
   "cell_type": "code",
   "execution_count": 13,
   "id": "e7447fb9-566f-4b99-b5ec-afc9ccc05954",
   "metadata": {
    "jupyter": {
     "source_hidden": true
    }
   },
   "outputs": [
    {
     "data": {
      "application/vnd.jupyter.widget-view+json": {
       "model_id": "80b38075a5ed4083863b8bc45dc1e78e",
       "version_major": 2,
       "version_minor": 0
      },
      "text/plain": [
       "Combobox(value='No', description='5.4 Are there associated targets or labels for supervised learning technique…"
      ]
     },
     "metadata": {},
     "output_type": "display_data"
    },
    {
     "data": {
      "application/vnd.jupyter.widget-view+json": {
       "model_id": "a8c83d08005b424ca08e5f94e8513022",
       "version_major": 2,
       "version_minor": 0
      },
      "text/plain": [
       "Label(value='If there are associated targets/labels, are community labeling standards implemented?')"
      ]
     },
     "metadata": {},
     "output_type": "display_data"
    },
    {
     "data": {
      "application/vnd.jupyter.widget-view+json": {
       "model_id": "ffdb18c8b8444095833d0bfdabcb884f",
       "version_major": 2,
       "version_minor": 0
      },
      "text/plain": [
       "Text(value='', layout=Layout(width='900px'), placeholder='e.g., STAC label extension, ESA AIREO specification,…"
      ]
     },
     "metadata": {},
     "output_type": "display_data"
    }
   ],
   "source": [
    "\n",
    "dataset_targets_or_labels = widgets.Combobox(\n",
    "            value=checklist['DataPreparation']['SupervisedLearningLabels'],\n",
    "            options=['Yes', 'No', 'N/A'],\n",
    "            description = '5.4 Are there associated targets or labels for supervised learning techniques?',\n",
    "            placeholder='Click to select option - (Can this be used as a training dataset)?',\n",
    "            layout=widgets.Layout(width=WIDGET_WIDTH),\n",
    "            style = DESCRIPTION_STYLE\n",
    "            )\n",
    "\n",
    "dataset_targets_or_labels_standards_label = widgets.Label(\n",
    "    value = \"If there are associated targets/labels, are community labeling standards implemented?\"\n",
    ")\n",
    "\n",
    "dataset_targets_or_labels_standards = widgets.Text(\n",
    "            value=checklist['DataPreparation']['SupervisedLearningLabelStandards'],\n",
    "            placeholder = 'e.g., STAC label extension, ESA AIREO specification, etc.',\n",
    "            layout = widgets.Layout(width=WIDGET_WIDTH)\n",
    ")\n",
    "\n",
    "display(dataset_targets_or_labels, dataset_targets_or_labels_standards_label, dataset_targets_or_labels_standards)"
   ]
  },
  {
   "cell_type": "code",
   "execution_count": 14,
   "id": "a12da54d-ed9f-4c2b-8f0d-dc19a82309e7",
   "metadata": {
    "jupyter": {
     "source_hidden": true
    }
   },
   "outputs": [
    {
     "data": {
      "application/vnd.jupyter.widget-view+json": {
       "model_id": "9c3ee9e074ce4ade8149d61d7384108a",
       "version_major": 2,
       "version_minor": 0
      },
      "text/plain": [
       "Button(button_style='primary', description='Save Data Access Answers to json file', layout=Layout(flex='1 1 au…"
      ]
     },
     "metadata": {},
     "output_type": "display_data"
    }
   ],
   "source": [
    "\n",
    "# Save button\n",
    "save_button = widgets.Button(description=\"Save Data Access Answers to json file\",  button_style=\"primary\",  layout=widgets.Layout(flex='1 1 auto', width='auto'))\n",
    "\n",
    "def generate_updates_preparation():\n",
    "\n",
    "    updates = {\n",
    "        \"DataPreparation\": {\n",
    "            \"NullValuesFilled\": dataset_null_values.value,\n",
    "            \"OutliersIdentified\": dataset_outliers.value,\n",
    "            \"Gridded\": dataset_gridded.value,\n",
    "            \"TransformedFromOriginal\": dataset_gridded_transformed.value,\n",
    "            \"OriginalSamplingAvailable\": dataset_gridded_original_sample.value, \n",
    "            \"SupervisedLearningLabels\" : dataset_targets_or_labels.value,\n",
    "            \"SupervisedLearningLabelStandards\" : dataset_targets_or_labels_standards.value,\n",
    "          \n",
    "        }\n",
    "    }\n",
    "    return updates\n",
    "\n",
    "save_button.on_click(lambda b: utils.update_checklist(b, generate_updates_preparation()))\n",
    "\n",
    "display(save_button)"
   ]
  },
  {
   "cell_type": "markdown",
   "id": "3824aa9e-9d66-4a2e-a1a2-60139f7c30dd",
   "metadata": {},
   "source": [
    "## Finished"
   ]
  },
  {
   "cell_type": "code",
   "execution_count": 15,
   "id": "d35683fe-7d9f-40fa-81fa-99f926702fd6",
   "metadata": {
    "jupyter": {
     "source_hidden": true
    }
   },
   "outputs": [
    {
     "data": {
      "application/vnd.jupyter.widget-view+json": {
       "model_id": "1298e89d2b6f461da826bcc854d4533c",
       "version_major": 2,
       "version_minor": 0
      },
      "text/plain": [
       "Button(button_style='info', description='Print json results', layout=Layout(flex='1 1 auto', width='auto'), st…"
      ]
     },
     "metadata": {},
     "output_type": "display_data"
    },
    {
     "data": {
      "application/vnd.jupyter.widget-view+json": {
       "model_id": "0bc29668b63546ff97480d8c1283e590",
       "version_major": 2,
       "version_minor": 0
      },
      "text/plain": [
       "Output()"
      ]
     },
     "metadata": {},
     "output_type": "display_data"
    }
   ],
   "source": [
    "\n",
    "button_print_json = widgets.Button(description=\"Print json results\",  button_style='info', layout=widgets.Layout(flex='1 1 auto', width='auto'))\n",
    "output = widgets.Output()\n",
    "\n",
    "display(button_print_json, output)\n",
    "\n",
    "def print_json_info(b):\n",
    "    \"\"\"\n",
    "    Loads a copy of the json file to checklist variable. \n",
    "    Then prints the json file contents to Jupyter notebook cell output.\n",
    "\n",
    "    Arguments: b - represents the button calling the function. \n",
    "    \"\"\"\n",
    "    checklist = utils.load_checklist()\n",
    "    with output:\n",
    "        clear_output()\n",
    "        for key, value in checklist.items():\n",
    "            print(f\"{key}:\")\n",
    "            if isinstance(value, dict):\n",
    "                for sub_key, sub_value in value.items():\n",
    "                    print(f\"  {sub_key}: {sub_value}\")\n",
    "            else:\n",
    "                print(f\"  {value}\")\n",
    "\n",
    "button_print_json.on_click(print_json_info)\n"
   ]
  },
  {
   "cell_type": "markdown",
   "id": "c760fc3b-f413-46e4-8a76-31684d83a2d2",
   "metadata": {},
   "source": [
    "---\n",
    "\n",
    "## **Appendix** - Definition of terms used in the checklist."
   ]
  }
 ],
 "metadata": {
  "kernelspec": {
   "display_name": "data_readiness",
   "language": "python",
   "name": "data_readiness"
  },
  "language_info": {
   "codemirror_mode": {
    "name": "ipython",
    "version": 3
   },
   "file_extension": ".py",
   "mimetype": "text/x-python",
   "name": "python",
   "nbconvert_exporter": "python",
   "pygments_lexer": "ipython3",
   "version": "3.10.16"
  },
  "widgets": {
   "application/vnd.jupyter.widget-state+json": {
    "state": {
     "0fa12dbe3cb34c03af248cb7671cbfde": {
      "model_module": "@jupyter-widgets/base",
      "model_module_version": "2.0.0",
      "model_name": "LayoutModel",
      "state": {
       "width": "900px"
      }
     },
     "25ff37f7ace84f23aaa88dcc0de062d6": {
      "model_module": "@jupyter-widgets/base",
      "model_module_version": "2.0.0",
      "model_name": "LayoutModel",
      "state": {
       "width": "900px"
      }
     },
     "296fa93c63bb41e086a95c0593880600": {
      "model_module": "@jupyter-widgets/controls",
      "model_module_version": "2.0.0",
      "model_name": "TextStyleModel",
      "state": {
       "description_width": "initial",
       "font_size": null,
       "text_color": null
      }
     },
     "2e8819b59da64283bbfa3254a0570492": {
      "model_module": "@jupyter-widgets/controls",
      "model_module_version": "2.0.0",
      "model_name": "ComboboxModel",
      "state": {
       "description": "5.4 Are there associated targets or labels for supervised learning techniques?",
       "ensure_option": false,
       "layout": "IPY_MODEL_3b2aaa2d5f444d73a36247add3450e50",
       "options": [
        "Yes",
        "No",
        "N/A"
       ],
       "placeholder": "Click to select option - (Can this be used as a training dataset)?",
       "style": "IPY_MODEL_f4a154fbc5a34d77b33df161c8524b7d"
      }
     },
     "2f1fee6ccb5e403e8eb098487935e5ee": {
      "model_module": "@jupyter-widgets/base",
      "model_module_version": "2.0.0",
      "model_name": "LayoutModel",
      "state": {
       "flex": "1 1 auto",
       "width": "auto"
      }
     },
     "2fa501ad3fcc4208b39be8bcdd03b670": {
      "model_module": "@jupyter-widgets/base",
      "model_module_version": "2.0.0",
      "model_name": "LayoutModel",
      "state": {
       "flex": "1 1 auto",
       "width": "auto"
      }
     },
     "311d4570f0be4782919e604e3f95a833": {
      "model_module": "@jupyter-widgets/base",
      "model_module_version": "2.0.0",
      "model_name": "LayoutModel",
      "state": {
       "width": "900px"
      }
     },
     "31cf04e124dd48f797700056d079c4e4": {
      "model_module": "@jupyter-widgets/output",
      "model_module_version": "1.0.0",
      "model_name": "OutputModel",
      "state": {
       "layout": "IPY_MODEL_a041dd4e5a044a1c9ca603495abe1f2d"
      }
     },
     "3b2aaa2d5f444d73a36247add3450e50": {
      "model_module": "@jupyter-widgets/base",
      "model_module_version": "2.0.0",
      "model_name": "LayoutModel",
      "state": {
       "width": "900px"
      }
     },
     "3b90a645074c4d3c9ebe84fb5e7abaff": {
      "model_module": "@jupyter-widgets/controls",
      "model_module_version": "2.0.0",
      "model_name": "TextStyleModel",
      "state": {
       "description_width": "initial",
       "font_size": null,
       "text_color": null
      }
     },
     "3dd2ff316d6b4910aabb5538cd6d9213": {
      "model_module": "@jupyter-widgets/controls",
      "model_module_version": "2.0.0",
      "model_name": "ButtonStyleModel",
      "state": {
       "font_family": null,
       "font_size": null,
       "font_style": null,
       "font_variant": null,
       "font_weight": null,
       "text_color": null,
       "text_decoration": null
      }
     },
     "3f647e266b764fd6a10f16eecaa5570d": {
      "model_module": "@jupyter-widgets/controls",
      "model_module_version": "2.0.0",
      "model_name": "ComboboxModel",
      "state": {
       "description": "If the data is resampled from the original sampling, is the data also available at the original sampling?",
       "ensure_option": false,
       "layout": "IPY_MODEL_311d4570f0be4782919e604e3f95a833",
       "options": [
        "Yes",
        "No",
        "Only by request",
        "N/A"
       ],
       "placeholder": "Click to select option",
       "style": "IPY_MODEL_a4401f7a6d574200a037fba212e23968"
      }
     },
     "4cb3e09c82a54bf6bd5fa497f85350a0": {
      "model_module": "@jupyter-widgets/controls",
      "model_module_version": "2.0.0",
      "model_name": "LabelModel",
      "state": {
       "layout": "IPY_MODEL_78453e7ab4f347108a89e9901461b452",
       "style": "IPY_MODEL_a3ef5f5803c84a2fbd1d3f04e062b3ac",
       "value": "If there are associated targets/labels, are community labeling standards implemented?"
      }
     },
     "4eff81c7177c46b1bd65c589c1b6c6b0": {
      "model_module": "@jupyter-widgets/base",
      "model_module_version": "2.0.0",
      "model_name": "LayoutModel",
      "state": {
       "width": "900px"
      }
     },
     "78453e7ab4f347108a89e9901461b452": {
      "model_module": "@jupyter-widgets/base",
      "model_module_version": "2.0.0",
      "model_name": "LayoutModel",
      "state": {}
     },
     "7f64f58e3d7b4e2c8d3cd972737ed811": {
      "model_module": "@jupyter-widgets/controls",
      "model_module_version": "2.0.0",
      "model_name": "TextStyleModel",
      "state": {
       "description_width": "initial",
       "font_size": null,
       "text_color": null
      }
     },
     "8207d3592023491e9aaa14687d503282": {
      "model_module": "@jupyter-widgets/controls",
      "model_module_version": "2.0.0",
      "model_name": "ButtonStyleModel",
      "state": {
       "font_family": null,
       "font_size": null,
       "font_style": null,
       "font_variant": null,
       "font_weight": null,
       "text_color": null,
       "text_decoration": null
      }
     },
     "8f46290dfc844082a6211cb4500fa474": {
      "model_module": "@jupyter-widgets/base",
      "model_module_version": "2.0.0",
      "model_name": "LayoutModel",
      "state": {
       "width": "900px"
      }
     },
     "a041dd4e5a044a1c9ca603495abe1f2d": {
      "model_module": "@jupyter-widgets/base",
      "model_module_version": "2.0.0",
      "model_name": "LayoutModel",
      "state": {}
     },
     "a3ef5f5803c84a2fbd1d3f04e062b3ac": {
      "model_module": "@jupyter-widgets/controls",
      "model_module_version": "2.0.0",
      "model_name": "LabelStyleModel",
      "state": {
       "description_width": "",
       "font_family": null,
       "font_size": null,
       "font_style": null,
       "font_variant": null,
       "font_weight": null,
       "text_color": null,
       "text_decoration": null
      }
     },
     "a4401f7a6d574200a037fba212e23968": {
      "model_module": "@jupyter-widgets/controls",
      "model_module_version": "2.0.0",
      "model_name": "TextStyleModel",
      "state": {
       "description_width": "initial",
       "font_size": null,
       "text_color": null
      }
     },
     "a7bfece1a3f74c71aade076e6c3fdb6a": {
      "model_module": "@jupyter-widgets/controls",
      "model_module_version": "2.0.0",
      "model_name": "ComboboxModel",
      "state": {
       "description": "5.1 Have null values/gaps been filled?",
       "ensure_option": false,
       "layout": "IPY_MODEL_25ff37f7ace84f23aaa88dcc0de062d6",
       "options": [
        "Yes",
        "No",
        "N/A"
       ],
       "placeholder": "Click to select option",
       "style": "IPY_MODEL_296fa93c63bb41e086a95c0593880600"
      }
     },
     "acb5f1d0845d4d00a7eb7b3394978ce8": {
      "model_module": "@jupyter-widgets/controls",
      "model_module_version": "2.0.0",
      "model_name": "ButtonModel",
      "state": {
       "button_style": "info",
       "description": "Print json results",
       "layout": "IPY_MODEL_2f1fee6ccb5e403e8eb098487935e5ee",
       "style": "IPY_MODEL_8207d3592023491e9aaa14687d503282",
       "tooltip": null
      }
     },
     "b57641f399754f36b42cd83841d9994b": {
      "model_module": "@jupyter-widgets/controls",
      "model_module_version": "2.0.0",
      "model_name": "ButtonModel",
      "state": {
       "button_style": "primary",
       "description": "Save Data Access Answers to json file",
       "layout": "IPY_MODEL_2fa501ad3fcc4208b39be8bcdd03b670",
       "style": "IPY_MODEL_3dd2ff316d6b4910aabb5538cd6d9213",
       "tooltip": null
      }
     },
     "b79c214b659d4aae8b85740f8e5e3c7c": {
      "model_module": "@jupyter-widgets/controls",
      "model_module_version": "2.0.0",
      "model_name": "ComboboxModel",
      "state": {
       "description": "5.2 Have outliers been identified?",
       "ensure_option": false,
       "layout": "IPY_MODEL_8f46290dfc844082a6211cb4500fa474",
       "options": [
        "Yes, tagged ",
        "Yes, removed",
        "No",
        "N/A"
       ],
       "placeholder": "Click to select option",
       "style": "IPY_MODEL_fd60e17548ae42a88019b2b4501233a0"
      }
     },
     "e8fd2e32b0f5401aaf26d14395ac7138": {
      "model_module": "@jupyter-widgets/base",
      "model_module_version": "2.0.0",
      "model_name": "LayoutModel",
      "state": {
       "width": "900px"
      }
     },
     "ee0e814b63a9410ba83acc68cc4137bf": {
      "model_module": "@jupyter-widgets/controls",
      "model_module_version": "2.0.0",
      "model_name": "ComboboxModel",
      "state": {
       "description": "5.3 Is the data gridded (regularly sampled in time and space)?",
       "ensure_option": false,
       "layout": "IPY_MODEL_4eff81c7177c46b1bd65c589c1b6c6b0",
       "options": [
        "Regularly gridded in space",
        "Constant time-frequency",
        "Regularly gridded in space and constant time-frequency",
        "Not gridded",
        "N/A"
       ],
       "placeholder": "Click to select option",
       "style": "IPY_MODEL_3b90a645074c4d3c9ebe84fb5e7abaff"
      }
     },
     "f4a154fbc5a34d77b33df161c8524b7d": {
      "model_module": "@jupyter-widgets/controls",
      "model_module_version": "2.0.0",
      "model_name": "TextStyleModel",
      "state": {
       "description_width": "initial",
       "font_size": null,
       "text_color": null
      }
     },
     "f756331fd74f4e4f835ef9ab9ca6bca5": {
      "model_module": "@jupyter-widgets/controls",
      "model_module_version": "2.0.0",
      "model_name": "ComboboxModel",
      "state": {
       "description": "If the data is gridded, was it transformed from a different original sampling?",
       "ensure_option": false,
       "layout": "IPY_MODEL_e8fd2e32b0f5401aaf26d14395ac7138",
       "options": [
        "Yes, from irregular sampling",
        "Yes, from a different regular sampling",
        "No, this is the original sampling",
        "N/A"
       ],
       "placeholder": "Click to select option",
       "style": "IPY_MODEL_7f64f58e3d7b4e2c8d3cd972737ed811"
      }
     },
     "fafa3b62e60946ad8cfd3087b3865b53": {
      "model_module": "@jupyter-widgets/controls",
      "model_module_version": "2.0.0",
      "model_name": "TextModel",
      "state": {
       "layout": "IPY_MODEL_0fa12dbe3cb34c03af248cb7671cbfde",
       "placeholder": "e.g., STAC label extension, ESA AIREO specification, etc.",
       "style": "IPY_MODEL_fbfd491957ce4712ba006c68c7e7d78b"
      }
     },
     "fbfd491957ce4712ba006c68c7e7d78b": {
      "model_module": "@jupyter-widgets/controls",
      "model_module_version": "2.0.0",
      "model_name": "TextStyleModel",
      "state": {
       "description_width": "",
       "font_size": null,
       "text_color": null
      }
     },
     "fd60e17548ae42a88019b2b4501233a0": {
      "model_module": "@jupyter-widgets/controls",
      "model_module_version": "2.0.0",
      "model_name": "TextStyleModel",
      "state": {
       "description_width": "initial",
       "font_size": null,
       "text_color": null
      }
     }
    },
    "version_major": 2,
    "version_minor": 0
   }
  }
 },
 "nbformat": 4,
 "nbformat_minor": 5
}
