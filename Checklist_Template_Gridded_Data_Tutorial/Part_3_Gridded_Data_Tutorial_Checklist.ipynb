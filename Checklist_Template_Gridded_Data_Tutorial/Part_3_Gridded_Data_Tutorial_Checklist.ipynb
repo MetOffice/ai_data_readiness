{
 "cells": [
  {
   "cell_type": "markdown",
   "id": "f8198bd3-3e2a-444f-bff5-c9647a804ca9",
   "metadata": {
    "editable": true,
    "slideshow": {
     "slide_type": ""
    },
    "tags": []
   },
   "source": [
    "# **Data Readiness For AI Checklist - Part 3**\n",
    "\n",
    " * Creator(s) John Pill\n",
    " * Affiliation: UK Met Office\n",
    " * History: 1.0\n",
    " * Last update: 27 August 2024.\n",
    "\n",
    "\n",
    "---"
   ]
  },
  {
   "cell_type": "markdown",
   "id": "e9616620-1b79-4033-959b-41c45a6de99f",
   "metadata": {},
   "source": [
    "## **Tutorial Material**\n",
    "\n",
    "* **Run this Jupyter notebook locally using Jupyter Lab**\n",
    "* **Select 'Run All Cells' from the 'Run' menu to generate the checklist**.\n",
    "* **Remember to save your notebook regularly as you work through it.**\n",
    "\n",
    "\n",
    "## **Data section, optional**\n",
    "Scripts for pulling the data into the notebook assuming\n",
    "\n",
    "---"
   ]
  },
  {
   "cell_type": "markdown",
   "id": "f6840884-d7bb-43fa-a3e3-8c4106c435e5",
   "metadata": {},
   "source": [
    "## **Setup Notebook**"
   ]
  },
  {
   "cell_type": "code",
   "execution_count": 29,
   "id": "5b5a42bb-1da9-4460-a6a0-8d85063fd096",
   "metadata": {
    "editable": true,
    "slideshow": {
     "slide_type": ""
    },
    "tags": [
     "thebe-init"
    ]
   },
   "outputs": [],
   "source": [
    "import ipywidgets as widgets\n",
    "from IPython.display import display, clear_output\n",
    "import json\n",
    "import sys\n",
    "import os\n",
    "from aidatareadiness import utils\n",
    "from aidatareadiness.utils import WIDGET_WIDTH, DESCRIPTION_STYLE, PLACEHOLDER  \n",
    "from aidatareadiness.checklist_auto import gridded "
   ]
  },
  {
   "cell_type": "markdown",
   "id": "24f91f9b-7cfb-412c-b47d-f156822bffbb",
   "metadata": {},
   "source": [
    "## **Load Data**"
   ]
  },
  {
   "cell_type": "code",
   "execution_count": 21,
   "id": "de1a0c1e-0574-4c7c-b56b-26d4a445686f",
   "metadata": {},
   "outputs": [
    {
     "data": {
      "text/html": [
       "<div><svg style=\"position: absolute; width: 0; height: 0; overflow: hidden\">\n",
       "<defs>\n",
       "<symbol id=\"icon-database\" viewBox=\"0 0 32 32\">\n",
       "<path d=\"M16 0c-8.837 0-16 2.239-16 5v4c0 2.761 7.163 5 16 5s16-2.239 16-5v-4c0-2.761-7.163-5-16-5z\"></path>\n",
       "<path d=\"M16 17c-8.837 0-16-2.239-16-5v6c0 2.761 7.163 5 16 5s16-2.239 16-5v-6c0 2.761-7.163 5-16 5z\"></path>\n",
       "<path d=\"M16 26c-8.837 0-16-2.239-16-5v6c0 2.761 7.163 5 16 5s16-2.239 16-5v-6c0 2.761-7.163 5-16 5z\"></path>\n",
       "</symbol>\n",
       "<symbol id=\"icon-file-text2\" viewBox=\"0 0 32 32\">\n",
       "<path d=\"M28.681 7.159c-0.694-0.947-1.662-2.053-2.724-3.116s-2.169-2.030-3.116-2.724c-1.612-1.182-2.393-1.319-2.841-1.319h-15.5c-1.378 0-2.5 1.121-2.5 2.5v27c0 1.378 1.122 2.5 2.5 2.5h23c1.378 0 2.5-1.122 2.5-2.5v-19.5c0-0.448-0.137-1.23-1.319-2.841zM24.543 5.457c0.959 0.959 1.712 1.825 2.268 2.543h-4.811v-4.811c0.718 0.556 1.584 1.309 2.543 2.268zM28 29.5c0 0.271-0.229 0.5-0.5 0.5h-23c-0.271 0-0.5-0.229-0.5-0.5v-27c0-0.271 0.229-0.5 0.5-0.5 0 0 15.499-0 15.5 0v7c0 0.552 0.448 1 1 1h7v19.5z\"></path>\n",
       "<path d=\"M23 26h-14c-0.552 0-1-0.448-1-1s0.448-1 1-1h14c0.552 0 1 0.448 1 1s-0.448 1-1 1z\"></path>\n",
       "<path d=\"M23 22h-14c-0.552 0-1-0.448-1-1s0.448-1 1-1h14c0.552 0 1 0.448 1 1s-0.448 1-1 1z\"></path>\n",
       "<path d=\"M23 18h-14c-0.552 0-1-0.448-1-1s0.448-1 1-1h14c0.552 0 1 0.448 1 1s-0.448 1-1 1z\"></path>\n",
       "</symbol>\n",
       "</defs>\n",
       "</svg>\n",
       "<style>/* CSS stylesheet for displaying xarray objects in jupyterlab.\n",
       " *\n",
       " */\n",
       "\n",
       ":root {\n",
       "  --xr-font-color0: var(--jp-content-font-color0, rgba(0, 0, 0, 1));\n",
       "  --xr-font-color2: var(--jp-content-font-color2, rgba(0, 0, 0, 0.54));\n",
       "  --xr-font-color3: var(--jp-content-font-color3, rgba(0, 0, 0, 0.38));\n",
       "  --xr-border-color: var(--jp-border-color2, #e0e0e0);\n",
       "  --xr-disabled-color: var(--jp-layout-color3, #bdbdbd);\n",
       "  --xr-background-color: var(--jp-layout-color0, white);\n",
       "  --xr-background-color-row-even: var(--jp-layout-color1, white);\n",
       "  --xr-background-color-row-odd: var(--jp-layout-color2, #eeeeee);\n",
       "}\n",
       "\n",
       "html[theme=\"dark\"],\n",
       "html[data-theme=\"dark\"],\n",
       "body[data-theme=\"dark\"],\n",
       "body.vscode-dark {\n",
       "  --xr-font-color0: rgba(255, 255, 255, 1);\n",
       "  --xr-font-color2: rgba(255, 255, 255, 0.54);\n",
       "  --xr-font-color3: rgba(255, 255, 255, 0.38);\n",
       "  --xr-border-color: #1f1f1f;\n",
       "  --xr-disabled-color: #515151;\n",
       "  --xr-background-color: #111111;\n",
       "  --xr-background-color-row-even: #111111;\n",
       "  --xr-background-color-row-odd: #313131;\n",
       "}\n",
       "\n",
       ".xr-wrap {\n",
       "  display: block !important;\n",
       "  min-width: 300px;\n",
       "  max-width: 700px;\n",
       "}\n",
       "\n",
       ".xr-text-repr-fallback {\n",
       "  /* fallback to plain text repr when CSS is not injected (untrusted notebook) */\n",
       "  display: none;\n",
       "}\n",
       "\n",
       ".xr-header {\n",
       "  padding-top: 6px;\n",
       "  padding-bottom: 6px;\n",
       "  margin-bottom: 4px;\n",
       "  border-bottom: solid 1px var(--xr-border-color);\n",
       "}\n",
       "\n",
       ".xr-header > div,\n",
       ".xr-header > ul {\n",
       "  display: inline;\n",
       "  margin-top: 0;\n",
       "  margin-bottom: 0;\n",
       "}\n",
       "\n",
       ".xr-obj-type,\n",
       ".xr-array-name {\n",
       "  margin-left: 2px;\n",
       "  margin-right: 10px;\n",
       "}\n",
       "\n",
       ".xr-obj-type {\n",
       "  color: var(--xr-font-color2);\n",
       "}\n",
       "\n",
       ".xr-sections {\n",
       "  padding-left: 0 !important;\n",
       "  display: grid;\n",
       "  grid-template-columns: 150px auto auto 1fr 0 20px 0 20px;\n",
       "}\n",
       "\n",
       ".xr-section-item {\n",
       "  display: contents;\n",
       "}\n",
       "\n",
       ".xr-section-item input {\n",
       "  display: inline-block;\n",
       "  opacity: 0;\n",
       "  height: 0;\n",
       "}\n",
       "\n",
       ".xr-section-item input + label {\n",
       "  color: var(--xr-disabled-color);\n",
       "}\n",
       "\n",
       ".xr-section-item input:enabled + label {\n",
       "  cursor: pointer;\n",
       "  color: var(--xr-font-color2);\n",
       "}\n",
       "\n",
       ".xr-section-item input:focus + label {\n",
       "  border: 2px solid var(--xr-font-color0);\n",
       "}\n",
       "\n",
       ".xr-section-item input:enabled + label:hover {\n",
       "  color: var(--xr-font-color0);\n",
       "}\n",
       "\n",
       ".xr-section-summary {\n",
       "  grid-column: 1;\n",
       "  color: var(--xr-font-color2);\n",
       "  font-weight: 500;\n",
       "}\n",
       "\n",
       ".xr-section-summary > span {\n",
       "  display: inline-block;\n",
       "  padding-left: 0.5em;\n",
       "}\n",
       "\n",
       ".xr-section-summary-in:disabled + label {\n",
       "  color: var(--xr-font-color2);\n",
       "}\n",
       "\n",
       ".xr-section-summary-in + label:before {\n",
       "  display: inline-block;\n",
       "  content: \"►\";\n",
       "  font-size: 11px;\n",
       "  width: 15px;\n",
       "  text-align: center;\n",
       "}\n",
       "\n",
       ".xr-section-summary-in:disabled + label:before {\n",
       "  color: var(--xr-disabled-color);\n",
       "}\n",
       "\n",
       ".xr-section-summary-in:checked + label:before {\n",
       "  content: \"▼\";\n",
       "}\n",
       "\n",
       ".xr-section-summary-in:checked + label > span {\n",
       "  display: none;\n",
       "}\n",
       "\n",
       ".xr-section-summary,\n",
       ".xr-section-inline-details {\n",
       "  padding-top: 4px;\n",
       "  padding-bottom: 4px;\n",
       "}\n",
       "\n",
       ".xr-section-inline-details {\n",
       "  grid-column: 2 / -1;\n",
       "}\n",
       "\n",
       ".xr-section-details {\n",
       "  display: none;\n",
       "  grid-column: 1 / -1;\n",
       "  margin-bottom: 5px;\n",
       "}\n",
       "\n",
       ".xr-section-summary-in:checked ~ .xr-section-details {\n",
       "  display: contents;\n",
       "}\n",
       "\n",
       ".xr-array-wrap {\n",
       "  grid-column: 1 / -1;\n",
       "  display: grid;\n",
       "  grid-template-columns: 20px auto;\n",
       "}\n",
       "\n",
       ".xr-array-wrap > label {\n",
       "  grid-column: 1;\n",
       "  vertical-align: top;\n",
       "}\n",
       "\n",
       ".xr-preview {\n",
       "  color: var(--xr-font-color3);\n",
       "}\n",
       "\n",
       ".xr-array-preview,\n",
       ".xr-array-data {\n",
       "  padding: 0 5px !important;\n",
       "  grid-column: 2;\n",
       "}\n",
       "\n",
       ".xr-array-data,\n",
       ".xr-array-in:checked ~ .xr-array-preview {\n",
       "  display: none;\n",
       "}\n",
       "\n",
       ".xr-array-in:checked ~ .xr-array-data,\n",
       ".xr-array-preview {\n",
       "  display: inline-block;\n",
       "}\n",
       "\n",
       ".xr-dim-list {\n",
       "  display: inline-block !important;\n",
       "  list-style: none;\n",
       "  padding: 0 !important;\n",
       "  margin: 0;\n",
       "}\n",
       "\n",
       ".xr-dim-list li {\n",
       "  display: inline-block;\n",
       "  padding: 0;\n",
       "  margin: 0;\n",
       "}\n",
       "\n",
       ".xr-dim-list:before {\n",
       "  content: \"(\";\n",
       "}\n",
       "\n",
       ".xr-dim-list:after {\n",
       "  content: \")\";\n",
       "}\n",
       "\n",
       ".xr-dim-list li:not(:last-child):after {\n",
       "  content: \",\";\n",
       "  padding-right: 5px;\n",
       "}\n",
       "\n",
       ".xr-has-index {\n",
       "  font-weight: bold;\n",
       "}\n",
       "\n",
       ".xr-var-list,\n",
       ".xr-var-item {\n",
       "  display: contents;\n",
       "}\n",
       "\n",
       ".xr-var-item > div,\n",
       ".xr-var-item label,\n",
       ".xr-var-item > .xr-var-name span {\n",
       "  background-color: var(--xr-background-color-row-even);\n",
       "  margin-bottom: 0;\n",
       "}\n",
       "\n",
       ".xr-var-item > .xr-var-name:hover span {\n",
       "  padding-right: 5px;\n",
       "}\n",
       "\n",
       ".xr-var-list > li:nth-child(odd) > div,\n",
       ".xr-var-list > li:nth-child(odd) > label,\n",
       ".xr-var-list > li:nth-child(odd) > .xr-var-name span {\n",
       "  background-color: var(--xr-background-color-row-odd);\n",
       "}\n",
       "\n",
       ".xr-var-name {\n",
       "  grid-column: 1;\n",
       "}\n",
       "\n",
       ".xr-var-dims {\n",
       "  grid-column: 2;\n",
       "}\n",
       "\n",
       ".xr-var-dtype {\n",
       "  grid-column: 3;\n",
       "  text-align: right;\n",
       "  color: var(--xr-font-color2);\n",
       "}\n",
       "\n",
       ".xr-var-preview {\n",
       "  grid-column: 4;\n",
       "}\n",
       "\n",
       ".xr-index-preview {\n",
       "  grid-column: 2 / 5;\n",
       "  color: var(--xr-font-color2);\n",
       "}\n",
       "\n",
       ".xr-var-name,\n",
       ".xr-var-dims,\n",
       ".xr-var-dtype,\n",
       ".xr-preview,\n",
       ".xr-attrs dt {\n",
       "  white-space: nowrap;\n",
       "  overflow: hidden;\n",
       "  text-overflow: ellipsis;\n",
       "  padding-right: 10px;\n",
       "}\n",
       "\n",
       ".xr-var-name:hover,\n",
       ".xr-var-dims:hover,\n",
       ".xr-var-dtype:hover,\n",
       ".xr-attrs dt:hover {\n",
       "  overflow: visible;\n",
       "  width: auto;\n",
       "  z-index: 1;\n",
       "}\n",
       "\n",
       ".xr-var-attrs,\n",
       ".xr-var-data,\n",
       ".xr-index-data {\n",
       "  display: none;\n",
       "  background-color: var(--xr-background-color) !important;\n",
       "  padding-bottom: 5px !important;\n",
       "}\n",
       "\n",
       ".xr-var-attrs-in:checked ~ .xr-var-attrs,\n",
       ".xr-var-data-in:checked ~ .xr-var-data,\n",
       ".xr-index-data-in:checked ~ .xr-index-data {\n",
       "  display: block;\n",
       "}\n",
       "\n",
       ".xr-var-data > table {\n",
       "  float: right;\n",
       "}\n",
       "\n",
       ".xr-var-name span,\n",
       ".xr-var-data,\n",
       ".xr-index-name div,\n",
       ".xr-index-data,\n",
       ".xr-attrs {\n",
       "  padding-left: 25px !important;\n",
       "}\n",
       "\n",
       ".xr-attrs,\n",
       ".xr-var-attrs,\n",
       ".xr-var-data,\n",
       ".xr-index-data {\n",
       "  grid-column: 1 / -1;\n",
       "}\n",
       "\n",
       "dl.xr-attrs {\n",
       "  padding: 0;\n",
       "  margin: 0;\n",
       "  display: grid;\n",
       "  grid-template-columns: 125px auto;\n",
       "}\n",
       "\n",
       ".xr-attrs dt,\n",
       ".xr-attrs dd {\n",
       "  padding: 0;\n",
       "  margin: 0;\n",
       "  float: left;\n",
       "  padding-right: 10px;\n",
       "  width: auto;\n",
       "}\n",
       "\n",
       ".xr-attrs dt {\n",
       "  font-weight: normal;\n",
       "  grid-column: 1;\n",
       "}\n",
       "\n",
       ".xr-attrs dt:hover span {\n",
       "  display: inline-block;\n",
       "  background: var(--xr-background-color);\n",
       "  padding-right: 10px;\n",
       "}\n",
       "\n",
       ".xr-attrs dd {\n",
       "  grid-column: 2;\n",
       "  white-space: pre-wrap;\n",
       "  word-break: break-all;\n",
       "}\n",
       "\n",
       ".xr-icon-database,\n",
       ".xr-icon-file-text2,\n",
       ".xr-no-icon {\n",
       "  display: inline-block;\n",
       "  vertical-align: middle;\n",
       "  width: 1em;\n",
       "  height: 1.5em !important;\n",
       "  stroke-width: 0;\n",
       "  stroke: currentColor;\n",
       "  fill: currentColor;\n",
       "}\n",
       "</style><pre class='xr-text-repr-fallback'>&lt;xarray.Dataset&gt; Size: 3GB\n",
       "Dimensions:            (Time: 1, lat: 2901, lon: 4608)\n",
       "Coordinates:\n",
       "    lat                (lat, lon) float32 53MB ...\n",
       "    lon                (lat, lon) float32 53MB ...\n",
       "Dimensions without coordinates: Time\n",
       "Data variables: (12/47)\n",
       "    FRC_URB2D          (Time, lat, lon) float32 53MB ...\n",
       "    HGT                (Time, lat, lon) float32 53MB ...\n",
       "    ISLTYP             (Time, lat, lon) float64 107MB ...\n",
       "    IVGTYP             (Time, lat, lon) float64 107MB ...\n",
       "    LU_INDEX           (Time, lat, lon) float32 53MB ...\n",
       "    Lambert_Conformal  int32 4B ...\n",
       "    ...                 ...\n",
       "    trad_max           (Time, lat, lon) float32 53MB ...\n",
       "    trad_min           (Time, lat, lon) float32 53MB ...\n",
       "    tsk                (Time, lat, lon) float32 53MB ...\n",
       "    tsk_max            (Time, lat, lon) float32 53MB ...\n",
       "    tsk_min            (Time, lat, lon) float32 53MB ...\n",
       "    wspd               (Time, lat, lon) float32 53MB ...\n",
       "Attributes: (12/50)\n",
       "    SIMULATION_START_DATE:           0000-00-00_00:00:00\n",
       "    WEST-EAST_GRID_DIMENSION:        4609\n",
       "    SOUTH-NORTH_GRID_DIMENSION:      3841\n",
       "    BOTTOM-TOP_GRID_DIMENSION:       0\n",
       "    WEST-EAST_PATCH_START_UNSTAG:    1\n",
       "    WEST-EAST_PATCH_END_UNSTAG:      4608\n",
       "    ...                              ...\n",
       "    FLAG_LAI12M:                     1\n",
       "    FLAG_LAKE_DEPTH:                 1\n",
       "    nco_openmp_thread_number:        1\n",
       "    NCO:                             netCDF Operators version 5.1.9 (Homepage...\n",
       "    TITLE:                           OUTPUT FROM GEOGRID V4.0.1\n",
       "    history:                         Mon Feb 26 06:10:43 2024: ncks -4 -L 1 c...</pre><div class='xr-wrap' style='display:none'><div class='xr-header'><div class='xr-obj-type'>xarray.Dataset</div></div><ul class='xr-sections'><li class='xr-section-item'><input id='section-d93bb02e-dac9-49d0-8577-5451868f197c' class='xr-section-summary-in' type='checkbox' disabled ><label for='section-d93bb02e-dac9-49d0-8577-5451868f197c' class='xr-section-summary'  title='Expand/collapse section'>Dimensions:</label><div class='xr-section-inline-details'><ul class='xr-dim-list'><li><span>Time</span>: 1</li><li><span>lat</span>: 2901</li><li><span>lon</span>: 4608</li></ul></div><div class='xr-section-details'></div></li><li class='xr-section-item'><input id='section-5f29f9ad-fa1b-453a-9983-51624fd241c7' class='xr-section-summary-in' type='checkbox'  checked><label for='section-5f29f9ad-fa1b-453a-9983-51624fd241c7' class='xr-section-summary' >Coordinates: <span>(2)</span></label><div class='xr-section-inline-details'></div><div class='xr-section-details'><ul class='xr-var-list'><li class='xr-var-item'><div class='xr-var-name'><span>lat</span></div><div class='xr-var-dims'>(lat, lon)</div><div class='xr-var-dtype'>float32</div><div class='xr-var-preview xr-preview'>...</div><input id='attrs-895c9f0a-101c-4cc5-a78c-2e9956d58523' class='xr-var-attrs-in' type='checkbox' ><label for='attrs-895c9f0a-101c-4cc5-a78c-2e9956d58523' title='Show/Hide attributes'><svg class='icon xr-icon-file-text2'><use xlink:href='#icon-file-text2'></use></svg></label><input id='data-cc04e532-fcc9-447b-8186-2a5a94c80192' class='xr-var-data-in' type='checkbox'><label for='data-cc04e532-fcc9-447b-8186-2a5a94c80192' title='Show/Hide data repr'><svg class='icon xr-icon-database'><use xlink:href='#icon-database'></use></svg></label><div class='xr-var-attrs'><dl class='xr-attrs'><dt><span>units :</span></dt><dd>degrees_north</dd><dt><span>long_name :</span></dt><dd>latitude coordinate</dd><dt><span>standard_name :</span></dt><dd>latitude</dd></dl></div><div class='xr-var-data'><pre>[13367808 values with dtype=float32]</pre></div></li><li class='xr-var-item'><div class='xr-var-name'><span>lon</span></div><div class='xr-var-dims'>(lat, lon)</div><div class='xr-var-dtype'>float32</div><div class='xr-var-preview xr-preview'>...</div><input id='attrs-0141b2ad-8e37-4cc1-9d3f-2cc3e52a7ad0' class='xr-var-attrs-in' type='checkbox' ><label for='attrs-0141b2ad-8e37-4cc1-9d3f-2cc3e52a7ad0' title='Show/Hide attributes'><svg class='icon xr-icon-file-text2'><use xlink:href='#icon-file-text2'></use></svg></label><input id='data-90e6ebf3-c884-4b6a-aab2-8ce0e7894f96' class='xr-var-data-in' type='checkbox'><label for='data-90e6ebf3-c884-4b6a-aab2-8ce0e7894f96' title='Show/Hide data repr'><svg class='icon xr-icon-database'><use xlink:href='#icon-database'></use></svg></label><div class='xr-var-attrs'><dl class='xr-attrs'><dt><span>units :</span></dt><dd>degrees_east</dd><dt><span>long_name :</span></dt><dd>longitude coordinate</dd><dt><span>standard_name :</span></dt><dd>longitude</dd></dl></div><div class='xr-var-data'><pre>[13367808 values with dtype=float32]</pre></div></li></ul></div></li><li class='xr-section-item'><input id='section-d79bdb5f-6ea8-471f-a215-d173e159875b' class='xr-section-summary-in' type='checkbox'  ><label for='section-d79bdb5f-6ea8-471f-a215-d173e159875b' class='xr-section-summary' >Data variables: <span>(47)</span></label><div class='xr-section-inline-details'></div><div class='xr-section-details'><ul class='xr-var-list'><li class='xr-var-item'><div class='xr-var-name'><span>FRC_URB2D</span></div><div class='xr-var-dims'>(Time, lat, lon)</div><div class='xr-var-dtype'>float32</div><div class='xr-var-preview xr-preview'>...</div><input id='attrs-8d1e1620-685c-401c-86d6-3ce9b1844bcc' class='xr-var-attrs-in' type='checkbox' ><label for='attrs-8d1e1620-685c-401c-86d6-3ce9b1844bcc' title='Show/Hide attributes'><svg class='icon xr-icon-file-text2'><use xlink:href='#icon-file-text2'></use></svg></label><input id='data-2b446f2d-63b6-4172-9e96-6a94b73b4fcb' class='xr-var-data-in' type='checkbox'><label for='data-2b446f2d-63b6-4172-9e96-6a94b73b4fcb' title='Show/Hide data repr'><svg class='icon xr-icon-database'><use xlink:href='#icon-database'></use></svg></label><div class='xr-var-attrs'><dl class='xr-attrs'><dt><span>MemoryOrder :</span></dt><dd>XY </dd><dt><span>FieldType :</span></dt><dd>104</dd><dt><span>units :</span></dt><dd>unitless</dd><dt><span>stagger :</span></dt><dd>M</dd><dt><span>sr_y :</span></dt><dd>1</dd><dt><span>description :</span></dt><dd>urban fraction</dd><dt><span>sr_x :</span></dt><dd>1</dd></dl></div><div class='xr-var-data'><pre>[13367808 values with dtype=float32]</pre></div></li><li class='xr-var-item'><div class='xr-var-name'><span>HGT</span></div><div class='xr-var-dims'>(Time, lat, lon)</div><div class='xr-var-dtype'>float32</div><div class='xr-var-preview xr-preview'>...</div><input id='attrs-2ae511eb-ec6e-468c-bd41-eb5b0eb38e8f' class='xr-var-attrs-in' type='checkbox' ><label for='attrs-2ae511eb-ec6e-468c-bd41-eb5b0eb38e8f' title='Show/Hide attributes'><svg class='icon xr-icon-file-text2'><use xlink:href='#icon-file-text2'></use></svg></label><input id='data-80aa586f-7cae-4565-9fbd-a72860bfd374' class='xr-var-data-in' type='checkbox'><label for='data-80aa586f-7cae-4565-9fbd-a72860bfd374' title='Show/Hide data repr'><svg class='icon xr-icon-database'><use xlink:href='#icon-database'></use></svg></label><div class='xr-var-attrs'><dl class='xr-attrs'><dt><span>MemoryOrder :</span></dt><dd>XY </dd><dt><span>FieldType :</span></dt><dd>104</dd><dt><span>units :</span></dt><dd>meters MSL</dd><dt><span>stagger :</span></dt><dd>M</dd><dt><span>sr_y :</span></dt><dd>1</dd><dt><span>description :</span></dt><dd>Topography height</dd><dt><span>sr_x :</span></dt><dd>1</dd></dl></div><div class='xr-var-data'><pre>[13367808 values with dtype=float32]</pre></div></li><li class='xr-var-item'><div class='xr-var-name'><span>ISLTYP</span></div><div class='xr-var-dims'>(Time, lat, lon)</div><div class='xr-var-dtype'>float64</div><div class='xr-var-preview xr-preview'>...</div><input id='attrs-8d9fded9-3716-480f-ad2c-b11e13be0319' class='xr-var-attrs-in' type='checkbox' ><label for='attrs-8d9fded9-3716-480f-ad2c-b11e13be0319' title='Show/Hide attributes'><svg class='icon xr-icon-file-text2'><use xlink:href='#icon-file-text2'></use></svg></label><input id='data-fd3f62f8-eb60-47e4-8059-7e063c01b50a' class='xr-var-data-in' type='checkbox'><label for='data-fd3f62f8-eb60-47e4-8059-7e063c01b50a' title='Show/Hide data repr'><svg class='icon xr-icon-database'><use xlink:href='#icon-database'></use></svg></label><div class='xr-var-attrs'><dl class='xr-attrs'><dt><span>MemoryOrder :</span></dt><dd>XY </dd><dt><span>FieldType :</span></dt><dd>104</dd><dt><span>units :</span></dt><dd>category</dd><dt><span>stagger :</span></dt><dd>M</dd><dt><span>grid_mapping :</span></dt><dd>lambert_conformal_conic</dd><dt><span>sr_y :</span></dt><dd>1</dd><dt><span>description :</span></dt><dd>Dominant category</dd><dt><span>sr_x :</span></dt><dd>1</dd></dl></div><div class='xr-var-data'><pre>[13367808 values with dtype=float64]</pre></div></li><li class='xr-var-item'><div class='xr-var-name'><span>IVGTYP</span></div><div class='xr-var-dims'>(Time, lat, lon)</div><div class='xr-var-dtype'>float64</div><div class='xr-var-preview xr-preview'>...</div><input id='attrs-196faa26-7b47-4484-90c4-0758e85c735d' class='xr-var-attrs-in' type='checkbox' ><label for='attrs-196faa26-7b47-4484-90c4-0758e85c735d' title='Show/Hide attributes'><svg class='icon xr-icon-file-text2'><use xlink:href='#icon-file-text2'></use></svg></label><input id='data-7eca0013-2537-4078-a5ff-edfdef4e0e1d' class='xr-var-data-in' type='checkbox'><label for='data-7eca0013-2537-4078-a5ff-edfdef4e0e1d' title='Show/Hide data repr'><svg class='icon xr-icon-database'><use xlink:href='#icon-database'></use></svg></label><div class='xr-var-attrs'><dl class='xr-attrs'><dt><span>MemoryOrder :</span></dt><dd>XY </dd><dt><span>FieldType :</span></dt><dd>104</dd><dt><span>units :</span></dt><dd>category</dd><dt><span>stagger :</span></dt><dd>M</dd><dt><span>grid_mapping :</span></dt><dd>lambert_conformal_conic</dd><dt><span>sr_y :</span></dt><dd>1</dd><dt><span>description :</span></dt><dd>Dominant category</dd><dt><span>sr_x :</span></dt><dd>1</dd></dl></div><div class='xr-var-data'><pre>[13367808 values with dtype=float64]</pre></div></li><li class='xr-var-item'><div class='xr-var-name'><span>LU_INDEX</span></div><div class='xr-var-dims'>(Time, lat, lon)</div><div class='xr-var-dtype'>float32</div><div class='xr-var-preview xr-preview'>...</div><input id='attrs-462c0fe5-2025-4f7a-9358-f12c40ccb6ed' class='xr-var-attrs-in' type='checkbox' ><label for='attrs-462c0fe5-2025-4f7a-9358-f12c40ccb6ed' title='Show/Hide attributes'><svg class='icon xr-icon-file-text2'><use xlink:href='#icon-file-text2'></use></svg></label><input id='data-6317a7c2-aca2-4c43-9312-6606d6b5214a' class='xr-var-data-in' type='checkbox'><label for='data-6317a7c2-aca2-4c43-9312-6606d6b5214a' title='Show/Hide data repr'><svg class='icon xr-icon-database'><use xlink:href='#icon-database'></use></svg></label><div class='xr-var-attrs'><dl class='xr-attrs'><dt><span>MemoryOrder :</span></dt><dd>XY </dd><dt><span>FieldType :</span></dt><dd>104</dd><dt><span>units :</span></dt><dd>category</dd><dt><span>stagger :</span></dt><dd>M</dd><dt><span>sr_y :</span></dt><dd>1</dd><dt><span>description :</span></dt><dd>Dominant category</dd><dt><span>sr_x :</span></dt><dd>1</dd></dl></div><div class='xr-var-data'><pre>[13367808 values with dtype=float32]</pre></div></li><li class='xr-var-item'><div class='xr-var-name'><span>Lambert_Conformal</span></div><div class='xr-var-dims'>()</div><div class='xr-var-dtype'>int32</div><div class='xr-var-preview xr-preview'>...</div><input id='attrs-0e401bfe-845d-4412-b223-dc8a58ad3d5d' class='xr-var-attrs-in' type='checkbox' ><label for='attrs-0e401bfe-845d-4412-b223-dc8a58ad3d5d' title='Show/Hide attributes'><svg class='icon xr-icon-file-text2'><use xlink:href='#icon-file-text2'></use></svg></label><input id='data-ee2a17c8-8f39-4dd9-86ab-e445684a7e75' class='xr-var-data-in' type='checkbox'><label for='data-ee2a17c8-8f39-4dd9-86ab-e445684a7e75' title='Show/Hide data repr'><svg class='icon xr-icon-database'><use xlink:href='#icon-database'></use></svg></label><div class='xr-var-attrs'><dl class='xr-attrs'><dt><span>grid_mapping_name :</span></dt><dd>lambert_conformal_conic</dd><dt><span>hemisphere :</span></dt><dd>N</dd><dt><span>scale_lat_1 :</span></dt><dd>30.0</dd><dt><span>scale_lat_2 :</span></dt><dd>60.0</dd><dt><span>lat_pin :</span></dt><dd>40.00001</dd><dt><span>lon_pin :</span></dt><dd>-97.0</dd><dt><span>x_pin :</span></dt><dd>2304.0</dd><dt><span>lon_orient :</span></dt><dd>-97.0</dd><dt><span>d_km :</span></dt><dd>1.0</dd><dt><span>r_km :</span></dt><dd>6371.2</dd><dt><span>nx :</span></dt><dd>4608.0</dd><dt><span>ny :</span></dt><dd>2901.0</dd><dt><span>y_pin :</span></dt><dd>1450.5</dd></dl></div><div class='xr-var-data'><pre>[1 values with dtype=int32]</pre></div></li><li class='xr-var-item'><div class='xr-var-name'><span>Times</span></div><div class='xr-var-dims'>(Time)</div><div class='xr-var-dtype'>object</div><div class='xr-var-preview xr-preview'>...</div><input id='attrs-8bb1e7e8-8821-440c-b1e5-cff06d26af4b' class='xr-var-attrs-in' type='checkbox' disabled><label for='attrs-8bb1e7e8-8821-440c-b1e5-cff06d26af4b' title='Show/Hide attributes'><svg class='icon xr-icon-file-text2'><use xlink:href='#icon-file-text2'></use></svg></label><input id='data-591e3be9-420c-437c-91ae-60c56581b602' class='xr-var-data-in' type='checkbox'><label for='data-591e3be9-420c-437c-91ae-60c56581b602' title='Show/Hide data repr'><svg class='icon xr-icon-database'><use xlink:href='#icon-database'></use></svg></label><div class='xr-var-attrs'><dl class='xr-attrs'></dl></div><div class='xr-var-data'><pre>[1 values with dtype=object]</pre></div></li><li class='xr-var-item'><div class='xr-var-name'><span>URB_CAT</span></div><div class='xr-var-dims'>(Time, lat, lon)</div><div class='xr-var-dtype'>float32</div><div class='xr-var-preview xr-preview'>...</div><input id='attrs-8cc45cd9-1a85-47b3-882d-66aa62aaae8c' class='xr-var-attrs-in' type='checkbox' ><label for='attrs-8cc45cd9-1a85-47b3-882d-66aa62aaae8c' title='Show/Hide attributes'><svg class='icon xr-icon-file-text2'><use xlink:href='#icon-file-text2'></use></svg></label><input id='data-6f2064e9-2891-4b6d-987f-0408effecc89' class='xr-var-data-in' type='checkbox'><label for='data-6f2064e9-2891-4b6d-987f-0408effecc89' title='Show/Hide data repr'><svg class='icon xr-icon-database'><use xlink:href='#icon-database'></use></svg></label><div class='xr-var-attrs'><dl class='xr-attrs'><dt><span>MemoryOrder :</span></dt><dd>XY </dd><dt><span>FieldType :</span></dt><dd>104</dd><dt><span>units :</span></dt><dd>unitless</dd><dt><span>stagger :</span></dt><dd>M</dd><dt><span>sr_y :</span></dt><dd>1</dd><dt><span>description :</span></dt><dd>Dominant Urban Category</dd><dt><span>sr_x :</span></dt><dd>1</dd></dl></div><div class='xr-var-data'><pre>[13367808 values with dtype=float32]</pre></div></li><li class='xr-var-item'><div class='xr-var-name'><span>hfx</span></div><div class='xr-var-dims'>(Time, lat, lon)</div><div class='xr-var-dtype'>float32</div><div class='xr-var-preview xr-preview'>...</div><input id='attrs-ff796fcc-37a2-4d87-a2b4-a6861f50ff08' class='xr-var-attrs-in' type='checkbox' ><label for='attrs-ff796fcc-37a2-4d87-a2b4-a6861f50ff08' title='Show/Hide attributes'><svg class='icon xr-icon-file-text2'><use xlink:href='#icon-file-text2'></use></svg></label><input id='data-50100453-7320-4ac3-a208-65bb3700f0c1' class='xr-var-data-in' type='checkbox'><label for='data-50100453-7320-4ac3-a208-65bb3700f0c1' title='Show/Hide data repr'><svg class='icon xr-icon-database'><use xlink:href='#icon-database'></use></svg></label><div class='xr-var-attrs'><dl class='xr-attrs'><dt><span>MemoryOrder :</span></dt><dd>XY</dd><dt><span>description :</span></dt><dd>Daily mean sensible heat to atmosphere</dd><dt><span>units :</span></dt><dd>W m{-2}</dd><dt><span>stagger :</span></dt><dd>-</dd></dl></div><div class='xr-var-data'><pre>[13367808 values with dtype=float32]</pre></div></li><li class='xr-var-item'><div class='xr-var-name'><span>lh</span></div><div class='xr-var-dims'>(Time, lat, lon)</div><div class='xr-var-dtype'>float32</div><div class='xr-var-preview xr-preview'>...</div><input id='attrs-8ec9280c-549b-4d43-bc05-012bfe890d81' class='xr-var-attrs-in' type='checkbox' ><label for='attrs-8ec9280c-549b-4d43-bc05-012bfe890d81' title='Show/Hide attributes'><svg class='icon xr-icon-file-text2'><use xlink:href='#icon-file-text2'></use></svg></label><input id='data-66751fd6-fb90-4571-b166-77a31587ace8' class='xr-var-data-in' type='checkbox'><label for='data-66751fd6-fb90-4571-b166-77a31587ace8' title='Show/Hide data repr'><svg class='icon xr-icon-database'><use xlink:href='#icon-database'></use></svg></label><div class='xr-var-attrs'><dl class='xr-attrs'><dt><span>MemoryOrder :</span></dt><dd>XY</dd><dt><span>description :</span></dt><dd>Daily mean latent heat to atmosphere</dd><dt><span>units :</span></dt><dd>W m{-2}</dd><dt><span>stagger :</span></dt><dd>-</dd></dl></div><div class='xr-var-data'><pre>[13367808 values with dtype=float32]</pre></div></li><li class='xr-var-item'><div class='xr-var-name'><span>lwforc</span></div><div class='xr-var-dims'>(Time, lat, lon)</div><div class='xr-var-dtype'>float32</div><div class='xr-var-preview xr-preview'>...</div><input id='attrs-b1f87fe9-3254-453a-92d4-03508548e44a' class='xr-var-attrs-in' type='checkbox' ><label for='attrs-b1f87fe9-3254-453a-92d4-03508548e44a' title='Show/Hide attributes'><svg class='icon xr-icon-file-text2'><use xlink:href='#icon-file-text2'></use></svg></label><input id='data-a122a960-75e7-46bb-a3e0-033d62564406' class='xr-var-data-in' type='checkbox'><label for='data-a122a960-75e7-46bb-a3e0-033d62564406' title='Show/Hide data repr'><svg class='icon xr-icon-database'><use xlink:href='#icon-database'></use></svg></label><div class='xr-var-attrs'><dl class='xr-attrs'><dt><span>MemoryOrder :</span></dt><dd>XY</dd><dt><span>description :</span></dt><dd>Daily mean longwave forcing</dd><dt><span>units :</span></dt><dd>W m{-2}</dd><dt><span>stagger :</span></dt><dd>-</dd></dl></div><div class='xr-var-data'><pre>[13367808 values with dtype=float32]</pre></div></li><li class='xr-var-item'><div class='xr-var-name'><span>q2</span></div><div class='xr-var-dims'>(Time, lat, lon)</div><div class='xr-var-dtype'>float32</div><div class='xr-var-preview xr-preview'>...</div><input id='attrs-973cd369-3384-49f7-a62c-b3446468705d' class='xr-var-attrs-in' type='checkbox' ><label for='attrs-973cd369-3384-49f7-a62c-b3446468705d' title='Show/Hide attributes'><svg class='icon xr-icon-file-text2'><use xlink:href='#icon-file-text2'></use></svg></label><input id='data-ae8f1a77-dc5e-43cb-bd5b-1734c84e420b' class='xr-var-data-in' type='checkbox'><label for='data-ae8f1a77-dc5e-43cb-bd5b-1734c84e420b' title='Show/Hide data repr'><svg class='icon xr-icon-database'><use xlink:href='#icon-database'></use></svg></label><div class='xr-var-attrs'><dl class='xr-attrs'><dt><span>MemoryOrder :</span></dt><dd>XY</dd><dt><span>description :</span></dt><dd>Daily mean veg and urban weighted 2-m diagnostic spec. humidity</dd><dt><span>units :</span></dt><dd>kg/kg</dd><dt><span>stagger :</span></dt><dd>-</dd></dl></div><div class='xr-var-data'><pre>[13367808 values with dtype=float32]</pre></div></li><li class='xr-var-item'><div class='xr-var-name'><span>q2_max</span></div><div class='xr-var-dims'>(Time, lat, lon)</div><div class='xr-var-dtype'>float32</div><div class='xr-var-preview xr-preview'>...</div><input id='attrs-914ddfbb-c4cf-4848-bd93-122cbb8c0427' class='xr-var-attrs-in' type='checkbox' ><label for='attrs-914ddfbb-c4cf-4848-bd93-122cbb8c0427' title='Show/Hide attributes'><svg class='icon xr-icon-file-text2'><use xlink:href='#icon-file-text2'></use></svg></label><input id='data-9d4a8d5f-34fd-448e-899b-476b36c17681' class='xr-var-data-in' type='checkbox'><label for='data-9d4a8d5f-34fd-448e-899b-476b36c17681' title='Show/Hide data repr'><svg class='icon xr-icon-database'><use xlink:href='#icon-database'></use></svg></label><div class='xr-var-attrs'><dl class='xr-attrs'><dt><span>MemoryOrder :</span></dt><dd>XY</dd><dt><span>description :</span></dt><dd>Daily maximum veg and urban weighted 2-m diagnostic spec. humidity</dd><dt><span>units :</span></dt><dd>kg/kg</dd><dt><span>stagger :</span></dt><dd>-</dd></dl></div><div class='xr-var-data'><pre>[13367808 values with dtype=float32]</pre></div></li><li class='xr-var-item'><div class='xr-var-name'><span>q2_min</span></div><div class='xr-var-dims'>(Time, lat, lon)</div><div class='xr-var-dtype'>float32</div><div class='xr-var-preview xr-preview'>...</div><input id='attrs-47fc2a33-1e9c-49b9-acd6-98f819593edb' class='xr-var-attrs-in' type='checkbox' ><label for='attrs-47fc2a33-1e9c-49b9-acd6-98f819593edb' title='Show/Hide attributes'><svg class='icon xr-icon-file-text2'><use xlink:href='#icon-file-text2'></use></svg></label><input id='data-9b5d0170-dcf0-4de1-8176-4f1820126f18' class='xr-var-data-in' type='checkbox'><label for='data-9b5d0170-dcf0-4de1-8176-4f1820126f18' title='Show/Hide data repr'><svg class='icon xr-icon-database'><use xlink:href='#icon-database'></use></svg></label><div class='xr-var-attrs'><dl class='xr-attrs'><dt><span>MemoryOrder :</span></dt><dd>XY</dd><dt><span>description :</span></dt><dd>Daily minimum veg and urban weighted 2-m diagnostic spec. humidity</dd><dt><span>units :</span></dt><dd>kg/kg</dd><dt><span>stagger :</span></dt><dd>-</dd></dl></div><div class='xr-var-data'><pre>[13367808 values with dtype=float32]</pre></div></li><li class='xr-var-item'><div class='xr-var-name'><span>q2_urb2d</span></div><div class='xr-var-dims'>(Time, lat, lon)</div><div class='xr-var-dtype'>float32</div><div class='xr-var-preview xr-preview'>...</div><input id='attrs-dc8f5166-473d-48da-b3b9-8c5faf6a1b8c' class='xr-var-attrs-in' type='checkbox' ><label for='attrs-dc8f5166-473d-48da-b3b9-8c5faf6a1b8c' title='Show/Hide attributes'><svg class='icon xr-icon-file-text2'><use xlink:href='#icon-file-text2'></use></svg></label><input id='data-bf181429-d5f5-4ab7-94ce-fbe56e926be3' class='xr-var-data-in' type='checkbox'><label for='data-bf181429-d5f5-4ab7-94ce-fbe56e926be3' title='Show/Hide data repr'><svg class='icon xr-icon-database'><use xlink:href='#icon-database'></use></svg></label><div class='xr-var-attrs'><dl class='xr-attrs'><dt><span>MemoryOrder :</span></dt><dd>XY</dd><dt><span>description :</span></dt><dd>Daily mean urban 2-m diagnostic spec. humidity</dd><dt><span>units :</span></dt><dd>kg/kg</dd><dt><span>stagger :</span></dt><dd>-</dd></dl></div><div class='xr-var-data'><pre>[13367808 values with dtype=float32]</pre></div></li><li class='xr-var-item'><div class='xr-var-name'><span>q2_urb2d_max</span></div><div class='xr-var-dims'>(Time, lat, lon)</div><div class='xr-var-dtype'>float32</div><div class='xr-var-preview xr-preview'>...</div><input id='attrs-0e26942c-5813-4f26-89bf-c10159c77397' class='xr-var-attrs-in' type='checkbox' ><label for='attrs-0e26942c-5813-4f26-89bf-c10159c77397' title='Show/Hide attributes'><svg class='icon xr-icon-file-text2'><use xlink:href='#icon-file-text2'></use></svg></label><input id='data-8d99a58b-ed50-4281-b259-6d8b3748e923' class='xr-var-data-in' type='checkbox'><label for='data-8d99a58b-ed50-4281-b259-6d8b3748e923' title='Show/Hide data repr'><svg class='icon xr-icon-database'><use xlink:href='#icon-database'></use></svg></label><div class='xr-var-attrs'><dl class='xr-attrs'><dt><span>MemoryOrder :</span></dt><dd>XY</dd><dt><span>description :</span></dt><dd>Daily maximum urban 2-m diagnostic spec. humidity</dd><dt><span>units :</span></dt><dd>kg/kg</dd><dt><span>stagger :</span></dt><dd>-</dd></dl></div><div class='xr-var-data'><pre>[13367808 values with dtype=float32]</pre></div></li><li class='xr-var-item'><div class='xr-var-name'><span>q2_urb2d_min</span></div><div class='xr-var-dims'>(Time, lat, lon)</div><div class='xr-var-dtype'>float32</div><div class='xr-var-preview xr-preview'>...</div><input id='attrs-4e56afa7-ee55-4a99-874b-de7aeea952f3' class='xr-var-attrs-in' type='checkbox' ><label for='attrs-4e56afa7-ee55-4a99-874b-de7aeea952f3' title='Show/Hide attributes'><svg class='icon xr-icon-file-text2'><use xlink:href='#icon-file-text2'></use></svg></label><input id='data-493160ae-9c3e-42c1-88b5-ea0f056b4989' class='xr-var-data-in' type='checkbox'><label for='data-493160ae-9c3e-42c1-88b5-ea0f056b4989' title='Show/Hide data repr'><svg class='icon xr-icon-database'><use xlink:href='#icon-database'></use></svg></label><div class='xr-var-attrs'><dl class='xr-attrs'><dt><span>MemoryOrder :</span></dt><dd>XY</dd><dt><span>description :</span></dt><dd>Daily minimum urban 2-m diagnostic spec. humidity</dd><dt><span>units :</span></dt><dd>kg/kg</dd><dt><span>stagger :</span></dt><dd>-</dd></dl></div><div class='xr-var-data'><pre>[13367808 values with dtype=float32]</pre></div></li><li class='xr-var-item'><div class='xr-var-name'><span>rainrate</span></div><div class='xr-var-dims'>(Time, lat, lon)</div><div class='xr-var-dtype'>float32</div><div class='xr-var-preview xr-preview'>...</div><input id='attrs-2d1f9732-75a3-4b3f-8720-bea43ac48baa' class='xr-var-attrs-in' type='checkbox' ><label for='attrs-2d1f9732-75a3-4b3f-8720-bea43ac48baa' title='Show/Hide attributes'><svg class='icon xr-icon-file-text2'><use xlink:href='#icon-file-text2'></use></svg></label><input id='data-d07f01e9-52cd-4440-b87c-ba47d8d280be' class='xr-var-data-in' type='checkbox'><label for='data-d07f01e9-52cd-4440-b87c-ba47d8d280be' title='Show/Hide data repr'><svg class='icon xr-icon-database'><use xlink:href='#icon-database'></use></svg></label><div class='xr-var-attrs'><dl class='xr-attrs'><dt><span>MemoryOrder :</span></dt><dd>XY</dd><dt><span>description :</span></dt><dd>Daily mean precipitation rate</dd><dt><span>units :</span></dt><dd>kg m{-2} s{-1}</dd><dt><span>stagger :</span></dt><dd>-</dd></dl></div><div class='xr-var-data'><pre>[13367808 values with dtype=float32]</pre></div></li><li class='xr-var-item'><div class='xr-var-name'><span>swforc</span></div><div class='xr-var-dims'>(Time, lat, lon)</div><div class='xr-var-dtype'>float32</div><div class='xr-var-preview xr-preview'>...</div><input id='attrs-0a90e7a7-0d47-4ba4-8313-bc576f2232f4' class='xr-var-attrs-in' type='checkbox' ><label for='attrs-0a90e7a7-0d47-4ba4-8313-bc576f2232f4' title='Show/Hide attributes'><svg class='icon xr-icon-file-text2'><use xlink:href='#icon-file-text2'></use></svg></label><input id='data-307f179f-aee3-42e4-8906-6b4d6d354c00' class='xr-var-data-in' type='checkbox'><label for='data-307f179f-aee3-42e4-8906-6b4d6d354c00' title='Show/Hide data repr'><svg class='icon xr-icon-database'><use xlink:href='#icon-database'></use></svg></label><div class='xr-var-attrs'><dl class='xr-attrs'><dt><span>MemoryOrder :</span></dt><dd>XY</dd><dt><span>description :</span></dt><dd>Daily mean shortwave forcing</dd><dt><span>units :</span></dt><dd>W m{-2}</dd><dt><span>stagger :</span></dt><dd>-</dd></dl></div><div class='xr-var-data'><pre>[13367808 values with dtype=float32]</pre></div></li><li class='xr-var-item'><div class='xr-var-name'><span>t2_max_BC</span></div><div class='xr-var-dims'>(Time, lat, lon)</div><div class='xr-var-dtype'>float32</div><div class='xr-var-preview xr-preview'>...</div><input id='attrs-113c9d31-6cfe-4613-a326-8fc1523fa324' class='xr-var-attrs-in' type='checkbox' ><label for='attrs-113c9d31-6cfe-4613-a326-8fc1523fa324' title='Show/Hide attributes'><svg class='icon xr-icon-file-text2'><use xlink:href='#icon-file-text2'></use></svg></label><input id='data-851c1a17-3391-412b-9acd-63d18e508a79' class='xr-var-data-in' type='checkbox'><label for='data-851c1a17-3391-412b-9acd-63d18e508a79' title='Show/Hide data repr'><svg class='icon xr-icon-database'><use xlink:href='#icon-database'></use></svg></label><div class='xr-var-attrs'><dl class='xr-attrs'><dt><span>long_name :</span></dt><dd>Maximum Temperature Adjust</dd><dt><span>units :</span></dt><dd>K</dd><dt><span>grid_mapping :</span></dt><dd>Lambert_Conformal</dd></dl></div><div class='xr-var-data'><pre>[13367808 values with dtype=float32]</pre></div></li><li class='xr-var-item'><div class='xr-var-name'><span>t2_max_raw</span></div><div class='xr-var-dims'>(Time, lat, lon)</div><div class='xr-var-dtype'>float32</div><div class='xr-var-preview xr-preview'>...</div><input id='attrs-2bf90ab0-61a0-434a-902d-f38df40ad8b1' class='xr-var-attrs-in' type='checkbox' ><label for='attrs-2bf90ab0-61a0-434a-902d-f38df40ad8b1' title='Show/Hide attributes'><svg class='icon xr-icon-file-text2'><use xlink:href='#icon-file-text2'></use></svg></label><input id='data-ac2edf35-ff0f-4319-af21-1005ec297fbe' class='xr-var-data-in' type='checkbox'><label for='data-ac2edf35-ff0f-4319-af21-1005ec297fbe' title='Show/Hide data repr'><svg class='icon xr-icon-database'><use xlink:href='#icon-database'></use></svg></label><div class='xr-var-attrs'><dl class='xr-attrs'><dt><span>long_name :</span></dt><dd>Unadjusted Temperature Maximum</dd><dt><span>units :</span></dt><dd>K</dd><dt><span>grid_mapping :</span></dt><dd>Lambert_Conformal</dd></dl></div><div class='xr-var-data'><pre>[13367808 values with dtype=float32]</pre></div></li><li class='xr-var-item'><div class='xr-var-name'><span>t2_min_BC</span></div><div class='xr-var-dims'>(Time, lat, lon)</div><div class='xr-var-dtype'>float32</div><div class='xr-var-preview xr-preview'>...</div><input id='attrs-0f0614a4-9d5f-4f9e-91b2-6d3db1d7215a' class='xr-var-attrs-in' type='checkbox' ><label for='attrs-0f0614a4-9d5f-4f9e-91b2-6d3db1d7215a' title='Show/Hide attributes'><svg class='icon xr-icon-file-text2'><use xlink:href='#icon-file-text2'></use></svg></label><input id='data-40d8baf8-28b1-4959-8f19-e565fe93744a' class='xr-var-data-in' type='checkbox'><label for='data-40d8baf8-28b1-4959-8f19-e565fe93744a' title='Show/Hide data repr'><svg class='icon xr-icon-database'><use xlink:href='#icon-database'></use></svg></label><div class='xr-var-attrs'><dl class='xr-attrs'><dt><span>long_name :</span></dt><dd>Minimum Temperature Adjust</dd><dt><span>units :</span></dt><dd>K</dd><dt><span>grid_mapping :</span></dt><dd>Lambert_Conformal</dd></dl></div><div class='xr-var-data'><pre>[13367808 values with dtype=float32]</pre></div></li><li class='xr-var-item'><div class='xr-var-name'><span>t2_min_raw</span></div><div class='xr-var-dims'>(Time, lat, lon)</div><div class='xr-var-dtype'>float32</div><div class='xr-var-preview xr-preview'>...</div><input id='attrs-e1a0863e-26e0-458e-98ea-0ae2a1ee13a5' class='xr-var-attrs-in' type='checkbox' ><label for='attrs-e1a0863e-26e0-458e-98ea-0ae2a1ee13a5' title='Show/Hide attributes'><svg class='icon xr-icon-file-text2'><use xlink:href='#icon-file-text2'></use></svg></label><input id='data-8e4f774d-50e9-497b-95a0-bd9ea1f6210b' class='xr-var-data-in' type='checkbox'><label for='data-8e4f774d-50e9-497b-95a0-bd9ea1f6210b' title='Show/Hide data repr'><svg class='icon xr-icon-database'><use xlink:href='#icon-database'></use></svg></label><div class='xr-var-attrs'><dl class='xr-attrs'><dt><span>units :</span></dt><dd>K</dd><dt><span>long_name :</span></dt><dd>Unadjusted Temperature Minimum</dd><dt><span>grid_mapping :</span></dt><dd>Lambert_Conformal</dd></dl></div><div class='xr-var-data'><pre>[13367808 values with dtype=float32]</pre></div></li><li class='xr-var-item'><div class='xr-var-name'><span>t2_raw</span></div><div class='xr-var-dims'>(Time, lat, lon)</div><div class='xr-var-dtype'>float32</div><div class='xr-var-preview xr-preview'>...</div><input id='attrs-5b5774d4-de32-4a43-a507-b8b79eadc9ea' class='xr-var-attrs-in' type='checkbox' ><label for='attrs-5b5774d4-de32-4a43-a507-b8b79eadc9ea' title='Show/Hide attributes'><svg class='icon xr-icon-file-text2'><use xlink:href='#icon-file-text2'></use></svg></label><input id='data-942ed92c-c876-4ba3-bf09-40f1fa567382' class='xr-var-data-in' type='checkbox'><label for='data-942ed92c-c876-4ba3-bf09-40f1fa567382' title='Show/Hide data repr'><svg class='icon xr-icon-database'><use xlink:href='#icon-database'></use></svg></label><div class='xr-var-attrs'><dl class='xr-attrs'><dt><span>MemoryOrder :</span></dt><dd>XY</dd><dt><span>description :</span></dt><dd>Daily mean veg and urban weighted 2-m diagnostic temperature</dd><dt><span>units :</span></dt><dd>K</dd><dt><span>stagger :</span></dt><dd>-</dd></dl></div><div class='xr-var-data'><pre>[13367808 values with dtype=float32]</pre></div></li><li class='xr-var-item'><div class='xr-var-name'><span>tb_urb2d</span></div><div class='xr-var-dims'>(Time, lat, lon)</div><div class='xr-var-dtype'>float32</div><div class='xr-var-preview xr-preview'>...</div><input id='attrs-6beab5a3-c182-4b65-8cf2-f6077e15976c' class='xr-var-attrs-in' type='checkbox' ><label for='attrs-6beab5a3-c182-4b65-8cf2-f6077e15976c' title='Show/Hide attributes'><svg class='icon xr-icon-file-text2'><use xlink:href='#icon-file-text2'></use></svg></label><input id='data-119f3bb3-3821-481f-abf4-af55b9d11d67' class='xr-var-data-in' type='checkbox'><label for='data-119f3bb3-3821-481f-abf4-af55b9d11d67' title='Show/Hide data repr'><svg class='icon xr-icon-database'><use xlink:href='#icon-database'></use></svg></label><div class='xr-var-attrs'><dl class='xr-attrs'><dt><span>MemoryOrder :</span></dt><dd>XY</dd><dt><span>description :</span></dt><dd>Daily mean urban buliding temperature</dd><dt><span>units :</span></dt><dd>K</dd><dt><span>stagger :</span></dt><dd>-</dd></dl></div><div class='xr-var-data'><pre>[13367808 values with dtype=float32]</pre></div></li><li class='xr-var-item'><div class='xr-var-name'><span>tb_urb2d_max</span></div><div class='xr-var-dims'>(Time, lat, lon)</div><div class='xr-var-dtype'>float32</div><div class='xr-var-preview xr-preview'>...</div><input id='attrs-e2d7c84a-3b4b-4940-943d-783d57ad9801' class='xr-var-attrs-in' type='checkbox' ><label for='attrs-e2d7c84a-3b4b-4940-943d-783d57ad9801' title='Show/Hide attributes'><svg class='icon xr-icon-file-text2'><use xlink:href='#icon-file-text2'></use></svg></label><input id='data-6f927e51-f0ce-4025-b34d-14105f94d01d' class='xr-var-data-in' type='checkbox'><label for='data-6f927e51-f0ce-4025-b34d-14105f94d01d' title='Show/Hide data repr'><svg class='icon xr-icon-database'><use xlink:href='#icon-database'></use></svg></label><div class='xr-var-attrs'><dl class='xr-attrs'><dt><span>MemoryOrder :</span></dt><dd>XY</dd><dt><span>description :</span></dt><dd>Daily maximum urban buliding temperature</dd><dt><span>units :</span></dt><dd>K</dd><dt><span>stagger :</span></dt><dd>-</dd></dl></div><div class='xr-var-data'><pre>[13367808 values with dtype=float32]</pre></div></li><li class='xr-var-item'><div class='xr-var-name'><span>tb_urb2d_min</span></div><div class='xr-var-dims'>(Time, lat, lon)</div><div class='xr-var-dtype'>float32</div><div class='xr-var-preview xr-preview'>...</div><input id='attrs-eb8674da-1e20-43bf-80e2-8a94775a6cea' class='xr-var-attrs-in' type='checkbox' ><label for='attrs-eb8674da-1e20-43bf-80e2-8a94775a6cea' title='Show/Hide attributes'><svg class='icon xr-icon-file-text2'><use xlink:href='#icon-file-text2'></use></svg></label><input id='data-0b5022b3-7951-447e-a406-0fae2d7e7f4c' class='xr-var-data-in' type='checkbox'><label for='data-0b5022b3-7951-447e-a406-0fae2d7e7f4c' title='Show/Hide data repr'><svg class='icon xr-icon-database'><use xlink:href='#icon-database'></use></svg></label><div class='xr-var-attrs'><dl class='xr-attrs'><dt><span>MemoryOrder :</span></dt><dd>XY</dd><dt><span>description :</span></dt><dd>Daily minimum urban buliding temperature</dd><dt><span>units :</span></dt><dd>K</dd><dt><span>stagger :</span></dt><dd>-</dd></dl></div><div class='xr-var-data'><pre>[13367808 values with dtype=float32]</pre></div></li><li class='xr-var-item'><div class='xr-var-name'><span>tc_urb2d</span></div><div class='xr-var-dims'>(Time, lat, lon)</div><div class='xr-var-dtype'>float32</div><div class='xr-var-preview xr-preview'>...</div><input id='attrs-5338632d-bcd6-452c-ac04-8514e5786663' class='xr-var-attrs-in' type='checkbox' ><label for='attrs-5338632d-bcd6-452c-ac04-8514e5786663' title='Show/Hide attributes'><svg class='icon xr-icon-file-text2'><use xlink:href='#icon-file-text2'></use></svg></label><input id='data-2cc51086-5b49-45e5-bfd2-ed3305a68093' class='xr-var-data-in' type='checkbox'><label for='data-2cc51086-5b49-45e5-bfd2-ed3305a68093' title='Show/Hide data repr'><svg class='icon xr-icon-database'><use xlink:href='#icon-database'></use></svg></label><div class='xr-var-attrs'><dl class='xr-attrs'><dt><span>MemoryOrder :</span></dt><dd>XY</dd><dt><span>description :</span></dt><dd>Daily mean urban canopy temperature</dd><dt><span>units :</span></dt><dd>K</dd><dt><span>stagger :</span></dt><dd>-</dd></dl></div><div class='xr-var-data'><pre>[13367808 values with dtype=float32]</pre></div></li><li class='xr-var-item'><div class='xr-var-name'><span>tc_urb2d_max</span></div><div class='xr-var-dims'>(Time, lat, lon)</div><div class='xr-var-dtype'>float32</div><div class='xr-var-preview xr-preview'>...</div><input id='attrs-236e0d8e-eb29-4f2f-ad5e-82eec141a9b2' class='xr-var-attrs-in' type='checkbox' ><label for='attrs-236e0d8e-eb29-4f2f-ad5e-82eec141a9b2' title='Show/Hide attributes'><svg class='icon xr-icon-file-text2'><use xlink:href='#icon-file-text2'></use></svg></label><input id='data-98217dc0-9110-4b66-8405-29239cbe920f' class='xr-var-data-in' type='checkbox'><label for='data-98217dc0-9110-4b66-8405-29239cbe920f' title='Show/Hide data repr'><svg class='icon xr-icon-database'><use xlink:href='#icon-database'></use></svg></label><div class='xr-var-attrs'><dl class='xr-attrs'><dt><span>MemoryOrder :</span></dt><dd>XY</dd><dt><span>description :</span></dt><dd>Daily maximum urban canopy temperature</dd><dt><span>units :</span></dt><dd>K</dd><dt><span>stagger :</span></dt><dd>-</dd></dl></div><div class='xr-var-data'><pre>[13367808 values with dtype=float32]</pre></div></li><li class='xr-var-item'><div class='xr-var-name'><span>tc_urb2d_min</span></div><div class='xr-var-dims'>(Time, lat, lon)</div><div class='xr-var-dtype'>float32</div><div class='xr-var-preview xr-preview'>...</div><input id='attrs-ea5afe56-44e6-4ff6-affb-ecc97e0b7f42' class='xr-var-attrs-in' type='checkbox' ><label for='attrs-ea5afe56-44e6-4ff6-affb-ecc97e0b7f42' title='Show/Hide attributes'><svg class='icon xr-icon-file-text2'><use xlink:href='#icon-file-text2'></use></svg></label><input id='data-103b6d7a-ba71-4ffa-8dcd-90979e72f63a' class='xr-var-data-in' type='checkbox'><label for='data-103b6d7a-ba71-4ffa-8dcd-90979e72f63a' title='Show/Hide data repr'><svg class='icon xr-icon-database'><use xlink:href='#icon-database'></use></svg></label><div class='xr-var-attrs'><dl class='xr-attrs'><dt><span>MemoryOrder :</span></dt><dd>XY</dd><dt><span>description :</span></dt><dd>Daily minimum urban canopy temperature</dd><dt><span>units :</span></dt><dd>K</dd><dt><span>stagger :</span></dt><dd>-</dd></dl></div><div class='xr-var-data'><pre>[13367808 values with dtype=float32]</pre></div></li><li class='xr-var-item'><div class='xr-var-name'><span>tg</span></div><div class='xr-var-dims'>(Time, lat, lon)</div><div class='xr-var-dtype'>float32</div><div class='xr-var-preview xr-preview'>...</div><input id='attrs-4978590b-c1f0-471c-ac02-14196911d68c' class='xr-var-attrs-in' type='checkbox' ><label for='attrs-4978590b-c1f0-471c-ac02-14196911d68c' title='Show/Hide attributes'><svg class='icon xr-icon-file-text2'><use xlink:href='#icon-file-text2'></use></svg></label><input id='data-68aade4c-29ea-423d-91f2-3bd4909e576d' class='xr-var-data-in' type='checkbox'><label for='data-68aade4c-29ea-423d-91f2-3bd4909e576d' title='Show/Hide data repr'><svg class='icon xr-icon-database'><use xlink:href='#icon-database'></use></svg></label><div class='xr-var-attrs'><dl class='xr-attrs'><dt><span>MemoryOrder :</span></dt><dd>XY</dd><dt><span>description :</span></dt><dd>Daily mean ground temperature</dd><dt><span>units :</span></dt><dd>K</dd><dt><span>stagger :</span></dt><dd>-</dd></dl></div><div class='xr-var-data'><pre>[13367808 values with dtype=float32]</pre></div></li><li class='xr-var-item'><div class='xr-var-name'><span>tg_max</span></div><div class='xr-var-dims'>(Time, lat, lon)</div><div class='xr-var-dtype'>float32</div><div class='xr-var-preview xr-preview'>...</div><input id='attrs-821e7500-aae6-4da1-a21b-2d3784b3e831' class='xr-var-attrs-in' type='checkbox' ><label for='attrs-821e7500-aae6-4da1-a21b-2d3784b3e831' title='Show/Hide attributes'><svg class='icon xr-icon-file-text2'><use xlink:href='#icon-file-text2'></use></svg></label><input id='data-5f8b4767-1c56-4231-b888-731a22473efe' class='xr-var-data-in' type='checkbox'><label for='data-5f8b4767-1c56-4231-b888-731a22473efe' title='Show/Hide data repr'><svg class='icon xr-icon-database'><use xlink:href='#icon-database'></use></svg></label><div class='xr-var-attrs'><dl class='xr-attrs'><dt><span>MemoryOrder :</span></dt><dd>XY</dd><dt><span>description :</span></dt><dd>Daily maximum ground temperature</dd><dt><span>units :</span></dt><dd>K</dd><dt><span>stagger :</span></dt><dd>-</dd></dl></div><div class='xr-var-data'><pre>[13367808 values with dtype=float32]</pre></div></li><li class='xr-var-item'><div class='xr-var-name'><span>tg_min</span></div><div class='xr-var-dims'>(Time, lat, lon)</div><div class='xr-var-dtype'>float32</div><div class='xr-var-preview xr-preview'>...</div><input id='attrs-7a574e5f-2e80-4dba-8bae-d153086f3c5a' class='xr-var-attrs-in' type='checkbox' ><label for='attrs-7a574e5f-2e80-4dba-8bae-d153086f3c5a' title='Show/Hide attributes'><svg class='icon xr-icon-file-text2'><use xlink:href='#icon-file-text2'></use></svg></label><input id='data-f874d303-9923-4fe3-b72c-ecc486f24b5d' class='xr-var-data-in' type='checkbox'><label for='data-f874d303-9923-4fe3-b72c-ecc486f24b5d' title='Show/Hide data repr'><svg class='icon xr-icon-database'><use xlink:href='#icon-database'></use></svg></label><div class='xr-var-attrs'><dl class='xr-attrs'><dt><span>MemoryOrder :</span></dt><dd>XY</dd><dt><span>description :</span></dt><dd>Daily minimum ground temperature</dd><dt><span>units :</span></dt><dd>K</dd><dt><span>stagger :</span></dt><dd>-</dd></dl></div><div class='xr-var-data'><pre>[13367808 values with dtype=float32]</pre></div></li><li class='xr-var-item'><div class='xr-var-name'><span>tg_urb2d</span></div><div class='xr-var-dims'>(Time, lat, lon)</div><div class='xr-var-dtype'>float32</div><div class='xr-var-preview xr-preview'>...</div><input id='attrs-8d98b05c-ed9e-4b18-8aaa-5324fd3c1661' class='xr-var-attrs-in' type='checkbox' ><label for='attrs-8d98b05c-ed9e-4b18-8aaa-5324fd3c1661' title='Show/Hide attributes'><svg class='icon xr-icon-file-text2'><use xlink:href='#icon-file-text2'></use></svg></label><input id='data-7b7caca6-4d4b-428c-8a53-701a5201dc3f' class='xr-var-data-in' type='checkbox'><label for='data-7b7caca6-4d4b-428c-8a53-701a5201dc3f' title='Show/Hide data repr'><svg class='icon xr-icon-database'><use xlink:href='#icon-database'></use></svg></label><div class='xr-var-attrs'><dl class='xr-attrs'><dt><span>MemoryOrder :</span></dt><dd>XY</dd><dt><span>description :</span></dt><dd>Daily mean urban road temperature</dd><dt><span>units :</span></dt><dd>K</dd><dt><span>stagger :</span></dt><dd>-</dd></dl></div><div class='xr-var-data'><pre>[13367808 values with dtype=float32]</pre></div></li><li class='xr-var-item'><div class='xr-var-name'><span>tg_urb2d_max</span></div><div class='xr-var-dims'>(Time, lat, lon)</div><div class='xr-var-dtype'>float32</div><div class='xr-var-preview xr-preview'>...</div><input id='attrs-c14174b9-df62-4dfc-826a-9b4bcf4d6f2c' class='xr-var-attrs-in' type='checkbox' ><label for='attrs-c14174b9-df62-4dfc-826a-9b4bcf4d6f2c' title='Show/Hide attributes'><svg class='icon xr-icon-file-text2'><use xlink:href='#icon-file-text2'></use></svg></label><input id='data-83303cee-03b2-4b1e-847d-5706b9a99b70' class='xr-var-data-in' type='checkbox'><label for='data-83303cee-03b2-4b1e-847d-5706b9a99b70' title='Show/Hide data repr'><svg class='icon xr-icon-database'><use xlink:href='#icon-database'></use></svg></label><div class='xr-var-attrs'><dl class='xr-attrs'><dt><span>MemoryOrder :</span></dt><dd>XY</dd><dt><span>description :</span></dt><dd>Daily maximum urban road temperature</dd><dt><span>units :</span></dt><dd>K</dd><dt><span>stagger :</span></dt><dd>-</dd></dl></div><div class='xr-var-data'><pre>[13367808 values with dtype=float32]</pre></div></li><li class='xr-var-item'><div class='xr-var-name'><span>tg_urb2d_min</span></div><div class='xr-var-dims'>(Time, lat, lon)</div><div class='xr-var-dtype'>float32</div><div class='xr-var-preview xr-preview'>...</div><input id='attrs-49997038-3510-4a90-adef-7340e441504b' class='xr-var-attrs-in' type='checkbox' ><label for='attrs-49997038-3510-4a90-adef-7340e441504b' title='Show/Hide attributes'><svg class='icon xr-icon-file-text2'><use xlink:href='#icon-file-text2'></use></svg></label><input id='data-7f2ee7ea-7055-4f4c-9760-d3b5d38163ac' class='xr-var-data-in' type='checkbox'><label for='data-7f2ee7ea-7055-4f4c-9760-d3b5d38163ac' title='Show/Hide data repr'><svg class='icon xr-icon-database'><use xlink:href='#icon-database'></use></svg></label><div class='xr-var-attrs'><dl class='xr-attrs'><dt><span>MemoryOrder :</span></dt><dd>XY</dd><dt><span>description :</span></dt><dd>Daily minimum urban road temperature</dd><dt><span>units :</span></dt><dd>K</dd><dt><span>stagger :</span></dt><dd>-</dd></dl></div><div class='xr-var-data'><pre>[13367808 values with dtype=float32]</pre></div></li><li class='xr-var-item'><div class='xr-var-name'><span>time</span></div><div class='xr-var-dims'>(Time)</div><div class='xr-var-dtype'>datetime64[ns]</div><div class='xr-var-preview xr-preview'>...</div><input id='attrs-0320bc33-8b0e-4e34-9133-47e146f11f43' class='xr-var-attrs-in' type='checkbox' disabled><label for='attrs-0320bc33-8b0e-4e34-9133-47e146f11f43' title='Show/Hide attributes'><svg class='icon xr-icon-file-text2'><use xlink:href='#icon-file-text2'></use></svg></label><input id='data-c5ccf884-4f81-4cbd-9426-1ff1e831be79' class='xr-var-data-in' type='checkbox'><label for='data-c5ccf884-4f81-4cbd-9426-1ff1e831be79' title='Show/Hide data repr'><svg class='icon xr-icon-database'><use xlink:href='#icon-database'></use></svg></label><div class='xr-var-attrs'><dl class='xr-attrs'></dl></div><div class='xr-var-data'><pre>[1 values with dtype=datetime64[ns]]</pre></div></li><li class='xr-var-item'><div class='xr-var-name'><span>tr_urb2d</span></div><div class='xr-var-dims'>(Time, lat, lon)</div><div class='xr-var-dtype'>float32</div><div class='xr-var-preview xr-preview'>...</div><input id='attrs-280f9438-e66b-47fc-bd11-b60c87a1d0ba' class='xr-var-attrs-in' type='checkbox' ><label for='attrs-280f9438-e66b-47fc-bd11-b60c87a1d0ba' title='Show/Hide attributes'><svg class='icon xr-icon-file-text2'><use xlink:href='#icon-file-text2'></use></svg></label><input id='data-b43b361c-ae1e-4d3b-a5e3-acb4c7701e77' class='xr-var-data-in' type='checkbox'><label for='data-b43b361c-ae1e-4d3b-a5e3-acb4c7701e77' title='Show/Hide data repr'><svg class='icon xr-icon-database'><use xlink:href='#icon-database'></use></svg></label><div class='xr-var-attrs'><dl class='xr-attrs'><dt><span>MemoryOrder :</span></dt><dd>XY</dd><dt><span>description :</span></dt><dd>Daily mean urban radiative temperature</dd><dt><span>units :</span></dt><dd>K</dd><dt><span>stagger :</span></dt><dd>-</dd></dl></div><div class='xr-var-data'><pre>[13367808 values with dtype=float32]</pre></div></li><li class='xr-var-item'><div class='xr-var-name'><span>tr_urb2d_max</span></div><div class='xr-var-dims'>(Time, lat, lon)</div><div class='xr-var-dtype'>float32</div><div class='xr-var-preview xr-preview'>...</div><input id='attrs-0d1930f3-4747-4e52-9bb3-e9f71e85b50d' class='xr-var-attrs-in' type='checkbox' ><label for='attrs-0d1930f3-4747-4e52-9bb3-e9f71e85b50d' title='Show/Hide attributes'><svg class='icon xr-icon-file-text2'><use xlink:href='#icon-file-text2'></use></svg></label><input id='data-5576a38a-43d2-4c20-8eb2-685f596e8960' class='xr-var-data-in' type='checkbox'><label for='data-5576a38a-43d2-4c20-8eb2-685f596e8960' title='Show/Hide data repr'><svg class='icon xr-icon-database'><use xlink:href='#icon-database'></use></svg></label><div class='xr-var-attrs'><dl class='xr-attrs'><dt><span>MemoryOrder :</span></dt><dd>XY</dd><dt><span>description :</span></dt><dd>Daily maximum urban radiative temperature</dd><dt><span>units :</span></dt><dd>K</dd><dt><span>stagger :</span></dt><dd>-</dd></dl></div><div class='xr-var-data'><pre>[13367808 values with dtype=float32]</pre></div></li><li class='xr-var-item'><div class='xr-var-name'><span>tr_urb2d_min</span></div><div class='xr-var-dims'>(Time, lat, lon)</div><div class='xr-var-dtype'>float32</div><div class='xr-var-preview xr-preview'>...</div><input id='attrs-25918940-a6db-4189-b1dc-e38aa3347bf1' class='xr-var-attrs-in' type='checkbox' ><label for='attrs-25918940-a6db-4189-b1dc-e38aa3347bf1' title='Show/Hide attributes'><svg class='icon xr-icon-file-text2'><use xlink:href='#icon-file-text2'></use></svg></label><input id='data-0d0afad7-a810-4715-bc50-415ca6941065' class='xr-var-data-in' type='checkbox'><label for='data-0d0afad7-a810-4715-bc50-415ca6941065' title='Show/Hide data repr'><svg class='icon xr-icon-database'><use xlink:href='#icon-database'></use></svg></label><div class='xr-var-attrs'><dl class='xr-attrs'><dt><span>MemoryOrder :</span></dt><dd>XY</dd><dt><span>description :</span></dt><dd>Daily minimum urban radiative temperature</dd><dt><span>units :</span></dt><dd>K</dd><dt><span>stagger :</span></dt><dd>-</dd></dl></div><div class='xr-var-data'><pre>[13367808 values with dtype=float32]</pre></div></li><li class='xr-var-item'><div class='xr-var-name'><span>trad</span></div><div class='xr-var-dims'>(Time, lat, lon)</div><div class='xr-var-dtype'>float32</div><div class='xr-var-preview xr-preview'>...</div><input id='attrs-fa2bb6f4-1c21-4f8d-a36a-f9dc34411c72' class='xr-var-attrs-in' type='checkbox' ><label for='attrs-fa2bb6f4-1c21-4f8d-a36a-f9dc34411c72' title='Show/Hide attributes'><svg class='icon xr-icon-file-text2'><use xlink:href='#icon-file-text2'></use></svg></label><input id='data-2ab9f241-4080-477e-8ccf-3b570a319437' class='xr-var-data-in' type='checkbox'><label for='data-2ab9f241-4080-477e-8ccf-3b570a319437' title='Show/Hide data repr'><svg class='icon xr-icon-database'><use xlink:href='#icon-database'></use></svg></label><div class='xr-var-attrs'><dl class='xr-attrs'><dt><span>MemoryOrder :</span></dt><dd>XY</dd><dt><span>description :</span></dt><dd>Daily mean surface radiative temperature</dd><dt><span>units :</span></dt><dd>K</dd><dt><span>stagger :</span></dt><dd>-</dd></dl></div><div class='xr-var-data'><pre>[13367808 values with dtype=float32]</pre></div></li><li class='xr-var-item'><div class='xr-var-name'><span>trad_max</span></div><div class='xr-var-dims'>(Time, lat, lon)</div><div class='xr-var-dtype'>float32</div><div class='xr-var-preview xr-preview'>...</div><input id='attrs-0c2e6471-6061-4f5f-95c6-c1f10bdf39c5' class='xr-var-attrs-in' type='checkbox' ><label for='attrs-0c2e6471-6061-4f5f-95c6-c1f10bdf39c5' title='Show/Hide attributes'><svg class='icon xr-icon-file-text2'><use xlink:href='#icon-file-text2'></use></svg></label><input id='data-88e244b1-fb65-47db-8bac-0e7bf9c52a81' class='xr-var-data-in' type='checkbox'><label for='data-88e244b1-fb65-47db-8bac-0e7bf9c52a81' title='Show/Hide data repr'><svg class='icon xr-icon-database'><use xlink:href='#icon-database'></use></svg></label><div class='xr-var-attrs'><dl class='xr-attrs'><dt><span>MemoryOrder :</span></dt><dd>XY</dd><dt><span>description :</span></dt><dd>Daily maximum surface radiative temperature</dd><dt><span>units :</span></dt><dd>K</dd><dt><span>stagger :</span></dt><dd>-</dd></dl></div><div class='xr-var-data'><pre>[13367808 values with dtype=float32]</pre></div></li><li class='xr-var-item'><div class='xr-var-name'><span>trad_min</span></div><div class='xr-var-dims'>(Time, lat, lon)</div><div class='xr-var-dtype'>float32</div><div class='xr-var-preview xr-preview'>...</div><input id='attrs-e777eca5-6158-4f3f-825a-524ea6e7c88e' class='xr-var-attrs-in' type='checkbox' ><label for='attrs-e777eca5-6158-4f3f-825a-524ea6e7c88e' title='Show/Hide attributes'><svg class='icon xr-icon-file-text2'><use xlink:href='#icon-file-text2'></use></svg></label><input id='data-5ba7338c-83ab-4abf-a901-70e3ba752a1f' class='xr-var-data-in' type='checkbox'><label for='data-5ba7338c-83ab-4abf-a901-70e3ba752a1f' title='Show/Hide data repr'><svg class='icon xr-icon-database'><use xlink:href='#icon-database'></use></svg></label><div class='xr-var-attrs'><dl class='xr-attrs'><dt><span>MemoryOrder :</span></dt><dd>XY</dd><dt><span>description :</span></dt><dd>Daily minimum surface radiative temperature</dd><dt><span>units :</span></dt><dd>K</dd><dt><span>stagger :</span></dt><dd>-</dd></dl></div><div class='xr-var-data'><pre>[13367808 values with dtype=float32]</pre></div></li><li class='xr-var-item'><div class='xr-var-name'><span>tsk</span></div><div class='xr-var-dims'>(Time, lat, lon)</div><div class='xr-var-dtype'>float32</div><div class='xr-var-preview xr-preview'>...</div><input id='attrs-14e8b5a5-3c20-44f9-945f-0cb3a565897d' class='xr-var-attrs-in' type='checkbox' ><label for='attrs-14e8b5a5-3c20-44f9-945f-0cb3a565897d' title='Show/Hide attributes'><svg class='icon xr-icon-file-text2'><use xlink:href='#icon-file-text2'></use></svg></label><input id='data-05eb596c-cfec-40c8-b4a1-de14883bccba' class='xr-var-data-in' type='checkbox'><label for='data-05eb596c-cfec-40c8-b4a1-de14883bccba' title='Show/Hide data repr'><svg class='icon xr-icon-database'><use xlink:href='#icon-database'></use></svg></label><div class='xr-var-attrs'><dl class='xr-attrs'><dt><span>MemoryOrder :</span></dt><dd>XY</dd><dt><span>description :</span></dt><dd>Daily mean surface skin temperature (urban weighted)</dd><dt><span>units :</span></dt><dd>K</dd><dt><span>stagger :</span></dt><dd>-</dd></dl></div><div class='xr-var-data'><pre>[13367808 values with dtype=float32]</pre></div></li><li class='xr-var-item'><div class='xr-var-name'><span>tsk_max</span></div><div class='xr-var-dims'>(Time, lat, lon)</div><div class='xr-var-dtype'>float32</div><div class='xr-var-preview xr-preview'>...</div><input id='attrs-d42f832a-ebb5-41e8-9537-b466410887a2' class='xr-var-attrs-in' type='checkbox' ><label for='attrs-d42f832a-ebb5-41e8-9537-b466410887a2' title='Show/Hide attributes'><svg class='icon xr-icon-file-text2'><use xlink:href='#icon-file-text2'></use></svg></label><input id='data-065ccd13-2158-4bd5-94f8-9d096455bdaf' class='xr-var-data-in' type='checkbox'><label for='data-065ccd13-2158-4bd5-94f8-9d096455bdaf' title='Show/Hide data repr'><svg class='icon xr-icon-database'><use xlink:href='#icon-database'></use></svg></label><div class='xr-var-attrs'><dl class='xr-attrs'><dt><span>MemoryOrder :</span></dt><dd>XY</dd><dt><span>description :</span></dt><dd>Daily maximum surface skin temperature (urban weighted)</dd><dt><span>units :</span></dt><dd>K</dd><dt><span>stagger :</span></dt><dd>-</dd></dl></div><div class='xr-var-data'><pre>[13367808 values with dtype=float32]</pre></div></li><li class='xr-var-item'><div class='xr-var-name'><span>tsk_min</span></div><div class='xr-var-dims'>(Time, lat, lon)</div><div class='xr-var-dtype'>float32</div><div class='xr-var-preview xr-preview'>...</div><input id='attrs-802d5834-158b-40fe-b228-b1977c009586' class='xr-var-attrs-in' type='checkbox' ><label for='attrs-802d5834-158b-40fe-b228-b1977c009586' title='Show/Hide attributes'><svg class='icon xr-icon-file-text2'><use xlink:href='#icon-file-text2'></use></svg></label><input id='data-34f1f102-0a1a-4f46-923d-c376973e7d2e' class='xr-var-data-in' type='checkbox'><label for='data-34f1f102-0a1a-4f46-923d-c376973e7d2e' title='Show/Hide data repr'><svg class='icon xr-icon-database'><use xlink:href='#icon-database'></use></svg></label><div class='xr-var-attrs'><dl class='xr-attrs'><dt><span>MemoryOrder :</span></dt><dd>XY</dd><dt><span>description :</span></dt><dd>Daily minimum surface skin temperature (urban weighted)</dd><dt><span>units :</span></dt><dd>K</dd><dt><span>stagger :</span></dt><dd>-</dd></dl></div><div class='xr-var-data'><pre>[13367808 values with dtype=float32]</pre></div></li><li class='xr-var-item'><div class='xr-var-name'><span>wspd</span></div><div class='xr-var-dims'>(Time, lat, lon)</div><div class='xr-var-dtype'>float32</div><div class='xr-var-preview xr-preview'>...</div><input id='attrs-98687ab8-7b61-4218-b435-98f48aa672ef' class='xr-var-attrs-in' type='checkbox' ><label for='attrs-98687ab8-7b61-4218-b435-98f48aa672ef' title='Show/Hide attributes'><svg class='icon xr-icon-file-text2'><use xlink:href='#icon-file-text2'></use></svg></label><input id='data-00c3e744-6c99-4b31-8349-7519ef96d151' class='xr-var-data-in' type='checkbox'><label for='data-00c3e744-6c99-4b31-8349-7519ef96d151' title='Show/Hide data repr'><svg class='icon xr-icon-database'><use xlink:href='#icon-database'></use></svg></label><div class='xr-var-attrs'><dl class='xr-attrs'><dt><span>MemoryOrder :</span></dt><dd>XY</dd><dt><span>description :</span></dt><dd>Daily mean wind speed</dd><dt><span>units :</span></dt><dd>m s{-1}</dd><dt><span>stagger :</span></dt><dd>-</dd></dl></div><div class='xr-var-data'><pre>[13367808 values with dtype=float32]</pre></div></li></ul></div></li><li class='xr-section-item'><input id='section-dbaa3d59-bb82-4110-b2fd-3d22f5cb23b9' class='xr-section-summary-in' type='checkbox' disabled ><label for='section-dbaa3d59-bb82-4110-b2fd-3d22f5cb23b9' class='xr-section-summary'  title='Expand/collapse section'>Indexes: <span>(0)</span></label><div class='xr-section-inline-details'></div><div class='xr-section-details'><ul class='xr-var-list'></ul></div></li><li class='xr-section-item'><input id='section-874a1130-839c-4a95-85f7-ce82a4978e44' class='xr-section-summary-in' type='checkbox'  ><label for='section-874a1130-839c-4a95-85f7-ce82a4978e44' class='xr-section-summary' >Attributes: <span>(50)</span></label><div class='xr-section-inline-details'></div><div class='xr-section-details'><dl class='xr-attrs'><dt><span>SIMULATION_START_DATE :</span></dt><dd>0000-00-00_00:00:00</dd><dt><span>WEST-EAST_GRID_DIMENSION :</span></dt><dd>4609</dd><dt><span>SOUTH-NORTH_GRID_DIMENSION :</span></dt><dd>3841</dd><dt><span>BOTTOM-TOP_GRID_DIMENSION :</span></dt><dd>0</dd><dt><span>WEST-EAST_PATCH_START_UNSTAG :</span></dt><dd>1</dd><dt><span>WEST-EAST_PATCH_END_UNSTAG :</span></dt><dd>4608</dd><dt><span>WEST-EAST_PATCH_START_STAG :</span></dt><dd>1</dd><dt><span>WEST-EAST_PATCH_END_STAG :</span></dt><dd>4609</dd><dt><span>SOUTH-NORTH_PATCH_START_UNSTAG :</span></dt><dd>1</dd><dt><span>SOUTH-NORTH_PATCH_END_UNSTAG :</span></dt><dd>3840</dd><dt><span>SOUTH-NORTH_PATCH_START_STAG :</span></dt><dd>1</dd><dt><span>SOUTH-NORTH_PATCH_END_STAG :</span></dt><dd>3841</dd><dt><span>GRIDTYPE :</span></dt><dd>C</dd><dt><span>DX :</span></dt><dd>1000.0</dd><dt><span>DY :</span></dt><dd>1000.0</dd><dt><span>DYN_OPT :</span></dt><dd>2</dd><dt><span>CEN_LAT :</span></dt><dd>40.000008</dd><dt><span>CEN_LON :</span></dt><dd>-97.0</dd><dt><span>TRUELAT1 :</span></dt><dd>30.0</dd><dt><span>TRUELAT2 :</span></dt><dd>60.0</dd><dt><span>MOAD_CEN_LAT :</span></dt><dd>40.000008</dd><dt><span>STAND_LON :</span></dt><dd>-97.0</dd><dt><span>POLE_LAT :</span></dt><dd>90.0</dd><dt><span>POLE_LON :</span></dt><dd>0.0</dd><dt><span>corner_lats :</span></dt><dd>[20.077812 52.87278  52.87278  20.077812 20.076714 52.870747 52.870747\n",
       " 20.076714 20.073708 52.876926 52.876926 20.073708 20.072594 52.87489\n",
       " 52.87489  20.072594]</dd><dt><span>corner_lons :</span></dt><dd>[-118.10449  -133.50734   -60.492676  -75.89551  -118.10886  -133.5142\n",
       "  -60.48578   -75.89114  -118.1033   -133.51071   -60.48929   -75.8967\n",
       " -118.107666 -133.51758   -60.48242   -75.892334]</dd><dt><span>MAP_PROJ :</span></dt><dd>1</dd><dt><span>MMINLU :</span></dt><dd>USGS</dd><dt><span>NUM_LAND_CAT :</span></dt><dd>96</dd><dt><span>ISWATER :</span></dt><dd>16</dd><dt><span>ISLAKE :</span></dt><dd>-1</dd><dt><span>ISICE :</span></dt><dd>24</dd><dt><span>ISURBAN :</span></dt><dd>1</dd><dt><span>ISOILWATER :</span></dt><dd>14</dd><dt><span>grid_id :</span></dt><dd>1</dd><dt><span>parent_id :</span></dt><dd>1</dd><dt><span>i_parent_start :</span></dt><dd>1</dd><dt><span>j_parent_start :</span></dt><dd>1</dd><dt><span>i_parent_end :</span></dt><dd>4609</dd><dt><span>j_parent_end :</span></dt><dd>3841</dd><dt><span>parent_grid_ratio :</span></dt><dd>1</dd><dt><span>sr_x :</span></dt><dd>1</dd><dt><span>sr_y :</span></dt><dd>1</dd><dt><span>FLAG_MF_XY :</span></dt><dd>1</dd><dt><span>FLAG_LAI12M :</span></dt><dd>1</dd><dt><span>FLAG_LAKE_DEPTH :</span></dt><dd>1</dd><dt><span>nco_openmp_thread_number :</span></dt><dd>1</dd><dt><span>NCO :</span></dt><dd>netCDF Operators version 5.1.9 (Homepage = http://nco.sf.net, Code = http://github.com/nco/nco, Citation = 10.1016/j.envsoft.2008.03.004)</dd><dt><span>TITLE :</span></dt><dd>OUTPUT FROM GEOGRID V4.0.1</dd><dt><span>history :</span></dt><dd>Mon Feb 26 06:10:43 2024: ncks -4 -L 1 conus_HUMID_20180101.nc4 -O conus_HUMID_20180101.nc4</dd></dl></div></li></ul></div></div>"
      ],
      "text/plain": [
       "<xarray.Dataset> Size: 3GB\n",
       "Dimensions:            (Time: 1, lat: 2901, lon: 4608)\n",
       "Coordinates:\n",
       "    lat                (lat, lon) float32 53MB ...\n",
       "    lon                (lat, lon) float32 53MB ...\n",
       "Dimensions without coordinates: Time\n",
       "Data variables: (12/47)\n",
       "    FRC_URB2D          (Time, lat, lon) float32 53MB ...\n",
       "    HGT                (Time, lat, lon) float32 53MB ...\n",
       "    ISLTYP             (Time, lat, lon) float64 107MB ...\n",
       "    IVGTYP             (Time, lat, lon) float64 107MB ...\n",
       "    LU_INDEX           (Time, lat, lon) float32 53MB ...\n",
       "    Lambert_Conformal  int32 4B ...\n",
       "    ...                 ...\n",
       "    trad_max           (Time, lat, lon) float32 53MB ...\n",
       "    trad_min           (Time, lat, lon) float32 53MB ...\n",
       "    tsk                (Time, lat, lon) float32 53MB ...\n",
       "    tsk_max            (Time, lat, lon) float32 53MB ...\n",
       "    tsk_min            (Time, lat, lon) float32 53MB ...\n",
       "    wspd               (Time, lat, lon) float32 53MB ...\n",
       "Attributes: (12/50)\n",
       "    SIMULATION_START_DATE:           0000-00-00_00:00:00\n",
       "    WEST-EAST_GRID_DIMENSION:        4609\n",
       "    SOUTH-NORTH_GRID_DIMENSION:      3841\n",
       "    BOTTOM-TOP_GRID_DIMENSION:       0\n",
       "    WEST-EAST_PATCH_START_UNSTAG:    1\n",
       "    WEST-EAST_PATCH_END_UNSTAG:      4608\n",
       "    ...                              ...\n",
       "    FLAG_LAI12M:                     1\n",
       "    FLAG_LAKE_DEPTH:                 1\n",
       "    nco_openmp_thread_number:        1\n",
       "    NCO:                             netCDF Operators version 5.1.9 (Homepage...\n",
       "    TITLE:                           OUTPUT FROM GEOGRID V4.0.1\n",
       "    history:                         Mon Feb 26 06:10:43 2024: ncks -4 -L 1 c..."
      ]
     },
     "execution_count": 21,
     "metadata": {},
     "output_type": "execute_result"
    }
   ],
   "source": [
    "# Use the following function to laod your dataset and check its file format is compatible. \n",
    "# Add the filename / file path of your gridded dataset below:\n",
    "\n",
    "gridded_file_path = \"/home/coder/ai_data_readiness/new_data/conus_HUMID_20180101.nc\"\n",
    "\n",
    "# Uncomment the lines below to check compatibility and load your dataset. \n",
    "dataset = gridded.detect_gridded_format_and_open(gridded_file_path)\n",
    "dataset"
   ]
  },
  {
   "cell_type": "code",
   "execution_count": 22,
   "id": "0b769970-71ed-48a7-95fb-da873b6330c8",
   "metadata": {
    "editable": true,
    "slideshow": {
     "slide_type": ""
    },
    "tags": [
     "thebe-init"
    ]
   },
   "outputs": [],
   "source": [
    "# Load checklist from JSON file:\n",
    "checklist = utils.load_checklist()"
   ]
  },
  {
   "cell_type": "markdown",
   "id": "087dd158-2a04-45b5-a0c0-599761f33f94",
   "metadata": {},
   "source": [
    "#### Reset stored answers to start again:"
   ]
  },
  {
   "cell_type": "code",
   "execution_count": 23,
   "id": "a467851d-ee03-46f7-a194-8e516c374b8e",
   "metadata": {
    "jupyter": {
     "source_hidden": true
    }
   },
   "outputs": [],
   "source": [
    "# Reset all checklist answers back to original blank answers for all sections.\n",
    "# Any completed information will be lost. \n",
    "\n",
    "# To reset the stored answers uncomment and run these lines of code below. Re-comment the lines afterwards to avoid them running again. \n",
    "# utils.reset_checklist()\n",
    "# checklist = utils.load_checklist()\n",
    "\n",
    "# You can then re-run each section to reload it on the reset data. "
   ]
  },
  {
   "cell_type": "code",
   "execution_count": 24,
   "id": "168040a6-84ef-4a73-8e8a-0a62007e4e4b",
   "metadata": {
    "jupyter": {
     "source_hidden": true
    }
   },
   "outputs": [
    {
     "name": "stdout",
     "output_type": "stream",
     "text": [
      "Dataset: HUMID\n",
      "Dataset link: \n",
      "Assessor: \n",
      "Assessor email: \n"
     ]
    }
   ],
   "source": [
    "\n",
    "print(\"Dataset:\", checklist[\"GeneralInformation\"][\"DatasetName\"])\n",
    "print(\"Dataset link:\", checklist[\"GeneralInformation\"][\"DatasetLink\"])\n",
    "print(\"Assessor:\", checklist[\"GeneralInformation\"][\"AssessorName\"])\n",
    "print(\"Assessor email:\", checklist[\"GeneralInformation\"][\"AssessorEmailAddress\"])"
   ]
  },
  {
   "cell_type": "markdown",
   "id": "f8636b2a-2be4-43ea-9517-048263170adb",
   "metadata": {},
   "source": [
    "---\n",
    "\n",
    "## **3. Data Documentation**"
   ]
  },
  {
   "cell_type": "markdown",
   "id": "d2991113-c9d9-4782-bf73-066651005ce5",
   "metadata": {},
   "source": [
    "### Community standard or convention\n"
   ]
  },
  {
   "cell_type": "code",
   "execution_count": 25,
   "id": "670d1474-ce77-4109-8dd9-7da3e470cc55",
   "metadata": {
    "jupyter": {
     "source_hidden": true
    }
   },
   "outputs": [
    {
     "data": {
      "application/vnd.jupyter.widget-view+json": {
       "model_id": "fa99cb317db948c1976b392c090a3092",
       "version_major": 2,
       "version_minor": 0
      },
      "text/plain": [
       "Combobox(value='', description='3.1 Does the dataset metadata follow a community/domain standard or convention…"
      ]
     },
     "metadata": {},
     "output_type": "display_data"
    },
    {
     "data": {
      "application/vnd.jupyter.widget-view+json": {
       "model_id": "d281c120c88842099d58595e79f92a19",
       "version_major": 2,
       "version_minor": 0
      },
      "text/plain": [
       "Text(value='', description='Metadata standard:', layout=Layout(display='none', width='900px'), placeholder='Wh…"
      ]
     },
     "metadata": {},
     "output_type": "display_data"
    },
    {
     "data": {
      "application/vnd.jupyter.widget-view+json": {
       "model_id": "88424b4c1aed4bf5bd20414307b11c19",
       "version_major": 2,
       "version_minor": 0
      },
      "text/plain": [
       "Combobox(value='', description='Is the dataset metadata machine-readable?', layout=Layout(display='none', widt…"
      ]
     },
     "metadata": {},
     "output_type": "display_data"
    },
    {
     "data": {
      "application/vnd.jupyter.widget-view+json": {
       "model_id": "f8fcf9cf1b5b426b8ac6627bb6a1f5d1",
       "version_major": 2,
       "version_minor": 0
      },
      "text/plain": [
       "Combobox(value='', description='Does it include details on the spatial and temporal extent?', layout=Layout(di…"
      ]
     },
     "metadata": {},
     "output_type": "display_data"
    }
   ],
   "source": [
    "\n",
    "metadata_standard = widgets.Combobox(\n",
    "            value = checklist['DataDocumentation']['MetadataStandard'],\n",
    "            options=['Yes', 'No', 'N/A'],\n",
    "            description='3.1 Does the dataset metadata follow a community/domain standard or convention?',\n",
    "            placeholder=\"Click to select option\",\n",
    "            layout=widgets.Layout(width=WIDGET_WIDTH),\n",
    "            style = DESCRIPTION_STYLE\n",
    "            )\n",
    "\n",
    "metadata_standard_detail = widgets.Text(\n",
    "            value = checklist['DataDocumentation']['MetadataStandardName'],\n",
    "            description=\"Metadata standard:\",\n",
    "            placeholder='Which standard is it? (CF, TBD, etc.)',\n",
    "            layout=widgets.Layout(display=\"none\", width=WIDGET_WIDTH),\n",
    "            style = DESCRIPTION_STYLE\n",
    "            )\n",
    "\n",
    "metadata_machine_readable = widgets.Combobox(\n",
    "            value = checklist['DataDocumentation']['MetadataMachineReadable'],\n",
    "            options=['Yes', 'No', 'N/A'],\n",
    "            description='Is the dataset metadata machine-readable?',\n",
    "            placeholder=\"Click to select option\",\n",
    "            layout = widgets.Layout(display=\"none\", width=WIDGET_WIDTH),\n",
    "            style = DESCRIPTION_STYLE\n",
    "            )\n",
    "\n",
    "metadata_spatial_temporal = widgets.Combobox(\n",
    "            value = checklist['DataDocumentation']['MetadataSpatialTemporalExtent'],\n",
    "            options=['Yes', 'No', 'N/A'],\n",
    "            description='Does it include details on the spatial and temporal extent?',\n",
    "            placeholder=\"Click to select option\",\n",
    "            layout = widgets.Layout(display=\"none\", width=WIDGET_WIDTH),\n",
    "            style = DESCRIPTION_STYLE\n",
    "            )\n",
    "\n",
    "\n",
    "# Function to change the display setting of the following UI components. \n",
    "def on_click_handler(change):    \n",
    "\n",
    "    # Show / hide main trunk of questions. \n",
    "    if metadata_standard.value == \"Yes\":\n",
    "        metadata_standard_detail.layout.display = ''\n",
    "        metadata_machine_readable.layout.display = ''\n",
    "        metadata_spatial_temporal.layout.display = ''\n",
    "    else: \n",
    "        metadata_standard_detail.layout.display = 'none'\n",
    "        metadata_machine_readable.layout.display = 'none'\n",
    "        metadata_spatial_temporal.layout.display = 'none'\n",
    "        metadata_standard_detail.value = ''\n",
    "        metadata_machine_readable.value = 'N/A'\n",
    "        metadata_spatial_temporal.value = 'N/A'\n",
    "        \n",
    "\n",
    "display(metadata_standard, metadata_standard_detail, metadata_machine_readable, metadata_spatial_temporal)\n",
    "\n",
    "# Observe UI components for changes and call the on_click_handler function if value property changed. \n",
    "metadata_standard.observe(on_click_handler, names=\"value\")"
   ]
  },
  {
   "cell_type": "code",
   "execution_count": 26,
   "id": "5590f294-f7be-4259-becb-69d3d93f1b6f",
   "metadata": {},
   "outputs": [
    {
     "name": "stdout",
     "output_type": "stream",
     "text": [
      "NO CONVENTIONS FOUND IN DATA\n",
      "Exception:  'Dataset' object has no attribute 'Conventions'\n"
     ]
    }
   ],
   "source": [
    "# The file metadata might contain the standards or conventions used:\n",
    "\n",
    "# Uncomment the line below to review the dataset conventions. \n",
    "try:\n",
    "    print(dataset.Conventions)\n",
    "except Exception as e:\n",
    "    print('NO CONVENTIONS FOUND IN DATA')\n",
    "    print('Exception: ',e)"
   ]
  },
  {
   "cell_type": "markdown",
   "id": "6623c23f-c9d6-47ba-b4f0-9c6e777d3d49",
   "metadata": {},
   "source": [
    "### Data dictionary"
   ]
  },
  {
   "cell_type": "code",
   "execution_count": 27,
   "id": "a21fad8b-b633-4122-abcc-6e181ebf4af5",
   "metadata": {
    "jupyter": {
     "source_hidden": true
    }
   },
   "outputs": [
    {
     "data": {
      "application/vnd.jupyter.widget-view+json": {
       "model_id": "2e1919163231418e8ccd52df8a5a247c",
       "version_major": 2,
       "version_minor": 0
      },
      "text/plain": [
       "Combobox(value='', description='3.2 Is there a comprehensive data dictionary/codebook that describes what each…"
      ]
     },
     "metadata": {},
     "output_type": "display_data"
    },
    {
     "data": {
      "application/vnd.jupyter.widget-view+json": {
       "model_id": "f67de198e5a246509d14cef72c1a9396",
       "version_major": 2,
       "version_minor": 0
      },
      "text/plain": [
       "Combobox(value='', description='Is the data dictionary standardized?', layout=Layout(display='none', width='90…"
      ]
     },
     "metadata": {},
     "output_type": "display_data"
    },
    {
     "data": {
      "application/vnd.jupyter.widget-view+json": {
       "model_id": "3aaa9333d36047cda36cd01d4cb65d0d",
       "version_major": 2,
       "version_minor": 0
      },
      "text/plain": [
       "Combobox(value='', description='Is the data dictionary machine-readable?', layout=Layout(display='none', width…"
      ]
     },
     "metadata": {},
     "output_type": "display_data"
    },
    {
     "data": {
      "application/vnd.jupyter.widget-view+json": {
       "model_id": "7ca7282da52140ddbc9c5c4c306db7b7",
       "version_major": 2,
       "version_minor": 0
      },
      "text/plain": [
       "Combobox(value='', description='Do the parameters follow a defined standard?', layout=Layout(display='none', w…"
      ]
     },
     "metadata": {},
     "output_type": "display_data"
    },
    {
     "data": {
      "application/vnd.jupyter.widget-view+json": {
       "model_id": "a88a5918f14d496aa2fc241635143fae",
       "version_major": 2,
       "version_minor": 0
      },
      "text/plain": [
       "Text(value='', description='Parameter standards:', layout=Layout(display='none', width='900px'), placeholder='…"
      ]
     },
     "metadata": {},
     "output_type": "display_data"
    },
    {
     "data": {
      "application/vnd.jupyter.widget-view+json": {
       "model_id": "49324fabf4ed4bf6901a1fb8a34de65a",
       "version_major": 2,
       "version_minor": 0
      },
      "text/plain": [
       "Combobox(value='', description='Are parameters crosswalked in an ontology or common vocabulary (e.g. NIEM)?', …"
      ]
     },
     "metadata": {},
     "output_type": "display_data"
    }
   ],
   "source": [
    "\n",
    "data_dictionary = widgets.Combobox(\n",
    "            value=checklist['DataDocumentation']['DataDictionaryExists'],\n",
    "            options=['Yes', 'No', 'N/A'],\n",
    "            description='3.2 Is there a comprehensive data dictionary/codebook that describes what each element of the dataset means? parameters?',\n",
    "            placeholder=\"Click to select option\",\n",
    "            layout=widgets.Layout(width=WIDGET_WIDTH),\n",
    "            style = DESCRIPTION_STYLE\n",
    "            )\n",
    "\n",
    "data_dictionary_standardized = widgets.Combobox(\n",
    "            value=checklist['DataDocumentation']['DataDictionaryStandardised'],\n",
    "            options=['Yes', 'No', 'N/A'],\n",
    "            description='Is the data dictionary standardized?',\n",
    "            placeholder=\"Click to select option\",\n",
    "            layout=widgets.Layout(display=\"none\", width=WIDGET_WIDTH),\n",
    "            style = DESCRIPTION_STYLE\n",
    "            )\n",
    "\n",
    "data_dictionary_machine_readable = widgets.Combobox(\n",
    "            value=checklist['DataDocumentation']['DataDictionaryMachineReadable'],\n",
    "            options=['Yes', 'No', 'N/A'],\n",
    "            description='Is the data dictionary machine-readable?',\n",
    "            placeholder=\"Click to select option\",\n",
    "            layout=widgets.Layout(display=\"none\", width=WIDGET_WIDTH),\n",
    "            style = DESCRIPTION_STYLE\n",
    "            )\n",
    "\n",
    "parameters_defined_standard = widgets.Combobox(\n",
    "            value=checklist['DataDocumentation']['DataDictionaryParametersFollowStandard'],\n",
    "            options=['Yes', 'No', 'N/A'],\n",
    "            description='Do the parameters follow a defined standard?',\n",
    "            placeholder=\"Click to select option\",\n",
    "            layout=widgets.Layout(display=\"none\", width=WIDGET_WIDTH),\n",
    "            style = DESCRIPTION_STYLE\n",
    "            )\n",
    "\n",
    "parameters_defined_standard_detail = widgets.Text(\n",
    "            value=checklist['DataDocumentation']['DataDictionaryStandardName'],\n",
    "            description = 'Parameter standards:',\n",
    "            placeholder='If the parameters follow a defined standard, which standard it is?',\n",
    "            layout=widgets.Layout(display=\"none\", width=WIDGET_WIDTH),\n",
    "            style = DESCRIPTION_STYLE\n",
    "            )\n",
    "\n",
    "parameters_common_vocabulary = widgets.Combobox(\n",
    "            value=checklist['DataDocumentation']['DataDictionaryParametersCrosswalked'],\n",
    "            options=['Yes', 'No', 'N/A'],\n",
    "            description='Are parameters crosswalked in an ontology or common vocabulary (e.g. NIEM)?',\n",
    "            placeholder=\"Click to select option\",\n",
    "            layout=widgets.Layout(display=\"none\", width=WIDGET_WIDTH),\n",
    "            style = DESCRIPTION_STYLE\n",
    "            )\n",
    "\n",
    "# Function to change the display setting of the following UI components. \n",
    "def on_click_handler(change):    \n",
    "\n",
    "    # Show / hide main trunk of questions. \n",
    "    if data_dictionary.value == \"Yes\":\n",
    "        data_dictionary_standardized.layout.display = ''\n",
    "        data_dictionary_machine_readable.layout.display = ''\n",
    "        parameters_defined_standard.layout.display = ''\n",
    "        parameters_defined_standard_detail.layout.display = ''\n",
    "        parameters_common_vocabulary.layout.display = ''\n",
    "\n",
    "    else:   \n",
    "        data_dictionary_standardized.layout.display = 'none'\n",
    "        data_dictionary_machine_readable.layout.display = 'none'\n",
    "        parameters_defined_standard.layout.display = 'none'\n",
    "        parameters_defined_standard_detail.layout.display = 'none'\n",
    "        parameters_common_vocabulary.layout.display = 'none'\n",
    "        data_dictionary_standardized.value = 'N/A'\n",
    "        data_dictionary_machine_readable.value = 'N/A'\n",
    "        parameters_defined_standard.value = 'N/A'\n",
    "        parameters_defined_standard_detail.value = ''\n",
    "        parameters_common_vocabulary.value = 'N/A'\n",
    "\n",
    "            \n",
    "# Display the UI components\n",
    "display(data_dictionary, data_dictionary_standardized, data_dictionary_machine_readable, parameters_defined_standard, parameters_defined_standard_detail, parameters_common_vocabulary)\n",
    "\n",
    "# Observe UI components for changes and call the on_click_handler function if value property changed. \n",
    "data_dictionary.observe(on_click_handler, names=\"value\")\n",
    "\n"
   ]
  },
  {
   "cell_type": "code",
   "execution_count": 30,
   "id": "bf93536e-9921-4bf6-9064-f54e5fa5a286",
   "metadata": {},
   "outputs": [
    {
     "name": "stdout",
     "output_type": "stream",
     "text": [
      "====================================================================================================\n",
      "DIMENSION NAMES:\n",
      "====================================================================================================\n",
      "Time\n",
      "lat\n",
      "lon\n",
      "====================================================================================================\n",
      "VARIABLE NAMES           LONG NAME                                                                  \n",
      "====================================================================================================\n",
      "FRC_URB2D                N/A                                                                        \n",
      "Variable name: FRC_URB2D \tLong Name: N/A\n",
      "HGT                      N/A                                                                        \n",
      "Variable name: HGT \tLong Name: N/A\n",
      "ISLTYP                   N/A                                                                        \n",
      "Variable name: ISLTYP \tLong Name: N/A\n",
      "IVGTYP                   N/A                                                                        \n",
      "Variable name: IVGTYP \tLong Name: N/A\n",
      "LU_INDEX                 N/A                                                                        \n",
      "Variable name: LU_INDEX \tLong Name: N/A\n",
      "Lambert_Conformal        N/A                                                                        \n",
      "Variable name: Lambert_Conformal \tLong Name: N/A\n",
      "Times                    N/A                                                                        \n",
      "Variable name: Times \tLong Name: N/A\n",
      "URB_CAT                  N/A                                                                        \n",
      "Variable name: URB_CAT \tLong Name: N/A\n",
      "hfx                      N/A                                                                        \n",
      "Variable name: hfx \tLong Name: N/A\n",
      "lat                      latitude coordinate                                                        \n",
      "Variable name: lat \tLong Name: latitude coordinate\n",
      "lh                       N/A                                                                        \n",
      "Variable name: lh \tLong Name: N/A\n",
      "lon                      longitude coordinate                                                       \n",
      "Variable name: lon \tLong Name: longitude coordinate\n",
      "lwforc                   N/A                                                                        \n",
      "Variable name: lwforc \tLong Name: N/A\n",
      "q2                       N/A                                                                        \n",
      "Variable name: q2 \tLong Name: N/A\n",
      "q2_max                   N/A                                                                        \n",
      "Variable name: q2_max \tLong Name: N/A\n",
      "q2_min                   N/A                                                                        \n",
      "Variable name: q2_min \tLong Name: N/A\n",
      "q2_urb2d                 N/A                                                                        \n",
      "Variable name: q2_urb2d \tLong Name: N/A\n",
      "q2_urb2d_max             N/A                                                                        \n",
      "Variable name: q2_urb2d_max \tLong Name: N/A\n",
      "q2_urb2d_min             N/A                                                                        \n",
      "Variable name: q2_urb2d_min \tLong Name: N/A\n",
      "rainrate                 N/A                                                                        \n",
      "Variable name: rainrate \tLong Name: N/A\n",
      "swforc                   N/A                                                                        \n",
      "Variable name: swforc \tLong Name: N/A\n",
      "t2_max_BC                Maximum Temperature Adjust                                                 \n",
      "Variable name: t2_max_BC \tLong Name: Maximum Temperature Adjust\n",
      "t2_max_raw               Unadjusted Temperature Maximum                                             \n",
      "Variable name: t2_max_raw \tLong Name: Unadjusted Temperature Maximum\n",
      "t2_min_BC                Minimum Temperature Adjust                                                 \n",
      "Variable name: t2_min_BC \tLong Name: Minimum Temperature Adjust\n",
      "t2_min_raw               Unadjusted Temperature Minimum                                             \n",
      "Variable name: t2_min_raw \tLong Name: Unadjusted Temperature Minimum\n",
      "t2_raw                   N/A                                                                        \n",
      "Variable name: t2_raw \tLong Name: N/A\n",
      "tb_urb2d                 N/A                                                                        \n",
      "Variable name: tb_urb2d \tLong Name: N/A\n",
      "tb_urb2d_max             N/A                                                                        \n",
      "Variable name: tb_urb2d_max \tLong Name: N/A\n",
      "tb_urb2d_min             N/A                                                                        \n",
      "Variable name: tb_urb2d_min \tLong Name: N/A\n",
      "tc_urb2d                 N/A                                                                        \n",
      "Variable name: tc_urb2d \tLong Name: N/A\n",
      "tc_urb2d_max             N/A                                                                        \n",
      "Variable name: tc_urb2d_max \tLong Name: N/A\n",
      "tc_urb2d_min             N/A                                                                        \n",
      "Variable name: tc_urb2d_min \tLong Name: N/A\n",
      "tg                       N/A                                                                        \n",
      "Variable name: tg \tLong Name: N/A\n",
      "tg_max                   N/A                                                                        \n",
      "Variable name: tg_max \tLong Name: N/A\n",
      "tg_min                   N/A                                                                        \n",
      "Variable name: tg_min \tLong Name: N/A\n",
      "tg_urb2d                 N/A                                                                        \n",
      "Variable name: tg_urb2d \tLong Name: N/A\n",
      "tg_urb2d_max             N/A                                                                        \n",
      "Variable name: tg_urb2d_max \tLong Name: N/A\n",
      "tg_urb2d_min             N/A                                                                        \n",
      "Variable name: tg_urb2d_min \tLong Name: N/A\n",
      "time                     N/A                                                                        \n",
      "Variable name: time \tLong Name: N/A\n",
      "tr_urb2d                 N/A                                                                        \n",
      "Variable name: tr_urb2d \tLong Name: N/A\n",
      "tr_urb2d_max             N/A                                                                        \n",
      "Variable name: tr_urb2d_max \tLong Name: N/A\n",
      "tr_urb2d_min             N/A                                                                        \n",
      "Variable name: tr_urb2d_min \tLong Name: N/A\n",
      "trad                     N/A                                                                        \n",
      "Variable name: trad \tLong Name: N/A\n",
      "trad_max                 N/A                                                                        \n",
      "Variable name: trad_max \tLong Name: N/A\n",
      "trad_min                 N/A                                                                        \n",
      "Variable name: trad_min \tLong Name: N/A\n",
      "tsk                      N/A                                                                        \n",
      "Variable name: tsk \tLong Name: N/A\n",
      "tsk_max                  N/A                                                                        \n",
      "Variable name: tsk_max \tLong Name: N/A\n",
      "tsk_min                  N/A                                                                        \n",
      "Variable name: tsk_min \tLong Name: N/A\n",
      "wspd                     N/A                                                                        \n",
      "Variable name: wspd \tLong Name: N/A\n"
     ]
    }
   ],
   "source": [
    "# This function will help you review the dimension names and variable names.\n",
    "# However you should be able to find the data dictionary in the dataset documentation.\n",
    "# If metadata standards such as CF have been implimented the names should match those in the CF documentation. \n",
    "\n",
    "# Uncomment the lines below to run the dimension_and_variable_names function. \n",
    "dimension_names, variable_names = utils.dimension_and_variable_names(dataset)\n",
    "\n",
    "# Uncomment the lines below to print the results:\n",
    "print(\"=\" * 100)\n",
    "print(\"DIMENSION NAMES:\")\n",
    "print(\"=\" * 100)\n",
    "for dimension_name in dimension_names:\n",
    "    print(dimension_name)\n",
    "print(\"=\" * 100)\n",
    "print(\"{:<25}{:<75}\".format(\"VARIABLE NAMES\", \"LONG NAME\"))\n",
    "print(\"=\" * 100)\n",
    "for variable in variable_names:\n",
    "    print(\"{:<25}{:<75}\".format(variable['variable'], variable['long_name']))\n",
    "    print(f\"Variable name: {variable['variable']} \\tLong Name: {variable['long_name']}\")"
   ]
  },
  {
   "cell_type": "markdown",
   "id": "0b169329-5852-44c5-adbb-6d0ce30812cf",
   "metadata": {},
   "source": [
    "### Unique persistent identifier\n",
    "\n",
    "3. Does the dataset have a unique persistent identifier, e.g. DOI? Yes, [supply identifier] / No / Not applicable\n"
   ]
  },
  {
   "cell_type": "code",
   "execution_count": 10,
   "id": "94e5dc20-8289-463d-a273-5c5b7b7c81eb",
   "metadata": {
    "jupyter": {
     "source_hidden": true
    }
   },
   "outputs": [
    {
     "data": {
      "application/vnd.jupyter.widget-view+json": {
       "model_id": "187c2546548c439d891392d476783392",
       "version_major": 2,
       "version_minor": 0
      },
      "text/plain": [
       "Combobox(value='', description='3.3 Does the dataset have a unique persistent identifier, e.g. DOI?', layout=L…"
      ]
     },
     "metadata": {},
     "output_type": "display_data"
    },
    {
     "data": {
      "application/vnd.jupyter.widget-view+json": {
       "model_id": "89b8f262ff2747f79ba087c348c6d80f",
       "version_major": 2,
       "version_minor": 0
      },
      "text/plain": [
       "Text(value='', description='Identifier', layout=Layout(width='900px'), placeholder='Click to select option', s…"
      ]
     },
     "metadata": {},
     "output_type": "display_data"
    }
   ],
   "source": [
    "\n",
    "unique_persistent_identifier = widgets.Combobox(\n",
    "    value=checklist['DataDocumentation']['IdentifierExists'],\n",
    "            options=['Yes', 'No', 'N/A'],\n",
    "            description='3.3 Does the dataset have a unique persistent identifier, e.g. DOI?',\n",
    "            placeholder=PLACEHOLDER,\n",
    "            layout=widgets.Layout(width=WIDGET_WIDTH),\n",
    "            style = DESCRIPTION_STYLE\n",
    "            )\n",
    "\n",
    "unique_persistent_identifier_link = widgets.Text(\n",
    "            value=checklist['DataDocumentation']['Identifier'],\n",
    "            description = \"Identifier\",\n",
    "            placeholder=PLACEHOLDER,\n",
    "            layout=widgets.Layout(width=WIDGET_WIDTH),\n",
    "            style = DESCRIPTION_STYLE\n",
    "            )\n",
    "\n",
    "display(unique_persistent_identifier, unique_persistent_identifier_link)"
   ]
  },
  {
   "cell_type": "code",
   "execution_count": 31,
   "id": "9206c398-9d61-4a3d-840c-776395f55535",
   "metadata": {},
   "outputs": [
    {
     "name": "stdout",
     "output_type": "stream",
     "text": [
      "NO REFERENCE INFORMATION AVAILABLE IN DATA\n",
      "'Dataset' object has no attribute 'reference'\n"
     ]
    }
   ],
   "source": [
    "# The dataset reference might contain a unique id such as a DOI. \n",
    "\n",
    "# Uncomment the line below to review the dataset reference information.\n",
    "try:\n",
    "    print(dataset.reference)\n",
    "except Exception as e:\n",
    "    print('NO REFERENCE INFORMATION AVAILABLE IN DATA')\n",
    "    print(e)"
   ]
  },
  {
   "cell_type": "markdown",
   "id": "fffa0c8f-cea1-4c94-8e21-93dcaa4f7cf3",
   "metadata": {},
   "source": [
    "### Contact information and feedback"
   ]
  },
  {
   "cell_type": "code",
   "execution_count": 12,
   "id": "d609d2cf-6580-4488-bd39-5a607c42ed02",
   "metadata": {
    "jupyter": {
     "source_hidden": true
    }
   },
   "outputs": [
    {
     "data": {
      "application/vnd.jupyter.widget-view+json": {
       "model_id": "97f757718dd94e14a8ccec5e8ca6bf36",
       "version_major": 2,
       "version_minor": 0
      },
      "text/plain": [
       "Combobox(value='', description='3.4 Is there contact information for subject-matter experts?', layout=Layout(w…"
      ]
     },
     "metadata": {},
     "output_type": "display_data"
    },
    {
     "data": {
      "application/vnd.jupyter.widget-view+json": {
       "model_id": "e8838fabb19549a0b631352112e50da5",
       "version_major": 2,
       "version_minor": 0
      },
      "text/plain": [
       "Combobox(value='', description='3.5 Is there a mechanism for user feedback and suggestions?', layout=Layout(wi…"
      ]
     },
     "metadata": {},
     "output_type": "display_data"
    }
   ],
   "source": [
    "\n",
    "contact_info_available = widgets.Combobox(\n",
    "            value=checklist['DataDocumentation']['ContactInformation'],\n",
    "            options=['Yes', 'No', 'N/A'],\n",
    "            description='3.4 Is there contact information for subject-matter experts?',\n",
    "            placeholder=PLACEHOLDER,\n",
    "            layout=widgets.Layout(width=WIDGET_WIDTH),\n",
    "            style = DESCRIPTION_STYLE\n",
    "            )\n",
    "\n",
    "feedback_mechanism_available = widgets.Combobox(\n",
    "            value=checklist['DataDocumentation']['UserFeedbackMechanism'],\n",
    "            options=['Yes', 'No', 'N/A'],\n",
    "            description='3.5 Is there a mechanism for user feedback and suggestions?',\n",
    "            placeholder=PLACEHOLDER,\n",
    "            layout=widgets.Layout(width=WIDGET_WIDTH),\n",
    "            style = DESCRIPTION_STYLE\n",
    "            )\n",
    "\n",
    "display(contact_info_available, feedback_mechanism_available)\n"
   ]
  },
  {
   "cell_type": "code",
   "execution_count": 32,
   "id": "a2a2fe41-950d-4012-b896-d3aa3ee55ef5",
   "metadata": {},
   "outputs": [
    {
     "name": "stdout",
     "output_type": "stream",
     "text": [
      "NO INSTITUTION OR REFERENCE INFORMATION AVAILABLE IN DATA\n",
      "'Dataset' object has no attribute 'institution'\n"
     ]
    }
   ],
   "source": [
    "# It is not standard practice for datasets to include contact information, this information is usually provided on the dataset website. \n",
    "# However the institution / references might prove useful.\n",
    "\n",
    "# Uncomment the lines below to review the dataset institution and reference information.\n",
    "try:\n",
    "    print(dataset.institution)\n",
    "    print(dataset.reference)\n",
    "except Exception as e:\n",
    "    print('NO INSTITUTION OR REFERENCE INFORMATION AVAILABLE IN DATA')\n",
    "    print(e)"
   ]
  },
  {
   "cell_type": "markdown",
   "id": "1ee9173d-e7cb-4959-bc32-ced1247122b9",
   "metadata": {},
   "source": [
    "### Examples codes / notebooks / toolkits\n"
   ]
  },
  {
   "cell_type": "code",
   "execution_count": 14,
   "id": "783c36e6-3f82-4354-b4e1-06dfa99d2485",
   "metadata": {
    "jupyter": {
     "source_hidden": true
    }
   },
   "outputs": [
    {
     "data": {
      "application/vnd.jupyter.widget-view+json": {
       "model_id": "e9e5f09a21a84a6696ac4e0b8edc0e8e",
       "version_major": 2,
       "version_minor": 0
      },
      "text/plain": [
       "Combobox(value='', description='3.6 Are there example codes / notebooks / toolkits available showing how the d…"
      ]
     },
     "metadata": {},
     "output_type": "display_data"
    }
   ],
   "source": [
    "\n",
    "example_code_available = widgets.Combobox(\n",
    "            value=checklist['DataDocumentation']['ExampleCodesAvailable'],\n",
    "            options=['Yes', 'No', 'N/A'],\n",
    "            description='3.6 Are there example codes / notebooks / toolkits available showing how the data can be used?',\n",
    "            placeholder=PLACEHOLDER,\n",
    "            layout=widgets.Layout(width=WIDGET_WIDTH),\n",
    "            style = DESCRIPTION_STYLE\n",
    "            )\n",
    "\n",
    "display(example_code_available)"
   ]
  },
  {
   "cell_type": "markdown",
   "id": "b80cff89-1971-426d-8ddc-c130b22d8294",
   "metadata": {},
   "source": [
    "### Licenses"
   ]
  },
  {
   "cell_type": "code",
   "execution_count": 15,
   "id": "c95e3538-de4e-481c-bfed-b541cb46989e",
   "metadata": {
    "jupyter": {
     "source_hidden": true
    }
   },
   "outputs": [
    {
     "data": {
      "application/vnd.jupyter.widget-view+json": {
       "model_id": "82462810896d41b3a995c519050e9b37",
       "version_major": 2,
       "version_minor": 0
      },
      "text/plain": [
       "Text(value='', description='3.7 What is the license for the data?', layout=Layout(width='900px'), placeholder=…"
      ]
     },
     "metadata": {},
     "output_type": "display_data"
    },
    {
     "data": {
      "application/vnd.jupyter.widget-view+json": {
       "model_id": "dd7bcc80dd0446a8b25702b81aeba7d0",
       "version_major": 2,
       "version_minor": 0
      },
      "text/plain": [
       "Combobox(value='', description='Is the license standardized and machine-readable (e.g. Creative Commons)?', la…"
      ]
     },
     "metadata": {},
     "output_type": "display_data"
    }
   ],
   "source": [
    "\n",
    "dataset_licence = widgets.Text(\n",
    "            value=checklist['DataDocumentation']['LicenseType'],\n",
    "            description='3.7 What is the license for the data?',\n",
    "            placeholder=\"Type your answer\",\n",
    "            layout=widgets.Layout(width=WIDGET_WIDTH),\n",
    "            style = DESCRIPTION_STYLE\n",
    "            )\n",
    "\n",
    "dataset_licence_machine_readable = widgets.Combobox(\n",
    "            value=checklist['DataDocumentation']['LicenceMachineReadable'],\n",
    "            options=['Yes', 'No', 'N/A'],\n",
    "            description='Is the license standardized and machine-readable (e.g. Creative Commons)?',\n",
    "            placeholder=PLACEHOLDER,\n",
    "            layout=widgets.Layout(width=WIDGET_WIDTH),\n",
    "            style = DESCRIPTION_STYLE\n",
    "            )\n",
    "\n",
    "display(dataset_licence, dataset_licence_machine_readable)"
   ]
  },
  {
   "cell_type": "code",
   "execution_count": 33,
   "id": "799c4ea9-7d5e-4a44-b00f-5d640bd83ef7",
   "metadata": {},
   "outputs": [
    {
     "name": "stdout",
     "output_type": "stream",
     "text": [
      "NO LICENSE INFORMATION AVAILABLE IN DATA\n",
      "'Dataset' object has no attribute 'licence'\n"
     ]
    }
   ],
   "source": [
    "# The dataset might contain information on the licensing situation of the dataset. \n",
    "\n",
    "# Uncomment the line below to review the dataset licence information. \n",
    "try:\n",
    "    print(dataset.licence)\n",
    "except Exception as e:\n",
    "    print('NO LICENSE INFORMATION AVAILABLE IN DATA')\n",
    "    print(e)"
   ]
  },
  {
   "cell_type": "markdown",
   "id": "47b25bef-3f4d-4a88-b666-b1abefcbac18",
   "metadata": {},
   "source": [
    "### Dataset useage"
   ]
  },
  {
   "cell_type": "code",
   "execution_count": 17,
   "id": "cde4cc94-5bef-4dbd-93fc-6da650a82848",
   "metadata": {
    "jupyter": {
     "source_hidden": true
    },
    "scrolled": true
   },
   "outputs": [
    {
     "data": {
      "application/vnd.jupyter.widget-view+json": {
       "model_id": "ac4bc1db2d6e43fabb4301693b86e9e4",
       "version_major": 2,
       "version_minor": 0
      },
      "text/plain": [
       "Textarea(value='', description='3.8 Has this dataset already been used in AI or ML activities? Link to publica…"
      ]
     },
     "metadata": {},
     "output_type": "display_data"
    },
    {
     "data": {
      "application/vnd.jupyter.widget-view+json": {
       "model_id": "6ee42a6a668040e6a7186accb4dc601d",
       "version_major": 2,
       "version_minor": 0
      },
      "text/plain": [
       "Combobox(value='', description='3.9 Are there recommendations on the intended use of the data, and uses that a…"
      ]
     },
     "metadata": {},
     "output_type": "display_data"
    }
   ],
   "source": [
    "\n",
    "ai_ml_existing_useage_links = widgets.Textarea(\n",
    "            value=checklist['DataDocumentation']['UsedInAIorMLReports'],\n",
    "            description='3.8 Has this dataset already been used in AI or ML activities? Link to publications/reports',\n",
    "            layout=widgets.Layout(width=WIDGET_WIDTH),\n",
    "            style = DESCRIPTION_STYLE\n",
    "            )\n",
    "\n",
    "usage_recomendations = widgets.Combobox(\n",
    "            value=checklist['DataDocumentation']['UsageRecommendations'],\n",
    "            options=['Yes', 'No', 'N/A'],\n",
    "            description='3.9 Are there recommendations on the intended use of the data, and uses that are not recommended?',\n",
    "            placeholder=PLACEHOLDER,\n",
    "            layout=widgets.Layout(width=WIDGET_WIDTH),\n",
    "            style = DESCRIPTION_STYLE\n",
    "            )\n",
    "\n",
    "display(ai_ml_existing_useage_links, usage_recomendations)"
   ]
  },
  {
   "cell_type": "code",
   "execution_count": 18,
   "id": "9588a3dd-2cfb-4a5e-8596-b36e0a73ebbb",
   "metadata": {
    "jupyter": {
     "source_hidden": true
    }
   },
   "outputs": [
    {
     "data": {
      "application/vnd.jupyter.widget-view+json": {
       "model_id": "c1719e431edb4b73b73c2ec230cbdcbc",
       "version_major": 2,
       "version_minor": 0
      },
      "text/plain": [
       "Button(button_style='primary', description='Save Data Documentation Answers to json file', layout=Layout(flex=…"
      ]
     },
     "metadata": {},
     "output_type": "display_data"
    }
   ],
   "source": [
    "\n",
    "# Save button\n",
    "save_button = widgets.Button(description=\"Save Data Documentation Answers to json file\",  button_style=\"primary\",  layout=widgets.Layout(flex='1 1 auto', width='auto'))\n",
    "\n",
    "def generate_updates_documentation():\n",
    "\n",
    "    updates = {\n",
    "        \"DataDocumentation\": {\n",
    "            #Metadata\n",
    "            \"MetadataStandard\": metadata_standard.value,\n",
    "            \"MetadataStandardName\": metadata_standard_detail.value,\n",
    "            \"MetadataMachineReadable\": metadata_machine_readable.value,\n",
    "            \"MetadataSpatialTemporalExtent\": metadata_spatial_temporal.value,\n",
    "            \n",
    "            # Data Dictionary\n",
    "            \"DataDictionaryExists\": data_dictionary.value,            \n",
    "            \"DataDictionaryStandardised\" : data_dictionary_standardized.value,\n",
    "            \"DataDictionaryMachineReadable\" : data_dictionary_machine_readable.value,\n",
    "            \"DataDictionaryParametersFollowStandard\" : parameters_defined_standard.value,\n",
    "            \"DataDictionaryStandardName\" : parameters_defined_standard_detail.value,\n",
    "            \"DataDictionaryParametersCrosswalked\" : parameters_common_vocabulary.value,\n",
    "            \n",
    "            # Identifier\n",
    "            \"IdentifierExists\" : unique_persistent_identifier.value,\n",
    "            \"Identifier\" : unique_persistent_identifier_link.value,\n",
    "            \n",
    "            # Contact and feedback\n",
    "            \"ContactInformation\" : contact_info_available.value,\n",
    "            \"UserFeedbackMechanism\" : feedback_mechanism_available.value,\n",
    "\n",
    "            #Misc\n",
    "            \"ExampleCodesAvailable\" : example_code_available.value,\n",
    "            \"LicenseType\" : dataset_licence.value,\n",
    "            \"LicenceMachineReadable\" : dataset_licence_machine_readable.value,\n",
    "            \"UsedInAIorMLReports\" : ai_ml_existing_useage_links.value,\n",
    "            \"UsageRecommendations\" : usage_recomendations.value,\n",
    "        }\n",
    "    }\n",
    "    return updates\n",
    "\n",
    "save_button.on_click(lambda b: utils.update_checklist(b, generate_updates_documentation()))\n",
    "\n",
    "display(save_button)"
   ]
  },
  {
   "cell_type": "markdown",
   "id": "3824aa9e-9d66-4a2e-a1a2-60139f7c30dd",
   "metadata": {},
   "source": [
    "## Finished"
   ]
  },
  {
   "cell_type": "markdown",
   "id": "aa1e3beb-d408-4e47-bbae-0c89aedb2703",
   "metadata": {},
   "source": [
    "1. Make sure you saved your answers to the external json file using the buttons above. \n",
    "2. If you would like to view these saved answers use the button below. \n",
    "3. Move onto the notebook Template_Checklist_Part_4.ipynb covering Data Access"
   ]
  },
  {
   "cell_type": "code",
   "execution_count": 19,
   "id": "d35683fe-7d9f-40fa-81fa-99f926702fd6",
   "metadata": {
    "jupyter": {
     "source_hidden": true
    }
   },
   "outputs": [
    {
     "data": {
      "application/vnd.jupyter.widget-view+json": {
       "model_id": "696f4932a4de4eb7bf09d99954dd044f",
       "version_major": 2,
       "version_minor": 0
      },
      "text/plain": [
       "Button(button_style='info', description='Print json results', layout=Layout(flex='1 1 auto', width='auto'), st…"
      ]
     },
     "metadata": {},
     "output_type": "display_data"
    },
    {
     "data": {
      "application/vnd.jupyter.widget-view+json": {
       "model_id": "9b77a9b2f5934f9baf8f4fb6e9ceb06e",
       "version_major": 2,
       "version_minor": 0
      },
      "text/plain": [
       "Output()"
      ]
     },
     "metadata": {},
     "output_type": "display_data"
    }
   ],
   "source": [
    "\n",
    "button_print_json = widgets.Button(description=\"Print json results\",  button_style='info', layout=widgets.Layout(flex='1 1 auto', width='auto'))\n",
    "output = widgets.Output()\n",
    "\n",
    "display(button_print_json, output)\n",
    "\n",
    "def print_json_info(b):\n",
    "    \"\"\"\n",
    "    Loads a copy of the json file to checklist variable. \n",
    "    Then prints the json file contents to Jupyter notebook cell output.\n",
    "\n",
    "    Arguments: b - represents the button calling the function. \n",
    "    \"\"\"\n",
    "    checklist = utils.load_checklist()\n",
    "    with output:\n",
    "        clear_output()\n",
    "        for key, value in checklist.items():\n",
    "            print(f\"{key}:\")\n",
    "            if isinstance(value, dict):\n",
    "                for sub_key, sub_value in value.items():\n",
    "                    print(f\"  {sub_key}: {sub_value}\")\n",
    "            else:\n",
    "                print(f\"  {value}\")\n",
    "\n",
    "button_print_json.on_click(print_json_info)\n"
   ]
  },
  {
   "cell_type": "markdown",
   "id": "c760fc3b-f413-46e4-8a76-31684d83a2d2",
   "metadata": {},
   "source": [
    "---\n",
    "\n",
    "## **Appendix** - Definition of terms used in the checklist."
   ]
  },
  {
   "cell_type": "markdown",
   "id": "7e4e52d2-20ae-497a-8b99-3e219893c35f",
   "metadata": {},
   "source": [
    "### Documentation\n",
    "* **Dataset Metadata**: complete information about the dataset: quality, provenance, location, time period, responsible parties, purpose, etc.\n",
    "* **Data Dictionary/Codebook**: complete information about the individual variables / measures / parameters within a dataset: type, units, null value, etc.\n",
    "* **Identifier**: a code or number that uniquely identifies a dataset\n",
    "* **Ontology**: formalized definitions of concepts within a domain of knowledge, and the nature of the inter-relationships among those concepts"
   ]
  }
 ],
 "metadata": {
  "kernelspec": {
   "display_name": "data_readiness",
   "language": "python",
   "name": "data_readiness"
  },
  "language_info": {
   "codemirror_mode": {
    "name": "ipython",
    "version": 3
   },
   "file_extension": ".py",
   "mimetype": "text/x-python",
   "name": "python",
   "nbconvert_exporter": "python",
   "pygments_lexer": "ipython3",
   "version": "3.10.16"
  },
  "widgets": {
   "application/vnd.jupyter.widget-state+json": {
    "state": {
     "00475072379f46aea5e0a10f7959d847": {
      "model_module": "@jupyter-widgets/base",
      "model_module_version": "2.0.0",
      "model_name": "LayoutModel",
      "state": {
       "width": "900px"
      }
     },
     "0068ae8e889b49258e9da958ac7fd230": {
      "model_module": "@jupyter-widgets/controls",
      "model_module_version": "2.0.0",
      "model_name": "TextStyleModel",
      "state": {
       "description_width": "initial",
       "font_size": null,
       "text_color": null
      }
     },
     "0145dfb5bdc24a9c8b2c6ee7d080a6f0": {
      "model_module": "@jupyter-widgets/controls",
      "model_module_version": "2.0.0",
      "model_name": "TextStyleModel",
      "state": {
       "description_width": "initial",
       "font_size": null,
       "text_color": null
      }
     },
     "01ef588cd2c84ff9b787a5c21f14bcd5": {
      "model_module": "@jupyter-widgets/controls",
      "model_module_version": "2.0.0",
      "model_name": "TextStyleModel",
      "state": {
       "description_width": "initial",
       "font_size": null,
       "text_color": null
      }
     },
     "02820220b67a454cbebc5941b340ce25": {
      "model_module": "@jupyter-widgets/controls",
      "model_module_version": "2.0.0",
      "model_name": "TextStyleModel",
      "state": {
       "description_width": "initial",
       "font_size": null,
       "text_color": null
      }
     },
     "057f0678485948668a04956952d6767f": {
      "model_module": "@jupyter-widgets/controls",
      "model_module_version": "2.0.0",
      "model_name": "TextStyleModel",
      "state": {
       "description_width": "initial",
       "font_size": null,
       "text_color": null
      }
     },
     "087b1fab384d43fbae41ba65bdac18b1": {
      "model_module": "@jupyter-widgets/controls",
      "model_module_version": "2.0.0",
      "model_name": "TextModel",
      "state": {
       "description": "Review measures:",
       "layout": "IPY_MODEL_69b8337e301d46fdb2cb02ee53b87525",
       "placeholder": "If yes, what measures are taken? Manual review / Automated review etc.",
       "style": "IPY_MODEL_dc1e3a4557174c00aa4ca15e757f80a4"
      }
     },
     "0934e7a6080343ec8da9248611a99681": {
      "model_module": "@jupyter-widgets/controls",
      "model_module_version": "2.0.0",
      "model_name": "ComboboxModel",
      "state": {
       "description": "4.2 Does data access require authentication (e.g., a registered user account)?",
       "ensure_option": false,
       "layout": "IPY_MODEL_2861d1bc265b4593985d83cfc1243aef",
       "options": [
        "Yes",
        "No",
        "N/A"
       ],
       "placeholder": "Click to select option",
       "style": "IPY_MODEL_7c791e6e51c14a2e867104b60b1bfee1"
      }
     },
     "0963931ca620465d9ef71d306d16a45e": {
      "model_module": "@jupyter-widgets/controls",
      "model_module_version": "2.0.0",
      "model_name": "LabelStyleModel",
      "state": {
       "description_width": "",
       "font_family": null,
       "font_size": null,
       "font_style": null,
       "font_variant": null,
       "font_weight": null,
       "text_color": null,
       "text_decoration": null
      }
     },
     "09a1bcb170094236b84710dbca7a1429": {
      "model_module": "@jupyter-widgets/controls",
      "model_module_version": "2.0.0",
      "model_name": "TextStyleModel",
      "state": {
       "description_width": "",
       "font_size": null,
       "text_color": null
      }
     },
     "0f0785bbb36e415b946ec2691f5eade8": {
      "model_module": "@jupyter-widgets/controls",
      "model_module_version": "2.0.0",
      "model_name": "TextModel",
      "state": {
       "description": "1.3. Location / url link:",
       "layout": "IPY_MODEL_00475072379f46aea5e0a10f7959d847",
       "style": "IPY_MODEL_92a83967db2d488fa690e5c1e9528b6a"
      }
     },
     "10c8cc55c201442eaae7549bea8581ed": {
      "model_module": "@jupyter-widgets/controls",
      "model_module_version": "2.0.0",
      "model_name": "HBoxModel",
      "state": {
       "children": [
        "IPY_MODEL_c62be3044b0c41bf9346b1d60c646b7e",
        "IPY_MODEL_828d1608827c419295adfef288fdb6b3"
       ],
       "layout": "IPY_MODEL_d4651aaa333b4a149cf2c8a951967a8e"
      }
     },
     "10cd2963b84f41e89db91bc5cfadf990": {
      "model_module": "@jupyter-widgets/base",
      "model_module_version": "2.0.0",
      "model_name": "LayoutModel",
      "state": {}
     },
     "111a931c58a64f77a3ea3e6029ef2f8f": {
      "model_module": "@jupyter-widgets/base",
      "model_module_version": "2.0.0",
      "model_name": "LayoutModel",
      "state": {
       "display": "none",
       "width": "900px"
      }
     },
     "12537bd4fcd24b0b8790e2a093cf3c4a": {
      "model_module": "@jupyter-widgets/controls",
      "model_module_version": "2.0.0",
      "model_name": "ComboboxModel",
      "state": {
       "description": "3.3 Does the dataset have a unique persistent identifier, e.g. DOI?",
       "ensure_option": false,
       "layout": "IPY_MODEL_c2a036a81a4f42fb891ad968475bc122",
       "options": [
        "Yes",
        "No",
        "N/A"
       ],
       "placeholder": "Click to select option",
       "style": "IPY_MODEL_6140d74c9cd34e45bd976eef8934f90e"
      }
     },
     "13060f1383cc4dcea45e0a0a2ce4b49c": {
      "model_module": "@jupyter-widgets/controls",
      "model_module_version": "2.0.0",
      "model_name": "ComboboxModel",
      "state": {
       "description": "Is the license standardized and machine-readable (e.g. Creative Commons)?",
       "ensure_option": false,
       "layout": "IPY_MODEL_f43422846c574ba6882540181ee0a6c9",
       "options": [
        "Yes",
        "No",
        "N/A"
       ],
       "placeholder": "Click to select option",
       "style": "IPY_MODEL_9e076dfbc0394484a53b15d14c9422ac"
      }
     },
     "13e1ce78d54e4ac4bc57d046eee25fa7": {
      "model_module": "@jupyter-widgets/controls",
      "model_module_version": "2.0.0",
      "model_name": "TextModel",
      "state": {
       "description": "Metadata standard:",
       "layout": "IPY_MODEL_cf4bd80cc90a4d07818a7aaf3151c247",
       "placeholder": "Which standard is it? (CF, TBD, etc.)",
       "style": "IPY_MODEL_c1f3be725d0e4cfd9971b5b0260dccf7"
      }
     },
     "1669cb4ca0f646f9a196090cef8e829e": {
      "model_module": "@jupyter-widgets/controls",
      "model_module_version": "2.0.0",
      "model_name": "TextStyleModel",
      "state": {
       "description_width": "initial",
       "font_size": null,
       "text_color": null
      }
     },
     "16bfacf8d3614258854f600d58887398": {
      "model_module": "@jupyter-widgets/controls",
      "model_module_version": "2.0.0",
      "model_name": "TextStyleModel",
      "state": {
       "description_width": "initial",
       "font_size": null,
       "text_color": null
      }
     },
     "172c27a3b2314304b26bc8b466c27036": {
      "model_module": "@jupyter-widgets/base",
      "model_module_version": "2.0.0",
      "model_name": "LayoutModel",
      "state": {
       "width": "900px"
      }
     },
     "17e1203af4f140ab8aa408783532fba4": {
      "model_module": "@jupyter-widgets/controls",
      "model_module_version": "2.0.0",
      "model_name": "LabelStyleModel",
      "state": {
       "description_width": "",
       "font_family": null,
       "font_size": null,
       "font_style": null,
       "font_variant": null,
       "font_weight": null,
       "text_color": null,
       "text_decoration": null
      }
     },
     "186a3218bfc048f3a21640b60d2a4975": {
      "model_module": "@jupyter-widgets/controls",
      "model_module_version": "2.0.0",
      "model_name": "ComboboxModel",
      "state": {
       "description": "3.6 Are there example codes / notebooks / toolkits available showing how the data can be used?",
       "ensure_option": false,
       "layout": "IPY_MODEL_61948b62ed784ec5b39ae346a13c6b05",
       "options": [
        "Yes",
        "No",
        "N/A"
       ],
       "placeholder": "Click to select option",
       "style": "IPY_MODEL_473a5c6613ad44dcba52ad4ede21ad23"
      }
     },
     "18cc0fb4915c4332a742c9b62d00570b": {
      "model_module": "@jupyter-widgets/base",
      "model_module_version": "2.0.0",
      "model_name": "LayoutModel",
      "state": {
       "width": "900px"
      }
     },
     "1a7b483c439a47ccb7ee48ca2c00fe05": {
      "model_module": "@jupyter-widgets/controls",
      "model_module_version": "2.0.0",
      "model_name": "DescriptionStyleModel",
      "state": {
       "description_width": ""
      }
     },
     "1b60ee54b1194862b9e57868d388cf48": {
      "model_module": "@jupyter-widgets/controls",
      "model_module_version": "2.0.0",
      "model_name": "TextStyleModel",
      "state": {
       "description_width": "initial",
       "font_size": null,
       "text_color": null
      }
     },
     "1ca2e48656004117a582f465ee579fca": {
      "model_module": "@jupyter-widgets/controls",
      "model_module_version": "2.0.0",
      "model_name": "LabelStyleModel",
      "state": {
       "description_width": "",
       "font_family": null,
       "font_size": null,
       "font_style": null,
       "font_variant": null,
       "font_weight": null,
       "text_color": null,
       "text_decoration": null
      }
     },
     "1cb422bb3bb04c8e984c871fabb604a2": {
      "model_module": "@jupyter-widgets/base",
      "model_module_version": "2.0.0",
      "model_name": "LayoutModel",
      "state": {}
     },
     "1d236aea784c4b059df648ddd86bea48": {
      "model_module": "@jupyter-widgets/base",
      "model_module_version": "2.0.0",
      "model_name": "LayoutModel",
      "state": {
       "display": "none",
       "width": "900px"
      }
     },
     "1d8845025d8a4206a9a80b2e980fd915": {
      "model_module": "@jupyter-widgets/base",
      "model_module_version": "2.0.0",
      "model_name": "LayoutModel",
      "state": {}
     },
     "1da519723b6947c893135b5ae2c8864b": {
      "model_module": "@jupyter-widgets/base",
      "model_module_version": "2.0.0",
      "model_name": "LayoutModel",
      "state": {
       "width": "900px"
      }
     },
     "1e281e521fea481cbbd40f03387ce6a7": {
      "model_module": "@jupyter-widgets/base",
      "model_module_version": "2.0.0",
      "model_name": "LayoutModel",
      "state": {
       "display": "none",
       "width": "900px"
      }
     },
     "1e40ba20cdda4521a690f8cab6321d39": {
      "model_module": "@jupyter-widgets/controls",
      "model_module_version": "2.0.0",
      "model_name": "TextStyleModel",
      "state": {
       "description_width": "",
       "font_size": null,
       "text_color": null
      }
     },
     "1ff36df3650e40bf82ddfee4dde70ca8": {
      "model_module": "@jupyter-widgets/base",
      "model_module_version": "2.0.0",
      "model_name": "LayoutModel",
      "state": {
       "width": "900px"
      }
     },
     "2066bc7003854e5c9ec353bd9abfc0a4": {
      "model_module": "@jupyter-widgets/base",
      "model_module_version": "2.0.0",
      "model_name": "LayoutModel",
      "state": {
       "flex": "1 1 auto",
       "width": "auto"
      }
     },
     "209347e6518146feb92c51fe62df8e93": {
      "model_module": "@jupyter-widgets/base",
      "model_module_version": "2.0.0",
      "model_name": "LayoutModel",
      "state": {
       "width": "100px"
      }
     },
     "214f2e06d55349849af43af0a1c696f2": {
      "model_module": "@jupyter-widgets/base",
      "model_module_version": "2.0.0",
      "model_name": "LayoutModel",
      "state": {
       "display": "none",
       "width": "900px"
      }
     },
     "21d1921509b64af49fabdc1b9c730dac": {
      "model_module": "@jupyter-widgets/controls",
      "model_module_version": "2.0.0",
      "model_name": "ComboboxModel",
      "state": {
       "description": "If there is an API, is there documentation for the API?",
       "ensure_option": false,
       "layout": "IPY_MODEL_a5bb131c20ba4d67b70f92a90767ad20",
       "options": [
        "Yes",
        "No",
        "N/A"
       ],
       "placeholder": "Click to select option",
       "style": "IPY_MODEL_7919a786ae2f4cf49bf645164e7fe8bf"
      }
     },
     "2600f5d7dc1a4af3b93c81fed7fdc2d2": {
      "model_module": "@jupyter-widgets/base",
      "model_module_version": "2.0.0",
      "model_name": "LayoutModel",
      "state": {
       "display": "none",
       "width": "900px"
      }
     },
     "267bd62ad4f44674840e65451a9248a5": {
      "model_module": "@jupyter-widgets/base",
      "model_module_version": "2.0.0",
      "model_name": "LayoutModel",
      "state": {
       "width": "900px"
      }
     },
     "2861d1bc265b4593985d83cfc1243aef": {
      "model_module": "@jupyter-widgets/base",
      "model_module_version": "2.0.0",
      "model_name": "LayoutModel",
      "state": {
       "width": "900px"
      }
     },
     "28e01b9008c74a7fb1dd77e368963878": {
      "model_module": "@jupyter-widgets/controls",
      "model_module_version": "2.0.0",
      "model_name": "TextStyleModel",
      "state": {
       "description_width": "initial",
       "font_size": null,
       "text_color": null
      }
     },
     "2b075fa8d02646b19761d7577467a9be": {
      "model_module": "@jupyter-widgets/base",
      "model_module_version": "2.0.0",
      "model_name": "LayoutModel",
      "state": {
       "width": "900px"
      }
     },
     "2b50f58cd67040c4a409e55d79683810": {
      "model_module": "@jupyter-widgets/controls",
      "model_module_version": "2.0.0",
      "model_name": "TextModel",
      "state": {
       "description": "Quality information link:",
       "layout": "IPY_MODEL_df961cf5594f4a9c978503f2f72a45bb",
       "placeholder": "If there is published quality information, please provide the link.",
       "style": "IPY_MODEL_2b68c1d2740346d18bff83639341e99a"
      }
     },
     "2b68c1d2740346d18bff83639341e99a": {
      "model_module": "@jupyter-widgets/controls",
      "model_module_version": "2.0.0",
      "model_name": "TextStyleModel",
      "state": {
       "description_width": "initial",
       "font_size": null,
       "text_color": null
      }
     },
     "2be620ec333b494aa643bf2cdfd10d0d": {
      "model_module": "@jupyter-widgets/controls",
      "model_module_version": "2.0.0",
      "model_name": "TextStyleModel",
      "state": {
       "description_width": "initial",
       "font_size": null,
       "text_color": null
      }
     },
     "2c114ccef02942d1a440704f8b3509f7": {
      "model_module": "@jupyter-widgets/controls",
      "model_module_version": "2.0.0",
      "model_name": "ComboboxModel",
      "state": {
       "description": "5.1 Have null values/gaps been filled?",
       "ensure_option": false,
       "layout": "IPY_MODEL_b1865b8c8f25427ab151458a0ca3c92b",
       "options": [
        "Yes",
        "No",
        "N/A"
       ],
       "placeholder": "Click to select option",
       "style": "IPY_MODEL_f117b362d24b49e1a98ccbef64f1c51f"
      }
     },
     "2c444a73647b48dab3654bdfc4fb1b02": {
      "model_module": "@jupyter-widgets/controls",
      "model_module_version": "2.0.0",
      "model_name": "TextStyleModel",
      "state": {
       "description_width": "initial",
       "font_size": null,
       "text_color": null
      }
     },
     "2e2066fbcd3544f4bfaf1c9cc3c17e81": {
      "model_module": "@jupyter-widgets/base",
      "model_module_version": "2.0.0",
      "model_name": "LayoutModel",
      "state": {
       "width": "900px"
      }
     },
     "2f47171a965e4cb9be7105563f673461": {
      "model_module": "@jupyter-widgets/base",
      "model_module_version": "2.0.0",
      "model_name": "LayoutModel",
      "state": {
       "width": "900px"
      }
     },
     "2f85ba2d598f4ffa95c38a43ed8a6bcb": {
      "model_module": "@jupyter-widgets/base",
      "model_module_version": "2.0.0",
      "model_name": "LayoutModel",
      "state": {}
     },
     "2f8ef5ef4871421d922959c293788057": {
      "model_module": "@jupyter-widgets/controls",
      "model_module_version": "2.0.0",
      "model_name": "TextModel",
      "state": {
       "description": "Parameter standards:",
       "layout": "IPY_MODEL_dea2b438c4414d62afa786b88dc21e97",
       "placeholder": "If the parameters follow a defined standard, which standard it is?",
       "style": "IPY_MODEL_a6bd335c87ec47659ac81027bb793bb8"
      }
     },
     "31123ec305884b1083d2d1d1cf432df6": {
      "model_module": "@jupyter-widgets/controls",
      "model_module_version": "2.0.0",
      "model_name": "TextStyleModel",
      "state": {
       "description_width": "",
       "font_size": null,
       "text_color": null
      }
     },
     "3265d14b6488491bb05365e78afe7727": {
      "model_module": "@jupyter-widgets/controls",
      "model_module_version": "2.0.0",
      "model_name": "ComboboxModel",
      "state": {
       "description": "Are parameters crosswalked in an ontology or common vocabulary (e.g. NIEM)?",
       "ensure_option": false,
       "layout": "IPY_MODEL_795b36d3b7b24f548f208ec4988aa6b7",
       "options": [
        "Yes",
        "No",
        "N/A"
       ],
       "placeholder": "Click to select option",
       "style": "IPY_MODEL_a604d690be5840428fa9ec96409d393d"
      }
     },
     "326b7fb4eeff47a78018e092392e02a9": {
      "model_module": "@jupyter-widgets/controls",
      "model_module_version": "2.0.0",
      "model_name": "ComboboxModel",
      "state": {
       "description": "2.10 Are there published data quality procedures or reports?",
       "ensure_option": false,
       "layout": "IPY_MODEL_b9fa6d2aba81458b9e2972f5df8b7f64",
       "options": [
        "Yes",
        "No",
        "N/A"
       ],
       "placeholder": "Click to select option",
       "style": "IPY_MODEL_afd20ca2e2134831b7f6ca7ac73a1b38"
      }
     },
     "33fb0088e84446ae9969bef25c8cf763": {
      "model_module": "@jupyter-widgets/controls",
      "model_module_version": "2.0.0",
      "model_name": "TextStyleModel",
      "state": {
       "description_width": "initial",
       "font_size": null,
       "text_color": null
      }
     },
     "3428ec0ad15149e6814b3cd8812f6571": {
      "model_module": "@jupyter-widgets/controls",
      "model_module_version": "2.0.0",
      "model_name": "TextStyleModel",
      "state": {
       "description_width": "initial",
       "font_size": null,
       "text_color": null
      }
     },
     "348340e49f2a439d8a01d528eddcf100": {
      "model_module": "@jupyter-widgets/controls",
      "model_module_version": "2.0.0",
      "model_name": "TextStyleModel",
      "state": {
       "description_width": "initial",
       "font_size": null,
       "text_color": null
      }
     },
     "379a4c3b0d004b3a8f4e2edbd741aecb": {
      "model_module": "@jupyter-widgets/base",
      "model_module_version": "2.0.0",
      "model_name": "LayoutModel",
      "state": {
       "width": "900px"
      }
     },
     "3822321827ef4cb6add86ea3c9d352bb": {
      "model_module": "@jupyter-widgets/base",
      "model_module_version": "2.0.0",
      "model_name": "LayoutModel",
      "state": {}
     },
     "3849dea4cb244785863b758c16637a5b": {
      "model_module": "@jupyter-widgets/base",
      "model_module_version": "2.0.0",
      "model_name": "LayoutModel",
      "state": {
       "flex": "1 1 auto",
       "width": "auto"
      }
     },
     "3967814918f4446a9602969dae2a4e44": {
      "model_module": "@jupyter-widgets/base",
      "model_module_version": "2.0.0",
      "model_name": "LayoutModel",
      "state": {
       "width": "900px"
      }
     },
     "39dcd15dd9a249adb96e48970505f6c8": {
      "model_module": "@jupyter-widgets/controls",
      "model_module_version": "2.0.0",
      "model_name": "ButtonStyleModel",
      "state": {
       "font_family": null,
       "font_size": null,
       "font_style": null,
       "font_variant": null,
       "font_weight": null,
       "text_color": null,
       "text_decoration": null
      }
     },
     "3b211bb557a247b38a8699103e1a7eaf": {
      "model_module": "@jupyter-widgets/controls",
      "model_module_version": "2.0.0",
      "model_name": "ButtonStyleModel",
      "state": {
       "font_family": null,
       "font_size": null,
       "font_style": null,
       "font_variant": null,
       "font_weight": null,
       "text_color": null,
       "text_decoration": null
      }
     },
     "3d6e393af93f4781adee519f345cca6c": {
      "model_module": "@jupyter-widgets/controls",
      "model_module_version": "2.0.0",
      "model_name": "ButtonModel",
      "state": {
       "button_style": "primary",
       "description": "Save Data Access Answers to json file",
       "layout": "IPY_MODEL_e92924387d0f4ceaa56efacb73860d1a",
       "style": "IPY_MODEL_5ddc6005b5444b1092959dcf096a053a",
       "tooltip": null
      }
     },
     "4006184c82d4485f8ba92494ec2605db": {
      "model_module": "@jupyter-widgets/controls",
      "model_module_version": "2.0.0",
      "model_name": "ButtonModel",
      "state": {
       "button_style": "primary",
       "description": "Save Bias, Integrity & Size Answers to json file",
       "layout": "IPY_MODEL_3849dea4cb244785863b758c16637a5b",
       "style": "IPY_MODEL_3b211bb557a247b38a8699103e1a7eaf",
       "tooltip": null
      }
     },
     "421ebe7d279c4d748af10dee6f27f2c1": {
      "model_module": "@jupyter-widgets/controls",
      "model_module_version": "2.0.0",
      "model_name": "BoxModel",
      "state": {
       "layout": "IPY_MODEL_d4fb5bb490774a18aafde8352ebbcfaa"
      }
     },
     "4293045805d84bdd85788fd4c04e79a0": {
      "model_module": "@jupyter-widgets/controls",
      "model_module_version": "2.0.0",
      "model_name": "ComboboxModel",
      "state": {
       "description": "4.4 Is there an Application Programming Interface (API) or web service to access the data?",
       "ensure_option": false,
       "layout": "IPY_MODEL_4a1af017c35c4a668c31a88459cfd3ee",
       "options": [
        "Yes",
        "No",
        "N/A"
       ],
       "placeholder": "Click to select option",
       "style": "IPY_MODEL_01ef588cd2c84ff9b787a5c21f14bcd5"
      }
     },
     "42d61b623077474fa7125b306fe4e082": {
      "model_module": "@jupyter-widgets/base",
      "model_module_version": "2.0.0",
      "model_name": "LayoutModel",
      "state": {
       "width": "900px"
      }
     },
     "42fc37a600ef45a8ad7a659dda5deea6": {
      "model_module": "@jupyter-widgets/controls",
      "model_module_version": "2.0.0",
      "model_name": "TextStyleModel",
      "state": {
       "description_width": "initial",
       "font_size": null,
       "text_color": null
      }
     },
     "4343986eb88842f48400250d5f9c3522": {
      "model_module": "@jupyter-widgets/base",
      "model_module_version": "2.0.0",
      "model_name": "LayoutModel",
      "state": {
       "display": "none",
       "width": "900px"
      }
     },
     "43b910aeda7f4852beeb7d513bbad9e4": {
      "model_module": "@jupyter-widgets/base",
      "model_module_version": "2.0.0",
      "model_name": "LayoutModel",
      "state": {
       "width": "900px"
      }
     },
     "45e54a77ed444b1682e08ea42ba52177": {
      "model_module": "@jupyter-widgets/base",
      "model_module_version": "2.0.0",
      "model_name": "LayoutModel",
      "state": {
       "display": "none",
       "width": "900px"
      }
     },
     "4638f943f4e44029a176f9fa192010ef": {
      "model_module": "@jupyter-widgets/controls",
      "model_module_version": "2.0.0",
      "model_name": "TextStyleModel",
      "state": {
       "description_width": "initial",
       "font_size": null,
       "text_color": null
      }
     },
     "46d12582dec1478ea65b6efd3d339b0b": {
      "model_module": "@jupyter-widgets/controls",
      "model_module_version": "2.0.0",
      "model_name": "ComboboxModel",
      "state": {
       "description": "Will there be different stages of the update?",
       "ensure_option": false,
       "layout": "IPY_MODEL_80815bb81c3545818a7c1b27331121f4",
       "options": [
        "Preliminary data first, then updated later",
        "Full record",
        "N/A"
       ],
       "placeholder": "Click to select option",
       "style": "IPY_MODEL_997427fc43d1468497b5cb67b6e97a15"
      }
     },
     "473a5c6613ad44dcba52ad4ede21ad23": {
      "model_module": "@jupyter-widgets/controls",
      "model_module_version": "2.0.0",
      "model_name": "TextStyleModel",
      "state": {
       "description_width": "initial",
       "font_size": null,
       "text_color": null
      }
     },
     "47c8309f9c57408484270a6b4e8327df": {
      "model_module": "@jupyter-widgets/controls",
      "model_module_version": "2.0.0",
      "model_name": "TextStyleModel",
      "state": {
       "description_width": "initial",
       "font_size": null,
       "text_color": null
      }
     },
     "47e3317f1bc845a784a2b6f4e12766d5": {
      "model_module": "@jupyter-widgets/controls",
      "model_module_version": "2.0.0",
      "model_name": "ComboboxModel",
      "state": {
       "description": "Are there tools/services to support data format conversion?",
       "ensure_option": false,
       "layout": "IPY_MODEL_f002fabff6b2430b8c67905d77c6c528",
       "options": [
        "Yes",
        "No",
        "N/A"
       ],
       "placeholder": "Click to select option",
       "style": "IPY_MODEL_bbab5797e0d0476190721483632158e9"
      }
     },
     "48cc0f8dff034a9aa61931512e017d7e": {
      "model_module": "@jupyter-widgets/base",
      "model_module_version": "2.0.0",
      "model_name": "LayoutModel",
      "state": {}
     },
     "494c2f5ce9ce4e2fa72ef215cda64922": {
      "model_module": "@jupyter-widgets/controls",
      "model_module_version": "2.0.0",
      "model_name": "TextStyleModel",
      "state": {
       "description_width": "initial",
       "font_size": null,
       "text_color": null
      }
     },
     "4985330b1b544fd199c29ff7d5243fec": {
      "model_module": "@jupyter-widgets/base",
      "model_module_version": "2.0.0",
      "model_name": "LayoutModel",
      "state": {
       "display": "none",
       "width": "900px"
      }
     },
     "49d08e14ce614e9596a6245b4bf4eb4d": {
      "model_module": "@jupyter-widgets/base",
      "model_module_version": "2.0.0",
      "model_name": "LayoutModel",
      "state": {
       "width": "900px"
      }
     },
     "4a0a52be23e74b158b2cb5b4b0171567": {
      "model_module": "@jupyter-widgets/controls",
      "model_module_version": "2.0.0",
      "model_name": "ComboboxModel",
      "state": {
       "description": "If there is an API, does the API follow an open standard protocol (e.g., OGC)?",
       "ensure_option": false,
       "layout": "IPY_MODEL_b58b551375bd4b8e8bdd00cfa35b5ad3",
       "options": [
        "Yes",
        "No",
        "N/A"
       ],
       "placeholder": "Click to select option",
       "style": "IPY_MODEL_42fc37a600ef45a8ad7a659dda5deea6"
      }
     },
     "4a1af017c35c4a668c31a88459cfd3ee": {
      "model_module": "@jupyter-widgets/base",
      "model_module_version": "2.0.0",
      "model_name": "LayoutModel",
      "state": {
       "width": "900px"
      }
     },
     "4a3a74385a2c4612b3bfbbcf15df5c52": {
      "model_module": "@jupyter-widgets/controls",
      "model_module_version": "2.0.0",
      "model_name": "TextModel",
      "state": {
       "description": "1.2. Dataset version:",
       "layout": "IPY_MODEL_52004fd5d3c549b2a5a08683b57cd3d4",
       "style": "IPY_MODEL_02820220b67a454cbebc5941b340ce25"
      }
     },
     "4bf7210b2f2c426d878dcd725c2fabc0": {
      "model_module": "@jupyter-widgets/controls",
      "model_module_version": "2.0.0",
      "model_name": "TextStyleModel",
      "state": {
       "description_width": "initial",
       "font_size": null,
       "text_color": null
      }
     },
     "4cf38cc3b2254084857bb7acbbc99ac8": {
      "model_module": "@jupyter-widgets/controls",
      "model_module_version": "2.0.0",
      "model_name": "TextStyleModel",
      "state": {
       "description_width": "initial",
       "font_size": null,
       "text_color": null
      }
     },
     "4dac1344c61f45e098e7af59b58dade1": {
      "model_module": "@jupyter-widgets/controls",
      "model_module_version": "2.0.0",
      "model_name": "ComboboxModel",
      "state": {
       "description": "Are the main formats machine-readable?",
       "ensure_option": false,
       "layout": "IPY_MODEL_87bf0e7aa1324cd3b9da4c8e76f094b6",
       "options": [
        "Yes",
        "No",
        "N/A"
       ],
       "placeholder": "Click to select option",
       "style": "IPY_MODEL_9042647be1f146328522fcaa5024c0ce"
      }
     },
     "4fbbf4e85bdc430c8e9ff68ed0e72df8": {
      "model_module": "@jupyter-widgets/controls",
      "model_module_version": "2.0.0",
      "model_name": "TextStyleModel",
      "state": {
       "description_width": "initial",
       "font_size": null,
       "text_color": null
      }
     },
     "50b0187ff90b49359b331754b790646c": {
      "model_module": "@jupyter-widgets/controls",
      "model_module_version": "2.0.0",
      "model_name": "DescriptionStyleModel",
      "state": {
       "description_width": ""
      }
     },
     "510eb65b856142f7927edc2279437741": {
      "model_module": "@jupyter-widgets/base",
      "model_module_version": "2.0.0",
      "model_name": "LayoutModel",
      "state": {
       "width": "900px"
      }
     },
     "51f6ddc1796340a0947472b4b4fc7ec7": {
      "model_module": "@jupyter-widgets/base",
      "model_module_version": "2.0.0",
      "model_name": "LayoutModel",
      "state": {
       "display": "none",
       "width": "900px"
      }
     },
     "52004fd5d3c549b2a5a08683b57cd3d4": {
      "model_module": "@jupyter-widgets/base",
      "model_module_version": "2.0.0",
      "model_name": "LayoutModel",
      "state": {
       "width": "900px"
      }
     },
     "529d28a5334647f1a22803ef2b33f118": {
      "model_module": "@jupyter-widgets/controls",
      "model_module_version": "2.0.0",
      "model_name": "ComboboxModel",
      "state": {
       "description": "4.6 Has the data been aggregated to reduce granularity?",
       "ensure_option": false,
       "layout": "IPY_MODEL_42d61b623077474fa7125b306fe4e082",
       "options": [
        "Yes",
        "No",
        "N/A"
       ],
       "placeholder": "Click to select option",
       "style": "IPY_MODEL_b27c3a85468b4021983823c461c4edbd"
      }
     },
     "537c25c7c0044b569bfcfdd35d826594": {
      "model_module": "@jupyter-widgets/controls",
      "model_module_version": "2.0.0",
      "model_name": "ButtonStyleModel",
      "state": {
       "font_family": null,
       "font_size": null,
       "font_style": null,
       "font_variant": null,
       "font_weight": null,
       "text_color": null,
       "text_decoration": null
      }
     },
     "54b8addaba0a4afe98a5db247b02a05e": {
      "model_module": "@jupyter-widgets/controls",
      "model_module_version": "2.0.0",
      "model_name": "TextStyleModel",
      "state": {
       "description_width": "initial",
       "font_size": null,
       "text_color": null
      }
     },
     "563fbb731cfd41439b899d4328cf73d7": {
      "model_module": "@jupyter-widgets/base",
      "model_module_version": "2.0.0",
      "model_name": "LayoutModel",
      "state": {
       "width": "900px"
      }
     },
     "573f0b18164343a688afff52cc94893a": {
      "model_module": "@jupyter-widgets/controls",
      "model_module_version": "2.0.0",
      "model_name": "TextModel",
      "state": {
       "description": "If yes, what is the delay between different stages?",
       "layout": "IPY_MODEL_214f2e06d55349849af43af0a1c696f2",
       "style": "IPY_MODEL_47c8309f9c57408484270a6b4e8327df"
      }
     },
     "57d62f4da68e41e196510ce00410c387": {
      "model_module": "@jupyter-widgets/controls",
      "model_module_version": "2.0.0",
      "model_name": "ComboboxModel",
      "state": {
       "description": "3.5 Is there a mechanism for user feedback and suggestions?",
       "ensure_option": false,
       "layout": "IPY_MODEL_1ff36df3650e40bf82ddfee4dde70ca8",
       "options": [
        "Yes",
        "No",
        "N/A"
       ],
       "placeholder": "Click to select option",
       "style": "IPY_MODEL_c75aae88384042af97a3ffda8aaa1280"
      }
     },
     "57db7682f8e841adb729b49d2c62ae9e": {
      "model_module": "@jupyter-widgets/base",
      "model_module_version": "2.0.0",
      "model_name": "LayoutModel",
      "state": {
       "display": "none",
       "width": "900px"
      }
     },
     "59985bd006f34c628b835eac58268d0d": {
      "model_module": "@jupyter-widgets/controls",
      "model_module_version": "2.0.0",
      "model_name": "TextStyleModel",
      "state": {
       "description_width": "initial",
       "font_size": null,
       "text_color": null
      }
     },
     "59ed25812518490bb8a1d92e9e2bd6a8": {
      "model_module": "@jupyter-widgets/controls",
      "model_module_version": "2.0.0",
      "model_name": "TextModel",
      "state": {
       "layout": "IPY_MODEL_1e281e521fea481cbbd40f03387ce6a7",
       "placeholder": "(optional) Link to a bias-corrected or bias-reduced version of the dataset",
       "style": "IPY_MODEL_bce5b505bf3c446db08d1a97a4669e1b"
      }
     },
     "5a18053675de4b1f99982d3a54e3f753": {
      "model_module": "@jupyter-widgets/controls",
      "model_module_version": "2.0.0",
      "model_name": "LabelStyleModel",
      "state": {
       "description_width": "",
       "font_family": null,
       "font_size": null,
       "font_style": null,
       "font_variant": null,
       "font_weight": null,
       "text_color": null,
       "text_decoration": null
      }
     },
     "5a4060274fae49ad98aa0da2e7e74d96": {
      "model_module": "@jupyter-widgets/controls",
      "model_module_version": "2.0.0",
      "model_name": "ComboboxModel",
      "state": {
       "description": "2.2 Is there any documentation about the completeness of the dataset?",
       "ensure_option": false,
       "layout": "IPY_MODEL_fdf3f7a342ba4a998da1093e10d929ea",
       "options": [
        "Yes",
        "No"
       ],
       "placeholder": "Click to select option",
       "style": "IPY_MODEL_057f0678485948668a04956952d6767f"
      }
     },
     "5b11129cdd784ead81a7bfcf789c6858": {
      "model_module": "@jupyter-widgets/controls",
      "model_module_version": "2.0.0",
      "model_name": "ComboboxModel",
      "state": {
       "description": "5.2 Have outliers been identified?",
       "ensure_option": false,
       "layout": "IPY_MODEL_c0f0212784194d4dabf3a751fbf1f7ac",
       "options": [
        "Yes, tagged ",
        "Yes, removed",
        "No",
        "N/A"
       ],
       "placeholder": "Click to select option",
       "style": "IPY_MODEL_be806e6e0da140e4b241d12e9b162c3e"
      }
     },
     "5b892f212c244fb4a13516d2c921b522": {
      "model_module": "@jupyter-widgets/controls",
      "model_module_version": "2.0.0",
      "model_name": "HBoxModel",
      "state": {
       "children": [
        "IPY_MODEL_d0d0341ba7df43a9a60647611ac22443",
        "IPY_MODEL_697ab2d4daac40c1a11e426ce64fcc0f"
       ],
       "layout": "IPY_MODEL_ec9aba163b06469da1015262ed9defe7"
      }
     },
     "5c287f7fca314c9e8d94b403159453aa": {
      "model_module": "@jupyter-widgets/controls",
      "model_module_version": "2.0.0",
      "model_name": "ComboboxModel",
      "state": {
       "description": "2.9 Is there quantitative information about data resolution in space and time?",
       "ensure_option": false,
       "layout": "IPY_MODEL_2f47171a965e4cb9be7105563f673461",
       "options": [
        "Yes",
        "No",
        "N/A"
       ],
       "placeholder": "Click to select option",
       "style": "IPY_MODEL_f28a5ac066af428593d335ce75d1f0af"
      }
     },
     "5d641ead4150425ea7dd007be7abb392": {
      "model_module": "@jupyter-widgets/controls",
      "model_module_version": "2.0.0",
      "model_name": "ComboboxModel",
      "state": {
       "description": "4.5 For restricted data, have measures been taken to provide some access while still applying appropriate protection for privacy and security?",
       "ensure_option": false,
       "layout": "IPY_MODEL_2b075fa8d02646b19761d7577467a9be",
       "options": [
        "Yes",
        "No",
        "N/A"
       ],
       "placeholder": "Click to select option",
       "style": "IPY_MODEL_6408ce8fc7354d248f3621c5123b650c"
      }
     },
     "5ddc6005b5444b1092959dcf096a053a": {
      "model_module": "@jupyter-widgets/controls",
      "model_module_version": "2.0.0",
      "model_name": "ButtonStyleModel",
      "state": {
       "font_family": null,
       "font_size": null,
       "font_style": null,
       "font_variant": null,
       "font_weight": null,
       "text_color": null,
       "text_decoration": null
      }
     },
     "6140d74c9cd34e45bd976eef8934f90e": {
      "model_module": "@jupyter-widgets/controls",
      "model_module_version": "2.0.0",
      "model_name": "TextStyleModel",
      "state": {
       "description_width": "initial",
       "font_size": null,
       "text_color": null
      }
     },
     "61948b62ed784ec5b39ae346a13c6b05": {
      "model_module": "@jupyter-widgets/base",
      "model_module_version": "2.0.0",
      "model_name": "LayoutModel",
      "state": {
       "width": "900px"
      }
     },
     "636744e121b64c28a5fa7f3a17618063": {
      "model_module": "@jupyter-widgets/controls",
      "model_module_version": "2.0.0",
      "model_name": "TextModel",
      "state": {
       "layout": "IPY_MODEL_57db7682f8e841adb729b49d2c62ae9e",
       "placeholder": "(optional) Link to the report/document on the bias",
       "style": "IPY_MODEL_91ac244a2755460db8b29a9a54e1c486"
      }
     },
     "6390f203b3b14e8ab50689e84a1ccd92": {
      "model_module": "@jupyter-widgets/base",
      "model_module_version": "2.0.0",
      "model_name": "LayoutModel",
      "state": {
       "display": "none",
       "width": "900px"
      }
     },
     "63d9ecfb31334656a135df8e1f8bc9d9": {
      "model_module": "@jupyter-widgets/base",
      "model_module_version": "2.0.0",
      "model_name": "LayoutModel",
      "state": {
       "width": "900px"
      }
     },
     "6408ce8fc7354d248f3621c5123b650c": {
      "model_module": "@jupyter-widgets/controls",
      "model_module_version": "2.0.0",
      "model_name": "TextStyleModel",
      "state": {
       "description_width": "initial",
       "font_size": null,
       "text_color": null
      }
     },
     "645fe92e64ef4b6ca88c17b132e529ab": {
      "model_module": "@jupyter-widgets/base",
      "model_module_version": "2.0.0",
      "model_name": "LayoutModel",
      "state": {
       "width": "100px"
      }
     },
     "64db835bfb3042439c1aaec1f14aad4c": {
      "model_module": "@jupyter-widgets/controls",
      "model_module_version": "2.0.0",
      "model_name": "LabelStyleModel",
      "state": {
       "description_width": "",
       "font_family": null,
       "font_size": null,
       "font_style": null,
       "font_variant": null,
       "font_weight": null,
       "text_color": null,
       "text_decoration": null
      }
     },
     "67337ea825e147eba8ee6d5bbeaa8b2d": {
      "model_module": "@jupyter-widgets/controls",
      "model_module_version": "2.0.0",
      "model_name": "TextStyleModel",
      "state": {
       "description_width": "initial",
       "font_size": null,
       "text_color": null
      }
     },
     "673c246541b54915bd70e50bb38610af": {
      "model_module": "@jupyter-widgets/controls",
      "model_module_version": "2.0.0",
      "model_name": "ComboboxModel",
      "state": {
       "description": "Is the data dictionary machine-readable?",
       "ensure_option": false,
       "layout": "IPY_MODEL_4343986eb88842f48400250d5f9c3522",
       "options": [
        "Yes",
        "No",
        "N/A"
       ],
       "placeholder": "Click to select option",
       "style": "IPY_MODEL_67337ea825e147eba8ee6d5bbeaa8b2d"
      }
     },
     "67878dff55ec479ebe101597b82f6527": {
      "model_module": "@jupyter-widgets/controls",
      "model_module_version": "2.0.0",
      "model_name": "DescriptionStyleModel",
      "state": {
       "description_width": ""
      }
     },
     "68fc47a474724d948472559cdf5d576a": {
      "model_module": "@jupyter-widgets/controls",
      "model_module_version": "2.0.0",
      "model_name": "LabelModel",
      "state": {
       "layout": "IPY_MODEL_1cb422bb3bb04c8e984c871fabb604a2",
       "style": "IPY_MODEL_b3ed401e7d51487da4b224f79b3802fb",
       "value": "Number of images:"
      }
     },
     "694a3f01cd5e4015afdbff0c067fd674": {
      "model_module": "@jupyter-widgets/controls",
      "model_module_version": "2.0.0",
      "model_name": "SelectMultipleModel",
      "state": {
       "_options_labels": [
        "CSV",
        "netCDF",
        "geoJSON",
        "Shapefile",
        "GRIB",
        "HDF",
        "GeoTIFF",
        "KML",
        "GINI",
        "Zarr",
        "Other"
       ],
       "index": [],
       "layout": "IPY_MODEL_e334f5f573824c45b4070a9a25e66059",
       "rows": 11,
       "style": "IPY_MODEL_50b0187ff90b49359b331754b790646c"
      }
     },
     "697ab2d4daac40c1a11e426ce64fcc0f": {
      "model_module": "@jupyter-widgets/controls",
      "model_module_version": "2.0.0",
      "model_name": "IntTextModel",
      "state": {
       "layout": "IPY_MODEL_8fb9a5f31cdf4b55914d39a5290e0f39",
       "step": 1,
       "style": "IPY_MODEL_1a7b483c439a47ccb7ee48ca2c00fe05"
      }
     },
     "69b8337e301d46fdb2cb02ee53b87525": {
      "model_module": "@jupyter-widgets/base",
      "model_module_version": "2.0.0",
      "model_name": "LayoutModel",
      "state": {
       "display": "none",
       "width": "900px"
      }
     },
     "6a02f7d020b64c17a46e049b2a7b26ec": {
      "model_module": "@jupyter-widgets/controls",
      "model_module_version": "2.0.0",
      "model_name": "ButtonModel",
      "state": {
       "button_style": "primary",
       "description": "Save General Information Answers to json file",
       "layout": "IPY_MODEL_ede06b40f3a742978f7d999c2c921bc4",
       "style": "IPY_MODEL_537c25c7c0044b569bfcfdd35d826594",
       "tooltip": null
      }
     },
     "6c7c9ecdc81940ea88170b10a964661d": {
      "model_module": "@jupyter-widgets/base",
      "model_module_version": "2.0.0",
      "model_name": "LayoutModel",
      "state": {
       "display": "none",
       "width": "900px"
      }
     },
     "6cb09b2860634c3a85cddbb4ea1657f3": {
      "model_module": "@jupyter-widgets/controls",
      "model_module_version": "2.0.0",
      "model_name": "LabelModel",
      "state": {
       "layout": "IPY_MODEL_48cc0f8dff034a9aa61931512e017d7e",
       "style": "IPY_MODEL_e83f56e3fb3f4592842855a76af77780",
       "value": "Number of data dimensions:"
      }
     },
     "6ea33e2f1a8e4fa5b5768cd665c9ff12": {
      "model_module": "@jupyter-widgets/controls",
      "model_module_version": "2.0.0",
      "model_name": "ButtonStyleModel",
      "state": {
       "font_family": null,
       "font_size": null,
       "font_style": null,
       "font_variant": null,
       "font_weight": null,
       "text_color": null,
       "text_decoration": null
      }
     },
     "703411805fcf48beb47ef876bf78373a": {
      "model_module": "@jupyter-widgets/controls",
      "model_module_version": "2.0.0",
      "model_name": "ComboboxModel",
      "state": {
       "description": "2.1 Will the dataset be updated?",
       "ensure_option": false,
       "layout": "IPY_MODEL_563fbb731cfd41439b899d4328cf73d7",
       "options": [
        "Yes",
        "No"
       ],
       "placeholder": "Click to select option",
       "style": "IPY_MODEL_2c444a73647b48dab3654bdfc4fb1b02"
      }
     },
     "706af9c186cf4d9fabed849ce2e2c80a": {
      "model_module": "@jupyter-widgets/base",
      "model_module_version": "2.0.0",
      "model_name": "LayoutModel",
      "state": {
       "flex": "1 1 auto",
       "width": "auto"
      }
     },
     "710012c74b60467986df9039c6cb536c": {
      "model_module": "@jupyter-widgets/controls",
      "model_module_version": "2.0.0",
      "model_name": "TextStyleModel",
      "state": {
       "description_width": "initial",
       "font_size": null,
       "text_color": null
      }
     },
     "73017f887f454046bb12c2ba1a708b68": {
      "model_module": "@jupyter-widgets/base",
      "model_module_version": "2.0.0",
      "model_name": "LayoutModel",
      "state": {
       "display": "none",
       "width": "900px"
      }
     },
     "7418748b6af84ee39e8c6a4186aa8545": {
      "model_module": "@jupyter-widgets/controls",
      "model_module_version": "2.0.0",
      "model_name": "TextareaModel",
      "state": {
       "layout": "IPY_MODEL_73017f887f454046bb12c2ba1a708b68",
       "placeholder": "Is the bias metrological traceable?",
       "style": "IPY_MODEL_09a1bcb170094236b84710dbca7a1429"
      }
     },
     "747c2f7465dc4c96a27f38f3ed8cd5d3": {
      "model_module": "@jupyter-widgets/controls",
      "model_module_version": "2.0.0",
      "model_name": "ComboboxModel",
      "state": {
       "description": "4.3 Can the file be accessed via direct file downloading or ordering?",
       "ensure_option": false,
       "layout": "IPY_MODEL_f209bec367d0460c85c166a016e02ebf",
       "options": [
        "Yes",
        "No",
        "N/A"
       ],
       "placeholder": "Click to select option",
       "style": "IPY_MODEL_494c2f5ce9ce4e2fa72ef215cda64922"
      }
     },
     "75fc710ccd854c1680649da49fe452d2": {
      "model_module": "@jupyter-widgets/base",
      "model_module_version": "2.0.0",
      "model_name": "LayoutModel",
      "state": {
       "width": "900px"
      }
     },
     "775fff599d674ccc8d05cd6d5cfce9b6": {
      "model_module": "@jupyter-widgets/controls",
      "model_module_version": "2.0.0",
      "model_name": "IntTextModel",
      "state": {
       "layout": "IPY_MODEL_645fe92e64ef4b6ca88c17b132e529ab",
       "step": 1,
       "style": "IPY_MODEL_c70aaf6d94e94d6ca72fc013842e44dd"
      }
     },
     "78178c9a95a84b48bcc872f7198518a0": {
      "model_module": "@jupyter-widgets/base",
      "model_module_version": "2.0.0",
      "model_name": "LayoutModel",
      "state": {
       "display": "none",
       "width": "900px"
      }
     },
     "7919a786ae2f4cf49bf645164e7fe8bf": {
      "model_module": "@jupyter-widgets/controls",
      "model_module_version": "2.0.0",
      "model_name": "TextStyleModel",
      "state": {
       "description_width": "initial",
       "font_size": null,
       "text_color": null
      }
     },
     "795b36d3b7b24f548f208ec4988aa6b7": {
      "model_module": "@jupyter-widgets/base",
      "model_module_version": "2.0.0",
      "model_name": "LayoutModel",
      "state": {
       "display": "none",
       "width": "900px"
      }
     },
     "79631245d7d54f10a6231edb6af7ec57": {
      "model_module": "@jupyter-widgets/controls",
      "model_module_version": "2.0.0",
      "model_name": "TextStyleModel",
      "state": {
       "description_width": "initial",
       "font_size": null,
       "text_color": null
      }
     },
     "7a1a0bbee3f84931bfa3c5a3809d0c2a": {
      "model_module": "@jupyter-widgets/base",
      "model_module_version": "2.0.0",
      "model_name": "LayoutModel",
      "state": {}
     },
     "7ab78e60b2eb440595785ee230f653c2": {
      "model_module": "@jupyter-widgets/controls",
      "model_module_version": "2.0.0",
      "model_name": "ComboboxModel",
      "state": {
       "description": "Does it include details on the spatial and temporal extent?",
       "ensure_option": false,
       "layout": "IPY_MODEL_1d236aea784c4b059df648ddd86bea48",
       "options": [
        "Yes",
        "No",
        "N/A"
       ],
       "placeholder": "Click to select option",
       "style": "IPY_MODEL_4638f943f4e44029a176f9fa192010ef"
      }
     },
     "7c791e6e51c14a2e867104b60b1bfee1": {
      "model_module": "@jupyter-widgets/controls",
      "model_module_version": "2.0.0",
      "model_name": "TextStyleModel",
      "state": {
       "description_width": "initial",
       "font_size": null,
       "text_color": null
      }
     },
     "7cb29a25c9fd415d96adbb5c67febb0d": {
      "model_module": "@jupyter-widgets/controls",
      "model_module_version": "2.0.0",
      "model_name": "ComboboxModel",
      "state": {
       "description": "Should the new version of the dataset supersede the current version?",
       "ensure_option": false,
       "layout": "IPY_MODEL_8d888153d95946af9de2996c9d981248",
       "options": [
        "Yes",
        "No",
        "N/A"
       ],
       "placeholder": "Click to select option",
       "style": "IPY_MODEL_9c4aa3105ef5438a9df7cb57d34b0850"
      }
     },
     "7d971cd1176f44cdb4e0864f3f6cc0f3": {
      "model_module": "@jupyter-widgets/controls",
      "model_module_version": "2.0.0",
      "model_name": "TextModel",
      "state": {
       "layout": "IPY_MODEL_6390f203b3b14e8ab50689e84a1ccd92",
       "placeholder": "If “Yes”, please provide a URL to the documentation.",
       "style": "IPY_MODEL_d76bf7dea27a43cbaba83cee03da3c6f"
      }
     },
     "7fdda5169d1549f6b0959be9df552279": {
      "model_module": "@jupyter-widgets/controls",
      "model_module_version": "2.0.0",
      "model_name": "TextModel",
      "state": {
       "description": "1.4. Assessor name:",
       "layout": "IPY_MODEL_95d5bcd157a644c09b467f44108b53b5",
       "style": "IPY_MODEL_f4dd7dd473fb4a6abce6adaa3ac93ff8"
      }
     },
     "8033b4610c334ffa854fb40762a386a7": {
      "model_module": "@jupyter-widgets/controls",
      "model_module_version": "2.0.0",
      "model_name": "ComboboxModel",
      "state": {
       "description": "If the data is resampled from the original sampling, is the data also available at the original sampling?",
       "ensure_option": false,
       "layout": "IPY_MODEL_a37583e068a749989ff3ff6aecd70c37",
       "options": [
        "Yes",
        "No",
        "Only by request",
        "N/A"
       ],
       "placeholder": "Click to select option",
       "style": "IPY_MODEL_cabb0c427ec74f61826f05886e3fd0c4"
      }
     },
     "80605c9922214a0ab5642e05e84030c3": {
      "model_module": "@jupyter-widgets/controls",
      "model_module_version": "2.0.0",
      "model_name": "LabelModel",
      "state": {
       "layout": "IPY_MODEL_7a1a0bbee3f84931bfa3c5a3809d0c2a",
       "style": "IPY_MODEL_64db835bfb3042439c1aaec1f14aad4c",
       "value": "Select from the list, or type your own answer if appropriate."
      }
     },
     "80815bb81c3545818a7c1b27331121f4": {
      "model_module": "@jupyter-widgets/base",
      "model_module_version": "2.0.0",
      "model_name": "LayoutModel",
      "state": {
       "display": "none",
       "width": "900px"
      }
     },
     "828d1608827c419295adfef288fdb6b3": {
      "model_module": "@jupyter-widgets/controls",
      "model_module_version": "2.0.0",
      "model_name": "IntTextModel",
      "state": {
       "layout": "IPY_MODEL_a20981c18b074e0fba03698fd6ffd635",
       "step": 1,
       "style": "IPY_MODEL_67878dff55ec479ebe101597b82f6527"
      }
     },
     "849c721a8e2e4c4e86ae7aa087b4ee06": {
      "model_module": "@jupyter-widgets/base",
      "model_module_version": "2.0.0",
      "model_name": "LayoutModel",
      "state": {
       "width": "900px"
      }
     },
     "8672eabbdc164a209bc8de5d461f86dd": {
      "model_module": "@jupyter-widgets/controls",
      "model_module_version": "2.0.0",
      "model_name": "TextStyleModel",
      "state": {
       "description_width": "",
       "font_size": null,
       "text_color": null
      }
     },
     "8708bb5bb2a34ce296f8f1e2a01ec916": {
      "model_module": "@jupyter-widgets/controls",
      "model_module_version": "2.0.0",
      "model_name": "TextStyleModel",
      "state": {
       "description_width": "initial",
       "font_size": null,
       "text_color": null
      }
     },
     "87bf0e7aa1324cd3b9da4c8e76f094b6": {
      "model_module": "@jupyter-widgets/base",
      "model_module_version": "2.0.0",
      "model_name": "LayoutModel",
      "state": {
       "width": "900px"
      }
     },
     "8a14ecd5146445aea140de33bd758a9c": {
      "model_module": "@jupyter-widgets/controls",
      "model_module_version": "2.0.0",
      "model_name": "TextModel",
      "state": {
       "layout": "IPY_MODEL_111a931c58a64f77a3ea3e6029ef2f8f",
       "placeholder": "(optional) Link to tools available to reduce bias",
       "style": "IPY_MODEL_8672eabbdc164a209bc8de5d461f86dd"
      }
     },
     "8a8ef7b5aca747498af732d50aef317e": {
      "model_module": "@jupyter-widgets/base",
      "model_module_version": "2.0.0",
      "model_name": "LayoutModel",
      "state": {
       "width": "900px"
      }
     },
     "8be33b788fa349b080a4ffd79dbcd298": {
      "model_module": "@jupyter-widgets/controls",
      "model_module_version": "2.0.0",
      "model_name": "TextStyleModel",
      "state": {
       "description_width": "initial",
       "font_size": null,
       "text_color": null
      }
     },
     "8d51e2152dba4e0aacf0cdfc135a3603": {
      "model_module": "@jupyter-widgets/controls",
      "model_module_version": "2.0.0",
      "model_name": "TextStyleModel",
      "state": {
       "description_width": "initial",
       "font_size": null,
       "text_color": null
      }
     },
     "8d888153d95946af9de2996c9d981248": {
      "model_module": "@jupyter-widgets/base",
      "model_module_version": "2.0.0",
      "model_name": "LayoutModel",
      "state": {
       "display": "none",
       "width": "900px"
      }
     },
     "8df83a79f9fa4944bf11fdb5de560f8f": {
      "model_module": "@jupyter-widgets/base",
      "model_module_version": "2.0.0",
      "model_name": "LayoutModel",
      "state": {
       "width": "900px"
      }
     },
     "8fb8d57534774231904f8ddb52af9c99": {
      "model_module": "@jupyter-widgets/base",
      "model_module_version": "2.0.0",
      "model_name": "LayoutModel",
      "state": {
       "flex": "1 1 auto",
       "width": "auto"
      }
     },
     "8fb9a5f31cdf4b55914d39a5290e0f39": {
      "model_module": "@jupyter-widgets/base",
      "model_module_version": "2.0.0",
      "model_name": "LayoutModel",
      "state": {
       "width": "100px"
      }
     },
     "9042647be1f146328522fcaa5024c0ce": {
      "model_module": "@jupyter-widgets/controls",
      "model_module_version": "2.0.0",
      "model_name": "TextStyleModel",
      "state": {
       "description_width": "initial",
       "font_size": null,
       "text_color": null
      }
     },
     "9064deb03a614463b0561094c8df315b": {
      "model_module": "@jupyter-widgets/controls",
      "model_module_version": "2.0.0",
      "model_name": "ComboboxModel",
      "state": {
       "description": "7. Is this observational data, simulation/model output, or synthetic data?",
       "ensure_option": false,
       "layout": "IPY_MODEL_849c721a8e2e4c4e86ae7aa087b4ee06",
       "options": [
        "Observed",
        "Modeled",
        "Synthetic"
       ],
       "placeholder": "Click to select option",
       "style": "IPY_MODEL_cae8f5ff8e58457c8ac365f6686b79fe"
      }
     },
     "91ac244a2755460db8b29a9a54e1c486": {
      "model_module": "@jupyter-widgets/controls",
      "model_module_version": "2.0.0",
      "model_name": "TextStyleModel",
      "state": {
       "description_width": "",
       "font_size": null,
       "text_color": null
      }
     },
     "92a83967db2d488fa690e5c1e9528b6a": {
      "model_module": "@jupyter-widgets/controls",
      "model_module_version": "2.0.0",
      "model_name": "TextStyleModel",
      "state": {
       "description_width": "initial",
       "font_size": null,
       "text_color": null
      }
     },
     "95d5bcd157a644c09b467f44108b53b5": {
      "model_module": "@jupyter-widgets/base",
      "model_module_version": "2.0.0",
      "model_name": "LayoutModel",
      "state": {
       "width": "900px"
      }
     },
     "984b0709339c47a5b6dad7c8c857a6f6": {
      "model_module": "@jupyter-widgets/base",
      "model_module_version": "2.0.0",
      "model_name": "LayoutModel",
      "state": {
       "width": "900px"
      }
     },
     "98cf5990e8d14065bf50f18d7c5d9908": {
      "model_module": "@jupyter-widgets/controls",
      "model_module_version": "2.0.0",
      "model_name": "TextStyleModel",
      "state": {
       "description_width": "initial",
       "font_size": null,
       "text_color": null
      }
     },
     "997427fc43d1468497b5cb67b6e97a15": {
      "model_module": "@jupyter-widgets/controls",
      "model_module_version": "2.0.0",
      "model_name": "TextStyleModel",
      "state": {
       "description_width": "initial",
       "font_size": null,
       "text_color": null
      }
     },
     "9aa195cbcc534a26ab07038f8ab39566": {
      "model_module": "@jupyter-widgets/base",
      "model_module_version": "2.0.0",
      "model_name": "LayoutModel",
      "state": {
       "width": "900px"
      }
     },
     "9c13416e9ad94a1994710513b1e145db": {
      "model_module": "@jupyter-widgets/controls",
      "model_module_version": "2.0.0",
      "model_name": "ComboboxModel",
      "state": {
       "description": "2.5 Is this dataset self-consistent in that its units, data types, and parameter names do not change over time and space?",
       "ensure_option": false,
       "layout": "IPY_MODEL_c8539f7ccbb544fd9b048f43ad2c4aa6",
       "options": [
        "Yes",
        "No",
        "N/A"
       ],
       "placeholder": "Click to select option",
       "style": "IPY_MODEL_54b8addaba0a4afe98a5db247b02a05e"
      }
     },
     "9c4aa3105ef5438a9df7cb57d34b0850": {
      "model_module": "@jupyter-widgets/controls",
      "model_module_version": "2.0.0",
      "model_name": "TextStyleModel",
      "state": {
       "description_width": "initial",
       "font_size": null,
       "text_color": null
      }
     },
     "9ca6c6359ece442b950b9b1a862f0ef0": {
      "model_module": "@jupyter-widgets/controls",
      "model_module_version": "2.0.0",
      "model_name": "ComboboxModel",
      "state": {
       "description": "Do the parameters follow a defined standard?",
       "ensure_option": false,
       "layout": "IPY_MODEL_6c7c9ecdc81940ea88170b10a964661d",
       "options": [
        "Yes",
        "No",
        "N/A"
       ],
       "placeholder": "Click to select option",
       "style": "IPY_MODEL_d9431fec384a4a3f9fed78ac3b8d9c7b"
      }
     },
     "9e076dfbc0394484a53b15d14c9422ac": {
      "model_module": "@jupyter-widgets/controls",
      "model_module_version": "2.0.0",
      "model_name": "TextStyleModel",
      "state": {
       "description_width": "initial",
       "font_size": null,
       "text_color": null
      }
     },
     "9e7321220f33442aa3b101b40049d99e": {
      "model_module": "@jupyter-widgets/controls",
      "model_module_version": "2.0.0",
      "model_name": "ComboboxModel",
      "state": {
       "description": "8. Is the data single-source or aggregated from several sources? ",
       "ensure_option": false,
       "layout": "IPY_MODEL_172c27a3b2314304b26bc8b466c27036",
       "options": [
        "Single-source",
        "Aggregated"
       ],
       "placeholder": "Click to select option",
       "style": "IPY_MODEL_0068ae8e889b49258e9da958ac7fd230"
      }
     },
     "9e9d4a66c1b54204b681161eeeb0644d": {
      "model_module": "@jupyter-widgets/controls",
      "model_module_version": "2.0.0",
      "model_name": "HBoxModel",
      "state": {
       "children": [
        "IPY_MODEL_6cb09b2860634c3a85cddbb4ea1657f3",
        "IPY_MODEL_775fff599d674ccc8d05cd6d5cfce9b6"
       ],
       "layout": "IPY_MODEL_3822321827ef4cb6add86ea3c9d352bb"
      }
     },
     "9ee302cf4d8b4f07ba3b297d4b2d8998": {
      "model_module": "@jupyter-widgets/controls",
      "model_module_version": "2.0.0",
      "model_name": "TextModel",
      "state": {
       "description": "Identifier",
       "layout": "IPY_MODEL_b4bb25451a1e447d9cf0f633c47ced8d",
       "placeholder": "Click to select option",
       "style": "IPY_MODEL_f01a7c25289a46dda46a5320feff2121"
      }
     },
     "a10564a678dd49eea5b77bf09d470a25": {
      "model_module": "@jupyter-widgets/controls",
      "model_module_version": "2.0.0",
      "model_name": "TextStyleModel",
      "state": {
       "description_width": "initial",
       "font_size": null,
       "text_color": null
      }
     },
     "a20981c18b074e0fba03698fd6ffd635": {
      "model_module": "@jupyter-widgets/base",
      "model_module_version": "2.0.0",
      "model_name": "LayoutModel",
      "state": {
       "width": "100px"
      }
     },
     "a2244a84e28a4445b512e2bf6bd8f6da": {
      "model_module": "@jupyter-widgets/controls",
      "model_module_version": "2.0.0",
      "model_name": "ComboboxModel",
      "state": {
       "description": "2.12 Are there checksums / other checks for data integrity? ",
       "ensure_option": false,
       "layout": "IPY_MODEL_8df83a79f9fa4944bf11fdb5de560f8f",
       "options": [
        "Yes",
        "No",
        "N/A"
       ],
       "placeholder": "Click to select option",
       "style": "IPY_MODEL_f41977b3d20d4bddb29d4653316cf216"
      }
     },
     "a37583e068a749989ff3ff6aecd70c37": {
      "model_module": "@jupyter-widgets/base",
      "model_module_version": "2.0.0",
      "model_name": "LayoutModel",
      "state": {
       "width": "900px"
      }
     },
     "a47660f2d85444e691d79ee96b36e176": {
      "model_module": "@jupyter-widgets/controls",
      "model_module_version": "2.0.0",
      "model_name": "ComboboxModel",
      "state": {
       "description": "3.4 Is there contact information for subject-matter experts?",
       "ensure_option": false,
       "layout": "IPY_MODEL_c402db562d3e479399212602b8b03274",
       "options": [
        "Yes",
        "No",
        "N/A"
       ],
       "placeholder": "Click to select option",
       "style": "IPY_MODEL_2be620ec333b494aa643bf2cdfd10d0d"
      }
     },
     "a49365769ce44e8ba3f2caf1c27ba8b3": {
      "model_module": "@jupyter-widgets/controls",
      "model_module_version": "2.0.0",
      "model_name": "ComboboxModel",
      "state": {
       "description": "Have measures been taken to examine bias?",
       "ensure_option": false,
       "layout": "IPY_MODEL_4985330b1b544fd199c29ff7d5243fec",
       "options": [
        "Yes",
        "No",
        "Unknown",
        "N/A"
       ],
       "placeholder": "Click to select option",
       "style": "IPY_MODEL_a10564a678dd49eea5b77bf09d470a25"
      }
     },
     "a5bb131c20ba4d67b70f92a90767ad20": {
      "model_module": "@jupyter-widgets/base",
      "model_module_version": "2.0.0",
      "model_name": "LayoutModel",
      "state": {
       "display": "none",
       "width": "900px"
      }
     },
     "a604d690be5840428fa9ec96409d393d": {
      "model_module": "@jupyter-widgets/controls",
      "model_module_version": "2.0.0",
      "model_name": "TextStyleModel",
      "state": {
       "description_width": "initial",
       "font_size": null,
       "text_color": null
      }
     },
     "a6bd335c87ec47659ac81027bb793bb8": {
      "model_module": "@jupyter-widgets/controls",
      "model_module_version": "2.0.0",
      "model_name": "TextStyleModel",
      "state": {
       "description_width": "initial",
       "font_size": null,
       "text_color": null
      }
     },
     "a8f08d3deceb42c6b56bf1dd11a98ea0": {
      "model_module": "@jupyter-widgets/base",
      "model_module_version": "2.0.0",
      "model_name": "LayoutModel",
      "state": {
       "width": "900px"
      }
     },
     "aa0b94a2d50540f7ba878d804b919df6": {
      "model_module": "@jupyter-widgets/controls",
      "model_module_version": "2.0.0",
      "model_name": "ComboboxModel",
      "state": {
       "description": "Is the dataset metadata machine-readable?",
       "ensure_option": false,
       "layout": "IPY_MODEL_2600f5d7dc1a4af3b93c81fed7fdc2d2",
       "options": [
        "Yes",
        "No",
        "N/A"
       ],
       "placeholder": "Click to select option",
       "style": "IPY_MODEL_4fbbf4e85bdc430c8e9ff68ed0e72df8"
      }
     },
     "aa238f10bb07450485498c5bc719d4d3": {
      "model_module": "@jupyter-widgets/output",
      "model_module_version": "1.0.0",
      "model_name": "OutputModel",
      "state": {
       "layout": "IPY_MODEL_10cd2963b84f41e89db91bc5cfadf990"
      }
     },
     "aa74ed7ee6ad41db8002e60d0ec5ec58": {
      "model_module": "@jupyter-widgets/controls",
      "model_module_version": "2.0.0",
      "model_name": "TextareaModel",
      "state": {
       "description": "3.8 Has this dataset already been used in AI or ML activities? Link to publications/reports",
       "layout": "IPY_MODEL_43b910aeda7f4852beeb7d513bbad9e4",
       "style": "IPY_MODEL_c797f4292107462da5541bd657927c25"
      }
     },
     "accdf865a89e427991f3ce03d7a4b449": {
      "model_module": "@jupyter-widgets/controls",
      "model_module_version": "2.0.0",
      "model_name": "ComboboxModel",
      "state": {
       "description": "2.8 Is there known bias in the dataset?",
       "ensure_option": false,
       "layout": "IPY_MODEL_49d08e14ce614e9596a6245b4bf4eb4d",
       "options": [
        "Yes",
        "No",
        "Unknown"
       ],
       "placeholder": "Click to select option",
       "style": "IPY_MODEL_1b60ee54b1194862b9e57868d388cf48"
      }
     },
     "acef665098004bd1b7106f91afebd10a": {
      "model_module": "@jupyter-widgets/controls",
      "model_module_version": "2.0.0",
      "model_name": "TextStyleModel",
      "state": {
       "description_width": "initial",
       "font_size": null,
       "text_color": null
      }
     },
     "adee7db30d9044a3a703e569063e4f0f": {
      "model_module": "@jupyter-widgets/controls",
      "model_module_version": "2.0.0",
      "model_name": "TextModel",
      "state": {
       "layout": "IPY_MODEL_eb4ac297bb534c568b343c812f86a804",
       "placeholder": "Total data volume:",
       "style": "IPY_MODEL_31123ec305884b1083d2d1d1cf432df6"
      }
     },
     "aeb6b9bec2cb4594a7f7f1a78ddefcd5": {
      "model_module": "@jupyter-widgets/controls",
      "model_module_version": "2.0.0",
      "model_name": "DescriptionStyleModel",
      "state": {
       "description_width": ""
      }
     },
     "afd20ca2e2134831b7f6ca7ac73a1b38": {
      "model_module": "@jupyter-widgets/controls",
      "model_module_version": "2.0.0",
      "model_name": "TextStyleModel",
      "state": {
       "description_width": "initial",
       "font_size": null,
       "text_color": null
      }
     },
     "b060e98c3f7f46538c000e4091c36f40": {
      "model_module": "@jupyter-widgets/controls",
      "model_module_version": "2.0.0",
      "model_name": "TextStyleModel",
      "state": {
       "description_width": "",
       "font_size": null,
       "text_color": null
      }
     },
     "b1865b8c8f25427ab151458a0ca3c92b": {
      "model_module": "@jupyter-widgets/base",
      "model_module_version": "2.0.0",
      "model_name": "LayoutModel",
      "state": {
       "width": "900px"
      }
     },
     "b1a934d2f50c4f5da5f3da440398e02e": {
      "model_module": "@jupyter-widgets/controls",
      "model_module_version": "2.0.0",
      "model_name": "ComboboxModel",
      "state": {
       "description": "6. Is this raw data or a derived/processed data product?",
       "ensure_option": false,
       "layout": "IPY_MODEL_ffd06609bb044263812ddd2a41862f64",
       "options": [
        "Raw",
        "Derived",
        "Unknown"
       ],
       "placeholder": "Click to select option",
       "style": "IPY_MODEL_e6bf0a274add4225b075c35dcfc2afab"
      }
     },
     "b27c3a85468b4021983823c461c4edbd": {
      "model_module": "@jupyter-widgets/controls",
      "model_module_version": "2.0.0",
      "model_name": "TextStyleModel",
      "state": {
       "description_width": "initial",
       "font_size": null,
       "text_color": null
      }
     },
     "b2943c45401f453dab8b1d20f045683f": {
      "model_module": "@jupyter-widgets/controls",
      "model_module_version": "2.0.0",
      "model_name": "ComboboxModel",
      "state": {
       "description": "3.2 Is there a comprehensive data dictionary/codebook that describes what each element of the dataset means? parameters?",
       "ensure_option": false,
       "layout": "IPY_MODEL_63d9ecfb31334656a135df8e1f8bc9d9",
       "options": [
        "Yes",
        "No",
        "N/A"
       ],
       "placeholder": "Click to select option",
       "style": "IPY_MODEL_fb72082f222d42e9913b8ee3815ae832"
      }
     },
     "b3ed401e7d51487da4b224f79b3802fb": {
      "model_module": "@jupyter-widgets/controls",
      "model_module_version": "2.0.0",
      "model_name": "LabelStyleModel",
      "state": {
       "description_width": "",
       "font_family": null,
       "font_size": null,
       "font_style": null,
       "font_variant": null,
       "font_weight": null,
       "text_color": null,
       "text_decoration": null
      }
     },
     "b4bb25451a1e447d9cf0f633c47ced8d": {
      "model_module": "@jupyter-widgets/base",
      "model_module_version": "2.0.0",
      "model_name": "LayoutModel",
      "state": {
       "width": "900px"
      }
     },
     "b58b551375bd4b8e8bdd00cfa35b5ad3": {
      "model_module": "@jupyter-widgets/base",
      "model_module_version": "2.0.0",
      "model_name": "LayoutModel",
      "state": {
       "display": "none",
       "width": "900px"
      }
     },
     "b5ca7ee67bc845f6be97dedce9be23b8": {
      "model_module": "@jupyter-widgets/controls",
      "model_module_version": "2.0.0",
      "model_name": "TextModel",
      "state": {
       "description": "1.5. Assessor email address:",
       "layout": "IPY_MODEL_984b0709339c47a5b6dad7c8c857a6f6",
       "style": "IPY_MODEL_98cf5990e8d14065bf50f18d7c5d9908"
      }
     },
     "b70a003d82e04d989e3ed21009c82264": {
      "model_module": "@jupyter-widgets/controls",
      "model_module_version": "2.0.0",
      "model_name": "TextStyleModel",
      "state": {
       "description_width": "initial",
       "font_size": null,
       "text_color": null
      }
     },
     "b7561e91fcb34e0e93a8d9a95e025bbf": {
      "model_module": "@jupyter-widgets/controls",
      "model_module_version": "2.0.0",
      "model_name": "TextModel",
      "state": {
       "description": "Documentation link:",
       "layout": "IPY_MODEL_f4431fb3d3444ff48794f9bba7f1f731",
       "placeholder": "Please provide a link to the document",
       "style": "IPY_MODEL_8708bb5bb2a34ce296f8f1e2a01ec916"
      }
     },
     "b7e794add1b24b51b40e9e1806d91549": {
      "model_module": "@jupyter-widgets/controls",
      "model_module_version": "2.0.0",
      "model_name": "TextModel",
      "state": {
       "layout": "IPY_MODEL_c3ef35fcc964431fa195fe4526a3b08c",
       "placeholder": "e.g., STAC label extension, ESA AIREO specification, etc.",
       "style": "IPY_MODEL_1e40ba20cdda4521a690f8cab6321d39"
      }
     },
     "b81881ce04b14b32aa3a4a43d4b4d9e1": {
      "model_module": "@jupyter-widgets/controls",
      "model_module_version": "2.0.0",
      "model_name": "ComboboxModel",
      "state": {
       "description": "If the data will be updated, how often will it be updated?",
       "ensure_option": false,
       "layout": "IPY_MODEL_e681507193144075908c58811c32461b",
       "options": [
        "When data updated",
        "Hourly",
        "Daily",
        "Weekly",
        "Monthly",
        "Annually",
        "Other",
        "N/A"
       ],
       "placeholder": "Click to select option",
       "style": "IPY_MODEL_cf9ba62bc8004454976b97e7a3d70efd"
      }
     },
     "b8f205ab323a477ca7b3ed42cb96487c": {
      "model_module": "@jupyter-widgets/controls",
      "model_module_version": "2.0.0",
      "model_name": "TextStyleModel",
      "state": {
       "description_width": "",
       "font_size": null,
       "text_color": null
      }
     },
     "b9fa6d2aba81458b9e2972f5df8b7f64": {
      "model_module": "@jupyter-widgets/base",
      "model_module_version": "2.0.0",
      "model_name": "LayoutModel",
      "state": {
       "width": "900px"
      }
     },
     "ba1e55470c7440809f55aac3f99c19bf": {
      "model_module": "@jupyter-widgets/controls",
      "model_module_version": "2.0.0",
      "model_name": "ComboboxModel",
      "state": {
       "description": "2.7 Are there processes to monitor for units, data types, and parameter consistency?",
       "ensure_option": false,
       "layout": "IPY_MODEL_1da519723b6947c893135b5ae2c8864b",
       "options": [
        "Yes",
        "No",
        "N/A"
       ],
       "placeholder": "Click to select option",
       "style": "IPY_MODEL_0145dfb5bdc24a9c8b2c6ee7d080a6f0"
      }
     },
     "baa67ec2522943a0a371a7a82a49597e": {
      "model_module": "@jupyter-widgets/controls",
      "model_module_version": "2.0.0",
      "model_name": "TextModel",
      "state": {
       "description": "1.1 Dataset name:",
       "layout": "IPY_MODEL_8a8ef7b5aca747498af732d50aef317e",
       "style": "IPY_MODEL_8be33b788fa349b080a4ffd79dbcd298"
      }
     },
     "baee189559234de7954e4cef4b662121": {
      "model_module": "@jupyter-widgets/base",
      "model_module_version": "2.0.0",
      "model_name": "LayoutModel",
      "state": {
       "width": "900px"
      }
     },
     "bb14eab033f1464788125b327156ce65": {
      "model_module": "@jupyter-widgets/controls",
      "model_module_version": "2.0.0",
      "model_name": "ComboboxModel",
      "state": {
       "description": "4.8 Is there secure access to the full dataset for authorized users? ",
       "ensure_option": false,
       "layout": "IPY_MODEL_baee189559234de7954e4cef4b662121",
       "options": [
        "Yes",
        "No",
        "N/A"
       ],
       "placeholder": "Click to select option",
       "style": "IPY_MODEL_da0e194fb2ba4eb9affdbf26df8cba1d"
      }
     },
     "bbab5797e0d0476190721483632158e9": {
      "model_module": "@jupyter-widgets/controls",
      "model_module_version": "2.0.0",
      "model_name": "TextStyleModel",
      "state": {
       "description_width": "initial",
       "font_size": null,
       "text_color": null
      }
     },
     "bbcc6e419df8467dbb91271a430e973a": {
      "model_module": "@jupyter-widgets/controls",
      "model_module_version": "2.0.0",
      "model_name": "ComboboxModel",
      "state": {
       "description": "2.6 Is this dataset’s units, data types, and parameter names consistent with similar data collections?",
       "ensure_option": false,
       "layout": "IPY_MODEL_2e2066fbcd3544f4bfaf1c9cc3c17e81",
       "options": [
        "Yes",
        "No",
        "N/A"
       ],
       "placeholder": "Click to select option",
       "style": "IPY_MODEL_4cf38cc3b2254084857bb7acbbc99ac8"
      }
     },
     "bbf9d3a29037473ca6138d29b17435d3": {
      "model_module": "@jupyter-widgets/controls",
      "model_module_version": "2.0.0",
      "model_name": "LabelStyleModel",
      "state": {
       "description_width": "",
       "font_family": null,
       "font_size": null,
       "font_style": null,
       "font_variant": null,
       "font_weight": null,
       "text_color": null,
       "text_decoration": null
      }
     },
     "bce5b505bf3c446db08d1a97a4669e1b": {
      "model_module": "@jupyter-widgets/controls",
      "model_module_version": "2.0.0",
      "model_name": "TextStyleModel",
      "state": {
       "description_width": "",
       "font_size": null,
       "text_color": null
      }
     },
     "be806e6e0da140e4b241d12e9b162c3e": {
      "model_module": "@jupyter-widgets/controls",
      "model_module_version": "2.0.0",
      "model_name": "TextStyleModel",
      "state": {
       "description_width": "initial",
       "font_size": null,
       "text_color": null
      }
     },
     "beafe24dcc034b90981f1fcab04cff05": {
      "model_module": "@jupyter-widgets/controls",
      "model_module_version": "2.0.0",
      "model_name": "TextareaModel",
      "state": {
       "layout": "IPY_MODEL_45e54a77ed444b1682e08ea42ba52177",
       "placeholder": "If yes, what measures were used?",
       "style": "IPY_MODEL_b8f205ab323a477ca7b3ed42cb96487c"
      }
     },
     "bebad0c62ed04ed89e9a5b0a3774eb99": {
      "model_module": "@jupyter-widgets/base",
      "model_module_version": "2.0.0",
      "model_name": "LayoutModel",
      "state": {}
     },
     "bedf147d06af4f27857dd75710e2cd19": {
      "model_module": "@jupyter-widgets/controls",
      "model_module_version": "2.0.0",
      "model_name": "HBoxModel",
      "state": {
       "children": [
        "IPY_MODEL_68fc47a474724d948472559cdf5d576a",
        "IPY_MODEL_c5192a8fcdde49aeb668c1c18a10365a",
        "IPY_MODEL_421ebe7d279c4d748af10dee6f27f2c1",
        "IPY_MODEL_e61e0217aed84477a7d68037437fe4f0",
        "IPY_MODEL_ea2e17e399644133bb3b1c4c01f9e3be"
       ],
       "layout": "IPY_MODEL_d41eb8f77cd34e469c66e930938c8896"
      }
     },
     "c010b79380ee4877ba7d7dfd608707fb": {
      "model_module": "@jupyter-widgets/controls",
      "model_module_version": "2.0.0",
      "model_name": "TextStyleModel",
      "state": {
       "description_width": "initial",
       "font_size": null,
       "text_color": null
      }
     },
     "c0f0212784194d4dabf3a751fbf1f7ac": {
      "model_module": "@jupyter-widgets/base",
      "model_module_version": "2.0.0",
      "model_name": "LayoutModel",
      "state": {
       "width": "900px"
      }
     },
     "c1f3be725d0e4cfd9971b5b0260dccf7": {
      "model_module": "@jupyter-widgets/controls",
      "model_module_version": "2.0.0",
      "model_name": "TextStyleModel",
      "state": {
       "description_width": "initial",
       "font_size": null,
       "text_color": null
      }
     },
     "c2a036a81a4f42fb891ad968475bc122": {
      "model_module": "@jupyter-widgets/base",
      "model_module_version": "2.0.0",
      "model_name": "LayoutModel",
      "state": {
       "width": "900px"
      }
     },
     "c3ef35fcc964431fa195fe4526a3b08c": {
      "model_module": "@jupyter-widgets/base",
      "model_module_version": "2.0.0",
      "model_name": "LayoutModel",
      "state": {
       "width": "900px"
      }
     },
     "c402db562d3e479399212602b8b03274": {
      "model_module": "@jupyter-widgets/base",
      "model_module_version": "2.0.0",
      "model_name": "LayoutModel",
      "state": {
       "width": "900px"
      }
     },
     "c4040cf9f9a74e3dbcdb1c10526d00e7": {
      "model_module": "@jupyter-widgets/controls",
      "model_module_version": "2.0.0",
      "model_name": "ButtonModel",
      "state": {
       "button_style": "info",
       "description": "Print json results",
       "layout": "IPY_MODEL_2066bc7003854e5c9ec353bd9abfc0a4",
       "style": "IPY_MODEL_39dcd15dd9a249adb96e48970505f6c8",
       "tooltip": null
      }
     },
     "c5192a8fcdde49aeb668c1c18a10365a": {
      "model_module": "@jupyter-widgets/controls",
      "model_module_version": "2.0.0",
      "model_name": "IntTextModel",
      "state": {
       "layout": "IPY_MODEL_209347e6518146feb92c51fe62df8e93",
       "step": 1,
       "style": "IPY_MODEL_aeb6b9bec2cb4594a7f7f1a78ddefcd5"
      }
     },
     "c56b039bb5244d458918c488f971fe52": {
      "model_module": "@jupyter-widgets/controls",
      "model_module_version": "2.0.0",
      "model_name": "ComboboxModel",
      "state": {
       "description": "If the data is gridded, was it transformed from a different original sampling?",
       "ensure_option": false,
       "layout": "IPY_MODEL_f08bd86e829e49e9bde16e1363c46041",
       "options": [
        "Yes, from irregular sampling",
        "Yes, from a different regular sampling",
        "No, this is the original sampling",
        "N/A"
       ],
       "placeholder": "Click to select option",
       "style": "IPY_MODEL_8d51e2152dba4e0aacf0cdfc135a3603"
      }
     },
     "c62be3044b0c41bf9346b1d60c646b7e": {
      "model_module": "@jupyter-widgets/controls",
      "model_module_version": "2.0.0",
      "model_name": "LabelModel",
      "state": {
       "layout": "IPY_MODEL_1d8845025d8a4206a9a80b2e980fd915",
       "style": "IPY_MODEL_fd02292d2c294f738a4b9bd2e135a09a",
       "value": "Number of data files:"
      }
     },
     "c667e5741a194c149c0ec08c39beca20": {
      "model_module": "@jupyter-widgets/controls",
      "model_module_version": "2.0.0",
      "model_name": "ComboboxModel",
      "state": {
       "description": "2.3 How complete is the dataset compared to the expected spatial coverage?",
       "ensure_option": false,
       "layout": "IPY_MODEL_e6668e12543b4a61982291f55e2c4ef8",
       "options": [
        "Complete",
        "Partial",
        "Unknown",
        "N/A"
       ],
       "placeholder": "Click to select option",
       "style": "IPY_MODEL_33fb0088e84446ae9969bef25c8cf763"
      }
     },
     "c70aaf6d94e94d6ca72fc013842e44dd": {
      "model_module": "@jupyter-widgets/controls",
      "model_module_version": "2.0.0",
      "model_name": "DescriptionStyleModel",
      "state": {
       "description_width": ""
      }
     },
     "c75aae88384042af97a3ffda8aaa1280": {
      "model_module": "@jupyter-widgets/controls",
      "model_module_version": "2.0.0",
      "model_name": "TextStyleModel",
      "state": {
       "description_width": "initial",
       "font_size": null,
       "text_color": null
      }
     },
     "c797f4292107462da5541bd657927c25": {
      "model_module": "@jupyter-widgets/controls",
      "model_module_version": "2.0.0",
      "model_name": "TextStyleModel",
      "state": {
       "description_width": "initial",
       "font_size": null,
       "text_color": null
      }
     },
     "c8539f7ccbb544fd9b048f43ad2c4aa6": {
      "model_module": "@jupyter-widgets/base",
      "model_module_version": "2.0.0",
      "model_name": "LayoutModel",
      "state": {
       "width": "900px"
      }
     },
     "cabb0c427ec74f61826f05886e3fd0c4": {
      "model_module": "@jupyter-widgets/controls",
      "model_module_version": "2.0.0",
      "model_name": "TextStyleModel",
      "state": {
       "description_width": "initial",
       "font_size": null,
       "text_color": null
      }
     },
     "cae8f5ff8e58457c8ac365f6686b79fe": {
      "model_module": "@jupyter-widgets/controls",
      "model_module_version": "2.0.0",
      "model_name": "TextStyleModel",
      "state": {
       "description_width": "initial",
       "font_size": null,
       "text_color": null
      }
     },
     "cb03ba26a9c24ac4bc2f8e95fe8a1bde": {
      "model_module": "@jupyter-widgets/base",
      "model_module_version": "2.0.0",
      "model_name": "LayoutModel",
      "state": {}
     },
     "cb27b8e50f0749a6829d192dd037a240": {
      "model_module": "@jupyter-widgets/controls",
      "model_module_version": "2.0.0",
      "model_name": "TextModel",
      "state": {
       "description": "Tools / services link:",
       "layout": "IPY_MODEL_379a4c3b0d004b3a8f4e2edbd741aecb",
       "placeholder": "If yes, provide the link to the tools/services",
       "style": "IPY_MODEL_3428ec0ad15149e6814b3cd8812f6571"
      }
     },
     "cc199adc6c4c409db4fdd9ffedcce019": {
      "model_module": "@jupyter-widgets/base",
      "model_module_version": "2.0.0",
      "model_name": "LayoutModel",
      "state": {
       "flex": "1 1 auto",
       "width": "auto"
      }
     },
     "cd0f7c83bf444d9d9d053d741f1f9227": {
      "model_module": "@jupyter-widgets/controls",
      "model_module_version": "2.0.0",
      "model_name": "ComboboxModel",
      "state": {
       "description": "2.11 Is the provenance of the dataset tracked and documented?",
       "ensure_option": false,
       "layout": "IPY_MODEL_3967814918f4446a9602969dae2a4e44",
       "options": [
        "Yes",
        "No",
        "N/A"
       ],
       "placeholder": "Click to select option",
       "style": "IPY_MODEL_b70a003d82e04d989e3ed21009c82264"
      }
     },
     "cd861c131f1547c38f4e363d7e80300a": {
      "model_module": "@jupyter-widgets/controls",
      "model_module_version": "2.0.0",
      "model_name": "ComboboxModel",
      "state": {
       "description": "5.3 Is the data gridded (regularly sampled in time and space)?",
       "ensure_option": false,
       "layout": "IPY_MODEL_fd31edaed4ff4912bbb760ef68986373",
       "options": [
        "Regularly gridded in space",
        "Constant time-frequency",
        "Regularly gridded in space and constant time-frequency",
        "Not gridded",
        "N/A"
       ],
       "placeholder": "Click to select option",
       "style": "IPY_MODEL_28e01b9008c74a7fb1dd77e368963878"
      }
     },
     "cdb75b7337974ea399be5c50c01bbdfb": {
      "model_module": "@jupyter-widgets/controls",
      "model_module_version": "2.0.0",
      "model_name": "ComboboxModel",
      "state": {
       "description": "Is the data available in at least one open, non-proprietary format?",
       "ensure_option": false,
       "layout": "IPY_MODEL_75fc710ccd854c1680649da49fe452d2",
       "options": [
        "Yes",
        "No",
        "N/A"
       ],
       "placeholder": "Click to select option",
       "style": "IPY_MODEL_710012c74b60467986df9039c6cb536c"
      }
     },
     "cf4bd80cc90a4d07818a7aaf3151c247": {
      "model_module": "@jupyter-widgets/base",
      "model_module_version": "2.0.0",
      "model_name": "LayoutModel",
      "state": {
       "display": "none",
       "width": "900px"
      }
     },
     "cf9ba62bc8004454976b97e7a3d70efd": {
      "model_module": "@jupyter-widgets/controls",
      "model_module_version": "2.0.0",
      "model_name": "TextStyleModel",
      "state": {
       "description_width": "initial",
       "font_size": null,
       "text_color": null
      }
     },
     "cfdc77264f7f48e7aa6ec454dd34e589": {
      "model_module": "@jupyter-widgets/controls",
      "model_module_version": "2.0.0",
      "model_name": "ButtonStyleModel",
      "state": {
       "font_family": null,
       "font_size": null,
       "font_style": null,
       "font_variant": null,
       "font_weight": null,
       "text_color": null,
       "text_decoration": null
      }
     },
     "d093edcbd22747638527c320e07a5506": {
      "model_module": "@jupyter-widgets/controls",
      "model_module_version": "2.0.0",
      "model_name": "ButtonModel",
      "state": {
       "button_style": "primary",
       "description": "Save Data Documentation Answers to json file",
       "layout": "IPY_MODEL_706af9c186cf4d9fabed849ce2e2c80a",
       "style": "IPY_MODEL_fd754c3a235342b5ab40ca059b5f5a25",
       "tooltip": null
      }
     },
     "d0d0341ba7df43a9a60647611ac22443": {
      "model_module": "@jupyter-widgets/controls",
      "model_module_version": "2.0.0",
      "model_name": "LabelModel",
      "state": {
       "layout": "IPY_MODEL_2f85ba2d598f4ffa95c38a43ed8a6bcb",
       "style": "IPY_MODEL_17e1203af4f140ab8aa408783532fba4",
       "value": "Number of data table rows:"
      }
     },
     "d416f8d917d1423bbda14a0efc7dc714": {
      "model_module": "@jupyter-widgets/controls",
      "model_module_version": "2.0.0",
      "model_name": "ButtonModel",
      "state": {
       "button_style": "primary",
       "description": "Save Timeliness, Completeness & Consistency Answers to json file",
       "layout": "IPY_MODEL_8fb8d57534774231904f8ddb52af9c99",
       "style": "IPY_MODEL_6ea33e2f1a8e4fa5b5768cd665c9ff12",
       "tooltip": null
      }
     },
     "d41eb8f77cd34e469c66e930938c8896": {
      "model_module": "@jupyter-widgets/base",
      "model_module_version": "2.0.0",
      "model_name": "LayoutModel",
      "state": {}
     },
     "d4651aaa333b4a149cf2c8a951967a8e": {
      "model_module": "@jupyter-widgets/base",
      "model_module_version": "2.0.0",
      "model_name": "LayoutModel",
      "state": {}
     },
     "d4fb5bb490774a18aafde8352ebbcfaa": {
      "model_module": "@jupyter-widgets/base",
      "model_module_version": "2.0.0",
      "model_name": "LayoutModel",
      "state": {
       "width": "20px"
      }
     },
     "d6512fd4312a41c2bf5b3f319e8f0278": {
      "model_module": "@jupyter-widgets/base",
      "model_module_version": "2.0.0",
      "model_name": "LayoutModel",
      "state": {}
     },
     "d6972fd844a74709b755ae9b962a6c96": {
      "model_module": "@jupyter-widgets/controls",
      "model_module_version": "2.0.0",
      "model_name": "ComboboxModel",
      "state": {
       "description": "Is the data dictionary standardized?",
       "ensure_option": false,
       "layout": "IPY_MODEL_78178c9a95a84b48bcc872f7198518a0",
       "options": [
        "Yes",
        "No",
        "N/A"
       ],
       "placeholder": "Click to select option",
       "style": "IPY_MODEL_16bfacf8d3614258854f600d58887398"
      }
     },
     "d76bf7dea27a43cbaba83cee03da3c6f": {
      "model_module": "@jupyter-widgets/controls",
      "model_module_version": "2.0.0",
      "model_name": "TextStyleModel",
      "state": {
       "description_width": "",
       "font_size": null,
       "text_color": null
      }
     },
     "d7e2cf02b9124c338580c56d84f94cc3": {
      "model_module": "@jupyter-widgets/controls",
      "model_module_version": "2.0.0",
      "model_name": "ComboboxModel",
      "state": {
       "description": "3.9 Are there recommendations on the intended use of the data, and uses that are not recommended?",
       "ensure_option": false,
       "layout": "IPY_MODEL_510eb65b856142f7927edc2279437741",
       "options": [
        "Yes",
        "No",
        "N/A"
       ],
       "placeholder": "Click to select option",
       "style": "IPY_MODEL_acef665098004bd1b7106f91afebd10a"
      }
     },
     "d9431fec384a4a3f9fed78ac3b8d9c7b": {
      "model_module": "@jupyter-widgets/controls",
      "model_module_version": "2.0.0",
      "model_name": "TextStyleModel",
      "state": {
       "description_width": "initial",
       "font_size": null,
       "text_color": null
      }
     },
     "da0e194fb2ba4eb9affdbf26df8cba1d": {
      "model_module": "@jupyter-widgets/controls",
      "model_module_version": "2.0.0",
      "model_name": "TextStyleModel",
      "state": {
       "description_width": "initial",
       "font_size": null,
       "text_color": null
      }
     },
     "da27ed70b3114f91abc0460edb7a10d0": {
      "model_module": "@jupyter-widgets/controls",
      "model_module_version": "2.0.0",
      "model_name": "LabelModel",
      "state": {
       "layout": "IPY_MODEL_d6512fd4312a41c2bf5b3f319e8f0278",
       "style": "IPY_MODEL_0963931ca620465d9ef71d306d16a45e",
       "value": "4.1 What is/are the major file formats? (Use shift / Ctrl / CMD to select multiple)"
      }
     },
     "dc1e3a4557174c00aa4ca15e757f80a4": {
      "model_module": "@jupyter-widgets/controls",
      "model_module_version": "2.0.0",
      "model_name": "TextStyleModel",
      "state": {
       "description_width": "initial",
       "font_size": null,
       "text_color": null
      }
     },
     "dea2b438c4414d62afa786b88dc21e97": {
      "model_module": "@jupyter-widgets/base",
      "model_module_version": "2.0.0",
      "model_name": "LayoutModel",
      "state": {
       "display": "none",
       "width": "900px"
      }
     },
     "df961cf5594f4a9c978503f2f72a45bb": {
      "model_module": "@jupyter-widgets/base",
      "model_module_version": "2.0.0",
      "model_name": "LayoutModel",
      "state": {
       "width": "900px"
      }
     },
     "e334f5f573824c45b4070a9a25e66059": {
      "model_module": "@jupyter-widgets/base",
      "model_module_version": "2.0.0",
      "model_name": "LayoutModel",
      "state": {}
     },
     "e3c3bece3a30448b9b40da533f01be2f": {
      "model_module": "@jupyter-widgets/controls",
      "model_module_version": "2.0.0",
      "model_name": "ButtonModel",
      "state": {
       "button_style": "primary",
       "description": "Save Data Access Answers to json file",
       "layout": "IPY_MODEL_cc199adc6c4c409db4fdd9ffedcce019",
       "style": "IPY_MODEL_cfdc77264f7f48e7aa6ec454dd34e589",
       "tooltip": null
      }
     },
     "e3cd7900a9334477b8e074428bc6403c": {
      "model_module": "@jupyter-widgets/controls",
      "model_module_version": "2.0.0",
      "model_name": "ComboboxModel",
      "state": {
       "description": "Is there reported bias in the data?",
       "ensure_option": false,
       "layout": "IPY_MODEL_51f6ddc1796340a0947472b4b4fc7ec7",
       "options": [
        "No known bias",
        "Found and reported",
        "No info available",
        "N/A"
       ],
       "placeholder": "Click to select option",
       "style": "IPY_MODEL_4bf7210b2f2c426d878dcd725c2fabc0"
      }
     },
     "e5c34a630b98493dbbc6bc7d139630a7": {
      "model_module": "@jupyter-widgets/controls",
      "model_module_version": "2.0.0",
      "model_name": "LabelModel",
      "state": {
       "layout": "IPY_MODEL_bebad0c62ed04ed89e9a5b0a3774eb99",
       "style": "IPY_MODEL_bbf9d3a29037473ca6138d29b17435d3",
       "value": "2.13 What is the size of the dataset? Depending on the resource, this might be:"
      }
     },
     "e61e0217aed84477a7d68037437fe4f0": {
      "model_module": "@jupyter-widgets/controls",
      "model_module_version": "2.0.0",
      "model_name": "LabelModel",
      "state": {
       "layout": "IPY_MODEL_ef8683dbc270412b9789bd1b15890439",
       "style": "IPY_MODEL_1ca2e48656004117a582f465ee579fca",
       "value": "Size of images:"
      }
     },
     "e6668e12543b4a61982291f55e2c4ef8": {
      "model_module": "@jupyter-widgets/base",
      "model_module_version": "2.0.0",
      "model_name": "LayoutModel",
      "state": {
       "width": "900px"
      }
     },
     "e681507193144075908c58811c32461b": {
      "model_module": "@jupyter-widgets/base",
      "model_module_version": "2.0.0",
      "model_name": "LayoutModel",
      "state": {
       "display": "none",
       "width": "900px"
      }
     },
     "e6a11ba1492d463a85ab3a75390650ae": {
      "model_module": "@jupyter-widgets/base",
      "model_module_version": "2.0.0",
      "model_name": "LayoutModel",
      "state": {
       "width": "900px"
      }
     },
     "e6bf0a274add4225b075c35dcfc2afab": {
      "model_module": "@jupyter-widgets/controls",
      "model_module_version": "2.0.0",
      "model_name": "TextStyleModel",
      "state": {
       "description_width": "initial",
       "font_size": null,
       "text_color": null
      }
     },
     "e83f56e3fb3f4592842855a76af77780": {
      "model_module": "@jupyter-widgets/controls",
      "model_module_version": "2.0.0",
      "model_name": "LabelStyleModel",
      "state": {
       "description_width": "",
       "font_family": null,
       "font_size": null,
       "font_style": null,
       "font_variant": null,
       "font_weight": null,
       "text_color": null,
       "text_decoration": null
      }
     },
     "e92924387d0f4ceaa56efacb73860d1a": {
      "model_module": "@jupyter-widgets/base",
      "model_module_version": "2.0.0",
      "model_name": "LayoutModel",
      "state": {
       "flex": "1 1 auto",
       "width": "auto"
      }
     },
     "ea2e17e399644133bb3b1c4c01f9e3be": {
      "model_module": "@jupyter-widgets/controls",
      "model_module_version": "2.0.0",
      "model_name": "TextModel",
      "state": {
       "layout": "IPY_MODEL_cb03ba26a9c24ac4bc2f8e95fe8a1bde",
       "placeholder": "228 x 228",
       "style": "IPY_MODEL_b060e98c3f7f46538c000e4091c36f40"
      }
     },
     "eb4ac297bb534c568b343c812f86a804": {
      "model_module": "@jupyter-widgets/base",
      "model_module_version": "2.0.0",
      "model_name": "LayoutModel",
      "state": {}
     },
     "eb6db82821184d45bda19990587970ff": {
      "model_module": "@jupyter-widgets/controls",
      "model_module_version": "2.0.0",
      "model_name": "ComboboxModel",
      "state": {
       "description": "5.4 Are there associated targets or labels for supervised learning techniques?",
       "ensure_option": false,
       "layout": "IPY_MODEL_e6a11ba1492d463a85ab3a75390650ae",
       "options": [
        "Yes",
        "No",
        "N/A"
       ],
       "placeholder": "Click to select option - (Can this be used as a training dataset)?",
       "style": "IPY_MODEL_59985bd006f34c628b835eac58268d0d"
      }
     },
     "ec9aba163b06469da1015262ed9defe7": {
      "model_module": "@jupyter-widgets/base",
      "model_module_version": "2.0.0",
      "model_name": "LayoutModel",
      "state": {}
     },
     "ede06b40f3a742978f7d999c2c921bc4": {
      "model_module": "@jupyter-widgets/base",
      "model_module_version": "2.0.0",
      "model_name": "LayoutModel",
      "state": {
       "flex": "1 1 auto",
       "width": "auto"
      }
     },
     "eea32c4e8d684d309b348909e4ecb661": {
      "model_module": "@jupyter-widgets/base",
      "model_module_version": "2.0.0",
      "model_name": "LayoutModel",
      "state": {}
     },
     "ef8683dbc270412b9789bd1b15890439": {
      "model_module": "@jupyter-widgets/base",
      "model_module_version": "2.0.0",
      "model_name": "LayoutModel",
      "state": {}
     },
     "f002fabff6b2430b8c67905d77c6c528": {
      "model_module": "@jupyter-widgets/base",
      "model_module_version": "2.0.0",
      "model_name": "LayoutModel",
      "state": {
       "width": "900px"
      }
     },
     "f01a7c25289a46dda46a5320feff2121": {
      "model_module": "@jupyter-widgets/controls",
      "model_module_version": "2.0.0",
      "model_name": "TextStyleModel",
      "state": {
       "description_width": "initial",
       "font_size": null,
       "text_color": null
      }
     },
     "f08bd86e829e49e9bde16e1363c46041": {
      "model_module": "@jupyter-widgets/base",
      "model_module_version": "2.0.0",
      "model_name": "LayoutModel",
      "state": {
       "width": "900px"
      }
     },
     "f117b362d24b49e1a98ccbef64f1c51f": {
      "model_module": "@jupyter-widgets/controls",
      "model_module_version": "2.0.0",
      "model_name": "TextStyleModel",
      "state": {
       "description_width": "initial",
       "font_size": null,
       "text_color": null
      }
     },
     "f209bec367d0460c85c166a016e02ebf": {
      "model_module": "@jupyter-widgets/base",
      "model_module_version": "2.0.0",
      "model_name": "LayoutModel",
      "state": {
       "width": "900px"
      }
     },
     "f28a5ac066af428593d335ce75d1f0af": {
      "model_module": "@jupyter-widgets/controls",
      "model_module_version": "2.0.0",
      "model_name": "TextStyleModel",
      "state": {
       "description_width": "initial",
       "font_size": null,
       "text_color": null
      }
     },
     "f41977b3d20d4bddb29d4653316cf216": {
      "model_module": "@jupyter-widgets/controls",
      "model_module_version": "2.0.0",
      "model_name": "TextStyleModel",
      "state": {
       "description_width": "initial",
       "font_size": null,
       "text_color": null
      }
     },
     "f43422846c574ba6882540181ee0a6c9": {
      "model_module": "@jupyter-widgets/base",
      "model_module_version": "2.0.0",
      "model_name": "LayoutModel",
      "state": {
       "width": "900px"
      }
     },
     "f4431fb3d3444ff48794f9bba7f1f731": {
      "model_module": "@jupyter-widgets/base",
      "model_module_version": "2.0.0",
      "model_name": "LayoutModel",
      "state": {
       "display": "none",
       "width": "900px"
      }
     },
     "f4dd7dd473fb4a6abce6adaa3ac93ff8": {
      "model_module": "@jupyter-widgets/controls",
      "model_module_version": "2.0.0",
      "model_name": "TextStyleModel",
      "state": {
       "description_width": "initial",
       "font_size": null,
       "text_color": null
      }
     },
     "f9f294a7e3894a8b85c18532d50d93f9": {
      "model_module": "@jupyter-widgets/controls",
      "model_module_version": "2.0.0",
      "model_name": "ComboboxModel",
      "state": {
       "description": "2.4 How complete is the dataset compared to the expected temporal coverage?",
       "ensure_option": false,
       "layout": "IPY_MODEL_9aa195cbcc534a26ab07038f8ab39566",
       "options": [
        "Complete",
        "Partial",
        "Unknown",
        "N/A"
       ],
       "placeholder": "Click to select option",
       "style": "IPY_MODEL_79631245d7d54f10a6231edb6af7ec57"
      }
     },
     "f9f8d05ec18a4ddeb2eefb79d3408cbc": {
      "model_module": "@jupyter-widgets/controls",
      "model_module_version": "2.0.0",
      "model_name": "LabelModel",
      "state": {
       "layout": "IPY_MODEL_eea32c4e8d684d309b348909e4ecb661",
       "style": "IPY_MODEL_5a18053675de4b1f99982d3a54e3f753",
       "value": "If there are associated targets/labels, are community labeling standards implemented?"
      }
     },
     "fb0b2b996a2345048f23218701ab3e91": {
      "model_module": "@jupyter-widgets/controls",
      "model_module_version": "2.0.0",
      "model_name": "ComboboxModel",
      "state": {
       "description": "3.1 Does the dataset metadata follow a community/domain standard or convention?",
       "ensure_option": false,
       "layout": "IPY_MODEL_18cc0fb4915c4332a742c9b62d00570b",
       "options": [
        "Yes",
        "No",
        "N/A"
       ],
       "placeholder": "Click to select option",
       "style": "IPY_MODEL_1669cb4ca0f646f9a196090cef8e829e"
      }
     },
     "fb72082f222d42e9913b8ee3815ae832": {
      "model_module": "@jupyter-widgets/controls",
      "model_module_version": "2.0.0",
      "model_name": "TextStyleModel",
      "state": {
       "description_width": "initial",
       "font_size": null,
       "text_color": null
      }
     },
     "fc560db029bf463ebad717147d8b1b5f": {
      "model_module": "@jupyter-widgets/controls",
      "model_module_version": "2.0.0",
      "model_name": "TextModel",
      "state": {
       "description": "3.7 What is the license for the data?",
       "layout": "IPY_MODEL_a8f08d3deceb42c6b56bf1dd11a98ea0",
       "placeholder": "Type your answer",
       "style": "IPY_MODEL_c010b79380ee4877ba7d7dfd608707fb"
      }
     },
     "fcac45e9d6974778b0dabcb1f2d07e9c": {
      "model_module": "@jupyter-widgets/controls",
      "model_module_version": "2.0.0",
      "model_name": "ComboboxModel",
      "state": {
       "description": "4.7 Has the data been anonymized / de-identified?",
       "ensure_option": false,
       "layout": "IPY_MODEL_267bd62ad4f44674840e65451a9248a5",
       "options": [
        "Yes",
        "No",
        "N/A"
       ],
       "placeholder": "Click to select option",
       "style": "IPY_MODEL_348340e49f2a439d8a01d528eddcf100"
      }
     },
     "fd02292d2c294f738a4b9bd2e135a09a": {
      "model_module": "@jupyter-widgets/controls",
      "model_module_version": "2.0.0",
      "model_name": "LabelStyleModel",
      "state": {
       "description_width": "",
       "font_family": null,
       "font_size": null,
       "font_style": null,
       "font_variant": null,
       "font_weight": null,
       "text_color": null,
       "text_decoration": null
      }
     },
     "fd31edaed4ff4912bbb760ef68986373": {
      "model_module": "@jupyter-widgets/base",
      "model_module_version": "2.0.0",
      "model_name": "LayoutModel",
      "state": {
       "width": "900px"
      }
     },
     "fd754c3a235342b5ab40ca059b5f5a25": {
      "model_module": "@jupyter-widgets/controls",
      "model_module_version": "2.0.0",
      "model_name": "ButtonStyleModel",
      "state": {
       "font_family": null,
       "font_size": null,
       "font_style": null,
       "font_variant": null,
       "font_weight": null,
       "text_color": null,
       "text_decoration": null
      }
     },
     "fdf3f7a342ba4a998da1093e10d929ea": {
      "model_module": "@jupyter-widgets/base",
      "model_module_version": "2.0.0",
      "model_name": "LayoutModel",
      "state": {
       "width": "900px"
      }
     },
     "ffd06609bb044263812ddd2a41862f64": {
      "model_module": "@jupyter-widgets/base",
      "model_module_version": "2.0.0",
      "model_name": "LayoutModel",
      "state": {
       "width": "900px"
      }
     }
    },
    "version_major": 2,
    "version_minor": 0
   }
  }
 },
 "nbformat": 4,
 "nbformat_minor": 5
}
