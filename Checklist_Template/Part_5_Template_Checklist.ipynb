{
 "cells": [
  {
   "cell_type": "markdown",
   "id": "1e08378b-6bbe-4203-8b90-1bed8c97a679",
   "metadata": {
    "editable": true,
    "slideshow": {
     "slide_type": ""
    },
    "tags": []
   },
   "source": [
    "\n",
    "<link rel=\"stylesheet\" href=\"https://unpkg.com/thebe@latest/lib/index.css\">\n",
    "<script src=\"https://unpkg.com/thebe@latest/lib/index.js\"></script>\n",
    "\n",
    "<script type=\"text/javascript\">\n",
    "  document.addEventListener(\"DOMContentLoaded\", function() {\n",
    "    thebelab.bootstrap({\n",
    "      requestKernel: true,\n",
    "      binderOptions: {\n",
    "        repo: \"your-repo/your-project\",\n",
    "        ref: \"main\",\n",
    "      },\n",
    "      codeMirrorConfig: {\n",
    "        theme: \"abcdef\",\n",
    "      },\n",
    "    });\n",
    "  });\n",
    "</script>\n"
   ]
  },
  {
   "cell_type": "markdown",
   "id": "f8198bd3-3e2a-444f-bff5-c9647a804ca9",
   "metadata": {
    "editable": true,
    "slideshow": {
     "slide_type": ""
    },
    "tags": []
   },
   "source": [
    "# **Data Readiness For AI Checklist - Part 5**\n",
    "\n",
    " * Affiliation: UK Met Office\n",
    " * History: 1.0\n",
    " * Last update: 25-2-25\n",
    " * © British Crown Copyright 2017-2025, Met Office. Please see LICENSE.md for license details.\n",
    "\n",
    "---"
   ]
  },
  {
   "cell_type": "markdown",
   "id": "4eb841fa-aab5-401b-9e67-1c2e0723c6dd",
   "metadata": {},
   "source": [
    "## **Tutorial Material**\n",
    "\n",
    "* **Run this Jupyter notebook locally using Jupyter Lab**\n",
    "* **Select 'Run All Cells' from the 'Run' menu to generate the checklist**.\n",
    "* **Remember to save your notebook regularly as you work through it.**\n",
    "\n",
    "\n",
    "## **Data section, optional**\n",
    "Scripts for pulling the data into the notebook assuming\n",
    "\n",
    "---"
   ]
  },
  {
   "cell_type": "markdown",
   "id": "f6840884-d7bb-43fa-a3e3-8c4106c435e5",
   "metadata": {},
   "source": [
    "## **Setup Notebook**"
   ]
  },
  {
   "cell_type": "code",
   "execution_count": null,
   "id": "5b5a42bb-1da9-4460-a6a0-8d85063fd096",
   "metadata": {
    "editable": true,
    "slideshow": {
     "slide_type": ""
    },
    "tags": [
     "thebe-init"
    ]
   },
   "outputs": [],
   "source": [
    "import ipywidgets as widgets\n",
    "from IPython.display import display, clear_output\n",
    "import json\n",
    "import sys\n",
    "import os\n",
    "sys.path.append(os.path.abspath('..')) # Add the parent directory to the system path\n",
    "from aidatareadiness import utils\n",
    "from aidatareadiness.utils import WIDGET_WIDTH, DESCRIPTION_STYLE, PLACEHOLDER  "
   ]
  },
  {
   "cell_type": "code",
   "execution_count": null,
   "id": "0b769970-71ed-48a7-95fb-da873b6330c8",
   "metadata": {
    "editable": true,
    "slideshow": {
     "slide_type": ""
    },
    "tags": [
     "thebe-init"
    ]
   },
   "outputs": [],
   "source": [
    "# Load checklist from JSON file:\n",
    "checklist = utils.load_checklist()"
   ]
  },
  {
   "cell_type": "markdown",
   "id": "087dd158-2a04-45b5-a0c0-599761f33f94",
   "metadata": {},
   "source": [
    "#### Reset stored answers to start again:"
   ]
  },
  {
   "cell_type": "code",
   "execution_count": null,
   "id": "a467851d-ee03-46f7-a194-8e516c374b8e",
   "metadata": {
    "jupyter": {
     "source_hidden": true
    }
   },
   "outputs": [],
   "source": [
    "# Reset all checklist answers back to original blank answers for all sections.\n",
    "# Any completed information will be lost. \n",
    "\n",
    "# To reset the stored answers uncomment and run these lines of code below. Re-comment the lines afterwards to avoid them running again. \n",
    "# utils.reset_checklist()\n",
    "# checklist = utils.load_checklist()\n",
    "\n",
    "# You can then re-run each section to reload it on the reset data. "
   ]
  },
  {
   "cell_type": "code",
   "execution_count": null,
   "id": "d23fc803-c02b-4a51-8d58-4f343b49c39b",
   "metadata": {
    "jupyter": {
     "source_hidden": true
    }
   },
   "outputs": [],
   "source": [
    "\n",
    "print(\"Dataset:\", checklist[\"GeneralInformation\"][\"DatasetName\"])\n",
    "print(\"Dataset link:\", checklist[\"GeneralInformation\"][\"DatasetLink\"])\n",
    "print(\"Assessor:\", checklist[\"GeneralInformation\"][\"AssessorName\"])\n",
    "print(\"Assessor email:\", checklist[\"GeneralInformation\"][\"AssessorEmailAddress\"])"
   ]
  },
  {
   "cell_type": "markdown",
   "id": "0ef2f783-495b-406e-8c25-5258c410520c",
   "metadata": {},
   "source": [
    "---\n",
    "\n",
    "## **5. Data Preparation**"
   ]
  },
  {
   "cell_type": "markdown",
   "id": "fc47836b-19bb-4d24-b500-884d9e754f78",
   "metadata": {},
   "source": [
    "### Null values"
   ]
  },
  {
   "cell_type": "code",
   "execution_count": null,
   "id": "598d7fa2-f6c6-451e-9b12-a282d6a70be7",
   "metadata": {
    "jupyter": {
     "source_hidden": true
    }
   },
   "outputs": [],
   "source": [
    "\n",
    "dataset_null_values = widgets.Combobox(\n",
    "            value=checklist['DataPreparation']['NullValuesFilled'],\n",
    "            options=['Yes', 'No', 'N/A'],\n",
    "            description='5.1 Have null values/gaps been filled?',\n",
    "            placeholder=PLACEHOLDER,\n",
    "            layout=widgets.Layout(width=WIDGET_WIDTH),\n",
    "            style = DESCRIPTION_STYLE\n",
    "            )\n",
    "\n",
    "display(dataset_null_values)"
   ]
  },
  {
   "cell_type": "markdown",
   "id": "8cc450ae-d5bb-464d-bc4d-da3f09bcca06",
   "metadata": {},
   "source": [
    "### Outliers"
   ]
  },
  {
   "cell_type": "code",
   "execution_count": null,
   "id": "8c912605-887f-4b59-b07a-34dfbdc2bc8d",
   "metadata": {
    "jupyter": {
     "source_hidden": true
    }
   },
   "outputs": [],
   "source": [
    "\n",
    "dataset_outliers = widgets.Combobox(\n",
    "            value=checklist['DataPreparation']['OutliersIdentified'],\n",
    "            options=['Yes, tagged ', 'Yes, removed', 'No', 'N/A'],\n",
    "            description='5.2 Have outliers been identified?',\n",
    "            placeholder=PLACEHOLDER,\n",
    "            layout=widgets.Layout(width=WIDGET_WIDTH),\n",
    "            style = DESCRIPTION_STYLE\n",
    "            )\n",
    "\n",
    "display(dataset_outliers)\n"
   ]
  },
  {
   "cell_type": "markdown",
   "id": "ad80647b-e571-4b0c-a291-c75c76b867fd",
   "metadata": {},
   "source": [
    "### Gridded data\n"
   ]
  },
  {
   "cell_type": "code",
   "execution_count": null,
   "id": "45f3adc6-7550-488b-923d-c3d17a912b89",
   "metadata": {
    "jupyter": {
     "source_hidden": true
    }
   },
   "outputs": [],
   "source": [
    "\n",
    "dataset_gridded = widgets.Combobox(\n",
    "            value=checklist['DataPreparation']['Gridded'],\n",
    "            options=['Regularly gridded in space', 'Constant time-frequency', 'Regularly gridded in space and constant time-frequency', 'Not gridded', 'N/A'],\n",
    "            description='5.3 Is the data gridded (regularly sampled in time and space)?',\n",
    "            placeholder=PLACEHOLDER,\n",
    "            layout=widgets.Layout(width=WIDGET_WIDTH),\n",
    "            style = DESCRIPTION_STYLE\n",
    "            )\n",
    "\n",
    "dataset_gridded_transformed = widgets.Combobox(\n",
    "            value=checklist['DataPreparation']['TransformedFromOriginal'],\n",
    "            options=['Yes, from irregular sampling', 'Yes, from a different regular sampling', 'No, this is the original sampling', 'N/A'],\n",
    "            description='If the data is gridded, was it transformed from a different original sampling?',            \n",
    "            placeholder=PLACEHOLDER,\n",
    "            layout=widgets.Layout(width=WIDGET_WIDTH),\n",
    "            style = DESCRIPTION_STYLE\n",
    "            )\n",
    "\n",
    "\n",
    "dataset_gridded_original_sample = widgets.Combobox(\n",
    "            value=checklist['DataPreparation']['OriginalSamplingAvailable'],\n",
    "            options=['Yes', 'No', 'Only by request', 'N/A'],\n",
    "            description = 'If the data is resampled from the original sampling, is the data also available at the original sampling?',\n",
    "            placeholder=PLACEHOLDER,\n",
    "            layout=widgets.Layout(width=WIDGET_WIDTH),\n",
    "            style = DESCRIPTION_STYLE\n",
    "            )\n",
    "\n",
    "display(dataset_gridded, dataset_gridded_transformed, dataset_gridded_original_sample)"
   ]
  },
  {
   "cell_type": "markdown",
   "id": "55a87005-4929-45c3-a2f6-f0b4eec60de8",
   "metadata": {},
   "source": [
    "### Targets / labels for supervised learning"
   ]
  },
  {
   "cell_type": "code",
   "execution_count": null,
   "id": "e7447fb9-566f-4b99-b5ec-afc9ccc05954",
   "metadata": {
    "jupyter": {
     "source_hidden": true
    }
   },
   "outputs": [],
   "source": [
    "\n",
    "dataset_targets_or_labels = widgets.Combobox(\n",
    "            value=checklist['DataPreparation']['SupervisedLearningLabels'],\n",
    "            options=['Yes', 'No', 'N/A'],\n",
    "            description = '5.4 Are there associated targets or labels for supervised learning techniques?',\n",
    "            placeholder='Click to select option - (Can this be used as a training dataset)?',\n",
    "            layout=widgets.Layout(width=WIDGET_WIDTH),\n",
    "            style = DESCRIPTION_STYLE\n",
    "            )\n",
    "\n",
    "dataset_targets_or_labels_standards_label = widgets.Label(\n",
    "    value = \"If there are associated targets/labels, are community labeling standards implemented?\"\n",
    ")\n",
    "\n",
    "dataset_targets_or_labels_standards = widgets.Text(\n",
    "            value=checklist['DataPreparation']['SupervisedLearningLabelStandards'],\n",
    "            placeholder = 'e.g., STAC label extension, ESA AIREO specification, etc.',\n",
    "            layout = widgets.Layout(width=WIDGET_WIDTH)\n",
    ")\n",
    "\n",
    "display(dataset_targets_or_labels, dataset_targets_or_labels_standards_label, dataset_targets_or_labels_standards)"
   ]
  },
  {
   "cell_type": "code",
   "execution_count": null,
   "id": "a12da54d-ed9f-4c2b-8f0d-dc19a82309e7",
   "metadata": {
    "jupyter": {
     "source_hidden": true
    }
   },
   "outputs": [],
   "source": [
    "\n",
    "# Save button\n",
    "save_button = widgets.Button(description=\"Save Data Access Answers to json file\",  button_style=\"primary\",  layout=widgets.Layout(flex='1 1 auto', width='auto'))\n",
    "\n",
    "def generate_updates_preparation():\n",
    "\n",
    "    updates = {\n",
    "        \"DataPreparation\": {\n",
    "            \"NullValuesFilled\": dataset_null_values.value,\n",
    "            \"OutliersIdentified\": dataset_outliers.value,\n",
    "            \"Gridded\": dataset_gridded.value,\n",
    "            \"TransformedFromOriginal\": dataset_gridded_transformed.value,\n",
    "            \"OriginalSamplingAvailable\": dataset_gridded_original_sample.value, \n",
    "            \"SupervisedLearningLabels\" : dataset_targets_or_labels.value,\n",
    "            \"SupervisedLearningLabelStandards\" : dataset_targets_or_labels_standards.value,\n",
    "          \n",
    "        }\n",
    "    }\n",
    "    return updates\n",
    "\n",
    "save_button.on_click(lambda b: utils.update_checklist(b, generate_updates_preparation()))\n",
    "\n",
    "display(save_button)"
   ]
  },
  {
   "cell_type": "markdown",
   "id": "3824aa9e-9d66-4a2e-a1a2-60139f7c30dd",
   "metadata": {},
   "source": [
    "## Finished"
   ]
  },
  {
   "cell_type": "code",
   "execution_count": null,
   "id": "d35683fe-7d9f-40fa-81fa-99f926702fd6",
   "metadata": {
    "jupyter": {
     "source_hidden": true
    }
   },
   "outputs": [],
   "source": [
    "\n",
    "button_print_json = widgets.Button(description=\"Print json results\",  button_style='info', layout=widgets.Layout(flex='1 1 auto', width='auto'))\n",
    "output = widgets.Output()\n",
    "\n",
    "display(button_print_json, output)\n",
    "\n",
    "def print_json_info(b):\n",
    "    \"\"\"\n",
    "    Loads a copy of the json file to checklist variable. \n",
    "    Then prints the json file contents to Jupyter notebook cell output.\n",
    "\n",
    "    Arguments: b - represents the button calling the function. \n",
    "    \"\"\"\n",
    "    checklist = utils.load_checklist()\n",
    "    with output:\n",
    "        clear_output()\n",
    "        for key, value in checklist.items():\n",
    "            print(f\"{key}:\")\n",
    "            if isinstance(value, dict):\n",
    "                for sub_key, sub_value in value.items():\n",
    "                    print(f\"  {sub_key}: {sub_value}\")\n",
    "            else:\n",
    "                print(f\"  {value}\")\n",
    "\n",
    "button_print_json.on_click(print_json_info)\n"
   ]
  },
  {
   "cell_type": "markdown",
   "id": "c760fc3b-f413-46e4-8a76-31684d83a2d2",
   "metadata": {},
   "source": [
    "---\n",
    "\n",
    "## **Appendix** - Definition of terms used in the checklist."
   ]
  }
 ],
 "metadata": {
  "kernelspec": {
   "display_name": "Python 3 (ipykernel)",
   "language": "python",
   "name": "python3"
  },
  "language_info": {
   "codemirror_mode": {
    "name": "ipython",
    "version": 3
   },
   "file_extension": ".py",
   "mimetype": "text/x-python",
   "name": "python",
   "nbconvert_exporter": "python",
   "pygments_lexer": "ipython3",
   "version": "3.10.16"
  },
  "widgets": {
   "application/vnd.jupyter.widget-state+json": {
    "state": {},
    "version_major": 2,
    "version_minor": 0
   }
  }
 },
 "nbformat": 4,
 "nbformat_minor": 5
}
