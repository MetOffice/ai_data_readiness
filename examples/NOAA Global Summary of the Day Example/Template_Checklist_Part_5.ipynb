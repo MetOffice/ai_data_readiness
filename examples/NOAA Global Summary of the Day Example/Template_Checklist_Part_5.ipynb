{
 "cells": [
  {
   "cell_type": "markdown",
   "id": "1e08378b-6bbe-4203-8b90-1bed8c97a679",
   "metadata": {
    "editable": true,
    "slideshow": {
     "slide_type": ""
    },
    "tags": []
   },
   "source": [
    "\n",
    "<link rel=\"stylesheet\" href=\"https://unpkg.com/thebe@latest/lib/index.css\">\n",
    "<script src=\"https://unpkg.com/thebe@latest/lib/index.js\"></script>\n",
    "\n",
    "<script type=\"text/javascript\">\n",
    "  document.addEventListener(\"DOMContentLoaded\", function() {\n",
    "    thebelab.bootstrap({\n",
    "      requestKernel: true,\n",
    "      binderOptions: {\n",
    "        repo: \"your-repo/your-project\",\n",
    "        ref: \"main\",\n",
    "      },\n",
    "      codeMirrorConfig: {\n",
    "        theme: \"abcdef\",\n",
    "      },\n",
    "    });\n",
    "  });\n",
    "</script>\n"
   ]
  },
  {
   "cell_type": "markdown",
   "id": "f8198bd3-3e2a-444f-bff5-c9647a804ca9",
   "metadata": {
    "editable": true,
    "slideshow": {
     "slide_type": ""
    },
    "tags": []
   },
   "source": [
    "# **Data Readiness For AI Checklist - Part 5**\n",
    "\n",
    " * Affiliation: UK Met Office\n",
    " * History: 1.0\n",
    " * Last update: 25-2-25\n",
    " * © British Crown Copyright 2017-2025, Met Office. Please see LICENSE.md for license details.\n",
    "\n",
    "\n",
    "---"
   ]
  },
  {
   "cell_type": "markdown",
   "id": "4eb841fa-aab5-401b-9e67-1c2e0723c6dd",
   "metadata": {},
   "source": [
    "## **Tutorial Material**\n",
    "\n",
    "* **Run this Jupyter notebook locally using Jupyter Lab**\n",
    "* **Select 'Run All Cells' from the 'Run' menu to generate the checklist**.\n",
    "* **Remember to save your notebook regularly as you work through it to prevent loosing your answers.**\n",
    "\n",
    "\n",
    "## **Data section**\n",
    "\n",
    "We used NOAA's search facility (https://www.ncei.noaa.gov/access/search/data-search/global-summary-of-the-day) to download the Global Surface Summary of the Day data between 1979 and 2024 from the weather station in Exeter, UK. \n",
    "\n",
    "---"
   ]
  },
  {
   "cell_type": "markdown",
   "id": "f6840884-d7bb-43fa-a3e3-8c4106c435e5",
   "metadata": {},
   "source": [
    "## **Setup Notebook**"
   ]
  },
  {
   "cell_type": "code",
   "execution_count": 81,
   "id": "adf3348b-21dc-4d01-8638-6f85bc6e8da8",
   "metadata": {
    "editable": true,
    "slideshow": {
     "slide_type": ""
    },
    "tags": [
     "thebe-init"
    ]
   },
   "outputs": [],
   "source": [
    "import ipywidgets as widgets\n",
    "from IPython.display import display, clear_output\n",
    "import json\n",
    "import sys\n",
    "import os\n",
    "sys.path.append(os.path.abspath('../..')) # Add the parent directory to the system path\n",
    "from utils import *"
   ]
  },
  {
   "cell_type": "code",
   "execution_count": 82,
   "id": "0b769970-71ed-48a7-95fb-da873b6330c8",
   "metadata": {
    "editable": true,
    "slideshow": {
     "slide_type": ""
    },
    "tags": [
     "thebe-init"
    ]
   },
   "outputs": [],
   "source": [
    "# Load checklist from JSON file:\n",
    "checklist = load_checklist()"
   ]
  },
  {
   "cell_type": "markdown",
   "id": "087dd158-2a04-45b5-a0c0-599761f33f94",
   "metadata": {},
   "source": [
    "#### Reset stored answers to start again:"
   ]
  },
  {
   "cell_type": "code",
   "execution_count": 83,
   "id": "a467851d-ee03-46f7-a194-8e516c374b8e",
   "metadata": {
    "jupyter": {
     "source_hidden": true
    }
   },
   "outputs": [],
   "source": [
    "# Reset all checklist answers back to original blank answers for all sections.\n",
    "# Any completed information will be lost. \n",
    "\n",
    "# To reset the stored answers uncomment and run these lines of code below. Re-comment the lines afterwards to avoid them running again. \n",
    "# reset_checklist()\n",
    "# checklist = load_checklist()\n",
    "\n",
    "# You can then re-run each section to reload it on the reset data. "
   ]
  },
  {
   "cell_type": "code",
   "execution_count": 84,
   "id": "d23fc803-c02b-4a51-8d58-4f343b49c39b",
   "metadata": {
    "jupyter": {
     "source_hidden": true
    }
   },
   "outputs": [
    {
     "name": "stdout",
     "output_type": "stream",
     "text": [
      "Dataset: NOAA Global Surface Summary of the Day (GSOD)\n",
      "Dataset link: https://www.ncei.noaa.gov/metadata/geoportal/rest/metadata/item/gov.noaa.ncdc:C00516/html\n",
      "Assessor: John Pill\n",
      "Assessor email: john.pill@metoffice.gov.uk\n"
     ]
    }
   ],
   "source": [
    "\n",
    "print(\"Dataset:\", checklist[\"GeneralInformation\"][\"DatasetName\"])\n",
    "print(\"Dataset link:\", checklist[\"GeneralInformation\"][\"DatasetLink\"])\n",
    "print(\"Assessor:\", checklist[\"GeneralInformation\"][\"AssessorName\"])\n",
    "print(\"Assessor email:\", checklist[\"GeneralInformation\"][\"AssessorEmailAddress\"])"
   ]
  },
  {
   "cell_type": "markdown",
   "id": "a9038985-370a-4a10-96e3-c1bd03c13150",
   "metadata": {},
   "source": [
    "## **Load Data**"
   ]
  },
  {
   "cell_type": "code",
   "execution_count": 85,
   "id": "8d01156c-3111-409d-8f30-3cfc08f3762d",
   "metadata": {},
   "outputs": [],
   "source": [
    "import pandas as pd\n",
    "import numpy as np"
   ]
  },
  {
   "cell_type": "code",
   "execution_count": 86,
   "id": "62782f3e-cc78-4111-a38e-b05abe0de3e9",
   "metadata": {},
   "outputs": [
    {
     "data": {
      "text/html": [
       "<div>\n",
       "<style scoped>\n",
       "    .dataframe tbody tr th:only-of-type {\n",
       "        vertical-align: middle;\n",
       "    }\n",
       "\n",
       "    .dataframe tbody tr th {\n",
       "        vertical-align: top;\n",
       "    }\n",
       "\n",
       "    .dataframe thead th {\n",
       "        text-align: right;\n",
       "    }\n",
       "</style>\n",
       "<table border=\"1\" class=\"dataframe\">\n",
       "  <thead>\n",
       "    <tr style=\"text-align: right;\">\n",
       "      <th></th>\n",
       "      <th>STATION</th>\n",
       "      <th>DATE</th>\n",
       "      <th>DEWP</th>\n",
       "      <th>FRSHTT</th>\n",
       "      <th>GUST</th>\n",
       "      <th>MAX</th>\n",
       "      <th>MIN</th>\n",
       "      <th>MXSPD</th>\n",
       "      <th>PRCP</th>\n",
       "      <th>SLP</th>\n",
       "      <th>SNDP</th>\n",
       "      <th>STP</th>\n",
       "      <th>TEMP</th>\n",
       "      <th>VISIB</th>\n",
       "      <th>WDSP</th>\n",
       "    </tr>\n",
       "  </thead>\n",
       "  <tbody>\n",
       "    <tr>\n",
       "      <th>0</th>\n",
       "      <td>3839099999</td>\n",
       "      <td>1979-01-04</td>\n",
       "      <td>24.1</td>\n",
       "      <td>0</td>\n",
       "      <td>999.9</td>\n",
       "      <td>37.4</td>\n",
       "      <td>30.2</td>\n",
       "      <td>29.9</td>\n",
       "      <td>0.00</td>\n",
       "      <td>1002.9</td>\n",
       "      <td>1.6</td>\n",
       "      <td>999.9</td>\n",
       "      <td>33.9</td>\n",
       "      <td>14.0</td>\n",
       "      <td>23.4</td>\n",
       "    </tr>\n",
       "    <tr>\n",
       "      <th>1</th>\n",
       "      <td>3839099999</td>\n",
       "      <td>1979-01-05</td>\n",
       "      <td>20.7</td>\n",
       "      <td>0</td>\n",
       "      <td>999.9</td>\n",
       "      <td>30.2</td>\n",
       "      <td>21.2</td>\n",
       "      <td>31.1</td>\n",
       "      <td>0.00</td>\n",
       "      <td>1021.1</td>\n",
       "      <td>1.2</td>\n",
       "      <td>999.9</td>\n",
       "      <td>27.4</td>\n",
       "      <td>11.3</td>\n",
       "      <td>14.9</td>\n",
       "    </tr>\n",
       "    <tr>\n",
       "      <th>2</th>\n",
       "      <td>3839099999</td>\n",
       "      <td>1979-01-06</td>\n",
       "      <td>20.7</td>\n",
       "      <td>0</td>\n",
       "      <td>999.9</td>\n",
       "      <td>32.0</td>\n",
       "      <td>15.8</td>\n",
       "      <td>1.9</td>\n",
       "      <td>0.00</td>\n",
       "      <td>1028.7</td>\n",
       "      <td>1.2</td>\n",
       "      <td>999.9</td>\n",
       "      <td>24.3</td>\n",
       "      <td>5.0</td>\n",
       "      <td>1.1</td>\n",
       "    </tr>\n",
       "    <tr>\n",
       "      <th>3</th>\n",
       "      <td>3839099999</td>\n",
       "      <td>1979-01-07</td>\n",
       "      <td>43.0</td>\n",
       "      <td>10000</td>\n",
       "      <td>999.9</td>\n",
       "      <td>48.2</td>\n",
       "      <td>28.4</td>\n",
       "      <td>9.9</td>\n",
       "      <td>0.01</td>\n",
       "      <td>1025.7</td>\n",
       "      <td>0.8</td>\n",
       "      <td>999.9</td>\n",
       "      <td>44.5</td>\n",
       "      <td>9.6</td>\n",
       "      <td>6.7</td>\n",
       "    </tr>\n",
       "    <tr>\n",
       "      <th>4</th>\n",
       "      <td>3839099999</td>\n",
       "      <td>1979-01-08</td>\n",
       "      <td>43.9</td>\n",
       "      <td>110000</td>\n",
       "      <td>999.9</td>\n",
       "      <td>48.2</td>\n",
       "      <td>42.8</td>\n",
       "      <td>5.1</td>\n",
       "      <td>0.04</td>\n",
       "      <td>1019.6</td>\n",
       "      <td>999.9</td>\n",
       "      <td>999.9</td>\n",
       "      <td>45.7</td>\n",
       "      <td>9.4</td>\n",
       "      <td>2.8</td>\n",
       "    </tr>\n",
       "    <tr>\n",
       "      <th>...</th>\n",
       "      <td>...</td>\n",
       "      <td>...</td>\n",
       "      <td>...</td>\n",
       "      <td>...</td>\n",
       "      <td>...</td>\n",
       "      <td>...</td>\n",
       "      <td>...</td>\n",
       "      <td>...</td>\n",
       "      <td>...</td>\n",
       "      <td>...</td>\n",
       "      <td>...</td>\n",
       "      <td>...</td>\n",
       "      <td>...</td>\n",
       "      <td>...</td>\n",
       "      <td>...</td>\n",
       "    </tr>\n",
       "    <tr>\n",
       "      <th>16352</th>\n",
       "      <td>3839099999</td>\n",
       "      <td>2023-12-31</td>\n",
       "      <td>41.6</td>\n",
       "      <td>10000</td>\n",
       "      <td>32.1</td>\n",
       "      <td>51.8</td>\n",
       "      <td>44.6</td>\n",
       "      <td>20.0</td>\n",
       "      <td>99.99</td>\n",
       "      <td>9999.9</td>\n",
       "      <td>999.9</td>\n",
       "      <td>999.9</td>\n",
       "      <td>47.6</td>\n",
       "      <td>6.2</td>\n",
       "      <td>14.9</td>\n",
       "    </tr>\n",
       "    <tr>\n",
       "      <th>16353</th>\n",
       "      <td>3839099999</td>\n",
       "      <td>2024-01-01</td>\n",
       "      <td>45.2</td>\n",
       "      <td>10000</td>\n",
       "      <td>999.9</td>\n",
       "      <td>51.8</td>\n",
       "      <td>41.0</td>\n",
       "      <td>17.1</td>\n",
       "      <td>99.99</td>\n",
       "      <td>9999.9</td>\n",
       "      <td>999.9</td>\n",
       "      <td>999.9</td>\n",
       "      <td>48.1</td>\n",
       "      <td>5.6</td>\n",
       "      <td>10.4</td>\n",
       "    </tr>\n",
       "    <tr>\n",
       "      <th>16354</th>\n",
       "      <td>3839099999</td>\n",
       "      <td>2024-01-02</td>\n",
       "      <td>48.4</td>\n",
       "      <td>10000</td>\n",
       "      <td>46.0</td>\n",
       "      <td>57.2</td>\n",
       "      <td>48.2</td>\n",
       "      <td>29.9</td>\n",
       "      <td>99.99</td>\n",
       "      <td>9999.9</td>\n",
       "      <td>999.9</td>\n",
       "      <td>999.9</td>\n",
       "      <td>52.1</td>\n",
       "      <td>5.7</td>\n",
       "      <td>15.8</td>\n",
       "    </tr>\n",
       "    <tr>\n",
       "      <th>16355</th>\n",
       "      <td>3839099999</td>\n",
       "      <td>2024-01-03</td>\n",
       "      <td>44.9</td>\n",
       "      <td>10000</td>\n",
       "      <td>22.9</td>\n",
       "      <td>51.8</td>\n",
       "      <td>46.4</td>\n",
       "      <td>14.0</td>\n",
       "      <td>99.99</td>\n",
       "      <td>9999.9</td>\n",
       "      <td>999.9</td>\n",
       "      <td>999.9</td>\n",
       "      <td>49.1</td>\n",
       "      <td>6.1</td>\n",
       "      <td>9.6</td>\n",
       "    </tr>\n",
       "    <tr>\n",
       "      <th>16356</th>\n",
       "      <td>3839099999</td>\n",
       "      <td>2024-01-04</td>\n",
       "      <td>40.8</td>\n",
       "      <td>10000</td>\n",
       "      <td>999.9</td>\n",
       "      <td>44.6</td>\n",
       "      <td>41.0</td>\n",
       "      <td>14.0</td>\n",
       "      <td>99.99</td>\n",
       "      <td>9999.9</td>\n",
       "      <td>999.9</td>\n",
       "      <td>999.9</td>\n",
       "      <td>43.2</td>\n",
       "      <td>5.6</td>\n",
       "      <td>7.2</td>\n",
       "    </tr>\n",
       "  </tbody>\n",
       "</table>\n",
       "<p>16357 rows × 15 columns</p>\n",
       "</div>"
      ],
      "text/plain": [
       "          STATION        DATE  DEWP  FRSHTT   GUST   MAX   MIN  MXSPD   PRCP  \\\n",
       "0      3839099999  1979-01-04  24.1       0  999.9  37.4  30.2   29.9   0.00   \n",
       "1      3839099999  1979-01-05  20.7       0  999.9  30.2  21.2   31.1   0.00   \n",
       "2      3839099999  1979-01-06  20.7       0  999.9  32.0  15.8    1.9   0.00   \n",
       "3      3839099999  1979-01-07  43.0   10000  999.9  48.2  28.4    9.9   0.01   \n",
       "4      3839099999  1979-01-08  43.9  110000  999.9  48.2  42.8    5.1   0.04   \n",
       "...           ...         ...   ...     ...    ...   ...   ...    ...    ...   \n",
       "16352  3839099999  2023-12-31  41.6   10000   32.1  51.8  44.6   20.0  99.99   \n",
       "16353  3839099999  2024-01-01  45.2   10000  999.9  51.8  41.0   17.1  99.99   \n",
       "16354  3839099999  2024-01-02  48.4   10000   46.0  57.2  48.2   29.9  99.99   \n",
       "16355  3839099999  2024-01-03  44.9   10000   22.9  51.8  46.4   14.0  99.99   \n",
       "16356  3839099999  2024-01-04  40.8   10000  999.9  44.6  41.0   14.0  99.99   \n",
       "\n",
       "          SLP   SNDP    STP  TEMP  VISIB  WDSP  \n",
       "0      1002.9    1.6  999.9  33.9   14.0  23.4  \n",
       "1      1021.1    1.2  999.9  27.4   11.3  14.9  \n",
       "2      1028.7    1.2  999.9  24.3    5.0   1.1  \n",
       "3      1025.7    0.8  999.9  44.5    9.6   6.7  \n",
       "4      1019.6  999.9  999.9  45.7    9.4   2.8  \n",
       "...       ...    ...    ...   ...    ...   ...  \n",
       "16352  9999.9  999.9  999.9  47.6    6.2  14.9  \n",
       "16353  9999.9  999.9  999.9  48.1    5.6  10.4  \n",
       "16354  9999.9  999.9  999.9  52.1    5.7  15.8  \n",
       "16355  9999.9  999.9  999.9  49.1    6.1   9.6  \n",
       "16356  9999.9  999.9  999.9  43.2    5.6   7.2  \n",
       "\n",
       "[16357 rows x 15 columns]"
      ]
     },
     "execution_count": 86,
     "metadata": {},
     "output_type": "execute_result"
    }
   ],
   "source": [
    "file_path = \"Data/NOAA_GSOD_Exeter_1979_2024.csv\"\n",
    "df = pd.read_csv(file_path)\n",
    "df"
   ]
  },
  {
   "cell_type": "markdown",
   "id": "0ef2f783-495b-406e-8c25-5258c410520c",
   "metadata": {},
   "source": [
    "---\n",
    "\n",
    "## **5. Data Preparation**"
   ]
  },
  {
   "cell_type": "markdown",
   "id": "fc47836b-19bb-4d24-b500-884d9e754f78",
   "metadata": {},
   "source": [
    "### Null values"
   ]
  },
  {
   "cell_type": "code",
   "execution_count": 87,
   "id": "f9546495-3a92-4838-9527-6927c1d51fb1",
   "metadata": {},
   "outputs": [],
   "source": [
    "def print_null_percent(df):\n",
    "    \"\"\"\n",
    "    Prints the count and percentage of null values in each column of a DataFrame.\n",
    "\n",
    "    Parameters:\n",
    "    df (pandas.DataFrame): The DataFrame for which to calculate and print \n",
    "                           the count and percentage of missing values.\n",
    "    \"\"\"\n",
    "    missing_count = df.isna().sum()\n",
    "    missing_percentage = missing_count / len(df) * 100\n",
    "    formatted_percentage = missing_percentage.apply(lambda x: f\"{x:.1f}%\")\n",
    "\n",
    "   # Create a new DataFrame with both counts and formatted percentages\n",
    "    result_df = pd.DataFrame({\n",
    "        'Count': missing_count,\n",
    "        'Percent': formatted_percentage\n",
    "    })\n",
    "    \n",
    "    print(\"PERCENTAGE OF NULL VALUES\\n\")\n",
    "    print(result_df)"
   ]
  },
  {
   "cell_type": "code",
   "execution_count": 88,
   "id": "5831dc0f-e3a0-4d40-8fce-2e09e5e3c88e",
   "metadata": {},
   "outputs": [
    {
     "name": "stdout",
     "output_type": "stream",
     "text": [
      "PERCENTAGE OF NULL VALUES\n",
      "\n",
      "         Count Percent\n",
      "STATION      0    0.0%\n",
      "DATE         0    0.0%\n",
      "DEWP         0    0.0%\n",
      "FRSHTT       0    0.0%\n",
      "GUST         0    0.0%\n",
      "MAX          0    0.0%\n",
      "MIN          0    0.0%\n",
      "MXSPD        0    0.0%\n",
      "PRCP         0    0.0%\n",
      "SLP          0    0.0%\n",
      "SNDP         0    0.0%\n",
      "STP          0    0.0%\n",
      "TEMP         0    0.0%\n",
      "VISIB        0    0.0%\n",
      "WDSP         0    0.0%\n"
     ]
    }
   ],
   "source": [
    "print_null_percent(df)"
   ]
  },
  {
   "cell_type": "code",
   "execution_count": 89,
   "id": "7a5d8682-5697-40d3-8027-f69c32c25eb5",
   "metadata": {},
   "outputs": [],
   "source": [
    "def mask_values(df, values_to_mask, new_value):\n",
    "    \"\"\"\n",
    "    Masks specified values in a DataFrame and replaces them with a specified value.\n",
    "\n",
    "    Parameters:\n",
    "    df (pandas.DataFrame): The DataFrame in which to mask the specified values.\n",
    "    values_to_mask: An array of values to replace.\n",
    "    new_value: The new value you wish to replace the values with in values_to_mask.\n",
    "\n",
    "    Returns:\n",
    "    pandas.DataFrame: A new DataFrame with the specified values replaced with a new value.\n",
    "    \"\"\"\n",
    "    df_masked = df.mask(df.isin(values_to_mask), new_value)\n",
    "    return df_masked"
   ]
  },
  {
   "cell_type": "code",
   "execution_count": 90,
   "id": "d6e5fad6-8ad6-4d4a-ab80-a81f29a3d9d3",
   "metadata": {},
   "outputs": [
    {
     "name": "stdout",
     "output_type": "stream",
     "text": [
      "PERCENTAGE OF NULL VALUES\n",
      "\n",
      "         Count Percent\n",
      "STATION      0    0.0%\n",
      "DATE         0    0.0%\n",
      "DEWP        58    0.4%\n",
      "FRSHTT       0    0.0%\n",
      "GUST     13332   81.5%\n",
      "MAX         11    0.1%\n",
      "MIN         12    0.1%\n",
      "MXSPD       72    0.4%\n",
      "PRCP      4635   28.3%\n",
      "SLP      11834   72.3%\n",
      "SNDP     16282   99.5%\n",
      "STP      16357  100.0%\n",
      "TEMP         0    0.0%\n",
      "VISIB       51    0.3%\n",
      "WDSP         6    0.0%\n"
     ]
    }
   ],
   "source": [
    "# Whilst there are no null values in the dataset,by reading the dataset documentation it is clear that there are lots of missing values. \n",
    "# These are imputed with all 9 numbers. Lets replace these values with NaN representing missing values and re-assess the dataset. \n",
    "\n",
    "# Define the values to replace - these are specified in the dataset documentation. \n",
    "values_to_mask = [9999.9, 999.9, 99.99]\n",
    "\n",
    "# Call the mask_values function and pass the dataframe, an array of values to mask and a new value of Nan.\n",
    "df_masked = mask_values(df, values_to_mask, np.nan)\n",
    "\n",
    "# Use the print_null_percent function to re-assess the dataset for null values. \n",
    "print_null_percent(df_masked)"
   ]
  },
  {
   "cell_type": "code",
   "execution_count": 91,
   "id": "598d7fa2-f6c6-451e-9b12-a282d6a70be7",
   "metadata": {
    "jupyter": {
     "source_hidden": true
    }
   },
   "outputs": [
    {
     "data": {
      "application/vnd.jupyter.widget-view+json": {
       "model_id": "2677687ccd2c4c53b4b8881e241c53bb",
       "version_major": 2,
       "version_minor": 0
      },
      "text/plain": [
       "Combobox(value='No', description='5.1 Have null values/gaps been filled?', layout=Layout(width='900px'), optio…"
      ]
     },
     "metadata": {},
     "output_type": "display_data"
    }
   ],
   "source": [
    "\n",
    "dataset_null_values = widgets.Combobox(\n",
    "            value=checklist['DataPreparation']['NullValuesFilled'],\n",
    "            options=['Yes', 'No', 'N/A'],\n",
    "            description='5.1 Have null values/gaps been filled?',\n",
    "            placeholder=placeholder,\n",
    "            layout=widgets.Layout(width=widget_width),\n",
    "            style = description_style\n",
    "            )\n",
    "\n",
    "display(dataset_null_values)"
   ]
  },
  {
   "cell_type": "markdown",
   "id": "8cc450ae-d5bb-464d-bc4d-da3f09bcca06",
   "metadata": {},
   "source": [
    "### Outliers"
   ]
  },
  {
   "cell_type": "code",
   "execution_count": 92,
   "id": "8d71912c-4f1d-4c5d-8e02-ace03ab8d704",
   "metadata": {},
   "outputs": [
    {
     "data": {
      "text/html": [
       "<div>\n",
       "<style scoped>\n",
       "    .dataframe tbody tr th:only-of-type {\n",
       "        vertical-align: middle;\n",
       "    }\n",
       "\n",
       "    .dataframe tbody tr th {\n",
       "        vertical-align: top;\n",
       "    }\n",
       "\n",
       "    .dataframe thead th {\n",
       "        text-align: right;\n",
       "    }\n",
       "</style>\n",
       "<table border=\"1\" class=\"dataframe\">\n",
       "  <thead>\n",
       "    <tr style=\"text-align: right;\">\n",
       "      <th></th>\n",
       "      <th>STATION</th>\n",
       "      <th>DEWP</th>\n",
       "      <th>FRSHTT</th>\n",
       "      <th>GUST</th>\n",
       "      <th>MAX</th>\n",
       "      <th>MIN</th>\n",
       "      <th>MXSPD</th>\n",
       "      <th>PRCP</th>\n",
       "      <th>SLP</th>\n",
       "      <th>SNDP</th>\n",
       "      <th>STP</th>\n",
       "      <th>TEMP</th>\n",
       "      <th>VISIB</th>\n",
       "      <th>WDSP</th>\n",
       "    </tr>\n",
       "  </thead>\n",
       "  <tbody>\n",
       "    <tr>\n",
       "      <th>count</th>\n",
       "      <td>1.635700e+04</td>\n",
       "      <td>16299.000000</td>\n",
       "      <td>16357.000000</td>\n",
       "      <td>3025.000000</td>\n",
       "      <td>16346.000000</td>\n",
       "      <td>16345.000000</td>\n",
       "      <td>16285.000000</td>\n",
       "      <td>11722.000000</td>\n",
       "      <td>4523.000000</td>\n",
       "      <td>75.000000</td>\n",
       "      <td>0.0</td>\n",
       "      <td>16357.000000</td>\n",
       "      <td>16306.000000</td>\n",
       "      <td>16351.000000</td>\n",
       "    </tr>\n",
       "    <tr>\n",
       "      <th>mean</th>\n",
       "      <td>3.839100e+09</td>\n",
       "      <td>45.964967</td>\n",
       "      <td>18437.174971</td>\n",
       "      <td>30.972926</td>\n",
       "      <td>58.353108</td>\n",
       "      <td>44.147085</td>\n",
       "      <td>14.045484</td>\n",
       "      <td>0.050111</td>\n",
       "      <td>1015.902808</td>\n",
       "      <td>3.696000</td>\n",
       "      <td>NaN</td>\n",
       "      <td>51.803093</td>\n",
       "      <td>7.555225</td>\n",
       "      <td>7.852859</td>\n",
       "    </tr>\n",
       "    <tr>\n",
       "      <th>std</th>\n",
       "      <td>0.000000e+00</td>\n",
       "      <td>8.408016</td>\n",
       "      <td>33052.927721</td>\n",
       "      <td>7.661645</td>\n",
       "      <td>9.912612</td>\n",
       "      <td>9.087545</td>\n",
       "      <td>5.365024</td>\n",
       "      <td>0.148872</td>\n",
       "      <td>10.704444</td>\n",
       "      <td>14.124652</td>\n",
       "      <td>NaN</td>\n",
       "      <td>8.925665</td>\n",
       "      <td>4.358479</td>\n",
       "      <td>3.816827</td>\n",
       "    </tr>\n",
       "    <tr>\n",
       "      <th>min</th>\n",
       "      <td>3.839100e+09</td>\n",
       "      <td>8.600000</td>\n",
       "      <td>0.000000</td>\n",
       "      <td>11.100000</td>\n",
       "      <td>23.400000</td>\n",
       "      <td>2.300000</td>\n",
       "      <td>1.000000</td>\n",
       "      <td>0.000000</td>\n",
       "      <td>960.600000</td>\n",
       "      <td>0.400000</td>\n",
       "      <td>NaN</td>\n",
       "      <td>13.600000</td>\n",
       "      <td>0.100000</td>\n",
       "      <td>0.000000</td>\n",
       "    </tr>\n",
       "    <tr>\n",
       "      <th>25%</th>\n",
       "      <td>3.839100e+09</td>\n",
       "      <td>40.200000</td>\n",
       "      <td>0.000000</td>\n",
       "      <td>26.000000</td>\n",
       "      <td>51.800000</td>\n",
       "      <td>37.400000</td>\n",
       "      <td>9.900000</td>\n",
       "      <td>0.000000</td>\n",
       "      <td>1009.500000</td>\n",
       "      <td>0.400000</td>\n",
       "      <td>NaN</td>\n",
       "      <td>45.600000</td>\n",
       "      <td>5.800000</td>\n",
       "      <td>5.000000</td>\n",
       "    </tr>\n",
       "    <tr>\n",
       "      <th>50%</th>\n",
       "      <td>3.839100e+09</td>\n",
       "      <td>46.600000</td>\n",
       "      <td>10000.000000</td>\n",
       "      <td>29.900000</td>\n",
       "      <td>57.200000</td>\n",
       "      <td>44.600000</td>\n",
       "      <td>13.000000</td>\n",
       "      <td>0.000000</td>\n",
       "      <td>1017.100000</td>\n",
       "      <td>1.200000</td>\n",
       "      <td>NaN</td>\n",
       "      <td>52.000000</td>\n",
       "      <td>6.300000</td>\n",
       "      <td>7.300000</td>\n",
       "    </tr>\n",
       "    <tr>\n",
       "      <th>75%</th>\n",
       "      <td>3.839100e+09</td>\n",
       "      <td>52.400000</td>\n",
       "      <td>10000.000000</td>\n",
       "      <td>35.000000</td>\n",
       "      <td>66.200000</td>\n",
       "      <td>51.600000</td>\n",
       "      <td>17.100000</td>\n",
       "      <td>0.010000</td>\n",
       "      <td>1023.300000</td>\n",
       "      <td>2.000000</td>\n",
       "      <td>NaN</td>\n",
       "      <td>58.800000</td>\n",
       "      <td>7.000000</td>\n",
       "      <td>10.100000</td>\n",
       "    </tr>\n",
       "    <tr>\n",
       "      <th>max</th>\n",
       "      <td>3.839100e+09</td>\n",
       "      <td>65.800000</td>\n",
       "      <td>111010.000000</td>\n",
       "      <td>74.000000</td>\n",
       "      <td>91.400000</td>\n",
       "      <td>73.400000</td>\n",
       "      <td>56.900000</td>\n",
       "      <td>3.230000</td>\n",
       "      <td>1045.400000</td>\n",
       "      <td>116.500000</td>\n",
       "      <td>NaN</td>\n",
       "      <td>77.100000</td>\n",
       "      <td>37.700000</td>\n",
       "      <td>29.800000</td>\n",
       "    </tr>\n",
       "  </tbody>\n",
       "</table>\n",
       "</div>"
      ],
      "text/plain": [
       "            STATION          DEWP         FRSHTT         GUST           MAX  \\\n",
       "count  1.635700e+04  16299.000000   16357.000000  3025.000000  16346.000000   \n",
       "mean   3.839100e+09     45.964967   18437.174971    30.972926     58.353108   \n",
       "std    0.000000e+00      8.408016   33052.927721     7.661645      9.912612   \n",
       "min    3.839100e+09      8.600000       0.000000    11.100000     23.400000   \n",
       "25%    3.839100e+09     40.200000       0.000000    26.000000     51.800000   \n",
       "50%    3.839100e+09     46.600000   10000.000000    29.900000     57.200000   \n",
       "75%    3.839100e+09     52.400000   10000.000000    35.000000     66.200000   \n",
       "max    3.839100e+09     65.800000  111010.000000    74.000000     91.400000   \n",
       "\n",
       "                MIN         MXSPD          PRCP          SLP        SNDP  STP  \\\n",
       "count  16345.000000  16285.000000  11722.000000  4523.000000   75.000000  0.0   \n",
       "mean      44.147085     14.045484      0.050111  1015.902808    3.696000  NaN   \n",
       "std        9.087545      5.365024      0.148872    10.704444   14.124652  NaN   \n",
       "min        2.300000      1.000000      0.000000   960.600000    0.400000  NaN   \n",
       "25%       37.400000      9.900000      0.000000  1009.500000    0.400000  NaN   \n",
       "50%       44.600000     13.000000      0.000000  1017.100000    1.200000  NaN   \n",
       "75%       51.600000     17.100000      0.010000  1023.300000    2.000000  NaN   \n",
       "max       73.400000     56.900000      3.230000  1045.400000  116.500000  NaN   \n",
       "\n",
       "               TEMP         VISIB          WDSP  \n",
       "count  16357.000000  16306.000000  16351.000000  \n",
       "mean      51.803093      7.555225      7.852859  \n",
       "std        8.925665      4.358479      3.816827  \n",
       "min       13.600000      0.100000      0.000000  \n",
       "25%       45.600000      5.800000      5.000000  \n",
       "50%       52.000000      6.300000      7.300000  \n",
       "75%       58.800000      7.000000     10.100000  \n",
       "max       77.100000     37.700000     29.800000  "
      ]
     },
     "execution_count": 92,
     "metadata": {},
     "output_type": "execute_result"
    }
   ],
   "source": [
    "# Lets work with our new df_masked dataframe as the high 999 values where not necessarily outliers, but imputed values. \n",
    "\n",
    "\n",
    "# DESCRIBE\n",
    "\n",
    "# First we could check key statistics relating to our dataset and review the min and max values to assess whether they might include outliers, particularly when considering the mean. \n",
    "\n",
    "df_masked.describe()\n"
   ]
  },
  {
   "cell_type": "code",
   "execution_count": 93,
   "id": "37971ce1-e3d9-4d6c-9d59-b8d76c2eb15c",
   "metadata": {},
   "outputs": [],
   "source": [
    "# VISUALISE\n",
    "\n",
    "# Next, we could visualise the values for each column to try and assess if there are values which lie outside the expected range. "
   ]
  },
  {
   "cell_type": "code",
   "execution_count": 94,
   "id": "97a2837d-c109-4427-8cd7-3b7710a36fef",
   "metadata": {},
   "outputs": [],
   "source": [
    "def plot_violin_graphs(dataframe, column_feature_names):\n",
    "    \"\"\"\n",
    "    Creates violin plots for columns. Useful tolook for outlier values.\n",
    "    Arguments - a Pandas DataFrame and a list of DataFrame column names\n",
    "    \"\"\"\n",
    "    fig, axes = plt.subplots(nrows=1, ncols=len(column_feature_names), figsize=(18,5))\n",
    "\n",
    "    for i, column in enumerate(dataframe[column_feature_names]):\n",
    "        sns.violinplot(y=dataframe[column], ax=axes[i])\n",
    "        # axes[i].set_title(column)\n",
    "\n",
    "    plt.tight_layout()    \n",
    "    plt.show() \n"
   ]
  },
  {
   "cell_type": "code",
   "execution_count": 95,
   "id": "5378add2-4cc5-476b-90f8-3fe2c8a4cce5",
   "metadata": {},
   "outputs": [
    {
     "data": {
      "image/png": "[encoded data removed]",
      "text/plain": [
       "<Figure size 1800x500 with 13 Axes>"
      ]
     },
     "metadata": {},
     "output_type": "display_data"
    }
   ],
   "source": [
    "import matplotlib.pyplot as plt\n",
    "import seaborn as sns\n",
    "\n",
    "# Create a list of feature column names by dropping columns with unhelpful data such as station ID, and date. \n",
    "column_feature_names = df.drop(['STATION', 'DATE'], axis=1).columns\n",
    "\n",
    "# Call the plot_violin_graphs function passing the dataframe and columns to plot. \n",
    "plot_violin_graphs(df_masked, column_feature_names)"
   ]
  },
  {
   "cell_type": "code",
   "execution_count": 96,
   "id": "5f318bd2-8431-44a4-b2d1-33a21ba2e855",
   "metadata": {},
   "outputs": [],
   "source": [
    "# Z-SCORE \n",
    "\n",
    "# Calculating the z-score can also help to identify outliers. \n",
    "# The z score is an indication of how many standard deviations from the mean data point. \n",
    "# A z score of more than 2 could be an outlier. A z score of more than 3 is more likely to be an outlier. "
   ]
  },
  {
   "cell_type": "code",
   "execution_count": 97,
   "id": "43d0d316-919d-4611-a9d0-cb8a3ca07375",
   "metadata": {},
   "outputs": [],
   "source": [
    "def print_z_scores(df):\n",
    "    \"\"\"\n",
    "    Calculate and print the number of z-scores in a DataFrame that exceed specified thresholds.\n",
    "\n",
    "    This function computes the z-scores for each column in the provided DataFrame,\n",
    "    counts how many of these z-scores are greater than 2 and 3 in absolute value,\n",
    "    and prints the results.\n",
    "\n",
    "    Parameters:\n",
    "    df (pd.DataFrame): A pandas DataFrame containing numerical data for which z-scores \n",
    "                       will be calculated.\n",
    "    \"\"\"\n",
    "    z_scores = df.apply(zscore)\n",
    "    abs_z_scores = abs(z_scores)\n",
    "    high_z_scores_2 = (abs_z_scores > 2).sum().sum()\n",
    "    high_z_scores_3 = (abs_z_scores > 3).sum().sum()\n",
    "    \n",
    "    print('Number of values with a z-score greater than 2:', high_z_scores_2)\n",
    "    print('Number of values with a z-score greater than 3:', high_z_scores_3)\n",
    "    print('Total z_scores:', len(z_scores))"
   ]
  },
  {
   "cell_type": "code",
   "execution_count": 98,
   "id": "8e6c0eab-bf10-49b3-87f5-64c37f330c3b",
   "metadata": {},
   "outputs": [
    {
     "name": "stdout",
     "output_type": "stream",
     "text": [
      "Number of values with a z-score greater than 2: 2626\n",
      "Number of values with a z-score greater than 3: 15\n",
      "Total z_scores: 16357\n"
     ]
    }
   ],
   "source": [
    "from scipy.stats import zscore\n",
    "\n",
    "# Call the print_z_scores function and pass the masked dataframe with the column_feature_names selected. \n",
    "print_z_scores(df_masked[column_feature_names])"
   ]
  },
  {
   "cell_type": "code",
   "execution_count": 99,
   "id": "8c912605-887f-4b59-b07a-34dfbdc2bc8d",
   "metadata": {
    "jupyter": {
     "source_hidden": true
    }
   },
   "outputs": [
    {
     "data": {
      "application/vnd.jupyter.widget-view+json": {
       "model_id": "e3a1b81649524c93bc92cbf20f1a6308",
       "version_major": 2,
       "version_minor": 0
      },
      "text/plain": [
       "Combobox(value='No', description='5.2 Have outliers been identified?', layout=Layout(width='900px'), options=(…"
      ]
     },
     "metadata": {},
     "output_type": "display_data"
    }
   ],
   "source": [
    "\n",
    "dataset_outliers = widgets.Combobox(\n",
    "            value=checklist['DataPreparation']['OutliersIdentified'],\n",
    "            options=['Yes, tagged ', 'Yes, removed', 'No', 'N/A'],\n",
    "            description='5.2 Have outliers been identified?',\n",
    "            placeholder=placeholder,\n",
    "            layout=widgets.Layout(width=widget_width),\n",
    "            style = description_style\n",
    "            )\n",
    "\n",
    "display(dataset_outliers)\n"
   ]
  },
  {
   "cell_type": "markdown",
   "id": "ad80647b-e571-4b0c-a291-c75c76b867fd",
   "metadata": {},
   "source": [
    "### Gridded data\n"
   ]
  },
  {
   "cell_type": "code",
   "execution_count": 100,
   "id": "45f3adc6-7550-488b-923d-c3d17a912b89",
   "metadata": {
    "jupyter": {
     "source_hidden": true
    }
   },
   "outputs": [
    {
     "data": {
      "application/vnd.jupyter.widget-view+json": {
       "model_id": "1a481fe64f304027b2e0342d857a0296",
       "version_major": 2,
       "version_minor": 0
      },
      "text/plain": [
       "Combobox(value='Not gridded', description='5.3 Is the data gridded (regularly sampled in time and space)?', la…"
      ]
     },
     "metadata": {},
     "output_type": "display_data"
    },
    {
     "data": {
      "application/vnd.jupyter.widget-view+json": {
       "model_id": "ac7db0829cd047958087260bac477d08",
       "version_major": 2,
       "version_minor": 0
      },
      "text/plain": [
       "Combobox(value='', description='If the data is gridded, was it transformed from a different original sampling?…"
      ]
     },
     "metadata": {},
     "output_type": "display_data"
    },
    {
     "data": {
      "application/vnd.jupyter.widget-view+json": {
       "model_id": "3cee0f9f30f843aa8f09bc0e7cdf01c4",
       "version_major": 2,
       "version_minor": 0
      },
      "text/plain": [
       "Combobox(value='', description='If the data is resampled from the original sampling, is the data also availabl…"
      ]
     },
     "metadata": {},
     "output_type": "display_data"
    }
   ],
   "source": [
    "\n",
    "dataset_gridded = widgets.Combobox(\n",
    "            value=checklist['DataPreparation']['Gridded'],\n",
    "            options=['Regularly gridded in space', 'Constant time-frequency', 'Regularly gridded in space and constant time-frequency', 'Not gridded', 'N/A'],\n",
    "            description='5.3 Is the data gridded (regularly sampled in time and space)?',\n",
    "            placeholder=placeholder,\n",
    "            layout=widgets.Layout(width=widget_width),\n",
    "            style = description_style\n",
    "            )\n",
    "\n",
    "dataset_gridded_transformed = widgets.Combobox(\n",
    "            value=checklist['DataPreparation']['TransformedFromOriginal'],\n",
    "            options=['Yes, from irregular sampling', 'Yes, from a different regular sampling', 'No, this is the original sampling', 'N/A'],\n",
    "            description='If the data is gridded, was it transformed from a different original sampling?',            \n",
    "            placeholder=placeholder,\n",
    "            layout=widgets.Layout(width=widget_width),\n",
    "            style = description_style\n",
    "            )\n",
    "\n",
    "\n",
    "dataset_gridded_original_sample = widgets.Combobox(\n",
    "            value=checklist['DataPreparation']['OriginalSamplingAvailable'],\n",
    "            options=['Yes', 'No', 'Only by request', 'N/A'],\n",
    "            description = 'If the data is resampled from the original sampling, is the data also available at the original sampling?',\n",
    "            placeholder=placeholder,\n",
    "            layout=widgets.Layout(width=widget_width),\n",
    "            style = description_style\n",
    "            )\n",
    "\n",
    "display(dataset_gridded, dataset_gridded_transformed, dataset_gridded_original_sample)"
   ]
  },
  {
   "cell_type": "markdown",
   "id": "55a87005-4929-45c3-a2f6-f0b4eec60de8",
   "metadata": {},
   "source": [
    "### Targets / labels for supervised learning"
   ]
  },
  {
   "cell_type": "code",
   "execution_count": 101,
   "id": "e7447fb9-566f-4b99-b5ec-afc9ccc05954",
   "metadata": {
    "jupyter": {
     "source_hidden": true
    }
   },
   "outputs": [
    {
     "data": {
      "application/vnd.jupyter.widget-view+json": {
       "model_id": "afa3b610ab064f759fd8bf9c451d99d1",
       "version_major": 2,
       "version_minor": 0
      },
      "text/plain": [
       "Combobox(value='No', description='5.4 Are there associated targets or labels for supervised learning technique…"
      ]
     },
     "metadata": {},
     "output_type": "display_data"
    },
    {
     "data": {
      "application/vnd.jupyter.widget-view+json": {
       "model_id": "01aa98a85dbd491793079b7ba169e3a0",
       "version_major": 2,
       "version_minor": 0
      },
      "text/plain": [
       "Label(value='If there are associated targets/labels, are community labeling standards implemented?')"
      ]
     },
     "metadata": {},
     "output_type": "display_data"
    },
    {
     "data": {
      "application/vnd.jupyter.widget-view+json": {
       "model_id": "b01b8d65ec1144a48b59d4578149fe16",
       "version_major": 2,
       "version_minor": 0
      },
      "text/plain": [
       "Text(value='', layout=Layout(width='900px'), placeholder='e.g., STAC label extension, ESA AIREO specification,…"
      ]
     },
     "metadata": {},
     "output_type": "display_data"
    }
   ],
   "source": [
    "\n",
    "dataset_targets_or_labels = widgets.Combobox(\n",
    "            value=checklist['DataPreparation']['SupervisedLearningLabels'],\n",
    "            options=['Yes', 'No', 'N/A'],\n",
    "            description = '5.4 Are there associated targets or labels for supervised learning techniques?',\n",
    "            placeholder='Click to select option - (Can this be used as a training dataset)?',\n",
    "            layout=widgets.Layout(width=widget_width),\n",
    "            style = description_style\n",
    "            )\n",
    "\n",
    "dataset_targets_or_labels_standards_label = widgets.Label(\n",
    "    value = \"If there are associated targets/labels, are community labeling standards implemented?\"\n",
    ")\n",
    "\n",
    "dataset_targets_or_labels_standards = widgets.Text(\n",
    "            value=checklist['DataPreparation']['SupervisedLearningLabelStandards'],\n",
    "            placeholder = 'e.g., STAC label extension, ESA AIREO specification, etc.',\n",
    "            layout = widgets.Layout(width=widget_width)\n",
    ")\n",
    "\n",
    "display(dataset_targets_or_labels, dataset_targets_or_labels_standards_label, dataset_targets_or_labels_standards)"
   ]
  },
  {
   "cell_type": "code",
   "execution_count": 102,
   "id": "a12da54d-ed9f-4c2b-8f0d-dc19a82309e7",
   "metadata": {
    "jupyter": {
     "source_hidden": true
    }
   },
   "outputs": [
    {
     "data": {
      "application/vnd.jupyter.widget-view+json": {
       "model_id": "392b72487fb64cb19d48f83df648f30d",
       "version_major": 2,
       "version_minor": 0
      },
      "text/plain": [
       "Button(button_style='primary', description='Save Data Access Answers to json file', layout=Layout(flex='1 1 au…"
      ]
     },
     "metadata": {},
     "output_type": "display_data"
    }
   ],
   "source": [
    "\n",
    "# Save button\n",
    "save_button = widgets.Button(description=\"Save Data Access Answers to json file\",  button_style=\"primary\",  layout=widgets.Layout(flex='1 1 auto', width='auto'))\n",
    "\n",
    "def generate_updates_preparation():\n",
    "\n",
    "    updates = {\n",
    "        \"DataPreparation\": {\n",
    "            \"NullValuesFilled\": dataset_null_values.value,\n",
    "            \"OutliersIdentified\": dataset_outliers.value,\n",
    "            \"Gridded\": dataset_gridded.value,\n",
    "            \"TransformedFromOriginal\": dataset_gridded_transformed.value,\n",
    "            \"OriginalSamplingAvailable\": dataset_gridded_original_sample.value, \n",
    "            \"SupervisedLearningLabels\" : dataset_targets_or_labels.value,\n",
    "            \"SupervisedLearningLabelStandards\" : dataset_targets_or_labels_standards.value,\n",
    "          \n",
    "        }\n",
    "    }\n",
    "    return updates\n",
    "\n",
    "save_button.on_click(lambda b: update_checklist(b, generate_updates_preparation()))\n",
    "\n",
    "display(save_button)"
   ]
  },
  {
   "cell_type": "markdown",
   "id": "3824aa9e-9d66-4a2e-a1a2-60139f7c30dd",
   "metadata": {},
   "source": [
    "## Finished"
   ]
  },
  {
   "cell_type": "code",
   "execution_count": 103,
   "id": "d35683fe-7d9f-40fa-81fa-99f926702fd6",
   "metadata": {
    "jupyter": {
     "source_hidden": true
    }
   },
   "outputs": [
    {
     "data": {
      "application/vnd.jupyter.widget-view+json": {
       "model_id": "e385ce531c074d1abd98ad00de57be32",
       "version_major": 2,
       "version_minor": 0
      },
      "text/plain": [
       "Button(button_style='info', description='Print json results', layout=Layout(flex='1 1 auto', width='auto'), st…"
      ]
     },
     "metadata": {},
     "output_type": "display_data"
    },
    {
     "data": {
      "application/vnd.jupyter.widget-view+json": {
       "model_id": "0887fffebd5e420d95ab7c8622bfc5b9",
       "version_major": 2,
       "version_minor": 0
      },
      "text/plain": [
       "Output()"
      ]
     },
     "metadata": {},
     "output_type": "display_data"
    }
   ],
   "source": [
    "\n",
    "button_print_json = widgets.Button(description=\"Print json results\",  button_style='info', layout=widgets.Layout(flex='1 1 auto', width='auto'))\n",
    "output = widgets.Output()\n",
    "\n",
    "display(button_print_json, output)\n",
    "\n",
    "def print_json_info(b):\n",
    "    \"\"\"\n",
    "    Loads a copy of the json file to checklist variable. \n",
    "    Then prints the json file contents to Jupyter notebook cell output.\n",
    "\n",
    "    Arguments: b - represents the button calling the function. \n",
    "    \"\"\"\n",
    "    checklist = load_checklist()\n",
    "    with output:\n",
    "        clear_output()\n",
    "        for key, value in checklist.items():\n",
    "            print(f\"{key}:\")\n",
    "            if isinstance(value, dict):\n",
    "                for sub_key, sub_value in value.items():\n",
    "                    print(f\"  {sub_key}: {sub_value}\")\n",
    "            else:\n",
    "                print(f\"  {value}\")\n",
    "\n",
    "button_print_json.on_click(print_json_info)\n"
   ]
  },
  {
   "cell_type": "markdown",
   "id": "c760fc3b-f413-46e4-8a76-31684d83a2d2",
   "metadata": {},
   "source": [
    "---\n",
    "\n",
    "## **Appendix** - Definition of terms used in the checklist."
   ]
  },
  {
   "cell_type": "code",
   "execution_count": null,
   "id": "efe74c74-d027-4937-b1f2-d6e77e445a6a",
   "metadata": {},
   "outputs": [],
   "source": []
  }
 ],
 "metadata": {
  "kernelspec": {
   "display_name": "Python 3 (ipykernel)",
   "language": "python",
   "name": "python3"
  },
  "language_info": {
   "codemirror_mode": {
    "name": "ipython",
    "version": 3
   },
   "file_extension": ".py",
   "mimetype": "text/x-python",
   "name": "python",
   "nbconvert_exporter": "python",
   "pygments_lexer": "ipython3",
   "version": "3.10.16"
  },
  "widgets": {
   "application/vnd.jupyter.widget-state+json": {
    "state": {
     "01aa98a85dbd491793079b7ba169e3a0": {
      "model_module": "@jupyter-widgets/controls",
      "model_module_version": "2.0.0",
      "model_name": "LabelModel",
      "state": {
       "layout": "IPY_MODEL_3808bc137eec4c2a8b1b9126cc5dbad6",
       "style": "IPY_MODEL_fe3797a5ee5940c08ec44556c2e3f84b",
       "value": "If there are associated targets/labels, are community labeling standards implemented?"
      }
     },
     "0887fffebd5e420d95ab7c8622bfc5b9": {
      "model_module": "@jupyter-widgets/output",
      "model_module_version": "1.0.0",
      "model_name": "OutputModel",
      "state": {
       "layout": "IPY_MODEL_0d76ab8178584bc5bdad61ad43c67e7b",
       "outputs": [
        {
         "name": "stdout",
         "output_type": "stream",
         "text": "GeneralInformation:\n  DatasetName: NOAA Global Surface Summary of the Day (GSOD)\n  DatasetVersion: 2\n  DatasetLink: https://www.ncei.noaa.gov/metadata/geoportal/rest/metadata/item/gov.noaa.ncdc:C00516/html\n  AssessorName: John Pill\n  AssessorEmailAddress: john.pill@metoffice.gov.uk\n  RawOrDerived: Derived\n  ObservedModeledSyntheticData: Observed\n  DataSource: Aggregated\nDataQuality:\n  WillBeUpdated: Yes\n  WhenNewDataAdded: Daily\n  DifferentStages: Full record\n  DelayBetweenStages: \n  SupersedeCurrentVersion: \n  DocumentationAvailable: Yes\n  LinkToReport: https://www.ncei.noaa.gov/data/global-summary-of-the-day/doc/readme.txt\n  SpatialCoverage: Unknown\n  TemporalCoverage: Partial\n  SelfConsistent: Yes\n  ConsistentWithSimilarData: Yes\n  MonitoringProcessesExist: N/A\n  MonitoringProcessesDetails: \n  KnownBias: Unknown\n  BiasExamined: \n  BiasMeasures: \n  MetrologicalTraceability: \n  BiasReport: \n  ReportedBias: None\n  BiasReportLink: \n  BiasReductionToolsLink: \n  BiasCorrectedDatasetLink: \n  QuantitativeResolutionInfo: No\n  PublishedQualityProcedures: Yes\n  QualityInformationLink: https://www.ncei.noaa.gov/pub/data/inventories/ish-qc.pdf\n  ProvenanceTracked: Yes\n  DataIntegrityChecks: Yes\n  DatasetVolume: Variable\n  DatasetDimensions: 2\n  DatasetNumFiles: 0\n  DatasetNumRows: 0\n  DatasetNumImages: 0\n  DatasetImageSize: \nDataDocumentation:\n  MetadataStandard: Yes\n  MetadataStandardName: ISO 19115-2\n  MetadataMachineReadable: Yes\n  MetadataSpatialTemporalExtent: Yes\n  DataDictionaryExists: Yes\n  DataDictionaryStandardised: N/A\n  DataDictionaryMachineReadable: No\n  DataDictionaryParametersFollowStandard: No\n  DataDictionaryStandardName: \n  DataDictionaryParametersCrosswalked: N/A\n  IdentifierExists: Yes\n  Identifier: NCEI DSI 3505\n  ContactInformation: Yes\n  UserFeedbackMechanism: Yes\n  ExampleCodesAvailable: No\n  LicenseType: None / Open\n  LicenceMachineReadable: \n  UsedInAIorMLReports: None reported, but likely. \n  UsageRecommendations: No\nDataAccess:\n  FileFormats: ['CSV']\n  FileFormatsMachineReadable: Yes\n  OpenFormatAvailable: Yes\n  FormatConversionTools: Yes\n  ConversionToolsLink: https://pandas.pydata.org/ https://www.arcgis.com/home/index.html https://www.qgis.org/\n  AuthenticationRequired: No\n  DirectDownloadAvailable: Yes\n  APIorWebAvailable: Yes\n  APIOpenStandard: Yes\n  APIDocumentation: Yes\n  APIDocumentationLink: https://www.ncei.noaa.gov/support/access-data-service-api-user-documentation\n  SecurityMeasuresTaken: N/A\n  DataAggregated: Yes\n  DataAnonymized: N/A\n  SecureAccessForAuthorizedUsers: N/A\nDataPreparation:\n  NullValuesFilled: No\n  OutliersIdentified: No\n  Gridded: Not gridded\n  TransformedFromOriginal: \n  OriginalSamplingAvailable: \n  SupervisedLearningLabels: No\n  SupervisedLearningLabelStandards: \n"
        }
       ]
      }
     },
     "08f73b096dd54f7e90878ee4481d7d7a": {
      "model_module": "@jupyter-widgets/controls",
      "model_module_version": "2.0.0",
      "model_name": "ComboboxModel",
      "state": {
       "description": "If the data is gridded, was it transformed from a different original sampling?",
       "ensure_option": false,
       "layout": "IPY_MODEL_c4b891e9aaea46fc837a20bfc278b4f1",
       "options": [
        "Yes, from irregular sampling",
        "Yes, from a different regular sampling",
        "No, this is the original sampling",
        "N/A"
       ],
       "placeholder": "Click to select option",
       "style": "IPY_MODEL_74291fbe1eaa4d868af9d7acfbbf6832"
      }
     },
     "0d76ab8178584bc5bdad61ad43c67e7b": {
      "model_module": "@jupyter-widgets/base",
      "model_module_version": "2.0.0",
      "model_name": "LayoutModel",
      "state": {}
     },
     "0e40eb18c4f64453bdfcfec587efffcd": {
      "model_module": "@jupyter-widgets/controls",
      "model_module_version": "2.0.0",
      "model_name": "TextStyleModel",
      "state": {
       "description_width": "initial",
       "font_size": null,
       "text_color": null
      }
     },
     "1587fb4c1b474301aff40f5524f9371f": {
      "model_module": "@jupyter-widgets/base",
      "model_module_version": "2.0.0",
      "model_name": "LayoutModel",
      "state": {
       "width": "900px"
      }
     },
     "1a312441817f4da1942237bc57dc4b99": {
      "model_module": "@jupyter-widgets/controls",
      "model_module_version": "2.0.0",
      "model_name": "TextStyleModel",
      "state": {
       "description_width": "initial",
       "font_size": null,
       "text_color": null
      }
     },
     "1a481fe64f304027b2e0342d857a0296": {
      "model_module": "@jupyter-widgets/controls",
      "model_module_version": "2.0.0",
      "model_name": "ComboboxModel",
      "state": {
       "description": "5.3 Is the data gridded (regularly sampled in time and space)?",
       "ensure_option": false,
       "layout": "IPY_MODEL_70cbc2e0215a446dbd49224b89842c6f",
       "options": [
        "Regularly gridded in space",
        "Constant time-frequency",
        "Regularly gridded in space and constant time-frequency",
        "Not gridded",
        "N/A"
       ],
       "placeholder": "Click to select option",
       "style": "IPY_MODEL_0e40eb18c4f64453bdfcfec587efffcd",
       "value": "Not gridded"
      }
     },
     "200632de3a484765a5b5f1969156c311": {
      "model_module": "@jupyter-widgets/base",
      "model_module_version": "2.0.0",
      "model_name": "LayoutModel",
      "state": {
       "width": "900px"
      }
     },
     "208c250ae8ec4ccdb00d37396ebaebb4": {
      "model_module": "@jupyter-widgets/controls",
      "model_module_version": "2.0.0",
      "model_name": "TextStyleModel",
      "state": {
       "description_width": "initial",
       "font_size": null,
       "text_color": null
      }
     },
     "2677687ccd2c4c53b4b8881e241c53bb": {
      "model_module": "@jupyter-widgets/controls",
      "model_module_version": "2.0.0",
      "model_name": "ComboboxModel",
      "state": {
       "description": "5.1 Have null values/gaps been filled?",
       "ensure_option": false,
       "layout": "IPY_MODEL_3314c5a876184dcdb8b2616adc382dfd",
       "options": [
        "Yes",
        "No",
        "N/A"
       ],
       "placeholder": "Click to select option",
       "style": "IPY_MODEL_48fd6550e2cb4c7c8de06c215f8efa1f",
       "value": "No"
      }
     },
     "31cef41523fa4180860cfdb49d273b9b": {
      "model_module": "@jupyter-widgets/controls",
      "model_module_version": "2.0.0",
      "model_name": "LabelStyleModel",
      "state": {
       "description_width": "",
       "font_family": null,
       "font_size": null,
       "font_style": null,
       "font_variant": null,
       "font_weight": null,
       "text_color": null,
       "text_decoration": null
      }
     },
     "3314c5a876184dcdb8b2616adc382dfd": {
      "model_module": "@jupyter-widgets/base",
      "model_module_version": "2.0.0",
      "model_name": "LayoutModel",
      "state": {
       "width": "900px"
      }
     },
     "3808bc137eec4c2a8b1b9126cc5dbad6": {
      "model_module": "@jupyter-widgets/base",
      "model_module_version": "2.0.0",
      "model_name": "LayoutModel",
      "state": {}
     },
     "392b72487fb64cb19d48f83df648f30d": {
      "model_module": "@jupyter-widgets/controls",
      "model_module_version": "2.0.0",
      "model_name": "ButtonModel",
      "state": {
       "button_style": "primary",
       "description": "Save Data Access Answers to json file",
       "layout": "IPY_MODEL_8bf7b03b481b4d92932e6ddacddb57f3",
       "style": "IPY_MODEL_77e23e342ea944bb83c5038e6527766b",
       "tooltip": null
      }
     },
     "3cee0f9f30f843aa8f09bc0e7cdf01c4": {
      "model_module": "@jupyter-widgets/controls",
      "model_module_version": "2.0.0",
      "model_name": "ComboboxModel",
      "state": {
       "description": "If the data is resampled from the original sampling, is the data also available at the original sampling?",
       "ensure_option": false,
       "layout": "IPY_MODEL_59c37231258e4c35bf6dac488d0b975e",
       "options": [
        "Yes",
        "No",
        "Only by request",
        "N/A"
       ],
       "placeholder": "Click to select option",
       "style": "IPY_MODEL_5edf1b22bb0b454ba949b73b5ba29138"
      }
     },
     "458fae6844864b37a0d999a6d9ba9582": {
      "model_module": "@jupyter-widgets/controls",
      "model_module_version": "2.0.0",
      "model_name": "TextStyleModel",
      "state": {
       "description_width": "initial",
       "font_size": null,
       "text_color": null
      }
     },
     "4846e1d348604696812dfb56e235d65b": {
      "model_module": "@jupyter-widgets/base",
      "model_module_version": "2.0.0",
      "model_name": "LayoutModel",
      "state": {
       "width": "900px"
      }
     },
     "48fd6550e2cb4c7c8de06c215f8efa1f": {
      "model_module": "@jupyter-widgets/controls",
      "model_module_version": "2.0.0",
      "model_name": "TextStyleModel",
      "state": {
       "description_width": "initial",
       "font_size": null,
       "text_color": null
      }
     },
     "4965970855ad4d8c853010c86261d69f": {
      "model_module": "@jupyter-widgets/base",
      "model_module_version": "2.0.0",
      "model_name": "LayoutModel",
      "state": {}
     },
     "5068ed0905114506b94b330f0280adb1": {
      "model_module": "@jupyter-widgets/controls",
      "model_module_version": "2.0.0",
      "model_name": "ButtonStyleModel",
      "state": {
       "font_family": null,
       "font_size": null,
       "font_style": null,
       "font_variant": null,
       "font_weight": null,
       "text_color": null,
       "text_decoration": null
      }
     },
     "5346d8ec69de4e8e8970359d0ca2c87a": {
      "model_module": "@jupyter-widgets/base",
      "model_module_version": "2.0.0",
      "model_name": "LayoutModel",
      "state": {
       "width": "900px"
      }
     },
     "541145f1a16c4e1d93837ef624e59154": {
      "model_module": "@jupyter-widgets/base",
      "model_module_version": "2.0.0",
      "model_name": "LayoutModel",
      "state": {
       "width": "900px"
      }
     },
     "59c37231258e4c35bf6dac488d0b975e": {
      "model_module": "@jupyter-widgets/base",
      "model_module_version": "2.0.0",
      "model_name": "LayoutModel",
      "state": {
       "width": "900px"
      }
     },
     "5edf1b22bb0b454ba949b73b5ba29138": {
      "model_module": "@jupyter-widgets/controls",
      "model_module_version": "2.0.0",
      "model_name": "TextStyleModel",
      "state": {
       "description_width": "initial",
       "font_size": null,
       "text_color": null
      }
     },
     "6740f7cf5a34425fa4ca98fa2d91df07": {
      "model_module": "@jupyter-widgets/controls",
      "model_module_version": "2.0.0",
      "model_name": "TextStyleModel",
      "state": {
       "description_width": "initial",
       "font_size": null,
       "text_color": null
      }
     },
     "6ae77f3cbb924f81b55d4fb156aa96ca": {
      "model_module": "@jupyter-widgets/base",
      "model_module_version": "2.0.0",
      "model_name": "LayoutModel",
      "state": {
       "width": "900px"
      }
     },
     "70cbc2e0215a446dbd49224b89842c6f": {
      "model_module": "@jupyter-widgets/base",
      "model_module_version": "2.0.0",
      "model_name": "LayoutModel",
      "state": {
       "width": "900px"
      }
     },
     "7226b6ee77e74d7ab0e0af27b7c14fef": {
      "model_module": "@jupyter-widgets/controls",
      "model_module_version": "2.0.0",
      "model_name": "ComboboxModel",
      "state": {
       "description": "5.4 Are there associated targets or labels for supervised learning techniques?",
       "ensure_option": false,
       "layout": "IPY_MODEL_5346d8ec69de4e8e8970359d0ca2c87a",
       "options": [
        "Yes",
        "No",
        "N/A"
       ],
       "placeholder": "Click to select option - (Can this be used as a training dataset)?",
       "style": "IPY_MODEL_72e7e5c388154db786b289f3c1f4c3e8",
       "value": "No"
      }
     },
     "72e7e5c388154db786b289f3c1f4c3e8": {
      "model_module": "@jupyter-widgets/controls",
      "model_module_version": "2.0.0",
      "model_name": "TextStyleModel",
      "state": {
       "description_width": "initial",
       "font_size": null,
       "text_color": null
      }
     },
     "74291fbe1eaa4d868af9d7acfbbf6832": {
      "model_module": "@jupyter-widgets/controls",
      "model_module_version": "2.0.0",
      "model_name": "TextStyleModel",
      "state": {
       "description_width": "initial",
       "font_size": null,
       "text_color": null
      }
     },
     "750c0953efb94eaab4efb94ec2cda65d": {
      "model_module": "@jupyter-widgets/controls",
      "model_module_version": "2.0.0",
      "model_name": "TextStyleModel",
      "state": {
       "description_width": "initial",
       "font_size": null,
       "text_color": null
      }
     },
     "7717919555fb442b98b34289c2203117": {
      "model_module": "@jupyter-widgets/base",
      "model_module_version": "2.0.0",
      "model_name": "LayoutModel",
      "state": {
       "width": "900px"
      }
     },
     "77e23e342ea944bb83c5038e6527766b": {
      "model_module": "@jupyter-widgets/controls",
      "model_module_version": "2.0.0",
      "model_name": "ButtonStyleModel",
      "state": {
       "font_family": null,
       "font_size": null,
       "font_style": null,
       "font_variant": null,
       "font_weight": null,
       "text_color": null,
       "text_decoration": null
      }
     },
     "812896fe97d54d5b80af19bffdfd3073": {
      "model_module": "@jupyter-widgets/controls",
      "model_module_version": "2.0.0",
      "model_name": "TextModel",
      "state": {
       "layout": "IPY_MODEL_6ae77f3cbb924f81b55d4fb156aa96ca",
       "placeholder": "e.g., STAC label extension, ESA AIREO specification, etc.",
       "style": "IPY_MODEL_cc7810f63c23450f8273d439c3007e0d"
      }
     },
     "8a5deb08ee9c4d08a20aa393331f8cdb": {
      "model_module": "@jupyter-widgets/controls",
      "model_module_version": "2.0.0",
      "model_name": "ButtonModel",
      "state": {
       "button_style": "primary",
       "description": "Save Data Access Answers to json file",
       "layout": "IPY_MODEL_ab90eb8b12494665bd739476188c05f0",
       "style": "IPY_MODEL_a4de90143ea941c5a95fdf0fca00d2ea",
       "tooltip": null
      }
     },
     "8bf7b03b481b4d92932e6ddacddb57f3": {
      "model_module": "@jupyter-widgets/base",
      "model_module_version": "2.0.0",
      "model_name": "LayoutModel",
      "state": {
       "flex": "1 1 auto",
       "width": "auto"
      }
     },
     "8fc9705cdb3f468b97109757004b5dee": {
      "model_module": "@jupyter-widgets/output",
      "model_module_version": "1.0.0",
      "model_name": "OutputModel",
      "state": {
       "layout": "IPY_MODEL_b37a67cadae848478f80d958a2f838e6",
       "outputs": [
        {
         "name": "stdout",
         "output_type": "stream",
         "text": "GeneralInformation:\n  DatasetName: NOAA Global Surface Summary of the Day (GSOD)\n  DatasetVersion: 2\n  DatasetLink: https://www.ncei.noaa.gov/metadata/geoportal/rest/metadata/item/gov.noaa.ncdc:C00516/html\n  AssessorName: John Pill\n  AssessorEmailAddress: john.pill@metoffice.gov.uk\n  RawOrDerived: Derived\n  ObservedModeledSyntheticData: Observed\n  DataSource: Aggregated\nDataQuality:\n  WillBeUpdated: Yes\n  WhenNewDataAdded: Daily\n  DifferentStages: Full record\n  DelayBetweenStages: \n  SupersedeCurrentVersion: \n  DocumentationAvailable: Yes\n  LinkToReport: https://www.ncei.noaa.gov/data/global-summary-of-the-day/doc/readme.txt\n  SpatialCoverage: Unknown\n  TemporalCoverage: Partial\n  SelfConsistent: Yes\n  ConsistentWithSimilarData: Yes\n  MonitoringProcessesExist: N/A\n  MonitoringProcessesDetails: \n  KnownBias: Unknown\n  BiasExamined: \n  BiasMeasures: \n  MetrologicalTraceability: \n  BiasReport: \n  ReportedBias: None\n  BiasReportLink: \n  BiasReductionToolsLink: \n  BiasCorrectedDatasetLink: \n  QuantitativeResolutionInfo: No\n  PublishedQualityProcedures: Yes\n  QualityInformationLink: https://www.ncei.noaa.gov/pub/data/inventories/ish-qc.pdf\n  ProvenanceTracked: Yes\n  DataIntegrityChecks: Yes\n  DatasetVolume: Variable\n  DatasetDimensions: 2\n  DatasetNumFiles: 0\n  DatasetNumRows: 0\n  DatasetNumImages: 0\n  DatasetImageSize: \nDataDocumentation:\n  MetadataStandard: Yes\n  MetadataStandardName: ISO 19115-2\n  MetadataMachineReadable: Yes\n  MetadataSpatialTemporalExtent: Yes\n  DataDictionaryExists: Yes\n  DataDictionaryStandardised: N/A\n  DataDictionaryMachineReadable: No\n  DataDictionaryParametersFollowStandard: No\n  DataDictionaryStandardName: \n  DataDictionaryParametersCrosswalked: N/A\n  IdentifierExists: Yes\n  Identifier: NCEI DSI 3505\n  ContactInformation: Yes\n  UserFeedbackMechanism: Yes\n  ExampleCodesAvailable: No\n  LicenseType: None / Open\n  LicenceMachineReadable: \n  UsedInAIorMLReports: None reported, but likely. \n  UsageRecommendations: No\nDataAccess:\n  FileFormats: ['CSV']\n  FileFormatsMachineReadable: Yes\n  OpenFormatAvailable: Yes\n  FormatConversionTools: Yes\n  ConversionToolsLink: https://pandas.pydata.org/ https://www.arcgis.com/home/index.html https://www.qgis.org/\n  AuthenticationRequired: No\n  DirectDownloadAvailable: Yes\n  APIorWebAvailable: Yes\n  APIOpenStandard: Yes\n  APIDocumentation: Yes\n  APIDocumentationLink: https://www.ncei.noaa.gov/support/access-data-service-api-user-documentation\n  SecurityMeasuresTaken: N/A\n  DataAggregated: Yes\n  DataAnonymized: N/A\n  SecureAccessForAuthorizedUsers: N/A\nDataPreparation:\n  NullValuesFilled: No\n  OutliersIdentified: No\n  Gridded: Not gridded\n  TransformedFromOriginal: \n  OriginalSamplingAvailable: \n  SupervisedLearningLabels: No\n  SupervisedLearningLabelStandards: \n"
        }
       ]
      }
     },
     "988c644aee3c47a5a4cb28bb3d3049e9": {
      "model_module": "@jupyter-widgets/controls",
      "model_module_version": "2.0.0",
      "model_name": "ComboboxModel",
      "state": {
       "description": "5.1 Have null values/gaps been filled?",
       "ensure_option": false,
       "layout": "IPY_MODEL_1587fb4c1b474301aff40f5524f9371f",
       "options": [
        "Yes",
        "No",
        "N/A"
       ],
       "placeholder": "Click to select option",
       "style": "IPY_MODEL_1a312441817f4da1942237bc57dc4b99",
       "value": "No"
      }
     },
     "9f645546ce9f4cbfb4c0c68bc7e0ea5d": {
      "model_module": "@jupyter-widgets/controls",
      "model_module_version": "2.0.0",
      "model_name": "LabelModel",
      "state": {
       "layout": "IPY_MODEL_4965970855ad4d8c853010c86261d69f",
       "style": "IPY_MODEL_31cef41523fa4180860cfdb49d273b9b",
       "value": "If there are associated targets/labels, are community labeling standards implemented?"
      }
     },
     "a034f5f6abee4a2ebe49fbde1b98d3eb": {
      "model_module": "@jupyter-widgets/controls",
      "model_module_version": "2.0.0",
      "model_name": "ComboboxModel",
      "state": {
       "description": "5.3 Is the data gridded (regularly sampled in time and space)?",
       "ensure_option": false,
       "layout": "IPY_MODEL_200632de3a484765a5b5f1969156c311",
       "options": [
        "Regularly gridded in space",
        "Constant time-frequency",
        "Regularly gridded in space and constant time-frequency",
        "Not gridded",
        "N/A"
       ],
       "placeholder": "Click to select option",
       "style": "IPY_MODEL_d4a846b653be4ad4a7022f1a5fcc83a9",
       "value": "Not gridded"
      }
     },
     "a4799688f808483a9a417e3fdbc70783": {
      "model_module": "@jupyter-widgets/controls",
      "model_module_version": "2.0.0",
      "model_name": "ComboboxModel",
      "state": {
       "description": "5.2 Have outliers been identified?",
       "ensure_option": false,
       "layout": "IPY_MODEL_f979000120844b0183a2b6b547f024da",
       "options": [
        "Yes, tagged ",
        "Yes, removed",
        "No",
        "N/A"
       ],
       "placeholder": "Click to select option",
       "style": "IPY_MODEL_6740f7cf5a34425fa4ca98fa2d91df07",
       "value": "No"
      }
     },
     "a49b46a275e14be294c8606552ad53d9": {
      "model_module": "@jupyter-widgets/controls",
      "model_module_version": "2.0.0",
      "model_name": "TextStyleModel",
      "state": {
       "description_width": "initial",
       "font_size": null,
       "text_color": null
      }
     },
     "a4de90143ea941c5a95fdf0fca00d2ea": {
      "model_module": "@jupyter-widgets/controls",
      "model_module_version": "2.0.0",
      "model_name": "ButtonStyleModel",
      "state": {
       "font_family": null,
       "font_size": null,
       "font_style": null,
       "font_variant": null,
       "font_weight": null,
       "text_color": null,
       "text_decoration": null
      }
     },
     "a689574abd5d41e69852d16f52fd55fe": {
      "model_module": "@jupyter-widgets/base",
      "model_module_version": "2.0.0",
      "model_name": "LayoutModel",
      "state": {
       "width": "900px"
      }
     },
     "ab90eb8b12494665bd739476188c05f0": {
      "model_module": "@jupyter-widgets/base",
      "model_module_version": "2.0.0",
      "model_name": "LayoutModel",
      "state": {
       "flex": "1 1 auto",
       "width": "auto"
      }
     },
     "ac7db0829cd047958087260bac477d08": {
      "model_module": "@jupyter-widgets/controls",
      "model_module_version": "2.0.0",
      "model_name": "ComboboxModel",
      "state": {
       "description": "If the data is gridded, was it transformed from a different original sampling?",
       "ensure_option": false,
       "layout": "IPY_MODEL_4846e1d348604696812dfb56e235d65b",
       "options": [
        "Yes, from irregular sampling",
        "Yes, from a different regular sampling",
        "No, this is the original sampling",
        "N/A"
       ],
       "placeholder": "Click to select option",
       "style": "IPY_MODEL_a49b46a275e14be294c8606552ad53d9"
      }
     },
     "afa3b610ab064f759fd8bf9c451d99d1": {
      "model_module": "@jupyter-widgets/controls",
      "model_module_version": "2.0.0",
      "model_name": "ComboboxModel",
      "state": {
       "description": "5.4 Are there associated targets or labels for supervised learning techniques?",
       "ensure_option": false,
       "layout": "IPY_MODEL_541145f1a16c4e1d93837ef624e59154",
       "options": [
        "Yes",
        "No",
        "N/A"
       ],
       "placeholder": "Click to select option - (Can this be used as a training dataset)?",
       "style": "IPY_MODEL_208c250ae8ec4ccdb00d37396ebaebb4",
       "value": "No"
      }
     },
     "b01b8d65ec1144a48b59d4578149fe16": {
      "model_module": "@jupyter-widgets/controls",
      "model_module_version": "2.0.0",
      "model_name": "TextModel",
      "state": {
       "layout": "IPY_MODEL_ba3a4f51fb484a41b17de9915de44091",
       "placeholder": "e.g., STAC label extension, ESA AIREO specification, etc.",
       "style": "IPY_MODEL_c42ff0bd3a6b437eb6e395deaabb0b31"
      }
     },
     "b37a67cadae848478f80d958a2f838e6": {
      "model_module": "@jupyter-widgets/base",
      "model_module_version": "2.0.0",
      "model_name": "LayoutModel",
      "state": {}
     },
     "ba3a4f51fb484a41b17de9915de44091": {
      "model_module": "@jupyter-widgets/base",
      "model_module_version": "2.0.0",
      "model_name": "LayoutModel",
      "state": {
       "width": "900px"
      }
     },
     "c30d6a289f4647a0b152f416b445eda7": {
      "model_module": "@jupyter-widgets/base",
      "model_module_version": "2.0.0",
      "model_name": "LayoutModel",
      "state": {
       "flex": "1 1 auto",
       "width": "auto"
      }
     },
     "c346abf2f227467e9f2701100a46781d": {
      "model_module": "@jupyter-widgets/controls",
      "model_module_version": "2.0.0",
      "model_name": "ButtonModel",
      "state": {
       "button_style": "info",
       "description": "Print json results",
       "layout": "IPY_MODEL_c30d6a289f4647a0b152f416b445eda7",
       "style": "IPY_MODEL_5068ed0905114506b94b330f0280adb1",
       "tooltip": null
      }
     },
     "c42ff0bd3a6b437eb6e395deaabb0b31": {
      "model_module": "@jupyter-widgets/controls",
      "model_module_version": "2.0.0",
      "model_name": "TextStyleModel",
      "state": {
       "description_width": "",
       "font_size": null,
       "text_color": null
      }
     },
     "c4b891e9aaea46fc837a20bfc278b4f1": {
      "model_module": "@jupyter-widgets/base",
      "model_module_version": "2.0.0",
      "model_name": "LayoutModel",
      "state": {
       "width": "900px"
      }
     },
     "cb490618a149481db9219d5c58c07e1a": {
      "model_module": "@jupyter-widgets/base",
      "model_module_version": "2.0.0",
      "model_name": "LayoutModel",
      "state": {
       "flex": "1 1 auto",
       "width": "auto"
      }
     },
     "cc7810f63c23450f8273d439c3007e0d": {
      "model_module": "@jupyter-widgets/controls",
      "model_module_version": "2.0.0",
      "model_name": "TextStyleModel",
      "state": {
       "description_width": "",
       "font_size": null,
       "text_color": null
      }
     },
     "d4a846b653be4ad4a7022f1a5fcc83a9": {
      "model_module": "@jupyter-widgets/controls",
      "model_module_version": "2.0.0",
      "model_name": "TextStyleModel",
      "state": {
       "description_width": "initial",
       "font_size": null,
       "text_color": null
      }
     },
     "db290035a6744da5bc1c5dd45d4b1422": {
      "model_module": "@jupyter-widgets/controls",
      "model_module_version": "2.0.0",
      "model_name": "ButtonStyleModel",
      "state": {
       "font_family": null,
       "font_size": null,
       "font_style": null,
       "font_variant": null,
       "font_weight": null,
       "text_color": null,
       "text_decoration": null
      }
     },
     "e385ce531c074d1abd98ad00de57be32": {
      "model_module": "@jupyter-widgets/controls",
      "model_module_version": "2.0.0",
      "model_name": "ButtonModel",
      "state": {
       "button_style": "info",
       "description": "Print json results",
       "layout": "IPY_MODEL_cb490618a149481db9219d5c58c07e1a",
       "style": "IPY_MODEL_db290035a6744da5bc1c5dd45d4b1422",
       "tooltip": null
      }
     },
     "e3a1b81649524c93bc92cbf20f1a6308": {
      "model_module": "@jupyter-widgets/controls",
      "model_module_version": "2.0.0",
      "model_name": "ComboboxModel",
      "state": {
       "description": "5.2 Have outliers been identified?",
       "ensure_option": false,
       "layout": "IPY_MODEL_a689574abd5d41e69852d16f52fd55fe",
       "options": [
        "Yes, tagged ",
        "Yes, removed",
        "No",
        "N/A"
       ],
       "placeholder": "Click to select option",
       "style": "IPY_MODEL_458fae6844864b37a0d999a6d9ba9582",
       "value": "No"
      }
     },
     "f062b84b08184d71b12f3352278906ce": {
      "model_module": "@jupyter-widgets/controls",
      "model_module_version": "2.0.0",
      "model_name": "ComboboxModel",
      "state": {
       "description": "If the data is resampled from the original sampling, is the data also available at the original sampling?",
       "ensure_option": false,
       "layout": "IPY_MODEL_7717919555fb442b98b34289c2203117",
       "options": [
        "Yes",
        "No",
        "Only by request",
        "N/A"
       ],
       "placeholder": "Click to select option",
       "style": "IPY_MODEL_750c0953efb94eaab4efb94ec2cda65d"
      }
     },
     "f979000120844b0183a2b6b547f024da": {
      "model_module": "@jupyter-widgets/base",
      "model_module_version": "2.0.0",
      "model_name": "LayoutModel",
      "state": {
       "width": "900px"
      }
     },
     "fe3797a5ee5940c08ec44556c2e3f84b": {
      "model_module": "@jupyter-widgets/controls",
      "model_module_version": "2.0.0",
      "model_name": "LabelStyleModel",
      "state": {
       "description_width": "",
       "font_family": null,
       "font_size": null,
       "font_style": null,
       "font_variant": null,
       "font_weight": null,
       "text_color": null,
       "text_decoration": null
      }
     }
    },
    "version_major": 2,
    "version_minor": 0
   }
  }
 },
 "nbformat": 4,
 "nbformat_minor": 5
}
