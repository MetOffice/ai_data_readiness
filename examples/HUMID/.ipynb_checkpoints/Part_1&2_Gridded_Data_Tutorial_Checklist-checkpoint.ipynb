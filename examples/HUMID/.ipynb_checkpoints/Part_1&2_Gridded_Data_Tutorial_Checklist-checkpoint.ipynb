{
 "cells": [
  {
   "cell_type": "markdown",
   "id": "f8198bd3-3e2a-444f-bff5-c9647a804ca9",
   "metadata": {
    "editable": true,
    "slideshow": {
     "slide_type": ""
    },
    "tags": []
   },
   "source": [
    "# **Data Readiness For AI Checklist - Part 1 & 2**\n",
    "\n",
    " * Creator(s) John Pill\n",
    " * Affiliation: UK Met Office\n",
    " * History: 1.0\n",
    " * Last update: 27 August 2024.\n",
    "\n",
    "\n",
    "---"
   ]
  },
  {
   "cell_type": "markdown",
   "id": "6ac1eb47-ae19-48f9-8a66-268b970dc97c",
   "metadata": {},
   "source": [
    "## **Overview**\n",
    "The checklist is developed using the 2019 draft readiness matrix developed by the Office of Science and Technology Policy Subcommittee on Open Science as a basis. The checklist has been improved based on further research and user feedback. Definitions for some concepts are listed at the end of this document. This checklist is developed through a collaboration of ESIP Data Readiness Cluster members include representatives from NOAA, NASA, USGS, and other organizations. The checklist will be updated periodically to reflect community feedback.\n",
    "\n",
    "ESIP Data Readiness Cluster (2023): Checklist to Examine AI-readiness for Open Environmental Datasets v.1.0. ESIP. Online resource. https://doi.org/10.6084/m9.figshare.19983722.v1\n",
    "\n",
    "Readiness Matrix (2020): What is AI-Ready Open Data? NOAA. Online resource. https://www.star.nesdis.noaa.gov/star/documents/meetings/2020AI/presentations/202010/20201022_Christensen.pdf\n",
    "\n",
    "### Prerequisites\n",
    "Ideally for AI-ready assessment, a dataset should be defined as the minimum measurable bundle (i.e., a physical parameter/variable of observational datasets or model simulations). The assessment at this scale will enable better integration of data from different sources for research and development. However, it can be an intensive process for manual assessment without automation. Therefore, we recommend current assessments be done on the data file level. If the dataset has different versions, the checklist should be applied to each dataset type (e.g. raw, derived).\n",
    "\n",
    "### Learning Outcomes\n",
    "* Know how to check a range of dataset features. \n",
    "* Assess a wide range of dataset features, which will impact the dataset's 'readiness' for machine learning.  \n",
    "\n",
    "\n",
    "---"
   ]
  },
  {
   "cell_type": "markdown",
   "id": "f61ad742-0a6d-4b49-83f3-a4bb1828975e",
   "metadata": {},
   "source": [
    "## **Tutorial Material**\n",
    "\n",
    "* **Run this Jupyter notebook locally using Jupyter Lab**\n",
    "* **Select 'Run All Cells' from the 'Run' menu to generate the checklist**.\n",
    "* **Remember to save your notebook regularly as you work through it.**\n",
    "\n",
    "\n",
    "## **Data section, optional**\n",
    "`mkdir dataset && cd dataset && wget https://data.rda.ucar.edu/d314008/198312/conus_HUMID_19831225.nc4 . && cd -`\n",
    "\n",
    "---"
   ]
  },
  {
   "cell_type": "markdown",
   "id": "f6840884-d7bb-43fa-a3e3-8c4106c435e5",
   "metadata": {},
   "source": [
    "## **Setup Notebook**"
   ]
  },
  {
   "cell_type": "code",
   "execution_count": 1,
   "id": "5b5a42bb-1da9-4460-a6a0-8d85063fd096",
   "metadata": {
    "editable": true,
    "slideshow": {
     "slide_type": ""
    },
    "tags": [
     "thebe-init"
    ]
   },
   "outputs": [],
   "source": [
    "import ipywidgets as widgets\n",
    "from IPython.display import display, clear_output\n",
    "import json\n",
    "import sys\n",
    "import os\n",
    "from aidatareadiness import utils\n",
    "from aidatareadiness.utils import WIDGET_WIDTH, DESCRIPTION_STYLE, PLACEHOLDER  \n",
    "from aidatareadiness.checklist_auto import gridded "
   ]
  },
  {
   "cell_type": "markdown",
   "id": "2dc9b82e-f691-4444-9dac-17f5a255b4ed",
   "metadata": {},
   "source": [
    "## **Load Data**"
   ]
  },
  {
   "cell_type": "code",
   "execution_count": 17,
   "id": "c0c4fae2-3576-414f-813b-e7a82ca1b4f7",
   "metadata": {},
   "outputs": [
    {
     "data": {
      "text/html": [
       "<div><svg style=\"position: absolute; width: 0; height: 0; overflow: hidden\">\n",
       "<defs>\n",
       "<symbol id=\"icon-database\" viewBox=\"0 0 32 32\">\n",
       "<path d=\"M16 0c-8.837 0-16 2.239-16 5v4c0 2.761 7.163 5 16 5s16-2.239 16-5v-4c0-2.761-7.163-5-16-5z\"></path>\n",
       "<path d=\"M16 17c-8.837 0-16-2.239-16-5v6c0 2.761 7.163 5 16 5s16-2.239 16-5v-6c0 2.761-7.163 5-16 5z\"></path>\n",
       "<path d=\"M16 26c-8.837 0-16-2.239-16-5v6c0 2.761 7.163 5 16 5s16-2.239 16-5v-6c0 2.761-7.163 5-16 5z\"></path>\n",
       "</symbol>\n",
       "<symbol id=\"icon-file-text2\" viewBox=\"0 0 32 32\">\n",
       "<path d=\"M28.681 7.159c-0.694-0.947-1.662-2.053-2.724-3.116s-2.169-2.030-3.116-2.724c-1.612-1.182-2.393-1.319-2.841-1.319h-15.5c-1.378 0-2.5 1.121-2.5 2.5v27c0 1.378 1.122 2.5 2.5 2.5h23c1.378 0 2.5-1.122 2.5-2.5v-19.5c0-0.448-0.137-1.23-1.319-2.841zM24.543 5.457c0.959 0.959 1.712 1.825 2.268 2.543h-4.811v-4.811c0.718 0.556 1.584 1.309 2.543 2.268zM28 29.5c0 0.271-0.229 0.5-0.5 0.5h-23c-0.271 0-0.5-0.229-0.5-0.5v-27c0-0.271 0.229-0.5 0.5-0.5 0 0 15.499-0 15.5 0v7c0 0.552 0.448 1 1 1h7v19.5z\"></path>\n",
       "<path d=\"M23 26h-14c-0.552 0-1-0.448-1-1s0.448-1 1-1h14c0.552 0 1 0.448 1 1s-0.448 1-1 1z\"></path>\n",
       "<path d=\"M23 22h-14c-0.552 0-1-0.448-1-1s0.448-1 1-1h14c0.552 0 1 0.448 1 1s-0.448 1-1 1z\"></path>\n",
       "<path d=\"M23 18h-14c-0.552 0-1-0.448-1-1s0.448-1 1-1h14c0.552 0 1 0.448 1 1s-0.448 1-1 1z\"></path>\n",
       "</symbol>\n",
       "</defs>\n",
       "</svg>\n",
       "<style>/* CSS stylesheet for displaying xarray objects in jupyterlab.\n",
       " *\n",
       " */\n",
       "\n",
       ":root {\n",
       "  --xr-font-color0: var(--jp-content-font-color0, rgba(0, 0, 0, 1));\n",
       "  --xr-font-color2: var(--jp-content-font-color2, rgba(0, 0, 0, 0.54));\n",
       "  --xr-font-color3: var(--jp-content-font-color3, rgba(0, 0, 0, 0.38));\n",
       "  --xr-border-color: var(--jp-border-color2, #e0e0e0);\n",
       "  --xr-disabled-color: var(--jp-layout-color3, #bdbdbd);\n",
       "  --xr-background-color: var(--jp-layout-color0, white);\n",
       "  --xr-background-color-row-even: var(--jp-layout-color1, white);\n",
       "  --xr-background-color-row-odd: var(--jp-layout-color2, #eeeeee);\n",
       "}\n",
       "\n",
       "html[theme=\"dark\"],\n",
       "html[data-theme=\"dark\"],\n",
       "body[data-theme=\"dark\"],\n",
       "body.vscode-dark {\n",
       "  --xr-font-color0: rgba(255, 255, 255, 1);\n",
       "  --xr-font-color2: rgba(255, 255, 255, 0.54);\n",
       "  --xr-font-color3: rgba(255, 255, 255, 0.38);\n",
       "  --xr-border-color: #1f1f1f;\n",
       "  --xr-disabled-color: #515151;\n",
       "  --xr-background-color: #111111;\n",
       "  --xr-background-color-row-even: #111111;\n",
       "  --xr-background-color-row-odd: #313131;\n",
       "}\n",
       "\n",
       ".xr-wrap {\n",
       "  display: block !important;\n",
       "  min-width: 300px;\n",
       "  max-width: 700px;\n",
       "}\n",
       "\n",
       ".xr-text-repr-fallback {\n",
       "  /* fallback to plain text repr when CSS is not injected (untrusted notebook) */\n",
       "  display: none;\n",
       "}\n",
       "\n",
       ".xr-header {\n",
       "  padding-top: 6px;\n",
       "  padding-bottom: 6px;\n",
       "  margin-bottom: 4px;\n",
       "  border-bottom: solid 1px var(--xr-border-color);\n",
       "}\n",
       "\n",
       ".xr-header > div,\n",
       ".xr-header > ul {\n",
       "  display: inline;\n",
       "  margin-top: 0;\n",
       "  margin-bottom: 0;\n",
       "}\n",
       "\n",
       ".xr-obj-type,\n",
       ".xr-array-name {\n",
       "  margin-left: 2px;\n",
       "  margin-right: 10px;\n",
       "}\n",
       "\n",
       ".xr-obj-type {\n",
       "  color: var(--xr-font-color2);\n",
       "}\n",
       "\n",
       ".xr-sections {\n",
       "  padding-left: 0 !important;\n",
       "  display: grid;\n",
       "  grid-template-columns: 150px auto auto 1fr 0 20px 0 20px;\n",
       "}\n",
       "\n",
       ".xr-section-item {\n",
       "  display: contents;\n",
       "}\n",
       "\n",
       ".xr-section-item input {\n",
       "  display: inline-block;\n",
       "  opacity: 0;\n",
       "  height: 0;\n",
       "}\n",
       "\n",
       ".xr-section-item input + label {\n",
       "  color: var(--xr-disabled-color);\n",
       "}\n",
       "\n",
       ".xr-section-item input:enabled + label {\n",
       "  cursor: pointer;\n",
       "  color: var(--xr-font-color2);\n",
       "}\n",
       "\n",
       ".xr-section-item input:focus + label {\n",
       "  border: 2px solid var(--xr-font-color0);\n",
       "}\n",
       "\n",
       ".xr-section-item input:enabled + label:hover {\n",
       "  color: var(--xr-font-color0);\n",
       "}\n",
       "\n",
       ".xr-section-summary {\n",
       "  grid-column: 1;\n",
       "  color: var(--xr-font-color2);\n",
       "  font-weight: 500;\n",
       "}\n",
       "\n",
       ".xr-section-summary > span {\n",
       "  display: inline-block;\n",
       "  padding-left: 0.5em;\n",
       "}\n",
       "\n",
       ".xr-section-summary-in:disabled + label {\n",
       "  color: var(--xr-font-color2);\n",
       "}\n",
       "\n",
       ".xr-section-summary-in + label:before {\n",
       "  display: inline-block;\n",
       "  content: \"►\";\n",
       "  font-size: 11px;\n",
       "  width: 15px;\n",
       "  text-align: center;\n",
       "}\n",
       "\n",
       ".xr-section-summary-in:disabled + label:before {\n",
       "  color: var(--xr-disabled-color);\n",
       "}\n",
       "\n",
       ".xr-section-summary-in:checked + label:before {\n",
       "  content: \"▼\";\n",
       "}\n",
       "\n",
       ".xr-section-summary-in:checked + label > span {\n",
       "  display: none;\n",
       "}\n",
       "\n",
       ".xr-section-summary,\n",
       ".xr-section-inline-details {\n",
       "  padding-top: 4px;\n",
       "  padding-bottom: 4px;\n",
       "}\n",
       "\n",
       ".xr-section-inline-details {\n",
       "  grid-column: 2 / -1;\n",
       "}\n",
       "\n",
       ".xr-section-details {\n",
       "  display: none;\n",
       "  grid-column: 1 / -1;\n",
       "  margin-bottom: 5px;\n",
       "}\n",
       "\n",
       ".xr-section-summary-in:checked ~ .xr-section-details {\n",
       "  display: contents;\n",
       "}\n",
       "\n",
       ".xr-array-wrap {\n",
       "  grid-column: 1 / -1;\n",
       "  display: grid;\n",
       "  grid-template-columns: 20px auto;\n",
       "}\n",
       "\n",
       ".xr-array-wrap > label {\n",
       "  grid-column: 1;\n",
       "  vertical-align: top;\n",
       "}\n",
       "\n",
       ".xr-preview {\n",
       "  color: var(--xr-font-color3);\n",
       "}\n",
       "\n",
       ".xr-array-preview,\n",
       ".xr-array-data {\n",
       "  padding: 0 5px !important;\n",
       "  grid-column: 2;\n",
       "}\n",
       "\n",
       ".xr-array-data,\n",
       ".xr-array-in:checked ~ .xr-array-preview {\n",
       "  display: none;\n",
       "}\n",
       "\n",
       ".xr-array-in:checked ~ .xr-array-data,\n",
       ".xr-array-preview {\n",
       "  display: inline-block;\n",
       "}\n",
       "\n",
       ".xr-dim-list {\n",
       "  display: inline-block !important;\n",
       "  list-style: none;\n",
       "  padding: 0 !important;\n",
       "  margin: 0;\n",
       "}\n",
       "\n",
       ".xr-dim-list li {\n",
       "  display: inline-block;\n",
       "  padding: 0;\n",
       "  margin: 0;\n",
       "}\n",
       "\n",
       ".xr-dim-list:before {\n",
       "  content: \"(\";\n",
       "}\n",
       "\n",
       ".xr-dim-list:after {\n",
       "  content: \")\";\n",
       "}\n",
       "\n",
       ".xr-dim-list li:not(:last-child):after {\n",
       "  content: \",\";\n",
       "  padding-right: 5px;\n",
       "}\n",
       "\n",
       ".xr-has-index {\n",
       "  font-weight: bold;\n",
       "}\n",
       "\n",
       ".xr-var-list,\n",
       ".xr-var-item {\n",
       "  display: contents;\n",
       "}\n",
       "\n",
       ".xr-var-item > div,\n",
       ".xr-var-item label,\n",
       ".xr-var-item > .xr-var-name span {\n",
       "  background-color: var(--xr-background-color-row-even);\n",
       "  margin-bottom: 0;\n",
       "}\n",
       "\n",
       ".xr-var-item > .xr-var-name:hover span {\n",
       "  padding-right: 5px;\n",
       "}\n",
       "\n",
       ".xr-var-list > li:nth-child(odd) > div,\n",
       ".xr-var-list > li:nth-child(odd) > label,\n",
       ".xr-var-list > li:nth-child(odd) > .xr-var-name span {\n",
       "  background-color: var(--xr-background-color-row-odd);\n",
       "}\n",
       "\n",
       ".xr-var-name {\n",
       "  grid-column: 1;\n",
       "}\n",
       "\n",
       ".xr-var-dims {\n",
       "  grid-column: 2;\n",
       "}\n",
       "\n",
       ".xr-var-dtype {\n",
       "  grid-column: 3;\n",
       "  text-align: right;\n",
       "  color: var(--xr-font-color2);\n",
       "}\n",
       "\n",
       ".xr-var-preview {\n",
       "  grid-column: 4;\n",
       "}\n",
       "\n",
       ".xr-index-preview {\n",
       "  grid-column: 2 / 5;\n",
       "  color: var(--xr-font-color2);\n",
       "}\n",
       "\n",
       ".xr-var-name,\n",
       ".xr-var-dims,\n",
       ".xr-var-dtype,\n",
       ".xr-preview,\n",
       ".xr-attrs dt {\n",
       "  white-space: nowrap;\n",
       "  overflow: hidden;\n",
       "  text-overflow: ellipsis;\n",
       "  padding-right: 10px;\n",
       "}\n",
       "\n",
       ".xr-var-name:hover,\n",
       ".xr-var-dims:hover,\n",
       ".xr-var-dtype:hover,\n",
       ".xr-attrs dt:hover {\n",
       "  overflow: visible;\n",
       "  width: auto;\n",
       "  z-index: 1;\n",
       "}\n",
       "\n",
       ".xr-var-attrs,\n",
       ".xr-var-data,\n",
       ".xr-index-data {\n",
       "  display: none;\n",
       "  background-color: var(--xr-background-color) !important;\n",
       "  padding-bottom: 5px !important;\n",
       "}\n",
       "\n",
       ".xr-var-attrs-in:checked ~ .xr-var-attrs,\n",
       ".xr-var-data-in:checked ~ .xr-var-data,\n",
       ".xr-index-data-in:checked ~ .xr-index-data {\n",
       "  display: block;\n",
       "}\n",
       "\n",
       ".xr-var-data > table {\n",
       "  float: right;\n",
       "}\n",
       "\n",
       ".xr-var-name span,\n",
       ".xr-var-data,\n",
       ".xr-index-name div,\n",
       ".xr-index-data,\n",
       ".xr-attrs {\n",
       "  padding-left: 25px !important;\n",
       "}\n",
       "\n",
       ".xr-attrs,\n",
       ".xr-var-attrs,\n",
       ".xr-var-data,\n",
       ".xr-index-data {\n",
       "  grid-column: 1 / -1;\n",
       "}\n",
       "\n",
       "dl.xr-attrs {\n",
       "  padding: 0;\n",
       "  margin: 0;\n",
       "  display: grid;\n",
       "  grid-template-columns: 125px auto;\n",
       "}\n",
       "\n",
       ".xr-attrs dt,\n",
       ".xr-attrs dd {\n",
       "  padding: 0;\n",
       "  margin: 0;\n",
       "  float: left;\n",
       "  padding-right: 10px;\n",
       "  width: auto;\n",
       "}\n",
       "\n",
       ".xr-attrs dt {\n",
       "  font-weight: normal;\n",
       "  grid-column: 1;\n",
       "}\n",
       "\n",
       ".xr-attrs dt:hover span {\n",
       "  display: inline-block;\n",
       "  background: var(--xr-background-color);\n",
       "  padding-right: 10px;\n",
       "}\n",
       "\n",
       ".xr-attrs dd {\n",
       "  grid-column: 2;\n",
       "  white-space: pre-wrap;\n",
       "  word-break: break-all;\n",
       "}\n",
       "\n",
       ".xr-icon-database,\n",
       ".xr-icon-file-text2,\n",
       ".xr-no-icon {\n",
       "  display: inline-block;\n",
       "  vertical-align: middle;\n",
       "  width: 1em;\n",
       "  height: 1.5em !important;\n",
       "  stroke-width: 0;\n",
       "  stroke: currentColor;\n",
       "  fill: currentColor;\n",
       "}\n",
       "</style><pre class='xr-text-repr-fallback'>&lt;xarray.Dataset&gt; Size: 3GB\n",
       "Dimensions:            (Time: 1, lat: 2901, lon: 4608)\n",
       "Coordinates:\n",
       "    lat                (lat, lon) float32 53MB ...\n",
       "    lon                (lat, lon) float32 53MB ...\n",
       "Dimensions without coordinates: Time\n",
       "Data variables: (12/47)\n",
       "    FRC_URB2D          (Time, lat, lon) float32 53MB ...\n",
       "    HGT                (Time, lat, lon) float32 53MB ...\n",
       "    ISLTYP             (Time, lat, lon) float64 107MB ...\n",
       "    IVGTYP             (Time, lat, lon) float64 107MB ...\n",
       "    LU_INDEX           (Time, lat, lon) float32 53MB ...\n",
       "    Lambert_Conformal  int32 4B ...\n",
       "    ...                 ...\n",
       "    trad_max           (Time, lat, lon) float32 53MB ...\n",
       "    trad_min           (Time, lat, lon) float32 53MB ...\n",
       "    tsk                (Time, lat, lon) float32 53MB ...\n",
       "    tsk_max            (Time, lat, lon) float32 53MB ...\n",
       "    tsk_min            (Time, lat, lon) float32 53MB ...\n",
       "    wspd               (Time, lat, lon) float32 53MB ...\n",
       "Attributes: (12/50)\n",
       "    SIMULATION_START_DATE:           0000-00-00_00:00:00\n",
       "    WEST-EAST_GRID_DIMENSION:        4609\n",
       "    SOUTH-NORTH_GRID_DIMENSION:      3841\n",
       "    BOTTOM-TOP_GRID_DIMENSION:       0\n",
       "    WEST-EAST_PATCH_START_UNSTAG:    1\n",
       "    WEST-EAST_PATCH_END_UNSTAG:      4608\n",
       "    ...                              ...\n",
       "    FLAG_LAI12M:                     1\n",
       "    FLAG_LAKE_DEPTH:                 1\n",
       "    nco_openmp_thread_number:        1\n",
       "    NCO:                             netCDF Operators version 5.1.9 (Homepage...\n",
       "    TITLE:                           OUTPUT FROM GEOGRID V4.0.1\n",
       "    history:                         Sat Feb 17 19:31:44 2024: ncks -4 -L 1 c...</pre><div class='xr-wrap' style='display:none'><div class='xr-header'><div class='xr-obj-type'>xarray.Dataset</div></div><ul class='xr-sections'><li class='xr-section-item'><input id='section-367a8869-de8e-44e4-b238-e0d80da122ca' class='xr-section-summary-in' type='checkbox' disabled ><label for='section-367a8869-de8e-44e4-b238-e0d80da122ca' class='xr-section-summary'  title='Expand/collapse section'>Dimensions:</label><div class='xr-section-inline-details'><ul class='xr-dim-list'><li><span>Time</span>: 1</li><li><span>lat</span>: 2901</li><li><span>lon</span>: 4608</li></ul></div><div class='xr-section-details'></div></li><li class='xr-section-item'><input id='section-5073ea46-72c1-4637-80ee-c00663bf6d66' class='xr-section-summary-in' type='checkbox'  checked><label for='section-5073ea46-72c1-4637-80ee-c00663bf6d66' class='xr-section-summary' >Coordinates: <span>(2)</span></label><div class='xr-section-inline-details'></div><div class='xr-section-details'><ul class='xr-var-list'><li class='xr-var-item'><div class='xr-var-name'><span>lat</span></div><div class='xr-var-dims'>(lat, lon)</div><div class='xr-var-dtype'>float32</div><div class='xr-var-preview xr-preview'>...</div><input id='attrs-dd27ed73-2edd-4cc7-b2ee-6ee83b0a9f0e' class='xr-var-attrs-in' type='checkbox' ><label for='attrs-dd27ed73-2edd-4cc7-b2ee-6ee83b0a9f0e' title='Show/Hide attributes'><svg class='icon xr-icon-file-text2'><use xlink:href='#icon-file-text2'></use></svg></label><input id='data-5b4f56b7-8d9e-496f-a9e1-f9792f01328e' class='xr-var-data-in' type='checkbox'><label for='data-5b4f56b7-8d9e-496f-a9e1-f9792f01328e' title='Show/Hide data repr'><svg class='icon xr-icon-database'><use xlink:href='#icon-database'></use></svg></label><div class='xr-var-attrs'><dl class='xr-attrs'><dt><span>units :</span></dt><dd>degrees_north</dd><dt><span>long_name :</span></dt><dd>latitude coordinate</dd><dt><span>standard_name :</span></dt><dd>latitude</dd></dl></div><div class='xr-var-data'><pre>[13367808 values with dtype=float32]</pre></div></li><li class='xr-var-item'><div class='xr-var-name'><span>lon</span></div><div class='xr-var-dims'>(lat, lon)</div><div class='xr-var-dtype'>float32</div><div class='xr-var-preview xr-preview'>...</div><input id='attrs-4e073bba-add6-407b-9f9a-85e5fce04b88' class='xr-var-attrs-in' type='checkbox' ><label for='attrs-4e073bba-add6-407b-9f9a-85e5fce04b88' title='Show/Hide attributes'><svg class='icon xr-icon-file-text2'><use xlink:href='#icon-file-text2'></use></svg></label><input id='data-87d7cb8e-21e0-48c2-8a38-38402c5fcde2' class='xr-var-data-in' type='checkbox'><label for='data-87d7cb8e-21e0-48c2-8a38-38402c5fcde2' title='Show/Hide data repr'><svg class='icon xr-icon-database'><use xlink:href='#icon-database'></use></svg></label><div class='xr-var-attrs'><dl class='xr-attrs'><dt><span>units :</span></dt><dd>degrees_east</dd><dt><span>long_name :</span></dt><dd>longitude coordinate</dd><dt><span>standard_name :</span></dt><dd>longitude</dd></dl></div><div class='xr-var-data'><pre>[13367808 values with dtype=float32]</pre></div></li></ul></div></li><li class='xr-section-item'><input id='section-9cdce9a3-ef37-4a7b-900a-b7d722d044ff' class='xr-section-summary-in' type='checkbox'  ><label for='section-9cdce9a3-ef37-4a7b-900a-b7d722d044ff' class='xr-section-summary' >Data variables: <span>(47)</span></label><div class='xr-section-inline-details'></div><div class='xr-section-details'><ul class='xr-var-list'><li class='xr-var-item'><div class='xr-var-name'><span>FRC_URB2D</span></div><div class='xr-var-dims'>(Time, lat, lon)</div><div class='xr-var-dtype'>float32</div><div class='xr-var-preview xr-preview'>...</div><input id='attrs-880803ba-aac7-4aa1-9e90-6b9013fc5c8a' class='xr-var-attrs-in' type='checkbox' ><label for='attrs-880803ba-aac7-4aa1-9e90-6b9013fc5c8a' title='Show/Hide attributes'><svg class='icon xr-icon-file-text2'><use xlink:href='#icon-file-text2'></use></svg></label><input id='data-ebcaa387-2b01-466d-a773-76036c152c47' class='xr-var-data-in' type='checkbox'><label for='data-ebcaa387-2b01-466d-a773-76036c152c47' title='Show/Hide data repr'><svg class='icon xr-icon-database'><use xlink:href='#icon-database'></use></svg></label><div class='xr-var-attrs'><dl class='xr-attrs'><dt><span>MemoryOrder :</span></dt><dd>XY </dd><dt><span>FieldType :</span></dt><dd>104</dd><dt><span>units :</span></dt><dd>unitless</dd><dt><span>stagger :</span></dt><dd>M</dd><dt><span>sr_y :</span></dt><dd>1</dd><dt><span>description :</span></dt><dd>urban fraction</dd><dt><span>sr_x :</span></dt><dd>1</dd></dl></div><div class='xr-var-data'><pre>[13367808 values with dtype=float32]</pre></div></li><li class='xr-var-item'><div class='xr-var-name'><span>HGT</span></div><div class='xr-var-dims'>(Time, lat, lon)</div><div class='xr-var-dtype'>float32</div><div class='xr-var-preview xr-preview'>...</div><input id='attrs-7e2424da-c4db-42c6-9c92-32a012457eff' class='xr-var-attrs-in' type='checkbox' ><label for='attrs-7e2424da-c4db-42c6-9c92-32a012457eff' title='Show/Hide attributes'><svg class='icon xr-icon-file-text2'><use xlink:href='#icon-file-text2'></use></svg></label><input id='data-640a0df2-d8ee-4cb4-aef3-0f5c81d19ab1' class='xr-var-data-in' type='checkbox'><label for='data-640a0df2-d8ee-4cb4-aef3-0f5c81d19ab1' title='Show/Hide data repr'><svg class='icon xr-icon-database'><use xlink:href='#icon-database'></use></svg></label><div class='xr-var-attrs'><dl class='xr-attrs'><dt><span>MemoryOrder :</span></dt><dd>XY </dd><dt><span>FieldType :</span></dt><dd>104</dd><dt><span>units :</span></dt><dd>meters MSL</dd><dt><span>stagger :</span></dt><dd>M</dd><dt><span>sr_y :</span></dt><dd>1</dd><dt><span>description :</span></dt><dd>Topography height</dd><dt><span>sr_x :</span></dt><dd>1</dd></dl></div><div class='xr-var-data'><pre>[13367808 values with dtype=float32]</pre></div></li><li class='xr-var-item'><div class='xr-var-name'><span>ISLTYP</span></div><div class='xr-var-dims'>(Time, lat, lon)</div><div class='xr-var-dtype'>float64</div><div class='xr-var-preview xr-preview'>...</div><input id='attrs-ab5c66ef-5152-48bb-99a9-cfde76cb0af8' class='xr-var-attrs-in' type='checkbox' ><label for='attrs-ab5c66ef-5152-48bb-99a9-cfde76cb0af8' title='Show/Hide attributes'><svg class='icon xr-icon-file-text2'><use xlink:href='#icon-file-text2'></use></svg></label><input id='data-fa81838b-1a1c-426b-8c26-7cc7d3bde214' class='xr-var-data-in' type='checkbox'><label for='data-fa81838b-1a1c-426b-8c26-7cc7d3bde214' title='Show/Hide data repr'><svg class='icon xr-icon-database'><use xlink:href='#icon-database'></use></svg></label><div class='xr-var-attrs'><dl class='xr-attrs'><dt><span>MemoryOrder :</span></dt><dd>XY </dd><dt><span>FieldType :</span></dt><dd>104</dd><dt><span>units :</span></dt><dd>category</dd><dt><span>stagger :</span></dt><dd>M</dd><dt><span>grid_mapping :</span></dt><dd>lambert_conformal_conic</dd><dt><span>sr_y :</span></dt><dd>1</dd><dt><span>description :</span></dt><dd>Dominant category</dd><dt><span>sr_x :</span></dt><dd>1</dd></dl></div><div class='xr-var-data'><pre>[13367808 values with dtype=float64]</pre></div></li><li class='xr-var-item'><div class='xr-var-name'><span>IVGTYP</span></div><div class='xr-var-dims'>(Time, lat, lon)</div><div class='xr-var-dtype'>float64</div><div class='xr-var-preview xr-preview'>...</div><input id='attrs-a441beda-2729-4afb-88a9-b3a6c489a30d' class='xr-var-attrs-in' type='checkbox' ><label for='attrs-a441beda-2729-4afb-88a9-b3a6c489a30d' title='Show/Hide attributes'><svg class='icon xr-icon-file-text2'><use xlink:href='#icon-file-text2'></use></svg></label><input id='data-edfcee16-fbed-47b5-a295-129a848195bc' class='xr-var-data-in' type='checkbox'><label for='data-edfcee16-fbed-47b5-a295-129a848195bc' title='Show/Hide data repr'><svg class='icon xr-icon-database'><use xlink:href='#icon-database'></use></svg></label><div class='xr-var-attrs'><dl class='xr-attrs'><dt><span>MemoryOrder :</span></dt><dd>XY </dd><dt><span>FieldType :</span></dt><dd>104</dd><dt><span>units :</span></dt><dd>category</dd><dt><span>stagger :</span></dt><dd>M</dd><dt><span>grid_mapping :</span></dt><dd>lambert_conformal_conic</dd><dt><span>sr_y :</span></dt><dd>1</dd><dt><span>description :</span></dt><dd>Dominant category</dd><dt><span>sr_x :</span></dt><dd>1</dd></dl></div><div class='xr-var-data'><pre>[13367808 values with dtype=float64]</pre></div></li><li class='xr-var-item'><div class='xr-var-name'><span>LU_INDEX</span></div><div class='xr-var-dims'>(Time, lat, lon)</div><div class='xr-var-dtype'>float32</div><div class='xr-var-preview xr-preview'>...</div><input id='attrs-04189ecc-dac7-4c46-bf70-e6b473a396d3' class='xr-var-attrs-in' type='checkbox' ><label for='attrs-04189ecc-dac7-4c46-bf70-e6b473a396d3' title='Show/Hide attributes'><svg class='icon xr-icon-file-text2'><use xlink:href='#icon-file-text2'></use></svg></label><input id='data-ffaa50df-5e52-4ba8-a030-9e0dad611f00' class='xr-var-data-in' type='checkbox'><label for='data-ffaa50df-5e52-4ba8-a030-9e0dad611f00' title='Show/Hide data repr'><svg class='icon xr-icon-database'><use xlink:href='#icon-database'></use></svg></label><div class='xr-var-attrs'><dl class='xr-attrs'><dt><span>MemoryOrder :</span></dt><dd>XY </dd><dt><span>FieldType :</span></dt><dd>104</dd><dt><span>units :</span></dt><dd>category</dd><dt><span>stagger :</span></dt><dd>M</dd><dt><span>sr_y :</span></dt><dd>1</dd><dt><span>description :</span></dt><dd>Dominant category</dd><dt><span>sr_x :</span></dt><dd>1</dd></dl></div><div class='xr-var-data'><pre>[13367808 values with dtype=float32]</pre></div></li><li class='xr-var-item'><div class='xr-var-name'><span>Lambert_Conformal</span></div><div class='xr-var-dims'>()</div><div class='xr-var-dtype'>int32</div><div class='xr-var-preview xr-preview'>...</div><input id='attrs-51547745-0839-4cac-9261-30594cbfe1f8' class='xr-var-attrs-in' type='checkbox' ><label for='attrs-51547745-0839-4cac-9261-30594cbfe1f8' title='Show/Hide attributes'><svg class='icon xr-icon-file-text2'><use xlink:href='#icon-file-text2'></use></svg></label><input id='data-a216f460-9e9b-4aef-996e-7badfac37071' class='xr-var-data-in' type='checkbox'><label for='data-a216f460-9e9b-4aef-996e-7badfac37071' title='Show/Hide data repr'><svg class='icon xr-icon-database'><use xlink:href='#icon-database'></use></svg></label><div class='xr-var-attrs'><dl class='xr-attrs'><dt><span>grid_mapping_name :</span></dt><dd>lambert_conformal_conic</dd><dt><span>hemisphere :</span></dt><dd>N</dd><dt><span>scale_lat_1 :</span></dt><dd>30.0</dd><dt><span>scale_lat_2 :</span></dt><dd>60.0</dd><dt><span>lat_pin :</span></dt><dd>40.00001</dd><dt><span>lon_pin :</span></dt><dd>-97.0</dd><dt><span>x_pin :</span></dt><dd>2304.0</dd><dt><span>lon_orient :</span></dt><dd>-97.0</dd><dt><span>d_km :</span></dt><dd>1.0</dd><dt><span>r_km :</span></dt><dd>6371.2</dd><dt><span>nx :</span></dt><dd>4608.0</dd><dt><span>ny :</span></dt><dd>2901.0</dd><dt><span>y_pin :</span></dt><dd>1450.5</dd></dl></div><div class='xr-var-data'><pre>[1 values with dtype=int32]</pre></div></li><li class='xr-var-item'><div class='xr-var-name'><span>Times</span></div><div class='xr-var-dims'>(Time)</div><div class='xr-var-dtype'>object</div><div class='xr-var-preview xr-preview'>...</div><input id='attrs-2053d5d7-cfa7-4b01-b1fd-76568b262175' class='xr-var-attrs-in' type='checkbox' disabled><label for='attrs-2053d5d7-cfa7-4b01-b1fd-76568b262175' title='Show/Hide attributes'><svg class='icon xr-icon-file-text2'><use xlink:href='#icon-file-text2'></use></svg></label><input id='data-e25d8a66-6170-49b2-bbaf-5e433642ee85' class='xr-var-data-in' type='checkbox'><label for='data-e25d8a66-6170-49b2-bbaf-5e433642ee85' title='Show/Hide data repr'><svg class='icon xr-icon-database'><use xlink:href='#icon-database'></use></svg></label><div class='xr-var-attrs'><dl class='xr-attrs'></dl></div><div class='xr-var-data'><pre>[1 values with dtype=object]</pre></div></li><li class='xr-var-item'><div class='xr-var-name'><span>URB_CAT</span></div><div class='xr-var-dims'>(Time, lat, lon)</div><div class='xr-var-dtype'>float32</div><div class='xr-var-preview xr-preview'>...</div><input id='attrs-16cf0803-431f-421e-a283-a4b16ee0fe86' class='xr-var-attrs-in' type='checkbox' ><label for='attrs-16cf0803-431f-421e-a283-a4b16ee0fe86' title='Show/Hide attributes'><svg class='icon xr-icon-file-text2'><use xlink:href='#icon-file-text2'></use></svg></label><input id='data-75929a3d-7742-4837-8efc-ac3ca95d357d' class='xr-var-data-in' type='checkbox'><label for='data-75929a3d-7742-4837-8efc-ac3ca95d357d' title='Show/Hide data repr'><svg class='icon xr-icon-database'><use xlink:href='#icon-database'></use></svg></label><div class='xr-var-attrs'><dl class='xr-attrs'><dt><span>MemoryOrder :</span></dt><dd>XY </dd><dt><span>FieldType :</span></dt><dd>104</dd><dt><span>units :</span></dt><dd>unitless</dd><dt><span>stagger :</span></dt><dd>M</dd><dt><span>sr_y :</span></dt><dd>1</dd><dt><span>description :</span></dt><dd>Dominant Urban Category</dd><dt><span>sr_x :</span></dt><dd>1</dd></dl></div><div class='xr-var-data'><pre>[13367808 values with dtype=float32]</pre></div></li><li class='xr-var-item'><div class='xr-var-name'><span>hfx</span></div><div class='xr-var-dims'>(Time, lat, lon)</div><div class='xr-var-dtype'>float32</div><div class='xr-var-preview xr-preview'>...</div><input id='attrs-d725b6f3-d002-4c6c-82b8-6fbf67a2382b' class='xr-var-attrs-in' type='checkbox' ><label for='attrs-d725b6f3-d002-4c6c-82b8-6fbf67a2382b' title='Show/Hide attributes'><svg class='icon xr-icon-file-text2'><use xlink:href='#icon-file-text2'></use></svg></label><input id='data-46c11d30-6fc0-44a3-a875-4ea67153ec78' class='xr-var-data-in' type='checkbox'><label for='data-46c11d30-6fc0-44a3-a875-4ea67153ec78' title='Show/Hide data repr'><svg class='icon xr-icon-database'><use xlink:href='#icon-database'></use></svg></label><div class='xr-var-attrs'><dl class='xr-attrs'><dt><span>MemoryOrder :</span></dt><dd>XY</dd><dt><span>description :</span></dt><dd>Daily mean sensible heat to atmosphere</dd><dt><span>units :</span></dt><dd>W m{-2}</dd><dt><span>stagger :</span></dt><dd>-</dd></dl></div><div class='xr-var-data'><pre>[13367808 values with dtype=float32]</pre></div></li><li class='xr-var-item'><div class='xr-var-name'><span>lh</span></div><div class='xr-var-dims'>(Time, lat, lon)</div><div class='xr-var-dtype'>float32</div><div class='xr-var-preview xr-preview'>...</div><input id='attrs-c99a1d76-3c11-4890-b85b-119ab1e055f7' class='xr-var-attrs-in' type='checkbox' ><label for='attrs-c99a1d76-3c11-4890-b85b-119ab1e055f7' title='Show/Hide attributes'><svg class='icon xr-icon-file-text2'><use xlink:href='#icon-file-text2'></use></svg></label><input id='data-db6446fc-93a4-49de-b766-294cebc131c6' class='xr-var-data-in' type='checkbox'><label for='data-db6446fc-93a4-49de-b766-294cebc131c6' title='Show/Hide data repr'><svg class='icon xr-icon-database'><use xlink:href='#icon-database'></use></svg></label><div class='xr-var-attrs'><dl class='xr-attrs'><dt><span>MemoryOrder :</span></dt><dd>XY</dd><dt><span>description :</span></dt><dd>Daily mean latent heat to atmosphere</dd><dt><span>units :</span></dt><dd>W m{-2}</dd><dt><span>stagger :</span></dt><dd>-</dd></dl></div><div class='xr-var-data'><pre>[13367808 values with dtype=float32]</pre></div></li><li class='xr-var-item'><div class='xr-var-name'><span>lwforc</span></div><div class='xr-var-dims'>(Time, lat, lon)</div><div class='xr-var-dtype'>float32</div><div class='xr-var-preview xr-preview'>...</div><input id='attrs-22b154c9-7630-4c98-b59c-e04edff47abe' class='xr-var-attrs-in' type='checkbox' ><label for='attrs-22b154c9-7630-4c98-b59c-e04edff47abe' title='Show/Hide attributes'><svg class='icon xr-icon-file-text2'><use xlink:href='#icon-file-text2'></use></svg></label><input id='data-b288fbf7-bd9a-4a54-8271-862583dc431c' class='xr-var-data-in' type='checkbox'><label for='data-b288fbf7-bd9a-4a54-8271-862583dc431c' title='Show/Hide data repr'><svg class='icon xr-icon-database'><use xlink:href='#icon-database'></use></svg></label><div class='xr-var-attrs'><dl class='xr-attrs'><dt><span>MemoryOrder :</span></dt><dd>XY</dd><dt><span>description :</span></dt><dd>Daily mean longwave forcing</dd><dt><span>units :</span></dt><dd>W m{-2}</dd><dt><span>stagger :</span></dt><dd>-</dd></dl></div><div class='xr-var-data'><pre>[13367808 values with dtype=float32]</pre></div></li><li class='xr-var-item'><div class='xr-var-name'><span>q2</span></div><div class='xr-var-dims'>(Time, lat, lon)</div><div class='xr-var-dtype'>float32</div><div class='xr-var-preview xr-preview'>...</div><input id='attrs-68502d0d-a6af-4849-8f55-8be593a7a0b5' class='xr-var-attrs-in' type='checkbox' ><label for='attrs-68502d0d-a6af-4849-8f55-8be593a7a0b5' title='Show/Hide attributes'><svg class='icon xr-icon-file-text2'><use xlink:href='#icon-file-text2'></use></svg></label><input id='data-9f8e6ca5-746f-428d-af0a-a96d30ab5ace' class='xr-var-data-in' type='checkbox'><label for='data-9f8e6ca5-746f-428d-af0a-a96d30ab5ace' title='Show/Hide data repr'><svg class='icon xr-icon-database'><use xlink:href='#icon-database'></use></svg></label><div class='xr-var-attrs'><dl class='xr-attrs'><dt><span>MemoryOrder :</span></dt><dd>XY</dd><dt><span>description :</span></dt><dd>Daily mean veg and urban weighted 2-m diagnostic spec. humidity</dd><dt><span>units :</span></dt><dd>kg/kg</dd><dt><span>stagger :</span></dt><dd>-</dd></dl></div><div class='xr-var-data'><pre>[13367808 values with dtype=float32]</pre></div></li><li class='xr-var-item'><div class='xr-var-name'><span>q2_max</span></div><div class='xr-var-dims'>(Time, lat, lon)</div><div class='xr-var-dtype'>float32</div><div class='xr-var-preview xr-preview'>...</div><input id='attrs-3628eb92-3951-4cb5-bdec-84ed79e1579b' class='xr-var-attrs-in' type='checkbox' ><label for='attrs-3628eb92-3951-4cb5-bdec-84ed79e1579b' title='Show/Hide attributes'><svg class='icon xr-icon-file-text2'><use xlink:href='#icon-file-text2'></use></svg></label><input id='data-fd0d406c-4447-457b-9ed0-64795c8458a8' class='xr-var-data-in' type='checkbox'><label for='data-fd0d406c-4447-457b-9ed0-64795c8458a8' title='Show/Hide data repr'><svg class='icon xr-icon-database'><use xlink:href='#icon-database'></use></svg></label><div class='xr-var-attrs'><dl class='xr-attrs'><dt><span>MemoryOrder :</span></dt><dd>XY</dd><dt><span>description :</span></dt><dd>Daily maximum veg and urban weighted 2-m diagnostic spec. humidity</dd><dt><span>units :</span></dt><dd>kg/kg</dd><dt><span>stagger :</span></dt><dd>-</dd></dl></div><div class='xr-var-data'><pre>[13367808 values with dtype=float32]</pre></div></li><li class='xr-var-item'><div class='xr-var-name'><span>q2_min</span></div><div class='xr-var-dims'>(Time, lat, lon)</div><div class='xr-var-dtype'>float32</div><div class='xr-var-preview xr-preview'>...</div><input id='attrs-cd31f7a2-3bd1-40bf-86c0-37abb16fae4a' class='xr-var-attrs-in' type='checkbox' ><label for='attrs-cd31f7a2-3bd1-40bf-86c0-37abb16fae4a' title='Show/Hide attributes'><svg class='icon xr-icon-file-text2'><use xlink:href='#icon-file-text2'></use></svg></label><input id='data-eb694f3e-3ed8-4d0d-a8f8-cc134ce21bda' class='xr-var-data-in' type='checkbox'><label for='data-eb694f3e-3ed8-4d0d-a8f8-cc134ce21bda' title='Show/Hide data repr'><svg class='icon xr-icon-database'><use xlink:href='#icon-database'></use></svg></label><div class='xr-var-attrs'><dl class='xr-attrs'><dt><span>MemoryOrder :</span></dt><dd>XY</dd><dt><span>description :</span></dt><dd>Daily minimum veg and urban weighted 2-m diagnostic spec. humidity</dd><dt><span>units :</span></dt><dd>kg/kg</dd><dt><span>stagger :</span></dt><dd>-</dd></dl></div><div class='xr-var-data'><pre>[13367808 values with dtype=float32]</pre></div></li><li class='xr-var-item'><div class='xr-var-name'><span>q2_urb2d</span></div><div class='xr-var-dims'>(Time, lat, lon)</div><div class='xr-var-dtype'>float32</div><div class='xr-var-preview xr-preview'>...</div><input id='attrs-a7b63160-c4fe-4c20-be7e-87f869d01b37' class='xr-var-attrs-in' type='checkbox' ><label for='attrs-a7b63160-c4fe-4c20-be7e-87f869d01b37' title='Show/Hide attributes'><svg class='icon xr-icon-file-text2'><use xlink:href='#icon-file-text2'></use></svg></label><input id='data-0dc94881-c327-45e0-9c9b-13f89141bfec' class='xr-var-data-in' type='checkbox'><label for='data-0dc94881-c327-45e0-9c9b-13f89141bfec' title='Show/Hide data repr'><svg class='icon xr-icon-database'><use xlink:href='#icon-database'></use></svg></label><div class='xr-var-attrs'><dl class='xr-attrs'><dt><span>MemoryOrder :</span></dt><dd>XY</dd><dt><span>description :</span></dt><dd>Daily mean urban 2-m diagnostic spec. humidity</dd><dt><span>units :</span></dt><dd>kg/kg</dd><dt><span>stagger :</span></dt><dd>-</dd></dl></div><div class='xr-var-data'><pre>[13367808 values with dtype=float32]</pre></div></li><li class='xr-var-item'><div class='xr-var-name'><span>q2_urb2d_max</span></div><div class='xr-var-dims'>(Time, lat, lon)</div><div class='xr-var-dtype'>float32</div><div class='xr-var-preview xr-preview'>...</div><input id='attrs-9f6d5f58-2bb9-441d-aec9-dfa67b649ce1' class='xr-var-attrs-in' type='checkbox' ><label for='attrs-9f6d5f58-2bb9-441d-aec9-dfa67b649ce1' title='Show/Hide attributes'><svg class='icon xr-icon-file-text2'><use xlink:href='#icon-file-text2'></use></svg></label><input id='data-81ea1783-da81-4903-9f42-4ff4864b14c8' class='xr-var-data-in' type='checkbox'><label for='data-81ea1783-da81-4903-9f42-4ff4864b14c8' title='Show/Hide data repr'><svg class='icon xr-icon-database'><use xlink:href='#icon-database'></use></svg></label><div class='xr-var-attrs'><dl class='xr-attrs'><dt><span>MemoryOrder :</span></dt><dd>XY</dd><dt><span>description :</span></dt><dd>Daily maximum urban 2-m diagnostic spec. humidity</dd><dt><span>units :</span></dt><dd>kg/kg</dd><dt><span>stagger :</span></dt><dd>-</dd></dl></div><div class='xr-var-data'><pre>[13367808 values with dtype=float32]</pre></div></li><li class='xr-var-item'><div class='xr-var-name'><span>q2_urb2d_min</span></div><div class='xr-var-dims'>(Time, lat, lon)</div><div class='xr-var-dtype'>float32</div><div class='xr-var-preview xr-preview'>...</div><input id='attrs-e46ff850-bbb3-450e-acad-ef09587ed826' class='xr-var-attrs-in' type='checkbox' ><label for='attrs-e46ff850-bbb3-450e-acad-ef09587ed826' title='Show/Hide attributes'><svg class='icon xr-icon-file-text2'><use xlink:href='#icon-file-text2'></use></svg></label><input id='data-2149a320-019b-4b50-9751-ca1362cc3ed6' class='xr-var-data-in' type='checkbox'><label for='data-2149a320-019b-4b50-9751-ca1362cc3ed6' title='Show/Hide data repr'><svg class='icon xr-icon-database'><use xlink:href='#icon-database'></use></svg></label><div class='xr-var-attrs'><dl class='xr-attrs'><dt><span>MemoryOrder :</span></dt><dd>XY</dd><dt><span>description :</span></dt><dd>Daily minimum urban 2-m diagnostic spec. humidity</dd><dt><span>units :</span></dt><dd>kg/kg</dd><dt><span>stagger :</span></dt><dd>-</dd></dl></div><div class='xr-var-data'><pre>[13367808 values with dtype=float32]</pre></div></li><li class='xr-var-item'><div class='xr-var-name'><span>rainrate</span></div><div class='xr-var-dims'>(Time, lat, lon)</div><div class='xr-var-dtype'>float32</div><div class='xr-var-preview xr-preview'>...</div><input id='attrs-3ca18204-f0f1-4214-8c69-2f92f7e43c43' class='xr-var-attrs-in' type='checkbox' ><label for='attrs-3ca18204-f0f1-4214-8c69-2f92f7e43c43' title='Show/Hide attributes'><svg class='icon xr-icon-file-text2'><use xlink:href='#icon-file-text2'></use></svg></label><input id='data-eb84c6f2-f967-4820-a9da-b81d9c3d6a97' class='xr-var-data-in' type='checkbox'><label for='data-eb84c6f2-f967-4820-a9da-b81d9c3d6a97' title='Show/Hide data repr'><svg class='icon xr-icon-database'><use xlink:href='#icon-database'></use></svg></label><div class='xr-var-attrs'><dl class='xr-attrs'><dt><span>MemoryOrder :</span></dt><dd>XY</dd><dt><span>description :</span></dt><dd>Daily mean precipitation rate</dd><dt><span>units :</span></dt><dd>kg m{-2} s{-1}</dd><dt><span>stagger :</span></dt><dd>-</dd></dl></div><div class='xr-var-data'><pre>[13367808 values with dtype=float32]</pre></div></li><li class='xr-var-item'><div class='xr-var-name'><span>swforc</span></div><div class='xr-var-dims'>(Time, lat, lon)</div><div class='xr-var-dtype'>float32</div><div class='xr-var-preview xr-preview'>...</div><input id='attrs-e032e3c3-c079-4a7e-91b9-7e2e27ef6e48' class='xr-var-attrs-in' type='checkbox' ><label for='attrs-e032e3c3-c079-4a7e-91b9-7e2e27ef6e48' title='Show/Hide attributes'><svg class='icon xr-icon-file-text2'><use xlink:href='#icon-file-text2'></use></svg></label><input id='data-9e30362a-e969-4ea3-b04c-f6f497713354' class='xr-var-data-in' type='checkbox'><label for='data-9e30362a-e969-4ea3-b04c-f6f497713354' title='Show/Hide data repr'><svg class='icon xr-icon-database'><use xlink:href='#icon-database'></use></svg></label><div class='xr-var-attrs'><dl class='xr-attrs'><dt><span>MemoryOrder :</span></dt><dd>XY</dd><dt><span>description :</span></dt><dd>Daily mean shortwave forcing</dd><dt><span>units :</span></dt><dd>W m{-2}</dd><dt><span>stagger :</span></dt><dd>-</dd></dl></div><div class='xr-var-data'><pre>[13367808 values with dtype=float32]</pre></div></li><li class='xr-var-item'><div class='xr-var-name'><span>t2_max_BC</span></div><div class='xr-var-dims'>(Time, lat, lon)</div><div class='xr-var-dtype'>float32</div><div class='xr-var-preview xr-preview'>...</div><input id='attrs-d0ab84eb-26cb-4b52-acd8-d0f4dce2b353' class='xr-var-attrs-in' type='checkbox' ><label for='attrs-d0ab84eb-26cb-4b52-acd8-d0f4dce2b353' title='Show/Hide attributes'><svg class='icon xr-icon-file-text2'><use xlink:href='#icon-file-text2'></use></svg></label><input id='data-9757adcb-695f-4e41-8eb7-b8c955febf09' class='xr-var-data-in' type='checkbox'><label for='data-9757adcb-695f-4e41-8eb7-b8c955febf09' title='Show/Hide data repr'><svg class='icon xr-icon-database'><use xlink:href='#icon-database'></use></svg></label><div class='xr-var-attrs'><dl class='xr-attrs'><dt><span>long_name :</span></dt><dd>Maximum Temperature Adjust</dd><dt><span>units :</span></dt><dd>K</dd><dt><span>grid_mapping :</span></dt><dd>Lambert_Conformal</dd></dl></div><div class='xr-var-data'><pre>[13367808 values with dtype=float32]</pre></div></li><li class='xr-var-item'><div class='xr-var-name'><span>t2_max_raw</span></div><div class='xr-var-dims'>(Time, lat, lon)</div><div class='xr-var-dtype'>float32</div><div class='xr-var-preview xr-preview'>...</div><input id='attrs-98e038e4-4aff-4e4f-97ff-5363642c84b6' class='xr-var-attrs-in' type='checkbox' ><label for='attrs-98e038e4-4aff-4e4f-97ff-5363642c84b6' title='Show/Hide attributes'><svg class='icon xr-icon-file-text2'><use xlink:href='#icon-file-text2'></use></svg></label><input id='data-5b08b022-4d50-4ce2-b9e2-83b239cfa54e' class='xr-var-data-in' type='checkbox'><label for='data-5b08b022-4d50-4ce2-b9e2-83b239cfa54e' title='Show/Hide data repr'><svg class='icon xr-icon-database'><use xlink:href='#icon-database'></use></svg></label><div class='xr-var-attrs'><dl class='xr-attrs'><dt><span>long_name :</span></dt><dd>Unadjusted Temperature Maximum</dd><dt><span>units :</span></dt><dd>K</dd><dt><span>grid_mapping :</span></dt><dd>Lambert_Conformal</dd></dl></div><div class='xr-var-data'><pre>[13367808 values with dtype=float32]</pre></div></li><li class='xr-var-item'><div class='xr-var-name'><span>t2_min_BC</span></div><div class='xr-var-dims'>(Time, lat, lon)</div><div class='xr-var-dtype'>float32</div><div class='xr-var-preview xr-preview'>...</div><input id='attrs-3190868f-8ac6-416e-88a1-67379e40d35f' class='xr-var-attrs-in' type='checkbox' ><label for='attrs-3190868f-8ac6-416e-88a1-67379e40d35f' title='Show/Hide attributes'><svg class='icon xr-icon-file-text2'><use xlink:href='#icon-file-text2'></use></svg></label><input id='data-93f86381-521c-4ed5-83c7-c616a98985df' class='xr-var-data-in' type='checkbox'><label for='data-93f86381-521c-4ed5-83c7-c616a98985df' title='Show/Hide data repr'><svg class='icon xr-icon-database'><use xlink:href='#icon-database'></use></svg></label><div class='xr-var-attrs'><dl class='xr-attrs'><dt><span>long_name :</span></dt><dd>Minimum Temperature Adjust</dd><dt><span>units :</span></dt><dd>K</dd><dt><span>grid_mapping :</span></dt><dd>Lambert_Conformal</dd></dl></div><div class='xr-var-data'><pre>[13367808 values with dtype=float32]</pre></div></li><li class='xr-var-item'><div class='xr-var-name'><span>t2_min_raw</span></div><div class='xr-var-dims'>(Time, lat, lon)</div><div class='xr-var-dtype'>float32</div><div class='xr-var-preview xr-preview'>...</div><input id='attrs-ffabf9ba-effa-4bd1-a87a-685c3475427d' class='xr-var-attrs-in' type='checkbox' ><label for='attrs-ffabf9ba-effa-4bd1-a87a-685c3475427d' title='Show/Hide attributes'><svg class='icon xr-icon-file-text2'><use xlink:href='#icon-file-text2'></use></svg></label><input id='data-12e41c16-7d16-43f4-96ab-7ad9aec314da' class='xr-var-data-in' type='checkbox'><label for='data-12e41c16-7d16-43f4-96ab-7ad9aec314da' title='Show/Hide data repr'><svg class='icon xr-icon-database'><use xlink:href='#icon-database'></use></svg></label><div class='xr-var-attrs'><dl class='xr-attrs'><dt><span>units :</span></dt><dd>K</dd><dt><span>long_name :</span></dt><dd>Unadjusted Temperature Minimum</dd><dt><span>grid_mapping :</span></dt><dd>Lambert_Conformal</dd></dl></div><div class='xr-var-data'><pre>[13367808 values with dtype=float32]</pre></div></li><li class='xr-var-item'><div class='xr-var-name'><span>t2_raw</span></div><div class='xr-var-dims'>(Time, lat, lon)</div><div class='xr-var-dtype'>float32</div><div class='xr-var-preview xr-preview'>...</div><input id='attrs-5c2829a6-5c5e-46fd-87ef-d5869297c4e6' class='xr-var-attrs-in' type='checkbox' ><label for='attrs-5c2829a6-5c5e-46fd-87ef-d5869297c4e6' title='Show/Hide attributes'><svg class='icon xr-icon-file-text2'><use xlink:href='#icon-file-text2'></use></svg></label><input id='data-3186dd9c-1cef-447d-ada9-a83d24d9e724' class='xr-var-data-in' type='checkbox'><label for='data-3186dd9c-1cef-447d-ada9-a83d24d9e724' title='Show/Hide data repr'><svg class='icon xr-icon-database'><use xlink:href='#icon-database'></use></svg></label><div class='xr-var-attrs'><dl class='xr-attrs'><dt><span>MemoryOrder :</span></dt><dd>XY</dd><dt><span>description :</span></dt><dd>Daily mean veg and urban weighted 2-m diagnostic temperature</dd><dt><span>units :</span></dt><dd>K</dd><dt><span>stagger :</span></dt><dd>-</dd></dl></div><div class='xr-var-data'><pre>[13367808 values with dtype=float32]</pre></div></li><li class='xr-var-item'><div class='xr-var-name'><span>tb_urb2d</span></div><div class='xr-var-dims'>(Time, lat, lon)</div><div class='xr-var-dtype'>float32</div><div class='xr-var-preview xr-preview'>...</div><input id='attrs-45a046c2-6b90-4269-8290-97eedb897a94' class='xr-var-attrs-in' type='checkbox' ><label for='attrs-45a046c2-6b90-4269-8290-97eedb897a94' title='Show/Hide attributes'><svg class='icon xr-icon-file-text2'><use xlink:href='#icon-file-text2'></use></svg></label><input id='data-e742ee3f-4232-4571-a048-4984f8cde9b6' class='xr-var-data-in' type='checkbox'><label for='data-e742ee3f-4232-4571-a048-4984f8cde9b6' title='Show/Hide data repr'><svg class='icon xr-icon-database'><use xlink:href='#icon-database'></use></svg></label><div class='xr-var-attrs'><dl class='xr-attrs'><dt><span>MemoryOrder :</span></dt><dd>XY</dd><dt><span>description :</span></dt><dd>Daily mean urban buliding temperature</dd><dt><span>units :</span></dt><dd>K</dd><dt><span>stagger :</span></dt><dd>-</dd></dl></div><div class='xr-var-data'><pre>[13367808 values with dtype=float32]</pre></div></li><li class='xr-var-item'><div class='xr-var-name'><span>tb_urb2d_max</span></div><div class='xr-var-dims'>(Time, lat, lon)</div><div class='xr-var-dtype'>float32</div><div class='xr-var-preview xr-preview'>...</div><input id='attrs-c449de35-171c-420a-8beb-2e1e7201ee3e' class='xr-var-attrs-in' type='checkbox' ><label for='attrs-c449de35-171c-420a-8beb-2e1e7201ee3e' title='Show/Hide attributes'><svg class='icon xr-icon-file-text2'><use xlink:href='#icon-file-text2'></use></svg></label><input id='data-6e8d878e-494d-4995-8193-f84c2eaaf307' class='xr-var-data-in' type='checkbox'><label for='data-6e8d878e-494d-4995-8193-f84c2eaaf307' title='Show/Hide data repr'><svg class='icon xr-icon-database'><use xlink:href='#icon-database'></use></svg></label><div class='xr-var-attrs'><dl class='xr-attrs'><dt><span>MemoryOrder :</span></dt><dd>XY</dd><dt><span>description :</span></dt><dd>Daily maximum urban buliding temperature</dd><dt><span>units :</span></dt><dd>K</dd><dt><span>stagger :</span></dt><dd>-</dd></dl></div><div class='xr-var-data'><pre>[13367808 values with dtype=float32]</pre></div></li><li class='xr-var-item'><div class='xr-var-name'><span>tb_urb2d_min</span></div><div class='xr-var-dims'>(Time, lat, lon)</div><div class='xr-var-dtype'>float32</div><div class='xr-var-preview xr-preview'>...</div><input id='attrs-e466611b-e9f6-40db-89a0-71d9cd48997f' class='xr-var-attrs-in' type='checkbox' ><label for='attrs-e466611b-e9f6-40db-89a0-71d9cd48997f' title='Show/Hide attributes'><svg class='icon xr-icon-file-text2'><use xlink:href='#icon-file-text2'></use></svg></label><input id='data-3089fe3d-5c74-4b3a-9678-00b720afb5eb' class='xr-var-data-in' type='checkbox'><label for='data-3089fe3d-5c74-4b3a-9678-00b720afb5eb' title='Show/Hide data repr'><svg class='icon xr-icon-database'><use xlink:href='#icon-database'></use></svg></label><div class='xr-var-attrs'><dl class='xr-attrs'><dt><span>MemoryOrder :</span></dt><dd>XY</dd><dt><span>description :</span></dt><dd>Daily minimum urban buliding temperature</dd><dt><span>units :</span></dt><dd>K</dd><dt><span>stagger :</span></dt><dd>-</dd></dl></div><div class='xr-var-data'><pre>[13367808 values with dtype=float32]</pre></div></li><li class='xr-var-item'><div class='xr-var-name'><span>tc_urb2d</span></div><div class='xr-var-dims'>(Time, lat, lon)</div><div class='xr-var-dtype'>float32</div><div class='xr-var-preview xr-preview'>...</div><input id='attrs-a34c7cc3-3d75-44cd-9724-668e343ac8b3' class='xr-var-attrs-in' type='checkbox' ><label for='attrs-a34c7cc3-3d75-44cd-9724-668e343ac8b3' title='Show/Hide attributes'><svg class='icon xr-icon-file-text2'><use xlink:href='#icon-file-text2'></use></svg></label><input id='data-59411489-ad50-41c6-b4dc-8358242fca4d' class='xr-var-data-in' type='checkbox'><label for='data-59411489-ad50-41c6-b4dc-8358242fca4d' title='Show/Hide data repr'><svg class='icon xr-icon-database'><use xlink:href='#icon-database'></use></svg></label><div class='xr-var-attrs'><dl class='xr-attrs'><dt><span>MemoryOrder :</span></dt><dd>XY</dd><dt><span>description :</span></dt><dd>Daily mean urban canopy temperature</dd><dt><span>units :</span></dt><dd>K</dd><dt><span>stagger :</span></dt><dd>-</dd></dl></div><div class='xr-var-data'><pre>[13367808 values with dtype=float32]</pre></div></li><li class='xr-var-item'><div class='xr-var-name'><span>tc_urb2d_max</span></div><div class='xr-var-dims'>(Time, lat, lon)</div><div class='xr-var-dtype'>float32</div><div class='xr-var-preview xr-preview'>...</div><input id='attrs-24caae82-b166-471b-a750-fb16ed36ac6c' class='xr-var-attrs-in' type='checkbox' ><label for='attrs-24caae82-b166-471b-a750-fb16ed36ac6c' title='Show/Hide attributes'><svg class='icon xr-icon-file-text2'><use xlink:href='#icon-file-text2'></use></svg></label><input id='data-5fbf32ae-9eea-4396-ae0c-abc6a3ebb36e' class='xr-var-data-in' type='checkbox'><label for='data-5fbf32ae-9eea-4396-ae0c-abc6a3ebb36e' title='Show/Hide data repr'><svg class='icon xr-icon-database'><use xlink:href='#icon-database'></use></svg></label><div class='xr-var-attrs'><dl class='xr-attrs'><dt><span>MemoryOrder :</span></dt><dd>XY</dd><dt><span>description :</span></dt><dd>Daily maximum urban canopy temperature</dd><dt><span>units :</span></dt><dd>K</dd><dt><span>stagger :</span></dt><dd>-</dd></dl></div><div class='xr-var-data'><pre>[13367808 values with dtype=float32]</pre></div></li><li class='xr-var-item'><div class='xr-var-name'><span>tc_urb2d_min</span></div><div class='xr-var-dims'>(Time, lat, lon)</div><div class='xr-var-dtype'>float32</div><div class='xr-var-preview xr-preview'>...</div><input id='attrs-0fd62b51-d544-405a-a4b9-757126c90821' class='xr-var-attrs-in' type='checkbox' ><label for='attrs-0fd62b51-d544-405a-a4b9-757126c90821' title='Show/Hide attributes'><svg class='icon xr-icon-file-text2'><use xlink:href='#icon-file-text2'></use></svg></label><input id='data-9595ea74-a9c9-48ac-81ab-1d5473816147' class='xr-var-data-in' type='checkbox'><label for='data-9595ea74-a9c9-48ac-81ab-1d5473816147' title='Show/Hide data repr'><svg class='icon xr-icon-database'><use xlink:href='#icon-database'></use></svg></label><div class='xr-var-attrs'><dl class='xr-attrs'><dt><span>MemoryOrder :</span></dt><dd>XY</dd><dt><span>description :</span></dt><dd>Daily minimum urban canopy temperature</dd><dt><span>units :</span></dt><dd>K</dd><dt><span>stagger :</span></dt><dd>-</dd></dl></div><div class='xr-var-data'><pre>[13367808 values with dtype=float32]</pre></div></li><li class='xr-var-item'><div class='xr-var-name'><span>tg</span></div><div class='xr-var-dims'>(Time, lat, lon)</div><div class='xr-var-dtype'>float32</div><div class='xr-var-preview xr-preview'>...</div><input id='attrs-8b8ab6e6-cebe-447a-b708-d37ef2a3e868' class='xr-var-attrs-in' type='checkbox' ><label for='attrs-8b8ab6e6-cebe-447a-b708-d37ef2a3e868' title='Show/Hide attributes'><svg class='icon xr-icon-file-text2'><use xlink:href='#icon-file-text2'></use></svg></label><input id='data-0e969c6c-8a9a-45bf-a75d-c07188972ecc' class='xr-var-data-in' type='checkbox'><label for='data-0e969c6c-8a9a-45bf-a75d-c07188972ecc' title='Show/Hide data repr'><svg class='icon xr-icon-database'><use xlink:href='#icon-database'></use></svg></label><div class='xr-var-attrs'><dl class='xr-attrs'><dt><span>MemoryOrder :</span></dt><dd>XY</dd><dt><span>description :</span></dt><dd>Daily mean ground temperature</dd><dt><span>units :</span></dt><dd>K</dd><dt><span>stagger :</span></dt><dd>-</dd></dl></div><div class='xr-var-data'><pre>[13367808 values with dtype=float32]</pre></div></li><li class='xr-var-item'><div class='xr-var-name'><span>tg_max</span></div><div class='xr-var-dims'>(Time, lat, lon)</div><div class='xr-var-dtype'>float32</div><div class='xr-var-preview xr-preview'>...</div><input id='attrs-c8eb9750-a38c-4ba4-932e-413ab22ac5df' class='xr-var-attrs-in' type='checkbox' ><label for='attrs-c8eb9750-a38c-4ba4-932e-413ab22ac5df' title='Show/Hide attributes'><svg class='icon xr-icon-file-text2'><use xlink:href='#icon-file-text2'></use></svg></label><input id='data-59634b6b-38ea-491d-bd78-d618361db40b' class='xr-var-data-in' type='checkbox'><label for='data-59634b6b-38ea-491d-bd78-d618361db40b' title='Show/Hide data repr'><svg class='icon xr-icon-database'><use xlink:href='#icon-database'></use></svg></label><div class='xr-var-attrs'><dl class='xr-attrs'><dt><span>MemoryOrder :</span></dt><dd>XY</dd><dt><span>description :</span></dt><dd>Daily maximum ground temperature</dd><dt><span>units :</span></dt><dd>K</dd><dt><span>stagger :</span></dt><dd>-</dd></dl></div><div class='xr-var-data'><pre>[13367808 values with dtype=float32]</pre></div></li><li class='xr-var-item'><div class='xr-var-name'><span>tg_min</span></div><div class='xr-var-dims'>(Time, lat, lon)</div><div class='xr-var-dtype'>float32</div><div class='xr-var-preview xr-preview'>...</div><input id='attrs-1bd84f77-3677-4afb-ac48-eee43368e0fa' class='xr-var-attrs-in' type='checkbox' ><label for='attrs-1bd84f77-3677-4afb-ac48-eee43368e0fa' title='Show/Hide attributes'><svg class='icon xr-icon-file-text2'><use xlink:href='#icon-file-text2'></use></svg></label><input id='data-7c94b82e-c4c2-40d3-be55-47d03c7bef66' class='xr-var-data-in' type='checkbox'><label for='data-7c94b82e-c4c2-40d3-be55-47d03c7bef66' title='Show/Hide data repr'><svg class='icon xr-icon-database'><use xlink:href='#icon-database'></use></svg></label><div class='xr-var-attrs'><dl class='xr-attrs'><dt><span>MemoryOrder :</span></dt><dd>XY</dd><dt><span>description :</span></dt><dd>Daily minimum ground temperature</dd><dt><span>units :</span></dt><dd>K</dd><dt><span>stagger :</span></dt><dd>-</dd></dl></div><div class='xr-var-data'><pre>[13367808 values with dtype=float32]</pre></div></li><li class='xr-var-item'><div class='xr-var-name'><span>tg_urb2d</span></div><div class='xr-var-dims'>(Time, lat, lon)</div><div class='xr-var-dtype'>float32</div><div class='xr-var-preview xr-preview'>...</div><input id='attrs-b46d7b0e-fb5f-46d7-a401-63b40ecc6d65' class='xr-var-attrs-in' type='checkbox' ><label for='attrs-b46d7b0e-fb5f-46d7-a401-63b40ecc6d65' title='Show/Hide attributes'><svg class='icon xr-icon-file-text2'><use xlink:href='#icon-file-text2'></use></svg></label><input id='data-112878b0-68ce-4822-89db-d21691188b98' class='xr-var-data-in' type='checkbox'><label for='data-112878b0-68ce-4822-89db-d21691188b98' title='Show/Hide data repr'><svg class='icon xr-icon-database'><use xlink:href='#icon-database'></use></svg></label><div class='xr-var-attrs'><dl class='xr-attrs'><dt><span>MemoryOrder :</span></dt><dd>XY</dd><dt><span>description :</span></dt><dd>Daily mean urban road temperature</dd><dt><span>units :</span></dt><dd>K</dd><dt><span>stagger :</span></dt><dd>-</dd></dl></div><div class='xr-var-data'><pre>[13367808 values with dtype=float32]</pre></div></li><li class='xr-var-item'><div class='xr-var-name'><span>tg_urb2d_max</span></div><div class='xr-var-dims'>(Time, lat, lon)</div><div class='xr-var-dtype'>float32</div><div class='xr-var-preview xr-preview'>...</div><input id='attrs-6efd736c-a7bf-4ecc-acd7-4081524b13df' class='xr-var-attrs-in' type='checkbox' ><label for='attrs-6efd736c-a7bf-4ecc-acd7-4081524b13df' title='Show/Hide attributes'><svg class='icon xr-icon-file-text2'><use xlink:href='#icon-file-text2'></use></svg></label><input id='data-ca3715d7-1054-4a86-a8f9-9eab250b10f6' class='xr-var-data-in' type='checkbox'><label for='data-ca3715d7-1054-4a86-a8f9-9eab250b10f6' title='Show/Hide data repr'><svg class='icon xr-icon-database'><use xlink:href='#icon-database'></use></svg></label><div class='xr-var-attrs'><dl class='xr-attrs'><dt><span>MemoryOrder :</span></dt><dd>XY</dd><dt><span>description :</span></dt><dd>Daily maximum urban road temperature</dd><dt><span>units :</span></dt><dd>K</dd><dt><span>stagger :</span></dt><dd>-</dd></dl></div><div class='xr-var-data'><pre>[13367808 values with dtype=float32]</pre></div></li><li class='xr-var-item'><div class='xr-var-name'><span>tg_urb2d_min</span></div><div class='xr-var-dims'>(Time, lat, lon)</div><div class='xr-var-dtype'>float32</div><div class='xr-var-preview xr-preview'>...</div><input id='attrs-bad99c83-b50f-4d9e-829c-5ca1952a7d6a' class='xr-var-attrs-in' type='checkbox' ><label for='attrs-bad99c83-b50f-4d9e-829c-5ca1952a7d6a' title='Show/Hide attributes'><svg class='icon xr-icon-file-text2'><use xlink:href='#icon-file-text2'></use></svg></label><input id='data-2d31bc2e-b834-4f93-a543-2608ca68812a' class='xr-var-data-in' type='checkbox'><label for='data-2d31bc2e-b834-4f93-a543-2608ca68812a' title='Show/Hide data repr'><svg class='icon xr-icon-database'><use xlink:href='#icon-database'></use></svg></label><div class='xr-var-attrs'><dl class='xr-attrs'><dt><span>MemoryOrder :</span></dt><dd>XY</dd><dt><span>description :</span></dt><dd>Daily minimum urban road temperature</dd><dt><span>units :</span></dt><dd>K</dd><dt><span>stagger :</span></dt><dd>-</dd></dl></div><div class='xr-var-data'><pre>[13367808 values with dtype=float32]</pre></div></li><li class='xr-var-item'><div class='xr-var-name'><span>time</span></div><div class='xr-var-dims'>(Time)</div><div class='xr-var-dtype'>datetime64[ns]</div><div class='xr-var-preview xr-preview'>...</div><input id='attrs-90703200-b879-40ae-b70e-d907ee7f2723' class='xr-var-attrs-in' type='checkbox' disabled><label for='attrs-90703200-b879-40ae-b70e-d907ee7f2723' title='Show/Hide attributes'><svg class='icon xr-icon-file-text2'><use xlink:href='#icon-file-text2'></use></svg></label><input id='data-a53909ae-4529-46c4-8d13-639fcdf59dbb' class='xr-var-data-in' type='checkbox'><label for='data-a53909ae-4529-46c4-8d13-639fcdf59dbb' title='Show/Hide data repr'><svg class='icon xr-icon-database'><use xlink:href='#icon-database'></use></svg></label><div class='xr-var-attrs'><dl class='xr-attrs'></dl></div><div class='xr-var-data'><pre>[1 values with dtype=datetime64[ns]]</pre></div></li><li class='xr-var-item'><div class='xr-var-name'><span>tr_urb2d</span></div><div class='xr-var-dims'>(Time, lat, lon)</div><div class='xr-var-dtype'>float32</div><div class='xr-var-preview xr-preview'>...</div><input id='attrs-e947aa7f-734f-430e-996d-fa2f4eee0d0d' class='xr-var-attrs-in' type='checkbox' ><label for='attrs-e947aa7f-734f-430e-996d-fa2f4eee0d0d' title='Show/Hide attributes'><svg class='icon xr-icon-file-text2'><use xlink:href='#icon-file-text2'></use></svg></label><input id='data-c35a6414-ec77-4cb0-9423-93f7380a426f' class='xr-var-data-in' type='checkbox'><label for='data-c35a6414-ec77-4cb0-9423-93f7380a426f' title='Show/Hide data repr'><svg class='icon xr-icon-database'><use xlink:href='#icon-database'></use></svg></label><div class='xr-var-attrs'><dl class='xr-attrs'><dt><span>MemoryOrder :</span></dt><dd>XY</dd><dt><span>description :</span></dt><dd>Daily mean urban radiative temperature</dd><dt><span>units :</span></dt><dd>K</dd><dt><span>stagger :</span></dt><dd>-</dd></dl></div><div class='xr-var-data'><pre>[13367808 values with dtype=float32]</pre></div></li><li class='xr-var-item'><div class='xr-var-name'><span>tr_urb2d_max</span></div><div class='xr-var-dims'>(Time, lat, lon)</div><div class='xr-var-dtype'>float32</div><div class='xr-var-preview xr-preview'>...</div><input id='attrs-b65ee545-63a1-4be6-94a0-e225768a2ea0' class='xr-var-attrs-in' type='checkbox' ><label for='attrs-b65ee545-63a1-4be6-94a0-e225768a2ea0' title='Show/Hide attributes'><svg class='icon xr-icon-file-text2'><use xlink:href='#icon-file-text2'></use></svg></label><input id='data-a87a35b0-bd70-4d71-afbb-6cf044e9edd3' class='xr-var-data-in' type='checkbox'><label for='data-a87a35b0-bd70-4d71-afbb-6cf044e9edd3' title='Show/Hide data repr'><svg class='icon xr-icon-database'><use xlink:href='#icon-database'></use></svg></label><div class='xr-var-attrs'><dl class='xr-attrs'><dt><span>MemoryOrder :</span></dt><dd>XY</dd><dt><span>description :</span></dt><dd>Daily maximum urban radiative temperature</dd><dt><span>units :</span></dt><dd>K</dd><dt><span>stagger :</span></dt><dd>-</dd></dl></div><div class='xr-var-data'><pre>[13367808 values with dtype=float32]</pre></div></li><li class='xr-var-item'><div class='xr-var-name'><span>tr_urb2d_min</span></div><div class='xr-var-dims'>(Time, lat, lon)</div><div class='xr-var-dtype'>float32</div><div class='xr-var-preview xr-preview'>...</div><input id='attrs-9eeef37f-f50b-466b-b490-9566f37ac12f' class='xr-var-attrs-in' type='checkbox' ><label for='attrs-9eeef37f-f50b-466b-b490-9566f37ac12f' title='Show/Hide attributes'><svg class='icon xr-icon-file-text2'><use xlink:href='#icon-file-text2'></use></svg></label><input id='data-8ba26cce-f279-4907-9932-5a13b4d87e9e' class='xr-var-data-in' type='checkbox'><label for='data-8ba26cce-f279-4907-9932-5a13b4d87e9e' title='Show/Hide data repr'><svg class='icon xr-icon-database'><use xlink:href='#icon-database'></use></svg></label><div class='xr-var-attrs'><dl class='xr-attrs'><dt><span>MemoryOrder :</span></dt><dd>XY</dd><dt><span>description :</span></dt><dd>Daily minimum urban radiative temperature</dd><dt><span>units :</span></dt><dd>K</dd><dt><span>stagger :</span></dt><dd>-</dd></dl></div><div class='xr-var-data'><pre>[13367808 values with dtype=float32]</pre></div></li><li class='xr-var-item'><div class='xr-var-name'><span>trad</span></div><div class='xr-var-dims'>(Time, lat, lon)</div><div class='xr-var-dtype'>float32</div><div class='xr-var-preview xr-preview'>...</div><input id='attrs-33f4b661-74b9-44a8-9c07-24c304f033a7' class='xr-var-attrs-in' type='checkbox' ><label for='attrs-33f4b661-74b9-44a8-9c07-24c304f033a7' title='Show/Hide attributes'><svg class='icon xr-icon-file-text2'><use xlink:href='#icon-file-text2'></use></svg></label><input id='data-d5827096-0350-469e-ba5c-9a6d96cbde98' class='xr-var-data-in' type='checkbox'><label for='data-d5827096-0350-469e-ba5c-9a6d96cbde98' title='Show/Hide data repr'><svg class='icon xr-icon-database'><use xlink:href='#icon-database'></use></svg></label><div class='xr-var-attrs'><dl class='xr-attrs'><dt><span>MemoryOrder :</span></dt><dd>XY</dd><dt><span>description :</span></dt><dd>Daily mean surface radiative temperature</dd><dt><span>units :</span></dt><dd>K</dd><dt><span>stagger :</span></dt><dd>-</dd></dl></div><div class='xr-var-data'><pre>[13367808 values with dtype=float32]</pre></div></li><li class='xr-var-item'><div class='xr-var-name'><span>trad_max</span></div><div class='xr-var-dims'>(Time, lat, lon)</div><div class='xr-var-dtype'>float32</div><div class='xr-var-preview xr-preview'>...</div><input id='attrs-abbe4767-e59c-49eb-a3fa-3d138c2f8a31' class='xr-var-attrs-in' type='checkbox' ><label for='attrs-abbe4767-e59c-49eb-a3fa-3d138c2f8a31' title='Show/Hide attributes'><svg class='icon xr-icon-file-text2'><use xlink:href='#icon-file-text2'></use></svg></label><input id='data-a6d0a866-e764-453a-89dd-7ca78b7c1a57' class='xr-var-data-in' type='checkbox'><label for='data-a6d0a866-e764-453a-89dd-7ca78b7c1a57' title='Show/Hide data repr'><svg class='icon xr-icon-database'><use xlink:href='#icon-database'></use></svg></label><div class='xr-var-attrs'><dl class='xr-attrs'><dt><span>MemoryOrder :</span></dt><dd>XY</dd><dt><span>description :</span></dt><dd>Daily maximum surface radiative temperature</dd><dt><span>units :</span></dt><dd>K</dd><dt><span>stagger :</span></dt><dd>-</dd></dl></div><div class='xr-var-data'><pre>[13367808 values with dtype=float32]</pre></div></li><li class='xr-var-item'><div class='xr-var-name'><span>trad_min</span></div><div class='xr-var-dims'>(Time, lat, lon)</div><div class='xr-var-dtype'>float32</div><div class='xr-var-preview xr-preview'>...</div><input id='attrs-f3096355-a14a-4aed-946e-045f6a910209' class='xr-var-attrs-in' type='checkbox' ><label for='attrs-f3096355-a14a-4aed-946e-045f6a910209' title='Show/Hide attributes'><svg class='icon xr-icon-file-text2'><use xlink:href='#icon-file-text2'></use></svg></label><input id='data-88c0b8e8-4681-4fd1-a6c4-30464ca862df' class='xr-var-data-in' type='checkbox'><label for='data-88c0b8e8-4681-4fd1-a6c4-30464ca862df' title='Show/Hide data repr'><svg class='icon xr-icon-database'><use xlink:href='#icon-database'></use></svg></label><div class='xr-var-attrs'><dl class='xr-attrs'><dt><span>MemoryOrder :</span></dt><dd>XY</dd><dt><span>description :</span></dt><dd>Daily minimum surface radiative temperature</dd><dt><span>units :</span></dt><dd>K</dd><dt><span>stagger :</span></dt><dd>-</dd></dl></div><div class='xr-var-data'><pre>[13367808 values with dtype=float32]</pre></div></li><li class='xr-var-item'><div class='xr-var-name'><span>tsk</span></div><div class='xr-var-dims'>(Time, lat, lon)</div><div class='xr-var-dtype'>float32</div><div class='xr-var-preview xr-preview'>...</div><input id='attrs-8f8435c3-eed6-4ef7-b28d-94902916317f' class='xr-var-attrs-in' type='checkbox' ><label for='attrs-8f8435c3-eed6-4ef7-b28d-94902916317f' title='Show/Hide attributes'><svg class='icon xr-icon-file-text2'><use xlink:href='#icon-file-text2'></use></svg></label><input id='data-3781dde8-988a-4a6e-9254-7b9b6383871e' class='xr-var-data-in' type='checkbox'><label for='data-3781dde8-988a-4a6e-9254-7b9b6383871e' title='Show/Hide data repr'><svg class='icon xr-icon-database'><use xlink:href='#icon-database'></use></svg></label><div class='xr-var-attrs'><dl class='xr-attrs'><dt><span>MemoryOrder :</span></dt><dd>XY</dd><dt><span>description :</span></dt><dd>Daily mean surface skin temperature (urban weighted)</dd><dt><span>units :</span></dt><dd>K</dd><dt><span>stagger :</span></dt><dd>-</dd></dl></div><div class='xr-var-data'><pre>[13367808 values with dtype=float32]</pre></div></li><li class='xr-var-item'><div class='xr-var-name'><span>tsk_max</span></div><div class='xr-var-dims'>(Time, lat, lon)</div><div class='xr-var-dtype'>float32</div><div class='xr-var-preview xr-preview'>...</div><input id='attrs-5414f349-7469-4368-a7e8-c2e35602f47f' class='xr-var-attrs-in' type='checkbox' ><label for='attrs-5414f349-7469-4368-a7e8-c2e35602f47f' title='Show/Hide attributes'><svg class='icon xr-icon-file-text2'><use xlink:href='#icon-file-text2'></use></svg></label><input id='data-a6741087-7b15-4522-8762-2c1e0ec95776' class='xr-var-data-in' type='checkbox'><label for='data-a6741087-7b15-4522-8762-2c1e0ec95776' title='Show/Hide data repr'><svg class='icon xr-icon-database'><use xlink:href='#icon-database'></use></svg></label><div class='xr-var-attrs'><dl class='xr-attrs'><dt><span>MemoryOrder :</span></dt><dd>XY</dd><dt><span>description :</span></dt><dd>Daily maximum surface skin temperature (urban weighted)</dd><dt><span>units :</span></dt><dd>K</dd><dt><span>stagger :</span></dt><dd>-</dd></dl></div><div class='xr-var-data'><pre>[13367808 values with dtype=float32]</pre></div></li><li class='xr-var-item'><div class='xr-var-name'><span>tsk_min</span></div><div class='xr-var-dims'>(Time, lat, lon)</div><div class='xr-var-dtype'>float32</div><div class='xr-var-preview xr-preview'>...</div><input id='attrs-1ddb0528-a0e2-4d04-9a4e-08b9f7e58059' class='xr-var-attrs-in' type='checkbox' ><label for='attrs-1ddb0528-a0e2-4d04-9a4e-08b9f7e58059' title='Show/Hide attributes'><svg class='icon xr-icon-file-text2'><use xlink:href='#icon-file-text2'></use></svg></label><input id='data-4ebefe78-a0c3-47c6-ae3c-656a1d1373d5' class='xr-var-data-in' type='checkbox'><label for='data-4ebefe78-a0c3-47c6-ae3c-656a1d1373d5' title='Show/Hide data repr'><svg class='icon xr-icon-database'><use xlink:href='#icon-database'></use></svg></label><div class='xr-var-attrs'><dl class='xr-attrs'><dt><span>MemoryOrder :</span></dt><dd>XY</dd><dt><span>description :</span></dt><dd>Daily minimum surface skin temperature (urban weighted)</dd><dt><span>units :</span></dt><dd>K</dd><dt><span>stagger :</span></dt><dd>-</dd></dl></div><div class='xr-var-data'><pre>[13367808 values with dtype=float32]</pre></div></li><li class='xr-var-item'><div class='xr-var-name'><span>wspd</span></div><div class='xr-var-dims'>(Time, lat, lon)</div><div class='xr-var-dtype'>float32</div><div class='xr-var-preview xr-preview'>...</div><input id='attrs-f48db4e8-2046-4609-8568-ab636aae07fc' class='xr-var-attrs-in' type='checkbox' ><label for='attrs-f48db4e8-2046-4609-8568-ab636aae07fc' title='Show/Hide attributes'><svg class='icon xr-icon-file-text2'><use xlink:href='#icon-file-text2'></use></svg></label><input id='data-3fca10b2-ea67-4c97-affc-e9f5554aae5d' class='xr-var-data-in' type='checkbox'><label for='data-3fca10b2-ea67-4c97-affc-e9f5554aae5d' title='Show/Hide data repr'><svg class='icon xr-icon-database'><use xlink:href='#icon-database'></use></svg></label><div class='xr-var-attrs'><dl class='xr-attrs'><dt><span>MemoryOrder :</span></dt><dd>XY</dd><dt><span>description :</span></dt><dd>Daily mean wind speed</dd><dt><span>units :</span></dt><dd>m s{-1}</dd><dt><span>stagger :</span></dt><dd>-</dd></dl></div><div class='xr-var-data'><pre>[13367808 values with dtype=float32]</pre></div></li></ul></div></li><li class='xr-section-item'><input id='section-b4591292-c5c3-4677-a4d9-cb0e95dc38ef' class='xr-section-summary-in' type='checkbox' disabled ><label for='section-b4591292-c5c3-4677-a4d9-cb0e95dc38ef' class='xr-section-summary'  title='Expand/collapse section'>Indexes: <span>(0)</span></label><div class='xr-section-inline-details'></div><div class='xr-section-details'><ul class='xr-var-list'></ul></div></li><li class='xr-section-item'><input id='section-240965ac-d478-4ae0-9656-8b851792caf7' class='xr-section-summary-in' type='checkbox'  ><label for='section-240965ac-d478-4ae0-9656-8b851792caf7' class='xr-section-summary' >Attributes: <span>(50)</span></label><div class='xr-section-inline-details'></div><div class='xr-section-details'><dl class='xr-attrs'><dt><span>SIMULATION_START_DATE :</span></dt><dd>0000-00-00_00:00:00</dd><dt><span>WEST-EAST_GRID_DIMENSION :</span></dt><dd>4609</dd><dt><span>SOUTH-NORTH_GRID_DIMENSION :</span></dt><dd>3841</dd><dt><span>BOTTOM-TOP_GRID_DIMENSION :</span></dt><dd>0</dd><dt><span>WEST-EAST_PATCH_START_UNSTAG :</span></dt><dd>1</dd><dt><span>WEST-EAST_PATCH_END_UNSTAG :</span></dt><dd>4608</dd><dt><span>WEST-EAST_PATCH_START_STAG :</span></dt><dd>1</dd><dt><span>WEST-EAST_PATCH_END_STAG :</span></dt><dd>4609</dd><dt><span>SOUTH-NORTH_PATCH_START_UNSTAG :</span></dt><dd>1</dd><dt><span>SOUTH-NORTH_PATCH_END_UNSTAG :</span></dt><dd>3840</dd><dt><span>SOUTH-NORTH_PATCH_START_STAG :</span></dt><dd>1</dd><dt><span>SOUTH-NORTH_PATCH_END_STAG :</span></dt><dd>3841</dd><dt><span>GRIDTYPE :</span></dt><dd>C</dd><dt><span>DX :</span></dt><dd>1000.0</dd><dt><span>DY :</span></dt><dd>1000.0</dd><dt><span>DYN_OPT :</span></dt><dd>2</dd><dt><span>CEN_LAT :</span></dt><dd>40.000008</dd><dt><span>CEN_LON :</span></dt><dd>-97.0</dd><dt><span>TRUELAT1 :</span></dt><dd>30.0</dd><dt><span>TRUELAT2 :</span></dt><dd>60.0</dd><dt><span>MOAD_CEN_LAT :</span></dt><dd>40.000008</dd><dt><span>STAND_LON :</span></dt><dd>-97.0</dd><dt><span>POLE_LAT :</span></dt><dd>90.0</dd><dt><span>POLE_LON :</span></dt><dd>0.0</dd><dt><span>corner_lats :</span></dt><dd>[20.077812 52.87278  52.87278  20.077812 20.076714 52.870747 52.870747\n",
       " 20.076714 20.073708 52.876926 52.876926 20.073708 20.072594 52.87489\n",
       " 52.87489  20.072594]</dd><dt><span>corner_lons :</span></dt><dd>[-118.10449  -133.50734   -60.492676  -75.89551  -118.10886  -133.5142\n",
       "  -60.48578   -75.89114  -118.1033   -133.51071   -60.48929   -75.8967\n",
       " -118.107666 -133.51758   -60.48242   -75.892334]</dd><dt><span>MAP_PROJ :</span></dt><dd>1</dd><dt><span>MMINLU :</span></dt><dd>USGS</dd><dt><span>NUM_LAND_CAT :</span></dt><dd>96</dd><dt><span>ISWATER :</span></dt><dd>16</dd><dt><span>ISLAKE :</span></dt><dd>-1</dd><dt><span>ISICE :</span></dt><dd>24</dd><dt><span>ISURBAN :</span></dt><dd>1</dd><dt><span>ISOILWATER :</span></dt><dd>14</dd><dt><span>grid_id :</span></dt><dd>1</dd><dt><span>parent_id :</span></dt><dd>1</dd><dt><span>i_parent_start :</span></dt><dd>1</dd><dt><span>j_parent_start :</span></dt><dd>1</dd><dt><span>i_parent_end :</span></dt><dd>4609</dd><dt><span>j_parent_end :</span></dt><dd>3841</dd><dt><span>parent_grid_ratio :</span></dt><dd>1</dd><dt><span>sr_x :</span></dt><dd>1</dd><dt><span>sr_y :</span></dt><dd>1</dd><dt><span>FLAG_MF_XY :</span></dt><dd>1</dd><dt><span>FLAG_LAI12M :</span></dt><dd>1</dd><dt><span>FLAG_LAKE_DEPTH :</span></dt><dd>1</dd><dt><span>nco_openmp_thread_number :</span></dt><dd>1</dd><dt><span>NCO :</span></dt><dd>netCDF Operators version 5.1.9 (Homepage = http://nco.sf.net, Code = http://github.com/nco/nco, Citation = 10.1016/j.envsoft.2008.03.004)</dd><dt><span>TITLE :</span></dt><dd>OUTPUT FROM GEOGRID V4.0.1</dd><dt><span>history :</span></dt><dd>Sat Feb 17 19:31:44 2024: ncks -4 -L 1 conus_HUMID_19831225.nc4 -O conus_HUMID_19831225.nc4\n",
       "Thu Apr 25 17:57:28 2019: ncatted -a description,URB_CAT,o,c,Dominant Urban Category geo_em.d01.nlcd2001.nc</dd></dl></div></li></ul></div></div>"
      ],
      "text/plain": [
       "<xarray.Dataset> Size: 3GB\n",
       "Dimensions:            (Time: 1, lat: 2901, lon: 4608)\n",
       "Coordinates:\n",
       "    lat                (lat, lon) float32 53MB ...\n",
       "    lon                (lat, lon) float32 53MB ...\n",
       "Dimensions without coordinates: Time\n",
       "Data variables: (12/47)\n",
       "    FRC_URB2D          (Time, lat, lon) float32 53MB ...\n",
       "    HGT                (Time, lat, lon) float32 53MB ...\n",
       "    ISLTYP             (Time, lat, lon) float64 107MB ...\n",
       "    IVGTYP             (Time, lat, lon) float64 107MB ...\n",
       "    LU_INDEX           (Time, lat, lon) float32 53MB ...\n",
       "    Lambert_Conformal  int32 4B ...\n",
       "    ...                 ...\n",
       "    trad_max           (Time, lat, lon) float32 53MB ...\n",
       "    trad_min           (Time, lat, lon) float32 53MB ...\n",
       "    tsk                (Time, lat, lon) float32 53MB ...\n",
       "    tsk_max            (Time, lat, lon) float32 53MB ...\n",
       "    tsk_min            (Time, lat, lon) float32 53MB ...\n",
       "    wspd               (Time, lat, lon) float32 53MB ...\n",
       "Attributes: (12/50)\n",
       "    SIMULATION_START_DATE:           0000-00-00_00:00:00\n",
       "    WEST-EAST_GRID_DIMENSION:        4609\n",
       "    SOUTH-NORTH_GRID_DIMENSION:      3841\n",
       "    BOTTOM-TOP_GRID_DIMENSION:       0\n",
       "    WEST-EAST_PATCH_START_UNSTAG:    1\n",
       "    WEST-EAST_PATCH_END_UNSTAG:      4608\n",
       "    ...                              ...\n",
       "    FLAG_LAI12M:                     1\n",
       "    FLAG_LAKE_DEPTH:                 1\n",
       "    nco_openmp_thread_number:        1\n",
       "    NCO:                             netCDF Operators version 5.1.9 (Homepage...\n",
       "    TITLE:                           OUTPUT FROM GEOGRID V4.0.1\n",
       "    history:                         Sat Feb 17 19:31:44 2024: ncks -4 -L 1 c..."
      ]
     },
     "execution_count": 17,
     "metadata": {},
     "output_type": "execute_result"
    }
   ],
   "source": [
    "# Use the following function to laod your dataset and check its file format is compatible. \n",
    "# Add the filename / file path of your gridded dataset below:\n",
    "\n",
    "gridded_file_path = \"dataset/conus_HUMID_19831225.nc4\"\n",
    "\n",
    "# Uncomment the lines below to check compatibility and load your dataset. \n",
    "dataset = gridded.detect_gridded_format_and_open(gridded_file_path)\n",
    "dataset"
   ]
  },
  {
   "cell_type": "code",
   "execution_count": 18,
   "id": "9ae52873-885c-4b10-8ea6-75441787f625",
   "metadata": {},
   "outputs": [
    {
     "name": "stdout",
     "output_type": "stream",
     "text": [
      "FrozenMappingWarningOnValuesAccess({'Time': 1, 'lat': 2901, 'lon': 4608})\n",
      "No time coordinate found.\n",
      "FrozenMappingWarningOnValuesAccess({'Time': 1, 'lat': 2901, 'lon': 4608})\n",
      "Time coordinate name changed to time\n",
      "FrozenMappingWarningOnValuesAccess({'time': 1, 'lat': 2901, 'lon': 4608})\n"
     ]
    },
    {
     "data": {
      "text/html": [
       "<div><svg style=\"position: absolute; width: 0; height: 0; overflow: hidden\">\n",
       "<defs>\n",
       "<symbol id=\"icon-database\" viewBox=\"0 0 32 32\">\n",
       "<path d=\"M16 0c-8.837 0-16 2.239-16 5v4c0 2.761 7.163 5 16 5s16-2.239 16-5v-4c0-2.761-7.163-5-16-5z\"></path>\n",
       "<path d=\"M16 17c-8.837 0-16-2.239-16-5v6c0 2.761 7.163 5 16 5s16-2.239 16-5v-6c0 2.761-7.163 5-16 5z\"></path>\n",
       "<path d=\"M16 26c-8.837 0-16-2.239-16-5v6c0 2.761 7.163 5 16 5s16-2.239 16-5v-6c0 2.761-7.163 5-16 5z\"></path>\n",
       "</symbol>\n",
       "<symbol id=\"icon-file-text2\" viewBox=\"0 0 32 32\">\n",
       "<path d=\"M28.681 7.159c-0.694-0.947-1.662-2.053-2.724-3.116s-2.169-2.030-3.116-2.724c-1.612-1.182-2.393-1.319-2.841-1.319h-15.5c-1.378 0-2.5 1.121-2.5 2.5v27c0 1.378 1.122 2.5 2.5 2.5h23c1.378 0 2.5-1.122 2.5-2.5v-19.5c0-0.448-0.137-1.23-1.319-2.841zM24.543 5.457c0.959 0.959 1.712 1.825 2.268 2.543h-4.811v-4.811c0.718 0.556 1.584 1.309 2.543 2.268zM28 29.5c0 0.271-0.229 0.5-0.5 0.5h-23c-0.271 0-0.5-0.229-0.5-0.5v-27c0-0.271 0.229-0.5 0.5-0.5 0 0 15.499-0 15.5 0v7c0 0.552 0.448 1 1 1h7v19.5z\"></path>\n",
       "<path d=\"M23 26h-14c-0.552 0-1-0.448-1-1s0.448-1 1-1h14c0.552 0 1 0.448 1 1s-0.448 1-1 1z\"></path>\n",
       "<path d=\"M23 22h-14c-0.552 0-1-0.448-1-1s0.448-1 1-1h14c0.552 0 1 0.448 1 1s-0.448 1-1 1z\"></path>\n",
       "<path d=\"M23 18h-14c-0.552 0-1-0.448-1-1s0.448-1 1-1h14c0.552 0 1 0.448 1 1s-0.448 1-1 1z\"></path>\n",
       "</symbol>\n",
       "</defs>\n",
       "</svg>\n",
       "<style>/* CSS stylesheet for displaying xarray objects in jupyterlab.\n",
       " *\n",
       " */\n",
       "\n",
       ":root {\n",
       "  --xr-font-color0: var(--jp-content-font-color0, rgba(0, 0, 0, 1));\n",
       "  --xr-font-color2: var(--jp-content-font-color2, rgba(0, 0, 0, 0.54));\n",
       "  --xr-font-color3: var(--jp-content-font-color3, rgba(0, 0, 0, 0.38));\n",
       "  --xr-border-color: var(--jp-border-color2, #e0e0e0);\n",
       "  --xr-disabled-color: var(--jp-layout-color3, #bdbdbd);\n",
       "  --xr-background-color: var(--jp-layout-color0, white);\n",
       "  --xr-background-color-row-even: var(--jp-layout-color1, white);\n",
       "  --xr-background-color-row-odd: var(--jp-layout-color2, #eeeeee);\n",
       "}\n",
       "\n",
       "html[theme=\"dark\"],\n",
       "html[data-theme=\"dark\"],\n",
       "body[data-theme=\"dark\"],\n",
       "body.vscode-dark {\n",
       "  --xr-font-color0: rgba(255, 255, 255, 1);\n",
       "  --xr-font-color2: rgba(255, 255, 255, 0.54);\n",
       "  --xr-font-color3: rgba(255, 255, 255, 0.38);\n",
       "  --xr-border-color: #1f1f1f;\n",
       "  --xr-disabled-color: #515151;\n",
       "  --xr-background-color: #111111;\n",
       "  --xr-background-color-row-even: #111111;\n",
       "  --xr-background-color-row-odd: #313131;\n",
       "}\n",
       "\n",
       ".xr-wrap {\n",
       "  display: block !important;\n",
       "  min-width: 300px;\n",
       "  max-width: 700px;\n",
       "}\n",
       "\n",
       ".xr-text-repr-fallback {\n",
       "  /* fallback to plain text repr when CSS is not injected (untrusted notebook) */\n",
       "  display: none;\n",
       "}\n",
       "\n",
       ".xr-header {\n",
       "  padding-top: 6px;\n",
       "  padding-bottom: 6px;\n",
       "  margin-bottom: 4px;\n",
       "  border-bottom: solid 1px var(--xr-border-color);\n",
       "}\n",
       "\n",
       ".xr-header > div,\n",
       ".xr-header > ul {\n",
       "  display: inline;\n",
       "  margin-top: 0;\n",
       "  margin-bottom: 0;\n",
       "}\n",
       "\n",
       ".xr-obj-type,\n",
       ".xr-array-name {\n",
       "  margin-left: 2px;\n",
       "  margin-right: 10px;\n",
       "}\n",
       "\n",
       ".xr-obj-type {\n",
       "  color: var(--xr-font-color2);\n",
       "}\n",
       "\n",
       ".xr-sections {\n",
       "  padding-left: 0 !important;\n",
       "  display: grid;\n",
       "  grid-template-columns: 150px auto auto 1fr 0 20px 0 20px;\n",
       "}\n",
       "\n",
       ".xr-section-item {\n",
       "  display: contents;\n",
       "}\n",
       "\n",
       ".xr-section-item input {\n",
       "  display: inline-block;\n",
       "  opacity: 0;\n",
       "  height: 0;\n",
       "}\n",
       "\n",
       ".xr-section-item input + label {\n",
       "  color: var(--xr-disabled-color);\n",
       "}\n",
       "\n",
       ".xr-section-item input:enabled + label {\n",
       "  cursor: pointer;\n",
       "  color: var(--xr-font-color2);\n",
       "}\n",
       "\n",
       ".xr-section-item input:focus + label {\n",
       "  border: 2px solid var(--xr-font-color0);\n",
       "}\n",
       "\n",
       ".xr-section-item input:enabled + label:hover {\n",
       "  color: var(--xr-font-color0);\n",
       "}\n",
       "\n",
       ".xr-section-summary {\n",
       "  grid-column: 1;\n",
       "  color: var(--xr-font-color2);\n",
       "  font-weight: 500;\n",
       "}\n",
       "\n",
       ".xr-section-summary > span {\n",
       "  display: inline-block;\n",
       "  padding-left: 0.5em;\n",
       "}\n",
       "\n",
       ".xr-section-summary-in:disabled + label {\n",
       "  color: var(--xr-font-color2);\n",
       "}\n",
       "\n",
       ".xr-section-summary-in + label:before {\n",
       "  display: inline-block;\n",
       "  content: \"►\";\n",
       "  font-size: 11px;\n",
       "  width: 15px;\n",
       "  text-align: center;\n",
       "}\n",
       "\n",
       ".xr-section-summary-in:disabled + label:before {\n",
       "  color: var(--xr-disabled-color);\n",
       "}\n",
       "\n",
       ".xr-section-summary-in:checked + label:before {\n",
       "  content: \"▼\";\n",
       "}\n",
       "\n",
       ".xr-section-summary-in:checked + label > span {\n",
       "  display: none;\n",
       "}\n",
       "\n",
       ".xr-section-summary,\n",
       ".xr-section-inline-details {\n",
       "  padding-top: 4px;\n",
       "  padding-bottom: 4px;\n",
       "}\n",
       "\n",
       ".xr-section-inline-details {\n",
       "  grid-column: 2 / -1;\n",
       "}\n",
       "\n",
       ".xr-section-details {\n",
       "  display: none;\n",
       "  grid-column: 1 / -1;\n",
       "  margin-bottom: 5px;\n",
       "}\n",
       "\n",
       ".xr-section-summary-in:checked ~ .xr-section-details {\n",
       "  display: contents;\n",
       "}\n",
       "\n",
       ".xr-array-wrap {\n",
       "  grid-column: 1 / -1;\n",
       "  display: grid;\n",
       "  grid-template-columns: 20px auto;\n",
       "}\n",
       "\n",
       ".xr-array-wrap > label {\n",
       "  grid-column: 1;\n",
       "  vertical-align: top;\n",
       "}\n",
       "\n",
       ".xr-preview {\n",
       "  color: var(--xr-font-color3);\n",
       "}\n",
       "\n",
       ".xr-array-preview,\n",
       ".xr-array-data {\n",
       "  padding: 0 5px !important;\n",
       "  grid-column: 2;\n",
       "}\n",
       "\n",
       ".xr-array-data,\n",
       ".xr-array-in:checked ~ .xr-array-preview {\n",
       "  display: none;\n",
       "}\n",
       "\n",
       ".xr-array-in:checked ~ .xr-array-data,\n",
       ".xr-array-preview {\n",
       "  display: inline-block;\n",
       "}\n",
       "\n",
       ".xr-dim-list {\n",
       "  display: inline-block !important;\n",
       "  list-style: none;\n",
       "  padding: 0 !important;\n",
       "  margin: 0;\n",
       "}\n",
       "\n",
       ".xr-dim-list li {\n",
       "  display: inline-block;\n",
       "  padding: 0;\n",
       "  margin: 0;\n",
       "}\n",
       "\n",
       ".xr-dim-list:before {\n",
       "  content: \"(\";\n",
       "}\n",
       "\n",
       ".xr-dim-list:after {\n",
       "  content: \")\";\n",
       "}\n",
       "\n",
       ".xr-dim-list li:not(:last-child):after {\n",
       "  content: \",\";\n",
       "  padding-right: 5px;\n",
       "}\n",
       "\n",
       ".xr-has-index {\n",
       "  font-weight: bold;\n",
       "}\n",
       "\n",
       ".xr-var-list,\n",
       ".xr-var-item {\n",
       "  display: contents;\n",
       "}\n",
       "\n",
       ".xr-var-item > div,\n",
       ".xr-var-item label,\n",
       ".xr-var-item > .xr-var-name span {\n",
       "  background-color: var(--xr-background-color-row-even);\n",
       "  margin-bottom: 0;\n",
       "}\n",
       "\n",
       ".xr-var-item > .xr-var-name:hover span {\n",
       "  padding-right: 5px;\n",
       "}\n",
       "\n",
       ".xr-var-list > li:nth-child(odd) > div,\n",
       ".xr-var-list > li:nth-child(odd) > label,\n",
       ".xr-var-list > li:nth-child(odd) > .xr-var-name span {\n",
       "  background-color: var(--xr-background-color-row-odd);\n",
       "}\n",
       "\n",
       ".xr-var-name {\n",
       "  grid-column: 1;\n",
       "}\n",
       "\n",
       ".xr-var-dims {\n",
       "  grid-column: 2;\n",
       "}\n",
       "\n",
       ".xr-var-dtype {\n",
       "  grid-column: 3;\n",
       "  text-align: right;\n",
       "  color: var(--xr-font-color2);\n",
       "}\n",
       "\n",
       ".xr-var-preview {\n",
       "  grid-column: 4;\n",
       "}\n",
       "\n",
       ".xr-index-preview {\n",
       "  grid-column: 2 / 5;\n",
       "  color: var(--xr-font-color2);\n",
       "}\n",
       "\n",
       ".xr-var-name,\n",
       ".xr-var-dims,\n",
       ".xr-var-dtype,\n",
       ".xr-preview,\n",
       ".xr-attrs dt {\n",
       "  white-space: nowrap;\n",
       "  overflow: hidden;\n",
       "  text-overflow: ellipsis;\n",
       "  padding-right: 10px;\n",
       "}\n",
       "\n",
       ".xr-var-name:hover,\n",
       ".xr-var-dims:hover,\n",
       ".xr-var-dtype:hover,\n",
       ".xr-attrs dt:hover {\n",
       "  overflow: visible;\n",
       "  width: auto;\n",
       "  z-index: 1;\n",
       "}\n",
       "\n",
       ".xr-var-attrs,\n",
       ".xr-var-data,\n",
       ".xr-index-data {\n",
       "  display: none;\n",
       "  background-color: var(--xr-background-color) !important;\n",
       "  padding-bottom: 5px !important;\n",
       "}\n",
       "\n",
       ".xr-var-attrs-in:checked ~ .xr-var-attrs,\n",
       ".xr-var-data-in:checked ~ .xr-var-data,\n",
       ".xr-index-data-in:checked ~ .xr-index-data {\n",
       "  display: block;\n",
       "}\n",
       "\n",
       ".xr-var-data > table {\n",
       "  float: right;\n",
       "}\n",
       "\n",
       ".xr-var-name span,\n",
       ".xr-var-data,\n",
       ".xr-index-name div,\n",
       ".xr-index-data,\n",
       ".xr-attrs {\n",
       "  padding-left: 25px !important;\n",
       "}\n",
       "\n",
       ".xr-attrs,\n",
       ".xr-var-attrs,\n",
       ".xr-var-data,\n",
       ".xr-index-data {\n",
       "  grid-column: 1 / -1;\n",
       "}\n",
       "\n",
       "dl.xr-attrs {\n",
       "  padding: 0;\n",
       "  margin: 0;\n",
       "  display: grid;\n",
       "  grid-template-columns: 125px auto;\n",
       "}\n",
       "\n",
       ".xr-attrs dt,\n",
       ".xr-attrs dd {\n",
       "  padding: 0;\n",
       "  margin: 0;\n",
       "  float: left;\n",
       "  padding-right: 10px;\n",
       "  width: auto;\n",
       "}\n",
       "\n",
       ".xr-attrs dt {\n",
       "  font-weight: normal;\n",
       "  grid-column: 1;\n",
       "}\n",
       "\n",
       ".xr-attrs dt:hover span {\n",
       "  display: inline-block;\n",
       "  background: var(--xr-background-color);\n",
       "  padding-right: 10px;\n",
       "}\n",
       "\n",
       ".xr-attrs dd {\n",
       "  grid-column: 2;\n",
       "  white-space: pre-wrap;\n",
       "  word-break: break-all;\n",
       "}\n",
       "\n",
       ".xr-icon-database,\n",
       ".xr-icon-file-text2,\n",
       ".xr-no-icon {\n",
       "  display: inline-block;\n",
       "  vertical-align: middle;\n",
       "  width: 1em;\n",
       "  height: 1.5em !important;\n",
       "  stroke-width: 0;\n",
       "  stroke: currentColor;\n",
       "  fill: currentColor;\n",
       "}\n",
       "</style><pre class='xr-text-repr-fallback'>&lt;xarray.Dataset&gt; Size: 3GB\n",
       "Dimensions:            (time: 1, lat: 2901, lon: 4608)\n",
       "Coordinates:\n",
       "    lat                (lat, lon) float32 53MB ...\n",
       "    lon                (lat, lon) float32 53MB ...\n",
       "Dimensions without coordinates: time\n",
       "Data variables: (12/47)\n",
       "    FRC_URB2D          (time, lat, lon) float32 53MB ...\n",
       "    HGT                (time, lat, lon) float32 53MB ...\n",
       "    ISLTYP             (time, lat, lon) float64 107MB ...\n",
       "    IVGTYP             (time, lat, lon) float64 107MB ...\n",
       "    LU_INDEX           (time, lat, lon) float32 53MB ...\n",
       "    Lambert_Conformal  int32 4B ...\n",
       "    ...                 ...\n",
       "    trad_max           (time, lat, lon) float32 53MB ...\n",
       "    trad_min           (time, lat, lon) float32 53MB ...\n",
       "    tsk                (time, lat, lon) float32 53MB ...\n",
       "    tsk_max            (time, lat, lon) float32 53MB ...\n",
       "    tsk_min            (time, lat, lon) float32 53MB ...\n",
       "    wspd               (time, lat, lon) float32 53MB ...\n",
       "Attributes: (12/50)\n",
       "    SIMULATION_START_DATE:           0000-00-00_00:00:00\n",
       "    WEST-EAST_GRID_DIMENSION:        4609\n",
       "    SOUTH-NORTH_GRID_DIMENSION:      3841\n",
       "    BOTTOM-TOP_GRID_DIMENSION:       0\n",
       "    WEST-EAST_PATCH_START_UNSTAG:    1\n",
       "    WEST-EAST_PATCH_END_UNSTAG:      4608\n",
       "    ...                              ...\n",
       "    FLAG_LAI12M:                     1\n",
       "    FLAG_LAKE_DEPTH:                 1\n",
       "    nco_openmp_thread_number:        1\n",
       "    NCO:                             netCDF Operators version 5.1.9 (Homepage...\n",
       "    TITLE:                           OUTPUT FROM GEOGRID V4.0.1\n",
       "    history:                         Sat Feb 17 19:31:44 2024: ncks -4 -L 1 c...</pre><div class='xr-wrap' style='display:none'><div class='xr-header'><div class='xr-obj-type'>xarray.Dataset</div></div><ul class='xr-sections'><li class='xr-section-item'><input id='section-1f1fcb7a-1631-4b1d-80c4-c7a67f675047' class='xr-section-summary-in' type='checkbox' disabled ><label for='section-1f1fcb7a-1631-4b1d-80c4-c7a67f675047' class='xr-section-summary'  title='Expand/collapse section'>Dimensions:</label><div class='xr-section-inline-details'><ul class='xr-dim-list'><li><span>time</span>: 1</li><li><span>lat</span>: 2901</li><li><span>lon</span>: 4608</li></ul></div><div class='xr-section-details'></div></li><li class='xr-section-item'><input id='section-15928f3b-796e-4793-998c-a4f7397917dc' class='xr-section-summary-in' type='checkbox'  checked><label for='section-15928f3b-796e-4793-998c-a4f7397917dc' class='xr-section-summary' >Coordinates: <span>(2)</span></label><div class='xr-section-inline-details'></div><div class='xr-section-details'><ul class='xr-var-list'><li class='xr-var-item'><div class='xr-var-name'><span>lat</span></div><div class='xr-var-dims'>(lat, lon)</div><div class='xr-var-dtype'>float32</div><div class='xr-var-preview xr-preview'>...</div><input id='attrs-3c593c92-ff37-4190-9434-ed586c356322' class='xr-var-attrs-in' type='checkbox' ><label for='attrs-3c593c92-ff37-4190-9434-ed586c356322' title='Show/Hide attributes'><svg class='icon xr-icon-file-text2'><use xlink:href='#icon-file-text2'></use></svg></label><input id='data-31a0153d-b931-4830-85b1-467ca1c78b8c' class='xr-var-data-in' type='checkbox'><label for='data-31a0153d-b931-4830-85b1-467ca1c78b8c' title='Show/Hide data repr'><svg class='icon xr-icon-database'><use xlink:href='#icon-database'></use></svg></label><div class='xr-var-attrs'><dl class='xr-attrs'><dt><span>units :</span></dt><dd>degrees_north</dd><dt><span>long_name :</span></dt><dd>latitude coordinate</dd><dt><span>standard_name :</span></dt><dd>latitude</dd></dl></div><div class='xr-var-data'><pre>[13367808 values with dtype=float32]</pre></div></li><li class='xr-var-item'><div class='xr-var-name'><span>lon</span></div><div class='xr-var-dims'>(lat, lon)</div><div class='xr-var-dtype'>float32</div><div class='xr-var-preview xr-preview'>...</div><input id='attrs-005de636-d39a-4e77-b3a4-7d900abcf214' class='xr-var-attrs-in' type='checkbox' ><label for='attrs-005de636-d39a-4e77-b3a4-7d900abcf214' title='Show/Hide attributes'><svg class='icon xr-icon-file-text2'><use xlink:href='#icon-file-text2'></use></svg></label><input id='data-bead3bf8-db3f-49dc-96a8-15e498304cf1' class='xr-var-data-in' type='checkbox'><label for='data-bead3bf8-db3f-49dc-96a8-15e498304cf1' title='Show/Hide data repr'><svg class='icon xr-icon-database'><use xlink:href='#icon-database'></use></svg></label><div class='xr-var-attrs'><dl class='xr-attrs'><dt><span>units :</span></dt><dd>degrees_east</dd><dt><span>long_name :</span></dt><dd>longitude coordinate</dd><dt><span>standard_name :</span></dt><dd>longitude</dd></dl></div><div class='xr-var-data'><pre>[13367808 values with dtype=float32]</pre></div></li></ul></div></li><li class='xr-section-item'><input id='section-51513caa-b9d3-489c-9980-b14d4ef0e5e5' class='xr-section-summary-in' type='checkbox'  ><label for='section-51513caa-b9d3-489c-9980-b14d4ef0e5e5' class='xr-section-summary' >Data variables: <span>(47)</span></label><div class='xr-section-inline-details'></div><div class='xr-section-details'><ul class='xr-var-list'><li class='xr-var-item'><div class='xr-var-name'><span>FRC_URB2D</span></div><div class='xr-var-dims'>(time, lat, lon)</div><div class='xr-var-dtype'>float32</div><div class='xr-var-preview xr-preview'>...</div><input id='attrs-9efa46a4-8294-43ef-8c8a-5eef3463b910' class='xr-var-attrs-in' type='checkbox' ><label for='attrs-9efa46a4-8294-43ef-8c8a-5eef3463b910' title='Show/Hide attributes'><svg class='icon xr-icon-file-text2'><use xlink:href='#icon-file-text2'></use></svg></label><input id='data-b8071ca6-a10e-421e-8598-edf5f15197ec' class='xr-var-data-in' type='checkbox'><label for='data-b8071ca6-a10e-421e-8598-edf5f15197ec' title='Show/Hide data repr'><svg class='icon xr-icon-database'><use xlink:href='#icon-database'></use></svg></label><div class='xr-var-attrs'><dl class='xr-attrs'><dt><span>MemoryOrder :</span></dt><dd>XY </dd><dt><span>FieldType :</span></dt><dd>104</dd><dt><span>units :</span></dt><dd>unitless</dd><dt><span>stagger :</span></dt><dd>M</dd><dt><span>sr_y :</span></dt><dd>1</dd><dt><span>description :</span></dt><dd>urban fraction</dd><dt><span>sr_x :</span></dt><dd>1</dd></dl></div><div class='xr-var-data'><pre>[13367808 values with dtype=float32]</pre></div></li><li class='xr-var-item'><div class='xr-var-name'><span>HGT</span></div><div class='xr-var-dims'>(time, lat, lon)</div><div class='xr-var-dtype'>float32</div><div class='xr-var-preview xr-preview'>...</div><input id='attrs-12a8376a-a136-4e0b-9e3f-06de50d4caee' class='xr-var-attrs-in' type='checkbox' ><label for='attrs-12a8376a-a136-4e0b-9e3f-06de50d4caee' title='Show/Hide attributes'><svg class='icon xr-icon-file-text2'><use xlink:href='#icon-file-text2'></use></svg></label><input id='data-28d24abe-e09f-44ad-b4fa-7bb6177026c2' class='xr-var-data-in' type='checkbox'><label for='data-28d24abe-e09f-44ad-b4fa-7bb6177026c2' title='Show/Hide data repr'><svg class='icon xr-icon-database'><use xlink:href='#icon-database'></use></svg></label><div class='xr-var-attrs'><dl class='xr-attrs'><dt><span>MemoryOrder :</span></dt><dd>XY </dd><dt><span>FieldType :</span></dt><dd>104</dd><dt><span>units :</span></dt><dd>meters MSL</dd><dt><span>stagger :</span></dt><dd>M</dd><dt><span>sr_y :</span></dt><dd>1</dd><dt><span>description :</span></dt><dd>Topography height</dd><dt><span>sr_x :</span></dt><dd>1</dd></dl></div><div class='xr-var-data'><pre>[13367808 values with dtype=float32]</pre></div></li><li class='xr-var-item'><div class='xr-var-name'><span>ISLTYP</span></div><div class='xr-var-dims'>(time, lat, lon)</div><div class='xr-var-dtype'>float64</div><div class='xr-var-preview xr-preview'>...</div><input id='attrs-102b6b20-5fc8-4083-bef9-6ccd6d356dbb' class='xr-var-attrs-in' type='checkbox' ><label for='attrs-102b6b20-5fc8-4083-bef9-6ccd6d356dbb' title='Show/Hide attributes'><svg class='icon xr-icon-file-text2'><use xlink:href='#icon-file-text2'></use></svg></label><input id='data-907e23ba-09fb-4b0c-9390-ede16e80b710' class='xr-var-data-in' type='checkbox'><label for='data-907e23ba-09fb-4b0c-9390-ede16e80b710' title='Show/Hide data repr'><svg class='icon xr-icon-database'><use xlink:href='#icon-database'></use></svg></label><div class='xr-var-attrs'><dl class='xr-attrs'><dt><span>MemoryOrder :</span></dt><dd>XY </dd><dt><span>FieldType :</span></dt><dd>104</dd><dt><span>units :</span></dt><dd>category</dd><dt><span>stagger :</span></dt><dd>M</dd><dt><span>grid_mapping :</span></dt><dd>lambert_conformal_conic</dd><dt><span>sr_y :</span></dt><dd>1</dd><dt><span>description :</span></dt><dd>Dominant category</dd><dt><span>sr_x :</span></dt><dd>1</dd></dl></div><div class='xr-var-data'><pre>[13367808 values with dtype=float64]</pre></div></li><li class='xr-var-item'><div class='xr-var-name'><span>IVGTYP</span></div><div class='xr-var-dims'>(time, lat, lon)</div><div class='xr-var-dtype'>float64</div><div class='xr-var-preview xr-preview'>...</div><input id='attrs-636348ee-3260-4e91-870a-ecc851eae7a6' class='xr-var-attrs-in' type='checkbox' ><label for='attrs-636348ee-3260-4e91-870a-ecc851eae7a6' title='Show/Hide attributes'><svg class='icon xr-icon-file-text2'><use xlink:href='#icon-file-text2'></use></svg></label><input id='data-9b439b30-56e3-4620-a8b1-3ceea60eb65b' class='xr-var-data-in' type='checkbox'><label for='data-9b439b30-56e3-4620-a8b1-3ceea60eb65b' title='Show/Hide data repr'><svg class='icon xr-icon-database'><use xlink:href='#icon-database'></use></svg></label><div class='xr-var-attrs'><dl class='xr-attrs'><dt><span>MemoryOrder :</span></dt><dd>XY </dd><dt><span>FieldType :</span></dt><dd>104</dd><dt><span>units :</span></dt><dd>category</dd><dt><span>stagger :</span></dt><dd>M</dd><dt><span>grid_mapping :</span></dt><dd>lambert_conformal_conic</dd><dt><span>sr_y :</span></dt><dd>1</dd><dt><span>description :</span></dt><dd>Dominant category</dd><dt><span>sr_x :</span></dt><dd>1</dd></dl></div><div class='xr-var-data'><pre>[13367808 values with dtype=float64]</pre></div></li><li class='xr-var-item'><div class='xr-var-name'><span>LU_INDEX</span></div><div class='xr-var-dims'>(time, lat, lon)</div><div class='xr-var-dtype'>float32</div><div class='xr-var-preview xr-preview'>...</div><input id='attrs-79a5660e-96d6-408e-928c-35b578c394bc' class='xr-var-attrs-in' type='checkbox' ><label for='attrs-79a5660e-96d6-408e-928c-35b578c394bc' title='Show/Hide attributes'><svg class='icon xr-icon-file-text2'><use xlink:href='#icon-file-text2'></use></svg></label><input id='data-91d34d1a-9047-453c-b032-f01a656d3e6d' class='xr-var-data-in' type='checkbox'><label for='data-91d34d1a-9047-453c-b032-f01a656d3e6d' title='Show/Hide data repr'><svg class='icon xr-icon-database'><use xlink:href='#icon-database'></use></svg></label><div class='xr-var-attrs'><dl class='xr-attrs'><dt><span>MemoryOrder :</span></dt><dd>XY </dd><dt><span>FieldType :</span></dt><dd>104</dd><dt><span>units :</span></dt><dd>category</dd><dt><span>stagger :</span></dt><dd>M</dd><dt><span>sr_y :</span></dt><dd>1</dd><dt><span>description :</span></dt><dd>Dominant category</dd><dt><span>sr_x :</span></dt><dd>1</dd></dl></div><div class='xr-var-data'><pre>[13367808 values with dtype=float32]</pre></div></li><li class='xr-var-item'><div class='xr-var-name'><span>Lambert_Conformal</span></div><div class='xr-var-dims'>()</div><div class='xr-var-dtype'>int32</div><div class='xr-var-preview xr-preview'>...</div><input id='attrs-e7ffa6d6-21ce-4110-910c-ce0f2ce5e2d9' class='xr-var-attrs-in' type='checkbox' ><label for='attrs-e7ffa6d6-21ce-4110-910c-ce0f2ce5e2d9' title='Show/Hide attributes'><svg class='icon xr-icon-file-text2'><use xlink:href='#icon-file-text2'></use></svg></label><input id='data-16df175b-5069-4799-a671-dd48df347615' class='xr-var-data-in' type='checkbox'><label for='data-16df175b-5069-4799-a671-dd48df347615' title='Show/Hide data repr'><svg class='icon xr-icon-database'><use xlink:href='#icon-database'></use></svg></label><div class='xr-var-attrs'><dl class='xr-attrs'><dt><span>grid_mapping_name :</span></dt><dd>lambert_conformal_conic</dd><dt><span>hemisphere :</span></dt><dd>N</dd><dt><span>scale_lat_1 :</span></dt><dd>30.0</dd><dt><span>scale_lat_2 :</span></dt><dd>60.0</dd><dt><span>lat_pin :</span></dt><dd>40.00001</dd><dt><span>lon_pin :</span></dt><dd>-97.0</dd><dt><span>x_pin :</span></dt><dd>2304.0</dd><dt><span>lon_orient :</span></dt><dd>-97.0</dd><dt><span>d_km :</span></dt><dd>1.0</dd><dt><span>r_km :</span></dt><dd>6371.2</dd><dt><span>nx :</span></dt><dd>4608.0</dd><dt><span>ny :</span></dt><dd>2901.0</dd><dt><span>y_pin :</span></dt><dd>1450.5</dd></dl></div><div class='xr-var-data'><pre>[1 values with dtype=int32]</pre></div></li><li class='xr-var-item'><div class='xr-var-name'><span>Times</span></div><div class='xr-var-dims'>(time)</div><div class='xr-var-dtype'>object</div><div class='xr-var-preview xr-preview'>...</div><input id='attrs-eb949cc5-1768-4c81-bb7f-1a865200e7d9' class='xr-var-attrs-in' type='checkbox' disabled><label for='attrs-eb949cc5-1768-4c81-bb7f-1a865200e7d9' title='Show/Hide attributes'><svg class='icon xr-icon-file-text2'><use xlink:href='#icon-file-text2'></use></svg></label><input id='data-245bcc20-1471-43f6-8140-1dbe603231b5' class='xr-var-data-in' type='checkbox'><label for='data-245bcc20-1471-43f6-8140-1dbe603231b5' title='Show/Hide data repr'><svg class='icon xr-icon-database'><use xlink:href='#icon-database'></use></svg></label><div class='xr-var-attrs'><dl class='xr-attrs'></dl></div><div class='xr-var-data'><pre>[1 values with dtype=object]</pre></div></li><li class='xr-var-item'><div class='xr-var-name'><span>URB_CAT</span></div><div class='xr-var-dims'>(time, lat, lon)</div><div class='xr-var-dtype'>float32</div><div class='xr-var-preview xr-preview'>...</div><input id='attrs-b185b06a-d161-46af-9afa-b0ad29a6cc08' class='xr-var-attrs-in' type='checkbox' ><label for='attrs-b185b06a-d161-46af-9afa-b0ad29a6cc08' title='Show/Hide attributes'><svg class='icon xr-icon-file-text2'><use xlink:href='#icon-file-text2'></use></svg></label><input id='data-905e0420-9bcf-429a-8699-5814520787bc' class='xr-var-data-in' type='checkbox'><label for='data-905e0420-9bcf-429a-8699-5814520787bc' title='Show/Hide data repr'><svg class='icon xr-icon-database'><use xlink:href='#icon-database'></use></svg></label><div class='xr-var-attrs'><dl class='xr-attrs'><dt><span>MemoryOrder :</span></dt><dd>XY </dd><dt><span>FieldType :</span></dt><dd>104</dd><dt><span>units :</span></dt><dd>unitless</dd><dt><span>stagger :</span></dt><dd>M</dd><dt><span>sr_y :</span></dt><dd>1</dd><dt><span>description :</span></dt><dd>Dominant Urban Category</dd><dt><span>sr_x :</span></dt><dd>1</dd></dl></div><div class='xr-var-data'><pre>[13367808 values with dtype=float32]</pre></div></li><li class='xr-var-item'><div class='xr-var-name'><span>hfx</span></div><div class='xr-var-dims'>(time, lat, lon)</div><div class='xr-var-dtype'>float32</div><div class='xr-var-preview xr-preview'>...</div><input id='attrs-721f05af-738c-4396-9cd2-407ed7d956e9' class='xr-var-attrs-in' type='checkbox' ><label for='attrs-721f05af-738c-4396-9cd2-407ed7d956e9' title='Show/Hide attributes'><svg class='icon xr-icon-file-text2'><use xlink:href='#icon-file-text2'></use></svg></label><input id='data-a1da5a46-403d-4b44-b5d9-fcb09a736df3' class='xr-var-data-in' type='checkbox'><label for='data-a1da5a46-403d-4b44-b5d9-fcb09a736df3' title='Show/Hide data repr'><svg class='icon xr-icon-database'><use xlink:href='#icon-database'></use></svg></label><div class='xr-var-attrs'><dl class='xr-attrs'><dt><span>MemoryOrder :</span></dt><dd>XY</dd><dt><span>description :</span></dt><dd>Daily mean sensible heat to atmosphere</dd><dt><span>units :</span></dt><dd>W m{-2}</dd><dt><span>stagger :</span></dt><dd>-</dd></dl></div><div class='xr-var-data'><pre>[13367808 values with dtype=float32]</pre></div></li><li class='xr-var-item'><div class='xr-var-name'><span>lh</span></div><div class='xr-var-dims'>(time, lat, lon)</div><div class='xr-var-dtype'>float32</div><div class='xr-var-preview xr-preview'>...</div><input id='attrs-d3393145-29e2-4b80-803e-0d8909699eb1' class='xr-var-attrs-in' type='checkbox' ><label for='attrs-d3393145-29e2-4b80-803e-0d8909699eb1' title='Show/Hide attributes'><svg class='icon xr-icon-file-text2'><use xlink:href='#icon-file-text2'></use></svg></label><input id='data-92ffe47c-887a-4c7b-9dd7-808f1432a17a' class='xr-var-data-in' type='checkbox'><label for='data-92ffe47c-887a-4c7b-9dd7-808f1432a17a' title='Show/Hide data repr'><svg class='icon xr-icon-database'><use xlink:href='#icon-database'></use></svg></label><div class='xr-var-attrs'><dl class='xr-attrs'><dt><span>MemoryOrder :</span></dt><dd>XY</dd><dt><span>description :</span></dt><dd>Daily mean latent heat to atmosphere</dd><dt><span>units :</span></dt><dd>W m{-2}</dd><dt><span>stagger :</span></dt><dd>-</dd></dl></div><div class='xr-var-data'><pre>[13367808 values with dtype=float32]</pre></div></li><li class='xr-var-item'><div class='xr-var-name'><span>lwforc</span></div><div class='xr-var-dims'>(time, lat, lon)</div><div class='xr-var-dtype'>float32</div><div class='xr-var-preview xr-preview'>...</div><input id='attrs-ac3bbebb-400c-42d3-a2b9-fd2c1abacdc5' class='xr-var-attrs-in' type='checkbox' ><label for='attrs-ac3bbebb-400c-42d3-a2b9-fd2c1abacdc5' title='Show/Hide attributes'><svg class='icon xr-icon-file-text2'><use xlink:href='#icon-file-text2'></use></svg></label><input id='data-b779c9f9-508e-4b07-8d5b-70da65e67f6c' class='xr-var-data-in' type='checkbox'><label for='data-b779c9f9-508e-4b07-8d5b-70da65e67f6c' title='Show/Hide data repr'><svg class='icon xr-icon-database'><use xlink:href='#icon-database'></use></svg></label><div class='xr-var-attrs'><dl class='xr-attrs'><dt><span>MemoryOrder :</span></dt><dd>XY</dd><dt><span>description :</span></dt><dd>Daily mean longwave forcing</dd><dt><span>units :</span></dt><dd>W m{-2}</dd><dt><span>stagger :</span></dt><dd>-</dd></dl></div><div class='xr-var-data'><pre>[13367808 values with dtype=float32]</pre></div></li><li class='xr-var-item'><div class='xr-var-name'><span>q2</span></div><div class='xr-var-dims'>(time, lat, lon)</div><div class='xr-var-dtype'>float32</div><div class='xr-var-preview xr-preview'>...</div><input id='attrs-81f899dd-a167-460b-a471-79eef0f0bb87' class='xr-var-attrs-in' type='checkbox' ><label for='attrs-81f899dd-a167-460b-a471-79eef0f0bb87' title='Show/Hide attributes'><svg class='icon xr-icon-file-text2'><use xlink:href='#icon-file-text2'></use></svg></label><input id='data-258eec5e-9158-4ae3-9395-8f013270d634' class='xr-var-data-in' type='checkbox'><label for='data-258eec5e-9158-4ae3-9395-8f013270d634' title='Show/Hide data repr'><svg class='icon xr-icon-database'><use xlink:href='#icon-database'></use></svg></label><div class='xr-var-attrs'><dl class='xr-attrs'><dt><span>MemoryOrder :</span></dt><dd>XY</dd><dt><span>description :</span></dt><dd>Daily mean veg and urban weighted 2-m diagnostic spec. humidity</dd><dt><span>units :</span></dt><dd>kg/kg</dd><dt><span>stagger :</span></dt><dd>-</dd></dl></div><div class='xr-var-data'><pre>[13367808 values with dtype=float32]</pre></div></li><li class='xr-var-item'><div class='xr-var-name'><span>q2_max</span></div><div class='xr-var-dims'>(time, lat, lon)</div><div class='xr-var-dtype'>float32</div><div class='xr-var-preview xr-preview'>...</div><input id='attrs-62840072-b32f-488b-ad14-b344630a1634' class='xr-var-attrs-in' type='checkbox' ><label for='attrs-62840072-b32f-488b-ad14-b344630a1634' title='Show/Hide attributes'><svg class='icon xr-icon-file-text2'><use xlink:href='#icon-file-text2'></use></svg></label><input id='data-ea051c19-683b-4429-8133-f6bdd23994fd' class='xr-var-data-in' type='checkbox'><label for='data-ea051c19-683b-4429-8133-f6bdd23994fd' title='Show/Hide data repr'><svg class='icon xr-icon-database'><use xlink:href='#icon-database'></use></svg></label><div class='xr-var-attrs'><dl class='xr-attrs'><dt><span>MemoryOrder :</span></dt><dd>XY</dd><dt><span>description :</span></dt><dd>Daily maximum veg and urban weighted 2-m diagnostic spec. humidity</dd><dt><span>units :</span></dt><dd>kg/kg</dd><dt><span>stagger :</span></dt><dd>-</dd></dl></div><div class='xr-var-data'><pre>[13367808 values with dtype=float32]</pre></div></li><li class='xr-var-item'><div class='xr-var-name'><span>q2_min</span></div><div class='xr-var-dims'>(time, lat, lon)</div><div class='xr-var-dtype'>float32</div><div class='xr-var-preview xr-preview'>...</div><input id='attrs-a8f63c5f-7b7c-428d-80f6-d9a36260d509' class='xr-var-attrs-in' type='checkbox' ><label for='attrs-a8f63c5f-7b7c-428d-80f6-d9a36260d509' title='Show/Hide attributes'><svg class='icon xr-icon-file-text2'><use xlink:href='#icon-file-text2'></use></svg></label><input id='data-73c0b292-96ef-4279-9910-c2ee3fdfc2f9' class='xr-var-data-in' type='checkbox'><label for='data-73c0b292-96ef-4279-9910-c2ee3fdfc2f9' title='Show/Hide data repr'><svg class='icon xr-icon-database'><use xlink:href='#icon-database'></use></svg></label><div class='xr-var-attrs'><dl class='xr-attrs'><dt><span>MemoryOrder :</span></dt><dd>XY</dd><dt><span>description :</span></dt><dd>Daily minimum veg and urban weighted 2-m diagnostic spec. humidity</dd><dt><span>units :</span></dt><dd>kg/kg</dd><dt><span>stagger :</span></dt><dd>-</dd></dl></div><div class='xr-var-data'><pre>[13367808 values with dtype=float32]</pre></div></li><li class='xr-var-item'><div class='xr-var-name'><span>q2_urb2d</span></div><div class='xr-var-dims'>(time, lat, lon)</div><div class='xr-var-dtype'>float32</div><div class='xr-var-preview xr-preview'>...</div><input id='attrs-114eb5eb-0496-4562-9cf1-6bff2cb0701a' class='xr-var-attrs-in' type='checkbox' ><label for='attrs-114eb5eb-0496-4562-9cf1-6bff2cb0701a' title='Show/Hide attributes'><svg class='icon xr-icon-file-text2'><use xlink:href='#icon-file-text2'></use></svg></label><input id='data-793b4f96-0f4e-47c0-8030-d74163199987' class='xr-var-data-in' type='checkbox'><label for='data-793b4f96-0f4e-47c0-8030-d74163199987' title='Show/Hide data repr'><svg class='icon xr-icon-database'><use xlink:href='#icon-database'></use></svg></label><div class='xr-var-attrs'><dl class='xr-attrs'><dt><span>MemoryOrder :</span></dt><dd>XY</dd><dt><span>description :</span></dt><dd>Daily mean urban 2-m diagnostic spec. humidity</dd><dt><span>units :</span></dt><dd>kg/kg</dd><dt><span>stagger :</span></dt><dd>-</dd></dl></div><div class='xr-var-data'><pre>[13367808 values with dtype=float32]</pre></div></li><li class='xr-var-item'><div class='xr-var-name'><span>q2_urb2d_max</span></div><div class='xr-var-dims'>(time, lat, lon)</div><div class='xr-var-dtype'>float32</div><div class='xr-var-preview xr-preview'>...</div><input id='attrs-1a5a27d0-e720-49bf-8890-374687d65bbb' class='xr-var-attrs-in' type='checkbox' ><label for='attrs-1a5a27d0-e720-49bf-8890-374687d65bbb' title='Show/Hide attributes'><svg class='icon xr-icon-file-text2'><use xlink:href='#icon-file-text2'></use></svg></label><input id='data-a3a2139c-84f7-4ebc-a00d-f3f03c6c89ce' class='xr-var-data-in' type='checkbox'><label for='data-a3a2139c-84f7-4ebc-a00d-f3f03c6c89ce' title='Show/Hide data repr'><svg class='icon xr-icon-database'><use xlink:href='#icon-database'></use></svg></label><div class='xr-var-attrs'><dl class='xr-attrs'><dt><span>MemoryOrder :</span></dt><dd>XY</dd><dt><span>description :</span></dt><dd>Daily maximum urban 2-m diagnostic spec. humidity</dd><dt><span>units :</span></dt><dd>kg/kg</dd><dt><span>stagger :</span></dt><dd>-</dd></dl></div><div class='xr-var-data'><pre>[13367808 values with dtype=float32]</pre></div></li><li class='xr-var-item'><div class='xr-var-name'><span>q2_urb2d_min</span></div><div class='xr-var-dims'>(time, lat, lon)</div><div class='xr-var-dtype'>float32</div><div class='xr-var-preview xr-preview'>...</div><input id='attrs-32f668e6-27fe-4c6c-9b30-0ebf2bb91d2b' class='xr-var-attrs-in' type='checkbox' ><label for='attrs-32f668e6-27fe-4c6c-9b30-0ebf2bb91d2b' title='Show/Hide attributes'><svg class='icon xr-icon-file-text2'><use xlink:href='#icon-file-text2'></use></svg></label><input id='data-bf8884a0-098a-4a9c-94b5-12e81035000f' class='xr-var-data-in' type='checkbox'><label for='data-bf8884a0-098a-4a9c-94b5-12e81035000f' title='Show/Hide data repr'><svg class='icon xr-icon-database'><use xlink:href='#icon-database'></use></svg></label><div class='xr-var-attrs'><dl class='xr-attrs'><dt><span>MemoryOrder :</span></dt><dd>XY</dd><dt><span>description :</span></dt><dd>Daily minimum urban 2-m diagnostic spec. humidity</dd><dt><span>units :</span></dt><dd>kg/kg</dd><dt><span>stagger :</span></dt><dd>-</dd></dl></div><div class='xr-var-data'><pre>[13367808 values with dtype=float32]</pre></div></li><li class='xr-var-item'><div class='xr-var-name'><span>rainrate</span></div><div class='xr-var-dims'>(time, lat, lon)</div><div class='xr-var-dtype'>float32</div><div class='xr-var-preview xr-preview'>...</div><input id='attrs-f6bc7713-f59b-49c4-b94b-f755ee73822b' class='xr-var-attrs-in' type='checkbox' ><label for='attrs-f6bc7713-f59b-49c4-b94b-f755ee73822b' title='Show/Hide attributes'><svg class='icon xr-icon-file-text2'><use xlink:href='#icon-file-text2'></use></svg></label><input id='data-8a50166b-07b1-4074-aa7b-d2fe5311337e' class='xr-var-data-in' type='checkbox'><label for='data-8a50166b-07b1-4074-aa7b-d2fe5311337e' title='Show/Hide data repr'><svg class='icon xr-icon-database'><use xlink:href='#icon-database'></use></svg></label><div class='xr-var-attrs'><dl class='xr-attrs'><dt><span>MemoryOrder :</span></dt><dd>XY</dd><dt><span>description :</span></dt><dd>Daily mean precipitation rate</dd><dt><span>units :</span></dt><dd>kg m{-2} s{-1}</dd><dt><span>stagger :</span></dt><dd>-</dd></dl></div><div class='xr-var-data'><pre>[13367808 values with dtype=float32]</pre></div></li><li class='xr-var-item'><div class='xr-var-name'><span>swforc</span></div><div class='xr-var-dims'>(time, lat, lon)</div><div class='xr-var-dtype'>float32</div><div class='xr-var-preview xr-preview'>...</div><input id='attrs-71d92d62-6bb2-43da-9df7-6f79d6a01f3a' class='xr-var-attrs-in' type='checkbox' ><label for='attrs-71d92d62-6bb2-43da-9df7-6f79d6a01f3a' title='Show/Hide attributes'><svg class='icon xr-icon-file-text2'><use xlink:href='#icon-file-text2'></use></svg></label><input id='data-c8c1d02d-a64b-4d43-9d24-430f974b7068' class='xr-var-data-in' type='checkbox'><label for='data-c8c1d02d-a64b-4d43-9d24-430f974b7068' title='Show/Hide data repr'><svg class='icon xr-icon-database'><use xlink:href='#icon-database'></use></svg></label><div class='xr-var-attrs'><dl class='xr-attrs'><dt><span>MemoryOrder :</span></dt><dd>XY</dd><dt><span>description :</span></dt><dd>Daily mean shortwave forcing</dd><dt><span>units :</span></dt><dd>W m{-2}</dd><dt><span>stagger :</span></dt><dd>-</dd></dl></div><div class='xr-var-data'><pre>[13367808 values with dtype=float32]</pre></div></li><li class='xr-var-item'><div class='xr-var-name'><span>t2_max_BC</span></div><div class='xr-var-dims'>(time, lat, lon)</div><div class='xr-var-dtype'>float32</div><div class='xr-var-preview xr-preview'>...</div><input id='attrs-602c379e-9d11-4e41-af00-18799b4d4239' class='xr-var-attrs-in' type='checkbox' ><label for='attrs-602c379e-9d11-4e41-af00-18799b4d4239' title='Show/Hide attributes'><svg class='icon xr-icon-file-text2'><use xlink:href='#icon-file-text2'></use></svg></label><input id='data-7eb10578-7458-442d-a868-527cf563d73d' class='xr-var-data-in' type='checkbox'><label for='data-7eb10578-7458-442d-a868-527cf563d73d' title='Show/Hide data repr'><svg class='icon xr-icon-database'><use xlink:href='#icon-database'></use></svg></label><div class='xr-var-attrs'><dl class='xr-attrs'><dt><span>long_name :</span></dt><dd>Maximum Temperature Adjust</dd><dt><span>units :</span></dt><dd>K</dd><dt><span>grid_mapping :</span></dt><dd>Lambert_Conformal</dd></dl></div><div class='xr-var-data'><pre>[13367808 values with dtype=float32]</pre></div></li><li class='xr-var-item'><div class='xr-var-name'><span>t2_max_raw</span></div><div class='xr-var-dims'>(time, lat, lon)</div><div class='xr-var-dtype'>float32</div><div class='xr-var-preview xr-preview'>...</div><input id='attrs-9ff6c591-88f4-45fe-bf14-5c06e6e16916' class='xr-var-attrs-in' type='checkbox' ><label for='attrs-9ff6c591-88f4-45fe-bf14-5c06e6e16916' title='Show/Hide attributes'><svg class='icon xr-icon-file-text2'><use xlink:href='#icon-file-text2'></use></svg></label><input id='data-80e1dc8f-fe53-4617-b666-750b8fec11c5' class='xr-var-data-in' type='checkbox'><label for='data-80e1dc8f-fe53-4617-b666-750b8fec11c5' title='Show/Hide data repr'><svg class='icon xr-icon-database'><use xlink:href='#icon-database'></use></svg></label><div class='xr-var-attrs'><dl class='xr-attrs'><dt><span>long_name :</span></dt><dd>Unadjusted Temperature Maximum</dd><dt><span>units :</span></dt><dd>K</dd><dt><span>grid_mapping :</span></dt><dd>Lambert_Conformal</dd></dl></div><div class='xr-var-data'><pre>[13367808 values with dtype=float32]</pre></div></li><li class='xr-var-item'><div class='xr-var-name'><span>t2_min_BC</span></div><div class='xr-var-dims'>(time, lat, lon)</div><div class='xr-var-dtype'>float32</div><div class='xr-var-preview xr-preview'>...</div><input id='attrs-2740db32-19c1-46e5-8acd-45723331d0e5' class='xr-var-attrs-in' type='checkbox' ><label for='attrs-2740db32-19c1-46e5-8acd-45723331d0e5' title='Show/Hide attributes'><svg class='icon xr-icon-file-text2'><use xlink:href='#icon-file-text2'></use></svg></label><input id='data-f37eaea9-f327-477b-b2d7-a4cbab37c666' class='xr-var-data-in' type='checkbox'><label for='data-f37eaea9-f327-477b-b2d7-a4cbab37c666' title='Show/Hide data repr'><svg class='icon xr-icon-database'><use xlink:href='#icon-database'></use></svg></label><div class='xr-var-attrs'><dl class='xr-attrs'><dt><span>long_name :</span></dt><dd>Minimum Temperature Adjust</dd><dt><span>units :</span></dt><dd>K</dd><dt><span>grid_mapping :</span></dt><dd>Lambert_Conformal</dd></dl></div><div class='xr-var-data'><pre>[13367808 values with dtype=float32]</pre></div></li><li class='xr-var-item'><div class='xr-var-name'><span>t2_min_raw</span></div><div class='xr-var-dims'>(time, lat, lon)</div><div class='xr-var-dtype'>float32</div><div class='xr-var-preview xr-preview'>...</div><input id='attrs-9bed0edb-72cd-4a8a-9565-c802718df488' class='xr-var-attrs-in' type='checkbox' ><label for='attrs-9bed0edb-72cd-4a8a-9565-c802718df488' title='Show/Hide attributes'><svg class='icon xr-icon-file-text2'><use xlink:href='#icon-file-text2'></use></svg></label><input id='data-80d8c36d-f7c2-4cb7-a508-ee0d32831ce8' class='xr-var-data-in' type='checkbox'><label for='data-80d8c36d-f7c2-4cb7-a508-ee0d32831ce8' title='Show/Hide data repr'><svg class='icon xr-icon-database'><use xlink:href='#icon-database'></use></svg></label><div class='xr-var-attrs'><dl class='xr-attrs'><dt><span>units :</span></dt><dd>K</dd><dt><span>long_name :</span></dt><dd>Unadjusted Temperature Minimum</dd><dt><span>grid_mapping :</span></dt><dd>Lambert_Conformal</dd></dl></div><div class='xr-var-data'><pre>[13367808 values with dtype=float32]</pre></div></li><li class='xr-var-item'><div class='xr-var-name'><span>t2_raw</span></div><div class='xr-var-dims'>(time, lat, lon)</div><div class='xr-var-dtype'>float32</div><div class='xr-var-preview xr-preview'>...</div><input id='attrs-817a2e5c-2305-44a8-a2f5-3ab309be9c04' class='xr-var-attrs-in' type='checkbox' ><label for='attrs-817a2e5c-2305-44a8-a2f5-3ab309be9c04' title='Show/Hide attributes'><svg class='icon xr-icon-file-text2'><use xlink:href='#icon-file-text2'></use></svg></label><input id='data-86d4e515-0a33-4fae-9077-f0dfb68bd0a4' class='xr-var-data-in' type='checkbox'><label for='data-86d4e515-0a33-4fae-9077-f0dfb68bd0a4' title='Show/Hide data repr'><svg class='icon xr-icon-database'><use xlink:href='#icon-database'></use></svg></label><div class='xr-var-attrs'><dl class='xr-attrs'><dt><span>MemoryOrder :</span></dt><dd>XY</dd><dt><span>description :</span></dt><dd>Daily mean veg and urban weighted 2-m diagnostic temperature</dd><dt><span>units :</span></dt><dd>K</dd><dt><span>stagger :</span></dt><dd>-</dd></dl></div><div class='xr-var-data'><pre>[13367808 values with dtype=float32]</pre></div></li><li class='xr-var-item'><div class='xr-var-name'><span>tb_urb2d</span></div><div class='xr-var-dims'>(time, lat, lon)</div><div class='xr-var-dtype'>float32</div><div class='xr-var-preview xr-preview'>...</div><input id='attrs-81daae78-e534-412a-ae94-5fe61bb016a6' class='xr-var-attrs-in' type='checkbox' ><label for='attrs-81daae78-e534-412a-ae94-5fe61bb016a6' title='Show/Hide attributes'><svg class='icon xr-icon-file-text2'><use xlink:href='#icon-file-text2'></use></svg></label><input id='data-edc9da2c-8d92-4dc8-b18e-9c689343d4a9' class='xr-var-data-in' type='checkbox'><label for='data-edc9da2c-8d92-4dc8-b18e-9c689343d4a9' title='Show/Hide data repr'><svg class='icon xr-icon-database'><use xlink:href='#icon-database'></use></svg></label><div class='xr-var-attrs'><dl class='xr-attrs'><dt><span>MemoryOrder :</span></dt><dd>XY</dd><dt><span>description :</span></dt><dd>Daily mean urban buliding temperature</dd><dt><span>units :</span></dt><dd>K</dd><dt><span>stagger :</span></dt><dd>-</dd></dl></div><div class='xr-var-data'><pre>[13367808 values with dtype=float32]</pre></div></li><li class='xr-var-item'><div class='xr-var-name'><span>tb_urb2d_max</span></div><div class='xr-var-dims'>(time, lat, lon)</div><div class='xr-var-dtype'>float32</div><div class='xr-var-preview xr-preview'>...</div><input id='attrs-0f51cf52-0b0f-4861-977f-8c6fa1656696' class='xr-var-attrs-in' type='checkbox' ><label for='attrs-0f51cf52-0b0f-4861-977f-8c6fa1656696' title='Show/Hide attributes'><svg class='icon xr-icon-file-text2'><use xlink:href='#icon-file-text2'></use></svg></label><input id='data-955eed42-0e3b-4882-b80c-10244af53ec4' class='xr-var-data-in' type='checkbox'><label for='data-955eed42-0e3b-4882-b80c-10244af53ec4' title='Show/Hide data repr'><svg class='icon xr-icon-database'><use xlink:href='#icon-database'></use></svg></label><div class='xr-var-attrs'><dl class='xr-attrs'><dt><span>MemoryOrder :</span></dt><dd>XY</dd><dt><span>description :</span></dt><dd>Daily maximum urban buliding temperature</dd><dt><span>units :</span></dt><dd>K</dd><dt><span>stagger :</span></dt><dd>-</dd></dl></div><div class='xr-var-data'><pre>[13367808 values with dtype=float32]</pre></div></li><li class='xr-var-item'><div class='xr-var-name'><span>tb_urb2d_min</span></div><div class='xr-var-dims'>(time, lat, lon)</div><div class='xr-var-dtype'>float32</div><div class='xr-var-preview xr-preview'>...</div><input id='attrs-53668871-d143-49fe-ac9c-82a78075ee12' class='xr-var-attrs-in' type='checkbox' ><label for='attrs-53668871-d143-49fe-ac9c-82a78075ee12' title='Show/Hide attributes'><svg class='icon xr-icon-file-text2'><use xlink:href='#icon-file-text2'></use></svg></label><input id='data-01664142-7a8c-4e79-be9d-7b8125daccd2' class='xr-var-data-in' type='checkbox'><label for='data-01664142-7a8c-4e79-be9d-7b8125daccd2' title='Show/Hide data repr'><svg class='icon xr-icon-database'><use xlink:href='#icon-database'></use></svg></label><div class='xr-var-attrs'><dl class='xr-attrs'><dt><span>MemoryOrder :</span></dt><dd>XY</dd><dt><span>description :</span></dt><dd>Daily minimum urban buliding temperature</dd><dt><span>units :</span></dt><dd>K</dd><dt><span>stagger :</span></dt><dd>-</dd></dl></div><div class='xr-var-data'><pre>[13367808 values with dtype=float32]</pre></div></li><li class='xr-var-item'><div class='xr-var-name'><span>tc_urb2d</span></div><div class='xr-var-dims'>(time, lat, lon)</div><div class='xr-var-dtype'>float32</div><div class='xr-var-preview xr-preview'>...</div><input id='attrs-522b3610-dad2-45e8-bf25-709f3310c584' class='xr-var-attrs-in' type='checkbox' ><label for='attrs-522b3610-dad2-45e8-bf25-709f3310c584' title='Show/Hide attributes'><svg class='icon xr-icon-file-text2'><use xlink:href='#icon-file-text2'></use></svg></label><input id='data-82b0359f-0ff9-4a11-9376-acacff2b6f51' class='xr-var-data-in' type='checkbox'><label for='data-82b0359f-0ff9-4a11-9376-acacff2b6f51' title='Show/Hide data repr'><svg class='icon xr-icon-database'><use xlink:href='#icon-database'></use></svg></label><div class='xr-var-attrs'><dl class='xr-attrs'><dt><span>MemoryOrder :</span></dt><dd>XY</dd><dt><span>description :</span></dt><dd>Daily mean urban canopy temperature</dd><dt><span>units :</span></dt><dd>K</dd><dt><span>stagger :</span></dt><dd>-</dd></dl></div><div class='xr-var-data'><pre>[13367808 values with dtype=float32]</pre></div></li><li class='xr-var-item'><div class='xr-var-name'><span>tc_urb2d_max</span></div><div class='xr-var-dims'>(time, lat, lon)</div><div class='xr-var-dtype'>float32</div><div class='xr-var-preview xr-preview'>...</div><input id='attrs-51f7243e-e71c-46dc-a690-9279d6e85673' class='xr-var-attrs-in' type='checkbox' ><label for='attrs-51f7243e-e71c-46dc-a690-9279d6e85673' title='Show/Hide attributes'><svg class='icon xr-icon-file-text2'><use xlink:href='#icon-file-text2'></use></svg></label><input id='data-bf4e8a54-d380-49f8-af0f-0b1b2e3992be' class='xr-var-data-in' type='checkbox'><label for='data-bf4e8a54-d380-49f8-af0f-0b1b2e3992be' title='Show/Hide data repr'><svg class='icon xr-icon-database'><use xlink:href='#icon-database'></use></svg></label><div class='xr-var-attrs'><dl class='xr-attrs'><dt><span>MemoryOrder :</span></dt><dd>XY</dd><dt><span>description :</span></dt><dd>Daily maximum urban canopy temperature</dd><dt><span>units :</span></dt><dd>K</dd><dt><span>stagger :</span></dt><dd>-</dd></dl></div><div class='xr-var-data'><pre>[13367808 values with dtype=float32]</pre></div></li><li class='xr-var-item'><div class='xr-var-name'><span>tc_urb2d_min</span></div><div class='xr-var-dims'>(time, lat, lon)</div><div class='xr-var-dtype'>float32</div><div class='xr-var-preview xr-preview'>...</div><input id='attrs-b34002c3-54c7-4bf9-811a-88a788f5551c' class='xr-var-attrs-in' type='checkbox' ><label for='attrs-b34002c3-54c7-4bf9-811a-88a788f5551c' title='Show/Hide attributes'><svg class='icon xr-icon-file-text2'><use xlink:href='#icon-file-text2'></use></svg></label><input id='data-a5426eb5-863c-4e8e-bcf9-4db624742cc6' class='xr-var-data-in' type='checkbox'><label for='data-a5426eb5-863c-4e8e-bcf9-4db624742cc6' title='Show/Hide data repr'><svg class='icon xr-icon-database'><use xlink:href='#icon-database'></use></svg></label><div class='xr-var-attrs'><dl class='xr-attrs'><dt><span>MemoryOrder :</span></dt><dd>XY</dd><dt><span>description :</span></dt><dd>Daily minimum urban canopy temperature</dd><dt><span>units :</span></dt><dd>K</dd><dt><span>stagger :</span></dt><dd>-</dd></dl></div><div class='xr-var-data'><pre>[13367808 values with dtype=float32]</pre></div></li><li class='xr-var-item'><div class='xr-var-name'><span>tg</span></div><div class='xr-var-dims'>(time, lat, lon)</div><div class='xr-var-dtype'>float32</div><div class='xr-var-preview xr-preview'>...</div><input id='attrs-9f6c3d81-99c6-4f25-bedd-f28563d8c0bd' class='xr-var-attrs-in' type='checkbox' ><label for='attrs-9f6c3d81-99c6-4f25-bedd-f28563d8c0bd' title='Show/Hide attributes'><svg class='icon xr-icon-file-text2'><use xlink:href='#icon-file-text2'></use></svg></label><input id='data-e186eb7a-570a-4bd6-b89b-25663eddf3f3' class='xr-var-data-in' type='checkbox'><label for='data-e186eb7a-570a-4bd6-b89b-25663eddf3f3' title='Show/Hide data repr'><svg class='icon xr-icon-database'><use xlink:href='#icon-database'></use></svg></label><div class='xr-var-attrs'><dl class='xr-attrs'><dt><span>MemoryOrder :</span></dt><dd>XY</dd><dt><span>description :</span></dt><dd>Daily mean ground temperature</dd><dt><span>units :</span></dt><dd>K</dd><dt><span>stagger :</span></dt><dd>-</dd></dl></div><div class='xr-var-data'><pre>[13367808 values with dtype=float32]</pre></div></li><li class='xr-var-item'><div class='xr-var-name'><span>tg_max</span></div><div class='xr-var-dims'>(time, lat, lon)</div><div class='xr-var-dtype'>float32</div><div class='xr-var-preview xr-preview'>...</div><input id='attrs-937f7a38-3083-4e2e-ac4e-a8caa1091d60' class='xr-var-attrs-in' type='checkbox' ><label for='attrs-937f7a38-3083-4e2e-ac4e-a8caa1091d60' title='Show/Hide attributes'><svg class='icon xr-icon-file-text2'><use xlink:href='#icon-file-text2'></use></svg></label><input id='data-758e0417-4e6e-4086-8e9e-4c4571733dad' class='xr-var-data-in' type='checkbox'><label for='data-758e0417-4e6e-4086-8e9e-4c4571733dad' title='Show/Hide data repr'><svg class='icon xr-icon-database'><use xlink:href='#icon-database'></use></svg></label><div class='xr-var-attrs'><dl class='xr-attrs'><dt><span>MemoryOrder :</span></dt><dd>XY</dd><dt><span>description :</span></dt><dd>Daily maximum ground temperature</dd><dt><span>units :</span></dt><dd>K</dd><dt><span>stagger :</span></dt><dd>-</dd></dl></div><div class='xr-var-data'><pre>[13367808 values with dtype=float32]</pre></div></li><li class='xr-var-item'><div class='xr-var-name'><span>tg_min</span></div><div class='xr-var-dims'>(time, lat, lon)</div><div class='xr-var-dtype'>float32</div><div class='xr-var-preview xr-preview'>...</div><input id='attrs-ae142a3f-0ec4-4dbd-aa03-d857f0728e4e' class='xr-var-attrs-in' type='checkbox' ><label for='attrs-ae142a3f-0ec4-4dbd-aa03-d857f0728e4e' title='Show/Hide attributes'><svg class='icon xr-icon-file-text2'><use xlink:href='#icon-file-text2'></use></svg></label><input id='data-116df7fb-fd41-4098-ac82-1efe4c0a5480' class='xr-var-data-in' type='checkbox'><label for='data-116df7fb-fd41-4098-ac82-1efe4c0a5480' title='Show/Hide data repr'><svg class='icon xr-icon-database'><use xlink:href='#icon-database'></use></svg></label><div class='xr-var-attrs'><dl class='xr-attrs'><dt><span>MemoryOrder :</span></dt><dd>XY</dd><dt><span>description :</span></dt><dd>Daily minimum ground temperature</dd><dt><span>units :</span></dt><dd>K</dd><dt><span>stagger :</span></dt><dd>-</dd></dl></div><div class='xr-var-data'><pre>[13367808 values with dtype=float32]</pre></div></li><li class='xr-var-item'><div class='xr-var-name'><span>tg_urb2d</span></div><div class='xr-var-dims'>(time, lat, lon)</div><div class='xr-var-dtype'>float32</div><div class='xr-var-preview xr-preview'>...</div><input id='attrs-44422e61-bca0-4609-917a-6016d7c003fd' class='xr-var-attrs-in' type='checkbox' ><label for='attrs-44422e61-bca0-4609-917a-6016d7c003fd' title='Show/Hide attributes'><svg class='icon xr-icon-file-text2'><use xlink:href='#icon-file-text2'></use></svg></label><input id='data-522609bd-19c8-4a34-adab-51dafd491e1d' class='xr-var-data-in' type='checkbox'><label for='data-522609bd-19c8-4a34-adab-51dafd491e1d' title='Show/Hide data repr'><svg class='icon xr-icon-database'><use xlink:href='#icon-database'></use></svg></label><div class='xr-var-attrs'><dl class='xr-attrs'><dt><span>MemoryOrder :</span></dt><dd>XY</dd><dt><span>description :</span></dt><dd>Daily mean urban road temperature</dd><dt><span>units :</span></dt><dd>K</dd><dt><span>stagger :</span></dt><dd>-</dd></dl></div><div class='xr-var-data'><pre>[13367808 values with dtype=float32]</pre></div></li><li class='xr-var-item'><div class='xr-var-name'><span>tg_urb2d_max</span></div><div class='xr-var-dims'>(time, lat, lon)</div><div class='xr-var-dtype'>float32</div><div class='xr-var-preview xr-preview'>...</div><input id='attrs-2fd2fa08-d3d8-4858-bfe9-2d397609a88d' class='xr-var-attrs-in' type='checkbox' ><label for='attrs-2fd2fa08-d3d8-4858-bfe9-2d397609a88d' title='Show/Hide attributes'><svg class='icon xr-icon-file-text2'><use xlink:href='#icon-file-text2'></use></svg></label><input id='data-534a1c06-9c28-43e8-afd6-4edf5aa3b4b2' class='xr-var-data-in' type='checkbox'><label for='data-534a1c06-9c28-43e8-afd6-4edf5aa3b4b2' title='Show/Hide data repr'><svg class='icon xr-icon-database'><use xlink:href='#icon-database'></use></svg></label><div class='xr-var-attrs'><dl class='xr-attrs'><dt><span>MemoryOrder :</span></dt><dd>XY</dd><dt><span>description :</span></dt><dd>Daily maximum urban road temperature</dd><dt><span>units :</span></dt><dd>K</dd><dt><span>stagger :</span></dt><dd>-</dd></dl></div><div class='xr-var-data'><pre>[13367808 values with dtype=float32]</pre></div></li><li class='xr-var-item'><div class='xr-var-name'><span>tg_urb2d_min</span></div><div class='xr-var-dims'>(time, lat, lon)</div><div class='xr-var-dtype'>float32</div><div class='xr-var-preview xr-preview'>...</div><input id='attrs-5a0ad2c2-596b-4463-b5dd-be2911b4c384' class='xr-var-attrs-in' type='checkbox' ><label for='attrs-5a0ad2c2-596b-4463-b5dd-be2911b4c384' title='Show/Hide attributes'><svg class='icon xr-icon-file-text2'><use xlink:href='#icon-file-text2'></use></svg></label><input id='data-785d4073-3f06-46aa-929e-9849b0e2bec7' class='xr-var-data-in' type='checkbox'><label for='data-785d4073-3f06-46aa-929e-9849b0e2bec7' title='Show/Hide data repr'><svg class='icon xr-icon-database'><use xlink:href='#icon-database'></use></svg></label><div class='xr-var-attrs'><dl class='xr-attrs'><dt><span>MemoryOrder :</span></dt><dd>XY</dd><dt><span>description :</span></dt><dd>Daily minimum urban road temperature</dd><dt><span>units :</span></dt><dd>K</dd><dt><span>stagger :</span></dt><dd>-</dd></dl></div><div class='xr-var-data'><pre>[13367808 values with dtype=float32]</pre></div></li><li class='xr-var-item'><div class='xr-var-name'><span>time</span></div><div class='xr-var-dims'>(time)</div><div class='xr-var-dtype'>datetime64[ns]</div><div class='xr-var-preview xr-preview'>...</div><input id='attrs-222e2060-d3b8-47b4-bc45-2c732ab0b122' class='xr-var-attrs-in' type='checkbox' disabled><label for='attrs-222e2060-d3b8-47b4-bc45-2c732ab0b122' title='Show/Hide attributes'><svg class='icon xr-icon-file-text2'><use xlink:href='#icon-file-text2'></use></svg></label><input id='data-e581535a-f33f-494f-8af4-ccb1efd6a6fc' class='xr-var-data-in' type='checkbox'><label for='data-e581535a-f33f-494f-8af4-ccb1efd6a6fc' title='Show/Hide data repr'><svg class='icon xr-icon-database'><use xlink:href='#icon-database'></use></svg></label><div class='xr-var-attrs'><dl class='xr-attrs'></dl></div><div class='xr-var-data'><pre>[1 values with dtype=datetime64[ns]]</pre></div></li><li class='xr-var-item'><div class='xr-var-name'><span>tr_urb2d</span></div><div class='xr-var-dims'>(time, lat, lon)</div><div class='xr-var-dtype'>float32</div><div class='xr-var-preview xr-preview'>...</div><input id='attrs-76c9df87-6ccf-4af1-8e04-5b3a606aedd7' class='xr-var-attrs-in' type='checkbox' ><label for='attrs-76c9df87-6ccf-4af1-8e04-5b3a606aedd7' title='Show/Hide attributes'><svg class='icon xr-icon-file-text2'><use xlink:href='#icon-file-text2'></use></svg></label><input id='data-f68b1999-c5cb-42c9-a976-c6a36ff33fcd' class='xr-var-data-in' type='checkbox'><label for='data-f68b1999-c5cb-42c9-a976-c6a36ff33fcd' title='Show/Hide data repr'><svg class='icon xr-icon-database'><use xlink:href='#icon-database'></use></svg></label><div class='xr-var-attrs'><dl class='xr-attrs'><dt><span>MemoryOrder :</span></dt><dd>XY</dd><dt><span>description :</span></dt><dd>Daily mean urban radiative temperature</dd><dt><span>units :</span></dt><dd>K</dd><dt><span>stagger :</span></dt><dd>-</dd></dl></div><div class='xr-var-data'><pre>[13367808 values with dtype=float32]</pre></div></li><li class='xr-var-item'><div class='xr-var-name'><span>tr_urb2d_max</span></div><div class='xr-var-dims'>(time, lat, lon)</div><div class='xr-var-dtype'>float32</div><div class='xr-var-preview xr-preview'>...</div><input id='attrs-df3a5a22-cfb7-4318-acf8-7b6cff60566e' class='xr-var-attrs-in' type='checkbox' ><label for='attrs-df3a5a22-cfb7-4318-acf8-7b6cff60566e' title='Show/Hide attributes'><svg class='icon xr-icon-file-text2'><use xlink:href='#icon-file-text2'></use></svg></label><input id='data-4f216dc3-2f63-4f83-a9cb-ab0e84f65721' class='xr-var-data-in' type='checkbox'><label for='data-4f216dc3-2f63-4f83-a9cb-ab0e84f65721' title='Show/Hide data repr'><svg class='icon xr-icon-database'><use xlink:href='#icon-database'></use></svg></label><div class='xr-var-attrs'><dl class='xr-attrs'><dt><span>MemoryOrder :</span></dt><dd>XY</dd><dt><span>description :</span></dt><dd>Daily maximum urban radiative temperature</dd><dt><span>units :</span></dt><dd>K</dd><dt><span>stagger :</span></dt><dd>-</dd></dl></div><div class='xr-var-data'><pre>[13367808 values with dtype=float32]</pre></div></li><li class='xr-var-item'><div class='xr-var-name'><span>tr_urb2d_min</span></div><div class='xr-var-dims'>(time, lat, lon)</div><div class='xr-var-dtype'>float32</div><div class='xr-var-preview xr-preview'>...</div><input id='attrs-51666891-96c1-4643-817d-3d77404a6291' class='xr-var-attrs-in' type='checkbox' ><label for='attrs-51666891-96c1-4643-817d-3d77404a6291' title='Show/Hide attributes'><svg class='icon xr-icon-file-text2'><use xlink:href='#icon-file-text2'></use></svg></label><input id='data-bacea239-4901-4d7f-87a4-76ef7ce15929' class='xr-var-data-in' type='checkbox'><label for='data-bacea239-4901-4d7f-87a4-76ef7ce15929' title='Show/Hide data repr'><svg class='icon xr-icon-database'><use xlink:href='#icon-database'></use></svg></label><div class='xr-var-attrs'><dl class='xr-attrs'><dt><span>MemoryOrder :</span></dt><dd>XY</dd><dt><span>description :</span></dt><dd>Daily minimum urban radiative temperature</dd><dt><span>units :</span></dt><dd>K</dd><dt><span>stagger :</span></dt><dd>-</dd></dl></div><div class='xr-var-data'><pre>[13367808 values with dtype=float32]</pre></div></li><li class='xr-var-item'><div class='xr-var-name'><span>trad</span></div><div class='xr-var-dims'>(time, lat, lon)</div><div class='xr-var-dtype'>float32</div><div class='xr-var-preview xr-preview'>...</div><input id='attrs-fd9a3a5f-754a-461d-8f09-6d2b1d9c55a3' class='xr-var-attrs-in' type='checkbox' ><label for='attrs-fd9a3a5f-754a-461d-8f09-6d2b1d9c55a3' title='Show/Hide attributes'><svg class='icon xr-icon-file-text2'><use xlink:href='#icon-file-text2'></use></svg></label><input id='data-854e2696-b131-490a-9b8d-f8b7d9b9674e' class='xr-var-data-in' type='checkbox'><label for='data-854e2696-b131-490a-9b8d-f8b7d9b9674e' title='Show/Hide data repr'><svg class='icon xr-icon-database'><use xlink:href='#icon-database'></use></svg></label><div class='xr-var-attrs'><dl class='xr-attrs'><dt><span>MemoryOrder :</span></dt><dd>XY</dd><dt><span>description :</span></dt><dd>Daily mean surface radiative temperature</dd><dt><span>units :</span></dt><dd>K</dd><dt><span>stagger :</span></dt><dd>-</dd></dl></div><div class='xr-var-data'><pre>[13367808 values with dtype=float32]</pre></div></li><li class='xr-var-item'><div class='xr-var-name'><span>trad_max</span></div><div class='xr-var-dims'>(time, lat, lon)</div><div class='xr-var-dtype'>float32</div><div class='xr-var-preview xr-preview'>...</div><input id='attrs-20d0857f-d1ae-4b29-a886-781129eb350c' class='xr-var-attrs-in' type='checkbox' ><label for='attrs-20d0857f-d1ae-4b29-a886-781129eb350c' title='Show/Hide attributes'><svg class='icon xr-icon-file-text2'><use xlink:href='#icon-file-text2'></use></svg></label><input id='data-04b876c9-ebf0-4d63-916f-812111e82739' class='xr-var-data-in' type='checkbox'><label for='data-04b876c9-ebf0-4d63-916f-812111e82739' title='Show/Hide data repr'><svg class='icon xr-icon-database'><use xlink:href='#icon-database'></use></svg></label><div class='xr-var-attrs'><dl class='xr-attrs'><dt><span>MemoryOrder :</span></dt><dd>XY</dd><dt><span>description :</span></dt><dd>Daily maximum surface radiative temperature</dd><dt><span>units :</span></dt><dd>K</dd><dt><span>stagger :</span></dt><dd>-</dd></dl></div><div class='xr-var-data'><pre>[13367808 values with dtype=float32]</pre></div></li><li class='xr-var-item'><div class='xr-var-name'><span>trad_min</span></div><div class='xr-var-dims'>(time, lat, lon)</div><div class='xr-var-dtype'>float32</div><div class='xr-var-preview xr-preview'>...</div><input id='attrs-cb4b09ac-3de5-4aa8-961d-321f77d03d9f' class='xr-var-attrs-in' type='checkbox' ><label for='attrs-cb4b09ac-3de5-4aa8-961d-321f77d03d9f' title='Show/Hide attributes'><svg class='icon xr-icon-file-text2'><use xlink:href='#icon-file-text2'></use></svg></label><input id='data-650f7baf-e608-40b2-a375-fe7ec21b6b1c' class='xr-var-data-in' type='checkbox'><label for='data-650f7baf-e608-40b2-a375-fe7ec21b6b1c' title='Show/Hide data repr'><svg class='icon xr-icon-database'><use xlink:href='#icon-database'></use></svg></label><div class='xr-var-attrs'><dl class='xr-attrs'><dt><span>MemoryOrder :</span></dt><dd>XY</dd><dt><span>description :</span></dt><dd>Daily minimum surface radiative temperature</dd><dt><span>units :</span></dt><dd>K</dd><dt><span>stagger :</span></dt><dd>-</dd></dl></div><div class='xr-var-data'><pre>[13367808 values with dtype=float32]</pre></div></li><li class='xr-var-item'><div class='xr-var-name'><span>tsk</span></div><div class='xr-var-dims'>(time, lat, lon)</div><div class='xr-var-dtype'>float32</div><div class='xr-var-preview xr-preview'>...</div><input id='attrs-451b8581-f22b-4479-8bed-66038298b342' class='xr-var-attrs-in' type='checkbox' ><label for='attrs-451b8581-f22b-4479-8bed-66038298b342' title='Show/Hide attributes'><svg class='icon xr-icon-file-text2'><use xlink:href='#icon-file-text2'></use></svg></label><input id='data-ab4b0607-f746-4374-92e2-b9d792a350bd' class='xr-var-data-in' type='checkbox'><label for='data-ab4b0607-f746-4374-92e2-b9d792a350bd' title='Show/Hide data repr'><svg class='icon xr-icon-database'><use xlink:href='#icon-database'></use></svg></label><div class='xr-var-attrs'><dl class='xr-attrs'><dt><span>MemoryOrder :</span></dt><dd>XY</dd><dt><span>description :</span></dt><dd>Daily mean surface skin temperature (urban weighted)</dd><dt><span>units :</span></dt><dd>K</dd><dt><span>stagger :</span></dt><dd>-</dd></dl></div><div class='xr-var-data'><pre>[13367808 values with dtype=float32]</pre></div></li><li class='xr-var-item'><div class='xr-var-name'><span>tsk_max</span></div><div class='xr-var-dims'>(time, lat, lon)</div><div class='xr-var-dtype'>float32</div><div class='xr-var-preview xr-preview'>...</div><input id='attrs-83d30708-57da-4ba4-a0df-87dd184aa39e' class='xr-var-attrs-in' type='checkbox' ><label for='attrs-83d30708-57da-4ba4-a0df-87dd184aa39e' title='Show/Hide attributes'><svg class='icon xr-icon-file-text2'><use xlink:href='#icon-file-text2'></use></svg></label><input id='data-ac64ae94-10ad-4eaa-a43a-9836d13bd529' class='xr-var-data-in' type='checkbox'><label for='data-ac64ae94-10ad-4eaa-a43a-9836d13bd529' title='Show/Hide data repr'><svg class='icon xr-icon-database'><use xlink:href='#icon-database'></use></svg></label><div class='xr-var-attrs'><dl class='xr-attrs'><dt><span>MemoryOrder :</span></dt><dd>XY</dd><dt><span>description :</span></dt><dd>Daily maximum surface skin temperature (urban weighted)</dd><dt><span>units :</span></dt><dd>K</dd><dt><span>stagger :</span></dt><dd>-</dd></dl></div><div class='xr-var-data'><pre>[13367808 values with dtype=float32]</pre></div></li><li class='xr-var-item'><div class='xr-var-name'><span>tsk_min</span></div><div class='xr-var-dims'>(time, lat, lon)</div><div class='xr-var-dtype'>float32</div><div class='xr-var-preview xr-preview'>...</div><input id='attrs-3c292a44-bce0-4f7c-91bb-24d3da112cde' class='xr-var-attrs-in' type='checkbox' ><label for='attrs-3c292a44-bce0-4f7c-91bb-24d3da112cde' title='Show/Hide attributes'><svg class='icon xr-icon-file-text2'><use xlink:href='#icon-file-text2'></use></svg></label><input id='data-ccbb0f40-78a9-4d63-bc2a-42e970ca9614' class='xr-var-data-in' type='checkbox'><label for='data-ccbb0f40-78a9-4d63-bc2a-42e970ca9614' title='Show/Hide data repr'><svg class='icon xr-icon-database'><use xlink:href='#icon-database'></use></svg></label><div class='xr-var-attrs'><dl class='xr-attrs'><dt><span>MemoryOrder :</span></dt><dd>XY</dd><dt><span>description :</span></dt><dd>Daily minimum surface skin temperature (urban weighted)</dd><dt><span>units :</span></dt><dd>K</dd><dt><span>stagger :</span></dt><dd>-</dd></dl></div><div class='xr-var-data'><pre>[13367808 values with dtype=float32]</pre></div></li><li class='xr-var-item'><div class='xr-var-name'><span>wspd</span></div><div class='xr-var-dims'>(time, lat, lon)</div><div class='xr-var-dtype'>float32</div><div class='xr-var-preview xr-preview'>...</div><input id='attrs-7e9e2aa4-c6ab-4594-9e4d-0ca38be8588c' class='xr-var-attrs-in' type='checkbox' ><label for='attrs-7e9e2aa4-c6ab-4594-9e4d-0ca38be8588c' title='Show/Hide attributes'><svg class='icon xr-icon-file-text2'><use xlink:href='#icon-file-text2'></use></svg></label><input id='data-d59a9090-1954-4350-9fe5-f5d4ec10dab8' class='xr-var-data-in' type='checkbox'><label for='data-d59a9090-1954-4350-9fe5-f5d4ec10dab8' title='Show/Hide data repr'><svg class='icon xr-icon-database'><use xlink:href='#icon-database'></use></svg></label><div class='xr-var-attrs'><dl class='xr-attrs'><dt><span>MemoryOrder :</span></dt><dd>XY</dd><dt><span>description :</span></dt><dd>Daily mean wind speed</dd><dt><span>units :</span></dt><dd>m s{-1}</dd><dt><span>stagger :</span></dt><dd>-</dd></dl></div><div class='xr-var-data'><pre>[13367808 values with dtype=float32]</pre></div></li></ul></div></li><li class='xr-section-item'><input id='section-9858eb75-ec90-4799-bdcd-903dd85a5309' class='xr-section-summary-in' type='checkbox' disabled ><label for='section-9858eb75-ec90-4799-bdcd-903dd85a5309' class='xr-section-summary'  title='Expand/collapse section'>Indexes: <span>(0)</span></label><div class='xr-section-inline-details'></div><div class='xr-section-details'><ul class='xr-var-list'></ul></div></li><li class='xr-section-item'><input id='section-1e0844c4-1479-4075-964f-d22105acf090' class='xr-section-summary-in' type='checkbox'  ><label for='section-1e0844c4-1479-4075-964f-d22105acf090' class='xr-section-summary' >Attributes: <span>(50)</span></label><div class='xr-section-inline-details'></div><div class='xr-section-details'><dl class='xr-attrs'><dt><span>SIMULATION_START_DATE :</span></dt><dd>0000-00-00_00:00:00</dd><dt><span>WEST-EAST_GRID_DIMENSION :</span></dt><dd>4609</dd><dt><span>SOUTH-NORTH_GRID_DIMENSION :</span></dt><dd>3841</dd><dt><span>BOTTOM-TOP_GRID_DIMENSION :</span></dt><dd>0</dd><dt><span>WEST-EAST_PATCH_START_UNSTAG :</span></dt><dd>1</dd><dt><span>WEST-EAST_PATCH_END_UNSTAG :</span></dt><dd>4608</dd><dt><span>WEST-EAST_PATCH_START_STAG :</span></dt><dd>1</dd><dt><span>WEST-EAST_PATCH_END_STAG :</span></dt><dd>4609</dd><dt><span>SOUTH-NORTH_PATCH_START_UNSTAG :</span></dt><dd>1</dd><dt><span>SOUTH-NORTH_PATCH_END_UNSTAG :</span></dt><dd>3840</dd><dt><span>SOUTH-NORTH_PATCH_START_STAG :</span></dt><dd>1</dd><dt><span>SOUTH-NORTH_PATCH_END_STAG :</span></dt><dd>3841</dd><dt><span>GRIDTYPE :</span></dt><dd>C</dd><dt><span>DX :</span></dt><dd>1000.0</dd><dt><span>DY :</span></dt><dd>1000.0</dd><dt><span>DYN_OPT :</span></dt><dd>2</dd><dt><span>CEN_LAT :</span></dt><dd>40.000008</dd><dt><span>CEN_LON :</span></dt><dd>-97.0</dd><dt><span>TRUELAT1 :</span></dt><dd>30.0</dd><dt><span>TRUELAT2 :</span></dt><dd>60.0</dd><dt><span>MOAD_CEN_LAT :</span></dt><dd>40.000008</dd><dt><span>STAND_LON :</span></dt><dd>-97.0</dd><dt><span>POLE_LAT :</span></dt><dd>90.0</dd><dt><span>POLE_LON :</span></dt><dd>0.0</dd><dt><span>corner_lats :</span></dt><dd>[20.077812 52.87278  52.87278  20.077812 20.076714 52.870747 52.870747\n",
       " 20.076714 20.073708 52.876926 52.876926 20.073708 20.072594 52.87489\n",
       " 52.87489  20.072594]</dd><dt><span>corner_lons :</span></dt><dd>[-118.10449  -133.50734   -60.492676  -75.89551  -118.10886  -133.5142\n",
       "  -60.48578   -75.89114  -118.1033   -133.51071   -60.48929   -75.8967\n",
       " -118.107666 -133.51758   -60.48242   -75.892334]</dd><dt><span>MAP_PROJ :</span></dt><dd>1</dd><dt><span>MMINLU :</span></dt><dd>USGS</dd><dt><span>NUM_LAND_CAT :</span></dt><dd>96</dd><dt><span>ISWATER :</span></dt><dd>16</dd><dt><span>ISLAKE :</span></dt><dd>-1</dd><dt><span>ISICE :</span></dt><dd>24</dd><dt><span>ISURBAN :</span></dt><dd>1</dd><dt><span>ISOILWATER :</span></dt><dd>14</dd><dt><span>grid_id :</span></dt><dd>1</dd><dt><span>parent_id :</span></dt><dd>1</dd><dt><span>i_parent_start :</span></dt><dd>1</dd><dt><span>j_parent_start :</span></dt><dd>1</dd><dt><span>i_parent_end :</span></dt><dd>4609</dd><dt><span>j_parent_end :</span></dt><dd>3841</dd><dt><span>parent_grid_ratio :</span></dt><dd>1</dd><dt><span>sr_x :</span></dt><dd>1</dd><dt><span>sr_y :</span></dt><dd>1</dd><dt><span>FLAG_MF_XY :</span></dt><dd>1</dd><dt><span>FLAG_LAI12M :</span></dt><dd>1</dd><dt><span>FLAG_LAKE_DEPTH :</span></dt><dd>1</dd><dt><span>nco_openmp_thread_number :</span></dt><dd>1</dd><dt><span>NCO :</span></dt><dd>netCDF Operators version 5.1.9 (Homepage = http://nco.sf.net, Code = http://github.com/nco/nco, Citation = 10.1016/j.envsoft.2008.03.004)</dd><dt><span>TITLE :</span></dt><dd>OUTPUT FROM GEOGRID V4.0.1</dd><dt><span>history :</span></dt><dd>Sat Feb 17 19:31:44 2024: ncks -4 -L 1 conus_HUMID_19831225.nc4 -O conus_HUMID_19831225.nc4\n",
       "Thu Apr 25 17:57:28 2019: ncatted -a description,URB_CAT,o,c,Dominant Urban Category geo_em.d01.nlcd2001.nc</dd></dl></div></li></ul></div></div>"
      ],
      "text/plain": [
       "<xarray.Dataset> Size: 3GB\n",
       "Dimensions:            (time: 1, lat: 2901, lon: 4608)\n",
       "Coordinates:\n",
       "    lat                (lat, lon) float32 53MB ...\n",
       "    lon                (lat, lon) float32 53MB ...\n",
       "Dimensions without coordinates: time\n",
       "Data variables: (12/47)\n",
       "    FRC_URB2D          (time, lat, lon) float32 53MB ...\n",
       "    HGT                (time, lat, lon) float32 53MB ...\n",
       "    ISLTYP             (time, lat, lon) float64 107MB ...\n",
       "    IVGTYP             (time, lat, lon) float64 107MB ...\n",
       "    LU_INDEX           (time, lat, lon) float32 53MB ...\n",
       "    Lambert_Conformal  int32 4B ...\n",
       "    ...                 ...\n",
       "    trad_max           (time, lat, lon) float32 53MB ...\n",
       "    trad_min           (time, lat, lon) float32 53MB ...\n",
       "    tsk                (time, lat, lon) float32 53MB ...\n",
       "    tsk_max            (time, lat, lon) float32 53MB ...\n",
       "    tsk_min            (time, lat, lon) float32 53MB ...\n",
       "    wspd               (time, lat, lon) float32 53MB ...\n",
       "Attributes: (12/50)\n",
       "    SIMULATION_START_DATE:           0000-00-00_00:00:00\n",
       "    WEST-EAST_GRID_DIMENSION:        4609\n",
       "    SOUTH-NORTH_GRID_DIMENSION:      3841\n",
       "    BOTTOM-TOP_GRID_DIMENSION:       0\n",
       "    WEST-EAST_PATCH_START_UNSTAG:    1\n",
       "    WEST-EAST_PATCH_END_UNSTAG:      4608\n",
       "    ...                              ...\n",
       "    FLAG_LAI12M:                     1\n",
       "    FLAG_LAKE_DEPTH:                 1\n",
       "    nco_openmp_thread_number:        1\n",
       "    NCO:                             netCDF Operators version 5.1.9 (Homepage...\n",
       "    TITLE:                           OUTPUT FROM GEOGRID V4.0.1\n",
       "    history:                         Sat Feb 17 19:31:44 2024: ncks -4 -L 1 c..."
      ]
     },
     "execution_count": 18,
     "metadata": {},
     "output_type": "execute_result"
    }
   ],
   "source": [
    "# Convert temporal coord name to 'time'\n",
    "\n",
    "# Sometimes the temporal coord has a different name, you can use code below to rename the dimension to time to work with the following functions. \n",
    "# Use the function below to rename the temporal coord to 'time', this will be used in the later functions.\n",
    "\n",
    "# Uncoment the line below to check the current coord names and identify the temporal coord. \n",
    "print(dataset.dims)\n",
    "\n",
    "# Uncomment the function call below and update the 2nd argument with the temporal coord name.\n",
    "gridded.temporal_check(dataset, \"Time\")"
   ]
  },
  {
   "cell_type": "code",
   "execution_count": 6,
   "id": "0b769970-71ed-48a7-95fb-da873b6330c8",
   "metadata": {
    "editable": true,
    "slideshow": {
     "slide_type": ""
    },
    "tags": [
     "thebe-init"
    ]
   },
   "outputs": [],
   "source": [
    "# Load checklist from JSON file:\n",
    "checklist = utils.load_checklist()"
   ]
  },
  {
   "cell_type": "markdown",
   "id": "087dd158-2a04-45b5-a0c0-599761f33f94",
   "metadata": {},
   "source": [
    "#### Reset stored answers to start again:"
   ]
  },
  {
   "cell_type": "code",
   "execution_count": 70,
   "id": "a467851d-ee03-46f7-a194-8e516c374b8e",
   "metadata": {
    "jupyter": {
     "source_hidden": true
    }
   },
   "outputs": [],
   "source": [
    "# Reset all checklist answers back to original blank answers for all sections.\n",
    "# Any completed information will be lost. \n",
    "\n",
    "# To reset the stored answers uncomment and run these lines of code below. Re-comment the lines afterwards to avoid them running again. \n",
    "# utils.reset_checklist()\n",
    "# checklist = utils.load_checklist()\n",
    "\n",
    "# You can then re-run each section to reload it on the reset data. "
   ]
  },
  {
   "cell_type": "markdown",
   "id": "3bf24dda-6822-45ae-a005-6d2f4138e7a8",
   "metadata": {
    "editable": true,
    "slideshow": {
     "slide_type": ""
    },
    "tags": []
   },
   "source": [
    "---\n",
    "\n",
    "## **1. Dataset General Info**\n"
   ]
  },
  {
   "cell_type": "markdown",
   "id": "6faea870-624c-4cb6-8bfa-d93a4a16aea0",
   "metadata": {
    "editable": true,
    "slideshow": {
     "slide_type": ""
    },
    "tags": []
   },
   "source": [
    "### Basic details"
   ]
  },
  {
   "cell_type": "code",
   "execution_count": 8,
   "id": "e6f9be9b-7e01-4210-8b77-8b0632be47a8",
   "metadata": {
    "editable": true,
    "jupyter": {
     "source_hidden": true
    },
    "scrolled": true,
    "slideshow": {
     "slide_type": ""
    },
    "tags": [
     "thebe-init"
    ]
   },
   "outputs": [
    {
     "data": {
      "application/vnd.jupyter.widget-view+json": {
       "model_id": "958347c005a345b9acc9846b33fe491c",
       "version_major": 2,
       "version_minor": 0
      },
      "text/plain": [
       "Text(value='', description='1.1 Dataset name:', layout=Layout(width='900px'), style=TextStyle(description_widt…"
      ]
     },
     "metadata": {},
     "output_type": "display_data"
    },
    {
     "data": {
      "application/vnd.jupyter.widget-view+json": {
       "model_id": "f3067e8597b34aed929625b8731a52fb",
       "version_major": 2,
       "version_minor": 0
      },
      "text/plain": [
       "Text(value='', description='1.2. Dataset version:', layout=Layout(width='900px'), style=TextStyle(description_…"
      ]
     },
     "metadata": {},
     "output_type": "display_data"
    },
    {
     "data": {
      "application/vnd.jupyter.widget-view+json": {
       "model_id": "edb24f0d1bf24287981d64ad6cd1b6d7",
       "version_major": 2,
       "version_minor": 0
      },
      "text/plain": [
       "Text(value='', description='1.3. Location / url link:', layout=Layout(width='900px'), style=TextStyle(descript…"
      ]
     },
     "metadata": {},
     "output_type": "display_data"
    },
    {
     "data": {
      "application/vnd.jupyter.widget-view+json": {
       "model_id": "584c326483eb4f1b994c5387aeec1f0f",
       "version_major": 2,
       "version_minor": 0
      },
      "text/plain": [
       "Text(value='', description='1.4. Assessor name:', layout=Layout(width='900px'), style=TextStyle(description_wi…"
      ]
     },
     "metadata": {},
     "output_type": "display_data"
    },
    {
     "data": {
      "application/vnd.jupyter.widget-view+json": {
       "model_id": "2b6c983438a5411ea7fb235b7059c509",
       "version_major": 2,
       "version_minor": 0
      },
      "text/plain": [
       "Text(value='', description='1.5. Assessor email address:', layout=Layout(width='900px'), style=TextStyle(descr…"
      ]
     },
     "metadata": {},
     "output_type": "display_data"
    }
   ],
   "source": [
    "\n",
    "dataset_name = widgets.Text(\n",
    "    description='1.1 Dataset name:',\n",
    "    value=checklist[\"GeneralInformation\"][\"DatasetName\"],\n",
    "    layout=widgets.Layout(width=WIDGET_WIDTH),\n",
    "    style = DESCRIPTION_STYLE\n",
    ")\n",
    "\n",
    "dataset_version = widgets.Text(\n",
    "    value=checklist[\"GeneralInformation\"][\"DatasetVersion\"],\n",
    "    description='1.2. Dataset version:',\n",
    "    layout=widgets.Layout(width=WIDGET_WIDTH),\n",
    "    style = DESCRIPTION_STYLE\n",
    ")\n",
    "\n",
    "dataset_link = widgets.Text(\n",
    "    value=checklist[\"GeneralInformation\"][\"DatasetLink\"],\n",
    "    description='1.3. Location / url link:',\n",
    "    layout=widgets.Layout(width=WIDGET_WIDTH),\n",
    "    style = DESCRIPTION_STYLE\n",
    ")\n",
    "\n",
    "dataset_assessor_name = widgets.Text(\n",
    "    value=checklist[\"GeneralInformation\"][\"AssessorName\"],\n",
    "    description='1.4. Assessor name:',\n",
    "    layout=widgets.Layout(width=WIDGET_WIDTH),\n",
    "    style = DESCRIPTION_STYLE\n",
    ")\n",
    "\n",
    "dataset_assessor_email = widgets.Text(\n",
    "    value=checklist[\"GeneralInformation\"][\"AssessorEmailAddress\"],\n",
    "    description='1.5. Assessor email address:',\n",
    "    layout=widgets.Layout(width=WIDGET_WIDTH),\n",
    "    style = DESCRIPTION_STYLE\n",
    ")\n",
    "\n",
    "# Display all UI components.\n",
    "display(dataset_name, dataset_version, dataset_link, dataset_assessor_name, dataset_assessor_email)"
   ]
  },
  {
   "cell_type": "code",
   "execution_count": 19,
   "id": "97493b46-efcc-4b19-8886-3042b148f37d",
   "metadata": {},
   "outputs": [
    {
     "name": "stdout",
     "output_type": "stream",
     "text": [
      "Dict key not found\n"
     ]
    },
    {
     "ename": "UnboundLocalError",
     "evalue": "local variable 'title' referenced before assignment",
     "output_type": "error",
     "traceback": [
      "\u001b[0;31m---------------------------------------------------------------------------\u001b[0m",
      "\u001b[0;31mUnboundLocalError\u001b[0m                         Traceback (most recent call last)",
      "Cell \u001b[0;32mIn[19], line 4\u001b[0m\n\u001b[1;32m      1\u001b[0m \u001b[38;5;66;03m# This function displays useful information from the gridded file for the questions above. \u001b[39;00m\n\u001b[1;32m      2\u001b[0m \n\u001b[1;32m      3\u001b[0m \u001b[38;5;66;03m# Uncomment the line below to run the find_general_info function.\u001b[39;00m\n\u001b[0;32m----> 4\u001b[0m general_info \u001b[38;5;241m=\u001b[39m \u001b[43mutils\u001b[49m\u001b[38;5;241;43m.\u001b[39;49m\u001b[43mfind_general_info\u001b[49m\u001b[43m(\u001b[49m\u001b[43mdataset\u001b[49m\u001b[43m)\u001b[49m\n",
      "File \u001b[0;32m~/ai_data_readiness/src/aidatareadiness/utils.py:96\u001b[0m, in \u001b[0;36mfind_general_info\u001b[0;34m(dataset)\u001b[0m\n\u001b[1;32m     93\u001b[0m     \u001b[38;5;28mprint\u001b[39m(\u001b[38;5;124m\"\u001b[39m\u001b[38;5;124mValue not accessible\u001b[39m\u001b[38;5;124m\"\u001b[39m)\n\u001b[1;32m     95\u001b[0m \u001b[38;5;66;03m# Print the information\u001b[39;00m\n\u001b[0;32m---> 96\u001b[0m \u001b[38;5;28mprint\u001b[39m(\u001b[38;5;124m\"\u001b[39m\u001b[38;5;124mDataset Name:\u001b[39m\u001b[38;5;124m\"\u001b[39m, \u001b[43mtitle\u001b[49m)\n\u001b[1;32m     97\u001b[0m \u001b[38;5;28mprint\u001b[39m(\u001b[38;5;124m\"\u001b[39m\u001b[38;5;124mDataset Version:\u001b[39m\u001b[38;5;124m\"\u001b[39m, version)\n\u001b[1;32m     99\u001b[0m \u001b[38;5;28;01mreturn\u001b[39;00m {\u001b[38;5;124m\"\u001b[39m\u001b[38;5;124mDatasetName\u001b[39m\u001b[38;5;124m\"\u001b[39m : title, \u001b[38;5;124m\"\u001b[39m\u001b[38;5;124mDatasetVersion\u001b[39m\u001b[38;5;124m\"\u001b[39m : version}\n",
      "\u001b[0;31mUnboundLocalError\u001b[0m: local variable 'title' referenced before assignment"
     ]
    }
   ],
   "source": [
    "# This function displays useful information from the gridded file for the questions above. \n",
    "\n",
    "# Uncomment the line below to run the find_general_info function.\n",
    "general_info = utils.find_general_info(dataset)"
   ]
  },
  {
   "cell_type": "markdown",
   "id": "ab7b5096-fc94-4bbb-bf29-885026e712bf",
   "metadata": {
    "editable": true,
    "slideshow": {
     "slide_type": ""
    },
    "tags": []
   },
   "source": [
    "### Dataset details"
   ]
  },
  {
   "cell_type": "code",
   "execution_count": 9,
   "id": "f336d6cb-f3c8-4f62-a175-edafcd8c73f2",
   "metadata": {
    "editable": true,
    "jupyter": {
     "source_hidden": true
    },
    "scrolled": true,
    "slideshow": {
     "slide_type": ""
    },
    "tags": [
     "thebe-init"
    ]
   },
   "outputs": [
    {
     "data": {
      "application/vnd.jupyter.widget-view+json": {
       "model_id": "a4ef02c815f548679beb38be01643309",
       "version_major": 2,
       "version_minor": 0
      },
      "text/plain": [
       "Label(value='Select from the list, or type your own answer if appropriate.')"
      ]
     },
     "metadata": {},
     "output_type": "display_data"
    },
    {
     "data": {
      "application/vnd.jupyter.widget-view+json": {
       "model_id": "af4bb31a3d6e4ca19739f0b7aa8ba16e",
       "version_major": 2,
       "version_minor": 0
      },
      "text/plain": [
       "Combobox(value='', description='6. Is this raw data or a derived/processed data product?', layout=Layout(width…"
      ]
     },
     "metadata": {},
     "output_type": "display_data"
    },
    {
     "data": {
      "application/vnd.jupyter.widget-view+json": {
       "model_id": "89bb487560ee499d967985b2ff7a426c",
       "version_major": 2,
       "version_minor": 0
      },
      "text/plain": [
       "Combobox(value='', description='7. Is this observational data, simulation/model output, or synthetic data?', l…"
      ]
     },
     "metadata": {},
     "output_type": "display_data"
    },
    {
     "data": {
      "application/vnd.jupyter.widget-view+json": {
       "model_id": "64e21701936541bda8b7f399a81d5534",
       "version_major": 2,
       "version_minor": 0
      },
      "text/plain": [
       "Combobox(value='', description='8. Is the data single-source or aggregated from several sources? ', layout=Lay…"
      ]
     },
     "metadata": {},
     "output_type": "display_data"
    }
   ],
   "source": [
    "\n",
    "label = widgets.Label(value=\"Select from the list, or type your own answer if appropriate.\")\n",
    "\n",
    "raw_derived = widgets.Combobox(\n",
    "            value = checklist[\"GeneralInformation\"][\"RawOrDerived\"],\n",
    "            options=['Raw', 'Derived', 'Unknown'],\n",
    "            description='6. Is this raw data or a derived/processed data product?',\n",
    "            placeholder=PLACEHOLDER,\n",
    "            layout=widgets.Layout(width=WIDGET_WIDTH),\n",
    "            style = DESCRIPTION_STYLE\n",
    "            )\n",
    "\n",
    "observe_model_synthetic = widgets.Combobox(\n",
    "            value = checklist[\"GeneralInformation\"][\"ObservedModeledSyntheticData\"],\n",
    "            options=['Observed', 'Modeled', 'Synthetic'],\n",
    "            description='7. Is this observational data, simulation/model output, or synthetic data?',\n",
    "            placeholder=PLACEHOLDER,\n",
    "            layout=widgets.Layout(width=WIDGET_WIDTH),\n",
    "            style = DESCRIPTION_STYLE\n",
    "            )\n",
    "\n",
    "data_sources = widgets.Combobox(\n",
    "            value = checklist[\"GeneralInformation\"][\"DataSource\"],\n",
    "            options=['Single-source', 'Aggregated'],\n",
    "            description='8. Is the data single-source or aggregated from several sources? ',\n",
    "            placeholder=PLACEHOLDER,\n",
    "            layout=widgets.Layout(width=WIDGET_WIDTH),\n",
    "            style = DESCRIPTION_STYLE\n",
    "            )\n",
    "\n",
    "display(label, raw_derived, observe_model_synthetic, data_sources)"
   ]
  },
  {
   "cell_type": "code",
   "execution_count": 20,
   "id": "1ca4389b-d716-45a0-9e09-af2527aaf898",
   "metadata": {},
   "outputs": [
    {
     "ename": "KeyError",
     "evalue": "'source'",
     "output_type": "error",
     "traceback": [
      "\u001b[0;31m---------------------------------------------------------------------------\u001b[0m",
      "\u001b[0;31mKeyError\u001b[0m                                  Traceback (most recent call last)",
      "Cell \u001b[0;32mIn[20], line 5\u001b[0m\n\u001b[1;32m      1\u001b[0m \u001b[38;5;66;03m# The dataset source might might have information to help you answer the questions above. \u001b[39;00m\n\u001b[1;32m      2\u001b[0m \u001b[38;5;66;03m# For instance if the dataset is aggregated from multiple sources.\u001b[39;00m\n\u001b[1;32m      3\u001b[0m \n\u001b[1;32m      4\u001b[0m \u001b[38;5;66;03m# Uncomment the line below to check the source attribute\u001b[39;00m\n\u001b[0;32m----> 5\u001b[0m \u001b[38;5;28mprint\u001b[39m(\u001b[43mdataset\u001b[49m\u001b[38;5;241;43m.\u001b[39;49m\u001b[43mattrs\u001b[49m\u001b[43m[\u001b[49m\u001b[38;5;124;43m\"\u001b[39;49m\u001b[38;5;124;43msource\u001b[39;49m\u001b[38;5;124;43m\"\u001b[39;49m\u001b[43m]\u001b[49m)\n",
      "\u001b[0;31mKeyError\u001b[0m: 'source'"
     ]
    }
   ],
   "source": [
    "# The dataset source might might have information to help you answer the questions above. \n",
    "# For instance if the dataset is aggregated from multiple sources.\n",
    "\n",
    "# Uncomment the line below to check the source attribute\n",
    "print(dataset.attrs[\"source\"])"
   ]
  },
  {
   "cell_type": "code",
   "execution_count": 75,
   "id": "0fe05bfb-00c8-434d-858c-c4ae98c0efc9",
   "metadata": {
    "jupyter": {
     "source_hidden": true
    }
   },
   "outputs": [
    {
     "data": {
      "application/vnd.jupyter.widget-view+json": {
       "model_id": "fd2cd1fb8fc648aa8e65565d478ba084",
       "version_major": 2,
       "version_minor": 0
      },
      "text/plain": [
       "Button(button_style='primary', description='Save General Information Answers to json file', layout=Layout(flex…"
      ]
     },
     "metadata": {},
     "output_type": "display_data"
    }
   ],
   "source": [
    "\n",
    "# Save button\n",
    "save_button = widgets.Button(description=\"Save General Information Answers to json file\",  button_style=\"primary\",  layout=widgets.Layout(flex='1 1 auto', width='auto'))\n",
    "\n",
    "def generate_updates_general():\n",
    "    updates = {\n",
    "        \"GeneralInformation\": {\n",
    "            \"DatasetName\": dataset_name.value,\n",
    "            \"DatasetVersion\": dataset_version.value,\n",
    "            \"DatasetLink\": dataset_link.value,\n",
    "            \"AssessorName\": dataset_assessor_name.value,\n",
    "            \"AssessorEmailAddress\": dataset_assessor_email.value,\n",
    "            \"RawOrDerived\" : raw_derived.value,\n",
    "            \"ObservedModeledSyntheticData\" : observe_model_synthetic.value,\n",
    "            \"DataSource\" : data_sources.value,\n",
    "        }\n",
    "    }\n",
    "    return updates\n",
    "\n",
    "save_button.on_click(lambda b: utils.update_checklist(b, generate_updates_general()))\n",
    "\n",
    "display(save_button)"
   ]
  },
  {
   "cell_type": "markdown",
   "id": "7b756c71-6015-4d1a-a019-8be3355438af",
   "metadata": {},
   "source": [
    "---\n",
    "\n",
    "## **2. Data Quality**"
   ]
  },
  {
   "cell_type": "markdown",
   "id": "c5444121-9f6b-4257-90eb-b3e280c227d4",
   "metadata": {
    "editable": true,
    "slideshow": {
     "slide_type": ""
    },
    "tags": []
   },
   "source": [
    "### Data timeliness    "
   ]
  },
  {
   "cell_type": "code",
   "execution_count": 11,
   "id": "72515fef-8b32-45f0-9bdf-8d0ee82e9a1b",
   "metadata": {
    "editable": true,
    "jupyter": {
     "source_hidden": true
    },
    "slideshow": {
     "slide_type": ""
    },
    "tags": [
     "thebe-init"
    ]
   },
   "outputs": [
    {
     "data": {
      "application/vnd.jupyter.widget-view+json": {
       "model_id": "535201ed2f2f40c9b595df356a54f122",
       "version_major": 2,
       "version_minor": 0
      },
      "text/plain": [
       "Combobox(value='', description='2.1 Will the dataset be updated?', layout=Layout(width='900px'), options=('Yes…"
      ]
     },
     "metadata": {},
     "output_type": "display_data"
    },
    {
     "data": {
      "application/vnd.jupyter.widget-view+json": {
       "model_id": "8780eb7cc41548dda7abca6e7dc90aa2",
       "version_major": 2,
       "version_minor": 0
      },
      "text/plain": [
       "Combobox(value='', description='If the data will be updated, how often will it be updated?', layout=Layout(dis…"
      ]
     },
     "metadata": {},
     "output_type": "display_data"
    },
    {
     "data": {
      "application/vnd.jupyter.widget-view+json": {
       "model_id": "ffe1d014a1a44da98a8b2f6c0d9d9eff",
       "version_major": 2,
       "version_minor": 0
      },
      "text/plain": [
       "Combobox(value='', description='Will there be different stages of the update?', layout=Layout(display='none', …"
      ]
     },
     "metadata": {},
     "output_type": "display_data"
    },
    {
     "data": {
      "application/vnd.jupyter.widget-view+json": {
       "model_id": "2355d4e80ddc40bfb1a9297d15f4a770",
       "version_major": 2,
       "version_minor": 0
      },
      "text/plain": [
       "Text(value='', description='If yes, what is the delay between different stages?', layout=Layout(display='none'…"
      ]
     },
     "metadata": {},
     "output_type": "display_data"
    },
    {
     "data": {
      "application/vnd.jupyter.widget-view+json": {
       "model_id": "de095e4a41a94ad8ace001b7bdf0c2ac",
       "version_major": 2,
       "version_minor": 0
      },
      "text/plain": [
       "Combobox(value='', description='Should the new version of the dataset supersede the current version?', layout=…"
      ]
     },
     "metadata": {},
     "output_type": "display_data"
    }
   ],
   "source": [
    "\n",
    "data_update = widgets.Combobox(\n",
    "            value=checklist['DataQuality']['WillBeUpdated'],\n",
    "            options=['Yes', 'No'],\n",
    "            description='2.1 Will the dataset be updated?',\n",
    "            placeholder=PLACEHOLDER,\n",
    "            layout=widgets.Layout(width=WIDGET_WIDTH),\n",
    "            style = DESCRIPTION_STYLE\n",
    "            )\n",
    "\n",
    "data_update_frequency = widgets.Combobox(\n",
    "            value=checklist[\"DataQuality\"][\"WhenNewDataAdded\"],\n",
    "            options=['When data updated', 'Hourly', 'Daily', 'Weekly', 'Monthly', 'Annually', 'Other', \"N/A\"],\n",
    "            description='If the data will be updated, how often will it be updated?',\n",
    "            placeholder=PLACEHOLDER,\n",
    "            layout=widgets.Layout(display='none', width=WIDGET_WIDTH),\n",
    "            style = DESCRIPTION_STYLE\n",
    "            )\n",
    "\n",
    "data_update_stages = widgets.Combobox(\n",
    "            value=checklist[\"DataQuality\"][\"DifferentStages\"],\n",
    "            options=['Preliminary data first, then updated later', 'Full record', \"N/A\"],\n",
    "            description='Will there be different stages of the update?',\n",
    "            placeholder=PLACEHOLDER,\n",
    "            layout=widgets.Layout(display='none', width=WIDGET_WIDTH),\n",
    "            style = DESCRIPTION_STYLE\n",
    "            )\n",
    "\n",
    "data_update_delay = widgets.Text(\n",
    "            value=checklist[\"DataQuality\"][\"DelayBetweenStages\"],\n",
    "            description='If yes, what is the delay between different stages?',\n",
    "            disabled=False,\n",
    "            layout=widgets.Layout(display='none', width=WIDGET_WIDTH),\n",
    "            style = DESCRIPTION_STYLE\n",
    "            )\n",
    "\n",
    "data_update_supersede = widgets.Combobox(\n",
    "            value=checklist[\"DataQuality\"][\"SupersedeCurrentVersion\"],\n",
    "            options=['Yes', 'No', \"N/A\"],\n",
    "            description='Should the new version of the dataset supersede the current version?',\n",
    "            placeholder=PLACEHOLDER,\n",
    "            layout=widgets.Layout(display='none', width=WIDGET_WIDTH),\n",
    "            style = DESCRIPTION_STYLE\n",
    "            )\n",
    "\n",
    "# Function to change the display setting of the following UI components. \n",
    "def on_click_handler(change): \n",
    "    if change[\"new\"] == \"Yes\":\n",
    "        data_update_frequency.layout.display = ''\n",
    "        data_update_stages.layout.display = ''\n",
    "        data_update_delay.layout.display = ''\n",
    "        data_update_supersede.layout.display = ''\n",
    "    else:\n",
    "        data_update_frequency.layout.display = 'none'\n",
    "        data_update_stages.layout.display = 'none'\n",
    "        data_update_delay.layout.display = 'none'\n",
    "        data_update_supersede.layout.display = 'none'\n",
    "        \n",
    "        # Return the values back to default state if 1st option changed back.\n",
    "        data_update_frequency.value = None\n",
    "        data_update_stages.value = None\n",
    "        data_update_delay.value = \"\"\n",
    "        data_update_supersede.value = None\n",
    "        \n",
    "\n",
    "# Show UI components based on their display settings. \n",
    "display(data_update, data_update_frequency, data_update_stages, data_update_delay, data_update_supersede)\n",
    "\n",
    "# Observe the first UI component for changes and call the on_click_handler function if value property changed. \n",
    "data_update.observe(on_click_handler, names=\"value\")"
   ]
  },
  {
   "cell_type": "markdown",
   "id": "eea71f21-807f-481c-97bb-80c43427f270",
   "metadata": {},
   "source": [
    "### Data completeness"
   ]
  },
  {
   "cell_type": "code",
   "execution_count": 12,
   "id": "3884dd0c-7cc0-4c2d-9f37-4ee8e5eb5741",
   "metadata": {
    "editable": true,
    "jupyter": {
     "source_hidden": true
    },
    "slideshow": {
     "slide_type": ""
    },
    "tags": [
     "thebe-init"
    ]
   },
   "outputs": [
    {
     "data": {
      "application/vnd.jupyter.widget-view+json": {
       "model_id": "4688445baff2464e907f9345b186ce39",
       "version_major": 2,
       "version_minor": 0
      },
      "text/plain": [
       "Combobox(value='', description='2.2 Is there any documentation about the completeness of the dataset?', layout…"
      ]
     },
     "metadata": {},
     "output_type": "display_data"
    },
    {
     "data": {
      "application/vnd.jupyter.widget-view+json": {
       "model_id": "9a4dd58c6c724dd8bac389098e7a0227",
       "version_major": 2,
       "version_minor": 0
      },
      "text/plain": [
       "Text(value='', description='Documentation link:', layout=Layout(display='none', width='900px'), placeholder='P…"
      ]
     },
     "metadata": {},
     "output_type": "display_data"
    },
    {
     "data": {
      "application/vnd.jupyter.widget-view+json": {
       "model_id": "39b1af2b074349b0b02c0fb8987ae863",
       "version_major": 2,
       "version_minor": 0
      },
      "text/plain": [
       "Combobox(value='', description='2.3 How complete is the dataset compared to the expected spatial coverage?', l…"
      ]
     },
     "metadata": {},
     "output_type": "display_data"
    },
    {
     "data": {
      "application/vnd.jupyter.widget-view+json": {
       "model_id": "ee8870dcbe6844f185ff2f176a269d83",
       "version_major": 2,
       "version_minor": 0
      },
      "text/plain": [
       "Combobox(value='', description='2.4 How complete is the dataset compared to the expected temporal coverage?', …"
      ]
     },
     "metadata": {},
     "output_type": "display_data"
    }
   ],
   "source": [
    "\n",
    "completeness_docs = widgets.Combobox(\n",
    "            value=checklist['DataQuality']['DocumentationAvailable'],\n",
    "            options=['Yes', 'No'],\n",
    "            description='2.2 Is there any documentation about the completeness of the dataset?',\n",
    "            placeholder=PLACEHOLDER,\n",
    "            layout=widgets.Layout(width=WIDGET_WIDTH),\n",
    "            style = DESCRIPTION_STYLE\n",
    "            )\n",
    "\n",
    "completeness_docs_link = widgets.Text(\n",
    "            value=checklist['DataQuality']['LinkToReport'],\n",
    "            description=\"Documentation link:\",\n",
    "            placeholder='Please provide a link to the document',\n",
    "            disabled=False,\n",
    "            layout=widgets.Layout(display='none', width=WIDGET_WIDTH),\n",
    "            style = DESCRIPTION_STYLE\n",
    "            )\n",
    "\n",
    "expected_spatial_coverage = widgets.Combobox(\n",
    "            value=checklist['DataQuality']['SpatialCoverage'],\n",
    "            options=['Complete', 'Partial', 'Unknown', 'N/A'],\n",
    "            description='2.3 How complete is the dataset compared to the expected spatial coverage?',\n",
    "            placeholder=PLACEHOLDER,\n",
    "            layout=widgets.Layout(width=WIDGET_WIDTH),\n",
    "            style = DESCRIPTION_STYLE\n",
    "            )\n",
    "\n",
    "expected_temporal_coverage = widgets.Combobox(\n",
    "            value=checklist['DataQuality']['TemporalCoverage'],\n",
    "            options=['Complete', 'Partial', 'Unknown', 'N/A'],\n",
    "            description='2.4 How complete is the dataset compared to the expected temporal coverage?',\n",
    "            placeholder=PLACEHOLDER,\n",
    "            layout=widgets.Layout(width=WIDGET_WIDTH),\n",
    "            style = DESCRIPTION_STYLE\n",
    "            )\n",
    "\n",
    "# Function to change the display setting of the following UI components. \n",
    "def on_click_handler(change): \n",
    "    if change[\"new\"] == \"Yes\":\n",
    "        completeness_docs_link.layout.display = ''\n",
    "    else:\n",
    "        completeness_docs_link.layout.display = 'none'\n",
    "        \n",
    "        # Return the values back to default state if 1st option changed back.\n",
    "        completeness_docs_link.value = \"\"\n",
    "\n",
    "# Show UI components based on their display settings. \n",
    "display(completeness_docs, completeness_docs_link, expected_spatial_coverage, expected_temporal_coverage)\n",
    "\n",
    "# Observe the first UI component for changes and call the on_click_handler function if value property changed. \n",
    "completeness_docs.observe(on_click_handler, names=\"value\")\n"
   ]
  },
  {
   "cell_type": "code",
   "execution_count": 21,
   "id": "95cd9e91-2879-412d-83b4-ab04c54a684d",
   "metadata": {},
   "outputs": [
    {
     "name": "stdout",
     "output_type": "stream",
     "text": [
      "Spatial resolution: Latitude [0.00832367 0.0083313  0.00833893 ... 0.00833893 0.0083313  0.00832367] deg, Longitude [0.0025177  0.00253296 0.00250244 ... 0.00250244 0.00253296 0.00253296] deg\n",
      "Spatial coverage: Latitude 22.558914184570312 to 51.905601501464844, Longitude 230.37026977539062 to 295.6297302246094\n"
     ]
    }
   ],
   "source": [
    "# This function will check the spatial resolution and spatial coverage and log the output.\n",
    "\n",
    "# Uncomment the lines below to run the get_spatial_resolution_and_coverage function and print the results:\n",
    "resolution, coverage = gridded.get_spatial_resolution_and_coverage(dataset)\n",
    "\n",
    "print(f\"Spatial resolution: Latitude {resolution[0]} deg, Longitude {resolution[1]} deg\")\n",
    "print(f\"Spatial coverage: Latitude {coverage['latitude'][0]} to {coverage['latitude'][1]}, Longitude {coverage['longitude'][0]} to {coverage['longitude'][1]}\")"
   ]
  },
  {
   "cell_type": "code",
   "execution_count": 22,
   "id": "8fadc132-1886-4367-937e-5756800807e4",
   "metadata": {},
   "outputs": [
    {
     "name": "stderr",
     "output_type": "stream",
     "text": [
      "Time coordinate not found in the dataset.\n"
     ]
    },
    {
     "name": "stdout",
     "output_type": "stream",
     "text": [
      "None None\n",
      "Temporal resolution: None\n"
     ]
    },
    {
     "ename": "TypeError",
     "evalue": "'NoneType' object is not subscriptable",
     "output_type": "error",
     "traceback": [
      "\u001b[0;31m---------------------------------------------------------------------------\u001b[0m",
      "\u001b[0;31mTypeError\u001b[0m                                 Traceback (most recent call last)",
      "Cell \u001b[0;32mIn[22], line 9\u001b[0m\n\u001b[1;32m      6\u001b[0m \u001b[38;5;28mprint\u001b[39m(temporal_resolution, temporal_coverage)\n\u001b[1;32m      8\u001b[0m \u001b[38;5;28mprint\u001b[39m(\u001b[38;5;124m\"\u001b[39m\u001b[38;5;124mTemporal resolution:\u001b[39m\u001b[38;5;124m\"\u001b[39m, temporal_resolution)\n\u001b[0;32m----> 9\u001b[0m \u001b[38;5;28mprint\u001b[39m(\u001b[38;5;124m\"\u001b[39m\u001b[38;5;124mMin time:\u001b[39m\u001b[38;5;124m\"\u001b[39m, \u001b[43mtemporal_coverage\u001b[49m\u001b[43m[\u001b[49m\u001b[38;5;124;43m'\u001b[39;49m\u001b[38;5;124;43mtime\u001b[39;49m\u001b[38;5;124;43m'\u001b[39;49m\u001b[43m]\u001b[49m[\u001b[38;5;241m0\u001b[39m])\n\u001b[1;32m     10\u001b[0m \u001b[38;5;28mprint\u001b[39m(\u001b[38;5;124m\"\u001b[39m\u001b[38;5;124mMax time:\u001b[39m\u001b[38;5;124m\"\u001b[39m, temporal_coverage[\u001b[38;5;124m'\u001b[39m\u001b[38;5;124mtime\u001b[39m\u001b[38;5;124m'\u001b[39m][\u001b[38;5;241m1\u001b[39m])\n",
      "\u001b[0;31mTypeError\u001b[0m: 'NoneType' object is not subscriptable"
     ]
    }
   ],
   "source": [
    "# This function will check the temporal resolution and temporal coverage and log the output.\n",
    "\n",
    "# Uncomment the lines below to run the get_temporal_resolution_and_coverage function and print the results:\n",
    "temporal_resolution, temporal_coverage = gridded.get_temporal_resolution_and_coverage(dataset)\n",
    "\n",
    "print(temporal_resolution, temporal_coverage)\n",
    "\n",
    "print(\"Temporal resolution:\", temporal_resolution)\n",
    "print(\"Min time:\", temporal_coverage['time'][0])\n",
    "print(\"Max time:\", temporal_coverage['time'][1])"
   ]
  },
  {
   "cell_type": "code",
   "execution_count": 23,
   "id": "cda4e9f8-cc56-47f5-90c7-3b3466968279",
   "metadata": {},
   "outputs": [
    {
     "name": "stderr",
     "output_type": "stream",
     "text": [
      "Spatial resolution is not consistent.\n"
     ]
    },
    {
     "name": "stdout",
     "output_type": "stream",
     "text": [
      "Spatial resolution not consistent\n"
     ]
    }
   ],
   "source": [
    "# The following function will check if the spatial resolution is consistent or not. \n",
    "\n",
    "# Uncomment the lines below to run the check_spatial_consistency funciton and print the results:\n",
    "spatial_consistency = gridded.check_spatial_consistency(dataset)\n",
    "\n",
    "print(\"Spatial resolution is consistent\" if spatial_consistency == True \n",
    "      else \"Spatial resolution not consistent\" if spatial_consistency == False\n",
    "      else \"Unable to determin spatial resolution consistency\")"
   ]
  },
  {
   "cell_type": "code",
   "execution_count": 24,
   "id": "3f714fb7-402d-4fa1-80a4-b8f0d3a77fef",
   "metadata": {},
   "outputs": [
    {
     "name": "stderr",
     "output_type": "stream",
     "text": [
      "Time coordinate not found in the dataset.\n"
     ]
    },
    {
     "name": "stdout",
     "output_type": "stream",
     "text": [
      "Unable to determin temporal resolution consistency\n"
     ]
    }
   ],
   "source": [
    "# The following function will check if the temporal resolution is consistent or not. \n",
    "\n",
    "# Uncomment the lines below to run the check_temporal_consistency funciton and print the results:\n",
    "temporal_consistency = gridded.check_temporal_consistency(dataset)\n",
    "\n",
    "print(\"Temporal resolution is consistent\" if temporal_consistency == True \n",
    "      else \"Temporal resolution is not consistent\" if temporal_consistency == False\n",
    "      else \"Unable to determin temporal resolution consistency\")"
   ]
  },
  {
   "cell_type": "markdown",
   "id": "5b56e1f9-6811-446a-a67b-67d04e932be0",
   "metadata": {},
   "source": [
    "### Data consistency"
   ]
  },
  {
   "cell_type": "code",
   "execution_count": 83,
   "id": "e5fcf4e2-015f-4daa-ba16-ac75ebf502f8",
   "metadata": {
    "jupyter": {
     "source_hidden": true
    },
    "scrolled": true
   },
   "outputs": [
    {
     "data": {
      "application/vnd.jupyter.widget-view+json": {
       "model_id": "3e733047e78f4e3ab15806912910064f",
       "version_major": 2,
       "version_minor": 0
      },
      "text/plain": [
       "Combobox(value='', description='2.5 Is this dataset self-consistent in that its units, data types, and paramet…"
      ]
     },
     "metadata": {},
     "output_type": "display_data"
    },
    {
     "data": {
      "application/vnd.jupyter.widget-view+json": {
       "model_id": "19e5c18c70254f568c5bd453fcae738a",
       "version_major": 2,
       "version_minor": 0
      },
      "text/plain": [
       "Combobox(value='', description='2.6 Is this dataset’s units, data types, and parameter names consistent with s…"
      ]
     },
     "metadata": {},
     "output_type": "display_data"
    },
    {
     "data": {
      "application/vnd.jupyter.widget-view+json": {
       "model_id": "8ca54b17483a41048303281e8492242f",
       "version_major": 2,
       "version_minor": 0
      },
      "text/plain": [
       "Combobox(value='', description='2.7 Are there processes to monitor for units, data types, and parameter consis…"
      ]
     },
     "metadata": {},
     "output_type": "display_data"
    },
    {
     "data": {
      "application/vnd.jupyter.widget-view+json": {
       "model_id": "d7753dd901654e64bdc7eeb40118aa9a",
       "version_major": 2,
       "version_minor": 0
      },
      "text/plain": [
       "Text(value='', description='Review measures:', layout=Layout(display='none', width='900px'), placeholder='If y…"
      ]
     },
     "metadata": {},
     "output_type": "display_data"
    }
   ],
   "source": [
    "\n",
    "self_consistent_units = widgets.Combobox(\n",
    "            value=checklist['DataQuality']['SelfConsistent'],\n",
    "            options=['Yes', 'No', 'N/A'],\n",
    "            description='2.5 Is this dataset self-consistent in that its units, data types, and parameter names do not change over time and space?',\n",
    "            placeholder=\"Click to select option\",\n",
    "            layout=widgets.Layout(width=WIDGET_WIDTH),\n",
    "            style = DESCRIPTION_STYLE\n",
    "            )\n",
    "\n",
    "consistent_units = widgets.Combobox(\n",
    "            value=checklist['DataQuality']['ConsistentWithSimilarData'],\n",
    "            options=['Yes', 'No', 'N/A'],\n",
    "            description='2.6 Is this dataset’s units, data types, and parameter names consistent with similar data collections?',\n",
    "            placeholder=\"Click to select option\",\n",
    "            layout=widgets.Layout(width=WIDGET_WIDTH),\n",
    "            style = DESCRIPTION_STYLE\n",
    "            )\n",
    "\n",
    "consistent_unit_monitoring = widgets.Combobox(\n",
    "            value=checklist['DataQuality']['MonitoringProcessesExist'],\n",
    "            options=['Yes', 'No', 'N/A'],\n",
    "            description='2.7 Are there processes to monitor for units, data types, and parameter consistency?',\n",
    "            placeholder=\"Click to select option\",\n",
    "            layout=widgets.Layout(width=WIDGET_WIDTH),\n",
    "            style = DESCRIPTION_STYLE\n",
    "            )\n",
    "\n",
    "consistent_unit_review = widgets.Text(\n",
    "            value=checklist['DataQuality']['MonitoringProcessesDetails'],\n",
    "            description = 'Review measures:',\n",
    "            placeholder='If yes, what measures are taken? Manual review / Automated review etc.',\n",
    "            disabled=False,\n",
    "            layout=widgets.Layout(display='none', width=WIDGET_WIDTH),\n",
    "            style = DESCRIPTION_STYLE\n",
    "            )\n",
    "\n",
    "# Function to change the display setting of the following UI components. \n",
    "def on_click_handler(change): \n",
    "    if change[\"new\"] == \"Yes\":\n",
    "        consistent_unit_review.layout.display = ''\n",
    "    else:\n",
    "        consistent_unit_review.layout.display = 'none'\n",
    "        \n",
    "        # Return the values back to default state if 1st option changed back.\n",
    "        consistent_unit_review.value = \"\"\n",
    "\n",
    "# Show UI components based on their display settings. \n",
    "display(self_consistent_units, consistent_units, consistent_unit_monitoring, consistent_unit_review)\n",
    "\n",
    "# Observe the first UI component for changes and call the on_click_handler function if value property changed. \n",
    "consistent_unit_monitoring.observe(on_click_handler, names=\"value\")\n"
   ]
  },
  {
   "cell_type": "code",
   "execution_count": 25,
   "id": "692699ab-a85e-4bc7-8fe7-cf57f15f7e1e",
   "metadata": {},
   "outputs": [
    {
     "name": "stdout",
     "output_type": "stream",
     "text": [
      "===========================================================================\n",
      "VARIABLE                 DATATYPE                 UNIT                     \n",
      "===========================================================================\n",
      "FRC_URB2D                float32                  unitless                 \n",
      "HGT                      float32                  meters MSL               \n",
      "ISLTYP                   float64                  category                 \n",
      "IVGTYP                   float64                  category                 \n",
      "LU_INDEX                 float32                  category                 \n",
      "Lambert_Conformal        int32                    Unknown                  \n",
      "Times                    object                   Unknown                  \n",
      "URB_CAT                  float32                  unitless                 \n",
      "hfx                      float32                  W m{-2}                  \n",
      "lat                      float32                  degrees_north            \n",
      "lh                       float32                  W m{-2}                  \n",
      "lon                      float32                  degrees_east             \n",
      "lwforc                   float32                  W m{-2}                  \n",
      "q2                       float32                  kg/kg                    \n",
      "q2_max                   float32                  kg/kg                    \n",
      "q2_min                   float32                  kg/kg                    \n",
      "q2_urb2d                 float32                  kg/kg                    \n",
      "q2_urb2d_max             float32                  kg/kg                    \n",
      "q2_urb2d_min             float32                  kg/kg                    \n",
      "rainrate                 float32                  kg m{-2} s{-1}           \n",
      "swforc                   float32                  W m{-2}                  \n",
      "t2_max_BC                float32                  K                        \n",
      "t2_max_raw               float32                  K                        \n",
      "t2_min_BC                float32                  K                        \n",
      "t2_min_raw               float32                  K                        \n",
      "t2_raw                   float32                  K                        \n",
      "tb_urb2d                 float32                  K                        \n",
      "tb_urb2d_max             float32                  K                        \n",
      "tb_urb2d_min             float32                  K                        \n",
      "tc_urb2d                 float32                  K                        \n",
      "tc_urb2d_max             float32                  K                        \n",
      "tc_urb2d_min             float32                  K                        \n",
      "tg                       float32                  K                        \n",
      "tg_max                   float32                  K                        \n",
      "tg_min                   float32                  K                        \n",
      "tg_urb2d                 float32                  K                        \n",
      "tg_urb2d_max             float32                  K                        \n",
      "tg_urb2d_min             float32                  K                        \n",
      "time                     datetime64[ns]           Unknown                  \n",
      "tr_urb2d                 float32                  K                        \n",
      "tr_urb2d_max             float32                  K                        \n",
      "tr_urb2d_min             float32                  K                        \n",
      "trad                     float32                  K                        \n",
      "trad_max                 float32                  K                        \n",
      "trad_min                 float32                  K                        \n",
      "tsk                      float32                  K                        \n",
      "tsk_max                  float32                  K                        \n",
      "tsk_min                  float32                  K                        \n",
      "wspd                     float32                  m s{-1}                  \n"
     ]
    }
   ],
   "source": [
    "# This function will help find information about the dataset's variables relevant to the questions above. \n",
    "\n",
    "# Uncomment the line below to run the find_unit_data funciton.\n",
    "unit_info = utils.find_unit_data(dataset)\n",
    "\n",
    "\n",
    "# Uncomment the lines below to print the unit_info results into a table:\n",
    "print(\"=\" * 75)\n",
    "print(\"{:<25}{:<25}{:25}\".format(\"VARIABLE\", \"DATATYPE\", \"UNIT\"))\n",
    "print(\"=\" * 75)\n",
    "    \n",
    "for variable in unit_info:\n",
    "    print(\"{:<25}{:<25}{:25}\".format(variable[\"variable\"], variable[\"datatype\"], variable[\"unit\"]))"
   ]
  },
  {
   "cell_type": "code",
   "execution_count": 85,
   "id": "5fd9574a-becf-4556-a3bd-51aef40a5459",
   "metadata": {
    "jupyter": {
     "source_hidden": true
    }
   },
   "outputs": [
    {
     "data": {
      "application/vnd.jupyter.widget-view+json": {
       "model_id": "57268b29899d42c6951af024793372a3",
       "version_major": 2,
       "version_minor": 0
      },
      "text/plain": [
       "Button(button_style='primary', description='Save Timeliness, Completeness & Consistency Answers to json file',…"
      ]
     },
     "metadata": {},
     "output_type": "display_data"
    }
   ],
   "source": [
    "\n",
    "# Save button\n",
    "save_button = widgets.Button(description=\"Save Timeliness, Completeness & Consistency Answers to json file\",  button_style=\"primary\",  layout=widgets.Layout(flex='1 1 auto', width='auto'))\n",
    "\n",
    "def generate_updates_data_quality1():\n",
    "\n",
    "    updates = {\n",
    "        \"DataQuality\": {\n",
    "            \"WillBeUpdated\": data_update.value,\n",
    "            \"WhenNewDataAdded\": data_update_frequency.value,\n",
    "            \"DifferentStages\": data_update_stages.value,\n",
    "            \"DelayBetweenStages\": data_update_delay.value,\n",
    "            \"SupersedeCurrentVersion\": data_update_supersede.value,\n",
    "            \"DocumentationAvailable\" : completeness_docs.value,\n",
    "            \"LinkToReport\" : completeness_docs_link.value,\n",
    "            \"SpatialCoverage\" : expected_spatial_coverage.value,\n",
    "            \"TemporalCoverage\" : expected_temporal_coverage.value,\n",
    "            \"SelfConsistent\" : self_consistent_units.value,\n",
    "            \"ConsistentWithSimilarData\" : consistent_units.value,\n",
    "            \"MonitoringProcessesExist\" : consistent_unit_monitoring.value,\n",
    "            \"MonitoringProcessesDetails\" : consistent_unit_review.value            \n",
    "        }\n",
    "    }\n",
    "    return updates\n",
    "\n",
    "save_button.on_click(lambda b: utils.update_checklist(b, generate_updates_data_quality1()))\n",
    "\n",
    "display(save_button)"
   ]
  },
  {
   "cell_type": "markdown",
   "id": "55405b83-c482-41d0-b1a4-df37191f1a9b",
   "metadata": {},
   "source": [
    "### Data bias"
   ]
  },
  {
   "cell_type": "code",
   "execution_count": 26,
   "id": "a792cb9e-46ab-46d6-b6d6-b2347322c904",
   "metadata": {
    "editable": true,
    "jupyter": {
     "source_hidden": true
    },
    "slideshow": {
     "slide_type": ""
    },
    "tags": []
   },
   "outputs": [
    {
     "data": {
      "application/vnd.jupyter.widget-view+json": {
       "model_id": "055b15f19f85446a86b0b3429624cf1a",
       "version_major": 2,
       "version_minor": 0
      },
      "text/plain": [
       "Combobox(value='', description='2.8 Is there known bias in the dataset?', layout=Layout(width='900px'), option…"
      ]
     },
     "metadata": {},
     "output_type": "display_data"
    },
    {
     "data": {
      "application/vnd.jupyter.widget-view+json": {
       "model_id": "78a0877096c9437e8720e1d5e0b76c10",
       "version_major": 2,
       "version_minor": 0
      },
      "text/plain": [
       "Combobox(value='', description='Have measures been taken to examine bias?', layout=Layout(display='none', widt…"
      ]
     },
     "metadata": {},
     "output_type": "display_data"
    },
    {
     "data": {
      "application/vnd.jupyter.widget-view+json": {
       "model_id": "88e04cc7e5e34891b722b7827876a260",
       "version_major": 2,
       "version_minor": 0
      },
      "text/plain": [
       "Textarea(value='', layout=Layout(display='none', width='900px'), placeholder='If yes, what measures were used?…"
      ]
     },
     "metadata": {},
     "output_type": "display_data"
    },
    {
     "data": {
      "application/vnd.jupyter.widget-view+json": {
       "model_id": "211c760a4ded4c6094a73c116b0c625d",
       "version_major": 2,
       "version_minor": 0
      },
      "text/plain": [
       "Textarea(value='', layout=Layout(display='none', width='900px'), placeholder='Is the bias metrological traceab…"
      ]
     },
     "metadata": {},
     "output_type": "display_data"
    },
    {
     "data": {
      "application/vnd.jupyter.widget-view+json": {
       "model_id": "525ba558aa04422a93ea48428319cd20",
       "version_major": 2,
       "version_minor": 0
      },
      "text/plain": [
       "Combobox(value='', description='Is there reported bias in the data?', layout=Layout(display='none', width='900…"
      ]
     },
     "metadata": {},
     "output_type": "display_data"
    },
    {
     "data": {
      "application/vnd.jupyter.widget-view+json": {
       "model_id": "7c92e7e4366441c2a3a3a71a0504e354",
       "version_major": 2,
       "version_minor": 0
      },
      "text/plain": [
       "Text(value='', layout=Layout(display='none', width='900px'), placeholder='(optional) Link to the report/docume…"
      ]
     },
     "metadata": {},
     "output_type": "display_data"
    },
    {
     "data": {
      "application/vnd.jupyter.widget-view+json": {
       "model_id": "b8a22f73fd6d49b19d0a55df45442432",
       "version_major": 2,
       "version_minor": 0
      },
      "text/plain": [
       "Text(value='', layout=Layout(display='none', width='900px'), placeholder='(optional) Link to a bias-corrected …"
      ]
     },
     "metadata": {},
     "output_type": "display_data"
    },
    {
     "data": {
      "application/vnd.jupyter.widget-view+json": {
       "model_id": "444bcccca92c4f3a8af62ffb67cb769e",
       "version_major": 2,
       "version_minor": 0
      },
      "text/plain": [
       "Text(value='', layout=Layout(display='none', width='900px'), placeholder='(optional) Link to tools available t…"
      ]
     },
     "metadata": {},
     "output_type": "display_data"
    }
   ],
   "source": [
    "\n",
    "dataset_bias = widgets.Combobox(\n",
    "            value=checklist['DataQuality']['KnownBias'],\n",
    "            options=['Yes', 'No', 'Unknown'],\n",
    "            description='2.8 Is there known bias in the dataset?',\n",
    "            placeholder=PLACEHOLDER,\n",
    "            layout=widgets.Layout(width=WIDGET_WIDTH),\n",
    "            style = DESCRIPTION_STYLE\n",
    "            )\n",
    "\n",
    "dataset_bias_measures = widgets.Combobox(\n",
    "            value=checklist['DataQuality']['BiasExamined'],\n",
    "            options=['Yes', 'No', 'Unknown', 'N/A'],\n",
    "            description='Have measures been taken to examine bias?',\n",
    "            placeholder=PLACEHOLDER,\n",
    "            layout=widgets.Layout(display=\"none\", width=WIDGET_WIDTH),\n",
    "            style = DESCRIPTION_STYLE\n",
    "            )\n",
    "\n",
    "dataset_bias_measures_detail = widgets.Textarea(\n",
    "            value=checklist['DataQuality']['BiasMeasures'],\n",
    "            placeholder='If yes, what measures were used?',\n",
    "            layout=widgets.Layout(display=\"none\", width=WIDGET_WIDTH),\n",
    "            )\n",
    "\n",
    "dataset_bias_metrological_traceable = widgets.Textarea(\n",
    "            value=checklist['DataQuality']['MetrologicalTraceability'],\n",
    "            placeholder='Is the bias metrological traceable?',\n",
    "            layout=widgets.Layout(display=\"none\", width=WIDGET_WIDTH),\n",
    "            )\n",
    "\n",
    "dataset_bias_report = widgets.Combobox(\n",
    "            value=checklist['DataQuality']['BiasReport'],\n",
    "            options=['No known bias', 'Found and reported', 'No info available', 'N/A'],\n",
    "            description='Is there reported bias in the data?',\n",
    "            placeholder=PLACEHOLDER,\n",
    "            layout=widgets.Layout(display=\"none\", width=WIDGET_WIDTH),\n",
    "            style = DESCRIPTION_STYLE\n",
    "            )\n",
    "\n",
    "dataset_bias_report_link = widgets.Text(\n",
    "            value=checklist['DataQuality']['BiasReportLink'],\n",
    "            placeholder='(optional) Link to the report/document on the bias',\n",
    "            layout=widgets.Layout(display=\"none\", width=WIDGET_WIDTH)\n",
    "            )\n",
    "\n",
    "dataset_bias_corrected_link = widgets.Text(\n",
    "            value=checklist['DataQuality']['BiasCorrectedDatasetLink'],\n",
    "            placeholder='(optional) Link to a bias-corrected or bias-reduced version of the dataset',\n",
    "            layout=widgets.Layout(display=\"none\", width=WIDGET_WIDTH)\n",
    "            )\n",
    "\n",
    "dataset_bias_tools_link = widgets.Text(\n",
    "            value=checklist['DataQuality']['BiasReductionToolsLink'],\n",
    "            placeholder='(optional) Link to tools available to reduce bias',\n",
    "            layout=widgets.Layout(display=\"none\", width=WIDGET_WIDTH)\n",
    "            )\n",
    "\n",
    "# Function to change the display setting of the following UI components. \n",
    "def on_click_handler(change):    \n",
    "\n",
    "    # Show / hide main trunk of questions. \n",
    "    if dataset_bias.value == \"Yes\":\n",
    "        dataset_bias_measures.layout.display = ''\n",
    "        dataset_bias_report.layout.display = ''\n",
    "        dataset_bias_metrological_traceable.layout.display = ''\n",
    "        dataset_bias_report_link.layout.display = ''\n",
    "        dataset_bias_corrected_link.layout.display = ''\n",
    "        dataset_bias_tools_link.layout.display = ''\n",
    "\n",
    "    else:   \n",
    "        dataset_bias_measures.layout.display = 'none'\n",
    "        dataset_bias_report.layout.display = 'none'\n",
    "        dataset_bias_report_link.layout.display = 'none'\n",
    "        dataset_bias_corrected_link.layout.display = 'none'\n",
    "        dataset_bias_tools_link.layout.display = 'none'\n",
    "        dataset_bias_measures.value = None\n",
    "        dataset_bias_report.value = None\n",
    "        dataset_bias_report_link.value = ''\n",
    "        dataset_bias_corrected_link.value = ''\n",
    "        dataset_bias_tools_link.value = ''\n",
    "\n",
    "    # Show / hide 2nd trunk of questions.\n",
    "    if dataset_bias_measures.value == \"Yes\":\n",
    "        dataset_bias_measures_detail.layout.display = ''\n",
    "        dataset_bias_metrological_traceable.layout.display = ''\n",
    "    else:\n",
    "        dataset_bias_measures_detail.layout.display = 'none'\n",
    "        dataset_bias_metrological_traceable.layout.display = 'none'\n",
    "        dataset_bias_measures_detail.value = ''\n",
    "        dataset_bias_metrological_traceable.value = ''\n",
    "        \n",
    "            \n",
    "# Display the UI components\n",
    "display(dataset_bias, dataset_bias_measures, dataset_bias_measures_detail, dataset_bias_metrological_traceable, dataset_bias_report, dataset_bias_report_link, dataset_bias_corrected_link, dataset_bias_tools_link)\n",
    "\n",
    "# Observe UI components for changes and call the on_click_handler function if value property changed. \n",
    "dataset_bias.observe(on_click_handler, names=\"value\")\n",
    "dataset_bias_measures.observe(on_click_handler, names=\"value\")\n",
    "\n"
   ]
  },
  {
   "cell_type": "markdown",
   "id": "1a20b72c-5a54-4ebf-a2c5-a420287bc975",
   "metadata": {},
   "source": [
    "### Data integrity"
   ]
  },
  {
   "cell_type": "code",
   "execution_count": 27,
   "id": "aacda1c4-d578-421e-9804-efcc75e53599",
   "metadata": {
    "jupyter": {
     "source_hidden": true
    }
   },
   "outputs": [
    {
     "data": {
      "application/vnd.jupyter.widget-view+json": {
       "model_id": "9f4692d981a844a79edb28a52d9505fe",
       "version_major": 2,
       "version_minor": 0
      },
      "text/plain": [
       "Combobox(value='', description='2.9 Is there quantitative information about data resolution in space and time?…"
      ]
     },
     "metadata": {},
     "output_type": "display_data"
    },
    {
     "data": {
      "application/vnd.jupyter.widget-view+json": {
       "model_id": "8832f276fb0d45c3a5da3fe5cfcda7e9",
       "version_major": 2,
       "version_minor": 0
      },
      "text/plain": [
       "Combobox(value='', description='2.10 Are there published data quality procedures or reports?', layout=Layout(w…"
      ]
     },
     "metadata": {},
     "output_type": "display_data"
    },
    {
     "data": {
      "application/vnd.jupyter.widget-view+json": {
       "model_id": "00e78be24190417f9946e6a80c30d805",
       "version_major": 2,
       "version_minor": 0
      },
      "text/plain": [
       "Text(value='', description='Quality information link:', layout=Layout(width='900px'), placeholder='If there is…"
      ]
     },
     "metadata": {},
     "output_type": "display_data"
    },
    {
     "data": {
      "application/vnd.jupyter.widget-view+json": {
       "model_id": "35d7652434ad4f589d6e566b76ac553d",
       "version_major": 2,
       "version_minor": 0
      },
      "text/plain": [
       "Combobox(value='', description='2.11 Is the provenance of the dataset tracked and documented?', layout=Layout(…"
      ]
     },
     "metadata": {},
     "output_type": "display_data"
    },
    {
     "data": {
      "application/vnd.jupyter.widget-view+json": {
       "model_id": "780d8fb24b6e4141a6a3fc578e8f07f4",
       "version_major": 2,
       "version_minor": 0
      },
      "text/plain": [
       "Combobox(value='', description='2.12 Are there checksums / other checks for data integrity? ', layout=Layout(w…"
      ]
     },
     "metadata": {},
     "output_type": "display_data"
    }
   ],
   "source": [
    "\n",
    "data_resolution_info = widgets.Combobox(\n",
    "            value=checklist['DataQuality']['QuantitativeResolutionInfo'],\n",
    "            options=['Yes', 'No', 'N/A'],\n",
    "            description='2.9 Is there quantitative information about data resolution in space and time?',\n",
    "            placeholder=\"Click to select option\",\n",
    "            layout=widgets.Layout(width=WIDGET_WIDTH),\n",
    "            style = DESCRIPTION_STYLE\n",
    "            )\n",
    "\n",
    "data_quality_report = widgets.Combobox(\n",
    "            value=checklist['DataQuality']['PublishedQualityProcedures'],\n",
    "            options=['Yes', 'No', 'N/A'],\n",
    "            description='2.10 Are there published data quality procedures or reports?',\n",
    "            placeholder=\"Click to select option\",\n",
    "            layout=widgets.Layout(width=WIDGET_WIDTH),\n",
    "            style = DESCRIPTION_STYLE\n",
    "            )\n",
    "\n",
    "data_quality_report_link = widgets.Text(\n",
    "            value=checklist['DataQuality']['QualityInformationLink'],\n",
    "            description=\"Quality information link:\",\n",
    "            placeholder='If there is published quality information, please provide the link.',\n",
    "            layout=widgets.Layout(width=WIDGET_WIDTH),\n",
    "            style=DESCRIPTION_STYLE\n",
    "            )\n",
    "\n",
    "dataset_provenance = widgets.Combobox(\n",
    "            value=checklist['DataQuality']['ProvenanceTracked'],\n",
    "            options=['Yes', 'No', 'N/A'],\n",
    "            description='2.11 Is the provenance of the dataset tracked and documented?',\n",
    "            placeholder=\"Click to select option\",\n",
    "            layout=widgets.Layout(width=WIDGET_WIDTH),\n",
    "            style = DESCRIPTION_STYLE\n",
    "            )\n",
    "\n",
    "data_integrity = widgets.Combobox(\n",
    "            value=checklist['DataQuality']['DataIntegrityChecks'],\n",
    "            options=['Yes', 'No', 'N/A'],\n",
    "            description='2.12 Are there checksums / other checks for data integrity? ',\n",
    "            placeholder=\"Click to select option\",\n",
    "            layout=widgets.Layout(width=WIDGET_WIDTH),\n",
    "            style = DESCRIPTION_STYLE\n",
    "            )\n",
    "\n",
    "display(data_resolution_info, data_quality_report, data_quality_report_link, dataset_provenance, data_integrity)"
   ]
  },
  {
   "cell_type": "code",
   "execution_count": 28,
   "id": "782b4d24-6eb7-4869-8ef2-e2f7babd34f2",
   "metadata": {},
   "outputs": [
    {
     "ename": "KeyError",
     "evalue": "'institution'",
     "output_type": "error",
     "traceback": [
      "\u001b[0;31m---------------------------------------------------------------------------\u001b[0m",
      "\u001b[0;31mKeyError\u001b[0m                                  Traceback (most recent call last)",
      "Cell \u001b[0;32mIn[28], line 5\u001b[0m\n\u001b[1;32m      1\u001b[0m \u001b[38;5;66;03m# You will need a combination of reviewing the dataset webstie/docs for some of the questions above.\u001b[39;00m\n\u001b[1;32m      2\u001b[0m \u001b[38;5;66;03m# However, some of the information you need might be included in the file metadata. \u001b[39;00m\n\u001b[1;32m      3\u001b[0m \n\u001b[1;32m      4\u001b[0m \u001b[38;5;66;03m# Uncomment the lines below to print useful attribute information:\u001b[39;00m\n\u001b[0;32m----> 5\u001b[0m \u001b[38;5;28mprint\u001b[39m(\u001b[38;5;124m\"\u001b[39m\u001b[38;5;124mInstitution:\u001b[39m\u001b[38;5;124m\"\u001b[39m, \u001b[43mdataset\u001b[49m\u001b[38;5;241;43m.\u001b[39;49m\u001b[43mattrs\u001b[49m\u001b[43m[\u001b[49m\u001b[38;5;124;43m\"\u001b[39;49m\u001b[38;5;124;43minstitution\u001b[39;49m\u001b[38;5;124;43m\"\u001b[39;49m\u001b[43m]\u001b[49m)\n\u001b[1;32m      6\u001b[0m \u001b[38;5;28mprint\u001b[39m(\u001b[38;5;124m\"\u001b[39m\u001b[38;5;124mHistory:\u001b[39m\u001b[38;5;124m\"\u001b[39m, dataset\u001b[38;5;241m.\u001b[39mattrs[\u001b[38;5;124m\"\u001b[39m\u001b[38;5;124mhistory\u001b[39m\u001b[38;5;124m\"\u001b[39m])\n\u001b[1;32m      7\u001b[0m \u001b[38;5;28mprint\u001b[39m(\u001b[38;5;124m\"\u001b[39m\u001b[38;5;124mSource:\u001b[39m\u001b[38;5;124m\"\u001b[39m, dataset\u001b[38;5;241m.\u001b[39mattrs[\u001b[38;5;124m\"\u001b[39m\u001b[38;5;124msource\u001b[39m\u001b[38;5;124m\"\u001b[39m])\n",
      "\u001b[0;31mKeyError\u001b[0m: 'institution'"
     ]
    }
   ],
   "source": [
    "# You will need a combination of reviewing the dataset webstie/docs for some of the questions above.\n",
    "# However, some of the information you need might be included in the file metadata. \n",
    "\n",
    "# Uncomment the lines below to print useful attribute information:\n",
    "print(\"Institution:\", dataset.attrs[\"institution\"])\n",
    "print(\"History:\", dataset.attrs[\"history\"])\n",
    "print(\"Source:\", dataset.attrs[\"source\"])\n",
    "print(\"References:\", dataset.attrs[\"reference\"])"
   ]
  },
  {
   "cell_type": "markdown",
   "id": "814a9aa5-dcf0-4a2c-92ed-19de1aec05ea",
   "metadata": {},
   "source": [
    "### Dataset size"
   ]
  },
  {
   "cell_type": "code",
   "execution_count": 29,
   "id": "962fb6eb-a36f-4239-a613-daac8fefc77c",
   "metadata": {
    "jupyter": {
     "source_hidden": true
    }
   },
   "outputs": [
    {
     "data": {
      "application/vnd.jupyter.widget-view+json": {
       "model_id": "46a3d89bb8a0474bae803823fb487c02",
       "version_major": 2,
       "version_minor": 0
      },
      "text/plain": [
       "Label(value='2.13 What is the size of the dataset? Depending on the resource, this might be:')"
      ]
     },
     "metadata": {},
     "output_type": "display_data"
    },
    {
     "data": {
      "application/vnd.jupyter.widget-view+json": {
       "model_id": "7f31a4e31849497c96d46b5940122296",
       "version_major": 2,
       "version_minor": 0
      },
      "text/plain": [
       "Text(value='', placeholder='Total data volume:')"
      ]
     },
     "metadata": {},
     "output_type": "display_data"
    },
    {
     "data": {
      "application/vnd.jupyter.widget-view+json": {
       "model_id": "2f6806b92e0d4009ad958c62b961ae42",
       "version_major": 2,
       "version_minor": 0
      },
      "text/plain": [
       "HBox(children=(Label(value='Number of data files:'), IntText(value=0, layout=Layout(width='100px'))))"
      ]
     },
     "metadata": {},
     "output_type": "display_data"
    },
    {
     "data": {
      "application/vnd.jupyter.widget-view+json": {
       "model_id": "2ba26e12595e4db89458f1c5def64836",
       "version_major": 2,
       "version_minor": 0
      },
      "text/plain": [
       "HBox(children=(Label(value='Number of data table rows:'), IntText(value=0, layout=Layout(width='100px'))))"
      ]
     },
     "metadata": {},
     "output_type": "display_data"
    },
    {
     "data": {
      "application/vnd.jupyter.widget-view+json": {
       "model_id": "1e37a2a5edf84cfdb754f92d05b3e9d8",
       "version_major": 2,
       "version_minor": 0
      },
      "text/plain": [
       "HBox(children=(Label(value='Number of data dimensions:'), IntText(value=0, layout=Layout(width='100px'))))"
      ]
     },
     "metadata": {},
     "output_type": "display_data"
    },
    {
     "data": {
      "application/vnd.jupyter.widget-view+json": {
       "model_id": "abe3e209bb584326803f3707bb4e60e3",
       "version_major": 2,
       "version_minor": 0
      },
      "text/plain": [
       "HBox(children=(Label(value='Number of images:'), IntText(value=0, layout=Layout(width='100px')), Box(layout=La…"
      ]
     },
     "metadata": {},
     "output_type": "display_data"
    }
   ],
   "source": [
    "\n",
    "data_size_question = widgets.Label(\n",
    "    value = '2.13 What is the size of the dataset? Depending on the resource, this might be:'\n",
    ")\n",
    "\n",
    "spacer = widgets.Box(layout=widgets.Layout(width='20px'))\n",
    "\n",
    "total_data_volume = widgets.Text(\n",
    "    value = checklist['DataQuality']['DatasetVolume'],\n",
    "    placeholder='Total data volume:'\n",
    ")\n",
    "\n",
    "num_data_dimensions_label = widgets.Label(\n",
    "    value = \"Number of data dimensions:\"\n",
    ")\n",
    "\n",
    "num_data_dimensions = widgets.IntText(\n",
    "    value = checklist['DataQuality']['DatasetDimensions'],\n",
    "    layout = widgets.Layout(width=\"100px\")\n",
    ")\n",
    "\n",
    "dimensions = widgets.HBox([num_data_dimensions_label, num_data_dimensions])\n",
    "\n",
    "\n",
    "num_data_files_label = widgets.Label(\n",
    "    value = \"Number of data files:\"\n",
    ")\n",
    "\n",
    "num_data_files = widgets.IntText(\n",
    "    value = checklist['DataQuality']['DatasetNumFiles'],\n",
    "    layout = widgets.Layout(width=\"100px\")\n",
    ")\n",
    "\n",
    "data_files = widgets.HBox([num_data_files_label, num_data_files])\n",
    "\n",
    "num_data_rows_label = widgets.Label(\n",
    "    value = \"Number of data table rows:\"\n",
    ")\n",
    "\n",
    "num_data_rows = widgets.IntText(\n",
    "    value = checklist['DataQuality']['DatasetNumRows'],\n",
    "    layout = widgets.Layout(width=\"100px\")\n",
    ")\n",
    "\n",
    "data_rows = widgets.HBox([num_data_rows_label, num_data_rows])\n",
    "\n",
    "num_data_images_label = widgets.Label(\n",
    "    value = \"Number of images:\"\n",
    ")\n",
    "\n",
    "num_data_images = widgets.IntText(\n",
    "    value = checklist['DataQuality']['DatasetNumImages'],\n",
    "    layout = widgets.Layout(width=\"100px\")\n",
    ")\n",
    "\n",
    "num_data_images_size_label = widgets.Label(\n",
    "    value = \"Size of images:\"\n",
    ")\n",
    "\n",
    "num_data_images_size = widgets.Text(\n",
    "    value = checklist['DataQuality']['DatasetImageSize'],\n",
    "    placeholder='228 x 228'\n",
    ")\n",
    "\n",
    "images = widgets.HBox([num_data_images_label, num_data_images, spacer, num_data_images_size_label, num_data_images_size])\n",
    "\n",
    "\n",
    "display(data_size_question, total_data_volume, data_files, data_rows, dimensions, images)"
   ]
  },
  {
   "cell_type": "code",
   "execution_count": 30,
   "id": "11b77cc7-2ad9-4a09-9ddc-0c69d1902121",
   "metadata": {},
   "outputs": [
    {
     "name": "stdout",
     "output_type": "stream",
     "text": [
      "Total dataset size: 2447.72 MB\n"
     ]
    }
   ],
   "source": [
    "# This function will help you review the total data volume of the dataset. \n",
    "\n",
    "# Uncomment the lines below to run the find_total_data_volume function and print the results:\n",
    "total_data_volume_mb = utils.find_total_data_volume(dataset)\n",
    "print(f\"Total dataset size: {total_data_volume_mb:.2f} MB\")"
   ]
  },
  {
   "cell_type": "code",
   "execution_count": 31,
   "id": "135578cb-0b86-4399-8673-87a5ed479d62",
   "metadata": {},
   "outputs": [
    {
     "name": "stdout",
     "output_type": "stream",
     "text": [
      "Number of dimensions 3\n",
      "Dimension: Time, Size: 1\n",
      "Dimension: lat, Size: 2901\n",
      "Dimension: lon, Size: 4608\n",
      "Total number of datapoints: 13367808\n"
     ]
    },
    {
     "name": "stderr",
     "output_type": "stream",
     "text": [
      "/home/users/simon.boardman/ai_data_readiness/src/aidatareadiness/utils.py:156: FutureWarning: The return type of `Dataset.dims` will be changed to return a set of dimension names in future, in order to be more consistent with `DataArray.dims`. To access a mapping from dimension names to lengths, please use `Dataset.sizes`.\n",
      "  for dim_name, dim_size in dataset.dims.items():\n"
     ]
    }
   ],
   "source": [
    "# This function will help you to review the dimensions of your dataset. \n",
    "\n",
    "# Uncomment the lines below to the run the find_dimensions function and print the results:\n",
    "dimensions_info = utils.find_dimensions(dataset)\n",
    "print(\"Number of dimensions\", dimensions_info[\"num_dimensions\"])\n",
    "\n",
    "# Uncomment the lines below to cycle through the dimensions results and print the details of each dimension. \n",
    "for dim_name, dim_size in dimensions_info[\"dimensions\"].items():\n",
    "    print(f\"Dimension: {dim_name}, Size: {dim_size}\")\n",
    "\n",
    "# It is likely you are working on a multidimensional dataset, in which case it is difficult to think of the dataset in rows. \n",
    "# However it could be useful to understand the total amount of datapoints in the dataset.\n",
    "# Uncomment the line below which calculates this excluding any dimensions including 'band' / 'bnd'. \n",
    "print(f\"Total number of datapoints: {dimensions_info['total_datapoints']}\")\n"
   ]
  },
  {
   "cell_type": "code",
   "execution_count": 92,
   "id": "2952b185-b950-49c2-b745-cb81dc6ab67f",
   "metadata": {
    "jupyter": {
     "source_hidden": true
    }
   },
   "outputs": [
    {
     "data": {
      "application/vnd.jupyter.widget-view+json": {
       "model_id": "535851f6c505496bb4d59466d4aedc2c",
       "version_major": 2,
       "version_minor": 0
      },
      "text/plain": [
       "Button(button_style='primary', description='Save Bias, Integrity & Size Answers to json file', layout=Layout(f…"
      ]
     },
     "metadata": {},
     "output_type": "display_data"
    }
   ],
   "source": [
    "\n",
    "# Save button\n",
    "save_button = widgets.Button(description=\"Save Bias, Integrity & Size Answers to json file\",  button_style=\"primary\",  layout=widgets.Layout(flex='1 1 auto', width='auto'))\n",
    "\n",
    "def generate_updates_data_quality2():\n",
    "    \n",
    "    updates = {\n",
    "        \"DataQuality\": {\n",
    "            #Bias\n",
    "            \"KnownBias\": dataset_bias.value,\n",
    "            \"BiasExamined\": dataset_bias_measures.value,\n",
    "            \"BiasMeasures\": dataset_bias_measures_detail.value,\n",
    "            \"MetrologicalTraceability\": dataset_bias_metrological_traceable.value,\n",
    "            \"BiasReport\": dataset_bias_report.value,            \n",
    "            \"BiasReportLink\" : dataset_bias_report_link.value,\n",
    "            \"BiasCorrectedDatasetLink\" : dataset_bias_corrected_link.value,\n",
    "            \"BiasReductionToolsLink\" : dataset_bias_tools_link.value,\n",
    "            # Integrity\n",
    "            \"QuantitativeResolutionInfo\" : data_resolution_info.value,\n",
    "            \"PublishedQualityProcedures\" : data_quality_report.value,\n",
    "            \"QualityInformationLink\" : data_quality_report_link.value,\n",
    "            \"ProvenanceTracked\" : dataset_provenance.value,\n",
    "            \"DataIntegrityChecks\" : data_integrity.value,\n",
    "            # Size\n",
    "            \"DatasetVolume\" : total_data_volume.value,\n",
    "            \"DatasetNumFiles\" : num_data_files.value,\n",
    "            \"DatasetNumRows\" : num_data_rows.value,\n",
    "            \"DatasetDimensions\" : num_data_dimensions.value,\n",
    "            \"DatasetNumImages\" : num_data_images.value,\n",
    "            \"DatasetImageSize\" : num_data_images_size.value,\n",
    "        }\n",
    "    }\n",
    "    return updates\n",
    "\n",
    "save_button.on_click(lambda b: utils.update_checklist(b, generate_updates_data_quality2()))\n",
    "\n",
    "display(save_button)"
   ]
  },
  {
   "cell_type": "markdown",
   "id": "3824aa9e-9d66-4a2e-a1a2-60139f7c30dd",
   "metadata": {},
   "source": [
    "## Finished"
   ]
  },
  {
   "cell_type": "markdown",
   "id": "a0150d53-a950-4ae0-ae60-ab109f817205",
   "metadata": {},
   "source": [
    "1. Make sure you saved your answers to the external json file using the buttons above. \n",
    "2. If you would like to view these saved answers use the button below. \n",
    "3. Move onto the notebook Template_Checklist_Part_3.ipynb covering Data Documentation"
   ]
  },
  {
   "cell_type": "code",
   "execution_count": 93,
   "id": "d35683fe-7d9f-40fa-81fa-99f926702fd6",
   "metadata": {
    "jupyter": {
     "source_hidden": true
    }
   },
   "outputs": [
    {
     "data": {
      "application/vnd.jupyter.widget-view+json": {
       "model_id": "d5f9179dbdef4972b57554beeae7d682",
       "version_major": 2,
       "version_minor": 0
      },
      "text/plain": [
       "Button(button_style='info', description='Print json results', layout=Layout(flex='1 1 auto', width='auto'), st…"
      ]
     },
     "metadata": {},
     "output_type": "display_data"
    },
    {
     "data": {
      "application/vnd.jupyter.widget-view+json": {
       "model_id": "cfb8226d7c8748d28bfdeb548e0ac2dc",
       "version_major": 2,
       "version_minor": 0
      },
      "text/plain": [
       "Output()"
      ]
     },
     "metadata": {},
     "output_type": "display_data"
    }
   ],
   "source": [
    "\n",
    "button_print_json = widgets.Button(description=\"Print json results\",  button_style='info', layout=widgets.Layout(flex='1 1 auto', width='auto'))\n",
    "output = widgets.Output()\n",
    "\n",
    "display(button_print_json, output)\n",
    "\n",
    "def print_json_info(b):\n",
    "    \"\"\"\n",
    "    Loads a copy of the json file to checklist variable. \n",
    "    Then prints the json file contents to Jupyter notebook cell output.\n",
    "\n",
    "    Arguments: b - represents the button calling the function. \n",
    "    \"\"\"\n",
    "    checklist = utils.load_checklist()\n",
    "    with output:\n",
    "        clear_output()\n",
    "        for key, value in checklist.items():\n",
    "            print(f\"{key}:\")\n",
    "            if isinstance(value, dict):\n",
    "                for sub_key, sub_value in value.items():\n",
    "                    print(f\"  {sub_key}: {sub_value}\")\n",
    "            else:\n",
    "                print(f\"  {value}\")\n",
    "\n",
    "button_print_json.on_click(print_json_info)\n"
   ]
  },
  {
   "cell_type": "markdown",
   "id": "c760fc3b-f413-46e4-8a76-31684d83a2d2",
   "metadata": {},
   "source": [
    "---\n",
    "\n",
    "## **Appendix** - Definition of terms used in the checklist."
   ]
  },
  {
   "cell_type": "markdown",
   "id": "76b55144-23ad-41ed-bdb2-6b347026d278",
   "metadata": {},
   "source": [
    "### Quality\n",
    "* **Completeness**: the breadth of a dataset compared to an ideal 100% completion (spatial, temporal, demographic, etc.); important in avoiding sampling bias\n",
    "* **Consistency**: uniformity within the entire dataset or compared with similar data collections; for example, no changes in units or data types over time; the item measured against itself or its a counterpart in another dataset or database\n",
    "* **Bias**: a systematic tilt in the dataset when compared to a reference, caused for example by instrumentation, incorrect data processing, unrepresentative sampling, or human error; the exact nature of bias and how it is measured will vary depending on the type of data and the research domain.\n",
    "* **Uncertainty**: parameter, associated with the result of a measurement, that characterizes the dispersion of the values that could reasonably be attributed to the measurand.\n",
    "* **Timeliness**: the speed of data release, compared to when an event occurred or measurements were made; requirements will vary depending on the timeframe of the phenomenon (e.g., severe thunderstorms vs. climate change, or disease outbreaks vs. life expectancy trends)\n",
    "* **Provenance**: identification of the data sources, how it was processed, and who released it.\n",
    "* **Integrity**: verification that the data remains unchanged from the original; aka data fixity."
   ]
  }
 ],
 "metadata": {
  "kernelspec": {
   "display_name": "Python 3 (ipykernel)",
   "language": "python",
   "name": "python3"
  },
  "language_info": {
   "codemirror_mode": {
    "name": "ipython",
    "version": 3
   },
   "file_extension": ".py",
   "mimetype": "text/x-python",
   "name": "python",
   "nbconvert_exporter": "python",
   "pygments_lexer": "ipython3",
   "version": "3.10.16"
  },
  "widgets": {
   "application/vnd.jupyter.widget-state+json": {
    "state": {
     "020dbb7f989241c6a26137d8e885f750": {
      "model_module": "@jupyter-widgets/base",
      "model_module_version": "2.0.0",
      "model_name": "LayoutModel",
      "state": {
       "width": "100px"
      }
     },
     "03b582f6daef4e6ea8caebc5cb45b18a": {
      "model_module": "@jupyter-widgets/controls",
      "model_module_version": "2.0.0",
      "model_name": "LabelModel",
      "state": {
       "layout": "IPY_MODEL_64ac7e654a694b0bbc9103a939c6deb5",
       "style": "IPY_MODEL_2d78e529d5754b05ac4d2647b911e730",
       "value": "Number of images:"
      }
     },
     "05351d97a9304f32991adfce0b55e860": {
      "model_module": "@jupyter-widgets/controls",
      "model_module_version": "2.0.0",
      "model_name": "HBoxModel",
      "state": {
       "children": [
        "IPY_MODEL_03b582f6daef4e6ea8caebc5cb45b18a",
        "IPY_MODEL_8b5c1e99ed4e46dda21b83f9d6dc7168",
        "IPY_MODEL_63d44310bcde4f3593068f6ef7ff6025",
        "IPY_MODEL_a4f852401fe54001a8e5544a26042162",
        "IPY_MODEL_b3c44540a342429ba48de8da2592f934"
       ],
       "layout": "IPY_MODEL_3a80b9469ca948e9bde302bbb6e6971b"
      }
     },
     "06684902604e4eb59691c32ffac630a9": {
      "model_module": "@jupyter-widgets/base",
      "model_module_version": "2.0.0",
      "model_name": "LayoutModel",
      "state": {
       "width": "20px"
      }
     },
     "06dbd549b71742099842da2a16ebb9dd": {
      "model_module": "@jupyter-widgets/base",
      "model_module_version": "2.0.0",
      "model_name": "LayoutModel",
      "state": {}
     },
     "0829f2bda30f4fe0a0b5641f15647eaf": {
      "model_module": "@jupyter-widgets/controls",
      "model_module_version": "2.0.0",
      "model_name": "ComboboxModel",
      "state": {
       "description": "2.4 How complete is the dataset compared to the expected temporal coverage?",
       "ensure_option": false,
       "layout": "IPY_MODEL_7a60491a907b4151820c1990513649e8",
       "options": [
        "Complete",
        "Partial",
        "Unknown",
        "N/A"
       ],
       "placeholder": "Click to select option",
       "style": "IPY_MODEL_50b406373ef84cd5a1b65dcbe9a66c26"
      }
     },
     "089ee9db98ef4cc9836949baa461a8b8": {
      "model_module": "@jupyter-widgets/controls",
      "model_module_version": "2.0.0",
      "model_name": "HBoxModel",
      "state": {
       "children": [
        "IPY_MODEL_bb45aa0ab0af4326b1bc822e0975b4ce",
        "IPY_MODEL_6aedc70754f640baae43bed0d0a5e781"
       ],
       "layout": "IPY_MODEL_6ee3bf2c5ccd467ca0102ea244c2f436"
      }
     },
     "0a89da85cf854a23829148cce799db38": {
      "model_module": "@jupyter-widgets/controls",
      "model_module_version": "2.0.0",
      "model_name": "TextModel",
      "state": {
       "layout": "IPY_MODEL_2decb69e78a3470d88d062ebe42581a3",
       "placeholder": "(optional) Link to a bias-corrected or bias-reduced version of the dataset",
       "style": "IPY_MODEL_2e88bd2994594c2583f68fdcce858ba5"
      }
     },
     "0b18e97f8d6549d89edcec5a99a95eb5": {
      "model_module": "@jupyter-widgets/controls",
      "model_module_version": "2.0.0",
      "model_name": "IntTextModel",
      "state": {
       "layout": "IPY_MODEL_020dbb7f989241c6a26137d8e885f750",
       "step": 1,
       "style": "IPY_MODEL_34f35d614d5b426b94bc6eff33d7a978"
      }
     },
     "0e644798aaaf41388bbca8ba2281481d": {
      "model_module": "@jupyter-widgets/base",
      "model_module_version": "2.0.0",
      "model_name": "LayoutModel",
      "state": {
       "display": "none",
       "width": "900px"
      }
     },
     "103c19a2545c41ae8465574c3175f710": {
      "model_module": "@jupyter-widgets/controls",
      "model_module_version": "2.0.0",
      "model_name": "TextModel",
      "state": {
       "description": "1.3. Location / url link:",
       "layout": "IPY_MODEL_874d5bbca91c488680cd708e70796787",
       "style": "IPY_MODEL_6415f5acd96d4ace9a75ca6f30843ff0"
      }
     },
     "105ad4e250914c429acd3eb549ede693": {
      "model_module": "@jupyter-widgets/base",
      "model_module_version": "2.0.0",
      "model_name": "LayoutModel",
      "state": {
       "display": "none",
       "width": "900px"
      }
     },
     "116cf46083b649feaf6f051478bf7322": {
      "model_module": "@jupyter-widgets/base",
      "model_module_version": "2.0.0",
      "model_name": "LayoutModel",
      "state": {
       "display": "none",
       "width": "900px"
      }
     },
     "140d4e110dda45178827de4e0ca3cc52": {
      "model_module": "@jupyter-widgets/controls",
      "model_module_version": "2.0.0",
      "model_name": "TextareaModel",
      "state": {
       "layout": "IPY_MODEL_5f0578368c294732bd1c3f2eba78a11f",
       "placeholder": "Is the bias metrological traceable?",
       "style": "IPY_MODEL_393c971b3c264785835c3635861d8e14"
      }
     },
     "14787c96e680445ead783eb89f8effd4": {
      "model_module": "@jupyter-widgets/controls",
      "model_module_version": "2.0.0",
      "model_name": "TextStyleModel",
      "state": {
       "description_width": "",
       "font_size": null,
       "text_color": null
      }
     },
     "1806db743f9c4148a25640be5604846f": {
      "model_module": "@jupyter-widgets/base",
      "model_module_version": "2.0.0",
      "model_name": "LayoutModel",
      "state": {
       "display": "none",
       "width": "900px"
      }
     },
     "1c6273b6d7884846aa19064047561af8": {
      "model_module": "@jupyter-widgets/controls",
      "model_module_version": "2.0.0",
      "model_name": "TextModel",
      "state": {
       "description": "Review measures:",
       "layout": "IPY_MODEL_6080e5f6ebb441e699d88e91d98718c9",
       "placeholder": "If yes, what measures are taken? Manual review / Automated review etc.",
       "style": "IPY_MODEL_dc2b691546694c71a53dda7c4284c9be"
      }
     },
     "1faa201308e14f7092af9b0ace2824ed": {
      "model_module": "@jupyter-widgets/base",
      "model_module_version": "2.0.0",
      "model_name": "LayoutModel",
      "state": {
       "display": "none",
       "width": "900px"
      }
     },
     "2059fc41b3a8410f91e49c56a448ef9e": {
      "model_module": "@jupyter-widgets/controls",
      "model_module_version": "2.0.0",
      "model_name": "ButtonStyleModel",
      "state": {
       "font_family": null,
       "font_size": null,
       "font_style": null,
       "font_variant": null,
       "font_weight": null,
       "text_color": null,
       "text_decoration": null
      }
     },
     "2098065ebb854e3ba3c5e2924811ee5d": {
      "model_module": "@jupyter-widgets/controls",
      "model_module_version": "2.0.0",
      "model_name": "DescriptionStyleModel",
      "state": {
       "description_width": ""
      }
     },
     "218609b85fa34c5799c94a2b48b9516a": {
      "model_module": "@jupyter-widgets/controls",
      "model_module_version": "2.0.0",
      "model_name": "ComboboxModel",
      "state": {
       "description": "2.6 Is this dataset’s units, data types, and parameter names consistent with similar data collections?",
       "ensure_option": false,
       "layout": "IPY_MODEL_e02fd6b08de347afa21367ac144a84a0",
       "options": [
        "Yes",
        "No",
        "N/A"
       ],
       "placeholder": "Click to select option",
       "style": "IPY_MODEL_ad5cd7b13a9f4b45a36e44dc67cb79e4"
      }
     },
     "21b286358e9640d5b1be84618279dc6a": {
      "model_module": "@jupyter-widgets/base",
      "model_module_version": "2.0.0",
      "model_name": "LayoutModel",
      "state": {}
     },
     "23f171cb299342099eeed9bb25bf7ca2": {
      "model_module": "@jupyter-widgets/controls",
      "model_module_version": "2.0.0",
      "model_name": "TextStyleModel",
      "state": {
       "description_width": "initial",
       "font_size": null,
       "text_color": null
      }
     },
     "286f1b3a1ed54d528aa9673097fa4d2f": {
      "model_module": "@jupyter-widgets/base",
      "model_module_version": "2.0.0",
      "model_name": "LayoutModel",
      "state": {
       "width": "900px"
      }
     },
     "2a15fc03d54043d69dfb6afbfce34341": {
      "model_module": "@jupyter-widgets/base",
      "model_module_version": "2.0.0",
      "model_name": "LayoutModel",
      "state": {
       "width": "900px"
      }
     },
     "2cca000d1f3b4b54a436ac6905fde596": {
      "model_module": "@jupyter-widgets/base",
      "model_module_version": "2.0.0",
      "model_name": "LayoutModel",
      "state": {
       "width": "100px"
      }
     },
     "2d78e529d5754b05ac4d2647b911e730": {
      "model_module": "@jupyter-widgets/controls",
      "model_module_version": "2.0.0",
      "model_name": "LabelStyleModel",
      "state": {
       "description_width": "",
       "font_family": null,
       "font_size": null,
       "font_style": null,
       "font_variant": null,
       "font_weight": null,
       "text_color": null,
       "text_decoration": null
      }
     },
     "2decb69e78a3470d88d062ebe42581a3": {
      "model_module": "@jupyter-widgets/base",
      "model_module_version": "2.0.0",
      "model_name": "LayoutModel",
      "state": {
       "display": "none",
       "width": "900px"
      }
     },
     "2e88bd2994594c2583f68fdcce858ba5": {
      "model_module": "@jupyter-widgets/controls",
      "model_module_version": "2.0.0",
      "model_name": "TextStyleModel",
      "state": {
       "description_width": "",
       "font_size": null,
       "text_color": null
      }
     },
     "2f17e1b6e1cc480a8a5b9f37016e6c7b": {
      "model_module": "@jupyter-widgets/controls",
      "model_module_version": "2.0.0",
      "model_name": "TextStyleModel",
      "state": {
       "description_width": "",
       "font_size": null,
       "text_color": null
      }
     },
     "2f5e1423a769442eb5bdef3189862750": {
      "model_module": "@jupyter-widgets/base",
      "model_module_version": "2.0.0",
      "model_name": "LayoutModel",
      "state": {
       "width": "900px"
      }
     },
     "3158cdb4335843839c8987d430ce2722": {
      "model_module": "@jupyter-widgets/base",
      "model_module_version": "2.0.0",
      "model_name": "LayoutModel",
      "state": {
       "flex": "1 1 auto",
       "width": "auto"
      }
     },
     "31a170c64caf4c9684b7f962d9fed17c": {
      "model_module": "@jupyter-widgets/controls",
      "model_module_version": "2.0.0",
      "model_name": "ComboboxModel",
      "state": {
       "description": "Will there be different stages of the update?",
       "ensure_option": false,
       "layout": "IPY_MODEL_105ad4e250914c429acd3eb549ede693",
       "options": [
        "Preliminary data first, then updated later",
        "Full record",
        "N/A"
       ],
       "placeholder": "Click to select option",
       "style": "IPY_MODEL_e1ba645212824878a5299baef9926257"
      }
     },
     "34a17a777d504ba3978c6514723afa46": {
      "model_module": "@jupyter-widgets/controls",
      "model_module_version": "2.0.0",
      "model_name": "ComboboxModel",
      "state": {
       "description": "2.5 Is this dataset self-consistent in that its units, data types, and parameter names do not change over time and space?",
       "ensure_option": false,
       "layout": "IPY_MODEL_aba0820e167a40728d6cc3592d3f7acd",
       "options": [
        "Yes",
        "No",
        "N/A"
       ],
       "placeholder": "Click to select option",
       "style": "IPY_MODEL_95fbf95ea3054f0fa93f8911ce498de0"
      }
     },
     "34f35d614d5b426b94bc6eff33d7a978": {
      "model_module": "@jupyter-widgets/controls",
      "model_module_version": "2.0.0",
      "model_name": "DescriptionStyleModel",
      "state": {
       "description_width": ""
      }
     },
     "36544168ff274186a5ea7eb2c12929f4": {
      "model_module": "@jupyter-widgets/controls",
      "model_module_version": "2.0.0",
      "model_name": "ButtonModel",
      "state": {
       "button_style": "primary",
       "description": "Save General Information Answers to json file",
       "layout": "IPY_MODEL_e1eaa87f7a3b403da00d1b7932465666",
       "style": "IPY_MODEL_67b18b800b05489c8fb9219d3f26bbde",
       "tooltip": null
      }
     },
     "3680842acc9d485589ed8c9d03475b8e": {
      "model_module": "@jupyter-widgets/base",
      "model_module_version": "2.0.0",
      "model_name": "LayoutModel",
      "state": {
       "flex": "1 1 auto",
       "width": "auto"
      }
     },
     "371124a730eb47c79d200cc72d3d0f43": {
      "model_module": "@jupyter-widgets/controls",
      "model_module_version": "2.0.0",
      "model_name": "ButtonModel",
      "state": {
       "button_style": "primary",
       "description": "Save Timeliness, Completeness & Consistency Answers to json file",
       "layout": "IPY_MODEL_f125c3d26f754576bcfecf4a8653c6b6",
       "style": "IPY_MODEL_3f5b89be8f364af7bd00bac310116e3a",
       "tooltip": null
      }
     },
     "393c971b3c264785835c3635861d8e14": {
      "model_module": "@jupyter-widgets/controls",
      "model_module_version": "2.0.0",
      "model_name": "TextStyleModel",
      "state": {
       "description_width": "",
       "font_size": null,
       "text_color": null
      }
     },
     "3a80b9469ca948e9bde302bbb6e6971b": {
      "model_module": "@jupyter-widgets/base",
      "model_module_version": "2.0.0",
      "model_name": "LayoutModel",
      "state": {}
     },
     "3b579a9760254f06a02fb8f0f9f8099e": {
      "model_module": "@jupyter-widgets/base",
      "model_module_version": "2.0.0",
      "model_name": "LayoutModel",
      "state": {}
     },
     "3bda1888827c4119982bfcdeee9de994": {
      "model_module": "@jupyter-widgets/controls",
      "model_module_version": "2.0.0",
      "model_name": "TextStyleModel",
      "state": {
       "description_width": "initial",
       "font_size": null,
       "text_color": null
      }
     },
     "3ce0262013284f39921905c3b100a38e": {
      "model_module": "@jupyter-widgets/base",
      "model_module_version": "2.0.0",
      "model_name": "LayoutModel",
      "state": {
       "width": "900px"
      }
     },
     "3f301f1532174ca08fa8bb8278ce5eee": {
      "model_module": "@jupyter-widgets/base",
      "model_module_version": "2.0.0",
      "model_name": "LayoutModel",
      "state": {
       "width": "900px"
      }
     },
     "3f5a43ef10b34b1c9b770e7d842277ef": {
      "model_module": "@jupyter-widgets/controls",
      "model_module_version": "2.0.0",
      "model_name": "LabelStyleModel",
      "state": {
       "description_width": "",
       "font_family": null,
       "font_size": null,
       "font_style": null,
       "font_variant": null,
       "font_weight": null,
       "text_color": null,
       "text_decoration": null
      }
     },
     "3f5b89be8f364af7bd00bac310116e3a": {
      "model_module": "@jupyter-widgets/controls",
      "model_module_version": "2.0.0",
      "model_name": "ButtonStyleModel",
      "state": {
       "font_family": null,
       "font_size": null,
       "font_style": null,
       "font_variant": null,
       "font_weight": null,
       "text_color": null,
       "text_decoration": null
      }
     },
     "3fe3961ef24c4742a3019c519a67a49c": {
      "model_module": "@jupyter-widgets/base",
      "model_module_version": "2.0.0",
      "model_name": "LayoutModel",
      "state": {
       "width": "900px"
      }
     },
     "42945516977c47cd86163efd9897e597": {
      "model_module": "@jupyter-widgets/controls",
      "model_module_version": "2.0.0",
      "model_name": "ComboboxModel",
      "state": {
       "description": "2.9 Is there quantitative information about data resolution in space and time?",
       "ensure_option": false,
       "layout": "IPY_MODEL_fc7b7277d37b44de8f42676b545b2295",
       "options": [
        "Yes",
        "No",
        "N/A"
       ],
       "placeholder": "Click to select option",
       "style": "IPY_MODEL_49e6ca0b18224df69adc22b103a468b5"
      }
     },
     "43d54175731b49a1b7a2c9afdba0fbb9": {
      "model_module": "@jupyter-widgets/controls",
      "model_module_version": "2.0.0",
      "model_name": "TextStyleModel",
      "state": {
       "description_width": "initial",
       "font_size": null,
       "text_color": null
      }
     },
     "44711c5efb694da4abd01fc494ca429b": {
      "model_module": "@jupyter-widgets/controls",
      "model_module_version": "2.0.0",
      "model_name": "TextStyleModel",
      "state": {
       "description_width": "initial",
       "font_size": null,
       "text_color": null
      }
     },
     "44cafb493637420ea9637fbfb18d532e": {
      "model_module": "@jupyter-widgets/controls",
      "model_module_version": "2.0.0",
      "model_name": "TextStyleModel",
      "state": {
       "description_width": "initial",
       "font_size": null,
       "text_color": null
      }
     },
     "47e477fbe1624588afcd162157e5aa9c": {
      "model_module": "@jupyter-widgets/base",
      "model_module_version": "2.0.0",
      "model_name": "LayoutModel",
      "state": {
       "display": "none",
       "width": "900px"
      }
     },
     "49e6ca0b18224df69adc22b103a468b5": {
      "model_module": "@jupyter-widgets/controls",
      "model_module_version": "2.0.0",
      "model_name": "TextStyleModel",
      "state": {
       "description_width": "initial",
       "font_size": null,
       "text_color": null
      }
     },
     "4a50863a85614b47aab01dc3d94f4aa9": {
      "model_module": "@jupyter-widgets/controls",
      "model_module_version": "2.0.0",
      "model_name": "ComboboxModel",
      "state": {
       "description": "2.11 Is the provenance of the dataset tracked and documented?",
       "ensure_option": false,
       "layout": "IPY_MODEL_3fe3961ef24c4742a3019c519a67a49c",
       "options": [
        "Yes",
        "No",
        "N/A"
       ],
       "placeholder": "Click to select option",
       "style": "IPY_MODEL_44cafb493637420ea9637fbfb18d532e"
      }
     },
     "4b19f0c64d194218a5c5a3d3aea78522": {
      "model_module": "@jupyter-widgets/controls",
      "model_module_version": "2.0.0",
      "model_name": "LabelModel",
      "state": {
       "layout": "IPY_MODEL_f25e71d961b2499a96e28885c9878687",
       "style": "IPY_MODEL_ea821e9958c34de08fe6132e04ebcc24",
       "value": "Number of data files:"
      }
     },
     "4b74797d07024beabd59f6ebb93d5006": {
      "model_module": "@jupyter-widgets/controls",
      "model_module_version": "2.0.0",
      "model_name": "ComboboxModel",
      "state": {
       "description": "2.1 Will the dataset be updated?",
       "ensure_option": false,
       "layout": "IPY_MODEL_f63c622b4b644e64a2579c54eb0db1ae",
       "options": [
        "Yes",
        "No"
       ],
       "placeholder": "Click to select option",
       "style": "IPY_MODEL_a9b94f7d0839410e84c4c1d1e9719a7b"
      }
     },
     "4e093e630dd74538a75ff6ef136eff1c": {
      "model_module": "@jupyter-widgets/controls",
      "model_module_version": "2.0.0",
      "model_name": "TextStyleModel",
      "state": {
       "description_width": "initial",
       "font_size": null,
       "text_color": null
      }
     },
     "50b406373ef84cd5a1b65dcbe9a66c26": {
      "model_module": "@jupyter-widgets/controls",
      "model_module_version": "2.0.0",
      "model_name": "TextStyleModel",
      "state": {
       "description_width": "initial",
       "font_size": null,
       "text_color": null
      }
     },
     "5199902451cb405cba81bd411501eaa8": {
      "model_module": "@jupyter-widgets/controls",
      "model_module_version": "2.0.0",
      "model_name": "TextStyleModel",
      "state": {
       "description_width": "initial",
       "font_size": null,
       "text_color": null
      }
     },
     "59645978b3a348a68f8b2ad9be96ae64": {
      "model_module": "@jupyter-widgets/controls",
      "model_module_version": "2.0.0",
      "model_name": "DescriptionStyleModel",
      "state": {
       "description_width": ""
      }
     },
     "59c3bce057ea4601a173aa8afeea616d": {
      "model_module": "@jupyter-widgets/controls",
      "model_module_version": "2.0.0",
      "model_name": "ComboboxModel",
      "state": {
       "description": "Should the new version of the dataset supersede the current version?",
       "ensure_option": false,
       "layout": "IPY_MODEL_9c97f05351e64391b6d1ebdbc1e38ee8",
       "options": [
        "Yes",
        "No",
        "N/A"
       ],
       "placeholder": "Click to select option",
       "style": "IPY_MODEL_61c3002c8bf44a85a04e924a26bea498"
      }
     },
     "5acdb04be7d14b88ab04b8ca911edc20": {
      "model_module": "@jupyter-widgets/controls",
      "model_module_version": "2.0.0",
      "model_name": "DescriptionStyleModel",
      "state": {
       "description_width": ""
      }
     },
     "5c340b87f77e40e0a6cd43ee21fbd95e": {
      "model_module": "@jupyter-widgets/base",
      "model_module_version": "2.0.0",
      "model_name": "LayoutModel",
      "state": {
       "display": "none",
       "width": "900px"
      }
     },
     "5da1d6153944444584a7fe5fbcdad3e0": {
      "model_module": "@jupyter-widgets/controls",
      "model_module_version": "2.0.0",
      "model_name": "TextStyleModel",
      "state": {
       "description_width": "",
       "font_size": null,
       "text_color": null
      }
     },
     "5f0578368c294732bd1c3f2eba78a11f": {
      "model_module": "@jupyter-widgets/base",
      "model_module_version": "2.0.0",
      "model_name": "LayoutModel",
      "state": {
       "display": "none",
       "width": "900px"
      }
     },
     "6080e5f6ebb441e699d88e91d98718c9": {
      "model_module": "@jupyter-widgets/base",
      "model_module_version": "2.0.0",
      "model_name": "LayoutModel",
      "state": {
       "display": "none",
       "width": "900px"
      }
     },
     "61c3002c8bf44a85a04e924a26bea498": {
      "model_module": "@jupyter-widgets/controls",
      "model_module_version": "2.0.0",
      "model_name": "TextStyleModel",
      "state": {
       "description_width": "initial",
       "font_size": null,
       "text_color": null
      }
     },
     "625ad9ad2ac34efa9d2050e8dc5b7359": {
      "model_module": "@jupyter-widgets/controls",
      "model_module_version": "2.0.0",
      "model_name": "TextModel",
      "state": {
       "description": "Documentation link:",
       "layout": "IPY_MODEL_a55a56b896314d949031ce1b029ef934",
       "placeholder": "Please provide a link to the document",
       "style": "IPY_MODEL_44711c5efb694da4abd01fc494ca429b"
      }
     },
     "6378ab186709471d8450fed47784275d": {
      "model_module": "@jupyter-widgets/controls",
      "model_module_version": "2.0.0",
      "model_name": "TextStyleModel",
      "state": {
       "description_width": "initial",
       "font_size": null,
       "text_color": null
      }
     },
     "63d44310bcde4f3593068f6ef7ff6025": {
      "model_module": "@jupyter-widgets/controls",
      "model_module_version": "2.0.0",
      "model_name": "BoxModel",
      "state": {
       "layout": "IPY_MODEL_06684902604e4eb59691c32ffac630a9"
      }
     },
     "6415f5acd96d4ace9a75ca6f30843ff0": {
      "model_module": "@jupyter-widgets/controls",
      "model_module_version": "2.0.0",
      "model_name": "TextStyleModel",
      "state": {
       "description_width": "initial",
       "font_size": null,
       "text_color": null
      }
     },
     "64536bfbb59a477dbbf3d219d0011dff": {
      "model_module": "@jupyter-widgets/controls",
      "model_module_version": "2.0.0",
      "model_name": "LabelStyleModel",
      "state": {
       "description_width": "",
       "font_family": null,
       "font_size": null,
       "font_style": null,
       "font_variant": null,
       "font_weight": null,
       "text_color": null,
       "text_decoration": null
      }
     },
     "64ac7e654a694b0bbc9103a939c6deb5": {
      "model_module": "@jupyter-widgets/base",
      "model_module_version": "2.0.0",
      "model_name": "LayoutModel",
      "state": {}
     },
     "67b18b800b05489c8fb9219d3f26bbde": {
      "model_module": "@jupyter-widgets/controls",
      "model_module_version": "2.0.0",
      "model_name": "ButtonStyleModel",
      "state": {
       "font_family": null,
       "font_size": null,
       "font_style": null,
       "font_variant": null,
       "font_weight": null,
       "text_color": null,
       "text_decoration": null
      }
     },
     "682b74b7f77240fd9752685f6c2f2fb1": {
      "model_module": "@jupyter-widgets/controls",
      "model_module_version": "2.0.0",
      "model_name": "TextStyleModel",
      "state": {
       "description_width": "initial",
       "font_size": null,
       "text_color": null
      }
     },
     "6aedc70754f640baae43bed0d0a5e781": {
      "model_module": "@jupyter-widgets/controls",
      "model_module_version": "2.0.0",
      "model_name": "IntTextModel",
      "state": {
       "layout": "IPY_MODEL_b0d520c1683349d7bd3fbeb976974405",
       "step": 1,
       "style": "IPY_MODEL_59645978b3a348a68f8b2ad9be96ae64"
      }
     },
     "6ba6ac98481f4276ba25e994945b6dd1": {
      "model_module": "@jupyter-widgets/controls",
      "model_module_version": "2.0.0",
      "model_name": "ComboboxModel",
      "state": {
       "description": "2.2 Is there any documentation about the completeness of the dataset?",
       "ensure_option": false,
       "layout": "IPY_MODEL_3f301f1532174ca08fa8bb8278ce5eee",
       "options": [
        "Yes",
        "No"
       ],
       "placeholder": "Click to select option",
       "style": "IPY_MODEL_3bda1888827c4119982bfcdeee9de994"
      }
     },
     "6e02e51d396645669fca34e204e4be4e": {
      "model_module": "@jupyter-widgets/controls",
      "model_module_version": "2.0.0",
      "model_name": "HBoxModel",
      "state": {
       "children": [
        "IPY_MODEL_4b19f0c64d194218a5c5a3d3aea78522",
        "IPY_MODEL_bceff3fb6b0f4d3ca354fd77cd69439c"
       ],
       "layout": "IPY_MODEL_3b579a9760254f06a02fb8f0f9f8099e"
      }
     },
     "6ee3bf2c5ccd467ca0102ea244c2f436": {
      "model_module": "@jupyter-widgets/base",
      "model_module_version": "2.0.0",
      "model_name": "LayoutModel",
      "state": {}
     },
     "6f6d06a53ddc476686ae840dfaf64abc": {
      "model_module": "@jupyter-widgets/controls",
      "model_module_version": "2.0.0",
      "model_name": "ComboboxModel",
      "state": {
       "description": "If the data will be updated, how often will it be updated?",
       "ensure_option": false,
       "layout": "IPY_MODEL_5c340b87f77e40e0a6cd43ee21fbd95e",
       "options": [
        "When data updated",
        "Hourly",
        "Daily",
        "Weekly",
        "Monthly",
        "Annually",
        "Other",
        "N/A"
       ],
       "placeholder": "Click to select option",
       "style": "IPY_MODEL_e39e6b84f5a04b31a41d004bf8fed0f8"
      }
     },
     "70347e59c13b48e39ad98f5bcefe7edc": {
      "model_module": "@jupyter-widgets/base",
      "model_module_version": "2.0.0",
      "model_name": "LayoutModel",
      "state": {}
     },
     "732e2e6d7bf04487a00c1e7a5a5d9950": {
      "model_module": "@jupyter-widgets/base",
      "model_module_version": "2.0.0",
      "model_name": "LayoutModel",
      "state": {
       "width": "900px"
      }
     },
     "73df660db68f41aaa4a025e4c4c8e14e": {
      "model_module": "@jupyter-widgets/controls",
      "model_module_version": "2.0.0",
      "model_name": "TextStyleModel",
      "state": {
       "description_width": "initial",
       "font_size": null,
       "text_color": null
      }
     },
     "7413ec0a0a7b4fed8ed714366792c75f": {
      "model_module": "@jupyter-widgets/controls",
      "model_module_version": "2.0.0",
      "model_name": "LabelStyleModel",
      "state": {
       "description_width": "",
       "font_family": null,
       "font_size": null,
       "font_style": null,
       "font_variant": null,
       "font_weight": null,
       "text_color": null,
       "text_decoration": null
      }
     },
     "7a60491a907b4151820c1990513649e8": {
      "model_module": "@jupyter-widgets/base",
      "model_module_version": "2.0.0",
      "model_name": "LayoutModel",
      "state": {
       "width": "900px"
      }
     },
     "807ff0e40332492490e480b0caecce69": {
      "model_module": "@jupyter-widgets/base",
      "model_module_version": "2.0.0",
      "model_name": "LayoutModel",
      "state": {}
     },
     "80dc0883f61247e69ff5e726de65916e": {
      "model_module": "@jupyter-widgets/controls",
      "model_module_version": "2.0.0",
      "model_name": "TextStyleModel",
      "state": {
       "description_width": "initial",
       "font_size": null,
       "text_color": null
      }
     },
     "81b7a69cd8ca46379409ddcfaa8260b2": {
      "model_module": "@jupyter-widgets/base",
      "model_module_version": "2.0.0",
      "model_name": "LayoutModel",
      "state": {}
     },
     "8462a29bdce0446fa466713b1e0a7e65": {
      "model_module": "@jupyter-widgets/controls",
      "model_module_version": "2.0.0",
      "model_name": "ComboboxModel",
      "state": {
       "description": "6. Is this raw data or a derived/processed data product?",
       "ensure_option": false,
       "layout": "IPY_MODEL_f98f6c88e242479c8395a1acc23ef769",
       "options": [
        "Raw",
        "Derived",
        "Unknown"
       ],
       "placeholder": "Click to select option",
       "style": "IPY_MODEL_6378ab186709471d8450fed47784275d"
      }
     },
     "8745b1ae50dd4d869250061e9c8b7f3a": {
      "model_module": "@jupyter-widgets/output",
      "model_module_version": "1.0.0",
      "model_name": "OutputModel",
      "state": {
       "layout": "IPY_MODEL_892ee7ce1b9947e48bb5bb648a4e871c"
      }
     },
     "874d5bbca91c488680cd708e70796787": {
      "model_module": "@jupyter-widgets/base",
      "model_module_version": "2.0.0",
      "model_name": "LayoutModel",
      "state": {
       "width": "900px"
      }
     },
     "87b4fcc07abf45abb9379f8db2618efe": {
      "model_module": "@jupyter-widgets/base",
      "model_module_version": "2.0.0",
      "model_name": "LayoutModel",
      "state": {
       "display": "none",
       "width": "900px"
      }
     },
     "881eabe29a6b4699b66893b415a83db2": {
      "model_module": "@jupyter-widgets/controls",
      "model_module_version": "2.0.0",
      "model_name": "TextModel",
      "state": {
       "layout": "IPY_MODEL_f5f86827f5064a48bfa384bd8ad16e95",
       "placeholder": "Total data volume:",
       "style": "IPY_MODEL_ef32eefdb34b44339ffe99f69fa7a7ff"
      }
     },
     "892ee7ce1b9947e48bb5bb648a4e871c": {
      "model_module": "@jupyter-widgets/base",
      "model_module_version": "2.0.0",
      "model_name": "LayoutModel",
      "state": {}
     },
     "8b5c1e99ed4e46dda21b83f9d6dc7168": {
      "model_module": "@jupyter-widgets/controls",
      "model_module_version": "2.0.0",
      "model_name": "IntTextModel",
      "state": {
       "layout": "IPY_MODEL_2cca000d1f3b4b54a436ac6905fde596",
       "step": 1,
       "style": "IPY_MODEL_2098065ebb854e3ba3c5e2924811ee5d"
      }
     },
     "8ca423fced784507a4bea81d6aa648d5": {
      "model_module": "@jupyter-widgets/controls",
      "model_module_version": "2.0.0",
      "model_name": "ComboboxModel",
      "state": {
       "description": "Is there reported bias in the data?",
       "ensure_option": false,
       "layout": "IPY_MODEL_0e644798aaaf41388bbca8ba2281481d",
       "options": [
        "No known bias",
        "Found and reported",
        "No info available",
        "N/A"
       ],
       "placeholder": "Click to select option",
       "style": "IPY_MODEL_99cd7f7cc13c4fa8bbb4bf23e00d0cce"
      }
     },
     "8dc68bf1b5a54f0fa6562fc34aec887e": {
      "model_module": "@jupyter-widgets/controls",
      "model_module_version": "2.0.0",
      "model_name": "TextModel",
      "state": {
       "layout": "IPY_MODEL_1806db743f9c4148a25640be5604846f",
       "placeholder": "(optional) Link to the report/document on the bias",
       "style": "IPY_MODEL_2f17e1b6e1cc480a8a5b9f37016e6c7b"
      }
     },
     "8fe7de8ca8434358a59e6a553307b66e": {
      "model_module": "@jupyter-widgets/controls",
      "model_module_version": "2.0.0",
      "model_name": "TextModel",
      "state": {
       "description": "Quality information link:",
       "layout": "IPY_MODEL_f03109226dcd45df9f561253373129f3",
       "placeholder": "If there is published quality information, please provide the link.",
       "style": "IPY_MODEL_df625d8cd9f74e48a70acc8f015b5242"
      }
     },
     "93774eea77594bf4a1b2ca36ebf32d76": {
      "model_module": "@jupyter-widgets/controls",
      "model_module_version": "2.0.0",
      "model_name": "TextModel",
      "state": {
       "description": "If yes, what is the delay between different stages?",
       "layout": "IPY_MODEL_87b4fcc07abf45abb9379f8db2618efe",
       "style": "IPY_MODEL_73df660db68f41aaa4a025e4c4c8e14e"
      }
     },
     "95190e1cdda94d4bab4b92889bf8c073": {
      "model_module": "@jupyter-widgets/controls",
      "model_module_version": "2.0.0",
      "model_name": "ComboboxModel",
      "state": {
       "description": "2.8 Is there known bias in the dataset?",
       "ensure_option": false,
       "layout": "IPY_MODEL_2a15fc03d54043d69dfb6afbfce34341",
       "options": [
        "Yes",
        "No",
        "Unknown"
       ],
       "placeholder": "Click to select option",
       "style": "IPY_MODEL_4e093e630dd74538a75ff6ef136eff1c"
      }
     },
     "95fbf95ea3054f0fa93f8911ce498de0": {
      "model_module": "@jupyter-widgets/controls",
      "model_module_version": "2.0.0",
      "model_name": "TextStyleModel",
      "state": {
       "description_width": "initial",
       "font_size": null,
       "text_color": null
      }
     },
     "98fe30f2418548008bdbac5b66d45989": {
      "model_module": "@jupyter-widgets/controls",
      "model_module_version": "2.0.0",
      "model_name": "ComboboxModel",
      "state": {
       "description": "2.3 How complete is the dataset compared to the expected spatial coverage?",
       "ensure_option": false,
       "layout": "IPY_MODEL_286f1b3a1ed54d528aa9673097fa4d2f",
       "options": [
        "Complete",
        "Partial",
        "Unknown",
        "N/A"
       ],
       "placeholder": "Click to select option",
       "style": "IPY_MODEL_23f171cb299342099eeed9bb25bf7ca2"
      }
     },
     "99cd7f7cc13c4fa8bbb4bf23e00d0cce": {
      "model_module": "@jupyter-widgets/controls",
      "model_module_version": "2.0.0",
      "model_name": "TextStyleModel",
      "state": {
       "description_width": "initial",
       "font_size": null,
       "text_color": null
      }
     },
     "9c97f05351e64391b6d1ebdbc1e38ee8": {
      "model_module": "@jupyter-widgets/base",
      "model_module_version": "2.0.0",
      "model_name": "LayoutModel",
      "state": {
       "display": "none",
       "width": "900px"
      }
     },
     "9e625eebf41d45c793c5830599aa00df": {
      "model_module": "@jupyter-widgets/controls",
      "model_module_version": "2.0.0",
      "model_name": "ComboboxModel",
      "state": {
       "description": "7. Is this observational data, simulation/model output, or synthetic data?",
       "ensure_option": false,
       "layout": "IPY_MODEL_3ce0262013284f39921905c3b100a38e",
       "options": [
        "Observed",
        "Modeled",
        "Synthetic"
       ],
       "placeholder": "Click to select option",
       "style": "IPY_MODEL_a45fe38bd2284cd89f34791faa154867"
      }
     },
     "9f88ba023ee441f294cf57f39284bf9f": {
      "model_module": "@jupyter-widgets/controls",
      "model_module_version": "2.0.0",
      "model_name": "ButtonModel",
      "state": {
       "button_style": "primary",
       "description": "Save Bias, Integrity & Size Answers to json file",
       "layout": "IPY_MODEL_3158cdb4335843839c8987d430ce2722",
       "style": "IPY_MODEL_2059fc41b3a8410f91e49c56a448ef9e",
       "tooltip": null
      }
     },
     "a2d156cbe088481e80f65245983320e3": {
      "model_module": "@jupyter-widgets/base",
      "model_module_version": "2.0.0",
      "model_name": "LayoutModel",
      "state": {
       "width": "900px"
      }
     },
     "a45fe38bd2284cd89f34791faa154867": {
      "model_module": "@jupyter-widgets/controls",
      "model_module_version": "2.0.0",
      "model_name": "TextStyleModel",
      "state": {
       "description_width": "initial",
       "font_size": null,
       "text_color": null
      }
     },
     "a4f852401fe54001a8e5544a26042162": {
      "model_module": "@jupyter-widgets/controls",
      "model_module_version": "2.0.0",
      "model_name": "LabelModel",
      "state": {
       "layout": "IPY_MODEL_21b286358e9640d5b1be84618279dc6a",
       "style": "IPY_MODEL_e9654f8e826141e885cf974616f793cf",
       "value": "Size of images:"
      }
     },
     "a55a56b896314d949031ce1b029ef934": {
      "model_module": "@jupyter-widgets/base",
      "model_module_version": "2.0.0",
      "model_name": "LayoutModel",
      "state": {
       "display": "none",
       "width": "900px"
      }
     },
     "a845443db68a42ebbf98ce33edde2c4f": {
      "model_module": "@jupyter-widgets/controls",
      "model_module_version": "2.0.0",
      "model_name": "LabelStyleModel",
      "state": {
       "description_width": "",
       "font_family": null,
       "font_size": null,
       "font_style": null,
       "font_variant": null,
       "font_weight": null,
       "text_color": null,
       "text_decoration": null
      }
     },
     "a86b31a46b7f4844ac4f7524f3e19778": {
      "model_module": "@jupyter-widgets/base",
      "model_module_version": "2.0.0",
      "model_name": "LayoutModel",
      "state": {
       "width": "100px"
      }
     },
     "a9377cd1aa974658b80e522eec6495ec": {
      "model_module": "@jupyter-widgets/controls",
      "model_module_version": "2.0.0",
      "model_name": "TextStyleModel",
      "state": {
       "description_width": "",
       "font_size": null,
       "text_color": null
      }
     },
     "a9b94f7d0839410e84c4c1d1e9719a7b": {
      "model_module": "@jupyter-widgets/controls",
      "model_module_version": "2.0.0",
      "model_name": "TextStyleModel",
      "state": {
       "description_width": "initial",
       "font_size": null,
       "text_color": null
      }
     },
     "aba0820e167a40728d6cc3592d3f7acd": {
      "model_module": "@jupyter-widgets/base",
      "model_module_version": "2.0.0",
      "model_name": "LayoutModel",
      "state": {
       "width": "900px"
      }
     },
     "abefc06740014038852be637857a1179": {
      "model_module": "@jupyter-widgets/base",
      "model_module_version": "2.0.0",
      "model_name": "LayoutModel",
      "state": {
       "width": "900px"
      }
     },
     "ac5f880fa6994d15840e302799bfaab3": {
      "model_module": "@jupyter-widgets/base",
      "model_module_version": "2.0.0",
      "model_name": "LayoutModel",
      "state": {}
     },
     "ad5cd7b13a9f4b45a36e44dc67cb79e4": {
      "model_module": "@jupyter-widgets/controls",
      "model_module_version": "2.0.0",
      "model_name": "TextStyleModel",
      "state": {
       "description_width": "initial",
       "font_size": null,
       "text_color": null
      }
     },
     "ae2a0ba6e2d847749bb3e222369eb935": {
      "model_module": "@jupyter-widgets/controls",
      "model_module_version": "2.0.0",
      "model_name": "ButtonStyleModel",
      "state": {
       "font_family": null,
       "font_size": null,
       "font_style": null,
       "font_variant": null,
       "font_weight": null,
       "text_color": null,
       "text_decoration": null
      }
     },
     "b05619e5b0fb49d3a09b592fdeef5105": {
      "model_module": "@jupyter-widgets/controls",
      "model_module_version": "2.0.0",
      "model_name": "TextStyleModel",
      "state": {
       "description_width": "initial",
       "font_size": null,
       "text_color": null
      }
     },
     "b0d520c1683349d7bd3fbeb976974405": {
      "model_module": "@jupyter-widgets/base",
      "model_module_version": "2.0.0",
      "model_name": "LayoutModel",
      "state": {
       "width": "100px"
      }
     },
     "b3c44540a342429ba48de8da2592f934": {
      "model_module": "@jupyter-widgets/controls",
      "model_module_version": "2.0.0",
      "model_name": "TextModel",
      "state": {
       "layout": "IPY_MODEL_70347e59c13b48e39ad98f5bcefe7edc",
       "placeholder": "228 x 228",
       "style": "IPY_MODEL_14787c96e680445ead783eb89f8effd4"
      }
     },
     "b423e25946e545b1ae6ced468f8e539c": {
      "model_module": "@jupyter-widgets/controls",
      "model_module_version": "2.0.0",
      "model_name": "ComboboxModel",
      "state": {
       "description": "2.12 Are there checksums / other checks for data integrity? ",
       "ensure_option": false,
       "layout": "IPY_MODEL_d2752c4f557b4f49b34ac8a73da2f327",
       "options": [
        "Yes",
        "No",
        "N/A"
       ],
       "placeholder": "Click to select option",
       "style": "IPY_MODEL_e7acef4ea3e84b4bb2db62491a0ce33b"
      }
     },
     "b471e01febb8432b9ccce3732cc86b8b": {
      "model_module": "@jupyter-widgets/controls",
      "model_module_version": "2.0.0",
      "model_name": "LabelModel",
      "state": {
       "layout": "IPY_MODEL_ac5f880fa6994d15840e302799bfaab3",
       "style": "IPY_MODEL_3f5a43ef10b34b1c9b770e7d842277ef",
       "value": "Number of data dimensions:"
      }
     },
     "b487a8e7620849fab9fd278b38e8a247": {
      "model_module": "@jupyter-widgets/base",
      "model_module_version": "2.0.0",
      "model_name": "LayoutModel",
      "state": {
       "width": "900px"
      }
     },
     "b50345ef8a404d859d7b5702c88fe1d9": {
      "model_module": "@jupyter-widgets/controls",
      "model_module_version": "2.0.0",
      "model_name": "LabelModel",
      "state": {
       "layout": "IPY_MODEL_807ff0e40332492490e480b0caecce69",
       "style": "IPY_MODEL_64536bfbb59a477dbbf3d219d0011dff",
       "value": "2.13 What is the size of the dataset? Depending on the resource, this might be:"
      }
     },
     "bb45aa0ab0af4326b1bc822e0975b4ce": {
      "model_module": "@jupyter-widgets/controls",
      "model_module_version": "2.0.0",
      "model_name": "LabelModel",
      "state": {
       "layout": "IPY_MODEL_eef83a615c8549b9a271eda114232dd7",
       "style": "IPY_MODEL_7413ec0a0a7b4fed8ed714366792c75f",
       "value": "Number of data table rows:"
      }
     },
     "bceff3fb6b0f4d3ca354fd77cd69439c": {
      "model_module": "@jupyter-widgets/controls",
      "model_module_version": "2.0.0",
      "model_name": "IntTextModel",
      "state": {
       "layout": "IPY_MODEL_a86b31a46b7f4844ac4f7524f3e19778",
       "step": 1,
       "style": "IPY_MODEL_5acdb04be7d14b88ab04b8ca911edc20"
      }
     },
     "bef1a246db094999a05bda9bea0cd47e": {
      "model_module": "@jupyter-widgets/base",
      "model_module_version": "2.0.0",
      "model_name": "LayoutModel",
      "state": {
       "width": "900px"
      }
     },
     "c08719db821b4518a5de617645971132": {
      "model_module": "@jupyter-widgets/controls",
      "model_module_version": "2.0.0",
      "model_name": "TextStyleModel",
      "state": {
       "description_width": "initial",
       "font_size": null,
       "text_color": null
      }
     },
     "c23b79ababea4992bb9c60300119036c": {
      "model_module": "@jupyter-widgets/base",
      "model_module_version": "2.0.0",
      "model_name": "LayoutModel",
      "state": {
       "width": "900px"
      }
     },
     "c37f498bdb3b46778c85436a7c51ba0a": {
      "model_module": "@jupyter-widgets/controls",
      "model_module_version": "2.0.0",
      "model_name": "TextModel",
      "state": {
       "description": "1.4. Assessor name:",
       "layout": "IPY_MODEL_bef1a246db094999a05bda9bea0cd47e",
       "style": "IPY_MODEL_c08719db821b4518a5de617645971132"
      }
     },
     "cbe49e92ca40469caf40d39856841253": {
      "model_module": "@jupyter-widgets/controls",
      "model_module_version": "2.0.0",
      "model_name": "ComboboxModel",
      "state": {
       "description": "Have measures been taken to examine bias?",
       "ensure_option": false,
       "layout": "IPY_MODEL_116cf46083b649feaf6f051478bf7322",
       "options": [
        "Yes",
        "No",
        "Unknown",
        "N/A"
       ],
       "placeholder": "Click to select option",
       "style": "IPY_MODEL_5199902451cb405cba81bd411501eaa8"
      }
     },
     "cc914c90ded4459a9b3561d987caf0ae": {
      "model_module": "@jupyter-widgets/controls",
      "model_module_version": "2.0.0",
      "model_name": "TextModel",
      "state": {
       "description": "1.5. Assessor email address:",
       "layout": "IPY_MODEL_c23b79ababea4992bb9c60300119036c",
       "style": "IPY_MODEL_682b74b7f77240fd9752685f6c2f2fb1"
      }
     },
     "cd9a23cab1874fddb5f0408945ff1a34": {
      "model_module": "@jupyter-widgets/controls",
      "model_module_version": "2.0.0",
      "model_name": "TextModel",
      "state": {
       "description": "1.1 Dataset name:",
       "layout": "IPY_MODEL_a2d156cbe088481e80f65245983320e3",
       "style": "IPY_MODEL_f400b23f8b334b27a50ada3196651dd7"
      }
     },
     "d2752c4f557b4f49b34ac8a73da2f327": {
      "model_module": "@jupyter-widgets/base",
      "model_module_version": "2.0.0",
      "model_name": "LayoutModel",
      "state": {
       "width": "900px"
      }
     },
     "d39ab39575124423a260d94391ab2aa5": {
      "model_module": "@jupyter-widgets/controls",
      "model_module_version": "2.0.0",
      "model_name": "TextModel",
      "state": {
       "layout": "IPY_MODEL_1faa201308e14f7092af9b0ace2824ed",
       "placeholder": "(optional) Link to tools available to reduce bias",
       "style": "IPY_MODEL_a9377cd1aa974658b80e522eec6495ec"
      }
     },
     "d7dde66b94864d299b9407ce41e3c1cb": {
      "model_module": "@jupyter-widgets/controls",
      "model_module_version": "2.0.0",
      "model_name": "ComboboxModel",
      "state": {
       "description": "2.7 Are there processes to monitor for units, data types, and parameter consistency?",
       "ensure_option": false,
       "layout": "IPY_MODEL_b487a8e7620849fab9fd278b38e8a247",
       "options": [
        "Yes",
        "No",
        "N/A"
       ],
       "placeholder": "Click to select option",
       "style": "IPY_MODEL_43d54175731b49a1b7a2c9afdba0fbb9"
      }
     },
     "dbc8ce0199194da08ef98bf7dc80ab24": {
      "model_module": "@jupyter-widgets/controls",
      "model_module_version": "2.0.0",
      "model_name": "ComboboxModel",
      "state": {
       "description": "2.10 Are there published data quality procedures or reports?",
       "ensure_option": false,
       "layout": "IPY_MODEL_2f5e1423a769442eb5bdef3189862750",
       "options": [
        "Yes",
        "No",
        "N/A"
       ],
       "placeholder": "Click to select option",
       "style": "IPY_MODEL_e902345c1d5046939fb55b8f631e3e7b"
      }
     },
     "dc2b691546694c71a53dda7c4284c9be": {
      "model_module": "@jupyter-widgets/controls",
      "model_module_version": "2.0.0",
      "model_name": "TextStyleModel",
      "state": {
       "description_width": "initial",
       "font_size": null,
       "text_color": null
      }
     },
     "df625d8cd9f74e48a70acc8f015b5242": {
      "model_module": "@jupyter-widgets/controls",
      "model_module_version": "2.0.0",
      "model_name": "TextStyleModel",
      "state": {
       "description_width": "initial",
       "font_size": null,
       "text_color": null
      }
     },
     "e02fd6b08de347afa21367ac144a84a0": {
      "model_module": "@jupyter-widgets/base",
      "model_module_version": "2.0.0",
      "model_name": "LayoutModel",
      "state": {
       "width": "900px"
      }
     },
     "e1ba645212824878a5299baef9926257": {
      "model_module": "@jupyter-widgets/controls",
      "model_module_version": "2.0.0",
      "model_name": "TextStyleModel",
      "state": {
       "description_width": "initial",
       "font_size": null,
       "text_color": null
      }
     },
     "e1eaa87f7a3b403da00d1b7932465666": {
      "model_module": "@jupyter-widgets/base",
      "model_module_version": "2.0.0",
      "model_name": "LayoutModel",
      "state": {
       "flex": "1 1 auto",
       "width": "auto"
      }
     },
     "e39e6b84f5a04b31a41d004bf8fed0f8": {
      "model_module": "@jupyter-widgets/controls",
      "model_module_version": "2.0.0",
      "model_name": "TextStyleModel",
      "state": {
       "description_width": "initial",
       "font_size": null,
       "text_color": null
      }
     },
     "e66604aaee1a43cdb7fc3c7ff8264a40": {
      "model_module": "@jupyter-widgets/controls",
      "model_module_version": "2.0.0",
      "model_name": "LabelModel",
      "state": {
       "layout": "IPY_MODEL_81b7a69cd8ca46379409ddcfaa8260b2",
       "style": "IPY_MODEL_a845443db68a42ebbf98ce33edde2c4f",
       "value": "Select from the list, or type your own answer if appropriate."
      }
     },
     "e7acef4ea3e84b4bb2db62491a0ce33b": {
      "model_module": "@jupyter-widgets/controls",
      "model_module_version": "2.0.0",
      "model_name": "TextStyleModel",
      "state": {
       "description_width": "initial",
       "font_size": null,
       "text_color": null
      }
     },
     "e902345c1d5046939fb55b8f631e3e7b": {
      "model_module": "@jupyter-widgets/controls",
      "model_module_version": "2.0.0",
      "model_name": "TextStyleModel",
      "state": {
       "description_width": "initial",
       "font_size": null,
       "text_color": null
      }
     },
     "e9352e9399484a6e8c4d440124b1c407": {
      "model_module": "@jupyter-widgets/controls",
      "model_module_version": "2.0.0",
      "model_name": "ButtonModel",
      "state": {
       "button_style": "info",
       "description": "Print json results",
       "layout": "IPY_MODEL_3680842acc9d485589ed8c9d03475b8e",
       "style": "IPY_MODEL_ae2a0ba6e2d847749bb3e222369eb935",
       "tooltip": null
      }
     },
     "e9654f8e826141e885cf974616f793cf": {
      "model_module": "@jupyter-widgets/controls",
      "model_module_version": "2.0.0",
      "model_name": "LabelStyleModel",
      "state": {
       "description_width": "",
       "font_family": null,
       "font_size": null,
       "font_style": null,
       "font_variant": null,
       "font_weight": null,
       "text_color": null,
       "text_decoration": null
      }
     },
     "e971f7dc0d874556b350e07d01f180cd": {
      "model_module": "@jupyter-widgets/controls",
      "model_module_version": "2.0.0",
      "model_name": "TextareaModel",
      "state": {
       "layout": "IPY_MODEL_47e477fbe1624588afcd162157e5aa9c",
       "placeholder": "If yes, what measures were used?",
       "style": "IPY_MODEL_5da1d6153944444584a7fe5fbcdad3e0"
      }
     },
     "ea821e9958c34de08fe6132e04ebcc24": {
      "model_module": "@jupyter-widgets/controls",
      "model_module_version": "2.0.0",
      "model_name": "LabelStyleModel",
      "state": {
       "description_width": "",
       "font_family": null,
       "font_size": null,
       "font_style": null,
       "font_variant": null,
       "font_weight": null,
       "text_color": null,
       "text_decoration": null
      }
     },
     "eef83a615c8549b9a271eda114232dd7": {
      "model_module": "@jupyter-widgets/base",
      "model_module_version": "2.0.0",
      "model_name": "LayoutModel",
      "state": {}
     },
     "ef32eefdb34b44339ffe99f69fa7a7ff": {
      "model_module": "@jupyter-widgets/controls",
      "model_module_version": "2.0.0",
      "model_name": "TextStyleModel",
      "state": {
       "description_width": "",
       "font_size": null,
       "text_color": null
      }
     },
     "f03109226dcd45df9f561253373129f3": {
      "model_module": "@jupyter-widgets/base",
      "model_module_version": "2.0.0",
      "model_name": "LayoutModel",
      "state": {
       "width": "900px"
      }
     },
     "f125c3d26f754576bcfecf4a8653c6b6": {
      "model_module": "@jupyter-widgets/base",
      "model_module_version": "2.0.0",
      "model_name": "LayoutModel",
      "state": {
       "flex": "1 1 auto",
       "width": "auto"
      }
     },
     "f25e71d961b2499a96e28885c9878687": {
      "model_module": "@jupyter-widgets/base",
      "model_module_version": "2.0.0",
      "model_name": "LayoutModel",
      "state": {}
     },
     "f400b23f8b334b27a50ada3196651dd7": {
      "model_module": "@jupyter-widgets/controls",
      "model_module_version": "2.0.0",
      "model_name": "TextStyleModel",
      "state": {
       "description_width": "initial",
       "font_size": null,
       "text_color": null
      }
     },
     "f5f86827f5064a48bfa384bd8ad16e95": {
      "model_module": "@jupyter-widgets/base",
      "model_module_version": "2.0.0",
      "model_name": "LayoutModel",
      "state": {}
     },
     "f63c622b4b644e64a2579c54eb0db1ae": {
      "model_module": "@jupyter-widgets/base",
      "model_module_version": "2.0.0",
      "model_name": "LayoutModel",
      "state": {
       "width": "900px"
      }
     },
     "f8b9cf1fa50a4b43a86311f751a45522": {
      "model_module": "@jupyter-widgets/controls",
      "model_module_version": "2.0.0",
      "model_name": "TextModel",
      "state": {
       "description": "1.2. Dataset version:",
       "layout": "IPY_MODEL_abefc06740014038852be637857a1179",
       "style": "IPY_MODEL_b05619e5b0fb49d3a09b592fdeef5105"
      }
     },
     "f91413ac4bad41068e3862cd29e82e52": {
      "model_module": "@jupyter-widgets/controls",
      "model_module_version": "2.0.0",
      "model_name": "ComboboxModel",
      "state": {
       "description": "8. Is the data single-source or aggregated from several sources? ",
       "ensure_option": false,
       "layout": "IPY_MODEL_732e2e6d7bf04487a00c1e7a5a5d9950",
       "options": [
        "Single-source",
        "Aggregated"
       ],
       "placeholder": "Click to select option",
       "style": "IPY_MODEL_80dc0883f61247e69ff5e726de65916e"
      }
     },
     "f98f6c88e242479c8395a1acc23ef769": {
      "model_module": "@jupyter-widgets/base",
      "model_module_version": "2.0.0",
      "model_name": "LayoutModel",
      "state": {
       "width": "900px"
      }
     },
     "fc7b7277d37b44de8f42676b545b2295": {
      "model_module": "@jupyter-widgets/base",
      "model_module_version": "2.0.0",
      "model_name": "LayoutModel",
      "state": {
       "width": "900px"
      }
     },
     "fd8a91e9b175458189bab9099a481134": {
      "model_module": "@jupyter-widgets/controls",
      "model_module_version": "2.0.0",
      "model_name": "HBoxModel",
      "state": {
       "children": [
        "IPY_MODEL_b471e01febb8432b9ccce3732cc86b8b",
        "IPY_MODEL_0b18e97f8d6549d89edcec5a99a95eb5"
       ],
       "layout": "IPY_MODEL_06dbd549b71742099842da2a16ebb9dd"
      }
     }
    },
    "version_major": 2,
    "version_minor": 0
   }
  }
 },
 "nbformat": 4,
 "nbformat_minor": 5
}
