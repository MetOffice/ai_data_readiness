{
 "cells": [
  {
   "cell_type": "markdown",
   "id": "f8198bd3-3e2a-444f-bff5-c9647a804ca9",
   "metadata": {
    "editable": true,
    "slideshow": {
     "slide_type": ""
    },
    "tags": []
   },
   "source": [
    "# **Data Readiness For AI Tabular Checklist - Part 1 & 2**\n",
    "\n",
    " * Creator(s) John Pill\n",
    " * Affiliation: UK Met Office\n",
    " * History: 1.0\n",
    " * Last update: 27 August 2024.\n",
    "\n",
    "\n",
    "---"
   ]
  },
  {
   "cell_type": "markdown",
   "id": "6ac1eb47-ae19-48f9-8a66-268b970dc97c",
   "metadata": {},
   "source": [
    "## **Overview**\n",
    "The checklist is developed using the 2019 draft readiness matrix developed by the Office of Science and Technology Policy Subcommittee on Open Science as a basis. The checklist has been improved based on further research and user feedback. Definitions for some concepts are listed at the end of this document. This checklist is developed through a collaboration of ESIP Data Readiness Cluster members include representatives from NOAA, NASA, USGS, and other organizations. The checklist will be updated periodically to reflect community feedback.\n",
    "\n",
    "ESIP Data Readiness Cluster (2023): Checklist to Examine AI-readiness for Open Environmental Datasets v.1.0. ESIP. Online resource. https://doi.org/10.6084/m9.figshare.19983722.v1\n",
    "\n",
    "Readiness Matrix (2020): What is AI-Ready Open Data? NOAA. Online resource. https://www.star.nesdis.noaa.gov/star/documents/meetings/2020AI/presentations/202010/20201022_Christensen.pdf\n",
    "\n",
    "### Prerequisites\n",
    "Ideally for AI-ready assessment, a dataset should be defined as the minimum measurable bundle (i.e., a physical parameter/variable of observational datasets or model simulations). The assessment at this scale will enable better integration of data from different sources for research and development. However, it can be an intensive process for manual assessment without automation. Therefore, we recommend current assessments be done on the data file level. If the dataset has different versions, the checklist should be applied to each dataset type (e.g. raw, derived).\n",
    "\n",
    "### Learning Outcomes\n",
    "* Know how to check a range of dataset features. \n",
    "* Assess a wide range of dataset features, which will impact the dataset's 'readiness' for machine learning.  \n",
    "\n",
    "\n",
    "---"
   ]
  },
  {
   "cell_type": "markdown",
   "id": "f61ad742-0a6d-4b49-83f3-a4bb1828975e",
   "metadata": {},
   "source": [
    "## **Tutorial Material**\n",
    "\n",
    "* **Run this Jupyter notebook locally using Jupyter Lab**\n",
    "* **Select 'Run All Cells' from the 'Run' menu to generate the checklist**.\n",
    "* **Remember to save your notebook regularly as you work through it.**\n"
   ]
  },
  {
   "cell_type": "markdown",
   "id": "f6840884-d7bb-43fa-a3e3-8c4106c435e5",
   "metadata": {},
   "source": [
    "## **Setup Notebook**"
   ]
  },
  {
   "cell_type": "code",
   "execution_count": 6,
   "id": "d3b4daa6-4fae-441e-8b0c-a8cf05e84d5c",
   "metadata": {},
   "outputs": [],
   "source": [
    "import pandas as pd"
   ]
  },
  {
   "cell_type": "code",
   "execution_count": null,
   "id": "5b5a42bb-1da9-4460-a6a0-8d85063fd096",
   "metadata": {
    "editable": true,
    "slideshow": {
     "slide_type": ""
    },
    "tags": [
     "thebe-init"
    ]
   },
   "outputs": [],
   "source": [
    "import ipywidgets as widgets\n",
    "from IPython.display import display, clear_output\n",
    "import json\n",
    "import sys\n",
    "import os\n",
    "sys.path.append(os.path.abspath('..')) # Add the parent directory to the system path\n",
    "from aidatareadiness.utils import *\n",
    "from aidatareadiness.checklist_auto.tabular import *"
   ]
  },
  {
   "cell_type": "code",
   "execution_count": 8,
   "id": "0b769970-71ed-48a7-95fb-da873b6330c8",
   "metadata": {
    "editable": true,
    "slideshow": {
     "slide_type": ""
    },
    "tags": [
     "thebe-init"
    ]
   },
   "outputs": [],
   "source": [
    "# Load checklist from JSON file:\n",
    "checklist = load_checklist()"
   ]
  },
  {
   "cell_type": "markdown",
   "id": "087dd158-2a04-45b5-a0c0-599761f33f94",
   "metadata": {},
   "source": [
    "#### Reset stored answers to start again:"
   ]
  },
  {
   "cell_type": "code",
   "execution_count": 9,
   "id": "a467851d-ee03-46f7-a194-8e516c374b8e",
   "metadata": {
    "jupyter": {
     "source_hidden": true
    }
   },
   "outputs": [],
   "source": [
    "# Reset all checklist answers back to original blank answers for all sections.\n",
    "# Any completed information will be lost. \n",
    "\n",
    "# To reset the stored answers uncomment and run these lines of code below. Re-comment the lines afterwards to avoid them running again. \n",
    "# reset_checklist()\n",
    "# checklist = load_checklist()\n",
    "\n",
    "# You can then re-run each section to reload it on the reset data. "
   ]
  },
  {
   "cell_type": "markdown",
   "id": "d8f51965-f644-423a-b362-3eb9baa20b84",
   "metadata": {},
   "source": [
    "## **Load Data**"
   ]
  },
  {
   "cell_type": "code",
   "execution_count": 10,
   "id": "e4428455-4ea1-4fe3-b9c2-9dae86e26d93",
   "metadata": {},
   "outputs": [],
   "source": [
    "# Replace add_your_file_path_here with the path to your data file (csv, txt etc.). \n",
    "file_path = \"add_your_file_path_here.csv\"\n",
    "\n",
    "# Call the read_file helper function - uncomment the lines below after replacing your file path above. \n",
    "\n",
    "# df = read_file(file_path)\n",
    "# df"
   ]
  },
  {
   "cell_type": "markdown",
   "id": "3bf24dda-6822-45ae-a005-6d2f4138e7a8",
   "metadata": {
    "editable": true,
    "slideshow": {
     "slide_type": ""
    },
    "tags": []
   },
   "source": [
    "---\n",
    "\n",
    "## **1. Dataset General Info**\n"
   ]
  },
  {
   "cell_type": "markdown",
   "id": "6faea870-624c-4cb6-8bfa-d93a4a16aea0",
   "metadata": {
    "editable": true,
    "slideshow": {
     "slide_type": ""
    },
    "tags": []
   },
   "source": [
    "### Basic details"
   ]
  },
  {
   "cell_type": "code",
   "execution_count": 11,
   "id": "e6f9be9b-7e01-4210-8b77-8b0632be47a8",
   "metadata": {
    "editable": true,
    "jupyter": {
     "source_hidden": true
    },
    "slideshow": {
     "slide_type": ""
    },
    "tags": [
     "thebe-init"
    ]
   },
   "outputs": [
    {
     "data": {
      "application/vnd.jupyter.widget-view+json": {
       "model_id": "b88d24df95774272bdf2f4307b22ad56",
       "version_major": 2,
       "version_minor": 0
      },
      "text/plain": [
       "Text(value='', description='1.1 Dataset name:', layout=Layout(width='900px'), style=TextStyle(description_widt…"
      ]
     },
     "metadata": {},
     "output_type": "display_data"
    },
    {
     "data": {
      "application/vnd.jupyter.widget-view+json": {
       "model_id": "0c89b2d5273742d7b98c1a88832d2220",
       "version_major": 2,
       "version_minor": 0
      },
      "text/plain": [
       "Text(value='', description='1.2. Dataset version:', layout=Layout(width='900px'), style=TextStyle(description_…"
      ]
     },
     "metadata": {},
     "output_type": "display_data"
    },
    {
     "data": {
      "application/vnd.jupyter.widget-view+json": {
       "model_id": "26c89a89a7b04f57a9dac4d8f4efc930",
       "version_major": 2,
       "version_minor": 0
      },
      "text/plain": [
       "Text(value='', description='1.3. Location / url link:', layout=Layout(width='900px'), style=TextStyle(descript…"
      ]
     },
     "metadata": {},
     "output_type": "display_data"
    },
    {
     "data": {
      "application/vnd.jupyter.widget-view+json": {
       "model_id": "0e3548a1da7a4fe7a012c7c1791bcc72",
       "version_major": 2,
       "version_minor": 0
      },
      "text/plain": [
       "Text(value='', description='1.4. Assessor name:', layout=Layout(width='900px'), style=TextStyle(description_wi…"
      ]
     },
     "metadata": {},
     "output_type": "display_data"
    },
    {
     "data": {
      "application/vnd.jupyter.widget-view+json": {
       "model_id": "f48a46671aab45fb904bdc0c3f290ab9",
       "version_major": 2,
       "version_minor": 0
      },
      "text/plain": [
       "Text(value='', description='1.5. Assessor email address:', layout=Layout(width='900px'), style=TextStyle(descr…"
      ]
     },
     "metadata": {},
     "output_type": "display_data"
    }
   ],
   "source": [
    "\n",
    "dataset_name = widgets.Text(\n",
    "    description='1.1 Dataset name:',\n",
    "    value=checklist[\"GeneralInformation\"][\"DatasetName\"],\n",
    "    layout=widgets.Layout(width=widget_width),\n",
    "    style = description_style\n",
    ")\n",
    "\n",
    "dataset_version = widgets.Text(\n",
    "    value=checklist[\"GeneralInformation\"][\"DatasetVersion\"],\n",
    "    description='1.2. Dataset version:',\n",
    "    layout=widgets.Layout(width=widget_width),\n",
    "    style = description_style\n",
    ")\n",
    "\n",
    "dataset_link = widgets.Text(\n",
    "    value=checklist[\"GeneralInformation\"][\"DatasetLink\"],\n",
    "    description='1.3. Location / url link:',\n",
    "    layout=widgets.Layout(width=widget_width),\n",
    "    style = description_style\n",
    ")\n",
    "\n",
    "dataset_assessor_name = widgets.Text(\n",
    "    value=checklist[\"GeneralInformation\"][\"AssessorName\"],\n",
    "    description='1.4. Assessor name:',\n",
    "    layout=widgets.Layout(width=widget_width),\n",
    "    style = description_style\n",
    ")\n",
    "\n",
    "dataset_assessor_email = widgets.Text(\n",
    "    value=checklist[\"GeneralInformation\"][\"AssessorEmailAddress\"],\n",
    "    description='1.5. Assessor email address:',\n",
    "    layout=widgets.Layout(width=widget_width),\n",
    "    style = description_style\n",
    ")\n",
    "\n",
    "# Display all UI components.\n",
    "display(dataset_name, dataset_version, dataset_link, dataset_assessor_name, dataset_assessor_email)"
   ]
  },
  {
   "cell_type": "markdown",
   "id": "ab7b5096-fc94-4bbb-bf29-885026e712bf",
   "metadata": {
    "editable": true,
    "slideshow": {
     "slide_type": ""
    },
    "tags": []
   },
   "source": [
    "### Dataset details"
   ]
  },
  {
   "cell_type": "code",
   "execution_count": 12,
   "id": "f336d6cb-f3c8-4f62-a175-edafcd8c73f2",
   "metadata": {
    "editable": true,
    "jupyter": {
     "source_hidden": true
    },
    "slideshow": {
     "slide_type": ""
    },
    "tags": [
     "thebe-init"
    ]
   },
   "outputs": [
    {
     "data": {
      "application/vnd.jupyter.widget-view+json": {
       "model_id": "72de5cc19f1d4f8691e770acbdfe8eb3",
       "version_major": 2,
       "version_minor": 0
      },
      "text/plain": [
       "Label(value='Select from the list, or type your own answer if appropriate.')"
      ]
     },
     "metadata": {},
     "output_type": "display_data"
    },
    {
     "data": {
      "application/vnd.jupyter.widget-view+json": {
       "model_id": "18bdb3fbfb2949ef961f1d83b98318e9",
       "version_major": 2,
       "version_minor": 0
      },
      "text/plain": [
       "Combobox(value='', description='6. Is this raw data or a derived/processed data product?', layout=Layout(width…"
      ]
     },
     "metadata": {},
     "output_type": "display_data"
    },
    {
     "data": {
      "application/vnd.jupyter.widget-view+json": {
       "model_id": "af1ba6ca25c64f8490e31d120df0017c",
       "version_major": 2,
       "version_minor": 0
      },
      "text/plain": [
       "Combobox(value='', description='7. Is this observational data, simulation/model output, or synthetic data?', l…"
      ]
     },
     "metadata": {},
     "output_type": "display_data"
    },
    {
     "data": {
      "application/vnd.jupyter.widget-view+json": {
       "model_id": "5b210a49428b46b5ac29bd3135f8d9b2",
       "version_major": 2,
       "version_minor": 0
      },
      "text/plain": [
       "Combobox(value='', description='8. Is the data single-source or aggregated from several sources? ', layout=Lay…"
      ]
     },
     "metadata": {},
     "output_type": "display_data"
    }
   ],
   "source": [
    "\n",
    "label = widgets.Label(value=\"Select from the list, or type your own answer if appropriate.\")\n",
    "\n",
    "raw_derived = widgets.Combobox(\n",
    "            value = checklist[\"GeneralInformation\"][\"RawOrDerived\"],\n",
    "            options=['Raw', 'Derived', 'Unknown'],\n",
    "            description='6. Is this raw data or a derived/processed data product?',\n",
    "            placeholder=placeholder,\n",
    "            layout=widgets.Layout(width=widget_width),\n",
    "            style = description_style\n",
    "            )\n",
    "\n",
    "observe_model_synthetic = widgets.Combobox(\n",
    "            value = checklist[\"GeneralInformation\"][\"ObservedModeledSyntheticData\"],\n",
    "            options=['Observed', 'Modeled', 'Synthetic'],\n",
    "            description='7. Is this observational data, simulation/model output, or synthetic data?',\n",
    "            placeholder=placeholder,\n",
    "            layout=widgets.Layout(width=widget_width),\n",
    "            style = description_style\n",
    "            )\n",
    "\n",
    "data_sources = widgets.Combobox(\n",
    "            value = checklist[\"GeneralInformation\"][\"DataSource\"],\n",
    "            options=['Single-source', 'Aggregated'],\n",
    "            description='8. Is the data single-source or aggregated from several sources? ',\n",
    "            placeholder=placeholder,\n",
    "            layout=widgets.Layout(width=widget_width),\n",
    "            style = description_style\n",
    "            )\n",
    "\n",
    "display(label, raw_derived, observe_model_synthetic, data_sources)"
   ]
  },
  {
   "cell_type": "code",
   "execution_count": 13,
   "id": "0fe05bfb-00c8-434d-858c-c4ae98c0efc9",
   "metadata": {
    "jupyter": {
     "source_hidden": true
    }
   },
   "outputs": [
    {
     "data": {
      "application/vnd.jupyter.widget-view+json": {
       "model_id": "2f0c0af938e0417c94a809b0dfd80f4d",
       "version_major": 2,
       "version_minor": 0
      },
      "text/plain": [
       "Button(button_style='primary', description='Save General Information Answers to json file', layout=Layout(flex…"
      ]
     },
     "metadata": {},
     "output_type": "display_data"
    }
   ],
   "source": [
    "\n",
    "# Save button\n",
    "save_button = widgets.Button(description=\"Save General Information Answers to json file\",  button_style=\"primary\",  layout=widgets.Layout(flex='1 1 auto', width='auto'))\n",
    "\n",
    "def generate_updates_general():\n",
    "    updates = {\n",
    "        \"GeneralInformation\": {\n",
    "            \"DatasetName\": dataset_name.value,\n",
    "            \"DatasetVersion\": dataset_version.value,\n",
    "            \"DatasetLink\": dataset_link.value,\n",
    "            \"AssessorName\": dataset_assessor_name.value,\n",
    "            \"AssessorEmailAddress\": dataset_assessor_email.value,\n",
    "            \"RawOrDerived\" : raw_derived.value,\n",
    "            \"ObservedModeledSyntheticData\" : observe_model_synthetic.value,\n",
    "            \"DataSource\" : data_sources.value,\n",
    "        }\n",
    "    }\n",
    "    return updates\n",
    "\n",
    "save_button.on_click(lambda b: update_checklist(b, generate_updates_general()))\n",
    "\n",
    "display(save_button)"
   ]
  },
  {
   "cell_type": "markdown",
   "id": "7b756c71-6015-4d1a-a019-8be3355438af",
   "metadata": {},
   "source": [
    "---\n",
    "\n",
    "## **2. Data Quality**"
   ]
  },
  {
   "cell_type": "markdown",
   "id": "c5444121-9f6b-4257-90eb-b3e280c227d4",
   "metadata": {
    "editable": true,
    "slideshow": {
     "slide_type": ""
    },
    "tags": []
   },
   "source": [
    "### Data timeliness    "
   ]
  },
  {
   "cell_type": "code",
   "execution_count": 14,
   "id": "72515fef-8b32-45f0-9bdf-8d0ee82e9a1b",
   "metadata": {
    "editable": true,
    "jupyter": {
     "source_hidden": true
    },
    "slideshow": {
     "slide_type": ""
    },
    "tags": [
     "thebe-init"
    ]
   },
   "outputs": [
    {
     "data": {
      "application/vnd.jupyter.widget-view+json": {
       "model_id": "f6c1e2cbcd694b609ea97e6342bc36cb",
       "version_major": 2,
       "version_minor": 0
      },
      "text/plain": [
       "Combobox(value='', description='2.1 Will the dataset be updated?', layout=Layout(width='900px'), options=('Yes…"
      ]
     },
     "metadata": {},
     "output_type": "display_data"
    },
    {
     "data": {
      "application/vnd.jupyter.widget-view+json": {
       "model_id": "dc99987871ae4b5fa2ed4ea301bce354",
       "version_major": 2,
       "version_minor": 0
      },
      "text/plain": [
       "Combobox(value='', description='If the data will be updated, how often will it be updated?', layout=Layout(dis…"
      ]
     },
     "metadata": {},
     "output_type": "display_data"
    },
    {
     "data": {
      "application/vnd.jupyter.widget-view+json": {
       "model_id": "8dee35d20f4f4ba49943036afad382fa",
       "version_major": 2,
       "version_minor": 0
      },
      "text/plain": [
       "Combobox(value='', description='Will there be different stages of the update?', layout=Layout(display='none', …"
      ]
     },
     "metadata": {},
     "output_type": "display_data"
    },
    {
     "data": {
      "application/vnd.jupyter.widget-view+json": {
       "model_id": "b7b67caaacf642ffa816fb23561fd1a2",
       "version_major": 2,
       "version_minor": 0
      },
      "text/plain": [
       "Text(value='', description='If yes, what is the delay between different stages?', layout=Layout(display='none'…"
      ]
     },
     "metadata": {},
     "output_type": "display_data"
    },
    {
     "data": {
      "application/vnd.jupyter.widget-view+json": {
       "model_id": "2d07851b41fa4cb5b1450c99a2c5b2b3",
       "version_major": 2,
       "version_minor": 0
      },
      "text/plain": [
       "Combobox(value='', description='Should the new version of the dataset supersede the current version?', layout=…"
      ]
     },
     "metadata": {},
     "output_type": "display_data"
    }
   ],
   "source": [
    "\n",
    "data_update = widgets.Combobox(\n",
    "            value=checklist['DataQuality']['WillBeUpdated'],\n",
    "            options=['Yes', 'No'],\n",
    "            description='2.1 Will the dataset be updated?',\n",
    "            placeholder=placeholder,\n",
    "            layout=widgets.Layout(width=widget_width),\n",
    "            style = description_style\n",
    "            )\n",
    "\n",
    "data_update_frequency = widgets.Combobox(\n",
    "            value=checklist[\"DataQuality\"][\"WhenNewDataAdded\"],\n",
    "            options=['When data updated', 'Hourly', 'Daily', 'Weekly', 'Monthly', 'Annually', 'Other', \"N/A\"],\n",
    "            description='If the data will be updated, how often will it be updated?',\n",
    "            placeholder=placeholder,\n",
    "            layout=widgets.Layout(display='none', width=widget_width),\n",
    "            style = description_style\n",
    "            )\n",
    "\n",
    "data_update_stages = widgets.Combobox(\n",
    "            value=checklist[\"DataQuality\"][\"DifferentStages\"],\n",
    "            options=['Preliminary data first, then updated later', 'Full record', \"N/A\"],\n",
    "            description='Will there be different stages of the update?',\n",
    "            placeholder=placeholder,\n",
    "            layout=widgets.Layout(display='none', width=widget_width),\n",
    "            style = description_style\n",
    "            )\n",
    "\n",
    "data_update_delay = widgets.Text(\n",
    "            value=checklist[\"DataQuality\"][\"DelayBetweenStages\"],\n",
    "            description='If yes, what is the delay between different stages?',\n",
    "            disabled=False,\n",
    "            layout=widgets.Layout(display='none', width=widget_width),\n",
    "            style = description_style\n",
    "            )\n",
    "\n",
    "data_update_supersede = widgets.Combobox(\n",
    "            value=checklist[\"DataQuality\"][\"SupersedeCurrentVersion\"],\n",
    "            options=['Yes', 'No', \"N/A\"],\n",
    "            description='Should the new version of the dataset supersede the current version?',\n",
    "            placeholder=placeholder,\n",
    "            layout=widgets.Layout(display='none', width=widget_width),\n",
    "            style = description_style\n",
    "            )\n",
    "\n",
    "# Function to change the display setting of the following UI components. \n",
    "def on_click_handler(change): \n",
    "    if change[\"new\"] == \"Yes\":\n",
    "        data_update_frequency.layout.display = ''\n",
    "        data_update_stages.layout.display = ''\n",
    "        data_update_delay.layout.display = ''\n",
    "        data_update_supersede.layout.display = ''\n",
    "    else:\n",
    "        data_update_frequency.layout.display = 'none'\n",
    "        data_update_stages.layout.display = 'none'\n",
    "        data_update_delay.layout.display = 'none'\n",
    "        data_update_supersede.layout.display = 'none'\n",
    "        \n",
    "        # Return the values back to default state if 1st option changed back.\n",
    "        data_update_frequency.value = None\n",
    "        data_update_stages.value = None\n",
    "        data_update_delay.value = \"\"\n",
    "        data_update_supersede.value = None\n",
    "        \n",
    "\n",
    "# Show UI components based on their display settings. \n",
    "display(data_update, data_update_frequency, data_update_stages, data_update_delay, data_update_supersede)\n",
    "\n",
    "# Observe the first UI component for changes and call the on_click_handler function if value property changed. \n",
    "data_update.observe(on_click_handler, names=\"value\")"
   ]
  },
  {
   "cell_type": "markdown",
   "id": "eea71f21-807f-481c-97bb-80c43427f270",
   "metadata": {},
   "source": [
    "### Data completeness"
   ]
  },
  {
   "cell_type": "code",
   "execution_count": 15,
   "id": "3884dd0c-7cc0-4c2d-9f37-4ee8e5eb5741",
   "metadata": {
    "editable": true,
    "jupyter": {
     "source_hidden": true
    },
    "slideshow": {
     "slide_type": ""
    },
    "tags": [
     "thebe-init"
    ]
   },
   "outputs": [
    {
     "data": {
      "application/vnd.jupyter.widget-view+json": {
       "model_id": "965f9c6ba55f466a877ab294ae969210",
       "version_major": 2,
       "version_minor": 0
      },
      "text/plain": [
       "Combobox(value='', description='2.2 Is there any documentation about the completeness of the dataset?', layout…"
      ]
     },
     "metadata": {},
     "output_type": "display_data"
    },
    {
     "data": {
      "application/vnd.jupyter.widget-view+json": {
       "model_id": "e7ddb75c8bb143239edbbe5495781e30",
       "version_major": 2,
       "version_minor": 0
      },
      "text/plain": [
       "Text(value='', description='Documentation link:', layout=Layout(display='none', width='900px'), placeholder='P…"
      ]
     },
     "metadata": {},
     "output_type": "display_data"
    }
   ],
   "source": [
    "\n",
    "completeness_docs = widgets.Combobox(\n",
    "            value=checklist['DataQuality']['DocumentationAvailable'],\n",
    "            options=['Yes', 'No'],\n",
    "            description='2.2 Is there any documentation about the completeness of the dataset?',\n",
    "            placeholder=placeholder,\n",
    "            layout=widgets.Layout(width=widget_width),\n",
    "            style = description_style\n",
    "            )\n",
    "\n",
    "completeness_docs_link = widgets.Text(\n",
    "            value=checklist['DataQuality']['LinkToReport'],\n",
    "            description=\"Documentation link:\",\n",
    "            placeholder='Please provide a link to the document',\n",
    "            disabled=False,\n",
    "            layout=widgets.Layout(display='none', width=widget_width),\n",
    "            style = description_style\n",
    "            )\n",
    "\n",
    "\n",
    "# Function to change the display setting of the following UI components. \n",
    "def on_click_handler(change): \n",
    "    if change[\"new\"] == \"Yes\":\n",
    "        completeness_docs_link.layout.display = ''\n",
    "    else:\n",
    "        completeness_docs_link.layout.display = 'none'\n",
    "        \n",
    "        # Return the values back to default state if 1st option changed back.\n",
    "        completeness_docs_link.value = \"\"\n",
    "\n",
    "# Show UI components based on their display settings. \n",
    "display(completeness_docs, completeness_docs_link)\n",
    "\n",
    "# Observe the first UI component for changes and call the on_click_handler function if value property changed. \n",
    "completeness_docs.observe(on_click_handler, names=\"value\")\n"
   ]
  },
  {
   "cell_type": "code",
   "execution_count": 16,
   "id": "86c93ae3-66c1-4eb0-9cba-eb9bcd52e35b",
   "metadata": {
    "jupyter": {
     "source_hidden": true
    }
   },
   "outputs": [
    {
     "data": {
      "application/vnd.jupyter.widget-view+json": {
       "model_id": "85fc2df8aae84f8f90cc58df81753c36",
       "version_major": 2,
       "version_minor": 0
      },
      "text/plain": [
       "Combobox(value='', description='2.3 How complete is the dataset compared to the expected spatial coverage?', l…"
      ]
     },
     "metadata": {},
     "output_type": "display_data"
    }
   ],
   "source": [
    "\n",
    "expected_spatial_coverage = widgets.Combobox(\n",
    "            value=checklist['DataQuality']['SpatialCoverage'],\n",
    "            options=['Complete', 'Partial', 'Unknown', 'N/A'],\n",
    "            description='2.3 How complete is the dataset compared to the expected spatial coverage?',\n",
    "            placeholder=placeholder,\n",
    "            layout=widgets.Layout(width=widget_width),\n",
    "            style = description_style\n",
    "            )\n",
    "\n",
    "# Show UI components based on their display settings. \n",
    "display(expected_spatial_coverage)\n"
   ]
  },
  {
   "cell_type": "code",
   "execution_count": 17,
   "id": "32f18a8d-4363-4de1-b0d6-e75011b87f41",
   "metadata": {},
   "outputs": [],
   "source": [
    "# Call the check_spatial_coverage function to analyse spatial covera \n",
    "\n",
    "# Define parameters\n",
    "\n",
    "latitude = \"latitude\"    # change if columns named differently, such as lat / lon. \n",
    "longitude = \"longitude\"\n",
    "\n",
    "# Change these values to the spatial bounds you expect the data set to cover. \n",
    "expected_bounds = {\n",
    "    \"min_lat\": -90.0,  # Southernmost latitude\n",
    "    \"max_lat\": 90.0,   # Northernmost latitude\n",
    "    \"min_lon\": -180.0, # Westernmost longitude\n",
    "    \"max_lon\": 180.0   # Easternmost longitude\n",
    "}\n",
    "\n",
    "# Uncomment the next line to run the check_temporal_coverage function - change \"latitude\" and \"longitude \".\n",
    "# results = check_spatial_coverage(df, latitude, longitude, expected_bounds)"
   ]
  },
  {
   "cell_type": "code",
   "execution_count": 18,
   "id": "4a91938b-fef4-4168-9fca-f50faeeddcf9",
   "metadata": {
    "jupyter": {
     "source_hidden": true
    }
   },
   "outputs": [
    {
     "data": {
      "application/vnd.jupyter.widget-view+json": {
       "model_id": "72023eca9d2149519e7d5d7f2bf2ade6",
       "version_major": 2,
       "version_minor": 0
      },
      "text/plain": [
       "Combobox(value='', description='2.4 How complete is the dataset compared to the expected temporal coverage?', …"
      ]
     },
     "metadata": {},
     "output_type": "display_data"
    }
   ],
   "source": [
    "\n",
    "expected_temporal_coverage = widgets.Combobox(\n",
    "            value=checklist['DataQuality']['TemporalCoverage'],\n",
    "            options=['Complete', 'Partial', 'Unknown', 'N/A'],\n",
    "            description='2.4 How complete is the dataset compared to the expected temporal coverage?',\n",
    "            placeholder=placeholder,\n",
    "            layout=widgets.Layout(width=widget_width),\n",
    "            style = description_style\n",
    "            )\n",
    "\n",
    "# Show UI components based on their display settings. \n",
    "display(expected_temporal_coverage)"
   ]
  },
  {
   "cell_type": "code",
   "execution_count": 19,
   "id": "66bbf996-9dc6-4aaf-9fea-eca719bbdea2",
   "metadata": {},
   "outputs": [],
   "source": [
    "# Call the check_temporal_coverage function to analyse temporal coverage.\n",
    "\n",
    "# Define parameters  \n",
    "date_column = \"DATE\"             # change DATE to the column name which holds temporal information\n",
    "expected_start = \"1979-01-04\"    #  Adjust the expected start and end dates. \n",
    "expected_end = \"2024-01-04\"\n",
    "\n",
    "# Uncomment the next line to run the check_temporal_coverage function.\n",
    "# results = check_temporal_coverage(df, date_column, expected_start, expected_end)"
   ]
  },
  {
   "cell_type": "markdown",
   "id": "5b56e1f9-6811-446a-a67b-67d04e932be0",
   "metadata": {},
   "source": [
    "### Data consistency"
   ]
  },
  {
   "cell_type": "code",
   "execution_count": 20,
   "id": "e5fcf4e2-015f-4daa-ba16-ac75ebf502f8",
   "metadata": {
    "jupyter": {
     "source_hidden": true
    },
    "scrolled": true
   },
   "outputs": [
    {
     "data": {
      "application/vnd.jupyter.widget-view+json": {
       "model_id": "ed22f0c5dcd34448bdcde3f40422fdce",
       "version_major": 2,
       "version_minor": 0
      },
      "text/plain": [
       "Combobox(value='', description='2.5 Is this dataset self-consistent in that its units, data types, and paramet…"
      ]
     },
     "metadata": {},
     "output_type": "display_data"
    },
    {
     "data": {
      "application/vnd.jupyter.widget-view+json": {
       "model_id": "e73f2549b3764c93807da376358748d5",
       "version_major": 2,
       "version_minor": 0
      },
      "text/plain": [
       "Combobox(value='', description='2.6 Is this dataset’s units, data types, and parameter names consistent with s…"
      ]
     },
     "metadata": {},
     "output_type": "display_data"
    },
    {
     "data": {
      "application/vnd.jupyter.widget-view+json": {
       "model_id": "c90ac9bd10414f1c82639cd9d2842d3a",
       "version_major": 2,
       "version_minor": 0
      },
      "text/plain": [
       "Combobox(value='', description='2.7 Are there processes to monitor for units, data types, and parameter consis…"
      ]
     },
     "metadata": {},
     "output_type": "display_data"
    },
    {
     "data": {
      "application/vnd.jupyter.widget-view+json": {
       "model_id": "0702583732b1405abe36a2b4e0288645",
       "version_major": 2,
       "version_minor": 0
      },
      "text/plain": [
       "Text(value='', description='Review measures:', layout=Layout(display='none', width='900px'), placeholder='If y…"
      ]
     },
     "metadata": {},
     "output_type": "display_data"
    }
   ],
   "source": [
    "\n",
    "self_consistent_units = widgets.Combobox(\n",
    "            value=checklist['DataQuality']['SelfConsistent'],\n",
    "            options=['Yes', 'No', 'N/A'],\n",
    "            description='2.5 Is this dataset self-consistent in that its units, data types, and parameter names do not change over time and space?',\n",
    "            placeholder=\"Click to select option\",\n",
    "            layout=widgets.Layout(width=widget_width),\n",
    "            style = description_style\n",
    "            )\n",
    "\n",
    "consistent_units = widgets.Combobox(\n",
    "            value=checklist['DataQuality']['ConsistentWithSimilarData'],\n",
    "            options=['Yes', 'No', 'N/A'],\n",
    "            description='2.6 Is this dataset’s units, data types, and parameter names consistent with similar data collections?',\n",
    "            placeholder=\"Click to select option\",\n",
    "            layout=widgets.Layout(width=widget_width),\n",
    "            style = description_style\n",
    "            )\n",
    "\n",
    "consistent_unit_monitoring = widgets.Combobox(\n",
    "            value=checklist['DataQuality']['MonitoringProcessesExist'],\n",
    "            options=['Yes', 'No', 'N/A'],\n",
    "            description='2.7 Are there processes to monitor for units, data types, and parameter consistency?',\n",
    "            placeholder=\"Click to select option\",\n",
    "            layout=widgets.Layout(width=widget_width),\n",
    "            style = description_style\n",
    "            )\n",
    "\n",
    "consistent_unit_review = widgets.Text(\n",
    "            value=checklist['DataQuality']['MonitoringProcessesDetails'],\n",
    "            description = 'Review measures:',\n",
    "            placeholder='If yes, what measures are taken? Manual review / Automated review etc.',\n",
    "            disabled=False,\n",
    "            layout=widgets.Layout(display='none', width=widget_width),\n",
    "            style = description_style\n",
    "            )\n",
    "\n",
    "# Function to change the display setting of the following UI components. \n",
    "def on_click_handler(change): \n",
    "    if change[\"new\"] == \"Yes\":\n",
    "        consistent_unit_review.layout.display = ''\n",
    "    else:\n",
    "        consistent_unit_review.layout.display = 'none'\n",
    "        \n",
    "        # Return the values back to default state if 1st option changed back.\n",
    "        consistent_unit_review.value = \"\"\n",
    "\n",
    "# Show UI components based on their display settings. \n",
    "display(self_consistent_units, consistent_units, consistent_unit_monitoring, consistent_unit_review)\n",
    "\n",
    "# Observe the first UI component for changes and call the on_click_handler function if value property changed. \n",
    "consistent_unit_monitoring.observe(on_click_handler, names=\"value\")\n"
   ]
  },
  {
   "cell_type": "code",
   "execution_count": 21,
   "id": "ac976417-0808-4fa7-815d-8461063054c5",
   "metadata": {},
   "outputs": [],
   "source": [
    "# The DataFrame 'dtypes' method will help you to check the column names and datatypes. \n",
    "\n",
    "# Uncomment the line below to run.\n",
    "# print(df.dtypes)"
   ]
  },
  {
   "cell_type": "code",
   "execution_count": 22,
   "id": "5fd9574a-becf-4556-a3bd-51aef40a5459",
   "metadata": {
    "jupyter": {
     "source_hidden": true
    }
   },
   "outputs": [
    {
     "data": {
      "application/vnd.jupyter.widget-view+json": {
       "model_id": "752299b88da34875a82df7085596c480",
       "version_major": 2,
       "version_minor": 0
      },
      "text/plain": [
       "Button(button_style='primary', description='Save Timeliness, Completeness & Consistency Answers to json file',…"
      ]
     },
     "metadata": {},
     "output_type": "display_data"
    }
   ],
   "source": [
    "\n",
    "# Save button\n",
    "save_button = widgets.Button(description=\"Save Timeliness, Completeness & Consistency Answers to json file\",  button_style=\"primary\",  layout=widgets.Layout(flex='1 1 auto', width='auto'))\n",
    "\n",
    "def generate_updates_data_quality1():\n",
    "\n",
    "    updates = {\n",
    "        \"DataQuality\": {\n",
    "            \"WillBeUpdated\": data_update.value,\n",
    "            \"WhenNewDataAdded\": data_update_frequency.value,\n",
    "            \"DifferentStages\": data_update_stages.value,\n",
    "            \"DelayBetweenStages\": data_update_delay.value,\n",
    "            \"SupersedeCurrentVersion\": data_update_supersede.value,\n",
    "            \"DocumentationAvailable\" : completeness_docs.value,\n",
    "            \"LinkToReport\" : completeness_docs_link.value,\n",
    "            \"SpatialCoverage\" : expected_spatial_coverage.value,\n",
    "            \"TemporalCoverage\" : expected_temporal_coverage.value,\n",
    "            \"SelfConsistent\" : self_consistent_units.value,\n",
    "            \"ConsistentWithSimilarData\" : consistent_units.value,\n",
    "            \"MonitoringProcessesExist\" : consistent_unit_monitoring.value,\n",
    "            \"MonitoringProcessesDetails\" : consistent_unit_review.value            \n",
    "        }\n",
    "    }\n",
    "    return updates\n",
    "\n",
    "save_button.on_click(lambda b: update_checklist(b, generate_updates_data_quality1()))\n",
    "\n",
    "display(save_button)"
   ]
  },
  {
   "cell_type": "markdown",
   "id": "55405b83-c482-41d0-b1a4-df37191f1a9b",
   "metadata": {},
   "source": [
    "### Data bias"
   ]
  },
  {
   "cell_type": "code",
   "execution_count": 23,
   "id": "a792cb9e-46ab-46d6-b6d6-b2347322c904",
   "metadata": {
    "editable": true,
    "jupyter": {
     "source_hidden": true
    },
    "slideshow": {
     "slide_type": ""
    },
    "tags": []
   },
   "outputs": [
    {
     "data": {
      "application/vnd.jupyter.widget-view+json": {
       "model_id": "3f14bf0bf1744793ad1d2e673d61171e",
       "version_major": 2,
       "version_minor": 0
      },
      "text/plain": [
       "Combobox(value='', description='2.8 Is there known bias in the dataset?', layout=Layout(width='900px'), option…"
      ]
     },
     "metadata": {},
     "output_type": "display_data"
    },
    {
     "data": {
      "application/vnd.jupyter.widget-view+json": {
       "model_id": "5f82a956bdda4628a75042ce9c8db243",
       "version_major": 2,
       "version_minor": 0
      },
      "text/plain": [
       "Combobox(value='', description='Have measures been taken to examine bias?', layout=Layout(display='none', widt…"
      ]
     },
     "metadata": {},
     "output_type": "display_data"
    },
    {
     "data": {
      "application/vnd.jupyter.widget-view+json": {
       "model_id": "d89ac4caa5444079a4ef24a2471d96fd",
       "version_major": 2,
       "version_minor": 0
      },
      "text/plain": [
       "Textarea(value='', layout=Layout(display='none', width='900px'), placeholder='If yes, what measures were used?…"
      ]
     },
     "metadata": {},
     "output_type": "display_data"
    },
    {
     "data": {
      "application/vnd.jupyter.widget-view+json": {
       "model_id": "9ee94d816ffa4cd5a31ef2f762df89d9",
       "version_major": 2,
       "version_minor": 0
      },
      "text/plain": [
       "Textarea(value='', layout=Layout(display='none', width='900px'), placeholder='Is the bias metrological traceab…"
      ]
     },
     "metadata": {},
     "output_type": "display_data"
    },
    {
     "data": {
      "application/vnd.jupyter.widget-view+json": {
       "model_id": "ba24402c67ae435aa207c8fa9f878352",
       "version_major": 2,
       "version_minor": 0
      },
      "text/plain": [
       "Combobox(value='', description='Is there reported bias in the data?', layout=Layout(display='none', width='900…"
      ]
     },
     "metadata": {},
     "output_type": "display_data"
    },
    {
     "data": {
      "application/vnd.jupyter.widget-view+json": {
       "model_id": "85f3ef4897c64f13bff1e2fff655b98a",
       "version_major": 2,
       "version_minor": 0
      },
      "text/plain": [
       "Text(value='', layout=Layout(display='none', width='900px'), placeholder='(optional) Link to the report/docume…"
      ]
     },
     "metadata": {},
     "output_type": "display_data"
    },
    {
     "data": {
      "application/vnd.jupyter.widget-view+json": {
       "model_id": "d2d36e1a9f4a47389d99bdf2f9edf351",
       "version_major": 2,
       "version_minor": 0
      },
      "text/plain": [
       "Text(value='', layout=Layout(display='none', width='900px'), placeholder='(optional) Link to a bias-corrected …"
      ]
     },
     "metadata": {},
     "output_type": "display_data"
    },
    {
     "data": {
      "application/vnd.jupyter.widget-view+json": {
       "model_id": "58e3c3657c694489b6c1a09355f8aa85",
       "version_major": 2,
       "version_minor": 0
      },
      "text/plain": [
       "Text(value='', layout=Layout(display='none', width='900px'), placeholder='(optional) Link to tools available t…"
      ]
     },
     "metadata": {},
     "output_type": "display_data"
    }
   ],
   "source": [
    "\n",
    "dataset_bias = widgets.Combobox(\n",
    "            value=checklist['DataQuality']['KnownBias'],\n",
    "            options=['Yes', 'No', 'Unknown'],\n",
    "            description='2.8 Is there known bias in the dataset?',\n",
    "            placeholder=placeholder,\n",
    "            layout=widgets.Layout(width=widget_width),\n",
    "            style = description_style\n",
    "            )\n",
    "\n",
    "dataset_bias_measures = widgets.Combobox(\n",
    "            value=checklist['DataQuality']['BiasExamined'],\n",
    "            options=['Yes', 'No', 'Unknown', 'N/A'],\n",
    "            description='Have measures been taken to examine bias?',\n",
    "            placeholder=placeholder,\n",
    "            layout=widgets.Layout(display=\"none\", width=widget_width),\n",
    "            style = description_style\n",
    "            )\n",
    "\n",
    "dataset_bias_measures_detail = widgets.Textarea(\n",
    "            value=checklist['DataQuality']['BiasMeasures'],\n",
    "            placeholder='If yes, what measures were used?',\n",
    "            layout=widgets.Layout(display=\"none\", width=widget_width),\n",
    "            )\n",
    "\n",
    "dataset_bias_metrological_traceable = widgets.Textarea(\n",
    "            value=checklist['DataQuality']['MetrologicalTraceability'],\n",
    "            placeholder='Is the bias metrological traceable?',\n",
    "            layout=widgets.Layout(display=\"none\", width=widget_width),\n",
    "            )\n",
    "\n",
    "dataset_bias_report = widgets.Combobox(\n",
    "            value=checklist['DataQuality']['BiasReport'],\n",
    "            options=['No known bias', 'Found and reported', 'No info available', 'N/A'],\n",
    "            description='Is there reported bias in the data?',\n",
    "            placeholder=placeholder,\n",
    "            layout=widgets.Layout(display=\"none\", width=widget_width),\n",
    "            style = description_style\n",
    "            )\n",
    "\n",
    "dataset_bias_report_link = widgets.Text(\n",
    "            value=checklist['DataQuality']['BiasReportLink'],\n",
    "            placeholder='(optional) Link to the report/document on the bias',\n",
    "            layout=widgets.Layout(display=\"none\", width=widget_width)\n",
    "            )\n",
    "\n",
    "dataset_bias_corrected_link = widgets.Text(\n",
    "            value=checklist['DataQuality']['BiasCorrectedDatasetLink'],\n",
    "            placeholder='(optional) Link to a bias-corrected or bias-reduced version of the dataset',\n",
    "            layout=widgets.Layout(display=\"none\", width=widget_width)\n",
    "            )\n",
    "\n",
    "dataset_bias_tools_link = widgets.Text(\n",
    "            value=checklist['DataQuality']['BiasReductionToolsLink'],\n",
    "            placeholder='(optional) Link to tools available to reduce bias',\n",
    "            layout=widgets.Layout(display=\"none\", width=widget_width)\n",
    "            )\n",
    "\n",
    "# Function to change the display setting of the following UI components. \n",
    "def on_click_handler(change):    \n",
    "\n",
    "    # Show / hide main trunk of questions. \n",
    "    if dataset_bias.value == \"Yes\":\n",
    "        dataset_bias_measures.layout.display = ''\n",
    "        dataset_bias_report.layout.display = ''\n",
    "        dataset_bias_metrological_traceable.layout.display = ''\n",
    "        dataset_bias_report_link.layout.display = ''\n",
    "        dataset_bias_corrected_link.layout.display = ''\n",
    "        dataset_bias_tools_link.layout.display = ''\n",
    "\n",
    "    else:   \n",
    "        dataset_bias_measures.layout.display = 'none'\n",
    "        dataset_bias_report.layout.display = 'none'\n",
    "        dataset_bias_report_link.layout.display = 'none'\n",
    "        dataset_bias_corrected_link.layout.display = 'none'\n",
    "        dataset_bias_tools_link.layout.display = 'none'\n",
    "        dataset_bias_measures.value = None\n",
    "        dataset_bias_report.value = None\n",
    "        dataset_bias_report_link.value = ''\n",
    "        dataset_bias_corrected_link.value = ''\n",
    "        dataset_bias_tools_link.value = ''\n",
    "\n",
    "    # Show / hide 2nd trunk of questions.\n",
    "    if dataset_bias_measures.value == \"Yes\":\n",
    "        dataset_bias_measures_detail.layout.display = ''\n",
    "        dataset_bias_metrological_traceable.layout.display = ''\n",
    "    else:\n",
    "        dataset_bias_measures_detail.layout.display = 'none'\n",
    "        dataset_bias_metrological_traceable.layout.display = 'none'\n",
    "        dataset_bias_measures_detail.value = ''\n",
    "        dataset_bias_metrological_traceable.value = ''\n",
    "        \n",
    "            \n",
    "# Display the UI components\n",
    "display(dataset_bias, dataset_bias_measures, dataset_bias_measures_detail, dataset_bias_metrological_traceable, dataset_bias_report, dataset_bias_report_link, dataset_bias_corrected_link, dataset_bias_tools_link)\n",
    "\n",
    "# Observe UI components for changes and call the on_click_handler function if value property changed. \n",
    "dataset_bias.observe(on_click_handler, names=\"value\")\n",
    "dataset_bias_measures.observe(on_click_handler, names=\"value\")\n",
    "\n"
   ]
  },
  {
   "cell_type": "markdown",
   "id": "1a20b72c-5a54-4ebf-a2c5-a420287bc975",
   "metadata": {},
   "source": [
    "### Data integrity"
   ]
  },
  {
   "cell_type": "code",
   "execution_count": 24,
   "id": "aacda1c4-d578-421e-9804-efcc75e53599",
   "metadata": {
    "jupyter": {
     "source_hidden": true
    }
   },
   "outputs": [
    {
     "data": {
      "application/vnd.jupyter.widget-view+json": {
       "model_id": "5f129ccd5d2e4725b03e46b27cc48bff",
       "version_major": 2,
       "version_minor": 0
      },
      "text/plain": [
       "Combobox(value='', description='2.9 Is there quantitative information about data resolution in space and time?…"
      ]
     },
     "metadata": {},
     "output_type": "display_data"
    },
    {
     "data": {
      "application/vnd.jupyter.widget-view+json": {
       "model_id": "5c61c96726f9463c8ee5c13b85f95c16",
       "version_major": 2,
       "version_minor": 0
      },
      "text/plain": [
       "Combobox(value='', description='2.10 Are there published data quality procedures or reports?', layout=Layout(w…"
      ]
     },
     "metadata": {},
     "output_type": "display_data"
    },
    {
     "data": {
      "application/vnd.jupyter.widget-view+json": {
       "model_id": "caa073bd7ddb4f3c84e8d78798ad94a7",
       "version_major": 2,
       "version_minor": 0
      },
      "text/plain": [
       "Text(value='', description='Quality information link:', layout=Layout(width='900px'), placeholder='If there is…"
      ]
     },
     "metadata": {},
     "output_type": "display_data"
    },
    {
     "data": {
      "application/vnd.jupyter.widget-view+json": {
       "model_id": "c035bff6b06e43c58acaab21ec5bc2e0",
       "version_major": 2,
       "version_minor": 0
      },
      "text/plain": [
       "Combobox(value='', description='2.11 Is the provenance of the dataset tracked and documented?', layout=Layout(…"
      ]
     },
     "metadata": {},
     "output_type": "display_data"
    },
    {
     "data": {
      "application/vnd.jupyter.widget-view+json": {
       "model_id": "6ee36e352467431b8daca304f0b864fe",
       "version_major": 2,
       "version_minor": 0
      },
      "text/plain": [
       "Combobox(value='', description='2.12 Are there checksums / other checks for data integrity? ', layout=Layout(w…"
      ]
     },
     "metadata": {},
     "output_type": "display_data"
    }
   ],
   "source": [
    "\n",
    "data_resolution_info = widgets.Combobox(\n",
    "            value=checklist['DataQuality']['QuantitativeResolutionInfo'],\n",
    "            options=['Yes', 'No', 'N/A'],\n",
    "            description='2.9 Is there quantitative information about data resolution in space and time?',\n",
    "            placeholder=\"Click to select option\",\n",
    "            layout=widgets.Layout(width=widget_width),\n",
    "            style = description_style\n",
    "            )\n",
    "\n",
    "data_quality_report = widgets.Combobox(\n",
    "            value=checklist['DataQuality']['PublishedQualityProcedures'],\n",
    "            options=['Yes', 'No', 'N/A'],\n",
    "            description='2.10 Are there published data quality procedures or reports?',\n",
    "            placeholder=\"Click to select option\",\n",
    "            layout=widgets.Layout(width=widget_width),\n",
    "            style = description_style\n",
    "            )\n",
    "\n",
    "data_quality_report_link = widgets.Text(\n",
    "            value=checklist['DataQuality']['QualityInformationLink'],\n",
    "            description=\"Quality information link:\",\n",
    "            placeholder='If there is published quality information, please provide the link.',\n",
    "            layout=widgets.Layout(width=widget_width),\n",
    "            style=description_style\n",
    "            )\n",
    "\n",
    "dataset_provenance = widgets.Combobox(\n",
    "            value=checklist['DataQuality']['ProvenanceTracked'],\n",
    "            options=['Yes', 'No', 'N/A'],\n",
    "            description='2.11 Is the provenance of the dataset tracked and documented?',\n",
    "            placeholder=\"Click to select option\",\n",
    "            layout=widgets.Layout(width=widget_width),\n",
    "            style = description_style\n",
    "            )\n",
    "\n",
    "data_integrity = widgets.Combobox(\n",
    "            value=checklist['DataQuality']['DataIntegrityChecks'],\n",
    "            options=['Yes', 'No', 'N/A'],\n",
    "            description='2.12 Are there checksums / other checks for data integrity? ',\n",
    "            placeholder=\"Click to select option\",\n",
    "            layout=widgets.Layout(width=widget_width),\n",
    "            style = description_style\n",
    "            )\n",
    "\n",
    "display(data_resolution_info, data_quality_report, data_quality_report_link, dataset_provenance, data_integrity)"
   ]
  },
  {
   "cell_type": "markdown",
   "id": "814a9aa5-dcf0-4a2c-92ed-19de1aec05ea",
   "metadata": {},
   "source": [
    "### Dataset size"
   ]
  },
  {
   "cell_type": "code",
   "execution_count": 25,
   "id": "962fb6eb-a36f-4239-a613-daac8fefc77c",
   "metadata": {
    "jupyter": {
     "source_hidden": true
    }
   },
   "outputs": [
    {
     "data": {
      "application/vnd.jupyter.widget-view+json": {
       "model_id": "6dc96200a54b4302a5dde8d6c9324718",
       "version_major": 2,
       "version_minor": 0
      },
      "text/plain": [
       "Label(value='2.13 What is the size of the dataset? Depending on the resource, this might be:')"
      ]
     },
     "metadata": {},
     "output_type": "display_data"
    },
    {
     "data": {
      "application/vnd.jupyter.widget-view+json": {
       "model_id": "bc44bdeeb0e84452be96893429cb7834",
       "version_major": 2,
       "version_minor": 0
      },
      "text/plain": [
       "Text(value='', placeholder='Total data volume:')"
      ]
     },
     "metadata": {},
     "output_type": "display_data"
    },
    {
     "data": {
      "application/vnd.jupyter.widget-view+json": {
       "model_id": "388655efb38449a09c37c00a7a2570f3",
       "version_major": 2,
       "version_minor": 0
      },
      "text/plain": [
       "HBox(children=(Label(value='Number of data files:'), IntText(value=0, layout=Layout(width='100px'))))"
      ]
     },
     "metadata": {},
     "output_type": "display_data"
    },
    {
     "data": {
      "application/vnd.jupyter.widget-view+json": {
       "model_id": "9c4ff41372e4461186dc6acb6bcb1165",
       "version_major": 2,
       "version_minor": 0
      },
      "text/plain": [
       "HBox(children=(Label(value='Number of data table rows:'), IntText(value=0, layout=Layout(width='100px'))))"
      ]
     },
     "metadata": {},
     "output_type": "display_data"
    },
    {
     "data": {
      "application/vnd.jupyter.widget-view+json": {
       "model_id": "cd089a0a7ddc4c21b7c17543a14122c3",
       "version_major": 2,
       "version_minor": 0
      },
      "text/plain": [
       "HBox(children=(Label(value='Number of data dimensions:'), IntText(value=0, layout=Layout(width='100px'))))"
      ]
     },
     "metadata": {},
     "output_type": "display_data"
    },
    {
     "data": {
      "application/vnd.jupyter.widget-view+json": {
       "model_id": "b38370481c6444f3993e948a609586c1",
       "version_major": 2,
       "version_minor": 0
      },
      "text/plain": [
       "HBox(children=(Label(value='Number of images:'), IntText(value=0, layout=Layout(width='100px')), Box(layout=La…"
      ]
     },
     "metadata": {},
     "output_type": "display_data"
    }
   ],
   "source": [
    "\n",
    "data_size_question = widgets.Label(\n",
    "    value = '2.13 What is the size of the dataset? Depending on the resource, this might be:'\n",
    ")\n",
    "\n",
    "spacer = widgets.Box(layout=widgets.Layout(width='20px'))\n",
    "\n",
    "total_data_volume = widgets.Text(\n",
    "    value = checklist['DataQuality']['DatasetVolume'],\n",
    "    placeholder='Total data volume:'\n",
    ")\n",
    "\n",
    "num_data_dimensions_label = widgets.Label(\n",
    "    value = \"Number of data dimensions:\"\n",
    ")\n",
    "\n",
    "num_data_dimensions = widgets.IntText(\n",
    "    value = checklist['DataQuality']['DatasetDimensions'],\n",
    "    layout = widgets.Layout(width=\"100px\")\n",
    ")\n",
    "\n",
    "dimensions = widgets.HBox([num_data_dimensions_label, num_data_dimensions])\n",
    "\n",
    "\n",
    "num_data_files_label = widgets.Label(\n",
    "    value = \"Number of data files:\"\n",
    ")\n",
    "\n",
    "num_data_files = widgets.IntText(\n",
    "    value = checklist['DataQuality']['DatasetNumFiles'],\n",
    "    layout = widgets.Layout(width=\"100px\")\n",
    ")\n",
    "\n",
    "data_files = widgets.HBox([num_data_files_label, num_data_files])\n",
    "\n",
    "num_data_rows_label = widgets.Label(\n",
    "    value = \"Number of data table rows:\"\n",
    ")\n",
    "\n",
    "num_data_rows = widgets.IntText(\n",
    "    value = checklist['DataQuality']['DatasetNumRows'],\n",
    "    layout = widgets.Layout(width=\"100px\")\n",
    ")\n",
    "\n",
    "data_rows = widgets.HBox([num_data_rows_label, num_data_rows])\n",
    "\n",
    "num_data_images_label = widgets.Label(\n",
    "    value = \"Number of images:\"\n",
    ")\n",
    "\n",
    "num_data_images = widgets.IntText(\n",
    "    value = checklist['DataQuality']['DatasetNumImages'],\n",
    "    layout = widgets.Layout(width=\"100px\")\n",
    ")\n",
    "\n",
    "num_data_images_size_label = widgets.Label(\n",
    "    value = \"Size of images:\"\n",
    ")\n",
    "\n",
    "num_data_images_size = widgets.Text(\n",
    "    value = checklist['DataQuality']['DatasetImageSize'],\n",
    "    placeholder='228 x 228'\n",
    ")\n",
    "\n",
    "images = widgets.HBox([num_data_images_label, num_data_images, spacer, num_data_images_size_label, num_data_images_size])\n",
    "\n",
    "\n",
    "display(data_size_question, total_data_volume, data_files, data_rows, dimensions, images)"
   ]
  },
  {
   "cell_type": "code",
   "execution_count": 26,
   "id": "1d29cead-8a8e-4339-b158-39f17a15a47f",
   "metadata": {},
   "outputs": [],
   "source": [
    "# Uncomment the line below to run the csv_size_file_info helper function to help answer the questions above. \n",
    "# file_size_results = csv_size_file_info(df, file_path)"
   ]
  },
  {
   "cell_type": "code",
   "execution_count": 27,
   "id": "2952b185-b950-49c2-b745-cb81dc6ab67f",
   "metadata": {
    "jupyter": {
     "source_hidden": true
    }
   },
   "outputs": [
    {
     "data": {
      "application/vnd.jupyter.widget-view+json": {
       "model_id": "08625ab3d7fb4dd79e20e7302b66f14c",
       "version_major": 2,
       "version_minor": 0
      },
      "text/plain": [
       "Button(button_style='primary', description='Save Bias, Integrity & Size Answers to json file', layout=Layout(f…"
      ]
     },
     "metadata": {},
     "output_type": "display_data"
    }
   ],
   "source": [
    "\n",
    "# Save button\n",
    "save_button = widgets.Button(description=\"Save Bias, Integrity & Size Answers to json file\",  button_style=\"primary\",  layout=widgets.Layout(flex='1 1 auto', width='auto'))\n",
    "\n",
    "def generate_updates_data_quality2():\n",
    "    \n",
    "    updates = {\n",
    "        \"DataQuality\": {\n",
    "            #Bias\n",
    "            \"KnownBias\": dataset_bias.value,\n",
    "            \"BiasExamined\": dataset_bias_measures.value,\n",
    "            \"BiasMeasures\": dataset_bias_measures_detail.value,\n",
    "            \"MetrologicalTraceability\": dataset_bias_metrological_traceable.value,\n",
    "            \"BiasReport\": dataset_bias_report.value,            \n",
    "            \"BiasReportLink\" : dataset_bias_report_link.value,\n",
    "            \"BiasCorrectedDatasetLink\" : dataset_bias_corrected_link.value,\n",
    "            \"BiasReductionToolsLink\" : dataset_bias_tools_link.value,\n",
    "            # Integrity\n",
    "            \"QuantitativeResolutionInfo\" : data_resolution_info.value,\n",
    "            \"PublishedQualityProcedures\" : data_quality_report.value,\n",
    "            \"QualityInformationLink\" : data_quality_report_link.value,\n",
    "            \"ProvenanceTracked\" : dataset_provenance.value,\n",
    "            \"DataIntegrityChecks\" : data_integrity.value,\n",
    "            # Size\n",
    "            \"DatasetVolume\" : total_data_volume.value,\n",
    "            \"DatasetNumFiles\" : num_data_files.value,\n",
    "            \"DatasetNumRows\" : num_data_rows.value,\n",
    "            \"DatasetDimensions\" : num_data_dimensions.value,\n",
    "            \"DatasetNumImages\" : num_data_images.value,\n",
    "            \"DatasetImageSize\" : num_data_images_size.value,\n",
    "        }\n",
    "    }\n",
    "    return updates\n",
    "\n",
    "save_button.on_click(lambda b: update_checklist(b, generate_updates_data_quality2()))\n",
    "\n",
    "display(save_button)"
   ]
  },
  {
   "cell_type": "markdown",
   "id": "3824aa9e-9d66-4a2e-a1a2-60139f7c30dd",
   "metadata": {},
   "source": [
    "## Finished"
   ]
  },
  {
   "cell_type": "markdown",
   "id": "a0150d53-a950-4ae0-ae60-ab109f817205",
   "metadata": {},
   "source": [
    "1. Make sure you saved your answers to the external json file using the buttons above. \n",
    "2. If you would like to view these saved answers use the button below. \n",
    "3. Move onto the notebook Template_Checklist_Part_3.ipynb covering Data Documentation"
   ]
  },
  {
   "cell_type": "code",
   "execution_count": 28,
   "id": "d35683fe-7d9f-40fa-81fa-99f926702fd6",
   "metadata": {
    "jupyter": {
     "source_hidden": true
    }
   },
   "outputs": [
    {
     "data": {
      "application/vnd.jupyter.widget-view+json": {
       "model_id": "5f3d67698b2f4715b99df8e61baf9fbb",
       "version_major": 2,
       "version_minor": 0
      },
      "text/plain": [
       "Button(button_style='info', description='Print json results', layout=Layout(flex='1 1 auto', width='auto'), st…"
      ]
     },
     "metadata": {},
     "output_type": "display_data"
    },
    {
     "data": {
      "application/vnd.jupyter.widget-view+json": {
       "model_id": "060a557b9f674eb393eddea3908c1106",
       "version_major": 2,
       "version_minor": 0
      },
      "text/plain": [
       "Output()"
      ]
     },
     "metadata": {},
     "output_type": "display_data"
    }
   ],
   "source": [
    "\n",
    "button_print_json = widgets.Button(description=\"Print json results\",  button_style='info', layout=widgets.Layout(flex='1 1 auto', width='auto'))\n",
    "output = widgets.Output()\n",
    "\n",
    "display(button_print_json, output)\n",
    "\n",
    "def print_json_info(b):\n",
    "    \"\"\"\n",
    "    Loads a copy of the json file to checklist variable. \n",
    "    Then prints the json file contents to Jupyter notebook cell output.\n",
    "\n",
    "    Arguments: b - represents the button calling the function. \n",
    "    \"\"\"\n",
    "    checklist = load_checklist()\n",
    "    with output:\n",
    "        clear_output()\n",
    "        for key, value in checklist.items():\n",
    "            print(f\"{key}:\")\n",
    "            if isinstance(value, dict):\n",
    "                for sub_key, sub_value in value.items():\n",
    "                    print(f\"  {sub_key}: {sub_value}\")\n",
    "            else:\n",
    "                print(f\"  {value}\")\n",
    "\n",
    "button_print_json.on_click(print_json_info)\n"
   ]
  },
  {
   "cell_type": "markdown",
   "id": "c760fc3b-f413-46e4-8a76-31684d83a2d2",
   "metadata": {},
   "source": [
    "---\n",
    "\n",
    "## **Appendix** - Definition of terms used in the checklist."
   ]
  },
  {
   "cell_type": "markdown",
   "id": "76b55144-23ad-41ed-bdb2-6b347026d278",
   "metadata": {
    "jp-MarkdownHeadingCollapsed": true
   },
   "source": [
    "### Quality\n",
    "* **Completeness**: the breadth of a dataset compared to an ideal 100% completion (spatial, temporal, demographic, etc.); important in avoiding sampling bias\n",
    "* **Consistency**: uniformity within the entire dataset or compared with similar data collections; for example, no changes in units or data types over time; the item measured against itself or its a counterpart in another dataset or database\n",
    "* **Bias**: a systematic tilt in the dataset when compared to a reference, caused for example by instrumentation, incorrect data processing, unrepresentative sampling, or human error; the exact nature of bias and how it is measured will vary depending on the type of data and the research domain.\n",
    "* **Uncertainty**: parameter, associated with the result of a measurement, that characterizes the dispersion of the values that could reasonably be attributed to the measurand.\n",
    "* **Timeliness**: the speed of data release, compared to when an event occurred or measurements were made; requirements will vary depending on the timeframe of the phenomenon (e.g., severe thunderstorms vs. climate change, or disease outbreaks vs. life expectancy trends)\n",
    "* **Provenance**: identification of the data sources, how it was processed, and who released it.\n",
    "* **Integrity**: verification that the data remains unchanged from the original; aka data fixity."
   ]
  }
 ],
 "metadata": {
  "kernelspec": {
   "display_name": "data_readiness",
   "language": "python",
   "name": "python3"
  },
  "language_info": {
   "codemirror_mode": {
    "name": "ipython",
    "version": 3
   },
   "file_extension": ".py",
   "mimetype": "text/x-python",
   "name": "python",
   "nbconvert_exporter": "python",
   "pygments_lexer": "ipython3",
   "version": "3.10.14"
  },
  "widgets": {
   "application/vnd.jupyter.widget-state+json": {
    "state": {
     "002c7f1b374143089a10b7ea91ff7193": {
      "model_module": "@jupyter-widgets/controls",
      "model_module_version": "2.0.0",
      "model_name": "TextStyleModel",
      "state": {
       "description_width": "initial",
       "font_size": null,
       "text_color": null
      }
     },
     "02635b6bd11949e3bd91f9538b0a4a55": {
      "model_module": "@jupyter-widgets/controls",
      "model_module_version": "2.0.0",
      "model_name": "ButtonModel",
      "state": {
       "button_style": "primary",
       "description": "Save General Information Answers to json file",
       "layout": "IPY_MODEL_bb24a390cec148b2a1934467a88c57c7",
       "style": "IPY_MODEL_c3026c8327a64f7fa7182b4d88d753ce",
       "tooltip": null
      }
     },
     "04318bb49ef741c8ba5aa80cf2c39fd3": {
      "model_module": "@jupyter-widgets/controls",
      "model_module_version": "2.0.0",
      "model_name": "ButtonModel",
      "state": {
       "button_style": "info",
       "description": "Print json results",
       "layout": "IPY_MODEL_c68f2334b5ad407ea2a735b485caee46",
       "style": "IPY_MODEL_71e1c381b83c459fbbe570749ff9372a",
       "tooltip": null
      }
     },
     "05627eb35bc24d0b87faa97b17fb7306": {
      "model_module": "@jupyter-widgets/controls",
      "model_module_version": "2.0.0",
      "model_name": "TextStyleModel",
      "state": {
       "description_width": "initial",
       "font_size": null,
       "text_color": null
      }
     },
     "0599553f0e644b22969b46b48dca3fa6": {
      "model_module": "@jupyter-widgets/base",
      "model_module_version": "2.0.0",
      "model_name": "LayoutModel",
      "state": {
       "flex": "1 1 auto",
       "width": "auto"
      }
     },
     "060ca15dd5314a9d8f70ee65eecbf320": {
      "model_module": "@jupyter-widgets/controls",
      "model_module_version": "2.0.0",
      "model_name": "TextModel",
      "state": {
       "description": "Quality information link:",
       "layout": "IPY_MODEL_ba059abdae7447f4ad7cc1232d21b8d6",
       "placeholder": "If there is published quality information, please provide the link.",
       "style": "IPY_MODEL_a666307a41ff40ca9bb328a20fa69dc1"
      }
     },
     "06a14444bf9b40f4905a82dbdcd92758": {
      "model_module": "@jupyter-widgets/base",
      "model_module_version": "2.0.0",
      "model_name": "LayoutModel",
      "state": {
       "display": "none",
       "width": "900px"
      }
     },
     "0916251b0f2f4a4ca182bc6d79804e3a": {
      "model_module": "@jupyter-widgets/base",
      "model_module_version": "2.0.0",
      "model_name": "LayoutModel",
      "state": {}
     },
     "0a6fd523be1b4c94a5a785c62314eef9": {
      "model_module": "@jupyter-widgets/controls",
      "model_module_version": "2.0.0",
      "model_name": "TextStyleModel",
      "state": {
       "description_width": "initial",
       "font_size": null,
       "text_color": null
      }
     },
     "0bb180e7d66b4d439c5c2fa8bddccf0b": {
      "model_module": "@jupyter-widgets/controls",
      "model_module_version": "2.0.0",
      "model_name": "TextStyleModel",
      "state": {
       "description_width": "initial",
       "font_size": null,
       "text_color": null
      }
     },
     "0de40ee6e14c4767a35042163d032781": {
      "model_module": "@jupyter-widgets/controls",
      "model_module_version": "2.0.0",
      "model_name": "HBoxModel",
      "state": {
       "children": [
        "IPY_MODEL_a3cd0ecef48046e88cff8be3ea7d1932",
        "IPY_MODEL_12541f248e694a5da4b04f99b2258789"
       ],
       "layout": "IPY_MODEL_0deed94acb1b4c3fb00f096287916cc2"
      }
     },
     "0deed94acb1b4c3fb00f096287916cc2": {
      "model_module": "@jupyter-widgets/base",
      "model_module_version": "2.0.0",
      "model_name": "LayoutModel",
      "state": {}
     },
     "1068f550069e4814a8c1c17095c7e32a": {
      "model_module": "@jupyter-widgets/controls",
      "model_module_version": "2.0.0",
      "model_name": "TextStyleModel",
      "state": {
       "description_width": "initial",
       "font_size": null,
       "text_color": null
      }
     },
     "12541f248e694a5da4b04f99b2258789": {
      "model_module": "@jupyter-widgets/controls",
      "model_module_version": "2.0.0",
      "model_name": "IntTextModel",
      "state": {
       "layout": "IPY_MODEL_84b05ac5eac5467e8881d5ea6723431b",
       "step": 1,
       "style": "IPY_MODEL_57cf7e3def8f4d5681758e072ed19552"
      }
     },
     "1807ebdb3cbb47339967527c0a967279": {
      "model_module": "@jupyter-widgets/base",
      "model_module_version": "2.0.0",
      "model_name": "LayoutModel",
      "state": {
       "width": "900px"
      }
     },
     "1ab88d907a9f40dcb6549fed9f00c7b4": {
      "model_module": "@jupyter-widgets/controls",
      "model_module_version": "2.0.0",
      "model_name": "TextStyleModel",
      "state": {
       "description_width": "initial",
       "font_size": null,
       "text_color": null
      }
     },
     "1c12e0adacb04847aa76c00b39140886": {
      "model_module": "@jupyter-widgets/controls",
      "model_module_version": "2.0.0",
      "model_name": "LabelModel",
      "state": {
       "layout": "IPY_MODEL_f298be09c07241159d18bad9be53b907",
       "style": "IPY_MODEL_ea5e3dd6d2d84f4d9bc7c472d4f65ff5",
       "value": "Number of images:"
      }
     },
     "1da3bfc671ef47a4a2f51cb47a1f5d6c": {
      "model_module": "@jupyter-widgets/controls",
      "model_module_version": "2.0.0",
      "model_name": "TextModel",
      "state": {
       "description": "1.4. Assessor name:",
       "layout": "IPY_MODEL_76cd1401967b41a0a28608ee28af3073",
       "style": "IPY_MODEL_4f1d99e1cb3b4b3bacdbf3bcd9e00b34"
      }
     },
     "1dd0a3703f0a46b388f487c640024ffe": {
      "model_module": "@jupyter-widgets/controls",
      "model_module_version": "2.0.0",
      "model_name": "ComboboxModel",
      "state": {
       "description": "2.8 Is there known bias in the dataset?",
       "ensure_option": false,
       "layout": "IPY_MODEL_b099b995be804bbb9c550f1f053599f1",
       "options": [
        "Yes",
        "No",
        "Unknown"
       ],
       "placeholder": "Click to select option",
       "style": "IPY_MODEL_ffb52a41b983454781719ad4f85d42f5"
      }
     },
     "1f8681c12baf4a6ba0a2f3e13d6f50e8": {
      "model_module": "@jupyter-widgets/controls",
      "model_module_version": "2.0.0",
      "model_name": "HBoxModel",
      "state": {
       "children": [
        "IPY_MODEL_b1993e5d3b004e9da97bdd03d7088735",
        "IPY_MODEL_cef9145e94b3468fb54f44098a87e296"
       ],
       "layout": "IPY_MODEL_5de4af408940449488b9f8ba793600e4"
      }
     },
     "214fc8fa72ec4e688e5c67c0c456fa4e": {
      "model_module": "@jupyter-widgets/controls",
      "model_module_version": "2.0.0",
      "model_name": "IntTextModel",
      "state": {
       "layout": "IPY_MODEL_516216ecd5f44244bc2a79c4ae343d37",
       "step": 1,
       "style": "IPY_MODEL_da3a229cde8b4bd2a1cd4ad305f76dc5"
      }
     },
     "26f3164ac7ea4455aa8a8452b70d952c": {
      "model_module": "@jupyter-widgets/controls",
      "model_module_version": "2.0.0",
      "model_name": "TextStyleModel",
      "state": {
       "description_width": "initial",
       "font_size": null,
       "text_color": null
      }
     },
     "27843e48ec1c400099348aa7ab38ceb8": {
      "model_module": "@jupyter-widgets/controls",
      "model_module_version": "2.0.0",
      "model_name": "ComboboxModel",
      "state": {
       "description": "8. Is the data single-source or aggregated from several sources? ",
       "ensure_option": false,
       "layout": "IPY_MODEL_7c00551347634952bf41a5dbccf783b8",
       "options": [
        "Single-source",
        "Aggregated"
       ],
       "placeholder": "Click to select option",
       "style": "IPY_MODEL_516368fbc8754b5fa092f5b72c8f6ef0"
      }
     },
     "2d8c3e49629f428b94ed2fa781c07712": {
      "model_module": "@jupyter-widgets/controls",
      "model_module_version": "2.0.0",
      "model_name": "TextStyleModel",
      "state": {
       "description_width": "",
       "font_size": null,
       "text_color": null
      }
     },
     "304d2ad29aed4849a0820cd3368a5f21": {
      "model_module": "@jupyter-widgets/base",
      "model_module_version": "2.0.0",
      "model_name": "LayoutModel",
      "state": {
       "display": "none",
       "width": "900px"
      }
     },
     "3066860f46224faab0d623d7a47f9a32": {
      "model_module": "@jupyter-widgets/controls",
      "model_module_version": "2.0.0",
      "model_name": "ComboboxModel",
      "state": {
       "description": "2.11 Is the provenance of the dataset tracked and documented?",
       "ensure_option": false,
       "layout": "IPY_MODEL_47c63af61a5844c0bcb1b2b16c22390e",
       "options": [
        "Yes",
        "No",
        "N/A"
       ],
       "placeholder": "Click to select option",
       "style": "IPY_MODEL_002c7f1b374143089a10b7ea91ff7193"
      }
     },
     "30987bcc46584440a4a505958cd07728": {
      "model_module": "@jupyter-widgets/controls",
      "model_module_version": "2.0.0",
      "model_name": "LabelModel",
      "state": {
       "layout": "IPY_MODEL_b3319fe170c54861a6e32ed316617135",
       "style": "IPY_MODEL_7f3bfecb70754a71964f93757177f1cb",
       "value": "Number of data files:"
      }
     },
     "337393955af84bf7a18de2affe57fa34": {
      "model_module": "@jupyter-widgets/controls",
      "model_module_version": "2.0.0",
      "model_name": "TextStyleModel",
      "state": {
       "description_width": "initial",
       "font_size": null,
       "text_color": null
      }
     },
     "34fcd9e2296f44e4835ed2130a4bb8d1": {
      "model_module": "@jupyter-widgets/base",
      "model_module_version": "2.0.0",
      "model_name": "LayoutModel",
      "state": {
       "width": "100px"
      }
     },
     "384e6862325541dbba9bf7cbaeb858bf": {
      "model_module": "@jupyter-widgets/base",
      "model_module_version": "2.0.0",
      "model_name": "LayoutModel",
      "state": {
       "width": "900px"
      }
     },
     "3c4e2e1104ad4adfac90e5dfd7f17e5b": {
      "model_module": "@jupyter-widgets/controls",
      "model_module_version": "2.0.0",
      "model_name": "ComboboxModel",
      "state": {
       "description": "Have measures been taken to examine bias?",
       "ensure_option": false,
       "layout": "IPY_MODEL_de3fe6bb1d714192ae637d448d292141",
       "options": [
        "Yes",
        "No",
        "Unknown",
        "N/A"
       ],
       "placeholder": "Click to select option",
       "style": "IPY_MODEL_d688a32c1b9d4ca4bd2a1e0abf67f150"
      }
     },
     "4079efe5dfd64dbda804d599f551f619": {
      "model_module": "@jupyter-widgets/controls",
      "model_module_version": "2.0.0",
      "model_name": "TextModel",
      "state": {
       "layout": "IPY_MODEL_8f327d57414247219ad2eb06c9bf2586",
       "placeholder": "(optional) Link to the report/document on the bias",
       "style": "IPY_MODEL_595118f2e7634be0a50cba782a105ba8"
      }
     },
     "41000325f645455496f6a7dff26dfb1e": {
      "model_module": "@jupyter-widgets/controls",
      "model_module_version": "2.0.0",
      "model_name": "TextModel",
      "state": {
       "description": "1.3. Location / url link:",
       "layout": "IPY_MODEL_789fbb52744e408f8aca9412a099e2b6",
       "style": "IPY_MODEL_b9d4a11618a946379fbcc7aecc1ebfff"
      }
     },
     "4130621018a748a2b333bac87a95c775": {
      "model_module": "@jupyter-widgets/controls",
      "model_module_version": "2.0.0",
      "model_name": "TextStyleModel",
      "state": {
       "description_width": "initial",
       "font_size": null,
       "text_color": null
      }
     },
     "424fd29bfaaf475ba1f29a7fb107b55b": {
      "model_module": "@jupyter-widgets/base",
      "model_module_version": "2.0.0",
      "model_name": "LayoutModel",
      "state": {}
     },
     "426edb488f2743fa9bb15c009044b5f2": {
      "model_module": "@jupyter-widgets/base",
      "model_module_version": "2.0.0",
      "model_name": "LayoutModel",
      "state": {
       "display": "none",
       "width": "900px"
      }
     },
     "45e2ad2305c948f89e2c80e3b670a34c": {
      "model_module": "@jupyter-widgets/controls",
      "model_module_version": "2.0.0",
      "model_name": "TextStyleModel",
      "state": {
       "description_width": "initial",
       "font_size": null,
       "text_color": null
      }
     },
     "466e20e8df57463ab10e2763ccd0f84b": {
      "model_module": "@jupyter-widgets/base",
      "model_module_version": "2.0.0",
      "model_name": "LayoutModel",
      "state": {
       "width": "900px"
      }
     },
     "478c6b2cc06e4f3190d1e8dff8c2b214": {
      "model_module": "@jupyter-widgets/controls",
      "model_module_version": "2.0.0",
      "model_name": "TextModel",
      "state": {
       "description": "1.5. Assessor email address:",
       "layout": "IPY_MODEL_9e1887f43c8647b9abfe3691cef7b24f",
       "style": "IPY_MODEL_4130621018a748a2b333bac87a95c775"
      }
     },
     "47c63af61a5844c0bcb1b2b16c22390e": {
      "model_module": "@jupyter-widgets/base",
      "model_module_version": "2.0.0",
      "model_name": "LayoutModel",
      "state": {
       "width": "900px"
      }
     },
     "4977feec4e2f4a5e892d32ed62a8cb9f": {
      "model_module": "@jupyter-widgets/controls",
      "model_module_version": "2.0.0",
      "model_name": "DescriptionStyleModel",
      "state": {
       "description_width": ""
      }
     },
     "4c28a6e9bb8246ae8e714a1ae788aab1": {
      "model_module": "@jupyter-widgets/base",
      "model_module_version": "2.0.0",
      "model_name": "LayoutModel",
      "state": {
       "display": "none",
       "width": "900px"
      }
     },
     "4e494374ed484ca08e06681ff5ffdc88": {
      "model_module": "@jupyter-widgets/controls",
      "model_module_version": "2.0.0",
      "model_name": "TextStyleModel",
      "state": {
       "description_width": "",
       "font_size": null,
       "text_color": null
      }
     },
     "4ecccddc7e47425eb3a2c04bcfbd2aad": {
      "model_module": "@jupyter-widgets/base",
      "model_module_version": "2.0.0",
      "model_name": "LayoutModel",
      "state": {
       "display": "none",
       "width": "900px"
      }
     },
     "4f1d99e1cb3b4b3bacdbf3bcd9e00b34": {
      "model_module": "@jupyter-widgets/controls",
      "model_module_version": "2.0.0",
      "model_name": "TextStyleModel",
      "state": {
       "description_width": "initial",
       "font_size": null,
       "text_color": null
      }
     },
     "516216ecd5f44244bc2a79c4ae343d37": {
      "model_module": "@jupyter-widgets/base",
      "model_module_version": "2.0.0",
      "model_name": "LayoutModel",
      "state": {
       "width": "100px"
      }
     },
     "516368fbc8754b5fa092f5b72c8f6ef0": {
      "model_module": "@jupyter-widgets/controls",
      "model_module_version": "2.0.0",
      "model_name": "TextStyleModel",
      "state": {
       "description_width": "initial",
       "font_size": null,
       "text_color": null
      }
     },
     "519fcf7d4fc24ff297b6dcc3fe7d0c20": {
      "model_module": "@jupyter-widgets/controls",
      "model_module_version": "2.0.0",
      "model_name": "TextStyleModel",
      "state": {
       "description_width": "initial",
       "font_size": null,
       "text_color": null
      }
     },
     "532d4c7a14e94f5db7093bd0b867ac49": {
      "model_module": "@jupyter-widgets/base",
      "model_module_version": "2.0.0",
      "model_name": "LayoutModel",
      "state": {}
     },
     "54edcac15be0410e84d918677c91008f": {
      "model_module": "@jupyter-widgets/controls",
      "model_module_version": "2.0.0",
      "model_name": "ComboboxModel",
      "state": {
       "description": "7. Is this observational data, simulation/model output, or synthetic data?",
       "ensure_option": false,
       "layout": "IPY_MODEL_985feabe3ad0402597f8fe8ee673a707",
       "options": [
        "Observed",
        "Modeled",
        "Synthetic"
       ],
       "placeholder": "Click to select option",
       "style": "IPY_MODEL_9b7cc6231d324b49b4edc1a5a273e848"
      }
     },
     "569962d31cd44c39837be4d3874b7e47": {
      "model_module": "@jupyter-widgets/controls",
      "model_module_version": "2.0.0",
      "model_name": "TextModel",
      "state": {
       "layout": "IPY_MODEL_304d2ad29aed4849a0820cd3368a5f21",
       "placeholder": "(optional) Link to tools available to reduce bias",
       "style": "IPY_MODEL_def3c173b1de407cb146dd62313c9936"
      }
     },
     "57cf7e3def8f4d5681758e072ed19552": {
      "model_module": "@jupyter-widgets/controls",
      "model_module_version": "2.0.0",
      "model_name": "DescriptionStyleModel",
      "state": {
       "description_width": ""
      }
     },
     "58050f68e69d46bbaf99bfaef3957a72": {
      "model_module": "@jupyter-widgets/base",
      "model_module_version": "2.0.0",
      "model_name": "LayoutModel",
      "state": {
       "display": "none",
       "width": "900px"
      }
     },
     "5809bcc090364577a15cc3232d2a3a4f": {
      "model_module": "@jupyter-widgets/base",
      "model_module_version": "2.0.0",
      "model_name": "LayoutModel",
      "state": {
       "width": "900px"
      }
     },
     "580e9cf79a4845a79a7949e26446e02d": {
      "model_module": "@jupyter-widgets/controls",
      "model_module_version": "2.0.0",
      "model_name": "ComboboxModel",
      "state": {
       "description": "2.10 Are there published data quality procedures or reports?",
       "ensure_option": false,
       "layout": "IPY_MODEL_c026c75f9deb4c91b5f925b311af92f7",
       "options": [
        "Yes",
        "No",
        "N/A"
       ],
       "placeholder": "Click to select option",
       "style": "IPY_MODEL_45e2ad2305c948f89e2c80e3b670a34c"
      }
     },
     "595118f2e7634be0a50cba782a105ba8": {
      "model_module": "@jupyter-widgets/controls",
      "model_module_version": "2.0.0",
      "model_name": "TextStyleModel",
      "state": {
       "description_width": "",
       "font_size": null,
       "text_color": null
      }
     },
     "5c6bc5c62c1b4dfe964dc120f2ea2c00": {
      "model_module": "@jupyter-widgets/base",
      "model_module_version": "2.0.0",
      "model_name": "LayoutModel",
      "state": {
       "display": "none",
       "width": "900px"
      }
     },
     "5de4af408940449488b9f8ba793600e4": {
      "model_module": "@jupyter-widgets/base",
      "model_module_version": "2.0.0",
      "model_name": "LayoutModel",
      "state": {}
     },
     "600cc15cc58545f3bf7ee779425e94ad": {
      "model_module": "@jupyter-widgets/base",
      "model_module_version": "2.0.0",
      "model_name": "LayoutModel",
      "state": {
       "width": "900px"
      }
     },
     "610b37db68aa4ece9cb991653b06abb0": {
      "model_module": "@jupyter-widgets/base",
      "model_module_version": "2.0.0",
      "model_name": "LayoutModel",
      "state": {
       "width": "20px"
      }
     },
     "69fff5159bbe491a9296dbfd569fc127": {
      "model_module": "@jupyter-widgets/base",
      "model_module_version": "2.0.0",
      "model_name": "LayoutModel",
      "state": {
       "flex": "1 1 auto",
       "width": "auto"
      }
     },
     "6badfd5293bd4574b66b824fa092ac62": {
      "model_module": "@jupyter-widgets/controls",
      "model_module_version": "2.0.0",
      "model_name": "TextModel",
      "state": {
       "layout": "IPY_MODEL_a67f65eae9064ceb9dd4ed22c9d68192",
       "placeholder": "(optional) Link to a bias-corrected or bias-reduced version of the dataset",
       "style": "IPY_MODEL_72fedd6452ae440998f24a97d2a2328a"
      }
     },
     "6cbe7eb1670f435f9bdb02b7a667f32a": {
      "model_module": "@jupyter-widgets/output",
      "model_module_version": "1.0.0",
      "model_name": "OutputModel",
      "state": {
       "layout": "IPY_MODEL_0916251b0f2f4a4ca182bc6d79804e3a"
      }
     },
     "6df0cee9b3e1433eb56a80e92e5ded95": {
      "model_module": "@jupyter-widgets/base",
      "model_module_version": "2.0.0",
      "model_name": "LayoutModel",
      "state": {
       "display": "none",
       "width": "900px"
      }
     },
     "71a85de9cf85413da5ee80828c5272c0": {
      "model_module": "@jupyter-widgets/base",
      "model_module_version": "2.0.0",
      "model_name": "LayoutModel",
      "state": {
       "width": "100px"
      }
     },
     "71e1c381b83c459fbbe570749ff9372a": {
      "model_module": "@jupyter-widgets/controls",
      "model_module_version": "2.0.0",
      "model_name": "ButtonStyleModel",
      "state": {
       "font_family": null,
       "font_size": null,
       "font_style": null,
       "font_variant": null,
       "font_weight": null,
       "text_color": null,
       "text_decoration": null
      }
     },
     "72a8c6c93eb04984a853eb50217742d1": {
      "model_module": "@jupyter-widgets/controls",
      "model_module_version": "2.0.0",
      "model_name": "TextModel",
      "state": {
       "description": "1.1 Dataset name:",
       "layout": "IPY_MODEL_466e20e8df57463ab10e2763ccd0f84b",
       "style": "IPY_MODEL_e7076362813a44bda4d262b3922fdb6a"
      }
     },
     "72fedd6452ae440998f24a97d2a2328a": {
      "model_module": "@jupyter-widgets/controls",
      "model_module_version": "2.0.0",
      "model_name": "TextStyleModel",
      "state": {
       "description_width": "",
       "font_size": null,
       "text_color": null
      }
     },
     "7414b66ac92146b1add351f250f4e374": {
      "model_module": "@jupyter-widgets/controls",
      "model_module_version": "2.0.0",
      "model_name": "TextStyleModel",
      "state": {
       "description_width": "initial",
       "font_size": null,
       "text_color": null
      }
     },
     "76cd1401967b41a0a28608ee28af3073": {
      "model_module": "@jupyter-widgets/base",
      "model_module_version": "2.0.0",
      "model_name": "LayoutModel",
      "state": {
       "width": "900px"
      }
     },
     "789fbb52744e408f8aca9412a099e2b6": {
      "model_module": "@jupyter-widgets/base",
      "model_module_version": "2.0.0",
      "model_name": "LayoutModel",
      "state": {
       "width": "900px"
      }
     },
     "7b617b3dc4084a998b9666e9da405916": {
      "model_module": "@jupyter-widgets/controls",
      "model_module_version": "2.0.0",
      "model_name": "ComboboxModel",
      "state": {
       "description": "Will there be different stages of the update?",
       "ensure_option": false,
       "layout": "IPY_MODEL_6df0cee9b3e1433eb56a80e92e5ded95",
       "options": [
        "Preliminary data first, then updated later",
        "Full record",
        "N/A"
       ],
       "placeholder": "Click to select option",
       "style": "IPY_MODEL_7414b66ac92146b1add351f250f4e374"
      }
     },
     "7c00551347634952bf41a5dbccf783b8": {
      "model_module": "@jupyter-widgets/base",
      "model_module_version": "2.0.0",
      "model_name": "LayoutModel",
      "state": {
       "width": "900px"
      }
     },
     "7ead8596be024027bf4bcca0fe266a11": {
      "model_module": "@jupyter-widgets/controls",
      "model_module_version": "2.0.0",
      "model_name": "ComboboxModel",
      "state": {
       "description": "2.4 How complete is the dataset compared to the expected temporal coverage?",
       "ensure_option": false,
       "layout": "IPY_MODEL_f712eeadacba4a919db3af9672a1fd64",
       "options": [
        "Complete",
        "Partial",
        "Unknown",
        "N/A"
       ],
       "placeholder": "Click to select option",
       "style": "IPY_MODEL_8eb4330968d441b88d0dede8c2700b11"
      }
     },
     "7f3bfecb70754a71964f93757177f1cb": {
      "model_module": "@jupyter-widgets/controls",
      "model_module_version": "2.0.0",
      "model_name": "LabelStyleModel",
      "state": {
       "description_width": "",
       "font_family": null,
       "font_size": null,
       "font_style": null,
       "font_variant": null,
       "font_weight": null,
       "text_color": null,
       "text_decoration": null
      }
     },
     "8177cd13191e49c7af8335e05f0eb32f": {
      "model_module": "@jupyter-widgets/controls",
      "model_module_version": "2.0.0",
      "model_name": "ComboboxModel",
      "state": {
       "description": "2.12 Are there checksums / other checks for data integrity? ",
       "ensure_option": false,
       "layout": "IPY_MODEL_600cc15cc58545f3bf7ee779425e94ad",
       "options": [
        "Yes",
        "No",
        "N/A"
       ],
       "placeholder": "Click to select option",
       "style": "IPY_MODEL_e2185a92fe2e4e569fd814c1e073e9a3"
      }
     },
     "81a903f82c6e4e388c6dcc4add784522": {
      "model_module": "@jupyter-widgets/base",
      "model_module_version": "2.0.0",
      "model_name": "LayoutModel",
      "state": {
       "width": "900px"
      }
     },
     "83f6ca31746644f2a2c02d97f62be2f4": {
      "model_module": "@jupyter-widgets/controls",
      "model_module_version": "2.0.0",
      "model_name": "LabelModel",
      "state": {
       "layout": "IPY_MODEL_532d4c7a14e94f5db7093bd0b867ac49",
       "style": "IPY_MODEL_c0b8d1affe504b2185b6159938c37768",
       "value": "2.13 What is the size of the dataset? Depending on the resource, this might be:"
      }
     },
     "83fd08acf4e743089e85165c884edbb8": {
      "model_module": "@jupyter-widgets/base",
      "model_module_version": "2.0.0",
      "model_name": "LayoutModel",
      "state": {
       "width": "900px"
      }
     },
     "84b05ac5eac5467e8881d5ea6723431b": {
      "model_module": "@jupyter-widgets/base",
      "model_module_version": "2.0.0",
      "model_name": "LayoutModel",
      "state": {
       "width": "100px"
      }
     },
     "8ab6f5fa1d764b658817935db82dd570": {
      "model_module": "@jupyter-widgets/controls",
      "model_module_version": "2.0.0",
      "model_name": "TextModel",
      "state": {
       "layout": "IPY_MODEL_c00ff92320394028adf5f4827a2f4cd3",
       "placeholder": "228 x 228",
       "style": "IPY_MODEL_f661ae1df35045f7860797844e497423"
      }
     },
     "8e903d9a360146c19378c69eac81c889": {
      "model_module": "@jupyter-widgets/controls",
      "model_module_version": "2.0.0",
      "model_name": "LabelStyleModel",
      "state": {
       "description_width": "",
       "font_family": null,
       "font_size": null,
       "font_style": null,
       "font_variant": null,
       "font_weight": null,
       "text_color": null,
       "text_decoration": null
      }
     },
     "8eb4330968d441b88d0dede8c2700b11": {
      "model_module": "@jupyter-widgets/controls",
      "model_module_version": "2.0.0",
      "model_name": "TextStyleModel",
      "state": {
       "description_width": "initial",
       "font_size": null,
       "text_color": null
      }
     },
     "8f327d57414247219ad2eb06c9bf2586": {
      "model_module": "@jupyter-widgets/base",
      "model_module_version": "2.0.0",
      "model_name": "LayoutModel",
      "state": {
       "display": "none",
       "width": "900px"
      }
     },
     "9085bd1eabcf4287a4ffbac9ddedc403": {
      "model_module": "@jupyter-widgets/controls",
      "model_module_version": "2.0.0",
      "model_name": "ComboboxModel",
      "state": {
       "description": "2.5 Is this dataset self-consistent in that its units, data types, and parameter names do not change over time and space?",
       "ensure_option": false,
       "layout": "IPY_MODEL_e9719b1756b44b5e8bc3e240b2ae5d52",
       "options": [
        "Yes",
        "No",
        "N/A"
       ],
       "placeholder": "Click to select option",
       "style": "IPY_MODEL_1068f550069e4814a8c1c17095c7e32a"
      }
     },
     "9427fd61abb24512a3bb1000ad7175a0": {
      "model_module": "@jupyter-widgets/controls",
      "model_module_version": "2.0.0",
      "model_name": "ComboboxModel",
      "state": {
       "description": "2.1 Will the dataset be updated?",
       "ensure_option": false,
       "layout": "IPY_MODEL_83fd08acf4e743089e85165c884edbb8",
       "options": [
        "Yes",
        "No"
       ],
       "placeholder": "Click to select option",
       "style": "IPY_MODEL_e65d169a65d14162a19c082cad185f4a"
      }
     },
     "985feabe3ad0402597f8fe8ee673a707": {
      "model_module": "@jupyter-widgets/base",
      "model_module_version": "2.0.0",
      "model_name": "LayoutModel",
      "state": {
       "width": "900px"
      }
     },
     "9b174f46a123471fb1abcf5862d068a2": {
      "model_module": "@jupyter-widgets/controls",
      "model_module_version": "2.0.0",
      "model_name": "TextareaModel",
      "state": {
       "layout": "IPY_MODEL_5c6bc5c62c1b4dfe964dc120f2ea2c00",
       "placeholder": "Is the bias metrological traceable?",
       "style": "IPY_MODEL_4e494374ed484ca08e06681ff5ffdc88"
      }
     },
     "9b7cc6231d324b49b4edc1a5a273e848": {
      "model_module": "@jupyter-widgets/controls",
      "model_module_version": "2.0.0",
      "model_name": "TextStyleModel",
      "state": {
       "description_width": "initial",
       "font_size": null,
       "text_color": null
      }
     },
     "9b7d3946241f427b96b99710407f6608": {
      "model_module": "@jupyter-widgets/controls",
      "model_module_version": "2.0.0",
      "model_name": "TextStyleModel",
      "state": {
       "description_width": "initial",
       "font_size": null,
       "text_color": null
      }
     },
     "9e1887f43c8647b9abfe3691cef7b24f": {
      "model_module": "@jupyter-widgets/base",
      "model_module_version": "2.0.0",
      "model_name": "LayoutModel",
      "state": {
       "width": "900px"
      }
     },
     "a3cd0ecef48046e88cff8be3ea7d1932": {
      "model_module": "@jupyter-widgets/controls",
      "model_module_version": "2.0.0",
      "model_name": "LabelModel",
      "state": {
       "layout": "IPY_MODEL_424fd29bfaaf475ba1f29a7fb107b55b",
       "style": "IPY_MODEL_cd798efd13064a59a6edc0bfb96ac1a9",
       "value": "Number of data dimensions:"
      }
     },
     "a666307a41ff40ca9bb328a20fa69dc1": {
      "model_module": "@jupyter-widgets/controls",
      "model_module_version": "2.0.0",
      "model_name": "TextStyleModel",
      "state": {
       "description_width": "initial",
       "font_size": null,
       "text_color": null
      }
     },
     "a67f65eae9064ceb9dd4ed22c9d68192": {
      "model_module": "@jupyter-widgets/base",
      "model_module_version": "2.0.0",
      "model_name": "LayoutModel",
      "state": {
       "display": "none",
       "width": "900px"
      }
     },
     "a9ac0bd94f60469c9158af36d03c16f1": {
      "model_module": "@jupyter-widgets/controls",
      "model_module_version": "2.0.0",
      "model_name": "ComboboxModel",
      "state": {
       "description": "6. Is this raw data or a derived/processed data product?",
       "ensure_option": false,
       "layout": "IPY_MODEL_384e6862325541dbba9bf7cbaeb858bf",
       "options": [
        "Raw",
        "Derived",
        "Unknown"
       ],
       "placeholder": "Click to select option",
       "style": "IPY_MODEL_05627eb35bc24d0b87faa97b17fb7306"
      }
     },
     "ac01eec9205a47e78d3fda0f3568cdc7": {
      "model_module": "@jupyter-widgets/controls",
      "model_module_version": "2.0.0",
      "model_name": "BoxModel",
      "state": {
       "layout": "IPY_MODEL_610b37db68aa4ece9cb991653b06abb0"
      }
     },
     "b099b995be804bbb9c550f1f053599f1": {
      "model_module": "@jupyter-widgets/base",
      "model_module_version": "2.0.0",
      "model_name": "LayoutModel",
      "state": {
       "width": "900px"
      }
     },
     "b09a9a6f7f6548068df72f6d3b096b44": {
      "model_module": "@jupyter-widgets/base",
      "model_module_version": "2.0.0",
      "model_name": "LayoutModel",
      "state": {
       "width": "900px"
      }
     },
     "b1993e5d3b004e9da97bdd03d7088735": {
      "model_module": "@jupyter-widgets/controls",
      "model_module_version": "2.0.0",
      "model_name": "LabelModel",
      "state": {
       "layout": "IPY_MODEL_c20996e26e744debbb4ffabf71808afc",
       "style": "IPY_MODEL_d67194a3270f41faa4f2e7aed785da24",
       "value": "Number of data table rows:"
      }
     },
     "b31b9e24e97c43e5a3027e5c5ca5dc50": {
      "model_module": "@jupyter-widgets/base",
      "model_module_version": "2.0.0",
      "model_name": "LayoutModel",
      "state": {}
     },
     "b3319fe170c54861a6e32ed316617135": {
      "model_module": "@jupyter-widgets/base",
      "model_module_version": "2.0.0",
      "model_name": "LayoutModel",
      "state": {}
     },
     "b3a478a5881745e3a4bc0398b6e758f0": {
      "model_module": "@jupyter-widgets/base",
      "model_module_version": "2.0.0",
      "model_name": "LayoutModel",
      "state": {}
     },
     "b441b3edf7264c12baefbbdbda634daf": {
      "model_module": "@jupyter-widgets/controls",
      "model_module_version": "2.0.0",
      "model_name": "ComboboxModel",
      "state": {
       "description": "2.3 How complete is the dataset compared to the expected spatial coverage?",
       "ensure_option": false,
       "layout": "IPY_MODEL_c2dda14a9d1d407994e337c1acea339c",
       "options": [
        "Complete",
        "Partial",
        "Unknown",
        "N/A"
       ],
       "placeholder": "Click to select option",
       "style": "IPY_MODEL_0a6fd523be1b4c94a5a785c62314eef9"
      }
     },
     "b4894eccd6fb42eda4ca14f2684d31f9": {
      "model_module": "@jupyter-widgets/controls",
      "model_module_version": "2.0.0",
      "model_name": "TextModel",
      "state": {
       "description": "1.2. Dataset version:",
       "layout": "IPY_MODEL_e8c8abd834bb40b0975dc5d0992feb86",
       "style": "IPY_MODEL_d609bfdfe0ae4531bb2284e523d441aa"
      }
     },
     "b6009cb3504c49b28d899e4ba4162ed6": {
      "model_module": "@jupyter-widgets/controls",
      "model_module_version": "2.0.0",
      "model_name": "ComboboxModel",
      "state": {
       "description": "If the data will be updated, how often will it be updated?",
       "ensure_option": false,
       "layout": "IPY_MODEL_426edb488f2743fa9bb15c009044b5f2",
       "options": [
        "When data updated",
        "Hourly",
        "Daily",
        "Weekly",
        "Monthly",
        "Annually",
        "Other",
        "N/A"
       ],
       "placeholder": "Click to select option",
       "style": "IPY_MODEL_e1f0fe466a844efca08dc280ecb363eb"
      }
     },
     "b9d4a11618a946379fbcc7aecc1ebfff": {
      "model_module": "@jupyter-widgets/controls",
      "model_module_version": "2.0.0",
      "model_name": "TextStyleModel",
      "state": {
       "description_width": "initial",
       "font_size": null,
       "text_color": null
      }
     },
     "b9fbf2fbe9cd4c57b3ae9b1e7d780a00": {
      "model_module": "@jupyter-widgets/base",
      "model_module_version": "2.0.0",
      "model_name": "LayoutModel",
      "state": {}
     },
     "ba059abdae7447f4ad7cc1232d21b8d6": {
      "model_module": "@jupyter-widgets/base",
      "model_module_version": "2.0.0",
      "model_name": "LayoutModel",
      "state": {
       "width": "900px"
      }
     },
     "bb24a390cec148b2a1934467a88c57c7": {
      "model_module": "@jupyter-widgets/base",
      "model_module_version": "2.0.0",
      "model_name": "LayoutModel",
      "state": {
       "flex": "1 1 auto",
       "width": "auto"
      }
     },
     "bdcda50c542e49c586fa4a5b68f64d30": {
      "model_module": "@jupyter-widgets/base",
      "model_module_version": "2.0.0",
      "model_name": "LayoutModel",
      "state": {
       "display": "none",
       "width": "900px"
      }
     },
     "bf0c843974fd4655b11b33bd73252038": {
      "model_module": "@jupyter-widgets/controls",
      "model_module_version": "2.0.0",
      "model_name": "TextModel",
      "state": {
       "description": "Review measures:",
       "layout": "IPY_MODEL_4c28a6e9bb8246ae8e714a1ae788aab1",
       "placeholder": "If yes, what measures are taken? Manual review / Automated review etc.",
       "style": "IPY_MODEL_9b7d3946241f427b96b99710407f6608"
      }
     },
     "bf879ff3a93c4327a87eb9efae61791a": {
      "model_module": "@jupyter-widgets/controls",
      "model_module_version": "2.0.0",
      "model_name": "ComboboxModel",
      "state": {
       "description": "Should the new version of the dataset supersede the current version?",
       "ensure_option": false,
       "layout": "IPY_MODEL_d32e281201da4c8fbeb86f17d09b3a1a",
       "options": [
        "Yes",
        "No",
        "N/A"
       ],
       "placeholder": "Click to select option",
       "style": "IPY_MODEL_fd9048aaaafa46cb964299ae7624bdce"
      }
     },
     "c00ff92320394028adf5f4827a2f4cd3": {
      "model_module": "@jupyter-widgets/base",
      "model_module_version": "2.0.0",
      "model_name": "LayoutModel",
      "state": {}
     },
     "c026c75f9deb4c91b5f925b311af92f7": {
      "model_module": "@jupyter-widgets/base",
      "model_module_version": "2.0.0",
      "model_name": "LayoutModel",
      "state": {
       "width": "900px"
      }
     },
     "c08ec597079a43c9821269c3ba806987": {
      "model_module": "@jupyter-widgets/controls",
      "model_module_version": "2.0.0",
      "model_name": "ButtonStyleModel",
      "state": {
       "font_family": null,
       "font_size": null,
       "font_style": null,
       "font_variant": null,
       "font_weight": null,
       "text_color": null,
       "text_decoration": null
      }
     },
     "c0b8d1affe504b2185b6159938c37768": {
      "model_module": "@jupyter-widgets/controls",
      "model_module_version": "2.0.0",
      "model_name": "LabelStyleModel",
      "state": {
       "description_width": "",
       "font_family": null,
       "font_size": null,
       "font_style": null,
       "font_variant": null,
       "font_weight": null,
       "text_color": null,
       "text_decoration": null
      }
     },
     "c20996e26e744debbb4ffabf71808afc": {
      "model_module": "@jupyter-widgets/base",
      "model_module_version": "2.0.0",
      "model_name": "LayoutModel",
      "state": {}
     },
     "c2dda14a9d1d407994e337c1acea339c": {
      "model_module": "@jupyter-widgets/base",
      "model_module_version": "2.0.0",
      "model_name": "LayoutModel",
      "state": {
       "width": "900px"
      }
     },
     "c3026c8327a64f7fa7182b4d88d753ce": {
      "model_module": "@jupyter-widgets/controls",
      "model_module_version": "2.0.0",
      "model_name": "ButtonStyleModel",
      "state": {
       "font_family": null,
       "font_size": null,
       "font_style": null,
       "font_variant": null,
       "font_weight": null,
       "text_color": null,
       "text_decoration": null
      }
     },
     "c3876d94a77f422da111d27dfecb3725": {
      "model_module": "@jupyter-widgets/controls",
      "model_module_version": "2.0.0",
      "model_name": "DescriptionStyleModel",
      "state": {
       "description_width": ""
      }
     },
     "c48128e84db04a4aa4fb049ce540b57d": {
      "model_module": "@jupyter-widgets/controls",
      "model_module_version": "2.0.0",
      "model_name": "HBoxModel",
      "state": {
       "children": [
        "IPY_MODEL_30987bcc46584440a4a505958cd07728",
        "IPY_MODEL_214fc8fa72ec4e688e5c67c0c456fa4e"
       ],
       "layout": "IPY_MODEL_b31b9e24e97c43e5a3027e5c5ca5dc50"
      }
     },
     "c4eca2f666cb4178a0d3dc1c78eef88b": {
      "model_module": "@jupyter-widgets/controls",
      "model_module_version": "2.0.0",
      "model_name": "ComboboxModel",
      "state": {
       "description": "2.6 Is this dataset’s units, data types, and parameter names consistent with similar data collections?",
       "ensure_option": false,
       "layout": "IPY_MODEL_b09a9a6f7f6548068df72f6d3b096b44",
       "options": [
        "Yes",
        "No",
        "N/A"
       ],
       "placeholder": "Click to select option",
       "style": "IPY_MODEL_0bb180e7d66b4d439c5c2fa8bddccf0b"
      }
     },
     "c68f2334b5ad407ea2a735b485caee46": {
      "model_module": "@jupyter-widgets/base",
      "model_module_version": "2.0.0",
      "model_name": "LayoutModel",
      "state": {
       "flex": "1 1 auto",
       "width": "auto"
      }
     },
     "cb65f65c263344adbcc16986fc7cd272": {
      "model_module": "@jupyter-widgets/controls",
      "model_module_version": "2.0.0",
      "model_name": "TextModel",
      "state": {
       "layout": "IPY_MODEL_d13ed1fa184b4361acdac4edb8db8ce4",
       "placeholder": "Total data volume:",
       "style": "IPY_MODEL_2d8c3e49629f428b94ed2fa781c07712"
      }
     },
     "cd798efd13064a59a6edc0bfb96ac1a9": {
      "model_module": "@jupyter-widgets/controls",
      "model_module_version": "2.0.0",
      "model_name": "LabelStyleModel",
      "state": {
       "description_width": "",
       "font_family": null,
       "font_size": null,
       "font_style": null,
       "font_variant": null,
       "font_weight": null,
       "text_color": null,
       "text_decoration": null
      }
     },
     "cef9145e94b3468fb54f44098a87e296": {
      "model_module": "@jupyter-widgets/controls",
      "model_module_version": "2.0.0",
      "model_name": "IntTextModel",
      "state": {
       "layout": "IPY_MODEL_34fcd9e2296f44e4835ed2130a4bb8d1",
       "step": 1,
       "style": "IPY_MODEL_4977feec4e2f4a5e892d32ed62a8cb9f"
      }
     },
     "d13ed1fa184b4361acdac4edb8db8ce4": {
      "model_module": "@jupyter-widgets/base",
      "model_module_version": "2.0.0",
      "model_name": "LayoutModel",
      "state": {}
     },
     "d297b011ff024a3881c53fb73f3c549b": {
      "model_module": "@jupyter-widgets/controls",
      "model_module_version": "2.0.0",
      "model_name": "TextModel",
      "state": {
       "description": "If yes, what is the delay between different stages?",
       "layout": "IPY_MODEL_58050f68e69d46bbaf99bfaef3957a72",
       "style": "IPY_MODEL_26f3164ac7ea4455aa8a8452b70d952c"
      }
     },
     "d32e281201da4c8fbeb86f17d09b3a1a": {
      "model_module": "@jupyter-widgets/base",
      "model_module_version": "2.0.0",
      "model_name": "LayoutModel",
      "state": {
       "display": "none",
       "width": "900px"
      }
     },
     "d3a389620c2748bca90d75c900b89a06": {
      "model_module": "@jupyter-widgets/controls",
      "model_module_version": "2.0.0",
      "model_name": "ComboboxModel",
      "state": {
       "description": "2.9 Is there quantitative information about data resolution in space and time?",
       "ensure_option": false,
       "layout": "IPY_MODEL_5809bcc090364577a15cc3232d2a3a4f",
       "options": [
        "Yes",
        "No",
        "N/A"
       ],
       "placeholder": "Click to select option",
       "style": "IPY_MODEL_519fcf7d4fc24ff297b6dcc3fe7d0c20"
      }
     },
     "d609bfdfe0ae4531bb2284e523d441aa": {
      "model_module": "@jupyter-widgets/controls",
      "model_module_version": "2.0.0",
      "model_name": "TextStyleModel",
      "state": {
       "description_width": "initial",
       "font_size": null,
       "text_color": null
      }
     },
     "d67194a3270f41faa4f2e7aed785da24": {
      "model_module": "@jupyter-widgets/controls",
      "model_module_version": "2.0.0",
      "model_name": "LabelStyleModel",
      "state": {
       "description_width": "",
       "font_family": null,
       "font_size": null,
       "font_style": null,
       "font_variant": null,
       "font_weight": null,
       "text_color": null,
       "text_decoration": null
      }
     },
     "d688a32c1b9d4ca4bd2a1e0abf67f150": {
      "model_module": "@jupyter-widgets/controls",
      "model_module_version": "2.0.0",
      "model_name": "TextStyleModel",
      "state": {
       "description_width": "initial",
       "font_size": null,
       "text_color": null
      }
     },
     "da3a229cde8b4bd2a1cd4ad305f76dc5": {
      "model_module": "@jupyter-widgets/controls",
      "model_module_version": "2.0.0",
      "model_name": "DescriptionStyleModel",
      "state": {
       "description_width": ""
      }
     },
     "dabc6b851aea427a97de1a9069a6875e": {
      "model_module": "@jupyter-widgets/controls",
      "model_module_version": "2.0.0",
      "model_name": "TextStyleModel",
      "state": {
       "description_width": "",
       "font_size": null,
       "text_color": null
      }
     },
     "de3fe6bb1d714192ae637d448d292141": {
      "model_module": "@jupyter-widgets/base",
      "model_module_version": "2.0.0",
      "model_name": "LayoutModel",
      "state": {
       "display": "none",
       "width": "900px"
      }
     },
     "def3c173b1de407cb146dd62313c9936": {
      "model_module": "@jupyter-widgets/controls",
      "model_module_version": "2.0.0",
      "model_name": "TextStyleModel",
      "state": {
       "description_width": "",
       "font_size": null,
       "text_color": null
      }
     },
     "e040b5854b7b4a8da6edbb7835a257eb": {
      "model_module": "@jupyter-widgets/controls",
      "model_module_version": "2.0.0",
      "model_name": "TextareaModel",
      "state": {
       "layout": "IPY_MODEL_06a14444bf9b40f4905a82dbdcd92758",
       "placeholder": "If yes, what measures were used?",
       "style": "IPY_MODEL_dabc6b851aea427a97de1a9069a6875e"
      }
     },
     "e050d4b3267547eab2b09e622a12a2b1": {
      "model_module": "@jupyter-widgets/controls",
      "model_module_version": "2.0.0",
      "model_name": "ButtonStyleModel",
      "state": {
       "font_family": null,
       "font_size": null,
       "font_style": null,
       "font_variant": null,
       "font_weight": null,
       "text_color": null,
       "text_decoration": null
      }
     },
     "e1ea0383dc2f404fbe8323ba652de6a5": {
      "model_module": "@jupyter-widgets/base",
      "model_module_version": "2.0.0",
      "model_name": "LayoutModel",
      "state": {}
     },
     "e1f0fe466a844efca08dc280ecb363eb": {
      "model_module": "@jupyter-widgets/controls",
      "model_module_version": "2.0.0",
      "model_name": "TextStyleModel",
      "state": {
       "description_width": "initial",
       "font_size": null,
       "text_color": null
      }
     },
     "e2185a92fe2e4e569fd814c1e073e9a3": {
      "model_module": "@jupyter-widgets/controls",
      "model_module_version": "2.0.0",
      "model_name": "TextStyleModel",
      "state": {
       "description_width": "initial",
       "font_size": null,
       "text_color": null
      }
     },
     "e39b7b9fb9594f8d8e44f66b6f0c3b33": {
      "model_module": "@jupyter-widgets/controls",
      "model_module_version": "2.0.0",
      "model_name": "ButtonModel",
      "state": {
       "button_style": "primary",
       "description": "Save Timeliness, Completeness & Consistency Answers to json file",
       "layout": "IPY_MODEL_69fff5159bbe491a9296dbfd569fc127",
       "style": "IPY_MODEL_c08ec597079a43c9821269c3ba806987",
       "tooltip": null
      }
     },
     "e65d169a65d14162a19c082cad185f4a": {
      "model_module": "@jupyter-widgets/controls",
      "model_module_version": "2.0.0",
      "model_name": "TextStyleModel",
      "state": {
       "description_width": "initial",
       "font_size": null,
       "text_color": null
      }
     },
     "e66100fce55746468e08811d52e790f7": {
      "model_module": "@jupyter-widgets/controls",
      "model_module_version": "2.0.0",
      "model_name": "ButtonModel",
      "state": {
       "button_style": "primary",
       "description": "Save Bias, Integrity & Size Answers to json file",
       "layout": "IPY_MODEL_0599553f0e644b22969b46b48dca3fa6",
       "style": "IPY_MODEL_e050d4b3267547eab2b09e622a12a2b1",
       "tooltip": null
      }
     },
     "e7076362813a44bda4d262b3922fdb6a": {
      "model_module": "@jupyter-widgets/controls",
      "model_module_version": "2.0.0",
      "model_name": "TextStyleModel",
      "state": {
       "description_width": "initial",
       "font_size": null,
       "text_color": null
      }
     },
     "e883603ee54f41f48c9f9d922232fecd": {
      "model_module": "@jupyter-widgets/controls",
      "model_module_version": "2.0.0",
      "model_name": "LabelStyleModel",
      "state": {
       "description_width": "",
       "font_family": null,
       "font_size": null,
       "font_style": null,
       "font_variant": null,
       "font_weight": null,
       "text_color": null,
       "text_decoration": null
      }
     },
     "e8c8abd834bb40b0975dc5d0992feb86": {
      "model_module": "@jupyter-widgets/base",
      "model_module_version": "2.0.0",
      "model_name": "LayoutModel",
      "state": {
       "width": "900px"
      }
     },
     "e96dee06d9c04f6e880fc9ee4af1f12e": {
      "model_module": "@jupyter-widgets/controls",
      "model_module_version": "2.0.0",
      "model_name": "HBoxModel",
      "state": {
       "children": [
        "IPY_MODEL_1c12e0adacb04847aa76c00b39140886",
        "IPY_MODEL_fe358c77138f4d3b82e63878fd40eab2",
        "IPY_MODEL_ac01eec9205a47e78d3fda0f3568cdc7",
        "IPY_MODEL_feb1b7af568447eca4988e8ba93298fd",
        "IPY_MODEL_8ab6f5fa1d764b658817935db82dd570"
       ],
       "layout": "IPY_MODEL_e1ea0383dc2f404fbe8323ba652de6a5"
      }
     },
     "e9719b1756b44b5e8bc3e240b2ae5d52": {
      "model_module": "@jupyter-widgets/base",
      "model_module_version": "2.0.0",
      "model_name": "LayoutModel",
      "state": {
       "width": "900px"
      }
     },
     "ea5e3dd6d2d84f4d9bc7c472d4f65ff5": {
      "model_module": "@jupyter-widgets/controls",
      "model_module_version": "2.0.0",
      "model_name": "LabelStyleModel",
      "state": {
       "description_width": "",
       "font_family": null,
       "font_size": null,
       "font_style": null,
       "font_variant": null,
       "font_weight": null,
       "text_color": null,
       "text_decoration": null
      }
     },
     "edbb009484d44442b6138664718ffe01": {
      "model_module": "@jupyter-widgets/controls",
      "model_module_version": "2.0.0",
      "model_name": "TextModel",
      "state": {
       "description": "Documentation link:",
       "layout": "IPY_MODEL_4ecccddc7e47425eb3a2c04bcfbd2aad",
       "placeholder": "Please provide a link to the document",
       "style": "IPY_MODEL_1ab88d907a9f40dcb6549fed9f00c7b4"
      }
     },
     "ee6c0ead13184f47bc086fc383357a13": {
      "model_module": "@jupyter-widgets/controls",
      "model_module_version": "2.0.0",
      "model_name": "TextStyleModel",
      "state": {
       "description_width": "initial",
       "font_size": null,
       "text_color": null
      }
     },
     "f298be09c07241159d18bad9be53b907": {
      "model_module": "@jupyter-widgets/base",
      "model_module_version": "2.0.0",
      "model_name": "LayoutModel",
      "state": {}
     },
     "f49d347f1a784252ada1267c9c3b34a2": {
      "model_module": "@jupyter-widgets/controls",
      "model_module_version": "2.0.0",
      "model_name": "TextStyleModel",
      "state": {
       "description_width": "initial",
       "font_size": null,
       "text_color": null
      }
     },
     "f4c98d74253f4712bfecfefdcb9ad732": {
      "model_module": "@jupyter-widgets/controls",
      "model_module_version": "2.0.0",
      "model_name": "LabelModel",
      "state": {
       "layout": "IPY_MODEL_b9fbf2fbe9cd4c57b3ae9b1e7d780a00",
       "style": "IPY_MODEL_e883603ee54f41f48c9f9d922232fecd",
       "value": "Select from the list, or type your own answer if appropriate."
      }
     },
     "f4fc77fae77240379c8e255ff3dffd66": {
      "model_module": "@jupyter-widgets/controls",
      "model_module_version": "2.0.0",
      "model_name": "ComboboxModel",
      "state": {
       "description": "2.7 Are there processes to monitor for units, data types, and parameter consistency?",
       "ensure_option": false,
       "layout": "IPY_MODEL_1807ebdb3cbb47339967527c0a967279",
       "options": [
        "Yes",
        "No",
        "N/A"
       ],
       "placeholder": "Click to select option",
       "style": "IPY_MODEL_ee6c0ead13184f47bc086fc383357a13"
      }
     },
     "f661ae1df35045f7860797844e497423": {
      "model_module": "@jupyter-widgets/controls",
      "model_module_version": "2.0.0",
      "model_name": "TextStyleModel",
      "state": {
       "description_width": "",
       "font_size": null,
       "text_color": null
      }
     },
     "f712eeadacba4a919db3af9672a1fd64": {
      "model_module": "@jupyter-widgets/base",
      "model_module_version": "2.0.0",
      "model_name": "LayoutModel",
      "state": {
       "width": "900px"
      }
     },
     "f73b81b21d0a448f931a60c5e138345e": {
      "model_module": "@jupyter-widgets/controls",
      "model_module_version": "2.0.0",
      "model_name": "ComboboxModel",
      "state": {
       "description": "Is there reported bias in the data?",
       "ensure_option": false,
       "layout": "IPY_MODEL_bdcda50c542e49c586fa4a5b68f64d30",
       "options": [
        "No known bias",
        "Found and reported",
        "No info available",
        "N/A"
       ],
       "placeholder": "Click to select option",
       "style": "IPY_MODEL_f49d347f1a784252ada1267c9c3b34a2"
      }
     },
     "fd0737fd5c2e406c986de5e1e807c802": {
      "model_module": "@jupyter-widgets/controls",
      "model_module_version": "2.0.0",
      "model_name": "ComboboxModel",
      "state": {
       "description": "2.2 Is there any documentation about the completeness of the dataset?",
       "ensure_option": false,
       "layout": "IPY_MODEL_81a903f82c6e4e388c6dcc4add784522",
       "options": [
        "Yes",
        "No"
       ],
       "placeholder": "Click to select option",
       "style": "IPY_MODEL_337393955af84bf7a18de2affe57fa34"
      }
     },
     "fd9048aaaafa46cb964299ae7624bdce": {
      "model_module": "@jupyter-widgets/controls",
      "model_module_version": "2.0.0",
      "model_name": "TextStyleModel",
      "state": {
       "description_width": "initial",
       "font_size": null,
       "text_color": null
      }
     },
     "fe358c77138f4d3b82e63878fd40eab2": {
      "model_module": "@jupyter-widgets/controls",
      "model_module_version": "2.0.0",
      "model_name": "IntTextModel",
      "state": {
       "layout": "IPY_MODEL_71a85de9cf85413da5ee80828c5272c0",
       "step": 1,
       "style": "IPY_MODEL_c3876d94a77f422da111d27dfecb3725"
      }
     },
     "feb1b7af568447eca4988e8ba93298fd": {
      "model_module": "@jupyter-widgets/controls",
      "model_module_version": "2.0.0",
      "model_name": "LabelModel",
      "state": {
       "layout": "IPY_MODEL_b3a478a5881745e3a4bc0398b6e758f0",
       "style": "IPY_MODEL_8e903d9a360146c19378c69eac81c889",
       "value": "Size of images:"
      }
     },
     "ffb52a41b983454781719ad4f85d42f5": {
      "model_module": "@jupyter-widgets/controls",
      "model_module_version": "2.0.0",
      "model_name": "TextStyleModel",
      "state": {
       "description_width": "initial",
       "font_size": null,
       "text_color": null
      }
     }
    },
    "version_major": 2,
    "version_minor": 0
   }
  }
 },
 "nbformat": 4,
 "nbformat_minor": 5
}
