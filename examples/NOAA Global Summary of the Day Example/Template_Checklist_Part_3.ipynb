{
 "cells": [
  {
   "cell_type": "markdown",
   "id": "1e08378b-6bbe-4203-8b90-1bed8c97a679",
   "metadata": {
    "editable": true,
    "slideshow": {
     "slide_type": ""
    },
    "tags": []
   },
   "source": [
    "\n",
    "<link rel=\"stylesheet\" href=\"https://unpkg.com/thebe@latest/lib/index.css\">\n",
    "<script src=\"https://unpkg.com/thebe@latest/lib/index.js\"></script>\n",
    "\n",
    "<script type=\"text/javascript\">\n",
    "  document.addEventListener(\"DOMContentLoaded\", function() {\n",
    "    thebelab.bootstrap({\n",
    "      requestKernel: true,\n",
    "      binderOptions: {\n",
    "        repo: \"your-repo/your-project\",\n",
    "        ref: \"main\",\n",
    "      },\n",
    "      codeMirrorConfig: {\n",
    "        theme: \"abcdef\",\n",
    "      },\n",
    "    });\n",
    "  });\n",
    "</script>\n"
   ]
  },
  {
   "cell_type": "markdown",
   "id": "f8198bd3-3e2a-444f-bff5-c9647a804ca9",
   "metadata": {
    "editable": true,
    "slideshow": {
     "slide_type": ""
    },
    "tags": []
   },
   "source": [
    "# **Data Readiness For AI Checklist - Part 3**\n",
    "\n",
    " * Affiliation: UK Met Office\n",
    " * History: 1.0\n",
    " * Last update: 25-2-25\n",
    " * © British Crown Copyright 2017-2025, Met Office. Please see LICENSE.md for license details.\n",
    "\n",
    "\n",
    "---"
   ]
  },
  {
   "cell_type": "markdown",
   "id": "e9616620-1b79-4033-959b-41c45a6de99f",
   "metadata": {},
   "source": [
    "## **Tutorial Material**\n",
    "\n",
    "* **Run this Jupyter notebook locally using Jupyter Lab**\n",
    "* **Select 'Run All Cells' from the 'Run' menu to generate the checklist**.\n",
    "* **Remember to save your notebook regularly as you work through it to prevent loosing your answers.**\n",
    "\n",
    "\n",
    "## **Data section, optional**\n",
    "Scripts for pulling the data into the notebook assuming\n",
    "\n",
    "---"
   ]
  },
  {
   "cell_type": "markdown",
   "id": "f6840884-d7bb-43fa-a3e3-8c4106c435e5",
   "metadata": {},
   "source": [
    "## **Setup Notebook**"
   ]
  },
  {
   "cell_type": "code",
   "execution_count": 56,
   "id": "5b5a42bb-1da9-4460-a6a0-8d85063fd096",
   "metadata": {
    "editable": true,
    "slideshow": {
     "slide_type": ""
    },
    "tags": [
     "thebe-init"
    ]
   },
   "outputs": [],
   "source": [
    "import ipywidgets as widgets\n",
    "from IPython.display import display, clear_output\n",
    "import json\n",
    "import sys\n",
    "import os\n",
    "sys.path.append(os.path.abspath('../..')) # Add the parent directory to the system path\n",
    "from utils import *"
   ]
  },
  {
   "cell_type": "code",
   "execution_count": 57,
   "id": "0b769970-71ed-48a7-95fb-da873b6330c8",
   "metadata": {
    "editable": true,
    "slideshow": {
     "slide_type": ""
    },
    "tags": [
     "thebe-init"
    ]
   },
   "outputs": [],
   "source": [
    "# Load checklist from JSON file:\n",
    "checklist = load_checklist()"
   ]
  },
  {
   "cell_type": "markdown",
   "id": "087dd158-2a04-45b5-a0c0-599761f33f94",
   "metadata": {},
   "source": [
    "#### Reset stored answers to start again:"
   ]
  },
  {
   "cell_type": "code",
   "execution_count": 58,
   "id": "a467851d-ee03-46f7-a194-8e516c374b8e",
   "metadata": {
    "jupyter": {
     "source_hidden": true
    }
   },
   "outputs": [],
   "source": [
    "# Reset all checklist answers back to original blank answers for all sections.\n",
    "# Any completed information will be lost. \n",
    "\n",
    "# To reset the stored answers uncomment and run these lines of code below. Re-comment the lines afterwards to avoid them running again. \n",
    "# reset_checklist()\n",
    "# checklist = load_checklist()\n",
    "\n",
    "# You can then re-run each section to reload it on the reset data. "
   ]
  },
  {
   "cell_type": "code",
   "execution_count": 59,
   "id": "168040a6-84ef-4a73-8e8a-0a62007e4e4b",
   "metadata": {
    "jupyter": {
     "source_hidden": true
    }
   },
   "outputs": [
    {
     "name": "stdout",
     "output_type": "stream",
     "text": [
      "Dataset: NOAA Global Surface Summary of the Day (GSOD)\n",
      "Dataset link: https://www.ncei.noaa.gov/metadata/geoportal/rest/metadata/item/gov.noaa.ncdc:C00516/html\n",
      "Assessor: John Pill\n",
      "Assessor email: john.pill@metoffice.gov.uk\n"
     ]
    }
   ],
   "source": [
    "\n",
    "print(\"Dataset:\", checklist[\"GeneralInformation\"][\"DatasetName\"])\n",
    "print(\"Dataset link:\", checklist[\"GeneralInformation\"][\"DatasetLink\"])\n",
    "print(\"Assessor:\", checklist[\"GeneralInformation\"][\"AssessorName\"])\n",
    "print(\"Assessor email:\", checklist[\"GeneralInformation\"][\"AssessorEmailAddress\"])"
   ]
  },
  {
   "cell_type": "markdown",
   "id": "f8636b2a-2be4-43ea-9517-048263170adb",
   "metadata": {},
   "source": [
    "---\n",
    "\n",
    "## **3. Data Documentation**"
   ]
  },
  {
   "cell_type": "markdown",
   "id": "d2991113-c9d9-4782-bf73-066651005ce5",
   "metadata": {},
   "source": [
    "### Community standard or convention\n"
   ]
  },
  {
   "cell_type": "code",
   "execution_count": 60,
   "id": "670d1474-ce77-4109-8dd9-7da3e470cc55",
   "metadata": {
    "jupyter": {
     "source_hidden": true
    }
   },
   "outputs": [
    {
     "data": {
      "application/vnd.jupyter.widget-view+json": {
       "model_id": "ed3a46107ab842b188125f2cb8d19db0",
       "version_major": 2,
       "version_minor": 0
      },
      "text/plain": [
       "Combobox(value='Yes', description='3.1 Does the dataset metadata follow a community/domain standard or convent…"
      ]
     },
     "metadata": {},
     "output_type": "display_data"
    },
    {
     "data": {
      "application/vnd.jupyter.widget-view+json": {
       "model_id": "04b67bbc370e4154a11f83567bcde82e",
       "version_major": 2,
       "version_minor": 0
      },
      "text/plain": [
       "Text(value='ISO 19115-2', description='Metadata standard:', layout=Layout(display='none', width='900px'), plac…"
      ]
     },
     "metadata": {},
     "output_type": "display_data"
    },
    {
     "data": {
      "application/vnd.jupyter.widget-view+json": {
       "model_id": "90a4f73e2d6c4f5592aad059cd92754d",
       "version_major": 2,
       "version_minor": 0
      },
      "text/plain": [
       "Combobox(value='Yes', description='Is the dataset metadata machine-readable?', layout=Layout(display='none', w…"
      ]
     },
     "metadata": {},
     "output_type": "display_data"
    },
    {
     "data": {
      "application/vnd.jupyter.widget-view+json": {
       "model_id": "c4563888630246f980320b0e7f5313d8",
       "version_major": 2,
       "version_minor": 0
      },
      "text/plain": [
       "Combobox(value='Yes', description='Does it include details on the spatial and temporal extent?', layout=Layout…"
      ]
     },
     "metadata": {},
     "output_type": "display_data"
    }
   ],
   "source": [
    "\n",
    "metadata_standard = widgets.Combobox(\n",
    "            value = checklist['DataDocumentation']['MetadataStandard'],\n",
    "            options=['Yes', 'No', 'N/A'],\n",
    "            description='3.1 Does the dataset metadata follow a community/domain standard or convention?',\n",
    "            placeholder=\"Click to select option\",\n",
    "            layout=widgets.Layout(width=widget_width),\n",
    "            style = description_style\n",
    "            )\n",
    "\n",
    "metadata_standard_detail = widgets.Text(\n",
    "            value = checklist['DataDocumentation']['MetadataStandardName'],\n",
    "            description=\"Metadata standard:\",\n",
    "            placeholder='Which standard is it? (CF, TBD, etc.)',\n",
    "            layout=widgets.Layout(display=\"none\", width=widget_width),\n",
    "            style = description_style\n",
    "            )\n",
    "\n",
    "metadata_machine_readable = widgets.Combobox(\n",
    "            value = checklist['DataDocumentation']['MetadataMachineReadable'],\n",
    "            options=['Yes', 'No', 'N/A'],\n",
    "            description='Is the dataset metadata machine-readable?',\n",
    "            placeholder=\"Click to select option\",\n",
    "            layout = widgets.Layout(display=\"none\", width=widget_width),\n",
    "            style = description_style\n",
    "            )\n",
    "\n",
    "metadata_spatial_temporal = widgets.Combobox(\n",
    "            value = checklist['DataDocumentation']['MetadataSpatialTemporalExtent'],\n",
    "            options=['Yes', 'No', 'N/A'],\n",
    "            description='Does it include details on the spatial and temporal extent?',\n",
    "            placeholder=\"Click to select option\",\n",
    "            layout = widgets.Layout(display=\"none\", width=widget_width),\n",
    "            style = description_style\n",
    "            )\n",
    "\n",
    "\n",
    "# Function to change the display setting of the following UI components. \n",
    "def on_click_handler(change):    \n",
    "\n",
    "    # Show / hide main trunk of questions. \n",
    "    if metadata_standard.value == \"Yes\":\n",
    "        metadata_standard_detail.layout.display = ''\n",
    "        metadata_machine_readable.layout.display = ''\n",
    "        metadata_spatial_temporal.layout.display = ''\n",
    "    else: \n",
    "        metadata_standard_detail.layout.display = 'none'\n",
    "        metadata_machine_readable.layout.display = 'none'\n",
    "        metadata_spatial_temporal.layout.display = 'none'\n",
    "        metadata_standard_detail.value = ''\n",
    "        metadata_machine_readable.value = 'N/A'\n",
    "        metadata_spatial_temporal.value = 'N/A'\n",
    "        \n",
    "\n",
    "display(metadata_standard, metadata_standard_detail, metadata_machine_readable, metadata_spatial_temporal)\n",
    "\n",
    "# Observe UI components for changes and call the on_click_handler function if value property changed. \n",
    "metadata_standard.observe(on_click_handler, names=\"value\")"
   ]
  },
  {
   "cell_type": "markdown",
   "id": "6623c23f-c9d6-47ba-b4f0-9c6e777d3d49",
   "metadata": {},
   "source": [
    "### Data dictionary"
   ]
  },
  {
   "cell_type": "code",
   "execution_count": 61,
   "id": "a21fad8b-b633-4122-abcc-6e181ebf4af5",
   "metadata": {
    "jupyter": {
     "source_hidden": true
    }
   },
   "outputs": [
    {
     "data": {
      "application/vnd.jupyter.widget-view+json": {
       "model_id": "2724ba08da6242128508a6bcc24157ae",
       "version_major": 2,
       "version_minor": 0
      },
      "text/plain": [
       "Combobox(value='Yes', description='3.2 Is there a comprehensive data dictionary/codebook that describes what e…"
      ]
     },
     "metadata": {},
     "output_type": "display_data"
    },
    {
     "data": {
      "application/vnd.jupyter.widget-view+json": {
       "model_id": "b7c3cab60b7d4cc7a9fe9a3419650a2c",
       "version_major": 2,
       "version_minor": 0
      },
      "text/plain": [
       "Combobox(value='N/A', description='Is the data dictionary standardized?', layout=Layout(display='none', width=…"
      ]
     },
     "metadata": {},
     "output_type": "display_data"
    },
    {
     "data": {
      "application/vnd.jupyter.widget-view+json": {
       "model_id": "2623f4d4006942c2abd73093fe86b41d",
       "version_major": 2,
       "version_minor": 0
      },
      "text/plain": [
       "Combobox(value='No', description='Is the data dictionary machine-readable?', layout=Layout(display='none', wid…"
      ]
     },
     "metadata": {},
     "output_type": "display_data"
    },
    {
     "data": {
      "application/vnd.jupyter.widget-view+json": {
       "model_id": "9071327752f84a15b321ae27276e0f7f",
       "version_major": 2,
       "version_minor": 0
      },
      "text/plain": [
       "Combobox(value='No', description='Do the parameters follow a defined standard?', layout=Layout(display='none',…"
      ]
     },
     "metadata": {},
     "output_type": "display_data"
    },
    {
     "data": {
      "application/vnd.jupyter.widget-view+json": {
       "model_id": "7819157b723146b19c9b74b1d9b1abfc",
       "version_major": 2,
       "version_minor": 0
      },
      "text/plain": [
       "Text(value='', description='Parameter standards:', layout=Layout(display='none', width='900px'), placeholder='…"
      ]
     },
     "metadata": {},
     "output_type": "display_data"
    },
    {
     "data": {
      "application/vnd.jupyter.widget-view+json": {
       "model_id": "1dd5fe68d0c64ed8b21783d71d35c113",
       "version_major": 2,
       "version_minor": 0
      },
      "text/plain": [
       "Combobox(value='N/A', description='Are parameters crosswalked in an ontology or common vocabulary (e.g. NIEM)?…"
      ]
     },
     "metadata": {},
     "output_type": "display_data"
    }
   ],
   "source": [
    "\n",
    "data_dictionary = widgets.Combobox(\n",
    "            value=checklist['DataDocumentation']['DataDictionaryExists'],\n",
    "            options=['Yes', 'No', 'N/A'],\n",
    "            description='3.2 Is there a comprehensive data dictionary/codebook that describes what each element of the dataset means? parameters?',\n",
    "            placeholder=\"Click to select option\",\n",
    "            layout=widgets.Layout(width=widget_width),\n",
    "            style = description_style\n",
    "            )\n",
    "\n",
    "data_dictionary_standardized = widgets.Combobox(\n",
    "            value=checklist['DataDocumentation']['DataDictionaryStandardised'],\n",
    "            options=['Yes', 'No', 'N/A'],\n",
    "            description='Is the data dictionary standardized?',\n",
    "            placeholder=\"Click to select option\",\n",
    "            layout=widgets.Layout(display=\"none\", width=widget_width),\n",
    "            style = description_style\n",
    "            )\n",
    "\n",
    "data_dictionary_machine_readable = widgets.Combobox(\n",
    "            value=checklist['DataDocumentation']['DataDictionaryMachineReadable'],\n",
    "            options=['Yes', 'No', 'N/A'],\n",
    "            description='Is the data dictionary machine-readable?',\n",
    "            placeholder=\"Click to select option\",\n",
    "            layout=widgets.Layout(display=\"none\", width=widget_width),\n",
    "            style = description_style\n",
    "            )\n",
    "\n",
    "parameters_defined_standard = widgets.Combobox(\n",
    "            value=checklist['DataDocumentation']['DataDictionaryParametersFollowStandard'],\n",
    "            options=['Yes', 'No', 'N/A'],\n",
    "            description='Do the parameters follow a defined standard?',\n",
    "            placeholder=\"Click to select option\",\n",
    "            layout=widgets.Layout(display=\"none\", width=widget_width),\n",
    "            style = description_style\n",
    "            )\n",
    "\n",
    "parameters_defined_standard_detail = widgets.Text(\n",
    "            value=checklist['DataDocumentation']['DataDictionaryStandardName'],\n",
    "            description = 'Parameter standards:',\n",
    "            placeholder='If the parameters follow a defined standard, which standard it is?',\n",
    "            layout=widgets.Layout(display=\"none\", width=widget_width),\n",
    "            style = description_style\n",
    "            )\n",
    "\n",
    "parameters_common_vocabulary = widgets.Combobox(\n",
    "            value=checklist['DataDocumentation']['DataDictionaryParametersCrosswalked'],\n",
    "            options=['Yes', 'No', 'N/A'],\n",
    "            description='Are parameters crosswalked in an ontology or common vocabulary (e.g. NIEM)?',\n",
    "            placeholder=\"Click to select option\",\n",
    "            layout=widgets.Layout(display=\"none\", width=widget_width),\n",
    "            style = description_style\n",
    "            )\n",
    "\n",
    "# Function to change the display setting of the following UI components. \n",
    "def on_click_handler(change):    \n",
    "\n",
    "    # Show / hide main trunk of questions. \n",
    "    if data_dictionary.value == \"Yes\":\n",
    "        data_dictionary_standardized.layout.display = ''\n",
    "        data_dictionary_machine_readable.layout.display = ''\n",
    "        parameters_defined_standard.layout.display = ''\n",
    "        parameters_defined_standard_detail.layout.display = ''\n",
    "        parameters_common_vocabulary.layout.display = ''\n",
    "\n",
    "    else:   \n",
    "        data_dictionary_standardized.layout.display = 'none'\n",
    "        data_dictionary_machine_readable.layout.display = 'none'\n",
    "        parameters_defined_standard.layout.display = 'none'\n",
    "        parameters_defined_standard_detail.layout.display = 'none'\n",
    "        parameters_common_vocabulary.layout.display = 'none'\n",
    "        data_dictionary_standardized.value = 'N/A'\n",
    "        data_dictionary_machine_readable.value = 'N/A'\n",
    "        parameters_defined_standard.value = 'N/A'\n",
    "        parameters_defined_standard_detail.value = ''\n",
    "        parameters_common_vocabulary.value = 'N/A'\n",
    "\n",
    "            \n",
    "# Display the UI components\n",
    "display(data_dictionary, data_dictionary_standardized, data_dictionary_machine_readable, parameters_defined_standard, parameters_defined_standard_detail, parameters_common_vocabulary)\n",
    "\n",
    "# Observe UI components for changes and call the on_click_handler function if value property changed. \n",
    "data_dictionary.observe(on_click_handler, names=\"value\")\n",
    "\n"
   ]
  },
  {
   "cell_type": "markdown",
   "id": "0b169329-5852-44c5-adbb-6d0ce30812cf",
   "metadata": {},
   "source": [
    "### Unique persistent identifier\n",
    "\n",
    "3. Does the dataset have a unique persistent identifier, e.g. DOI? Yes, [supply identifier] / No / Not applicable\n"
   ]
  },
  {
   "cell_type": "code",
   "execution_count": 62,
   "id": "94e5dc20-8289-463d-a273-5c5b7b7c81eb",
   "metadata": {
    "jupyter": {
     "source_hidden": true
    }
   },
   "outputs": [
    {
     "data": {
      "application/vnd.jupyter.widget-view+json": {
       "model_id": "626ada40ff344feea95f4e230b65bd72",
       "version_major": 2,
       "version_minor": 0
      },
      "text/plain": [
       "Combobox(value='Yes', description='3.3 Does the dataset have a unique persistent identifier, e.g. DOI?', layou…"
      ]
     },
     "metadata": {},
     "output_type": "display_data"
    },
    {
     "data": {
      "application/vnd.jupyter.widget-view+json": {
       "model_id": "cc7ec0d793534a85be3deb7202a2940d",
       "version_major": 2,
       "version_minor": 0
      },
      "text/plain": [
       "Text(value='NCEI DSI 3505', description='Identifier', layout=Layout(width='900px'), placeholder='Click to sele…"
      ]
     },
     "metadata": {},
     "output_type": "display_data"
    }
   ],
   "source": [
    "\n",
    "unique_persistent_identifier = widgets.Combobox(\n",
    "    value=checklist['DataDocumentation']['IdentifierExists'],\n",
    "            options=['Yes', 'No', 'N/A'],\n",
    "            description='3.3 Does the dataset have a unique persistent identifier, e.g. DOI?',\n",
    "            placeholder=placeholder,\n",
    "            layout=widgets.Layout(width=widget_width),\n",
    "            style = description_style\n",
    "            )\n",
    "\n",
    "unique_persistent_identifier_link = widgets.Text(\n",
    "            value=checklist['DataDocumentation']['Identifier'],\n",
    "            description = \"Identifier\",\n",
    "            placeholder=placeholder,\n",
    "            layout=widgets.Layout(width=widget_width),\n",
    "            style = description_style\n",
    "            )\n",
    "\n",
    "display(unique_persistent_identifier, unique_persistent_identifier_link)"
   ]
  },
  {
   "cell_type": "markdown",
   "id": "fffa0c8f-cea1-4c94-8e21-93dcaa4f7cf3",
   "metadata": {},
   "source": [
    "### Contact information and feedback"
   ]
  },
  {
   "cell_type": "code",
   "execution_count": 63,
   "id": "d609d2cf-6580-4488-bd39-5a607c42ed02",
   "metadata": {
    "jupyter": {
     "source_hidden": true
    }
   },
   "outputs": [
    {
     "data": {
      "application/vnd.jupyter.widget-view+json": {
       "model_id": "b00864e7777b4421b0cc738e7172c949",
       "version_major": 2,
       "version_minor": 0
      },
      "text/plain": [
       "Combobox(value='Yes', description='3.4 Is there contact information for subject-matter experts?', layout=Layou…"
      ]
     },
     "metadata": {},
     "output_type": "display_data"
    },
    {
     "data": {
      "application/vnd.jupyter.widget-view+json": {
       "model_id": "66a810f49d984b1baec78eab75cf1d42",
       "version_major": 2,
       "version_minor": 0
      },
      "text/plain": [
       "Combobox(value='Yes', description='3.5 Is there a mechanism for user feedback and suggestions?', layout=Layout…"
      ]
     },
     "metadata": {},
     "output_type": "display_data"
    }
   ],
   "source": [
    "\n",
    "contact_info_available = widgets.Combobox(\n",
    "            value=checklist['DataDocumentation']['ContactInformation'],\n",
    "            options=['Yes', 'No', 'N/A'],\n",
    "            description='3.4 Is there contact information for subject-matter experts?',\n",
    "            placeholder=placeholder,\n",
    "            layout=widgets.Layout(width=widget_width),\n",
    "            style = description_style\n",
    "            )\n",
    "\n",
    "feedback_mechanism_available = widgets.Combobox(\n",
    "            value=checklist['DataDocumentation']['UserFeedbackMechanism'],\n",
    "            options=['Yes', 'No', 'N/A'],\n",
    "            description='3.5 Is there a mechanism for user feedback and suggestions?',\n",
    "            placeholder=placeholder,\n",
    "            layout=widgets.Layout(width=widget_width),\n",
    "            style = description_style\n",
    "            )\n",
    "\n",
    "display(contact_info_available, feedback_mechanism_available)\n"
   ]
  },
  {
   "cell_type": "markdown",
   "id": "1ee9173d-e7cb-4959-bc32-ced1247122b9",
   "metadata": {},
   "source": [
    "### Examples codes / notebooks / toolkits\n"
   ]
  },
  {
   "cell_type": "code",
   "execution_count": 64,
   "id": "783c36e6-3f82-4354-b4e1-06dfa99d2485",
   "metadata": {
    "jupyter": {
     "source_hidden": true
    }
   },
   "outputs": [
    {
     "data": {
      "application/vnd.jupyter.widget-view+json": {
       "model_id": "6c04b71cbda840ba9864ced64e6b1c1e",
       "version_major": 2,
       "version_minor": 0
      },
      "text/plain": [
       "Combobox(value='No', description='3.6 Are there example codes / notebooks / toolkits available showing how the…"
      ]
     },
     "metadata": {},
     "output_type": "display_data"
    }
   ],
   "source": [
    "\n",
    "example_code_available = widgets.Combobox(\n",
    "            value=checklist['DataDocumentation']['ExampleCodesAvailable'],\n",
    "            options=['Yes', 'No', 'N/A'],\n",
    "            description='3.6 Are there example codes / notebooks / toolkits available showing how the data can be used?',\n",
    "            placeholder=placeholder,\n",
    "            layout=widgets.Layout(width=widget_width),\n",
    "            style = description_style\n",
    "            )\n",
    "\n",
    "display(example_code_available)"
   ]
  },
  {
   "cell_type": "markdown",
   "id": "b80cff89-1971-426d-8ddc-c130b22d8294",
   "metadata": {},
   "source": [
    "### Licenses"
   ]
  },
  {
   "cell_type": "code",
   "execution_count": 65,
   "id": "c95e3538-de4e-481c-bfed-b541cb46989e",
   "metadata": {
    "jupyter": {
     "source_hidden": true
    }
   },
   "outputs": [
    {
     "data": {
      "application/vnd.jupyter.widget-view+json": {
       "model_id": "946e704c2f8545f2904f08cfb41fc06b",
       "version_major": 2,
       "version_minor": 0
      },
      "text/plain": [
       "Text(value='None / Open', description='3.7 What is the license for the data?', layout=Layout(width='900px'), p…"
      ]
     },
     "metadata": {},
     "output_type": "display_data"
    },
    {
     "data": {
      "application/vnd.jupyter.widget-view+json": {
       "model_id": "bb4f09de82a04668b9cb842c9a4b24a1",
       "version_major": 2,
       "version_minor": 0
      },
      "text/plain": [
       "Combobox(value='', description='Is the license standardized and machine-readable (e.g. Creative Commons)?', la…"
      ]
     },
     "metadata": {},
     "output_type": "display_data"
    }
   ],
   "source": [
    "\n",
    "dataset_licence = widgets.Text(\n",
    "            value=checklist['DataDocumentation']['LicenseType'],\n",
    "            description='3.7 What is the license for the data?',\n",
    "            placeholder=\"Type your answer\",\n",
    "            layout=widgets.Layout(width=widget_width),\n",
    "            style = description_style\n",
    "            )\n",
    "\n",
    "dataset_licence_machine_readable = widgets.Combobox(\n",
    "            value=checklist['DataDocumentation']['LicenceMachineReadable'],\n",
    "            options=['Yes', 'No', 'N/A'],\n",
    "            description='Is the license standardized and machine-readable (e.g. Creative Commons)?',\n",
    "            placeholder=placeholder,\n",
    "            layout=widgets.Layout(width=widget_width),\n",
    "            style = description_style\n",
    "            )\n",
    "\n",
    "display(dataset_licence, dataset_licence_machine_readable)"
   ]
  },
  {
   "cell_type": "markdown",
   "id": "47b25bef-3f4d-4a88-b666-b1abefcbac18",
   "metadata": {},
   "source": [
    "### Dataset useage"
   ]
  },
  {
   "cell_type": "code",
   "execution_count": 66,
   "id": "cde4cc94-5bef-4dbd-93fc-6da650a82848",
   "metadata": {
    "jupyter": {
     "source_hidden": true
    },
    "scrolled": true
   },
   "outputs": [
    {
     "data": {
      "application/vnd.jupyter.widget-view+json": {
       "model_id": "58402b1a7c4f4370aba55a88d6f85165",
       "version_major": 2,
       "version_minor": 0
      },
      "text/plain": [
       "Textarea(value='None reported, but likely. ', description='3.8 Has this dataset already been used in AI or ML …"
      ]
     },
     "metadata": {},
     "output_type": "display_data"
    },
    {
     "data": {
      "application/vnd.jupyter.widget-view+json": {
       "model_id": "fbfa5752c42648c0b82aff2f2dcc4ae9",
       "version_major": 2,
       "version_minor": 0
      },
      "text/plain": [
       "Combobox(value='No', description='3.9 Are there recommendations on the intended use of the data, and uses that…"
      ]
     },
     "metadata": {},
     "output_type": "display_data"
    }
   ],
   "source": [
    "\n",
    "ai_ml_existing_useage_links = widgets.Textarea(\n",
    "            value=checklist['DataDocumentation']['UsedInAIorMLReports'],\n",
    "            description='3.8 Has this dataset already been used in AI or ML activities? Link to publications/reports',\n",
    "            layout=widgets.Layout(width=widget_width),\n",
    "            style = description_style\n",
    "            )\n",
    "\n",
    "usage_recomendations = widgets.Combobox(\n",
    "            value=checklist['DataDocumentation']['UsageRecommendations'],\n",
    "            options=['Yes', 'No', 'N/A'],\n",
    "            description='3.9 Are there recommendations on the intended use of the data, and uses that are not recommended?',\n",
    "            placeholder=placeholder,\n",
    "            layout=widgets.Layout(width=widget_width),\n",
    "            style = description_style\n",
    "            )\n",
    "\n",
    "display(ai_ml_existing_useage_links, usage_recomendations)"
   ]
  },
  {
   "cell_type": "code",
   "execution_count": 67,
   "id": "9588a3dd-2cfb-4a5e-8596-b36e0a73ebbb",
   "metadata": {
    "jupyter": {
     "source_hidden": true
    }
   },
   "outputs": [
    {
     "data": {
      "application/vnd.jupyter.widget-view+json": {
       "model_id": "e09dd0c472c043c0a595f8cba76d7c85",
       "version_major": 2,
       "version_minor": 0
      },
      "text/plain": [
       "Button(button_style='primary', description='Save Data Documentation Answers to json file', layout=Layout(flex=…"
      ]
     },
     "metadata": {},
     "output_type": "display_data"
    }
   ],
   "source": [
    "\n",
    "# Save button\n",
    "save_button = widgets.Button(description=\"Save Data Documentation Answers to json file\",  button_style=\"primary\",  layout=widgets.Layout(flex='1 1 auto', width='auto'))\n",
    "\n",
    "def generate_updates_documentation():\n",
    "\n",
    "    updates = {\n",
    "        \"DataDocumentation\": {\n",
    "            #Metadata\n",
    "            \"MetadataStandard\": metadata_standard.value,\n",
    "            \"MetadataStandardName\": metadata_standard_detail.value,\n",
    "            \"MetadataMachineReadable\": metadata_machine_readable.value,\n",
    "            \"MetadataSpatialTemporalExtent\": metadata_spatial_temporal.value,\n",
    "            \n",
    "            # Data Dictionary\n",
    "            \"DataDictionaryExists\": data_dictionary.value,            \n",
    "            \"DataDictionaryStandardised\" : data_dictionary_standardized.value,\n",
    "            \"DataDictionaryMachineReadable\" : data_dictionary_machine_readable.value,\n",
    "            \"DataDictionaryParametersFollowStandard\" : parameters_defined_standard.value,\n",
    "            \"DataDictionaryStandardName\" : parameters_defined_standard_detail.value,\n",
    "            \"DataDictionaryParametersCrosswalked\" : parameters_common_vocabulary.value,\n",
    "            \n",
    "            # Identifier\n",
    "            \"IdentifierExists\" : unique_persistent_identifier.value,\n",
    "            \"Identifier\" : unique_persistent_identifier_link.value,\n",
    "            \n",
    "            # Contact and feedback\n",
    "            \"ContactInformation\" : contact_info_available.value,\n",
    "            \"UserFeedbackMechanism\" : feedback_mechanism_available.value,\n",
    "\n",
    "            #Misc\n",
    "            \"ExampleCodesAvailable\" : example_code_available.value,\n",
    "            \"LicenseType\" : dataset_licence.value,\n",
    "            \"LicenceMachineReadable\" : dataset_licence_machine_readable.value,\n",
    "            \"UsedInAIorMLReports\" : ai_ml_existing_useage_links.value,\n",
    "            \"UsageRecommendations\" : usage_recomendations.value,\n",
    "        }\n",
    "    }\n",
    "    return updates\n",
    "\n",
    "save_button.on_click(lambda b: update_checklist(b, generate_updates_documentation()))\n",
    "\n",
    "display(save_button)"
   ]
  },
  {
   "cell_type": "markdown",
   "id": "3824aa9e-9d66-4a2e-a1a2-60139f7c30dd",
   "metadata": {},
   "source": [
    "## Finished"
   ]
  },
  {
   "cell_type": "markdown",
   "id": "aa1e3beb-d408-4e47-bbae-0c89aedb2703",
   "metadata": {},
   "source": [
    "1. Make sure you saved your answers to the external json file using the buttons above. \n",
    "2. If you would like to view these saved answers use the button below. \n",
    "3. Move onto the notebook Template_Checklist_Part_4.ipynb covering Data Access"
   ]
  },
  {
   "cell_type": "code",
   "execution_count": 68,
   "id": "d35683fe-7d9f-40fa-81fa-99f926702fd6",
   "metadata": {
    "jupyter": {
     "source_hidden": true
    }
   },
   "outputs": [
    {
     "data": {
      "application/vnd.jupyter.widget-view+json": {
       "model_id": "2ed4636af9424f4084c0e141d0dc5efa",
       "version_major": 2,
       "version_minor": 0
      },
      "text/plain": [
       "Button(button_style='info', description='Print json results', layout=Layout(flex='1 1 auto', width='auto'), st…"
      ]
     },
     "metadata": {},
     "output_type": "display_data"
    },
    {
     "data": {
      "application/vnd.jupyter.widget-view+json": {
       "model_id": "02039356db1041d4a6881acec1bfbe11",
       "version_major": 2,
       "version_minor": 0
      },
      "text/plain": [
       "Output()"
      ]
     },
     "metadata": {},
     "output_type": "display_data"
    }
   ],
   "source": [
    "\n",
    "button_print_json = widgets.Button(description=\"Print json results\",  button_style='info', layout=widgets.Layout(flex='1 1 auto', width='auto'))\n",
    "output = widgets.Output()\n",
    "\n",
    "display(button_print_json, output)\n",
    "\n",
    "def print_json_info(b):\n",
    "    \"\"\"\n",
    "    Loads a copy of the json file to checklist variable. \n",
    "    Then prints the json file contents to Jupyter notebook cell output.\n",
    "\n",
    "    Arguments: b - represents the button calling the function. \n",
    "    \"\"\"\n",
    "    checklist = load_checklist()\n",
    "    with output:\n",
    "        clear_output()\n",
    "        for key, value in checklist.items():\n",
    "            print(f\"{key}:\")\n",
    "            if isinstance(value, dict):\n",
    "                for sub_key, sub_value in value.items():\n",
    "                    print(f\"  {sub_key}: {sub_value}\")\n",
    "            else:\n",
    "                print(f\"  {value}\")\n",
    "\n",
    "button_print_json.on_click(print_json_info)\n"
   ]
  },
  {
   "cell_type": "markdown",
   "id": "c760fc3b-f413-46e4-8a76-31684d83a2d2",
   "metadata": {},
   "source": [
    "---\n",
    "\n",
    "## **Appendix** - Definition of terms used in the checklist."
   ]
  },
  {
   "cell_type": "markdown",
   "id": "7e4e52d2-20ae-497a-8b99-3e219893c35f",
   "metadata": {},
   "source": [
    "### Documentation\n",
    "* **Dataset Metadata**: complete information about the dataset: quality, provenance, location, time period, responsible parties, purpose, etc.\n",
    "* **Data Dictionary/Codebook**: complete information about the individual variables / measures / parameters within a dataset: type, units, null value, etc.\n",
    "* **Identifier**: a code or number that uniquely identifies a dataset\n",
    "* **Ontology**: formalized definitions of concepts within a domain of knowledge, and the nature of the inter-relationships among those concepts"
   ]
  }
 ],
 "metadata": {
  "kernelspec": {
   "display_name": "Python 3 (ipykernel)",
   "language": "python",
   "name": "python3"
  },
  "language_info": {
   "codemirror_mode": {
    "name": "ipython",
    "version": 3
   },
   "file_extension": ".py",
   "mimetype": "text/x-python",
   "name": "python",
   "nbconvert_exporter": "python",
   "pygments_lexer": "ipython3",
   "version": "3.10.16"
  },
  "widgets": {
   "application/vnd.jupyter.widget-state+json": {
    "state": {
     "0015c2cb828343d0872d2a57cffd2717": {
      "model_module": "@jupyter-widgets/controls",
      "model_module_version": "2.0.0",
      "model_name": "ComboboxModel",
      "state": {
       "description": "Is the license standardized and machine-readable (e.g. Creative Commons)?",
       "ensure_option": false,
       "layout": "IPY_MODEL_4b046a0486dd408bb297ddc5b67eb5b2",
       "options": [
        "Yes",
        "No",
        "N/A"
       ],
       "placeholder": "Click to select option",
       "style": "IPY_MODEL_c856d4014c874fdfa6374356944c83d0"
      }
     },
     "019bad6bc7e34c0a98579bb6d01e242f": {
      "model_module": "@jupyter-widgets/controls",
      "model_module_version": "2.0.0",
      "model_name": "ComboboxModel",
      "state": {
       "description": "4.6 Has the data been aggregated to reduce granularity?",
       "ensure_option": false,
       "layout": "IPY_MODEL_b5094e0c336840e8b427319aa9081e0a",
       "options": [
        "Yes",
        "No",
        "N/A"
       ],
       "placeholder": "Click to select option",
       "style": "IPY_MODEL_022a0a3cfceb4e12812a12853989e384",
       "value": "Yes"
      }
     },
     "01a4631735e44ee7ad888bd34f4995f7": {
      "model_module": "@jupyter-widgets/base",
      "model_module_version": "2.0.0",
      "model_name": "LayoutModel",
      "state": {
       "display": "none",
       "width": "900px"
      }
     },
     "01b1f2bdbfb247afa3cee106f26e2aaa": {
      "model_module": "@jupyter-widgets/controls",
      "model_module_version": "2.0.0",
      "model_name": "HBoxModel",
      "state": {
       "children": [
        "IPY_MODEL_398d17b2974b48f68ca99f9e2982d5a7",
        "IPY_MODEL_69fbb6b2e4e6484dbcff3c4febbf18f0",
        "IPY_MODEL_eb0473248ee84eadbc782f0558b96ed7",
        "IPY_MODEL_f91c8c9f85ae4703964eac41efdd0ad9",
        "IPY_MODEL_bca4b2aab5b94514bd507b2234cff503"
       ],
       "layout": "IPY_MODEL_bf52eb7f1e84437a8ee07d4701ae008e"
      }
     },
     "02039356db1041d4a6881acec1bfbe11": {
      "model_module": "@jupyter-widgets/output",
      "model_module_version": "1.0.0",
      "model_name": "OutputModel",
      "state": {
       "layout": "IPY_MODEL_f145d2b82a9d4c658c4e1e28d353fb6c",
       "outputs": [
        {
         "name": "stdout",
         "output_type": "stream",
         "text": "GeneralInformation:\n  DatasetName: NOAA Global Surface Summary of the Day (GSOD)\n  DatasetVersion: 2\n  DatasetLink: https://www.ncei.noaa.gov/metadata/geoportal/rest/metadata/item/gov.noaa.ncdc:C00516/html\n  AssessorName: John Pill\n  AssessorEmailAddress: john.pill@metoffice.gov.uk\n  RawOrDerived: Derived\n  ObservedModeledSyntheticData: Observed\n  DataSource: Aggregated\nDataQuality:\n  WillBeUpdated: Yes\n  WhenNewDataAdded: Daily\n  DifferentStages: Full record\n  DelayBetweenStages: \n  SupersedeCurrentVersion: \n  DocumentationAvailable: Yes\n  LinkToReport: https://www.ncei.noaa.gov/data/global-summary-of-the-day/doc/readme.txt\n  SpatialCoverage: Unknown\n  TemporalCoverage: Partial\n  SelfConsistent: Yes\n  ConsistentWithSimilarData: Yes\n  MonitoringProcessesExist: N/A\n  MonitoringProcessesDetails: \n  KnownBias: Unknown\n  BiasExamined: \n  BiasMeasures: \n  MetrologicalTraceability: \n  BiasReport: \n  ReportedBias: None\n  BiasReportLink: \n  BiasReductionToolsLink: \n  BiasCorrectedDatasetLink: \n  QuantitativeResolutionInfo: No\n  PublishedQualityProcedures: Yes\n  QualityInformationLink: https://www.ncei.noaa.gov/pub/data/inventories/ish-qc.pdf\n  ProvenanceTracked: Yes\n  DataIntegrityChecks: Yes\n  DatasetVolume: Variable\n  DatasetDimensions: 2\n  DatasetNumFiles: 0\n  DatasetNumRows: 0\n  DatasetNumImages: 0\n  DatasetImageSize: \nDataDocumentation:\n  MetadataStandard: Yes\n  MetadataStandardName: ISO 19115-2\n  MetadataMachineReadable: Yes\n  MetadataSpatialTemporalExtent: Yes\n  DataDictionaryExists: Yes\n  DataDictionaryStandardised: N/A\n  DataDictionaryMachineReadable: No\n  DataDictionaryParametersFollowStandard: No\n  DataDictionaryStandardName: \n  DataDictionaryParametersCrosswalked: N/A\n  IdentifierExists: Yes\n  Identifier: NCEI DSI 3505\n  ContactInformation: Yes\n  UserFeedbackMechanism: Yes\n  ExampleCodesAvailable: No\n  LicenseType: None / Open\n  LicenceMachineReadable: \n  UsedInAIorMLReports: None reported, but likely. \n  UsageRecommendations: No\nDataAccess:\n  FileFormats: ['CSV']\n  FileFormatsMachineReadable: Yes\n  OpenFormatAvailable: Yes\n  FormatConversionTools: Yes\n  ConversionToolsLink: https://pandas.pydata.org/ https://www.arcgis.com/home/index.html https://www.qgis.org/\n  AuthenticationRequired: No\n  DirectDownloadAvailable: Yes\n  APIorWebAvailable: Yes\n  APIOpenStandard: Yes\n  APIDocumentation: Yes\n  APIDocumentationLink: https://www.ncei.noaa.gov/support/access-data-service-api-user-documentation\n  SecurityMeasuresTaken: N/A\n  DataAggregated: Yes\n  DataAnonymized: N/A\n  SecureAccessForAuthorizedUsers: N/A\nDataPreparation:\n  NullValuesFilled: No\n  OutliersIdentified: No\n  Gridded: Not gridded\n  TransformedFromOriginal: \n  OriginalSamplingAvailable: \n  SupervisedLearningLabels: No\n  SupervisedLearningLabelStandards: \n"
        }
       ]
      }
     },
     "022a0a3cfceb4e12812a12853989e384": {
      "model_module": "@jupyter-widgets/controls",
      "model_module_version": "2.0.0",
      "model_name": "TextStyleModel",
      "state": {
       "description_width": "initial",
       "font_size": null,
       "text_color": null
      }
     },
     "039d7e04f0644f918c82e18e7656163a": {
      "model_module": "@jupyter-widgets/base",
      "model_module_version": "2.0.0",
      "model_name": "LayoutModel",
      "state": {
       "width": "900px"
      }
     },
     "03aaae0f85834285b156fd3fd57d8645": {
      "model_module": "@jupyter-widgets/controls",
      "model_module_version": "2.0.0",
      "model_name": "ButtonModel",
      "state": {
       "button_style": "info",
       "description": "Print json results",
       "layout": "IPY_MODEL_664d5441102e48149e87db07c76d1e87",
       "style": "IPY_MODEL_7d0eae024f874a3491c1e435755503d8",
       "tooltip": null
      }
     },
     "0428b1763e1f48e193bcea73c9e7c965": {
      "model_module": "@jupyter-widgets/base",
      "model_module_version": "2.0.0",
      "model_name": "LayoutModel",
      "state": {
       "width": "900px"
      }
     },
     "044f5aba21874743a6e1d98a4ddc3292": {
      "model_module": "@jupyter-widgets/base",
      "model_module_version": "2.0.0",
      "model_name": "LayoutModel",
      "state": {
       "width": "900px"
      }
     },
     "04b67bbc370e4154a11f83567bcde82e": {
      "model_module": "@jupyter-widgets/controls",
      "model_module_version": "2.0.0",
      "model_name": "TextModel",
      "state": {
       "description": "Metadata standard:",
       "layout": "IPY_MODEL_e666dc88ea554029b2b16806a9ada5d2",
       "placeholder": "Which standard is it? (CF, TBD, etc.)",
       "style": "IPY_MODEL_9f2c5e4d328749fa93ed314fc2d2ba2b",
       "value": "ISO 19115-2"
      }
     },
     "052721f96e01480c9825ce9afec3cfd4": {
      "model_module": "@jupyter-widgets/base",
      "model_module_version": "2.0.0",
      "model_name": "LayoutModel",
      "state": {
       "width": "900px"
      }
     },
     "05370e4f3cd34e328b0fc2f0c709aef8": {
      "model_module": "@jupyter-widgets/controls",
      "model_module_version": "2.0.0",
      "model_name": "TextStyleModel",
      "state": {
       "description_width": "initial",
       "font_size": null,
       "text_color": null
      }
     },
     "059de6652c75417c9900e8b4c8e67b0d": {
      "model_module": "@jupyter-widgets/base",
      "model_module_version": "2.0.0",
      "model_name": "LayoutModel",
      "state": {
       "display": "none",
       "width": "900px"
      }
     },
     "064c8cf20702488482bb33202199ae37": {
      "model_module": "@jupyter-widgets/controls",
      "model_module_version": "2.0.0",
      "model_name": "TextStyleModel",
      "state": {
       "description_width": "initial",
       "font_size": null,
       "text_color": null
      }
     },
     "079fcdd00197418b9b659bae8a1cee82": {
      "model_module": "@jupyter-widgets/output",
      "model_module_version": "1.0.0",
      "model_name": "OutputModel",
      "state": {
       "layout": "IPY_MODEL_ca548b7497cd47738c461838a6bdc4d1",
       "outputs": [
        {
         "name": "stdout",
         "output_type": "stream",
         "text": "GeneralInformation:\n  DatasetName: NOAA Global Surface Summary of the Day (GSOD)\n  DatasetVersion: 2\n  DatasetLink: https://www.ncei.noaa.gov/metadata/geoportal/rest/metadata/item/gov.noaa.ncdc:C00516/html\n  AssessorName: John Pill\n  AssessorEmailAddress: john.pill@metoffice.gov.uk\n  RawOrDerived: Derived\n  ObservedModeledSyntheticData: Observed\n  DataSource: Aggregated\nDataQuality:\n  WillBeUpdated: Yes\n  WhenNewDataAdded: Daily\n  DifferentStages: Full record\n  DelayBetweenStages: \n  SupersedeCurrentVersion: \n  DocumentationAvailable: Yes\n  LinkToReport: https://www.ncei.noaa.gov/data/global-summary-of-the-day/doc/readme.txt\n  SpatialCoverage: Unknown\n  TemporalCoverage: Partial\n  SelfConsistent: Yes\n  ConsistentWithSimilarData: Yes\n  MonitoringProcessesExist: N/A\n  MonitoringProcessesDetails: \n  KnownBias: Unknown\n  BiasExamined: \n  BiasMeasures: \n  MetrologicalTraceability: \n  BiasReport: \n  ReportedBias: None\n  BiasReportLink: \n  BiasReductionToolsLink: \n  BiasCorrectedDatasetLink: \n  QuantitativeResolutionInfo: No\n  PublishedQualityProcedures: Yes\n  QualityInformationLink: https://www.ncei.noaa.gov/pub/data/inventories/ish-qc.pdf\n  ProvenanceTracked: Yes\n  DataIntegrityChecks: Yes\n  DatasetVolume: Variable\n  DatasetDimensions: 2\n  DatasetNumFiles: 0\n  DatasetNumRows: 0\n  DatasetNumImages: 0\n  DatasetImageSize: \nDataDocumentation:\n  MetadataStandard: Yes\n  MetadataStandardName: ISO 19115-2\n  MetadataMachineReadable: Yes\n  MetadataSpatialTemporalExtent: Yes\n  DataDictionaryExists: Yes\n  DataDictionaryStandardised: N/A\n  DataDictionaryMachineReadable: No\n  DataDictionaryParametersFollowStandard: No\n  DataDictionaryStandardName: \n  DataDictionaryParametersCrosswalked: N/A\n  IdentifierExists: Yes\n  Identifier: NCEI DSI 3505\n  ContactInformation: Yes\n  UserFeedbackMechanism: Yes\n  ExampleCodesAvailable: No\n  LicenseType: None / Open\n  LicenceMachineReadable: \n  UsedInAIorMLReports: None reported, but likely. \n  UsageRecommendations: No\nDataAccess:\n  FileFormats: ['CSV']\n  FileFormatsMachineReadable: Yes\n  OpenFormatAvailable: Yes\n  FormatConversionTools: Yes\n  ConversionToolsLink: https://pandas.pydata.org/ https://www.arcgis.com/home/index.html https://www.qgis.org/\n  AuthenticationRequired: No\n  DirectDownloadAvailable: Yes\n  APIorWebAvailable: Yes\n  APIOpenStandard: Yes\n  APIDocumentation: Yes\n  APIDocumentationLink: https://www.ncei.noaa.gov/support/access-data-service-api-user-documentation\n  SecurityMeasuresTaken: N/A\n  DataAggregated: Yes\n  DataAnonymized: N/A\n  SecureAccessForAuthorizedUsers: N/A\nDataPreparation:\n  NullValuesFilled: No\n  OutliersIdentified: No\n  Gridded: Not gridded\n  TransformedFromOriginal: \n  OriginalSamplingAvailable: \n  SupervisedLearningLabels: No\n  SupervisedLearningLabelStandards: \n"
        }
       ]
      }
     },
     "07b4d6d8b1034b19b7f61bd7c71c9811": {
      "model_module": "@jupyter-widgets/controls",
      "model_module_version": "2.0.0",
      "model_name": "LabelStyleModel",
      "state": {
       "description_width": "",
       "font_family": null,
       "font_size": null,
       "font_style": null,
       "font_variant": null,
       "font_weight": null,
       "text_color": null,
       "text_decoration": null
      }
     },
     "07c7713dcfe1498c9cea54a053000ca3": {
      "model_module": "@jupyter-widgets/base",
      "model_module_version": "2.0.0",
      "model_name": "LayoutModel",
      "state": {
       "width": "900px"
      }
     },
     "07ff538e73a74cd886907f4afbfd0751": {
      "model_module": "@jupyter-widgets/controls",
      "model_module_version": "2.0.0",
      "model_name": "TextModel",
      "state": {
       "layout": "IPY_MODEL_a8d65b39083a4ff8b51f10627294816c",
       "placeholder": "(optional) Link to the report/document on the bias",
       "style": "IPY_MODEL_ecaa8fa9365c4e9d89d999ad5544a585"
      }
     },
     "080b7e7d466f4568a4f5b51cbfcdb5e4": {
      "model_module": "@jupyter-widgets/controls",
      "model_module_version": "2.0.0",
      "model_name": "ComboboxModel",
      "state": {
       "description": "Do the parameters follow a defined standard?",
       "ensure_option": false,
       "layout": "IPY_MODEL_3b7d0f25cd064f15966a5859c8845e28",
       "options": [
        "Yes",
        "No",
        "N/A"
       ],
       "placeholder": "Click to select option",
       "style": "IPY_MODEL_4ffdfad138e44adba3c1ac3c42a10a0f"
      }
     },
     "081bfff594754d4195c4671f6122affa": {
      "model_module": "@jupyter-widgets/controls",
      "model_module_version": "2.0.0",
      "model_name": "TextStyleModel",
      "state": {
       "description_width": "initial",
       "font_size": null,
       "text_color": null
      }
     },
     "09b784a089204ab6846ff11eba36f95c": {
      "model_module": "@jupyter-widgets/base",
      "model_module_version": "2.0.0",
      "model_name": "LayoutModel",
      "state": {
       "display": "",
       "width": "900px"
      }
     },
     "09f16b2aa30441c19a2cf23fbd833301": {
      "model_module": "@jupyter-widgets/controls",
      "model_module_version": "2.0.0",
      "model_name": "TextModel",
      "state": {
       "layout": "IPY_MODEL_baf11ec6fded430e9e0f825d8051fb7e",
       "placeholder": "If “Yes”, please provide a URL to the documentation.",
       "style": "IPY_MODEL_634f9298781e4527ae3136d59c8b1c9f",
       "value": "https://www.ncei.noaa.gov/support/access-data-service-api-user-documentation"
      }
     },
     "0a862a65e2964170b222b63b2f820148": {
      "model_module": "@jupyter-widgets/controls",
      "model_module_version": "2.0.0",
      "model_name": "ComboboxModel",
      "state": {
       "description": "5.4 Are there associated targets or labels for supervised learning techniques?",
       "ensure_option": false,
       "layout": "IPY_MODEL_388f040f4dec49179a71ec824d8b7d65",
       "options": [
        "Yes",
        "No",
        "N/A"
       ],
       "placeholder": "Click to select option - (Can this be used as a training dataset)?",
       "style": "IPY_MODEL_e8ee1928d61d461a8a3790fc3b3e7794"
      }
     },
     "0be169d66b304d4b9985a24b3a34fc51": {
      "model_module": "@jupyter-widgets/controls",
      "model_module_version": "2.0.0",
      "model_name": "TextStyleModel",
      "state": {
       "description_width": "initial",
       "font_size": null,
       "text_color": null
      }
     },
     "0c121d484df4454abc268987cdcce85f": {
      "model_module": "@jupyter-widgets/controls",
      "model_module_version": "2.0.0",
      "model_name": "LabelModel",
      "state": {
       "layout": "IPY_MODEL_5b818b2ac4f541e9858c1c4e8341f7e5",
       "style": "IPY_MODEL_9949ea0e74584105a3a19cda9b321ea3",
       "value": "Number of data table rows:"
      }
     },
     "0c1a4ebf0e4a4c8fb8b4aac78e9de2e2": {
      "model_module": "@jupyter-widgets/controls",
      "model_module_version": "2.0.0",
      "model_name": "TextModel",
      "state": {
       "layout": "IPY_MODEL_059de6652c75417c9900e8b4c8e67b0d",
       "placeholder": "(optional) Link to tools available to reduce bias",
       "style": "IPY_MODEL_b65d61f0a0cf4c3594f8328767f90f2f"
      }
     },
     "0c5f2b8c14014738b4c29c597e57e343": {
      "model_module": "@jupyter-widgets/controls",
      "model_module_version": "2.0.0",
      "model_name": "ComboboxModel",
      "state": {
       "description": "2.4 How complete is the dataset compared to the expected temporal coverage?",
       "ensure_option": false,
       "layout": "IPY_MODEL_756c3d387fdf4d199964a25fa4404d98",
       "options": [
        "Complete",
        "Partial",
        "Unknown",
        "N/A"
       ],
       "placeholder": "Click to select option",
       "style": "IPY_MODEL_36e6306fc6354b878e576439507daf2f",
       "value": "Partial"
      }
     },
     "0cec5d4f77874a9090af2855e0ed7744": {
      "model_module": "@jupyter-widgets/controls",
      "model_module_version": "2.0.0",
      "model_name": "ComboboxModel",
      "state": {
       "description": "4.5 For restricted data, have measures been taken to provide some access while still applying appropriate protection for privacy and security?",
       "ensure_option": false,
       "layout": "IPY_MODEL_8669e147f2094ff89dd0cfdf527998d3",
       "options": [
        "Yes",
        "No",
        "N/A"
       ],
       "placeholder": "Click to select option",
       "style": "IPY_MODEL_3d475ad8916d4e4ca71a4b36f30bd0e7"
      }
     },
     "0dabfcfa698f463280d80336059b608a": {
      "model_module": "@jupyter-widgets/controls",
      "model_module_version": "2.0.0",
      "model_name": "TextStyleModel",
      "state": {
       "description_width": "initial",
       "font_size": null,
       "text_color": null
      }
     },
     "0ddae5052b9a4acb8b4e1243cc1bdcfb": {
      "model_module": "@jupyter-widgets/controls",
      "model_module_version": "2.0.0",
      "model_name": "ComboboxModel",
      "state": {
       "description": "2.10 Are there published data quality procedures or reports?",
       "ensure_option": false,
       "layout": "IPY_MODEL_acf6ffb4328747cea66d521864b53ced",
       "options": [
        "Yes",
        "No",
        "N/A"
       ],
       "placeholder": "Click to select option",
       "style": "IPY_MODEL_c173262118ca41cbaa645c7a40f7cf44",
       "value": "Yes"
      }
     },
     "100a3c6cf7964dd0ab854fbf74d5e1ab": {
      "model_module": "@jupyter-widgets/base",
      "model_module_version": "2.0.0",
      "model_name": "LayoutModel",
      "state": {
       "display": "",
       "width": "900px"
      }
     },
     "103a94b90a39407fa7c1ae574aadb110": {
      "model_module": "@jupyter-widgets/controls",
      "model_module_version": "2.0.0",
      "model_name": "TextStyleModel",
      "state": {
       "description_width": "initial",
       "font_size": null,
       "text_color": null
      }
     },
     "10e3c9cf408648de8662abea9a2b1612": {
      "model_module": "@jupyter-widgets/controls",
      "model_module_version": "2.0.0",
      "model_name": "TextStyleModel",
      "state": {
       "description_width": "initial",
       "font_size": null,
       "text_color": null
      }
     },
     "113f91c74d4140ae8f4c6b1ae726ab76": {
      "model_module": "@jupyter-widgets/base",
      "model_module_version": "2.0.0",
      "model_name": "LayoutModel",
      "state": {
       "width": "900px"
      }
     },
     "11d4e1eea6be47eeb9c1544a1af6d186": {
      "model_module": "@jupyter-widgets/controls",
      "model_module_version": "2.0.0",
      "model_name": "TextStyleModel",
      "state": {
       "description_width": "initial",
       "font_size": null,
       "text_color": null
      }
     },
     "11e477f9298c4c368b5edbd483b9d14c": {
      "model_module": "@jupyter-widgets/base",
      "model_module_version": "2.0.0",
      "model_name": "LayoutModel",
      "state": {
       "display": "none",
       "width": "900px"
      }
     },
     "137002a5b1074a96819e7602649355bc": {
      "model_module": "@jupyter-widgets/controls",
      "model_module_version": "2.0.0",
      "model_name": "LabelStyleModel",
      "state": {
       "description_width": "",
       "font_family": null,
       "font_size": null,
       "font_style": null,
       "font_variant": null,
       "font_weight": null,
       "text_color": null,
       "text_decoration": null
      }
     },
     "137c9bf97e734b99bfe097970caae567": {
      "model_module": "@jupyter-widgets/base",
      "model_module_version": "2.0.0",
      "model_name": "LayoutModel",
      "state": {
       "flex": "1 1 auto",
       "width": "auto"
      }
     },
     "13c26c78d2134643a4147fb1f8cbb8e3": {
      "model_module": "@jupyter-widgets/base",
      "model_module_version": "2.0.0",
      "model_name": "LayoutModel",
      "state": {
       "width": "900px"
      }
     },
     "140ed17b545d42fcb827f81c78b69a86": {
      "model_module": "@jupyter-widgets/controls",
      "model_module_version": "2.0.0",
      "model_name": "TextStyleModel",
      "state": {
       "description_width": "initial",
       "font_size": null,
       "text_color": null
      }
     },
     "149bd06080ca4ddb84ffa048d4cc8d04": {
      "model_module": "@jupyter-widgets/controls",
      "model_module_version": "2.0.0",
      "model_name": "TextStyleModel",
      "state": {
       "description_width": "initial",
       "font_size": null,
       "text_color": null
      }
     },
     "14ff55bc2de94d7e889fb76100e1c6bf": {
      "model_module": "@jupyter-widgets/base",
      "model_module_version": "2.0.0",
      "model_name": "LayoutModel",
      "state": {
       "width": "900px"
      }
     },
     "150ef5e95a7349f6a45144412dddf256": {
      "model_module": "@jupyter-widgets/controls",
      "model_module_version": "2.0.0",
      "model_name": "ButtonStyleModel",
      "state": {
       "font_family": null,
       "font_size": null,
       "font_style": null,
       "font_variant": null,
       "font_weight": null,
       "text_color": null,
       "text_decoration": null
      }
     },
     "1516b863696f495aa904d27dd6e7803a": {
      "model_module": "@jupyter-widgets/controls",
      "model_module_version": "2.0.0",
      "model_name": "TextStyleModel",
      "state": {
       "description_width": "",
       "font_size": null,
       "text_color": null
      }
     },
     "152df2807d4046ac8f13e0466e1f82dc": {
      "model_module": "@jupyter-widgets/base",
      "model_module_version": "2.0.0",
      "model_name": "LayoutModel",
      "state": {
       "width": "900px"
      }
     },
     "1640aeb28ed142eba450fea2b9564405": {
      "model_module": "@jupyter-widgets/base",
      "model_module_version": "2.0.0",
      "model_name": "LayoutModel",
      "state": {
       "width": "900px"
      }
     },
     "16506ffa700349808970c2b6d92776ac": {
      "model_module": "@jupyter-widgets/controls",
      "model_module_version": "2.0.0",
      "model_name": "ComboboxModel",
      "state": {
       "description": "If the data is resampled from the original sampling, is the data also available at the original sampling?",
       "ensure_option": false,
       "layout": "IPY_MODEL_d2d41db7320f46f59ca3399702d665ad",
       "options": [
        "Yes",
        "No",
        "Only by request",
        "N/A"
       ],
       "placeholder": "Click to select option",
       "style": "IPY_MODEL_36d6c4fc34334e79b8255eb0aa9857ad"
      }
     },
     "1699b187958e4b07917ba6a7bedb383a": {
      "model_module": "@jupyter-widgets/controls",
      "model_module_version": "2.0.0",
      "model_name": "ComboboxModel",
      "state": {
       "description": "4.3 Can the file be accessed via direct file downloading or ordering?",
       "ensure_option": false,
       "layout": "IPY_MODEL_26e066f24b5e421f89169cd9f71e37a4",
       "options": [
        "Yes",
        "No",
        "N/A"
       ],
       "placeholder": "Click to select option",
       "style": "IPY_MODEL_064c8cf20702488482bb33202199ae37"
      }
     },
     "17867b97dc8d42f3a8a286d22e936b80": {
      "model_module": "@jupyter-widgets/base",
      "model_module_version": "2.0.0",
      "model_name": "LayoutModel",
      "state": {
       "width": "900px"
      }
     },
     "1850cbce819f4e88b645c8083dccacba": {
      "model_module": "@jupyter-widgets/controls",
      "model_module_version": "2.0.0",
      "model_name": "LabelModel",
      "state": {
       "layout": "IPY_MODEL_d52101a217904ff58d6a6783dd48b337",
       "style": "IPY_MODEL_4a68e246475a468ab9a9edfd48c2dc16",
       "value": "Number of data files:"
      }
     },
     "1883a85384714437bf5c67ef7e46f38e": {
      "model_module": "@jupyter-widgets/controls",
      "model_module_version": "2.0.0",
      "model_name": "ComboboxModel",
      "state": {
       "description": "3.5 Is there a mechanism for user feedback and suggestions?",
       "ensure_option": false,
       "layout": "IPY_MODEL_bc65dc2bde684921b5dde6105a56f636",
       "options": [
        "Yes",
        "No",
        "N/A"
       ],
       "placeholder": "Click to select option",
       "style": "IPY_MODEL_7f5b909485d342c3a59a4806734f7f8f",
       "value": "Yes"
      }
     },
     "18939c4f8566491c9ac6d9dc80fa9c1b": {
      "model_module": "@jupyter-widgets/base",
      "model_module_version": "2.0.0",
      "model_name": "LayoutModel",
      "state": {
       "width": "900px"
      }
     },
     "18be125cfee548ec99e0591756f3b7d3": {
      "model_module": "@jupyter-widgets/controls",
      "model_module_version": "2.0.0",
      "model_name": "TextStyleModel",
      "state": {
       "description_width": "initial",
       "font_size": null,
       "text_color": null
      }
     },
     "19063074e5ea48a69c81b1126387e289": {
      "model_module": "@jupyter-widgets/controls",
      "model_module_version": "2.0.0",
      "model_name": "ButtonModel",
      "state": {
       "button_style": "primary",
       "description": "Save Data Documentation Answers to json file",
       "layout": "IPY_MODEL_ae60d4d1dbb14e5ea69a1b802f081199",
       "style": "IPY_MODEL_c0654ced05ac4ac39adb4b5048e11b5a",
       "tooltip": null
      }
     },
     "19069088b5ba4d56bb36c9a924cbd6cf": {
      "model_module": "@jupyter-widgets/base",
      "model_module_version": "2.0.0",
      "model_name": "LayoutModel",
      "state": {
       "width": "900px"
      }
     },
     "19d392ef7b78434ca9f4ad59102588aa": {
      "model_module": "@jupyter-widgets/controls",
      "model_module_version": "2.0.0",
      "model_name": "TextStyleModel",
      "state": {
       "description_width": "initial",
       "font_size": null,
       "text_color": null
      }
     },
     "1a3229301ca44c3fb38642512f6eb18d": {
      "model_module": "@jupyter-widgets/base",
      "model_module_version": "2.0.0",
      "model_name": "LayoutModel",
      "state": {
       "flex": "1 1 auto",
       "width": "auto"
      }
     },
     "1a9bd2a05e0c4d5d8c161f784d99b6df": {
      "model_module": "@jupyter-widgets/controls",
      "model_module_version": "2.0.0",
      "model_name": "ButtonModel",
      "state": {
       "button_style": "primary",
       "description": "Save General Information Answers to json file",
       "layout": "IPY_MODEL_137c9bf97e734b99bfe097970caae567",
       "style": "IPY_MODEL_72214174863544c29db9ad721210df67",
       "tooltip": null
      }
     },
     "1bbe902069764e5a85c219d77630498d": {
      "model_module": "@jupyter-widgets/base",
      "model_module_version": "2.0.0",
      "model_name": "LayoutModel",
      "state": {
       "width": "900px"
      }
     },
     "1c2b557415dc4d06a945439911659a05": {
      "model_module": "@jupyter-widgets/controls",
      "model_module_version": "2.0.0",
      "model_name": "ComboboxModel",
      "state": {
       "description": "3.4 Is there contact information for subject-matter experts?",
       "ensure_option": false,
       "layout": "IPY_MODEL_df72c18b18a445f9b22f44da87b88915",
       "options": [
        "Yes",
        "No",
        "N/A"
       ],
       "placeholder": "Click to select option",
       "style": "IPY_MODEL_18be125cfee548ec99e0591756f3b7d3",
       "value": "Yes"
      }
     },
     "1c34e6d6ca3944caa176b135005f832e": {
      "model_module": "@jupyter-widgets/controls",
      "model_module_version": "2.0.0",
      "model_name": "TextModel",
      "state": {
       "description": "Tools / services link:",
       "layout": "IPY_MODEL_19069088b5ba4d56bb36c9a924cbd6cf",
       "placeholder": "If yes, provide the link to the tools/services",
       "style": "IPY_MODEL_d612596c6a9b44cab68fc3721bb15736",
       "value": "https://pandas.pydata.org/ https://www.arcgis.com/home/index.html https://www.qgis.org/"
      }
     },
     "1c556645b80347b1b9f5ee5d6255d89a": {
      "model_module": "@jupyter-widgets/controls",
      "model_module_version": "2.0.0",
      "model_name": "TextStyleModel",
      "state": {
       "description_width": "initial",
       "font_size": null,
       "text_color": null
      }
     },
     "1dd5fe68d0c64ed8b21783d71d35c113": {
      "model_module": "@jupyter-widgets/controls",
      "model_module_version": "2.0.0",
      "model_name": "ComboboxModel",
      "state": {
       "description": "Are parameters crosswalked in an ontology or common vocabulary (e.g. NIEM)?",
       "ensure_option": false,
       "layout": "IPY_MODEL_ffa5269197044df38af3bdb71b6fd886",
       "options": [
        "Yes",
        "No",
        "N/A"
       ],
       "placeholder": "Click to select option",
       "style": "IPY_MODEL_5913741bbd6d40589d64786b9f76f33d",
       "value": "N/A"
      }
     },
     "1e164b4c3cd542f88252a7ef0b4b8b1d": {
      "model_module": "@jupyter-widgets/base",
      "model_module_version": "2.0.0",
      "model_name": "LayoutModel",
      "state": {}
     },
     "1e2b13142fb843699de47ea1d19c3c33": {
      "model_module": "@jupyter-widgets/controls",
      "model_module_version": "2.0.0",
      "model_name": "TextStyleModel",
      "state": {
       "description_width": "initial",
       "font_size": null,
       "text_color": null
      }
     },
     "1f74204b0f894e2ba14bc4396e7b99f4": {
      "model_module": "@jupyter-widgets/controls",
      "model_module_version": "2.0.0",
      "model_name": "ComboboxModel",
      "state": {
       "description": "2.5 Is this dataset self-consistent in that its units, data types, and parameter names do not change over time and space?",
       "ensure_option": false,
       "layout": "IPY_MODEL_eb3bfee398214354aa65fa0e7a134f8a",
       "options": [
        "Yes",
        "No",
        "N/A"
       ],
       "placeholder": "Click to select option",
       "style": "IPY_MODEL_a2b3dd55d8d34bf883a3676854eaab21",
       "value": "Yes"
      }
     },
     "1fe8faf5e36f4d169f850aaba6f764fa": {
      "model_module": "@jupyter-widgets/controls",
      "model_module_version": "2.0.0",
      "model_name": "ButtonStyleModel",
      "state": {
       "font_family": null,
       "font_size": null,
       "font_style": null,
       "font_variant": null,
       "font_weight": null,
       "text_color": null,
       "text_decoration": null
      }
     },
     "2076a40b8c014134b562f0e0c61181e4": {
      "model_module": "@jupyter-widgets/base",
      "model_module_version": "2.0.0",
      "model_name": "LayoutModel",
      "state": {
       "width": "900px"
      }
     },
     "20a7e6db37374cc49777ac87ddcc4edd": {
      "model_module": "@jupyter-widgets/controls",
      "model_module_version": "2.0.0",
      "model_name": "TextStyleModel",
      "state": {
       "description_width": "initial",
       "font_size": null,
       "text_color": null
      }
     },
     "20abbf538afa4b4589dfea505171d6ef": {
      "model_module": "@jupyter-widgets/controls",
      "model_module_version": "2.0.0",
      "model_name": "TextStyleModel",
      "state": {
       "description_width": "initial",
       "font_size": null,
       "text_color": null
      }
     },
     "20c94c97ceba41cf87de2d01b1588b1f": {
      "model_module": "@jupyter-widgets/controls",
      "model_module_version": "2.0.0",
      "model_name": "TextStyleModel",
      "state": {
       "description_width": "initial",
       "font_size": null,
       "text_color": null
      }
     },
     "21107576fcd443cfbd8893d35eda2587": {
      "model_module": "@jupyter-widgets/controls",
      "model_module_version": "2.0.0",
      "model_name": "TextStyleModel",
      "state": {
       "description_width": "initial",
       "font_size": null,
       "text_color": null
      }
     },
     "21641fc411b949c289090f8d0d985270": {
      "model_module": "@jupyter-widgets/controls",
      "model_module_version": "2.0.0",
      "model_name": "TextStyleModel",
      "state": {
       "description_width": "",
       "font_size": null,
       "text_color": null
      }
     },
     "21c93ef5a5c94f50897fd2f5f15f97cd": {
      "model_module": "@jupyter-widgets/controls",
      "model_module_version": "2.0.0",
      "model_name": "TextStyleModel",
      "state": {
       "description_width": "initial",
       "font_size": null,
       "text_color": null
      }
     },
     "228534cdb92e426eab55d7b54b2c4a4b": {
      "model_module": "@jupyter-widgets/base",
      "model_module_version": "2.0.0",
      "model_name": "LayoutModel",
      "state": {
       "width": "900px"
      }
     },
     "22abb0e833554c4b9373df5e7d10166c": {
      "model_module": "@jupyter-widgets/controls",
      "model_module_version": "2.0.0",
      "model_name": "LabelModel",
      "state": {
       "layout": "IPY_MODEL_f39aabe021414dd1a8adb936acf5301d",
       "style": "IPY_MODEL_9888491c5f5d4ab083c16df668251148",
       "value": "4.1 What is/are the major file formats? (Use shift / Ctrl / CMD to select multiple)"
      }
     },
     "22b7ae48d0d741c9ab97cf5bac9f28a4": {
      "model_module": "@jupyter-widgets/controls",
      "model_module_version": "2.0.0",
      "model_name": "TextModel",
      "state": {
       "description": "Identifier",
       "layout": "IPY_MODEL_113f91c74d4140ae8f4c6b1ae726ab76",
       "placeholder": "Click to select option",
       "style": "IPY_MODEL_8bad79fa05774b5988f4e8a5b605df6c",
       "value": "NCEI DSI 3505"
      }
     },
     "2623f4d4006942c2abd73093fe86b41d": {
      "model_module": "@jupyter-widgets/controls",
      "model_module_version": "2.0.0",
      "model_name": "ComboboxModel",
      "state": {
       "description": "Is the data dictionary machine-readable?",
       "ensure_option": false,
       "layout": "IPY_MODEL_c3e2341b0b2a40928309921e0b43aeed",
       "options": [
        "Yes",
        "No",
        "N/A"
       ],
       "placeholder": "Click to select option",
       "style": "IPY_MODEL_be4d18fd59f149afae4731170de2c1ab",
       "value": "No"
      }
     },
     "26c1f6338aa041bca661cef8eee20ccc": {
      "model_module": "@jupyter-widgets/base",
      "model_module_version": "2.0.0",
      "model_name": "LayoutModel",
      "state": {
       "width": "900px"
      }
     },
     "26e066f24b5e421f89169cd9f71e37a4": {
      "model_module": "@jupyter-widgets/base",
      "model_module_version": "2.0.0",
      "model_name": "LayoutModel",
      "state": {
       "width": "900px"
      }
     },
     "2724ba08da6242128508a6bcc24157ae": {
      "model_module": "@jupyter-widgets/controls",
      "model_module_version": "2.0.0",
      "model_name": "ComboboxModel",
      "state": {
       "description": "3.2 Is there a comprehensive data dictionary/codebook that describes what each element of the dataset means? parameters?",
       "ensure_option": false,
       "layout": "IPY_MODEL_34184d5ad1e54f12825de2d8b4eca53d",
       "options": [
        "Yes",
        "No",
        "N/A"
       ],
       "placeholder": "Click to select option",
       "style": "IPY_MODEL_20c94c97ceba41cf87de2d01b1588b1f",
       "value": "Yes"
      }
     },
     "27dcc08f2e43432f9c67395a42a7237e": {
      "model_module": "@jupyter-widgets/base",
      "model_module_version": "2.0.0",
      "model_name": "LayoutModel",
      "state": {}
     },
     "28017e7cd3194057a95ff082e61b7f85": {
      "model_module": "@jupyter-widgets/controls",
      "model_module_version": "2.0.0",
      "model_name": "TextStyleModel",
      "state": {
       "description_width": "initial",
       "font_size": null,
       "text_color": null
      }
     },
     "281e86b64ad94581810f106ef08a7dfb": {
      "model_module": "@jupyter-widgets/controls",
      "model_module_version": "2.0.0",
      "model_name": "ButtonStyleModel",
      "state": {
       "font_family": null,
       "font_size": null,
       "font_style": null,
       "font_variant": null,
       "font_weight": null,
       "text_color": null,
       "text_decoration": null
      }
     },
     "28bae4c6864a4b13b8ff9f697b0a993b": {
      "model_module": "@jupyter-widgets/base",
      "model_module_version": "2.0.0",
      "model_name": "LayoutModel",
      "state": {
       "width": "900px"
      }
     },
     "29c9a218a2c240368e09db018a2caa24": {
      "model_module": "@jupyter-widgets/controls",
      "model_module_version": "2.0.0",
      "model_name": "TextStyleModel",
      "state": {
       "description_width": "initial",
       "font_size": null,
       "text_color": null
      }
     },
     "2a009f5ba2844c67b9aef7d1591a0908": {
      "model_module": "@jupyter-widgets/base",
      "model_module_version": "2.0.0",
      "model_name": "LayoutModel",
      "state": {
       "display": "none",
       "width": "900px"
      }
     },
     "2a164b9d1d424b1aa34747131fb0a44c": {
      "model_module": "@jupyter-widgets/controls",
      "model_module_version": "2.0.0",
      "model_name": "TextStyleModel",
      "state": {
       "description_width": "initial",
       "font_size": null,
       "text_color": null
      }
     },
     "2aec850a166a46e4a52fe90f80468edc": {
      "model_module": "@jupyter-widgets/controls",
      "model_module_version": "2.0.0",
      "model_name": "LabelModel",
      "state": {
       "layout": "IPY_MODEL_f979212d55874e90b74947bf7efc7a2d",
       "style": "IPY_MODEL_85811b29776b4118b65b7d089379febe",
       "value": "4.1 What is/are the major file formats? (Use shift / Ctrl / CMD to select multiple)"
      }
     },
     "2c9232ff5a5849bc8845219eab9f6f15": {
      "model_module": "@jupyter-widgets/base",
      "model_module_version": "2.0.0",
      "model_name": "LayoutModel",
      "state": {
       "display": "none",
       "width": "900px"
      }
     },
     "2d481fba758b46e6a10d976bd6e8b215": {
      "model_module": "@jupyter-widgets/controls",
      "model_module_version": "2.0.0",
      "model_name": "ComboboxModel",
      "state": {
       "description": "If there is an API, is there documentation for the API?",
       "ensure_option": false,
       "layout": "IPY_MODEL_11e477f9298c4c368b5edbd483b9d14c",
       "options": [
        "Yes",
        "No",
        "N/A"
       ],
       "placeholder": "Click to select option",
       "style": "IPY_MODEL_d789b20c857543b6adceb1d1f513bfc8"
      }
     },
     "2e76991156aa47a28c78f715c7bdc582": {
      "model_module": "@jupyter-widgets/controls",
      "model_module_version": "2.0.0",
      "model_name": "TextModel",
      "state": {
       "description": "1.2. Dataset version:",
       "layout": "IPY_MODEL_152df2807d4046ac8f13e0466e1f82dc",
       "style": "IPY_MODEL_3bfb3bbdca384d52a9709ebeaf8cc46f",
       "value": "8.6"
      }
     },
     "2eb4e5338f19407caaf33b3213ab8f16": {
      "model_module": "@jupyter-widgets/base",
      "model_module_version": "2.0.0",
      "model_name": "LayoutModel",
      "state": {
       "flex": "1 1 auto",
       "width": "auto"
      }
     },
     "2ed4636af9424f4084c0e141d0dc5efa": {
      "model_module": "@jupyter-widgets/controls",
      "model_module_version": "2.0.0",
      "model_name": "ButtonModel",
      "state": {
       "button_style": "info",
       "description": "Print json results",
       "layout": "IPY_MODEL_a1bf5923c3594b10a92150ada6cd8f72",
       "style": "IPY_MODEL_c16be791800643eca6e77c47c111c007",
       "tooltip": null
      }
     },
     "2ef2674eb5154f8ea99f83715015a3af": {
      "model_module": "@jupyter-widgets/controls",
      "model_module_version": "2.0.0",
      "model_name": "ButtonModel",
      "state": {
       "button_style": "primary",
       "description": "Save Data Documentation Answers to json file",
       "layout": "IPY_MODEL_3ad4a5f065b04239afccbe7a68b13682",
       "style": "IPY_MODEL_150ef5e95a7349f6a45144412dddf256",
       "tooltip": null
      }
     },
     "2fdfcecd8d524c4aa80065da7164a84f": {
      "model_module": "@jupyter-widgets/base",
      "model_module_version": "2.0.0",
      "model_name": "LayoutModel",
      "state": {
       "display": "",
       "width": "900px"
      }
     },
     "3042a5631db24d10bf6331c9d8611bfb": {
      "model_module": "@jupyter-widgets/controls",
      "model_module_version": "2.0.0",
      "model_name": "TextModel",
      "state": {
       "description": "Identifier",
       "layout": "IPY_MODEL_d80f06ad865a409681b8d46878b5ad9d",
       "placeholder": "Click to select option",
       "style": "IPY_MODEL_915e0ea816384b30a335199b4e4341bb"
      }
     },
     "3074057430c14a6282c30004b4f979b8": {
      "model_module": "@jupyter-widgets/controls",
      "model_module_version": "2.0.0",
      "model_name": "ComboboxModel",
      "state": {
       "description": "Are the main formats machine-readable?",
       "ensure_option": false,
       "layout": "IPY_MODEL_228534cdb92e426eab55d7b54b2c4a4b",
       "options": [
        "Yes",
        "No",
        "N/A"
       ],
       "placeholder": "Click to select option",
       "style": "IPY_MODEL_d398ea7d7126458d9b286f4149fb9cd7",
       "value": "Yes"
      }
     },
     "311291a17c0448529ea78d0ece775418": {
      "model_module": "@jupyter-widgets/controls",
      "model_module_version": "2.0.0",
      "model_name": "TextStyleModel",
      "state": {
       "description_width": "initial",
       "font_size": null,
       "text_color": null
      }
     },
     "3152663c638f455b883b7d5238fa5012": {
      "model_module": "@jupyter-widgets/controls",
      "model_module_version": "2.0.0",
      "model_name": "ComboboxModel",
      "state": {
       "description": "If the data is resampled from the original sampling, is the data also available at the original sampling?",
       "ensure_option": false,
       "layout": "IPY_MODEL_9c063896e98147c5851888864f07865b",
       "options": [
        "Yes",
        "No",
        "Only by request",
        "N/A"
       ],
       "placeholder": "Click to select option",
       "style": "IPY_MODEL_987cf7578de7467d981ecd0acf3785d4"
      }
     },
     "32d8c3ab58834d83b3f0c7502927c140": {
      "model_module": "@jupyter-widgets/controls",
      "model_module_version": "2.0.0",
      "model_name": "TextStyleModel",
      "state": {
       "description_width": "initial",
       "font_size": null,
       "text_color": null
      }
     },
     "3402d2fb61304b838dc0afb4fefd81d6": {
      "model_module": "@jupyter-widgets/base",
      "model_module_version": "2.0.0",
      "model_name": "LayoutModel",
      "state": {
       "display": "none",
       "width": "900px"
      }
     },
     "34184d5ad1e54f12825de2d8b4eca53d": {
      "model_module": "@jupyter-widgets/base",
      "model_module_version": "2.0.0",
      "model_name": "LayoutModel",
      "state": {
       "width": "900px"
      }
     },
     "344f7a936a9c475499c588a0f3b4778e": {
      "model_module": "@jupyter-widgets/controls",
      "model_module_version": "2.0.0",
      "model_name": "TextStyleModel",
      "state": {
       "description_width": "initial",
       "font_size": null,
       "text_color": null
      }
     },
     "34502c43760e441f931ca59d965654d3": {
      "model_module": "@jupyter-widgets/controls",
      "model_module_version": "2.0.0",
      "model_name": "ComboboxModel",
      "state": {
       "description": "4.2 Does data access require authentication (e.g., a registered user account)?",
       "ensure_option": false,
       "layout": "IPY_MODEL_7f0bad64fb22454e928308a90ad659fa",
       "options": [
        "Yes",
        "No",
        "N/A"
       ],
       "placeholder": "Click to select option",
       "style": "IPY_MODEL_5f9198ac6d9b47d98af960c5de36387d"
      }
     },
     "34720b85477948a1a778d962099fc17e": {
      "model_module": "@jupyter-widgets/controls",
      "model_module_version": "2.0.0",
      "model_name": "ComboboxModel",
      "state": {
       "description": "2.9 Is there quantitative information about data resolution in space and time?",
       "ensure_option": false,
       "layout": "IPY_MODEL_994529e2c1d747d58e51e5f2f19ab657",
       "options": [
        "Yes",
        "No",
        "N/A"
       ],
       "placeholder": "Click to select option",
       "style": "IPY_MODEL_8bc0f442466a4c7e8d7b8c0afdddb3b3",
       "value": "No"
      }
     },
     "35a641788af042748b2968056e12e023": {
      "model_module": "@jupyter-widgets/base",
      "model_module_version": "2.0.0",
      "model_name": "LayoutModel",
      "state": {
       "display": "",
       "width": "900px"
      }
     },
     "36613697853a421daf9fd1b19f4964f2": {
      "model_module": "@jupyter-widgets/controls",
      "model_module_version": "2.0.0",
      "model_name": "TextStyleModel",
      "state": {
       "description_width": "initial",
       "font_size": null,
       "text_color": null
      }
     },
     "36c32fe191984091a03affcd38aaff61": {
      "model_module": "@jupyter-widgets/base",
      "model_module_version": "2.0.0",
      "model_name": "LayoutModel",
      "state": {
       "width": "900px"
      }
     },
     "36d6c4fc34334e79b8255eb0aa9857ad": {
      "model_module": "@jupyter-widgets/controls",
      "model_module_version": "2.0.0",
      "model_name": "TextStyleModel",
      "state": {
       "description_width": "initial",
       "font_size": null,
       "text_color": null
      }
     },
     "36e6306fc6354b878e576439507daf2f": {
      "model_module": "@jupyter-widgets/controls",
      "model_module_version": "2.0.0",
      "model_name": "TextStyleModel",
      "state": {
       "description_width": "initial",
       "font_size": null,
       "text_color": null
      }
     },
     "36fbbe55327441d085420556e2bf4b1b": {
      "model_module": "@jupyter-widgets/controls",
      "model_module_version": "2.0.0",
      "model_name": "LabelModel",
      "state": {
       "layout": "IPY_MODEL_a12d6e345d09454eaa649edf99067f29",
       "style": "IPY_MODEL_a95e7b8812264409bdea05baedbf32d0",
       "value": "2.13 What is the size of the dataset? Depending on the resource, this might be:"
      }
     },
     "3735ec11e6144b388f55bacde3aca339": {
      "model_module": "@jupyter-widgets/controls",
      "model_module_version": "2.0.0",
      "model_name": "ComboboxModel",
      "state": {
       "description": "5.1 Have null values/gaps been filled?",
       "ensure_option": false,
       "layout": "IPY_MODEL_5bcacc56a0604e8593400126bd04cbec",
       "options": [
        "Yes",
        "No",
        "N/A"
       ],
       "placeholder": "Click to select option",
       "style": "IPY_MODEL_62e20561cd3240aaab592ce2010db5d8"
      }
     },
     "37a82a7bf00f4722b993e0ff45d748d4": {
      "model_module": "@jupyter-widgets/base",
      "model_module_version": "2.0.0",
      "model_name": "LayoutModel",
      "state": {
       "width": "100px"
      }
     },
     "388f040f4dec49179a71ec824d8b7d65": {
      "model_module": "@jupyter-widgets/base",
      "model_module_version": "2.0.0",
      "model_name": "LayoutModel",
      "state": {
       "width": "900px"
      }
     },
     "38fa80067f5346579c6de58ce97387c1": {
      "model_module": "@jupyter-widgets/controls",
      "model_module_version": "2.0.0",
      "model_name": "ButtonStyleModel",
      "state": {
       "font_family": null,
       "font_size": null,
       "font_style": null,
       "font_variant": null,
       "font_weight": null,
       "text_color": null,
       "text_decoration": null
      }
     },
     "3929d234311c43109436f3ba9ee32d17": {
      "model_module": "@jupyter-widgets/controls",
      "model_module_version": "2.0.0",
      "model_name": "TextModel",
      "state": {
       "description": "3.7 What is the license for the data?",
       "layout": "IPY_MODEL_fb369d158bb845ff9cbefbc8483477bc",
       "placeholder": "Type your answer",
       "style": "IPY_MODEL_149bd06080ca4ddb84ffa048d4cc8d04"
      }
     },
     "398d17b2974b48f68ca99f9e2982d5a7": {
      "model_module": "@jupyter-widgets/controls",
      "model_module_version": "2.0.0",
      "model_name": "LabelModel",
      "state": {
       "layout": "IPY_MODEL_27dcc08f2e43432f9c67395a42a7237e",
       "style": "IPY_MODEL_57dd6bd64ea7427f8f1095398dc13cbb",
       "value": "Number of images:"
      }
     },
     "3aa56305d043421594ec8a15d384de39": {
      "model_module": "@jupyter-widgets/controls",
      "model_module_version": "2.0.0",
      "model_name": "ButtonModel",
      "state": {
       "button_style": "primary",
       "description": "Save Data Access Answers to json file",
       "layout": "IPY_MODEL_1a3229301ca44c3fb38642512f6eb18d",
       "style": "IPY_MODEL_6e9168c4ea9547afaf5ca5d2298a231d",
       "tooltip": null
      }
     },
     "3ad4a5f065b04239afccbe7a68b13682": {
      "model_module": "@jupyter-widgets/base",
      "model_module_version": "2.0.0",
      "model_name": "LayoutModel",
      "state": {
       "flex": "1 1 auto",
       "width": "auto"
      }
     },
     "3b7d0f25cd064f15966a5859c8845e28": {
      "model_module": "@jupyter-widgets/base",
      "model_module_version": "2.0.0",
      "model_name": "LayoutModel",
      "state": {
       "display": "none",
       "width": "900px"
      }
     },
     "3bfb3bbdca384d52a9709ebeaf8cc46f": {
      "model_module": "@jupyter-widgets/controls",
      "model_module_version": "2.0.0",
      "model_name": "TextStyleModel",
      "state": {
       "description_width": "initial",
       "font_size": null,
       "text_color": null
      }
     },
     "3d475ad8916d4e4ca71a4b36f30bd0e7": {
      "model_module": "@jupyter-widgets/controls",
      "model_module_version": "2.0.0",
      "model_name": "TextStyleModel",
      "state": {
       "description_width": "initial",
       "font_size": null,
       "text_color": null
      }
     },
     "3d8e8ec394af4ed09b734b2468e8fcc1": {
      "model_module": "@jupyter-widgets/controls",
      "model_module_version": "2.0.0",
      "model_name": "ButtonModel",
      "state": {
       "button_style": "primary",
       "description": "Save Bias, Integrity & Size Answers to json file",
       "layout": "IPY_MODEL_633441aabd994320ab290ec9abaf945c",
       "style": "IPY_MODEL_b15ecda2bca94103b0d76fee12240666",
       "tooltip": null
      }
     },
     "3e0f14a05e3149069732022c0fdc4127": {
      "model_module": "@jupyter-widgets/base",
      "model_module_version": "2.0.0",
      "model_name": "LayoutModel",
      "state": {
       "width": "100px"
      }
     },
     "3efc527f5550429db1cc7feb36e92d32": {
      "model_module": "@jupyter-widgets/controls",
      "model_module_version": "2.0.0",
      "model_name": "ComboboxModel",
      "state": {
       "description": "3.6 Are there example codes / notebooks / toolkits available showing how the data can be used?",
       "ensure_option": false,
       "layout": "IPY_MODEL_ffb77d74bab04bbfafce180ecb9f07b4",
       "options": [
        "Yes",
        "No",
        "N/A"
       ],
       "placeholder": "Click to select option",
       "style": "IPY_MODEL_4332a00877574443ba6890d9e2cd1fd4"
      }
     },
     "3fa23b1b592e44069772306ab6636d8a": {
      "model_module": "@jupyter-widgets/controls",
      "model_module_version": "2.0.0",
      "model_name": "TextStyleModel",
      "state": {
       "description_width": "initial",
       "font_size": null,
       "text_color": null
      }
     },
     "3fcc1b8b940d49ccbac14159f6692013": {
      "model_module": "@jupyter-widgets/base",
      "model_module_version": "2.0.0",
      "model_name": "LayoutModel",
      "state": {
       "width": "900px"
      }
     },
     "404c1a9d4ea344e7a180f6827ee86a13": {
      "model_module": "@jupyter-widgets/controls",
      "model_module_version": "2.0.0",
      "model_name": "TextStyleModel",
      "state": {
       "description_width": "initial",
       "font_size": null,
       "text_color": null
      }
     },
     "40f91ea01f9f4ca699bc2314d15c0de3": {
      "model_module": "@jupyter-widgets/controls",
      "model_module_version": "2.0.0",
      "model_name": "ComboboxModel",
      "state": {
       "description": "If there is an API, does the API follow an open standard protocol (e.g., OGC)?",
       "ensure_option": false,
       "layout": "IPY_MODEL_2fdfcecd8d524c4aa80065da7164a84f",
       "options": [
        "Yes",
        "No",
        "N/A"
       ],
       "placeholder": "Click to select option",
       "style": "IPY_MODEL_05370e4f3cd34e328b0fc2f0c709aef8",
       "value": "Yes"
      }
     },
     "41e1b4ff0b7246d8a7a33af104b96b6f": {
      "model_module": "@jupyter-widgets/base",
      "model_module_version": "2.0.0",
      "model_name": "LayoutModel",
      "state": {
       "width": "900px"
      }
     },
     "41ef6554fab7487cac4b97a7fff8b359": {
      "model_module": "@jupyter-widgets/controls",
      "model_module_version": "2.0.0",
      "model_name": "TextStyleModel",
      "state": {
       "description_width": "initial",
       "font_size": null,
       "text_color": null
      }
     },
     "4208447c89a14dcda8c890f1120c4c45": {
      "model_module": "@jupyter-widgets/base",
      "model_module_version": "2.0.0",
      "model_name": "LayoutModel",
      "state": {
       "width": "900px"
      }
     },
     "425c05a6140e4404a81afd16715ad80f": {
      "model_module": "@jupyter-widgets/controls",
      "model_module_version": "2.0.0",
      "model_name": "TextStyleModel",
      "state": {
       "description_width": "initial",
       "font_size": null,
       "text_color": null
      }
     },
     "4332a00877574443ba6890d9e2cd1fd4": {
      "model_module": "@jupyter-widgets/controls",
      "model_module_version": "2.0.0",
      "model_name": "TextStyleModel",
      "state": {
       "description_width": "initial",
       "font_size": null,
       "text_color": null
      }
     },
     "4398304683f1481ca50eb13727b70776": {
      "model_module": "@jupyter-widgets/controls",
      "model_module_version": "2.0.0",
      "model_name": "TextStyleModel",
      "state": {
       "description_width": "initial",
       "font_size": null,
       "text_color": null
      }
     },
     "4487b230271341eb9a2356f14f6aeefa": {
      "model_module": "@jupyter-widgets/base",
      "model_module_version": "2.0.0",
      "model_name": "LayoutModel",
      "state": {
       "display": "none",
       "width": "900px"
      }
     },
     "44d1df29439140b18a9bb784af730531": {
      "model_module": "@jupyter-widgets/controls",
      "model_module_version": "2.0.0",
      "model_name": "ComboboxModel",
      "state": {
       "description": "Should the new version of the dataset supersede the current version?",
       "ensure_option": false,
       "layout": "IPY_MODEL_a22c475325c1458d8564f32116031279",
       "options": [
        "Yes",
        "No",
        "N/A"
       ],
       "placeholder": "Click to select option",
       "style": "IPY_MODEL_21107576fcd443cfbd8893d35eda2587"
      }
     },
     "457cad9aee7546109eddb00ec8167f4b": {
      "model_module": "@jupyter-widgets/base",
      "model_module_version": "2.0.0",
      "model_name": "LayoutModel",
      "state": {
       "width": "900px"
      }
     },
     "45ab5e1de6e24af0af96ba67831d5dc4": {
      "model_module": "@jupyter-widgets/controls",
      "model_module_version": "2.0.0",
      "model_name": "TextModel",
      "state": {
       "description": "Review measures:",
       "layout": "IPY_MODEL_2c9232ff5a5849bc8845219eab9f6f15",
       "placeholder": "If yes, what measures are taken? Manual review / Automated review etc.",
       "style": "IPY_MODEL_c34cc45464d14c7e8edc076c2aee7fd7"
      }
     },
     "463ed36406844aa7877edd9d7cfab482": {
      "model_module": "@jupyter-widgets/base",
      "model_module_version": "2.0.0",
      "model_name": "LayoutModel",
      "state": {}
     },
     "46835c96a3a94df8914035c9928eb3e5": {
      "model_module": "@jupyter-widgets/base",
      "model_module_version": "2.0.0",
      "model_name": "LayoutModel",
      "state": {
       "display": "none",
       "width": "900px"
      }
     },
     "4689c707938c4862928b907744738dab": {
      "model_module": "@jupyter-widgets/controls",
      "model_module_version": "2.0.0",
      "model_name": "ComboboxModel",
      "state": {
       "description": "5.2 Have outliers been identified?",
       "ensure_option": false,
       "layout": "IPY_MODEL_7989f6487b0045949bf50f7e51ff0f3e",
       "options": [
        "Yes, tagged ",
        "Yes, removed",
        "No",
        "N/A"
       ],
       "placeholder": "Click to select option",
       "style": "IPY_MODEL_10e3c9cf408648de8662abea9a2b1612",
       "value": "No"
      }
     },
     "46993bf79b564616b89238af8d3af15a": {
      "model_module": "@jupyter-widgets/controls",
      "model_module_version": "2.0.0",
      "model_name": "TextModel",
      "state": {
       "layout": "IPY_MODEL_d623a91100aa417089ea9e8e025b8bf3",
       "placeholder": "(optional) Link to a bias-corrected or bias-reduced version of the dataset",
       "style": "IPY_MODEL_e131824fb185400eab3ca469d871b303"
      }
     },
     "4710bfd08b0d40148a0fc86ffff3a393": {
      "model_module": "@jupyter-widgets/controls",
      "model_module_version": "2.0.0",
      "model_name": "TextStyleModel",
      "state": {
       "description_width": "",
       "font_size": null,
       "text_color": null
      }
     },
     "4721e315b9624ce9be4775466da9322f": {
      "model_module": "@jupyter-widgets/controls",
      "model_module_version": "2.0.0",
      "model_name": "ComboboxModel",
      "state": {
       "description": "3.9 Are there recommendations on the intended use of the data, and uses that are not recommended?",
       "ensure_option": false,
       "layout": "IPY_MODEL_85e4f01e825946539774de080f3077b8",
       "options": [
        "Yes",
        "No",
        "N/A"
       ],
       "placeholder": "Click to select option",
       "style": "IPY_MODEL_fc24369c2e364750a33627a811af9daa",
       "value": "No"
      }
     },
     "4815735114aa4d00b01070875cd89481": {
      "model_module": "@jupyter-widgets/controls",
      "model_module_version": "2.0.0",
      "model_name": "ComboboxModel",
      "state": {
       "description": "7. Is this observational data, simulation/model output, or synthetic data?",
       "ensure_option": false,
       "layout": "IPY_MODEL_3fcc1b8b940d49ccbac14159f6692013",
       "options": [
        "Observed",
        "Modeled",
        "Synthetic"
       ],
       "placeholder": "Click to select option",
       "style": "IPY_MODEL_fd9406cdaf29463ea98556b5aa5444dd",
       "value": "Observed"
      }
     },
     "48959936433d415cb8567923021b5396": {
      "model_module": "@jupyter-widgets/base",
      "model_module_version": "2.0.0",
      "model_name": "LayoutModel",
      "state": {
       "width": "900px"
      }
     },
     "497de46a3a654f47b177c2ff51cebba8": {
      "model_module": "@jupyter-widgets/controls",
      "model_module_version": "2.0.0",
      "model_name": "TextStyleModel",
      "state": {
       "description_width": "initial",
       "font_size": null,
       "text_color": null
      }
     },
     "4990b1c6cc9a47349e7bbadb6670c70f": {
      "model_module": "@jupyter-widgets/base",
      "model_module_version": "2.0.0",
      "model_name": "LayoutModel",
      "state": {
       "width": "100px"
      }
     },
     "4a531a60fda8446e837ea583acb855e3": {
      "model_module": "@jupyter-widgets/base",
      "model_module_version": "2.0.0",
      "model_name": "LayoutModel",
      "state": {}
     },
     "4a68e246475a468ab9a9edfd48c2dc16": {
      "model_module": "@jupyter-widgets/controls",
      "model_module_version": "2.0.0",
      "model_name": "LabelStyleModel",
      "state": {
       "description_width": "",
       "font_family": null,
       "font_size": null,
       "font_style": null,
       "font_variant": null,
       "font_weight": null,
       "text_color": null,
       "text_decoration": null
      }
     },
     "4b046a0486dd408bb297ddc5b67eb5b2": {
      "model_module": "@jupyter-widgets/base",
      "model_module_version": "2.0.0",
      "model_name": "LayoutModel",
      "state": {
       "width": "900px"
      }
     },
     "4b8c634e984e40ca9f4590d3e662dab6": {
      "model_module": "@jupyter-widgets/base",
      "model_module_version": "2.0.0",
      "model_name": "LayoutModel",
      "state": {
       "width": "900px"
      }
     },
     "4bd36fe84eba45febf126abc0a490e3c": {
      "model_module": "@jupyter-widgets/controls",
      "model_module_version": "2.0.0",
      "model_name": "ComboboxModel",
      "state": {
       "description": "If the data is gridded, was it transformed from a different original sampling?",
       "ensure_option": false,
       "layout": "IPY_MODEL_93bcd11e78334eef8c813a9d06ba48b6",
       "options": [
        "Yes, from irregular sampling",
        "Yes, from a different regular sampling",
        "No, this is the original sampling",
        "N/A"
       ],
       "placeholder": "Click to select option",
       "style": "IPY_MODEL_7f93f197a0e14423925dc34c82ec59e4"
      }
     },
     "4fc57422dd604dd287682ce539a1c5de": {
      "model_module": "@jupyter-widgets/controls",
      "model_module_version": "2.0.0",
      "model_name": "ComboboxModel",
      "state": {
       "description": "2.3 How complete is the dataset compared to the expected spatial coverage?",
       "ensure_option": false,
       "layout": "IPY_MODEL_6c7a81ac19d548638d0ba636734d3b63",
       "options": [
        "Complete",
        "Partial",
        "Unknown",
        "N/A"
       ],
       "placeholder": "Click to select option",
       "style": "IPY_MODEL_7a20bc6450e2496796d67f5fc29cebbf",
       "value": "Unknown"
      }
     },
     "4ffdfad138e44adba3c1ac3c42a10a0f": {
      "model_module": "@jupyter-widgets/controls",
      "model_module_version": "2.0.0",
      "model_name": "TextStyleModel",
      "state": {
       "description_width": "initial",
       "font_size": null,
       "text_color": null
      }
     },
     "502a9fc7fc8a4c8bb58532e4b4ba7807": {
      "model_module": "@jupyter-widgets/controls",
      "model_module_version": "2.0.0",
      "model_name": "ComboboxModel",
      "state": {
       "description": "6. Is this raw data or a derived/processed data product?",
       "ensure_option": false,
       "layout": "IPY_MODEL_79fd0599943240cc931ae2738816bc2e",
       "options": [
        "Raw",
        "Derived",
        "Unknown"
       ],
       "placeholder": "Click to select option",
       "style": "IPY_MODEL_75994ebcf18246f2a7cd9fa301ad522e",
       "value": "Derived"
      }
     },
     "502abb6911d44107a35d897851811d53": {
      "model_module": "@jupyter-widgets/controls",
      "model_module_version": "2.0.0",
      "model_name": "TextModel",
      "state": {
       "description": "1.1 Dataset name:",
       "layout": "IPY_MODEL_13c26c78d2134643a4147fb1f8cbb8e3",
       "style": "IPY_MODEL_88a5d75232474b8eac77f0965c6edc68",
       "value": "NOAA Global Surface Summary of the Day (GSOD)"
      }
     },
     "511094d0bbe34e1484a52bda37986db3": {
      "model_module": "@jupyter-widgets/controls",
      "model_module_version": "2.0.0",
      "model_name": "ComboboxModel",
      "state": {
       "description": "If the data is gridded, was it transformed from a different original sampling?",
       "ensure_option": false,
       "layout": "IPY_MODEL_ab46cb3ef1ce4347bf565e036d96f11f",
       "options": [
        "Yes, from irregular sampling",
        "Yes, from a different regular sampling",
        "No, this is the original sampling",
        "N/A"
       ],
       "placeholder": "Click to select option",
       "style": "IPY_MODEL_668e3740505845a2a6ca16c982391808"
      }
     },
     "5304bfd067c340a898a73269144a723a": {
      "model_module": "@jupyter-widgets/controls",
      "model_module_version": "2.0.0",
      "model_name": "ComboboxModel",
      "state": {
       "description": "If there is an API, does the API follow an open standard protocol (e.g., OGC)?",
       "ensure_option": false,
       "layout": "IPY_MODEL_3402d2fb61304b838dc0afb4fefd81d6",
       "options": [
        "Yes",
        "No",
        "N/A"
       ],
       "placeholder": "Click to select option",
       "style": "IPY_MODEL_a584f3560b5d4dc68bc7f41bc699794d"
      }
     },
     "5335d56a19584b6d8d53ec2fa195bd66": {
      "model_module": "@jupyter-widgets/controls",
      "model_module_version": "2.0.0",
      "model_name": "TextModel",
      "state": {
       "description": "Documentation link:",
       "layout": "IPY_MODEL_5e0b352ef4934ec78d17545054f12d18",
       "placeholder": "Please provide a link to the document",
       "style": "IPY_MODEL_11d4e1eea6be47eeb9c1544a1af6d186",
       "value": "https://www.ncei.noaa.gov/data/global-summary-of-the-day/doc/readme.txt"
      }
     },
     "5347ee02c68844cab7c518a6287568a6": {
      "model_module": "@jupyter-widgets/controls",
      "model_module_version": "2.0.0",
      "model_name": "TextStyleModel",
      "state": {
       "description_width": "initial",
       "font_size": null,
       "text_color": null
      }
     },
     "54d9666d2ba14d588d5be9b58f8861c1": {
      "model_module": "@jupyter-widgets/controls",
      "model_module_version": "2.0.0",
      "model_name": "ComboboxModel",
      "state": {
       "description": "3.1 Does the dataset metadata follow a community/domain standard or convention?",
       "ensure_option": false,
       "layout": "IPY_MODEL_67dbdd18b5e84f61b4b9ad748ff886eb",
       "options": [
        "Yes",
        "No",
        "N/A"
       ],
       "placeholder": "Click to select option",
       "style": "IPY_MODEL_f4109b64cb1d40d28a0eff7e44b87e51"
      }
     },
     "560aa6df1c76446fad7bf9325f0a8428": {
      "model_module": "@jupyter-widgets/controls",
      "model_module_version": "2.0.0",
      "model_name": "TextStyleModel",
      "state": {
       "description_width": "initial",
       "font_size": null,
       "text_color": null
      }
     },
     "56648cb7b6c648719240bf94fea77136": {
      "model_module": "@jupyter-widgets/base",
      "model_module_version": "2.0.0",
      "model_name": "LayoutModel",
      "state": {
       "display": "none",
       "width": "900px"
      }
     },
     "57dd6bd64ea7427f8f1095398dc13cbb": {
      "model_module": "@jupyter-widgets/controls",
      "model_module_version": "2.0.0",
      "model_name": "LabelStyleModel",
      "state": {
       "description_width": "",
       "font_family": null,
       "font_size": null,
       "font_style": null,
       "font_variant": null,
       "font_weight": null,
       "text_color": null,
       "text_decoration": null
      }
     },
     "58402b1a7c4f4370aba55a88d6f85165": {
      "model_module": "@jupyter-widgets/controls",
      "model_module_version": "2.0.0",
      "model_name": "TextareaModel",
      "state": {
       "description": "3.8 Has this dataset already been used in AI or ML activities? Link to publications/reports",
       "layout": "IPY_MODEL_b1964e246bfd47c5acbfd682214e80ce",
       "style": "IPY_MODEL_694a7806105c4a84acdf5a7c4b485e63",
       "value": "None reported, but likely. "
      }
     },
     "5840c567267d4d13b92047748a76d2ff": {
      "model_module": "@jupyter-widgets/controls",
      "model_module_version": "2.0.0",
      "model_name": "HBoxModel",
      "state": {
       "children": [
        "IPY_MODEL_1850cbce819f4e88b645c8083dccacba",
        "IPY_MODEL_a61067752d9e4d139f4681dd26487be7"
       ],
       "layout": "IPY_MODEL_463ed36406844aa7877edd9d7cfab482"
      }
     },
     "584998b687d241f7b2c227ac1aa82a94": {
      "model_module": "@jupyter-widgets/base",
      "model_module_version": "2.0.0",
      "model_name": "LayoutModel",
      "state": {
       "width": "900px"
      }
     },
     "58ef141fc44047ce8170d87646735060": {
      "model_module": "@jupyter-widgets/controls",
      "model_module_version": "2.0.0",
      "model_name": "TextStyleModel",
      "state": {
       "description_width": "initial",
       "font_size": null,
       "text_color": null
      }
     },
     "5908030646584e33b4e22e3526247160": {
      "model_module": "@jupyter-widgets/base",
      "model_module_version": "2.0.0",
      "model_name": "LayoutModel",
      "state": {
       "width": "900px"
      }
     },
     "5913741bbd6d40589d64786b9f76f33d": {
      "model_module": "@jupyter-widgets/controls",
      "model_module_version": "2.0.0",
      "model_name": "TextStyleModel",
      "state": {
       "description_width": "initial",
       "font_size": null,
       "text_color": null
      }
     },
     "5922b9bfda1a46b79158276faeed7d98": {
      "model_module": "@jupyter-widgets/base",
      "model_module_version": "2.0.0",
      "model_name": "LayoutModel",
      "state": {
       "width": "900px"
      }
     },
     "59b10defd1ae4681bf4890f72a54b26c": {
      "model_module": "@jupyter-widgets/base",
      "model_module_version": "2.0.0",
      "model_name": "LayoutModel",
      "state": {
       "display": "none",
       "width": "900px"
      }
     },
     "59d17f7df6084ebaaf7c37dfef594e1b": {
      "model_module": "@jupyter-widgets/base",
      "model_module_version": "2.0.0",
      "model_name": "LayoutModel",
      "state": {
       "width": "900px"
      }
     },
     "5b818b2ac4f541e9858c1c4e8341f7e5": {
      "model_module": "@jupyter-widgets/base",
      "model_module_version": "2.0.0",
      "model_name": "LayoutModel",
      "state": {}
     },
     "5bcacc56a0604e8593400126bd04cbec": {
      "model_module": "@jupyter-widgets/base",
      "model_module_version": "2.0.0",
      "model_name": "LayoutModel",
      "state": {
       "width": "900px"
      }
     },
     "5ca0c24ebdac4d918b9b4b6443f5becb": {
      "model_module": "@jupyter-widgets/controls",
      "model_module_version": "2.0.0",
      "model_name": "TextModel",
      "state": {
       "description": "Parameter standards:",
       "layout": "IPY_MODEL_e810f667c38145cd8f77c3cd855e4186",
       "placeholder": "If the parameters follow a defined standard, which standard it is?",
       "style": "IPY_MODEL_21c93ef5a5c94f50897fd2f5f15f97cd"
      }
     },
     "5d70dcd1e0054c3a81f63eacfe7c4960": {
      "model_module": "@jupyter-widgets/base",
      "model_module_version": "2.0.0",
      "model_name": "LayoutModel",
      "state": {
       "width": "900px"
      }
     },
     "5d9d5382c5cb469995e37fddf4fcb196": {
      "model_module": "@jupyter-widgets/base",
      "model_module_version": "2.0.0",
      "model_name": "LayoutModel",
      "state": {
       "display": "none",
       "width": "900px"
      }
     },
     "5de552231d464dcea6268683589126e0": {
      "model_module": "@jupyter-widgets/controls",
      "model_module_version": "2.0.0",
      "model_name": "TextStyleModel",
      "state": {
       "description_width": "initial",
       "font_size": null,
       "text_color": null
      }
     },
     "5e0b352ef4934ec78d17545054f12d18": {
      "model_module": "@jupyter-widgets/base",
      "model_module_version": "2.0.0",
      "model_name": "LayoutModel",
      "state": {
       "display": "none",
       "width": "900px"
      }
     },
     "5edda7088ee44823acf82bc255fc21b3": {
      "model_module": "@jupyter-widgets/controls",
      "model_module_version": "2.0.0",
      "model_name": "ComboboxModel",
      "state": {
       "description": "Are parameters crosswalked in an ontology or common vocabulary (e.g. NIEM)?",
       "ensure_option": false,
       "layout": "IPY_MODEL_7b4b8197096048459566d01f9e83cf6c",
       "options": [
        "Yes",
        "No",
        "N/A"
       ],
       "placeholder": "Click to select option",
       "style": "IPY_MODEL_fa6417bdd91c4f0e96527c784e925e16",
       "value": "N/A"
      }
     },
     "5f2270eaa42c416fa38f3edb90ca0189": {
      "model_module": "@jupyter-widgets/base",
      "model_module_version": "2.0.0",
      "model_name": "LayoutModel",
      "state": {
       "display": "",
       "width": "900px"
      }
     },
     "5f9198ac6d9b47d98af960c5de36387d": {
      "model_module": "@jupyter-widgets/controls",
      "model_module_version": "2.0.0",
      "model_name": "TextStyleModel",
      "state": {
       "description_width": "initial",
       "font_size": null,
       "text_color": null
      }
     },
     "5fc1c63ac4d646119bbf3263a41ccec1": {
      "model_module": "@jupyter-widgets/base",
      "model_module_version": "2.0.0",
      "model_name": "LayoutModel",
      "state": {
       "width": "900px"
      }
     },
     "60049482540c463d8205b4867991a05f": {
      "model_module": "@jupyter-widgets/controls",
      "model_module_version": "2.0.0",
      "model_name": "LabelModel",
      "state": {
       "layout": "IPY_MODEL_f5877ed44deb4b0b8ef57b47f102a31a",
       "style": "IPY_MODEL_e295e2ced39e46ca9604b7e19746f7e6",
       "value": "Number of data dimensions:"
      }
     },
     "601b6333ba8b4938aeee574957e3a6e2": {
      "model_module": "@jupyter-widgets/controls",
      "model_module_version": "2.0.0",
      "model_name": "TextStyleModel",
      "state": {
       "description_width": "initial",
       "font_size": null,
       "text_color": null
      }
     },
     "623c31e62b444cc680bb841e43ba55a9": {
      "model_module": "@jupyter-widgets/controls",
      "model_module_version": "2.0.0",
      "model_name": "ComboboxModel",
      "state": {
       "description": "8. Is the data single-source or aggregated from several sources? ",
       "ensure_option": false,
       "layout": "IPY_MODEL_ead43b293c9543f6a73e96031504b30a",
       "options": [
        "Single-source",
        "Aggregated"
       ],
       "placeholder": "Click to select option",
       "style": "IPY_MODEL_0be169d66b304d4b9985a24b3a34fc51",
       "value": "Aggregated"
      }
     },
     "6242ebe8bb164ffaacbf23908343d205": {
      "model_module": "@jupyter-widgets/controls",
      "model_module_version": "2.0.0",
      "model_name": "HBoxModel",
      "state": {
       "children": [
        "IPY_MODEL_60049482540c463d8205b4867991a05f",
        "IPY_MODEL_e3360393cfa54c9aa4f9ed128c1131d7"
       ],
       "layout": "IPY_MODEL_c1c1b25824a94498bd46072161cf5ed0"
      }
     },
     "62649ac5a41a419e985632a0938c95e6": {
      "model_module": "@jupyter-widgets/base",
      "model_module_version": "2.0.0",
      "model_name": "LayoutModel",
      "state": {
       "display": "none",
       "width": "900px"
      }
     },
     "626ada40ff344feea95f4e230b65bd72": {
      "model_module": "@jupyter-widgets/controls",
      "model_module_version": "2.0.0",
      "model_name": "ComboboxModel",
      "state": {
       "description": "3.3 Does the dataset have a unique persistent identifier, e.g. DOI?",
       "ensure_option": false,
       "layout": "IPY_MODEL_1640aeb28ed142eba450fea2b9564405",
       "options": [
        "Yes",
        "No",
        "N/A"
       ],
       "placeholder": "Click to select option",
       "style": "IPY_MODEL_caa5e30d472d42e3a8bfa9b1506a2782",
       "value": "Yes"
      }
     },
     "62e20561cd3240aaab592ce2010db5d8": {
      "model_module": "@jupyter-widgets/controls",
      "model_module_version": "2.0.0",
      "model_name": "TextStyleModel",
      "state": {
       "description_width": "initial",
       "font_size": null,
       "text_color": null
      }
     },
     "633441aabd994320ab290ec9abaf945c": {
      "model_module": "@jupyter-widgets/base",
      "model_module_version": "2.0.0",
      "model_name": "LayoutModel",
      "state": {
       "flex": "1 1 auto",
       "width": "auto"
      }
     },
     "634f9298781e4527ae3136d59c8b1c9f": {
      "model_module": "@jupyter-widgets/controls",
      "model_module_version": "2.0.0",
      "model_name": "TextStyleModel",
      "state": {
       "description_width": "",
       "font_size": null,
       "text_color": null
      }
     },
     "6475c31746c9406294b4b87c3d6a7726": {
      "model_module": "@jupyter-widgets/controls",
      "model_module_version": "2.0.0",
      "model_name": "TextareaModel",
      "state": {
       "description": "3.8 Has this dataset already been used in AI or ML activities? Link to publications/reports",
       "layout": "IPY_MODEL_fec72554353a423fb50fd3351ae9e145",
       "style": "IPY_MODEL_4398304683f1481ca50eb13727b70776",
       "value": "None reported, but likely. "
      }
     },
     "64ebef07700d4667a1095d86b3455bc8": {
      "model_module": "@jupyter-widgets/controls",
      "model_module_version": "2.0.0",
      "model_name": "ComboboxModel",
      "state": {
       "description": "2.7 Are there processes to monitor for units, data types, and parameter consistency?",
       "ensure_option": false,
       "layout": "IPY_MODEL_c8579b038b2145a2aa269465b927e805",
       "options": [
        "Yes",
        "No",
        "N/A"
       ],
       "placeholder": "Click to select option",
       "style": "IPY_MODEL_aab0144eaccc4dd8a59d79ee734979f6",
       "value": "N/A"
      }
     },
     "64fb657c8f3f49f482d441fceb7e3ab0": {
      "model_module": "@jupyter-widgets/controls",
      "model_module_version": "2.0.0",
      "model_name": "ComboboxModel",
      "state": {
       "description": "Will there be different stages of the update?",
       "ensure_option": false,
       "layout": "IPY_MODEL_ffad893997df4c48bfb87cbe194025ef",
       "options": [
        "Preliminary data first, then updated later",
        "Full record",
        "N/A"
       ],
       "placeholder": "Click to select option",
       "style": "IPY_MODEL_2a164b9d1d424b1aa34747131fb0a44c",
       "value": "Full record"
      }
     },
     "654159c498c747369ca7b0588a022e07": {
      "model_module": "@jupyter-widgets/controls",
      "model_module_version": "2.0.0",
      "model_name": "TextModel",
      "state": {
       "layout": "IPY_MODEL_a6a81a2e18524ca2a68b44b047859da7",
       "placeholder": "e.g., STAC label extension, ESA AIREO specification, etc.",
       "style": "IPY_MODEL_21641fc411b949c289090f8d0d985270"
      }
     },
     "65c0986169d24f0eaafcbf4524ca4f07": {
      "model_module": "@jupyter-widgets/controls",
      "model_module_version": "2.0.0",
      "model_name": "ComboboxModel",
      "state": {
       "description": "3.3 Does the dataset have a unique persistent identifier, e.g. DOI?",
       "ensure_option": false,
       "layout": "IPY_MODEL_5fc1c63ac4d646119bbf3263a41ccec1",
       "options": [
        "Yes",
        "No",
        "N/A"
       ],
       "placeholder": "Click to select option",
       "style": "IPY_MODEL_9334d74555e54551ab9ad19015953a21"
      }
     },
     "65fed9e557314ef88deaac454584dd06": {
      "model_module": "@jupyter-widgets/base",
      "model_module_version": "2.0.0",
      "model_name": "LayoutModel",
      "state": {
       "width": "900px"
      }
     },
     "664d5441102e48149e87db07c76d1e87": {
      "model_module": "@jupyter-widgets/base",
      "model_module_version": "2.0.0",
      "model_name": "LayoutModel",
      "state": {
       "flex": "1 1 auto",
       "width": "auto"
      }
     },
     "668e3740505845a2a6ca16c982391808": {
      "model_module": "@jupyter-widgets/controls",
      "model_module_version": "2.0.0",
      "model_name": "TextStyleModel",
      "state": {
       "description_width": "initial",
       "font_size": null,
       "text_color": null
      }
     },
     "66a810f49d984b1baec78eab75cf1d42": {
      "model_module": "@jupyter-widgets/controls",
      "model_module_version": "2.0.0",
      "model_name": "ComboboxModel",
      "state": {
       "description": "3.5 Is there a mechanism for user feedback and suggestions?",
       "ensure_option": false,
       "layout": "IPY_MODEL_59d17f7df6084ebaaf7c37dfef594e1b",
       "options": [
        "Yes",
        "No",
        "N/A"
       ],
       "placeholder": "Click to select option",
       "style": "IPY_MODEL_36613697853a421daf9fd1b19f4964f2",
       "value": "Yes"
      }
     },
     "6751aba1443d4183bf84f189d808ffb0": {
      "model_module": "@jupyter-widgets/controls",
      "model_module_version": "2.0.0",
      "model_name": "TextStyleModel",
      "state": {
       "description_width": "initial",
       "font_size": null,
       "text_color": null
      }
     },
     "67a2d98fa7134e42b32d06a6d2d73158": {
      "model_module": "@jupyter-widgets/controls",
      "model_module_version": "2.0.0",
      "model_name": "ComboboxModel",
      "state": {
       "description": "Is there reported bias in the data?",
       "ensure_option": false,
       "layout": "IPY_MODEL_8c095671be1e4113980d22cea730a887",
       "options": [
        "No known bias",
        "Found and reported",
        "No info available",
        "N/A"
       ],
       "placeholder": "Click to select option",
       "style": "IPY_MODEL_8f80788b8a684010bf82573a807f718c"
      }
     },
     "67dbdd18b5e84f61b4b9ad748ff886eb": {
      "model_module": "@jupyter-widgets/base",
      "model_module_version": "2.0.0",
      "model_name": "LayoutModel",
      "state": {
       "width": "900px"
      }
     },
     "68937f45727a4745afe00d92bb964113": {
      "model_module": "@jupyter-widgets/controls",
      "model_module_version": "2.0.0",
      "model_name": "TextStyleModel",
      "state": {
       "description_width": "initial",
       "font_size": null,
       "text_color": null
      }
     },
     "694a7806105c4a84acdf5a7c4b485e63": {
      "model_module": "@jupyter-widgets/controls",
      "model_module_version": "2.0.0",
      "model_name": "TextStyleModel",
      "state": {
       "description_width": "initial",
       "font_size": null,
       "text_color": null
      }
     },
     "69b033c818a74770aef83508243ac178": {
      "model_module": "@jupyter-widgets/controls",
      "model_module_version": "2.0.0",
      "model_name": "TextModel",
      "state": {
       "description": "Parameter standards:",
       "layout": "IPY_MODEL_46835c96a3a94df8914035c9928eb3e5",
       "placeholder": "If the parameters follow a defined standard, which standard it is?",
       "style": "IPY_MODEL_dbdc54bb49b04610a9fdca60d77f5370"
      }
     },
     "69e9af3bf6b14767a360c513b6fad2f3": {
      "model_module": "@jupyter-widgets/base",
      "model_module_version": "2.0.0",
      "model_name": "LayoutModel",
      "state": {
       "display": "none",
       "width": "900px"
      }
     },
     "69fbb6b2e4e6484dbcff3c4febbf18f0": {
      "model_module": "@jupyter-widgets/controls",
      "model_module_version": "2.0.0",
      "model_name": "IntTextModel",
      "state": {
       "layout": "IPY_MODEL_4990b1c6cc9a47349e7bbadb6670c70f",
       "step": 1,
       "style": "IPY_MODEL_70dfb693cb1b4290a71a467a1b77f2e4"
      }
     },
     "6a356965d3814820aee27a9db1b96c09": {
      "model_module": "@jupyter-widgets/base",
      "model_module_version": "2.0.0",
      "model_name": "LayoutModel",
      "state": {
       "display": "none",
       "width": "900px"
      }
     },
     "6a38fb9e9f4c4ad2981cdfa58f6da9d3": {
      "model_module": "@jupyter-widgets/base",
      "model_module_version": "2.0.0",
      "model_name": "LayoutModel",
      "state": {}
     },
     "6b64914368e54934b602c867bf8530f7": {
      "model_module": "@jupyter-widgets/controls",
      "model_module_version": "2.0.0",
      "model_name": "LabelModel",
      "state": {
       "layout": "IPY_MODEL_97c928c2b6cd4f50a052d3a0db7a1684",
       "style": "IPY_MODEL_07b4d6d8b1034b19b7f61bd7c71c9811",
       "value": "If there are associated targets/labels, are community labeling standards implemented?"
      }
     },
     "6b9809ad79e7488ca764199fd924332c": {
      "model_module": "@jupyter-widgets/base",
      "model_module_version": "2.0.0",
      "model_name": "LayoutModel",
      "state": {
       "flex": "1 1 auto",
       "width": "auto"
      }
     },
     "6c04b71cbda840ba9864ced64e6b1c1e": {
      "model_module": "@jupyter-widgets/controls",
      "model_module_version": "2.0.0",
      "model_name": "ComboboxModel",
      "state": {
       "description": "3.6 Are there example codes / notebooks / toolkits available showing how the data can be used?",
       "ensure_option": false,
       "layout": "IPY_MODEL_7a3b82bf3f2f47af8af26631879d0c26",
       "options": [
        "Yes",
        "No",
        "N/A"
       ],
       "placeholder": "Click to select option",
       "style": "IPY_MODEL_f73e2814f8934067b54fdf22fd1e2f2d",
       "value": "No"
      }
     },
     "6c7a81ac19d548638d0ba636734d3b63": {
      "model_module": "@jupyter-widgets/base",
      "model_module_version": "2.0.0",
      "model_name": "LayoutModel",
      "state": {
       "width": "900px"
      }
     },
     "6de8ca7396fd4c0b967c94197773d8ad": {
      "model_module": "@jupyter-widgets/base",
      "model_module_version": "2.0.0",
      "model_name": "LayoutModel",
      "state": {
       "width": "900px"
      }
     },
     "6e572caf40e94432b02c27aafe5bdf71": {
      "model_module": "@jupyter-widgets/controls",
      "model_module_version": "2.0.0",
      "model_name": "TextStyleModel",
      "state": {
       "description_width": "initial",
       "font_size": null,
       "text_color": null
      }
     },
     "6e9168c4ea9547afaf5ca5d2298a231d": {
      "model_module": "@jupyter-widgets/controls",
      "model_module_version": "2.0.0",
      "model_name": "ButtonStyleModel",
      "state": {
       "font_family": null,
       "font_size": null,
       "font_style": null,
       "font_variant": null,
       "font_weight": null,
       "text_color": null,
       "text_decoration": null
      }
     },
     "6f241892355b430d88070fc853acd0c3": {
      "model_module": "@jupyter-widgets/controls",
      "model_module_version": "2.0.0",
      "model_name": "LabelStyleModel",
      "state": {
       "description_width": "",
       "font_family": null,
       "font_size": null,
       "font_style": null,
       "font_variant": null,
       "font_weight": null,
       "text_color": null,
       "text_decoration": null
      }
     },
     "70dfb693cb1b4290a71a467a1b77f2e4": {
      "model_module": "@jupyter-widgets/controls",
      "model_module_version": "2.0.0",
      "model_name": "DescriptionStyleModel",
      "state": {
       "description_width": ""
      }
     },
     "715d56721d31436292433c127fed2f09": {
      "model_module": "@jupyter-widgets/base",
      "model_module_version": "2.0.0",
      "model_name": "LayoutModel",
      "state": {
       "width": "900px"
      }
     },
     "71772cccbc594df48688a460ee2550c5": {
      "model_module": "@jupyter-widgets/controls",
      "model_module_version": "2.0.0",
      "model_name": "TextStyleModel",
      "state": {
       "description_width": "initial",
       "font_size": null,
       "text_color": null
      }
     },
     "721a440b257a4723abbdedbb1ea072ad": {
      "model_module": "@jupyter-widgets/base",
      "model_module_version": "2.0.0",
      "model_name": "LayoutModel",
      "state": {
       "width": "900px"
      }
     },
     "72214174863544c29db9ad721210df67": {
      "model_module": "@jupyter-widgets/controls",
      "model_module_version": "2.0.0",
      "model_name": "ButtonStyleModel",
      "state": {
       "font_family": null,
       "font_size": null,
       "font_style": null,
       "font_variant": null,
       "font_weight": null,
       "text_color": null,
       "text_decoration": null
      }
     },
     "73f92d683bc84ca4a0b2f162a1e80ad6": {
      "model_module": "@jupyter-widgets/controls",
      "model_module_version": "2.0.0",
      "model_name": "TextStyleModel",
      "state": {
       "description_width": "initial",
       "font_size": null,
       "text_color": null
      }
     },
     "7535696827774335aa8afa80fbf8674a": {
      "model_module": "@jupyter-widgets/controls",
      "model_module_version": "2.0.0",
      "model_name": "TextStyleModel",
      "state": {
       "description_width": "initial",
       "font_size": null,
       "text_color": null
      }
     },
     "756c3d387fdf4d199964a25fa4404d98": {
      "model_module": "@jupyter-widgets/base",
      "model_module_version": "2.0.0",
      "model_name": "LayoutModel",
      "state": {
       "width": "900px"
      }
     },
     "75994ebcf18246f2a7cd9fa301ad522e": {
      "model_module": "@jupyter-widgets/controls",
      "model_module_version": "2.0.0",
      "model_name": "TextStyleModel",
      "state": {
       "description_width": "initial",
       "font_size": null,
       "text_color": null
      }
     },
     "77128251c8b245cabd1823b20f4a4c4d": {
      "model_module": "@jupyter-widgets/controls",
      "model_module_version": "2.0.0",
      "model_name": "ButtonModel",
      "state": {
       "button_style": "primary",
       "description": "Save Data Access Answers to json file",
       "layout": "IPY_MODEL_99ffd938ed8d42cd8e1f090a3715ff6b",
       "style": "IPY_MODEL_c01de32bbc254b8cbe6c211bb3318a5a",
       "tooltip": null
      }
     },
     "775392367b69477ba2ec9f8d6c36e512": {
      "model_module": "@jupyter-widgets/controls",
      "model_module_version": "2.0.0",
      "model_name": "ComboboxModel",
      "state": {
       "description": "4.7 Has the data been anonymized / de-identified?",
       "ensure_option": false,
       "layout": "IPY_MODEL_850c4311d39c474885cd4464253bc685",
       "options": [
        "Yes",
        "No",
        "N/A"
       ],
       "placeholder": "Click to select option",
       "style": "IPY_MODEL_7535696827774335aa8afa80fbf8674a",
       "value": "N/A"
      }
     },
     "776e2656c9124c0fb7bb318392691c2a": {
      "model_module": "@jupyter-widgets/controls",
      "model_module_version": "2.0.0",
      "model_name": "TextStyleModel",
      "state": {
       "description_width": "initial",
       "font_size": null,
       "text_color": null
      }
     },
     "77fb8aa23210418a882a5e798e4aaa58": {
      "model_module": "@jupyter-widgets/controls",
      "model_module_version": "2.0.0",
      "model_name": "TextStyleModel",
      "state": {
       "description_width": "initial",
       "font_size": null,
       "text_color": null
      }
     },
     "7819157b723146b19c9b74b1d9b1abfc": {
      "model_module": "@jupyter-widgets/controls",
      "model_module_version": "2.0.0",
      "model_name": "TextModel",
      "state": {
       "description": "Parameter standards:",
       "layout": "IPY_MODEL_7edf5cf5ed88442092f6a7a9f75f519d",
       "placeholder": "If the parameters follow a defined standard, which standard it is?",
       "style": "IPY_MODEL_a275dd47298f4ca58bcea0f87cd82ed5"
      }
     },
     "78b03519000b4c10abdf3d044f24f774": {
      "model_module": "@jupyter-widgets/base",
      "model_module_version": "2.0.0",
      "model_name": "LayoutModel",
      "state": {
       "display": "none",
       "width": "900px"
      }
     },
     "791603c1ed5d4a7686eaa1dcb88275ca": {
      "model_module": "@jupyter-widgets/controls",
      "model_module_version": "2.0.0",
      "model_name": "TextStyleModel",
      "state": {
       "description_width": "initial",
       "font_size": null,
       "text_color": null
      }
     },
     "7989f6487b0045949bf50f7e51ff0f3e": {
      "model_module": "@jupyter-widgets/base",
      "model_module_version": "2.0.0",
      "model_name": "LayoutModel",
      "state": {
       "width": "900px"
      }
     },
     "79b1a8dccd9e413f9dbe36b0a3e37b0c": {
      "model_module": "@jupyter-widgets/controls",
      "model_module_version": "2.0.0",
      "model_name": "ComboboxModel",
      "state": {
       "description": "If there is an API, is there documentation for the API?",
       "ensure_option": false,
       "layout": "IPY_MODEL_be91194dbef94460a6497478741108a0",
       "options": [
        "Yes",
        "No",
        "N/A"
       ],
       "placeholder": "Click to select option",
       "style": "IPY_MODEL_29c9a218a2c240368e09db018a2caa24",
       "value": "Yes"
      }
     },
     "79fd0599943240cc931ae2738816bc2e": {
      "model_module": "@jupyter-widgets/base",
      "model_module_version": "2.0.0",
      "model_name": "LayoutModel",
      "state": {
       "width": "900px"
      }
     },
     "7a20bc6450e2496796d67f5fc29cebbf": {
      "model_module": "@jupyter-widgets/controls",
      "model_module_version": "2.0.0",
      "model_name": "TextStyleModel",
      "state": {
       "description_width": "initial",
       "font_size": null,
       "text_color": null
      }
     },
     "7a3239135e2d4e69906cdd756c546e35": {
      "model_module": "@jupyter-widgets/controls",
      "model_module_version": "2.0.0",
      "model_name": "TextStyleModel",
      "state": {
       "description_width": "initial",
       "font_size": null,
       "text_color": null
      }
     },
     "7a3b82bf3f2f47af8af26631879d0c26": {
      "model_module": "@jupyter-widgets/base",
      "model_module_version": "2.0.0",
      "model_name": "LayoutModel",
      "state": {
       "width": "900px"
      }
     },
     "7b4b8197096048459566d01f9e83cf6c": {
      "model_module": "@jupyter-widgets/base",
      "model_module_version": "2.0.0",
      "model_name": "LayoutModel",
      "state": {
       "display": "",
       "width": "900px"
      }
     },
     "7d0eae024f874a3491c1e435755503d8": {
      "model_module": "@jupyter-widgets/controls",
      "model_module_version": "2.0.0",
      "model_name": "ButtonStyleModel",
      "state": {
       "font_family": null,
       "font_size": null,
       "font_style": null,
       "font_variant": null,
       "font_weight": null,
       "text_color": null,
       "text_decoration": null
      }
     },
     "7edf5cf5ed88442092f6a7a9f75f519d": {
      "model_module": "@jupyter-widgets/base",
      "model_module_version": "2.0.0",
      "model_name": "LayoutModel",
      "state": {
       "display": "none",
       "width": "900px"
      }
     },
     "7f0bad64fb22454e928308a90ad659fa": {
      "model_module": "@jupyter-widgets/base",
      "model_module_version": "2.0.0",
      "model_name": "LayoutModel",
      "state": {
       "width": "900px"
      }
     },
     "7f15c3c08e294868bc2a7fb80869d11a": {
      "model_module": "@jupyter-widgets/base",
      "model_module_version": "2.0.0",
      "model_name": "LayoutModel",
      "state": {
       "width": "900px"
      }
     },
     "7f5b909485d342c3a59a4806734f7f8f": {
      "model_module": "@jupyter-widgets/controls",
      "model_module_version": "2.0.0",
      "model_name": "TextStyleModel",
      "state": {
       "description_width": "initial",
       "font_size": null,
       "text_color": null
      }
     },
     "7f93f197a0e14423925dc34c82ec59e4": {
      "model_module": "@jupyter-widgets/controls",
      "model_module_version": "2.0.0",
      "model_name": "TextStyleModel",
      "state": {
       "description_width": "initial",
       "font_size": null,
       "text_color": null
      }
     },
     "7fba9a484ff44c35af78c6658dcd8198": {
      "model_module": "@jupyter-widgets/controls",
      "model_module_version": "2.0.0",
      "model_name": "ComboboxModel",
      "state": {
       "description": "3.4 Is there contact information for subject-matter experts?",
       "ensure_option": false,
       "layout": "IPY_MODEL_41e1b4ff0b7246d8a7a33af104b96b6f",
       "options": [
        "Yes",
        "No",
        "N/A"
       ],
       "placeholder": "Click to select option",
       "style": "IPY_MODEL_b6d9b1f84c384004b57c5b79cc032139"
      }
     },
     "805b4d35419f40c082e5426a8b46e138": {
      "model_module": "@jupyter-widgets/base",
      "model_module_version": "2.0.0",
      "model_name": "LayoutModel",
      "state": {
       "width": "100px"
      }
     },
     "808ff8c1ee5b493491b1e3c4309b28a2": {
      "model_module": "@jupyter-widgets/controls",
      "model_module_version": "2.0.0",
      "model_name": "ComboboxModel",
      "state": {
       "description": "Is the data dictionary standardized?",
       "ensure_option": false,
       "layout": "IPY_MODEL_d703362b989c4cd29b783b3b68d0ec9c",
       "options": [
        "Yes",
        "No",
        "N/A"
       ],
       "placeholder": "Click to select option",
       "style": "IPY_MODEL_9e2e9f648a6d48aba94a440e675f6055",
       "value": "N/A"
      }
     },
     "828e186be5614a3fa144d097eba5449a": {
      "model_module": "@jupyter-widgets/controls",
      "model_module_version": "2.0.0",
      "model_name": "TextStyleModel",
      "state": {
       "description_width": "initial",
       "font_size": null,
       "text_color": null
      }
     },
     "83d468053e264b0f94a56356cb4c48ca": {
      "model_module": "@jupyter-widgets/controls",
      "model_module_version": "2.0.0",
      "model_name": "ComboboxModel",
      "state": {
       "description": "Are there tools/services to support data format conversion?",
       "ensure_option": false,
       "layout": "IPY_MODEL_2076a40b8c014134b562f0e0c61181e4",
       "options": [
        "Yes",
        "No",
        "N/A"
       ],
       "placeholder": "Click to select option",
       "style": "IPY_MODEL_e10938a9ff164ff9a7b0c12736076cf4",
       "value": "Yes"
      }
     },
     "850c4311d39c474885cd4464253bc685": {
      "model_module": "@jupyter-widgets/base",
      "model_module_version": "2.0.0",
      "model_name": "LayoutModel",
      "state": {
       "width": "900px"
      }
     },
     "85499334a0d54450b037249cb511282e": {
      "model_module": "@jupyter-widgets/controls",
      "model_module_version": "2.0.0",
      "model_name": "ComboboxModel",
      "state": {
       "description": "Are there tools/services to support data format conversion?",
       "ensure_option": false,
       "layout": "IPY_MODEL_b11e9fa6b81d41438c2045c9f76d2108",
       "options": [
        "Yes",
        "No",
        "N/A"
       ],
       "placeholder": "Click to select option",
       "style": "IPY_MODEL_d5362b78ea4243ada14e70a9cc55627a"
      }
     },
     "85811b29776b4118b65b7d089379febe": {
      "model_module": "@jupyter-widgets/controls",
      "model_module_version": "2.0.0",
      "model_name": "LabelStyleModel",
      "state": {
       "description_width": "",
       "font_family": null,
       "font_size": null,
       "font_style": null,
       "font_variant": null,
       "font_weight": null,
       "text_color": null,
       "text_decoration": null
      }
     },
     "85e4f01e825946539774de080f3077b8": {
      "model_module": "@jupyter-widgets/base",
      "model_module_version": "2.0.0",
      "model_name": "LayoutModel",
      "state": {
       "width": "900px"
      }
     },
     "86144ce874cf400bb1d2897bacadf5da": {
      "model_module": "@jupyter-widgets/controls",
      "model_module_version": "2.0.0",
      "model_name": "ComboboxModel",
      "state": {
       "description": "Is the data dictionary machine-readable?",
       "ensure_option": false,
       "layout": "IPY_MODEL_100a3c6cf7964dd0ab854fbf74d5e1ab",
       "options": [
        "Yes",
        "No",
        "N/A"
       ],
       "placeholder": "Click to select option",
       "style": "IPY_MODEL_1e2b13142fb843699de47ea1d19c3c33",
       "value": "No"
      }
     },
     "8633da7038fc4883add325b16874e584": {
      "model_module": "@jupyter-widgets/base",
      "model_module_version": "2.0.0",
      "model_name": "LayoutModel",
      "state": {
       "width": "900px"
      }
     },
     "8669e147f2094ff89dd0cfdf527998d3": {
      "model_module": "@jupyter-widgets/base",
      "model_module_version": "2.0.0",
      "model_name": "LayoutModel",
      "state": {
       "width": "900px"
      }
     },
     "87b3caf0bb774756bfbe143a4f370c9c": {
      "model_module": "@jupyter-widgets/controls",
      "model_module_version": "2.0.0",
      "model_name": "ComboboxModel",
      "state": {
       "description": "4.8 Is there secure access to the full dataset for authorized users? ",
       "ensure_option": false,
       "layout": "IPY_MODEL_a89d5b7257c64ea79b2cf5ebfe376de5",
       "options": [
        "Yes",
        "No",
        "N/A"
       ],
       "placeholder": "Click to select option",
       "style": "IPY_MODEL_9d657a18b0aa46beb84efea2165a48b8",
       "value": "N/A"
      }
     },
     "87f1327282134e25adf638f5af93c7b4": {
      "model_module": "@jupyter-widgets/controls",
      "model_module_version": "2.0.0",
      "model_name": "HBoxModel",
      "state": {
       "children": [
        "IPY_MODEL_0c121d484df4454abc268987cdcce85f",
        "IPY_MODEL_a4c0045959894345b5cf953b043d655b"
       ],
       "layout": "IPY_MODEL_e0679ed73e2f41f8b6f175b5af612154"
      }
     },
     "88a5d75232474b8eac77f0965c6edc68": {
      "model_module": "@jupyter-widgets/controls",
      "model_module_version": "2.0.0",
      "model_name": "TextStyleModel",
      "state": {
       "description_width": "initial",
       "font_size": null,
       "text_color": null
      }
     },
     "88e4b05eb76243a18f0462500de7955c": {
      "model_module": "@jupyter-widgets/controls",
      "model_module_version": "2.0.0",
      "model_name": "ComboboxModel",
      "state": {
       "description": "Is the license standardized and machine-readable (e.g. Creative Commons)?",
       "ensure_option": false,
       "layout": "IPY_MODEL_721a440b257a4723abbdedbb1ea072ad",
       "options": [
        "Yes",
        "No",
        "N/A"
       ],
       "placeholder": "Click to select option",
       "style": "IPY_MODEL_20a7e6db37374cc49777ac87ddcc4edd"
      }
     },
     "8905dcc8182a4bd1abeca2e14a91014b": {
      "model_module": "@jupyter-widgets/controls",
      "model_module_version": "2.0.0",
      "model_name": "TextStyleModel",
      "state": {
       "description_width": "",
       "font_size": null,
       "text_color": null
      }
     },
     "8bad79fa05774b5988f4e8a5b605df6c": {
      "model_module": "@jupyter-widgets/controls",
      "model_module_version": "2.0.0",
      "model_name": "TextStyleModel",
      "state": {
       "description_width": "initial",
       "font_size": null,
       "text_color": null
      }
     },
     "8bc0f442466a4c7e8d7b8c0afdddb3b3": {
      "model_module": "@jupyter-widgets/controls",
      "model_module_version": "2.0.0",
      "model_name": "TextStyleModel",
      "state": {
       "description_width": "initial",
       "font_size": null,
       "text_color": null
      }
     },
     "8c095671be1e4113980d22cea730a887": {
      "model_module": "@jupyter-widgets/base",
      "model_module_version": "2.0.0",
      "model_name": "LayoutModel",
      "state": {
       "display": "none",
       "width": "900px"
      }
     },
     "8cc595ae10c348e196de9bd0b5f1a1ad": {
      "model_module": "@jupyter-widgets/controls",
      "model_module_version": "2.0.0",
      "model_name": "ComboboxModel",
      "state": {
       "description": "3.3 Does the dataset have a unique persistent identifier, e.g. DOI?",
       "ensure_option": false,
       "layout": "IPY_MODEL_14ff55bc2de94d7e889fb76100e1c6bf",
       "options": [
        "Yes",
        "No",
        "N/A"
       ],
       "placeholder": "Click to select option",
       "style": "IPY_MODEL_41ef6554fab7487cac4b97a7fff8b359",
       "value": "Yes"
      }
     },
     "8ccbf23ed18044148621d03c3c73bfe2": {
      "model_module": "@jupyter-widgets/controls",
      "model_module_version": "2.0.0",
      "model_name": "TextStyleModel",
      "state": {
       "description_width": "initial",
       "font_size": null,
       "text_color": null
      }
     },
     "8d6cfd560fb742878cb3f9fb52da730a": {
      "model_module": "@jupyter-widgets/controls",
      "model_module_version": "2.0.0",
      "model_name": "TextStyleModel",
      "state": {
       "description_width": "initial",
       "font_size": null,
       "text_color": null
      }
     },
     "8eaccb0af2d54abc8097fe9bb47c4993": {
      "model_module": "@jupyter-widgets/base",
      "model_module_version": "2.0.0",
      "model_name": "LayoutModel",
      "state": {
       "width": "900px"
      }
     },
     "8f56417c57054be191b8af258cdc5884": {
      "model_module": "@jupyter-widgets/base",
      "model_module_version": "2.0.0",
      "model_name": "LayoutModel",
      "state": {
       "width": "900px"
      }
     },
     "8f80788b8a684010bf82573a807f718c": {
      "model_module": "@jupyter-widgets/controls",
      "model_module_version": "2.0.0",
      "model_name": "TextStyleModel",
      "state": {
       "description_width": "initial",
       "font_size": null,
       "text_color": null
      }
     },
     "8fe08637d9af42e0a36e377eb8ffd7be": {
      "model_module": "@jupyter-widgets/controls",
      "model_module_version": "2.0.0",
      "model_name": "DescriptionStyleModel",
      "state": {
       "description_width": ""
      }
     },
     "9005d1c076a846f3a5cc38515aef3740": {
      "model_module": "@jupyter-widgets/base",
      "model_module_version": "2.0.0",
      "model_name": "LayoutModel",
      "state": {
       "width": "900px"
      }
     },
     "905bb9fb59da4a5ab0fec1feeb2f1606": {
      "model_module": "@jupyter-widgets/controls",
      "model_module_version": "2.0.0",
      "model_name": "ComboboxModel",
      "state": {
       "description": "5.2 Have outliers been identified?",
       "ensure_option": false,
       "layout": "IPY_MODEL_1bbe902069764e5a85c219d77630498d",
       "options": [
        "Yes, tagged ",
        "Yes, removed",
        "No",
        "N/A"
       ],
       "placeholder": "Click to select option",
       "style": "IPY_MODEL_af953f225349471ba6f305e5cbb73f75"
      }
     },
     "9071327752f84a15b321ae27276e0f7f": {
      "model_module": "@jupyter-widgets/controls",
      "model_module_version": "2.0.0",
      "model_name": "ComboboxModel",
      "state": {
       "description": "Do the parameters follow a defined standard?",
       "ensure_option": false,
       "layout": "IPY_MODEL_01a4631735e44ee7ad888bd34f4995f7",
       "options": [
        "Yes",
        "No",
        "N/A"
       ],
       "placeholder": "Click to select option",
       "style": "IPY_MODEL_f5da6a9589654268955a712b14c90578",
       "value": "No"
      }
     },
     "90a4f73e2d6c4f5592aad059cd92754d": {
      "model_module": "@jupyter-widgets/controls",
      "model_module_version": "2.0.0",
      "model_name": "ComboboxModel",
      "state": {
       "description": "Is the dataset metadata machine-readable?",
       "ensure_option": false,
       "layout": "IPY_MODEL_62649ac5a41a419e985632a0938c95e6",
       "options": [
        "Yes",
        "No",
        "N/A"
       ],
       "placeholder": "Click to select option",
       "style": "IPY_MODEL_7a3239135e2d4e69906cdd756c546e35",
       "value": "Yes"
      }
     },
     "90c1f91767324ee09f7ca69d90a703ac": {
      "model_module": "@jupyter-widgets/base",
      "model_module_version": "2.0.0",
      "model_name": "LayoutModel",
      "state": {}
     },
     "910af34ec2c843bd876676b74039afd6": {
      "model_module": "@jupyter-widgets/controls",
      "model_module_version": "2.0.0",
      "model_name": "ComboboxModel",
      "state": {
       "description": "Do the parameters follow a defined standard?",
       "ensure_option": false,
       "layout": "IPY_MODEL_5f2270eaa42c416fa38f3edb90ca0189",
       "options": [
        "Yes",
        "No",
        "N/A"
       ],
       "placeholder": "Click to select option",
       "style": "IPY_MODEL_f5d8b97c4b254cb2839acdb3590119ff",
       "value": "No"
      }
     },
     "915e0ea816384b30a335199b4e4341bb": {
      "model_module": "@jupyter-widgets/controls",
      "model_module_version": "2.0.0",
      "model_name": "TextStyleModel",
      "state": {
       "description_width": "initial",
       "font_size": null,
       "text_color": null
      }
     },
     "91f369c144074016bd1c25b6ef70563d": {
      "model_module": "@jupyter-widgets/controls",
      "model_module_version": "2.0.0",
      "model_name": "TextModel",
      "state": {
       "layout": "IPY_MODEL_90c1f91767324ee09f7ca69d90a703ac",
       "placeholder": "Total data volume:",
       "style": "IPY_MODEL_a3e9059da0cb4bea92da61a698393328",
       "value": "Variable"
      }
     },
     "9231a0f329414c9e8ac36be81c18b32c": {
      "model_module": "@jupyter-widgets/controls",
      "model_module_version": "2.0.0",
      "model_name": "TextStyleModel",
      "state": {
       "description_width": "initial",
       "font_size": null,
       "text_color": null
      }
     },
     "926d7ffe31274a54afdedf1160c420fb": {
      "model_module": "@jupyter-widgets/base",
      "model_module_version": "2.0.0",
      "model_name": "LayoutModel",
      "state": {
       "width": "900px"
      }
     },
     "927ab3d4386a4208be7c803850cf20c4": {
      "model_module": "@jupyter-widgets/controls",
      "model_module_version": "2.0.0",
      "model_name": "ButtonModel",
      "state": {
       "button_style": "info",
       "description": "Print json results",
       "layout": "IPY_MODEL_b4509fb14e8f4e77902afe4d90b8edbb",
       "style": "IPY_MODEL_f971d7ff8f5e4a3787ce7f93f98718d9",
       "tooltip": null
      }
     },
     "92976f1c5a9144ceb6bf98b07da2b5ad": {
      "model_module": "@jupyter-widgets/controls",
      "model_module_version": "2.0.0",
      "model_name": "TextStyleModel",
      "state": {
       "description_width": "initial",
       "font_size": null,
       "text_color": null
      }
     },
     "92f5becd1ca340eeaba939eb6707894c": {
      "model_module": "@jupyter-widgets/controls",
      "model_module_version": "2.0.0",
      "model_name": "ComboboxModel",
      "state": {
       "description": "4.3 Can the file be accessed via direct file downloading or ordering?",
       "ensure_option": false,
       "layout": "IPY_MODEL_6de8ca7396fd4c0b967c94197773d8ad",
       "options": [
        "Yes",
        "No",
        "N/A"
       ],
       "placeholder": "Click to select option",
       "style": "IPY_MODEL_a518d230b4b84d9bb24eea7fb18592b0",
       "value": "Yes"
      }
     },
     "930bc801ac714d509708d203ae75fcf0": {
      "model_module": "@jupyter-widgets/base",
      "model_module_version": "2.0.0",
      "model_name": "LayoutModel",
      "state": {
       "width": "900px"
      }
     },
     "9334d74555e54551ab9ad19015953a21": {
      "model_module": "@jupyter-widgets/controls",
      "model_module_version": "2.0.0",
      "model_name": "TextStyleModel",
      "state": {
       "description_width": "initial",
       "font_size": null,
       "text_color": null
      }
     },
     "93bcd11e78334eef8c813a9d06ba48b6": {
      "model_module": "@jupyter-widgets/base",
      "model_module_version": "2.0.0",
      "model_name": "LayoutModel",
      "state": {
       "width": "900px"
      }
     },
     "93c70ac8ffa14996b457bc196d30daa2": {
      "model_module": "@jupyter-widgets/controls",
      "model_module_version": "2.0.0",
      "model_name": "TextStyleModel",
      "state": {
       "description_width": "",
       "font_size": null,
       "text_color": null
      }
     },
     "946e704c2f8545f2904f08cfb41fc06b": {
      "model_module": "@jupyter-widgets/controls",
      "model_module_version": "2.0.0",
      "model_name": "TextModel",
      "state": {
       "description": "3.7 What is the license for the data?",
       "layout": "IPY_MODEL_9005d1c076a846f3a5cc38515aef3740",
       "placeholder": "Type your answer",
       "style": "IPY_MODEL_311291a17c0448529ea78d0ece775418",
       "value": "None / Open"
      }
     },
     "95fd55462dbc4b608d1fafa0d5427bfc": {
      "model_module": "@jupyter-widgets/base",
      "model_module_version": "2.0.0",
      "model_name": "LayoutModel",
      "state": {}
     },
     "9655df13f2314657b1535ae8d2587658": {
      "model_module": "@jupyter-widgets/controls",
      "model_module_version": "2.0.0",
      "model_name": "ComboboxModel",
      "state": {
       "description": "2.2 Is there any documentation about the completeness of the dataset?",
       "ensure_option": false,
       "layout": "IPY_MODEL_989ef373023347ceaf26d832c2acc9ab",
       "options": [
        "Yes",
        "No"
       ],
       "placeholder": "Click to select option",
       "style": "IPY_MODEL_e50bbdb0c60d489da218ea0d260c3318",
       "value": "Yes"
      }
     },
     "96f28d001ac0479180a7297501d96ba7": {
      "model_module": "@jupyter-widgets/controls",
      "model_module_version": "2.0.0",
      "model_name": "ComboboxModel",
      "state": {
       "description": "4.7 Has the data been anonymized / de-identified?",
       "ensure_option": false,
       "layout": "IPY_MODEL_052721f96e01480c9825ce9afec3cfd4",
       "options": [
        "Yes",
        "No",
        "N/A"
       ],
       "placeholder": "Click to select option",
       "style": "IPY_MODEL_c6577d72cd514db7bb20cb31e2d74fdc"
      }
     },
     "97b038588d7a4ceaa3882c6e02195675": {
      "model_module": "@jupyter-widgets/controls",
      "model_module_version": "2.0.0",
      "model_name": "SelectMultipleModel",
      "state": {
       "_options_labels": [
        "CSV",
        "netCDF",
        "geoJSON",
        "Shapefile",
        "GRIB",
        "HDF",
        "GeoTIFF",
        "KML",
        "GINI",
        "Zarr",
        "Other"
       ],
       "index": [
        0
       ],
       "layout": "IPY_MODEL_1e164b4c3cd542f88252a7ef0b4b8b1d",
       "rows": 11,
       "style": "IPY_MODEL_d72a245def6e48a08b78603095556a3b"
      }
     },
     "97c928c2b6cd4f50a052d3a0db7a1684": {
      "model_module": "@jupyter-widgets/base",
      "model_module_version": "2.0.0",
      "model_name": "LayoutModel",
      "state": {}
     },
     "97ea57800ce649b08a66262574803349": {
      "model_module": "@jupyter-widgets/base",
      "model_module_version": "2.0.0",
      "model_name": "LayoutModel",
      "state": {
       "width": "900px"
      }
     },
     "97fca2b64be3469488229d542c4886d6": {
      "model_module": "@jupyter-widgets/base",
      "model_module_version": "2.0.0",
      "model_name": "LayoutModel",
      "state": {
       "width": "900px"
      }
     },
     "987cf7578de7467d981ecd0acf3785d4": {
      "model_module": "@jupyter-widgets/controls",
      "model_module_version": "2.0.0",
      "model_name": "TextStyleModel",
      "state": {
       "description_width": "initial",
       "font_size": null,
       "text_color": null
      }
     },
     "9888491c5f5d4ab083c16df668251148": {
      "model_module": "@jupyter-widgets/controls",
      "model_module_version": "2.0.0",
      "model_name": "LabelStyleModel",
      "state": {
       "description_width": "",
       "font_family": null,
       "font_size": null,
       "font_style": null,
       "font_variant": null,
       "font_weight": null,
       "text_color": null,
       "text_decoration": null
      }
     },
     "989ef373023347ceaf26d832c2acc9ab": {
      "model_module": "@jupyter-widgets/base",
      "model_module_version": "2.0.0",
      "model_name": "LayoutModel",
      "state": {
       "width": "900px"
      }
     },
     "994529e2c1d747d58e51e5f2f19ab657": {
      "model_module": "@jupyter-widgets/base",
      "model_module_version": "2.0.0",
      "model_name": "LayoutModel",
      "state": {
       "width": "900px"
      }
     },
     "9949ea0e74584105a3a19cda9b321ea3": {
      "model_module": "@jupyter-widgets/controls",
      "model_module_version": "2.0.0",
      "model_name": "LabelStyleModel",
      "state": {
       "description_width": "",
       "font_family": null,
       "font_size": null,
       "font_style": null,
       "font_variant": null,
       "font_weight": null,
       "text_color": null,
       "text_decoration": null
      }
     },
     "99641b07de0d40abbbf02e11d13e672f": {
      "model_module": "@jupyter-widgets/controls",
      "model_module_version": "2.0.0",
      "model_name": "TextModel",
      "state": {
       "layout": "IPY_MODEL_36c32fe191984091a03affcd38aaff61",
       "placeholder": "e.g., STAC label extension, ESA AIREO specification, etc.",
       "style": "IPY_MODEL_8905dcc8182a4bd1abeca2e14a91014b"
      }
     },
     "99b979d9f0c944b9a6c8576f69a6b6b4": {
      "model_module": "@jupyter-widgets/base",
      "model_module_version": "2.0.0",
      "model_name": "LayoutModel",
      "state": {
       "display": "none",
       "width": "900px"
      }
     },
     "99ffd938ed8d42cd8e1f090a3715ff6b": {
      "model_module": "@jupyter-widgets/base",
      "model_module_version": "2.0.0",
      "model_name": "LayoutModel",
      "state": {
       "flex": "1 1 auto",
       "width": "auto"
      }
     },
     "9a84474bea224067ae2a247901c5cdf1": {
      "model_module": "@jupyter-widgets/controls",
      "model_module_version": "2.0.0",
      "model_name": "TextStyleModel",
      "state": {
       "description_width": "initial",
       "font_size": null,
       "text_color": null
      }
     },
     "9ab9c9d6d35d4406a3f4f2a3232a2385": {
      "model_module": "@jupyter-widgets/base",
      "model_module_version": "2.0.0",
      "model_name": "LayoutModel",
      "state": {
       "width": "900px"
      }
     },
     "9bacf8ccb13d4b0ab95cb5ca426b2fe8": {
      "model_module": "@jupyter-widgets/base",
      "model_module_version": "2.0.0",
      "model_name": "LayoutModel",
      "state": {
       "display": "none",
       "width": "900px"
      }
     },
     "9c063896e98147c5851888864f07865b": {
      "model_module": "@jupyter-widgets/base",
      "model_module_version": "2.0.0",
      "model_name": "LayoutModel",
      "state": {
       "width": "900px"
      }
     },
     "9d657a18b0aa46beb84efea2165a48b8": {
      "model_module": "@jupyter-widgets/controls",
      "model_module_version": "2.0.0",
      "model_name": "TextStyleModel",
      "state": {
       "description_width": "initial",
       "font_size": null,
       "text_color": null
      }
     },
     "9df5d8c932564d099689196ad90c0987": {
      "model_module": "@jupyter-widgets/controls",
      "model_module_version": "2.0.0",
      "model_name": "ComboboxModel",
      "state": {
       "description": "4.2 Does data access require authentication (e.g., a registered user account)?",
       "ensure_option": false,
       "layout": "IPY_MODEL_039d7e04f0644f918c82e18e7656163a",
       "options": [
        "Yes",
        "No",
        "N/A"
       ],
       "placeholder": "Click to select option",
       "style": "IPY_MODEL_92976f1c5a9144ceb6bf98b07da2b5ad",
       "value": "No"
      }
     },
     "9e2e9f648a6d48aba94a440e675f6055": {
      "model_module": "@jupyter-widgets/controls",
      "model_module_version": "2.0.0",
      "model_name": "TextStyleModel",
      "state": {
       "description_width": "initial",
       "font_size": null,
       "text_color": null
      }
     },
     "9e9d0c2a687b4cc0b79f04689e58f7b0": {
      "model_module": "@jupyter-widgets/controls",
      "model_module_version": "2.0.0",
      "model_name": "TextStyleModel",
      "state": {
       "description_width": "initial",
       "font_size": null,
       "text_color": null
      }
     },
     "9f2c5e4d328749fa93ed314fc2d2ba2b": {
      "model_module": "@jupyter-widgets/controls",
      "model_module_version": "2.0.0",
      "model_name": "TextStyleModel",
      "state": {
       "description_width": "initial",
       "font_size": null,
       "text_color": null
      }
     },
     "9fd8851bd4cd49c6b37059ba919bb749": {
      "model_module": "@jupyter-widgets/controls",
      "model_module_version": "2.0.0",
      "model_name": "ComboboxModel",
      "state": {
       "description": "Is the data available in at least one open, non-proprietary format?",
       "ensure_option": false,
       "layout": "IPY_MODEL_f073fe8dfe6f4e54ace4e55871f9d641",
       "options": [
        "Yes",
        "No",
        "N/A"
       ],
       "placeholder": "Click to select option",
       "style": "IPY_MODEL_fca48aea510e42a9acb851372bad62a9"
      }
     },
     "a12d6e345d09454eaa649edf99067f29": {
      "model_module": "@jupyter-widgets/base",
      "model_module_version": "2.0.0",
      "model_name": "LayoutModel",
      "state": {}
     },
     "a1bf5923c3594b10a92150ada6cd8f72": {
      "model_module": "@jupyter-widgets/base",
      "model_module_version": "2.0.0",
      "model_name": "LayoutModel",
      "state": {
       "flex": "1 1 auto",
       "width": "auto"
      }
     },
     "a22c475325c1458d8564f32116031279": {
      "model_module": "@jupyter-widgets/base",
      "model_module_version": "2.0.0",
      "model_name": "LayoutModel",
      "state": {
       "display": "none",
       "width": "900px"
      }
     },
     "a22ead83dedb4c1d9561ab9a9a7e129a": {
      "model_module": "@jupyter-widgets/base",
      "model_module_version": "2.0.0",
      "model_name": "LayoutModel",
      "state": {
       "width": "900px"
      }
     },
     "a275dd47298f4ca58bcea0f87cd82ed5": {
      "model_module": "@jupyter-widgets/controls",
      "model_module_version": "2.0.0",
      "model_name": "TextStyleModel",
      "state": {
       "description_width": "initial",
       "font_size": null,
       "text_color": null
      }
     },
     "a2b3dd55d8d34bf883a3676854eaab21": {
      "model_module": "@jupyter-widgets/controls",
      "model_module_version": "2.0.0",
      "model_name": "TextStyleModel",
      "state": {
       "description_width": "initial",
       "font_size": null,
       "text_color": null
      }
     },
     "a2d6a36fbbd847deb3f107eeeddee328": {
      "model_module": "@jupyter-widgets/controls",
      "model_module_version": "2.0.0",
      "model_name": "ComboboxModel",
      "state": {
       "description": "4.5 For restricted data, have measures been taken to provide some access while still applying appropriate protection for privacy and security?",
       "ensure_option": false,
       "layout": "IPY_MODEL_8633da7038fc4883add325b16874e584",
       "options": [
        "Yes",
        "No",
        "N/A"
       ],
       "placeholder": "Click to select option",
       "style": "IPY_MODEL_9e9d0c2a687b4cc0b79f04689e58f7b0",
       "value": "N/A"
      }
     },
     "a2e489356ee6432bbc3771de91b1b4a9": {
      "model_module": "@jupyter-widgets/controls",
      "model_module_version": "2.0.0",
      "model_name": "TextStyleModel",
      "state": {
       "description_width": "initial",
       "font_size": null,
       "text_color": null
      }
     },
     "a346f23388db426887c5295337b6f67f": {
      "model_module": "@jupyter-widgets/controls",
      "model_module_version": "2.0.0",
      "model_name": "ComboboxModel",
      "state": {
       "description": "2.1 Will the dataset be updated?",
       "ensure_option": false,
       "layout": "IPY_MODEL_0428b1763e1f48e193bcea73c9e7c965",
       "options": [
        "Yes",
        "No"
       ],
       "placeholder": "Click to select option",
       "style": "IPY_MODEL_791603c1ed5d4a7686eaa1dcb88275ca",
       "value": "Yes"
      }
     },
     "a3bd7f95f0974011bce888d4d7437915": {
      "model_module": "@jupyter-widgets/base",
      "model_module_version": "2.0.0",
      "model_name": "LayoutModel",
      "state": {}
     },
     "a3e9059da0cb4bea92da61a698393328": {
      "model_module": "@jupyter-widgets/controls",
      "model_module_version": "2.0.0",
      "model_name": "TextStyleModel",
      "state": {
       "description_width": "",
       "font_size": null,
       "text_color": null
      }
     },
     "a4c0045959894345b5cf953b043d655b": {
      "model_module": "@jupyter-widgets/controls",
      "model_module_version": "2.0.0",
      "model_name": "IntTextModel",
      "state": {
       "layout": "IPY_MODEL_37a82a7bf00f4722b993e0ff45d748d4",
       "step": 1,
       "style": "IPY_MODEL_8fe08637d9af42e0a36e377eb8ffd7be"
      }
     },
     "a518d230b4b84d9bb24eea7fb18592b0": {
      "model_module": "@jupyter-widgets/controls",
      "model_module_version": "2.0.0",
      "model_name": "TextStyleModel",
      "state": {
       "description_width": "initial",
       "font_size": null,
       "text_color": null
      }
     },
     "a51fa70ebb0d436a8d19744e9aada56f": {
      "model_module": "@jupyter-widgets/output",
      "model_module_version": "1.0.0",
      "model_name": "OutputModel",
      "state": {
       "layout": "IPY_MODEL_95fd55462dbc4b608d1fafa0d5427bfc"
      }
     },
     "a584f3560b5d4dc68bc7f41bc699794d": {
      "model_module": "@jupyter-widgets/controls",
      "model_module_version": "2.0.0",
      "model_name": "TextStyleModel",
      "state": {
       "description_width": "initial",
       "font_size": null,
       "text_color": null
      }
     },
     "a5c1efbd13e04afa9a4baec80db7c0eb": {
      "model_module": "@jupyter-widgets/controls",
      "model_module_version": "2.0.0",
      "model_name": "ComboboxModel",
      "state": {
       "description": "3.9 Are there recommendations on the intended use of the data, and uses that are not recommended?",
       "ensure_option": false,
       "layout": "IPY_MODEL_926d7ffe31274a54afdedf1160c420fb",
       "options": [
        "Yes",
        "No",
        "N/A"
       ],
       "placeholder": "Click to select option",
       "style": "IPY_MODEL_8ccbf23ed18044148621d03c3c73bfe2"
      }
     },
     "a5e2868dc9d04871bb4b74acac4004d4": {
      "model_module": "@jupyter-widgets/controls",
      "model_module_version": "2.0.0",
      "model_name": "ComboboxModel",
      "state": {
       "description": "3.5 Is there a mechanism for user feedback and suggestions?",
       "ensure_option": false,
       "layout": "IPY_MODEL_7f15c3c08e294868bc2a7fb80869d11a",
       "options": [
        "Yes",
        "No",
        "N/A"
       ],
       "placeholder": "Click to select option",
       "style": "IPY_MODEL_c3c8f9b598ce4ba3b4780c0bf3fda1ee"
      }
     },
     "a5fba6d8d519443bba79879932ee5399": {
      "model_module": "@jupyter-widgets/controls",
      "model_module_version": "2.0.0",
      "model_name": "ComboboxModel",
      "state": {
       "description": "Are parameters crosswalked in an ontology or common vocabulary (e.g. NIEM)?",
       "ensure_option": false,
       "layout": "IPY_MODEL_56648cb7b6c648719240bf94fea77136",
       "options": [
        "Yes",
        "No",
        "N/A"
       ],
       "placeholder": "Click to select option",
       "style": "IPY_MODEL_de3959a11cc0471db0c39bfa9994bca8"
      }
     },
     "a61067752d9e4d139f4681dd26487be7": {
      "model_module": "@jupyter-widgets/controls",
      "model_module_version": "2.0.0",
      "model_name": "IntTextModel",
      "state": {
       "layout": "IPY_MODEL_805b4d35419f40c082e5426a8b46e138",
       "step": 1,
       "style": "IPY_MODEL_d71fd415ea1c4766a0a78e0b1903ec2c"
      }
     },
     "a6a81a2e18524ca2a68b44b047859da7": {
      "model_module": "@jupyter-widgets/base",
      "model_module_version": "2.0.0",
      "model_name": "LayoutModel",
      "state": {
       "width": "900px"
      }
     },
     "a7e4a7854b434d3791016c753fd843a9": {
      "model_module": "@jupyter-widgets/controls",
      "model_module_version": "2.0.0",
      "model_name": "ComboboxModel",
      "state": {
       "description": "3.2 Is there a comprehensive data dictionary/codebook that describes what each element of the dataset means? parameters?",
       "ensure_option": false,
       "layout": "IPY_MODEL_07c7713dcfe1498c9cea54a053000ca3",
       "options": [
        "Yes",
        "No",
        "N/A"
       ],
       "placeholder": "Click to select option",
       "style": "IPY_MODEL_b1647f4707d343e5a69ea4b928d323d9",
       "value": "Yes"
      }
     },
     "a817883082d94b71b3ae38e325ffcfd2": {
      "model_module": "@jupyter-widgets/controls",
      "model_module_version": "2.0.0",
      "model_name": "TextareaModel",
      "state": {
       "layout": "IPY_MODEL_78b03519000b4c10abdf3d044f24f774",
       "placeholder": "If yes, what measures were used?",
       "style": "IPY_MODEL_4710bfd08b0d40148a0fc86ffff3a393"
      }
     },
     "a89d5b7257c64ea79b2cf5ebfe376de5": {
      "model_module": "@jupyter-widgets/base",
      "model_module_version": "2.0.0",
      "model_name": "LayoutModel",
      "state": {
       "width": "900px"
      }
     },
     "a8bab7bced36465881f765c81e04f6f8": {
      "model_module": "@jupyter-widgets/controls",
      "model_module_version": "2.0.0",
      "model_name": "TextStyleModel",
      "state": {
       "description_width": "initial",
       "font_size": null,
       "text_color": null
      }
     },
     "a8d65b39083a4ff8b51f10627294816c": {
      "model_module": "@jupyter-widgets/base",
      "model_module_version": "2.0.0",
      "model_name": "LayoutModel",
      "state": {
       "display": "none",
       "width": "900px"
      }
     },
     "a905d49268cd4994a192bb11b154ce7d": {
      "model_module": "@jupyter-widgets/controls",
      "model_module_version": "2.0.0",
      "model_name": "TextStyleModel",
      "state": {
       "description_width": "initial",
       "font_size": null,
       "text_color": null
      }
     },
     "a95e7b8812264409bdea05baedbf32d0": {
      "model_module": "@jupyter-widgets/controls",
      "model_module_version": "2.0.0",
      "model_name": "LabelStyleModel",
      "state": {
       "description_width": "",
       "font_family": null,
       "font_size": null,
       "font_style": null,
       "font_variant": null,
       "font_weight": null,
       "text_color": null,
       "text_decoration": null
      }
     },
     "aab0144eaccc4dd8a59d79ee734979f6": {
      "model_module": "@jupyter-widgets/controls",
      "model_module_version": "2.0.0",
      "model_name": "TextStyleModel",
      "state": {
       "description_width": "initial",
       "font_size": null,
       "text_color": null
      }
     },
     "ab1be4c5d1434c63a2f3e3d82a48f177": {
      "model_module": "@jupyter-widgets/controls",
      "model_module_version": "2.0.0",
      "model_name": "LabelStyleModel",
      "state": {
       "description_width": "",
       "font_family": null,
       "font_size": null,
       "font_style": null,
       "font_variant": null,
       "font_weight": null,
       "text_color": null,
       "text_decoration": null
      }
     },
     "ab46cb3ef1ce4347bf565e036d96f11f": {
      "model_module": "@jupyter-widgets/base",
      "model_module_version": "2.0.0",
      "model_name": "LayoutModel",
      "state": {
       "width": "900px"
      }
     },
     "ac70e3b97e15430e91d19b524446475e": {
      "model_module": "@jupyter-widgets/controls",
      "model_module_version": "2.0.0",
      "model_name": "ComboboxModel",
      "state": {
       "description": "5.1 Have null values/gaps been filled?",
       "ensure_option": false,
       "layout": "IPY_MODEL_930bc801ac714d509708d203ae75fcf0",
       "options": [
        "Yes",
        "No",
        "N/A"
       ],
       "placeholder": "Click to select option",
       "style": "IPY_MODEL_73f92d683bc84ca4a0b2f162a1e80ad6",
       "value": "No"
      }
     },
     "acc1dabea34948d6b4c31680b13bfb60": {
      "model_module": "@jupyter-widgets/controls",
      "model_module_version": "2.0.0",
      "model_name": "TextStyleModel",
      "state": {
       "description_width": "initial",
       "font_size": null,
       "text_color": null
      }
     },
     "acf6ffb4328747cea66d521864b53ced": {
      "model_module": "@jupyter-widgets/base",
      "model_module_version": "2.0.0",
      "model_name": "LayoutModel",
      "state": {
       "width": "900px"
      }
     },
     "ad05dbf5fd45497c9ce3110208b99a41": {
      "model_module": "@jupyter-widgets/controls",
      "model_module_version": "2.0.0",
      "model_name": "TextModel",
      "state": {
       "description": "1.4. Assessor name:",
       "layout": "IPY_MODEL_ca1aae9e53324f85bf90866314194596",
       "style": "IPY_MODEL_58ef141fc44047ce8170d87646735060",
       "value": "John Pill"
      }
     },
     "ae60d4d1dbb14e5ea69a1b802f081199": {
      "model_module": "@jupyter-widgets/base",
      "model_module_version": "2.0.0",
      "model_name": "LayoutModel",
      "state": {
       "flex": "1 1 auto",
       "width": "auto"
      }
     },
     "af6dbf11e3054608b88e1f2947e597ca": {
      "model_module": "@jupyter-widgets/controls",
      "model_module_version": "2.0.0",
      "model_name": "TextStyleModel",
      "state": {
       "description_width": "initial",
       "font_size": null,
       "text_color": null
      }
     },
     "af8ea741519d41cf9be8f774b66370f2": {
      "model_module": "@jupyter-widgets/controls",
      "model_module_version": "2.0.0",
      "model_name": "TextModel",
      "state": {
       "description": "Metadata standard:",
       "layout": "IPY_MODEL_fc28631abbc444d99a7607fb1dfb0577",
       "placeholder": "Which standard is it? (CF, TBD, etc.)",
       "style": "IPY_MODEL_425c05a6140e4404a81afd16715ad80f"
      }
     },
     "af953f225349471ba6f305e5cbb73f75": {
      "model_module": "@jupyter-widgets/controls",
      "model_module_version": "2.0.0",
      "model_name": "TextStyleModel",
      "state": {
       "description_width": "initial",
       "font_size": null,
       "text_color": null
      }
     },
     "b00864e7777b4421b0cc738e7172c949": {
      "model_module": "@jupyter-widgets/controls",
      "model_module_version": "2.0.0",
      "model_name": "ComboboxModel",
      "state": {
       "description": "3.4 Is there contact information for subject-matter experts?",
       "ensure_option": false,
       "layout": "IPY_MODEL_b4cb13531ff64363a07c839f9d715f6b",
       "options": [
        "Yes",
        "No",
        "N/A"
       ],
       "placeholder": "Click to select option",
       "style": "IPY_MODEL_28017e7cd3194057a95ff082e61b7f85",
       "value": "Yes"
      }
     },
     "b11e9fa6b81d41438c2045c9f76d2108": {
      "model_module": "@jupyter-widgets/base",
      "model_module_version": "2.0.0",
      "model_name": "LayoutModel",
      "state": {
       "width": "900px"
      }
     },
     "b15ecda2bca94103b0d76fee12240666": {
      "model_module": "@jupyter-widgets/controls",
      "model_module_version": "2.0.0",
      "model_name": "ButtonStyleModel",
      "state": {
       "font_family": null,
       "font_size": null,
       "font_style": null,
       "font_variant": null,
       "font_weight": null,
       "text_color": null,
       "text_decoration": null
      }
     },
     "b1647f4707d343e5a69ea4b928d323d9": {
      "model_module": "@jupyter-widgets/controls",
      "model_module_version": "2.0.0",
      "model_name": "TextStyleModel",
      "state": {
       "description_width": "initial",
       "font_size": null,
       "text_color": null
      }
     },
     "b1964e246bfd47c5acbfd682214e80ce": {
      "model_module": "@jupyter-widgets/base",
      "model_module_version": "2.0.0",
      "model_name": "LayoutModel",
      "state": {
       "width": "900px"
      }
     },
     "b35f5b0321ac495cab10a09d0cc0dec2": {
      "model_module": "@jupyter-widgets/base",
      "model_module_version": "2.0.0",
      "model_name": "LayoutModel",
      "state": {
       "flex": "1 1 auto",
       "width": "auto"
      }
     },
     "b4509fb14e8f4e77902afe4d90b8edbb": {
      "model_module": "@jupyter-widgets/base",
      "model_module_version": "2.0.0",
      "model_name": "LayoutModel",
      "state": {
       "flex": "1 1 auto",
       "width": "auto"
      }
     },
     "b4cb13531ff64363a07c839f9d715f6b": {
      "model_module": "@jupyter-widgets/base",
      "model_module_version": "2.0.0",
      "model_name": "LayoutModel",
      "state": {
       "width": "900px"
      }
     },
     "b5094e0c336840e8b427319aa9081e0a": {
      "model_module": "@jupyter-widgets/base",
      "model_module_version": "2.0.0",
      "model_name": "LayoutModel",
      "state": {
       "width": "900px"
      }
     },
     "b65d61f0a0cf4c3594f8328767f90f2f": {
      "model_module": "@jupyter-widgets/controls",
      "model_module_version": "2.0.0",
      "model_name": "TextStyleModel",
      "state": {
       "description_width": "",
       "font_size": null,
       "text_color": null
      }
     },
     "b6d9b1f84c384004b57c5b79cc032139": {
      "model_module": "@jupyter-widgets/controls",
      "model_module_version": "2.0.0",
      "model_name": "TextStyleModel",
      "state": {
       "description_width": "initial",
       "font_size": null,
       "text_color": null
      }
     },
     "b7c3cab60b7d4cc7a9fe9a3419650a2c": {
      "model_module": "@jupyter-widgets/controls",
      "model_module_version": "2.0.0",
      "model_name": "ComboboxModel",
      "state": {
       "description": "Is the data dictionary standardized?",
       "ensure_option": false,
       "layout": "IPY_MODEL_5d9d5382c5cb469995e37fddf4fcb196",
       "options": [
        "Yes",
        "No",
        "N/A"
       ],
       "placeholder": "Click to select option",
       "style": "IPY_MODEL_103a94b90a39407fa7c1ae574aadb110",
       "value": "N/A"
      }
     },
     "b9216bfc99794f4991bf4e13d646bafc": {
      "model_module": "@jupyter-widgets/controls",
      "model_module_version": "2.0.0",
      "model_name": "TextModel",
      "state": {
       "layout": "IPY_MODEL_f63dfdfd46a04401a1fdaa4feba73257",
       "placeholder": "If “Yes”, please provide a URL to the documentation.",
       "style": "IPY_MODEL_93c70ac8ffa14996b457bc196d30daa2"
      }
     },
     "baf11ec6fded430e9e0f825d8051fb7e": {
      "model_module": "@jupyter-widgets/base",
      "model_module_version": "2.0.0",
      "model_name": "LayoutModel",
      "state": {
       "display": "",
       "width": "900px"
      }
     },
     "baf28e982a33404eb61c22c7f456197a": {
      "model_module": "@jupyter-widgets/controls",
      "model_module_version": "2.0.0",
      "model_name": "TextStyleModel",
      "state": {
       "description_width": "initial",
       "font_size": null,
       "text_color": null
      }
     },
     "bb362d3c704c49f880c165a63fc8204b": {
      "model_module": "@jupyter-widgets/controls",
      "model_module_version": "2.0.0",
      "model_name": "ComboboxModel",
      "state": {
       "description": "5.3 Is the data gridded (regularly sampled in time and space)?",
       "ensure_option": false,
       "layout": "IPY_MODEL_4b8c634e984e40ca9f4590d3e662dab6",
       "options": [
        "Regularly gridded in space",
        "Constant time-frequency",
        "Regularly gridded in space and constant time-frequency",
        "Not gridded",
        "N/A"
       ],
       "placeholder": "Click to select option",
       "style": "IPY_MODEL_8d6cfd560fb742878cb3f9fb52da730a",
       "value": "Not gridded"
      }
     },
     "bb4f09de82a04668b9cb842c9a4b24a1": {
      "model_module": "@jupyter-widgets/controls",
      "model_module_version": "2.0.0",
      "model_name": "ComboboxModel",
      "state": {
       "description": "Is the license standardized and machine-readable (e.g. Creative Commons)?",
       "ensure_option": false,
       "layout": "IPY_MODEL_ce9395156a704a5bb63a9d6f1b297e92",
       "options": [
        "Yes",
        "No",
        "N/A"
       ],
       "placeholder": "Click to select option",
       "style": "IPY_MODEL_560aa6df1c76446fad7bf9325f0a8428"
      }
     },
     "bc65dc2bde684921b5dde6105a56f636": {
      "model_module": "@jupyter-widgets/base",
      "model_module_version": "2.0.0",
      "model_name": "LayoutModel",
      "state": {
       "width": "900px"
      }
     },
     "bca4b2aab5b94514bd507b2234cff503": {
      "model_module": "@jupyter-widgets/controls",
      "model_module_version": "2.0.0",
      "model_name": "TextModel",
      "state": {
       "layout": "IPY_MODEL_4a531a60fda8446e837ea583acb855e3",
       "placeholder": "228 x 228",
       "style": "IPY_MODEL_cadc834ee4554043ad56f2b301d8332a"
      }
     },
     "bdeecf52e2254673a97727da4fcc0695": {
      "model_module": "@jupyter-widgets/controls",
      "model_module_version": "2.0.0",
      "model_name": "ComboboxModel",
      "state": {
       "description": "4.6 Has the data been aggregated to reduce granularity?",
       "ensure_option": false,
       "layout": "IPY_MODEL_8eaccb0af2d54abc8097fe9bb47c4993",
       "options": [
        "Yes",
        "No",
        "N/A"
       ],
       "placeholder": "Click to select option",
       "style": "IPY_MODEL_9231a0f329414c9e8ac36be81c18b32c"
      }
     },
     "be4d18fd59f149afae4731170de2c1ab": {
      "model_module": "@jupyter-widgets/controls",
      "model_module_version": "2.0.0",
      "model_name": "TextStyleModel",
      "state": {
       "description_width": "initial",
       "font_size": null,
       "text_color": null
      }
     },
     "be91194dbef94460a6497478741108a0": {
      "model_module": "@jupyter-widgets/base",
      "model_module_version": "2.0.0",
      "model_name": "LayoutModel",
      "state": {
       "display": "",
       "width": "900px"
      }
     },
     "bf52eb7f1e84437a8ee07d4701ae008e": {
      "model_module": "@jupyter-widgets/base",
      "model_module_version": "2.0.0",
      "model_name": "LayoutModel",
      "state": {}
     },
     "bf94e733c10742f38dc114e521df9b37": {
      "model_module": "@jupyter-widgets/controls",
      "model_module_version": "2.0.0",
      "model_name": "TextModel",
      "state": {
       "description": "3.7 What is the license for the data?",
       "layout": "IPY_MODEL_d79f7dc804294df3afc2a583ed20f24d",
       "placeholder": "Type your answer",
       "style": "IPY_MODEL_6751aba1443d4183bf84f189d808ffb0",
       "value": "None / Open"
      }
     },
     "c01de32bbc254b8cbe6c211bb3318a5a": {
      "model_module": "@jupyter-widgets/controls",
      "model_module_version": "2.0.0",
      "model_name": "ButtonStyleModel",
      "state": {
       "font_family": null,
       "font_size": null,
       "font_style": null,
       "font_variant": null,
       "font_weight": null,
       "text_color": null,
       "text_decoration": null
      }
     },
     "c0654ced05ac4ac39adb4b5048e11b5a": {
      "model_module": "@jupyter-widgets/controls",
      "model_module_version": "2.0.0",
      "model_name": "ButtonStyleModel",
      "state": {
       "font_family": null,
       "font_size": null,
       "font_style": null,
       "font_variant": null,
       "font_weight": null,
       "text_color": null,
       "text_decoration": null
      }
     },
     "c083b9e6e2ce4c80a0660da115732468": {
      "model_module": "@jupyter-widgets/controls",
      "model_module_version": "2.0.0",
      "model_name": "ComboboxModel",
      "state": {
       "description": "3.2 Is there a comprehensive data dictionary/codebook that describes what each element of the dataset means? parameters?",
       "ensure_option": false,
       "layout": "IPY_MODEL_5922b9bfda1a46b79158276faeed7d98",
       "options": [
        "Yes",
        "No",
        "N/A"
       ],
       "placeholder": "Click to select option",
       "style": "IPY_MODEL_d9e914981cba47ceb1bd9658c9c29d82"
      }
     },
     "c08b0482f37c470d8525819785dd6021": {
      "model_module": "@jupyter-widgets/controls",
      "model_module_version": "2.0.0",
      "model_name": "TextStyleModel",
      "state": {
       "description_width": "initial",
       "font_size": null,
       "text_color": null
      }
     },
     "c10354f6cccc43278ce3d6487385d49e": {
      "model_module": "@jupyter-widgets/controls",
      "model_module_version": "2.0.0",
      "model_name": "LabelModel",
      "state": {
       "layout": "IPY_MODEL_dce5891b86354044b27031d18efa9b9a",
       "style": "IPY_MODEL_137002a5b1074a96819e7602649355bc",
       "value": "If there are associated targets/labels, are community labeling standards implemented?"
      }
     },
     "c11a95522fb2429b90ce49a23e8bcc99": {
      "model_module": "@jupyter-widgets/controls",
      "model_module_version": "2.0.0",
      "model_name": "TextareaModel",
      "state": {
       "description": "3.8 Has this dataset already been used in AI or ML activities? Link to publications/reports",
       "layout": "IPY_MODEL_28bae4c6864a4b13b8ff9f697b0a993b",
       "style": "IPY_MODEL_c08b0482f37c470d8525819785dd6021"
      }
     },
     "c16be791800643eca6e77c47c111c007": {
      "model_module": "@jupyter-widgets/controls",
      "model_module_version": "2.0.0",
      "model_name": "ButtonStyleModel",
      "state": {
       "font_family": null,
       "font_size": null,
       "font_style": null,
       "font_variant": null,
       "font_weight": null,
       "text_color": null,
       "text_decoration": null
      }
     },
     "c173262118ca41cbaa645c7a40f7cf44": {
      "model_module": "@jupyter-widgets/controls",
      "model_module_version": "2.0.0",
      "model_name": "TextStyleModel",
      "state": {
       "description_width": "initial",
       "font_size": null,
       "text_color": null
      }
     },
     "c1c1b25824a94498bd46072161cf5ed0": {
      "model_module": "@jupyter-widgets/base",
      "model_module_version": "2.0.0",
      "model_name": "LayoutModel",
      "state": {}
     },
     "c1d45766d28d43a78ddde9c26a8d8a9c": {
      "model_module": "@jupyter-widgets/controls",
      "model_module_version": "2.0.0",
      "model_name": "DescriptionStyleModel",
      "state": {
       "description_width": ""
      }
     },
     "c2b6a33a218243b99ef74bcd5f00296d": {
      "model_module": "@jupyter-widgets/base",
      "model_module_version": "2.0.0",
      "model_name": "LayoutModel",
      "state": {
       "display": "none",
       "width": "900px"
      }
     },
     "c34cc45464d14c7e8edc076c2aee7fd7": {
      "model_module": "@jupyter-widgets/controls",
      "model_module_version": "2.0.0",
      "model_name": "TextStyleModel",
      "state": {
       "description_width": "initial",
       "font_size": null,
       "text_color": null
      }
     },
     "c3c8f9b598ce4ba3b4780c0bf3fda1ee": {
      "model_module": "@jupyter-widgets/controls",
      "model_module_version": "2.0.0",
      "model_name": "TextStyleModel",
      "state": {
       "description_width": "initial",
       "font_size": null,
       "text_color": null
      }
     },
     "c3e2341b0b2a40928309921e0b43aeed": {
      "model_module": "@jupyter-widgets/base",
      "model_module_version": "2.0.0",
      "model_name": "LayoutModel",
      "state": {
       "display": "none",
       "width": "900px"
      }
     },
     "c4563888630246f980320b0e7f5313d8": {
      "model_module": "@jupyter-widgets/controls",
      "model_module_version": "2.0.0",
      "model_name": "ComboboxModel",
      "state": {
       "description": "Does it include details on the spatial and temporal extent?",
       "ensure_option": false,
       "layout": "IPY_MODEL_9bacf8ccb13d4b0ab95cb5ca426b2fe8",
       "options": [
        "Yes",
        "No",
        "N/A"
       ],
       "placeholder": "Click to select option",
       "style": "IPY_MODEL_3fa23b1b592e44069772306ab6636d8a",
       "value": "Yes"
      }
     },
     "c6577d72cd514db7bb20cb31e2d74fdc": {
      "model_module": "@jupyter-widgets/controls",
      "model_module_version": "2.0.0",
      "model_name": "TextStyleModel",
      "state": {
       "description_width": "initial",
       "font_size": null,
       "text_color": null
      }
     },
     "c7bd9be22ea8433b816c113440455989": {
      "model_module": "@jupyter-widgets/controls",
      "model_module_version": "2.0.0",
      "model_name": "ComboboxModel",
      "state": {
       "description": "5.4 Are there associated targets or labels for supervised learning techniques?",
       "ensure_option": false,
       "layout": "IPY_MODEL_a22ead83dedb4c1d9561ab9a9a7e129a",
       "options": [
        "Yes",
        "No",
        "N/A"
       ],
       "placeholder": "Click to select option - (Can this be used as a training dataset)?",
       "style": "IPY_MODEL_344f7a936a9c475499c588a0f3b4778e",
       "value": "No"
      }
     },
     "c856d4014c874fdfa6374356944c83d0": {
      "model_module": "@jupyter-widgets/controls",
      "model_module_version": "2.0.0",
      "model_name": "TextStyleModel",
      "state": {
       "description_width": "initial",
       "font_size": null,
       "text_color": null
      }
     },
     "c8579b038b2145a2aa269465b927e805": {
      "model_module": "@jupyter-widgets/base",
      "model_module_version": "2.0.0",
      "model_name": "LayoutModel",
      "state": {
       "width": "900px"
      }
     },
     "c9b4ac7c14c1490bb17c73216c8a1ef5": {
      "model_module": "@jupyter-widgets/controls",
      "model_module_version": "2.0.0",
      "model_name": "ComboboxModel",
      "state": {
       "description": "Is the dataset metadata machine-readable?",
       "ensure_option": false,
       "layout": "IPY_MODEL_09b784a089204ab6846ff11eba36f95c",
       "options": [
        "Yes",
        "No",
        "N/A"
       ],
       "placeholder": "Click to select option",
       "style": "IPY_MODEL_d2c226772fde49788a84e24edf130712",
       "value": "Yes"
      }
     },
     "c9ee277f1cf745d7a474a857303943a7": {
      "model_module": "@jupyter-widgets/base",
      "model_module_version": "2.0.0",
      "model_name": "LayoutModel",
      "state": {
       "width": "900px"
      }
     },
     "ca13f3f1422545438aaadc7ca959f1e3": {
      "model_module": "@jupyter-widgets/base",
      "model_module_version": "2.0.0",
      "model_name": "LayoutModel",
      "state": {
       "width": "900px"
      }
     },
     "ca1aae9e53324f85bf90866314194596": {
      "model_module": "@jupyter-widgets/base",
      "model_module_version": "2.0.0",
      "model_name": "LayoutModel",
      "state": {
       "width": "900px"
      }
     },
     "ca548b7497cd47738c461838a6bdc4d1": {
      "model_module": "@jupyter-widgets/base",
      "model_module_version": "2.0.0",
      "model_name": "LayoutModel",
      "state": {}
     },
     "caa5e30d472d42e3a8bfa9b1506a2782": {
      "model_module": "@jupyter-widgets/controls",
      "model_module_version": "2.0.0",
      "model_name": "TextStyleModel",
      "state": {
       "description_width": "initial",
       "font_size": null,
       "text_color": null
      }
     },
     "cadc834ee4554043ad56f2b301d8332a": {
      "model_module": "@jupyter-widgets/controls",
      "model_module_version": "2.0.0",
      "model_name": "TextStyleModel",
      "state": {
       "description_width": "",
       "font_size": null,
       "text_color": null
      }
     },
     "cbb05f3ba0314ba28602501373708597": {
      "model_module": "@jupyter-widgets/controls",
      "model_module_version": "2.0.0",
      "model_name": "SelectMultipleModel",
      "state": {
       "_options_labels": [
        "CSV",
        "netCDF",
        "geoJSON",
        "Shapefile",
        "GRIB",
        "HDF",
        "GeoTIFF",
        "KML",
        "GINI",
        "Zarr",
        "Other"
       ],
       "index": [],
       "layout": "IPY_MODEL_6a38fb9e9f4c4ad2981cdfa58f6da9d3",
       "rows": 11,
       "style": "IPY_MODEL_c1d45766d28d43a78ddde9c26a8d8a9c"
      }
     },
     "cbd8435996084a9cb144e218c9b38fad": {
      "model_module": "@jupyter-widgets/controls",
      "model_module_version": "2.0.0",
      "model_name": "ComboboxModel",
      "state": {
       "description": "Are the main formats machine-readable?",
       "ensure_option": false,
       "layout": "IPY_MODEL_8f56417c57054be191b8af258cdc5884",
       "options": [
        "Yes",
        "No",
        "N/A"
       ],
       "placeholder": "Click to select option",
       "style": "IPY_MODEL_d9cb282cec4a446a9a524c6bf491e353"
      }
     },
     "cc7ec0d793534a85be3deb7202a2940d": {
      "model_module": "@jupyter-widgets/controls",
      "model_module_version": "2.0.0",
      "model_name": "TextModel",
      "state": {
       "description": "Identifier",
       "layout": "IPY_MODEL_457cad9aee7546109eddb00ec8167f4b",
       "placeholder": "Click to select option",
       "style": "IPY_MODEL_20abbf538afa4b4589dfea505171d6ef",
       "value": "NCEI DSI 3505"
      }
     },
     "ce9395156a704a5bb63a9d6f1b297e92": {
      "model_module": "@jupyter-widgets/base",
      "model_module_version": "2.0.0",
      "model_name": "LayoutModel",
      "state": {
       "width": "900px"
      }
     },
     "d007013aee9c4640b8a9645e75c13318": {
      "model_module": "@jupyter-widgets/base",
      "model_module_version": "2.0.0",
      "model_name": "LayoutModel",
      "state": {
       "width": "900px"
      }
     },
     "d2620614c6044a189b4778cf1a00c1c6": {
      "model_module": "@jupyter-widgets/controls",
      "model_module_version": "2.0.0",
      "model_name": "ButtonModel",
      "state": {
       "button_style": "primary",
       "description": "Save Timeliness, Completeness & Consistency Answers to json file",
       "layout": "IPY_MODEL_2eb4e5338f19407caaf33b3213ab8f16",
       "style": "IPY_MODEL_281e86b64ad94581810f106ef08a7dfb",
       "tooltip": null
      }
     },
     "d2c226772fde49788a84e24edf130712": {
      "model_module": "@jupyter-widgets/controls",
      "model_module_version": "2.0.0",
      "model_name": "TextStyleModel",
      "state": {
       "description_width": "initial",
       "font_size": null,
       "text_color": null
      }
     },
     "d2d41db7320f46f59ca3399702d665ad": {
      "model_module": "@jupyter-widgets/base",
      "model_module_version": "2.0.0",
      "model_name": "LayoutModel",
      "state": {
       "width": "900px"
      }
     },
     "d398ea7d7126458d9b286f4149fb9cd7": {
      "model_module": "@jupyter-widgets/controls",
      "model_module_version": "2.0.0",
      "model_name": "TextStyleModel",
      "state": {
       "description_width": "initial",
       "font_size": null,
       "text_color": null
      }
     },
     "d4335a13591f499183f5313833b79738": {
      "model_module": "@jupyter-widgets/controls",
      "model_module_version": "2.0.0",
      "model_name": "ComboboxModel",
      "state": {
       "description": "2.8 Is there known bias in the dataset?",
       "ensure_option": false,
       "layout": "IPY_MODEL_c9ee277f1cf745d7a474a857303943a7",
       "options": [
        "Yes",
        "No",
        "Unknown"
       ],
       "placeholder": "Click to select option",
       "style": "IPY_MODEL_828e186be5614a3fa144d097eba5449a",
       "value": "Unknown"
      }
     },
     "d50f338c0d1e46b5b0492d8feb40165a": {
      "model_module": "@jupyter-widgets/controls",
      "model_module_version": "2.0.0",
      "model_name": "ComboboxModel",
      "state": {
       "description": "Have measures been taken to examine bias?",
       "ensure_option": false,
       "layout": "IPY_MODEL_c2b6a33a218243b99ef74bcd5f00296d",
       "options": [
        "Yes",
        "No",
        "Unknown",
        "N/A"
       ],
       "placeholder": "Click to select option",
       "style": "IPY_MODEL_68937f45727a4745afe00d92bb964113"
      }
     },
     "d52101a217904ff58d6a6783dd48b337": {
      "model_module": "@jupyter-widgets/base",
      "model_module_version": "2.0.0",
      "model_name": "LayoutModel",
      "state": {}
     },
     "d5362b78ea4243ada14e70a9cc55627a": {
      "model_module": "@jupyter-widgets/controls",
      "model_module_version": "2.0.0",
      "model_name": "TextStyleModel",
      "state": {
       "description_width": "initial",
       "font_size": null,
       "text_color": null
      }
     },
     "d612596c6a9b44cab68fc3721bb15736": {
      "model_module": "@jupyter-widgets/controls",
      "model_module_version": "2.0.0",
      "model_name": "TextStyleModel",
      "state": {
       "description_width": "initial",
       "font_size": null,
       "text_color": null
      }
     },
     "d623a91100aa417089ea9e8e025b8bf3": {
      "model_module": "@jupyter-widgets/base",
      "model_module_version": "2.0.0",
      "model_name": "LayoutModel",
      "state": {
       "display": "none",
       "width": "900px"
      }
     },
     "d703362b989c4cd29b783b3b68d0ec9c": {
      "model_module": "@jupyter-widgets/base",
      "model_module_version": "2.0.0",
      "model_name": "LayoutModel",
      "state": {
       "display": "",
       "width": "900px"
      }
     },
     "d71fd415ea1c4766a0a78e0b1903ec2c": {
      "model_module": "@jupyter-widgets/controls",
      "model_module_version": "2.0.0",
      "model_name": "DescriptionStyleModel",
      "state": {
       "description_width": ""
      }
     },
     "d72a245def6e48a08b78603095556a3b": {
      "model_module": "@jupyter-widgets/controls",
      "model_module_version": "2.0.0",
      "model_name": "DescriptionStyleModel",
      "state": {
       "description_width": ""
      }
     },
     "d736797f5f314e838ed4e9057e2ec0b9": {
      "model_module": "@jupyter-widgets/controls",
      "model_module_version": "2.0.0",
      "model_name": "ComboboxModel",
      "state": {
       "description": "Is the data available in at least one open, non-proprietary format?",
       "ensure_option": false,
       "layout": "IPY_MODEL_4208447c89a14dcda8c890f1120c4c45",
       "options": [
        "Yes",
        "No",
        "N/A"
       ],
       "placeholder": "Click to select option",
       "style": "IPY_MODEL_404c1a9d4ea344e7a180f6827ee86a13",
       "value": "Yes"
      }
     },
     "d789b20c857543b6adceb1d1f513bfc8": {
      "model_module": "@jupyter-widgets/controls",
      "model_module_version": "2.0.0",
      "model_name": "TextStyleModel",
      "state": {
       "description_width": "initial",
       "font_size": null,
       "text_color": null
      }
     },
     "d79a0e5d863a4efb8c6659ee4d920bdf": {
      "model_module": "@jupyter-widgets/controls",
      "model_module_version": "2.0.0",
      "model_name": "DescriptionStyleModel",
      "state": {
       "description_width": ""
      }
     },
     "d79f7dc804294df3afc2a583ed20f24d": {
      "model_module": "@jupyter-widgets/base",
      "model_module_version": "2.0.0",
      "model_name": "LayoutModel",
      "state": {
       "width": "900px"
      }
     },
     "d80f06ad865a409681b8d46878b5ad9d": {
      "model_module": "@jupyter-widgets/base",
      "model_module_version": "2.0.0",
      "model_name": "LayoutModel",
      "state": {
       "width": "900px"
      }
     },
     "d84ecd5805f84bed9733c6826b170808": {
      "model_module": "@jupyter-widgets/controls",
      "model_module_version": "2.0.0",
      "model_name": "TextModel",
      "state": {
       "description": "Tools / services link:",
       "layout": "IPY_MODEL_97ea57800ce649b08a66262574803349",
       "placeholder": "If yes, provide the link to the tools/services",
       "style": "IPY_MODEL_e99bd756102547df804f77d4beb72808"
      }
     },
     "d9cb282cec4a446a9a524c6bf491e353": {
      "model_module": "@jupyter-widgets/controls",
      "model_module_version": "2.0.0",
      "model_name": "TextStyleModel",
      "state": {
       "description_width": "initial",
       "font_size": null,
       "text_color": null
      }
     },
     "d9e914981cba47ceb1bd9658c9c29d82": {
      "model_module": "@jupyter-widgets/controls",
      "model_module_version": "2.0.0",
      "model_name": "TextStyleModel",
      "state": {
       "description_width": "initial",
       "font_size": null,
       "text_color": null
      }
     },
     "d9fdbd8ff95d405abd8f28b230530012": {
      "model_module": "@jupyter-widgets/controls",
      "model_module_version": "2.0.0",
      "model_name": "ComboboxModel",
      "state": {
       "description": "3.6 Are there example codes / notebooks / toolkits available showing how the data can be used?",
       "ensure_option": false,
       "layout": "IPY_MODEL_9ab9c9d6d35d4406a3f4f2a3232a2385",
       "options": [
        "Yes",
        "No",
        "N/A"
       ],
       "placeholder": "Click to select option",
       "style": "IPY_MODEL_71772cccbc594df48688a460ee2550c5",
       "value": "No"
      }
     },
     "db58307840fd49309f3a9fbf3539b649": {
      "model_module": "@jupyter-widgets/controls",
      "model_module_version": "2.0.0",
      "model_name": "TextModel",
      "state": {
       "description": "1.5. Assessor email address:",
       "layout": "IPY_MODEL_48959936433d415cb8567923021b5396",
       "style": "IPY_MODEL_5347ee02c68844cab7c518a6287568a6",
       "value": "john.pill@metoffice.gov.uk"
      }
     },
     "dba00606140b4b9599392c3abb60a540": {
      "model_module": "@jupyter-widgets/base",
      "model_module_version": "2.0.0",
      "model_name": "LayoutModel",
      "state": {}
     },
     "dbdc54bb49b04610a9fdca60d77f5370": {
      "model_module": "@jupyter-widgets/controls",
      "model_module_version": "2.0.0",
      "model_name": "TextStyleModel",
      "state": {
       "description_width": "initial",
       "font_size": null,
       "text_color": null
      }
     },
     "dce5891b86354044b27031d18efa9b9a": {
      "model_module": "@jupyter-widgets/base",
      "model_module_version": "2.0.0",
      "model_name": "LayoutModel",
      "state": {}
     },
     "dd9e9dffc0354885b7690154438f15a3": {
      "model_module": "@jupyter-widgets/controls",
      "model_module_version": "2.0.0",
      "model_name": "TextareaModel",
      "state": {
       "layout": "IPY_MODEL_99b979d9f0c944b9a6c8576f69a6b6b4",
       "placeholder": "Is the bias metrological traceable?",
       "style": "IPY_MODEL_1516b863696f495aa904d27dd6e7803a"
      }
     },
     "de3959a11cc0471db0c39bfa9994bca8": {
      "model_module": "@jupyter-widgets/controls",
      "model_module_version": "2.0.0",
      "model_name": "TextStyleModel",
      "state": {
       "description_width": "initial",
       "font_size": null,
       "text_color": null
      }
     },
     "debf3cbc91bb407dbe7e27332b125a27": {
      "model_module": "@jupyter-widgets/controls",
      "model_module_version": "2.0.0",
      "model_name": "ComboboxModel",
      "state": {
       "description": "2.12 Are there checksums / other checks for data integrity? ",
       "ensure_option": false,
       "layout": "IPY_MODEL_5908030646584e33b4e22e3526247160",
       "options": [
        "Yes",
        "No",
        "N/A"
       ],
       "placeholder": "Click to select option",
       "style": "IPY_MODEL_140ed17b545d42fcb827f81c78b69a86",
       "value": "Yes"
      }
     },
     "df72c18b18a445f9b22f44da87b88915": {
      "model_module": "@jupyter-widgets/base",
      "model_module_version": "2.0.0",
      "model_name": "LayoutModel",
      "state": {
       "width": "900px"
      }
     },
     "e0679ed73e2f41f8b6f175b5af612154": {
      "model_module": "@jupyter-widgets/base",
      "model_module_version": "2.0.0",
      "model_name": "LayoutModel",
      "state": {}
     },
     "e09dd0c472c043c0a595f8cba76d7c85": {
      "model_module": "@jupyter-widgets/controls",
      "model_module_version": "2.0.0",
      "model_name": "ButtonModel",
      "state": {
       "button_style": "primary",
       "description": "Save Data Documentation Answers to json file",
       "layout": "IPY_MODEL_6b9809ad79e7488ca764199fd924332c",
       "style": "IPY_MODEL_e728af34ef3d40a8a13a83d646914f6c",
       "tooltip": null
      }
     },
     "e10938a9ff164ff9a7b0c12736076cf4": {
      "model_module": "@jupyter-widgets/controls",
      "model_module_version": "2.0.0",
      "model_name": "TextStyleModel",
      "state": {
       "description_width": "initial",
       "font_size": null,
       "text_color": null
      }
     },
     "e131824fb185400eab3ca469d871b303": {
      "model_module": "@jupyter-widgets/controls",
      "model_module_version": "2.0.0",
      "model_name": "TextStyleModel",
      "state": {
       "description_width": "",
       "font_size": null,
       "text_color": null
      }
     },
     "e24f25c145cc49b28a66b2ee73e8fdba": {
      "model_module": "@jupyter-widgets/controls",
      "model_module_version": "2.0.0",
      "model_name": "LabelModel",
      "state": {
       "layout": "IPY_MODEL_a3bd7f95f0974011bce888d4d7437915",
       "style": "IPY_MODEL_6f241892355b430d88070fc853acd0c3",
       "value": "Select from the list, or type your own answer if appropriate."
      }
     },
     "e295e2ced39e46ca9604b7e19746f7e6": {
      "model_module": "@jupyter-widgets/controls",
      "model_module_version": "2.0.0",
      "model_name": "LabelStyleModel",
      "state": {
       "description_width": "",
       "font_family": null,
       "font_size": null,
       "font_style": null,
       "font_variant": null,
       "font_weight": null,
       "text_color": null,
       "text_decoration": null
      }
     },
     "e2d6578a729d46edb67b0224d49554da": {
      "model_module": "@jupyter-widgets/controls",
      "model_module_version": "2.0.0",
      "model_name": "TextModel",
      "state": {
       "description": "If yes, what is the delay between different stages?",
       "layout": "IPY_MODEL_69e9af3bf6b14767a360c513b6fad2f3",
       "style": "IPY_MODEL_9a84474bea224067ae2a247901c5cdf1"
      }
     },
     "e3360393cfa54c9aa4f9ed128c1131d7": {
      "model_module": "@jupyter-widgets/controls",
      "model_module_version": "2.0.0",
      "model_name": "IntTextModel",
      "state": {
       "layout": "IPY_MODEL_3e0f14a05e3149069732022c0fdc4127",
       "step": 1,
       "style": "IPY_MODEL_d79a0e5d863a4efb8c6659ee4d920bdf",
       "value": 2
      }
     },
     "e37b72c2e9b843f8a855da57019f4ea5": {
      "model_module": "@jupyter-widgets/controls",
      "model_module_version": "2.0.0",
      "model_name": "ComboboxModel",
      "state": {
       "description": "If the data will be updated, how often will it be updated?",
       "ensure_option": false,
       "layout": "IPY_MODEL_6a356965d3814820aee27a9db1b96c09",
       "options": [
        "When data updated",
        "Hourly",
        "Daily",
        "Weekly",
        "Monthly",
        "Annually",
        "Other",
        "N/A"
       ],
       "placeholder": "Click to select option",
       "style": "IPY_MODEL_77fb8aa23210418a882a5e798e4aaa58",
       "value": "Daily"
      }
     },
     "e49b57a9397a456cac64ab1c08a9a549": {
      "model_module": "@jupyter-widgets/controls",
      "model_module_version": "2.0.0",
      "model_name": "ComboboxModel",
      "state": {
       "description": "4.4 Is there an Application Programming Interface (API) or web service to access the data?",
       "ensure_option": false,
       "layout": "IPY_MODEL_97fca2b64be3469488229d542c4886d6",
       "options": [
        "Yes",
        "No",
        "N/A"
       ],
       "placeholder": "Click to select option",
       "style": "IPY_MODEL_a2e489356ee6432bbc3771de91b1b4a9"
      }
     },
     "e4c93a0949504b42aab236fa34334077": {
      "model_module": "@jupyter-widgets/controls",
      "model_module_version": "2.0.0",
      "model_name": "ComboboxModel",
      "state": {
       "description": "Is the dataset metadata machine-readable?",
       "ensure_option": false,
       "layout": "IPY_MODEL_4487b230271341eb9a2356f14f6aeefa",
       "options": [
        "Yes",
        "No",
        "N/A"
       ],
       "placeholder": "Click to select option",
       "style": "IPY_MODEL_af6dbf11e3054608b88e1f2947e597ca"
      }
     },
     "e50bbdb0c60d489da218ea0d260c3318": {
      "model_module": "@jupyter-widgets/controls",
      "model_module_version": "2.0.0",
      "model_name": "TextStyleModel",
      "state": {
       "description_width": "initial",
       "font_size": null,
       "text_color": null
      }
     },
     "e666dc88ea554029b2b16806a9ada5d2": {
      "model_module": "@jupyter-widgets/base",
      "model_module_version": "2.0.0",
      "model_name": "LayoutModel",
      "state": {
       "display": "none",
       "width": "900px"
      }
     },
     "e728af34ef3d40a8a13a83d646914f6c": {
      "model_module": "@jupyter-widgets/controls",
      "model_module_version": "2.0.0",
      "model_name": "ButtonStyleModel",
      "state": {
       "font_family": null,
       "font_size": null,
       "font_style": null,
       "font_variant": null,
       "font_weight": null,
       "text_color": null,
       "text_decoration": null
      }
     },
     "e7b3fb1cf4dd4a0baa01029923952c13": {
      "model_module": "@jupyter-widgets/controls",
      "model_module_version": "2.0.0",
      "model_name": "TextModel",
      "state": {
       "description": "1.3. Location / url link:",
       "layout": "IPY_MODEL_d007013aee9c4640b8a9645e75c13318",
       "style": "IPY_MODEL_f9f34ccd95e34092976f88302b17aa2d",
       "value": "https://www.ncei.noaa.gov/metadata/geoportal/rest/metadata/item/gov.noaa.ncdc:C00516/html"
      }
     },
     "e810f667c38145cd8f77c3cd855e4186": {
      "model_module": "@jupyter-widgets/base",
      "model_module_version": "2.0.0",
      "model_name": "LayoutModel",
      "state": {
       "display": "",
       "width": "900px"
      }
     },
     "e8ee1928d61d461a8a3790fc3b3e7794": {
      "model_module": "@jupyter-widgets/controls",
      "model_module_version": "2.0.0",
      "model_name": "TextStyleModel",
      "state": {
       "description_width": "initial",
       "font_size": null,
       "text_color": null
      }
     },
     "e99bd756102547df804f77d4beb72808": {
      "model_module": "@jupyter-widgets/controls",
      "model_module_version": "2.0.0",
      "model_name": "TextStyleModel",
      "state": {
       "description_width": "initial",
       "font_size": null,
       "text_color": null
      }
     },
     "ea2029c587fc4194b8c69d9423d12977": {
      "model_module": "@jupyter-widgets/base",
      "model_module_version": "2.0.0",
      "model_name": "LayoutModel",
      "state": {
       "display": "",
       "width": "900px"
      }
     },
     "ead43b293c9543f6a73e96031504b30a": {
      "model_module": "@jupyter-widgets/base",
      "model_module_version": "2.0.0",
      "model_name": "LayoutModel",
      "state": {
       "width": "900px"
      }
     },
     "eb0473248ee84eadbc782f0558b96ed7": {
      "model_module": "@jupyter-widgets/controls",
      "model_module_version": "2.0.0",
      "model_name": "BoxModel",
      "state": {
       "layout": "IPY_MODEL_fc2b7b9e5ff445d1b56103e372f84353"
      }
     },
     "eb3bfee398214354aa65fa0e7a134f8a": {
      "model_module": "@jupyter-widgets/base",
      "model_module_version": "2.0.0",
      "model_name": "LayoutModel",
      "state": {
       "width": "900px"
      }
     },
     "ec335e9e80ae4db7af126f7d79753e11": {
      "model_module": "@jupyter-widgets/controls",
      "model_module_version": "2.0.0",
      "model_name": "ButtonModel",
      "state": {
       "button_style": "primary",
       "description": "Save Data Access Answers to json file",
       "layout": "IPY_MODEL_fc37f5a0a39649b0b8a3b4a50ed2a36f",
       "style": "IPY_MODEL_1fe8faf5e36f4d169f850aaba6f764fa",
       "tooltip": null
      }
     },
     "ec5a650898c34756a4cdbcf0ab4fdcfd": {
      "model_module": "@jupyter-widgets/controls",
      "model_module_version": "2.0.0",
      "model_name": "ComboboxModel",
      "state": {
       "description": "Is the data dictionary standardized?",
       "ensure_option": false,
       "layout": "IPY_MODEL_59b10defd1ae4681bf4890f72a54b26c",
       "options": [
        "Yes",
        "No",
        "N/A"
       ],
       "placeholder": "Click to select option",
       "style": "IPY_MODEL_776e2656c9124c0fb7bb318392691c2a"
      }
     },
     "ecaa8fa9365c4e9d89d999ad5544a585": {
      "model_module": "@jupyter-widgets/controls",
      "model_module_version": "2.0.0",
      "model_name": "TextStyleModel",
      "state": {
       "description_width": "",
       "font_size": null,
       "text_color": null
      }
     },
     "ed3a46107ab842b188125f2cb8d19db0": {
      "model_module": "@jupyter-widgets/controls",
      "model_module_version": "2.0.0",
      "model_name": "ComboboxModel",
      "state": {
       "description": "3.1 Does the dataset metadata follow a community/domain standard or convention?",
       "ensure_option": false,
       "layout": "IPY_MODEL_044f5aba21874743a6e1d98a4ddc3292",
       "options": [
        "Yes",
        "No",
        "N/A"
       ],
       "placeholder": "Click to select option",
       "style": "IPY_MODEL_0dabfcfa698f463280d80336059b608a",
       "value": "Yes"
      }
     },
     "ed442cd6ac8140c6ac3a6e7dade1c1bf": {
      "model_module": "@jupyter-widgets/controls",
      "model_module_version": "2.0.0",
      "model_name": "ComboboxModel",
      "state": {
       "description": "4.4 Is there an Application Programming Interface (API) or web service to access the data?",
       "ensure_option": false,
       "layout": "IPY_MODEL_26c1f6338aa041bca661cef8eee20ccc",
       "options": [
        "Yes",
        "No",
        "N/A"
       ],
       "placeholder": "Click to select option",
       "style": "IPY_MODEL_baf28e982a33404eb61c22c7f456197a",
       "value": "Yes"
      }
     },
     "eeef89cb5b01438bbf52e8ed73870b66": {
      "model_module": "@jupyter-widgets/controls",
      "model_module_version": "2.0.0",
      "model_name": "ComboboxModel",
      "state": {
       "description": "Does it include details on the spatial and temporal extent?",
       "ensure_option": false,
       "layout": "IPY_MODEL_ea2029c587fc4194b8c69d9423d12977",
       "options": [
        "Yes",
        "No",
        "N/A"
       ],
       "placeholder": "Click to select option",
       "style": "IPY_MODEL_32d8c3ab58834d83b3f0c7502927c140",
       "value": "Yes"
      }
     },
     "f02929c6e66c4deba0520b63e82c6146": {
      "model_module": "@jupyter-widgets/controls",
      "model_module_version": "2.0.0",
      "model_name": "ComboboxModel",
      "state": {
       "description": "5.3 Is the data gridded (regularly sampled in time and space)?",
       "ensure_option": false,
       "layout": "IPY_MODEL_584998b687d241f7b2c227ac1aa82a94",
       "options": [
        "Regularly gridded in space",
        "Constant time-frequency",
        "Regularly gridded in space and constant time-frequency",
        "Not gridded",
        "N/A"
       ],
       "placeholder": "Click to select option",
       "style": "IPY_MODEL_5de552231d464dcea6268683589126e0"
      }
     },
     "f073fe8dfe6f4e54ace4e55871f9d641": {
      "model_module": "@jupyter-widgets/base",
      "model_module_version": "2.0.0",
      "model_name": "LayoutModel",
      "state": {
       "width": "900px"
      }
     },
     "f145d2b82a9d4c658c4e1e28d353fb6c": {
      "model_module": "@jupyter-widgets/base",
      "model_module_version": "2.0.0",
      "model_name": "LayoutModel",
      "state": {}
     },
     "f1eae5c9fd9344be9732fb0ebe7c6eeb": {
      "model_module": "@jupyter-widgets/controls",
      "model_module_version": "2.0.0",
      "model_name": "ComboboxModel",
      "state": {
       "description": "3.1 Does the dataset metadata follow a community/domain standard or convention?",
       "ensure_option": false,
       "layout": "IPY_MODEL_715d56721d31436292433c127fed2f09",
       "options": [
        "Yes",
        "No",
        "N/A"
       ],
       "placeholder": "Click to select option",
       "style": "IPY_MODEL_6e572caf40e94432b02c27aafe5bdf71",
       "value": "Yes"
      }
     },
     "f39aabe021414dd1a8adb936acf5301d": {
      "model_module": "@jupyter-widgets/base",
      "model_module_version": "2.0.0",
      "model_name": "LayoutModel",
      "state": {}
     },
     "f3d1a42677244d728b514fbeea8d3f5e": {
      "model_module": "@jupyter-widgets/controls",
      "model_module_version": "2.0.0",
      "model_name": "TextModel",
      "state": {
       "description": "Quality information link:",
       "layout": "IPY_MODEL_65fed9e557314ef88deaac454584dd06",
       "placeholder": "If there is published quality information, please provide the link.",
       "style": "IPY_MODEL_a905d49268cd4994a192bb11b154ce7d",
       "value": "https://www.ncei.noaa.gov/pub/data/inventories/ish-qc.pdf"
      }
     },
     "f4109b64cb1d40d28a0eff7e44b87e51": {
      "model_module": "@jupyter-widgets/controls",
      "model_module_version": "2.0.0",
      "model_name": "TextStyleModel",
      "state": {
       "description_width": "initial",
       "font_size": null,
       "text_color": null
      }
     },
     "f4b6b38a84c74c18a5598e0d82d34572": {
      "model_module": "@jupyter-widgets/base",
      "model_module_version": "2.0.0",
      "model_name": "LayoutModel",
      "state": {
       "display": "none",
       "width": "900px"
      }
     },
     "f51471b850084fbe9221e4f3eaa696d6": {
      "model_module": "@jupyter-widgets/controls",
      "model_module_version": "2.0.0",
      "model_name": "ComboboxModel",
      "state": {
       "description": "2.6 Is this dataset’s units, data types, and parameter names consistent with similar data collections?",
       "ensure_option": false,
       "layout": "IPY_MODEL_17867b97dc8d42f3a8a286d22e936b80",
       "options": [
        "Yes",
        "No",
        "N/A"
       ],
       "placeholder": "Click to select option",
       "style": "IPY_MODEL_081bfff594754d4195c4671f6122affa",
       "value": "Yes"
      }
     },
     "f5877ed44deb4b0b8ef57b47f102a31a": {
      "model_module": "@jupyter-widgets/base",
      "model_module_version": "2.0.0",
      "model_name": "LayoutModel",
      "state": {}
     },
     "f5d8b97c4b254cb2839acdb3590119ff": {
      "model_module": "@jupyter-widgets/controls",
      "model_module_version": "2.0.0",
      "model_name": "TextStyleModel",
      "state": {
       "description_width": "initial",
       "font_size": null,
       "text_color": null
      }
     },
     "f5da6a9589654268955a712b14c90578": {
      "model_module": "@jupyter-widgets/controls",
      "model_module_version": "2.0.0",
      "model_name": "TextStyleModel",
      "state": {
       "description_width": "initial",
       "font_size": null,
       "text_color": null
      }
     },
     "f63dfdfd46a04401a1fdaa4feba73257": {
      "model_module": "@jupyter-widgets/base",
      "model_module_version": "2.0.0",
      "model_name": "LayoutModel",
      "state": {
       "display": "none",
       "width": "900px"
      }
     },
     "f69315a3a05b4e028a486871cdb46181": {
      "model_module": "@jupyter-widgets/controls",
      "model_module_version": "2.0.0",
      "model_name": "ComboboxModel",
      "state": {
       "description": "4.8 Is there secure access to the full dataset for authorized users? ",
       "ensure_option": false,
       "layout": "IPY_MODEL_ca13f3f1422545438aaadc7ca959f1e3",
       "options": [
        "Yes",
        "No",
        "N/A"
       ],
       "placeholder": "Click to select option",
       "style": "IPY_MODEL_a8bab7bced36465881f765c81e04f6f8"
      }
     },
     "f6a4a6d142eb41709c7dd53ae3db97bf": {
      "model_module": "@jupyter-widgets/controls",
      "model_module_version": "2.0.0",
      "model_name": "ComboboxModel",
      "state": {
       "description": "2.11 Is the provenance of the dataset tracked and documented?",
       "ensure_option": false,
       "layout": "IPY_MODEL_18939c4f8566491c9ac6d9dc80fa9c1b",
       "options": [
        "Yes",
        "No",
        "N/A"
       ],
       "placeholder": "Click to select option",
       "style": "IPY_MODEL_1c556645b80347b1b9f5ee5d6255d89a",
       "value": "Yes"
      }
     },
     "f73e2814f8934067b54fdf22fd1e2f2d": {
      "model_module": "@jupyter-widgets/controls",
      "model_module_version": "2.0.0",
      "model_name": "TextStyleModel",
      "state": {
       "description_width": "initial",
       "font_size": null,
       "text_color": null
      }
     },
     "f88fa43400f843e298ed3fa0fafe8f23": {
      "model_module": "@jupyter-widgets/controls",
      "model_module_version": "2.0.0",
      "model_name": "TextModel",
      "state": {
       "description": "Metadata standard:",
       "layout": "IPY_MODEL_35a641788af042748b2968056e12e023",
       "placeholder": "Which standard is it? (CF, TBD, etc.)",
       "style": "IPY_MODEL_acc1dabea34948d6b4c31680b13bfb60",
       "value": "ISO 19115-2"
      }
     },
     "f91c8c9f85ae4703964eac41efdd0ad9": {
      "model_module": "@jupyter-widgets/controls",
      "model_module_version": "2.0.0",
      "model_name": "LabelModel",
      "state": {
       "layout": "IPY_MODEL_dba00606140b4b9599392c3abb60a540",
       "style": "IPY_MODEL_ab1be4c5d1434c63a2f3e3d82a48f177",
       "value": "Size of images:"
      }
     },
     "f971d7ff8f5e4a3787ce7f93f98718d9": {
      "model_module": "@jupyter-widgets/controls",
      "model_module_version": "2.0.0",
      "model_name": "ButtonStyleModel",
      "state": {
       "font_family": null,
       "font_size": null,
       "font_style": null,
       "font_variant": null,
       "font_weight": null,
       "text_color": null,
       "text_decoration": null
      }
     },
     "f979212d55874e90b74947bf7efc7a2d": {
      "model_module": "@jupyter-widgets/base",
      "model_module_version": "2.0.0",
      "model_name": "LayoutModel",
      "state": {}
     },
     "f9f34ccd95e34092976f88302b17aa2d": {
      "model_module": "@jupyter-widgets/controls",
      "model_module_version": "2.0.0",
      "model_name": "TextStyleModel",
      "state": {
       "description_width": "initial",
       "font_size": null,
       "text_color": null
      }
     },
     "fa6417bdd91c4f0e96527c784e925e16": {
      "model_module": "@jupyter-widgets/controls",
      "model_module_version": "2.0.0",
      "model_name": "TextStyleModel",
      "state": {
       "description_width": "initial",
       "font_size": null,
       "text_color": null
      }
     },
     "fac681a07b8a45138193e15afe01c1b9": {
      "model_module": "@jupyter-widgets/controls",
      "model_module_version": "2.0.0",
      "model_name": "ComboboxModel",
      "state": {
       "description": "Is the data dictionary machine-readable?",
       "ensure_option": false,
       "layout": "IPY_MODEL_2a009f5ba2844c67b9aef7d1591a0908",
       "options": [
        "Yes",
        "No",
        "N/A"
       ],
       "placeholder": "Click to select option",
       "style": "IPY_MODEL_19d392ef7b78434ca9f4ad59102588aa"
      }
     },
     "fb369d158bb845ff9cbefbc8483477bc": {
      "model_module": "@jupyter-widgets/base",
      "model_module_version": "2.0.0",
      "model_name": "LayoutModel",
      "state": {
       "width": "900px"
      }
     },
     "fb62c72923d74c729bf3c52243ee509e": {
      "model_module": "@jupyter-widgets/controls",
      "model_module_version": "2.0.0",
      "model_name": "ButtonModel",
      "state": {
       "button_style": "primary",
       "description": "Save Data Access Answers to json file",
       "layout": "IPY_MODEL_b35f5b0321ac495cab10a09d0cc0dec2",
       "style": "IPY_MODEL_38fa80067f5346579c6de58ce97387c1",
       "tooltip": null
      }
     },
     "fbfa5752c42648c0b82aff2f2dcc4ae9": {
      "model_module": "@jupyter-widgets/controls",
      "model_module_version": "2.0.0",
      "model_name": "ComboboxModel",
      "state": {
       "description": "3.9 Are there recommendations on the intended use of the data, and uses that are not recommended?",
       "ensure_option": false,
       "layout": "IPY_MODEL_5d70dcd1e0054c3a81f63eacfe7c4960",
       "options": [
        "Yes",
        "No",
        "N/A"
       ],
       "placeholder": "Click to select option",
       "style": "IPY_MODEL_497de46a3a654f47b177c2ff51cebba8",
       "value": "No"
      }
     },
     "fc24369c2e364750a33627a811af9daa": {
      "model_module": "@jupyter-widgets/controls",
      "model_module_version": "2.0.0",
      "model_name": "TextStyleModel",
      "state": {
       "description_width": "initial",
       "font_size": null,
       "text_color": null
      }
     },
     "fc28631abbc444d99a7607fb1dfb0577": {
      "model_module": "@jupyter-widgets/base",
      "model_module_version": "2.0.0",
      "model_name": "LayoutModel",
      "state": {
       "display": "none",
       "width": "900px"
      }
     },
     "fc2b7b9e5ff445d1b56103e372f84353": {
      "model_module": "@jupyter-widgets/base",
      "model_module_version": "2.0.0",
      "model_name": "LayoutModel",
      "state": {
       "width": "20px"
      }
     },
     "fc37f5a0a39649b0b8a3b4a50ed2a36f": {
      "model_module": "@jupyter-widgets/base",
      "model_module_version": "2.0.0",
      "model_name": "LayoutModel",
      "state": {
       "flex": "1 1 auto",
       "width": "auto"
      }
     },
     "fca48aea510e42a9acb851372bad62a9": {
      "model_module": "@jupyter-widgets/controls",
      "model_module_version": "2.0.0",
      "model_name": "TextStyleModel",
      "state": {
       "description_width": "initial",
       "font_size": null,
       "text_color": null
      }
     },
     "fd9406cdaf29463ea98556b5aa5444dd": {
      "model_module": "@jupyter-widgets/controls",
      "model_module_version": "2.0.0",
      "model_name": "TextStyleModel",
      "state": {
       "description_width": "initial",
       "font_size": null,
       "text_color": null
      }
     },
     "fe74f393146341d6882a59354aa0988f": {
      "model_module": "@jupyter-widgets/controls",
      "model_module_version": "2.0.0",
      "model_name": "ComboboxModel",
      "state": {
       "description": "Does it include details on the spatial and temporal extent?",
       "ensure_option": false,
       "layout": "IPY_MODEL_f4b6b38a84c74c18a5598e0d82d34572",
       "options": [
        "Yes",
        "No",
        "N/A"
       ],
       "placeholder": "Click to select option",
       "style": "IPY_MODEL_601b6333ba8b4938aeee574957e3a6e2"
      }
     },
     "fec72554353a423fb50fd3351ae9e145": {
      "model_module": "@jupyter-widgets/base",
      "model_module_version": "2.0.0",
      "model_name": "LayoutModel",
      "state": {
       "width": "900px"
      }
     },
     "ffa5269197044df38af3bdb71b6fd886": {
      "model_module": "@jupyter-widgets/base",
      "model_module_version": "2.0.0",
      "model_name": "LayoutModel",
      "state": {
       "display": "none",
       "width": "900px"
      }
     },
     "ffad893997df4c48bfb87cbe194025ef": {
      "model_module": "@jupyter-widgets/base",
      "model_module_version": "2.0.0",
      "model_name": "LayoutModel",
      "state": {
       "display": "none",
       "width": "900px"
      }
     },
     "ffb77d74bab04bbfafce180ecb9f07b4": {
      "model_module": "@jupyter-widgets/base",
      "model_module_version": "2.0.0",
      "model_name": "LayoutModel",
      "state": {
       "width": "900px"
      }
     }
    },
    "version_major": 2,
    "version_minor": 0
   }
  }
 },
 "nbformat": 4,
 "nbformat_minor": 5
}
