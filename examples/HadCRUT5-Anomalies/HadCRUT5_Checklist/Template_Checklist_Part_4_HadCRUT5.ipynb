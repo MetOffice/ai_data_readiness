{
 "cells": [
  {
   "cell_type": "markdown",
   "id": "1e08378b-6bbe-4203-8b90-1bed8c97a679",
   "metadata": {
    "editable": true,
    "slideshow": {
     "slide_type": ""
    },
    "tags": []
   },
   "source": [
    "\n",
    "<link rel=\"stylesheet\" href=\"https://unpkg.com/thebe@latest/lib/index.css\">\n",
    "<script src=\"https://unpkg.com/thebe@latest/lib/index.js\"></script>\n",
    "\n",
    "<script type=\"text/javascript\">\n",
    "  document.addEventListener(\"DOMContentLoaded\", function() {\n",
    "    thebelab.bootstrap({\n",
    "      requestKernel: true,\n",
    "      binderOptions: {\n",
    "        repo: \"your-repo/your-project\",\n",
    "        ref: \"main\",\n",
    "      },\n",
    "      codeMirrorConfig: {\n",
    "        theme: \"abcdef\",\n",
    "      },\n",
    "    });\n",
    "  });\n",
    "</script>\n"
   ]
  },
  {
   "cell_type": "markdown",
   "id": "f8198bd3-3e2a-444f-bff5-c9647a804ca9",
   "metadata": {
    "editable": true,
    "slideshow": {
     "slide_type": ""
    },
    "tags": []
   },
   "source": [
    "# **Data Readiness For AI Checklist - Part 4**\n",
    "\n",
    " * Creator(s) John Pill\n",
    " * Affiliation: UK Met Office\n",
    " * History: 1.0\n",
    " * Last update: 27 August 2024.\n",
    "\n",
    "\n",
    "---"
   ]
  },
  {
   "cell_type": "markdown",
   "id": "876a7a13-d1df-4430-9d4c-0edde6d17976",
   "metadata": {},
   "source": [
    "## **Tutorial Material**\n",
    "\n",
    "* **Run this Jupyter notebook locally using Jupyter Lab**\n",
    "* **Select 'Run All Cells' from the 'Run' menu to generate the checklist**.\n",
    "* **Remember to save your notebook regularly as you work through it.**\n",
    "\n",
    "\n",
    "## **Data section, optional**\n",
    "Scripts for pulling the data into the notebook assuming\n",
    "\n",
    "---"
   ]
  },
  {
   "cell_type": "markdown",
   "id": "f6840884-d7bb-43fa-a3e3-8c4106c435e5",
   "metadata": {},
   "source": [
    "## **Setup Notebook**"
   ]
  },
  {
   "cell_type": "code",
   "execution_count": 1,
   "id": "5b5a42bb-1da9-4460-a6a0-8d85063fd096",
   "metadata": {
    "editable": true,
    "slideshow": {
     "slide_type": ""
    },
    "tags": [
     "thebe-init"
    ]
   },
   "outputs": [],
   "source": [
    "import ipywidgets as widgets\n",
    "from IPython.display import display, clear_output\n",
    "import json\n",
    "import sys\n",
    "import os\n",
    "from pathlib import Path\n",
    "\n",
    "# Get the absolute path to the 'src' directory before importing custom modules\n",
    "project_root = Path().resolve().parents[2]  # Adjust this if your project is deeper\n",
    "src_path = project_root / 'src'\n",
    "\n",
    "# Add 'src' directory to the system path\n",
    "sys.path.insert(0, str(src_path))\n",
    "\n",
    "from utils import *"
   ]
  },
  {
   "cell_type": "code",
   "execution_count": 2,
   "id": "0b769970-71ed-48a7-95fb-da873b6330c8",
   "metadata": {
    "editable": true,
    "slideshow": {
     "slide_type": ""
    },
    "tags": [
     "thebe-init"
    ]
   },
   "outputs": [],
   "source": [
    "# Load checklist from JSON file:\n",
    "checklist = load_checklist()"
   ]
  },
  {
   "cell_type": "markdown",
   "id": "087dd158-2a04-45b5-a0c0-599761f33f94",
   "metadata": {},
   "source": [
    "#### Reset stored answers to start again:"
   ]
  },
  {
   "cell_type": "code",
   "execution_count": 3,
   "id": "a467851d-ee03-46f7-a194-8e516c374b8e",
   "metadata": {
    "jupyter": {
     "source_hidden": true
    }
   },
   "outputs": [],
   "source": [
    "# Reset all checklist answers back to original blank answers for all sections.\n",
    "# Any completed information will be lost. \n",
    "\n",
    "# To reset the stored answers uncomment and run these lines of code below. Re-comment the lines afterwards to avoid them running again. \n",
    "# reset_checklist()\n",
    "# checklist = load_checklist()\n",
    "\n",
    "# You can then re-run each section to reload it on the reset data. "
   ]
  },
  {
   "cell_type": "code",
   "execution_count": 4,
   "id": "8a91cf5e-1967-4a77-98fb-c82e6d5ac2de",
   "metadata": {
    "jupyter": {
     "source_hidden": true
    }
   },
   "outputs": [
    {
     "name": "stdout",
     "output_type": "stream",
     "text": [
      "Dataset: HadCRUT5\n",
      "Dataset link: https://www.metoffice.gov.uk/hadobs/hadcrut5/\n",
      "Assessor: John Pill\n",
      "Assessor email: john.pill@metoffice.gov.uk\n"
     ]
    }
   ],
   "source": [
    "\n",
    "print(\"Dataset:\", checklist[\"GeneralInformation\"][\"DatasetName\"])\n",
    "print(\"Dataset link:\", checklist[\"GeneralInformation\"][\"DatasetLink\"])\n",
    "print(\"Assessor:\", checklist[\"GeneralInformation\"][\"AssessorName\"])\n",
    "print(\"Assessor email:\", checklist[\"GeneralInformation\"][\"AssessorEmailAddress\"])"
   ]
  },
  {
   "cell_type": "markdown",
   "id": "ead060fb-06f2-4aae-9078-bf85bc7d9228",
   "metadata": {},
   "source": [
    "---\n",
    "\n",
    "## **4. Data Access**"
   ]
  },
  {
   "cell_type": "markdown",
   "id": "12e3b61f-8d2d-45b1-84e5-edabefbf4277",
   "metadata": {},
   "source": [
    "### File formats"
   ]
  },
  {
   "cell_type": "code",
   "execution_count": 5,
   "id": "77ec0e3b-f57f-4b1a-ae3e-e11da3fd2cd0",
   "metadata": {
    "jupyter": {
     "source_hidden": true
    }
   },
   "outputs": [
    {
     "data": {
      "application/vnd.jupyter.widget-view+json": {
       "model_id": "558886d3c0f641b9bba5de255331f51f",
       "version_major": 2,
       "version_minor": 0
      },
      "text/plain": [
       "Label(value='4.1 What is/are the major file formats? (Use shift / Ctrl / CMD to select multiple)')"
      ]
     },
     "metadata": {},
     "output_type": "display_data"
    },
    {
     "data": {
      "application/vnd.jupyter.widget-view+json": {
       "model_id": "d7efee416aa946c5985620a72a28dd77",
       "version_major": 2,
       "version_minor": 0
      },
      "text/plain": [
       "SelectMultiple(options=('CSV', 'netCDF', 'geoJSON', 'Shapefile', 'GRIB', 'HDF', 'GeoTIFF', 'KML', 'GINI', 'Zar…"
      ]
     },
     "metadata": {},
     "output_type": "display_data"
    },
    {
     "data": {
      "application/vnd.jupyter.widget-view+json": {
       "model_id": "8b5a39dbb4db43a4a013e253f3ccecfd",
       "version_major": 2,
       "version_minor": 0
      },
      "text/plain": [
       "Combobox(value='', description='Are the main formats machine-readable?', layout=Layout(width='900px'), options…"
      ]
     },
     "metadata": {},
     "output_type": "display_data"
    },
    {
     "data": {
      "application/vnd.jupyter.widget-view+json": {
       "model_id": "06a46ecf43af46bba5f2d98b960f59f9",
       "version_major": 2,
       "version_minor": 0
      },
      "text/plain": [
       "Combobox(value='', description='Is the data available in at least one open, non-proprietary format?', layout=L…"
      ]
     },
     "metadata": {},
     "output_type": "display_data"
    },
    {
     "data": {
      "application/vnd.jupyter.widget-view+json": {
       "model_id": "2cb4877c0a954141834debe32639fcd7",
       "version_major": 2,
       "version_minor": 0
      },
      "text/plain": [
       "Combobox(value='', description='Are there tools/services to support data format conversion?', layout=Layout(wi…"
      ]
     },
     "metadata": {},
     "output_type": "display_data"
    },
    {
     "data": {
      "application/vnd.jupyter.widget-view+json": {
       "model_id": "3aab4202c9744b6c95a1286bcebc838f",
       "version_major": 2,
       "version_minor": 0
      },
      "text/plain": [
       "Text(value='', description='Tools / services link:', layout=Layout(width='900px'), placeholder='If yes, provid…"
      ]
     },
     "metadata": {},
     "output_type": "display_data"
    }
   ],
   "source": [
    "\n",
    "dataset_file_formats_label = widgets.Label(\n",
    "    value = \"4.1 What is/are the major file formats? (Use shift / Ctrl / CMD to select multiple)\"\n",
    ")\n",
    "\n",
    "dataset_file_format_options = ['CSV', 'netCDF', 'geoJSON', 'Shapefile', 'GRIB', 'HDF', 'GeoTIFF', 'KML', 'GINI', 'Zarr', 'Other']\n",
    "\n",
    "dataset_file_formats = widgets.SelectMultiple(\n",
    "            value=checklist['DataAccess']['FileFormats'],\n",
    "            options=dataset_file_format_options,\n",
    "            rows=len(dataset_file_format_options),\n",
    ")\n",
    "\n",
    "dataset_file_formats_machine_readable = widgets.Combobox(\n",
    "            value=checklist['DataAccess']['FileFormatsMachineReadable'],\n",
    "            options=['Yes', 'No', 'N/A'],\n",
    "            description='Are the main formats machine-readable?',\n",
    "            placeholder=placeholder,\n",
    "            layout=widgets.Layout(width=widget_width),\n",
    "            style = description_style\n",
    "            )\n",
    "\n",
    "dataset_file_formats_non_proprietary = widgets.Combobox(\n",
    "            value=checklist['DataAccess']['OpenFormatAvailable'],\n",
    "            options=['Yes', 'No', 'N/A'],\n",
    "            description='Is the data available in at least one open, non-proprietary format?',\n",
    "            placeholder=placeholder,\n",
    "            layout=widgets.Layout(width=widget_width),\n",
    "            style = description_style\n",
    "            )\n",
    "\n",
    "dataset_file_formats_conversion_tools = widgets.Combobox(\n",
    "            value=checklist['DataAccess']['FormatConversionTools'],\n",
    "            options=['Yes', 'No', 'N/A'],\n",
    "            description='Are there tools/services to support data format conversion?',\n",
    "            placeholder=placeholder,\n",
    "            layout=widgets.Layout(width=widget_width),\n",
    "            style = description_style\n",
    "            )\n",
    "\n",
    "dataset_file_formats_conversion_tools_link = widgets.Text(\n",
    "            value=checklist['DataAccess']['ConversionToolsLink'],\n",
    "            description='Tools / services link:',\n",
    "            placeholder='If yes, provide the link to the tools/services',\n",
    "            layout=widgets.Layout(width=widget_width),\n",
    "            style = description_style\n",
    "            )\n",
    "\n",
    "def on_click_handler_sel_format(change):\n",
    "    \"\"\"\n",
    "    Completes various fields based on the file format selection.\n",
    "    \"\"\"\n",
    "    \n",
    "    selected_formats = change['new']\n",
    "    dataset_file_formats_conversion_tools_link_dict = {'CSV':['https://pandas.pydata.org/', 'https://www.qgis.org/', 'https://www.arcgis.com/home/index.html', ],\n",
    "                                                        'netCDF':['https://unidata.github.io/netcdf4-python/','https://scitools-iris.readthedocs.io/en/stable/index.html', 'https://docs.xarray.dev/en/stable/', 'https://www.giss.nasa.gov/tools/panoply/', 'https://www.unidata.ucar.edu/software/tds/', 'https://www.mathworks.com/products/matlab.html'],\n",
    "                                                        'geoJSON':['https://www.qgis.org/', 'https://www.arcgis.com/home/index.html', 'https://geopandas.org/en/stable/', 'https://shapely.readthedocs.io/en/stable/manual.html'],\n",
    "                                                        'Shapefile':['https://www.qgis.org/', 'https://www.arcgis.com/home/index.html', 'https://gdal.org/en/latest/', 'https://pypi.org/project/pyshp/', 'https://geopandas.org/en/stable/',], \n",
    "                                                        'GRIB':['https://scitools-iris.readthedocs.io/en/stable/index.html', 'https://www.giss.nasa.gov/tools/panoply/', 'https://www.qgis.org/', 'https://www.cpc.ncep.noaa.gov/products/wesley/wgrib2/', 'https://github.com/ecmwf/cfgrib'],\n",
    "                                                        'HDF':['https://www.h5py.org/', 'https://www.giss.nasa.gov/tools/panoply/','https://earth.esa.int/eogateway/tools/hdfview'],\n",
    "                                                        'GeoTIFF':['https://www.qgis.org/', 'https://www.arcgis.com/home/index.html','https://gdal.org/en/latest/','https://rasterio.readthedocs.io/en/stable/'],\n",
    "                                                        'KML':['https://www.qgis.org/', 'https://www.arcgis.com/home/index.html','https://fastkml.readthedocs.io/en/latest/','https://simplekml.readthedocs.io/en/latest/'],\n",
    "                                                        'GINI':['https://gdal.org/en/latest/', 'https://www.unidata.ucar.edu/software/metpy/'],\n",
    "                                                        'Zarr':['https://zarr.readthedocs.io/en/stable/', 'https://docs.xarray.dev/en/stable/','https://www.dask.org']}\n",
    "\n",
    "    if set(selected_formats) & {'CSV', 'netCDF', 'geoJSON', 'Shapefile', 'GRIB', 'HDF', 'GeoTIFF', 'KML', 'GINI', 'Zarr'}:\n",
    "        dataset_file_formats_machine_readable.value = 'Yes'\n",
    "    elif set(selected_formats) & {'Other'}:\n",
    "        dataset_file_formats_machine_readable.value = ''\n",
    "    else:\n",
    "        dataset_file_formats_machine_readable.value = 'No'\n",
    "    \n",
    "    if set(selected_formats) & {'CSV', 'netCDF', 'geoJSON', 'Shapefile', 'GRIB', 'HDF','GeoTIFF', 'Zarr'}:\n",
    "        dataset_file_formats_non_proprietary.value = 'Yes'\n",
    "    elif set(selected_formats) & {'Other'}:\n",
    "        dataset_file_formats_non_proprietary.value = ''\n",
    "    else:\n",
    "        dataset_file_formats_non_proprietary.value = 'No'\n",
    "    \n",
    "    # Determine if conversion tools are available\n",
    "    if set(selected_formats) & {'CSV', 'netCDF', 'geoJSON', 'Shapefile', 'GRIB', 'HDF', 'GeoTIFF', 'KML', 'GINI', 'Zarr'}:\n",
    "        dataset_file_formats_conversion_tools.value = 'Yes'\n",
    "        dataset_file_formats_conversion_tools_link_list = []\n",
    "        for format in list(set(selected_formats)):\n",
    "            [dataset_file_formats_conversion_tools_link_list.append(i) for i in dataset_file_formats_conversion_tools_link_dict[format]]\n",
    "        dataset_file_formats_conversion_tools_link.value = ' '.join(list(set(dataset_file_formats_conversion_tools_link_list)))\n",
    "    elif set(selected_formats) & {'Other'}:\n",
    "        dataset_file_formats_conversion_tools.value = ''\n",
    "        dataset_file_formats_conversion_tools_link.value = ''\n",
    "    else:\n",
    "        dataset_file_formats_conversion_tools.value = 'No'\n",
    "        dataset_file_formats_conversion_tools_link.value = ''\n",
    "\n",
    "dataset_file_formats.observe(on_click_handler_sel_format, names='value')\n",
    "\n",
    "display(dataset_file_formats_label, dataset_file_formats, dataset_file_formats_machine_readable, dataset_file_formats_non_proprietary, dataset_file_formats_conversion_tools, dataset_file_formats_conversion_tools_link)"
   ]
  },
  {
   "cell_type": "markdown",
   "id": "7e3bb476-ba1e-4507-b7f0-55db7ce9710a",
   "metadata": {},
   "source": [
    "### Data delivery"
   ]
  },
  {
   "cell_type": "code",
   "execution_count": 6,
   "id": "acf9768d-6572-4719-b5d3-b95e7e94d2f5",
   "metadata": {
    "jupyter": {
     "source_hidden": true
    }
   },
   "outputs": [
    {
     "data": {
      "application/vnd.jupyter.widget-view+json": {
       "model_id": "6099d89eeca24344a9167b20903d7ca7",
       "version_major": 2,
       "version_minor": 0
      },
      "text/plain": [
       "Combobox(value='', description='4.2 Does data access require authentication (e.g., a registered user account)?…"
      ]
     },
     "metadata": {},
     "output_type": "display_data"
    },
    {
     "data": {
      "application/vnd.jupyter.widget-view+json": {
       "model_id": "9e6626f3093b47e899b27541ffd1cf2b",
       "version_major": 2,
       "version_minor": 0
      },
      "text/plain": [
       "Combobox(value='', description='4.3 Can the file be accessed via direct file downloading or ordering?', layout…"
      ]
     },
     "metadata": {},
     "output_type": "display_data"
    },
    {
     "data": {
      "application/vnd.jupyter.widget-view+json": {
       "model_id": "b3a7d49cbd5e48be9886913af7982326",
       "version_major": 2,
       "version_minor": 0
      },
      "text/plain": [
       "Combobox(value='', description='4.4 Is there an Application Programming Interface (API) or web service to acce…"
      ]
     },
     "metadata": {},
     "output_type": "display_data"
    },
    {
     "data": {
      "application/vnd.jupyter.widget-view+json": {
       "model_id": "7b7e519d4dd14a01868fcf1fb00d8cd1",
       "version_major": 2,
       "version_minor": 0
      },
      "text/plain": [
       "Combobox(value='', description='If there is an API, does the API follow an open standard protocol (e.g., OGC)?…"
      ]
     },
     "metadata": {},
     "output_type": "display_data"
    },
    {
     "data": {
      "application/vnd.jupyter.widget-view+json": {
       "model_id": "5850e5a15c7e47c89a8b67d2b0189936",
       "version_major": 2,
       "version_minor": 0
      },
      "text/plain": [
       "Combobox(value='', description='If there is an API, is there documentation for the API?', layout=Layout(displa…"
      ]
     },
     "metadata": {},
     "output_type": "display_data"
    },
    {
     "data": {
      "application/vnd.jupyter.widget-view+json": {
       "model_id": "b936762ff71a4b23b0f7c76ac82e599f",
       "version_major": 2,
       "version_minor": 0
      },
      "text/plain": [
       "Text(value='', layout=Layout(display='none', width='900px'), placeholder='If “Yes”, please provide a URL to th…"
      ]
     },
     "metadata": {},
     "output_type": "display_data"
    }
   ],
   "source": [
    "\n",
    "dataset_authentication = widgets.Combobox(\n",
    "            value=checklist['DataAccess']['AuthenticationRequired'],\n",
    "            options=['Yes', 'No', 'N/A'],\n",
    "            description='4.2 Does data access require authentication (e.g., a registered user account)?',\n",
    "            placeholder=placeholder,\n",
    "            layout=widgets.Layout(width=widget_width),\n",
    "            style = description_style\n",
    "            )\n",
    "\n",
    "dataset_direct_access = widgets.Combobox(\n",
    "            value=checklist['DataAccess']['DirectDownloadAvailable'],\n",
    "            options=['Yes', 'No', 'N/A'],\n",
    "            description='4.3 Can the file be accessed via direct file downloading or ordering?',\n",
    "            placeholder=placeholder,\n",
    "            layout=widgets.Layout(width=widget_width),\n",
    "            style = description_style\n",
    "            )\n",
    "\n",
    "dataset_api_available = widgets.Combobox(\n",
    "            value=checklist['DataAccess']['APIorWebAvailable'],\n",
    "            options=['Yes', 'No', 'N/A'],\n",
    "            description='4.4 Is there an Application Programming Interface (API) or web service to access the data?',\n",
    "            placeholder=placeholder,\n",
    "            layout=widgets.Layout(width=widget_width),\n",
    "            style = description_style\n",
    "            )\n",
    "\n",
    "dataset_api_standard_protocol = widgets.Combobox(\n",
    "            value=checklist['DataAccess']['APIOpenStandard'],\n",
    "            options=['Yes', 'No', 'N/A'],\n",
    "            description='If there is an API, does the API follow an open standard protocol (e.g., OGC)?',\n",
    "            placeholder=placeholder,\n",
    "            layout=widgets.Layout(display=\"none\", width=widget_width),\n",
    "            style = description_style\n",
    "            )\n",
    "\n",
    "dataset_api_documentation_available = widgets.Combobox(\n",
    "            value=checklist['DataAccess']['APIDocumentation'],\n",
    "            options=['Yes', 'No', 'N/A'],\n",
    "            description='If there is an API, is there documentation for the API?',\n",
    "            placeholder=placeholder,\n",
    "            layout=widgets.Layout(display=\"none\", width=widget_width),\n",
    "            style = description_style\n",
    "            )\n",
    "\n",
    "dataset_api_documentation_link = widgets.Text(\n",
    "            value=checklist['DataAccess']['APIDocumentationLink'],\n",
    "            placeholder='If “Yes”, please provide a URL to the documentation.',\n",
    "            layout=widgets.Layout(display=\"none\", width=widget_width)\n",
    "            )\n",
    "\n",
    "\n",
    "\n",
    "# Function to change the display setting of the following UI components. \n",
    "def on_click_handler(change):    \n",
    "\n",
    "    # Show / hide main trunk of questions. \n",
    "    if dataset_api_available.value == \"Yes\":\n",
    "        dataset_api_standard_protocol.layout.display = ''\n",
    "        dataset_api_documentation_available.layout.display = ''\n",
    "        dataset_api_documentation_link.layout.display = ''\n",
    "\n",
    "    else:   \n",
    "        dataset_api_standard_protocol.layout.display = 'none'\n",
    "        dataset_api_documentation_available.layout.display = 'none'\n",
    "        dataset_api_documentation_link.layout.display = 'none'\n",
    "\n",
    "        dataset_api_standard_protocol.value = 'N/A'\n",
    "        dataset_api_documentation_available.value = 'N/A'\n",
    "        dataset_api_documentation_link.value = ''\n",
    "\n",
    "            \n",
    "# Display the UI components\n",
    "display(dataset_authentication, dataset_direct_access, dataset_api_available, dataset_api_standard_protocol, dataset_api_documentation_available, dataset_api_documentation_link)\n",
    "\n",
    "\n",
    "# Observe UI components for changes and call the on_click_handler function if value property changed. \n",
    "dataset_api_available.observe(on_click_handler, names=\"value\")\n",
    "\n"
   ]
  },
  {
   "cell_type": "markdown",
   "id": "5cb8b683-a629-4616-8074-65e696da6e9a",
   "metadata": {},
   "source": [
    "### Privacy and security\n"
   ]
  },
  {
   "cell_type": "code",
   "execution_count": 7,
   "id": "16e6258a-3aee-42fe-bc61-3161b89a499c",
   "metadata": {
    "jupyter": {
     "source_hidden": true
    }
   },
   "outputs": [
    {
     "data": {
      "application/vnd.jupyter.widget-view+json": {
       "model_id": "b939cd8eff374363b354423b8805e039",
       "version_major": 2,
       "version_minor": 0
      },
      "text/plain": [
       "Combobox(value='', description='4.5 For restricted data, have measures been taken to provide some access while…"
      ]
     },
     "metadata": {},
     "output_type": "display_data"
    },
    {
     "data": {
      "application/vnd.jupyter.widget-view+json": {
       "model_id": "56b4d6144d494bb89fc6e9ddf1fad448",
       "version_major": 2,
       "version_minor": 0
      },
      "text/plain": [
       "Combobox(value='', description='4.6 Has the data been aggregated to reduce granularity?', layout=Layout(width=…"
      ]
     },
     "metadata": {},
     "output_type": "display_data"
    },
    {
     "data": {
      "application/vnd.jupyter.widget-view+json": {
       "model_id": "d204afdb90bc4d048a51f3b6af3fd217",
       "version_major": 2,
       "version_minor": 0
      },
      "text/plain": [
       "Combobox(value='', description='4.7 Has the data been anonymized / de-identified?', layout=Layout(width='900px…"
      ]
     },
     "metadata": {},
     "output_type": "display_data"
    },
    {
     "data": {
      "application/vnd.jupyter.widget-view+json": {
       "model_id": "9300e4cbc9b14241b6c16fc87d17c876",
       "version_major": 2,
       "version_minor": 0
      },
      "text/plain": [
       "Combobox(value='', description='4.8 Is there secure access to the full dataset for authorized users? ', layout…"
      ]
     },
     "metadata": {},
     "output_type": "display_data"
    }
   ],
   "source": [
    "\n",
    "dataset_restricted_protection = widgets.Combobox(\n",
    "            value=checklist['DataAccess']['SecurityMeasuresTaken'],\n",
    "            options=['Yes', 'No', 'N/A'],\n",
    "            description='4.5 For restricted data, have measures been taken to provide some access while still applying appropriate protection for privacy and security?',\n",
    "            placeholder=placeholder,\n",
    "            layout=widgets.Layout(width=widget_width),\n",
    "            style = description_style\n",
    "            \n",
    "            )\n",
    "\n",
    "dataset_aggregation = widgets.Combobox(\n",
    "            value=checklist['DataAccess']['DataAggregated'],\n",
    "            options=['Yes', 'No', 'N/A'],\n",
    "            description='4.6 Has the data been aggregated to reduce granularity?',\n",
    "            placeholder=placeholder,\n",
    "            layout=widgets.Layout(width=widget_width),\n",
    "            style = description_style\n",
    "            )\n",
    "\n",
    "dataset_anonymization = widgets.Combobox(\n",
    "            value=checklist['DataAccess']['DataAnonymized'],\n",
    "            options=['Yes', 'No', 'N/A'],\n",
    "            description='4.7 Has the data been anonymized / de-identified?',\n",
    "            placeholder=placeholder,\n",
    "            layout=widgets.Layout(width=widget_width),\n",
    "            style = description_style\n",
    "            )\n",
    "\n",
    "dataset_secure_access = widgets.Combobox(\n",
    "            value=checklist['DataAccess']['SecureAccessForAuthorizedUsers'],\n",
    "            options=['Yes', 'No', 'N/A'],\n",
    "            description='4.8 Is there secure access to the full dataset for authorized users? ',\n",
    "            placeholder=placeholder,\n",
    "            layout=widgets.Layout(width=widget_width),\n",
    "            style = description_style\n",
    "            )\n",
    "\n",
    "display(dataset_restricted_protection, dataset_aggregation, dataset_anonymization, dataset_secure_access)\n"
   ]
  },
  {
   "cell_type": "code",
   "execution_count": 8,
   "id": "739ddb16-9b20-4c19-8860-8e8636759965",
   "metadata": {
    "jupyter": {
     "source_hidden": true
    }
   },
   "outputs": [
    {
     "data": {
      "application/vnd.jupyter.widget-view+json": {
       "model_id": "1a6e74881a20400d8cf0b882e56aea5f",
       "version_major": 2,
       "version_minor": 0
      },
      "text/plain": [
       "Button(button_style='primary', description='Save Data Access Answers to json file', layout=Layout(flex='1 1 au…"
      ]
     },
     "metadata": {},
     "output_type": "display_data"
    }
   ],
   "source": [
    "\n",
    "# Save button\n",
    "save_button = widgets.Button(description=\"Save Data Access Answers to json file\",  button_style=\"primary\",  layout=widgets.Layout(flex='1 1 auto', width='auto'))\n",
    "\n",
    "def generate_updates_access():\n",
    "\n",
    "    updates = {\n",
    "        \"DataAccess\": {\n",
    "            #File Formats\n",
    "            \"FileFormats\": dataset_file_formats.value,\n",
    "            \"FileFormatsMachineReadable\": dataset_file_formats_machine_readable.value,\n",
    "            \"OpenFormatAvailable\": dataset_file_formats_non_proprietary.value,\n",
    "            \"FormatConversionTools\": dataset_file_formats_conversion_tools.value,\n",
    "            \"ConversionToolsLink\": dataset_file_formats_conversion_tools_link.value, \n",
    "\n",
    "            # Data Delivery\n",
    "            \"AuthenticationRequired\" : dataset_authentication.value,\n",
    "            \"DirectDownloadAvailable\" : dataset_direct_access.value,\n",
    "            \"APIorWebAvailable\" : dataset_api_available.value,\n",
    "            \"APIOpenStandard\" : dataset_api_standard_protocol.value,\n",
    "            \"APIDocumentation\" : dataset_api_documentation_available.value,\n",
    "            \"APIDocumentationLink\" : dataset_api_documentation_link.value,\n",
    "\n",
    "            # Privacy and Security\n",
    "            \"SecurityMeasuresTaken\" : dataset_restricted_protection.value,\n",
    "            \"DataAggregated\" : dataset_aggregation.value,\n",
    "            \"DataAnonymized\" : dataset_anonymization.value,\n",
    "            \"SecureAccessForAuthorizedUsers\" : dataset_secure_access.value,\n",
    "        }\n",
    "    }\n",
    "    return updates\n",
    "\n",
    "save_button.on_click(lambda b: update_checklist(b, generate_updates_access()))\n",
    "\n",
    "display(save_button)"
   ]
  },
  {
   "cell_type": "markdown",
   "id": "3824aa9e-9d66-4a2e-a1a2-60139f7c30dd",
   "metadata": {},
   "source": [
    "## Finished"
   ]
  },
  {
   "cell_type": "markdown",
   "id": "b917ce44-74fa-4290-8a31-931562746a4f",
   "metadata": {},
   "source": [
    "1. Make sure you saved your answers to the external json file using the buttons above. \n",
    "2. If you would like to view these saved answers use the button below. \n",
    "3. Move onto the notebook Template_Checklist_Part_5.ipynb covering Data Preparation"
   ]
  },
  {
   "cell_type": "code",
   "execution_count": 9,
   "id": "d35683fe-7d9f-40fa-81fa-99f926702fd6",
   "metadata": {
    "jupyter": {
     "source_hidden": true
    }
   },
   "outputs": [
    {
     "data": {
      "application/vnd.jupyter.widget-view+json": {
       "model_id": "95cba1812d224cb380631829f75da1a1",
       "version_major": 2,
       "version_minor": 0
      },
      "text/plain": [
       "Button(button_style='info', description='Print json results', layout=Layout(flex='1 1 auto', width='auto'), st…"
      ]
     },
     "metadata": {},
     "output_type": "display_data"
    },
    {
     "data": {
      "application/vnd.jupyter.widget-view+json": {
       "model_id": "21fcf1767b7542f5ac717b7a9a057857",
       "version_major": 2,
       "version_minor": 0
      },
      "text/plain": [
       "Output()"
      ]
     },
     "metadata": {},
     "output_type": "display_data"
    }
   ],
   "source": [
    "\n",
    "button_print_json = widgets.Button(description=\"Print json results\",  button_style='info', layout=widgets.Layout(flex='1 1 auto', width='auto'))\n",
    "output = widgets.Output()\n",
    "\n",
    "display(button_print_json, output)\n",
    "\n",
    "def print_json_info(b):\n",
    "    \"\"\"\n",
    "    Loads a copy of the json file to checklist variable. \n",
    "    Then prints the json file contents to Jupyter notebook cell output.\n",
    "\n",
    "    Arguments: b - represents the button calling the function. \n",
    "    \"\"\"\n",
    "    checklist = load_checklist()\n",
    "    with output:\n",
    "        clear_output()\n",
    "        for key, value in checklist.items():\n",
    "            print(f\"{key}:\")\n",
    "            if isinstance(value, dict):\n",
    "                for sub_key, sub_value in value.items():\n",
    "                    print(f\"  {sub_key}: {sub_value}\")\n",
    "            else:\n",
    "                print(f\"  {value}\")\n",
    "\n",
    "button_print_json.on_click(print_json_info)\n"
   ]
  },
  {
   "cell_type": "markdown",
   "id": "c760fc3b-f413-46e4-8a76-31684d83a2d2",
   "metadata": {},
   "source": [
    "---\n",
    "\n",
    "## **Appendix** - Definition of terms used in the checklist."
   ]
  },
  {
   "cell_type": "markdown",
   "id": "d5efc4cd-4a6d-4226-a29e-314bcc526d22",
   "metadata": {
    "editable": true,
    "slideshow": {
     "slide_type": ""
    },
    "tags": []
   },
   "source": [
    "### Data Access\n",
    "\n",
    "* **Formats**: standards that govern how information is stored in a computer file (e.g., CSV, JSON, GeoTIFF, etc.); different AI user communities will have different requirements, so the best practice is to provide several format options to meet the needs of multiple high priority user communities.\n",
    "* **Delivery Options**: mechanisms for publishing open data for public use (e.g., direct file download, Application Programming Interface (API), cloud services, etc.); different AI user communities will have different requirements, so the best practice is to provide several delivery options to meet the needs of multiple high priority user communities.\n",
    "* **License/Usage Rights**: information on who is allowed to use the data and for what purposes, including data sharing agreements, fees, etc.; some federal data needs to have restrictions and some will be fully open, so rights should be documented in detail\n",
    "* **Security/Privacy**: protection of data that is restricted in some way (privacy, proprietary/business information, national security, etc.)\n"
   ]
  }
 ],
 "metadata": {
  "kernelspec": {
   "display_name": "Python 3 (ipykernel)",
   "language": "python",
   "name": "python3"
  },
  "language_info": {
   "codemirror_mode": {
    "name": "ipython",
    "version": 3
   },
   "file_extension": ".py",
   "mimetype": "text/x-python",
   "name": "python",
   "nbconvert_exporter": "python",
   "pygments_lexer": "ipython3",
   "version": "3.11.8"
  },
  "widgets": {
   "application/vnd.jupyter.widget-state+json": {
    "state": {},
    "version_major": 2,
    "version_minor": 0
   }
  }
 },
 "nbformat": 4,
 "nbformat_minor": 5
}
