{
 "cells": [
  {
   "cell_type": "markdown",
   "id": "f8198bd3-3e2a-444f-bff5-c9647a804ca9",
   "metadata": {
    "editable": true,
    "slideshow": {
     "slide_type": ""
    },
    "tags": []
   },
   "source": [
    "# **Data Readiness For AI Checklist - Part 4**\n",
    "\n",
    " * Creator(s) John Pill\n",
    " * Affiliation: UK Met Office\n",
    " * History: 1.0\n",
    " * Last update: 27 August 2024.\n",
    "\n",
    "\n",
    "---"
   ]
  },
  {
   "cell_type": "markdown",
   "id": "876a7a13-d1df-4430-9d4c-0edde6d17976",
   "metadata": {},
   "source": [
    "## **Tutorial Material**\n",
    "\n",
    "* **Run this Jupyter notebook locally using Jupyter Lab**\n",
    "* **Select 'Run All Cells' from the 'Run' menu to generate the checklist**.\n",
    "* **Remember to save your notebook regularly as you work through it.**\n",
    "\n",
    "\n",
    "## **Data section, optional**\n",
    "Scripts for pulling the data into the notebook assuming\n",
    "\n",
    "---"
   ]
  },
  {
   "cell_type": "markdown",
   "id": "f6840884-d7bb-43fa-a3e3-8c4106c435e5",
   "metadata": {},
   "source": [
    "## **Setup Notebook**"
   ]
  },
  {
   "cell_type": "code",
   "execution_count": 1,
   "id": "5b5a42bb-1da9-4460-a6a0-8d85063fd096",
   "metadata": {
    "editable": true,
    "slideshow": {
     "slide_type": ""
    },
    "tags": [
     "thebe-init"
    ]
   },
   "outputs": [],
   "source": [
    "import ipywidgets as widgets\n",
    "from IPython.display import display, clear_output\n",
    "import json\n",
    "import sys\n",
    "import os\n",
    "from aidatareadiness import utils\n",
    "from aidatareadiness.utils import WIDGET_WIDTH, DESCRIPTION_STYLE, PLACEHOLDER  \n",
    "from aidatareadiness.checklist_auto import gridded "
   ]
  },
  {
   "cell_type": "markdown",
   "id": "09f0cd55-db85-40d3-8470-41693c4b9f99",
   "metadata": {},
   "source": [
    "## **Load Data**"
   ]
  },
  {
   "cell_type": "code",
   "execution_count": null,
   "id": "2a6b1a22-023b-42c2-8cc2-281eab915a85",
   "metadata": {},
   "outputs": [],
   "source": []
  },
  {
   "cell_type": "code",
   "execution_count": 2,
   "id": "713542c3-dada-49f1-8a8e-c1564b9f56b0",
   "metadata": {},
   "outputs": [
    {
     "data": {
      "text/html": [
       "<div><svg style=\"position: absolute; width: 0; height: 0; overflow: hidden\">\n",
       "<defs>\n",
       "<symbol id=\"icon-database\" viewBox=\"0 0 32 32\">\n",
       "<path d=\"M16 0c-8.837 0-16 2.239-16 5v4c0 2.761 7.163 5 16 5s16-2.239 16-5v-4c0-2.761-7.163-5-16-5z\"></path>\n",
       "<path d=\"M16 17c-8.837 0-16-2.239-16-5v6c0 2.761 7.163 5 16 5s16-2.239 16-5v-6c0 2.761-7.163 5-16 5z\"></path>\n",
       "<path d=\"M16 26c-8.837 0-16-2.239-16-5v6c0 2.761 7.163 5 16 5s16-2.239 16-5v-6c0 2.761-7.163 5-16 5z\"></path>\n",
       "</symbol>\n",
       "<symbol id=\"icon-file-text2\" viewBox=\"0 0 32 32\">\n",
       "<path d=\"M28.681 7.159c-0.694-0.947-1.662-2.053-2.724-3.116s-2.169-2.030-3.116-2.724c-1.612-1.182-2.393-1.319-2.841-1.319h-15.5c-1.378 0-2.5 1.121-2.5 2.5v27c0 1.378 1.122 2.5 2.5 2.5h23c1.378 0 2.5-1.122 2.5-2.5v-19.5c0-0.448-0.137-1.23-1.319-2.841zM24.543 5.457c0.959 0.959 1.712 1.825 2.268 2.543h-4.811v-4.811c0.718 0.556 1.584 1.309 2.543 2.268zM28 29.5c0 0.271-0.229 0.5-0.5 0.5h-23c-0.271 0-0.5-0.229-0.5-0.5v-27c0-0.271 0.229-0.5 0.5-0.5 0 0 15.499-0 15.5 0v7c0 0.552 0.448 1 1 1h7v19.5z\"></path>\n",
       "<path d=\"M23 26h-14c-0.552 0-1-0.448-1-1s0.448-1 1-1h14c0.552 0 1 0.448 1 1s-0.448 1-1 1z\"></path>\n",
       "<path d=\"M23 22h-14c-0.552 0-1-0.448-1-1s0.448-1 1-1h14c0.552 0 1 0.448 1 1s-0.448 1-1 1z\"></path>\n",
       "<path d=\"M23 18h-14c-0.552 0-1-0.448-1-1s0.448-1 1-1h14c0.552 0 1 0.448 1 1s-0.448 1-1 1z\"></path>\n",
       "</symbol>\n",
       "</defs>\n",
       "</svg>\n",
       "<style>/* CSS stylesheet for displaying xarray objects in jupyterlab.\n",
       " *\n",
       " */\n",
       "\n",
       ":root {\n",
       "  --xr-font-color0: var(--jp-content-font-color0, rgba(0, 0, 0, 1));\n",
       "  --xr-font-color2: var(--jp-content-font-color2, rgba(0, 0, 0, 0.54));\n",
       "  --xr-font-color3: var(--jp-content-font-color3, rgba(0, 0, 0, 0.38));\n",
       "  --xr-border-color: var(--jp-border-color2, #e0e0e0);\n",
       "  --xr-disabled-color: var(--jp-layout-color3, #bdbdbd);\n",
       "  --xr-background-color: var(--jp-layout-color0, white);\n",
       "  --xr-background-color-row-even: var(--jp-layout-color1, white);\n",
       "  --xr-background-color-row-odd: var(--jp-layout-color2, #eeeeee);\n",
       "}\n",
       "\n",
       "html[theme=\"dark\"],\n",
       "html[data-theme=\"dark\"],\n",
       "body[data-theme=\"dark\"],\n",
       "body.vscode-dark {\n",
       "  --xr-font-color0: rgba(255, 255, 255, 1);\n",
       "  --xr-font-color2: rgba(255, 255, 255, 0.54);\n",
       "  --xr-font-color3: rgba(255, 255, 255, 0.38);\n",
       "  --xr-border-color: #1f1f1f;\n",
       "  --xr-disabled-color: #515151;\n",
       "  --xr-background-color: #111111;\n",
       "  --xr-background-color-row-even: #111111;\n",
       "  --xr-background-color-row-odd: #313131;\n",
       "}\n",
       "\n",
       ".xr-wrap {\n",
       "  display: block !important;\n",
       "  min-width: 300px;\n",
       "  max-width: 700px;\n",
       "}\n",
       "\n",
       ".xr-text-repr-fallback {\n",
       "  /* fallback to plain text repr when CSS is not injected (untrusted notebook) */\n",
       "  display: none;\n",
       "}\n",
       "\n",
       ".xr-header {\n",
       "  padding-top: 6px;\n",
       "  padding-bottom: 6px;\n",
       "  margin-bottom: 4px;\n",
       "  border-bottom: solid 1px var(--xr-border-color);\n",
       "}\n",
       "\n",
       ".xr-header > div,\n",
       ".xr-header > ul {\n",
       "  display: inline;\n",
       "  margin-top: 0;\n",
       "  margin-bottom: 0;\n",
       "}\n",
       "\n",
       ".xr-obj-type,\n",
       ".xr-array-name {\n",
       "  margin-left: 2px;\n",
       "  margin-right: 10px;\n",
       "}\n",
       "\n",
       ".xr-obj-type {\n",
       "  color: var(--xr-font-color2);\n",
       "}\n",
       "\n",
       ".xr-sections {\n",
       "  padding-left: 0 !important;\n",
       "  display: grid;\n",
       "  grid-template-columns: 150px auto auto 1fr 0 20px 0 20px;\n",
       "}\n",
       "\n",
       ".xr-section-item {\n",
       "  display: contents;\n",
       "}\n",
       "\n",
       ".xr-section-item input {\n",
       "  display: inline-block;\n",
       "  opacity: 0;\n",
       "  height: 0;\n",
       "}\n",
       "\n",
       ".xr-section-item input + label {\n",
       "  color: var(--xr-disabled-color);\n",
       "}\n",
       "\n",
       ".xr-section-item input:enabled + label {\n",
       "  cursor: pointer;\n",
       "  color: var(--xr-font-color2);\n",
       "}\n",
       "\n",
       ".xr-section-item input:focus + label {\n",
       "  border: 2px solid var(--xr-font-color0);\n",
       "}\n",
       "\n",
       ".xr-section-item input:enabled + label:hover {\n",
       "  color: var(--xr-font-color0);\n",
       "}\n",
       "\n",
       ".xr-section-summary {\n",
       "  grid-column: 1;\n",
       "  color: var(--xr-font-color2);\n",
       "  font-weight: 500;\n",
       "}\n",
       "\n",
       ".xr-section-summary > span {\n",
       "  display: inline-block;\n",
       "  padding-left: 0.5em;\n",
       "}\n",
       "\n",
       ".xr-section-summary-in:disabled + label {\n",
       "  color: var(--xr-font-color2);\n",
       "}\n",
       "\n",
       ".xr-section-summary-in + label:before {\n",
       "  display: inline-block;\n",
       "  content: \"►\";\n",
       "  font-size: 11px;\n",
       "  width: 15px;\n",
       "  text-align: center;\n",
       "}\n",
       "\n",
       ".xr-section-summary-in:disabled + label:before {\n",
       "  color: var(--xr-disabled-color);\n",
       "}\n",
       "\n",
       ".xr-section-summary-in:checked + label:before {\n",
       "  content: \"▼\";\n",
       "}\n",
       "\n",
       ".xr-section-summary-in:checked + label > span {\n",
       "  display: none;\n",
       "}\n",
       "\n",
       ".xr-section-summary,\n",
       ".xr-section-inline-details {\n",
       "  padding-top: 4px;\n",
       "  padding-bottom: 4px;\n",
       "}\n",
       "\n",
       ".xr-section-inline-details {\n",
       "  grid-column: 2 / -1;\n",
       "}\n",
       "\n",
       ".xr-section-details {\n",
       "  display: none;\n",
       "  grid-column: 1 / -1;\n",
       "  margin-bottom: 5px;\n",
       "}\n",
       "\n",
       ".xr-section-summary-in:checked ~ .xr-section-details {\n",
       "  display: contents;\n",
       "}\n",
       "\n",
       ".xr-array-wrap {\n",
       "  grid-column: 1 / -1;\n",
       "  display: grid;\n",
       "  grid-template-columns: 20px auto;\n",
       "}\n",
       "\n",
       ".xr-array-wrap > label {\n",
       "  grid-column: 1;\n",
       "  vertical-align: top;\n",
       "}\n",
       "\n",
       ".xr-preview {\n",
       "  color: var(--xr-font-color3);\n",
       "}\n",
       "\n",
       ".xr-array-preview,\n",
       ".xr-array-data {\n",
       "  padding: 0 5px !important;\n",
       "  grid-column: 2;\n",
       "}\n",
       "\n",
       ".xr-array-data,\n",
       ".xr-array-in:checked ~ .xr-array-preview {\n",
       "  display: none;\n",
       "}\n",
       "\n",
       ".xr-array-in:checked ~ .xr-array-data,\n",
       ".xr-array-preview {\n",
       "  display: inline-block;\n",
       "}\n",
       "\n",
       ".xr-dim-list {\n",
       "  display: inline-block !important;\n",
       "  list-style: none;\n",
       "  padding: 0 !important;\n",
       "  margin: 0;\n",
       "}\n",
       "\n",
       ".xr-dim-list li {\n",
       "  display: inline-block;\n",
       "  padding: 0;\n",
       "  margin: 0;\n",
       "}\n",
       "\n",
       ".xr-dim-list:before {\n",
       "  content: \"(\";\n",
       "}\n",
       "\n",
       ".xr-dim-list:after {\n",
       "  content: \")\";\n",
       "}\n",
       "\n",
       ".xr-dim-list li:not(:last-child):after {\n",
       "  content: \",\";\n",
       "  padding-right: 5px;\n",
       "}\n",
       "\n",
       ".xr-has-index {\n",
       "  font-weight: bold;\n",
       "}\n",
       "\n",
       ".xr-var-list,\n",
       ".xr-var-item {\n",
       "  display: contents;\n",
       "}\n",
       "\n",
       ".xr-var-item > div,\n",
       ".xr-var-item label,\n",
       ".xr-var-item > .xr-var-name span {\n",
       "  background-color: var(--xr-background-color-row-even);\n",
       "  margin-bottom: 0;\n",
       "}\n",
       "\n",
       ".xr-var-item > .xr-var-name:hover span {\n",
       "  padding-right: 5px;\n",
       "}\n",
       "\n",
       ".xr-var-list > li:nth-child(odd) > div,\n",
       ".xr-var-list > li:nth-child(odd) > label,\n",
       ".xr-var-list > li:nth-child(odd) > .xr-var-name span {\n",
       "  background-color: var(--xr-background-color-row-odd);\n",
       "}\n",
       "\n",
       ".xr-var-name {\n",
       "  grid-column: 1;\n",
       "}\n",
       "\n",
       ".xr-var-dims {\n",
       "  grid-column: 2;\n",
       "}\n",
       "\n",
       ".xr-var-dtype {\n",
       "  grid-column: 3;\n",
       "  text-align: right;\n",
       "  color: var(--xr-font-color2);\n",
       "}\n",
       "\n",
       ".xr-var-preview {\n",
       "  grid-column: 4;\n",
       "}\n",
       "\n",
       ".xr-index-preview {\n",
       "  grid-column: 2 / 5;\n",
       "  color: var(--xr-font-color2);\n",
       "}\n",
       "\n",
       ".xr-var-name,\n",
       ".xr-var-dims,\n",
       ".xr-var-dtype,\n",
       ".xr-preview,\n",
       ".xr-attrs dt {\n",
       "  white-space: nowrap;\n",
       "  overflow: hidden;\n",
       "  text-overflow: ellipsis;\n",
       "  padding-right: 10px;\n",
       "}\n",
       "\n",
       ".xr-var-name:hover,\n",
       ".xr-var-dims:hover,\n",
       ".xr-var-dtype:hover,\n",
       ".xr-attrs dt:hover {\n",
       "  overflow: visible;\n",
       "  width: auto;\n",
       "  z-index: 1;\n",
       "}\n",
       "\n",
       ".xr-var-attrs,\n",
       ".xr-var-data,\n",
       ".xr-index-data {\n",
       "  display: none;\n",
       "  background-color: var(--xr-background-color) !important;\n",
       "  padding-bottom: 5px !important;\n",
       "}\n",
       "\n",
       ".xr-var-attrs-in:checked ~ .xr-var-attrs,\n",
       ".xr-var-data-in:checked ~ .xr-var-data,\n",
       ".xr-index-data-in:checked ~ .xr-index-data {\n",
       "  display: block;\n",
       "}\n",
       "\n",
       ".xr-var-data > table {\n",
       "  float: right;\n",
       "}\n",
       "\n",
       ".xr-var-name span,\n",
       ".xr-var-data,\n",
       ".xr-index-name div,\n",
       ".xr-index-data,\n",
       ".xr-attrs {\n",
       "  padding-left: 25px !important;\n",
       "}\n",
       "\n",
       ".xr-attrs,\n",
       ".xr-var-attrs,\n",
       ".xr-var-data,\n",
       ".xr-index-data {\n",
       "  grid-column: 1 / -1;\n",
       "}\n",
       "\n",
       "dl.xr-attrs {\n",
       "  padding: 0;\n",
       "  margin: 0;\n",
       "  display: grid;\n",
       "  grid-template-columns: 125px auto;\n",
       "}\n",
       "\n",
       ".xr-attrs dt,\n",
       ".xr-attrs dd {\n",
       "  padding: 0;\n",
       "  margin: 0;\n",
       "  float: left;\n",
       "  padding-right: 10px;\n",
       "  width: auto;\n",
       "}\n",
       "\n",
       ".xr-attrs dt {\n",
       "  font-weight: normal;\n",
       "  grid-column: 1;\n",
       "}\n",
       "\n",
       ".xr-attrs dt:hover span {\n",
       "  display: inline-block;\n",
       "  background: var(--xr-background-color);\n",
       "  padding-right: 10px;\n",
       "}\n",
       "\n",
       ".xr-attrs dd {\n",
       "  grid-column: 2;\n",
       "  white-space: pre-wrap;\n",
       "  word-break: break-all;\n",
       "}\n",
       "\n",
       ".xr-icon-database,\n",
       ".xr-icon-file-text2,\n",
       ".xr-no-icon {\n",
       "  display: inline-block;\n",
       "  vertical-align: middle;\n",
       "  width: 1em;\n",
       "  height: 1.5em !important;\n",
       "  stroke-width: 0;\n",
       "  stroke: currentColor;\n",
       "  fill: currentColor;\n",
       "}\n",
       "</style><pre class='xr-text-repr-fallback'>&lt;xarray.Dataset&gt; Size: 3GB\n",
       "Dimensions:            (Time: 1, lat: 2901, lon: 4608)\n",
       "Coordinates:\n",
       "    lat                (lat, lon) float32 53MB ...\n",
       "    lon                (lat, lon) float32 53MB ...\n",
       "Dimensions without coordinates: Time\n",
       "Data variables: (12/47)\n",
       "    FRC_URB2D          (Time, lat, lon) float32 53MB ...\n",
       "    HGT                (Time, lat, lon) float32 53MB ...\n",
       "    ISLTYP             (Time, lat, lon) float64 107MB ...\n",
       "    IVGTYP             (Time, lat, lon) float64 107MB ...\n",
       "    LU_INDEX           (Time, lat, lon) float32 53MB ...\n",
       "    Lambert_Conformal  int32 4B ...\n",
       "    ...                 ...\n",
       "    trad_max           (Time, lat, lon) float32 53MB ...\n",
       "    trad_min           (Time, lat, lon) float32 53MB ...\n",
       "    tsk                (Time, lat, lon) float32 53MB ...\n",
       "    tsk_max            (Time, lat, lon) float32 53MB ...\n",
       "    tsk_min            (Time, lat, lon) float32 53MB ...\n",
       "    wspd               (Time, lat, lon) float32 53MB ...\n",
       "Attributes: (12/50)\n",
       "    SIMULATION_START_DATE:           0000-00-00_00:00:00\n",
       "    WEST-EAST_GRID_DIMENSION:        4609\n",
       "    SOUTH-NORTH_GRID_DIMENSION:      3841\n",
       "    BOTTOM-TOP_GRID_DIMENSION:       0\n",
       "    WEST-EAST_PATCH_START_UNSTAG:    1\n",
       "    WEST-EAST_PATCH_END_UNSTAG:      4608\n",
       "    ...                              ...\n",
       "    FLAG_LAI12M:                     1\n",
       "    FLAG_LAKE_DEPTH:                 1\n",
       "    nco_openmp_thread_number:        1\n",
       "    NCO:                             netCDF Operators version 5.1.9 (Homepage...\n",
       "    TITLE:                           OUTPUT FROM GEOGRID V4.0.1\n",
       "    history:                         Mon Feb 26 06:10:43 2024: ncks -4 -L 1 c...</pre><div class='xr-wrap' style='display:none'><div class='xr-header'><div class='xr-obj-type'>xarray.Dataset</div></div><ul class='xr-sections'><li class='xr-section-item'><input id='section-025dccbb-4bd9-40b1-a98d-7f4880c64ab8' class='xr-section-summary-in' type='checkbox' disabled ><label for='section-025dccbb-4bd9-40b1-a98d-7f4880c64ab8' class='xr-section-summary'  title='Expand/collapse section'>Dimensions:</label><div class='xr-section-inline-details'><ul class='xr-dim-list'><li><span>Time</span>: 1</li><li><span>lat</span>: 2901</li><li><span>lon</span>: 4608</li></ul></div><div class='xr-section-details'></div></li><li class='xr-section-item'><input id='section-0fca05fc-6bc7-4f22-95d4-9d4ca446ea43' class='xr-section-summary-in' type='checkbox'  checked><label for='section-0fca05fc-6bc7-4f22-95d4-9d4ca446ea43' class='xr-section-summary' >Coordinates: <span>(2)</span></label><div class='xr-section-inline-details'></div><div class='xr-section-details'><ul class='xr-var-list'><li class='xr-var-item'><div class='xr-var-name'><span>lat</span></div><div class='xr-var-dims'>(lat, lon)</div><div class='xr-var-dtype'>float32</div><div class='xr-var-preview xr-preview'>...</div><input id='attrs-91dd0705-6711-49e5-9e70-6404b3facbe1' class='xr-var-attrs-in' type='checkbox' ><label for='attrs-91dd0705-6711-49e5-9e70-6404b3facbe1' title='Show/Hide attributes'><svg class='icon xr-icon-file-text2'><use xlink:href='#icon-file-text2'></use></svg></label><input id='data-1fe38ccd-0ba0-4e3f-9494-2b8eab5fc019' class='xr-var-data-in' type='checkbox'><label for='data-1fe38ccd-0ba0-4e3f-9494-2b8eab5fc019' title='Show/Hide data repr'><svg class='icon xr-icon-database'><use xlink:href='#icon-database'></use></svg></label><div class='xr-var-attrs'><dl class='xr-attrs'><dt><span>units :</span></dt><dd>degrees_north</dd><dt><span>long_name :</span></dt><dd>latitude coordinate</dd><dt><span>standard_name :</span></dt><dd>latitude</dd></dl></div><div class='xr-var-data'><pre>[13367808 values with dtype=float32]</pre></div></li><li class='xr-var-item'><div class='xr-var-name'><span>lon</span></div><div class='xr-var-dims'>(lat, lon)</div><div class='xr-var-dtype'>float32</div><div class='xr-var-preview xr-preview'>...</div><input id='attrs-317e8cfa-ab6e-466c-809e-5f34febdd99f' class='xr-var-attrs-in' type='checkbox' ><label for='attrs-317e8cfa-ab6e-466c-809e-5f34febdd99f' title='Show/Hide attributes'><svg class='icon xr-icon-file-text2'><use xlink:href='#icon-file-text2'></use></svg></label><input id='data-cd53d0c2-ed03-4f0d-8d0d-c3072dad1b97' class='xr-var-data-in' type='checkbox'><label for='data-cd53d0c2-ed03-4f0d-8d0d-c3072dad1b97' title='Show/Hide data repr'><svg class='icon xr-icon-database'><use xlink:href='#icon-database'></use></svg></label><div class='xr-var-attrs'><dl class='xr-attrs'><dt><span>units :</span></dt><dd>degrees_east</dd><dt><span>long_name :</span></dt><dd>longitude coordinate</dd><dt><span>standard_name :</span></dt><dd>longitude</dd></dl></div><div class='xr-var-data'><pre>[13367808 values with dtype=float32]</pre></div></li></ul></div></li><li class='xr-section-item'><input id='section-2b6c4fb8-4b92-4e0d-94f5-7b782e645d65' class='xr-section-summary-in' type='checkbox'  ><label for='section-2b6c4fb8-4b92-4e0d-94f5-7b782e645d65' class='xr-section-summary' >Data variables: <span>(47)</span></label><div class='xr-section-inline-details'></div><div class='xr-section-details'><ul class='xr-var-list'><li class='xr-var-item'><div class='xr-var-name'><span>FRC_URB2D</span></div><div class='xr-var-dims'>(Time, lat, lon)</div><div class='xr-var-dtype'>float32</div><div class='xr-var-preview xr-preview'>...</div><input id='attrs-efb83963-d439-4098-902a-2c18cad68639' class='xr-var-attrs-in' type='checkbox' ><label for='attrs-efb83963-d439-4098-902a-2c18cad68639' title='Show/Hide attributes'><svg class='icon xr-icon-file-text2'><use xlink:href='#icon-file-text2'></use></svg></label><input id='data-2a2c8059-13f2-44f6-8d23-55003cc336ae' class='xr-var-data-in' type='checkbox'><label for='data-2a2c8059-13f2-44f6-8d23-55003cc336ae' title='Show/Hide data repr'><svg class='icon xr-icon-database'><use xlink:href='#icon-database'></use></svg></label><div class='xr-var-attrs'><dl class='xr-attrs'><dt><span>MemoryOrder :</span></dt><dd>XY </dd><dt><span>FieldType :</span></dt><dd>104</dd><dt><span>units :</span></dt><dd>unitless</dd><dt><span>stagger :</span></dt><dd>M</dd><dt><span>sr_y :</span></dt><dd>1</dd><dt><span>description :</span></dt><dd>urban fraction</dd><dt><span>sr_x :</span></dt><dd>1</dd></dl></div><div class='xr-var-data'><pre>[13367808 values with dtype=float32]</pre></div></li><li class='xr-var-item'><div class='xr-var-name'><span>HGT</span></div><div class='xr-var-dims'>(Time, lat, lon)</div><div class='xr-var-dtype'>float32</div><div class='xr-var-preview xr-preview'>...</div><input id='attrs-e17eacd4-5b02-4df4-9cea-1bdb2d4d20dc' class='xr-var-attrs-in' type='checkbox' ><label for='attrs-e17eacd4-5b02-4df4-9cea-1bdb2d4d20dc' title='Show/Hide attributes'><svg class='icon xr-icon-file-text2'><use xlink:href='#icon-file-text2'></use></svg></label><input id='data-9a3e49dc-c77a-4458-b425-bcdd2909e0db' class='xr-var-data-in' type='checkbox'><label for='data-9a3e49dc-c77a-4458-b425-bcdd2909e0db' title='Show/Hide data repr'><svg class='icon xr-icon-database'><use xlink:href='#icon-database'></use></svg></label><div class='xr-var-attrs'><dl class='xr-attrs'><dt><span>MemoryOrder :</span></dt><dd>XY </dd><dt><span>FieldType :</span></dt><dd>104</dd><dt><span>units :</span></dt><dd>meters MSL</dd><dt><span>stagger :</span></dt><dd>M</dd><dt><span>sr_y :</span></dt><dd>1</dd><dt><span>description :</span></dt><dd>Topography height</dd><dt><span>sr_x :</span></dt><dd>1</dd></dl></div><div class='xr-var-data'><pre>[13367808 values with dtype=float32]</pre></div></li><li class='xr-var-item'><div class='xr-var-name'><span>ISLTYP</span></div><div class='xr-var-dims'>(Time, lat, lon)</div><div class='xr-var-dtype'>float64</div><div class='xr-var-preview xr-preview'>...</div><input id='attrs-a3af98fb-eeac-4419-97bb-f1d83490d4bf' class='xr-var-attrs-in' type='checkbox' ><label for='attrs-a3af98fb-eeac-4419-97bb-f1d83490d4bf' title='Show/Hide attributes'><svg class='icon xr-icon-file-text2'><use xlink:href='#icon-file-text2'></use></svg></label><input id='data-3715a2a3-34e1-4d83-a02f-84ca3b166b70' class='xr-var-data-in' type='checkbox'><label for='data-3715a2a3-34e1-4d83-a02f-84ca3b166b70' title='Show/Hide data repr'><svg class='icon xr-icon-database'><use xlink:href='#icon-database'></use></svg></label><div class='xr-var-attrs'><dl class='xr-attrs'><dt><span>MemoryOrder :</span></dt><dd>XY </dd><dt><span>FieldType :</span></dt><dd>104</dd><dt><span>units :</span></dt><dd>category</dd><dt><span>stagger :</span></dt><dd>M</dd><dt><span>grid_mapping :</span></dt><dd>lambert_conformal_conic</dd><dt><span>sr_y :</span></dt><dd>1</dd><dt><span>description :</span></dt><dd>Dominant category</dd><dt><span>sr_x :</span></dt><dd>1</dd></dl></div><div class='xr-var-data'><pre>[13367808 values with dtype=float64]</pre></div></li><li class='xr-var-item'><div class='xr-var-name'><span>IVGTYP</span></div><div class='xr-var-dims'>(Time, lat, lon)</div><div class='xr-var-dtype'>float64</div><div class='xr-var-preview xr-preview'>...</div><input id='attrs-e022c50b-b0de-444b-9f38-9e0a0498ec49' class='xr-var-attrs-in' type='checkbox' ><label for='attrs-e022c50b-b0de-444b-9f38-9e0a0498ec49' title='Show/Hide attributes'><svg class='icon xr-icon-file-text2'><use xlink:href='#icon-file-text2'></use></svg></label><input id='data-336a84d8-6498-4f86-9365-04b69de1f733' class='xr-var-data-in' type='checkbox'><label for='data-336a84d8-6498-4f86-9365-04b69de1f733' title='Show/Hide data repr'><svg class='icon xr-icon-database'><use xlink:href='#icon-database'></use></svg></label><div class='xr-var-attrs'><dl class='xr-attrs'><dt><span>MemoryOrder :</span></dt><dd>XY </dd><dt><span>FieldType :</span></dt><dd>104</dd><dt><span>units :</span></dt><dd>category</dd><dt><span>stagger :</span></dt><dd>M</dd><dt><span>grid_mapping :</span></dt><dd>lambert_conformal_conic</dd><dt><span>sr_y :</span></dt><dd>1</dd><dt><span>description :</span></dt><dd>Dominant category</dd><dt><span>sr_x :</span></dt><dd>1</dd></dl></div><div class='xr-var-data'><pre>[13367808 values with dtype=float64]</pre></div></li><li class='xr-var-item'><div class='xr-var-name'><span>LU_INDEX</span></div><div class='xr-var-dims'>(Time, lat, lon)</div><div class='xr-var-dtype'>float32</div><div class='xr-var-preview xr-preview'>...</div><input id='attrs-65e40711-c87b-4c33-aa60-ff6aa7997ecf' class='xr-var-attrs-in' type='checkbox' ><label for='attrs-65e40711-c87b-4c33-aa60-ff6aa7997ecf' title='Show/Hide attributes'><svg class='icon xr-icon-file-text2'><use xlink:href='#icon-file-text2'></use></svg></label><input id='data-88592e39-2857-450e-b86b-f100970b9422' class='xr-var-data-in' type='checkbox'><label for='data-88592e39-2857-450e-b86b-f100970b9422' title='Show/Hide data repr'><svg class='icon xr-icon-database'><use xlink:href='#icon-database'></use></svg></label><div class='xr-var-attrs'><dl class='xr-attrs'><dt><span>MemoryOrder :</span></dt><dd>XY </dd><dt><span>FieldType :</span></dt><dd>104</dd><dt><span>units :</span></dt><dd>category</dd><dt><span>stagger :</span></dt><dd>M</dd><dt><span>sr_y :</span></dt><dd>1</dd><dt><span>description :</span></dt><dd>Dominant category</dd><dt><span>sr_x :</span></dt><dd>1</dd></dl></div><div class='xr-var-data'><pre>[13367808 values with dtype=float32]</pre></div></li><li class='xr-var-item'><div class='xr-var-name'><span>Lambert_Conformal</span></div><div class='xr-var-dims'>()</div><div class='xr-var-dtype'>int32</div><div class='xr-var-preview xr-preview'>...</div><input id='attrs-6c4389b2-84cd-41ac-908e-37bcbffcced2' class='xr-var-attrs-in' type='checkbox' ><label for='attrs-6c4389b2-84cd-41ac-908e-37bcbffcced2' title='Show/Hide attributes'><svg class='icon xr-icon-file-text2'><use xlink:href='#icon-file-text2'></use></svg></label><input id='data-89d9b289-75bf-488f-95ca-724f6c9a7aeb' class='xr-var-data-in' type='checkbox'><label for='data-89d9b289-75bf-488f-95ca-724f6c9a7aeb' title='Show/Hide data repr'><svg class='icon xr-icon-database'><use xlink:href='#icon-database'></use></svg></label><div class='xr-var-attrs'><dl class='xr-attrs'><dt><span>grid_mapping_name :</span></dt><dd>lambert_conformal_conic</dd><dt><span>hemisphere :</span></dt><dd>N</dd><dt><span>scale_lat_1 :</span></dt><dd>30.0</dd><dt><span>scale_lat_2 :</span></dt><dd>60.0</dd><dt><span>lat_pin :</span></dt><dd>40.00001</dd><dt><span>lon_pin :</span></dt><dd>-97.0</dd><dt><span>x_pin :</span></dt><dd>2304.0</dd><dt><span>lon_orient :</span></dt><dd>-97.0</dd><dt><span>d_km :</span></dt><dd>1.0</dd><dt><span>r_km :</span></dt><dd>6371.2</dd><dt><span>nx :</span></dt><dd>4608.0</dd><dt><span>ny :</span></dt><dd>2901.0</dd><dt><span>y_pin :</span></dt><dd>1450.5</dd></dl></div><div class='xr-var-data'><pre>[1 values with dtype=int32]</pre></div></li><li class='xr-var-item'><div class='xr-var-name'><span>Times</span></div><div class='xr-var-dims'>(Time)</div><div class='xr-var-dtype'>object</div><div class='xr-var-preview xr-preview'>...</div><input id='attrs-d7116095-0cad-47ee-a0c6-114758bed58d' class='xr-var-attrs-in' type='checkbox' disabled><label for='attrs-d7116095-0cad-47ee-a0c6-114758bed58d' title='Show/Hide attributes'><svg class='icon xr-icon-file-text2'><use xlink:href='#icon-file-text2'></use></svg></label><input id='data-d3a8e13c-3172-40bc-a0bc-25b0b0ec26e1' class='xr-var-data-in' type='checkbox'><label for='data-d3a8e13c-3172-40bc-a0bc-25b0b0ec26e1' title='Show/Hide data repr'><svg class='icon xr-icon-database'><use xlink:href='#icon-database'></use></svg></label><div class='xr-var-attrs'><dl class='xr-attrs'></dl></div><div class='xr-var-data'><pre>[1 values with dtype=object]</pre></div></li><li class='xr-var-item'><div class='xr-var-name'><span>URB_CAT</span></div><div class='xr-var-dims'>(Time, lat, lon)</div><div class='xr-var-dtype'>float32</div><div class='xr-var-preview xr-preview'>...</div><input id='attrs-ea7de774-88eb-4993-a6e4-935c9dc8b482' class='xr-var-attrs-in' type='checkbox' ><label for='attrs-ea7de774-88eb-4993-a6e4-935c9dc8b482' title='Show/Hide attributes'><svg class='icon xr-icon-file-text2'><use xlink:href='#icon-file-text2'></use></svg></label><input id='data-ba3f27e7-ffe0-4623-880c-f9295e5461a9' class='xr-var-data-in' type='checkbox'><label for='data-ba3f27e7-ffe0-4623-880c-f9295e5461a9' title='Show/Hide data repr'><svg class='icon xr-icon-database'><use xlink:href='#icon-database'></use></svg></label><div class='xr-var-attrs'><dl class='xr-attrs'><dt><span>MemoryOrder :</span></dt><dd>XY </dd><dt><span>FieldType :</span></dt><dd>104</dd><dt><span>units :</span></dt><dd>unitless</dd><dt><span>stagger :</span></dt><dd>M</dd><dt><span>sr_y :</span></dt><dd>1</dd><dt><span>description :</span></dt><dd>Dominant Urban Category</dd><dt><span>sr_x :</span></dt><dd>1</dd></dl></div><div class='xr-var-data'><pre>[13367808 values with dtype=float32]</pre></div></li><li class='xr-var-item'><div class='xr-var-name'><span>hfx</span></div><div class='xr-var-dims'>(Time, lat, lon)</div><div class='xr-var-dtype'>float32</div><div class='xr-var-preview xr-preview'>...</div><input id='attrs-ebeb430b-796a-4dab-bcb8-7d0e25debae2' class='xr-var-attrs-in' type='checkbox' ><label for='attrs-ebeb430b-796a-4dab-bcb8-7d0e25debae2' title='Show/Hide attributes'><svg class='icon xr-icon-file-text2'><use xlink:href='#icon-file-text2'></use></svg></label><input id='data-4d6f00a3-2a48-4c23-b5e6-2246695327f9' class='xr-var-data-in' type='checkbox'><label for='data-4d6f00a3-2a48-4c23-b5e6-2246695327f9' title='Show/Hide data repr'><svg class='icon xr-icon-database'><use xlink:href='#icon-database'></use></svg></label><div class='xr-var-attrs'><dl class='xr-attrs'><dt><span>MemoryOrder :</span></dt><dd>XY</dd><dt><span>description :</span></dt><dd>Daily mean sensible heat to atmosphere</dd><dt><span>units :</span></dt><dd>W m{-2}</dd><dt><span>stagger :</span></dt><dd>-</dd></dl></div><div class='xr-var-data'><pre>[13367808 values with dtype=float32]</pre></div></li><li class='xr-var-item'><div class='xr-var-name'><span>lh</span></div><div class='xr-var-dims'>(Time, lat, lon)</div><div class='xr-var-dtype'>float32</div><div class='xr-var-preview xr-preview'>...</div><input id='attrs-12e951f5-cbfb-4b72-a02a-f5e2bccca529' class='xr-var-attrs-in' type='checkbox' ><label for='attrs-12e951f5-cbfb-4b72-a02a-f5e2bccca529' title='Show/Hide attributes'><svg class='icon xr-icon-file-text2'><use xlink:href='#icon-file-text2'></use></svg></label><input id='data-eb788e2c-f5fb-4248-817b-b30216ec9541' class='xr-var-data-in' type='checkbox'><label for='data-eb788e2c-f5fb-4248-817b-b30216ec9541' title='Show/Hide data repr'><svg class='icon xr-icon-database'><use xlink:href='#icon-database'></use></svg></label><div class='xr-var-attrs'><dl class='xr-attrs'><dt><span>MemoryOrder :</span></dt><dd>XY</dd><dt><span>description :</span></dt><dd>Daily mean latent heat to atmosphere</dd><dt><span>units :</span></dt><dd>W m{-2}</dd><dt><span>stagger :</span></dt><dd>-</dd></dl></div><div class='xr-var-data'><pre>[13367808 values with dtype=float32]</pre></div></li><li class='xr-var-item'><div class='xr-var-name'><span>lwforc</span></div><div class='xr-var-dims'>(Time, lat, lon)</div><div class='xr-var-dtype'>float32</div><div class='xr-var-preview xr-preview'>...</div><input id='attrs-027dabaf-aebe-46c9-91ae-d8a2ca412c1e' class='xr-var-attrs-in' type='checkbox' ><label for='attrs-027dabaf-aebe-46c9-91ae-d8a2ca412c1e' title='Show/Hide attributes'><svg class='icon xr-icon-file-text2'><use xlink:href='#icon-file-text2'></use></svg></label><input id='data-f8d50294-f1ac-4c8a-aa34-32e2c18ed0b9' class='xr-var-data-in' type='checkbox'><label for='data-f8d50294-f1ac-4c8a-aa34-32e2c18ed0b9' title='Show/Hide data repr'><svg class='icon xr-icon-database'><use xlink:href='#icon-database'></use></svg></label><div class='xr-var-attrs'><dl class='xr-attrs'><dt><span>MemoryOrder :</span></dt><dd>XY</dd><dt><span>description :</span></dt><dd>Daily mean longwave forcing</dd><dt><span>units :</span></dt><dd>W m{-2}</dd><dt><span>stagger :</span></dt><dd>-</dd></dl></div><div class='xr-var-data'><pre>[13367808 values with dtype=float32]</pre></div></li><li class='xr-var-item'><div class='xr-var-name'><span>q2</span></div><div class='xr-var-dims'>(Time, lat, lon)</div><div class='xr-var-dtype'>float32</div><div class='xr-var-preview xr-preview'>...</div><input id='attrs-5e7e8f4b-a258-45c5-b85c-dccfbc70844a' class='xr-var-attrs-in' type='checkbox' ><label for='attrs-5e7e8f4b-a258-45c5-b85c-dccfbc70844a' title='Show/Hide attributes'><svg class='icon xr-icon-file-text2'><use xlink:href='#icon-file-text2'></use></svg></label><input id='data-9e3baa8d-5402-4986-be04-1772b8ad187d' class='xr-var-data-in' type='checkbox'><label for='data-9e3baa8d-5402-4986-be04-1772b8ad187d' title='Show/Hide data repr'><svg class='icon xr-icon-database'><use xlink:href='#icon-database'></use></svg></label><div class='xr-var-attrs'><dl class='xr-attrs'><dt><span>MemoryOrder :</span></dt><dd>XY</dd><dt><span>description :</span></dt><dd>Daily mean veg and urban weighted 2-m diagnostic spec. humidity</dd><dt><span>units :</span></dt><dd>kg/kg</dd><dt><span>stagger :</span></dt><dd>-</dd></dl></div><div class='xr-var-data'><pre>[13367808 values with dtype=float32]</pre></div></li><li class='xr-var-item'><div class='xr-var-name'><span>q2_max</span></div><div class='xr-var-dims'>(Time, lat, lon)</div><div class='xr-var-dtype'>float32</div><div class='xr-var-preview xr-preview'>...</div><input id='attrs-78d3f9f3-b935-44d9-b83b-3a71b5fbdf44' class='xr-var-attrs-in' type='checkbox' ><label for='attrs-78d3f9f3-b935-44d9-b83b-3a71b5fbdf44' title='Show/Hide attributes'><svg class='icon xr-icon-file-text2'><use xlink:href='#icon-file-text2'></use></svg></label><input id='data-90962a4f-cdc2-409e-94eb-dbfe7a02bd07' class='xr-var-data-in' type='checkbox'><label for='data-90962a4f-cdc2-409e-94eb-dbfe7a02bd07' title='Show/Hide data repr'><svg class='icon xr-icon-database'><use xlink:href='#icon-database'></use></svg></label><div class='xr-var-attrs'><dl class='xr-attrs'><dt><span>MemoryOrder :</span></dt><dd>XY</dd><dt><span>description :</span></dt><dd>Daily maximum veg and urban weighted 2-m diagnostic spec. humidity</dd><dt><span>units :</span></dt><dd>kg/kg</dd><dt><span>stagger :</span></dt><dd>-</dd></dl></div><div class='xr-var-data'><pre>[13367808 values with dtype=float32]</pre></div></li><li class='xr-var-item'><div class='xr-var-name'><span>q2_min</span></div><div class='xr-var-dims'>(Time, lat, lon)</div><div class='xr-var-dtype'>float32</div><div class='xr-var-preview xr-preview'>...</div><input id='attrs-fdc9a90c-ee85-4f0b-ab7f-3e41a08c3cfc' class='xr-var-attrs-in' type='checkbox' ><label for='attrs-fdc9a90c-ee85-4f0b-ab7f-3e41a08c3cfc' title='Show/Hide attributes'><svg class='icon xr-icon-file-text2'><use xlink:href='#icon-file-text2'></use></svg></label><input id='data-49b7ab45-6899-44a0-9fb1-2626cd3ed618' class='xr-var-data-in' type='checkbox'><label for='data-49b7ab45-6899-44a0-9fb1-2626cd3ed618' title='Show/Hide data repr'><svg class='icon xr-icon-database'><use xlink:href='#icon-database'></use></svg></label><div class='xr-var-attrs'><dl class='xr-attrs'><dt><span>MemoryOrder :</span></dt><dd>XY</dd><dt><span>description :</span></dt><dd>Daily minimum veg and urban weighted 2-m diagnostic spec. humidity</dd><dt><span>units :</span></dt><dd>kg/kg</dd><dt><span>stagger :</span></dt><dd>-</dd></dl></div><div class='xr-var-data'><pre>[13367808 values with dtype=float32]</pre></div></li><li class='xr-var-item'><div class='xr-var-name'><span>q2_urb2d</span></div><div class='xr-var-dims'>(Time, lat, lon)</div><div class='xr-var-dtype'>float32</div><div class='xr-var-preview xr-preview'>...</div><input id='attrs-f5280fa5-141b-4595-9f57-975b21bbdd00' class='xr-var-attrs-in' type='checkbox' ><label for='attrs-f5280fa5-141b-4595-9f57-975b21bbdd00' title='Show/Hide attributes'><svg class='icon xr-icon-file-text2'><use xlink:href='#icon-file-text2'></use></svg></label><input id='data-42ef02f5-cb82-4625-b42d-394b625f55e4' class='xr-var-data-in' type='checkbox'><label for='data-42ef02f5-cb82-4625-b42d-394b625f55e4' title='Show/Hide data repr'><svg class='icon xr-icon-database'><use xlink:href='#icon-database'></use></svg></label><div class='xr-var-attrs'><dl class='xr-attrs'><dt><span>MemoryOrder :</span></dt><dd>XY</dd><dt><span>description :</span></dt><dd>Daily mean urban 2-m diagnostic spec. humidity</dd><dt><span>units :</span></dt><dd>kg/kg</dd><dt><span>stagger :</span></dt><dd>-</dd></dl></div><div class='xr-var-data'><pre>[13367808 values with dtype=float32]</pre></div></li><li class='xr-var-item'><div class='xr-var-name'><span>q2_urb2d_max</span></div><div class='xr-var-dims'>(Time, lat, lon)</div><div class='xr-var-dtype'>float32</div><div class='xr-var-preview xr-preview'>...</div><input id='attrs-c113a49a-9c40-49dd-ae9f-00b27fcb1b16' class='xr-var-attrs-in' type='checkbox' ><label for='attrs-c113a49a-9c40-49dd-ae9f-00b27fcb1b16' title='Show/Hide attributes'><svg class='icon xr-icon-file-text2'><use xlink:href='#icon-file-text2'></use></svg></label><input id='data-997f851d-3add-4507-89d3-66fd148c916c' class='xr-var-data-in' type='checkbox'><label for='data-997f851d-3add-4507-89d3-66fd148c916c' title='Show/Hide data repr'><svg class='icon xr-icon-database'><use xlink:href='#icon-database'></use></svg></label><div class='xr-var-attrs'><dl class='xr-attrs'><dt><span>MemoryOrder :</span></dt><dd>XY</dd><dt><span>description :</span></dt><dd>Daily maximum urban 2-m diagnostic spec. humidity</dd><dt><span>units :</span></dt><dd>kg/kg</dd><dt><span>stagger :</span></dt><dd>-</dd></dl></div><div class='xr-var-data'><pre>[13367808 values with dtype=float32]</pre></div></li><li class='xr-var-item'><div class='xr-var-name'><span>q2_urb2d_min</span></div><div class='xr-var-dims'>(Time, lat, lon)</div><div class='xr-var-dtype'>float32</div><div class='xr-var-preview xr-preview'>...</div><input id='attrs-c740b436-879e-48dd-b02b-6cb98f7a7537' class='xr-var-attrs-in' type='checkbox' ><label for='attrs-c740b436-879e-48dd-b02b-6cb98f7a7537' title='Show/Hide attributes'><svg class='icon xr-icon-file-text2'><use xlink:href='#icon-file-text2'></use></svg></label><input id='data-e82faf11-4171-456f-88f0-38fa563873aa' class='xr-var-data-in' type='checkbox'><label for='data-e82faf11-4171-456f-88f0-38fa563873aa' title='Show/Hide data repr'><svg class='icon xr-icon-database'><use xlink:href='#icon-database'></use></svg></label><div class='xr-var-attrs'><dl class='xr-attrs'><dt><span>MemoryOrder :</span></dt><dd>XY</dd><dt><span>description :</span></dt><dd>Daily minimum urban 2-m diagnostic spec. humidity</dd><dt><span>units :</span></dt><dd>kg/kg</dd><dt><span>stagger :</span></dt><dd>-</dd></dl></div><div class='xr-var-data'><pre>[13367808 values with dtype=float32]</pre></div></li><li class='xr-var-item'><div class='xr-var-name'><span>rainrate</span></div><div class='xr-var-dims'>(Time, lat, lon)</div><div class='xr-var-dtype'>float32</div><div class='xr-var-preview xr-preview'>...</div><input id='attrs-2ff41f74-331c-425b-8efc-77cc22fdc017' class='xr-var-attrs-in' type='checkbox' ><label for='attrs-2ff41f74-331c-425b-8efc-77cc22fdc017' title='Show/Hide attributes'><svg class='icon xr-icon-file-text2'><use xlink:href='#icon-file-text2'></use></svg></label><input id='data-702de172-0438-472a-bace-cabea2a3b01d' class='xr-var-data-in' type='checkbox'><label for='data-702de172-0438-472a-bace-cabea2a3b01d' title='Show/Hide data repr'><svg class='icon xr-icon-database'><use xlink:href='#icon-database'></use></svg></label><div class='xr-var-attrs'><dl class='xr-attrs'><dt><span>MemoryOrder :</span></dt><dd>XY</dd><dt><span>description :</span></dt><dd>Daily mean precipitation rate</dd><dt><span>units :</span></dt><dd>kg m{-2} s{-1}</dd><dt><span>stagger :</span></dt><dd>-</dd></dl></div><div class='xr-var-data'><pre>[13367808 values with dtype=float32]</pre></div></li><li class='xr-var-item'><div class='xr-var-name'><span>swforc</span></div><div class='xr-var-dims'>(Time, lat, lon)</div><div class='xr-var-dtype'>float32</div><div class='xr-var-preview xr-preview'>...</div><input id='attrs-80b95f8f-31b1-40ee-8411-99a14abadc43' class='xr-var-attrs-in' type='checkbox' ><label for='attrs-80b95f8f-31b1-40ee-8411-99a14abadc43' title='Show/Hide attributes'><svg class='icon xr-icon-file-text2'><use xlink:href='#icon-file-text2'></use></svg></label><input id='data-3a84ae48-8ecd-41ed-ac77-1b5c96185989' class='xr-var-data-in' type='checkbox'><label for='data-3a84ae48-8ecd-41ed-ac77-1b5c96185989' title='Show/Hide data repr'><svg class='icon xr-icon-database'><use xlink:href='#icon-database'></use></svg></label><div class='xr-var-attrs'><dl class='xr-attrs'><dt><span>MemoryOrder :</span></dt><dd>XY</dd><dt><span>description :</span></dt><dd>Daily mean shortwave forcing</dd><dt><span>units :</span></dt><dd>W m{-2}</dd><dt><span>stagger :</span></dt><dd>-</dd></dl></div><div class='xr-var-data'><pre>[13367808 values with dtype=float32]</pre></div></li><li class='xr-var-item'><div class='xr-var-name'><span>t2_max_BC</span></div><div class='xr-var-dims'>(Time, lat, lon)</div><div class='xr-var-dtype'>float32</div><div class='xr-var-preview xr-preview'>...</div><input id='attrs-60035b46-5f8d-4b70-89ea-c41c4c722e20' class='xr-var-attrs-in' type='checkbox' ><label for='attrs-60035b46-5f8d-4b70-89ea-c41c4c722e20' title='Show/Hide attributes'><svg class='icon xr-icon-file-text2'><use xlink:href='#icon-file-text2'></use></svg></label><input id='data-397a6de0-32d2-4fff-9471-7619d79e5723' class='xr-var-data-in' type='checkbox'><label for='data-397a6de0-32d2-4fff-9471-7619d79e5723' title='Show/Hide data repr'><svg class='icon xr-icon-database'><use xlink:href='#icon-database'></use></svg></label><div class='xr-var-attrs'><dl class='xr-attrs'><dt><span>long_name :</span></dt><dd>Maximum Temperature Adjust</dd><dt><span>units :</span></dt><dd>K</dd><dt><span>grid_mapping :</span></dt><dd>Lambert_Conformal</dd></dl></div><div class='xr-var-data'><pre>[13367808 values with dtype=float32]</pre></div></li><li class='xr-var-item'><div class='xr-var-name'><span>t2_max_raw</span></div><div class='xr-var-dims'>(Time, lat, lon)</div><div class='xr-var-dtype'>float32</div><div class='xr-var-preview xr-preview'>...</div><input id='attrs-1b435c51-cf1c-49cb-abe2-582120d63758' class='xr-var-attrs-in' type='checkbox' ><label for='attrs-1b435c51-cf1c-49cb-abe2-582120d63758' title='Show/Hide attributes'><svg class='icon xr-icon-file-text2'><use xlink:href='#icon-file-text2'></use></svg></label><input id='data-0906d853-4608-4c71-a95b-a70aa3875692' class='xr-var-data-in' type='checkbox'><label for='data-0906d853-4608-4c71-a95b-a70aa3875692' title='Show/Hide data repr'><svg class='icon xr-icon-database'><use xlink:href='#icon-database'></use></svg></label><div class='xr-var-attrs'><dl class='xr-attrs'><dt><span>long_name :</span></dt><dd>Unadjusted Temperature Maximum</dd><dt><span>units :</span></dt><dd>K</dd><dt><span>grid_mapping :</span></dt><dd>Lambert_Conformal</dd></dl></div><div class='xr-var-data'><pre>[13367808 values with dtype=float32]</pre></div></li><li class='xr-var-item'><div class='xr-var-name'><span>t2_min_BC</span></div><div class='xr-var-dims'>(Time, lat, lon)</div><div class='xr-var-dtype'>float32</div><div class='xr-var-preview xr-preview'>...</div><input id='attrs-d5d4f7f3-e139-4b8a-8f67-be89db2b8723' class='xr-var-attrs-in' type='checkbox' ><label for='attrs-d5d4f7f3-e139-4b8a-8f67-be89db2b8723' title='Show/Hide attributes'><svg class='icon xr-icon-file-text2'><use xlink:href='#icon-file-text2'></use></svg></label><input id='data-c86fe96f-63bd-46ba-a604-4a4d1269743e' class='xr-var-data-in' type='checkbox'><label for='data-c86fe96f-63bd-46ba-a604-4a4d1269743e' title='Show/Hide data repr'><svg class='icon xr-icon-database'><use xlink:href='#icon-database'></use></svg></label><div class='xr-var-attrs'><dl class='xr-attrs'><dt><span>long_name :</span></dt><dd>Minimum Temperature Adjust</dd><dt><span>units :</span></dt><dd>K</dd><dt><span>grid_mapping :</span></dt><dd>Lambert_Conformal</dd></dl></div><div class='xr-var-data'><pre>[13367808 values with dtype=float32]</pre></div></li><li class='xr-var-item'><div class='xr-var-name'><span>t2_min_raw</span></div><div class='xr-var-dims'>(Time, lat, lon)</div><div class='xr-var-dtype'>float32</div><div class='xr-var-preview xr-preview'>...</div><input id='attrs-1b5abb3b-6a48-4880-9a79-b0ff9fa21c77' class='xr-var-attrs-in' type='checkbox' ><label for='attrs-1b5abb3b-6a48-4880-9a79-b0ff9fa21c77' title='Show/Hide attributes'><svg class='icon xr-icon-file-text2'><use xlink:href='#icon-file-text2'></use></svg></label><input id='data-7b2a8e4e-f07c-4e73-8792-bac8f1ccf7e8' class='xr-var-data-in' type='checkbox'><label for='data-7b2a8e4e-f07c-4e73-8792-bac8f1ccf7e8' title='Show/Hide data repr'><svg class='icon xr-icon-database'><use xlink:href='#icon-database'></use></svg></label><div class='xr-var-attrs'><dl class='xr-attrs'><dt><span>units :</span></dt><dd>K</dd><dt><span>long_name :</span></dt><dd>Unadjusted Temperature Minimum</dd><dt><span>grid_mapping :</span></dt><dd>Lambert_Conformal</dd></dl></div><div class='xr-var-data'><pre>[13367808 values with dtype=float32]</pre></div></li><li class='xr-var-item'><div class='xr-var-name'><span>t2_raw</span></div><div class='xr-var-dims'>(Time, lat, lon)</div><div class='xr-var-dtype'>float32</div><div class='xr-var-preview xr-preview'>...</div><input id='attrs-2d57768c-bb85-43e2-93ef-204f6d0a9fd5' class='xr-var-attrs-in' type='checkbox' ><label for='attrs-2d57768c-bb85-43e2-93ef-204f6d0a9fd5' title='Show/Hide attributes'><svg class='icon xr-icon-file-text2'><use xlink:href='#icon-file-text2'></use></svg></label><input id='data-a9deb00f-c109-4888-8539-5ccfa6256be7' class='xr-var-data-in' type='checkbox'><label for='data-a9deb00f-c109-4888-8539-5ccfa6256be7' title='Show/Hide data repr'><svg class='icon xr-icon-database'><use xlink:href='#icon-database'></use></svg></label><div class='xr-var-attrs'><dl class='xr-attrs'><dt><span>MemoryOrder :</span></dt><dd>XY</dd><dt><span>description :</span></dt><dd>Daily mean veg and urban weighted 2-m diagnostic temperature</dd><dt><span>units :</span></dt><dd>K</dd><dt><span>stagger :</span></dt><dd>-</dd></dl></div><div class='xr-var-data'><pre>[13367808 values with dtype=float32]</pre></div></li><li class='xr-var-item'><div class='xr-var-name'><span>tb_urb2d</span></div><div class='xr-var-dims'>(Time, lat, lon)</div><div class='xr-var-dtype'>float32</div><div class='xr-var-preview xr-preview'>...</div><input id='attrs-4e016473-8b9e-4019-89a4-9f618be85d3b' class='xr-var-attrs-in' type='checkbox' ><label for='attrs-4e016473-8b9e-4019-89a4-9f618be85d3b' title='Show/Hide attributes'><svg class='icon xr-icon-file-text2'><use xlink:href='#icon-file-text2'></use></svg></label><input id='data-a8c22ee7-b414-4a45-8bc8-2e02addfe158' class='xr-var-data-in' type='checkbox'><label for='data-a8c22ee7-b414-4a45-8bc8-2e02addfe158' title='Show/Hide data repr'><svg class='icon xr-icon-database'><use xlink:href='#icon-database'></use></svg></label><div class='xr-var-attrs'><dl class='xr-attrs'><dt><span>MemoryOrder :</span></dt><dd>XY</dd><dt><span>description :</span></dt><dd>Daily mean urban buliding temperature</dd><dt><span>units :</span></dt><dd>K</dd><dt><span>stagger :</span></dt><dd>-</dd></dl></div><div class='xr-var-data'><pre>[13367808 values with dtype=float32]</pre></div></li><li class='xr-var-item'><div class='xr-var-name'><span>tb_urb2d_max</span></div><div class='xr-var-dims'>(Time, lat, lon)</div><div class='xr-var-dtype'>float32</div><div class='xr-var-preview xr-preview'>...</div><input id='attrs-f4eb7fa9-3c27-4aac-8186-77313adc32c6' class='xr-var-attrs-in' type='checkbox' ><label for='attrs-f4eb7fa9-3c27-4aac-8186-77313adc32c6' title='Show/Hide attributes'><svg class='icon xr-icon-file-text2'><use xlink:href='#icon-file-text2'></use></svg></label><input id='data-919ba30b-0615-4db3-b305-248ef096fa89' class='xr-var-data-in' type='checkbox'><label for='data-919ba30b-0615-4db3-b305-248ef096fa89' title='Show/Hide data repr'><svg class='icon xr-icon-database'><use xlink:href='#icon-database'></use></svg></label><div class='xr-var-attrs'><dl class='xr-attrs'><dt><span>MemoryOrder :</span></dt><dd>XY</dd><dt><span>description :</span></dt><dd>Daily maximum urban buliding temperature</dd><dt><span>units :</span></dt><dd>K</dd><dt><span>stagger :</span></dt><dd>-</dd></dl></div><div class='xr-var-data'><pre>[13367808 values with dtype=float32]</pre></div></li><li class='xr-var-item'><div class='xr-var-name'><span>tb_urb2d_min</span></div><div class='xr-var-dims'>(Time, lat, lon)</div><div class='xr-var-dtype'>float32</div><div class='xr-var-preview xr-preview'>...</div><input id='attrs-3c552e6e-1a41-4a01-b937-b8f5b16bc6fb' class='xr-var-attrs-in' type='checkbox' ><label for='attrs-3c552e6e-1a41-4a01-b937-b8f5b16bc6fb' title='Show/Hide attributes'><svg class='icon xr-icon-file-text2'><use xlink:href='#icon-file-text2'></use></svg></label><input id='data-60e8a5b7-ab45-4dac-8947-d6890e3f3e1b' class='xr-var-data-in' type='checkbox'><label for='data-60e8a5b7-ab45-4dac-8947-d6890e3f3e1b' title='Show/Hide data repr'><svg class='icon xr-icon-database'><use xlink:href='#icon-database'></use></svg></label><div class='xr-var-attrs'><dl class='xr-attrs'><dt><span>MemoryOrder :</span></dt><dd>XY</dd><dt><span>description :</span></dt><dd>Daily minimum urban buliding temperature</dd><dt><span>units :</span></dt><dd>K</dd><dt><span>stagger :</span></dt><dd>-</dd></dl></div><div class='xr-var-data'><pre>[13367808 values with dtype=float32]</pre></div></li><li class='xr-var-item'><div class='xr-var-name'><span>tc_urb2d</span></div><div class='xr-var-dims'>(Time, lat, lon)</div><div class='xr-var-dtype'>float32</div><div class='xr-var-preview xr-preview'>...</div><input id='attrs-5a93184a-93f1-44b1-9afd-53f9343d361f' class='xr-var-attrs-in' type='checkbox' ><label for='attrs-5a93184a-93f1-44b1-9afd-53f9343d361f' title='Show/Hide attributes'><svg class='icon xr-icon-file-text2'><use xlink:href='#icon-file-text2'></use></svg></label><input id='data-3f5b5d1c-7464-4116-90c9-b6a2095878cf' class='xr-var-data-in' type='checkbox'><label for='data-3f5b5d1c-7464-4116-90c9-b6a2095878cf' title='Show/Hide data repr'><svg class='icon xr-icon-database'><use xlink:href='#icon-database'></use></svg></label><div class='xr-var-attrs'><dl class='xr-attrs'><dt><span>MemoryOrder :</span></dt><dd>XY</dd><dt><span>description :</span></dt><dd>Daily mean urban canopy temperature</dd><dt><span>units :</span></dt><dd>K</dd><dt><span>stagger :</span></dt><dd>-</dd></dl></div><div class='xr-var-data'><pre>[13367808 values with dtype=float32]</pre></div></li><li class='xr-var-item'><div class='xr-var-name'><span>tc_urb2d_max</span></div><div class='xr-var-dims'>(Time, lat, lon)</div><div class='xr-var-dtype'>float32</div><div class='xr-var-preview xr-preview'>...</div><input id='attrs-a15d748b-b86c-456b-9b6c-cf1c2bf408a5' class='xr-var-attrs-in' type='checkbox' ><label for='attrs-a15d748b-b86c-456b-9b6c-cf1c2bf408a5' title='Show/Hide attributes'><svg class='icon xr-icon-file-text2'><use xlink:href='#icon-file-text2'></use></svg></label><input id='data-8fee26ab-56a6-4737-b08a-655de73f1f38' class='xr-var-data-in' type='checkbox'><label for='data-8fee26ab-56a6-4737-b08a-655de73f1f38' title='Show/Hide data repr'><svg class='icon xr-icon-database'><use xlink:href='#icon-database'></use></svg></label><div class='xr-var-attrs'><dl class='xr-attrs'><dt><span>MemoryOrder :</span></dt><dd>XY</dd><dt><span>description :</span></dt><dd>Daily maximum urban canopy temperature</dd><dt><span>units :</span></dt><dd>K</dd><dt><span>stagger :</span></dt><dd>-</dd></dl></div><div class='xr-var-data'><pre>[13367808 values with dtype=float32]</pre></div></li><li class='xr-var-item'><div class='xr-var-name'><span>tc_urb2d_min</span></div><div class='xr-var-dims'>(Time, lat, lon)</div><div class='xr-var-dtype'>float32</div><div class='xr-var-preview xr-preview'>...</div><input id='attrs-f7b8ffe4-cbb4-4b6c-adad-fb48bca1f5e7' class='xr-var-attrs-in' type='checkbox' ><label for='attrs-f7b8ffe4-cbb4-4b6c-adad-fb48bca1f5e7' title='Show/Hide attributes'><svg class='icon xr-icon-file-text2'><use xlink:href='#icon-file-text2'></use></svg></label><input id='data-1109c413-1c7e-4bc4-bdf8-c359e98bad79' class='xr-var-data-in' type='checkbox'><label for='data-1109c413-1c7e-4bc4-bdf8-c359e98bad79' title='Show/Hide data repr'><svg class='icon xr-icon-database'><use xlink:href='#icon-database'></use></svg></label><div class='xr-var-attrs'><dl class='xr-attrs'><dt><span>MemoryOrder :</span></dt><dd>XY</dd><dt><span>description :</span></dt><dd>Daily minimum urban canopy temperature</dd><dt><span>units :</span></dt><dd>K</dd><dt><span>stagger :</span></dt><dd>-</dd></dl></div><div class='xr-var-data'><pre>[13367808 values with dtype=float32]</pre></div></li><li class='xr-var-item'><div class='xr-var-name'><span>tg</span></div><div class='xr-var-dims'>(Time, lat, lon)</div><div class='xr-var-dtype'>float32</div><div class='xr-var-preview xr-preview'>...</div><input id='attrs-8833e7c4-a200-46a6-9082-bf60b0234f84' class='xr-var-attrs-in' type='checkbox' ><label for='attrs-8833e7c4-a200-46a6-9082-bf60b0234f84' title='Show/Hide attributes'><svg class='icon xr-icon-file-text2'><use xlink:href='#icon-file-text2'></use></svg></label><input id='data-7cfbc741-d046-4f2e-9995-ae7c161b93c1' class='xr-var-data-in' type='checkbox'><label for='data-7cfbc741-d046-4f2e-9995-ae7c161b93c1' title='Show/Hide data repr'><svg class='icon xr-icon-database'><use xlink:href='#icon-database'></use></svg></label><div class='xr-var-attrs'><dl class='xr-attrs'><dt><span>MemoryOrder :</span></dt><dd>XY</dd><dt><span>description :</span></dt><dd>Daily mean ground temperature</dd><dt><span>units :</span></dt><dd>K</dd><dt><span>stagger :</span></dt><dd>-</dd></dl></div><div class='xr-var-data'><pre>[13367808 values with dtype=float32]</pre></div></li><li class='xr-var-item'><div class='xr-var-name'><span>tg_max</span></div><div class='xr-var-dims'>(Time, lat, lon)</div><div class='xr-var-dtype'>float32</div><div class='xr-var-preview xr-preview'>...</div><input id='attrs-d700932e-be9a-4730-827c-cbe70ba8a8a0' class='xr-var-attrs-in' type='checkbox' ><label for='attrs-d700932e-be9a-4730-827c-cbe70ba8a8a0' title='Show/Hide attributes'><svg class='icon xr-icon-file-text2'><use xlink:href='#icon-file-text2'></use></svg></label><input id='data-43053bb3-8bf0-4902-a356-187f89916fd8' class='xr-var-data-in' type='checkbox'><label for='data-43053bb3-8bf0-4902-a356-187f89916fd8' title='Show/Hide data repr'><svg class='icon xr-icon-database'><use xlink:href='#icon-database'></use></svg></label><div class='xr-var-attrs'><dl class='xr-attrs'><dt><span>MemoryOrder :</span></dt><dd>XY</dd><dt><span>description :</span></dt><dd>Daily maximum ground temperature</dd><dt><span>units :</span></dt><dd>K</dd><dt><span>stagger :</span></dt><dd>-</dd></dl></div><div class='xr-var-data'><pre>[13367808 values with dtype=float32]</pre></div></li><li class='xr-var-item'><div class='xr-var-name'><span>tg_min</span></div><div class='xr-var-dims'>(Time, lat, lon)</div><div class='xr-var-dtype'>float32</div><div class='xr-var-preview xr-preview'>...</div><input id='attrs-7409045d-9a1d-491a-9660-948af9d965d1' class='xr-var-attrs-in' type='checkbox' ><label for='attrs-7409045d-9a1d-491a-9660-948af9d965d1' title='Show/Hide attributes'><svg class='icon xr-icon-file-text2'><use xlink:href='#icon-file-text2'></use></svg></label><input id='data-c39d7038-6b77-4276-a988-ab72e526fadb' class='xr-var-data-in' type='checkbox'><label for='data-c39d7038-6b77-4276-a988-ab72e526fadb' title='Show/Hide data repr'><svg class='icon xr-icon-database'><use xlink:href='#icon-database'></use></svg></label><div class='xr-var-attrs'><dl class='xr-attrs'><dt><span>MemoryOrder :</span></dt><dd>XY</dd><dt><span>description :</span></dt><dd>Daily minimum ground temperature</dd><dt><span>units :</span></dt><dd>K</dd><dt><span>stagger :</span></dt><dd>-</dd></dl></div><div class='xr-var-data'><pre>[13367808 values with dtype=float32]</pre></div></li><li class='xr-var-item'><div class='xr-var-name'><span>tg_urb2d</span></div><div class='xr-var-dims'>(Time, lat, lon)</div><div class='xr-var-dtype'>float32</div><div class='xr-var-preview xr-preview'>...</div><input id='attrs-bd8cec4c-547a-4bd8-b67f-a9000ae5d5f3' class='xr-var-attrs-in' type='checkbox' ><label for='attrs-bd8cec4c-547a-4bd8-b67f-a9000ae5d5f3' title='Show/Hide attributes'><svg class='icon xr-icon-file-text2'><use xlink:href='#icon-file-text2'></use></svg></label><input id='data-b4542e5e-a86f-4f5e-a8fc-2aee29e3da8a' class='xr-var-data-in' type='checkbox'><label for='data-b4542e5e-a86f-4f5e-a8fc-2aee29e3da8a' title='Show/Hide data repr'><svg class='icon xr-icon-database'><use xlink:href='#icon-database'></use></svg></label><div class='xr-var-attrs'><dl class='xr-attrs'><dt><span>MemoryOrder :</span></dt><dd>XY</dd><dt><span>description :</span></dt><dd>Daily mean urban road temperature</dd><dt><span>units :</span></dt><dd>K</dd><dt><span>stagger :</span></dt><dd>-</dd></dl></div><div class='xr-var-data'><pre>[13367808 values with dtype=float32]</pre></div></li><li class='xr-var-item'><div class='xr-var-name'><span>tg_urb2d_max</span></div><div class='xr-var-dims'>(Time, lat, lon)</div><div class='xr-var-dtype'>float32</div><div class='xr-var-preview xr-preview'>...</div><input id='attrs-465a0d0b-2742-4456-9d84-db0824723b90' class='xr-var-attrs-in' type='checkbox' ><label for='attrs-465a0d0b-2742-4456-9d84-db0824723b90' title='Show/Hide attributes'><svg class='icon xr-icon-file-text2'><use xlink:href='#icon-file-text2'></use></svg></label><input id='data-51dfa80a-c594-4dcd-9f72-d0af6d64cde3' class='xr-var-data-in' type='checkbox'><label for='data-51dfa80a-c594-4dcd-9f72-d0af6d64cde3' title='Show/Hide data repr'><svg class='icon xr-icon-database'><use xlink:href='#icon-database'></use></svg></label><div class='xr-var-attrs'><dl class='xr-attrs'><dt><span>MemoryOrder :</span></dt><dd>XY</dd><dt><span>description :</span></dt><dd>Daily maximum urban road temperature</dd><dt><span>units :</span></dt><dd>K</dd><dt><span>stagger :</span></dt><dd>-</dd></dl></div><div class='xr-var-data'><pre>[13367808 values with dtype=float32]</pre></div></li><li class='xr-var-item'><div class='xr-var-name'><span>tg_urb2d_min</span></div><div class='xr-var-dims'>(Time, lat, lon)</div><div class='xr-var-dtype'>float32</div><div class='xr-var-preview xr-preview'>...</div><input id='attrs-3f195f61-59b1-44cb-93e5-550607dcfd63' class='xr-var-attrs-in' type='checkbox' ><label for='attrs-3f195f61-59b1-44cb-93e5-550607dcfd63' title='Show/Hide attributes'><svg class='icon xr-icon-file-text2'><use xlink:href='#icon-file-text2'></use></svg></label><input id='data-4ac86369-1b44-451d-95fa-867c74970845' class='xr-var-data-in' type='checkbox'><label for='data-4ac86369-1b44-451d-95fa-867c74970845' title='Show/Hide data repr'><svg class='icon xr-icon-database'><use xlink:href='#icon-database'></use></svg></label><div class='xr-var-attrs'><dl class='xr-attrs'><dt><span>MemoryOrder :</span></dt><dd>XY</dd><dt><span>description :</span></dt><dd>Daily minimum urban road temperature</dd><dt><span>units :</span></dt><dd>K</dd><dt><span>stagger :</span></dt><dd>-</dd></dl></div><div class='xr-var-data'><pre>[13367808 values with dtype=float32]</pre></div></li><li class='xr-var-item'><div class='xr-var-name'><span>time</span></div><div class='xr-var-dims'>(Time)</div><div class='xr-var-dtype'>datetime64[ns]</div><div class='xr-var-preview xr-preview'>...</div><input id='attrs-b08948ae-acb6-4d1c-a3c4-d5e9c9081501' class='xr-var-attrs-in' type='checkbox' disabled><label for='attrs-b08948ae-acb6-4d1c-a3c4-d5e9c9081501' title='Show/Hide attributes'><svg class='icon xr-icon-file-text2'><use xlink:href='#icon-file-text2'></use></svg></label><input id='data-307ac021-1911-4759-9ac7-b81b89b127be' class='xr-var-data-in' type='checkbox'><label for='data-307ac021-1911-4759-9ac7-b81b89b127be' title='Show/Hide data repr'><svg class='icon xr-icon-database'><use xlink:href='#icon-database'></use></svg></label><div class='xr-var-attrs'><dl class='xr-attrs'></dl></div><div class='xr-var-data'><pre>[1 values with dtype=datetime64[ns]]</pre></div></li><li class='xr-var-item'><div class='xr-var-name'><span>tr_urb2d</span></div><div class='xr-var-dims'>(Time, lat, lon)</div><div class='xr-var-dtype'>float32</div><div class='xr-var-preview xr-preview'>...</div><input id='attrs-777d945f-4b98-475e-8482-98b5aedf1ad9' class='xr-var-attrs-in' type='checkbox' ><label for='attrs-777d945f-4b98-475e-8482-98b5aedf1ad9' title='Show/Hide attributes'><svg class='icon xr-icon-file-text2'><use xlink:href='#icon-file-text2'></use></svg></label><input id='data-9131ec54-87f0-4757-b20a-08a3eab04e15' class='xr-var-data-in' type='checkbox'><label for='data-9131ec54-87f0-4757-b20a-08a3eab04e15' title='Show/Hide data repr'><svg class='icon xr-icon-database'><use xlink:href='#icon-database'></use></svg></label><div class='xr-var-attrs'><dl class='xr-attrs'><dt><span>MemoryOrder :</span></dt><dd>XY</dd><dt><span>description :</span></dt><dd>Daily mean urban radiative temperature</dd><dt><span>units :</span></dt><dd>K</dd><dt><span>stagger :</span></dt><dd>-</dd></dl></div><div class='xr-var-data'><pre>[13367808 values with dtype=float32]</pre></div></li><li class='xr-var-item'><div class='xr-var-name'><span>tr_urb2d_max</span></div><div class='xr-var-dims'>(Time, lat, lon)</div><div class='xr-var-dtype'>float32</div><div class='xr-var-preview xr-preview'>...</div><input id='attrs-23b3c3b5-fbda-47d4-bd26-17ce9837aa54' class='xr-var-attrs-in' type='checkbox' ><label for='attrs-23b3c3b5-fbda-47d4-bd26-17ce9837aa54' title='Show/Hide attributes'><svg class='icon xr-icon-file-text2'><use xlink:href='#icon-file-text2'></use></svg></label><input id='data-e3fe7886-b7f8-4b67-a814-83b6690cd647' class='xr-var-data-in' type='checkbox'><label for='data-e3fe7886-b7f8-4b67-a814-83b6690cd647' title='Show/Hide data repr'><svg class='icon xr-icon-database'><use xlink:href='#icon-database'></use></svg></label><div class='xr-var-attrs'><dl class='xr-attrs'><dt><span>MemoryOrder :</span></dt><dd>XY</dd><dt><span>description :</span></dt><dd>Daily maximum urban radiative temperature</dd><dt><span>units :</span></dt><dd>K</dd><dt><span>stagger :</span></dt><dd>-</dd></dl></div><div class='xr-var-data'><pre>[13367808 values with dtype=float32]</pre></div></li><li class='xr-var-item'><div class='xr-var-name'><span>tr_urb2d_min</span></div><div class='xr-var-dims'>(Time, lat, lon)</div><div class='xr-var-dtype'>float32</div><div class='xr-var-preview xr-preview'>...</div><input id='attrs-9f0c170f-1821-451e-9ec9-f6941c58944b' class='xr-var-attrs-in' type='checkbox' ><label for='attrs-9f0c170f-1821-451e-9ec9-f6941c58944b' title='Show/Hide attributes'><svg class='icon xr-icon-file-text2'><use xlink:href='#icon-file-text2'></use></svg></label><input id='data-be8260ef-b401-46fb-a122-44aade8584db' class='xr-var-data-in' type='checkbox'><label for='data-be8260ef-b401-46fb-a122-44aade8584db' title='Show/Hide data repr'><svg class='icon xr-icon-database'><use xlink:href='#icon-database'></use></svg></label><div class='xr-var-attrs'><dl class='xr-attrs'><dt><span>MemoryOrder :</span></dt><dd>XY</dd><dt><span>description :</span></dt><dd>Daily minimum urban radiative temperature</dd><dt><span>units :</span></dt><dd>K</dd><dt><span>stagger :</span></dt><dd>-</dd></dl></div><div class='xr-var-data'><pre>[13367808 values with dtype=float32]</pre></div></li><li class='xr-var-item'><div class='xr-var-name'><span>trad</span></div><div class='xr-var-dims'>(Time, lat, lon)</div><div class='xr-var-dtype'>float32</div><div class='xr-var-preview xr-preview'>...</div><input id='attrs-c8cb3a34-615c-4f00-a657-0b8db0de03bd' class='xr-var-attrs-in' type='checkbox' ><label for='attrs-c8cb3a34-615c-4f00-a657-0b8db0de03bd' title='Show/Hide attributes'><svg class='icon xr-icon-file-text2'><use xlink:href='#icon-file-text2'></use></svg></label><input id='data-ab436d4c-a2bb-467b-8015-7954344b6556' class='xr-var-data-in' type='checkbox'><label for='data-ab436d4c-a2bb-467b-8015-7954344b6556' title='Show/Hide data repr'><svg class='icon xr-icon-database'><use xlink:href='#icon-database'></use></svg></label><div class='xr-var-attrs'><dl class='xr-attrs'><dt><span>MemoryOrder :</span></dt><dd>XY</dd><dt><span>description :</span></dt><dd>Daily mean surface radiative temperature</dd><dt><span>units :</span></dt><dd>K</dd><dt><span>stagger :</span></dt><dd>-</dd></dl></div><div class='xr-var-data'><pre>[13367808 values with dtype=float32]</pre></div></li><li class='xr-var-item'><div class='xr-var-name'><span>trad_max</span></div><div class='xr-var-dims'>(Time, lat, lon)</div><div class='xr-var-dtype'>float32</div><div class='xr-var-preview xr-preview'>...</div><input id='attrs-dd864f9c-e177-4057-90f3-5734bbb308c5' class='xr-var-attrs-in' type='checkbox' ><label for='attrs-dd864f9c-e177-4057-90f3-5734bbb308c5' title='Show/Hide attributes'><svg class='icon xr-icon-file-text2'><use xlink:href='#icon-file-text2'></use></svg></label><input id='data-4b5b3f71-9f0a-47c0-9aff-6e351698bdbd' class='xr-var-data-in' type='checkbox'><label for='data-4b5b3f71-9f0a-47c0-9aff-6e351698bdbd' title='Show/Hide data repr'><svg class='icon xr-icon-database'><use xlink:href='#icon-database'></use></svg></label><div class='xr-var-attrs'><dl class='xr-attrs'><dt><span>MemoryOrder :</span></dt><dd>XY</dd><dt><span>description :</span></dt><dd>Daily maximum surface radiative temperature</dd><dt><span>units :</span></dt><dd>K</dd><dt><span>stagger :</span></dt><dd>-</dd></dl></div><div class='xr-var-data'><pre>[13367808 values with dtype=float32]</pre></div></li><li class='xr-var-item'><div class='xr-var-name'><span>trad_min</span></div><div class='xr-var-dims'>(Time, lat, lon)</div><div class='xr-var-dtype'>float32</div><div class='xr-var-preview xr-preview'>...</div><input id='attrs-792ac824-e399-4a05-bf06-719d223de14d' class='xr-var-attrs-in' type='checkbox' ><label for='attrs-792ac824-e399-4a05-bf06-719d223de14d' title='Show/Hide attributes'><svg class='icon xr-icon-file-text2'><use xlink:href='#icon-file-text2'></use></svg></label><input id='data-4e8a66a6-10e7-4d6a-b389-f5a64e6b6b35' class='xr-var-data-in' type='checkbox'><label for='data-4e8a66a6-10e7-4d6a-b389-f5a64e6b6b35' title='Show/Hide data repr'><svg class='icon xr-icon-database'><use xlink:href='#icon-database'></use></svg></label><div class='xr-var-attrs'><dl class='xr-attrs'><dt><span>MemoryOrder :</span></dt><dd>XY</dd><dt><span>description :</span></dt><dd>Daily minimum surface radiative temperature</dd><dt><span>units :</span></dt><dd>K</dd><dt><span>stagger :</span></dt><dd>-</dd></dl></div><div class='xr-var-data'><pre>[13367808 values with dtype=float32]</pre></div></li><li class='xr-var-item'><div class='xr-var-name'><span>tsk</span></div><div class='xr-var-dims'>(Time, lat, lon)</div><div class='xr-var-dtype'>float32</div><div class='xr-var-preview xr-preview'>...</div><input id='attrs-08aa2744-0915-4457-8e53-50cbc5fca153' class='xr-var-attrs-in' type='checkbox' ><label for='attrs-08aa2744-0915-4457-8e53-50cbc5fca153' title='Show/Hide attributes'><svg class='icon xr-icon-file-text2'><use xlink:href='#icon-file-text2'></use></svg></label><input id='data-51e490ea-3beb-4928-9bc5-fcdf1d802018' class='xr-var-data-in' type='checkbox'><label for='data-51e490ea-3beb-4928-9bc5-fcdf1d802018' title='Show/Hide data repr'><svg class='icon xr-icon-database'><use xlink:href='#icon-database'></use></svg></label><div class='xr-var-attrs'><dl class='xr-attrs'><dt><span>MemoryOrder :</span></dt><dd>XY</dd><dt><span>description :</span></dt><dd>Daily mean surface skin temperature (urban weighted)</dd><dt><span>units :</span></dt><dd>K</dd><dt><span>stagger :</span></dt><dd>-</dd></dl></div><div class='xr-var-data'><pre>[13367808 values with dtype=float32]</pre></div></li><li class='xr-var-item'><div class='xr-var-name'><span>tsk_max</span></div><div class='xr-var-dims'>(Time, lat, lon)</div><div class='xr-var-dtype'>float32</div><div class='xr-var-preview xr-preview'>...</div><input id='attrs-44a87cb8-aa86-4f95-8bcb-08bc2bef2e08' class='xr-var-attrs-in' type='checkbox' ><label for='attrs-44a87cb8-aa86-4f95-8bcb-08bc2bef2e08' title='Show/Hide attributes'><svg class='icon xr-icon-file-text2'><use xlink:href='#icon-file-text2'></use></svg></label><input id='data-18fd4efd-6141-41f2-8a4b-846b1261f752' class='xr-var-data-in' type='checkbox'><label for='data-18fd4efd-6141-41f2-8a4b-846b1261f752' title='Show/Hide data repr'><svg class='icon xr-icon-database'><use xlink:href='#icon-database'></use></svg></label><div class='xr-var-attrs'><dl class='xr-attrs'><dt><span>MemoryOrder :</span></dt><dd>XY</dd><dt><span>description :</span></dt><dd>Daily maximum surface skin temperature (urban weighted)</dd><dt><span>units :</span></dt><dd>K</dd><dt><span>stagger :</span></dt><dd>-</dd></dl></div><div class='xr-var-data'><pre>[13367808 values with dtype=float32]</pre></div></li><li class='xr-var-item'><div class='xr-var-name'><span>tsk_min</span></div><div class='xr-var-dims'>(Time, lat, lon)</div><div class='xr-var-dtype'>float32</div><div class='xr-var-preview xr-preview'>...</div><input id='attrs-45960798-0591-4610-b5bf-f175cca22a78' class='xr-var-attrs-in' type='checkbox' ><label for='attrs-45960798-0591-4610-b5bf-f175cca22a78' title='Show/Hide attributes'><svg class='icon xr-icon-file-text2'><use xlink:href='#icon-file-text2'></use></svg></label><input id='data-0dfe89b6-2804-4fa1-aa5f-b2b7755ab1c5' class='xr-var-data-in' type='checkbox'><label for='data-0dfe89b6-2804-4fa1-aa5f-b2b7755ab1c5' title='Show/Hide data repr'><svg class='icon xr-icon-database'><use xlink:href='#icon-database'></use></svg></label><div class='xr-var-attrs'><dl class='xr-attrs'><dt><span>MemoryOrder :</span></dt><dd>XY</dd><dt><span>description :</span></dt><dd>Daily minimum surface skin temperature (urban weighted)</dd><dt><span>units :</span></dt><dd>K</dd><dt><span>stagger :</span></dt><dd>-</dd></dl></div><div class='xr-var-data'><pre>[13367808 values with dtype=float32]</pre></div></li><li class='xr-var-item'><div class='xr-var-name'><span>wspd</span></div><div class='xr-var-dims'>(Time, lat, lon)</div><div class='xr-var-dtype'>float32</div><div class='xr-var-preview xr-preview'>...</div><input id='attrs-65fddcea-aee1-45f9-af49-544b4e8902f9' class='xr-var-attrs-in' type='checkbox' ><label for='attrs-65fddcea-aee1-45f9-af49-544b4e8902f9' title='Show/Hide attributes'><svg class='icon xr-icon-file-text2'><use xlink:href='#icon-file-text2'></use></svg></label><input id='data-80bc9af1-0d91-433f-a678-27b288a1dc32' class='xr-var-data-in' type='checkbox'><label for='data-80bc9af1-0d91-433f-a678-27b288a1dc32' title='Show/Hide data repr'><svg class='icon xr-icon-database'><use xlink:href='#icon-database'></use></svg></label><div class='xr-var-attrs'><dl class='xr-attrs'><dt><span>MemoryOrder :</span></dt><dd>XY</dd><dt><span>description :</span></dt><dd>Daily mean wind speed</dd><dt><span>units :</span></dt><dd>m s{-1}</dd><dt><span>stagger :</span></dt><dd>-</dd></dl></div><div class='xr-var-data'><pre>[13367808 values with dtype=float32]</pre></div></li></ul></div></li><li class='xr-section-item'><input id='section-001c99c6-41c8-452f-8a7a-baab9997e36c' class='xr-section-summary-in' type='checkbox' disabled ><label for='section-001c99c6-41c8-452f-8a7a-baab9997e36c' class='xr-section-summary'  title='Expand/collapse section'>Indexes: <span>(0)</span></label><div class='xr-section-inline-details'></div><div class='xr-section-details'><ul class='xr-var-list'></ul></div></li><li class='xr-section-item'><input id='section-f9d39ef1-7d03-4c8a-843c-c93500141f39' class='xr-section-summary-in' type='checkbox'  ><label for='section-f9d39ef1-7d03-4c8a-843c-c93500141f39' class='xr-section-summary' >Attributes: <span>(50)</span></label><div class='xr-section-inline-details'></div><div class='xr-section-details'><dl class='xr-attrs'><dt><span>SIMULATION_START_DATE :</span></dt><dd>0000-00-00_00:00:00</dd><dt><span>WEST-EAST_GRID_DIMENSION :</span></dt><dd>4609</dd><dt><span>SOUTH-NORTH_GRID_DIMENSION :</span></dt><dd>3841</dd><dt><span>BOTTOM-TOP_GRID_DIMENSION :</span></dt><dd>0</dd><dt><span>WEST-EAST_PATCH_START_UNSTAG :</span></dt><dd>1</dd><dt><span>WEST-EAST_PATCH_END_UNSTAG :</span></dt><dd>4608</dd><dt><span>WEST-EAST_PATCH_START_STAG :</span></dt><dd>1</dd><dt><span>WEST-EAST_PATCH_END_STAG :</span></dt><dd>4609</dd><dt><span>SOUTH-NORTH_PATCH_START_UNSTAG :</span></dt><dd>1</dd><dt><span>SOUTH-NORTH_PATCH_END_UNSTAG :</span></dt><dd>3840</dd><dt><span>SOUTH-NORTH_PATCH_START_STAG :</span></dt><dd>1</dd><dt><span>SOUTH-NORTH_PATCH_END_STAG :</span></dt><dd>3841</dd><dt><span>GRIDTYPE :</span></dt><dd>C</dd><dt><span>DX :</span></dt><dd>1000.0</dd><dt><span>DY :</span></dt><dd>1000.0</dd><dt><span>DYN_OPT :</span></dt><dd>2</dd><dt><span>CEN_LAT :</span></dt><dd>40.000008</dd><dt><span>CEN_LON :</span></dt><dd>-97.0</dd><dt><span>TRUELAT1 :</span></dt><dd>30.0</dd><dt><span>TRUELAT2 :</span></dt><dd>60.0</dd><dt><span>MOAD_CEN_LAT :</span></dt><dd>40.000008</dd><dt><span>STAND_LON :</span></dt><dd>-97.0</dd><dt><span>POLE_LAT :</span></dt><dd>90.0</dd><dt><span>POLE_LON :</span></dt><dd>0.0</dd><dt><span>corner_lats :</span></dt><dd>[20.077812 52.87278  52.87278  20.077812 20.076714 52.870747 52.870747\n",
       " 20.076714 20.073708 52.876926 52.876926 20.073708 20.072594 52.87489\n",
       " 52.87489  20.072594]</dd><dt><span>corner_lons :</span></dt><dd>[-118.10449  -133.50734   -60.492676  -75.89551  -118.10886  -133.5142\n",
       "  -60.48578   -75.89114  -118.1033   -133.51071   -60.48929   -75.8967\n",
       " -118.107666 -133.51758   -60.48242   -75.892334]</dd><dt><span>MAP_PROJ :</span></dt><dd>1</dd><dt><span>MMINLU :</span></dt><dd>USGS</dd><dt><span>NUM_LAND_CAT :</span></dt><dd>96</dd><dt><span>ISWATER :</span></dt><dd>16</dd><dt><span>ISLAKE :</span></dt><dd>-1</dd><dt><span>ISICE :</span></dt><dd>24</dd><dt><span>ISURBAN :</span></dt><dd>1</dd><dt><span>ISOILWATER :</span></dt><dd>14</dd><dt><span>grid_id :</span></dt><dd>1</dd><dt><span>parent_id :</span></dt><dd>1</dd><dt><span>i_parent_start :</span></dt><dd>1</dd><dt><span>j_parent_start :</span></dt><dd>1</dd><dt><span>i_parent_end :</span></dt><dd>4609</dd><dt><span>j_parent_end :</span></dt><dd>3841</dd><dt><span>parent_grid_ratio :</span></dt><dd>1</dd><dt><span>sr_x :</span></dt><dd>1</dd><dt><span>sr_y :</span></dt><dd>1</dd><dt><span>FLAG_MF_XY :</span></dt><dd>1</dd><dt><span>FLAG_LAI12M :</span></dt><dd>1</dd><dt><span>FLAG_LAKE_DEPTH :</span></dt><dd>1</dd><dt><span>nco_openmp_thread_number :</span></dt><dd>1</dd><dt><span>NCO :</span></dt><dd>netCDF Operators version 5.1.9 (Homepage = http://nco.sf.net, Code = http://github.com/nco/nco, Citation = 10.1016/j.envsoft.2008.03.004)</dd><dt><span>TITLE :</span></dt><dd>OUTPUT FROM GEOGRID V4.0.1</dd><dt><span>history :</span></dt><dd>Mon Feb 26 06:10:43 2024: ncks -4 -L 1 conus_HUMID_20180101.nc4 -O conus_HUMID_20180101.nc4</dd></dl></div></li></ul></div></div>"
      ],
      "text/plain": [
       "<xarray.Dataset> Size: 3GB\n",
       "Dimensions:            (Time: 1, lat: 2901, lon: 4608)\n",
       "Coordinates:\n",
       "    lat                (lat, lon) float32 53MB ...\n",
       "    lon                (lat, lon) float32 53MB ...\n",
       "Dimensions without coordinates: Time\n",
       "Data variables: (12/47)\n",
       "    FRC_URB2D          (Time, lat, lon) float32 53MB ...\n",
       "    HGT                (Time, lat, lon) float32 53MB ...\n",
       "    ISLTYP             (Time, lat, lon) float64 107MB ...\n",
       "    IVGTYP             (Time, lat, lon) float64 107MB ...\n",
       "    LU_INDEX           (Time, lat, lon) float32 53MB ...\n",
       "    Lambert_Conformal  int32 4B ...\n",
       "    ...                 ...\n",
       "    trad_max           (Time, lat, lon) float32 53MB ...\n",
       "    trad_min           (Time, lat, lon) float32 53MB ...\n",
       "    tsk                (Time, lat, lon) float32 53MB ...\n",
       "    tsk_max            (Time, lat, lon) float32 53MB ...\n",
       "    tsk_min            (Time, lat, lon) float32 53MB ...\n",
       "    wspd               (Time, lat, lon) float32 53MB ...\n",
       "Attributes: (12/50)\n",
       "    SIMULATION_START_DATE:           0000-00-00_00:00:00\n",
       "    WEST-EAST_GRID_DIMENSION:        4609\n",
       "    SOUTH-NORTH_GRID_DIMENSION:      3841\n",
       "    BOTTOM-TOP_GRID_DIMENSION:       0\n",
       "    WEST-EAST_PATCH_START_UNSTAG:    1\n",
       "    WEST-EAST_PATCH_END_UNSTAG:      4608\n",
       "    ...                              ...\n",
       "    FLAG_LAI12M:                     1\n",
       "    FLAG_LAKE_DEPTH:                 1\n",
       "    nco_openmp_thread_number:        1\n",
       "    NCO:                             netCDF Operators version 5.1.9 (Homepage...\n",
       "    TITLE:                           OUTPUT FROM GEOGRID V4.0.1\n",
       "    history:                         Mon Feb 26 06:10:43 2024: ncks -4 -L 1 c..."
      ]
     },
     "execution_count": 2,
     "metadata": {},
     "output_type": "execute_result"
    }
   ],
   "source": [
    "# Use the following function to laod your dataset and check its file format is compatible. \n",
    "# Add the filename / file path of your gridded dataset below:\n",
    "\n",
    "gridded_file_path = \"/home/coder/ai_data_readiness/new_data/conus_HUMID_20180101.nc\"\n",
    "\n",
    "# Uncomment the lines below to check compatibility and load your dataset. \n",
    "dataset = gridded.detect_gridded_format_and_open(gridded_file_path)\n",
    "dataset"
   ]
  },
  {
   "cell_type": "code",
   "execution_count": 3,
   "id": "40b0d786-4517-4fbd-8397-6d9451f7cbbc",
   "metadata": {},
   "outputs": [],
   "source": [
    "# Load checklist from JSON file:\n",
    "checklist = utils.load_checklist()"
   ]
  },
  {
   "cell_type": "markdown",
   "id": "087dd158-2a04-45b5-a0c0-599761f33f94",
   "metadata": {},
   "source": [
    "#### Reset stored answers to start again:"
   ]
  },
  {
   "cell_type": "code",
   "execution_count": 4,
   "id": "a467851d-ee03-46f7-a194-8e516c374b8e",
   "metadata": {
    "jupyter": {
     "source_hidden": true
    }
   },
   "outputs": [],
   "source": [
    "# Reset all checklist answers back to original blank answers for all sections.\n",
    "# Any completed information will be lost. \n",
    "\n",
    "# To reset the stored answers uncomment and run these lines of code below. Re-comment the lines afterwards to avoid them running again. \n",
    "# utils.reset_checklist()\n",
    "# checklist = utils.load_checklist()\n",
    "\n",
    "# You can then re-run each section to reload it on the reset data. "
   ]
  },
  {
   "cell_type": "code",
   "execution_count": 5,
   "id": "8a91cf5e-1967-4a77-98fb-c82e6d5ac2de",
   "metadata": {
    "jupyter": {
     "source_hidden": true
    }
   },
   "outputs": [
    {
     "name": "stdout",
     "output_type": "stream",
     "text": [
      "Dataset: HUMID\n",
      "Dataset link: \n",
      "Assessor: \n",
      "Assessor email: \n"
     ]
    }
   ],
   "source": [
    "\n",
    "print(\"Dataset:\", checklist[\"GeneralInformation\"][\"DatasetName\"])\n",
    "print(\"Dataset link:\", checklist[\"GeneralInformation\"][\"DatasetLink\"])\n",
    "print(\"Assessor:\", checklist[\"GeneralInformation\"][\"AssessorName\"])\n",
    "print(\"Assessor email:\", checklist[\"GeneralInformation\"][\"AssessorEmailAddress\"])"
   ]
  },
  {
   "cell_type": "markdown",
   "id": "ead060fb-06f2-4aae-9078-bf85bc7d9228",
   "metadata": {},
   "source": [
    "---\n",
    "\n",
    "## **4. Data Access**"
   ]
  },
  {
   "cell_type": "markdown",
   "id": "12e3b61f-8d2d-45b1-84e5-edabefbf4277",
   "metadata": {},
   "source": [
    "### File formats"
   ]
  },
  {
   "cell_type": "code",
   "execution_count": 6,
   "id": "77ec0e3b-f57f-4b1a-ae3e-e11da3fd2cd0",
   "metadata": {
    "jupyter": {
     "source_hidden": true
    }
   },
   "outputs": [
    {
     "data": {
      "application/vnd.jupyter.widget-view+json": {
       "model_id": "c046c51381ca42768b457506b586d3ea",
       "version_major": 2,
       "version_minor": 0
      },
      "text/plain": [
       "Label(value='4.1 What is/are the major file formats? (Use shift / Ctrl / CMD to select multiple)')"
      ]
     },
     "metadata": {},
     "output_type": "display_data"
    },
    {
     "data": {
      "application/vnd.jupyter.widget-view+json": {
       "model_id": "6c681511bc3d409cbd884730f7795a46",
       "version_major": 2,
       "version_minor": 0
      },
      "text/plain": [
       "SelectMultiple(options=('CSV', 'netCDF', 'geoJSON', 'Shapefile', 'GRIB', 'HDF', 'GeoTIFF', 'KML', 'GINI', 'Zar…"
      ]
     },
     "metadata": {},
     "output_type": "display_data"
    },
    {
     "data": {
      "application/vnd.jupyter.widget-view+json": {
       "model_id": "9be9e987e92045a2bf0cc687c00ad0f6",
       "version_major": 2,
       "version_minor": 0
      },
      "text/plain": [
       "Combobox(value='', description='Are the main formats machine-readable?', layout=Layout(width='900px'), options…"
      ]
     },
     "metadata": {},
     "output_type": "display_data"
    },
    {
     "data": {
      "application/vnd.jupyter.widget-view+json": {
       "model_id": "eda9f02d5dd54dffbcf95345ecdba61d",
       "version_major": 2,
       "version_minor": 0
      },
      "text/plain": [
       "Combobox(value='', description='Is the data available in at least one open, non-proprietary format?', layout=L…"
      ]
     },
     "metadata": {},
     "output_type": "display_data"
    },
    {
     "data": {
      "application/vnd.jupyter.widget-view+json": {
       "model_id": "61d4744118344e2b9ccb3afeaff300a3",
       "version_major": 2,
       "version_minor": 0
      },
      "text/plain": [
       "Combobox(value='', description='Are there tools/services to support data format conversion?', layout=Layout(wi…"
      ]
     },
     "metadata": {},
     "output_type": "display_data"
    },
    {
     "data": {
      "application/vnd.jupyter.widget-view+json": {
       "model_id": "9bc7705d072f4315a228a10851266da7",
       "version_major": 2,
       "version_minor": 0
      },
      "text/plain": [
       "Text(value='', description='Tools / services link:', layout=Layout(width='900px'), placeholder='If yes, provid…"
      ]
     },
     "metadata": {},
     "output_type": "display_data"
    }
   ],
   "source": [
    "\n",
    "dataset_file_formats_label = widgets.Label(\n",
    "    value = \"4.1 What is/are the major file formats? (Use shift / Ctrl / CMD to select multiple)\"\n",
    ")\n",
    "\n",
    "dataset_file_format_options = ['CSV', 'netCDF', 'geoJSON', 'Shapefile', 'GRIB', 'HDF', 'GeoTIFF', 'KML', 'GINI', 'Zarr', 'Other']\n",
    "\n",
    "dataset_file_formats = widgets.SelectMultiple(\n",
    "            value=checklist['DataAccess']['FileFormats'],\n",
    "            options=dataset_file_format_options,\n",
    "            rows=len(dataset_file_format_options),\n",
    ")\n",
    "\n",
    "dataset_file_formats_machine_readable = widgets.Combobox(\n",
    "            value=checklist['DataAccess']['FileFormatsMachineReadable'],\n",
    "            options=['Yes', 'No', 'N/A'],\n",
    "            description='Are the main formats machine-readable?',\n",
    "            placeholder=PLACEHOLDER,\n",
    "            layout=widgets.Layout(width=WIDGET_WIDTH),\n",
    "            style = DESCRIPTION_STYLE\n",
    "            )\n",
    "\n",
    "dataset_file_formats_non_proprietary = widgets.Combobox(\n",
    "            value=checklist['DataAccess']['OpenFormatAvailable'],\n",
    "            options=['Yes', 'No', 'N/A'],\n",
    "            description='Is the data available in at least one open, non-proprietary format?',\n",
    "            placeholder=PLACEHOLDER,\n",
    "            layout=widgets.Layout(width=WIDGET_WIDTH),\n",
    "            style = DESCRIPTION_STYLE\n",
    "            )\n",
    "\n",
    "dataset_file_formats_conversion_tools = widgets.Combobox(\n",
    "            value=checklist['DataAccess']['FormatConversionTools'],\n",
    "            options=['Yes', 'No', 'N/A'],\n",
    "            description='Are there tools/services to support data format conversion?',\n",
    "            placeholder=PLACEHOLDER,\n",
    "            layout=widgets.Layout(width=WIDGET_WIDTH),\n",
    "            style = DESCRIPTION_STYLE\n",
    "            )\n",
    "\n",
    "dataset_file_formats_conversion_tools_link = widgets.Text(\n",
    "            value=checklist['DataAccess']['ConversionToolsLink'],\n",
    "            description='Tools / services link:',\n",
    "            placeholder='If yes, provide the link to the tools/services',\n",
    "            layout=widgets.Layout(width=WIDGET_WIDTH),\n",
    "            style = DESCRIPTION_STYLE\n",
    "            )\n",
    "\n",
    "def on_click_handler_sel_format(change):\n",
    "    \"\"\"\n",
    "    Completes various fields based on the file format selection.\n",
    "    \"\"\"\n",
    "    \n",
    "    selected_formats = change['new']\n",
    "    dataset_file_formats_conversion_tools_link_dict = {'CSV':['https://pandas.pydata.org/', 'https://www.qgis.org/', 'https://www.arcgis.com/home/index.html', ],\n",
    "                                                        'netCDF':['https://unidata.github.io/netcdf4-python/','https://scitools-iris.readthedocs.io/en/stable/index.html', 'https://docs.xarray.dev/en/stable/', 'https://www.giss.nasa.gov/tools/panoply/', 'https://www.unidata.ucar.edu/software/tds/', 'https://www.mathworks.com/products/matlab.html'],\n",
    "                                                        'geoJSON':['https://www.qgis.org/', 'https://www.arcgis.com/home/index.html', 'https://geopandas.org/en/stable/', 'https://shapely.readthedocs.io/en/stable/manual.html'],\n",
    "                                                        'Shapefile':['https://www.qgis.org/', 'https://www.arcgis.com/home/index.html', 'https://gdal.org/en/latest/', 'https://pypi.org/project/pyshp/', 'https://geopandas.org/en/stable/',], \n",
    "                                                        'GRIB':['https://scitools-iris.readthedocs.io/en/stable/index.html', 'https://www.giss.nasa.gov/tools/panoply/', 'https://www.qgis.org/', 'https://www.cpc.ncep.noaa.gov/products/wesley/wgrib2/', 'https://github.com/ecmwf/cfgrib'],\n",
    "                                                        'HDF':['https://www.h5py.org/', 'https://www.giss.nasa.gov/tools/panoply/','https://earth.esa.int/eogateway/tools/hdfview'],\n",
    "                                                        'GeoTIFF':['https://www.qgis.org/', 'https://www.arcgis.com/home/index.html','https://gdal.org/en/latest/','https://rasterio.readthedocs.io/en/stable/'],\n",
    "                                                        'KML':['https://www.qgis.org/', 'https://www.arcgis.com/home/index.html','https://fastkml.readthedocs.io/en/latest/','https://simplekml.readthedocs.io/en/latest/'],\n",
    "                                                        'GINI':['https://gdal.org/en/latest/', 'https://www.unidata.ucar.edu/software/metpy/'],\n",
    "                                                        'Zarr':['https://zarr.readthedocs.io/en/stable/', 'https://docs.xarray.dev/en/stable/','https://www.dask.org']}\n",
    "\n",
    "    if set(selected_formats) & {'CSV', 'netCDF', 'geoJSON', 'Shapefile', 'GRIB', 'HDF', 'GeoTIFF', 'KML', 'GINI', 'Zarr'}:\n",
    "        dataset_file_formats_machine_readable.value = 'Yes'\n",
    "    elif set(selected_formats) & {'Other'}:\n",
    "        dataset_file_formats_machine_readable.value = ''\n",
    "    else:\n",
    "        dataset_file_formats_machine_readable.value = 'No'\n",
    "    \n",
    "    if set(selected_formats) & {'CSV', 'netCDF', 'geoJSON', 'Shapefile', 'GRIB', 'HDF','GeoTIFF', 'Zarr'}:\n",
    "        dataset_file_formats_non_proprietary.value = 'Yes'\n",
    "    elif set(selected_formats) & {'Other'}:\n",
    "        dataset_file_formats_non_proprietary.value = ''\n",
    "    else:\n",
    "        dataset_file_formats_non_proprietary.value = 'No'\n",
    "    \n",
    "    # Determine if conversion tools are available\n",
    "    if set(selected_formats) & {'CSV', 'netCDF', 'geoJSON', 'Shapefile', 'GRIB', 'HDF', 'GeoTIFF', 'KML', 'GINI', 'Zarr'}:\n",
    "        dataset_file_formats_conversion_tools.value = 'Yes'\n",
    "        dataset_file_formats_conversion_tools_link_list = []\n",
    "        for format in list(set(selected_formats)):\n",
    "            [dataset_file_formats_conversion_tools_link_list.append(i) for i in dataset_file_formats_conversion_tools_link_dict[format]]\n",
    "        dataset_file_formats_conversion_tools_link.value = ' '.join(list(set(dataset_file_formats_conversion_tools_link_list)))\n",
    "    elif set(selected_formats) & {'Other'}:\n",
    "        dataset_file_formats_conversion_tools.value = ''\n",
    "        dataset_file_formats_conversion_tools_link.value = ''\n",
    "    else:\n",
    "        dataset_file_formats_conversion_tools.value = 'No'\n",
    "        dataset_file_formats_conversion_tools_link.value = ''\n",
    "\n",
    "dataset_file_formats.observe(on_click_handler_sel_format, names='value')\n",
    "\n",
    "display(dataset_file_formats_label, dataset_file_formats, dataset_file_formats_machine_readable, dataset_file_formats_non_proprietary, dataset_file_formats_conversion_tools, dataset_file_formats_conversion_tools_link)"
   ]
  },
  {
   "cell_type": "markdown",
   "id": "7e3bb476-ba1e-4507-b7f0-55db7ce9710a",
   "metadata": {},
   "source": [
    "### Data delivery"
   ]
  },
  {
   "cell_type": "code",
   "execution_count": 7,
   "id": "acf9768d-6572-4719-b5d3-b95e7e94d2f5",
   "metadata": {
    "jupyter": {
     "source_hidden": true
    }
   },
   "outputs": [
    {
     "data": {
      "application/vnd.jupyter.widget-view+json": {
       "model_id": "eedc2d977346493fab3af8682862bbcb",
       "version_major": 2,
       "version_minor": 0
      },
      "text/plain": [
       "Combobox(value='', description='4.2 Does data access require authentication (e.g., a registered user account)?…"
      ]
     },
     "metadata": {},
     "output_type": "display_data"
    },
    {
     "data": {
      "application/vnd.jupyter.widget-view+json": {
       "model_id": "68a15180ea314e07bdded1d7df24414d",
       "version_major": 2,
       "version_minor": 0
      },
      "text/plain": [
       "Combobox(value='', description='4.3 Can the file be accessed via direct file downloading or ordering?', layout…"
      ]
     },
     "metadata": {},
     "output_type": "display_data"
    },
    {
     "data": {
      "application/vnd.jupyter.widget-view+json": {
       "model_id": "55fc69f3744240e7938d36e4de3d6f77",
       "version_major": 2,
       "version_minor": 0
      },
      "text/plain": [
       "Combobox(value='', description='4.4 Is there an Application Programming Interface (API) or web service to acce…"
      ]
     },
     "metadata": {},
     "output_type": "display_data"
    },
    {
     "data": {
      "application/vnd.jupyter.widget-view+json": {
       "model_id": "41861300b7ec472fa7a190b460072bdc",
       "version_major": 2,
       "version_minor": 0
      },
      "text/plain": [
       "Combobox(value='', description='If there is an API, does the API follow an open standard protocol (e.g., OGC)?…"
      ]
     },
     "metadata": {},
     "output_type": "display_data"
    },
    {
     "data": {
      "application/vnd.jupyter.widget-view+json": {
       "model_id": "870926efed5e42c2aaef36114829b686",
       "version_major": 2,
       "version_minor": 0
      },
      "text/plain": [
       "Combobox(value='', description='If there is an API, is there documentation for the API?', layout=Layout(displa…"
      ]
     },
     "metadata": {},
     "output_type": "display_data"
    },
    {
     "data": {
      "application/vnd.jupyter.widget-view+json": {
       "model_id": "d51002b0e3924b22b660ee55187fed9a",
       "version_major": 2,
       "version_minor": 0
      },
      "text/plain": [
       "Text(value='', layout=Layout(display='none', width='900px'), placeholder='If “Yes”, please provide a URL to th…"
      ]
     },
     "metadata": {},
     "output_type": "display_data"
    }
   ],
   "source": [
    "\n",
    "dataset_authentication = widgets.Combobox(\n",
    "            value=checklist['DataAccess']['AuthenticationRequired'],\n",
    "            options=['Yes', 'No', 'N/A'],\n",
    "            description='4.2 Does data access require authentication (e.g., a registered user account)?',\n",
    "            placeholder=PLACEHOLDER,\n",
    "            layout=widgets.Layout(width=WIDGET_WIDTH),\n",
    "            style = DESCRIPTION_STYLE\n",
    "            )\n",
    "\n",
    "dataset_direct_access = widgets.Combobox(\n",
    "            value=checklist['DataAccess']['DirectDownloadAvailable'],\n",
    "            options=['Yes', 'No', 'N/A'],\n",
    "            description='4.3 Can the file be accessed via direct file downloading or ordering?',\n",
    "            placeholder=PLACEHOLDER,\n",
    "            layout=widgets.Layout(width=WIDGET_WIDTH),\n",
    "            style = DESCRIPTION_STYLE\n",
    "            )\n",
    "\n",
    "dataset_api_available = widgets.Combobox(\n",
    "            value=checklist['DataAccess']['APIorWebAvailable'],\n",
    "            options=['Yes', 'No', 'N/A'],\n",
    "            description='4.4 Is there an Application Programming Interface (API) or web service to access the data?',\n",
    "            placeholder=PLACEHOLDER,\n",
    "            layout=widgets.Layout(width=WIDGET_WIDTH),\n",
    "            style = DESCRIPTION_STYLE\n",
    "            )\n",
    "\n",
    "dataset_api_standard_protocol = widgets.Combobox(\n",
    "            value=checklist['DataAccess']['APIOpenStandard'],\n",
    "            options=['Yes', 'No', 'N/A'],\n",
    "            description='If there is an API, does the API follow an open standard protocol (e.g., OGC)?',\n",
    "            placeholder=PLACEHOLDER,\n",
    "            layout=widgets.Layout(display=\"none\", width=WIDGET_WIDTH),\n",
    "            style = DESCRIPTION_STYLE\n",
    "            )\n",
    "\n",
    "dataset_api_documentation_available = widgets.Combobox(\n",
    "            value=checklist['DataAccess']['APIDocumentation'],\n",
    "            options=['Yes', 'No', 'N/A'],\n",
    "            description='If there is an API, is there documentation for the API?',\n",
    "            placeholder=PLACEHOLDER,\n",
    "            layout=widgets.Layout(display=\"none\", width=WIDGET_WIDTH),\n",
    "            style = DESCRIPTION_STYLE\n",
    "            )\n",
    "\n",
    "dataset_api_documentation_link = widgets.Text(\n",
    "            value=checklist['DataAccess']['APIDocumentationLink'],\n",
    "            placeholder='If “Yes”, please provide a URL to the documentation.',\n",
    "            layout=widgets.Layout(display=\"none\", width=WIDGET_WIDTH)\n",
    "            )\n",
    "\n",
    "\n",
    "\n",
    "# Function to change the display setting of the following UI components. \n",
    "def on_click_handler(change):    \n",
    "\n",
    "    # Show / hide main trunk of questions. \n",
    "    if dataset_api_available.value == \"Yes\":\n",
    "        dataset_api_standard_protocol.layout.display = ''\n",
    "        dataset_api_documentation_available.layout.display = ''\n",
    "        dataset_api_documentation_link.layout.display = ''\n",
    "\n",
    "    else:   \n",
    "        dataset_api_standard_protocol.layout.display = 'none'\n",
    "        dataset_api_documentation_available.layout.display = 'none'\n",
    "        dataset_api_documentation_link.layout.display = 'none'\n",
    "\n",
    "        dataset_api_standard_protocol.value = 'N/A'\n",
    "        dataset_api_documentation_available.value = 'N/A'\n",
    "        dataset_api_documentation_link.value = ''\n",
    "\n",
    "            \n",
    "# Display the UI components\n",
    "display(dataset_authentication, dataset_direct_access, dataset_api_available, dataset_api_standard_protocol, dataset_api_documentation_available, dataset_api_documentation_link)\n",
    "\n",
    "\n",
    "# Observe UI components for changes and call the on_click_handler function if value property changed. \n",
    "dataset_api_available.observe(on_click_handler, names=\"value\")\n",
    "\n"
   ]
  },
  {
   "cell_type": "markdown",
   "id": "5cb8b683-a629-4616-8074-65e696da6e9a",
   "metadata": {},
   "source": [
    "### Privacy and security\n"
   ]
  },
  {
   "cell_type": "code",
   "execution_count": 8,
   "id": "16e6258a-3aee-42fe-bc61-3161b89a499c",
   "metadata": {
    "jupyter": {
     "source_hidden": true
    }
   },
   "outputs": [
    {
     "data": {
      "application/vnd.jupyter.widget-view+json": {
       "model_id": "aed7f9a0dfa14e6fb55aede37619c38d",
       "version_major": 2,
       "version_minor": 0
      },
      "text/plain": [
       "Combobox(value='', description='4.5 For restricted data, have measures been taken to provide some access while…"
      ]
     },
     "metadata": {},
     "output_type": "display_data"
    },
    {
     "data": {
      "application/vnd.jupyter.widget-view+json": {
       "model_id": "eb0c9ef6e7994d40995f7e85fbed25a2",
       "version_major": 2,
       "version_minor": 0
      },
      "text/plain": [
       "Combobox(value='', description='4.6 Has the data been aggregated to reduce granularity?', layout=Layout(width=…"
      ]
     },
     "metadata": {},
     "output_type": "display_data"
    },
    {
     "data": {
      "application/vnd.jupyter.widget-view+json": {
       "model_id": "8ba199be9ada44c5b522863a5c809e4b",
       "version_major": 2,
       "version_minor": 0
      },
      "text/plain": [
       "Combobox(value='', description='4.7 Has the data been anonymized / de-identified?', layout=Layout(width='900px…"
      ]
     },
     "metadata": {},
     "output_type": "display_data"
    },
    {
     "data": {
      "application/vnd.jupyter.widget-view+json": {
       "model_id": "9808afa5c08d4e7ba893a0c6c32441ff",
       "version_major": 2,
       "version_minor": 0
      },
      "text/plain": [
       "Combobox(value='', description='4.8 Is there secure access to the full dataset for authorized users? ', layout…"
      ]
     },
     "metadata": {},
     "output_type": "display_data"
    }
   ],
   "source": [
    "\n",
    "dataset_restricted_protection = widgets.Combobox(\n",
    "            value=checklist['DataAccess']['SecurityMeasuresTaken'],\n",
    "            options=['Yes', 'No', 'N/A'],\n",
    "            description='4.5 For restricted data, have measures been taken to provide some access while still applying appropriate protection for privacy and security?',\n",
    "            placeholder=PLACEHOLDER,\n",
    "            layout=widgets.Layout(width=WIDGET_WIDTH),\n",
    "            style = DESCRIPTION_STYLE\n",
    "            \n",
    "            )\n",
    "\n",
    "dataset_aggregation = widgets.Combobox(\n",
    "            value=checklist['DataAccess']['DataAggregated'],\n",
    "            options=['Yes', 'No', 'N/A'],\n",
    "            description='4.6 Has the data been aggregated to reduce granularity?',\n",
    "            placeholder=PLACEHOLDER,\n",
    "            layout=widgets.Layout(width=WIDGET_WIDTH),\n",
    "            style = DESCRIPTION_STYLE\n",
    "            )\n",
    "\n",
    "dataset_anonymization = widgets.Combobox(\n",
    "            value=checklist['DataAccess']['DataAnonymized'],\n",
    "            options=['Yes', 'No', 'N/A'],\n",
    "            description='4.7 Has the data been anonymized / de-identified?',\n",
    "            placeholder=PLACEHOLDER,\n",
    "            layout=widgets.Layout(width=WIDGET_WIDTH),\n",
    "            style = DESCRIPTION_STYLE\n",
    "            )\n",
    "\n",
    "dataset_secure_access = widgets.Combobox(\n",
    "            value=checklist['DataAccess']['SecureAccessForAuthorizedUsers'],\n",
    "            options=['Yes', 'No', 'N/A'],\n",
    "            description='4.8 Is there secure access to the full dataset for authorized users? ',\n",
    "            placeholder=PLACEHOLDER,\n",
    "            layout=widgets.Layout(width=WIDGET_WIDTH),\n",
    "            style = DESCRIPTION_STYLE\n",
    "            )\n",
    "\n",
    "display(dataset_restricted_protection, dataset_aggregation, dataset_anonymization, dataset_secure_access)\n"
   ]
  },
  {
   "cell_type": "code",
   "execution_count": 9,
   "id": "739ddb16-9b20-4c19-8860-8e8636759965",
   "metadata": {
    "jupyter": {
     "source_hidden": true
    }
   },
   "outputs": [
    {
     "data": {
      "application/vnd.jupyter.widget-view+json": {
       "model_id": "c9545f69fd4b441aaec5066e622a4974",
       "version_major": 2,
       "version_minor": 0
      },
      "text/plain": [
       "Button(button_style='primary', description='Save Data Access Answers to json file', layout=Layout(flex='1 1 au…"
      ]
     },
     "metadata": {},
     "output_type": "display_data"
    }
   ],
   "source": [
    "\n",
    "# Save button\n",
    "save_button = widgets.Button(description=\"Save Data Access Answers to json file\",  button_style=\"primary\",  layout=widgets.Layout(flex='1 1 auto', width='auto'))\n",
    "\n",
    "def generate_updates_access():\n",
    "\n",
    "    updates = {\n",
    "        \"DataAccess\": {\n",
    "            #File Formats\n",
    "            \"FileFormats\": dataset_file_formats.value,\n",
    "            \"FileFormatsMachineReadable\": dataset_file_formats_machine_readable.value,\n",
    "            \"OpenFormatAvailable\": dataset_file_formats_non_proprietary.value,\n",
    "            \"FormatConversionTools\": dataset_file_formats_conversion_tools.value,\n",
    "            \"ConversionToolsLink\": dataset_file_formats_conversion_tools_link.value, \n",
    "\n",
    "            # Data Delivery\n",
    "            \"AuthenticationRequired\" : dataset_authentication.value,\n",
    "            \"DirectDownloadAvailable\" : dataset_direct_access.value,\n",
    "            \"APIorWebAvailable\" : dataset_api_available.value,\n",
    "            \"APIOpenStandard\" : dataset_api_standard_protocol.value,\n",
    "            \"APIDocumentation\" : dataset_api_documentation_available.value,\n",
    "            \"APIDocumentationLink\" : dataset_api_documentation_link.value,\n",
    "\n",
    "            # Privacy and Security\n",
    "            \"SecurityMeasuresTaken\" : dataset_restricted_protection.value,\n",
    "            \"DataAggregated\" : dataset_aggregation.value,\n",
    "            \"DataAnonymized\" : dataset_anonymization.value,\n",
    "            \"SecureAccessForAuthorizedUsers\" : dataset_secure_access.value,\n",
    "        }\n",
    "    }\n",
    "    return updates\n",
    "\n",
    "save_button.on_click(lambda b: utils.update_checklist(b, generate_updates_access()))\n",
    "\n",
    "display(save_button)"
   ]
  },
  {
   "cell_type": "markdown",
   "id": "3824aa9e-9d66-4a2e-a1a2-60139f7c30dd",
   "metadata": {},
   "source": [
    "## Finished"
   ]
  },
  {
   "cell_type": "markdown",
   "id": "b917ce44-74fa-4290-8a31-931562746a4f",
   "metadata": {},
   "source": [
    "1. Make sure you saved your answers to the external json file using the buttons above. \n",
    "2. If you would like to view these saved answers use the button below. \n",
    "3. Move onto the notebook Template_Checklist_Part_5.ipynb covering Data Preparation"
   ]
  },
  {
   "cell_type": "code",
   "execution_count": 10,
   "id": "d35683fe-7d9f-40fa-81fa-99f926702fd6",
   "metadata": {
    "jupyter": {
     "source_hidden": true
    }
   },
   "outputs": [
    {
     "data": {
      "application/vnd.jupyter.widget-view+json": {
       "model_id": "2048a60200b64617854d4cfdcd6dc944",
       "version_major": 2,
       "version_minor": 0
      },
      "text/plain": [
       "Button(button_style='info', description='Print json results', layout=Layout(flex='1 1 auto', width='auto'), st…"
      ]
     },
     "metadata": {},
     "output_type": "display_data"
    },
    {
     "data": {
      "application/vnd.jupyter.widget-view+json": {
       "model_id": "c71450fbaaef467688cfdbab6b90e2c2",
       "version_major": 2,
       "version_minor": 0
      },
      "text/plain": [
       "Output()"
      ]
     },
     "metadata": {},
     "output_type": "display_data"
    }
   ],
   "source": [
    "\n",
    "button_print_json = widgets.Button(description=\"Print json results\",  button_style='info', layout=widgets.Layout(flex='1 1 auto', width='auto'))\n",
    "output = widgets.Output()\n",
    "\n",
    "display(button_print_json, output)\n",
    "\n",
    "def print_json_info(b):\n",
    "    \"\"\"\n",
    "    Loads a copy of the json file to checklist variable. \n",
    "    Then prints the json file contents to Jupyter notebook cell output.\n",
    "\n",
    "    Arguments: b - represents the button calling the function. \n",
    "    \"\"\"\n",
    "    checklist = utils.load_checklist()\n",
    "    with output:\n",
    "        clear_output()\n",
    "        for key, value in checklist.items():\n",
    "            print(f\"{key}:\")\n",
    "            if isinstance(value, dict):\n",
    "                for sub_key, sub_value in value.items():\n",
    "                    print(f\"  {sub_key}: {sub_value}\")\n",
    "            else:\n",
    "                print(f\"  {value}\")\n",
    "\n",
    "button_print_json.on_click(print_json_info)\n"
   ]
  },
  {
   "cell_type": "markdown",
   "id": "c760fc3b-f413-46e4-8a76-31684d83a2d2",
   "metadata": {},
   "source": [
    "---\n",
    "\n",
    "## **Appendix** - Definition of terms used in the checklist."
   ]
  },
  {
   "cell_type": "markdown",
   "id": "d5efc4cd-4a6d-4226-a29e-314bcc526d22",
   "metadata": {
    "editable": true,
    "slideshow": {
     "slide_type": ""
    },
    "tags": []
   },
   "source": [
    "### Data Access\n",
    "\n",
    "* **Formats**: standards that govern how information is stored in a computer file (e.g., CSV, JSON, GeoTIFF, etc.); different AI user communities will have different requirements, so the best practice is to provide several format options to meet the needs of multiple high priority user communities.\n",
    "* **Delivery Options**: mechanisms for publishing open data for public use (e.g., direct file download, Application Programming Interface (API), cloud services, etc.); different AI user communities will have different requirements, so the best practice is to provide several delivery options to meet the needs of multiple high priority user communities.\n",
    "* **License/Usage Rights**: information on who is allowed to use the data and for what purposes, including data sharing agreements, fees, etc.; some federal data needs to have restrictions and some will be fully open, so rights should be documented in detail\n",
    "* **Security/Privacy**: protection of data that is restricted in some way (privacy, proprietary/business information, national security, etc.)\n"
   ]
  }
 ],
 "metadata": {
  "kernelspec": {
   "display_name": "data_readiness",
   "language": "python",
   "name": "data_readiness"
  },
  "language_info": {
   "codemirror_mode": {
    "name": "ipython",
    "version": 3
   },
   "file_extension": ".py",
   "mimetype": "text/x-python",
   "name": "python",
   "nbconvert_exporter": "python",
   "pygments_lexer": "ipython3",
   "version": "3.10.16"
  },
  "widgets": {
   "application/vnd.jupyter.widget-state+json": {
    "state": {
     "03cf8d230116473f96b9219534c767d6": {
      "model_module": "@jupyter-widgets/controls",
      "model_module_version": "2.0.0",
      "model_name": "ComboboxModel",
      "state": {
       "description": "4.8 Is there secure access to the full dataset for authorized users? ",
       "ensure_option": false,
       "layout": "IPY_MODEL_2a4412027af24430a829d7c277cad5a4",
       "options": [
        "Yes",
        "No",
        "N/A"
       ],
       "placeholder": "Click to select option",
       "style": "IPY_MODEL_27f167983c514f319d2bfa283132c427"
      }
     },
     "166d5587b0a0456ca8b34452ebe6f5c1": {
      "model_module": "@jupyter-widgets/controls",
      "model_module_version": "2.0.0",
      "model_name": "TextStyleModel",
      "state": {
       "description_width": "initial",
       "font_size": null,
       "text_color": null
      }
     },
     "16714672b02e4e3ea1823feef7bf6783": {
      "model_module": "@jupyter-widgets/base",
      "model_module_version": "2.0.0",
      "model_name": "LayoutModel",
      "state": {
       "width": "900px"
      }
     },
     "16822cb2467e4c84b411fe846d74ba0c": {
      "model_module": "@jupyter-widgets/base",
      "model_module_version": "2.0.0",
      "model_name": "LayoutModel",
      "state": {
       "display": "none",
       "width": "900px"
      }
     },
     "17f3c37e0b2a48008b2cefa7373fb5b5": {
      "model_module": "@jupyter-widgets/base",
      "model_module_version": "2.0.0",
      "model_name": "LayoutModel",
      "state": {
       "width": "900px"
      }
     },
     "183f8b0abe2a4e5598c2ca96bdd7c5a9": {
      "model_module": "@jupyter-widgets/controls",
      "model_module_version": "2.0.0",
      "model_name": "TextStyleModel",
      "state": {
       "description_width": "initial",
       "font_size": null,
       "text_color": null
      }
     },
     "18d36cd1be9e4f36b7c85cdda1f17cb7": {
      "model_module": "@jupyter-widgets/base",
      "model_module_version": "2.0.0",
      "model_name": "LayoutModel",
      "state": {
       "display": "none",
       "width": "900px"
      }
     },
     "1aeda5ec46e44d3cb14dfb78a8c7a0ee": {
      "model_module": "@jupyter-widgets/controls",
      "model_module_version": "2.0.0",
      "model_name": "ComboboxModel",
      "state": {
       "description": "If there is an API, is there documentation for the API?",
       "ensure_option": false,
       "layout": "IPY_MODEL_6862fa0a112942c9bc4e5d0b35564a9f",
       "options": [
        "Yes",
        "No",
        "N/A"
       ],
       "placeholder": "Click to select option",
       "style": "IPY_MODEL_166d5587b0a0456ca8b34452ebe6f5c1"
      }
     },
     "1f40eafc7a2140589f02854f9f4e8bbb": {
      "model_module": "@jupyter-widgets/controls",
      "model_module_version": "2.0.0",
      "model_name": "ComboboxModel",
      "state": {
       "description": "Is the data available in at least one open, non-proprietary format?",
       "ensure_option": false,
       "layout": "IPY_MODEL_7f4106a2c04c40528ae0147b0d27a49c",
       "options": [
        "Yes",
        "No",
        "N/A"
       ],
       "placeholder": "Click to select option",
       "style": "IPY_MODEL_3930377e568143008269a11c6d11cf5e"
      }
     },
     "27f167983c514f319d2bfa283132c427": {
      "model_module": "@jupyter-widgets/controls",
      "model_module_version": "2.0.0",
      "model_name": "TextStyleModel",
      "state": {
       "description_width": "initial",
       "font_size": null,
       "text_color": null
      }
     },
     "2a4412027af24430a829d7c277cad5a4": {
      "model_module": "@jupyter-widgets/base",
      "model_module_version": "2.0.0",
      "model_name": "LayoutModel",
      "state": {
       "width": "900px"
      }
     },
     "2b6c132479664ffc8a6715f2c57911ef": {
      "model_module": "@jupyter-widgets/controls",
      "model_module_version": "2.0.0",
      "model_name": "TextStyleModel",
      "state": {
       "description_width": "",
       "font_size": null,
       "text_color": null
      }
     },
     "33e0d7a0a68a40e7bbdb7b53d39aeca2": {
      "model_module": "@jupyter-widgets/controls",
      "model_module_version": "2.0.0",
      "model_name": "TextStyleModel",
      "state": {
       "description_width": "initial",
       "font_size": null,
       "text_color": null
      }
     },
     "3930377e568143008269a11c6d11cf5e": {
      "model_module": "@jupyter-widgets/controls",
      "model_module_version": "2.0.0",
      "model_name": "TextStyleModel",
      "state": {
       "description_width": "initial",
       "font_size": null,
       "text_color": null
      }
     },
     "426a48c1fa5b411c972a635a024e67a6": {
      "model_module": "@jupyter-widgets/controls",
      "model_module_version": "2.0.0",
      "model_name": "DescriptionStyleModel",
      "state": {
       "description_width": ""
      }
     },
     "464c904188604a2895864d4aa660ff23": {
      "model_module": "@jupyter-widgets/controls",
      "model_module_version": "2.0.0",
      "model_name": "ComboboxModel",
      "state": {
       "description": "4.7 Has the data been anonymized / de-identified?",
       "ensure_option": false,
       "layout": "IPY_MODEL_9d77a9d67ddb4a069498197fc79f38b0",
       "options": [
        "Yes",
        "No",
        "N/A"
       ],
       "placeholder": "Click to select option",
       "style": "IPY_MODEL_7d9961af45cf4a3da3417bc0d0a9e2b6"
      }
     },
     "4f389e1527a34c228c2515d21bf5f97a": {
      "model_module": "@jupyter-widgets/controls",
      "model_module_version": "2.0.0",
      "model_name": "ComboboxModel",
      "state": {
       "description": "4.5 For restricted data, have measures been taken to provide some access while still applying appropriate protection for privacy and security?",
       "ensure_option": false,
       "layout": "IPY_MODEL_66d716e9f43a4418b8b560fd6081a50f",
       "options": [
        "Yes",
        "No",
        "N/A"
       ],
       "placeholder": "Click to select option",
       "style": "IPY_MODEL_183f8b0abe2a4e5598c2ca96bdd7c5a9"
      }
     },
     "61734fa6a2214c968cffa45f79bd901b": {
      "model_module": "@jupyter-widgets/controls",
      "model_module_version": "2.0.0",
      "model_name": "LabelStyleModel",
      "state": {
       "description_width": "",
       "font_family": null,
       "font_size": null,
       "font_style": null,
       "font_variant": null,
       "font_weight": null,
       "text_color": null,
       "text_decoration": null
      }
     },
     "66d716e9f43a4418b8b560fd6081a50f": {
      "model_module": "@jupyter-widgets/base",
      "model_module_version": "2.0.0",
      "model_name": "LayoutModel",
      "state": {
       "width": "900px"
      }
     },
     "6862fa0a112942c9bc4e5d0b35564a9f": {
      "model_module": "@jupyter-widgets/base",
      "model_module_version": "2.0.0",
      "model_name": "LayoutModel",
      "state": {
       "display": "none",
       "width": "900px"
      }
     },
     "6aebaf4627014664bbac335f542c4008": {
      "model_module": "@jupyter-widgets/base",
      "model_module_version": "2.0.0",
      "model_name": "LayoutModel",
      "state": {
       "flex": "1 1 auto",
       "width": "auto"
      }
     },
     "7464106bc8ea499fabbcbfe2152fd3f3": {
      "model_module": "@jupyter-widgets/controls",
      "model_module_version": "2.0.0",
      "model_name": "TextModel",
      "state": {
       "description": "Tools / services link:",
       "layout": "IPY_MODEL_16714672b02e4e3ea1823feef7bf6783",
       "placeholder": "If yes, provide the link to the tools/services",
       "style": "IPY_MODEL_ce490233a82a4abebe1fa9d406f05965"
      }
     },
     "7d9961af45cf4a3da3417bc0d0a9e2b6": {
      "model_module": "@jupyter-widgets/controls",
      "model_module_version": "2.0.0",
      "model_name": "TextStyleModel",
      "state": {
       "description_width": "initial",
       "font_size": null,
       "text_color": null
      }
     },
     "7f4106a2c04c40528ae0147b0d27a49c": {
      "model_module": "@jupyter-widgets/base",
      "model_module_version": "2.0.0",
      "model_name": "LayoutModel",
      "state": {
       "width": "900px"
      }
     },
     "82c006d0000e411890bdd7627a5daec0": {
      "model_module": "@jupyter-widgets/base",
      "model_module_version": "2.0.0",
      "model_name": "LayoutModel",
      "state": {}
     },
     "8376eb573cea47cb8e4b4f509e63aa7e": {
      "model_module": "@jupyter-widgets/controls",
      "model_module_version": "2.0.0",
      "model_name": "ComboboxModel",
      "state": {
       "description": "4.3 Can the file be accessed via direct file downloading or ordering?",
       "ensure_option": false,
       "layout": "IPY_MODEL_17f3c37e0b2a48008b2cefa7373fb5b5",
       "options": [
        "Yes",
        "No",
        "N/A"
       ],
       "placeholder": "Click to select option",
       "style": "IPY_MODEL_9f49b8099cd143ae8b47043ed98f88e1"
      }
     },
     "83a3425c8a6e40348142a0d3435be1fd": {
      "model_module": "@jupyter-widgets/controls",
      "model_module_version": "2.0.0",
      "model_name": "ComboboxModel",
      "state": {
       "description": "4.6 Has the data been aggregated to reduce granularity?",
       "ensure_option": false,
       "layout": "IPY_MODEL_eaef55fbbbb34010a4683ebd3f34a343",
       "options": [
        "Yes",
        "No",
        "N/A"
       ],
       "placeholder": "Click to select option",
       "style": "IPY_MODEL_33e0d7a0a68a40e7bbdb7b53d39aeca2"
      }
     },
     "8a482b4b0edf446b82c93bb477782385": {
      "model_module": "@jupyter-widgets/controls",
      "model_module_version": "2.0.0",
      "model_name": "ButtonStyleModel",
      "state": {
       "font_family": null,
       "font_size": null,
       "font_style": null,
       "font_variant": null,
       "font_weight": null,
       "text_color": null,
       "text_decoration": null
      }
     },
     "972360b3c10346588f066195d4479378": {
      "model_module": "@jupyter-widgets/controls",
      "model_module_version": "2.0.0",
      "model_name": "ComboboxModel",
      "state": {
       "description": "4.2 Does data access require authentication (e.g., a registered user account)?",
       "ensure_option": false,
       "layout": "IPY_MODEL_bfecb4ea31dc43eeb2fc8f893c20ef50",
       "options": [
        "Yes",
        "No",
        "N/A"
       ],
       "placeholder": "Click to select option",
       "style": "IPY_MODEL_c12c10df12d74af3a5534341712f012e"
      }
     },
     "98b08e03d53642f5b545b44ca0a3aca4": {
      "model_module": "@jupyter-widgets/base",
      "model_module_version": "2.0.0",
      "model_name": "LayoutModel",
      "state": {}
     },
     "9d77a9d67ddb4a069498197fc79f38b0": {
      "model_module": "@jupyter-widgets/base",
      "model_module_version": "2.0.0",
      "model_name": "LayoutModel",
      "state": {
       "width": "900px"
      }
     },
     "9e4619d19cf643758d2e2cd29a0c7df5": {
      "model_module": "@jupyter-widgets/controls",
      "model_module_version": "2.0.0",
      "model_name": "ButtonModel",
      "state": {
       "button_style": "info",
       "description": "Print json results",
       "layout": "IPY_MODEL_cb6ea894ed9248318364633d67b4d961",
       "style": "IPY_MODEL_8a482b4b0edf446b82c93bb477782385",
       "tooltip": null
      }
     },
     "9f49b8099cd143ae8b47043ed98f88e1": {
      "model_module": "@jupyter-widgets/controls",
      "model_module_version": "2.0.0",
      "model_name": "TextStyleModel",
      "state": {
       "description_width": "initial",
       "font_size": null,
       "text_color": null
      }
     },
     "a435d5ee4ad7485eba038d4477db68fd": {
      "model_module": "@jupyter-widgets/controls",
      "model_module_version": "2.0.0",
      "model_name": "ButtonModel",
      "state": {
       "button_style": "primary",
       "description": "Save Data Access Answers to json file",
       "layout": "IPY_MODEL_6aebaf4627014664bbac335f542c4008",
       "style": "IPY_MODEL_fab9557870124a1db660e8447dbaba45",
       "tooltip": null
      }
     },
     "a6099f39384045fb9862bf18ba0ecd00": {
      "model_module": "@jupyter-widgets/controls",
      "model_module_version": "2.0.0",
      "model_name": "SelectMultipleModel",
      "state": {
       "_options_labels": [
        "CSV",
        "netCDF",
        "geoJSON",
        "Shapefile",
        "GRIB",
        "HDF",
        "GeoTIFF",
        "KML",
        "GINI",
        "Zarr",
        "Other"
       ],
       "index": [],
       "layout": "IPY_MODEL_82c006d0000e411890bdd7627a5daec0",
       "rows": 11,
       "style": "IPY_MODEL_426a48c1fa5b411c972a635a024e67a6"
      }
     },
     "aa67f8c0c625463eb1a9b54a492fb5bf": {
      "model_module": "@jupyter-widgets/controls",
      "model_module_version": "2.0.0",
      "model_name": "TextStyleModel",
      "state": {
       "description_width": "initial",
       "font_size": null,
       "text_color": null
      }
     },
     "adb29df3586d4333af3ef43538922f2a": {
      "model_module": "@jupyter-widgets/base",
      "model_module_version": "2.0.0",
      "model_name": "LayoutModel",
      "state": {
       "width": "900px"
      }
     },
     "aed2320431954af2b8424efa9781539f": {
      "model_module": "@jupyter-widgets/controls",
      "model_module_version": "2.0.0",
      "model_name": "ComboboxModel",
      "state": {
       "description": "4.4 Is there an Application Programming Interface (API) or web service to access the data?",
       "ensure_option": false,
       "layout": "IPY_MODEL_b497fde7409f4130a9b08c0e2dafd251",
       "options": [
        "Yes",
        "No",
        "N/A"
       ],
       "placeholder": "Click to select option",
       "style": "IPY_MODEL_f41bd2caee154609a21a52e01831dccb"
      }
     },
     "b0bf021e66f44030875900be647ce9a9": {
      "model_module": "@jupyter-widgets/controls",
      "model_module_version": "2.0.0",
      "model_name": "ComboboxModel",
      "state": {
       "description": "Are the main formats machine-readable?",
       "ensure_option": false,
       "layout": "IPY_MODEL_adb29df3586d4333af3ef43538922f2a",
       "options": [
        "Yes",
        "No",
        "N/A"
       ],
       "placeholder": "Click to select option",
       "style": "IPY_MODEL_bfad3c6461134b32bd521ae9074d98a7"
      }
     },
     "b497fde7409f4130a9b08c0e2dafd251": {
      "model_module": "@jupyter-widgets/base",
      "model_module_version": "2.0.0",
      "model_name": "LayoutModel",
      "state": {
       "width": "900px"
      }
     },
     "b4e7ab08b538467985959b4102a10428": {
      "model_module": "@jupyter-widgets/base",
      "model_module_version": "2.0.0",
      "model_name": "LayoutModel",
      "state": {}
     },
     "b93d107528c64300a2c32d2d1cdc8672": {
      "model_module": "@jupyter-widgets/controls",
      "model_module_version": "2.0.0",
      "model_name": "ComboboxModel",
      "state": {
       "description": "Are there tools/services to support data format conversion?",
       "ensure_option": false,
       "layout": "IPY_MODEL_e331e23895f34948862cc2b00056372d",
       "options": [
        "Yes",
        "No",
        "N/A"
       ],
       "placeholder": "Click to select option",
       "style": "IPY_MODEL_c3082449ba9e42e7af24d0741449a105"
      }
     },
     "bfad3c6461134b32bd521ae9074d98a7": {
      "model_module": "@jupyter-widgets/controls",
      "model_module_version": "2.0.0",
      "model_name": "TextStyleModel",
      "state": {
       "description_width": "initial",
       "font_size": null,
       "text_color": null
      }
     },
     "bfecb4ea31dc43eeb2fc8f893c20ef50": {
      "model_module": "@jupyter-widgets/base",
      "model_module_version": "2.0.0",
      "model_name": "LayoutModel",
      "state": {
       "width": "900px"
      }
     },
     "c12c10df12d74af3a5534341712f012e": {
      "model_module": "@jupyter-widgets/controls",
      "model_module_version": "2.0.0",
      "model_name": "TextStyleModel",
      "state": {
       "description_width": "initial",
       "font_size": null,
       "text_color": null
      }
     },
     "c2b5c49e2e384d1b9a795a1a1610adc0": {
      "model_module": "@jupyter-widgets/controls",
      "model_module_version": "2.0.0",
      "model_name": "ComboboxModel",
      "state": {
       "description": "If there is an API, does the API follow an open standard protocol (e.g., OGC)?",
       "ensure_option": false,
       "layout": "IPY_MODEL_18d36cd1be9e4f36b7c85cdda1f17cb7",
       "options": [
        "Yes",
        "No",
        "N/A"
       ],
       "placeholder": "Click to select option",
       "style": "IPY_MODEL_aa67f8c0c625463eb1a9b54a492fb5bf"
      }
     },
     "c3082449ba9e42e7af24d0741449a105": {
      "model_module": "@jupyter-widgets/controls",
      "model_module_version": "2.0.0",
      "model_name": "TextStyleModel",
      "state": {
       "description_width": "initial",
       "font_size": null,
       "text_color": null
      }
     },
     "c6339ccea52143558526c34440fd5c63": {
      "model_module": "@jupyter-widgets/controls",
      "model_module_version": "2.0.0",
      "model_name": "TextModel",
      "state": {
       "layout": "IPY_MODEL_16822cb2467e4c84b411fe846d74ba0c",
       "placeholder": "If “Yes”, please provide a URL to the documentation.",
       "style": "IPY_MODEL_2b6c132479664ffc8a6715f2c57911ef"
      }
     },
     "cb6ea894ed9248318364633d67b4d961": {
      "model_module": "@jupyter-widgets/base",
      "model_module_version": "2.0.0",
      "model_name": "LayoutModel",
      "state": {
       "flex": "1 1 auto",
       "width": "auto"
      }
     },
     "ce490233a82a4abebe1fa9d406f05965": {
      "model_module": "@jupyter-widgets/controls",
      "model_module_version": "2.0.0",
      "model_name": "TextStyleModel",
      "state": {
       "description_width": "initial",
       "font_size": null,
       "text_color": null
      }
     },
     "db1955684881417abeedc803f1fa7dd3": {
      "model_module": "@jupyter-widgets/output",
      "model_module_version": "1.0.0",
      "model_name": "OutputModel",
      "state": {
       "layout": "IPY_MODEL_b4e7ab08b538467985959b4102a10428"
      }
     },
     "e331e23895f34948862cc2b00056372d": {
      "model_module": "@jupyter-widgets/base",
      "model_module_version": "2.0.0",
      "model_name": "LayoutModel",
      "state": {
       "width": "900px"
      }
     },
     "eaef55fbbbb34010a4683ebd3f34a343": {
      "model_module": "@jupyter-widgets/base",
      "model_module_version": "2.0.0",
      "model_name": "LayoutModel",
      "state": {
       "width": "900px"
      }
     },
     "f41bd2caee154609a21a52e01831dccb": {
      "model_module": "@jupyter-widgets/controls",
      "model_module_version": "2.0.0",
      "model_name": "TextStyleModel",
      "state": {
       "description_width": "initial",
       "font_size": null,
       "text_color": null
      }
     },
     "fab9557870124a1db660e8447dbaba45": {
      "model_module": "@jupyter-widgets/controls",
      "model_module_version": "2.0.0",
      "model_name": "ButtonStyleModel",
      "state": {
       "font_family": null,
       "font_size": null,
       "font_style": null,
       "font_variant": null,
       "font_weight": null,
       "text_color": null,
       "text_decoration": null
      }
     },
     "fd0e9038c79c4e42a351b852af2ec294": {
      "model_module": "@jupyter-widgets/controls",
      "model_module_version": "2.0.0",
      "model_name": "LabelModel",
      "state": {
       "layout": "IPY_MODEL_98b08e03d53642f5b545b44ca0a3aca4",
       "style": "IPY_MODEL_61734fa6a2214c968cffa45f79bd901b",
       "value": "4.1 What is/are the major file formats? (Use shift / Ctrl / CMD to select multiple)"
      }
     }
    },
    "version_major": 2,
    "version_minor": 0
   }
  }
 },
 "nbformat": 4,
 "nbformat_minor": 5
}
