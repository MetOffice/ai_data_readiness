{
 "cells": [
  {
   "cell_type": "markdown",
   "id": "f8198bd3-3e2a-444f-bff5-c9647a804ca9",
   "metadata": {
    "editable": true,
    "slideshow": {
     "slide_type": ""
    },
    "tags": []
   },
   "source": [
    "# **Data Readiness For AI Checklist - Part 5**\n",
    "\n",
    " * Creator(s) John Pill\n",
    " * Affiliation: UK Met Office\n",
    " * History: 1.0\n",
    " * Last update: 27 August 2024.\n",
    "\n",
    "\n",
    "---"
   ]
  },
  {
   "cell_type": "markdown",
   "id": "4eb841fa-aab5-401b-9e67-1c2e0723c6dd",
   "metadata": {},
   "source": [
    "## **Tutorial Material**\n",
    "\n",
    "* **Run this Jupyter notebook locally using Jupyter Lab**\n",
    "* **Select 'Run All Cells' from the 'Run' menu to generate the checklist**.\n",
    "* **Remember to save your notebook regularly as you work through it.**\n",
    "\n",
    "\n",
    "## **Data section, optional**\n",
    "Scripts for pulling the data into the notebook assuming\n",
    "\n",
    "---"
   ]
  },
  {
   "cell_type": "markdown",
   "id": "f6840884-d7bb-43fa-a3e3-8c4106c435e5",
   "metadata": {},
   "source": [
    "## **Setup Notebook**"
   ]
  },
  {
   "cell_type": "code",
   "execution_count": 1,
   "id": "5b5a42bb-1da9-4460-a6a0-8d85063fd096",
   "metadata": {
    "editable": true,
    "slideshow": {
     "slide_type": ""
    },
    "tags": [
     "thebe-init"
    ]
   },
   "outputs": [],
   "source": [
    "import ipywidgets as widgets\n",
    "from IPython.display import display, clear_output\n",
    "import json\n",
    "import sys\n",
    "import os\n",
    "import numpy as np\n",
    "from aidatareadiness import utils\n",
    "from aidatareadiness.utils import WIDGET_WIDTH, DESCRIPTION_STYLE, PLACEHOLDER  \n",
    "from aidatareadiness.checklist_auto import gridded "
   ]
  },
  {
   "cell_type": "markdown",
   "id": "1447f5aa-9ece-403a-8846-ce51e9092f16",
   "metadata": {},
   "source": [
    "## **Load Data**"
   ]
  },
  {
   "cell_type": "code",
   "execution_count": 8,
   "id": "3ed9518b-c3da-4be1-ae52-35b76e33e709",
   "metadata": {},
   "outputs": [],
   "source": [
    "# Use the following function to laod your dataset and check its file format is compatible. \n",
    "# Add the filename / file path of your gridded dataset below:\n",
    "\n",
    "gridded_file_path = \"/projects/mecr8410/Get_GOES/data/goes/OR_ABI-L1b-RadC-M6C16_G16_s20230281501173_e20230281503559_c20230281504027.nc\"\n",
    "\n",
    "# Uncomment the lines below to check compatibility and load your dataset. \n",
    "dataset = gridded.detect_gridded_format_and_open(gridded_file_path)\n",
    "# dataset"
   ]
  },
  {
   "cell_type": "code",
   "execution_count": 11,
   "id": "675376e3-e283-4f76-b524-eb02f7c143ec",
   "metadata": {},
   "outputs": [
    {
     "name": "stdout",
     "output_type": "stream",
     "text": [
      "FrozenMappingWarningOnValuesAccess({'y': 1500, 'x': 2500, 'number_of_time_bounds': 2, 'number_of_image_bounds': 2, 'band': 1, 'num_star_looks': 24})\n"
     ]
    }
   ],
   "source": [
    "# Convert temporal coord name to 'time'\n",
    "\n",
    "# Sometimes the temporal coord has a different name, you can use code below to rename the dimension to time to work with the following functions. \n",
    "# Use the function below to rename the temporal coord to 'time', this will be used in the later functions.\n",
    "\n",
    "# Uncoment the line below to check the current coord names and identify the temporal coord. \n",
    "print(dataset.dims)\n",
    "\n",
    "# Uncomment the function call below and update the 2nd argument with the temporal coord name.\n",
    "# dataset = gridded.temporal_check(dataset, \"add_temporal_coord_name_here\")"
   ]
  },
  {
   "cell_type": "code",
   "execution_count": 12,
   "id": "0b769970-71ed-48a7-95fb-da873b6330c8",
   "metadata": {
    "editable": true,
    "slideshow": {
     "slide_type": ""
    },
    "tags": [
     "thebe-init"
    ]
   },
   "outputs": [],
   "source": [
    "# Load checklist from JSON file:\n",
    "checklist = utils.load_checklist()"
   ]
  },
  {
   "cell_type": "markdown",
   "id": "087dd158-2a04-45b5-a0c0-599761f33f94",
   "metadata": {},
   "source": [
    "#### Reset stored answers to start again:"
   ]
  },
  {
   "cell_type": "code",
   "execution_count": 13,
   "id": "a467851d-ee03-46f7-a194-8e516c374b8e",
   "metadata": {
    "jupyter": {
     "source_hidden": true
    }
   },
   "outputs": [],
   "source": [
    "# Reset all checklist answers back to original blank answers for all sections.\n",
    "# Any completed information will be lost. \n",
    "\n",
    "# To reset the stored answers uncomment and run these lines of code below. Re-comment the lines afterwards to avoid them running again. \n",
    "# utils.reset_checklist()\n",
    "# checklist = utils.load_checklist()\n",
    "\n",
    "# You can then re-run each section to reload it on the reset data. "
   ]
  },
  {
   "cell_type": "code",
   "execution_count": 14,
   "id": "d23fc803-c02b-4a51-8d58-4f343b49c39b",
   "metadata": {},
   "outputs": [
    {
     "name": "stdout",
     "output_type": "stream",
     "text": [
      "Dataset: \n",
      "Dataset link: \n",
      "Assessor: \n",
      "Assessor email: \n"
     ]
    }
   ],
   "source": [
    "\n",
    "print(\"Dataset:\", checklist[\"GeneralInformation\"][\"DatasetName\"])\n",
    "print(\"Dataset link:\", checklist[\"GeneralInformation\"][\"DatasetLink\"])\n",
    "print(\"Assessor:\", checklist[\"GeneralInformation\"][\"AssessorName\"])\n",
    "print(\"Assessor email:\", checklist[\"GeneralInformation\"][\"AssessorEmailAddress\"])"
   ]
  },
  {
   "cell_type": "markdown",
   "id": "0ef2f783-495b-406e-8c25-5258c410520c",
   "metadata": {},
   "source": [
    "---\n",
    "\n",
    "## **5. Data Preparation**"
   ]
  },
  {
   "cell_type": "markdown",
   "id": "fc47836b-19bb-4d24-b500-884d9e754f78",
   "metadata": {},
   "source": [
    "### Null values"
   ]
  },
  {
   "cell_type": "code",
   "execution_count": 17,
   "id": "598d7fa2-f6c6-451e-9b12-a282d6a70be7",
   "metadata": {},
   "outputs": [
    {
     "data": {
      "application/vnd.jupyter.widget-view+json": {
       "model_id": "4176d4f046a2407093c7d4a460356497",
       "version_major": 2,
       "version_minor": 0
      },
      "text/plain": [
       "Combobox(value='', description='5.1 Have null values/gaps been filled?', layout=Layout(width='900px'), options…"
      ]
     },
     "metadata": {},
     "output_type": "display_data"
    }
   ],
   "source": [
    "\n",
    "dataset_null_values = widgets.Combobox(\n",
    "            value=checklist['DataPreparation']['NullValuesFilled'],\n",
    "            options=['Yes', 'No', 'N/A'],\n",
    "            description='5.1 Have null values/gaps been filled?',\n",
    "            placeholder=PLACEHOLDER,\n",
    "            layout=widgets.Layout(width=WIDGET_WIDTH),\n",
    "            style = DESCRIPTION_STYLE\n",
    "            )\n",
    "\n",
    "display(dataset_null_values)"
   ]
  },
  {
   "cell_type": "code",
   "execution_count": 19,
   "id": "97a35f49-7185-4a11-a6dd-1abadf2ed88f",
   "metadata": {},
   "outputs": [
    {
     "name": "stdout",
     "output_type": "stream",
     "text": [
      "MISSING / FILLED VALUE REPORT:\n",
      "    > variable_name: Rad\n",
      "    > missing_values_count: 47162\n",
      "    > percentage_missing: 1.2576533333333333\n",
      "    > has_fill_value: False\n",
      "    > fill_value: None\n",
      "    > filled_values_count: 0\n",
      "    > percentage_filled: 0.0\n",
      "--------------------------------------------------\n"
     ]
    }
   ],
   "source": [
    "# This function will help you review if the dataset has missing or filled values. \n",
    "# However, it is still worth reading the dataset documentation as it should be explained in detail there. \n",
    "\n",
    "# Uncomment the line below to run the find_missing_values function.\n",
    "missing_value_stats = utils.find_missing_values(dataset)\n",
    "\n",
    "# Uncomment the lines below to print out the results:\n",
    "print(\"MISSING / FILLED VALUE REPORT:\")\n",
    "for stats in missing_value_stats:\n",
    "    for key, value in stats.items():\n",
    "        print(f\"    > {key}: {value}\")\n",
    "    print(\"-\" * 50)"
   ]
  },
  {
   "cell_type": "markdown",
   "id": "8cc450ae-d5bb-464d-bc4d-da3f09bcca06",
   "metadata": {},
   "source": [
    "### Outliers"
   ]
  },
  {
   "cell_type": "code",
   "execution_count": 20,
   "id": "8c912605-887f-4b59-b07a-34dfbdc2bc8d",
   "metadata": {},
   "outputs": [
    {
     "data": {
      "application/vnd.jupyter.widget-view+json": {
       "model_id": "4942db4851e448b19d59c55919fc6271",
       "version_major": 2,
       "version_minor": 0
      },
      "text/plain": [
       "Combobox(value='', description='5.2 Have outliers been identified?', layout=Layout(width='900px'), options=('Y…"
      ]
     },
     "metadata": {},
     "output_type": "display_data"
    }
   ],
   "source": [
    "\n",
    "dataset_outliers = widgets.Combobox(\n",
    "            value=checklist['DataPreparation']['OutliersIdentified'],\n",
    "            options=['Yes, tagged ', 'Yes, removed', 'No', 'N/A'],\n",
    "            description='5.2 Have outliers been identified?',\n",
    "            placeholder=PLACEHOLDER,\n",
    "            layout=widgets.Layout(width=WIDGET_WIDTH),\n",
    "            style = DESCRIPTION_STYLE\n",
    "            )\n",
    "\n",
    "display(dataset_outliers)\n"
   ]
  },
  {
   "cell_type": "code",
   "execution_count": 21,
   "id": "f469647e-e746-4383-a801-1e7f7951c4bf",
   "metadata": {},
   "outputs": [
    {
     "name": "stdout",
     "output_type": "stream",
     "text": [
      "OUTLIER VALUE REPORT:\n",
      "    > variable_name: Rad\n",
      "    > total_values: 3702838\n",
      "    > num_outliers: 0\n",
      "    > percentage_outliers: 0.0\n",
      "--------------------------------------------------\n",
      "    > variable_name: DQF\n",
      "    > total_values: 3702838\n",
      "    > num_outliers: 0\n",
      "    > percentage_outliers: 0.0\n",
      "--------------------------------------------------\n",
      "    > variable_name: goes_imager_projection\n",
      "    > total_values: 1\n",
      "    > num_outliers: 0\n",
      "    > percentage_outliers: 0.0\n",
      "--------------------------------------------------\n",
      "    > variable_name: nominal_satellite_subpoint_lat\n",
      "    > total_values: 1\n",
      "    > num_outliers: 0\n",
      "    > percentage_outliers: 0.0\n",
      "--------------------------------------------------\n",
      "    > variable_name: nominal_satellite_subpoint_lon\n",
      "    > total_values: 1\n",
      "    > num_outliers: 0\n",
      "    > percentage_outliers: 0.0\n",
      "--------------------------------------------------\n",
      "    > variable_name: nominal_satellite_height\n",
      "    > total_values: 1\n",
      "    > num_outliers: 0\n",
      "    > percentage_outliers: 0.0\n",
      "--------------------------------------------------\n",
      "    > variable_name: geospatial_lat_lon_extent\n",
      "    > total_values: 1\n",
      "    > num_outliers: 0\n",
      "    > percentage_outliers: 0.0\n",
      "--------------------------------------------------\n",
      "    > variable_name: yaw_flip_flag\n",
      "    > total_values: 1\n",
      "    > num_outliers: 0\n",
      "    > percentage_outliers: 0.0\n",
      "--------------------------------------------------\n",
      "    > variable_name: planck_fk1\n",
      "    > total_values: 1\n",
      "    > num_outliers: 0\n",
      "    > percentage_outliers: 0.0\n",
      "--------------------------------------------------\n",
      "    > variable_name: planck_fk2\n",
      "    > total_values: 1\n",
      "    > num_outliers: 0\n",
      "    > percentage_outliers: 0.0\n",
      "--------------------------------------------------\n",
      "    > variable_name: planck_bc1\n",
      "    > total_values: 1\n",
      "    > num_outliers: 0\n",
      "    > percentage_outliers: 0.0\n",
      "--------------------------------------------------\n",
      "    > variable_name: planck_bc2\n",
      "    > total_values: 1\n",
      "    > num_outliers: 0\n",
      "    > percentage_outliers: 0.0\n",
      "--------------------------------------------------\n",
      "    > variable_name: valid_pixel_count\n",
      "    > total_values: 1\n",
      "    > num_outliers: 0\n",
      "    > percentage_outliers: 0.0\n",
      "--------------------------------------------------\n",
      "    > variable_name: missing_pixel_count\n",
      "    > total_values: 1\n",
      "    > num_outliers: 0\n",
      "    > percentage_outliers: 0.0\n",
      "--------------------------------------------------\n",
      "    > variable_name: saturated_pixel_count\n",
      "    > total_values: 1\n",
      "    > num_outliers: 0\n",
      "    > percentage_outliers: 0.0\n",
      "--------------------------------------------------\n",
      "    > variable_name: undersaturated_pixel_count\n",
      "    > total_values: 1\n",
      "    > num_outliers: 0\n",
      "    > percentage_outliers: 0.0\n",
      "--------------------------------------------------\n",
      "    > variable_name: focal_plane_temperature_threshold_exceeded_count\n",
      "    > total_values: 1\n",
      "    > num_outliers: 0\n",
      "    > percentage_outliers: 0.0\n",
      "--------------------------------------------------\n",
      "    > variable_name: min_radiance_value_of_valid_pixels\n",
      "    > total_values: 1\n",
      "    > num_outliers: 0\n",
      "    > percentage_outliers: 0.0\n",
      "--------------------------------------------------\n",
      "    > variable_name: max_radiance_value_of_valid_pixels\n",
      "    > total_values: 1\n",
      "    > num_outliers: 0\n",
      "    > percentage_outliers: 0.0\n",
      "--------------------------------------------------\n",
      "    > variable_name: mean_radiance_value_of_valid_pixels\n",
      "    > total_values: 1\n",
      "    > num_outliers: 0\n",
      "    > percentage_outliers: 0.0\n",
      "--------------------------------------------------\n",
      "    > variable_name: std_dev_radiance_value_of_valid_pixels\n",
      "    > total_values: 1\n",
      "    > num_outliers: 0\n",
      "    > percentage_outliers: 0.0\n",
      "--------------------------------------------------\n",
      "    > variable_name: maximum_focal_plane_temperature\n",
      "    > total_values: 1\n",
      "    > num_outliers: 0\n",
      "    > percentage_outliers: 0.0\n",
      "--------------------------------------------------\n",
      "    > variable_name: focal_plane_temperature_threshold_increasing\n",
      "    > total_values: 1\n",
      "    > num_outliers: 0\n",
      "    > percentage_outliers: 0.0\n",
      "--------------------------------------------------\n",
      "    > variable_name: focal_plane_temperature_threshold_decreasing\n",
      "    > total_values: 1\n",
      "    > num_outliers: 0\n",
      "    > percentage_outliers: 0.0\n",
      "--------------------------------------------------\n",
      "    > variable_name: percent_uncorrectable_L0_errors\n",
      "    > total_values: 1\n",
      "    > num_outliers: 0\n",
      "    > percentage_outliers: 0.0\n",
      "--------------------------------------------------\n",
      "    > variable_name: earth_sun_distance_anomaly_in_AU\n",
      "    > total_values: 1\n",
      "    > num_outliers: 0\n",
      "    > percentage_outliers: 0.0\n",
      "--------------------------------------------------\n",
      "    > variable_name: algorithm_dynamic_input_data_container\n",
      "    > total_values: 1\n",
      "    > num_outliers: 0\n",
      "    > percentage_outliers: 0.0\n",
      "--------------------------------------------------\n",
      "    > variable_name: processing_parm_version_container\n",
      "    > total_values: 1\n",
      "    > num_outliers: 0\n",
      "    > percentage_outliers: 0.0\n",
      "--------------------------------------------------\n",
      "    > variable_name: algorithm_product_version_container\n",
      "    > total_values: 1\n",
      "    > num_outliers: 0\n",
      "    > percentage_outliers: 0.0\n",
      "--------------------------------------------------\n",
      "    > variable_name: channel_integration_time\n",
      "    > total_values: 1\n",
      "    > num_outliers: 0\n",
      "    > percentage_outliers: 0.0\n",
      "--------------------------------------------------\n",
      "    > variable_name: channel_gain_field\n",
      "    > total_values: 1\n",
      "    > num_outliers: 0\n",
      "    > percentage_outliers: 0.0\n",
      "--------------------------------------------------\n"
     ]
    },
    {
     "name": "stderr",
     "output_type": "stream",
     "text": [
      "/projects/mecr8410/ai_data_readiness/src/aidatareadiness/utils.py:275: RuntimeWarning: invalid value encountered in divide\n",
      "  z_scores = (data_clean - mean) / std_dev\n"
     ]
    }
   ],
   "source": [
    "# This function could be used to review the z-score values over a set threshold. \n",
    "# This could be useful as an indication of outliers, however again, reading the dataset documentation should have information regarding outliers. \n",
    "\n",
    "# Uncomment the line below to run the count_z_score_outliers_for_dataset function:\n",
    "outlier_stats = utils.count_z_score_outliers_for_dataset(dataset, threshold=3)\n",
    "\n",
    "#Uncomment the lines below to print the results for each variable\n",
    "print(\"OUTLIER VALUE REPORT:\")\n",
    "for stats in outlier_stats:\n",
    "    for key, value in stats.items():\n",
    "        print(f\"    > {key}: {value}\")\n",
    "    print(\"-\" * 50)"
   ]
  },
  {
   "cell_type": "markdown",
   "id": "ad80647b-e571-4b0c-a291-c75c76b867fd",
   "metadata": {},
   "source": [
    "### Gridded data\n"
   ]
  },
  {
   "cell_type": "code",
   "execution_count": 22,
   "id": "45f3adc6-7550-488b-923d-c3d17a912b89",
   "metadata": {},
   "outputs": [
    {
     "data": {
      "application/vnd.jupyter.widget-view+json": {
       "model_id": "7a75eb1189504820b54189aa295175bb",
       "version_major": 2,
       "version_minor": 0
      },
      "text/plain": [
       "Combobox(value='', description='5.3 Is the data gridded (regularly sampled in time and space)?', layout=Layout…"
      ]
     },
     "metadata": {},
     "output_type": "display_data"
    },
    {
     "data": {
      "application/vnd.jupyter.widget-view+json": {
       "model_id": "b204b76618054b299bf43fe52d2f039b",
       "version_major": 2,
       "version_minor": 0
      },
      "text/plain": [
       "Combobox(value='', description='If the data is gridded, was it transformed from a different original sampling?…"
      ]
     },
     "metadata": {},
     "output_type": "display_data"
    },
    {
     "data": {
      "application/vnd.jupyter.widget-view+json": {
       "model_id": "b4d2dc92f4b64007b3fba45612fefc3f",
       "version_major": 2,
       "version_minor": 0
      },
      "text/plain": [
       "Combobox(value='', description='If the data is resampled from the original sampling, is the data also availabl…"
      ]
     },
     "metadata": {},
     "output_type": "display_data"
    }
   ],
   "source": [
    "\n",
    "dataset_gridded = widgets.Combobox(\n",
    "            value=checklist['DataPreparation']['Gridded'],\n",
    "            options=['Regularly gridded in space', 'Constant time-frequency', 'Regularly gridded in space and constant time-frequency', 'Not gridded', 'N/A'],\n",
    "            description='5.3 Is the data gridded (regularly sampled in time and space)?',\n",
    "            placeholder=PLACEHOLDER,\n",
    "            layout=widgets.Layout(width=WIDGET_WIDTH),\n",
    "            style = DESCRIPTION_STYLE\n",
    "            )\n",
    "\n",
    "dataset_gridded_transformed = widgets.Combobox(\n",
    "            value=checklist['DataPreparation']['TransformedFromOriginal'],\n",
    "            options=['Yes, from irregular sampling', 'Yes, from a different regular sampling', 'No, this is the original sampling', 'N/A'],\n",
    "            description='If the data is gridded, was it transformed from a different original sampling?',            \n",
    "            placeholder=PLACEHOLDER,\n",
    "            layout=widgets.Layout(width=WIDGET_WIDTH),\n",
    "            style = DESCRIPTION_STYLE\n",
    "            )\n",
    "\n",
    "\n",
    "dataset_gridded_original_sample = widgets.Combobox(\n",
    "            value=checklist['DataPreparation']['OriginalSamplingAvailable'],\n",
    "            options=['Yes', 'No', 'Only by request', 'N/A'],\n",
    "            description = 'If the data is resampled from the original sampling, is the data also available at the original sampling?',\n",
    "            placeholder=PLACEHOLDER,\n",
    "            layout=widgets.Layout(width=WIDGET_WIDTH),\n",
    "            style = DESCRIPTION_STYLE\n",
    "            )\n",
    "\n",
    "display(dataset_gridded, dataset_gridded_transformed, dataset_gridded_original_sample)"
   ]
  },
  {
   "cell_type": "code",
   "execution_count": 23,
   "id": "382f0c1b-1492-4af4-a558-ef443dca48a7",
   "metadata": {},
   "outputs": [
    {
     "name": "stderr",
     "output_type": "stream",
     "text": [
      "Latitude and/or Longitude coordinates not found in the dataset.\n",
      "Time coordinate not found in the dataset.\n",
      "Latitude and/or Longitude coordinates not found in the dataset.\n",
      "Time coordinate not found in the dataset.\n"
     ]
    },
    {
     "ename": "TypeError",
     "evalue": "'NoneType' object is not subscriptable",
     "output_type": "error",
     "traceback": [
      "\u001b[0;31m---------------------------------------------------------------------------\u001b[0m",
      "\u001b[0;31mTypeError\u001b[0m                                 Traceback (most recent call last)",
      "Cell \u001b[0;32mIn[23], line 9\u001b[0m\n\u001b[1;32m      7\u001b[0m temporal_consistency \u001b[38;5;241m=\u001b[39m gridded\u001b[38;5;241m.\u001b[39mcheck_temporal_consistency(dataset)\n\u001b[1;32m      8\u001b[0m \u001b[38;5;66;03m# Uncomment the lines below to print the results from the 4 functions above. \u001b[39;00m\n\u001b[0;32m----> 9\u001b[0m \u001b[38;5;28mprint\u001b[39m(\u001b[38;5;124mf\u001b[39m\u001b[38;5;124m\"\u001b[39m\u001b[38;5;124mSpatial resolution: Latitude \u001b[39m\u001b[38;5;132;01m{\u001b[39;00m\u001b[43mresolution\u001b[49m\u001b[43m[\u001b[49m\u001b[38;5;241;43m0\u001b[39;49m\u001b[43m]\u001b[49m\u001b[38;5;132;01m}\u001b[39;00m\u001b[38;5;124m deg, Longitude \u001b[39m\u001b[38;5;132;01m{\u001b[39;00mresolution[\u001b[38;5;241m1\u001b[39m]\u001b[38;5;132;01m}\u001b[39;00m\u001b[38;5;124m deg\u001b[39m\u001b[38;5;124m\"\u001b[39m)\n\u001b[1;32m     10\u001b[0m \u001b[38;5;28mprint\u001b[39m(\u001b[38;5;124mf\u001b[39m\u001b[38;5;124m\"\u001b[39m\u001b[38;5;124mSpatial coverage: Latitude \u001b[39m\u001b[38;5;132;01m{\u001b[39;00mcoverage[\u001b[38;5;124m'\u001b[39m\u001b[38;5;124mlatitude\u001b[39m\u001b[38;5;124m'\u001b[39m][\u001b[38;5;241m0\u001b[39m]\u001b[38;5;132;01m}\u001b[39;00m\u001b[38;5;124m to \u001b[39m\u001b[38;5;132;01m{\u001b[39;00mcoverage[\u001b[38;5;124m'\u001b[39m\u001b[38;5;124mlatitude\u001b[39m\u001b[38;5;124m'\u001b[39m][\u001b[38;5;241m1\u001b[39m]\u001b[38;5;132;01m}\u001b[39;00m\u001b[38;5;124m, Longitude \u001b[39m\u001b[38;5;132;01m{\u001b[39;00mcoverage[\u001b[38;5;124m'\u001b[39m\u001b[38;5;124mlongitude\u001b[39m\u001b[38;5;124m'\u001b[39m][\u001b[38;5;241m0\u001b[39m]\u001b[38;5;132;01m}\u001b[39;00m\u001b[38;5;124m to \u001b[39m\u001b[38;5;132;01m{\u001b[39;00mcoverage[\u001b[38;5;124m'\u001b[39m\u001b[38;5;124mlongitude\u001b[39m\u001b[38;5;124m'\u001b[39m][\u001b[38;5;241m1\u001b[39m]\u001b[38;5;132;01m}\u001b[39;00m\u001b[38;5;124m\"\u001b[39m)\n\u001b[1;32m     11\u001b[0m \u001b[38;5;28mprint\u001b[39m(\u001b[38;5;124m\"\u001b[39m\u001b[38;5;124mTemporal resolution:\u001b[39m\u001b[38;5;124m\"\u001b[39m, temporal_resolution)\n",
      "\u001b[0;31mTypeError\u001b[0m: 'NoneType' object is not subscriptable"
     ]
    }
   ],
   "source": [
    "# The functions and information found in notebook 1 (part 2) might prove useful to answer some of the questions above. \n",
    "\n",
    "# Uncomment the 4 lines below to run various functions to check spatial and temporal information:\n",
    "resolution, coverage = gridded.get_spatial_resolution_and_coverage(dataset)\n",
    "temporal_resolution, temporal_coverage = gridded.get_temporal_resolution_and_coverage(dataset)\n",
    "spatial_consistency = gridded.check_spatial_consistency(dataset)\n",
    "temporal_consistency = gridded.check_temporal_consistency(dataset)\n",
    "# # Uncomment the lines below to print the results from the 4 functions above. \n",
    "# print(f\"Spatial resolution: Latitude {resolution[0]} deg, Longitude {resolution[1]} deg\")\n",
    "# print(f\"Spatial coverage: Latitude {coverage['latitude'][0]} to {coverage['latitude'][1]}, Longitude {coverage['longitude'][0]} to {coverage['longitude'][1]}\")\n",
    "# print(\"Temporal resolution:\", temporal_resolution)\n",
    "# print(\"Min time:\", temporal_coverage['time'][0])\n",
    "# print(\"Max time:\", temporal_coverage['time'][1])\n",
    "# \n",
    "# print(\"Spatial resolution is consistent\" if spatial_consistency == True \n",
    "#       else \"Spatial resolution not consistent\" if spatial_consistency == False\n",
    "#       else \"Unable to determin spatial resolution consistency\")\n",
    "# print(\"Temporal resolution is consistent\" if temporal_consistency == True \n",
    "#       else \"Temporal resolution not consistent\" if temporal_consistency == False\n",
    "#       else \"Unable to determin temporal resolution consistency\")"
   ]
  },
  {
   "cell_type": "markdown",
   "id": "55a87005-4929-45c3-a2f6-f0b4eec60de8",
   "metadata": {},
   "source": [
    "### Targets / labels for supervised learning"
   ]
  },
  {
   "cell_type": "code",
   "execution_count": 24,
   "id": "e7447fb9-566f-4b99-b5ec-afc9ccc05954",
   "metadata": {},
   "outputs": [
    {
     "data": {
      "application/vnd.jupyter.widget-view+json": {
       "model_id": "69ddc0872d844133b9e9438ce9ff527e",
       "version_major": 2,
       "version_minor": 0
      },
      "text/plain": [
       "Combobox(value='', description='5.4 Are there associated targets or labels for supervised learning techniques?…"
      ]
     },
     "metadata": {},
     "output_type": "display_data"
    },
    {
     "data": {
      "application/vnd.jupyter.widget-view+json": {
       "model_id": "e275b1c87ebe475fa7f2e09a4192f663",
       "version_major": 2,
       "version_minor": 0
      },
      "text/plain": [
       "Label(value='If there are associated targets/labels, are community labeling standards implemented?')"
      ]
     },
     "metadata": {},
     "output_type": "display_data"
    },
    {
     "data": {
      "application/vnd.jupyter.widget-view+json": {
       "model_id": "fb9422bf0ba04536881b73e92e8bbd6f",
       "version_major": 2,
       "version_minor": 0
      },
      "text/plain": [
       "Text(value='', layout=Layout(width='900px'), placeholder='e.g., STAC label extension, ESA AIREO specification,…"
      ]
     },
     "metadata": {},
     "output_type": "display_data"
    }
   ],
   "source": [
    "\n",
    "dataset_targets_or_labels = widgets.Combobox(\n",
    "            value=checklist['DataPreparation']['SupervisedLearningLabels'],\n",
    "            options=['Yes', 'No', 'N/A'],\n",
    "            description = '5.4 Are there associated targets or labels for supervised learning techniques?',\n",
    "            placeholder='Click to select option - (Can this be used as a training dataset)?',\n",
    "            layout=widgets.Layout(width=WIDGET_WIDTH),\n",
    "            style = DESCRIPTION_STYLE\n",
    "            )\n",
    "\n",
    "dataset_targets_or_labels_standards_label = widgets.Label(\n",
    "    value = \"If there are associated targets/labels, are community labeling standards implemented?\"\n",
    ")\n",
    "\n",
    "dataset_targets_or_labels_standards = widgets.Text(\n",
    "            value=checklist['DataPreparation']['SupervisedLearningLabelStandards'],\n",
    "            placeholder = 'e.g., STAC label extension, ESA AIREO specification, etc.',\n",
    "            layout = widgets.Layout(width=WIDGET_WIDTH)\n",
    ")\n",
    "\n",
    "display(dataset_targets_or_labels, dataset_targets_or_labels_standards_label, dataset_targets_or_labels_standards)"
   ]
  },
  {
   "cell_type": "code",
   "execution_count": 25,
   "id": "a12da54d-ed9f-4c2b-8f0d-dc19a82309e7",
   "metadata": {},
   "outputs": [
    {
     "data": {
      "application/vnd.jupyter.widget-view+json": {
       "model_id": "c93f1f32457940acadefb55fb0ba799a",
       "version_major": 2,
       "version_minor": 0
      },
      "text/plain": [
       "Button(button_style='primary', description='Save Data Access Answers to json file', layout=Layout(flex='1 1 au…"
      ]
     },
     "metadata": {},
     "output_type": "display_data"
    }
   ],
   "source": [
    "\n",
    "# Save button\n",
    "save_button = widgets.Button(description=\"Save Data Access Answers to json file\",  button_style=\"primary\",  layout=widgets.Layout(flex='1 1 auto', width='auto'))\n",
    "\n",
    "def generate_updates_preparation():\n",
    "\n",
    "    updates = {\n",
    "        \"DataPreparation\": {\n",
    "            \"NullValuesFilled\": dataset_null_values.value,\n",
    "            \"OutliersIdentified\": dataset_outliers.value,\n",
    "            \"Gridded\": dataset_gridded.value,\n",
    "            \"TransformedFromOriginal\": dataset_gridded_transformed.value,\n",
    "            \"OriginalSamplingAvailable\": dataset_gridded_original_sample.value, \n",
    "            \"SupervisedLearningLabels\" : dataset_targets_or_labels.value,\n",
    "            \"SupervisedLearningLabelStandards\" : dataset_targets_or_labels_standards.value,\n",
    "          \n",
    "        }\n",
    "    }\n",
    "    return updates\n",
    "\n",
    "save_button.on_click(lambda b: utils.update_checklist(b, generate_updates_preparation()))\n",
    "\n",
    "display(save_button)"
   ]
  },
  {
   "cell_type": "markdown",
   "id": "3824aa9e-9d66-4a2e-a1a2-60139f7c30dd",
   "metadata": {},
   "source": [
    "## Finished"
   ]
  },
  {
   "cell_type": "code",
   "execution_count": 26,
   "id": "d35683fe-7d9f-40fa-81fa-99f926702fd6",
   "metadata": {},
   "outputs": [
    {
     "data": {
      "application/vnd.jupyter.widget-view+json": {
       "model_id": "3bb41ce6500c49b98b3bea7b8c62f65a",
       "version_major": 2,
       "version_minor": 0
      },
      "text/plain": [
       "Button(button_style='info', description='Print json results', layout=Layout(flex='1 1 auto', width='auto'), st…"
      ]
     },
     "metadata": {},
     "output_type": "display_data"
    },
    {
     "data": {
      "application/vnd.jupyter.widget-view+json": {
       "model_id": "e109bc3e443843079a2087c920af56c1",
       "version_major": 2,
       "version_minor": 0
      },
      "text/plain": [
       "Output()"
      ]
     },
     "metadata": {},
     "output_type": "display_data"
    }
   ],
   "source": [
    "\n",
    "button_print_json = widgets.Button(description=\"Print json results\",  button_style='info', layout=widgets.Layout(flex='1 1 auto', width='auto'))\n",
    "output = widgets.Output()\n",
    "\n",
    "display(button_print_json, output)\n",
    "\n",
    "def print_json_info(b):\n",
    "    \"\"\"\n",
    "    Loads a copy of the json file to checklist variable. \n",
    "    Then prints the json file contents to Jupyter notebook cell output.\n",
    "\n",
    "    Arguments: b - represents the button calling the function. \n",
    "    \"\"\"\n",
    "    checklist = utils.load_checklist()\n",
    "    with output:\n",
    "        clear_output()\n",
    "        for key, value in checklist.items():\n",
    "            print(f\"{key}:\")\n",
    "            if isinstance(value, dict):\n",
    "                for sub_key, sub_value in value.items():\n",
    "                    print(f\"  {sub_key}: {sub_value}\")\n",
    "            else:\n",
    "                print(f\"  {value}\")\n",
    "\n",
    "button_print_json.on_click(print_json_info)\n"
   ]
  },
  {
   "cell_type": "markdown",
   "id": "c760fc3b-f413-46e4-8a76-31684d83a2d2",
   "metadata": {},
   "source": [
    "---\n",
    "\n",
    "## **Appendix** - Definition of terms used in the checklist."
   ]
  },
  {
   "cell_type": "code",
   "execution_count": null,
   "id": "3624f837-587f-4712-9583-6ce3fce3da80",
   "metadata": {},
   "outputs": [],
   "source": []
  }
 ],
 "metadata": {
  "kernelspec": {
   "display_name": "data_readiness",
   "language": "python",
   "name": "data_readiness"
  },
  "language_info": {
   "codemirror_mode": {
    "name": "ipython",
    "version": 3
   },
   "file_extension": ".py",
   "mimetype": "text/x-python",
   "name": "python",
   "nbconvert_exporter": "python",
   "pygments_lexer": "ipython3",
   "version": "3.10.16"
  },
  "widgets": {
   "application/vnd.jupyter.widget-state+json": {
    "state": {
     "0fa12dbe3cb34c03af248cb7671cbfde": {
      "model_module": "@jupyter-widgets/base",
      "model_module_version": "2.0.0",
      "model_name": "LayoutModel",
      "state": {
       "width": "900px"
      }
     },
     "25ff37f7ace84f23aaa88dcc0de062d6": {
      "model_module": "@jupyter-widgets/base",
      "model_module_version": "2.0.0",
      "model_name": "LayoutModel",
      "state": {
       "width": "900px"
      }
     },
     "296fa93c63bb41e086a95c0593880600": {
      "model_module": "@jupyter-widgets/controls",
      "model_module_version": "2.0.0",
      "model_name": "TextStyleModel",
      "state": {
       "description_width": "initial",
       "font_size": null,
       "text_color": null
      }
     },
     "2e8819b59da64283bbfa3254a0570492": {
      "model_module": "@jupyter-widgets/controls",
      "model_module_version": "2.0.0",
      "model_name": "ComboboxModel",
      "state": {
       "description": "5.4 Are there associated targets or labels for supervised learning techniques?",
       "ensure_option": false,
       "layout": "IPY_MODEL_3b2aaa2d5f444d73a36247add3450e50",
       "options": [
        "Yes",
        "No",
        "N/A"
       ],
       "placeholder": "Click to select option - (Can this be used as a training dataset)?",
       "style": "IPY_MODEL_f4a154fbc5a34d77b33df161c8524b7d"
      }
     },
     "2f1fee6ccb5e403e8eb098487935e5ee": {
      "model_module": "@jupyter-widgets/base",
      "model_module_version": "2.0.0",
      "model_name": "LayoutModel",
      "state": {
       "flex": "1 1 auto",
       "width": "auto"
      }
     },
     "2fa501ad3fcc4208b39be8bcdd03b670": {
      "model_module": "@jupyter-widgets/base",
      "model_module_version": "2.0.0",
      "model_name": "LayoutModel",
      "state": {
       "flex": "1 1 auto",
       "width": "auto"
      }
     },
     "311d4570f0be4782919e604e3f95a833": {
      "model_module": "@jupyter-widgets/base",
      "model_module_version": "2.0.0",
      "model_name": "LayoutModel",
      "state": {
       "width": "900px"
      }
     },
     "31cf04e124dd48f797700056d079c4e4": {
      "model_module": "@jupyter-widgets/output",
      "model_module_version": "1.0.0",
      "model_name": "OutputModel",
      "state": {
       "layout": "IPY_MODEL_a041dd4e5a044a1c9ca603495abe1f2d"
      }
     },
     "3b2aaa2d5f444d73a36247add3450e50": {
      "model_module": "@jupyter-widgets/base",
      "model_module_version": "2.0.0",
      "model_name": "LayoutModel",
      "state": {
       "width": "900px"
      }
     },
     "3b90a645074c4d3c9ebe84fb5e7abaff": {
      "model_module": "@jupyter-widgets/controls",
      "model_module_version": "2.0.0",
      "model_name": "TextStyleModel",
      "state": {
       "description_width": "initial",
       "font_size": null,
       "text_color": null
      }
     },
     "3dd2ff316d6b4910aabb5538cd6d9213": {
      "model_module": "@jupyter-widgets/controls",
      "model_module_version": "2.0.0",
      "model_name": "ButtonStyleModel",
      "state": {
       "font_family": null,
       "font_size": null,
       "font_style": null,
       "font_variant": null,
       "font_weight": null,
       "text_color": null,
       "text_decoration": null
      }
     },
     "3f647e266b764fd6a10f16eecaa5570d": {
      "model_module": "@jupyter-widgets/controls",
      "model_module_version": "2.0.0",
      "model_name": "ComboboxModel",
      "state": {
       "description": "If the data is resampled from the original sampling, is the data also available at the original sampling?",
       "ensure_option": false,
       "layout": "IPY_MODEL_311d4570f0be4782919e604e3f95a833",
       "options": [
        "Yes",
        "No",
        "Only by request",
        "N/A"
       ],
       "placeholder": "Click to select option",
       "style": "IPY_MODEL_a4401f7a6d574200a037fba212e23968"
      }
     },
     "4cb3e09c82a54bf6bd5fa497f85350a0": {
      "model_module": "@jupyter-widgets/controls",
      "model_module_version": "2.0.0",
      "model_name": "LabelModel",
      "state": {
       "layout": "IPY_MODEL_78453e7ab4f347108a89e9901461b452",
       "style": "IPY_MODEL_a3ef5f5803c84a2fbd1d3f04e062b3ac",
       "value": "If there are associated targets/labels, are community labeling standards implemented?"
      }
     },
     "4eff81c7177c46b1bd65c589c1b6c6b0": {
      "model_module": "@jupyter-widgets/base",
      "model_module_version": "2.0.0",
      "model_name": "LayoutModel",
      "state": {
       "width": "900px"
      }
     },
     "78453e7ab4f347108a89e9901461b452": {
      "model_module": "@jupyter-widgets/base",
      "model_module_version": "2.0.0",
      "model_name": "LayoutModel",
      "state": {}
     },
     "7f64f58e3d7b4e2c8d3cd972737ed811": {
      "model_module": "@jupyter-widgets/controls",
      "model_module_version": "2.0.0",
      "model_name": "TextStyleModel",
      "state": {
       "description_width": "initial",
       "font_size": null,
       "text_color": null
      }
     },
     "8207d3592023491e9aaa14687d503282": {
      "model_module": "@jupyter-widgets/controls",
      "model_module_version": "2.0.0",
      "model_name": "ButtonStyleModel",
      "state": {
       "font_family": null,
       "font_size": null,
       "font_style": null,
       "font_variant": null,
       "font_weight": null,
       "text_color": null,
       "text_decoration": null
      }
     },
     "8f46290dfc844082a6211cb4500fa474": {
      "model_module": "@jupyter-widgets/base",
      "model_module_version": "2.0.0",
      "model_name": "LayoutModel",
      "state": {
       "width": "900px"
      }
     },
     "a041dd4e5a044a1c9ca603495abe1f2d": {
      "model_module": "@jupyter-widgets/base",
      "model_module_version": "2.0.0",
      "model_name": "LayoutModel",
      "state": {}
     },
     "a3ef5f5803c84a2fbd1d3f04e062b3ac": {
      "model_module": "@jupyter-widgets/controls",
      "model_module_version": "2.0.0",
      "model_name": "LabelStyleModel",
      "state": {
       "description_width": "",
       "font_family": null,
       "font_size": null,
       "font_style": null,
       "font_variant": null,
       "font_weight": null,
       "text_color": null,
       "text_decoration": null
      }
     },
     "a4401f7a6d574200a037fba212e23968": {
      "model_module": "@jupyter-widgets/controls",
      "model_module_version": "2.0.0",
      "model_name": "TextStyleModel",
      "state": {
       "description_width": "initial",
       "font_size": null,
       "text_color": null
      }
     },
     "a7bfece1a3f74c71aade076e6c3fdb6a": {
      "model_module": "@jupyter-widgets/controls",
      "model_module_version": "2.0.0",
      "model_name": "ComboboxModel",
      "state": {
       "description": "5.1 Have null values/gaps been filled?",
       "ensure_option": false,
       "layout": "IPY_MODEL_25ff37f7ace84f23aaa88dcc0de062d6",
       "options": [
        "Yes",
        "No",
        "N/A"
       ],
       "placeholder": "Click to select option",
       "style": "IPY_MODEL_296fa93c63bb41e086a95c0593880600"
      }
     },
     "acb5f1d0845d4d00a7eb7b3394978ce8": {
      "model_module": "@jupyter-widgets/controls",
      "model_module_version": "2.0.0",
      "model_name": "ButtonModel",
      "state": {
       "button_style": "info",
       "description": "Print json results",
       "layout": "IPY_MODEL_2f1fee6ccb5e403e8eb098487935e5ee",
       "style": "IPY_MODEL_8207d3592023491e9aaa14687d503282",
       "tooltip": null
      }
     },
     "b57641f399754f36b42cd83841d9994b": {
      "model_module": "@jupyter-widgets/controls",
      "model_module_version": "2.0.0",
      "model_name": "ButtonModel",
      "state": {
       "button_style": "primary",
       "description": "Save Data Access Answers to json file",
       "layout": "IPY_MODEL_2fa501ad3fcc4208b39be8bcdd03b670",
       "style": "IPY_MODEL_3dd2ff316d6b4910aabb5538cd6d9213",
       "tooltip": null
      }
     },
     "b79c214b659d4aae8b85740f8e5e3c7c": {
      "model_module": "@jupyter-widgets/controls",
      "model_module_version": "2.0.0",
      "model_name": "ComboboxModel",
      "state": {
       "description": "5.2 Have outliers been identified?",
       "ensure_option": false,
       "layout": "IPY_MODEL_8f46290dfc844082a6211cb4500fa474",
       "options": [
        "Yes, tagged ",
        "Yes, removed",
        "No",
        "N/A"
       ],
       "placeholder": "Click to select option",
       "style": "IPY_MODEL_fd60e17548ae42a88019b2b4501233a0"
      }
     },
     "e8fd2e32b0f5401aaf26d14395ac7138": {
      "model_module": "@jupyter-widgets/base",
      "model_module_version": "2.0.0",
      "model_name": "LayoutModel",
      "state": {
       "width": "900px"
      }
     },
     "ee0e814b63a9410ba83acc68cc4137bf": {
      "model_module": "@jupyter-widgets/controls",
      "model_module_version": "2.0.0",
      "model_name": "ComboboxModel",
      "state": {
       "description": "5.3 Is the data gridded (regularly sampled in time and space)?",
       "ensure_option": false,
       "layout": "IPY_MODEL_4eff81c7177c46b1bd65c589c1b6c6b0",
       "options": [
        "Regularly gridded in space",
        "Constant time-frequency",
        "Regularly gridded in space and constant time-frequency",
        "Not gridded",
        "N/A"
       ],
       "placeholder": "Click to select option",
       "style": "IPY_MODEL_3b90a645074c4d3c9ebe84fb5e7abaff"
      }
     },
     "f4a154fbc5a34d77b33df161c8524b7d": {
      "model_module": "@jupyter-widgets/controls",
      "model_module_version": "2.0.0",
      "model_name": "TextStyleModel",
      "state": {
       "description_width": "initial",
       "font_size": null,
       "text_color": null
      }
     },
     "f756331fd74f4e4f835ef9ab9ca6bca5": {
      "model_module": "@jupyter-widgets/controls",
      "model_module_version": "2.0.0",
      "model_name": "ComboboxModel",
      "state": {
       "description": "If the data is gridded, was it transformed from a different original sampling?",
       "ensure_option": false,
       "layout": "IPY_MODEL_e8fd2e32b0f5401aaf26d14395ac7138",
       "options": [
        "Yes, from irregular sampling",
        "Yes, from a different regular sampling",
        "No, this is the original sampling",
        "N/A"
       ],
       "placeholder": "Click to select option",
       "style": "IPY_MODEL_7f64f58e3d7b4e2c8d3cd972737ed811"
      }
     },
     "fafa3b62e60946ad8cfd3087b3865b53": {
      "model_module": "@jupyter-widgets/controls",
      "model_module_version": "2.0.0",
      "model_name": "TextModel",
      "state": {
       "layout": "IPY_MODEL_0fa12dbe3cb34c03af248cb7671cbfde",
       "placeholder": "e.g., STAC label extension, ESA AIREO specification, etc.",
       "style": "IPY_MODEL_fbfd491957ce4712ba006c68c7e7d78b"
      }
     },
     "fbfd491957ce4712ba006c68c7e7d78b": {
      "model_module": "@jupyter-widgets/controls",
      "model_module_version": "2.0.0",
      "model_name": "TextStyleModel",
      "state": {
       "description_width": "",
       "font_size": null,
       "text_color": null
      }
     },
     "fd60e17548ae42a88019b2b4501233a0": {
      "model_module": "@jupyter-widgets/controls",
      "model_module_version": "2.0.0",
      "model_name": "TextStyleModel",
      "state": {
       "description_width": "initial",
       "font_size": null,
       "text_color": null
      }
     }
    },
    "version_major": 2,
    "version_minor": 0
   }
  }
 },
 "nbformat": 4,
 "nbformat_minor": 5
}
