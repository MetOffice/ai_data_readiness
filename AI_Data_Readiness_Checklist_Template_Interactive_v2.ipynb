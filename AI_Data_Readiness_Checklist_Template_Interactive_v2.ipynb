{
 "cells": [
  {
   "cell_type": "markdown",
   "id": "1e08378b-6bbe-4203-8b90-1bed8c97a679",
   "metadata": {
    "editable": true,
    "slideshow": {
     "slide_type": ""
    },
    "tags": []
   },
   "source": [
    "<script src=\"https://unpkg.com/thebe@latest/lib/index.js\"></script>\n",
    "<script type=\"text/javascript\">\n",
    "    thebelab.bootstrap();\n",
    "</script>"
   ]
  },
  {
   "cell_type": "markdown",
   "id": "f8198bd3-3e2a-444f-bff5-c9647a804ca9",
   "metadata": {
    "editable": true,
    "slideshow": {
     "slide_type": ""
    },
    "tags": []
   },
   "source": [
    "# **Data Readiness For AI Checklist**\n",
    "\n",
    " * Creator(s) John Pill\n",
    " * Affiliation: UK Met Office\n",
    " * History: 1.0\n",
    " * Last update: 27 August 2024.\n",
    "\n",
    "\n",
    "---"
   ]
  },
  {
   "cell_type": "markdown",
   "id": "6ac1eb47-ae19-48f9-8a66-268b970dc97c",
   "metadata": {},
   "source": [
    "## **Overview**\n",
    "The checklist is developed using the 2019 draft readiness matrix developed by the Office of Science and Technology Policy Subcommittee on Open Science as a basis. The checklist has been improved based on further research and user feedback. Definitions for some concepts are listed at the end of this document. This checklist is developed through a collaboration of ESIP Data Readiness Cluster members include representatives from NOAA, NASA, USGS, and other organizations. The checklist will be updated periodically to reflect community feedback.\n",
    "\n",
    "ESIP Data Readiness Cluster (2023): Checklist to Examine AI-readiness for Open Environmental Datasets v.1.0. ESIP. Online resource. https://doi.org/10.6084/m9.figshare.19983722.v1\n",
    "\n",
    "Readiness Matrix (2020): What is AI-Ready Open Data? NOAA. Online resource. https://www.star.nesdis.noaa.gov/star/documents/meetings/2020AI/presentations/202010/20201022_Christensen.pdf\n",
    "\n",
    "### Prerequisites\n",
    "Ideally for AI-ready assessment, a dataset should be defined as the minimum measurable bundle (i.e., a physical parameter/variable of observational datasets or model simulations). The assessment at this scale will enable better integration of data from different sources for research and development. However, it can be an intensive process for manual assessment without automation. Therefore, we recommend current assessments be done on the data file level. If the dataset has different versions, the checklist should be applied to each dataset type (e.g. raw, derived).\n",
    "\n",
    "### Learning Outcomes\n",
    "* Know how to check a range of dataset features. \n",
    "* Assess a wide range of dataset features, which will impact the dataset's 'readiness' for machine learning.  \n",
    "\n",
    "\n",
    "---"
   ]
  },
  {
   "cell_type": "markdown",
   "id": "4fa896be-aa57-4cb7-b376-80fd9c4e0160",
   "metadata": {
    "editable": true,
    "slideshow": {
     "slide_type": ""
    },
    "tags": []
   },
   "source": [
    "# **TODO TASKS** \n",
    "**Consider what to do at the end of the checklist:**\n",
    "* Add export functions for different formats (CSV, JSON, etc.)\n",
    "\n",
    "**Change all if statement else clauses from setting default values from N/A to None**\n",
    "\n",
    "**Consider if its possible to extract helper functions and widget code to external code files which can be shared to the multiple notebooks and abstract code which isn't necessary for this notebook activity**  \n",
    "\n",
    "**Check code cells marked as hidden in cell metadata stay hidden when opened fresh by a new user**\n",
    "\n",
    "**Required for attempting to run cells programmatically but not working currently.**\n",
    "* import nbformat\n",
    "* from nbclient import NotebookClient\n"
   ]
  },
  {
   "cell_type": "markdown",
   "id": "f61ad742-0a6d-4b49-83f3-a4bb1828975e",
   "metadata": {},
   "source": [
    "## **Tutorial Material TODO**\n",
    "\n",
    "\n",
    "Remember to save your notebook regularly as you work through it to prevent loosing your answers.\n",
    "\n",
    "\n",
    "### **Run this Jupyter notebook locally using Jupyter Lab**\n",
    "* **Add download and running instructions**\n",
    "* **May need to 'run all cells' to generate checklist - need to test**.\n",
    "\n",
    "\n",
    "### Data section, optional\n",
    "Scripts for pulling the data into the notebook assuming\n"
   ]
  },
  {
   "cell_type": "markdown",
   "id": "f6840884-d7bb-43fa-a3e3-8c4106c435e5",
   "metadata": {},
   "source": [
    "## **Setup Notebook**"
   ]
  },
  {
   "cell_type": "code",
   "execution_count": 1,
   "id": "5b5a42bb-1da9-4460-a6a0-8d85063fd096",
   "metadata": {
    "editable": true,
    "slideshow": {
     "slide_type": ""
    },
    "tags": []
   },
   "outputs": [],
   "source": [
    "import ipywidgets as widgets\n",
    "from IPython.display import display, clear_output\n",
    "import json"
   ]
  },
  {
   "cell_type": "code",
   "execution_count": 2,
   "id": "aaad190a-ddeb-4434-a8cd-5e3287aadfda",
   "metadata": {
    "editable": true,
    "jupyter": {
     "source_hidden": true
    },
    "slideshow": {
     "slide_type": ""
    },
    "tags": []
   },
   "outputs": [],
   "source": [
    "# Default properties and helper functions. \n",
    "\n",
    "# Default properties\n",
    "checklist_filename = \"Data_Readiness_Checklist.json\"\n",
    "widget_width = '900px'\n",
    "description_style = {'description_width': 'initial'}\n",
    "placeholder = 'Click to select option'\n",
    "\n",
    "# Helper functions.\n",
    "def load_checklist():\n",
    "    with open(checklist_filename, \"r\") as file:\n",
    "        return json.load(file)\n",
    "\n",
    "def save_checklist(checklist):\n",
    "    with open(checklist_filename, \"w\") as file:\n",
    "        json.dump(checklist, file, indent=4)\n",
    "\n",
    "def update_values(checklist, updates):\n",
    "    for section, section_updates in updates.items():\n",
    "        if section in checklist:\n",
    "            for key, value in section_updates.items():\n",
    "                checklist[section][key] = value\n",
    "        else: \n",
    "            checklist[section] = section_updates\n",
    "    return checklist\n",
    "    \n",
    "def update_checklist(b, updates):\n",
    "    checklist = load_checklist() # Open json file\n",
    "    checklist = update_values(checklist, updates) # update the values in the Jupyter checklist\n",
    "    save_checklist(checklist) # Save the updated checklist to JSON fil\n",
    "  \n"
   ]
  },
  {
   "cell_type": "code",
   "execution_count": 3,
   "id": "0b769970-71ed-48a7-95fb-da873b6330c8",
   "metadata": {},
   "outputs": [],
   "source": [
    "# Load checklist from JSON file:\n",
    "checklist = load_checklist()"
   ]
  },
  {
   "cell_type": "code",
   "execution_count": 4,
   "id": "9786bcc8-d187-423f-8c2d-4124f6acee6b",
   "metadata": {
    "editable": true,
    "jupyter": {
     "source_hidden": true
    },
    "slideshow": {
     "slide_type": ""
    },
    "tags": []
   },
   "outputs": [
    {
     "data": {
      "application/vnd.jupyter.widget-view+json": {
       "model_id": "83ee81292dfb483fb6e4fb05dfe13f23",
       "version_major": 2,
       "version_minor": 0
      },
      "text/plain": [
       "Button(button_style='warning', description='Restore answers', style=ButtonStyle())"
      ]
     },
     "metadata": {},
     "output_type": "display_data"
    }
   ],
   "source": [
    "# TODO - Can't get tagged cells to reload as when they do they don't recognise previously defined variables. Currently works if you press this button then reload individual cells manually. \n",
    "\n",
    "restore_button = widgets.Button(description=\"Restore answers\",  button_style=\"warning\")\n",
    "display(restore_button)\n",
    "\n",
    "\n",
    "def load_checklist_from_json(b):\n",
    "     # Open json file\n",
    "    with open(\"Data_Readiness_Checklist.json\", \"r\") as file:\n",
    "        checklist = json.load(file)\n",
    "\n",
    "\n",
    "    # # Reload cells with the \"thebe-init\" tag\n",
    "    # with open(\"AI_Data_Readiness_Checklist_Template_Interactive_v2.ipynb\") as file:\n",
    "    #     nb = nbformat.read(file, as_version=4)\n",
    "\n",
    "    # client = NotebookClient(nb)\n",
    "    \n",
    "    # with client.setup_kernel():\n",
    "    #     for index, cell in enumerate(nb.cells):\n",
    "    #         if 'tags' in cell['metadata'] and 'thebe-init' in cell['metadata']['tags']:\n",
    "    #             client.execute_cell(cell, cell_index=index)\n",
    "\n",
    "\n",
    "restore_button.on_click(load_checklist_from_json)"
   ]
  },
  {
   "cell_type": "markdown",
   "id": "3bf24dda-6822-45ae-a005-6d2f4138e7a8",
   "metadata": {
    "editable": true,
    "slideshow": {
     "slide_type": ""
    },
    "tags": []
   },
   "source": [
    "---\n",
    "\n",
    "## **1. Dataset General Info**\n"
   ]
  },
  {
   "cell_type": "markdown",
   "id": "6faea870-624c-4cb6-8bfa-d93a4a16aea0",
   "metadata": {
    "editable": true,
    "slideshow": {
     "slide_type": ""
    },
    "tags": []
   },
   "source": [
    "### Basic details"
   ]
  },
  {
   "cell_type": "code",
   "execution_count": 5,
   "id": "e6f9be9b-7e01-4210-8b77-8b0632be47a8",
   "metadata": {
    "editable": true,
    "jupyter": {
     "source_hidden": true
    },
    "slideshow": {
     "slide_type": ""
    },
    "tags": [
     "thebe-init"
    ]
   },
   "outputs": [
    {
     "data": {
      "application/vnd.jupyter.widget-view+json": {
       "model_id": "632d4c968d7c42788fa927bbbbf66ea6",
       "version_major": 2,
       "version_minor": 0
      },
      "text/plain": [
       "Text(value='Weather dataset 5', description='1.1 Dataset name:', layout=Layout(width='900px'), style=TextStyle…"
      ]
     },
     "metadata": {},
     "output_type": "display_data"
    },
    {
     "data": {
      "application/vnd.jupyter.widget-view+json": {
       "model_id": "9b886a60d7114df0bc0d7fd130ababd6",
       "version_major": 2,
       "version_minor": 0
      },
      "text/plain": [
       "Text(value='1.8', description='1.2. Dataset version:', layout=Layout(width='900px'), style=TextStyle(descripti…"
      ]
     },
     "metadata": {},
     "output_type": "display_data"
    },
    {
     "data": {
      "application/vnd.jupyter.widget-view+json": {
       "model_id": "4231239abe964b04a1c48051bedd2a63",
       "version_major": 2,
       "version_minor": 0
      },
      "text/plain": [
       "Text(value='www.dataset2.com', description='1.3. Location / url link:', layout=Layout(width='900px'), style=Te…"
      ]
     },
     "metadata": {},
     "output_type": "display_data"
    },
    {
     "data": {
      "application/vnd.jupyter.widget-view+json": {
       "model_id": "4bb0de7a5b684694ab224e5fbb96284e",
       "version_major": 2,
       "version_minor": 0
      },
      "text/plain": [
       "Text(value='John', description='1.4. Assessor name:', layout=Layout(width='900px'), style=TextStyle(descriptio…"
      ]
     },
     "metadata": {},
     "output_type": "display_data"
    },
    {
     "data": {
      "application/vnd.jupyter.widget-view+json": {
       "model_id": "cd4c131edd5745098c3ccaa0b64031d4",
       "version_major": 2,
       "version_minor": 0
      },
      "text/plain": [
       "Text(value='john2@met.com', description='1.5. Assessor email address:', layout=Layout(width='900px'), style=Te…"
      ]
     },
     "metadata": {},
     "output_type": "display_data"
    }
   ],
   "source": [
    "\n",
    "dataset_name = widgets.Text(\n",
    "    description='1.1 Dataset name:',\n",
    "    value=checklist[\"GeneralInformation\"][\"DatasetName\"],\n",
    "    layout=widgets.Layout(width=widget_width),\n",
    "    style = description_style\n",
    ")\n",
    "\n",
    "dataset_version = widgets.Text(\n",
    "    value=checklist[\"GeneralInformation\"][\"DatasetVersion\"],\n",
    "    description='1.2. Dataset version:',\n",
    "    layout=widgets.Layout(width=widget_width),\n",
    "    style = description_style\n",
    ")\n",
    "\n",
    "dataset_link = widgets.Text(\n",
    "    value=checklist[\"GeneralInformation\"][\"DatasetLink\"],\n",
    "    description='1.3. Location / url link:',\n",
    "    layout=widgets.Layout(width=widget_width),\n",
    "    style = description_style\n",
    ")\n",
    "\n",
    "dataset_assessor_name = widgets.Text(\n",
    "    value=checklist[\"GeneralInformation\"][\"AssessorName\"],\n",
    "    description='1.4. Assessor name:',\n",
    "    layout=widgets.Layout(width=widget_width),\n",
    "    style = description_style\n",
    ")\n",
    "\n",
    "dataset_assessor_email = widgets.Text(\n",
    "    value=checklist[\"GeneralInformation\"][\"AssessorEmailAddress\"],\n",
    "    description='1.5. Assessor email address:',\n",
    "    layout=widgets.Layout(width=widget_width),\n",
    "    style = description_style\n",
    ")\n",
    "\n",
    "# Display all UI components.\n",
    "display(dataset_name, dataset_version, dataset_link, dataset_assessor_name, dataset_assessor_email)"
   ]
  },
  {
   "cell_type": "markdown",
   "id": "ab7b5096-fc94-4bbb-bf29-885026e712bf",
   "metadata": {
    "editable": true,
    "slideshow": {
     "slide_type": ""
    },
    "tags": []
   },
   "source": [
    "### Dataset details"
   ]
  },
  {
   "cell_type": "code",
   "execution_count": 6,
   "id": "f336d6cb-f3c8-4f62-a175-edafcd8c73f2",
   "metadata": {
    "jupyter": {
     "source_hidden": true
    }
   },
   "outputs": [
    {
     "data": {
      "application/vnd.jupyter.widget-view+json": {
       "model_id": "1d87a66733d94af2a04e01805a5cb932",
       "version_major": 2,
       "version_minor": 0
      },
      "text/plain": [
       "Label(value='Select from the list, or type your own answer if appropriate.')"
      ]
     },
     "metadata": {},
     "output_type": "display_data"
    },
    {
     "data": {
      "application/vnd.jupyter.widget-view+json": {
       "model_id": "b50f387be3c545d99954ee83d6c0dad8",
       "version_major": 2,
       "version_minor": 0
      },
      "text/plain": [
       "Combobox(value='', description='6. Is this raw data or a derived/processed data product?', layout=Layout(width…"
      ]
     },
     "metadata": {},
     "output_type": "display_data"
    },
    {
     "data": {
      "application/vnd.jupyter.widget-view+json": {
       "model_id": "ca6932950a3a40639564bfaec0523241",
       "version_major": 2,
       "version_minor": 0
      },
      "text/plain": [
       "Combobox(value='', description='7. Is this observational data, simulation/model output, or synthetic data?', l…"
      ]
     },
     "metadata": {},
     "output_type": "display_data"
    },
    {
     "data": {
      "application/vnd.jupyter.widget-view+json": {
       "model_id": "c3623cdcb61e4d97a1e07058a9069d33",
       "version_major": 2,
       "version_minor": 0
      },
      "text/plain": [
       "Combobox(value='', description='8. Is the data single-source or aggregated from several sources? ', layout=Lay…"
      ]
     },
     "metadata": {},
     "output_type": "display_data"
    }
   ],
   "source": [
    "\n",
    "label = widgets.Label(value=\"Select from the list, or type your own answer if appropriate.\")\n",
    "\n",
    "raw_derived = widgets.Combobox(\n",
    "            options=['Raw', 'Derived', 'Unknown'],\n",
    "            description='6. Is this raw data or a derived/processed data product?',\n",
    "            placeholder=placeholder,\n",
    "            layout=widgets.Layout(width=widget_width),\n",
    "            style = description_style\n",
    "            )\n",
    "\n",
    "observe_model_synthetic = widgets.Combobox(\n",
    "            options=['Observed', 'Modeled', 'Synthetic'],\n",
    "            description='7. Is this observational data, simulation/model output, or synthetic data?',\n",
    "            placeholder=placeholder,\n",
    "            layout=widgets.Layout(width=widget_width),\n",
    "            style = description_style\n",
    "            )\n",
    "\n",
    "data_sources = widgets.Combobox(\n",
    "            options=['Single-source', 'Aggregated'],\n",
    "            description='8. Is the data single-source or aggregated from several sources? ',\n",
    "            placeholder=placeholder,\n",
    "            layout=widgets.Layout(width=widget_width),\n",
    "            style = description_style\n",
    "            )\n",
    "\n",
    "display(label, raw_derived, observe_model_synthetic, data_sources)"
   ]
  },
  {
   "cell_type": "code",
   "execution_count": 7,
   "id": "0fe05bfb-00c8-434d-858c-c4ae98c0efc9",
   "metadata": {
    "jupyter": {
     "source_hidden": true
    }
   },
   "outputs": [
    {
     "data": {
      "application/vnd.jupyter.widget-view+json": {
       "model_id": "3cecdbc20a5e4ee193054c8596094542",
       "version_major": 2,
       "version_minor": 0
      },
      "text/plain": [
       "Button(button_style='primary', description='Save General Information Answers to json file', layout=Layout(flex…"
      ]
     },
     "metadata": {},
     "output_type": "display_data"
    }
   ],
   "source": [
    "\n",
    "# Save button\n",
    "save_button = widgets.Button(description=\"Save General Information Answers to json file\",  button_style=\"primary\",  layout=widgets.Layout(flex='1 1 auto', width='auto'))\n",
    "\n",
    "def generate_updates_general():\n",
    "    updates = {\n",
    "        \"GeneralInformation\": {\n",
    "            \"DatasetName\": dataset_name.value,\n",
    "            \"DatasetVersion\": dataset_version.value,\n",
    "            \"DatasetLink\": dataset_link.value,\n",
    "            \"AssessorName\": dataset_assessor_name.value,\n",
    "            \"AssessorEmailAddress\": dataset_assessor_email.value,\n",
    "            \"RawOrDerived\" : raw_derived.value,\n",
    "            \"ObservedModeledSyntheticData\" : observe_model_synthetic.value,\n",
    "            \"DataSource\" : data_sources.value,\n",
    "        }\n",
    "    }\n",
    "    return updates\n",
    "\n",
    "save_button.on_click(lambda b: update_checklist(b, generate_updates_general()))\n",
    "\n",
    "display(save_button)"
   ]
  },
  {
   "cell_type": "markdown",
   "id": "7b756c71-6015-4d1a-a019-8be3355438af",
   "metadata": {},
   "source": [
    "---\n",
    "\n",
    "## **2. Data Quality**"
   ]
  },
  {
   "cell_type": "markdown",
   "id": "c5444121-9f6b-4257-90eb-b3e280c227d4",
   "metadata": {
    "editable": true,
    "slideshow": {
     "slide_type": ""
    },
    "tags": []
   },
   "source": [
    "### Data timeliness    "
   ]
  },
  {
   "cell_type": "code",
   "execution_count": 8,
   "id": "72515fef-8b32-45f0-9bdf-8d0ee82e9a1b",
   "metadata": {
    "editable": true,
    "jupyter": {
     "source_hidden": true
    },
    "slideshow": {
     "slide_type": ""
    },
    "tags": []
   },
   "outputs": [
    {
     "data": {
      "application/vnd.jupyter.widget-view+json": {
       "model_id": "01718eaadda449ddabca763dd5e89b5e",
       "version_major": 2,
       "version_minor": 0
      },
      "text/plain": [
       "Combobox(value='', description='2.1 Will the dataset be updated?', layout=Layout(width='900px'), options=('Yes…"
      ]
     },
     "metadata": {},
     "output_type": "display_data"
    },
    {
     "data": {
      "application/vnd.jupyter.widget-view+json": {
       "model_id": "180343fdcd7b4c3eb45fd81c36912eec",
       "version_major": 2,
       "version_minor": 0
      },
      "text/plain": [
       "Combobox(value='', description='If the data will be updated, how often will it be updated?', layout=Layout(dis…"
      ]
     },
     "metadata": {},
     "output_type": "display_data"
    },
    {
     "data": {
      "application/vnd.jupyter.widget-view+json": {
       "model_id": "02d16384c83142ef8048d09ec514692f",
       "version_major": 2,
       "version_minor": 0
      },
      "text/plain": [
       "Combobox(value='', description='Will there be different stages of the update?', layout=Layout(display='none', …"
      ]
     },
     "metadata": {},
     "output_type": "display_data"
    },
    {
     "data": {
      "application/vnd.jupyter.widget-view+json": {
       "model_id": "e665f69d45ae45e3bdca71da3cb511cf",
       "version_major": 2,
       "version_minor": 0
      },
      "text/plain": [
       "Text(value='', description='If yes, what is the delay between different stages?', layout=Layout(display='none'…"
      ]
     },
     "metadata": {},
     "output_type": "display_data"
    },
    {
     "data": {
      "application/vnd.jupyter.widget-view+json": {
       "model_id": "ee5853822b644a87a11c43630855a90f",
       "version_major": 2,
       "version_minor": 0
      },
      "text/plain": [
       "Combobox(value='', description='Should the new version of the dataset supersede the current version?', layout=…"
      ]
     },
     "metadata": {},
     "output_type": "display_data"
    }
   ],
   "source": [
    "\n",
    "data_update = widgets.Combobox(\n",
    "            options=['Yes', 'No'],\n",
    "            description='2.1 Will the dataset be updated?',\n",
    "            placeholder=placeholder,\n",
    "            layout=widgets.Layout(width=widget_width),\n",
    "            style = description_style\n",
    "            )\n",
    "\n",
    "data_update_frequency = widgets.Combobox(\n",
    "            options=['When data updated', 'Hourly', 'Daily', 'Weekly', 'Monthly', 'Annually', 'Other', \"N/A\"],\n",
    "            description='If the data will be updated, how often will it be updated?',\n",
    "            placeholder=placeholder,\n",
    "            layout=widgets.Layout(display='none', width=widget_width),\n",
    "            style = description_style\n",
    "            )\n",
    "\n",
    "data_update_stages = widgets.Combobox(\n",
    "            options=['Preliminary data first, then updated later', 'Full record', \"N/A\"],\n",
    "            description='Will there be different stages of the update?',\n",
    "            placeholder=placeholder,\n",
    "            layout=widgets.Layout(display='none', width=widget_width),\n",
    "            style = description_style\n",
    "            )\n",
    "\n",
    "data_update_delay = widgets.Text(\n",
    "            value='',\n",
    "            description='If yes, what is the delay between different stages?',\n",
    "            disabled=False,\n",
    "            layout=widgets.Layout(display='none', width=widget_width),\n",
    "            style = description_style\n",
    "            )\n",
    "\n",
    "data_update_supersede = widgets.Combobox(\n",
    "            options=['Yes', 'No', \"N/A\"],\n",
    "            description='Should the new version of the dataset supersede the current version?',\n",
    "            placeholder=placeholder,\n",
    "            layout=widgets.Layout(display='none', width=widget_width),\n",
    "            style = description_style\n",
    "            )\n",
    "\n",
    "# Function to change the display setting of the following UI components. \n",
    "def on_click_handler(change): \n",
    "    if change[\"new\"] == \"Yes\":\n",
    "        data_update_frequency.layout.display = ''\n",
    "        data_update_stages.layout.display = ''\n",
    "        data_update_delay.layout.display = ''\n",
    "        data_update_supersede.layout.display = ''\n",
    "    else:\n",
    "        data_update_frequency.layout.display = 'none'\n",
    "        data_update_stages.layout.display = 'none'\n",
    "        data_update_delay.layout.display = 'none'\n",
    "        data_update_supersede.layout.display = 'none'\n",
    "        \n",
    "        # Return the values back to default state if 1st option changed back.\n",
    "        data_update_frequency.value = None\n",
    "        data_update_stages.value = None\n",
    "        data_update_delay.value = \"\"\n",
    "        data_update_supersede.value = None\n",
    "        \n",
    "\n",
    "# Show UI components based on their display settings. \n",
    "display(data_update, data_update_frequency, data_update_stages, data_update_delay, data_update_supersede)\n",
    "\n",
    "# Observe the first UI component for changes and call the on_click_handler function if value property changed. \n",
    "data_update.observe(on_click_handler, names=\"value\")"
   ]
  },
  {
   "cell_type": "markdown",
   "id": "eea71f21-807f-481c-97bb-80c43427f270",
   "metadata": {},
   "source": [
    "### Data completeness"
   ]
  },
  {
   "cell_type": "code",
   "execution_count": 9,
   "id": "3884dd0c-7cc0-4c2d-9f37-4ee8e5eb5741",
   "metadata": {
    "jupyter": {
     "source_hidden": true
    }
   },
   "outputs": [
    {
     "data": {
      "application/vnd.jupyter.widget-view+json": {
       "model_id": "b7342847137642ca97c4dfc8e12ce3d4",
       "version_major": 2,
       "version_minor": 0
      },
      "text/plain": [
       "Combobox(value='', description='2.2 Is there any documentation about the completeness of the dataset?', layout…"
      ]
     },
     "metadata": {},
     "output_type": "display_data"
    },
    {
     "data": {
      "application/vnd.jupyter.widget-view+json": {
       "model_id": "d4b5022e696949cf84a5640ad275d516",
       "version_major": 2,
       "version_minor": 0
      },
      "text/plain": [
       "Text(value='', description='Documentation link:', layout=Layout(display='none', width='900px'), placeholder='P…"
      ]
     },
     "metadata": {},
     "output_type": "display_data"
    },
    {
     "data": {
      "application/vnd.jupyter.widget-view+json": {
       "model_id": "3aefdf653c584da8bd5802f04abd49b8",
       "version_major": 2,
       "version_minor": 0
      },
      "text/plain": [
       "Combobox(value='', description='2.3 How complete is the dataset compared to the expected spatial coverage?', l…"
      ]
     },
     "metadata": {},
     "output_type": "display_data"
    },
    {
     "data": {
      "application/vnd.jupyter.widget-view+json": {
       "model_id": "186c5a0c5967464ebb1fee1d6f1d8451",
       "version_major": 2,
       "version_minor": 0
      },
      "text/plain": [
       "Combobox(value='', description='2.4 How complete is the dataset compared to the expected temporal coverage?', …"
      ]
     },
     "metadata": {},
     "output_type": "display_data"
    }
   ],
   "source": [
    "\n",
    "completeness_docs = widgets.Combobox(\n",
    "            options=['Yes', 'No'],\n",
    "            description='2.2 Is there any documentation about the completeness of the dataset?',\n",
    "            placeholder=placeholder,\n",
    "            layout=widgets.Layout(width=widget_width),\n",
    "            style = description_style\n",
    "            )\n",
    "\n",
    "completeness_docs_link = widgets.Text(\n",
    "            value='',\n",
    "            description=\"Documentation link:\",\n",
    "            placeholder='Please provide a link to the document',\n",
    "            disabled=False,\n",
    "            layout=widgets.Layout(display='none', width=widget_width),\n",
    "            style = description_style\n",
    "            )\n",
    "\n",
    "expected_spatial_coverage = widgets.Combobox(\n",
    "            options=['Complete', 'Partial', 'Unknown', 'N/A'],\n",
    "            description='2.3 How complete is the dataset compared to the expected spatial coverage?',\n",
    "            placeholder=placeholder,\n",
    "            layout=widgets.Layout(width=widget_width),\n",
    "            style = description_style\n",
    "            )\n",
    "\n",
    "expected_temporal_coverage = widgets.Combobox(\n",
    "            options=['Complete', 'Partial', 'Unknown', 'N/A'],\n",
    "            description='2.4 How complete is the dataset compared to the expected temporal coverage?',\n",
    "            placeholder=placeholder,\n",
    "            layout=widgets.Layout(width=widget_width),\n",
    "            style = description_style\n",
    "            )\n",
    "\n",
    "# Function to change the display setting of the following UI components. \n",
    "def on_click_handler(change): \n",
    "    if change[\"new\"] == \"Yes\":\n",
    "        completeness_docs_link.layout.display = ''\n",
    "    else:\n",
    "        completeness_docs_link.layout.display = 'none'\n",
    "        \n",
    "        # Return the values back to default state if 1st option changed back.\n",
    "        completeness_docs_link.value = \"\"\n",
    "\n",
    "# Show UI components based on their display settings. \n",
    "display(completeness_docs, completeness_docs_link, expected_spatial_coverage, expected_temporal_coverage)\n",
    "\n",
    "# Observe the first UI component for changes and call the on_click_handler function if value property changed. \n",
    "completeness_docs.observe(on_click_handler, names=\"value\")\n"
   ]
  },
  {
   "cell_type": "markdown",
   "id": "5b56e1f9-6811-446a-a67b-67d04e932be0",
   "metadata": {},
   "source": [
    "### Data consistency"
   ]
  },
  {
   "cell_type": "code",
   "execution_count": 10,
   "id": "e5fcf4e2-015f-4daa-ba16-ac75ebf502f8",
   "metadata": {
    "jupyter": {
     "source_hidden": true
    },
    "scrolled": true
   },
   "outputs": [
    {
     "data": {
      "application/vnd.jupyter.widget-view+json": {
       "model_id": "f251887e7d944d858e4846163859856b",
       "version_major": 2,
       "version_minor": 0
      },
      "text/plain": [
       "Combobox(value='', description='2.5 Is this dataset self-consistent in that its units, data types, and paramet…"
      ]
     },
     "metadata": {},
     "output_type": "display_data"
    },
    {
     "data": {
      "application/vnd.jupyter.widget-view+json": {
       "model_id": "ff9ff57cc93c4299b4a3e5b6b26c1b74",
       "version_major": 2,
       "version_minor": 0
      },
      "text/plain": [
       "Combobox(value='', description='2.6 Is this dataset’s units, data types, and parameter names consistent with s…"
      ]
     },
     "metadata": {},
     "output_type": "display_data"
    },
    {
     "data": {
      "application/vnd.jupyter.widget-view+json": {
       "model_id": "a157a3f3558b43a09945d152c84c507a",
       "version_major": 2,
       "version_minor": 0
      },
      "text/plain": [
       "Combobox(value='', description='2.7 Are there processes to monitor for units, data types, and parameter consis…"
      ]
     },
     "metadata": {},
     "output_type": "display_data"
    },
    {
     "data": {
      "application/vnd.jupyter.widget-view+json": {
       "model_id": "19cbe7a3cfb5437b976bed0b87ce2ce2",
       "version_major": 2,
       "version_minor": 0
      },
      "text/plain": [
       "Text(value='', description='Review measures:', layout=Layout(display='none', width='900px'), placeholder='If y…"
      ]
     },
     "metadata": {},
     "output_type": "display_data"
    }
   ],
   "source": [
    "\n",
    "self_consistent_units = widgets.Combobox(\n",
    "            options=['Yes', 'No', 'N/A'],\n",
    "            description='2.5 Is this dataset self-consistent in that its units, data types, and parameter names do not change over time and space?',\n",
    "            placeholder=\"Click to select option\",\n",
    "            layout=widgets.Layout(width=widget_width),\n",
    "            style = description_style\n",
    "            )\n",
    "\n",
    "consistent_units = widgets.Combobox(\n",
    "            options=['Yes', 'No', 'N/A'],\n",
    "            description='2.6 Is this dataset’s units, data types, and parameter names consistent with similar data collections?',\n",
    "            placeholder=\"Click to select option\",\n",
    "            layout=widgets.Layout(width=widget_width),\n",
    "            style = description_style\n",
    "            )\n",
    "\n",
    "consistent_unit_monitoring = widgets.Combobox(\n",
    "            options=['Yes', 'No', 'N/A'],\n",
    "            description='2.7 Are there processes to monitor for units, data types, and parameter consistency?',\n",
    "            placeholder=\"Click to select option\",\n",
    "            layout=widgets.Layout(width=widget_width),\n",
    "            style = description_style\n",
    "            )\n",
    "\n",
    "consistent_unit_review = widgets.Text(\n",
    "            value='',\n",
    "            description = 'Review measures:',\n",
    "            placeholder='If yes, what measures are taken? Manual review / Automated review etc.',\n",
    "            disabled=False,\n",
    "            layout=widgets.Layout(display='none', width=widget_width),\n",
    "            style = description_style\n",
    "            )\n",
    "\n",
    "# Function to change the display setting of the following UI components. \n",
    "def on_click_handler(change): \n",
    "    if change[\"new\"] == \"Yes\":\n",
    "        consistent_unit_review.layout.display = ''\n",
    "    else:\n",
    "        consistent_unit_review.layout.display = 'none'\n",
    "        \n",
    "        # Return the values back to default state if 1st option changed back.\n",
    "        consistent_unit_review.value = \"\"\n",
    "\n",
    "# Show UI components based on their display settings. \n",
    "display(self_consistent_units, consistent_units, consistent_unit_monitoring, consistent_unit_review)\n",
    "\n",
    "# Observe the first UI component for changes and call the on_click_handler function if value property changed. \n",
    "consistent_unit_monitoring.observe(on_click_handler, names=\"value\")\n"
   ]
  },
  {
   "cell_type": "code",
   "execution_count": 11,
   "id": "5fd9574a-becf-4556-a3bd-51aef40a5459",
   "metadata": {
    "jupyter": {
     "source_hidden": true
    }
   },
   "outputs": [
    {
     "data": {
      "application/vnd.jupyter.widget-view+json": {
       "model_id": "fde66e124d9b4fb099bb07a092c523ba",
       "version_major": 2,
       "version_minor": 0
      },
      "text/plain": [
       "Button(button_style='primary', description='Save Timeliness, Completeness & Consistency Answers to json file',…"
      ]
     },
     "metadata": {},
     "output_type": "display_data"
    }
   ],
   "source": [
    "\n",
    "# Save button\n",
    "save_button = widgets.Button(description=\"Save Timeliness, Completeness & Consistency Answers to json file\",  button_style=\"primary\",  layout=widgets.Layout(flex='1 1 auto', width='auto'))\n",
    "\n",
    "def generate_updates_data_quality1():\n",
    "\n",
    "    updates = {\n",
    "        \"DataQuality\": {\n",
    "            \"WillBeUpdated\": data_update.value,\n",
    "            \"WhenNewDataAdded\": data_update_frequency.value,\n",
    "            \"DifferentStages\": data_update_stages.value,\n",
    "            \"DelayBetweenStages\": data_update_delay.value,\n",
    "            \"SupersedeCurrentVersion\": data_update_supersede.value,\n",
    "            \"DocumentationAvailable\" : completeness_docs.value,\n",
    "            \"LinkToReport\" : completeness_docs_link.value,\n",
    "            \"SpatialCoverage\" : expected_spatial_coverage.value,\n",
    "            \"TemporalCoverage\" : expected_temporal_coverage.value,\n",
    "            \"SelfConsistent\" : self_consistent_units.value,\n",
    "            \"ConsistentWithSimilarData\" : consistent_units.value,\n",
    "            \"MonitoringProcessesExist\" : consistent_unit_monitoring.value,\n",
    "            \"MonitoringProcessesDetails\" : consistent_unit_review.value            \n",
    "        }\n",
    "    }\n",
    "    return updates\n",
    "\n",
    "save_button.on_click(lambda b: update_checklist(b, generate_updates_data_quality1()))\n",
    "\n",
    "display(save_button)"
   ]
  },
  {
   "cell_type": "markdown",
   "id": "55405b83-c482-41d0-b1a4-df37191f1a9b",
   "metadata": {},
   "source": [
    "### Data bias"
   ]
  },
  {
   "cell_type": "code",
   "execution_count": 12,
   "id": "a792cb9e-46ab-46d6-b6d6-b2347322c904",
   "metadata": {
    "editable": true,
    "jupyter": {
     "source_hidden": true
    },
    "slideshow": {
     "slide_type": ""
    },
    "tags": []
   },
   "outputs": [
    {
     "data": {
      "application/vnd.jupyter.widget-view+json": {
       "model_id": "029074468b564705a65709278266ff15",
       "version_major": 2,
       "version_minor": 0
      },
      "text/plain": [
       "Combobox(value='', description='2.8 Is there known bias in the dataset?', layout=Layout(width='900px'), option…"
      ]
     },
     "metadata": {},
     "output_type": "display_data"
    },
    {
     "data": {
      "application/vnd.jupyter.widget-view+json": {
       "model_id": "23f412630bf7475d809c1bc407eb6f1b",
       "version_major": 2,
       "version_minor": 0
      },
      "text/plain": [
       "Combobox(value='', description='Have measures been taken to examine bias?', layout=Layout(display='none', widt…"
      ]
     },
     "metadata": {},
     "output_type": "display_data"
    },
    {
     "data": {
      "application/vnd.jupyter.widget-view+json": {
       "model_id": "7a306cf842c442a18671fc45464300e9",
       "version_major": 2,
       "version_minor": 0
      },
      "text/plain": [
       "Textarea(value='', layout=Layout(display='none', width='900px'), placeholder='If yes, what measures were used?…"
      ]
     },
     "metadata": {},
     "output_type": "display_data"
    },
    {
     "data": {
      "application/vnd.jupyter.widget-view+json": {
       "model_id": "f69f3dd700fe4616b2085e97f57787ca",
       "version_major": 2,
       "version_minor": 0
      },
      "text/plain": [
       "Textarea(value='', layout=Layout(display='none', width='900px'), placeholder='Is the bias metrological traceab…"
      ]
     },
     "metadata": {},
     "output_type": "display_data"
    },
    {
     "data": {
      "application/vnd.jupyter.widget-view+json": {
       "model_id": "e7ed716e75d5481aba16f129c2691791",
       "version_major": 2,
       "version_minor": 0
      },
      "text/plain": [
       "Combobox(value='', description='Is there reported bias in the data?', layout=Layout(display='none', width='900…"
      ]
     },
     "metadata": {},
     "output_type": "display_data"
    },
    {
     "data": {
      "application/vnd.jupyter.widget-view+json": {
       "model_id": "169240cf2f8b4b27a7df6eae793bb6cf",
       "version_major": 2,
       "version_minor": 0
      },
      "text/plain": [
       "Text(value='', layout=Layout(display='none', width='900px'), placeholder='(optional) Link to the report/docume…"
      ]
     },
     "metadata": {},
     "output_type": "display_data"
    },
    {
     "data": {
      "application/vnd.jupyter.widget-view+json": {
       "model_id": "a80691ca53bf4903a51ad5bd9b092190",
       "version_major": 2,
       "version_minor": 0
      },
      "text/plain": [
       "Text(value='', layout=Layout(display='none', width='900px'), placeholder='(optional) Link to a bias-corrected …"
      ]
     },
     "metadata": {},
     "output_type": "display_data"
    },
    {
     "data": {
      "application/vnd.jupyter.widget-view+json": {
       "model_id": "21215e004384485aa6f4630b0d7bd74e",
       "version_major": 2,
       "version_minor": 0
      },
      "text/plain": [
       "Text(value='', layout=Layout(display='none', width='900px'), placeholder='(optional) Link to tools available t…"
      ]
     },
     "metadata": {},
     "output_type": "display_data"
    }
   ],
   "source": [
    "\n",
    "dataset_bias = widgets.Combobox(\n",
    "            options=['Yes', 'No', 'Unknown'],\n",
    "            description='2.8 Is there known bias in the dataset?',\n",
    "            placeholder=placeholder,\n",
    "            layout=widgets.Layout(width=widget_width),\n",
    "            style = description_style\n",
    "            )\n",
    "\n",
    "dataset_bias_measures = widgets.Combobox(\n",
    "            options=['Yes', 'No', 'Unknown', 'N/A'],\n",
    "            description='Have measures been taken to examine bias?',\n",
    "            placeholder=placeholder,\n",
    "            layout=widgets.Layout(display=\"none\", width=widget_width),\n",
    "            style = description_style\n",
    "            )\n",
    "\n",
    "dataset_bias_measures_detail = widgets.Textarea(\n",
    "            value='',\n",
    "            placeholder='If yes, what measures were used?',\n",
    "            layout=widgets.Layout(display=\"none\", width=widget_width),\n",
    "            )\n",
    "\n",
    "dataset_bias_metrological_traceable = widgets.Textarea(\n",
    "            value='',\n",
    "            placeholder='Is the bias metrological traceable?',\n",
    "            layout=widgets.Layout(display=\"none\", width=widget_width),\n",
    "            )\n",
    "\n",
    "dataset_bias_report = widgets.Combobox(\n",
    "            options=['No known bias', 'Found and reported', 'No info available', 'N/A'],\n",
    "            description='Is there reported bias in the data?',\n",
    "            placeholder=placeholder,\n",
    "            layout=widgets.Layout(display=\"none\", width=widget_width),\n",
    "            style = description_style\n",
    "            )\n",
    "\n",
    "dataset_bias_report_link = widgets.Text(\n",
    "            value='',\n",
    "            placeholder='(optional) Link to the report/document on the bias',\n",
    "            layout=widgets.Layout(display=\"none\", width=widget_width)\n",
    "            )\n",
    "\n",
    "dataset_bias_corrected_link = widgets.Text(\n",
    "            value='',\n",
    "            placeholder='(optional) Link to a bias-corrected or bias-reduced version of the dataset',\n",
    "            layout=widgets.Layout(display=\"none\", width=widget_width)\n",
    "            )\n",
    "\n",
    "dataset_bias_tools_link = widgets.Text(\n",
    "            value='',\n",
    "            placeholder='(optional) Link to tools available to reduce bias',\n",
    "            layout=widgets.Layout(display=\"none\", width=widget_width)\n",
    "            )\n",
    "\n",
    "# Function to change the display setting of the following UI components. \n",
    "def on_click_handler(change):    \n",
    "\n",
    "    # Show / hide main trunk of questions. \n",
    "    if dataset_bias.value == \"Yes\":\n",
    "        dataset_bias_measures.layout.display = ''\n",
    "        dataset_bias_report.layout.display = ''\n",
    "        dataset_bias_metrological_traceable.layout.display = ''\n",
    "        dataset_bias_report_link.layout.display = ''\n",
    "        dataset_bias_corrected_link.layout.display = ''\n",
    "        dataset_bias_tools_link.layout.display = ''\n",
    "\n",
    "    else:   \n",
    "        dataset_bias_measures.layout.display = 'none'\n",
    "        dataset_bias_report.layout.display = 'none'\n",
    "        dataset_bias_report_link.layout.display = 'none'\n",
    "        dataset_bias_corrected_link.layout.display = 'none'\n",
    "        dataset_bias_tools_link.layout.display = 'none'\n",
    "        dataset_bias_measures.value = None\n",
    "        dataset_bias_report.value = None\n",
    "        dataset_bias_report_link.value = ''\n",
    "        dataset_bias_corrected_link.value = ''\n",
    "        dataset_bias_tools_link.value = ''\n",
    "\n",
    "    # Show / hide 2nd trunk of questions.\n",
    "    if dataset_bias_measures.value == \"Yes\":\n",
    "        dataset_bias_measures_detail.layout.display = ''\n",
    "        dataset_bias_metrological_traceable.layout.display = ''\n",
    "    else:\n",
    "        dataset_bias_measures_detail.layout.display = 'none'\n",
    "        dataset_bias_metrological_traceable.layout.display = 'none'\n",
    "        dataset_bias_measures_detail.value = ''\n",
    "        dataset_bias_metrological_traceable.value = ''\n",
    "        \n",
    "            \n",
    "# Display the UI components\n",
    "display(dataset_bias, dataset_bias_measures, dataset_bias_measures_detail, dataset_bias_metrological_traceable, dataset_bias_report, dataset_bias_report_link, dataset_bias_corrected_link, dataset_bias_tools_link)\n",
    "\n",
    "# Observe UI components for changes and call the on_click_handler function if value property changed. \n",
    "dataset_bias.observe(on_click_handler, names=\"value\")\n",
    "dataset_bias_measures.observe(on_click_handler, names=\"value\")\n",
    "\n"
   ]
  },
  {
   "cell_type": "markdown",
   "id": "1a20b72c-5a54-4ebf-a2c5-a420287bc975",
   "metadata": {},
   "source": [
    "### Data integrity"
   ]
  },
  {
   "cell_type": "code",
   "execution_count": 13,
   "id": "aacda1c4-d578-421e-9804-efcc75e53599",
   "metadata": {
    "jupyter": {
     "source_hidden": true
    }
   },
   "outputs": [
    {
     "data": {
      "application/vnd.jupyter.widget-view+json": {
       "model_id": "c9e4ee76b0174dd49b3810136d827c4b",
       "version_major": 2,
       "version_minor": 0
      },
      "text/plain": [
       "Combobox(value='', description='2.9 Is there quantitative information about data resolution in space and time?…"
      ]
     },
     "metadata": {},
     "output_type": "display_data"
    },
    {
     "data": {
      "application/vnd.jupyter.widget-view+json": {
       "model_id": "a01b88ec822e488f9a684989890b21cc",
       "version_major": 2,
       "version_minor": 0
      },
      "text/plain": [
       "Combobox(value='', description='2.10 Are there published data quality procedures or reports?', layout=Layout(w…"
      ]
     },
     "metadata": {},
     "output_type": "display_data"
    },
    {
     "data": {
      "application/vnd.jupyter.widget-view+json": {
       "model_id": "5ba76a9dfd5a4cfc8b09d99cf2c3e399",
       "version_major": 2,
       "version_minor": 0
      },
      "text/plain": [
       "Text(value='', description='Quality information link:', layout=Layout(width='900px'), placeholder='If there is…"
      ]
     },
     "metadata": {},
     "output_type": "display_data"
    },
    {
     "data": {
      "application/vnd.jupyter.widget-view+json": {
       "model_id": "2ede71dfa3a14618b7b0ca94a5bbd9cd",
       "version_major": 2,
       "version_minor": 0
      },
      "text/plain": [
       "Combobox(value='', description='2.11 Is the provenance of the dataset tracked and documented?', layout=Layout(…"
      ]
     },
     "metadata": {},
     "output_type": "display_data"
    },
    {
     "data": {
      "application/vnd.jupyter.widget-view+json": {
       "model_id": "6cd312c47f274208afbabd85114f388e",
       "version_major": 2,
       "version_minor": 0
      },
      "text/plain": [
       "Combobox(value='', description='2.12 Are there checksums / other checks for data integrity? ', layout=Layout(w…"
      ]
     },
     "metadata": {},
     "output_type": "display_data"
    }
   ],
   "source": [
    "\n",
    "data_resolution_info = widgets.Combobox(\n",
    "            options=['Yes', 'No', 'N/A'],\n",
    "            description='2.9 Is there quantitative information about data resolution in space and time?',\n",
    "            placeholder=\"Click to select option\",\n",
    "            layout=widgets.Layout(width=widget_width),\n",
    "            style = description_style\n",
    "            )\n",
    "\n",
    "data_quality_report = widgets.Combobox(\n",
    "            options=['Yes', 'No', 'N/A'],\n",
    "            description='2.10 Are there published data quality procedures or reports?',\n",
    "            placeholder=\"Click to select option\",\n",
    "            layout=widgets.Layout(width=widget_width),\n",
    "            style = description_style\n",
    "            )\n",
    "\n",
    "data_quality_report_link = widgets.Text(\n",
    "            value='',\n",
    "            description=\"Quality information link:\",\n",
    "            placeholder='If there is published quality information, please provide the link.',\n",
    "            layout=widgets.Layout(width=widget_width),\n",
    "            style=description_style\n",
    "            )\n",
    "\n",
    "dataset_provenance = widgets.Combobox(\n",
    "            options=['Yes', 'No', 'N/A'],\n",
    "            description='2.11 Is the provenance of the dataset tracked and documented?',\n",
    "            placeholder=\"Click to select option\",\n",
    "            layout=widgets.Layout(width=widget_width),\n",
    "            style = description_style\n",
    "            )\n",
    "\n",
    "data_integrity = widgets.Combobox(\n",
    "            options=['Yes', 'No', 'N/A'],\n",
    "            description='2.12 Are there checksums / other checks for data integrity? ',\n",
    "            placeholder=\"Click to select option\",\n",
    "            layout=widgets.Layout(width=widget_width),\n",
    "            style = description_style\n",
    "            )\n",
    "\n",
    "display(data_resolution_info, data_quality_report, data_quality_report_link, dataset_provenance, data_integrity)"
   ]
  },
  {
   "cell_type": "markdown",
   "id": "814a9aa5-dcf0-4a2c-92ed-19de1aec05ea",
   "metadata": {},
   "source": [
    "### Dataset size"
   ]
  },
  {
   "cell_type": "code",
   "execution_count": 14,
   "id": "962fb6eb-a36f-4239-a613-daac8fefc77c",
   "metadata": {
    "jupyter": {
     "source_hidden": true
    }
   },
   "outputs": [
    {
     "data": {
      "application/vnd.jupyter.widget-view+json": {
       "model_id": "14f4ec7ee21a41c2807a4eb128b90d84",
       "version_major": 2,
       "version_minor": 0
      },
      "text/plain": [
       "Label(value='2.13 What is the size of the dataset? Depending on the resource, this might be:')"
      ]
     },
     "metadata": {},
     "output_type": "display_data"
    },
    {
     "data": {
      "application/vnd.jupyter.widget-view+json": {
       "model_id": "af557952be734a5cb5cde6a600fe7aba",
       "version_major": 2,
       "version_minor": 0
      },
      "text/plain": [
       "Text(value='', placeholder='Total data volume:')"
      ]
     },
     "metadata": {},
     "output_type": "display_data"
    },
    {
     "data": {
      "application/vnd.jupyter.widget-view+json": {
       "model_id": "c90ed21fce2c450280a27d03c8f04e1b",
       "version_major": 2,
       "version_minor": 0
      },
      "text/plain": [
       "HBox(children=(Label(value='Number of data files:'), IntText(value=0, layout=Layout(width='100px'))))"
      ]
     },
     "metadata": {},
     "output_type": "display_data"
    },
    {
     "data": {
      "application/vnd.jupyter.widget-view+json": {
       "model_id": "a6f89bd3776f4c4cac63a5437e66c6c9",
       "version_major": 2,
       "version_minor": 0
      },
      "text/plain": [
       "HBox(children=(Label(value='Number of data table rows:'), IntText(value=0, layout=Layout(width='100px'))))"
      ]
     },
     "metadata": {},
     "output_type": "display_data"
    },
    {
     "data": {
      "application/vnd.jupyter.widget-view+json": {
       "model_id": "858997b33a3b48879d839b247d617441",
       "version_major": 2,
       "version_minor": 0
      },
      "text/plain": [
       "HBox(children=(Label(value='Number of data dimensions:'), IntText(value=0, layout=Layout(width='100px'))))"
      ]
     },
     "metadata": {},
     "output_type": "display_data"
    },
    {
     "data": {
      "application/vnd.jupyter.widget-view+json": {
       "model_id": "aca0561c67bb4a45953bc33a107dcf2d",
       "version_major": 2,
       "version_minor": 0
      },
      "text/plain": [
       "HBox(children=(Label(value='Number of images:'), IntText(value=0, layout=Layout(width='100px')), Box(layout=La…"
      ]
     },
     "metadata": {},
     "output_type": "display_data"
    }
   ],
   "source": [
    "\n",
    "data_size_question = widgets.Label(\n",
    "    value = '2.13 What is the size of the dataset? Depending on the resource, this might be:'\n",
    ")\n",
    "\n",
    "spacer = widgets.Box(layout=widgets.Layout(width='20px'))\n",
    "\n",
    "total_data_volume = widgets.Text(\n",
    "    value = '',\n",
    "    placeholder='Total data volume:'\n",
    ")\n",
    "\n",
    "num_data_dimensions_label = widgets.Label(\n",
    "    value = \"Number of data dimensions:\"\n",
    ")\n",
    "\n",
    "num_data_dimensions = widgets.IntText(\n",
    "    value = 0,\n",
    "    layout = widgets.Layout(width=\"100px\")\n",
    ")\n",
    "\n",
    "dimensions = widgets.HBox([num_data_dimensions_label, num_data_dimensions])\n",
    "\n",
    "\n",
    "num_data_files_label = widgets.Label(\n",
    "    value = \"Number of data files:\"\n",
    ")\n",
    "\n",
    "num_data_files = widgets.IntText(\n",
    "    value = 0,\n",
    "    layout = widgets.Layout(width=\"100px\")\n",
    ")\n",
    "\n",
    "data_files = widgets.HBox([num_data_files_label, num_data_files])\n",
    "\n",
    "num_data_rows_label = widgets.Label(\n",
    "    value = \"Number of data table rows:\"\n",
    ")\n",
    "\n",
    "num_data_rows = widgets.IntText(\n",
    "    value = 0,\n",
    "    layout = widgets.Layout(width=\"100px\")\n",
    ")\n",
    "\n",
    "data_rows = widgets.HBox([num_data_rows_label, num_data_rows])\n",
    "\n",
    "num_data_images_label = widgets.Label(\n",
    "    value = \"Number of images:\"\n",
    ")\n",
    "\n",
    "num_data_images = widgets.IntText(\n",
    "    value = 0,\n",
    "    layout = widgets.Layout(width=\"100px\")\n",
    ")\n",
    "\n",
    "num_data_images_size_label = widgets.Label(\n",
    "    value = \"Size of images:\"\n",
    ")\n",
    "\n",
    "num_data_images_size = widgets.Text(\n",
    "    value = '',\n",
    "    placeholder='228 x 228'\n",
    ")\n",
    "\n",
    "images = widgets.HBox([num_data_images_label, num_data_images, spacer, num_data_images_size_label, num_data_images_size])\n",
    "\n",
    "\n",
    "display(data_size_question, total_data_volume, data_files, data_rows, dimensions, images)"
   ]
  },
  {
   "cell_type": "code",
   "execution_count": 15,
   "id": "2952b185-b950-49c2-b745-cb81dc6ab67f",
   "metadata": {
    "jupyter": {
     "source_hidden": true
    }
   },
   "outputs": [
    {
     "data": {
      "application/vnd.jupyter.widget-view+json": {
       "model_id": "0fbe887ceb1244078e6d5968def7f83a",
       "version_major": 2,
       "version_minor": 0
      },
      "text/plain": [
       "Button(button_style='primary', description='Save Bias, Integrity & Size Answers to json file', layout=Layout(f…"
      ]
     },
     "metadata": {},
     "output_type": "display_data"
    }
   ],
   "source": [
    "\n",
    "# Save button\n",
    "save_button = widgets.Button(description=\"Save Bias, Integrity & Size Answers to json file\",  button_style=\"primary\",  layout=widgets.Layout(flex='1 1 auto', width='auto'))\n",
    "\n",
    "def generate_updates_data_quality2():\n",
    "    \n",
    "    updates = {\n",
    "        \"DataQuality\": {\n",
    "            #Bias\n",
    "            \"KnownBias\": dataset_bias.value,\n",
    "            \"BiasExamined\": dataset_bias_measures.value,\n",
    "            \"BiasMeasures\": dataset_bias_measures_detail.value,\n",
    "            \"MetrologicalTraceability\": dataset_bias_metrological_traceable.value,\n",
    "            \"BiasReport\": dataset_bias_report.value,            \n",
    "            \"BiasReportLink\" : dataset_bias_report_link.value,\n",
    "            \"BiasCorrectedDatasetLink\" : dataset_bias_corrected_link.value,\n",
    "            \"BiasReductionToolsLink\" : dataset_bias_tools_link.value,\n",
    "            # Integrity\n",
    "            \"QuantitativeResolutionInfo\" : data_resolution_info.value,\n",
    "            \"PublishedQualityProcedures\" : data_quality_report.value,\n",
    "            \"QualityInformationLink\" : data_quality_report_link.value,\n",
    "            \"ProvenanceTracked\" : dataset_provenance.value,\n",
    "            \"DataIntegrityChecks\" : data_integrity.value,\n",
    "            # Size\n",
    "            \"DatasetVolume\" : total_data_volume.value,\n",
    "            \"DatasetNumFiles\" : num_data_files.value,\n",
    "            \"DatasetNumRows\" : num_data_rows.value,\n",
    "            \"DatasetDimensions\" : num_data_dimensions.value,\n",
    "            \"DatasetNumImages\" : num_data_images.value,\n",
    "            \"DatasetImageSize\" : num_data_images_size.value,\n",
    "        }\n",
    "    }\n",
    "    return updates\n",
    "\n",
    "save_button.on_click(lambda b: update_checklist(b, generate_updates_data_quality2()))\n",
    "\n",
    "display(save_button)"
   ]
  },
  {
   "cell_type": "markdown",
   "id": "f8636b2a-2be4-43ea-9517-048263170adb",
   "metadata": {},
   "source": [
    "---\n",
    "\n",
    "## **3. Data Documentation**"
   ]
  },
  {
   "cell_type": "markdown",
   "id": "d2991113-c9d9-4782-bf73-066651005ce5",
   "metadata": {},
   "source": [
    "### Community standard or convention\n"
   ]
  },
  {
   "cell_type": "code",
   "execution_count": 16,
   "id": "670d1474-ce77-4109-8dd9-7da3e470cc55",
   "metadata": {
    "jupyter": {
     "source_hidden": true
    }
   },
   "outputs": [
    {
     "data": {
      "application/vnd.jupyter.widget-view+json": {
       "model_id": "2a302e4b9eff4314b8ce4bc0cc542e71",
       "version_major": 2,
       "version_minor": 0
      },
      "text/plain": [
       "Combobox(value='', description='3.1 Does the dataset metadata follow a community/domain standard or convention…"
      ]
     },
     "metadata": {},
     "output_type": "display_data"
    },
    {
     "data": {
      "application/vnd.jupyter.widget-view+json": {
       "model_id": "b9e99277797645b784cdca2b88967952",
       "version_major": 2,
       "version_minor": 0
      },
      "text/plain": [
       "Text(value='', description='Metadata standard:', layout=Layout(display='none', width='900px'), placeholder='Wh…"
      ]
     },
     "metadata": {},
     "output_type": "display_data"
    },
    {
     "data": {
      "application/vnd.jupyter.widget-view+json": {
       "model_id": "23c45fb840794fa3b53038e798c4b47a",
       "version_major": 2,
       "version_minor": 0
      },
      "text/plain": [
       "Combobox(value='', description='Is the dataset metadata machine-readable?', layout=Layout(display='none', widt…"
      ]
     },
     "metadata": {},
     "output_type": "display_data"
    },
    {
     "data": {
      "application/vnd.jupyter.widget-view+json": {
       "model_id": "147d4884e7a7419cab34e624c894ed60",
       "version_major": 2,
       "version_minor": 0
      },
      "text/plain": [
       "Combobox(value='', description='Does it include details on the spatial and temporal extent?', layout=Layout(di…"
      ]
     },
     "metadata": {},
     "output_type": "display_data"
    }
   ],
   "source": [
    "\n",
    "metadata_standard = widgets.Combobox(\n",
    "            options=['Yes', 'No', 'N/A'],\n",
    "            description='3.1 Does the dataset metadata follow a community/domain standard or convention?',\n",
    "            placeholder=\"Click to select option\",\n",
    "            layout=widgets.Layout(width=widget_width),\n",
    "            style = description_style\n",
    "            )\n",
    "\n",
    "metadata_standard_detail = widgets.Text(\n",
    "            value='',\n",
    "            description=\"Metadata standard:\",\n",
    "            placeholder='Which standard is it? (CF, TBD, etc.)',\n",
    "            layout=widgets.Layout(display=\"none\", width=widget_width),\n",
    "            style = description_style\n",
    "            )\n",
    "\n",
    "metadata_machine_readable = widgets.Combobox(\n",
    "            options=['Yes', 'No', 'N/A'],\n",
    "            description='Is the dataset metadata machine-readable?',\n",
    "            placeholder=\"Click to select option\",\n",
    "            layout = widgets.Layout(display=\"none\", width=widget_width),\n",
    "            style = description_style\n",
    "            )\n",
    "\n",
    "metadata_spatial_temporal = widgets.Combobox(\n",
    "            options=['Yes', 'No', 'N/A'],\n",
    "            description='Does it include details on the spatial and temporal extent?',\n",
    "            placeholder=\"Click to select option\",\n",
    "            layout = widgets.Layout(display=\"none\", width=widget_width),\n",
    "            style = description_style\n",
    "            )\n",
    "\n",
    "\n",
    "# Function to change the display setting of the following UI components. \n",
    "def on_click_handler(change):    \n",
    "\n",
    "    # Show / hide main trunk of questions. \n",
    "    if metadata_standard.value == \"Yes\":\n",
    "        metadata_standard_detail.layout.display = ''\n",
    "        metadata_machine_readable.layout.display = ''\n",
    "        metadata_spatial_temporal.layout.display = ''\n",
    "    else: \n",
    "        metadata_standard_detail.layout.display = 'none'\n",
    "        metadata_machine_readable.layout.display = 'none'\n",
    "        metadata_spatial_temporal.layout.display = 'none'\n",
    "        metadata_standard_detail.value = ''\n",
    "        metadata_machine_readable.value = 'N/A'\n",
    "        metadata_spatial_temporal.value = 'N/A'\n",
    "        \n",
    "\n",
    "display(metadata_standard, metadata_standard_detail, metadata_machine_readable, metadata_spatial_temporal)\n",
    "\n",
    "# Observe UI components for changes and call the on_click_handler function if value property changed. \n",
    "metadata_standard.observe(on_click_handler, names=\"value\")"
   ]
  },
  {
   "cell_type": "markdown",
   "id": "6623c23f-c9d6-47ba-b4f0-9c6e777d3d49",
   "metadata": {},
   "source": [
    "### Data dictionary"
   ]
  },
  {
   "cell_type": "code",
   "execution_count": 17,
   "id": "a21fad8b-b633-4122-abcc-6e181ebf4af5",
   "metadata": {
    "jupyter": {
     "source_hidden": true
    }
   },
   "outputs": [
    {
     "data": {
      "application/vnd.jupyter.widget-view+json": {
       "model_id": "a43ecdc2d6a64262acae2b725ba205dd",
       "version_major": 2,
       "version_minor": 0
      },
      "text/plain": [
       "Combobox(value='', description='3.2 Is there a comprehensive data dictionary/codebook that describes what each…"
      ]
     },
     "metadata": {},
     "output_type": "display_data"
    },
    {
     "data": {
      "application/vnd.jupyter.widget-view+json": {
       "model_id": "221bfa33c2864dc0bf1cc3e5a43e3c0b",
       "version_major": 2,
       "version_minor": 0
      },
      "text/plain": [
       "Combobox(value='', description='Is the data dictionary standardized?', layout=Layout(display='none', width='90…"
      ]
     },
     "metadata": {},
     "output_type": "display_data"
    },
    {
     "data": {
      "application/vnd.jupyter.widget-view+json": {
       "model_id": "b287992582754d738d144b80b93c2f2a",
       "version_major": 2,
       "version_minor": 0
      },
      "text/plain": [
       "Combobox(value='', description='Is the data dictionary machine-readable?', layout=Layout(display='none', width…"
      ]
     },
     "metadata": {},
     "output_type": "display_data"
    },
    {
     "data": {
      "application/vnd.jupyter.widget-view+json": {
       "model_id": "91240de9c3c7430a86a9bac950c6d4f3",
       "version_major": 2,
       "version_minor": 0
      },
      "text/plain": [
       "Combobox(value='', description='Do the parameters follow a defined standard?', layout=Layout(display='none', w…"
      ]
     },
     "metadata": {},
     "output_type": "display_data"
    },
    {
     "data": {
      "application/vnd.jupyter.widget-view+json": {
       "model_id": "4e880902c18c4736b1add30d5c840d82",
       "version_major": 2,
       "version_minor": 0
      },
      "text/plain": [
       "Text(value='', description='Parameter standards:', layout=Layout(display='none', width='900px'), placeholder='…"
      ]
     },
     "metadata": {},
     "output_type": "display_data"
    },
    {
     "data": {
      "application/vnd.jupyter.widget-view+json": {
       "model_id": "e8821a404b6441a18450f94737eaf46f",
       "version_major": 2,
       "version_minor": 0
      },
      "text/plain": [
       "Combobox(value='', description='Are parameters crosswalked in an ontology or common vocabulary (e.g. NIEM)?', …"
      ]
     },
     "metadata": {},
     "output_type": "display_data"
    }
   ],
   "source": [
    "\n",
    "data_dictionary = widgets.Combobox(\n",
    "            options=['Yes', 'No', 'N/A'],\n",
    "            description='3.2 Is there a comprehensive data dictionary/codebook that describes what each element of the dataset means? parameters?',\n",
    "            placeholder=\"Click to select option\",\n",
    "            layout=widgets.Layout(width=widget_width),\n",
    "            style = description_style\n",
    "            )\n",
    "\n",
    "data_dictionary_standardized = widgets.Combobox(\n",
    "            options=['Yes', 'No', 'N/A'],\n",
    "            description='Is the data dictionary standardized?',\n",
    "            placeholder=\"Click to select option\",\n",
    "            layout=widgets.Layout(display=\"none\", width=widget_width),\n",
    "            style = description_style\n",
    "            )\n",
    "\n",
    "data_dictionary_machine_readable = widgets.Combobox(\n",
    "            options=['Yes', 'No', 'N/A'],\n",
    "            description='Is the data dictionary machine-readable?',\n",
    "            placeholder=\"Click to select option\",\n",
    "            layout=widgets.Layout(display=\"none\", width=widget_width),\n",
    "            style = description_style\n",
    "            )\n",
    "\n",
    "parameters_defined_standard = widgets.Combobox(\n",
    "            options=['Yes', 'No', 'N/A'],\n",
    "            description='Do the parameters follow a defined standard?',\n",
    "            placeholder=\"Click to select option\",\n",
    "            layout=widgets.Layout(display=\"none\", width=widget_width),\n",
    "            style = description_style\n",
    "            )\n",
    "\n",
    "parameters_defined_standard_detail = widgets.Text(\n",
    "            value='',\n",
    "            description = 'Parameter standards:',\n",
    "            placeholder='If the parameters follow a defined standard, which standard it is?',\n",
    "            layout=widgets.Layout(display=\"none\", width=widget_width),\n",
    "            style = description_style\n",
    "            )\n",
    "\n",
    "parameters_common_vocabulary = widgets.Combobox(\n",
    "            options=['Yes', 'No', 'N/A'],\n",
    "            description='Are parameters crosswalked in an ontology or common vocabulary (e.g. NIEM)?',\n",
    "            placeholder=\"Click to select option\",\n",
    "            layout=widgets.Layout(display=\"none\", width=widget_width),\n",
    "            style = description_style\n",
    "            )\n",
    "\n",
    "# Function to change the display setting of the following UI components. \n",
    "def on_click_handler(change):    \n",
    "\n",
    "    # Show / hide main trunk of questions. \n",
    "    if data_dictionary.value == \"Yes\":\n",
    "        data_dictionary_standardized.layout.display = ''\n",
    "        data_dictionary_machine_readable.layout.display = ''\n",
    "        parameters_defined_standard.layout.display = ''\n",
    "        parameters_defined_standard_detail.layout.display = ''\n",
    "        parameters_common_vocabulary.layout.display = ''\n",
    "\n",
    "    else:   \n",
    "        data_dictionary_standardized.layout.display = 'none'\n",
    "        data_dictionary_machine_readable.layout.display = 'none'\n",
    "        parameters_defined_standard.layout.display = 'none'\n",
    "        parameters_defined_standard_detail.layout.display = 'none'\n",
    "        parameters_common_vocabulary.layout.display = 'none'\n",
    "        data_dictionary_standardized.value = 'N/A'\n",
    "        data_dictionary_machine_readable.value = 'N/A'\n",
    "        parameters_defined_standard.value = 'N/A'\n",
    "        parameters_defined_standard_detail.value = ''\n",
    "        parameters_common_vocabulary.value = 'N/A'\n",
    "\n",
    "            \n",
    "# Display the UI components\n",
    "display(data_dictionary, data_dictionary_standardized, data_dictionary_machine_readable, parameters_defined_standard, parameters_defined_standard_detail, parameters_common_vocabulary)\n",
    "\n",
    "# Observe UI components for changes and call the on_click_handler function if value property changed. \n",
    "data_dictionary.observe(on_click_handler, names=\"value\")\n",
    "\n"
   ]
  },
  {
   "cell_type": "markdown",
   "id": "0b169329-5852-44c5-adbb-6d0ce30812cf",
   "metadata": {},
   "source": [
    "### Unique persistent identifier\n",
    "\n",
    "3. Does the dataset have a unique persistent identifier, e.g. DOI? Yes, [supply identifier] / No / Not applicable\n"
   ]
  },
  {
   "cell_type": "code",
   "execution_count": 18,
   "id": "94e5dc20-8289-463d-a273-5c5b7b7c81eb",
   "metadata": {
    "jupyter": {
     "source_hidden": true
    }
   },
   "outputs": [
    {
     "data": {
      "application/vnd.jupyter.widget-view+json": {
       "model_id": "b847041acc22435790b9aceaebcacdb5",
       "version_major": 2,
       "version_minor": 0
      },
      "text/plain": [
       "Combobox(value='', description='3.3 Does the dataset have a unique persistent identifier, e.g. DOI?', layout=L…"
      ]
     },
     "metadata": {},
     "output_type": "display_data"
    },
    {
     "data": {
      "application/vnd.jupyter.widget-view+json": {
       "model_id": "63fbe2e159c74dbab0f26b5aed273035",
       "version_major": 2,
       "version_minor": 0
      },
      "text/plain": [
       "Text(value='', description='Identifier', layout=Layout(width='900px'), placeholder='Click to select option', s…"
      ]
     },
     "metadata": {},
     "output_type": "display_data"
    }
   ],
   "source": [
    "\n",
    "unique_persistent_identifier = widgets.Combobox(\n",
    "            options=['Yes', 'No', 'N/A'],\n",
    "            description='3.3 Does the dataset have a unique persistent identifier, e.g. DOI?',\n",
    "            placeholder=placeholder,\n",
    "            layout=widgets.Layout(width=widget_width),\n",
    "            style = description_style\n",
    "            )\n",
    "\n",
    "unique_persistent_identifier_link = widgets.Text(\n",
    "            value='',\n",
    "            description = \"Identifier\",\n",
    "            placeholder=placeholder,\n",
    "            layout=widgets.Layout(width=widget_width),\n",
    "            style = description_style\n",
    "            )\n",
    "\n",
    "display(unique_persistent_identifier, unique_persistent_identifier_link)"
   ]
  },
  {
   "cell_type": "markdown",
   "id": "fffa0c8f-cea1-4c94-8e21-93dcaa4f7cf3",
   "metadata": {},
   "source": [
    "### Contact information and feedback"
   ]
  },
  {
   "cell_type": "code",
   "execution_count": 19,
   "id": "d609d2cf-6580-4488-bd39-5a607c42ed02",
   "metadata": {
    "jupyter": {
     "source_hidden": true
    }
   },
   "outputs": [
    {
     "data": {
      "application/vnd.jupyter.widget-view+json": {
       "model_id": "6948382b15fd46eb8f9bb81d3cab1f92",
       "version_major": 2,
       "version_minor": 0
      },
      "text/plain": [
       "Combobox(value='', description='3.4 Is there contact information for subject-matter experts?', layout=Layout(w…"
      ]
     },
     "metadata": {},
     "output_type": "display_data"
    },
    {
     "data": {
      "application/vnd.jupyter.widget-view+json": {
       "model_id": "4b624d7033ca4198979db15097d0d0c7",
       "version_major": 2,
       "version_minor": 0
      },
      "text/plain": [
       "Combobox(value='', description='3.5 Is there a mechanism for user feedback and suggestions?', layout=Layout(wi…"
      ]
     },
     "metadata": {},
     "output_type": "display_data"
    }
   ],
   "source": [
    "\n",
    "contact_info_available = widgets.Combobox(\n",
    "            options=['Yes', 'No', 'N/A'],\n",
    "            description='3.4 Is there contact information for subject-matter experts?',\n",
    "            placeholder=placeholder,\n",
    "            layout=widgets.Layout(width=widget_width),\n",
    "            style = description_style\n",
    "            )\n",
    "\n",
    "feedback_mechanism_available = widgets.Combobox(\n",
    "            options=['Yes', 'No', 'N/A'],\n",
    "            description='3.5 Is there a mechanism for user feedback and suggestions?',\n",
    "            placeholder=placeholder,\n",
    "            layout=widgets.Layout(width=widget_width),\n",
    "            style = description_style\n",
    "            )\n",
    "\n",
    "display(contact_info_available, feedback_mechanism_available)\n"
   ]
  },
  {
   "cell_type": "markdown",
   "id": "1ee9173d-e7cb-4959-bc32-ced1247122b9",
   "metadata": {},
   "source": [
    "### Examples codes / notebooks / toolkits\n"
   ]
  },
  {
   "cell_type": "code",
   "execution_count": 20,
   "id": "783c36e6-3f82-4354-b4e1-06dfa99d2485",
   "metadata": {
    "jupyter": {
     "source_hidden": true
    }
   },
   "outputs": [
    {
     "data": {
      "application/vnd.jupyter.widget-view+json": {
       "model_id": "ecabd3424a044b44aa25f1b675ab7aef",
       "version_major": 2,
       "version_minor": 0
      },
      "text/plain": [
       "Combobox(value='', description='3.6 Are there example codes / notebooks / toolkits available showing how the d…"
      ]
     },
     "metadata": {},
     "output_type": "display_data"
    }
   ],
   "source": [
    "\n",
    "example_code_available = widgets.Combobox(\n",
    "            options=['Yes', 'No', 'N/A'],\n",
    "            description='3.6 Are there example codes / notebooks / toolkits available showing how the data can be used?',\n",
    "            placeholder=placeholder,\n",
    "            layout=widgets.Layout(width=widget_width),\n",
    "            style = description_style\n",
    "            )\n",
    "\n",
    "display(example_code_available)"
   ]
  },
  {
   "cell_type": "markdown",
   "id": "b80cff89-1971-426d-8ddc-c130b22d8294",
   "metadata": {},
   "source": [
    "### Licenses"
   ]
  },
  {
   "cell_type": "code",
   "execution_count": 21,
   "id": "c95e3538-de4e-481c-bfed-b541cb46989e",
   "metadata": {
    "jupyter": {
     "source_hidden": true
    }
   },
   "outputs": [
    {
     "data": {
      "application/vnd.jupyter.widget-view+json": {
       "model_id": "ab8db2cb362b44dfbc6be29436a9bc33",
       "version_major": 2,
       "version_minor": 0
      },
      "text/plain": [
       "Text(value='', description='3.7 What is the license for the data?', layout=Layout(width='900px'), placeholder=…"
      ]
     },
     "metadata": {},
     "output_type": "display_data"
    },
    {
     "data": {
      "application/vnd.jupyter.widget-view+json": {
       "model_id": "cf05862deac04aa19220141641d3b0ca",
       "version_major": 2,
       "version_minor": 0
      },
      "text/plain": [
       "Combobox(value='', description='Is the license standardized and machine-readable (e.g. Creative Commons)?', la…"
      ]
     },
     "metadata": {},
     "output_type": "display_data"
    }
   ],
   "source": [
    "\n",
    "dataset_licence = widgets.Text(\n",
    "            value='',\n",
    "            description='3.7 What is the license for the data?',\n",
    "            placeholder=\"Type your answer\",\n",
    "            layout=widgets.Layout(width=widget_width),\n",
    "            style = description_style\n",
    "            )\n",
    "\n",
    "dataset_licence_machine_readable = widgets.Combobox(\n",
    "            options=['Yes', 'No', 'N/A'],\n",
    "            description='Is the license standardized and machine-readable (e.g. Creative Commons)?',\n",
    "            placeholder=placeholder,\n",
    "            layout=widgets.Layout(width=widget_width),\n",
    "            style = description_style\n",
    "            )\n",
    "\n",
    "display(dataset_licence, dataset_licence_machine_readable)"
   ]
  },
  {
   "cell_type": "markdown",
   "id": "47b25bef-3f4d-4a88-b666-b1abefcbac18",
   "metadata": {},
   "source": [
    "### Dataset useage"
   ]
  },
  {
   "cell_type": "code",
   "execution_count": 22,
   "id": "cde4cc94-5bef-4dbd-93fc-6da650a82848",
   "metadata": {
    "jupyter": {
     "source_hidden": true
    },
    "scrolled": true
   },
   "outputs": [
    {
     "data": {
      "application/vnd.jupyter.widget-view+json": {
       "model_id": "b3511d9a04da42b78f2fc8036eb8993f",
       "version_major": 2,
       "version_minor": 0
      },
      "text/plain": [
       "Textarea(value='', description='3.8 Has this dataset already been used in AI or ML activities? Link to publica…"
      ]
     },
     "metadata": {},
     "output_type": "display_data"
    },
    {
     "data": {
      "application/vnd.jupyter.widget-view+json": {
       "model_id": "66e226f88e9a443b921a1c10b2c13f5f",
       "version_major": 2,
       "version_minor": 0
      },
      "text/plain": [
       "Combobox(value='', description='3.9 Are there recommendations on the intended use of the data, and uses that a…"
      ]
     },
     "metadata": {},
     "output_type": "display_data"
    }
   ],
   "source": [
    "\n",
    "ai_ml_existing_useage_links = widgets.Textarea(\n",
    "            value='',\n",
    "            description='3.8 Has this dataset already been used in AI or ML activities? Link to publications/reports',\n",
    "            layout=widgets.Layout(width=widget_width),\n",
    "            style = description_style\n",
    "            )\n",
    "\n",
    "usage_recomendations = widgets.Combobox(\n",
    "            options=['Yes', 'No', 'N/A'],\n",
    "            description='3.9 Are there recommendations on the intended use of the data, and uses that are not recommended?',\n",
    "            placeholder=placeholder,\n",
    "            layout=widgets.Layout(width=widget_width),\n",
    "            style = description_style\n",
    "            )\n",
    "\n",
    "display(ai_ml_existing_useage_links, usage_recomendations)"
   ]
  },
  {
   "cell_type": "code",
   "execution_count": 23,
   "id": "9588a3dd-2cfb-4a5e-8596-b36e0a73ebbb",
   "metadata": {
    "jupyter": {
     "source_hidden": true
    }
   },
   "outputs": [
    {
     "data": {
      "application/vnd.jupyter.widget-view+json": {
       "model_id": "682a14278aa845769f94c938f351dd22",
       "version_major": 2,
       "version_minor": 0
      },
      "text/plain": [
       "Button(button_style='primary', description='Save Data Documentation Answers to json file', layout=Layout(flex=…"
      ]
     },
     "metadata": {},
     "output_type": "display_data"
    }
   ],
   "source": [
    "\n",
    "# Save button\n",
    "save_button = widgets.Button(description=\"Save Data Documentation Answers to json file\",  button_style=\"primary\",  layout=widgets.Layout(flex='1 1 auto', width='auto'))\n",
    "\n",
    "def generate_updates_documentation():\n",
    "\n",
    "    updates = {\n",
    "        \"DataDocumentation\": {\n",
    "            #Metadata\n",
    "            \"MetadataStandard\": metadata_standard.value,\n",
    "            \"MetadataStandardName\": metadata_standard_detail.value,\n",
    "            \"MetadataMachineReadable\": metadata_machine_readable.value,\n",
    "            \"MetadataSpatialTemporalExtent\": metadata_spatial_temporal.value,\n",
    "            \n",
    "            # Data Dictionary\n",
    "            \"DataDictionaryExists\": data_dictionary.value,            \n",
    "            \"DataDictionaryStandardised\" : data_dictionary_standardized.value,\n",
    "            \"DataDictionaryMachineReadable\" : data_dictionary_machine_readable.value,\n",
    "            \"DataDictionaryParametersFollowStandard\" : parameters_defined_standard.value,\n",
    "            \"DataDictionaryStandardName\" : parameters_defined_standard_detail.value,\n",
    "            \"DataDictionaryParametersCrosswalked\" : parameters_common_vocabulary.value,\n",
    "            \n",
    "            # Identifier\n",
    "            \"IdentifierExists\" : unique_persistent_identifier.value,\n",
    "            \"Identifier\" : unique_persistent_identifier_link.value,\n",
    "            \n",
    "            # Contact and feedback\n",
    "            \"ContactInformation\" : contact_info_available.value,\n",
    "            \"UserFeedbackMechanism\" : feedback_mechanism_available.value,\n",
    "\n",
    "            #Misc\n",
    "            \"ExampleCodesAvailable\" : example_code_available.value,\n",
    "            \"LicenseType\" : dataset_licence.value,\n",
    "            \"LicenceMachineReadable\" : dataset_licence_machine_readable.value,\n",
    "            \"UsedInAIorMLReports\" : ai_ml_existing_useage_links.value,\n",
    "            \"UsageRecommendations\" : usage_recomendations.value,\n",
    "        }\n",
    "    }\n",
    "    return updates\n",
    "\n",
    "save_button.on_click(lambda b: update_checklist(b, generate_updates_documentation()))\n",
    "\n",
    "display(save_button)"
   ]
  },
  {
   "cell_type": "markdown",
   "id": "ead060fb-06f2-4aae-9078-bf85bc7d9228",
   "metadata": {},
   "source": [
    "---\n",
    "\n",
    "## **4. Data Access**"
   ]
  },
  {
   "cell_type": "markdown",
   "id": "12e3b61f-8d2d-45b1-84e5-edabefbf4277",
   "metadata": {},
   "source": [
    "### File formats"
   ]
  },
  {
   "cell_type": "code",
   "execution_count": 35,
   "id": "77ec0e3b-f57f-4b1a-ae3e-e11da3fd2cd0",
   "metadata": {
    "jupyter": {
     "source_hidden": true
    }
   },
   "outputs": [
    {
     "data": {
      "application/vnd.jupyter.widget-view+json": {
       "model_id": "290bb116722847cfa02780be700af004",
       "version_major": 2,
       "version_minor": 0
      },
      "text/plain": [
       "Label(value='4.1 What is/are the major file formats? (Use shift / Ctrl / CMD to select multiple)')"
      ]
     },
     "metadata": {},
     "output_type": "display_data"
    },
    {
     "data": {
      "application/vnd.jupyter.widget-view+json": {
       "model_id": "b614f553a5fa4ea3bfdac1f84e0d8691",
       "version_major": 2,
       "version_minor": 0
      },
      "text/plain": [
       "SelectMultiple(options=('CSV', 'netCDF', 'geoJSON', 'Shapefile', 'GRIB', 'HDF', 'GeoTIFF', 'KML', 'GINI', 'Zar…"
      ]
     },
     "metadata": {},
     "output_type": "display_data"
    },
    {
     "data": {
      "application/vnd.jupyter.widget-view+json": {
       "model_id": "e3ea2f21040848c399b65ef5361703f0",
       "version_major": 2,
       "version_minor": 0
      },
      "text/plain": [
       "Combobox(value='', description='Are the main formats machine-readable?', layout=Layout(width='900px'), options…"
      ]
     },
     "metadata": {},
     "output_type": "display_data"
    },
    {
     "data": {
      "application/vnd.jupyter.widget-view+json": {
       "model_id": "0716881964e147439047d6c99611d9e8",
       "version_major": 2,
       "version_minor": 0
      },
      "text/plain": [
       "Combobox(value='', description='Is the data available in at least one open, non-proprietary format?', layout=L…"
      ]
     },
     "metadata": {},
     "output_type": "display_data"
    },
    {
     "data": {
      "application/vnd.jupyter.widget-view+json": {
       "model_id": "5c93bd9c2caa4e4faffda108c68456b7",
       "version_major": 2,
       "version_minor": 0
      },
      "text/plain": [
       "Combobox(value='', description='Are there tools/services to support data format conversion?', layout=Layout(wi…"
      ]
     },
     "metadata": {},
     "output_type": "display_data"
    },
    {
     "data": {
      "application/vnd.jupyter.widget-view+json": {
       "model_id": "0a29e5a3c09c49369d4a93c949a0764f",
       "version_major": 2,
       "version_minor": 0
      },
      "text/plain": [
       "Text(value='', description='Tools / services link:', layout=Layout(width='900px'), placeholder='If yes, provid…"
      ]
     },
     "metadata": {},
     "output_type": "display_data"
    }
   ],
   "source": [
    "\n",
    "dataset_file_formats_label = widgets.Label(\n",
    "    value = \"4.1 What is/are the major file formats? (Use shift / Ctrl / CMD to select multiple)\"\n",
    ")\n",
    "\n",
    "dataset_file_format_options = ['CSV', 'netCDF', 'geoJSON', 'Shapefile', 'GRIB', 'HDF', 'GeoTIFF', 'KML', 'GINI', 'Zarr', 'Other']\n",
    "\n",
    "dataset_file_formats = widgets.SelectMultiple(\n",
    "    options=dataset_file_format_options,\n",
    "    value=(),\n",
    "    rows=len(dataset_file_format_options),\n",
    ")\n",
    "\n",
    "dataset_file_formats_machine_readable = widgets.Combobox(\n",
    "            options=['Yes', 'No', 'N/A'],\n",
    "            description='Are the main formats machine-readable?',\n",
    "            placeholder=placeholder,\n",
    "            layout=widgets.Layout(width=widget_width),\n",
    "            style = description_style\n",
    "            )\n",
    "\n",
    "dataset_file_formats_non_proprietary = widgets.Combobox(\n",
    "            options=['Yes', 'No', 'N/A'],\n",
    "            description='Is the data available in at least one open, non-proprietary format?',\n",
    "            placeholder=placeholder,\n",
    "            layout=widgets.Layout(width=widget_width),\n",
    "            style = description_style\n",
    "            )\n",
    "\n",
    "dataset_file_formats_conversion_tools = widgets.Combobox(\n",
    "            options=['Yes', 'No', 'N/A'],\n",
    "            description='Are there tools/services to support data format conversion?',\n",
    "            placeholder=placeholder,\n",
    "            layout=widgets.Layout(width=widget_width),\n",
    "            style = description_style\n",
    "            )\n",
    "\n",
    "dataset_file_formats_conversion_tools_link = widgets.Text(\n",
    "            value='',\n",
    "            description='Tools / services link:',\n",
    "            placeholder='If yes, provide the link to the tools/services',\n",
    "            layout=widgets.Layout(width=widget_width),\n",
    "            style = description_style\n",
    "            )\n",
    "\n",
    "def on_click_handler_sel_format(change):\n",
    "    \"\"\"\n",
    "    Completes various fields based on the file format selection.\n",
    "    \"\"\"\n",
    "    \n",
    "    selected_formats = change['new']\n",
    "    dataset_file_formats_conversion_tools_link_dict = {'CSV':['https://pandas.pydata.org/', 'https://www.qgis.org/', 'https://www.arcgis.com/home/index.html', ],\n",
    "                                                        'netCDF':['https://unidata.github.io/netcdf4-python/','https://scitools-iris.readthedocs.io/en/stable/index.html', 'https://docs.xarray.dev/en/stable/', 'https://www.giss.nasa.gov/tools/panoply/', 'https://www.unidata.ucar.edu/software/tds/', 'https://www.mathworks.com/products/matlab.html'],\n",
    "                                                        'geoJSON':['https://www.qgis.org/', 'https://www.arcgis.com/home/index.html', 'https://geopandas.org/en/stable/', 'https://shapely.readthedocs.io/en/stable/manual.html'],\n",
    "                                                        'Shapefile':['https://www.qgis.org/', 'https://www.arcgis.com/home/index.html', 'https://gdal.org/en/latest/', 'https://pypi.org/project/pyshp/', 'https://geopandas.org/en/stable/',], \n",
    "                                                        'GRIB':['https://scitools-iris.readthedocs.io/en/stable/index.html', 'https://www.giss.nasa.gov/tools/panoply/', 'https://www.qgis.org/', 'https://www.cpc.ncep.noaa.gov/products/wesley/wgrib2/', 'https://github.com/ecmwf/cfgrib'],\n",
    "                                                        'HDF':['https://www.h5py.org/', 'https://www.giss.nasa.gov/tools/panoply/','https://earth.esa.int/eogateway/tools/hdfview'],\n",
    "                                                        'GeoTIFF':['https://www.qgis.org/', 'https://www.arcgis.com/home/index.html','https://gdal.org/en/latest/','https://rasterio.readthedocs.io/en/stable/'],\n",
    "                                                        'KML':['https://www.qgis.org/', 'https://www.arcgis.com/home/index.html','https://fastkml.readthedocs.io/en/latest/','https://simplekml.readthedocs.io/en/latest/'],\n",
    "                                                        'GINI':['https://gdal.org/en/latest/', 'https://www.unidata.ucar.edu/software/metpy/'],\n",
    "                                                        'Zarr':['https://zarr.readthedocs.io/en/stable/', 'https://docs.xarray.dev/en/stable/','https://www.dask.org']}\n",
    "\n",
    "    if set(selected_formats) & {'CSV', 'netCDF', 'geoJSON', 'Shapefile', 'GRIB', 'HDF', 'GeoTIFF', 'KML', 'GINI', 'Zarr'}:\n",
    "        dataset_file_formats_machine_readable.value = 'Yes'\n",
    "    elif set(selected_formats) & {'Other'}:\n",
    "        dataset_file_formats_machine_readable.value = ''\n",
    "    else:\n",
    "        dataset_file_formats_machine_readable.value = 'No'\n",
    "    \n",
    "    if set(selected_formats) & {'CSV', 'netCDF', 'geoJSON', 'Shapefile', 'GRIB', 'HDF','GeoTIFF', 'Zarr'}:\n",
    "        dataset_file_formats_non_proprietary.value = 'Yes'\n",
    "    elif set(selected_formats) & {'Other'}:\n",
    "        dataset_file_formats_non_proprietary.value = ''\n",
    "    else:\n",
    "        dataset_file_formats_non_proprietary.value = 'No'\n",
    "    \n",
    "    # Determine if conversion tools are available\n",
    "    if set(selected_formats) & {'CSV', 'netCDF', 'geoJSON', 'Shapefile', 'GRIB', 'HDF', 'GeoTIFF', 'KML', 'GINI', 'Zarr'}:\n",
    "        dataset_file_formats_conversion_tools.value = 'Yes'\n",
    "        dataset_file_formats_conversion_tools_link_list = []\n",
    "        for format in list(set(selected_formats)):\n",
    "            [dataset_file_formats_conversion_tools_link_list.append(i) for i in dataset_file_formats_conversion_tools_link_dict[format]]\n",
    "        dataset_file_formats_conversion_tools_link.value = ' '.join(list(set(dataset_file_formats_conversion_tools_link_list)))\n",
    "    elif set(selected_formats) & {'Other'}:\n",
    "        dataset_file_formats_conversion_tools.value = ''\n",
    "        dataset_file_formats_conversion_tools_link.value = ''\n",
    "    else:\n",
    "        dataset_file_formats_conversion_tools.value = 'No'\n",
    "        dataset_file_formats_conversion_tools_link.value = ''\n",
    "\n",
    "dataset_file_formats.observe(on_click_handler_sel_format, names='value')\n",
    "\n",
    "display(dataset_file_formats_label, dataset_file_formats, dataset_file_formats_machine_readable, dataset_file_formats_non_proprietary, dataset_file_formats_conversion_tools, dataset_file_formats_conversion_tools_link)"
   ]
  },
  {
   "cell_type": "markdown",
   "id": "7e3bb476-ba1e-4507-b7f0-55db7ce9710a",
   "metadata": {},
   "source": [
    "### Data delivery"
   ]
  },
  {
   "cell_type": "code",
   "execution_count": 25,
   "id": "acf9768d-6572-4719-b5d3-b95e7e94d2f5",
   "metadata": {
    "jupyter": {
     "source_hidden": true
    }
   },
   "outputs": [
    {
     "data": {
      "application/vnd.jupyter.widget-view+json": {
       "model_id": "6e374da5c86e46e8be2eb3be4efa28f7",
       "version_major": 2,
       "version_minor": 0
      },
      "text/plain": [
       "Combobox(value='', description='4.2 Does data access require authentication (e.g., a registered user account)?…"
      ]
     },
     "metadata": {},
     "output_type": "display_data"
    },
    {
     "data": {
      "application/vnd.jupyter.widget-view+json": {
       "model_id": "5d18a7dfc0ad4a93b359c877f7b230d6",
       "version_major": 2,
       "version_minor": 0
      },
      "text/plain": [
       "Combobox(value='', description='4.3 Can the file be accessed via direct file downloading or ordering?', layout…"
      ]
     },
     "metadata": {},
     "output_type": "display_data"
    },
    {
     "data": {
      "application/vnd.jupyter.widget-view+json": {
       "model_id": "fd8bf399fd2e4195a46f050580d5b6bc",
       "version_major": 2,
       "version_minor": 0
      },
      "text/plain": [
       "Combobox(value='', description='4.4 Is there an Application Programming Interface (API) or web service to acce…"
      ]
     },
     "metadata": {},
     "output_type": "display_data"
    },
    {
     "data": {
      "application/vnd.jupyter.widget-view+json": {
       "model_id": "0e6468d8f7ba43fc95123269347d78ed",
       "version_major": 2,
       "version_minor": 0
      },
      "text/plain": [
       "Combobox(value='', description='If there is an API, does the API follow an open standard protocol (e.g., OGC)?…"
      ]
     },
     "metadata": {},
     "output_type": "display_data"
    },
    {
     "data": {
      "application/vnd.jupyter.widget-view+json": {
       "model_id": "311a89d1c350405d826c5637bb359578",
       "version_major": 2,
       "version_minor": 0
      },
      "text/plain": [
       "Combobox(value='', description='If there is an API, is there documentation for the API?', layout=Layout(displa…"
      ]
     },
     "metadata": {},
     "output_type": "display_data"
    },
    {
     "data": {
      "application/vnd.jupyter.widget-view+json": {
       "model_id": "3457a2a3b3784cf7834961dc6c9f36bc",
       "version_major": 2,
       "version_minor": 0
      },
      "text/plain": [
       "Text(value='', layout=Layout(display='none', width='900px'), placeholder='If “Yes”, please provide a URL to th…"
      ]
     },
     "metadata": {},
     "output_type": "display_data"
    }
   ],
   "source": [
    "\n",
    "dataset_authentication = widgets.Combobox(\n",
    "            options=['Yes', 'No', 'N/A'],\n",
    "            description='4.2 Does data access require authentication (e.g., a registered user account)?',\n",
    "            placeholder=placeholder,\n",
    "            layout=widgets.Layout(width=widget_width),\n",
    "            style = description_style\n",
    "            )\n",
    "\n",
    "dataset_direct_access = widgets.Combobox(\n",
    "            options=['Yes', 'No', 'N/A'],\n",
    "            description='4.3 Can the file be accessed via direct file downloading or ordering?',\n",
    "            placeholder=placeholder,\n",
    "            layout=widgets.Layout(width=widget_width),\n",
    "            style = description_style\n",
    "            )\n",
    "\n",
    "dataset_api_available = widgets.Combobox(\n",
    "            options=['Yes', 'No', 'N/A'],\n",
    "            description='4.4 Is there an Application Programming Interface (API) or web service to access the data?',\n",
    "            placeholder=placeholder,\n",
    "            layout=widgets.Layout(width=widget_width),\n",
    "            style = description_style\n",
    "            )\n",
    "\n",
    "dataset_api_standard_protocol = widgets.Combobox(\n",
    "            options=['Yes', 'No', 'N/A'],\n",
    "            description='If there is an API, does the API follow an open standard protocol (e.g., OGC)?',\n",
    "            placeholder=placeholder,\n",
    "            layout=widgets.Layout(display=\"none\", width=widget_width),\n",
    "            style = description_style\n",
    "            )\n",
    "\n",
    "dataset_api_documentation_available = widgets.Combobox(\n",
    "            options=['Yes', 'No', 'N/A'],\n",
    "            description='If there is an API, is there documentation for the API?',\n",
    "            placeholder=placeholder,\n",
    "            layout=widgets.Layout(display=\"none\", width=widget_width),\n",
    "            style = description_style\n",
    "            )\n",
    "\n",
    "dataset_api_documentation_link = widgets.Text(\n",
    "            value='',\n",
    "            placeholder='If “Yes”, please provide a URL to the documentation.',\n",
    "            layout=widgets.Layout(display=\"none\", width=widget_width)\n",
    "            )\n",
    "\n",
    "\n",
    "\n",
    "# Function to change the display setting of the following UI components. \n",
    "def on_click_handler(change):    \n",
    "\n",
    "    # Show / hide main trunk of questions. \n",
    "    if dataset_api_available.value == \"Yes\":\n",
    "        dataset_api_standard_protocol.layout.display = ''\n",
    "        dataset_api_documentation_available.layout.display = ''\n",
    "        dataset_api_documentation_link.layout.display = ''\n",
    "\n",
    "    else:   \n",
    "        dataset_api_standard_protocol.layout.display = 'none'\n",
    "        dataset_api_documentation_available.layout.display = 'none'\n",
    "        dataset_api_documentation_link.layout.display = 'none'\n",
    "\n",
    "        dataset_api_standard_protocol.value = 'N/A'\n",
    "        dataset_api_documentation_available.value = 'N/A'\n",
    "        dataset_api_documentation_link.value = ''\n",
    "\n",
    "\n",
    "  \n",
    "            \n",
    "# Display the UI components\n",
    "display(dataset_authentication, dataset_direct_access, dataset_api_available, dataset_api_standard_protocol, dataset_api_documentation_available, dataset_api_documentation_link)\n",
    "\n",
    "\n",
    "# Observe UI components for changes and call the on_click_handler function if value property changed. \n",
    "dataset_api_available.observe(on_click_handler, names=\"value\")\n",
    "\n",
    "\n",
    "\n",
    "\n"
   ]
  },
  {
   "cell_type": "markdown",
   "id": "5cb8b683-a629-4616-8074-65e696da6e9a",
   "metadata": {},
   "source": [
    "### Privacy and security\n"
   ]
  },
  {
   "cell_type": "code",
   "execution_count": 26,
   "id": "16e6258a-3aee-42fe-bc61-3161b89a499c",
   "metadata": {
    "jupyter": {
     "source_hidden": true
    }
   },
   "outputs": [
    {
     "data": {
      "application/vnd.jupyter.widget-view+json": {
       "model_id": "e20f9ff9e26f44c9b9af8d128775988e",
       "version_major": 2,
       "version_minor": 0
      },
      "text/plain": [
       "Combobox(value='', description='4.5 For restricted data, have measures been taken to provide some access while…"
      ]
     },
     "metadata": {},
     "output_type": "display_data"
    },
    {
     "data": {
      "application/vnd.jupyter.widget-view+json": {
       "model_id": "c1f2102a34c44ae19946161509f3e622",
       "version_major": 2,
       "version_minor": 0
      },
      "text/plain": [
       "Combobox(value='', description='4.6 Has the data been aggregated to reduce granularity?', layout=Layout(width=…"
      ]
     },
     "metadata": {},
     "output_type": "display_data"
    },
    {
     "data": {
      "application/vnd.jupyter.widget-view+json": {
       "model_id": "ead592738d8e4802b54c268731e4d88f",
       "version_major": 2,
       "version_minor": 0
      },
      "text/plain": [
       "Combobox(value='', description='4.7 Has the data been anonymized / de-identified?', layout=Layout(width='900px…"
      ]
     },
     "metadata": {},
     "output_type": "display_data"
    },
    {
     "data": {
      "application/vnd.jupyter.widget-view+json": {
       "model_id": "60d7d4deb3b74d82bd3b89c5dac5bc5a",
       "version_major": 2,
       "version_minor": 0
      },
      "text/plain": [
       "Combobox(value='', description='4.8 Is there secure access to the full dataset for authorized users? ', layout…"
      ]
     },
     "metadata": {},
     "output_type": "display_data"
    }
   ],
   "source": [
    "\n",
    "dataset_restricted_protection = widgets.Combobox(\n",
    "            options=['Yes', 'No', 'N/A'],\n",
    "            description='4.5 For restricted data, have measures been taken to provide some access while still applying appropriate protection for privacy and security?',\n",
    "            placeholder=placeholder,\n",
    "            layout=widgets.Layout(width=widget_width),\n",
    "            style = description_style\n",
    "            \n",
    "            )\n",
    "\n",
    "dataset_aggregation = widgets.Combobox(\n",
    "            options=['Yes', 'No', 'N/A'],\n",
    "            description='4.6 Has the data been aggregated to reduce granularity?',\n",
    "            placeholder=placeholder,\n",
    "            layout=widgets.Layout(width=widget_width),\n",
    "            style = description_style\n",
    "            )\n",
    "\n",
    "dataset_anonymization = widgets.Combobox(\n",
    "            options=['Yes', 'No', 'N/A'],\n",
    "            description='4.7 Has the data been anonymized / de-identified?',\n",
    "            placeholder=placeholder,\n",
    "            layout=widgets.Layout(width=widget_width),\n",
    "            style = description_style\n",
    "            )\n",
    "\n",
    "dataset_secure_access = widgets.Combobox(\n",
    "            options=['Yes', 'No', 'N/A'],\n",
    "            description='4.8 Is there secure access to the full dataset for authorized users? ',\n",
    "            placeholder=placeholder,\n",
    "            layout=widgets.Layout(width=widget_width),\n",
    "            style = description_style\n",
    "            )\n",
    "\n",
    "display(dataset_restricted_protection, dataset_aggregation, dataset_anonymization, dataset_secure_access)\n"
   ]
  },
  {
   "cell_type": "code",
   "execution_count": 27,
   "id": "739ddb16-9b20-4c19-8860-8e8636759965",
   "metadata": {
    "jupyter": {
     "source_hidden": true
    }
   },
   "outputs": [
    {
     "data": {
      "application/vnd.jupyter.widget-view+json": {
       "model_id": "2fdd58f98a164cbb83e7af0774b090db",
       "version_major": 2,
       "version_minor": 0
      },
      "text/plain": [
       "Button(button_style='primary', description='Save Data Access Answers to json file', layout=Layout(flex='1 1 au…"
      ]
     },
     "metadata": {},
     "output_type": "display_data"
    }
   ],
   "source": [
    "\n",
    "# Save button\n",
    "save_button = widgets.Button(description=\"Save Data Access Answers to json file\",  button_style=\"primary\",  layout=widgets.Layout(flex='1 1 auto', width='auto'))\n",
    "\n",
    "def generate_updates_access():\n",
    "\n",
    "    updates = {\n",
    "        \"DataAccess\": {\n",
    "            #File Formats\n",
    "            \"FileFormats\": dataset_file_formats.value,\n",
    "            \"FileFormatsMachineReadable\": dataset_file_formats_machine_readable.value,\n",
    "            \"OpenFormatAvailable\": dataset_file_formats_non_proprietary.value,\n",
    "            \"FormatConversionTools\": dataset_file_formats_conversion_tools.value,\n",
    "            \"ConversionToolsLink\": dataset_file_formats_conversion_tools_link.value, \n",
    "\n",
    "            # Data Delivery\n",
    "            \"AuthenticationRequired\" : dataset_authentication.value,\n",
    "            \"DirectDownloadAvailable\" : dataset_direct_access.value,\n",
    "            \"APIorWebAvailable\" : dataset_api_available.value,\n",
    "            \"APIOpenStandard\" : dataset_api_standard_protocol.value,\n",
    "            \"APIDocumentation\" : dataset_api_documentation_available.value,\n",
    "            \"APIDocumentationLink\" : dataset_api_documentation_link.value,\n",
    "\n",
    "            # Privacy and Security\n",
    "            \"SecurityMeasuresTaken\" : dataset_restricted_protection.value,\n",
    "            \"DataAggregated\" : dataset_aggregation.value,\n",
    "            \"DataAnonymized\" : dataset_anonymization.value,\n",
    "            \"SecureAccessForAuthorizedUsers\" : dataset_secure_access.value,\n",
    "        }\n",
    "    }\n",
    "    return updates\n",
    "\n",
    "save_button.on_click(lambda b: update_checklist(b, generate_updates_access()))\n",
    "\n",
    "display(save_button)"
   ]
  },
  {
   "cell_type": "markdown",
   "id": "0ef2f783-495b-406e-8c25-5258c410520c",
   "metadata": {},
   "source": [
    "---\n",
    "\n",
    "## **5. Data Preparation**"
   ]
  },
  {
   "cell_type": "markdown",
   "id": "fc47836b-19bb-4d24-b500-884d9e754f78",
   "metadata": {},
   "source": [
    "### Null values"
   ]
  },
  {
   "cell_type": "code",
   "execution_count": 28,
   "id": "598d7fa2-f6c6-451e-9b12-a282d6a70be7",
   "metadata": {
    "jupyter": {
     "source_hidden": true
    }
   },
   "outputs": [
    {
     "data": {
      "application/vnd.jupyter.widget-view+json": {
       "model_id": "831082db1e414418a5977d657e293193",
       "version_major": 2,
       "version_minor": 0
      },
      "text/plain": [
       "Combobox(value='', description='5.1 Have null values/gaps been filled?', layout=Layout(width='900px'), options…"
      ]
     },
     "metadata": {},
     "output_type": "display_data"
    }
   ],
   "source": [
    "\n",
    "dataset_null_values = widgets.Combobox(\n",
    "            options=['Yes', 'No', 'N/A'],\n",
    "            description='5.1 Have null values/gaps been filled?',\n",
    "            placeholder=placeholder,\n",
    "            layout=widgets.Layout(width=widget_width),\n",
    "            style = description_style\n",
    "            )\n",
    "\n",
    "display(dataset_null_values)"
   ]
  },
  {
   "cell_type": "markdown",
   "id": "8cc450ae-d5bb-464d-bc4d-da3f09bcca06",
   "metadata": {},
   "source": [
    "### Outliers"
   ]
  },
  {
   "cell_type": "code",
   "execution_count": 29,
   "id": "8c912605-887f-4b59-b07a-34dfbdc2bc8d",
   "metadata": {
    "jupyter": {
     "source_hidden": true
    }
   },
   "outputs": [
    {
     "data": {
      "application/vnd.jupyter.widget-view+json": {
       "model_id": "9ec4ab4cfed0456fa5ad217b843e92ab",
       "version_major": 2,
       "version_minor": 0
      },
      "text/plain": [
       "Combobox(value='', description='5.2 Have outliers been identified?', layout=Layout(width='900px'), options=('Y…"
      ]
     },
     "metadata": {},
     "output_type": "display_data"
    }
   ],
   "source": [
    "\n",
    "dataset_outliers = widgets.Combobox(\n",
    "            options=['Yes, tagged ', 'Yes, removed', 'No', 'N/A'],\n",
    "            description='5.2 Have outliers been identified?',\n",
    "            placeholder=placeholder,\n",
    "            layout=widgets.Layout(width=widget_width),\n",
    "            style = description_style\n",
    "            )\n",
    "\n",
    "display(dataset_outliers)\n"
   ]
  },
  {
   "cell_type": "markdown",
   "id": "ad80647b-e571-4b0c-a291-c75c76b867fd",
   "metadata": {},
   "source": [
    "### Gridded data\n"
   ]
  },
  {
   "cell_type": "code",
   "execution_count": 30,
   "id": "45f3adc6-7550-488b-923d-c3d17a912b89",
   "metadata": {
    "jupyter": {
     "source_hidden": true
    }
   },
   "outputs": [
    {
     "data": {
      "application/vnd.jupyter.widget-view+json": {
       "model_id": "cecf2d3376b54d65acb7bdd18959b1f1",
       "version_major": 2,
       "version_minor": 0
      },
      "text/plain": [
       "Combobox(value='', description='5.3 Is the data gridded (regularly sampled in time and space)?', layout=Layout…"
      ]
     },
     "metadata": {},
     "output_type": "display_data"
    },
    {
     "data": {
      "application/vnd.jupyter.widget-view+json": {
       "model_id": "a77dc0c748f941218473728795d22e94",
       "version_major": 2,
       "version_minor": 0
      },
      "text/plain": [
       "Combobox(value='', description='If the data is gridded, was it transformed from a different original sampling?…"
      ]
     },
     "metadata": {},
     "output_type": "display_data"
    },
    {
     "data": {
      "application/vnd.jupyter.widget-view+json": {
       "model_id": "4ad55d40275341a7a22e7f2999e9ee1c",
       "version_major": 2,
       "version_minor": 0
      },
      "text/plain": [
       "Combobox(value='', description='If the data is resampled from the original sampling, is the data also availabl…"
      ]
     },
     "metadata": {},
     "output_type": "display_data"
    }
   ],
   "source": [
    "\n",
    "dataset_gridded = widgets.Combobox(\n",
    "            options=['Regularly gridded in space', 'Constant time-frequency', 'Regularly gridded in space and constant time-frequency', 'Not gridded', 'N/A'],\n",
    "            description='5.3 Is the data gridded (regularly sampled in time and space)?',\n",
    "            placeholder=placeholder,\n",
    "            layout=widgets.Layout(width=widget_width),\n",
    "            style = description_style\n",
    "            )\n",
    "\n",
    "dataset_gridded_transformed = widgets.Combobox(\n",
    "            options=['Yes, from irregular sampling', 'Yes, from a different regular sampling', 'No, this is the original sampling', 'N/A'],\n",
    "            description='If the data is gridded, was it transformed from a different original sampling?',            \n",
    "            placeholder=placeholder,\n",
    "            layout=widgets.Layout(width=widget_width),\n",
    "            style = description_style\n",
    "            )\n",
    "\n",
    "\n",
    "dataset_gridded_original_sample = widgets.Combobox(\n",
    "            options=['Yes', 'No', 'Only by request', 'N/A'],\n",
    "            description = 'If the data is resampled from the original sampling, is the data also available at the original sampling?',\n",
    "            placeholder=placeholder,\n",
    "            layout=widgets.Layout(width=widget_width),\n",
    "            style = description_style\n",
    "            )\n",
    "\n",
    "display(dataset_gridded, dataset_gridded_transformed, dataset_gridded_original_sample)"
   ]
  },
  {
   "cell_type": "markdown",
   "id": "55a87005-4929-45c3-a2f6-f0b4eec60de8",
   "metadata": {},
   "source": [
    "### Targets / labels for supervised learning"
   ]
  },
  {
   "cell_type": "code",
   "execution_count": 31,
   "id": "e7447fb9-566f-4b99-b5ec-afc9ccc05954",
   "metadata": {
    "jupyter": {
     "source_hidden": true
    }
   },
   "outputs": [
    {
     "data": {
      "application/vnd.jupyter.widget-view+json": {
       "model_id": "1f25c417a48e4d1fb9baeb722eff73ce",
       "version_major": 2,
       "version_minor": 0
      },
      "text/plain": [
       "Combobox(value='', description='5.4 Are there associated targets or labels for supervised learning techniques?…"
      ]
     },
     "metadata": {},
     "output_type": "display_data"
    },
    {
     "data": {
      "application/vnd.jupyter.widget-view+json": {
       "model_id": "5891fe846c25489fb08ef09761510832",
       "version_major": 2,
       "version_minor": 0
      },
      "text/plain": [
       "Label(value='If there are associated targets/labels, are community labeling standards implemented?')"
      ]
     },
     "metadata": {},
     "output_type": "display_data"
    },
    {
     "data": {
      "application/vnd.jupyter.widget-view+json": {
       "model_id": "96ad952567284c4da478b5e6b594c5e9",
       "version_major": 2,
       "version_minor": 0
      },
      "text/plain": [
       "Text(value='', layout=Layout(width='900px'), placeholder='e.g., STAC label extension, ESA AIREO specification,…"
      ]
     },
     "metadata": {},
     "output_type": "display_data"
    }
   ],
   "source": [
    "\n",
    "dataset_targets_or_labels = widgets.Combobox(\n",
    "            options=['Yes', 'No', 'N/A'],\n",
    "            description = '5.4 Are there associated targets or labels for supervised learning techniques?',\n",
    "            placeholder='Click to select option - (Can this be used as a training dataset)?',\n",
    "            layout=widgets.Layout(width=widget_width),\n",
    "            style = description_style\n",
    "            )\n",
    "\n",
    "dataset_targets_or_labels_standards_label = widgets.Label(\n",
    "    value = \"If there are associated targets/labels, are community labeling standards implemented?\"\n",
    ")\n",
    "\n",
    "dataset_targets_or_labels_standards = widgets.Text(\n",
    "            value = '',\n",
    "            placeholder = 'e.g., STAC label extension, ESA AIREO specification, etc.',\n",
    "            layout = widgets.Layout(width=widget_width)\n",
    ")\n",
    "\n",
    "display(dataset_targets_or_labels, dataset_targets_or_labels_standards_label, dataset_targets_or_labels_standards)"
   ]
  },
  {
   "cell_type": "code",
   "execution_count": 32,
   "id": "a12da54d-ed9f-4c2b-8f0d-dc19a82309e7",
   "metadata": {
    "jupyter": {
     "source_hidden": true
    }
   },
   "outputs": [
    {
     "data": {
      "application/vnd.jupyter.widget-view+json": {
       "model_id": "ec60396abb43425e86848bc2a38bb506",
       "version_major": 2,
       "version_minor": 0
      },
      "text/plain": [
       "Button(button_style='primary', description='Save Data Access Answers to json file', layout=Layout(flex='1 1 au…"
      ]
     },
     "metadata": {},
     "output_type": "display_data"
    }
   ],
   "source": [
    "\n",
    "# Save button\n",
    "save_button = widgets.Button(description=\"Save Data Access Answers to json file\",  button_style=\"primary\",  layout=widgets.Layout(flex='1 1 auto', width='auto'))\n",
    "\n",
    "def generate_updates_preparation():\n",
    "\n",
    "    updates = {\n",
    "        \"DataPreparation\": {\n",
    "            \"NullValuesFilled\": dataset_null_values.value,\n",
    "            \"OutliersIdentified\": dataset_outliers.value,\n",
    "            \"Gridded\": dataset_gridded.value,\n",
    "            \"TransformedFromOriginal\": dataset_gridded_transformed.value,\n",
    "            \"OriginalSamplingAvailable\": dataset_gridded_original_sample.value, \n",
    "            \"SupervisedLearningLabels\" : dataset_targets_or_labels.value,\n",
    "            \"SupervisedLearningLabelStandards\" : dataset_targets_or_labels_standards.value,\n",
    "          \n",
    "        }\n",
    "    }\n",
    "    return updates\n",
    "\n",
    "save_button.on_click(lambda b: update_checklist(b, generate_updates_preparation()))\n",
    "\n",
    "display(save_button)"
   ]
  },
  {
   "cell_type": "markdown",
   "id": "3824aa9e-9d66-4a2e-a1a2-60139f7c30dd",
   "metadata": {},
   "source": [
    "## Finished"
   ]
  },
  {
   "cell_type": "code",
   "execution_count": 33,
   "id": "05ee4ed7-ffac-473e-a8cf-712dce801b4b",
   "metadata": {
    "jupyter": {
     "source_hidden": true
    }
   },
   "outputs": [
    {
     "data": {
      "application/vnd.jupyter.widget-view+json": {
       "model_id": "5c1c34c22a924539952439f979880a5f",
       "version_major": 2,
       "version_minor": 0
      },
      "text/plain": [
       "Button(button_style='info', description='Print checklist', style=ButtonStyle())"
      ]
     },
     "metadata": {},
     "output_type": "display_data"
    },
    {
     "data": {
      "application/vnd.jupyter.widget-view+json": {
       "model_id": "98b09ae08a794ab3a92e89d43f1b95dd",
       "version_major": 2,
       "version_minor": 0
      },
      "text/plain": [
       "Output()"
      ]
     },
     "metadata": {},
     "output_type": "display_data"
    }
   ],
   "source": [
    "\n",
    "button_finished = widgets.Button(description=\"Print checklist\",  button_style='info')\n",
    "output = widgets.Output()\n",
    "display(button_finished, output)\n",
    "\n",
    "class Data_point:\n",
    "    def __init__(self, question, short_description, data):\n",
    "        self.description = question\n",
    "        self.short_description = short_description\n",
    "        self.data = data\n",
    "\n",
    "results_test = []\n",
    "\n",
    "\n",
    "def generate_results2(b):\n",
    "    results_test.append(Data_point(dataset_name.description, \"Dataset name\", dataset_name.value))\n",
    "    results_test.append(Data_point(dataset_version.description, \"Dataset version\", dataset_version.value))\n",
    "    results_test.append(Data_point(dataset_link.description, \"Dataset link\", dataset_link.value))\n",
    "\n",
    "    # Print checklist results.      \n",
    "    with output:\n",
    "        clear_output()\n",
    "        print(\"\\n------ CHECKLIST RESULTS ------\\n\")\n",
    "        for data in range(len(results_test)):\n",
    "            #if value != \"\":\n",
    "            print(f\"{data.short_description}, {data.data}\")\n",
    "        \n",
    "\n",
    "\n",
    "\n",
    "results = {}\n",
    "\n",
    "def generate_results(b):\n",
    "    results[\"1.1 \\tDataset name\"] = dataset_name.value\n",
    "    results[\"1.2 \\tDataset version\"] = dataset_version.value\n",
    "    results[\"1.3 \\tDataset link\"] = dataset_link.value\n",
    "    results[\"1.4 \\tAssessor name\"] = dataset_assessor_name.value\n",
    "    results[\"1.5 \\tAssessor email address\"] = dataset_assessor_email.value\n",
    "    results[\"1.6 \\tData product\"] = raw_derived.value\n",
    "    results[\"1.7 \\tData origin\"] = observe_model_synthetic.value\n",
    "    results[\"1.8 \\tData source\"] = data_sources.value\n",
    "    results[\"2.1 \\tWill dataset be updated\"] = data_update.value\n",
    "    results[\"2.1.1 \\tUpdate frequency\"] = data_update_frequency.value\n",
    "    results[\"2.1.2 \\tUpdate stages\"] = data_update_stages.value\n",
    "    results[\"2.1.3 \\tUpdate delay reason\"] = data_update_delay.value\n",
    "    results[\"2.1.4 \\tShould new version supersede\"] = data_update_supersede.value\n",
    "    results[\"2.2 \\tDataset completeness documentation\"] = completeness_docs.value\n",
    "    results[\"2.2.1 \\tDataset completeness doc link\"] = completeness_docs_link.value\n",
    "    results[\"2.3 \\tDataset completion vs expected spatial coverage\"] = expected_spatial_coverage.value\n",
    "    results[\"2.4 \\tDataset completion vs expected temporal coverage\"] = expected_temporal_coverage.value\n",
    "    results[\"2.5 \\tSelf-consistent units, dtypes, parameters\"] = self_consistent_units.value\n",
    "    results[\"2.6 \\tConsistent units, dtypes, parameter with similar datasets\"] = consistent_units.value\n",
    "    results[\"2.7 \\tConsistent units, dtypes, parameters monitoring \"] = consistent_unit_monitoring.value\n",
    "    results[\"2.7.1 \\tConsistent units, dtypes, parameter monitoring measures\"] = consistent_unit_review.value\n",
    "    results[\"2.8 \\tIs there known bias in the dataset\"] = dataset_bias.value\n",
    "    results[\"2.8.1 \\tHas bias been examined\"] = dataset_bias_measures.value\n",
    "    results[\"2.8.2 \\tBias measures used\"] = dataset_bias_measures_detail.value\n",
    "    results[\"2.8.3 \\tIs bias metrological traceable\"] = dataset_bias_metrological_traceable.value\n",
    "    results[\"2.8.3 \\tReported bias in data\"] = dataset_bias_report.value\n",
    "    results[\"2.8.4 \\tBias report link\"] = dataset_bias_report_link.value\n",
    "    results[\"2.8.5 \\tBias corrected dataset version linke\"] = dataset_bias_report.value\n",
    "    results[\"2.8.6 \\tTools to reduce bias link\"] = dataset_bias_tools_link.value    \n",
    "    results[\"2.9 \\tSpace and time data resolution info\"] = data_resolution_info.value\n",
    "    results[\"2.10 \\tPublished data quality procedures or reports\"] = data_quality_report.value\n",
    "    results[\"2.10.1 \\tIf there is published quality information, please provide the link\"] = data_quality_report_link.value\n",
    "    results[\"2.11 \\tProvenance of the dataset tracked and documented\"] = dataset_provenance.value\n",
    "    results[\"2.12 \\tChecksums / other checks for data integrity\"] = data_integrity.value\n",
    "    results[\"2.13.1 \\tTotal data volume\"] = total_data_volume.value\n",
    "    results[\"2.13.2 \\tNumber of data dimensions\"] = num_data_dimensions.value\n",
    "    results[\"2.13.3 \\tNumber of data files\"] = num_data_files.value\n",
    "    results[\"2.13.4 \\tNumber of data table rows\"] = num_data_rows.value\n",
    "    results[\"2.13.5 \\tNumber of images\"] = num_data_images.value\n",
    "    results[\"2.13.6 \\tSize of images\"] = num_data_images_size.value\n",
    "    results[\"3.2 \\tData dictionary for dataset / parameters\"] = data_dictionary.value\n",
    "    results[\"3.2.1 \\tData dictionary standardized\"] = data_dictionary_standardized.value\n",
    "    results[\"3.2.2 \\tData dictionary machine-readable\"] = data_dictionary_machine_readable.value\n",
    "    results[\"3.2.3 \\tParameters follow a defined standard\"] = parameters_defined_standard.value\n",
    "    results[\"3.2.4 \\tWhich standard to the parameters follow\"] = parameters_defined_standard_detail.value\n",
    "    results[\"3.2.5 \\tAre parameters crosswalked in an ontology or common vocabulary\"] = parameters_common_vocabulary.value\n",
    "    results[\"3.3 \\tHas a unique persistent identifier\"] = unique_persistent_identifier.value\n",
    "    results[\"3.3.1 \\tUnique persistent identifier link\"] = unique_persistent_identifier_link.value\n",
    "    results[\"3.4 \\tContact info available\"] = contact_info_available.value\n",
    "    results[\"3.5 \\tFeedback mechanism available\"] = feedback_mechanism_available.value\n",
    "    results[\"3.6 \\tExample code / notebooks / toolkits\"] = example_code_available.value\n",
    "    results[\"3.7 \\tLicence\"] = dataset_licence.value\n",
    "    results[\"3.7.1 \\tLicence machine-readable\"] = dataset_licence_machine_readable.value\n",
    "    results[\"3.8 \\tAI / ML existing usage links\"] = ai_ml_existing_useage_links.value\n",
    "    results[\"3.9 \\tDataset useage recomendations\"] = usage_recomendations.value\n",
    "    results[\"4.1 \\tWhat is/are the major file formats\"] = dataset_file_formats.value\n",
    "    results[\"4.1.1 \\tMain data formats machine-readable\"] = dataset_file_formats_machine_readable.value\n",
    "    results[\"4.1.2 \\tData available in at least one open, non-proprietary format\"] = dataset_file_formats_non_proprietary.value\n",
    "    results[\"4.1.3 \\tData format conversion tools / services\"] = dataset_file_formats_conversion_tools.value\n",
    "    results[\"4.1.4 \\tData format conversion tools / services link\"] = dataset_file_formats_conversion_tools_link.value\n",
    "    results[\"4.2 \\tDataset requires authentication\"] = dataset_authentication.value\n",
    "    results[\"4.3 \\tDirect file download / order access\"] = dataset_direct_access.value\n",
    "    results[\"4.4 \\tAPI / webservice available\"] = dataset_api_available.value\n",
    "    results[\"4.4.1 \\tAPI follow an open standard protocol\"] = dataset_api_standard_protocol.value\n",
    "    results[\"4.4.2 \\tAPI documentation available\"] = dataset_api_documentation_available.value\n",
    "    results[\"4.4.3 \\tAPI documentation link \"] = dataset_api_documentation_link.value\n",
    "    results[\"4.5 \\tRestricted data with some access but appropriate protections\"] = dataset_restricted_protection.value\n",
    "    results[\"4.6 \\tData aggregated to reduce granularity\"] = dataset_aggregation.value\n",
    "    results[\"4.7 \\tData has been anonymized / de-identified\"] = dataset_anonymization.value\n",
    "    results[\"4.8 \\tSecure access to full dataset for authorized users\"] = dataset_secure_access.value\n",
    "    results[\"5.1 \\tNull values / gaps been filled\"] = dataset_null_values.value\n",
    "    results[\"5.2 \\tOutlier values been identified\"] = dataset_outliers.value\n",
    "    results[\"5.3 \\tIs the data gridded\"] = dataset_gridded.value\n",
    "    results[\"5.3.1 \\tIs gridded data transformed from original sampling\"] = dataset_gridded_transformed.value\n",
    "    results[\"5.3.2 \\tIf data is resampled, is the original sampling available\"] = dataset_gridded_original_sample.value\n",
    "    results[\"5.4 \\tAssociated targets or labels for supervised learning techniques\"] = dataset_targets_or_labels.value\n",
    "    results[\"5.4.1 \\tAre targets or labels community standards implimented\"] = dataset_targets_or_labels_standards.value\n",
    "    \n",
    "    # Print checklist results.      \n",
    "    with output:\n",
    "        clear_output()\n",
    "        print(\"\\n------ CHECKLIST RESULTS ------\\n\")\n",
    "        for key, value in results.items():\n",
    "            #if value != \"\":\n",
    "            print(f\"{key}: {value}\")\n",
    "        \n",
    "button_finished.on_click(generate_results)\n"
   ]
  },
  {
   "cell_type": "markdown",
   "id": "c760fc3b-f413-46e4-8a76-31684d83a2d2",
   "metadata": {},
   "source": [
    "---\n",
    "\n",
    "## **Appendix** - Definition of terms used in the checklist."
   ]
  },
  {
   "cell_type": "markdown",
   "id": "76b55144-23ad-41ed-bdb2-6b347026d278",
   "metadata": {},
   "source": [
    "### Quality\n",
    "* **Completeness**: the breadth of a dataset compared to an ideal 100% completion (spatial, temporal, demographic, etc.); important in avoiding sampling bias\n",
    "* **Consistency**: uniformity within the entire dataset or compared with similar data collections; for example, no changes in units or data types over time; the item measured against itself or its a counterpart in another dataset or database\n",
    "* **Bias**: a systematic tilt in the dataset when compared to a reference, caused for example by instrumentation, incorrect data processing, unrepresentative sampling, or human error; the exact nature of bias and how it is measured will vary depending on the type of data and the research domain.\n",
    "* **Uncertainty**: parameter, associated with the result of a measurement, that characterizes the dispersion of the values that could reasonably be attributed to the measurand.\n",
    "* **Timeliness**: the speed of data release, compared to when an event occurred or measurements were made; requirements will vary depending on the timeframe of the phenomenon (e.g., severe thunderstorms vs. climate change, or disease outbreaks vs. life expectancy trends)\n",
    "* **Provenance**: identification of the data sources, how it was processed, and who released it.\n",
    "* **Integrity**: verification that the data remains unchanged from the original; aka data fixity."
   ]
  },
  {
   "cell_type": "markdown",
   "id": "7e4e52d2-20ae-497a-8b99-3e219893c35f",
   "metadata": {},
   "source": [
    "### Documentation\n",
    "* **Dataset Metadata**: complete information about the dataset: quality, provenance, location, time period, responsible parties, purpose, etc.\n",
    "* **Data Dictionary/Codebook**: complete information about the individual variables / measures / parameters within a dataset: type, units, null value, etc.\n",
    "* **Identifier**: a code or number that uniquely identifies a dataset\n",
    "* **Ontology**: formalized definitions of concepts within a domain of knowledge, and the nature of the inter-relationships among those concepts"
   ]
  },
  {
   "cell_type": "markdown",
   "id": "d5efc4cd-4a6d-4226-a29e-314bcc526d22",
   "metadata": {
    "editable": true,
    "slideshow": {
     "slide_type": ""
    },
    "tags": []
   },
   "source": [
    "### Data Access\n",
    "\n",
    "* **Formats**: standards that govern how information is stored in a computer file (e.g., CSV, JSON, GeoTIFF, etc.); different AI user communities will have different requirements, so the best practice is to provide several format options to meet the needs of multiple high priority user communities.\n",
    "* **Delivery Options**: mechanisms for publishing open data for public use (e.g., direct file download, Application Programming Interface (API), cloud services, etc.); different AI user communities will have different requirements, so the best practice is to provide several delivery options to meet the needs of multiple high priority user communities.\n",
    "* **License/Usage Rights**: information on who is allowed to use the data and for what purposes, including data sharing agreements, fees, etc.; some federal data needs to have restrictions and some will be fully open, so rights should be documented in detail\n",
    "* **Security/Privacy**: protection of data that is restricted in some way (privacy, proprietary/business information, national security, etc.)\n"
   ]
  }
 ],
 "metadata": {
  "kernelspec": {
   "display_name": "intro_python_ds_tutorial",
   "language": "python",
   "name": "intro_python_ds_tutorial"
  },
  "language_info": {
   "codemirror_mode": {
    "name": "ipython",
    "version": 3
   },
   "file_extension": ".py",
   "mimetype": "text/x-python",
   "name": "python",
   "nbconvert_exporter": "python",
   "pygments_lexer": "ipython3",
   "version": "3.8.19"
  },
  "widgets": {
   "application/vnd.jupyter.widget-state+json": {
    "state": {
     "01558ae62b6d4be18040483bdb5fb040": {
      "model_module": "@jupyter-widgets/controls",
      "model_module_version": "2.0.0",
      "model_name": "LabelModel",
      "state": {
       "layout": "IPY_MODEL_d7c7a90a7472464d9b7fa1888a7e6fae",
       "style": "IPY_MODEL_faf4e068e00244f7aa8d190091e59380",
       "value": "4.1 What is/are the major file formats? (Use shift / Ctrl / CMD to select multiple)"
      }
     },
     "01718eaadda449ddabca763dd5e89b5e": {
      "model_module": "@jupyter-widgets/controls",
      "model_module_version": "2.0.0",
      "model_name": "ComboboxModel",
      "state": {
       "description": "2.1 Will the dataset be updated?",
       "ensure_option": false,
       "layout": "IPY_MODEL_57fd066fe0f04b138f664fdda64ff58a",
       "options": [
        "Yes",
        "No"
       ],
       "placeholder": "Click to select option",
       "style": "IPY_MODEL_b8c56f2bbcac4dd0a1bd8076dc3a1e62"
      }
     },
     "02087075d0e243419f286e7228551b2c": {
      "model_module": "@jupyter-widgets/base",
      "model_module_version": "2.0.0",
      "model_name": "LayoutModel",
      "state": {}
     },
     "029074468b564705a65709278266ff15": {
      "model_module": "@jupyter-widgets/controls",
      "model_module_version": "2.0.0",
      "model_name": "ComboboxModel",
      "state": {
       "description": "2.8 Is there known bias in the dataset?",
       "ensure_option": false,
       "layout": "IPY_MODEL_40514a2e9bf84ff29ac201894189338a",
       "options": [
        "Yes",
        "No",
        "Unknown"
       ],
       "placeholder": "Click to select option",
       "style": "IPY_MODEL_3e98a2f910d2457d8d619dd115fb859a"
      }
     },
     "02d16384c83142ef8048d09ec514692f": {
      "model_module": "@jupyter-widgets/controls",
      "model_module_version": "2.0.0",
      "model_name": "ComboboxModel",
      "state": {
       "description": "Will there be different stages of the update?",
       "ensure_option": false,
       "layout": "IPY_MODEL_4a0911f745444e1b8ca8794ef6381cc8",
       "options": [
        "Preliminary data first, then updated later",
        "Full record",
        "N/A"
       ],
       "placeholder": "Click to select option",
       "style": "IPY_MODEL_7af3f326d89d481c91eec537e6c40342"
      }
     },
     "038e48e3073f43e0a26d5c562696c959": {
      "model_module": "@jupyter-widgets/controls",
      "model_module_version": "2.0.0",
      "model_name": "TextStyleModel",
      "state": {
       "description_width": "initial",
       "font_size": null,
       "text_color": null
      }
     },
     "05144eb6b6f249caa4dd8facd970e4dc": {
      "model_module": "@jupyter-widgets/base",
      "model_module_version": "2.0.0",
      "model_name": "LayoutModel",
      "state": {
       "width": "900px"
      }
     },
     "05682e9ff38347849210855e365845e2": {
      "model_module": "@jupyter-widgets/base",
      "model_module_version": "2.0.0",
      "model_name": "LayoutModel",
      "state": {
       "width": "900px"
      }
     },
     "06efcc2c72184de78f12f325361079b0": {
      "model_module": "@jupyter-widgets/controls",
      "model_module_version": "2.0.0",
      "model_name": "TextStyleModel",
      "state": {
       "description_width": "initial",
       "font_size": null,
       "text_color": null
      }
     },
     "0716881964e147439047d6c99611d9e8": {
      "model_module": "@jupyter-widgets/controls",
      "model_module_version": "2.0.0",
      "model_name": "ComboboxModel",
      "state": {
       "description": "Is the data available in at least one open, non-proprietary format?",
       "ensure_option": false,
       "layout": "IPY_MODEL_3e495a302f9e4012b578fcfa595931d3",
       "options": [
        "Yes",
        "No",
        "N/A"
       ],
       "placeholder": "Click to select option",
       "style": "IPY_MODEL_20087150933d41478d26d68b3d12f8a3",
       "value": "No"
      }
     },
     "071776c897d54aceb5dc5b2a3ad44a6e": {
      "model_module": "@jupyter-widgets/base",
      "model_module_version": "2.0.0",
      "model_name": "LayoutModel",
      "state": {}
     },
     "07f6a13f54cb4535b4513ea5b5316597": {
      "model_module": "@jupyter-widgets/base",
      "model_module_version": "2.0.0",
      "model_name": "LayoutModel",
      "state": {
       "width": "900px"
      }
     },
     "081c18e2e7ac4403ae7b986146c379aa": {
      "model_module": "@jupyter-widgets/controls",
      "model_module_version": "2.0.0",
      "model_name": "LabelStyleModel",
      "state": {
       "description_width": "",
       "font_family": null,
       "font_size": null,
       "font_style": null,
       "font_variant": null,
       "font_weight": null,
       "text_color": null,
       "text_decoration": null
      }
     },
     "08378a76aad34d9ead8b58f193a7d9c5": {
      "model_module": "@jupyter-widgets/controls",
      "model_module_version": "2.0.0",
      "model_name": "TextStyleModel",
      "state": {
       "description_width": "initial",
       "font_size": null,
       "text_color": null
      }
     },
     "08d7d1037082471bb5537569426048fb": {
      "model_module": "@jupyter-widgets/controls",
      "model_module_version": "2.0.0",
      "model_name": "TextStyleModel",
      "state": {
       "description_width": "initial",
       "font_size": null,
       "text_color": null
      }
     },
     "09fc3fa9422b4b34b045b896dcc1cea2": {
      "model_module": "@jupyter-widgets/base",
      "model_module_version": "2.0.0",
      "model_name": "LayoutModel",
      "state": {
       "display": "none",
       "width": "900px"
      }
     },
     "0a29e5a3c09c49369d4a93c949a0764f": {
      "model_module": "@jupyter-widgets/controls",
      "model_module_version": "2.0.0",
      "model_name": "TextModel",
      "state": {
       "description": "Tools / services link:",
       "layout": "IPY_MODEL_6ee16e9ec25e448098b891cbb1cda0b7",
       "placeholder": "If yes, provide the link to the tools/services",
       "style": "IPY_MODEL_afbb419d65c14353971b4d5aa2b9fd78",
       "value": "https://simplekml.readthedocs.io/en/latest/ https://www.arcgis.com/home/index.html https://fastkml.readthedocs.io/en/latest/ https://www.qgis.org/"
      }
     },
     "0a9a7cbad88842639a084f0595c0d602": {
      "model_module": "@jupyter-widgets/base",
      "model_module_version": "2.0.0",
      "model_name": "LayoutModel",
      "state": {
       "flex": "1 1 auto",
       "width": "auto"
      }
     },
     "0c7ae58bd05944b8bf1a22686072806b": {
      "model_module": "@jupyter-widgets/base",
      "model_module_version": "2.0.0",
      "model_name": "LayoutModel",
      "state": {}
     },
     "0da52122c1be4562b171ba93f558686e": {
      "model_module": "@jupyter-widgets/base",
      "model_module_version": "2.0.0",
      "model_name": "LayoutModel",
      "state": {}
     },
     "0e6468d8f7ba43fc95123269347d78ed": {
      "model_module": "@jupyter-widgets/controls",
      "model_module_version": "2.0.0",
      "model_name": "ComboboxModel",
      "state": {
       "description": "If there is an API, does the API follow an open standard protocol (e.g., OGC)?",
       "ensure_option": false,
       "layout": "IPY_MODEL_09fc3fa9422b4b34b045b896dcc1cea2",
       "options": [
        "Yes",
        "No",
        "N/A"
       ],
       "placeholder": "Click to select option",
       "style": "IPY_MODEL_9bdb9f82303a4d60917f7662a5ba9b4e"
      }
     },
     "0e6727b8822849a5ae554efd2602c44f": {
      "model_module": "@jupyter-widgets/base",
      "model_module_version": "2.0.0",
      "model_name": "LayoutModel",
      "state": {
       "display": "none",
       "width": "900px"
      }
     },
     "0ed7e911cd5a450cbfd423e0a2432df1": {
      "model_module": "@jupyter-widgets/controls",
      "model_module_version": "2.0.0",
      "model_name": "DescriptionStyleModel",
      "state": {
       "description_width": ""
      }
     },
     "0fbe887ceb1244078e6d5968def7f83a": {
      "model_module": "@jupyter-widgets/controls",
      "model_module_version": "2.0.0",
      "model_name": "ButtonModel",
      "state": {
       "button_style": "primary",
       "description": "Save Bias, Integrity & Size Answers to json file",
       "layout": "IPY_MODEL_f8fecee69e0b42e6881706590ff72079",
       "style": "IPY_MODEL_9da40ed3077e4ccc863ce585be43d1d3",
       "tooltip": null
      }
     },
     "114254da0d234195a20018188106614c": {
      "model_module": "@jupyter-widgets/controls",
      "model_module_version": "2.0.0",
      "model_name": "TextStyleModel",
      "state": {
       "description_width": "initial",
       "font_size": null,
       "text_color": null
      }
     },
     "116d37953074441a9a199c73488d58f8": {
      "model_module": "@jupyter-widgets/base",
      "model_module_version": "2.0.0",
      "model_name": "LayoutModel",
      "state": {
       "display": "none",
       "width": "900px"
      }
     },
     "122fb09b725c41e690611e784538f875": {
      "model_module": "@jupyter-widgets/controls",
      "model_module_version": "2.0.0",
      "model_name": "LabelStyleModel",
      "state": {
       "description_width": "",
       "font_family": null,
       "font_size": null,
       "font_style": null,
       "font_variant": null,
       "font_weight": null,
       "text_color": null,
       "text_decoration": null
      }
     },
     "124d6e71ab83431c80cbb1e38a7cd204": {
      "model_module": "@jupyter-widgets/base",
      "model_module_version": "2.0.0",
      "model_name": "LayoutModel",
      "state": {}
     },
     "13ff687230b5408184199694a8f823f4": {
      "model_module": "@jupyter-widgets/base",
      "model_module_version": "2.0.0",
      "model_name": "LayoutModel",
      "state": {}
     },
     "147d4884e7a7419cab34e624c894ed60": {
      "model_module": "@jupyter-widgets/controls",
      "model_module_version": "2.0.0",
      "model_name": "ComboboxModel",
      "state": {
       "description": "Does it include details on the spatial and temporal extent?",
       "ensure_option": false,
       "layout": "IPY_MODEL_bd296ebdd76f4dd7a7acc27b7b192ca7",
       "options": [
        "Yes",
        "No",
        "N/A"
       ],
       "placeholder": "Click to select option",
       "style": "IPY_MODEL_4db28b7995da4925858ccf4f011cbbfc"
      }
     },
     "14816bb3d43d4268a0499b8b0fb79ae7": {
      "model_module": "@jupyter-widgets/controls",
      "model_module_version": "2.0.0",
      "model_name": "DescriptionStyleModel",
      "state": {
       "description_width": ""
      }
     },
     "14f4ec7ee21a41c2807a4eb128b90d84": {
      "model_module": "@jupyter-widgets/controls",
      "model_module_version": "2.0.0",
      "model_name": "LabelModel",
      "state": {
       "layout": "IPY_MODEL_13ff687230b5408184199694a8f823f4",
       "style": "IPY_MODEL_dd8027a1045a4f8c8810650d6a909a2f",
       "value": "2.13 What is the size of the dataset? Depending on the resource, this might be:"
      }
     },
     "1528424b9a8a4da1acaf1997616d1874": {
      "model_module": "@jupyter-widgets/controls",
      "model_module_version": "2.0.0",
      "model_name": "TextStyleModel",
      "state": {
       "description_width": "initial",
       "font_size": null,
       "text_color": null
      }
     },
     "169240cf2f8b4b27a7df6eae793bb6cf": {
      "model_module": "@jupyter-widgets/controls",
      "model_module_version": "2.0.0",
      "model_name": "TextModel",
      "state": {
       "layout": "IPY_MODEL_602f96371c30415c9b0cfadf01ec93ef",
       "placeholder": "(optional) Link to the report/document on the bias",
       "style": "IPY_MODEL_a9098fb4d0144f32bffe93e709d146b5"
      }
     },
     "16cf89bd23744450a79978bea5c5a7e7": {
      "model_module": "@jupyter-widgets/controls",
      "model_module_version": "2.0.0",
      "model_name": "TextStyleModel",
      "state": {
       "description_width": "initial",
       "font_size": null,
       "text_color": null
      }
     },
     "17fceef814c64d0990789aa670939b98": {
      "model_module": "@jupyter-widgets/controls",
      "model_module_version": "2.0.0",
      "model_name": "TextStyleModel",
      "state": {
       "description_width": "initial",
       "font_size": null,
       "text_color": null
      }
     },
     "180343fdcd7b4c3eb45fd81c36912eec": {
      "model_module": "@jupyter-widgets/controls",
      "model_module_version": "2.0.0",
      "model_name": "ComboboxModel",
      "state": {
       "description": "If the data will be updated, how often will it be updated?",
       "ensure_option": false,
       "layout": "IPY_MODEL_1d8f0229cc434c6a9e3374586ac86cea",
       "options": [
        "When data updated",
        "Hourly",
        "Daily",
        "Weekly",
        "Monthly",
        "Annually",
        "Other",
        "N/A"
       ],
       "placeholder": "Click to select option",
       "style": "IPY_MODEL_bc27686ebd14441bb1eb25265e813693"
      }
     },
     "186c5a0c5967464ebb1fee1d6f1d8451": {
      "model_module": "@jupyter-widgets/controls",
      "model_module_version": "2.0.0",
      "model_name": "ComboboxModel",
      "state": {
       "description": "2.4 How complete is the dataset compared to the expected temporal coverage?",
       "ensure_option": false,
       "layout": "IPY_MODEL_c0e067f3d5d34b49bb4b148a526c673c",
       "options": [
        "Complete",
        "Partial",
        "Unknown",
        "N/A"
       ],
       "placeholder": "Click to select option",
       "style": "IPY_MODEL_1cda9c503cc14ef7b1c65747ee9021dc"
      }
     },
     "199c868504f34109839da165405a7ca4": {
      "model_module": "@jupyter-widgets/controls",
      "model_module_version": "2.0.0",
      "model_name": "TextStyleModel",
      "state": {
       "description_width": "initial",
       "font_size": null,
       "text_color": null
      }
     },
     "19cbe7a3cfb5437b976bed0b87ce2ce2": {
      "model_module": "@jupyter-widgets/controls",
      "model_module_version": "2.0.0",
      "model_name": "TextModel",
      "state": {
       "description": "Review measures:",
       "layout": "IPY_MODEL_d82be89dee5b478d9c334f84dc40bf8a",
       "placeholder": "If yes, what measures are taken? Manual review / Automated review etc.",
       "style": "IPY_MODEL_affbd1636b984a49b40299577751c9f9"
      }
     },
     "1c56829cc10e4da79221e00c2d61e2e3": {
      "model_module": "@jupyter-widgets/controls",
      "model_module_version": "2.0.0",
      "model_name": "TextStyleModel",
      "state": {
       "description_width": "initial",
       "font_size": null,
       "text_color": null
      }
     },
     "1cda9c503cc14ef7b1c65747ee9021dc": {
      "model_module": "@jupyter-widgets/controls",
      "model_module_version": "2.0.0",
      "model_name": "TextStyleModel",
      "state": {
       "description_width": "initial",
       "font_size": null,
       "text_color": null
      }
     },
     "1d87a66733d94af2a04e01805a5cb932": {
      "model_module": "@jupyter-widgets/controls",
      "model_module_version": "2.0.0",
      "model_name": "LabelModel",
      "state": {
       "layout": "IPY_MODEL_cbe6367d650f4713b8656f8e6d503548",
       "style": "IPY_MODEL_a44d559180034f79b980f063886b3e88",
       "value": "Select from the list, or type your own answer if appropriate."
      }
     },
     "1d8f0229cc434c6a9e3374586ac86cea": {
      "model_module": "@jupyter-widgets/base",
      "model_module_version": "2.0.0",
      "model_name": "LayoutModel",
      "state": {
       "display": "none",
       "width": "900px"
      }
     },
     "1f25c417a48e4d1fb9baeb722eff73ce": {
      "model_module": "@jupyter-widgets/controls",
      "model_module_version": "2.0.0",
      "model_name": "ComboboxModel",
      "state": {
       "description": "5.4 Are there associated targets or labels for supervised learning techniques?",
       "ensure_option": false,
       "layout": "IPY_MODEL_ad321e7f06de4504a323775916ca4f39",
       "options": [
        "Yes",
        "No",
        "N/A"
       ],
       "placeholder": "Click to select option - (Can this be used as a training dataset)?",
       "style": "IPY_MODEL_c5645e57daea468baef8597b2ea0537c"
      }
     },
     "1f48f5542081435a84736bdb9a216afa": {
      "model_module": "@jupyter-widgets/controls",
      "model_module_version": "2.0.0",
      "model_name": "ButtonStyleModel",
      "state": {
       "font_family": null,
       "font_size": null,
       "font_style": null,
       "font_variant": null,
       "font_weight": null,
       "text_color": null,
       "text_decoration": null
      }
     },
     "20087150933d41478d26d68b3d12f8a3": {
      "model_module": "@jupyter-widgets/controls",
      "model_module_version": "2.0.0",
      "model_name": "TextStyleModel",
      "state": {
       "description_width": "initial",
       "font_size": null,
       "text_color": null
      }
     },
     "21215e004384485aa6f4630b0d7bd74e": {
      "model_module": "@jupyter-widgets/controls",
      "model_module_version": "2.0.0",
      "model_name": "TextModel",
      "state": {
       "layout": "IPY_MODEL_67fa865b883c4cb38f71845196eb60a5",
       "placeholder": "(optional) Link to tools available to reduce bias",
       "style": "IPY_MODEL_c7b7c85c526e4820b8eb48e3fbbfd888"
      }
     },
     "221bfa33c2864dc0bf1cc3e5a43e3c0b": {
      "model_module": "@jupyter-widgets/controls",
      "model_module_version": "2.0.0",
      "model_name": "ComboboxModel",
      "state": {
       "description": "Is the data dictionary standardized?",
       "ensure_option": false,
       "layout": "IPY_MODEL_c926ac32ca864b789dac82516c0759c8",
       "options": [
        "Yes",
        "No",
        "N/A"
       ],
       "placeholder": "Click to select option",
       "style": "IPY_MODEL_b600d58884f5450d84d228897b47a7ef"
      }
     },
     "228cf1a261e2425bbdc9582be0881b22": {
      "model_module": "@jupyter-widgets/controls",
      "model_module_version": "2.0.0",
      "model_name": "TextStyleModel",
      "state": {
       "description_width": "initial",
       "font_size": null,
       "text_color": null
      }
     },
     "23c45fb840794fa3b53038e798c4b47a": {
      "model_module": "@jupyter-widgets/controls",
      "model_module_version": "2.0.0",
      "model_name": "ComboboxModel",
      "state": {
       "description": "Is the dataset metadata machine-readable?",
       "ensure_option": false,
       "layout": "IPY_MODEL_d24f815c54cd4d4b998a16e29fb70926",
       "options": [
        "Yes",
        "No",
        "N/A"
       ],
       "placeholder": "Click to select option",
       "style": "IPY_MODEL_c024936fac6843b4b2f6b4d5e333c194"
      }
     },
     "23e562316aaf41bb8fa32e4a0e395f5d": {
      "model_module": "@jupyter-widgets/controls",
      "model_module_version": "2.0.0",
      "model_name": "TextStyleModel",
      "state": {
       "description_width": "initial",
       "font_size": null,
       "text_color": null
      }
     },
     "23f412630bf7475d809c1bc407eb6f1b": {
      "model_module": "@jupyter-widgets/controls",
      "model_module_version": "2.0.0",
      "model_name": "ComboboxModel",
      "state": {
       "description": "Have measures been taken to examine bias?",
       "ensure_option": false,
       "layout": "IPY_MODEL_0e6727b8822849a5ae554efd2602c44f",
       "options": [
        "Yes",
        "No",
        "Unknown",
        "N/A"
       ],
       "placeholder": "Click to select option",
       "style": "IPY_MODEL_bbd152801560412d8d9a0d7c31f1014a"
      }
     },
     "24059a32e55d411987147ade15e5c832": {
      "model_module": "@jupyter-widgets/controls",
      "model_module_version": "2.0.0",
      "model_name": "TextStyleModel",
      "state": {
       "description_width": "initial",
       "font_size": null,
       "text_color": null
      }
     },
     "25436cc9f79c403da40ba7a23d10056e": {
      "model_module": "@jupyter-widgets/base",
      "model_module_version": "2.0.0",
      "model_name": "LayoutModel",
      "state": {}
     },
     "259c0ae128b44f73b1c9e3e30f5fce9e": {
      "model_module": "@jupyter-widgets/controls",
      "model_module_version": "2.0.0",
      "model_name": "TextStyleModel",
      "state": {
       "description_width": "initial",
       "font_size": null,
       "text_color": null
      }
     },
     "290bb116722847cfa02780be700af004": {
      "model_module": "@jupyter-widgets/controls",
      "model_module_version": "2.0.0",
      "model_name": "LabelModel",
      "state": {
       "layout": "IPY_MODEL_868b37bbd18a4401b12c0cf476c8d889",
       "style": "IPY_MODEL_122fb09b725c41e690611e784538f875",
       "value": "4.1 What is/are the major file formats? (Use shift / Ctrl / CMD to select multiple)"
      }
     },
     "2a302e4b9eff4314b8ce4bc0cc542e71": {
      "model_module": "@jupyter-widgets/controls",
      "model_module_version": "2.0.0",
      "model_name": "ComboboxModel",
      "state": {
       "description": "3.1 Does the dataset metadata follow a community/domain standard or convention?",
       "ensure_option": false,
       "layout": "IPY_MODEL_35927c4a40aa451baa93e582eef4d89f",
       "options": [
        "Yes",
        "No",
        "N/A"
       ],
       "placeholder": "Click to select option",
       "style": "IPY_MODEL_b5f0d5f1fc8b43f487b98701e2145f32"
      }
     },
     "2a4d740fdf714ae2a44c6e078f3ef7d0": {
      "model_module": "@jupyter-widgets/base",
      "model_module_version": "2.0.0",
      "model_name": "LayoutModel",
      "state": {
       "width": "900px"
      }
     },
     "2a4f3820349c42778feec54788634907": {
      "model_module": "@jupyter-widgets/controls",
      "model_module_version": "2.0.0",
      "model_name": "IntTextModel",
      "state": {
       "layout": "IPY_MODEL_d3577e1dad80436bbd1fcab1e5ee03ba",
       "step": 1,
       "style": "IPY_MODEL_a1e4b4bc18d54d97873805e9d05611b0"
      }
     },
     "2c75afff3b8d42d181fc3ca43f6e8e60": {
      "model_module": "@jupyter-widgets/base",
      "model_module_version": "2.0.0",
      "model_name": "LayoutModel",
      "state": {
       "width": "900px"
      }
     },
     "2ede71dfa3a14618b7b0ca94a5bbd9cd": {
      "model_module": "@jupyter-widgets/controls",
      "model_module_version": "2.0.0",
      "model_name": "ComboboxModel",
      "state": {
       "description": "2.11 Is the provenance of the dataset tracked and documented?",
       "ensure_option": false,
       "layout": "IPY_MODEL_4e1acd52e31f47d38e6632e8be8b2545",
       "options": [
        "Yes",
        "No",
        "N/A"
       ],
       "placeholder": "Click to select option",
       "style": "IPY_MODEL_e8fe41988734488d964b3ef5fcd0e9ed"
      }
     },
     "2fdd58f98a164cbb83e7af0774b090db": {
      "model_module": "@jupyter-widgets/controls",
      "model_module_version": "2.0.0",
      "model_name": "ButtonModel",
      "state": {
       "button_style": "primary",
       "description": "Save Data Access Answers to json file",
       "layout": "IPY_MODEL_eabfc74dc888452b970704d13a2b6bf0",
       "style": "IPY_MODEL_a0ade0a96c7a4630a5a245ace93484ca",
       "tooltip": null
      }
     },
     "30ee6d8bf0764503bc133d5e1aaba11a": {
      "model_module": "@jupyter-widgets/base",
      "model_module_version": "2.0.0",
      "model_name": "LayoutModel",
      "state": {
       "display": "none",
       "width": "900px"
      }
     },
     "311a89d1c350405d826c5637bb359578": {
      "model_module": "@jupyter-widgets/controls",
      "model_module_version": "2.0.0",
      "model_name": "ComboboxModel",
      "state": {
       "description": "If there is an API, is there documentation for the API?",
       "ensure_option": false,
       "layout": "IPY_MODEL_9b7d4524cd9946b6b7c1f60b3955a9d1",
       "options": [
        "Yes",
        "No",
        "N/A"
       ],
       "placeholder": "Click to select option",
       "style": "IPY_MODEL_a1e601bed61d4849833516d6612ad240"
      }
     },
     "31aa291ef35249e39fb07fae1ee9dcab": {
      "model_module": "@jupyter-widgets/controls",
      "model_module_version": "2.0.0",
      "model_name": "TextStyleModel",
      "state": {
       "description_width": "",
       "font_size": null,
       "text_color": null
      }
     },
     "33a6d2b7338b4ca3babf407f0da4a450": {
      "model_module": "@jupyter-widgets/base",
      "model_module_version": "2.0.0",
      "model_name": "LayoutModel",
      "state": {
       "width": "900px"
      }
     },
     "3457a2a3b3784cf7834961dc6c9f36bc": {
      "model_module": "@jupyter-widgets/controls",
      "model_module_version": "2.0.0",
      "model_name": "TextModel",
      "state": {
       "layout": "IPY_MODEL_116d37953074441a9a199c73488d58f8",
       "placeholder": "If “Yes”, please provide a URL to the documentation.",
       "style": "IPY_MODEL_c6992ba2b7f747dbaa1c1b33a04937df"
      }
     },
     "347d43dbb69b4435b5ca421b40b6ac86": {
      "model_module": "@jupyter-widgets/base",
      "model_module_version": "2.0.0",
      "model_name": "LayoutModel",
      "state": {
       "display": "none",
       "width": "900px"
      }
     },
     "35927c4a40aa451baa93e582eef4d89f": {
      "model_module": "@jupyter-widgets/base",
      "model_module_version": "2.0.0",
      "model_name": "LayoutModel",
      "state": {
       "width": "900px"
      }
     },
     "390f581f203a49a3b69ae99eb324a996": {
      "model_module": "@jupyter-widgets/base",
      "model_module_version": "2.0.0",
      "model_name": "LayoutModel",
      "state": {
       "width": "900px"
      }
     },
     "3a0bca135c244eb99c2b77b571717dfd": {
      "model_module": "@jupyter-widgets/controls",
      "model_module_version": "2.0.0",
      "model_name": "TextStyleModel",
      "state": {
       "description_width": "initial",
       "font_size": null,
       "text_color": null
      }
     },
     "3a26bb9f80ba44b4b3695a5c1b1cccae": {
      "model_module": "@jupyter-widgets/base",
      "model_module_version": "2.0.0",
      "model_name": "LayoutModel",
      "state": {
       "width": "900px"
      }
     },
     "3a2ed6bd968f4f168bde27a1da34c33e": {
      "model_module": "@jupyter-widgets/controls",
      "model_module_version": "2.0.0",
      "model_name": "ButtonStyleModel",
      "state": {
       "font_family": null,
       "font_size": null,
       "font_style": null,
       "font_variant": null,
       "font_weight": null,
       "text_color": null,
       "text_decoration": null
      }
     },
     "3aefdf653c584da8bd5802f04abd49b8": {
      "model_module": "@jupyter-widgets/controls",
      "model_module_version": "2.0.0",
      "model_name": "ComboboxModel",
      "state": {
       "description": "2.3 How complete is the dataset compared to the expected spatial coverage?",
       "ensure_option": false,
       "layout": "IPY_MODEL_a720ba044fbc4d8eac3dcfb9b9bc967a",
       "options": [
        "Complete",
        "Partial",
        "Unknown",
        "N/A"
       ],
       "placeholder": "Click to select option",
       "style": "IPY_MODEL_d8585e1999054590ab6fdc1aed017448"
      }
     },
     "3bf59b72fe6d49b6826ea67e04190808": {
      "model_module": "@jupyter-widgets/base",
      "model_module_version": "2.0.0",
      "model_name": "LayoutModel",
      "state": {
       "width": "900px"
      }
     },
     "3cecdbc20a5e4ee193054c8596094542": {
      "model_module": "@jupyter-widgets/controls",
      "model_module_version": "2.0.0",
      "model_name": "ButtonModel",
      "state": {
       "button_style": "primary",
       "description": "Save General Information Answers to json file",
       "layout": "IPY_MODEL_7e122dc338314eee8ac30d3d71ffc20e",
       "style": "IPY_MODEL_e8101a0933054d799bbd254a2c8d03be",
       "tooltip": null
      }
     },
     "3ceeb00682da4345971831d57da0a4f3": {
      "model_module": "@jupyter-widgets/controls",
      "model_module_version": "2.0.0",
      "model_name": "TextStyleModel",
      "state": {
       "description_width": "initial",
       "font_size": null,
       "text_color": null
      }
     },
     "3e495a302f9e4012b578fcfa595931d3": {
      "model_module": "@jupyter-widgets/base",
      "model_module_version": "2.0.0",
      "model_name": "LayoutModel",
      "state": {
       "width": "900px"
      }
     },
     "3e98a2f910d2457d8d619dd115fb859a": {
      "model_module": "@jupyter-widgets/controls",
      "model_module_version": "2.0.0",
      "model_name": "TextStyleModel",
      "state": {
       "description_width": "initial",
       "font_size": null,
       "text_color": null
      }
     },
     "40514a2e9bf84ff29ac201894189338a": {
      "model_module": "@jupyter-widgets/base",
      "model_module_version": "2.0.0",
      "model_name": "LayoutModel",
      "state": {
       "width": "900px"
      }
     },
     "406cab385a884e84854e114b2cc1562a": {
      "model_module": "@jupyter-widgets/base",
      "model_module_version": "2.0.0",
      "model_name": "LayoutModel",
      "state": {
       "width": "20px"
      }
     },
     "410c7e8a282d4fbcb7b7eeb5ca4d9e59": {
      "model_module": "@jupyter-widgets/base",
      "model_module_version": "2.0.0",
      "model_name": "LayoutModel",
      "state": {
       "width": "900px"
      }
     },
     "412601de5ae342b282c20c1a9daf12bd": {
      "model_module": "@jupyter-widgets/controls",
      "model_module_version": "2.0.0",
      "model_name": "TextStyleModel",
      "state": {
       "description_width": "initial",
       "font_size": null,
       "text_color": null
      }
     },
     "41c9621d7d8740ccb1fca437ea74ff72": {
      "model_module": "@jupyter-widgets/controls",
      "model_module_version": "2.0.0",
      "model_name": "TextStyleModel",
      "state": {
       "description_width": "initial",
       "font_size": null,
       "text_color": null
      }
     },
     "4231239abe964b04a1c48051bedd2a63": {
      "model_module": "@jupyter-widgets/controls",
      "model_module_version": "2.0.0",
      "model_name": "TextModel",
      "state": {
       "description": "1.3. Location / url link:",
       "layout": "IPY_MODEL_451ba2c739ff4a61a84d45f2ddb12d0f",
       "style": "IPY_MODEL_5f60b499acf5436ea069b0596aaae84f",
       "value": "www.dataset2.com"
      }
     },
     "451ba2c739ff4a61a84d45f2ddb12d0f": {
      "model_module": "@jupyter-widgets/base",
      "model_module_version": "2.0.0",
      "model_name": "LayoutModel",
      "state": {
       "width": "900px"
      }
     },
     "4789dfd910cb492e8e670c1fac3bdf91": {
      "model_module": "@jupyter-widgets/base",
      "model_module_version": "2.0.0",
      "model_name": "LayoutModel",
      "state": {
       "width": "900px"
      }
     },
     "48af0ef314254998afbc22237812d4c6": {
      "model_module": "@jupyter-widgets/base",
      "model_module_version": "2.0.0",
      "model_name": "LayoutModel",
      "state": {}
     },
     "48e7aad44ed74761b0e8fd7932427100": {
      "model_module": "@jupyter-widgets/controls",
      "model_module_version": "2.0.0",
      "model_name": "SelectMultipleModel",
      "state": {
       "_options_labels": [
        "CSV",
        "netCDF",
        "geoJSON",
        "Shapefile",
        "GRIB",
        "HDF",
        "GeoTIFF",
        "KML",
        "GINI",
        "Zarr",
        "Other"
       ],
       "index": [],
       "layout": "IPY_MODEL_5e57706d85104f8a843b94d7051b6e51",
       "rows": 11,
       "style": "IPY_MODEL_688e55fbf00e422abb63eee9eedd33ed"
      }
     },
     "4952438eec604ca582da4d00f662a4f1": {
      "model_module": "@jupyter-widgets/base",
      "model_module_version": "2.0.0",
      "model_name": "LayoutModel",
      "state": {
       "width": "900px"
      }
     },
     "4a0911f745444e1b8ca8794ef6381cc8": {
      "model_module": "@jupyter-widgets/base",
      "model_module_version": "2.0.0",
      "model_name": "LayoutModel",
      "state": {
       "display": "none",
       "width": "900px"
      }
     },
     "4ad55d40275341a7a22e7f2999e9ee1c": {
      "model_module": "@jupyter-widgets/controls",
      "model_module_version": "2.0.0",
      "model_name": "ComboboxModel",
      "state": {
       "description": "If the data is resampled from the original sampling, is the data also available at the original sampling?",
       "ensure_option": false,
       "layout": "IPY_MODEL_c5c46f97eced4e0691ccc00f296d8bea",
       "options": [
        "Yes",
        "No",
        "Only by request",
        "N/A"
       ],
       "placeholder": "Click to select option",
       "style": "IPY_MODEL_259c0ae128b44f73b1c9e3e30f5fce9e"
      }
     },
     "4b624d7033ca4198979db15097d0d0c7": {
      "model_module": "@jupyter-widgets/controls",
      "model_module_version": "2.0.0",
      "model_name": "ComboboxModel",
      "state": {
       "description": "3.5 Is there a mechanism for user feedback and suggestions?",
       "ensure_option": false,
       "layout": "IPY_MODEL_05682e9ff38347849210855e365845e2",
       "options": [
        "Yes",
        "No",
        "N/A"
       ],
       "placeholder": "Click to select option",
       "style": "IPY_MODEL_5442fd4fa37540da8e787cea1b632937"
      }
     },
     "4bb0de7a5b684694ab224e5fbb96284e": {
      "model_module": "@jupyter-widgets/controls",
      "model_module_version": "2.0.0",
      "model_name": "TextModel",
      "state": {
       "description": "1.4. Assessor name:",
       "layout": "IPY_MODEL_3a26bb9f80ba44b4b3695a5c1b1cccae",
       "style": "IPY_MODEL_4d54f8fd200e4045b896c6c66418ddf3",
       "value": "John"
      }
     },
     "4d54f8fd200e4045b896c6c66418ddf3": {
      "model_module": "@jupyter-widgets/controls",
      "model_module_version": "2.0.0",
      "model_name": "TextStyleModel",
      "state": {
       "description_width": "initial",
       "font_size": null,
       "text_color": null
      }
     },
     "4db28b7995da4925858ccf4f011cbbfc": {
      "model_module": "@jupyter-widgets/controls",
      "model_module_version": "2.0.0",
      "model_name": "TextStyleModel",
      "state": {
       "description_width": "initial",
       "font_size": null,
       "text_color": null
      }
     },
     "4dcb66023ce54d6490bad4000ccecf8b": {
      "model_module": "@jupyter-widgets/controls",
      "model_module_version": "2.0.0",
      "model_name": "DescriptionStyleModel",
      "state": {
       "description_width": ""
      }
     },
     "4e1acd52e31f47d38e6632e8be8b2545": {
      "model_module": "@jupyter-widgets/base",
      "model_module_version": "2.0.0",
      "model_name": "LayoutModel",
      "state": {
       "width": "900px"
      }
     },
     "4e880902c18c4736b1add30d5c840d82": {
      "model_module": "@jupyter-widgets/controls",
      "model_module_version": "2.0.0",
      "model_name": "TextModel",
      "state": {
       "description": "Parameter standards:",
       "layout": "IPY_MODEL_dd1b28a33d8b4396b8fa2940ee1da8c5",
       "placeholder": "If the parameters follow a defined standard, which standard it is?",
       "style": "IPY_MODEL_ff06af343ce64dffbb4e2a4a1ea2f807"
      }
     },
     "4ef4b80b21e64cb3a5a0186318d448b4": {
      "model_module": "@jupyter-widgets/controls",
      "model_module_version": "2.0.0",
      "model_name": "TextStyleModel",
      "state": {
       "description_width": "initial",
       "font_size": null,
       "text_color": null
      }
     },
     "5128568e57614777a9a150259da7db81": {
      "model_module": "@jupyter-widgets/controls",
      "model_module_version": "2.0.0",
      "model_name": "TextStyleModel",
      "state": {
       "description_width": "initial",
       "font_size": null,
       "text_color": null
      }
     },
     "53b9ced4131f4135a21b5e18f43f3530": {
      "model_module": "@jupyter-widgets/controls",
      "model_module_version": "2.0.0",
      "model_name": "TextStyleModel",
      "state": {
       "description_width": "initial",
       "font_size": null,
       "text_color": null
      }
     },
     "5442fd4fa37540da8e787cea1b632937": {
      "model_module": "@jupyter-widgets/controls",
      "model_module_version": "2.0.0",
      "model_name": "TextStyleModel",
      "state": {
       "description_width": "initial",
       "font_size": null,
       "text_color": null
      }
     },
     "55784285468e4ecc83bec775d2a53a7a": {
      "model_module": "@jupyter-widgets/base",
      "model_module_version": "2.0.0",
      "model_name": "LayoutModel",
      "state": {}
     },
     "559b5a03a70d4f0eb98e6fdf037e6a29": {
      "model_module": "@jupyter-widgets/base",
      "model_module_version": "2.0.0",
      "model_name": "LayoutModel",
      "state": {
       "width": "900px"
      }
     },
     "5702b1baf99c4d9a8df83812d401402b": {
      "model_module": "@jupyter-widgets/base",
      "model_module_version": "2.0.0",
      "model_name": "LayoutModel",
      "state": {
       "width": "900px"
      }
     },
     "572174232f284f7491ff91e89951ec30": {
      "model_module": "@jupyter-widgets/controls",
      "model_module_version": "2.0.0",
      "model_name": "DescriptionStyleModel",
      "state": {
       "description_width": ""
      }
     },
     "575629bcc8554631b51576ccc59c83da": {
      "model_module": "@jupyter-widgets/controls",
      "model_module_version": "2.0.0",
      "model_name": "TextStyleModel",
      "state": {
       "description_width": "initial",
       "font_size": null,
       "text_color": null
      }
     },
     "57fd066fe0f04b138f664fdda64ff58a": {
      "model_module": "@jupyter-widgets/base",
      "model_module_version": "2.0.0",
      "model_name": "LayoutModel",
      "state": {
       "width": "900px"
      }
     },
     "5891fe846c25489fb08ef09761510832": {
      "model_module": "@jupyter-widgets/controls",
      "model_module_version": "2.0.0",
      "model_name": "LabelModel",
      "state": {
       "layout": "IPY_MODEL_7a32c1e441734d31ba5a08bfed6149cf",
       "style": "IPY_MODEL_d286214296144d4799edc9a8a8f5a6a4",
       "value": "If there are associated targets/labels, are community labeling standards implemented?"
      }
     },
     "590cf2c58341418b9da8ee5af785bea2": {
      "model_module": "@jupyter-widgets/controls",
      "model_module_version": "2.0.0",
      "model_name": "TextStyleModel",
      "state": {
       "description_width": "initial",
       "font_size": null,
       "text_color": null
      }
     },
     "591a7c896c4d464aa279aa908460a3d3": {
      "model_module": "@jupyter-widgets/base",
      "model_module_version": "2.0.0",
      "model_name": "LayoutModel",
      "state": {
       "width": "900px"
      }
     },
     "597bfd1194234610b7145c205058dc27": {
      "model_module": "@jupyter-widgets/base",
      "model_module_version": "2.0.0",
      "model_name": "LayoutModel",
      "state": {
       "width": "900px"
      }
     },
     "5a4fdd146f0b46c8a36d53df36872a83": {
      "model_module": "@jupyter-widgets/controls",
      "model_module_version": "2.0.0",
      "model_name": "ComboboxModel",
      "state": {
       "description": "Are there tools/services to support data format conversion?",
       "ensure_option": false,
       "layout": "IPY_MODEL_a28367bb348f4f6cb9d31cb1618a6919",
       "options": [
        "Yes",
        "No",
        "N/A"
       ],
       "placeholder": "Click to select option",
       "style": "IPY_MODEL_b591e876aaa642369b2d757c73d2e31c"
      }
     },
     "5ba76a9dfd5a4cfc8b09d99cf2c3e399": {
      "model_module": "@jupyter-widgets/controls",
      "model_module_version": "2.0.0",
      "model_name": "TextModel",
      "state": {
       "description": "Quality information link:",
       "layout": "IPY_MODEL_bf57f447187d412c8a9e15f9f8abda7f",
       "placeholder": "If there is published quality information, please provide the link.",
       "style": "IPY_MODEL_114254da0d234195a20018188106614c"
      }
     },
     "5c1c34c22a924539952439f979880a5f": {
      "model_module": "@jupyter-widgets/controls",
      "model_module_version": "2.0.0",
      "model_name": "ButtonModel",
      "state": {
       "button_style": "info",
       "description": "Print checklist",
       "layout": "IPY_MODEL_0c7ae58bd05944b8bf1a22686072806b",
       "style": "IPY_MODEL_1f48f5542081435a84736bdb9a216afa",
       "tooltip": null
      }
     },
     "5c93bd9c2caa4e4faffda108c68456b7": {
      "model_module": "@jupyter-widgets/controls",
      "model_module_version": "2.0.0",
      "model_name": "ComboboxModel",
      "state": {
       "description": "Are there tools/services to support data format conversion?",
       "ensure_option": false,
       "layout": "IPY_MODEL_71edbf746839476aa1c5c7e2aee190b4",
       "options": [
        "Yes",
        "No",
        "N/A"
       ],
       "placeholder": "Click to select option",
       "style": "IPY_MODEL_9364203558d840c68e3dee5292264588",
       "value": "Yes"
      }
     },
     "5d18a7dfc0ad4a93b359c877f7b230d6": {
      "model_module": "@jupyter-widgets/controls",
      "model_module_version": "2.0.0",
      "model_name": "ComboboxModel",
      "state": {
       "description": "4.3 Can the file be accessed via direct file downloading or ordering?",
       "ensure_option": false,
       "layout": "IPY_MODEL_591a7c896c4d464aa279aa908460a3d3",
       "options": [
        "Yes",
        "No",
        "N/A"
       ],
       "placeholder": "Click to select option",
       "style": "IPY_MODEL_608ed0969d234ea0ab49e79996d0ea09"
      }
     },
     "5e57706d85104f8a843b94d7051b6e51": {
      "model_module": "@jupyter-widgets/base",
      "model_module_version": "2.0.0",
      "model_name": "LayoutModel",
      "state": {}
     },
     "5f4860b160a9488e8eb3f2c2d5e9350c": {
      "model_module": "@jupyter-widgets/controls",
      "model_module_version": "2.0.0",
      "model_name": "TextStyleModel",
      "state": {
       "description_width": "initial",
       "font_size": null,
       "text_color": null
      }
     },
     "5f60b499acf5436ea069b0596aaae84f": {
      "model_module": "@jupyter-widgets/controls",
      "model_module_version": "2.0.0",
      "model_name": "TextStyleModel",
      "state": {
       "description_width": "initial",
       "font_size": null,
       "text_color": null
      }
     },
     "5f74649895bf476aa115c83d84743873": {
      "model_module": "@jupyter-widgets/controls",
      "model_module_version": "2.0.0",
      "model_name": "TextStyleModel",
      "state": {
       "description_width": "",
       "font_size": null,
       "text_color": null
      }
     },
     "602f96371c30415c9b0cfadf01ec93ef": {
      "model_module": "@jupyter-widgets/base",
      "model_module_version": "2.0.0",
      "model_name": "LayoutModel",
      "state": {
       "display": "none",
       "width": "900px"
      }
     },
     "608ed0969d234ea0ab49e79996d0ea09": {
      "model_module": "@jupyter-widgets/controls",
      "model_module_version": "2.0.0",
      "model_name": "TextStyleModel",
      "state": {
       "description_width": "initial",
       "font_size": null,
       "text_color": null
      }
     },
     "60d7d4deb3b74d82bd3b89c5dac5bc5a": {
      "model_module": "@jupyter-widgets/controls",
      "model_module_version": "2.0.0",
      "model_name": "ComboboxModel",
      "state": {
       "description": "4.8 Is there secure access to the full dataset for authorized users? ",
       "ensure_option": false,
       "layout": "IPY_MODEL_67a1301ce1c24ef588587747aef17b89",
       "options": [
        "Yes",
        "No",
        "N/A"
       ],
       "placeholder": "Click to select option",
       "style": "IPY_MODEL_08378a76aad34d9ead8b58f193a7d9c5"
      }
     },
     "632d4c968d7c42788fa927bbbbf66ea6": {
      "model_module": "@jupyter-widgets/controls",
      "model_module_version": "2.0.0",
      "model_name": "TextModel",
      "state": {
       "description": "1.1 Dataset name:",
       "layout": "IPY_MODEL_2c75afff3b8d42d181fc3ca43f6e8e60",
       "style": "IPY_MODEL_da13ec58ddeb4bbcab22fb6f88fc2d54",
       "value": "Weather dataset 5"
      }
     },
     "63fbe2e159c74dbab0f26b5aed273035": {
      "model_module": "@jupyter-widgets/controls",
      "model_module_version": "2.0.0",
      "model_name": "TextModel",
      "state": {
       "description": "Identifier",
       "layout": "IPY_MODEL_e5164b9a675245199e573881d8a4d802",
       "placeholder": "Click to select option",
       "style": "IPY_MODEL_a62bd30c4edd4989870369a63f87250e"
      }
     },
     "649250c47c4649c587a72fcb5de3d664": {
      "model_module": "@jupyter-widgets/base",
      "model_module_version": "2.0.0",
      "model_name": "LayoutModel",
      "state": {
       "width": "900px"
      }
     },
     "65d6858361f148d19430bf05d0c0b7c7": {
      "model_module": "@jupyter-widgets/controls",
      "model_module_version": "2.0.0",
      "model_name": "TextStyleModel",
      "state": {
       "description_width": "initial",
       "font_size": null,
       "text_color": null
      }
     },
     "66e226f88e9a443b921a1c10b2c13f5f": {
      "model_module": "@jupyter-widgets/controls",
      "model_module_version": "2.0.0",
      "model_name": "ComboboxModel",
      "state": {
       "description": "3.9 Are there recommendations on the intended use of the data, and uses that are not recommended?",
       "ensure_option": false,
       "layout": "IPY_MODEL_6c03096b671247e8a27a74da2fdbc5bc",
       "options": [
        "Yes",
        "No",
        "N/A"
       ],
       "placeholder": "Click to select option",
       "style": "IPY_MODEL_9a10b98c223948f9b30f8e90aab76508"
      }
     },
     "67a1301ce1c24ef588587747aef17b89": {
      "model_module": "@jupyter-widgets/base",
      "model_module_version": "2.0.0",
      "model_name": "LayoutModel",
      "state": {
       "width": "900px"
      }
     },
     "67fa865b883c4cb38f71845196eb60a5": {
      "model_module": "@jupyter-widgets/base",
      "model_module_version": "2.0.0",
      "model_name": "LayoutModel",
      "state": {
       "display": "none",
       "width": "900px"
      }
     },
     "682a14278aa845769f94c938f351dd22": {
      "model_module": "@jupyter-widgets/controls",
      "model_module_version": "2.0.0",
      "model_name": "ButtonModel",
      "state": {
       "button_style": "primary",
       "description": "Save Data Documentation Answers to json file",
       "layout": "IPY_MODEL_ab168fb8994442f6975b15511b0052ec",
       "style": "IPY_MODEL_ac392a7fbdf546bca96c53fd57efd915",
       "tooltip": null
      }
     },
     "6879cced6017452cbcf678209c9503ec": {
      "model_module": "@jupyter-widgets/controls",
      "model_module_version": "2.0.0",
      "model_name": "TextStyleModel",
      "state": {
       "description_width": "initial",
       "font_size": null,
       "text_color": null
      }
     },
     "688e55fbf00e422abb63eee9eedd33ed": {
      "model_module": "@jupyter-widgets/controls",
      "model_module_version": "2.0.0",
      "model_name": "DescriptionStyleModel",
      "state": {
       "description_width": ""
      }
     },
     "690a919a32114682925d13afec7ae143": {
      "model_module": "@jupyter-widgets/controls",
      "model_module_version": "2.0.0",
      "model_name": "TextStyleModel",
      "state": {
       "description_width": "initial",
       "font_size": null,
       "text_color": null
      }
     },
     "6948382b15fd46eb8f9bb81d3cab1f92": {
      "model_module": "@jupyter-widgets/controls",
      "model_module_version": "2.0.0",
      "model_name": "ComboboxModel",
      "state": {
       "description": "3.4 Is there contact information for subject-matter experts?",
       "ensure_option": false,
       "layout": "IPY_MODEL_780aa9b4263a499ca3340cb07c1ed127",
       "options": [
        "Yes",
        "No",
        "N/A"
       ],
       "placeholder": "Click to select option",
       "style": "IPY_MODEL_4ef4b80b21e64cb3a5a0186318d448b4"
      }
     },
     "69b8d06188ed4924a54cce50df49d4a4": {
      "model_module": "@jupyter-widgets/base",
      "model_module_version": "2.0.0",
      "model_name": "LayoutModel",
      "state": {
       "display": "none",
       "width": "900px"
      }
     },
     "6b1e5d4912564e7dbde717d6de063380": {
      "model_module": "@jupyter-widgets/base",
      "model_module_version": "2.0.0",
      "model_name": "LayoutModel",
      "state": {
       "display": "none",
       "width": "900px"
      }
     },
     "6bf56fa338d14b96a5b237e3d9884632": {
      "model_module": "@jupyter-widgets/base",
      "model_module_version": "2.0.0",
      "model_name": "LayoutModel",
      "state": {
       "display": "none",
       "width": "900px"
      }
     },
     "6c03096b671247e8a27a74da2fdbc5bc": {
      "model_module": "@jupyter-widgets/base",
      "model_module_version": "2.0.0",
      "model_name": "LayoutModel",
      "state": {
       "width": "900px"
      }
     },
     "6cd312c47f274208afbabd85114f388e": {
      "model_module": "@jupyter-widgets/controls",
      "model_module_version": "2.0.0",
      "model_name": "ComboboxModel",
      "state": {
       "description": "2.12 Are there checksums / other checks for data integrity? ",
       "ensure_option": false,
       "layout": "IPY_MODEL_597bfd1194234610b7145c205058dc27",
       "options": [
        "Yes",
        "No",
        "N/A"
       ],
       "placeholder": "Click to select option",
       "style": "IPY_MODEL_c6b9a39fea144b74b8a40fcbba5e3595"
      }
     },
     "6d83f276c3a947f8b474d1649659f395": {
      "model_module": "@jupyter-widgets/base",
      "model_module_version": "2.0.0",
      "model_name": "LayoutModel",
      "state": {
       "width": "900px"
      }
     },
     "6dc7d7a2a42549c0a4e682963faa8aea": {
      "model_module": "@jupyter-widgets/controls",
      "model_module_version": "2.0.0",
      "model_name": "TextStyleModel",
      "state": {
       "description_width": "initial",
       "font_size": null,
       "text_color": null
      }
     },
     "6e374da5c86e46e8be2eb3be4efa28f7": {
      "model_module": "@jupyter-widgets/controls",
      "model_module_version": "2.0.0",
      "model_name": "ComboboxModel",
      "state": {
       "description": "4.2 Does data access require authentication (e.g., a registered user account)?",
       "ensure_option": false,
       "layout": "IPY_MODEL_bd8a4ed6fa1d4fccaa7bef9be2b3f16b",
       "options": [
        "Yes",
        "No",
        "N/A"
       ],
       "placeholder": "Click to select option",
       "style": "IPY_MODEL_590cf2c58341418b9da8ee5af785bea2"
      }
     },
     "6e3a0a70359948e898184a68f2f8efcc": {
      "model_module": "@jupyter-widgets/controls",
      "model_module_version": "2.0.0",
      "model_name": "LabelModel",
      "state": {
       "layout": "IPY_MODEL_02087075d0e243419f286e7228551b2c",
       "style": "IPY_MODEL_9d4763d866024abda4212c139381ad1c",
       "value": "Number of data table rows:"
      }
     },
     "6e9f6fe3551b4361a743d513af1f9201": {
      "model_module": "@jupyter-widgets/controls",
      "model_module_version": "2.0.0",
      "model_name": "TextStyleModel",
      "state": {
       "description_width": "initial",
       "font_size": null,
       "text_color": null
      }
     },
     "6ee16e9ec25e448098b891cbb1cda0b7": {
      "model_module": "@jupyter-widgets/base",
      "model_module_version": "2.0.0",
      "model_name": "LayoutModel",
      "state": {
       "width": "900px"
      }
     },
     "6ef4c5c7763b4e209df42417325a83da": {
      "model_module": "@jupyter-widgets/base",
      "model_module_version": "2.0.0",
      "model_name": "LayoutModel",
      "state": {}
     },
     "6fa8a27601fc462d99e7ee1c7441610b": {
      "model_module": "@jupyter-widgets/controls",
      "model_module_version": "2.0.0",
      "model_name": "LabelStyleModel",
      "state": {
       "description_width": "",
       "font_family": null,
       "font_size": null,
       "font_style": null,
       "font_variant": null,
       "font_weight": null,
       "text_color": null,
       "text_decoration": null
      }
     },
     "6fdd3fd52d954cb8be813c5788d3d442": {
      "model_module": "@jupyter-widgets/controls",
      "model_module_version": "2.0.0",
      "model_name": "LabelModel",
      "state": {
       "layout": "IPY_MODEL_d124237eb6c143c7aa5085ec376d98de",
       "style": "IPY_MODEL_6fa8a27601fc462d99e7ee1c7441610b",
       "value": "Number of data dimensions:"
      }
     },
     "71edbf746839476aa1c5c7e2aee190b4": {
      "model_module": "@jupyter-widgets/base",
      "model_module_version": "2.0.0",
      "model_name": "LayoutModel",
      "state": {
       "width": "900px"
      }
     },
     "7324061e91b34d2bae1114661d3f27bf": {
      "model_module": "@jupyter-widgets/base",
      "model_module_version": "2.0.0",
      "model_name": "LayoutModel",
      "state": {
       "width": "900px"
      }
     },
     "748d2c6759d74b26bd7f880e73410280": {
      "model_module": "@jupyter-widgets/controls",
      "model_module_version": "2.0.0",
      "model_name": "TextStyleModel",
      "state": {
       "description_width": "initial",
       "font_size": null,
       "text_color": null
      }
     },
     "752580ca5e934b6da62c743267682b35": {
      "model_module": "@jupyter-widgets/base",
      "model_module_version": "2.0.0",
      "model_name": "LayoutModel",
      "state": {
       "width": "100px"
      }
     },
     "77d28139b58c48c0bb18f786321d9d06": {
      "model_module": "@jupyter-widgets/base",
      "model_module_version": "2.0.0",
      "model_name": "LayoutModel",
      "state": {}
     },
     "780aa9b4263a499ca3340cb07c1ed127": {
      "model_module": "@jupyter-widgets/base",
      "model_module_version": "2.0.0",
      "model_name": "LayoutModel",
      "state": {
       "width": "900px"
      }
     },
     "791f70d3168149ab80cdb15004246534": {
      "model_module": "@jupyter-widgets/controls",
      "model_module_version": "2.0.0",
      "model_name": "IntTextModel",
      "state": {
       "layout": "IPY_MODEL_9c873fa441a74147a419f4f7ea0e79c8",
       "step": 1,
       "style": "IPY_MODEL_572174232f284f7491ff91e89951ec30"
      }
     },
     "796dfe25f57549dfbaf91bf47d53073e": {
      "model_module": "@jupyter-widgets/controls",
      "model_module_version": "2.0.0",
      "model_name": "TextStyleModel",
      "state": {
       "description_width": "",
       "font_size": null,
       "text_color": null
      }
     },
     "7a306cf842c442a18671fc45464300e9": {
      "model_module": "@jupyter-widgets/controls",
      "model_module_version": "2.0.0",
      "model_name": "TextareaModel",
      "state": {
       "layout": "IPY_MODEL_347d43dbb69b4435b5ca421b40b6ac86",
       "placeholder": "If yes, what measures were used?",
       "style": "IPY_MODEL_5f74649895bf476aa115c83d84743873"
      }
     },
     "7a32c1e441734d31ba5a08bfed6149cf": {
      "model_module": "@jupyter-widgets/base",
      "model_module_version": "2.0.0",
      "model_name": "LayoutModel",
      "state": {}
     },
     "7a71d43b640741db8b95012beeb9a335": {
      "model_module": "@jupyter-widgets/base",
      "model_module_version": "2.0.0",
      "model_name": "LayoutModel",
      "state": {
       "width": "900px"
      }
     },
     "7af3f326d89d481c91eec537e6c40342": {
      "model_module": "@jupyter-widgets/controls",
      "model_module_version": "2.0.0",
      "model_name": "TextStyleModel",
      "state": {
       "description_width": "initial",
       "font_size": null,
       "text_color": null
      }
     },
     "7bae27c6266a45cca62b27a3a81afcab": {
      "model_module": "@jupyter-widgets/controls",
      "model_module_version": "2.0.0",
      "model_name": "TextModel",
      "state": {
       "description": "Tools / services link:",
       "layout": "IPY_MODEL_05144eb6b6f249caa4dd8facd970e4dc",
       "placeholder": "If yes, provide the link to the tools/services",
       "style": "IPY_MODEL_228cf1a261e2425bbdc9582be0881b22",
       "value": "https://www.arcgis.com/home/index.html https://www.qgis.org/ https://pandas.pydata.org/"
      }
     },
     "7c2b297229fa4c9c99da014dc7fff9e9": {
      "model_module": "@jupyter-widgets/controls",
      "model_module_version": "2.0.0",
      "model_name": "TextStyleModel",
      "state": {
       "description_width": "initial",
       "font_size": null,
       "text_color": null
      }
     },
     "7e122dc338314eee8ac30d3d71ffc20e": {
      "model_module": "@jupyter-widgets/base",
      "model_module_version": "2.0.0",
      "model_name": "LayoutModel",
      "state": {
       "flex": "1 1 auto",
       "width": "auto"
      }
     },
     "7e93e3bbbd334300aa34b0abb2182310": {
      "model_module": "@jupyter-widgets/controls",
      "model_module_version": "2.0.0",
      "model_name": "DescriptionStyleModel",
      "state": {
       "description_width": ""
      }
     },
     "8018f732484c4ef18dee9576acb1f045": {
      "model_module": "@jupyter-widgets/base",
      "model_module_version": "2.0.0",
      "model_name": "LayoutModel",
      "state": {
       "width": "900px"
      }
     },
     "80305bee089b4645af6a8e45c7772777": {
      "model_module": "@jupyter-widgets/controls",
      "model_module_version": "2.0.0",
      "model_name": "LabelStyleModel",
      "state": {
       "description_width": "",
       "font_family": null,
       "font_size": null,
       "font_style": null,
       "font_variant": null,
       "font_weight": null,
       "text_color": null,
       "text_decoration": null
      }
     },
     "80af78bcfad64ebaa295219d223b80e3": {
      "model_module": "@jupyter-widgets/base",
      "model_module_version": "2.0.0",
      "model_name": "LayoutModel",
      "state": {
       "width": "900px"
      }
     },
     "831082db1e414418a5977d657e293193": {
      "model_module": "@jupyter-widgets/controls",
      "model_module_version": "2.0.0",
      "model_name": "ComboboxModel",
      "state": {
       "description": "5.1 Have null values/gaps been filled?",
       "ensure_option": false,
       "layout": "IPY_MODEL_33a6d2b7338b4ca3babf407f0da4a450",
       "options": [
        "Yes",
        "No",
        "N/A"
       ],
       "placeholder": "Click to select option",
       "style": "IPY_MODEL_da864e1f21f94ee385b901163ca0f588"
      }
     },
     "83ee81292dfb483fb6e4fb05dfe13f23": {
      "model_module": "@jupyter-widgets/controls",
      "model_module_version": "2.0.0",
      "model_name": "ButtonModel",
      "state": {
       "button_style": "warning",
       "description": "Restore answers",
       "layout": "IPY_MODEL_071776c897d54aceb5dc5b2a3ad44a6e",
       "style": "IPY_MODEL_be935100b8eb4875a915a0614ce504e0",
       "tooltip": null
      }
     },
     "858997b33a3b48879d839b247d617441": {
      "model_module": "@jupyter-widgets/controls",
      "model_module_version": "2.0.0",
      "model_name": "HBoxModel",
      "state": {
       "children": [
        "IPY_MODEL_6fdd3fd52d954cb8be813c5788d3d442",
        "IPY_MODEL_2a4f3820349c42778feec54788634907"
       ],
       "layout": "IPY_MODEL_48af0ef314254998afbc22237812d4c6"
      }
     },
     "868b37bbd18a4401b12c0cf476c8d889": {
      "model_module": "@jupyter-widgets/base",
      "model_module_version": "2.0.0",
      "model_name": "LayoutModel",
      "state": {}
     },
     "873c153b9a5c44189c56889b29f5572a": {
      "model_module": "@jupyter-widgets/base",
      "model_module_version": "2.0.0",
      "model_name": "LayoutModel",
      "state": {
       "width": "900px"
      }
     },
     "89f371ff267d49ca83db33b0f580cfb1": {
      "model_module": "@jupyter-widgets/controls",
      "model_module_version": "2.0.0",
      "model_name": "IntTextModel",
      "state": {
       "layout": "IPY_MODEL_752580ca5e934b6da62c743267682b35",
       "step": 1,
       "style": "IPY_MODEL_0ed7e911cd5a450cbfd423e0a2432df1"
      }
     },
     "8ac889d1f349433e9eeaa02f6354d6b2": {
      "model_module": "@jupyter-widgets/controls",
      "model_module_version": "2.0.0",
      "model_name": "TextStyleModel",
      "state": {
       "description_width": "initial",
       "font_size": null,
       "text_color": null
      }
     },
     "8c3bacad887b442c8d5d53a0b9186096": {
      "model_module": "@jupyter-widgets/controls",
      "model_module_version": "2.0.0",
      "model_name": "LabelStyleModel",
      "state": {
       "description_width": "",
       "font_family": null,
       "font_size": null,
       "font_style": null,
       "font_variant": null,
       "font_weight": null,
       "text_color": null,
       "text_decoration": null
      }
     },
     "8cba18d9ff364d6d946e4a23ac5ecc74": {
      "model_module": "@jupyter-widgets/base",
      "model_module_version": "2.0.0",
      "model_name": "LayoutModel",
      "state": {
       "display": "none",
       "width": "900px"
      }
     },
     "8fe9a4f8096849759f09bf55b566e1b0": {
      "model_module": "@jupyter-widgets/controls",
      "model_module_version": "2.0.0",
      "model_name": "TextStyleModel",
      "state": {
       "description_width": "initial",
       "font_size": null,
       "text_color": null
      }
     },
     "91240de9c3c7430a86a9bac950c6d4f3": {
      "model_module": "@jupyter-widgets/controls",
      "model_module_version": "2.0.0",
      "model_name": "ComboboxModel",
      "state": {
       "description": "Do the parameters follow a defined standard?",
       "ensure_option": false,
       "layout": "IPY_MODEL_f986aea4a0f349c2a5c7a89956d6e7cd",
       "options": [
        "Yes",
        "No",
        "N/A"
       ],
       "placeholder": "Click to select option",
       "style": "IPY_MODEL_5128568e57614777a9a150259da7db81"
      }
     },
     "9364203558d840c68e3dee5292264588": {
      "model_module": "@jupyter-widgets/controls",
      "model_module_version": "2.0.0",
      "model_name": "TextStyleModel",
      "state": {
       "description_width": "initial",
       "font_size": null,
       "text_color": null
      }
     },
     "9591298cc29f42b3ac30bb66e910726b": {
      "model_module": "@jupyter-widgets/base",
      "model_module_version": "2.0.0",
      "model_name": "LayoutModel",
      "state": {
       "width": "100px"
      }
     },
     "9689d21922544202a3d3f60ca2f04b4f": {
      "model_module": "@jupyter-widgets/controls",
      "model_module_version": "2.0.0",
      "model_name": "TextStyleModel",
      "state": {
       "description_width": "",
       "font_size": null,
       "text_color": null
      }
     },
     "96ad952567284c4da478b5e6b594c5e9": {
      "model_module": "@jupyter-widgets/controls",
      "model_module_version": "2.0.0",
      "model_name": "TextModel",
      "state": {
       "layout": "IPY_MODEL_a7779f2a24eb4cfa8e808d65951d475e",
       "placeholder": "e.g., STAC label extension, ESA AIREO specification, etc.",
       "style": "IPY_MODEL_31aa291ef35249e39fb07fae1ee9dcab"
      }
     },
     "98b09ae08a794ab3a92e89d43f1b95dd": {
      "model_module": "@jupyter-widgets/output",
      "model_module_version": "1.0.0",
      "model_name": "OutputModel",
      "state": {
       "layout": "IPY_MODEL_55784285468e4ecc83bec775d2a53a7a"
      }
     },
     "9915521cf3ba4bd6b42a4b8eddd55f87": {
      "model_module": "@jupyter-widgets/base",
      "model_module_version": "2.0.0",
      "model_name": "LayoutModel",
      "state": {}
     },
     "9a10b98c223948f9b30f8e90aab76508": {
      "model_module": "@jupyter-widgets/controls",
      "model_module_version": "2.0.0",
      "model_name": "TextStyleModel",
      "state": {
       "description_width": "initial",
       "font_size": null,
       "text_color": null
      }
     },
     "9b7d4524cd9946b6b7c1f60b3955a9d1": {
      "model_module": "@jupyter-widgets/base",
      "model_module_version": "2.0.0",
      "model_name": "LayoutModel",
      "state": {
       "display": "none",
       "width": "900px"
      }
     },
     "9b886a60d7114df0bc0d7fd130ababd6": {
      "model_module": "@jupyter-widgets/controls",
      "model_module_version": "2.0.0",
      "model_name": "TextModel",
      "state": {
       "description": "1.2. Dataset version:",
       "layout": "IPY_MODEL_f4a557d074f84225bb732e23e8eed377",
       "style": "IPY_MODEL_da8c6ea95a06457bafa975bfa5466f95",
       "value": "1.8"
      }
     },
     "9bdb9f82303a4d60917f7662a5ba9b4e": {
      "model_module": "@jupyter-widgets/controls",
      "model_module_version": "2.0.0",
      "model_name": "TextStyleModel",
      "state": {
       "description_width": "initial",
       "font_size": null,
       "text_color": null
      }
     },
     "9be9eef617ee485383e584f70db01268": {
      "model_module": "@jupyter-widgets/controls",
      "model_module_version": "2.0.0",
      "model_name": "LabelModel",
      "state": {
       "layout": "IPY_MODEL_124d6e71ab83431c80cbb1e38a7cd204",
       "style": "IPY_MODEL_dd9939757ed84e8799b718b3bfe998e4",
       "value": "4.1 What is/are the major file formats? (Use shift / Ctrl / CMD to select multiple)"
      }
     },
     "9c873fa441a74147a419f4f7ea0e79c8": {
      "model_module": "@jupyter-widgets/base",
      "model_module_version": "2.0.0",
      "model_name": "LayoutModel",
      "state": {
       "width": "100px"
      }
     },
     "9cda5d50ad3e4c308e40454e2221575f": {
      "model_module": "@jupyter-widgets/base",
      "model_module_version": "2.0.0",
      "model_name": "LayoutModel",
      "state": {
       "width": "900px"
      }
     },
     "9d4763d866024abda4212c139381ad1c": {
      "model_module": "@jupyter-widgets/controls",
      "model_module_version": "2.0.0",
      "model_name": "LabelStyleModel",
      "state": {
       "description_width": "",
       "font_family": null,
       "font_size": null,
       "font_style": null,
       "font_variant": null,
       "font_weight": null,
       "text_color": null,
       "text_decoration": null
      }
     },
     "9da40ed3077e4ccc863ce585be43d1d3": {
      "model_module": "@jupyter-widgets/controls",
      "model_module_version": "2.0.0",
      "model_name": "ButtonStyleModel",
      "state": {
       "font_family": null,
       "font_size": null,
       "font_style": null,
       "font_variant": null,
       "font_weight": null,
       "text_color": null,
       "text_decoration": null
      }
     },
     "9de2cfc30ca54363953c60427e1dfe74": {
      "model_module": "@jupyter-widgets/controls",
      "model_module_version": "2.0.0",
      "model_name": "TextStyleModel",
      "state": {
       "description_width": "",
       "font_size": null,
       "text_color": null
      }
     },
     "9ec4ab4cfed0456fa5ad217b843e92ab": {
      "model_module": "@jupyter-widgets/controls",
      "model_module_version": "2.0.0",
      "model_name": "ComboboxModel",
      "state": {
       "description": "5.2 Have outliers been identified?",
       "ensure_option": false,
       "layout": "IPY_MODEL_4789dfd910cb492e8e670c1fac3bdf91",
       "options": [
        "Yes, tagged ",
        "Yes, removed",
        "No",
        "N/A"
       ],
       "placeholder": "Click to select option",
       "style": "IPY_MODEL_199c868504f34109839da165405a7ca4"
      }
     },
     "a01b88ec822e488f9a684989890b21cc": {
      "model_module": "@jupyter-widgets/controls",
      "model_module_version": "2.0.0",
      "model_name": "ComboboxModel",
      "state": {
       "description": "2.10 Are there published data quality procedures or reports?",
       "ensure_option": false,
       "layout": "IPY_MODEL_9cda5d50ad3e4c308e40454e2221575f",
       "options": [
        "Yes",
        "No",
        "N/A"
       ],
       "placeholder": "Click to select option",
       "style": "IPY_MODEL_fc97e34840db430db38f0874f9b2631a"
      }
     },
     "a02edb2df7e5412c97706ebf5f16cb8d": {
      "model_module": "@jupyter-widgets/base",
      "model_module_version": "2.0.0",
      "model_name": "LayoutModel",
      "state": {
       "width": "900px"
      }
     },
     "a0ade0a96c7a4630a5a245ace93484ca": {
      "model_module": "@jupyter-widgets/controls",
      "model_module_version": "2.0.0",
      "model_name": "ButtonStyleModel",
      "state": {
       "font_family": null,
       "font_size": null,
       "font_style": null,
       "font_variant": null,
       "font_weight": null,
       "text_color": null,
       "text_decoration": null
      }
     },
     "a157a3f3558b43a09945d152c84c507a": {
      "model_module": "@jupyter-widgets/controls",
      "model_module_version": "2.0.0",
      "model_name": "ComboboxModel",
      "state": {
       "description": "2.7 Are there processes to monitor for units, data types, and parameter consistency?",
       "ensure_option": false,
       "layout": "IPY_MODEL_07f6a13f54cb4535b4513ea5b5316597",
       "options": [
        "Yes",
        "No",
        "N/A"
       ],
       "placeholder": "Click to select option",
       "style": "IPY_MODEL_1c56829cc10e4da79221e00c2d61e2e3"
      }
     },
     "a1e4b4bc18d54d97873805e9d05611b0": {
      "model_module": "@jupyter-widgets/controls",
      "model_module_version": "2.0.0",
      "model_name": "DescriptionStyleModel",
      "state": {
       "description_width": ""
      }
     },
     "a1e601bed61d4849833516d6612ad240": {
      "model_module": "@jupyter-widgets/controls",
      "model_module_version": "2.0.0",
      "model_name": "TextStyleModel",
      "state": {
       "description_width": "initial",
       "font_size": null,
       "text_color": null
      }
     },
     "a28367bb348f4f6cb9d31cb1618a6919": {
      "model_module": "@jupyter-widgets/base",
      "model_module_version": "2.0.0",
      "model_name": "LayoutModel",
      "state": {
       "width": "900px"
      }
     },
     "a426112e9dd140bc8d9bcf08576462c7": {
      "model_module": "@jupyter-widgets/base",
      "model_module_version": "2.0.0",
      "model_name": "LayoutModel",
      "state": {
       "display": "none",
       "width": "900px"
      }
     },
     "a43ecdc2d6a64262acae2b725ba205dd": {
      "model_module": "@jupyter-widgets/controls",
      "model_module_version": "2.0.0",
      "model_name": "ComboboxModel",
      "state": {
       "description": "3.2 Is there a comprehensive data dictionary/codebook that describes what each element of the dataset means? parameters?",
       "ensure_option": false,
       "layout": "IPY_MODEL_4952438eec604ca582da4d00f662a4f1",
       "options": [
        "Yes",
        "No",
        "N/A"
       ],
       "placeholder": "Click to select option",
       "style": "IPY_MODEL_038e48e3073f43e0a26d5c562696c959"
      }
     },
     "a44d559180034f79b980f063886b3e88": {
      "model_module": "@jupyter-widgets/controls",
      "model_module_version": "2.0.0",
      "model_name": "LabelStyleModel",
      "state": {
       "description_width": "",
       "font_family": null,
       "font_size": null,
       "font_style": null,
       "font_variant": null,
       "font_weight": null,
       "text_color": null,
       "text_decoration": null
      }
     },
     "a4f7c4774a9145429a066110e05f32ee": {
      "model_module": "@jupyter-widgets/base",
      "model_module_version": "2.0.0",
      "model_name": "LayoutModel",
      "state": {
       "width": "900px"
      }
     },
     "a62bd30c4edd4989870369a63f87250e": {
      "model_module": "@jupyter-widgets/controls",
      "model_module_version": "2.0.0",
      "model_name": "TextStyleModel",
      "state": {
       "description_width": "initial",
       "font_size": null,
       "text_color": null
      }
     },
     "a6be75ba5d044a83bc642a972351125d": {
      "model_module": "@jupyter-widgets/base",
      "model_module_version": "2.0.0",
      "model_name": "LayoutModel",
      "state": {
       "display": "none",
       "width": "900px"
      }
     },
     "a6f89bd3776f4c4cac63a5437e66c6c9": {
      "model_module": "@jupyter-widgets/controls",
      "model_module_version": "2.0.0",
      "model_name": "HBoxModel",
      "state": {
       "children": [
        "IPY_MODEL_6e3a0a70359948e898184a68f2f8efcc",
        "IPY_MODEL_791f70d3168149ab80cdb15004246534"
       ],
       "layout": "IPY_MODEL_25436cc9f79c403da40ba7a23d10056e"
      }
     },
     "a720ba044fbc4d8eac3dcfb9b9bc967a": {
      "model_module": "@jupyter-widgets/base",
      "model_module_version": "2.0.0",
      "model_name": "LayoutModel",
      "state": {
       "width": "900px"
      }
     },
     "a7779f2a24eb4cfa8e808d65951d475e": {
      "model_module": "@jupyter-widgets/base",
      "model_module_version": "2.0.0",
      "model_name": "LayoutModel",
      "state": {
       "width": "900px"
      }
     },
     "a77dc0c748f941218473728795d22e94": {
      "model_module": "@jupyter-widgets/controls",
      "model_module_version": "2.0.0",
      "model_name": "ComboboxModel",
      "state": {
       "description": "If the data is gridded, was it transformed from a different original sampling?",
       "ensure_option": false,
       "layout": "IPY_MODEL_e00d59b9d32347688cabf8a46dfd87e9",
       "options": [
        "Yes, from irregular sampling",
        "Yes, from a different regular sampling",
        "No, this is the original sampling",
        "N/A"
       ],
       "placeholder": "Click to select option",
       "style": "IPY_MODEL_8ac889d1f349433e9eeaa02f6354d6b2"
      }
     },
     "a80691ca53bf4903a51ad5bd9b092190": {
      "model_module": "@jupyter-widgets/controls",
      "model_module_version": "2.0.0",
      "model_name": "TextModel",
      "state": {
       "layout": "IPY_MODEL_a6be75ba5d044a83bc642a972351125d",
       "placeholder": "(optional) Link to a bias-corrected or bias-reduced version of the dataset",
       "style": "IPY_MODEL_9689d21922544202a3d3f60ca2f04b4f"
      }
     },
     "a8579f3f6792441abee54aeb45850817": {
      "model_module": "@jupyter-widgets/base",
      "model_module_version": "2.0.0",
      "model_name": "LayoutModel",
      "state": {}
     },
     "a9098fb4d0144f32bffe93e709d146b5": {
      "model_module": "@jupyter-widgets/controls",
      "model_module_version": "2.0.0",
      "model_name": "TextStyleModel",
      "state": {
       "description_width": "",
       "font_size": null,
       "text_color": null
      }
     },
     "a99af08bc1794576b8788829f2885744": {
      "model_module": "@jupyter-widgets/base",
      "model_module_version": "2.0.0",
      "model_name": "LayoutModel",
      "state": {
       "width": "900px"
      }
     },
     "aa51ef8374a54459affa37f44c9167a3": {
      "model_module": "@jupyter-widgets/controls",
      "model_module_version": "2.0.0",
      "model_name": "LabelModel",
      "state": {
       "layout": "IPY_MODEL_b2d0db904fc1497488d45ff1884e26d1",
       "style": "IPY_MODEL_8c3bacad887b442c8d5d53a0b9186096",
       "value": "Size of images:"
      }
     },
     "ab168fb8994442f6975b15511b0052ec": {
      "model_module": "@jupyter-widgets/base",
      "model_module_version": "2.0.0",
      "model_name": "LayoutModel",
      "state": {
       "flex": "1 1 auto",
       "width": "auto"
      }
     },
     "ab8db2cb362b44dfbc6be29436a9bc33": {
      "model_module": "@jupyter-widgets/controls",
      "model_module_version": "2.0.0",
      "model_name": "TextModel",
      "state": {
       "description": "3.7 What is the license for the data?",
       "layout": "IPY_MODEL_bc89e32199f347fa92cebf6fdbc88760",
       "placeholder": "Type your answer",
       "style": "IPY_MODEL_17fceef814c64d0990789aa670939b98"
      }
     },
     "abe4dbd81f804087b06492199a919b97": {
      "model_module": "@jupyter-widgets/base",
      "model_module_version": "2.0.0",
      "model_name": "LayoutModel",
      "state": {
       "width": "900px"
      }
     },
     "ac392a7fbdf546bca96c53fd57efd915": {
      "model_module": "@jupyter-widgets/controls",
      "model_module_version": "2.0.0",
      "model_name": "ButtonStyleModel",
      "state": {
       "font_family": null,
       "font_size": null,
       "font_style": null,
       "font_variant": null,
       "font_weight": null,
       "text_color": null,
       "text_decoration": null
      }
     },
     "aca0561c67bb4a45953bc33a107dcf2d": {
      "model_module": "@jupyter-widgets/controls",
      "model_module_version": "2.0.0",
      "model_name": "HBoxModel",
      "state": {
       "children": [
        "IPY_MODEL_f713664cb309426b8718801376ce4cae",
        "IPY_MODEL_89f371ff267d49ca83db33b0f580cfb1",
        "IPY_MODEL_c9b9aec2d8324857a3f09dbb0d02600f",
        "IPY_MODEL_aa51ef8374a54459affa37f44c9167a3",
        "IPY_MODEL_de9c9a89f46a48b1a32f2419f8fac7f1"
       ],
       "layout": "IPY_MODEL_cef5dd85bfc74e7baa9448838164b1af"
      }
     },
     "ad321e7f06de4504a323775916ca4f39": {
      "model_module": "@jupyter-widgets/base",
      "model_module_version": "2.0.0",
      "model_name": "LayoutModel",
      "state": {
       "width": "900px"
      }
     },
     "ae76b75885ff463dacd1937cbb42413e": {
      "model_module": "@jupyter-widgets/base",
      "model_module_version": "2.0.0",
      "model_name": "LayoutModel",
      "state": {
       "width": "900px"
      }
     },
     "af0d965ab177493eb0619d1e8f71ab0a": {
      "model_module": "@jupyter-widgets/base",
      "model_module_version": "2.0.0",
      "model_name": "LayoutModel",
      "state": {
       "width": "900px"
      }
     },
     "af1f576a15084cf38d75e04d1c34ca5b": {
      "model_module": "@jupyter-widgets/controls",
      "model_module_version": "2.0.0",
      "model_name": "TextStyleModel",
      "state": {
       "description_width": "initial",
       "font_size": null,
       "text_color": null
      }
     },
     "af557952be734a5cb5cde6a600fe7aba": {
      "model_module": "@jupyter-widgets/controls",
      "model_module_version": "2.0.0",
      "model_name": "TextModel",
      "state": {
       "layout": "IPY_MODEL_9915521cf3ba4bd6b42a4b8eddd55f87",
       "placeholder": "Total data volume:",
       "style": "IPY_MODEL_e34b6fdf9c13410aa1168f9aac6bfcd7"
      }
     },
     "afbb419d65c14353971b4d5aa2b9fd78": {
      "model_module": "@jupyter-widgets/controls",
      "model_module_version": "2.0.0",
      "model_name": "TextStyleModel",
      "state": {
       "description_width": "initial",
       "font_size": null,
       "text_color": null
      }
     },
     "affbd1636b984a49b40299577751c9f9": {
      "model_module": "@jupyter-widgets/controls",
      "model_module_version": "2.0.0",
      "model_name": "TextStyleModel",
      "state": {
       "description_width": "initial",
       "font_size": null,
       "text_color": null
      }
     },
     "b18e272ab7024cd8aabedda08586127f": {
      "model_module": "@jupyter-widgets/controls",
      "model_module_version": "2.0.0",
      "model_name": "TextStyleModel",
      "state": {
       "description_width": "initial",
       "font_size": null,
       "text_color": null
      }
     },
     "b1e552feadc14817a7c6eeea8d3053e4": {
      "model_module": "@jupyter-widgets/base",
      "model_module_version": "2.0.0",
      "model_name": "LayoutModel",
      "state": {
       "flex": "1 1 auto",
       "width": "auto"
      }
     },
     "b287992582754d738d144b80b93c2f2a": {
      "model_module": "@jupyter-widgets/controls",
      "model_module_version": "2.0.0",
      "model_name": "ComboboxModel",
      "state": {
       "description": "Is the data dictionary machine-readable?",
       "ensure_option": false,
       "layout": "IPY_MODEL_6bf56fa338d14b96a5b237e3d9884632",
       "options": [
        "Yes",
        "No",
        "N/A"
       ],
       "placeholder": "Click to select option",
       "style": "IPY_MODEL_748d2c6759d74b26bd7f880e73410280"
      }
     },
     "b2d0db904fc1497488d45ff1884e26d1": {
      "model_module": "@jupyter-widgets/base",
      "model_module_version": "2.0.0",
      "model_name": "LayoutModel",
      "state": {}
     },
     "b3511d9a04da42b78f2fc8036eb8993f": {
      "model_module": "@jupyter-widgets/controls",
      "model_module_version": "2.0.0",
      "model_name": "TextareaModel",
      "state": {
       "description": "3.8 Has this dataset already been used in AI or ML activities? Link to publications/reports",
       "layout": "IPY_MODEL_7a71d43b640741db8b95012beeb9a335",
       "style": "IPY_MODEL_23e562316aaf41bb8fa32e4a0e395f5d"
      }
     },
     "b45432096f2641489f93ffbc4ba5bfe1": {
      "model_module": "@jupyter-widgets/controls",
      "model_module_version": "2.0.0",
      "model_name": "TextStyleModel",
      "state": {
       "description_width": "initial",
       "font_size": null,
       "text_color": null
      }
     },
     "b50f387be3c545d99954ee83d6c0dad8": {
      "model_module": "@jupyter-widgets/controls",
      "model_module_version": "2.0.0",
      "model_name": "ComboboxModel",
      "state": {
       "description": "6. Is this raw data or a derived/processed data product?",
       "ensure_option": false,
       "layout": "IPY_MODEL_390f581f203a49a3b69ae99eb324a996",
       "options": [
        "Raw",
        "Derived",
        "Unknown"
       ],
       "placeholder": "Click to select option",
       "style": "IPY_MODEL_dd35f14485da4683b95c1018d6888829"
      }
     },
     "b591e876aaa642369b2d757c73d2e31c": {
      "model_module": "@jupyter-widgets/controls",
      "model_module_version": "2.0.0",
      "model_name": "TextStyleModel",
      "state": {
       "description_width": "initial",
       "font_size": null,
       "text_color": null
      }
     },
     "b5f0d5f1fc8b43f487b98701e2145f32": {
      "model_module": "@jupyter-widgets/controls",
      "model_module_version": "2.0.0",
      "model_name": "TextStyleModel",
      "state": {
       "description_width": "initial",
       "font_size": null,
       "text_color": null
      }
     },
     "b600d58884f5450d84d228897b47a7ef": {
      "model_module": "@jupyter-widgets/controls",
      "model_module_version": "2.0.0",
      "model_name": "TextStyleModel",
      "state": {
       "description_width": "initial",
       "font_size": null,
       "text_color": null
      }
     },
     "b614f553a5fa4ea3bfdac1f84e0d8691": {
      "model_module": "@jupyter-widgets/controls",
      "model_module_version": "2.0.0",
      "model_name": "SelectMultipleModel",
      "state": {
       "_options_labels": [
        "CSV",
        "netCDF",
        "geoJSON",
        "Shapefile",
        "GRIB",
        "HDF",
        "GeoTIFF",
        "KML",
        "GINI",
        "Zarr",
        "Other"
       ],
       "index": [
        7
       ],
       "layout": "IPY_MODEL_77d28139b58c48c0bb18f786321d9d06",
       "rows": 11,
       "style": "IPY_MODEL_7e93e3bbbd334300aa34b0abb2182310"
      }
     },
     "b7342847137642ca97c4dfc8e12ce3d4": {
      "model_module": "@jupyter-widgets/controls",
      "model_module_version": "2.0.0",
      "model_name": "ComboboxModel",
      "state": {
       "description": "2.2 Is there any documentation about the completeness of the dataset?",
       "ensure_option": false,
       "layout": "IPY_MODEL_a4f7c4774a9145429a066110e05f32ee",
       "options": [
        "Yes",
        "No"
       ],
       "placeholder": "Click to select option",
       "style": "IPY_MODEL_16cf89bd23744450a79978bea5c5a7e7"
      }
     },
     "b847041acc22435790b9aceaebcacdb5": {
      "model_module": "@jupyter-widgets/controls",
      "model_module_version": "2.0.0",
      "model_name": "ComboboxModel",
      "state": {
       "description": "3.3 Does the dataset have a unique persistent identifier, e.g. DOI?",
       "ensure_option": false,
       "layout": "IPY_MODEL_80af78bcfad64ebaa295219d223b80e3",
       "options": [
        "Yes",
        "No",
        "N/A"
       ],
       "placeholder": "Click to select option",
       "style": "IPY_MODEL_5f4860b160a9488e8eb3f2c2d5e9350c"
      }
     },
     "b8c56f2bbcac4dd0a1bd8076dc3a1e62": {
      "model_module": "@jupyter-widgets/controls",
      "model_module_version": "2.0.0",
      "model_name": "TextStyleModel",
      "state": {
       "description_width": "initial",
       "font_size": null,
       "text_color": null
      }
     },
     "b97f3ef8d3244d8485be2741769b7673": {
      "model_module": "@jupyter-widgets/base",
      "model_module_version": "2.0.0",
      "model_name": "LayoutModel",
      "state": {
       "display": "none",
       "width": "900px"
      }
     },
     "b9e99277797645b784cdca2b88967952": {
      "model_module": "@jupyter-widgets/controls",
      "model_module_version": "2.0.0",
      "model_name": "TextModel",
      "state": {
       "description": "Metadata standard:",
       "layout": "IPY_MODEL_b97f3ef8d3244d8485be2741769b7673",
       "placeholder": "Which standard is it? (CF, TBD, etc.)",
       "style": "IPY_MODEL_6879cced6017452cbcf678209c9503ec"
      }
     },
     "bb7902c7aa634754b4aea366022dde7c": {
      "model_module": "@jupyter-widgets/controls",
      "model_module_version": "2.0.0",
      "model_name": "SelectMultipleModel",
      "state": {
       "_options_labels": [
        "CSV",
        "netCDF",
        "geoJSON",
        "Shapefile",
        "GRIB",
        "HDF",
        "GeoTIFF",
        "KML",
        "GINI",
        "Zarr",
        "Other"
       ],
       "index": [
        0
       ],
       "layout": "IPY_MODEL_a8579f3f6792441abee54aeb45850817",
       "rows": 11,
       "style": "IPY_MODEL_4dcb66023ce54d6490bad4000ccecf8b"
      }
     },
     "bbd152801560412d8d9a0d7c31f1014a": {
      "model_module": "@jupyter-widgets/controls",
      "model_module_version": "2.0.0",
      "model_name": "TextStyleModel",
      "state": {
       "description_width": "initial",
       "font_size": null,
       "text_color": null
      }
     },
     "bbf1c46f327741e9b1a1357a4bf42d59": {
      "model_module": "@jupyter-widgets/controls",
      "model_module_version": "2.0.0",
      "model_name": "ComboboxModel",
      "state": {
       "description": "Are the main formats machine-readable?",
       "ensure_option": false,
       "layout": "IPY_MODEL_a99af08bc1794576b8788829f2885744",
       "options": [
        "Yes",
        "No",
        "N/A"
       ],
       "placeholder": "Click to select option",
       "style": "IPY_MODEL_6e9f6fe3551b4361a743d513af1f9201",
       "value": "Yes"
      }
     },
     "bc27686ebd14441bb1eb25265e813693": {
      "model_module": "@jupyter-widgets/controls",
      "model_module_version": "2.0.0",
      "model_name": "TextStyleModel",
      "state": {
       "description_width": "initial",
       "font_size": null,
       "text_color": null
      }
     },
     "bc7b4ae8d7f249df8be9bd1d113a4c1e": {
      "model_module": "@jupyter-widgets/controls",
      "model_module_version": "2.0.0",
      "model_name": "ComboboxModel",
      "state": {
       "description": "Is the data available in at least one open, non-proprietary format?",
       "ensure_option": false,
       "layout": "IPY_MODEL_ae76b75885ff463dacd1937cbb42413e",
       "options": [
        "Yes",
        "No",
        "N/A"
       ],
       "placeholder": "Click to select option",
       "style": "IPY_MODEL_af1f576a15084cf38d75e04d1c34ca5b",
       "value": "Yes"
      }
     },
     "bc89e32199f347fa92cebf6fdbc88760": {
      "model_module": "@jupyter-widgets/base",
      "model_module_version": "2.0.0",
      "model_name": "LayoutModel",
      "state": {
       "width": "900px"
      }
     },
     "bccd2ad380f74ef789c2a7fec32b0492": {
      "model_module": "@jupyter-widgets/base",
      "model_module_version": "2.0.0",
      "model_name": "LayoutModel",
      "state": {}
     },
     "bd296ebdd76f4dd7a7acc27b7b192ca7": {
      "model_module": "@jupyter-widgets/base",
      "model_module_version": "2.0.0",
      "model_name": "LayoutModel",
      "state": {
       "display": "none",
       "width": "900px"
      }
     },
     "bd8a4ed6fa1d4fccaa7bef9be2b3f16b": {
      "model_module": "@jupyter-widgets/base",
      "model_module_version": "2.0.0",
      "model_name": "LayoutModel",
      "state": {
       "width": "900px"
      }
     },
     "be1da6aa31764c35a585484320e867d2": {
      "model_module": "@jupyter-widgets/controls",
      "model_module_version": "2.0.0",
      "model_name": "TextStyleModel",
      "state": {
       "description_width": "initial",
       "font_size": null,
       "text_color": null
      }
     },
     "be935100b8eb4875a915a0614ce504e0": {
      "model_module": "@jupyter-widgets/controls",
      "model_module_version": "2.0.0",
      "model_name": "ButtonStyleModel",
      "state": {
       "font_family": null,
       "font_size": null,
       "font_style": null,
       "font_variant": null,
       "font_weight": null,
       "text_color": null,
       "text_decoration": null
      }
     },
     "bf57f447187d412c8a9e15f9f8abda7f": {
      "model_module": "@jupyter-widgets/base",
      "model_module_version": "2.0.0",
      "model_name": "LayoutModel",
      "state": {
       "width": "900px"
      }
     },
     "c024936fac6843b4b2f6b4d5e333c194": {
      "model_module": "@jupyter-widgets/controls",
      "model_module_version": "2.0.0",
      "model_name": "TextStyleModel",
      "state": {
       "description_width": "initial",
       "font_size": null,
       "text_color": null
      }
     },
     "c0e067f3d5d34b49bb4b148a526c673c": {
      "model_module": "@jupyter-widgets/base",
      "model_module_version": "2.0.0",
      "model_name": "LayoutModel",
      "state": {
       "width": "900px"
      }
     },
     "c1f2102a34c44ae19946161509f3e622": {
      "model_module": "@jupyter-widgets/controls",
      "model_module_version": "2.0.0",
      "model_name": "ComboboxModel",
      "state": {
       "description": "4.6 Has the data been aggregated to reduce granularity?",
       "ensure_option": false,
       "layout": "IPY_MODEL_873c153b9a5c44189c56889b29f5572a",
       "options": [
        "Yes",
        "No",
        "N/A"
       ],
       "placeholder": "Click to select option",
       "style": "IPY_MODEL_08d7d1037082471bb5537569426048fb"
      }
     },
     "c3623cdcb61e4d97a1e07058a9069d33": {
      "model_module": "@jupyter-widgets/controls",
      "model_module_version": "2.0.0",
      "model_name": "ComboboxModel",
      "state": {
       "description": "8. Is the data single-source or aggregated from several sources? ",
       "ensure_option": false,
       "layout": "IPY_MODEL_e39bd2e0cc5642fda54c37c1e8118af0",
       "options": [
        "Single-source",
        "Aggregated"
       ],
       "placeholder": "Click to select option",
       "style": "IPY_MODEL_f49c78404ebb46d18a561f5fd58dd98a"
      }
     },
     "c3d42746c8bc4e5bae9711d30b0b5aee": {
      "model_module": "@jupyter-widgets/controls",
      "model_module_version": "2.0.0",
      "model_name": "LabelModel",
      "state": {
       "layout": "IPY_MODEL_bccd2ad380f74ef789c2a7fec32b0492",
       "style": "IPY_MODEL_081c18e2e7ac4403ae7b986146c379aa",
       "value": "Number of data files:"
      }
     },
     "c5645e57daea468baef8597b2ea0537c": {
      "model_module": "@jupyter-widgets/controls",
      "model_module_version": "2.0.0",
      "model_name": "TextStyleModel",
      "state": {
       "description_width": "initial",
       "font_size": null,
       "text_color": null
      }
     },
     "c5c46f97eced4e0691ccc00f296d8bea": {
      "model_module": "@jupyter-widgets/base",
      "model_module_version": "2.0.0",
      "model_name": "LayoutModel",
      "state": {
       "width": "900px"
      }
     },
     "c6992ba2b7f747dbaa1c1b33a04937df": {
      "model_module": "@jupyter-widgets/controls",
      "model_module_version": "2.0.0",
      "model_name": "TextStyleModel",
      "state": {
       "description_width": "",
       "font_size": null,
       "text_color": null
      }
     },
     "c6b9a39fea144b74b8a40fcbba5e3595": {
      "model_module": "@jupyter-widgets/controls",
      "model_module_version": "2.0.0",
      "model_name": "TextStyleModel",
      "state": {
       "description_width": "initial",
       "font_size": null,
       "text_color": null
      }
     },
     "c7b7c85c526e4820b8eb48e3fbbfd888": {
      "model_module": "@jupyter-widgets/controls",
      "model_module_version": "2.0.0",
      "model_name": "TextStyleModel",
      "state": {
       "description_width": "",
       "font_size": null,
       "text_color": null
      }
     },
     "c90ed21fce2c450280a27d03c8f04e1b": {
      "model_module": "@jupyter-widgets/controls",
      "model_module_version": "2.0.0",
      "model_name": "HBoxModel",
      "state": {
       "children": [
        "IPY_MODEL_c3d42746c8bc4e5bae9711d30b0b5aee",
        "IPY_MODEL_fbe0bf25efce4ee7bb17266003698f99"
       ],
       "layout": "IPY_MODEL_0da52122c1be4562b171ba93f558686e"
      }
     },
     "c926ac32ca864b789dac82516c0759c8": {
      "model_module": "@jupyter-widgets/base",
      "model_module_version": "2.0.0",
      "model_name": "LayoutModel",
      "state": {
       "display": "none",
       "width": "900px"
      }
     },
     "c9b9aec2d8324857a3f09dbb0d02600f": {
      "model_module": "@jupyter-widgets/controls",
      "model_module_version": "2.0.0",
      "model_name": "BoxModel",
      "state": {
       "layout": "IPY_MODEL_406cab385a884e84854e114b2cc1562a"
      }
     },
     "c9e4ee76b0174dd49b3810136d827c4b": {
      "model_module": "@jupyter-widgets/controls",
      "model_module_version": "2.0.0",
      "model_name": "ComboboxModel",
      "state": {
       "description": "2.9 Is there quantitative information about data resolution in space and time?",
       "ensure_option": false,
       "layout": "IPY_MODEL_ed524be522a8490fb1a2cbdacd23852e",
       "options": [
        "Yes",
        "No",
        "N/A"
       ],
       "placeholder": "Click to select option",
       "style": "IPY_MODEL_53b9ced4131f4135a21b5e18f43f3530"
      }
     },
     "ca6932950a3a40639564bfaec0523241": {
      "model_module": "@jupyter-widgets/controls",
      "model_module_version": "2.0.0",
      "model_name": "ComboboxModel",
      "state": {
       "description": "7. Is this observational data, simulation/model output, or synthetic data?",
       "ensure_option": false,
       "layout": "IPY_MODEL_fa098d46a6284e1cb73b05a2ad4ee4a4",
       "options": [
        "Observed",
        "Modeled",
        "Synthetic"
       ],
       "placeholder": "Click to select option",
       "style": "IPY_MODEL_41c9621d7d8740ccb1fca437ea74ff72"
      }
     },
     "cbe6367d650f4713b8656f8e6d503548": {
      "model_module": "@jupyter-widgets/base",
      "model_module_version": "2.0.0",
      "model_name": "LayoutModel",
      "state": {}
     },
     "cd4c131edd5745098c3ccaa0b64031d4": {
      "model_module": "@jupyter-widgets/controls",
      "model_module_version": "2.0.0",
      "model_name": "TextModel",
      "state": {
       "description": "1.5. Assessor email address:",
       "layout": "IPY_MODEL_559b5a03a70d4f0eb98e6fdf037e6a29",
       "style": "IPY_MODEL_b18e272ab7024cd8aabedda08586127f",
       "value": "john2@met.com"
      }
     },
     "cecf2d3376b54d65acb7bdd18959b1f1": {
      "model_module": "@jupyter-widgets/controls",
      "model_module_version": "2.0.0",
      "model_name": "ComboboxModel",
      "state": {
       "description": "5.3 Is the data gridded (regularly sampled in time and space)?",
       "ensure_option": false,
       "layout": "IPY_MODEL_649250c47c4649c587a72fcb5de3d664",
       "options": [
        "Regularly gridded in space",
        "Constant time-frequency",
        "Regularly gridded in space and constant time-frequency",
        "Not gridded",
        "N/A"
       ],
       "placeholder": "Click to select option",
       "style": "IPY_MODEL_3a0bca135c244eb99c2b77b571717dfd"
      }
     },
     "cef5dd85bfc74e7baa9448838164b1af": {
      "model_module": "@jupyter-widgets/base",
      "model_module_version": "2.0.0",
      "model_name": "LayoutModel",
      "state": {}
     },
     "cf05862deac04aa19220141641d3b0ca": {
      "model_module": "@jupyter-widgets/controls",
      "model_module_version": "2.0.0",
      "model_name": "ComboboxModel",
      "state": {
       "description": "Is the license standardized and machine-readable (e.g. Creative Commons)?",
       "ensure_option": false,
       "layout": "IPY_MODEL_ef5b97d310ae462eb60997f8ea511d38",
       "options": [
        "Yes",
        "No",
        "N/A"
       ],
       "placeholder": "Click to select option",
       "style": "IPY_MODEL_e9beae703cc34df7b89f293123854a8b"
      }
     },
     "d124237eb6c143c7aa5085ec376d98de": {
      "model_module": "@jupyter-widgets/base",
      "model_module_version": "2.0.0",
      "model_name": "LayoutModel",
      "state": {}
     },
     "d24f815c54cd4d4b998a16e29fb70926": {
      "model_module": "@jupyter-widgets/base",
      "model_module_version": "2.0.0",
      "model_name": "LayoutModel",
      "state": {
       "display": "none",
       "width": "900px"
      }
     },
     "d286214296144d4799edc9a8a8f5a6a4": {
      "model_module": "@jupyter-widgets/controls",
      "model_module_version": "2.0.0",
      "model_name": "LabelStyleModel",
      "state": {
       "description_width": "",
       "font_family": null,
       "font_size": null,
       "font_style": null,
       "font_variant": null,
       "font_weight": null,
       "text_color": null,
       "text_decoration": null
      }
     },
     "d3577e1dad80436bbd1fcab1e5ee03ba": {
      "model_module": "@jupyter-widgets/base",
      "model_module_version": "2.0.0",
      "model_name": "LayoutModel",
      "state": {
       "width": "100px"
      }
     },
     "d4b5022e696949cf84a5640ad275d516": {
      "model_module": "@jupyter-widgets/controls",
      "model_module_version": "2.0.0",
      "model_name": "TextModel",
      "state": {
       "description": "Documentation link:",
       "layout": "IPY_MODEL_8cba18d9ff364d6d946e4a23ac5ecc74",
       "placeholder": "Please provide a link to the document",
       "style": "IPY_MODEL_b45432096f2641489f93ffbc4ba5bfe1"
      }
     },
     "d7c7a90a7472464d9b7fa1888a7e6fae": {
      "model_module": "@jupyter-widgets/base",
      "model_module_version": "2.0.0",
      "model_name": "LayoutModel",
      "state": {}
     },
     "d82be89dee5b478d9c334f84dc40bf8a": {
      "model_module": "@jupyter-widgets/base",
      "model_module_version": "2.0.0",
      "model_name": "LayoutModel",
      "state": {
       "display": "none",
       "width": "900px"
      }
     },
     "d8585e1999054590ab6fdc1aed017448": {
      "model_module": "@jupyter-widgets/controls",
      "model_module_version": "2.0.0",
      "model_name": "TextStyleModel",
      "state": {
       "description_width": "initial",
       "font_size": null,
       "text_color": null
      }
     },
     "da13ec58ddeb4bbcab22fb6f88fc2d54": {
      "model_module": "@jupyter-widgets/controls",
      "model_module_version": "2.0.0",
      "model_name": "TextStyleModel",
      "state": {
       "description_width": "initial",
       "font_size": null,
       "text_color": null
      }
     },
     "da864e1f21f94ee385b901163ca0f588": {
      "model_module": "@jupyter-widgets/controls",
      "model_module_version": "2.0.0",
      "model_name": "TextStyleModel",
      "state": {
       "description_width": "initial",
       "font_size": null,
       "text_color": null
      }
     },
     "da8c6ea95a06457bafa975bfa5466f95": {
      "model_module": "@jupyter-widgets/controls",
      "model_module_version": "2.0.0",
      "model_name": "TextStyleModel",
      "state": {
       "description_width": "initial",
       "font_size": null,
       "text_color": null
      }
     },
     "dc7cbf212dc341b79d6cde6b1fc9b9af": {
      "model_module": "@jupyter-widgets/controls",
      "model_module_version": "2.0.0",
      "model_name": "TextStyleModel",
      "state": {
       "description_width": "initial",
       "font_size": null,
       "text_color": null
      }
     },
     "dd1b28a33d8b4396b8fa2940ee1da8c5": {
      "model_module": "@jupyter-widgets/base",
      "model_module_version": "2.0.0",
      "model_name": "LayoutModel",
      "state": {
       "display": "none",
       "width": "900px"
      }
     },
     "dd2eb90d6edd4aa5aaa001016b07d104": {
      "model_module": "@jupyter-widgets/controls",
      "model_module_version": "2.0.0",
      "model_name": "ComboboxModel",
      "state": {
       "description": "Is the data available in at least one open, non-proprietary format?",
       "ensure_option": false,
       "layout": "IPY_MODEL_af0d965ab177493eb0619d1e8f71ab0a",
       "options": [
        "Yes",
        "No",
        "N/A"
       ],
       "placeholder": "Click to select option",
       "style": "IPY_MODEL_6dc7d7a2a42549c0a4e682963faa8aea"
      }
     },
     "dd35f14485da4683b95c1018d6888829": {
      "model_module": "@jupyter-widgets/controls",
      "model_module_version": "2.0.0",
      "model_name": "TextStyleModel",
      "state": {
       "description_width": "initial",
       "font_size": null,
       "text_color": null
      }
     },
     "dd5a5a98506c4b29a9e50f4014f6fddd": {
      "model_module": "@jupyter-widgets/controls",
      "model_module_version": "2.0.0",
      "model_name": "ComboboxModel",
      "state": {
       "description": "Are the main formats machine-readable?",
       "ensure_option": false,
       "layout": "IPY_MODEL_e2fd8933b7d444dbb8317d8bd5c9f5d3",
       "options": [
        "Yes",
        "No",
        "N/A"
       ],
       "placeholder": "Click to select option",
       "style": "IPY_MODEL_06efcc2c72184de78f12f325361079b0"
      }
     },
     "dd8027a1045a4f8c8810650d6a909a2f": {
      "model_module": "@jupyter-widgets/controls",
      "model_module_version": "2.0.0",
      "model_name": "LabelStyleModel",
      "state": {
       "description_width": "",
       "font_family": null,
       "font_size": null,
       "font_style": null,
       "font_variant": null,
       "font_weight": null,
       "text_color": null,
       "text_decoration": null
      }
     },
     "dd9939757ed84e8799b718b3bfe998e4": {
      "model_module": "@jupyter-widgets/controls",
      "model_module_version": "2.0.0",
      "model_name": "LabelStyleModel",
      "state": {
       "description_width": "",
       "font_family": null,
       "font_size": null,
       "font_style": null,
       "font_variant": null,
       "font_weight": null,
       "text_color": null,
       "text_decoration": null
      }
     },
     "de9c9a89f46a48b1a32f2419f8fac7f1": {
      "model_module": "@jupyter-widgets/controls",
      "model_module_version": "2.0.0",
      "model_name": "TextModel",
      "state": {
       "layout": "IPY_MODEL_6ef4c5c7763b4e209df42417325a83da",
       "placeholder": "228 x 228",
       "style": "IPY_MODEL_796dfe25f57549dfbaf91bf47d53073e"
      }
     },
     "ded618906fde486c9776461909c98fae": {
      "model_module": "@jupyter-widgets/controls",
      "model_module_version": "2.0.0",
      "model_name": "TextStyleModel",
      "state": {
       "description_width": "initial",
       "font_size": null,
       "text_color": null
      }
     },
     "e00d59b9d32347688cabf8a46dfd87e9": {
      "model_module": "@jupyter-widgets/base",
      "model_module_version": "2.0.0",
      "model_name": "LayoutModel",
      "state": {
       "width": "900px"
      }
     },
     "e20f9ff9e26f44c9b9af8d128775988e": {
      "model_module": "@jupyter-widgets/controls",
      "model_module_version": "2.0.0",
      "model_name": "ComboboxModel",
      "state": {
       "description": "4.5 For restricted data, have measures been taken to provide some access while still applying appropriate protection for privacy and security?",
       "ensure_option": false,
       "layout": "IPY_MODEL_6d83f276c3a947f8b474d1649659f395",
       "options": [
        "Yes",
        "No",
        "N/A"
       ],
       "placeholder": "Click to select option",
       "style": "IPY_MODEL_690a919a32114682925d13afec7ae143"
      }
     },
     "e2fd8933b7d444dbb8317d8bd5c9f5d3": {
      "model_module": "@jupyter-widgets/base",
      "model_module_version": "2.0.0",
      "model_name": "LayoutModel",
      "state": {
       "width": "900px"
      }
     },
     "e34b6fdf9c13410aa1168f9aac6bfcd7": {
      "model_module": "@jupyter-widgets/controls",
      "model_module_version": "2.0.0",
      "model_name": "TextStyleModel",
      "state": {
       "description_width": "",
       "font_size": null,
       "text_color": null
      }
     },
     "e39bd2e0cc5642fda54c37c1e8118af0": {
      "model_module": "@jupyter-widgets/base",
      "model_module_version": "2.0.0",
      "model_name": "LayoutModel",
      "state": {
       "width": "900px"
      }
     },
     "e3ea2f21040848c399b65ef5361703f0": {
      "model_module": "@jupyter-widgets/controls",
      "model_module_version": "2.0.0",
      "model_name": "ComboboxModel",
      "state": {
       "description": "Are the main formats machine-readable?",
       "ensure_option": false,
       "layout": "IPY_MODEL_5702b1baf99c4d9a8df83812d401402b",
       "options": [
        "Yes",
        "No",
        "N/A"
       ],
       "placeholder": "Click to select option",
       "style": "IPY_MODEL_be1da6aa31764c35a585484320e867d2",
       "value": "Yes"
      }
     },
     "e5164b9a675245199e573881d8a4d802": {
      "model_module": "@jupyter-widgets/base",
      "model_module_version": "2.0.0",
      "model_name": "LayoutModel",
      "state": {
       "width": "900px"
      }
     },
     "e5b7f53789254c0f859a70133c2bee4f": {
      "model_module": "@jupyter-widgets/base",
      "model_module_version": "2.0.0",
      "model_name": "LayoutModel",
      "state": {}
     },
     "e665f69d45ae45e3bdca71da3cb511cf": {
      "model_module": "@jupyter-widgets/controls",
      "model_module_version": "2.0.0",
      "model_name": "TextModel",
      "state": {
       "description": "If yes, what is the delay between different stages?",
       "layout": "IPY_MODEL_6b1e5d4912564e7dbde717d6de063380",
       "style": "IPY_MODEL_fc829acb14544debaa91e94428a2f7c8"
      }
     },
     "e7ed716e75d5481aba16f129c2691791": {
      "model_module": "@jupyter-widgets/controls",
      "model_module_version": "2.0.0",
      "model_name": "ComboboxModel",
      "state": {
       "description": "Is there reported bias in the data?",
       "ensure_option": false,
       "layout": "IPY_MODEL_a426112e9dd140bc8d9bcf08576462c7",
       "options": [
        "No known bias",
        "Found and reported",
        "No info available",
        "N/A"
       ],
       "placeholder": "Click to select option",
       "style": "IPY_MODEL_412601de5ae342b282c20c1a9daf12bd"
      }
     },
     "e8101a0933054d799bbd254a2c8d03be": {
      "model_module": "@jupyter-widgets/controls",
      "model_module_version": "2.0.0",
      "model_name": "ButtonStyleModel",
      "state": {
       "font_family": null,
       "font_size": null,
       "font_style": null,
       "font_variant": null,
       "font_weight": null,
       "text_color": null,
       "text_decoration": null
      }
     },
     "e8821a404b6441a18450f94737eaf46f": {
      "model_module": "@jupyter-widgets/controls",
      "model_module_version": "2.0.0",
      "model_name": "ComboboxModel",
      "state": {
       "description": "Are parameters crosswalked in an ontology or common vocabulary (e.g. NIEM)?",
       "ensure_option": false,
       "layout": "IPY_MODEL_f5fa366ac47b4fe5bcff5e9a949a2f22",
       "options": [
        "Yes",
        "No",
        "N/A"
       ],
       "placeholder": "Click to select option",
       "style": "IPY_MODEL_ded618906fde486c9776461909c98fae"
      }
     },
     "e8fe41988734488d964b3ef5fcd0e9ed": {
      "model_module": "@jupyter-widgets/controls",
      "model_module_version": "2.0.0",
      "model_name": "TextStyleModel",
      "state": {
       "description_width": "initial",
       "font_size": null,
       "text_color": null
      }
     },
     "e9beae703cc34df7b89f293123854a8b": {
      "model_module": "@jupyter-widgets/controls",
      "model_module_version": "2.0.0",
      "model_name": "TextStyleModel",
      "state": {
       "description_width": "initial",
       "font_size": null,
       "text_color": null
      }
     },
     "ea77f6ebb605409e8198e75bae160b64": {
      "model_module": "@jupyter-widgets/controls",
      "model_module_version": "2.0.0",
      "model_name": "TextModel",
      "state": {
       "description": "Tools / services link:",
       "layout": "IPY_MODEL_8018f732484c4ef18dee9576acb1f045",
       "placeholder": "If yes, provide the link to the tools/services",
       "style": "IPY_MODEL_575629bcc8554631b51576ccc59c83da"
      }
     },
     "eabfc74dc888452b970704d13a2b6bf0": {
      "model_module": "@jupyter-widgets/base",
      "model_module_version": "2.0.0",
      "model_name": "LayoutModel",
      "state": {
       "flex": "1 1 auto",
       "width": "auto"
      }
     },
     "ead592738d8e4802b54c268731e4d88f": {
      "model_module": "@jupyter-widgets/controls",
      "model_module_version": "2.0.0",
      "model_name": "ComboboxModel",
      "state": {
       "description": "4.7 Has the data been anonymized / de-identified?",
       "ensure_option": false,
       "layout": "IPY_MODEL_3bf59b72fe6d49b6826ea67e04190808",
       "options": [
        "Yes",
        "No",
        "N/A"
       ],
       "placeholder": "Click to select option",
       "style": "IPY_MODEL_1528424b9a8a4da1acaf1997616d1874"
      }
     },
     "ec60396abb43425e86848bc2a38bb506": {
      "model_module": "@jupyter-widgets/controls",
      "model_module_version": "2.0.0",
      "model_name": "ButtonModel",
      "state": {
       "button_style": "primary",
       "description": "Save Data Access Answers to json file",
       "layout": "IPY_MODEL_b1e552feadc14817a7c6eeea8d3053e4",
       "style": "IPY_MODEL_3a2ed6bd968f4f168bde27a1da34c33e",
       "tooltip": null
      }
     },
     "ecabd3424a044b44aa25f1b675ab7aef": {
      "model_module": "@jupyter-widgets/controls",
      "model_module_version": "2.0.0",
      "model_name": "ComboboxModel",
      "state": {
       "description": "3.6 Are there example codes / notebooks / toolkits available showing how the data can be used?",
       "ensure_option": false,
       "layout": "IPY_MODEL_410c7e8a282d4fbcb7b7eeb5ca4d9e59",
       "options": [
        "Yes",
        "No",
        "N/A"
       ],
       "placeholder": "Click to select option",
       "style": "IPY_MODEL_65d6858361f148d19430bf05d0c0b7c7"
      }
     },
     "ed524be522a8490fb1a2cbdacd23852e": {
      "model_module": "@jupyter-widgets/base",
      "model_module_version": "2.0.0",
      "model_name": "LayoutModel",
      "state": {
       "width": "900px"
      }
     },
     "ee5853822b644a87a11c43630855a90f": {
      "model_module": "@jupyter-widgets/controls",
      "model_module_version": "2.0.0",
      "model_name": "ComboboxModel",
      "state": {
       "description": "Should the new version of the dataset supersede the current version?",
       "ensure_option": false,
       "layout": "IPY_MODEL_69b8d06188ed4924a54cce50df49d4a4",
       "options": [
        "Yes",
        "No",
        "N/A"
       ],
       "placeholder": "Click to select option",
       "style": "IPY_MODEL_dc7cbf212dc341b79d6cde6b1fc9b9af"
      }
     },
     "ef5b97d310ae462eb60997f8ea511d38": {
      "model_module": "@jupyter-widgets/base",
      "model_module_version": "2.0.0",
      "model_name": "LayoutModel",
      "state": {
       "width": "900px"
      }
     },
     "f251887e7d944d858e4846163859856b": {
      "model_module": "@jupyter-widgets/controls",
      "model_module_version": "2.0.0",
      "model_name": "ComboboxModel",
      "state": {
       "description": "2.5 Is this dataset self-consistent in that its units, data types, and parameter names do not change over time and space?",
       "ensure_option": false,
       "layout": "IPY_MODEL_abe4dbd81f804087b06492199a919b97",
       "options": [
        "Yes",
        "No",
        "N/A"
       ],
       "placeholder": "Click to select option",
       "style": "IPY_MODEL_24059a32e55d411987147ade15e5c832"
      }
     },
     "f2946a993cf14c35aff7531d91b2d91b": {
      "model_module": "@jupyter-widgets/controls",
      "model_module_version": "2.0.0",
      "model_name": "ButtonStyleModel",
      "state": {
       "font_family": null,
       "font_size": null,
       "font_style": null,
       "font_variant": null,
       "font_weight": null,
       "text_color": null,
       "text_decoration": null
      }
     },
     "f2cef64d5c214cb9915ba12aa95977ad": {
      "model_module": "@jupyter-widgets/controls",
      "model_module_version": "2.0.0",
      "model_name": "ComboboxModel",
      "state": {
       "description": "Are there tools/services to support data format conversion?",
       "ensure_option": false,
       "layout": "IPY_MODEL_7324061e91b34d2bae1114661d3f27bf",
       "options": [
        "Yes",
        "No",
        "N/A"
       ],
       "placeholder": "Click to select option",
       "style": "IPY_MODEL_8fe9a4f8096849759f09bf55b566e1b0",
       "value": "Yes"
      }
     },
     "f49c78404ebb46d18a561f5fd58dd98a": {
      "model_module": "@jupyter-widgets/controls",
      "model_module_version": "2.0.0",
      "model_name": "TextStyleModel",
      "state": {
       "description_width": "initial",
       "font_size": null,
       "text_color": null
      }
     },
     "f4a557d074f84225bb732e23e8eed377": {
      "model_module": "@jupyter-widgets/base",
      "model_module_version": "2.0.0",
      "model_name": "LayoutModel",
      "state": {
       "width": "900px"
      }
     },
     "f5fa366ac47b4fe5bcff5e9a949a2f22": {
      "model_module": "@jupyter-widgets/base",
      "model_module_version": "2.0.0",
      "model_name": "LayoutModel",
      "state": {
       "display": "none",
       "width": "900px"
      }
     },
     "f69f3dd700fe4616b2085e97f57787ca": {
      "model_module": "@jupyter-widgets/controls",
      "model_module_version": "2.0.0",
      "model_name": "TextareaModel",
      "state": {
       "layout": "IPY_MODEL_30ee6d8bf0764503bc133d5e1aaba11a",
       "placeholder": "Is the bias metrological traceable?",
       "style": "IPY_MODEL_9de2cfc30ca54363953c60427e1dfe74"
      }
     },
     "f713664cb309426b8718801376ce4cae": {
      "model_module": "@jupyter-widgets/controls",
      "model_module_version": "2.0.0",
      "model_name": "LabelModel",
      "state": {
       "layout": "IPY_MODEL_e5b7f53789254c0f859a70133c2bee4f",
       "style": "IPY_MODEL_80305bee089b4645af6a8e45c7772777",
       "value": "Number of images:"
      }
     },
     "f8fecee69e0b42e6881706590ff72079": {
      "model_module": "@jupyter-widgets/base",
      "model_module_version": "2.0.0",
      "model_name": "LayoutModel",
      "state": {
       "flex": "1 1 auto",
       "width": "auto"
      }
     },
     "f986aea4a0f349c2a5c7a89956d6e7cd": {
      "model_module": "@jupyter-widgets/base",
      "model_module_version": "2.0.0",
      "model_name": "LayoutModel",
      "state": {
       "display": "none",
       "width": "900px"
      }
     },
     "fa098d46a6284e1cb73b05a2ad4ee4a4": {
      "model_module": "@jupyter-widgets/base",
      "model_module_version": "2.0.0",
      "model_name": "LayoutModel",
      "state": {
       "width": "900px"
      }
     },
     "faf4e068e00244f7aa8d190091e59380": {
      "model_module": "@jupyter-widgets/controls",
      "model_module_version": "2.0.0",
      "model_name": "LabelStyleModel",
      "state": {
       "description_width": "",
       "font_family": null,
       "font_size": null,
       "font_style": null,
       "font_variant": null,
       "font_weight": null,
       "text_color": null,
       "text_decoration": null
      }
     },
     "fbe0bf25efce4ee7bb17266003698f99": {
      "model_module": "@jupyter-widgets/controls",
      "model_module_version": "2.0.0",
      "model_name": "IntTextModel",
      "state": {
       "layout": "IPY_MODEL_9591298cc29f42b3ac30bb66e910726b",
       "step": 1,
       "style": "IPY_MODEL_14816bb3d43d4268a0499b8b0fb79ae7"
      }
     },
     "fc829acb14544debaa91e94428a2f7c8": {
      "model_module": "@jupyter-widgets/controls",
      "model_module_version": "2.0.0",
      "model_name": "TextStyleModel",
      "state": {
       "description_width": "initial",
       "font_size": null,
       "text_color": null
      }
     },
     "fc97e34840db430db38f0874f9b2631a": {
      "model_module": "@jupyter-widgets/controls",
      "model_module_version": "2.0.0",
      "model_name": "TextStyleModel",
      "state": {
       "description_width": "initial",
       "font_size": null,
       "text_color": null
      }
     },
     "fd8bf399fd2e4195a46f050580d5b6bc": {
      "model_module": "@jupyter-widgets/controls",
      "model_module_version": "2.0.0",
      "model_name": "ComboboxModel",
      "state": {
       "description": "4.4 Is there an Application Programming Interface (API) or web service to access the data?",
       "ensure_option": false,
       "layout": "IPY_MODEL_2a4d740fdf714ae2a44c6e078f3ef7d0",
       "options": [
        "Yes",
        "No",
        "N/A"
       ],
       "placeholder": "Click to select option",
       "style": "IPY_MODEL_3ceeb00682da4345971831d57da0a4f3"
      }
     },
     "fde66e124d9b4fb099bb07a092c523ba": {
      "model_module": "@jupyter-widgets/controls",
      "model_module_version": "2.0.0",
      "model_name": "ButtonModel",
      "state": {
       "button_style": "primary",
       "description": "Save Timeliness, Completeness & Consistency Answers to json file",
       "layout": "IPY_MODEL_0a9a7cbad88842639a084f0595c0d602",
       "style": "IPY_MODEL_f2946a993cf14c35aff7531d91b2d91b",
       "tooltip": null
      }
     },
     "ff06af343ce64dffbb4e2a4a1ea2f807": {
      "model_module": "@jupyter-widgets/controls",
      "model_module_version": "2.0.0",
      "model_name": "TextStyleModel",
      "state": {
       "description_width": "initial",
       "font_size": null,
       "text_color": null
      }
     },
     "ff9ff57cc93c4299b4a3e5b6b26c1b74": {
      "model_module": "@jupyter-widgets/controls",
      "model_module_version": "2.0.0",
      "model_name": "ComboboxModel",
      "state": {
       "description": "2.6 Is this dataset’s units, data types, and parameter names consistent with similar data collections?",
       "ensure_option": false,
       "layout": "IPY_MODEL_a02edb2df7e5412c97706ebf5f16cb8d",
       "options": [
        "Yes",
        "No",
        "N/A"
       ],
       "placeholder": "Click to select option",
       "style": "IPY_MODEL_7c2b297229fa4c9c99da014dc7fff9e9"
      }
     }
    },
    "version_major": 2,
    "version_minor": 0
   }
  }
 },
 "nbformat": 4,
 "nbformat_minor": 5
}
