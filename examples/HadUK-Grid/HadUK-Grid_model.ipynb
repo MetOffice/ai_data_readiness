{
 "cells": [
  {
   "cell_type": "code",
   "execution_count": 305,
   "metadata": {},
   "outputs": [],
   "source": [
    "import xarray as xr\n",
    "import glob\n",
    "import os\n",
    "import numpy as np\n",
    "import torch\n",
    "import torch.nn as nn\n",
    "from torch.utils.data import DataLoader, Dataset, Subset\n",
    "from tqdm import tqdm\n",
    "import matplotlib.pyplot as plt"
   ]
  },
  {
   "cell_type": "code",
   "execution_count": 306,
   "metadata": {},
   "outputs": [
    {
     "name": "stdout",
     "output_type": "stream",
     "text": [
      "Using CPU device\n"
     ]
    }
   ],
   "source": [
    "# Determine the device to use\n",
    "cpu = True\n",
    "if torch.cuda.is_available() and not cpu:\n",
    "    device = torch.device(\"cuda\")\n",
    "    print(\"Using CUDA device\")\n",
    "elif torch.backends.mps.is_available() and not cpu:\n",
    "    device = torch.device(\"mps\")\n",
    "    print(\"Using MPS device\")\n",
    "else:\n",
    "    device = torch.device(\"cpu\")\n",
    "    print(\"Using CPU device\")"
   ]
  },
  {
   "cell_type": "code",
   "execution_count": 307,
   "metadata": {},
   "outputs": [],
   "source": [
    "# Loading and combining datasets\n",
    "path = \"./data\"\n",
    "nc_files = glob.glob(os.path.join(path, \"*.nc\"))\n",
    "\n",
    "datasets = [xr.open_dataset(f, engine='netcdf4') for f in nc_files]\n",
    "\n",
    "combined_ds = xr.concat(datasets, dim='time')"
   ]
  },
  {
   "cell_type": "code",
   "execution_count": 308,
   "metadata": {},
   "outputs": [],
   "source": [
    "# Defining the config and hyperparameters\n",
    "config = {\n",
    "    'time_step': 1,\n",
    "    'batch_size': 32,\n",
    "    'num_epochs': 20,\n",
    "    'learning_rate': 1e-4,\n",
    "    'test_size': 0.2,\n",
    "}"
   ]
  },
  {
   "cell_type": "code",
   "execution_count": 309,
   "metadata": {},
   "outputs": [],
   "source": [
    "# Standardize the data\n",
    "mean_tas = combined_ds.tas.mean(dim='time', skipna=True)\n",
    "std_tas = combined_ds.tas.std(dim='time', skipna=True)\n",
    "\n",
    "standardized_tas = (combined_ds.tas - mean_tas) / std_tas\n",
    "\n",
    "time_index = 0\n",
    "standardized_tas_slice = standardized_tas.isel(time=time_index)"
   ]
  },
  {
   "cell_type": "code",
   "execution_count": 310,
   "metadata": {},
   "outputs": [
    {
     "data": {
      "text/plain": [
       "(600, 1, 56, 56)"
      ]
     },
     "execution_count": 310,
     "metadata": {},
     "output_type": "execute_result"
    }
   ],
   "source": [
    "# # Fill nan values with 0s\n",
    "filled_standardized_tas = standardized_tas.fillna(0)\n",
    "filled_standardized_tas = combined_ds.tas.fillna(0)\n",
    "\n",
    "data = filled_standardized_tas.values.astype(np.float32)\n",
    "\n",
    "data_shape = data.shape\n",
    "\n",
    "if len(data_shape) < 2:\n",
    "    raise ValueError(\"Data must have at least two dimensions for x and y.\")\n",
    "\n",
    "x_dim = data_shape[-2]\n",
    "y_dim = data_shape[-1]\n",
    "\n",
    "target_size = max(x_dim, y_dim)\n",
    "if target_size % 8 != 0:\n",
    "    target_size = ((target_size // 8) + 1) * 8\n",
    "\n",
    "x_padding = target_size - x_dim\n",
    "x_left_padding = x_padding // 2\n",
    "x_right_padding = x_padding - x_left_padding\n",
    "\n",
    "y_padding = target_size - y_dim\n",
    "y_left_padding = y_padding // 2\n",
    "y_right_padding = y_padding - y_left_padding\n",
    "\n",
    "padded_data = np.pad(data, ((0, 0),) * (len(data_shape) - 2) + ((x_left_padding, x_right_padding), (y_left_padding, y_right_padding)), mode='constant', constant_values=0)\n",
    "\n",
    "expanded_data = np.expand_dims(padded_data, axis=1)\n",
    "expanded_data.shape"
   ]
  },
  {
   "cell_type": "code",
   "execution_count": 311,
   "metadata": {},
   "outputs": [],
   "source": [
    "# Create a dataset to serve the data\n",
    "class TimeSeriesDataset(Dataset):\n",
    "    def __init__(self, data, time_step=1):\n",
    "        self.time_step = time_step\n",
    "        self.data = data\n",
    "\n",
    "    def __len__(self):\n",
    "        return len(self.data) - self.time_step * 2\n",
    "\n",
    "    def __getitem__(self, idx):\n",
    "        return np.concatenate((self.data[idx], self.data[idx+self.time_step]), axis=0), self.data[idx+self.time_step*2]\n",
    "\n",
    "dataset = TimeSeriesDataset(expanded_data)"
   ]
  },
  {
   "cell_type": "code",
   "execution_count": 312,
   "metadata": {},
   "outputs": [],
   "source": [
    "# Split into test and train datasets\n",
    "test_size = int(len(dataset) * config['test_size'])\n",
    "train_size = len(dataset) - test_size \n",
    "\n",
    "indices = np.arange(len(dataset))\n",
    "train_indices = indices[:train_size]\n",
    "test_indices = indices[train_size:]\n",
    "\n",
    "train_dataset = Subset(dataset, train_indices)\n",
    "test_dataset = Subset(dataset, test_indices)\n",
    "\n",
    "train_loader = DataLoader(train_dataset, batch_size=config['batch_size'], shuffle=True, drop_last=True)\n",
    "test_loader = DataLoader(test_dataset, batch_size=config['batch_size'], shuffle=False, drop_last=True)"
   ]
  },
  {
   "cell_type": "code",
   "execution_count": 313,
   "metadata": {},
   "outputs": [
    {
     "data": {
      "text/plain": [
       "torch.Size([32, 1, 56, 56])"
      ]
     },
     "execution_count": 313,
     "metadata": {},
     "output_type": "execute_result"
    }
   ],
   "source": [
    "# Define model\n",
    "class CNNTimeSeriesForecast(nn.Module):\n",
    "    def __init__(self, input_size, mlp_expand_size=4):\n",
    "        super(CNNTimeSeriesForecast, self).__init__()\n",
    "        self.conv1 = nn.Sequential(\n",
    "            nn.Conv2d(input_size[0], 16, kernel_size=(3,3), stride=2, padding=(1, 1)),\n",
    "            # nn.BatchNorm2d(16),\n",
    "            # nn.ReLU()\n",
    "        )\n",
    "        self.conv2 = nn.Sequential(\n",
    "            nn.Conv2d(16, 32, kernel_size=(3,3), stride=2, padding=1),\n",
    "            # nn.BatchNorm2d(32),\n",
    "            # nn.ReLU()\n",
    "        )\n",
    "        self.conv3 = nn.Sequential(\n",
    "            nn.Conv2d(32, 64, kernel_size=(3,3), stride=2, padding=1),\n",
    "            # nn.BatchNorm2d(64),\n",
    "            # nn.ReLU()\n",
    "        )\n",
    "\n",
    "        self.flattened_size = self._get_flattened_size(input_size)\n",
    "\n",
    "        self.mlp = nn.Sequential(\n",
    "            nn.Linear(self.flattened_size, self.flattened_size * mlp_expand_size),\n",
    "            nn.ReLU(),\n",
    "            nn.Dropout(0.5),\n",
    "            nn.Linear(self.flattened_size * mlp_expand_size, self.flattened_size),\n",
    "        )\n",
    "\n",
    "        self.conv_transpose3 = nn.ConvTranspose2d(64, 32, kernel_size=3, stride=2, padding=1, output_padding=1)\n",
    "        self.conv_transpose2 = nn.ConvTranspose2d(32, 16, kernel_size=3, stride=2, padding=1, output_padding=1)\n",
    "        self.conv_transpose1 = nn.ConvTranspose2d(16, 1, kernel_size=3, stride=2, padding=1, output_padding=1)\n",
    "\n",
    "        self.activation = nn.ReLU()\n",
    "\n",
    "    def _get_flattened_size(self, input_size):\n",
    "        dummy_input = torch.zeros(2, *input_size)\n",
    "        with torch.no_grad():\n",
    "            x = self.conv1(dummy_input)\n",
    "            x = self.conv2(x)\n",
    "            x = self.conv3(x)\n",
    "        return x.view(x.size(0), -1).size(1)\n",
    "    \n",
    "    def forward(self, x):\n",
    "        x1 = self.conv1(x)\n",
    "        x2 = self.conv2(x1)\n",
    "        x3 = self.conv3(x2)\n",
    "\n",
    "        x_batch, x_channel, x_height, x_width = x3.shape\n",
    "        x = x3.view(x3.size(0), -1)\n",
    "        x = self.mlp(x)\n",
    "        x = x.reshape(x_batch, x_channel, x_height, x_width)\n",
    "\n",
    "        x = x + x3\n",
    "        x = self.activation(self.conv_transpose3(x))\n",
    "        x = x + x2  \n",
    "        x = self.activation(self.conv_transpose2(x))\n",
    "        x = x + x1  \n",
    "        x = self.conv_transpose1(x)\n",
    "\n",
    "        return x\n",
    "\n",
    "dummy_input= next(iter(test_loader))[0]\n",
    "model = CNNTimeSeriesForecast(input_size=dummy_input[0].shape).to(device)\n",
    "\n",
    "model(dummy_input).shape"
   ]
  },
  {
   "cell_type": "code",
   "execution_count": 314,
   "metadata": {},
   "outputs": [
    {
     "data": {
      "text/plain": [
       "torch.Size([32, 1, 56, 56])"
      ]
     },
     "execution_count": 314,
     "metadata": {},
     "output_type": "execute_result"
    }
   ],
   "source": [
    "# Create a mask over the non-null values\n",
    "non_null_mask = combined_ds.tas.notnull()\n",
    "collapsed_mask = np.all(non_null_mask.values, axis=0)\n",
    "\n",
    "mask_shape = collapsed_mask.shape\n",
    "x_dim = mask_shape[0]\n",
    "y_dim = mask_shape[1]\n",
    "\n",
    "target_size = max(x_dim, y_dim)\n",
    "if target_size % 8 != 0:\n",
    "    target_size = ((target_size // 8) + 1) * 8\n",
    "\n",
    "x_padding = target_size - x_dim\n",
    "x_left_padding = x_padding // 2\n",
    "x_right_padding = x_padding - x_left_padding\n",
    "\n",
    "y_padding = target_size - y_dim\n",
    "y_left_padding = y_padding // 2\n",
    "y_right_padding = y_padding - y_left_padding\n",
    "\n",
    "padded_mask = np.pad(collapsed_mask, ((x_left_padding, x_right_padding), (y_left_padding, y_right_padding)), mode='constant', constant_values=0)\n",
    "\n",
    "expanded_mask = np.expand_dims(padded_mask, axis=0)\n",
    "\n",
    "batch_size = config['batch_size']\n",
    "batch_mask = np.repeat(expanded_mask[np.newaxis, :, :], batch_size, axis=0)\n",
    "\n",
    "mask_tensor = torch.from_numpy(batch_mask.astype(np.float32)).to(device)\n",
    "mask_tensor.shape"
   ]
  },
  {
   "cell_type": "code",
   "execution_count": 315,
   "metadata": {},
   "outputs": [],
   "source": [
    "# Training set up\n",
    "criterion = nn.MSELoss(reduction='none')  \n",
    "optimizer = torch.optim.Adam(model.parameters(), lr=config['learning_rate'])"
   ]
  },
  {
   "cell_type": "code",
   "execution_count": 316,
   "metadata": {},
   "outputs": [
    {
     "name": "stderr",
     "output_type": "stream",
     "text": [
      "                                                                           \r"
     ]
    },
    {
     "name": "stdout",
     "output_type": "stream",
     "text": [
      "Epoch [0/14], Train Loss: 126.2709, Test Loss: 109.7233\n"
     ]
    },
    {
     "name": "stderr",
     "output_type": "stream",
     "text": [
      "                                                                            \r"
     ]
    },
    {
     "name": "stdout",
     "output_type": "stream",
     "text": [
      "Epoch [1/14], Train Loss: 94.6229, Test Loss: 77.3137\n"
     ]
    },
    {
     "name": "stderr",
     "output_type": "stream",
     "text": [
      "                                                                            \r"
     ]
    },
    {
     "name": "stdout",
     "output_type": "stream",
     "text": [
      "Epoch [2/14], Train Loss: 62.6012, Test Loss: 49.4908\n"
     ]
    },
    {
     "name": "stderr",
     "output_type": "stream",
     "text": [
      "                                                                            \r"
     ]
    },
    {
     "name": "stdout",
     "output_type": "stream",
     "text": [
      "Epoch [3/14], Train Loss: 38.4634, Test Loss: 29.5635\n"
     ]
    },
    {
     "name": "stderr",
     "output_type": "stream",
     "text": [
      "                                                                            \r"
     ]
    },
    {
     "name": "stdout",
     "output_type": "stream",
     "text": [
      "Epoch [4/14], Train Loss: 22.8460, Test Loss: 17.6551\n"
     ]
    },
    {
     "name": "stderr",
     "output_type": "stream",
     "text": [
      "                                                                            \r"
     ]
    },
    {
     "name": "stdout",
     "output_type": "stream",
     "text": [
      "Epoch [5/14], Train Loss: 13.8660, Test Loss: 11.7399\n"
     ]
    },
    {
     "name": "stderr",
     "output_type": "stream",
     "text": [
      "                                                                            \r"
     ]
    },
    {
     "name": "stdout",
     "output_type": "stream",
     "text": [
      "Epoch [6/14], Train Loss: 9.7164, Test Loss: 9.0160\n"
     ]
    },
    {
     "name": "stderr",
     "output_type": "stream",
     "text": [
      "                                                                            \r"
     ]
    },
    {
     "name": "stdout",
     "output_type": "stream",
     "text": [
      "Epoch [7/14], Train Loss: 7.7789, Test Loss: 7.5743\n"
     ]
    },
    {
     "name": "stderr",
     "output_type": "stream",
     "text": [
      "                                                                            \r"
     ]
    },
    {
     "name": "stdout",
     "output_type": "stream",
     "text": [
      "Epoch [8/14], Train Loss: 6.6301, Test Loss: 6.7046\n"
     ]
    },
    {
     "name": "stderr",
     "output_type": "stream",
     "text": [
      "                                                                            \r"
     ]
    },
    {
     "name": "stdout",
     "output_type": "stream",
     "text": [
      "Epoch [9/14], Train Loss: 5.7657, Test Loss: 6.2041\n"
     ]
    },
    {
     "name": "stderr",
     "output_type": "stream",
     "text": [
      "                                                                             \r"
     ]
    },
    {
     "name": "stdout",
     "output_type": "stream",
     "text": [
      "Epoch [10/14], Train Loss: 5.4159, Test Loss: 5.8946\n"
     ]
    },
    {
     "name": "stderr",
     "output_type": "stream",
     "text": [
      "                                                                             \r"
     ]
    },
    {
     "name": "stdout",
     "output_type": "stream",
     "text": [
      "Epoch [11/14], Train Loss: 5.0181, Test Loss: 5.7537\n"
     ]
    },
    {
     "name": "stderr",
     "output_type": "stream",
     "text": [
      "                                                                             \r"
     ]
    },
    {
     "name": "stdout",
     "output_type": "stream",
     "text": [
      "Epoch [12/14], Train Loss: 4.8136, Test Loss: 5.5068\n"
     ]
    },
    {
     "name": "stderr",
     "output_type": "stream",
     "text": [
      "                                                                             \r"
     ]
    },
    {
     "name": "stdout",
     "output_type": "stream",
     "text": [
      "Epoch [13/14], Train Loss: 4.8768, Test Loss: 5.3807\n"
     ]
    },
    {
     "name": "stderr",
     "output_type": "stream",
     "text": [
      "                                                                             \r"
     ]
    },
    {
     "name": "stdout",
     "output_type": "stream",
     "text": [
      "Epoch [14/14], Train Loss: 4.4500, Test Loss: 5.1411\n"
     ]
    }
   ],
   "source": [
    "# Training loop\n",
    "for epoch in range(config['num_epochs']):\n",
    "    model.train()  \n",
    "    train_loss = 0.0\n",
    "    progress_bar = tqdm(train_loader, desc=f\"Epoch {epoch}/{config['num_epochs']-1}\", leave=False)\n",
    "    for features, labels in progress_bar:\n",
    "        features, labels = features.to(device), labels.to(device)\n",
    "        optimizer.zero_grad()\n",
    "\n",
    "        outputs = model(features)\n",
    "\n",
    "        # Apply the mask to the outputs and labels\n",
    "        masked_loss = criterion(outputs, labels) * mask_tensor\n",
    "        loss = masked_loss.sum() / mask_tensor.sum()  # Normalize by the number of valid elements\n",
    "        train_loss += loss.item()\n",
    "\n",
    "        loss.backward()\n",
    "        optimizer.step()\n",
    "\n",
    "        progress_bar.set_postfix({'Train Loss': loss.item()})\n",
    "\n",
    "    train_loss /= len(train_loader)\n",
    "\n",
    "    model.eval()  \n",
    "    test_loss = 0.0\n",
    "    with torch.no_grad():  \n",
    "        for features, labels in test_loader:\n",
    "            features, labels = features.to(device), labels.to(device)\n",
    "            outputs = model(features)\n",
    "\n",
    "            # Apply the mask to the outputs and labels\n",
    "            masked_loss = criterion(outputs, labels) * mask_tensor\n",
    "            loss = masked_loss.sum() / mask_tensor.sum()  # Normalize by the number of valid elements\n",
    "            test_loss += loss.item()\n",
    "\n",
    "    test_loss /= len(test_loader)\n",
    "\n",
    "    print(f\"Epoch [{epoch}/{config['num_epochs']-1}], Train Loss: {train_loss:.4f}, Test Loss: {test_loss:.4f}\")"
   ]
  },
  {
   "cell_type": "code",
   "execution_count": 317,
   "metadata": {},
   "outputs": [],
   "source": [
    "# Run the model on one example\n",
    "features, labels = next(iter(test_loader))\n",
    "features, labels = features.to(device), labels.to(device)\n",
    "\n",
    "model.eval()\n",
    "with torch.no_grad():\n",
    "    outputs = model(features)\n",
    "\n",
    "features = features.cpu().numpy()\n",
    "labels = labels.cpu().numpy()\n",
    "outputs = outputs.cpu().numpy()\n",
    "mask = mask_tensor.cpu().numpy()\n",
    "\n",
    "masked_output = outputs * mask\n",
    "\n",
    "difference = labels - masked_output"
   ]
  },
  {
   "cell_type": "code",
   "execution_count": 335,
   "metadata": {},
   "outputs": [
    {
     "data": {
      "image/png": "[encoded data removed]",
      "text/plain": [
       "<Figure size 1500x1000 with 12 Axes>"
      ]
     },
     "metadata": {},
     "output_type": "display_data"
    }
   ],
   "source": [
    "# Visualise the input and output data\n",
    "sample_index = 0\n",
    "vmin = min(features[sample_index].min(), labels[sample_index].min(), masked_output[sample_index].min(), difference[sample_index].min())\n",
    "vmax = max(features[sample_index].max(), labels[sample_index].max(), masked_output[sample_index].max(), difference[sample_index].max())\n",
    "\n",
    "plt.figure(figsize=(15, 10))\n",
    "\n",
    "plt.subplot(2, 3, 1)\n",
    "plt.imshow(features[sample_index, 0], cmap='coolwarm', aspect='auto', vmin=vmin, vmax=vmax)\n",
    "plt.title('Input 1')\n",
    "plt.colorbar()\n",
    "\n",
    "plt.subplot(2, 3, 2)\n",
    "plt.imshow(features[sample_index, 1], cmap='coolwarm', aspect='auto', vmin=vmin, vmax=vmax)\n",
    "plt.title('Input 2')\n",
    "plt.colorbar()\n",
    "\n",
    "plt.subplot(2, 3, 3)\n",
    "plt.imshow(labels[sample_index, 0], cmap='coolwarm', aspect='auto', vmin=vmin, vmax=vmax)\n",
    "plt.title('Ground Truth')\n",
    "plt.colorbar()\n",
    "\n",
    "# Plot model outputs, masked outputs, and difference on the second row\n",
    "plt.subplot(2, 3, 4)\n",
    "plt.imshow(outputs[sample_index, 0], cmap='coolwarm', aspect='auto', vmin=vmin, vmax=vmax)\n",
    "plt.title('Model Output')\n",
    "plt.colorbar()\n",
    "\n",
    "plt.subplot(2, 3, 5)\n",
    "plt.imshow(masked_output[sample_index, 0], cmap='coolwarm', aspect='auto', vmin=vmin, vmax=vmax)\n",
    "plt.title('Masked Model Output')\n",
    "plt.colorbar()\n",
    "\n",
    "plt.subplot(2, 3, 6)\n",
    "plt.imshow(difference[sample_index, 0], cmap='coolwarm', aspect='auto', vmin=vmin, vmax=vmax)\n",
    "plt.title('Difference (Truth - Masked)')\n",
    "plt.colorbar()\n",
    "\n",
    "plt.tight_layout()\n",
    "plt.show()"
   ]
  }
 ],
 "metadata": {
  "kernelspec": {
   "display_name": "data_readiness_haduk-grid",
   "language": "python",
   "name": "python3"
  },
  "language_info": {
   "codemirror_mode": {
    "name": "ipython",
    "version": 3
   },
   "file_extension": ".py",
   "mimetype": "text/x-python",
   "name": "python",
   "nbconvert_exporter": "python",
   "pygments_lexer": "ipython3",
   "version": "3.12.7"
  }
 },
 "nbformat": 4,
 "nbformat_minor": 2
}
