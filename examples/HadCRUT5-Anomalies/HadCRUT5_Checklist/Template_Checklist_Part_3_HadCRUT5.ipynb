{
 "cells": [
  {
   "cell_type": "markdown",
   "id": "1e08378b-6bbe-4203-8b90-1bed8c97a679",
   "metadata": {
    "editable": true,
    "slideshow": {
     "slide_type": ""
    },
    "tags": []
   },
   "source": [
    "\n",
    "<link rel=\"stylesheet\" href=\"https://unpkg.com/thebe@latest/lib/index.css\">\n",
    "<script src=\"https://unpkg.com/thebe@latest/lib/index.js\"></script>\n",
    "\n",
    "<script type=\"text/javascript\">\n",
    "  document.addEventListener(\"DOMContentLoaded\", function() {\n",
    "    thebelab.bootstrap({\n",
    "      requestKernel: true,\n",
    "      binderOptions: {\n",
    "        repo: \"your-repo/your-project\",\n",
    "        ref: \"main\",\n",
    "      },\n",
    "      codeMirrorConfig: {\n",
    "        theme: \"abcdef\",\n",
    "      },\n",
    "    });\n",
    "  });\n",
    "</script>\n"
   ]
  },
  {
   "cell_type": "markdown",
   "id": "f8198bd3-3e2a-444f-bff5-c9647a804ca9",
   "metadata": {
    "editable": true,
    "slideshow": {
     "slide_type": ""
    },
    "tags": []
   },
   "source": [
    "# **Data Readiness For AI Checklist - Part 3**\n",
    "\n",
    " * Creator(s) John Pill\n",
    " * Affiliation: UK Met Office\n",
    " * History: 1.0\n",
    " * Last update: 27 August 2024.\n",
    "\n",
    "\n",
    "---"
   ]
  },
  {
   "cell_type": "markdown",
   "id": "e9616620-1b79-4033-959b-41c45a6de99f",
   "metadata": {},
   "source": [
    "## **Tutorial Material**\n",
    "\n",
    "* **Run this Jupyter notebook locally using Jupyter Lab**\n",
    "* **Select 'Run All Cells' from the 'Run' menu to generate the checklist**.\n",
    "* **Remember to save your notebook regularly as you work through it.**\n",
    "\n",
    "\n",
    "## **Data section, optional**\n",
    "Scripts for pulling the data into the notebook assuming\n",
    "\n",
    "---"
   ]
  },
  {
   "cell_type": "markdown",
   "id": "f6840884-d7bb-43fa-a3e3-8c4106c435e5",
   "metadata": {},
   "source": [
    "## **Setup Notebook**"
   ]
  },
  {
   "cell_type": "code",
   "execution_count": 1,
   "id": "5b5a42bb-1da9-4460-a6a0-8d85063fd096",
   "metadata": {
    "editable": true,
    "slideshow": {
     "slide_type": ""
    },
    "tags": [
     "thebe-init"
    ]
   },
   "outputs": [],
   "source": [
    "import ipywidgets as widgets\n",
    "from IPython.display import display, clear_output\n",
    "import json\n",
    "import sys\n",
    "import os\n",
    "from pathlib import Path\n",
    "\n",
    "# Get the absolute path to the 'src' directory before importing custom modules\n",
    "project_root = Path().resolve().parents[2]  # Adjust this if your project is deeper\n",
    "src_path = project_root / 'src'\n",
    "\n",
    "# Add 'src' directory to the system path\n",
    "sys.path.insert(0, str(src_path))\n",
    "\n",
    "from utils import *"
   ]
  },
  {
   "cell_type": "code",
   "execution_count": 2,
   "id": "0b769970-71ed-48a7-95fb-da873b6330c8",
   "metadata": {
    "editable": true,
    "slideshow": {
     "slide_type": ""
    },
    "tags": [
     "thebe-init"
    ]
   },
   "outputs": [],
   "source": [
    "# Load checklist from JSON file:\n",
    "checklist = load_checklist()"
   ]
  },
  {
   "cell_type": "markdown",
   "id": "087dd158-2a04-45b5-a0c0-599761f33f94",
   "metadata": {},
   "source": [
    "#### Reset stored answers to start again:"
   ]
  },
  {
   "cell_type": "code",
   "execution_count": 3,
   "id": "a467851d-ee03-46f7-a194-8e516c374b8e",
   "metadata": {
    "jupyter": {
     "source_hidden": true
    }
   },
   "outputs": [],
   "source": [
    "# Reset all checklist answers back to original blank answers for all sections.\n",
    "# Any completed information will be lost. \n",
    "\n",
    "# To reset the stored answers uncomment and run these lines of code below. Re-comment the lines afterwards to avoid them running again. \n",
    "# reset_checklist()\n",
    "# checklist = load_checklist()\n",
    "\n",
    "# You can then re-run each section to reload it on the reset data. "
   ]
  },
  {
   "cell_type": "code",
   "execution_count": 4,
   "id": "168040a6-84ef-4a73-8e8a-0a62007e4e4b",
   "metadata": {
    "jupyter": {
     "source_hidden": true
    }
   },
   "outputs": [
    {
     "name": "stdout",
     "output_type": "stream",
     "text": [
      "Dataset: HadCRUT5\n",
      "Dataset link: https://www.metoffice.gov.uk/hadobs/hadcrut5/\n",
      "Assessor: John Pill\n",
      "Assessor email: john.pill@metoffice.gov.uk\n"
     ]
    }
   ],
   "source": [
    "\n",
    "print(\"Dataset:\", checklist[\"GeneralInformation\"][\"DatasetName\"])\n",
    "print(\"Dataset link:\", checklist[\"GeneralInformation\"][\"DatasetLink\"])\n",
    "print(\"Assessor:\", checklist[\"GeneralInformation\"][\"AssessorName\"])\n",
    "print(\"Assessor email:\", checklist[\"GeneralInformation\"][\"AssessorEmailAddress\"])"
   ]
  },
  {
   "cell_type": "markdown",
   "id": "f8636b2a-2be4-43ea-9517-048263170adb",
   "metadata": {},
   "source": [
    "---\n",
    "\n",
    "## **3. Data Documentation**"
   ]
  },
  {
   "cell_type": "markdown",
   "id": "d2991113-c9d9-4782-bf73-066651005ce5",
   "metadata": {},
   "source": [
    "### Community standard or convention\n"
   ]
  },
  {
   "cell_type": "code",
   "execution_count": 5,
   "id": "670d1474-ce77-4109-8dd9-7da3e470cc55",
   "metadata": {
    "jupyter": {
     "source_hidden": true
    }
   },
   "outputs": [
    {
     "data": {
      "application/vnd.jupyter.widget-view+json": {
       "model_id": "540792862b1b4c3fb562371d10d1dc69",
       "version_major": 2,
       "version_minor": 0
      },
      "text/plain": [
       "Combobox(value='', description='3.1 Does the dataset metadata follow a community/domain standard or convention…"
      ]
     },
     "metadata": {},
     "output_type": "display_data"
    },
    {
     "data": {
      "application/vnd.jupyter.widget-view+json": {
       "model_id": "8cfe92c065724f558cad0e0d686d9401",
       "version_major": 2,
       "version_minor": 0
      },
      "text/plain": [
       "Text(value='', description='Metadata standard:', layout=Layout(display='none', width='900px'), placeholder='Wh…"
      ]
     },
     "metadata": {},
     "output_type": "display_data"
    },
    {
     "data": {
      "application/vnd.jupyter.widget-view+json": {
       "model_id": "c80aa0c691fe4d33a2d6ea52f90c7dc1",
       "version_major": 2,
       "version_minor": 0
      },
      "text/plain": [
       "Combobox(value='', description='Is the dataset metadata machine-readable?', layout=Layout(display='none', widt…"
      ]
     },
     "metadata": {},
     "output_type": "display_data"
    },
    {
     "data": {
      "application/vnd.jupyter.widget-view+json": {
       "model_id": "00dbfdbb0cc64c5da49eb010803db0fb",
       "version_major": 2,
       "version_minor": 0
      },
      "text/plain": [
       "Combobox(value='', description='Does it include details on the spatial and temporal extent?', layout=Layout(di…"
      ]
     },
     "metadata": {},
     "output_type": "display_data"
    }
   ],
   "source": [
    "\n",
    "metadata_standard = widgets.Combobox(\n",
    "            value = checklist['DataDocumentation']['MetadataStandard'],\n",
    "            options=['Yes', 'No', 'N/A'],\n",
    "            description='3.1 Does the dataset metadata follow a community/domain standard or convention?',\n",
    "            placeholder=\"Click to select option\",\n",
    "            layout=widgets.Layout(width=widget_width),\n",
    "            style = description_style\n",
    "            )\n",
    "\n",
    "metadata_standard_detail = widgets.Text(\n",
    "            value = checklist['DataDocumentation']['MetadataStandardName'],\n",
    "            description=\"Metadata standard:\",\n",
    "            placeholder='Which standard is it? (CF, TBD, etc.)',\n",
    "            layout=widgets.Layout(display=\"none\", width=widget_width),\n",
    "            style = description_style\n",
    "            )\n",
    "\n",
    "metadata_machine_readable = widgets.Combobox(\n",
    "            value = checklist['DataDocumentation']['MetadataMachineReadable'],\n",
    "            options=['Yes', 'No', 'N/A'],\n",
    "            description='Is the dataset metadata machine-readable?',\n",
    "            placeholder=\"Click to select option\",\n",
    "            layout = widgets.Layout(display=\"none\", width=widget_width),\n",
    "            style = description_style\n",
    "            )\n",
    "\n",
    "metadata_spatial_temporal = widgets.Combobox(\n",
    "            value = checklist['DataDocumentation']['MetadataSpatialTemporalExtent'],\n",
    "            options=['Yes', 'No', 'N/A'],\n",
    "            description='Does it include details on the spatial and temporal extent?',\n",
    "            placeholder=\"Click to select option\",\n",
    "            layout = widgets.Layout(display=\"none\", width=widget_width),\n",
    "            style = description_style\n",
    "            )\n",
    "\n",
    "\n",
    "# Function to change the display setting of the following UI components. \n",
    "def on_click_handler(change):    \n",
    "\n",
    "    # Show / hide main trunk of questions. \n",
    "    if metadata_standard.value == \"Yes\":\n",
    "        metadata_standard_detail.layout.display = ''\n",
    "        metadata_machine_readable.layout.display = ''\n",
    "        metadata_spatial_temporal.layout.display = ''\n",
    "    else: \n",
    "        metadata_standard_detail.layout.display = 'none'\n",
    "        metadata_machine_readable.layout.display = 'none'\n",
    "        metadata_spatial_temporal.layout.display = 'none'\n",
    "        metadata_standard_detail.value = ''\n",
    "        metadata_machine_readable.value = 'N/A'\n",
    "        metadata_spatial_temporal.value = 'N/A'\n",
    "        \n",
    "\n",
    "display(metadata_standard, metadata_standard_detail, metadata_machine_readable, metadata_spatial_temporal)\n",
    "\n",
    "# Observe UI components for changes and call the on_click_handler function if value property changed. \n",
    "metadata_standard.observe(on_click_handler, names=\"value\")"
   ]
  },
  {
   "cell_type": "markdown",
   "id": "6623c23f-c9d6-47ba-b4f0-9c6e777d3d49",
   "metadata": {},
   "source": [
    "### Data dictionary"
   ]
  },
  {
   "cell_type": "code",
   "execution_count": 6,
   "id": "a21fad8b-b633-4122-abcc-6e181ebf4af5",
   "metadata": {
    "jupyter": {
     "source_hidden": true
    }
   },
   "outputs": [
    {
     "data": {
      "application/vnd.jupyter.widget-view+json": {
       "model_id": "14464ac829ad4fdab84f309a1681e422",
       "version_major": 2,
       "version_minor": 0
      },
      "text/plain": [
       "Combobox(value='', description='3.2 Is there a comprehensive data dictionary/codebook that describes what each…"
      ]
     },
     "metadata": {},
     "output_type": "display_data"
    },
    {
     "data": {
      "application/vnd.jupyter.widget-view+json": {
       "model_id": "d50b939cc985460186ab487234b0c123",
       "version_major": 2,
       "version_minor": 0
      },
      "text/plain": [
       "Combobox(value='', description='Is the data dictionary standardized?', layout=Layout(display='none', width='90…"
      ]
     },
     "metadata": {},
     "output_type": "display_data"
    },
    {
     "data": {
      "application/vnd.jupyter.widget-view+json": {
       "model_id": "812852de68254446ba5ceeda8b329646",
       "version_major": 2,
       "version_minor": 0
      },
      "text/plain": [
       "Combobox(value='', description='Is the data dictionary machine-readable?', layout=Layout(display='none', width…"
      ]
     },
     "metadata": {},
     "output_type": "display_data"
    },
    {
     "data": {
      "application/vnd.jupyter.widget-view+json": {
       "model_id": "4fd7e0fcce234301ba80fc2a5d48b02d",
       "version_major": 2,
       "version_minor": 0
      },
      "text/plain": [
       "Combobox(value='', description='Do the parameters follow a defined standard?', layout=Layout(display='none', w…"
      ]
     },
     "metadata": {},
     "output_type": "display_data"
    },
    {
     "data": {
      "application/vnd.jupyter.widget-view+json": {
       "model_id": "a812e8b82a4547f4aa0a3174bd840772",
       "version_major": 2,
       "version_minor": 0
      },
      "text/plain": [
       "Text(value='', description='Parameter standards:', layout=Layout(display='none', width='900px'), placeholder='…"
      ]
     },
     "metadata": {},
     "output_type": "display_data"
    },
    {
     "data": {
      "application/vnd.jupyter.widget-view+json": {
       "model_id": "5de09e11c76e48c1ab3517668c035ffd",
       "version_major": 2,
       "version_minor": 0
      },
      "text/plain": [
       "Combobox(value='', description='Are parameters crosswalked in an ontology or common vocabulary (e.g. NIEM)?', …"
      ]
     },
     "metadata": {},
     "output_type": "display_data"
    }
   ],
   "source": [
    "\n",
    "data_dictionary = widgets.Combobox(\n",
    "            value=checklist['DataDocumentation']['DataDictionaryExists'],\n",
    "            options=['Yes', 'No', 'N/A'],\n",
    "            description='3.2 Is there a comprehensive data dictionary/codebook that describes what each element of the dataset means? parameters?',\n",
    "            placeholder=\"Click to select option\",\n",
    "            layout=widgets.Layout(width=widget_width),\n",
    "            style = description_style\n",
    "            )\n",
    "\n",
    "data_dictionary_standardized = widgets.Combobox(\n",
    "            value=checklist['DataDocumentation']['DataDictionaryStandardised'],\n",
    "            options=['Yes', 'No', 'N/A'],\n",
    "            description='Is the data dictionary standardized?',\n",
    "            placeholder=\"Click to select option\",\n",
    "            layout=widgets.Layout(display=\"none\", width=widget_width),\n",
    "            style = description_style\n",
    "            )\n",
    "\n",
    "data_dictionary_machine_readable = widgets.Combobox(\n",
    "            value=checklist['DataDocumentation']['DataDictionaryMachineReadable'],\n",
    "            options=['Yes', 'No', 'N/A'],\n",
    "            description='Is the data dictionary machine-readable?',\n",
    "            placeholder=\"Click to select option\",\n",
    "            layout=widgets.Layout(display=\"none\", width=widget_width),\n",
    "            style = description_style\n",
    "            )\n",
    "\n",
    "parameters_defined_standard = widgets.Combobox(\n",
    "            value=checklist['DataDocumentation']['DataDictionaryParametersFollowStandard'],\n",
    "            options=['Yes', 'No', 'N/A'],\n",
    "            description='Do the parameters follow a defined standard?',\n",
    "            placeholder=\"Click to select option\",\n",
    "            layout=widgets.Layout(display=\"none\", width=widget_width),\n",
    "            style = description_style\n",
    "            )\n",
    "\n",
    "parameters_defined_standard_detail = widgets.Text(\n",
    "            value=checklist['DataDocumentation']['DataDictionaryStandardName'],\n",
    "            description = 'Parameter standards:',\n",
    "            placeholder='If the parameters follow a defined standard, which standard it is?',\n",
    "            layout=widgets.Layout(display=\"none\", width=widget_width),\n",
    "            style = description_style\n",
    "            )\n",
    "\n",
    "parameters_common_vocabulary = widgets.Combobox(\n",
    "            value=checklist['DataDocumentation']['DataDictionaryParametersCrosswalked'],\n",
    "            options=['Yes', 'No', 'N/A'],\n",
    "            description='Are parameters crosswalked in an ontology or common vocabulary (e.g. NIEM)?',\n",
    "            placeholder=\"Click to select option\",\n",
    "            layout=widgets.Layout(display=\"none\", width=widget_width),\n",
    "            style = description_style\n",
    "            )\n",
    "\n",
    "# Function to change the display setting of the following UI components. \n",
    "def on_click_handler(change):    \n",
    "\n",
    "    # Show / hide main trunk of questions. \n",
    "    if data_dictionary.value == \"Yes\":\n",
    "        data_dictionary_standardized.layout.display = ''\n",
    "        data_dictionary_machine_readable.layout.display = ''\n",
    "        parameters_defined_standard.layout.display = ''\n",
    "        parameters_defined_standard_detail.layout.display = ''\n",
    "        parameters_common_vocabulary.layout.display = ''\n",
    "\n",
    "    else:   \n",
    "        data_dictionary_standardized.layout.display = 'none'\n",
    "        data_dictionary_machine_readable.layout.display = 'none'\n",
    "        parameters_defined_standard.layout.display = 'none'\n",
    "        parameters_defined_standard_detail.layout.display = 'none'\n",
    "        parameters_common_vocabulary.layout.display = 'none'\n",
    "        data_dictionary_standardized.value = 'N/A'\n",
    "        data_dictionary_machine_readable.value = 'N/A'\n",
    "        parameters_defined_standard.value = 'N/A'\n",
    "        parameters_defined_standard_detail.value = ''\n",
    "        parameters_common_vocabulary.value = 'N/A'\n",
    "\n",
    "            \n",
    "# Display the UI components\n",
    "display(data_dictionary, data_dictionary_standardized, data_dictionary_machine_readable, parameters_defined_standard, parameters_defined_standard_detail, parameters_common_vocabulary)\n",
    "\n",
    "# Observe UI components for changes and call the on_click_handler function if value property changed. \n",
    "data_dictionary.observe(on_click_handler, names=\"value\")\n",
    "\n"
   ]
  },
  {
   "cell_type": "markdown",
   "id": "0b169329-5852-44c5-adbb-6d0ce30812cf",
   "metadata": {},
   "source": [
    "### Unique persistent identifier\n",
    "\n",
    "3. Does the dataset have a unique persistent identifier, e.g. DOI? Yes, [supply identifier] / No / Not applicable\n"
   ]
  },
  {
   "cell_type": "code",
   "execution_count": 7,
   "id": "94e5dc20-8289-463d-a273-5c5b7b7c81eb",
   "metadata": {
    "jupyter": {
     "source_hidden": true
    }
   },
   "outputs": [
    {
     "data": {
      "application/vnd.jupyter.widget-view+json": {
       "model_id": "59238591e4214127b817ad0614f42139",
       "version_major": 2,
       "version_minor": 0
      },
      "text/plain": [
       "Combobox(value='', description='3.3 Does the dataset have a unique persistent identifier, e.g. DOI?', layout=L…"
      ]
     },
     "metadata": {},
     "output_type": "display_data"
    },
    {
     "data": {
      "application/vnd.jupyter.widget-view+json": {
       "model_id": "36971cded9014efe93b7077ec448b66b",
       "version_major": 2,
       "version_minor": 0
      },
      "text/plain": [
       "Text(value='', description='Identifier', layout=Layout(width='900px'), placeholder='Click to select option', s…"
      ]
     },
     "metadata": {},
     "output_type": "display_data"
    }
   ],
   "source": [
    "\n",
    "unique_persistent_identifier = widgets.Combobox(\n",
    "    value=checklist['DataDocumentation']['IdentifierExists'],\n",
    "            options=['Yes', 'No', 'N/A'],\n",
    "            description='3.3 Does the dataset have a unique persistent identifier, e.g. DOI?',\n",
    "            placeholder=placeholder,\n",
    "            layout=widgets.Layout(width=widget_width),\n",
    "            style = description_style\n",
    "            )\n",
    "\n",
    "unique_persistent_identifier_link = widgets.Text(\n",
    "            value=checklist['DataDocumentation']['Identifier'],\n",
    "            description = \"Identifier\",\n",
    "            placeholder=placeholder,\n",
    "            layout=widgets.Layout(width=widget_width),\n",
    "            style = description_style\n",
    "            )\n",
    "\n",
    "display(unique_persistent_identifier, unique_persistent_identifier_link)"
   ]
  },
  {
   "cell_type": "markdown",
   "id": "fffa0c8f-cea1-4c94-8e21-93dcaa4f7cf3",
   "metadata": {},
   "source": [
    "### Contact information and feedback"
   ]
  },
  {
   "cell_type": "code",
   "execution_count": 8,
   "id": "d609d2cf-6580-4488-bd39-5a607c42ed02",
   "metadata": {
    "jupyter": {
     "source_hidden": true
    }
   },
   "outputs": [
    {
     "data": {
      "application/vnd.jupyter.widget-view+json": {
       "model_id": "caf5a876b282453fa843461b29bc955a",
       "version_major": 2,
       "version_minor": 0
      },
      "text/plain": [
       "Combobox(value='', description='3.4 Is there contact information for subject-matter experts?', layout=Layout(w…"
      ]
     },
     "metadata": {},
     "output_type": "display_data"
    },
    {
     "data": {
      "application/vnd.jupyter.widget-view+json": {
       "model_id": "199ba21e12834a20b300ae28adf09edc",
       "version_major": 2,
       "version_minor": 0
      },
      "text/plain": [
       "Combobox(value='', description='3.5 Is there a mechanism for user feedback and suggestions?', layout=Layout(wi…"
      ]
     },
     "metadata": {},
     "output_type": "display_data"
    }
   ],
   "source": [
    "\n",
    "contact_info_available = widgets.Combobox(\n",
    "            value=checklist['DataDocumentation']['ContactInformation'],\n",
    "            options=['Yes', 'No', 'N/A'],\n",
    "            description='3.4 Is there contact information for subject-matter experts?',\n",
    "            placeholder=placeholder,\n",
    "            layout=widgets.Layout(width=widget_width),\n",
    "            style = description_style\n",
    "            )\n",
    "\n",
    "feedback_mechanism_available = widgets.Combobox(\n",
    "            value=checklist['DataDocumentation']['UserFeedbackMechanism'],\n",
    "            options=['Yes', 'No', 'N/A'],\n",
    "            description='3.5 Is there a mechanism for user feedback and suggestions?',\n",
    "            placeholder=placeholder,\n",
    "            layout=widgets.Layout(width=widget_width),\n",
    "            style = description_style\n",
    "            )\n",
    "\n",
    "display(contact_info_available, feedback_mechanism_available)\n"
   ]
  },
  {
   "cell_type": "markdown",
   "id": "1ee9173d-e7cb-4959-bc32-ced1247122b9",
   "metadata": {},
   "source": [
    "### Examples codes / notebooks / toolkits\n"
   ]
  },
  {
   "cell_type": "code",
   "execution_count": 9,
   "id": "783c36e6-3f82-4354-b4e1-06dfa99d2485",
   "metadata": {
    "jupyter": {
     "source_hidden": true
    }
   },
   "outputs": [
    {
     "data": {
      "application/vnd.jupyter.widget-view+json": {
       "model_id": "269e62f2190c402cb0af32bac2bdb248",
       "version_major": 2,
       "version_minor": 0
      },
      "text/plain": [
       "Combobox(value='', description='3.6 Are there example codes / notebooks / toolkits available showing how the d…"
      ]
     },
     "metadata": {},
     "output_type": "display_data"
    }
   ],
   "source": [
    "\n",
    "example_code_available = widgets.Combobox(\n",
    "            value=checklist['DataDocumentation']['ExampleCodesAvailable'],\n",
    "            options=['Yes', 'No', 'N/A'],\n",
    "            description='3.6 Are there example codes / notebooks / toolkits available showing how the data can be used?',\n",
    "            placeholder=placeholder,\n",
    "            layout=widgets.Layout(width=widget_width),\n",
    "            style = description_style\n",
    "            )\n",
    "\n",
    "display(example_code_available)"
   ]
  },
  {
   "cell_type": "markdown",
   "id": "b80cff89-1971-426d-8ddc-c130b22d8294",
   "metadata": {},
   "source": [
    "### Licenses"
   ]
  },
  {
   "cell_type": "code",
   "execution_count": 10,
   "id": "c95e3538-de4e-481c-bfed-b541cb46989e",
   "metadata": {
    "jupyter": {
     "source_hidden": true
    }
   },
   "outputs": [
    {
     "data": {
      "application/vnd.jupyter.widget-view+json": {
       "model_id": "4be21a12beda40a28dd91f6ab58fe890",
       "version_major": 2,
       "version_minor": 0
      },
      "text/plain": [
       "Text(value='', description='3.7 What is the license for the data?', layout=Layout(width='900px'), placeholder=…"
      ]
     },
     "metadata": {},
     "output_type": "display_data"
    },
    {
     "data": {
      "application/vnd.jupyter.widget-view+json": {
       "model_id": "e3c2289d22914062891c08a800837a27",
       "version_major": 2,
       "version_minor": 0
      },
      "text/plain": [
       "Combobox(value='', description='Is the license standardized and machine-readable (e.g. Creative Commons)?', la…"
      ]
     },
     "metadata": {},
     "output_type": "display_data"
    }
   ],
   "source": [
    "\n",
    "dataset_licence = widgets.Text(\n",
    "            value=checklist['DataDocumentation']['LicenseType'],\n",
    "            description='3.7 What is the license for the data?',\n",
    "            placeholder=\"Type your answer\",\n",
    "            layout=widgets.Layout(width=widget_width),\n",
    "            style = description_style\n",
    "            )\n",
    "\n",
    "dataset_licence_machine_readable = widgets.Combobox(\n",
    "            value=checklist['DataDocumentation']['LicenceMachineReadable'],\n",
    "            options=['Yes', 'No', 'N/A'],\n",
    "            description='Is the license standardized and machine-readable (e.g. Creative Commons)?',\n",
    "            placeholder=placeholder,\n",
    "            layout=widgets.Layout(width=widget_width),\n",
    "            style = description_style\n",
    "            )\n",
    "\n",
    "display(dataset_licence, dataset_licence_machine_readable)"
   ]
  },
  {
   "cell_type": "markdown",
   "id": "47b25bef-3f4d-4a88-b666-b1abefcbac18",
   "metadata": {},
   "source": [
    "### Dataset useage"
   ]
  },
  {
   "cell_type": "code",
   "execution_count": 11,
   "id": "cde4cc94-5bef-4dbd-93fc-6da650a82848",
   "metadata": {
    "jupyter": {
     "source_hidden": true
    },
    "scrolled": true
   },
   "outputs": [
    {
     "data": {
      "application/vnd.jupyter.widget-view+json": {
       "model_id": "e520c2d778c840fea3ef106e3dea596a",
       "version_major": 2,
       "version_minor": 0
      },
      "text/plain": [
       "Textarea(value='', description='3.8 Has this dataset already been used in AI or ML activities? Link to publica…"
      ]
     },
     "metadata": {},
     "output_type": "display_data"
    },
    {
     "data": {
      "application/vnd.jupyter.widget-view+json": {
       "model_id": "b634e1d93cb44dff8060e23ed6f4f357",
       "version_major": 2,
       "version_minor": 0
      },
      "text/plain": [
       "Combobox(value='', description='3.9 Are there recommendations on the intended use of the data, and uses that a…"
      ]
     },
     "metadata": {},
     "output_type": "display_data"
    }
   ],
   "source": [
    "\n",
    "ai_ml_existing_useage_links = widgets.Textarea(\n",
    "            value=checklist['DataDocumentation']['UsedInAIorMLReports'],\n",
    "            description='3.8 Has this dataset already been used in AI or ML activities? Link to publications/reports',\n",
    "            layout=widgets.Layout(width=widget_width),\n",
    "            style = description_style\n",
    "            )\n",
    "\n",
    "usage_recomendations = widgets.Combobox(\n",
    "            value=checklist['DataDocumentation']['UsageRecommendations'],\n",
    "            options=['Yes', 'No', 'N/A'],\n",
    "            description='3.9 Are there recommendations on the intended use of the data, and uses that are not recommended?',\n",
    "            placeholder=placeholder,\n",
    "            layout=widgets.Layout(width=widget_width),\n",
    "            style = description_style\n",
    "            )\n",
    "\n",
    "display(ai_ml_existing_useage_links, usage_recomendations)"
   ]
  },
  {
   "cell_type": "code",
   "execution_count": 12,
   "id": "9588a3dd-2cfb-4a5e-8596-b36e0a73ebbb",
   "metadata": {
    "jupyter": {
     "source_hidden": true
    }
   },
   "outputs": [
    {
     "data": {
      "application/vnd.jupyter.widget-view+json": {
       "model_id": "3f661be9b03f45f18f6c20c388607101",
       "version_major": 2,
       "version_minor": 0
      },
      "text/plain": [
       "Button(button_style='primary', description='Save Data Documentation Answers to json file', layout=Layout(flex=…"
      ]
     },
     "metadata": {},
     "output_type": "display_data"
    }
   ],
   "source": [
    "\n",
    "# Save button\n",
    "save_button = widgets.Button(description=\"Save Data Documentation Answers to json file\",  button_style=\"primary\",  layout=widgets.Layout(flex='1 1 auto', width='auto'))\n",
    "\n",
    "def generate_updates_documentation():\n",
    "\n",
    "    updates = {\n",
    "        \"DataDocumentation\": {\n",
    "            #Metadata\n",
    "            \"MetadataStandard\": metadata_standard.value,\n",
    "            \"MetadataStandardName\": metadata_standard_detail.value,\n",
    "            \"MetadataMachineReadable\": metadata_machine_readable.value,\n",
    "            \"MetadataSpatialTemporalExtent\": metadata_spatial_temporal.value,\n",
    "            \n",
    "            # Data Dictionary\n",
    "            \"DataDictionaryExists\": data_dictionary.value,            \n",
    "            \"DataDictionaryStandardised\" : data_dictionary_standardized.value,\n",
    "            \"DataDictionaryMachineReadable\" : data_dictionary_machine_readable.value,\n",
    "            \"DataDictionaryParametersFollowStandard\" : parameters_defined_standard.value,\n",
    "            \"DataDictionaryStandardName\" : parameters_defined_standard_detail.value,\n",
    "            \"DataDictionaryParametersCrosswalked\" : parameters_common_vocabulary.value,\n",
    "            \n",
    "            # Identifier\n",
    "            \"IdentifierExists\" : unique_persistent_identifier.value,\n",
    "            \"Identifier\" : unique_persistent_identifier_link.value,\n",
    "            \n",
    "            # Contact and feedback\n",
    "            \"ContactInformation\" : contact_info_available.value,\n",
    "            \"UserFeedbackMechanism\" : feedback_mechanism_available.value,\n",
    "\n",
    "            #Misc\n",
    "            \"ExampleCodesAvailable\" : example_code_available.value,\n",
    "            \"LicenseType\" : dataset_licence.value,\n",
    "            \"LicenceMachineReadable\" : dataset_licence_machine_readable.value,\n",
    "            \"UsedInAIorMLReports\" : ai_ml_existing_useage_links.value,\n",
    "            \"UsageRecommendations\" : usage_recomendations.value,\n",
    "        }\n",
    "    }\n",
    "    return updates\n",
    "\n",
    "save_button.on_click(lambda b: update_checklist(b, generate_updates_documentation()))\n",
    "\n",
    "display(save_button)"
   ]
  },
  {
   "cell_type": "markdown",
   "id": "3824aa9e-9d66-4a2e-a1a2-60139f7c30dd",
   "metadata": {},
   "source": [
    "## Finished"
   ]
  },
  {
   "cell_type": "markdown",
   "id": "aa1e3beb-d408-4e47-bbae-0c89aedb2703",
   "metadata": {},
   "source": [
    "1. Make sure you saved your answers to the external json file using the buttons above. \n",
    "2. If you would like to view these saved answers use the button below. \n",
    "3. Move onto the notebook Template_Checklist_Part_4.ipynb covering Data Access"
   ]
  },
  {
   "cell_type": "code",
   "execution_count": 13,
   "id": "d35683fe-7d9f-40fa-81fa-99f926702fd6",
   "metadata": {
    "jupyter": {
     "source_hidden": true
    }
   },
   "outputs": [
    {
     "data": {
      "application/vnd.jupyter.widget-view+json": {
       "model_id": "d2f1616cbc8b4ad38a1ea77fe6b51ef0",
       "version_major": 2,
       "version_minor": 0
      },
      "text/plain": [
       "Button(button_style='info', description='Print json results', layout=Layout(flex='1 1 auto', width='auto'), st…"
      ]
     },
     "metadata": {},
     "output_type": "display_data"
    },
    {
     "data": {
      "application/vnd.jupyter.widget-view+json": {
       "model_id": "9b049a11a9624672bf6aa0b4211b6613",
       "version_major": 2,
       "version_minor": 0
      },
      "text/plain": [
       "Output()"
      ]
     },
     "metadata": {},
     "output_type": "display_data"
    }
   ],
   "source": [
    "\n",
    "button_print_json = widgets.Button(description=\"Print json results\",  button_style='info', layout=widgets.Layout(flex='1 1 auto', width='auto'))\n",
    "output = widgets.Output()\n",
    "\n",
    "display(button_print_json, output)\n",
    "\n",
    "def print_json_info(b):\n",
    "    \"\"\"\n",
    "    Loads a copy of the json file to checklist variable. \n",
    "    Then prints the json file contents to Jupyter notebook cell output.\n",
    "\n",
    "    Arguments: b - represents the button calling the function. \n",
    "    \"\"\"\n",
    "    checklist = load_checklist()\n",
    "    with output:\n",
    "        clear_output()\n",
    "        for key, value in checklist.items():\n",
    "            print(f\"{key}:\")\n",
    "            if isinstance(value, dict):\n",
    "                for sub_key, sub_value in value.items():\n",
    "                    print(f\"  {sub_key}: {sub_value}\")\n",
    "            else:\n",
    "                print(f\"  {value}\")\n",
    "\n",
    "button_print_json.on_click(print_json_info)\n"
   ]
  },
  {
   "cell_type": "markdown",
   "id": "c760fc3b-f413-46e4-8a76-31684d83a2d2",
   "metadata": {},
   "source": [
    "---\n",
    "\n",
    "## **Appendix** - Definition of terms used in the checklist."
   ]
  },
  {
   "cell_type": "markdown",
   "id": "7e4e52d2-20ae-497a-8b99-3e219893c35f",
   "metadata": {},
   "source": [
    "### Documentation\n",
    "* **Dataset Metadata**: complete information about the dataset: quality, provenance, location, time period, responsible parties, purpose, etc.\n",
    "* **Data Dictionary/Codebook**: complete information about the individual variables / measures / parameters within a dataset: type, units, null value, etc.\n",
    "* **Identifier**: a code or number that uniquely identifies a dataset\n",
    "* **Ontology**: formalized definitions of concepts within a domain of knowledge, and the nature of the inter-relationships among those concepts"
   ]
  }
 ],
 "metadata": {
  "kernelspec": {
   "display_name": "Python 3 (ipykernel)",
   "language": "python",
   "name": "python3"
  },
  "language_info": {
   "codemirror_mode": {
    "name": "ipython",
    "version": 3
   },
   "file_extension": ".py",
   "mimetype": "text/x-python",
   "name": "python",
   "nbconvert_exporter": "python",
   "pygments_lexer": "ipython3",
   "version": "3.11.8"
  },
  "widgets": {
   "application/vnd.jupyter.widget-state+json": {
    "state": {},
    "version_major": 2,
    "version_minor": 0
   }
  }
 },
 "nbformat": 4,
 "nbformat_minor": 5
}
