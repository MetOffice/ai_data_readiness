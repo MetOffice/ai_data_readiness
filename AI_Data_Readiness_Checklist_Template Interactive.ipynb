{
 "cells": [
  {
   "cell_type": "markdown",
   "id": "f8198bd3-3e2a-444f-bff5-c9647a804ca9",
   "metadata": {},
   "source": [
    "# **Data Readiness For AI Checklist**\n",
    "\n",
    " * Creator(s) John Pill\n",
    " * Affiliation: UK Met Office\n",
    " * History: 1.0\n",
    " * Last update: 27 August 2024.\n",
    "\n",
    "\n",
    "---"
   ]
  },
  {
   "cell_type": "markdown",
   "id": "6ac1eb47-ae19-48f9-8a66-268b970dc97c",
   "metadata": {},
   "source": [
    "## **Overview**\n",
    "The checklist is developed using the 2019 draft readiness matrix developed by the Office of Science and Technology Policy Subcommittee on Open Science as a basis. The checklist has been improved based on further research and user feedback. Definitions for some concepts are listed at the end of this document. This checklist is developed through a collaboration of ESIP Data Readiness Cluster members include representatives from NOAA, NASA, USGS, and other organizations. The checklist will be updated periodically to reflect community feedback.\n",
    "\n",
    "ESIP Data Readiness Cluster (2023): Checklist to Examine AI-readiness for Open Environmental Datasets v.1.0. ESIP. Online resource. https://doi.org/10.6084/m9.figshare.19983722.v1\n",
    "\n",
    "Readiness Matrix (2020): What is AI-Ready Open Data? NOAA. Online resource. https://www.star.nesdis.noaa.gov/star/documents/meetings/2020AI/presentations/202010/20201022_Christensen.pdf\n",
    "\n",
    "### Prerequisites\n",
    "Ideally for AI-ready assessment, a dataset should be defined as the minimum measurable bundle (i.e., a physical parameter/variable of observational datasets or model simulations). The assessment at this scale will enable better integration of data from different sources for research and development. However, it can be an intensive process for manual assessment without automation. Therefore, we recommend current assessments be done on the data file level. If the dataset has different versions, the checklist should be applied to each dataset type (e.g. raw, derived).\n",
    "\n",
    "### Learning Outcomes\n",
    "* Know how to check a range of dataset features. \n",
    "* Assess a wide range of dataset features, which will impact the dataset's 'readiness' for machine learning.  \n",
    "\n",
    "\n",
    "---"
   ]
  },
  {
   "cell_type": "markdown",
   "id": "f61ad742-0a6d-4b49-83f3-a4bb1828975e",
   "metadata": {},
   "source": [
    "## **Tutorial Material TODO**\n",
    "\n",
    "\n",
    "Remember to save your notebook regularly as you work through it to prevent loosing your answers.\n",
    "\n",
    "\n",
    "Run this Jupyter notebook locally using Jupyter Lab. \n",
    "* **Add download and running instructions**\n",
    "* **May need to 'run all cells' to generate checklist - need to test**.\n",
    "\n",
    "\n",
    "### Data section, optional\n",
    "Scripts for pulling the data into the notebook assuming\n"
   ]
  },
  {
   "cell_type": "markdown",
   "id": "4fa896be-aa57-4cb7-b376-80fd9c4e0160",
   "metadata": {},
   "source": [
    "# NOTES \n",
    "### * Could switch to combobox then the default unselected value would be None if this would be more useful?\n",
    "### * Consider creating a class to model a question, response, question type etc. This way it could be possible to attach different importance weightings to questions and make accessing the information easier later on.\n",
    "### * Consider the best way to format the data object to store checklist results.\n",
    "### * Add export functions for different formats (CSV, JSON, etc.)\n"
   ]
  },
  {
   "cell_type": "code",
   "execution_count": 1,
   "id": "5b5a42bb-1da9-4460-a6a0-8d85063fd096",
   "metadata": {},
   "outputs": [],
   "source": [
    "import ipywidgets as widgets\n",
    "from IPython.display import display, clear_output"
   ]
  },
  {
   "cell_type": "markdown",
   "id": "3bf24dda-6822-45ae-a005-6d2f4138e7a8",
   "metadata": {},
   "source": [
    "---\n",
    "\n",
    "## **1. Dataset General Info**\n"
   ]
  },
  {
   "cell_type": "markdown",
   "id": "6faea870-624c-4cb6-8bfa-d93a4a16aea0",
   "metadata": {},
   "source": [
    "### Basic details"
   ]
  },
  {
   "cell_type": "code",
   "execution_count": 2,
   "id": "e6f9be9b-7e01-4210-8b77-8b0632be47a8",
   "metadata": {
    "jupyter": {
     "source_hidden": true
    }
   },
   "outputs": [
    {
     "data": {
      "application/vnd.jupyter.widget-view+json": {
       "model_id": "073afc62293847c29bf6e99c322a03e8",
       "version_major": 2,
       "version_minor": 0
      },
      "text/plain": [
       "Text(value='', placeholder='1.1 Dataset name')"
      ]
     },
     "metadata": {},
     "output_type": "display_data"
    },
    {
     "data": {
      "application/vnd.jupyter.widget-view+json": {
       "model_id": "10272c2033ce49d4b3d9edb312b458d7",
       "version_major": 2,
       "version_minor": 0
      },
      "text/plain": [
       "Text(value='', placeholder='1.2. Dataset version')"
      ]
     },
     "metadata": {},
     "output_type": "display_data"
    },
    {
     "data": {
      "application/vnd.jupyter.widget-view+json": {
       "model_id": "f4eea39f21824dcf9f7e7958f043ea53",
       "version_major": 2,
       "version_minor": 0
      },
      "text/plain": [
       "Text(value='', placeholder='1.3. Location / url link')"
      ]
     },
     "metadata": {},
     "output_type": "display_data"
    },
    {
     "data": {
      "application/vnd.jupyter.widget-view+json": {
       "model_id": "6ac9f04d3fa6425ba066bd348d8639ad",
       "version_major": 2,
       "version_minor": 0
      },
      "text/plain": [
       "Text(value='', placeholder='1.4. Assessor name')"
      ]
     },
     "metadata": {},
     "output_type": "display_data"
    },
    {
     "data": {
      "application/vnd.jupyter.widget-view+json": {
       "model_id": "b45c074b46d8434fa160ae15b9bde74e",
       "version_major": 2,
       "version_minor": 0
      },
      "text/plain": [
       "Text(value='', placeholder='1.5. Assessor email address')"
      ]
     },
     "metadata": {},
     "output_type": "display_data"
    }
   ],
   "source": [
    "\n",
    "dataset_name = widgets.Text(\n",
    "    value='',\n",
    "    placeholder='1.1 Dataset name',\n",
    "    disabled=False   \n",
    ")\n",
    "\n",
    "dataset_version = widgets.Text(\n",
    "    value='',\n",
    "    placeholder='1.2. Dataset version',\n",
    "    disabled=False   \n",
    ")\n",
    "\n",
    "dataset_link = widgets.Text(\n",
    "    value='',\n",
    "    placeholder='1.3. Location / url link',\n",
    "    disabled=False   \n",
    ")\n",
    "\n",
    "dataset_assessor_name = widgets.Text(\n",
    "    value='',\n",
    "    placeholder='1.4. Assessor name',\n",
    "    disabled=False   \n",
    ")\n",
    "\n",
    "dataset_assessor_email = widgets.Text(\n",
    "    value='',\n",
    "    placeholder='1.5. Assessor email address',\n",
    "    disabled=False   \n",
    ")\n",
    "\n",
    "\n",
    "display(dataset_name, dataset_version, dataset_link, dataset_assessor_name, dataset_assessor_email)"
   ]
  },
  {
   "cell_type": "markdown",
   "id": "ab7b5096-fc94-4bbb-bf29-885026e712bf",
   "metadata": {},
   "source": [
    "### Dataset details"
   ]
  },
  {
   "cell_type": "code",
   "execution_count": 3,
   "id": "0a8fb145-184b-4d9b-b0e9-e95faec68561",
   "metadata": {
    "jupyter": {
     "source_hidden": true
    },
    "slideshow": {
     "slide_type": ""
    },
    "tags": []
   },
   "outputs": [
    {
     "data": {
      "application/vnd.jupyter.widget-view+json": {
       "model_id": "2a2e487683ce4bfdb9894932a0db7ff1",
       "version_major": 2,
       "version_minor": 0
      },
      "text/plain": [
       "ToggleButtons(description='6. Is this raw data or a derived/processed data product?', options=('Raw', 'Derived…"
      ]
     },
     "metadata": {},
     "output_type": "display_data"
    },
    {
     "data": {
      "application/vnd.jupyter.widget-view+json": {
       "model_id": "3929af50f58d466982dee29b59a63e42",
       "version_major": 2,
       "version_minor": 0
      },
      "text/plain": [
       "ToggleButtons(description='7. Is this observational data, simulation/model output, or synthetic data?', option…"
      ]
     },
     "metadata": {},
     "output_type": "display_data"
    },
    {
     "data": {
      "application/vnd.jupyter.widget-view+json": {
       "model_id": "a4e4f388c0334524ad5c2ef7ea362151",
       "version_major": 2,
       "version_minor": 0
      },
      "text/plain": [
       "ToggleButtons(description='8. Is the data single-source or aggregated from several sources? ', options=('Singl…"
      ]
     },
     "metadata": {},
     "output_type": "display_data"
    }
   ],
   "source": [
    "\n",
    "raw_derived = widgets.ToggleButtons(\n",
    "            options=['Raw', 'Derived', 'Unknown'],\n",
    "            value='Raw',\n",
    "            description='6. Is this raw data or a derived/processed data product?',\n",
    "            )\n",
    "\n",
    "observe_model_synthetic = widgets.ToggleButtons(\n",
    "            options=['Observed', 'Modeled', 'Synthetic'],\n",
    "            value='Observed',\n",
    "            description='7. Is this observational data, simulation/model output, or synthetic data?',\n",
    "            )\n",
    "\n",
    "data_sources = widgets.ToggleButtons(\n",
    "            options=['Single-source', 'Aggregated'],\n",
    "            value='Single-source',\n",
    "            description='8. Is the data single-source or aggregated from several sources? ',\n",
    "            )\n",
    "\n",
    "display(raw_derived, observe_model_synthetic, data_sources)"
   ]
  },
  {
   "cell_type": "markdown",
   "id": "7b756c71-6015-4d1a-a019-8be3355438af",
   "metadata": {},
   "source": [
    "---\n",
    "\n",
    "## **2. Data Quality**"
   ]
  },
  {
   "cell_type": "markdown",
   "id": "c5444121-9f6b-4257-90eb-b3e280c227d4",
   "metadata": {
    "editable": true,
    "slideshow": {
     "slide_type": ""
    },
    "tags": []
   },
   "source": [
    "### Data timeliness    "
   ]
  },
  {
   "cell_type": "code",
   "execution_count": 4,
   "id": "72515fef-8b32-45f0-9bdf-8d0ee82e9a1b",
   "metadata": {
    "editable": true,
    "jupyter": {
     "source_hidden": true
    },
    "slideshow": {
     "slide_type": ""
    },
    "tags": []
   },
   "outputs": [
    {
     "data": {
      "application/vnd.jupyter.widget-view+json": {
       "model_id": "a8e75d63543c42f9a0e33e05a30afc86",
       "version_major": 2,
       "version_minor": 0
      },
      "text/plain": [
       "ToggleButtons(description='2.1 Will the dataset be updated?', index=1, options=('Yes', 'No'), value='No')"
      ]
     },
     "metadata": {},
     "output_type": "display_data"
    },
    {
     "data": {
      "application/vnd.jupyter.widget-view+json": {
       "model_id": "e691a2cd2ebf4f3b8e3cedd0e04daa08",
       "version_major": 2,
       "version_minor": 0
      },
      "text/plain": [
       "ToggleButtons(description='If the data will be updated, how often will it be updated?', index=7, layout=Layout…"
      ]
     },
     "metadata": {},
     "output_type": "display_data"
    },
    {
     "data": {
      "application/vnd.jupyter.widget-view+json": {
       "model_id": "65b30ddaf8074a4d87920e67198a21a0",
       "version_major": 2,
       "version_minor": 0
      },
      "text/plain": [
       "ToggleButtons(description='Will there be different stages of the update?', index=2, layout=Layout(display='non…"
      ]
     },
     "metadata": {},
     "output_type": "display_data"
    },
    {
     "data": {
      "application/vnd.jupyter.widget-view+json": {
       "model_id": "e5f94b7b5d6f42de83e87053aeb3fb5d",
       "version_major": 2,
       "version_minor": 0
      },
      "text/plain": [
       "Text(value='', layout=Layout(display='none', width='500px'), placeholder='If yes, what is the delay between di…"
      ]
     },
     "metadata": {},
     "output_type": "display_data"
    },
    {
     "data": {
      "application/vnd.jupyter.widget-view+json": {
       "model_id": "845c90721d7b441e8b9dc53639179ad6",
       "version_major": 2,
       "version_minor": 0
      },
      "text/plain": [
       "ToggleButtons(description='Should the new version of the dataset supersede the current version?', index=2, lay…"
      ]
     },
     "metadata": {},
     "output_type": "display_data"
    }
   ],
   "source": [
    "\n",
    "data_update = widgets.ToggleButtons(\n",
    "            options=['Yes', 'No'],\n",
    "            value='No',\n",
    "            description='2.1 Will the dataset be updated?',\n",
    "            disabled=False\n",
    "            )\n",
    "\n",
    "data_update_frequency = widgets.ToggleButtons(\n",
    "            options=['When data updated', 'Hourly', 'Daily', 'Weekly', 'Monthly', 'Annually', 'Other', \"N/A\"],\n",
    "            value='N/A',\n",
    "            description='If the data will be updated, how often will it be updated?',\n",
    "            disabled=False,\n",
    "            layout=widgets.Layout(display='none'),\n",
    "            )\n",
    "\n",
    "data_update_stages = widgets.ToggleButtons(\n",
    "            options=['Preliminary data first, then updated later', 'Full record', \"N/A\"],\n",
    "            value='N/A',\n",
    "            description='Will there be different stages of the update?',\n",
    "            disabled=False,\n",
    "            layout=widgets.Layout(display='none'),\n",
    "            )\n",
    "\n",
    "data_update_delay = widgets.Text(\n",
    "            value='',\n",
    "            placeholder='If yes, what is the delay between different stages?',\n",
    "            disabled=False,\n",
    "            layout=widgets.Layout(display='none', width='500px'),\n",
    "            )\n",
    "\n",
    "data_update_supersede = widgets.ToggleButtons(\n",
    "            options=['Yes', 'No', \"N/A\"],\n",
    "            value='N/A',\n",
    "            description='Should the new version of the dataset supersede the current version?',\n",
    "            disabled=False,\n",
    "            layout=widgets.Layout(display='none'),\n",
    "            )\n",
    "\n",
    "# Function to change the display setting of the following UI components. \n",
    "def on_click_handler(change): \n",
    "    if change[\"new\"] == \"Yes\":\n",
    "        data_update_frequency.layout.display = ''\n",
    "        data_update_stages.layout.display = ''\n",
    "        data_update_delay.layout.display = ''\n",
    "        data_update_supersede.layout.display = ''\n",
    "    else:\n",
    "        data_update_frequency.layout.display = 'none'\n",
    "        data_update_stages.layout.display = 'none'\n",
    "        data_update_delay.layout.display = 'none'\n",
    "        data_update_supersede.layout.display = 'none'\n",
    "        \n",
    "        # Return the values back to default state if 1st option changed back.\n",
    "        data_update_frequency.value = \"N/A\"\n",
    "        data_update_stages.value = \"N/A\"\n",
    "        data_update_delay.value = \"\"\n",
    "        data_update_supersede.value = \"N/A\"\n",
    "        \n",
    "\n",
    "# Show UI components based on their display settings. \n",
    "display(data_update, data_update_frequency, data_update_stages, data_update_delay, data_update_supersede)\n",
    "\n",
    "# Observe the first UI component for changes and call the on_click_handler function if value property changed. \n",
    "data_update.observe(on_click_handler, names=\"value\")"
   ]
  },
  {
   "cell_type": "markdown",
   "id": "eea71f21-807f-481c-97bb-80c43427f270",
   "metadata": {},
   "source": [
    "### Data completeness"
   ]
  },
  {
   "cell_type": "code",
   "execution_count": 5,
   "id": "3884dd0c-7cc0-4c2d-9f37-4ee8e5eb5741",
   "metadata": {
    "jupyter": {
     "source_hidden": true
    }
   },
   "outputs": [
    {
     "data": {
      "application/vnd.jupyter.widget-view+json": {
       "model_id": "eb8275fabc524eaeb5419018d2364117",
       "version_major": 2,
       "version_minor": 0
      },
      "text/plain": [
       "ToggleButtons(description='2.2 Is there any documentation about the completeness of the dataset?', index=1, op…"
      ]
     },
     "metadata": {},
     "output_type": "display_data"
    },
    {
     "data": {
      "application/vnd.jupyter.widget-view+json": {
       "model_id": "4f5f498486fe4eb59df6dd8f88db1e92",
       "version_major": 2,
       "version_minor": 0
      },
      "text/plain": [
       "Text(value='', layout=Layout(display='none', width='500px'), placeholder='Please provide a link to the documen…"
      ]
     },
     "metadata": {},
     "output_type": "display_data"
    },
    {
     "data": {
      "application/vnd.jupyter.widget-view+json": {
       "model_id": "61d614c6a4dc40c58583b331713bea60",
       "version_major": 2,
       "version_minor": 0
      },
      "text/plain": [
       "ToggleButtons(description='2.3 How complete is the dataset compared to the expected spatial coverage?', index=…"
      ]
     },
     "metadata": {},
     "output_type": "display_data"
    },
    {
     "data": {
      "application/vnd.jupyter.widget-view+json": {
       "model_id": "1cd31f28476e46e2aa9652cb5c4392e7",
       "version_major": 2,
       "version_minor": 0
      },
      "text/plain": [
       "ToggleButtons(description='2.4 How complete is the dataset compared to the expected temporal coverage?', index…"
      ]
     },
     "metadata": {},
     "output_type": "display_data"
    }
   ],
   "source": [
    "\n",
    "completeness_docs = widgets.ToggleButtons(\n",
    "            options=['Yes', 'No'],\n",
    "            value='No',\n",
    "            description='2.2 Is there any documentation about the completeness of the dataset?',\n",
    "            disabled=False\n",
    "            )\n",
    "\n",
    "completeness_docs_link = widgets.Text(\n",
    "            value='',\n",
    "            placeholder='Please provide a link to the document',\n",
    "            disabled=False,\n",
    "            layout=widgets.Layout(display='none', width=\"500px\"),\n",
    "            )\n",
    "\n",
    "expected_spatial_coverage = widgets.ToggleButtons(\n",
    "            options=['Complete', 'Partial', 'Unknown', 'N/A'],\n",
    "            value='Unknown',\n",
    "            description='2.3 How complete is the dataset compared to the expected spatial coverage?',\n",
    "            disabled=False\n",
    "            )\n",
    "\n",
    "expected_temporal_coverage = widgets.ToggleButtons(\n",
    "            options=['Complete', 'Partial', 'Unknown', 'N/A'],\n",
    "            value='Unknown',\n",
    "            description='2.4 How complete is the dataset compared to the expected temporal coverage?',\n",
    "            disabled=False\n",
    "            )\n",
    "\n",
    "# Function to change the display setting of the following UI components. \n",
    "def on_click_handler(change): \n",
    "    if change[\"new\"] == \"Yes\":\n",
    "        completeness_docs_link.layout.display = ''\n",
    "    else:\n",
    "        completeness_docs_link.layout.display = 'none'\n",
    "        \n",
    "        # Return the values back to default state if 1st option changed back.\n",
    "        completeness_docs_link.value = \"\"\n",
    "\n",
    "# Show UI components based on their display settings. \n",
    "display(completeness_docs, completeness_docs_link, expected_spatial_coverage, expected_temporal_coverage)\n",
    "\n",
    "# Observe the first UI component for changes and call the on_click_handler function if value property changed. \n",
    "completeness_docs.observe(on_click_handler, names=\"value\")\n"
   ]
  },
  {
   "cell_type": "markdown",
   "id": "5b56e1f9-6811-446a-a67b-67d04e932be0",
   "metadata": {},
   "source": [
    "### Data consistency"
   ]
  },
  {
   "cell_type": "code",
   "execution_count": 6,
   "id": "e5fcf4e2-015f-4daa-ba16-ac75ebf502f8",
   "metadata": {
    "jupyter": {
     "source_hidden": true
    },
    "scrolled": true
   },
   "outputs": [
    {
     "data": {
      "application/vnd.jupyter.widget-view+json": {
       "model_id": "eecfd267603f4154a33ab0972474abdd",
       "version_major": 2,
       "version_minor": 0
      },
      "text/plain": [
       "ToggleButtons(description='2.5 Is this dataset self-consistent in that its units, data types, and parameter na…"
      ]
     },
     "metadata": {},
     "output_type": "display_data"
    },
    {
     "data": {
      "application/vnd.jupyter.widget-view+json": {
       "model_id": "6d50f177aa164ca5bb4076191c3f16e9",
       "version_major": 2,
       "version_minor": 0
      },
      "text/plain": [
       "ToggleButtons(description='2.6 Is this dataset’s units, data types, and parameter names consistent with simila…"
      ]
     },
     "metadata": {},
     "output_type": "display_data"
    },
    {
     "data": {
      "application/vnd.jupyter.widget-view+json": {
       "model_id": "8d55b60ec5a94774ac82006890215be5",
       "version_major": 2,
       "version_minor": 0
      },
      "text/plain": [
       "ToggleButtons(description='2.7 Are there processes to monitor for units, data types, and parameter consistency…"
      ]
     },
     "metadata": {},
     "output_type": "display_data"
    },
    {
     "data": {
      "application/vnd.jupyter.widget-view+json": {
       "model_id": "f7a5de0016fd4420bf6cf36ebf8956bd",
       "version_major": 2,
       "version_minor": 0
      },
      "text/plain": [
       "Text(value='', layout=Layout(display='none', width='500px'), placeholder='If yes, what measures are taken? Man…"
      ]
     },
     "metadata": {},
     "output_type": "display_data"
    }
   ],
   "source": [
    "\n",
    "self_consistent_units = widgets.ToggleButtons(\n",
    "            options=['Yes', 'No', 'N/A'],\n",
    "            value='N/A',\n",
    "            description='2.5 Is this dataset self-consistent in that its units, data types, and parameter names do not change over time and space?',\n",
    "            disabled=False\n",
    "            )\n",
    "\n",
    "consistent_units = widgets.ToggleButtons(\n",
    "            options=['Yes', 'No', 'N/A'],\n",
    "            value='N/A',\n",
    "            description='2.6 Is this dataset’s units, data types, and parameter names consistent with similar data collections?',\n",
    "            disabled=False\n",
    "            )\n",
    "\n",
    "consistent_unit_monitoring = widgets.ToggleButtons(\n",
    "            options=['Yes', 'No', 'N/A'],\n",
    "            value='N/A',\n",
    "            description='2.7 Are there processes to monitor for units, data types, and parameter consistency?',\n",
    "            disabled=False\n",
    "            )\n",
    "\n",
    "consistent_unit_review = widgets.Text(\n",
    "            value='',\n",
    "            placeholder='If yes, what measures are taken? Manual review / Automated review etc.',\n",
    "            disabled=False,\n",
    "            layout=widgets.Layout(display='none', width=\"500px\"),\n",
    "            )\n",
    "\n",
    "# Function to change the display setting of the following UI components. \n",
    "def on_click_handler(change): \n",
    "    if change[\"new\"] == \"Yes\":\n",
    "        consistent_unit_review.layout.display = ''\n",
    "    else:\n",
    "        consistent_unit_review.layout.display = 'none'\n",
    "        \n",
    "        # Return the values back to default state if 1st option changed back.\n",
    "        consistent_unit_review.value = \"\"\n",
    "\n",
    "# Show UI components based on their display settings. \n",
    "display(self_consistent_units, consistent_units, consistent_unit_monitoring, consistent_unit_review)\n",
    "\n",
    "# Observe the first UI component for changes and call the on_click_handler function if value property changed. \n",
    "consistent_unit_monitoring.observe(on_click_handler, names=\"value\")\n"
   ]
  },
  {
   "cell_type": "markdown",
   "id": "55405b83-c482-41d0-b1a4-df37191f1a9b",
   "metadata": {},
   "source": [
    "### Data bias"
   ]
  },
  {
   "cell_type": "code",
   "execution_count": 7,
   "id": "a792cb9e-46ab-46d6-b6d6-b2347322c904",
   "metadata": {
    "editable": true,
    "jupyter": {
     "source_hidden": true
    },
    "slideshow": {
     "slide_type": ""
    },
    "tags": []
   },
   "outputs": [
    {
     "data": {
      "application/vnd.jupyter.widget-view+json": {
       "model_id": "cca9416607d34bc5bb1abbf9b1f084e5",
       "version_major": 2,
       "version_minor": 0
      },
      "text/plain": [
       "ToggleButtons(description='2.8 Is there known bias in the dataset?', index=2, options=('Yes', 'No', 'Unknown')…"
      ]
     },
     "metadata": {},
     "output_type": "display_data"
    },
    {
     "data": {
      "application/vnd.jupyter.widget-view+json": {
       "model_id": "e1e3f576baf24c8ab0121ccfa047c60d",
       "version_major": 2,
       "version_minor": 0
      },
      "text/plain": [
       "ToggleButtons(description='Have measures been taken to examine bias?', index=3, layout=Layout(display='none'),…"
      ]
     },
     "metadata": {},
     "output_type": "display_data"
    },
    {
     "data": {
      "application/vnd.jupyter.widget-view+json": {
       "model_id": "5003af6dadae480095cd5ca9f48c4860",
       "version_major": 2,
       "version_minor": 0
      },
      "text/plain": [
       "Textarea(value='', layout=Layout(display='none', width='500px'), placeholder='If yes, what measures were used?…"
      ]
     },
     "metadata": {},
     "output_type": "display_data"
    },
    {
     "data": {
      "application/vnd.jupyter.widget-view+json": {
       "model_id": "917665e8dcfb499db0d83fb112943252",
       "version_major": 2,
       "version_minor": 0
      },
      "text/plain": [
       "Textarea(value='', layout=Layout(display='none', width='500px'), placeholder='Is the bias metrological traceab…"
      ]
     },
     "metadata": {},
     "output_type": "display_data"
    },
    {
     "data": {
      "application/vnd.jupyter.widget-view+json": {
       "model_id": "db8c099bba87491f9ec757f04b105e53",
       "version_major": 2,
       "version_minor": 0
      },
      "text/plain": [
       "ToggleButtons(description='Is there reported bias in the data?', index=3, layout=Layout(display='none'), optio…"
      ]
     },
     "metadata": {},
     "output_type": "display_data"
    },
    {
     "data": {
      "application/vnd.jupyter.widget-view+json": {
       "model_id": "f493146dc2f14bcbbda4c30877661898",
       "version_major": 2,
       "version_minor": 0
      },
      "text/plain": [
       "Text(value='', layout=Layout(display='none', width='500px'), placeholder='(optional) Link to the report/docume…"
      ]
     },
     "metadata": {},
     "output_type": "display_data"
    },
    {
     "data": {
      "application/vnd.jupyter.widget-view+json": {
       "model_id": "174f55ca1b1d403f9a4d0561d23030de",
       "version_major": 2,
       "version_minor": 0
      },
      "text/plain": [
       "Text(value='', layout=Layout(display='none', width='500px'), placeholder='(optional) Link to a bias-corrected …"
      ]
     },
     "metadata": {},
     "output_type": "display_data"
    },
    {
     "data": {
      "application/vnd.jupyter.widget-view+json": {
       "model_id": "dfa5a854880b40e5a2f6e7b3312dd3e6",
       "version_major": 2,
       "version_minor": 0
      },
      "text/plain": [
       "Text(value='', layout=Layout(display='none', width='500px'), placeholder='(optional) Link to tools available t…"
      ]
     },
     "metadata": {},
     "output_type": "display_data"
    }
   ],
   "source": [
    "\n",
    "dataset_bias = widgets.ToggleButtons(\n",
    "            options=['Yes', 'No', 'Unknown'],\n",
    "            value='Unknown',\n",
    "            description='2.8 Is there known bias in the dataset?',\n",
    "            )\n",
    "\n",
    "dataset_bias_measures = widgets.ToggleButtons(\n",
    "            options=['Yes', 'No', 'Unknown', 'N/A'],\n",
    "            value='N/A',\n",
    "            description='Have measures been taken to examine bias?',\n",
    "            layout=widgets.Layout(display=\"none\")\n",
    "            )\n",
    "\n",
    "dataset_bias_measures_detail = widgets.Textarea(\n",
    "            value='',\n",
    "            placeholder='If yes, what measures were used?',\n",
    "            layout=widgets.Layout(display=\"none\", width=\"500px\")\n",
    "            )\n",
    "\n",
    "dataset_bias_metrological_traceable = widgets.Textarea(\n",
    "            value='',\n",
    "            placeholder='Is the bias metrological traceable?',\n",
    "            layout=widgets.Layout(display=\"none\", width=\"500px\")\n",
    "            )\n",
    "\n",
    "dataset_bias_report = widgets.ToggleButtons(\n",
    "            options=['No known bias', 'Found and reported', 'No info available', 'N/A'],\n",
    "            value='N/A',\n",
    "            description='Is there reported bias in the data?',\n",
    "            layout=widgets.Layout(display=\"none\")\n",
    "            )\n",
    "\n",
    "dataset_bias_report_link = widgets.Text(\n",
    "            value='',\n",
    "            placeholder='(optional) Link to the report/document on the bias',\n",
    "            layout=widgets.Layout(display=\"none\", width=\"500px\")\n",
    "            )\n",
    "\n",
    "dataset_bias_corrected_link = widgets.Text(\n",
    "            value='',\n",
    "            placeholder='(optional) Link to a bias-corrected or bias-reduced version of the dataset',\n",
    "            layout=widgets.Layout(display=\"none\", width=\"500px\")\n",
    "            )\n",
    "\n",
    "dataset_bias_tools_link = widgets.Text(\n",
    "            value='',\n",
    "            placeholder='(optional) Link to tools available to reduce bias',\n",
    "            layout=widgets.Layout(display=\"none\", width=\"500px\")\n",
    "            )\n",
    "\n",
    "# Function to change the display setting of the following UI components. \n",
    "def on_click_handler(change):    \n",
    "\n",
    "    # Show / hide main trunk of questions. \n",
    "    if dataset_bias.value == \"Yes\":\n",
    "        dataset_bias_measures.layout.display = ''\n",
    "        dataset_bias_report.layout.display = ''\n",
    "        dataset_bias_report_link.layout.display = ''\n",
    "        dataset_bias_corrected_link.layout.display = ''\n",
    "        dataset_bias_tools_link.layout.display = ''\n",
    "\n",
    "    else:   \n",
    "        dataset_bias_measures.layout.display = 'none'\n",
    "        dataset_bias_report.layout.display = 'none'\n",
    "        dataset_bias_report_link.layout.display = 'none'\n",
    "        dataset_bias_corrected_link.layout.display = 'none'\n",
    "        dataset_bias_tools_link.layout.display = 'none'\n",
    "        dataset_bias_measures.value = 'N/A'\n",
    "        dataset_bias_report.value = 'N/A'\n",
    "        dataset_bias_report_link.value = ''\n",
    "        dataset_bias_corrected_link.value = ''\n",
    "        dataset_bias_tools_link.value = ''\n",
    "\n",
    "    # Show / hide 2nd trunk of questions.\n",
    "    if dataset_bias_measures.value == \"Yes\":\n",
    "        dataset_bias_measures_detail.layout.display = ''\n",
    "        dataset_bias_metrological_traceable.layout.display = ''\n",
    "    else:\n",
    "        dataset_bias_measures_detail.layout.display = 'none'\n",
    "        dataset_bias_metrological_traceable.layout.display = 'none'\n",
    "        dataset_bias_measures_detail.value = ''\n",
    "        dataset_bias_metrological_traceable.value = ''\n",
    "        \n",
    "            \n",
    "# Display the UI components\n",
    "display(dataset_bias, dataset_bias_measures, dataset_bias_measures_detail, dataset_bias_metrological_traceable, dataset_bias_report, dataset_bias_report_link, dataset_bias_corrected_link, dataset_bias_tools_link)\n",
    "\n",
    "# Observe UI components for changes and call the on_click_handler function if value property changed. \n",
    "dataset_bias.observe(on_click_handler, names=\"value\")\n",
    "dataset_bias_measures.observe(on_click_handler, names=\"value\")\n",
    "\n"
   ]
  },
  {
   "cell_type": "code",
   "execution_count": 8,
   "id": "aacda1c4-d578-421e-9804-efcc75e53599",
   "metadata": {
    "jupyter": {
     "source_hidden": true
    },
    "scrolled": true
   },
   "outputs": [
    {
     "data": {
      "application/vnd.jupyter.widget-view+json": {
       "model_id": "6a457eea91c147abb399559ca0db82f4",
       "version_major": 2,
       "version_minor": 0
      },
      "text/plain": [
       "ToggleButtons(description='2.9 Is there quantitative information about data resolution in space and time?', in…"
      ]
     },
     "metadata": {},
     "output_type": "display_data"
    },
    {
     "data": {
      "application/vnd.jupyter.widget-view+json": {
       "model_id": "18aaa9f46d8b42969853fc8b13e04243",
       "version_major": 2,
       "version_minor": 0
      },
      "text/plain": [
       "ToggleButtons(description='2.10 Are there published data quality procedures or reports?', index=2, options=('Y…"
      ]
     },
     "metadata": {},
     "output_type": "display_data"
    },
    {
     "data": {
      "application/vnd.jupyter.widget-view+json": {
       "model_id": "2e91b21ab849435e8114211e8dd80bc6",
       "version_major": 2,
       "version_minor": 0
      },
      "text/plain": [
       "Text(value='', layout=Layout(width='500px'), placeholder='If there is published quality information, please pr…"
      ]
     },
     "metadata": {},
     "output_type": "display_data"
    },
    {
     "data": {
      "application/vnd.jupyter.widget-view+json": {
       "model_id": "5228651d24f14ffb9346fdb4d6a4d73f",
       "version_major": 2,
       "version_minor": 0
      },
      "text/plain": [
       "ToggleButtons(description='2.11 Is the provenance of the dataset tracked and documented?', index=2, options=('…"
      ]
     },
     "metadata": {},
     "output_type": "display_data"
    },
    {
     "data": {
      "application/vnd.jupyter.widget-view+json": {
       "model_id": "551cba05ce9a46a5bf65a1ec5bb065d0",
       "version_major": 2,
       "version_minor": 0
      },
      "text/plain": [
       "ToggleButtons(description='2.12 Are there checksums / other checks for data integrity? ', index=2, options=('Y…"
      ]
     },
     "metadata": {},
     "output_type": "display_data"
    }
   ],
   "source": [
    "\n",
    "data_resolution_info = widgets.ToggleButtons(\n",
    "            options=['Yes', 'No', 'N/A'],\n",
    "            value='N/A',\n",
    "            description='2.9 Is there quantitative information about data resolution in space and time?',\n",
    "            )\n",
    "\n",
    "data_quality_report = widgets.ToggleButtons(\n",
    "            options=['Yes', 'No', 'N/A'],\n",
    "            value='N/A',\n",
    "            description='2.10 Are there published data quality procedures or reports?',\n",
    "            )\n",
    "\n",
    "data_quality_report_link = widgets.Text(\n",
    "            value='',\n",
    "            placeholder='If there is published quality information, please provide the link.',\n",
    "            layout=widgets.Layout(width=\"500px\")\n",
    "            )\n",
    "\n",
    "dataset_provenance = widgets.ToggleButtons(\n",
    "            options=['Yes', 'No', 'N/A'],\n",
    "            value='N/A',\n",
    "            description='2.11 Is the provenance of the dataset tracked and documented?',\n",
    "            )\n",
    "\n",
    "data_integrity = widgets.ToggleButtons(\n",
    "            options=['Yes', 'No', 'N/A'],\n",
    "            value='N/A',\n",
    "            description='2.12 Are there checksums / other checks for data integrity? ',\n",
    "            )\n",
    "\n",
    "display(data_resolution_info, data_quality_report, data_quality_report_link, dataset_provenance, data_integrity)"
   ]
  },
  {
   "cell_type": "code",
   "execution_count": 9,
   "id": "962fb6eb-a36f-4239-a613-daac8fefc77c",
   "metadata": {
    "jupyter": {
     "source_hidden": true
    }
   },
   "outputs": [
    {
     "data": {
      "application/vnd.jupyter.widget-view+json": {
       "model_id": "f190ce301cfe4338bae93dd492ed83bc",
       "version_major": 2,
       "version_minor": 0
      },
      "text/plain": [
       "Label(value='2.13 What is the size of the dataset? Depending on the resource, this might be:')"
      ]
     },
     "metadata": {},
     "output_type": "display_data"
    },
    {
     "data": {
      "application/vnd.jupyter.widget-view+json": {
       "model_id": "eeb4a8884d98446c9b02d27367f73aac",
       "version_major": 2,
       "version_minor": 0
      },
      "text/plain": [
       "Text(value='', placeholder='Total data volumn:')"
      ]
     },
     "metadata": {},
     "output_type": "display_data"
    },
    {
     "data": {
      "application/vnd.jupyter.widget-view+json": {
       "model_id": "633c637a1b31426aa31bccf15335fd08",
       "version_major": 2,
       "version_minor": 0
      },
      "text/plain": [
       "HBox(children=(Label(value='Number of data files:'), IntText(value=0, layout=Layout(width='100px'))))"
      ]
     },
     "metadata": {},
     "output_type": "display_data"
    },
    {
     "data": {
      "application/vnd.jupyter.widget-view+json": {
       "model_id": "459da68591fc46f39a05111a13f67c7d",
       "version_major": 2,
       "version_minor": 0
      },
      "text/plain": [
       "HBox(children=(Label(value='Number of data table rows:'), IntText(value=0, layout=Layout(width='100px'))))"
      ]
     },
     "metadata": {},
     "output_type": "display_data"
    },
    {
     "data": {
      "application/vnd.jupyter.widget-view+json": {
       "model_id": "595a980e5d3e4716989db8455e6aa37e",
       "version_major": 2,
       "version_minor": 0
      },
      "text/plain": [
       "HBox(children=(Label(value='Number of data dimensions:'), IntText(value=0, layout=Layout(width='100px'))))"
      ]
     },
     "metadata": {},
     "output_type": "display_data"
    },
    {
     "data": {
      "application/vnd.jupyter.widget-view+json": {
       "model_id": "f82b1ccdf3f74b44b9bba3c357baeec0",
       "version_major": 2,
       "version_minor": 0
      },
      "text/plain": [
       "HBox(children=(Label(value='Number of images:'), IntText(value=0, layout=Layout(width='100px')), Box(layout=La…"
      ]
     },
     "metadata": {},
     "output_type": "display_data"
    }
   ],
   "source": [
    "\n",
    "data_size_question = widgets.Label(\n",
    "    value = '2.13 What is the size of the dataset? Depending on the resource, this might be:'\n",
    ")\n",
    "\n",
    "spacer = widgets.Box(layout=widgets.Layout(width='20px'))\n",
    "\n",
    "total_data_volume = widgets.Text(\n",
    "    value = '',\n",
    "    placeholder='Total data volumn:'\n",
    ")\n",
    "\n",
    "num_data_dimensions_label = widgets.Label(\n",
    "    value = \"Number of data dimensions:\"\n",
    ")\n",
    "\n",
    "num_data_dimensions = widgets.IntText(\n",
    "    value = 0,\n",
    "    layout = widgets.Layout(width=\"100px\")\n",
    ")\n",
    "\n",
    "dimensions = widgets.HBox([num_data_dimensions_label, num_data_dimensions])\n",
    "\n",
    "\n",
    "num_data_files_label = widgets.Label(\n",
    "    value = \"Number of data files:\"\n",
    ")\n",
    "\n",
    "num_data_files = widgets.IntText(\n",
    "    value = 0,\n",
    "    layout = widgets.Layout(width=\"100px\")\n",
    ")\n",
    "\n",
    "data_files = widgets.HBox([num_data_files_label, num_data_files])\n",
    "\n",
    "num_data_rows_label = widgets.Label(\n",
    "    value = \"Number of data table rows:\"\n",
    ")\n",
    "\n",
    "num_data_rows = widgets.IntText(\n",
    "    value = 0,\n",
    "    layout = widgets.Layout(width=\"100px\")\n",
    ")\n",
    "\n",
    "data_rows = widgets.HBox([num_data_rows_label, num_data_rows])\n",
    "\n",
    "num_data_images_label = widgets.Label(\n",
    "    value = \"Number of images:\"\n",
    ")\n",
    "\n",
    "num_data_images = widgets.IntText(\n",
    "    value = 0,\n",
    "    layout = widgets.Layout(width=\"100px\")\n",
    ")\n",
    "\n",
    "num_data_images_size_label = widgets.Label(\n",
    "    value = \"Size of images:\"\n",
    ")\n",
    "\n",
    "num_data_images_size = widgets.Text(\n",
    "    value = '',\n",
    "    placeholder='228 x 228'\n",
    ")\n",
    "\n",
    "images = widgets.HBox([num_data_images_label, num_data_images, spacer, num_data_images_size_label, num_data_images_size])\n",
    "\n",
    "\n",
    "display(data_size_question, total_data_volume, data_files, data_rows, dimensions, images)"
   ]
  },
  {
   "cell_type": "markdown",
   "id": "f8636b2a-2be4-43ea-9517-048263170adb",
   "metadata": {},
   "source": [
    "---\n",
    "\n",
    "## **3. Data Documentation**"
   ]
  },
  {
   "cell_type": "markdown",
   "id": "d2991113-c9d9-4782-bf73-066651005ce5",
   "metadata": {},
   "source": [
    "### Community standard or convention\n"
   ]
  },
  {
   "cell_type": "code",
   "execution_count": 10,
   "id": "670d1474-ce77-4109-8dd9-7da3e470cc55",
   "metadata": {
    "jupyter": {
     "source_hidden": true
    }
   },
   "outputs": [
    {
     "data": {
      "application/vnd.jupyter.widget-view+json": {
       "model_id": "636aaaf78260482abd81f3d210039f8a",
       "version_major": 2,
       "version_minor": 0
      },
      "text/plain": [
       "ToggleButtons(description='3.1 Does the dataset metadata follow a community/domain standard or convention?', i…"
      ]
     },
     "metadata": {},
     "output_type": "display_data"
    },
    {
     "data": {
      "application/vnd.jupyter.widget-view+json": {
       "model_id": "d841877c03c441ff8bd93b318c0494f9",
       "version_major": 2,
       "version_minor": 0
      },
      "text/plain": [
       "Text(value='', layout=Layout(display='none'), placeholder='Which standard is it? (CF, TBD, etc.)')"
      ]
     },
     "metadata": {},
     "output_type": "display_data"
    },
    {
     "data": {
      "application/vnd.jupyter.widget-view+json": {
       "model_id": "84aefcbb86f44af984e1195d51067cad",
       "version_major": 2,
       "version_minor": 0
      },
      "text/plain": [
       "ToggleButtons(description='Is the dataset metadata machine-readable?', index=2, layout=Layout(display='none'),…"
      ]
     },
     "metadata": {},
     "output_type": "display_data"
    },
    {
     "data": {
      "application/vnd.jupyter.widget-view+json": {
       "model_id": "2e2cf69fa00847e4bddd96869a406d68",
       "version_major": 2,
       "version_minor": 0
      },
      "text/plain": [
       "ToggleButtons(description='Does it include details on the spatial and temporal extent?', index=2, layout=Layou…"
      ]
     },
     "metadata": {},
     "output_type": "display_data"
    }
   ],
   "source": [
    "\n",
    "metadata_standard = widgets.ToggleButtons(\n",
    "            options=['Yes', 'No', 'N/A'],\n",
    "            value='N/A',\n",
    "            description='3.1 Does the dataset metadata follow a community/domain standard or convention?',\n",
    "            )\n",
    "\n",
    "metadata_standard_detail = widgets.Text(\n",
    "            value='',\n",
    "            placeholder='Which standard is it? (CF, TBD, etc.)',\n",
    "            layout = widgets.Layout(display=\"none\")\n",
    "            )\n",
    "\n",
    "metadata_machine_readable = widgets.ToggleButtons(\n",
    "            options=['Yes', 'No', 'N/A'],\n",
    "            value='N/A',\n",
    "            description='Is the dataset metadata machine-readable?',\n",
    "            layout = widgets.Layout(display=\"none\")\n",
    "            )\n",
    "\n",
    "metadata_spatial_temporal = widgets.ToggleButtons(\n",
    "            options=['Yes', 'No', 'N/A'],\n",
    "            value='N/A',\n",
    "            description='Does it include details on the spatial and temporal extent?',\n",
    "            layout = widgets.Layout(display=\"none\")\n",
    "            )\n",
    "\n",
    "\n",
    "# Function to change the display setting of the following UI components. \n",
    "def on_click_handler(change):    \n",
    "\n",
    "    # Show / hide main trunk of questions. \n",
    "    if metadata_standard.value == \"Yes\":\n",
    "        metadata_standard_detail.layout.display = ''\n",
    "        metadata_machine_readable.layout.display = ''\n",
    "        metadata_spatial_temporal.layout.display = ''\n",
    "    else: \n",
    "        metadata_standard_detail.layout.display = 'none'\n",
    "        metadata_machine_readable.layout.display = 'none'\n",
    "        metadata_spatial_temporal.layout.display = 'none'\n",
    "        metadata_standard_detail.value = ''\n",
    "        metadata_machine_readable.value = 'N/A'\n",
    "        metadata_spatial_temporal.value = 'N/A'\n",
    "        \n",
    "\n",
    "display(metadata_standard, metadata_standard_detail, metadata_machine_readable, metadata_spatial_temporal)\n",
    "\n",
    "# Observe UI components for changes and call the on_click_handler function if value property changed. \n",
    "metadata_standard.observe(on_click_handler, names=\"value\")"
   ]
  },
  {
   "cell_type": "markdown",
   "id": "6623c23f-c9d6-47ba-b4f0-9c6e777d3d49",
   "metadata": {},
   "source": [
    "### Data dictionary"
   ]
  },
  {
   "cell_type": "code",
   "execution_count": 11,
   "id": "a21fad8b-b633-4122-abcc-6e181ebf4af5",
   "metadata": {
    "jupyter": {
     "source_hidden": true
    }
   },
   "outputs": [
    {
     "data": {
      "application/vnd.jupyter.widget-view+json": {
       "model_id": "3e91d00fb4a24f7089a67af9cb252dde",
       "version_major": 2,
       "version_minor": 0
      },
      "text/plain": [
       "ToggleButtons(description='3.2 Is there a comprehensive data dictionary/codebook that describes what each elem…"
      ]
     },
     "metadata": {},
     "output_type": "display_data"
    },
    {
     "data": {
      "application/vnd.jupyter.widget-view+json": {
       "model_id": "45f11f4f15ba41639002239b81eae023",
       "version_major": 2,
       "version_minor": 0
      },
      "text/plain": [
       "ToggleButtons(description='Is the data dictionary standardized?', index=2, layout=Layout(display='none'), opti…"
      ]
     },
     "metadata": {},
     "output_type": "display_data"
    },
    {
     "data": {
      "application/vnd.jupyter.widget-view+json": {
       "model_id": "b6c23f7ce405492289375426b670aaeb",
       "version_major": 2,
       "version_minor": 0
      },
      "text/plain": [
       "ToggleButtons(description='Is the data dictionary machine-readable?', index=2, layout=Layout(display='none'), …"
      ]
     },
     "metadata": {},
     "output_type": "display_data"
    },
    {
     "data": {
      "application/vnd.jupyter.widget-view+json": {
       "model_id": "b45fe0f611634da0a1cfb0a392b5f3b1",
       "version_major": 2,
       "version_minor": 0
      },
      "text/plain": [
       "ToggleButtons(description='Do the parameters follow a defined standard?', index=2, layout=Layout(display='none…"
      ]
     },
     "metadata": {},
     "output_type": "display_data"
    },
    {
     "data": {
      "application/vnd.jupyter.widget-view+json": {
       "model_id": "326afaa12ae34b3abcbc2b529202f9d3",
       "version_major": 2,
       "version_minor": 0
      },
      "text/plain": [
       "Text(value='', layout=Layout(display='none', width='500px'), placeholder='If the parameters follow a defined s…"
      ]
     },
     "metadata": {},
     "output_type": "display_data"
    },
    {
     "data": {
      "application/vnd.jupyter.widget-view+json": {
       "model_id": "3af9562540004acaabee1e62a308a7a0",
       "version_major": 2,
       "version_minor": 0
      },
      "text/plain": [
       "ToggleButtons(description='Are parameters crosswalked in an ontology or common vocabulary (e.g. NIEM)?', index…"
      ]
     },
     "metadata": {},
     "output_type": "display_data"
    }
   ],
   "source": [
    "\n",
    "data_dictionary = widgets.ToggleButtons(\n",
    "            options=['Yes', 'No', 'N/A'],\n",
    "            value='N/A',\n",
    "            description='3.2 Is there a comprehensive data dictionary/codebook that describes what each element of the dataset means? parameters?',\n",
    "            )\n",
    "\n",
    "data_dictionary_standardized = widgets.ToggleButtons(\n",
    "            options=['Yes', 'No', 'N/A'],\n",
    "            value='N/A',\n",
    "            description='Is the data dictionary standardized?',\n",
    "            layout=widgets.Layout(display=\"none\")\n",
    "            )\n",
    "\n",
    "data_dictionary_machine_readable = widgets.ToggleButtons(\n",
    "            options=['Yes', 'No', 'N/A'],\n",
    "            value='N/A',\n",
    "            description='Is the data dictionary machine-readable?',\n",
    "            layout=widgets.Layout(display=\"none\")\n",
    "            )\n",
    "\n",
    "parameters_defined_standard = widgets.ToggleButtons(\n",
    "            options=['Yes', 'No', 'N/A'],\n",
    "            value='N/A',\n",
    "            description='Do the parameters follow a defined standard?',\n",
    "            layout=widgets.Layout(display=\"none\")\n",
    "            )\n",
    "\n",
    "parameters_defined_standard_detail = widgets.Text(\n",
    "            value='',\n",
    "            placeholder='If the parameters follow a defined standard, which standard it is??',\n",
    "            layout=widgets.Layout(display=\"none\", width=\"500px\")\n",
    "            )\n",
    "\n",
    "parameters_common_vocabulary = widgets.ToggleButtons(\n",
    "            options=['Yes', 'No', 'N/A'],\n",
    "            value='N/A',\n",
    "            description='Are parameters crosswalked in an ontology or common vocabulary (e.g. NIEM)?',\n",
    "            layout=widgets.Layout(display=\"none\")\n",
    "            )\n",
    "\n",
    "# Function to change the display setting of the following UI components. \n",
    "def on_click_handler(change):    \n",
    "\n",
    "    # Show / hide main trunk of questions. \n",
    "    if data_dictionary.value == \"Yes\":\n",
    "        data_dictionary_standardized.layout.display = ''\n",
    "        data_dictionary_machine_readable.layout.display = ''\n",
    "        parameters_defined_standard.layout.display = ''\n",
    "        parameters_defined_standard_detail.layout.display = ''\n",
    "        parameters_common_vocabulary.layout.display = ''\n",
    "\n",
    "    else:   \n",
    "        data_dictionary_standardized.layout.display = 'none'\n",
    "        data_dictionary_machine_readable.layout.display = 'none'\n",
    "        parameters_defined_standard.layout.display = 'none'\n",
    "        parameters_defined_standard_detail.layout.display = 'none'\n",
    "        parameters_common_vocabulary.layout.display = 'none'\n",
    "        data_dictionary_standardized.value = 'N/A'\n",
    "        data_dictionary_machine_readable.value = 'N/A'\n",
    "        parameters_defined_standard.value = 'N/A'\n",
    "        parameters_defined_standard_detail.value = ''\n",
    "        parameters_common_vocabulary.value = 'N/A'\n",
    "\n",
    "            \n",
    "# Display the UI components\n",
    "display(data_dictionary, data_dictionary_standardized, data_dictionary_machine_readable, parameters_defined_standard, parameters_defined_standard_detail, parameters_common_vocabulary)\n",
    "\n",
    "# Observe UI components for changes and call the on_click_handler function if value property changed. \n",
    "data_dictionary.observe(on_click_handler, names=\"value\")\n",
    "\n"
   ]
  },
  {
   "cell_type": "markdown",
   "id": "0b169329-5852-44c5-adbb-6d0ce30812cf",
   "metadata": {},
   "source": [
    "### Unique persistent identifier\n",
    "\n",
    "3. Does the dataset have a unique persistent identifier, e.g. DOI? Yes, [supply identifier] / No / Not applicable\n"
   ]
  },
  {
   "cell_type": "code",
   "execution_count": 12,
   "id": "94e5dc20-8289-463d-a273-5c5b7b7c81eb",
   "metadata": {
    "jupyter": {
     "source_hidden": true
    }
   },
   "outputs": [
    {
     "data": {
      "application/vnd.jupyter.widget-view+json": {
       "model_id": "7dfc9b765113453ab2c89eba7fc23d6e",
       "version_major": 2,
       "version_minor": 0
      },
      "text/plain": [
       "ToggleButtons(description='3.3 Does the dataset have a unique persistent identifier, e.g. DOI?', index=2, opti…"
      ]
     },
     "metadata": {},
     "output_type": "display_data"
    },
    {
     "data": {
      "application/vnd.jupyter.widget-view+json": {
       "model_id": "60ce774695994af7981fa1171808f9ac",
       "version_major": 2,
       "version_minor": 0
      },
      "text/plain": [
       "Text(value='', layout=Layout(width='500px'), placeholder='If yes, please supply identifier')"
      ]
     },
     "metadata": {},
     "output_type": "display_data"
    }
   ],
   "source": [
    "\n",
    "unique_persistent_identifier = widgets.ToggleButtons(\n",
    "            options=['Yes', 'No', 'N/A'],\n",
    "            value='N/A',\n",
    "            description='3.3 Does the dataset have a unique persistent identifier, e.g. DOI?',\n",
    "            )\n",
    "\n",
    "unique_persistent_identifier_link = widgets.Text(\n",
    "            value='',\n",
    "            placeholder='If yes, please supply identifier',\n",
    "            layout=widgets.Layout(width=\"500px\")\n",
    "            )\n",
    "\n",
    "display(unique_persistent_identifier, unique_persistent_identifier_link)"
   ]
  },
  {
   "cell_type": "markdown",
   "id": "fffa0c8f-cea1-4c94-8e21-93dcaa4f7cf3",
   "metadata": {},
   "source": [
    "### Contact information and feedback"
   ]
  },
  {
   "cell_type": "code",
   "execution_count": 13,
   "id": "d609d2cf-6580-4488-bd39-5a607c42ed02",
   "metadata": {
    "jupyter": {
     "source_hidden": true
    }
   },
   "outputs": [
    {
     "data": {
      "application/vnd.jupyter.widget-view+json": {
       "model_id": "85b8c92b819645149a16fa39157b5cfd",
       "version_major": 2,
       "version_minor": 0
      },
      "text/plain": [
       "ToggleButtons(description='3.4 Is there contact information for subject-matter experts?', index=2, options=('Y…"
      ]
     },
     "metadata": {},
     "output_type": "display_data"
    },
    {
     "data": {
      "application/vnd.jupyter.widget-view+json": {
       "model_id": "733f2c224254415fa015e449c4832422",
       "version_major": 2,
       "version_minor": 0
      },
      "text/plain": [
       "ToggleButtons(description='3.5 Is there a mechanism for user feedback and suggestions?', index=2, options=('Ye…"
      ]
     },
     "metadata": {},
     "output_type": "display_data"
    }
   ],
   "source": [
    "\n",
    "contact_info_available = widgets.ToggleButtons(\n",
    "            options=['Yes', 'No', 'N/A'],\n",
    "            value='N/A',\n",
    "            description='3.4 Is there contact information for subject-matter experts?',\n",
    "            )\n",
    "\n",
    "feedback_mechanism_available = widgets.ToggleButtons(\n",
    "            options=['Yes', 'No', 'N/A'],\n",
    "            value='N/A',\n",
    "            description='3.5 Is there a mechanism for user feedback and suggestions?',\n",
    "            )\n",
    "\n",
    "display(contact_info_available, feedback_mechanism_available)\n"
   ]
  },
  {
   "cell_type": "markdown",
   "id": "1ee9173d-e7cb-4959-bc32-ced1247122b9",
   "metadata": {},
   "source": [
    "### Examples codes / notebooks / toolkits\n"
   ]
  },
  {
   "cell_type": "code",
   "execution_count": 14,
   "id": "783c36e6-3f82-4354-b4e1-06dfa99d2485",
   "metadata": {
    "jupyter": {
     "source_hidden": true
    }
   },
   "outputs": [
    {
     "data": {
      "application/vnd.jupyter.widget-view+json": {
       "model_id": "b11cc85461f943c1b596603134ad908c",
       "version_major": 2,
       "version_minor": 0
      },
      "text/plain": [
       "ToggleButtons(description='3.6 Are there example codes / notebooks / toolkits available showing how the data c…"
      ]
     },
     "metadata": {},
     "output_type": "display_data"
    }
   ],
   "source": [
    "\n",
    "example_code_available = widgets.ToggleButtons(\n",
    "            options=['Yes', 'No', 'N/A'],\n",
    "            value='N/A',\n",
    "            description='3.6 Are there example codes / notebooks / toolkits available showing how the data can be used?',\n",
    "            )\n",
    "\n",
    "display(example_code_available)"
   ]
  },
  {
   "cell_type": "markdown",
   "id": "b80cff89-1971-426d-8ddc-c130b22d8294",
   "metadata": {},
   "source": [
    "### Licenses"
   ]
  },
  {
   "cell_type": "code",
   "execution_count": 15,
   "id": "c95e3538-de4e-481c-bfed-b541cb46989e",
   "metadata": {
    "jupyter": {
     "source_hidden": true
    }
   },
   "outputs": [
    {
     "data": {
      "application/vnd.jupyter.widget-view+json": {
       "model_id": "3b31e1141ba94b788e901bdcf7a1aa54",
       "version_major": 2,
       "version_minor": 0
      },
      "text/plain": [
       "Text(value='', layout=Layout(width='500px'), placeholder='3.7 What is the license for the data?')"
      ]
     },
     "metadata": {},
     "output_type": "display_data"
    },
    {
     "data": {
      "application/vnd.jupyter.widget-view+json": {
       "model_id": "8c0513fa101d4d908333bd0c073febfb",
       "version_major": 2,
       "version_minor": 0
      },
      "text/plain": [
       "ToggleButtons(description='Is the license standardized and machine-readable (e.g. Creative Commons)?', index=2…"
      ]
     },
     "metadata": {},
     "output_type": "display_data"
    }
   ],
   "source": [
    "\n",
    "dataset_licence = widgets.Text(\n",
    "            value='',\n",
    "            placeholder='3.7 What is the license for the data?',\n",
    "            layout=widgets.Layout(width=\"500px\")\n",
    "            )\n",
    "\n",
    "dataset_licence_machine_readable = widgets.ToggleButtons(\n",
    "            options=['Yes', 'No', 'N/A'],\n",
    "            value='N/A',\n",
    "            description='Is the license standardized and machine-readable (e.g. Creative Commons)?',\n",
    "            )\n",
    "\n",
    "display(dataset_licence, dataset_licence_machine_readable)"
   ]
  },
  {
   "cell_type": "markdown",
   "id": "47b25bef-3f4d-4a88-b666-b1abefcbac18",
   "metadata": {},
   "source": [
    "### Dataset useage"
   ]
  },
  {
   "cell_type": "code",
   "execution_count": 16,
   "id": "cde4cc94-5bef-4dbd-93fc-6da650a82848",
   "metadata": {
    "jupyter": {
     "source_hidden": true
    },
    "scrolled": true
   },
   "outputs": [
    {
     "data": {
      "application/vnd.jupyter.widget-view+json": {
       "model_id": "14ee9d4221494e3c9bc85e5f68a7f32f",
       "version_major": 2,
       "version_minor": 0
      },
      "text/plain": [
       "Textarea(value='', layout=Layout(width='500px'), placeholder='3.8 Has this dataset already been used in AI or …"
      ]
     },
     "metadata": {},
     "output_type": "display_data"
    },
    {
     "data": {
      "application/vnd.jupyter.widget-view+json": {
       "model_id": "0e64d77849c74cbb985979c2d48e8b9d",
       "version_major": 2,
       "version_minor": 0
      },
      "text/plain": [
       "ToggleButtons(description='3.9 Are there recommendations on the intended use of the data, and uses that are no…"
      ]
     },
     "metadata": {},
     "output_type": "display_data"
    }
   ],
   "source": [
    "\n",
    "ai_ml_existing_useage_links = widgets.Textarea(\n",
    "            value='',\n",
    "            placeholder='3.8 Has this dataset already been used in AI or ML activities? Link to publications/reports',\n",
    "            layout=widgets.Layout(width=\"500px\")\n",
    "            )\n",
    "\n",
    "usage_recomendations = widgets.ToggleButtons(\n",
    "            options=['Yes', 'No', 'N/A'],\n",
    "            value='N/A',\n",
    "            description='3.9 Are there recommendations on the intended use of the data, and uses that are not recommended?',\n",
    "            )\n",
    "\n",
    "display(ai_ml_existing_useage_links, usage_recomendations)"
   ]
  },
  {
   "cell_type": "markdown",
   "id": "ead060fb-06f2-4aae-9078-bf85bc7d9228",
   "metadata": {},
   "source": [
    "---\n",
    "\n",
    "## **4. Data Access**"
   ]
  },
  {
   "cell_type": "markdown",
   "id": "12e3b61f-8d2d-45b1-84e5-edabefbf4277",
   "metadata": {},
   "source": [
    "### File formats"
   ]
  },
  {
   "cell_type": "code",
   "execution_count": 17,
   "id": "77ec0e3b-f57f-4b1a-ae3e-e11da3fd2cd0",
   "metadata": {
    "jupyter": {
     "source_hidden": true
    }
   },
   "outputs": [
    {
     "data": {
      "application/vnd.jupyter.widget-view+json": {
       "model_id": "807d9249091145e7a2ff1ff3192db781",
       "version_major": 2,
       "version_minor": 0
      },
      "text/plain": [
       "Label(value='4.1 What is/are the major file formats? (Use shift / Ctrl / CMD to select multiple)')"
      ]
     },
     "metadata": {},
     "output_type": "display_data"
    },
    {
     "data": {
      "application/vnd.jupyter.widget-view+json": {
       "model_id": "c1e38a17b3a04484aee028637dd2af67",
       "version_major": 2,
       "version_minor": 0
      },
      "text/plain": [
       "SelectMultiple(options=('CSV', 'netCDF', 'geoJSON', 'Shapefile', 'GRIB', 'HDF', 'GeoTIFF', 'KML', 'GINI', 'Zar…"
      ]
     },
     "metadata": {},
     "output_type": "display_data"
    },
    {
     "data": {
      "application/vnd.jupyter.widget-view+json": {
       "model_id": "b2ab20a2769748dbac3e3af7098b1e43",
       "version_major": 2,
       "version_minor": 0
      },
      "text/plain": [
       "ToggleButtons(description='Are the main formats machine-readable?', index=2, options=('Yes', 'No', 'N/A'), val…"
      ]
     },
     "metadata": {},
     "output_type": "display_data"
    },
    {
     "data": {
      "application/vnd.jupyter.widget-view+json": {
       "model_id": "bb9f689d675b4e3a9b03f59b83730862",
       "version_major": 2,
       "version_minor": 0
      },
      "text/plain": [
       "ToggleButtons(description='Is the data available in at least one open, non-proprietary format?', index=2, opti…"
      ]
     },
     "metadata": {},
     "output_type": "display_data"
    },
    {
     "data": {
      "application/vnd.jupyter.widget-view+json": {
       "model_id": "ebac129f85114ad58b40f15d3d088341",
       "version_major": 2,
       "version_minor": 0
      },
      "text/plain": [
       "ToggleButtons(description='Are there tools/services to support data format conversion?', index=2, options=('Ye…"
      ]
     },
     "metadata": {},
     "output_type": "display_data"
    },
    {
     "data": {
      "application/vnd.jupyter.widget-view+json": {
       "model_id": "5566db11f7b84b11b3756727762fdc49",
       "version_major": 2,
       "version_minor": 0
      },
      "text/plain": [
       "Text(value='', layout=Layout(width='500px'), placeholder='If yes, provide the link to the tools/services')"
      ]
     },
     "metadata": {},
     "output_type": "display_data"
    }
   ],
   "source": [
    "\n",
    "dataset_file_formats_label = widgets.Label(\n",
    "    value = \"4.1 What is/are the major file formats? (Use shift / Ctrl / CMD to select multiple)\"\n",
    ")\n",
    "\n",
    "dataset_file_format_options = ['CSV', 'netCDF', 'geoJSON', 'Shapefile', 'GRIB', 'HDF', 'GeoTIFF', 'KML', 'GINI', 'Zarr', 'Other']\n",
    "\n",
    "dataset_file_formats = widgets.SelectMultiple(\n",
    "    options=dataset_file_format_options,\n",
    "    value=(),\n",
    "    rows=len(dataset_file_format_options),\n",
    "    disabled=False\n",
    ")\n",
    "\n",
    "dataset_file_formats_machine_readable = widgets.ToggleButtons(\n",
    "            options=['Yes', 'No', 'N/A'],\n",
    "            value='N/A',\n",
    "            description='Are the main formats machine-readable?',\n",
    "            )\n",
    "\n",
    "dataset_file_formats_non_proprietary = widgets.ToggleButtons(\n",
    "            options=['Yes', 'No', 'N/A'],\n",
    "            value='N/A',\n",
    "            description='Is the data available in at least one open, non-proprietary format?',\n",
    "            )\n",
    "\n",
    "dataset_file_formats_conversion_tools = widgets.ToggleButtons(\n",
    "            options=['Yes', 'No', 'N/A'],\n",
    "            value='N/A',\n",
    "            description='Are there tools/services to support data format conversion?',\n",
    "            )\n",
    "\n",
    "dataset_file_formats_conversion_tools_link = widgets.Text(\n",
    "            value='',\n",
    "            placeholder='If yes, provide the link to the tools/services',\n",
    "            layout=widgets.Layout(width=\"500px\")\n",
    "            )\n",
    "\n",
    "display(dataset_file_formats_label, dataset_file_formats, dataset_file_formats_machine_readable, dataset_file_formats_non_proprietary, dataset_file_formats_conversion_tools, dataset_file_formats_conversion_tools_link)"
   ]
  },
  {
   "cell_type": "markdown",
   "id": "7e3bb476-ba1e-4507-b7f0-55db7ce9710a",
   "metadata": {},
   "source": [
    "### Data delivery"
   ]
  },
  {
   "cell_type": "code",
   "execution_count": 18,
   "id": "acf9768d-6572-4719-b5d3-b95e7e94d2f5",
   "metadata": {
    "jupyter": {
     "source_hidden": true
    }
   },
   "outputs": [
    {
     "data": {
      "application/vnd.jupyter.widget-view+json": {
       "model_id": "f6f2143672ab41c19e260d691a6634e4",
       "version_major": 2,
       "version_minor": 0
      },
      "text/plain": [
       "ToggleButtons(description='4.2 Does data access require authentication (e.g., a registered user account)?', in…"
      ]
     },
     "metadata": {},
     "output_type": "display_data"
    },
    {
     "data": {
      "application/vnd.jupyter.widget-view+json": {
       "model_id": "12d43fedb3124e78b6737da234a0ffc1",
       "version_major": 2,
       "version_minor": 0
      },
      "text/plain": [
       "ToggleButtons(description='4.3 Can the file be accessed via direct file downloading or ordering?', index=2, op…"
      ]
     },
     "metadata": {},
     "output_type": "display_data"
    },
    {
     "data": {
      "application/vnd.jupyter.widget-view+json": {
       "model_id": "8ab54654d33f4ee08f1e49acea935359",
       "version_major": 2,
       "version_minor": 0
      },
      "text/plain": [
       "ToggleButtons(description='4.4 Is there an Application Programming Interface (API) or web service to access th…"
      ]
     },
     "metadata": {},
     "output_type": "display_data"
    },
    {
     "data": {
      "application/vnd.jupyter.widget-view+json": {
       "model_id": "760310fea33d4ce588be6b43e631f579",
       "version_major": 2,
       "version_minor": 0
      },
      "text/plain": [
       "ToggleButtons(description='If there is an API, does the API follow an open standard protocol (e.g., OGC)?', in…"
      ]
     },
     "metadata": {},
     "output_type": "display_data"
    },
    {
     "data": {
      "application/vnd.jupyter.widget-view+json": {
       "model_id": "f218cf8b32274406a335efdbe6b49f72",
       "version_major": 2,
       "version_minor": 0
      },
      "text/plain": [
       "ToggleButtons(description='If there is an API, is there documentation for the API?', index=2, layout=Layout(di…"
      ]
     },
     "metadata": {},
     "output_type": "display_data"
    },
    {
     "data": {
      "application/vnd.jupyter.widget-view+json": {
       "model_id": "c148852a807a4deaa161bd2b27e40138",
       "version_major": 2,
       "version_minor": 0
      },
      "text/plain": [
       "Text(value='', layout=Layout(display='none', width='500px'), placeholder='If “Yes”, please provide a URL to th…"
      ]
     },
     "metadata": {},
     "output_type": "display_data"
    }
   ],
   "source": [
    "\n",
    "dataset_authentication = widgets.ToggleButtons(\n",
    "            options=['Yes', 'No', 'N/A'],\n",
    "            value='N/A',\n",
    "            description='4.2 Does data access require authentication (e.g., a registered user account)?',\n",
    "            )\n",
    "\n",
    "dataset_direct_access = widgets.ToggleButtons(\n",
    "            options=['Yes', 'No', 'N/A'],\n",
    "            value='N/A',\n",
    "            description='4.3 Can the file be accessed via direct file downloading or ordering?',\n",
    "            )\n",
    "\n",
    "dataset_api_available = widgets.ToggleButtons(\n",
    "            options=['Yes', 'No', 'N/A'],\n",
    "            value='N/A',\n",
    "            description='4.4 Is there an Application Programming Interface (API) or web service to access the data?',\n",
    "            )\n",
    "\n",
    "dataset_api_standard_protocol = widgets.ToggleButtons(\n",
    "            options=['Yes', 'No', 'N/A'],\n",
    "            value='N/A',\n",
    "            description='If there is an API, does the API follow an open standard protocol (e.g., OGC)?',\n",
    "            layout=widgets.Layout(display=\"none\")\n",
    "            )\n",
    "\n",
    "dataset_api_documentation_available = widgets.ToggleButtons(\n",
    "            options=['Yes', 'No', 'N/A'],\n",
    "            value='N/A',\n",
    "            description='If there is an API, is there documentation for the API?',\n",
    "            layout=widgets.Layout(display=\"none\")\n",
    "            )\n",
    "\n",
    "dataset_api_documentation_link = widgets.Text(\n",
    "            value='',\n",
    "            placeholder='If “Yes”, please provide a URL to the documentation.',\n",
    "            layout=widgets.Layout(display=\"none\", width=\"500px\")\n",
    "            )\n",
    "\n",
    "\n",
    "\n",
    "# Function to change the display setting of the following UI components. \n",
    "def on_click_handler(change):    \n",
    "\n",
    "    # Show / hide main trunk of questions. \n",
    "    if dataset_api_available.value == \"Yes\":\n",
    "        dataset_api_standard_protocol.layout.display = ''\n",
    "        dataset_api_documentation_available.layout.display = ''\n",
    "        dataset_api_documentation_link.layout.display = ''\n",
    "\n",
    "    else:   \n",
    "        dataset_api_standard_protocol.layout.display = 'none'\n",
    "        dataset_api_documentation_available.layout.display = 'none'\n",
    "        dataset_api_documentation_link.layout.display = 'none'\n",
    "\n",
    "        dataset_api_standard_protocol.value = 'N/A'\n",
    "        dataset_api_documentation_available.value = 'N/A'\n",
    "        dataset_api_documentation_link.value = ''\n",
    "\n",
    "\n",
    "  \n",
    "            \n",
    "# Display the UI components\n",
    "display(dataset_authentication, dataset_direct_access, dataset_api_available, dataset_api_standard_protocol, dataset_api_documentation_available, dataset_api_documentation_link)\n",
    "\n",
    "\n",
    "# Observe UI components for changes and call the on_click_handler function if value property changed. \n",
    "dataset_api_available.observe(on_click_handler, names=\"value\")\n",
    "\n",
    "\n",
    "\n",
    "\n"
   ]
  },
  {
   "cell_type": "markdown",
   "id": "5cb8b683-a629-4616-8074-65e696da6e9a",
   "metadata": {},
   "source": [
    "### Privacy and security\n"
   ]
  },
  {
   "cell_type": "code",
   "execution_count": 19,
   "id": "16e6258a-3aee-42fe-bc61-3161b89a499c",
   "metadata": {
    "jupyter": {
     "source_hidden": true
    }
   },
   "outputs": [
    {
     "data": {
      "application/vnd.jupyter.widget-view+json": {
       "model_id": "53cdc9a4af8a4b5c96558d5cdd842afd",
       "version_major": 2,
       "version_minor": 0
      },
      "text/plain": [
       "ToggleButtons(description='4.5 For restricted data, have measures been taken to provide some access while stil…"
      ]
     },
     "metadata": {},
     "output_type": "display_data"
    },
    {
     "data": {
      "application/vnd.jupyter.widget-view+json": {
       "model_id": "2e0709e8851740789ac4a1fde7730034",
       "version_major": 2,
       "version_minor": 0
      },
      "text/plain": [
       "ToggleButtons(description='4.6 Has the data been aggregated to reduce granularity?', index=2, options=('Yes', …"
      ]
     },
     "metadata": {},
     "output_type": "display_data"
    },
    {
     "data": {
      "application/vnd.jupyter.widget-view+json": {
       "model_id": "48e1d8362be748efb211ebee61a3442d",
       "version_major": 2,
       "version_minor": 0
      },
      "text/plain": [
       "ToggleButtons(description='4.7 Has the data been anonymized / de-identified?', index=2, options=('Yes', 'No', …"
      ]
     },
     "metadata": {},
     "output_type": "display_data"
    },
    {
     "data": {
      "application/vnd.jupyter.widget-view+json": {
       "model_id": "cdea0d3ef12749a1a4706daf6a82de5e",
       "version_major": 2,
       "version_minor": 0
      },
      "text/plain": [
       "ToggleButtons(description='4.8 Is there secure access to the full dataset for authorized users? ', index=2, op…"
      ]
     },
     "metadata": {},
     "output_type": "display_data"
    }
   ],
   "source": [
    "\n",
    "dataset_restricted_protection = widgets.ToggleButtons(\n",
    "            options=['Yes', 'No', 'N/A'],\n",
    "            value='N/A',\n",
    "            description='4.5 For restricted data, have measures been taken to provide some access while still applying appropriate protection for privacy and security?',\n",
    "            )\n",
    "\n",
    "dataset_aggregation = widgets.ToggleButtons(\n",
    "            options=['Yes', 'No', 'N/A'],\n",
    "            value='N/A',\n",
    "            description='4.6 Has the data been aggregated to reduce granularity?',\n",
    "            )\n",
    "\n",
    "dataset_anonymization = widgets.ToggleButtons(\n",
    "            options=['Yes', 'No', 'N/A'],\n",
    "            value='N/A',\n",
    "            description='4.7 Has the data been anonymized / de-identified?',\n",
    "            )\n",
    "\n",
    "dataset_secure_access = widgets.ToggleButtons(\n",
    "            options=['Yes', 'No', 'N/A'],\n",
    "            value='N/A',\n",
    "            description='4.8 Is there secure access to the full dataset for authorized users? ',\n",
    "            )\n",
    "\n",
    "display(dataset_restricted_protection, dataset_aggregation, dataset_anonymization, dataset_secure_access)\n"
   ]
  },
  {
   "cell_type": "markdown",
   "id": "0ef2f783-495b-406e-8c25-5258c410520c",
   "metadata": {},
   "source": [
    "---\n",
    "\n",
    "## **5. Data Preparation**"
   ]
  },
  {
   "cell_type": "markdown",
   "id": "fc47836b-19bb-4d24-b500-884d9e754f78",
   "metadata": {},
   "source": [
    "### Null values"
   ]
  },
  {
   "cell_type": "code",
   "execution_count": 20,
   "id": "598d7fa2-f6c6-451e-9b12-a282d6a70be7",
   "metadata": {
    "jupyter": {
     "source_hidden": true
    }
   },
   "outputs": [
    {
     "data": {
      "application/vnd.jupyter.widget-view+json": {
       "model_id": "0c302f5b07a649d88a81ba83caf3eaf4",
       "version_major": 2,
       "version_minor": 0
      },
      "text/plain": [
       "ToggleButtons(description='5.1 Have null values/gaps been filled?', index=2, options=('Yes', 'No', 'N/A'), val…"
      ]
     },
     "metadata": {},
     "output_type": "display_data"
    }
   ],
   "source": [
    "\n",
    "dataset_null_values = widgets.ToggleButtons(\n",
    "            options=['Yes', 'No', 'N/A'],\n",
    "            value='N/A',\n",
    "            description='5.1 Have null values/gaps been filled?',\n",
    "            )\n",
    "\n",
    "display(dataset_null_values)"
   ]
  },
  {
   "cell_type": "markdown",
   "id": "8cc450ae-d5bb-464d-bc4d-da3f09bcca06",
   "metadata": {},
   "source": [
    "### Outliers"
   ]
  },
  {
   "cell_type": "code",
   "execution_count": 21,
   "id": "8c912605-887f-4b59-b07a-34dfbdc2bc8d",
   "metadata": {
    "jupyter": {
     "source_hidden": true
    }
   },
   "outputs": [
    {
     "data": {
      "application/vnd.jupyter.widget-view+json": {
       "model_id": "17d5127f8db546ab87e8666504d9c2bf",
       "version_major": 2,
       "version_minor": 0
      },
      "text/plain": [
       "ToggleButtons(description='5.2 Have outliers been identified?', index=3, options=('Yes, tagged ', 'Yes, remove…"
      ]
     },
     "metadata": {},
     "output_type": "display_data"
    }
   ],
   "source": [
    "\n",
    "dataset_outliers = widgets.ToggleButtons(\n",
    "            options=['Yes, tagged ', 'Yes, removed', 'No', 'N/A'],\n",
    "            value='N/A',\n",
    "            description='5.2 Have outliers been identified?',\n",
    "            )\n",
    "\n",
    "display(dataset_outliers)\n"
   ]
  },
  {
   "cell_type": "markdown",
   "id": "ad80647b-e571-4b0c-a291-c75c76b867fd",
   "metadata": {},
   "source": [
    "### Gridded data\n"
   ]
  },
  {
   "cell_type": "code",
   "execution_count": 22,
   "id": "45f3adc6-7550-488b-923d-c3d17a912b89",
   "metadata": {
    "jupyter": {
     "source_hidden": true
    }
   },
   "outputs": [
    {
     "data": {
      "application/vnd.jupyter.widget-view+json": {
       "model_id": "73757fdd1f5c45e2afc0a72d7f306650",
       "version_major": 2,
       "version_minor": 0
      },
      "text/plain": [
       "Label(value='5.3 Is the data gridded (regularly sampled in time and space)?')"
      ]
     },
     "metadata": {},
     "output_type": "display_data"
    },
    {
     "data": {
      "application/vnd.jupyter.widget-view+json": {
       "model_id": "b20fee114d674f8ba7d1758cfa669539",
       "version_major": 2,
       "version_minor": 0
      },
      "text/plain": [
       "Select(index=4, layout=Layout(width='500px'), options=('Regularly gridded in space', 'Constant time-frequency'…"
      ]
     },
     "metadata": {},
     "output_type": "display_data"
    },
    {
     "data": {
      "application/vnd.jupyter.widget-view+json": {
       "model_id": "04591dfa4c9a4257b8360aac2b26f05a",
       "version_major": 2,
       "version_minor": 0
      },
      "text/plain": [
       "Label(value='If the data is gridded, was it transformed from a different original sampling?')"
      ]
     },
     "metadata": {},
     "output_type": "display_data"
    },
    {
     "data": {
      "application/vnd.jupyter.widget-view+json": {
       "model_id": "c1318d0c07a64fbf84db78748efcdd8d",
       "version_major": 2,
       "version_minor": 0
      },
      "text/plain": [
       "Select(index=3, layout=Layout(width='500px'), options=('Yes, from irregular sampling', 'Yes, from a different …"
      ]
     },
     "metadata": {},
     "output_type": "display_data"
    },
    {
     "data": {
      "application/vnd.jupyter.widget-view+json": {
       "model_id": "7708f7ea6e024f0395bf0f7bc7291485",
       "version_major": 2,
       "version_minor": 0
      },
      "text/plain": [
       "ToggleButtons(description='If the data is resampled from the original sampling, is the data also available at …"
      ]
     },
     "metadata": {},
     "output_type": "display_data"
    }
   ],
   "source": [
    "\n",
    "dataset_gridded_label = widgets.Label(\n",
    "    value = \"5.3 Is the data gridded (regularly sampled in time and space)?\"\n",
    ")\n",
    "\n",
    "dataset_gridded = widgets.Select(\n",
    "            options=['Regularly gridded in space', 'Constant time-frequency', 'Regularly gridded in space and constant time-frequency', 'Not gridded', 'N/A'],\n",
    "            value='N/A',\n",
    "            layout = widgets.Layout(width='500px')\n",
    "            )\n",
    "\n",
    "dataset_gridded_transformed_label = widgets.Label(\n",
    "    value = \"If the data is gridded, was it transformed from a different original sampling?\"\n",
    ")\n",
    "\n",
    "dataset_gridded_transformed = widgets.Select(\n",
    "            options=['Yes, from irregular sampling', 'Yes, from a different regular sampling', 'No, this is the original sampling', 'N/A'],\n",
    "            value='N/A',\n",
    "            layout = widgets.Layout(width='500px')\n",
    "            )\n",
    "\n",
    "\n",
    "dataset_gridded_original_sample = widgets.ToggleButtons(\n",
    "            options=['Yes', 'No', 'Only by request', 'N/A'],\n",
    "            value='N/A',\n",
    "            description = 'If the data is resampled from the original sampling, is the data also available at the original sampling?'\n",
    "            )\n",
    "\n",
    "display(dataset_gridded_label, dataset_gridded, dataset_gridded_transformed_label, dataset_gridded_transformed, dataset_gridded_original_sample)"
   ]
  },
  {
   "cell_type": "markdown",
   "id": "55a87005-4929-45c3-a2f6-f0b4eec60de8",
   "metadata": {},
   "source": [
    "### Targets / labels for supervised learning"
   ]
  },
  {
   "cell_type": "code",
   "execution_count": 23,
   "id": "e7447fb9-566f-4b99-b5ec-afc9ccc05954",
   "metadata": {
    "jupyter": {
     "source_hidden": true
    }
   },
   "outputs": [
    {
     "data": {
      "application/vnd.jupyter.widget-view+json": {
       "model_id": "ed1bef8cf656457d9d50a9c2a8165d14",
       "version_major": 2,
       "version_minor": 0
      },
      "text/plain": [
       "ToggleButtons(description='5.4 Are there associated targets or labels for supervised learning techniques (i.e.…"
      ]
     },
     "metadata": {},
     "output_type": "display_data"
    },
    {
     "data": {
      "application/vnd.jupyter.widget-view+json": {
       "model_id": "1ab5c28e69d34fcfbacba082c5959fa4",
       "version_major": 2,
       "version_minor": 0
      },
      "text/plain": [
       "Label(value='If there are associated targets/labels, are community labeling standards implemented?')"
      ]
     },
     "metadata": {},
     "output_type": "display_data"
    },
    {
     "data": {
      "application/vnd.jupyter.widget-view+json": {
       "model_id": "75c0b303c6a44aa2b70d33911569c1c0",
       "version_major": 2,
       "version_minor": 0
      },
      "text/plain": [
       "Text(value='', layout=Layout(width='500px'), placeholder='e.g., STAC label extension, ESA AIREO specification,…"
      ]
     },
     "metadata": {},
     "output_type": "display_data"
    }
   ],
   "source": [
    "\n",
    "dataset_targets_or_labels = widgets.ToggleButtons(\n",
    "            options=['Yes', 'No', 'N/A'],\n",
    "            value='N/A',\n",
    "            description = '5.4 Are there associated targets or labels for supervised learning techniques (i.e., can this be used as a training dataset for supervised learning techniques)?'\n",
    "            )\n",
    "\n",
    "dataset_targets_or_labels_standards_label = widgets.Label(\n",
    "    value = \"If there are associated targets/labels, are community labeling standards implemented?\"\n",
    ")\n",
    "\n",
    "dataset_targets_or_labels_standards = widgets.Text(\n",
    "            value = '',\n",
    "            placeholder = 'e.g., STAC label extension, ESA AIREO specification, etc.',\n",
    "            layout = widgets.Layout(width=\"500px\")\n",
    ")\n",
    "\n",
    "display(dataset_targets_or_labels, dataset_targets_or_labels_standards_label, dataset_targets_or_labels_standards )"
   ]
  },
  {
   "cell_type": "markdown",
   "id": "3824aa9e-9d66-4a2e-a1a2-60139f7c30dd",
   "metadata": {},
   "source": [
    "## Finished"
   ]
  },
  {
   "cell_type": "code",
   "execution_count": 24,
   "id": "05ee4ed7-ffac-473e-a8cf-712dce801b4b",
   "metadata": {
    "jupyter": {
     "source_hidden": true
    }
   },
   "outputs": [
    {
     "data": {
      "application/vnd.jupyter.widget-view+json": {
       "model_id": "0e6ef693c3c74ce7bae956be96b44137",
       "version_major": 2,
       "version_minor": 0
      },
      "text/plain": [
       "Button(button_style='info', description='Print checklist', style=ButtonStyle())"
      ]
     },
     "metadata": {},
     "output_type": "display_data"
    },
    {
     "data": {
      "application/vnd.jupyter.widget-view+json": {
       "model_id": "24723b20cbc44fe7bc2f69fc00f9ffca",
       "version_major": 2,
       "version_minor": 0
      },
      "text/plain": [
       "Output()"
      ]
     },
     "metadata": {},
     "output_type": "display_data"
    }
   ],
   "source": [
    "\n",
    "button_finished = widgets.Button(description=\"Print checklist\",  button_style='info')\n",
    "output = widgets.Output()\n",
    "display(button_finished, output)\n",
    "\n",
    "\n",
    "results = {}\n",
    "\n",
    "def generate_results(b):\n",
    "    results[\"1.1 \\tDataset name\"] = dataset_name.value\n",
    "    results[\"1.2 \\tDataset version\"] = dataset_version.value\n",
    "    results[\"1.3 \\tDataset link\"] = dataset_link.value\n",
    "    results[\"1.4 \\tAssessor name\"] = dataset_assessor_name.value\n",
    "    results[\"1.5 \\tAssessor email address\"] = dataset_assessor_email.value\n",
    "    results[\"1.6 \\tData product\"] = raw_derived.value\n",
    "    results[\"1.7 \\tData origin\"] = observe_model_synthetic.value\n",
    "    results[\"1.8 \\tData source\"] = data_sources.value\n",
    "    results[\"2.1 \\tWill dataset be updated\"] = data_update.value\n",
    "    results[\"2.1.1 \\tUpdate frequency\"] = data_update_frequency.value\n",
    "    results[\"2.1.2 \\tUpdate stages\"] = data_update_stages.value\n",
    "    results[\"2.1.3 \\tUpdate delay reason\"] = data_update_delay.value\n",
    "    results[\"2.1.4 \\tShould new version supersede\"] = data_update_supersede.value\n",
    "    results[\"2.2 \\tDataset completeness documentation\"] = completeness_docs.value\n",
    "    results[\"2.2.1 \\tDataset completeness doc link\"] = completeness_docs_link.value\n",
    "    results[\"2.3 \\tDataset completion vs expected spatial coverage\"] = expected_spatial_coverage.value\n",
    "    results[\"2.4 \\tDataset completion vs expected temporal coverage\"] = expected_temporal_coverage.value\n",
    "    results[\"2.5 \\tSelf-consistent units, dtypes, parameters\"] = self_consistent_units.value\n",
    "    results[\"2.6 \\tConsistent units, dtypes, parameter with similar datasets\"] = consistent_units.value\n",
    "    results[\"2.7 \\tConsistent units, dtypes, parameters monitoring \"] = consistent_unit_monitoring.value\n",
    "    results[\"2.7.1 \\tConsistent units, dtypes, parameter monitoring measures\"] = consistent_unit_review.value\n",
    "    results[\"2.8 \\tIs there known bias in the dataset\"] = dataset_bias.value\n",
    "    results[\"2.8.1 \\tHas bias been examined\"] = dataset_bias_measures.value\n",
    "    results[\"2.8.2 \\tBias measures used\"] = dataset_bias_measures_detail.value\n",
    "    results[\"2.8.3 \\tIs bias metrological traceable\"] = dataset_bias_metrological_traceable.value\n",
    "    results[\"2.8.3 \\tReported bias in data\"] = dataset_bias_report.value\n",
    "    results[\"2.8.4 \\tBias report link\"] = dataset_bias_report_link.value\n",
    "    results[\"2.8.5 \\tBias corrected dataset version linke\"] = dataset_bias_report.value\n",
    "    results[\"2.8.6 \\tTools to reduce bias link\"] = dataset_bias_tools_link.value    \n",
    "    results[\"2.9 \\tSpace and time data resolution info\"] = data_resolution_info.value\n",
    "    results[\"2.10 \\tPublished data quality procedures or reports\"] = data_quality_report.value\n",
    "    results[\"2.10.1 \\tIf there is published quality information, please provide the link\"] = data_quality_report_link.value\n",
    "    results[\"2.11 \\tProvenance of the dataset tracked and documented\"] = dataset_provenance.value\n",
    "    results[\"2.12 \\tChecksums / other checks for data integrity\"] = data_integrity.value\n",
    "    results[\"2.13.1 \\tTotal data volume\"] = total_data_volume.value\n",
    "    results[\"2.13.2 \\tNumber of data dimensions\"] = num_data_dimensions.value\n",
    "    results[\"2.13.3 \\tNumber of data files\"] = num_data_files.value\n",
    "    results[\"2.13.4 \\tNumber of data table rows\"] = num_data_rows.value\n",
    "    results[\"2.13.5 \\tNumber of images\"] = num_data_images.value\n",
    "    results[\"2.13.6 \\tSize of images\"] = num_data_images_size.value\n",
    "    results[\"3.2 \\tData dictionary for dataset / parameters\"] = data_dictionary.value\n",
    "    results[\"3.2.1 \\tData dictionary standardized\"] = data_dictionary_standardized.value\n",
    "    results[\"3.2.2 \\tData dictionary machine-readable\"] = data_dictionary_machine_readable.value\n",
    "    results[\"3.2.3 \\tParameters follow a defined standard\"] = parameters_defined_standard.value\n",
    "    results[\"3.2.4 \\tWhich standard to the parameters follow\"] = parameters_defined_standard_detail.value\n",
    "    results[\"3.2.5 \\tAre parameters crosswalked in an ontology or common vocabulary\"] = parameters_common_vocabulary.value\n",
    "    results[\"3.3 \\tHas a unique persistent identifier\"] = unique_persistent_identifier.value\n",
    "    results[\"3.3.1 \\tUnique persistent identifier link\"] = unique_persistent_identifier_link.value\n",
    "    results[\"3.4 \\tContact info available\"] = contact_info_available.value\n",
    "    results[\"3.5 \\tFeedback mechanism available\"] = feedback_mechanism_available.value\n",
    "    results[\"3.6 \\tExample code / notebooks / toolkits\"] = example_code_available.value\n",
    "    results[\"3.7 \\tLicence\"] = dataset_licence.value\n",
    "    results[\"3.7.1 \\tLicence machine-readable\"] = dataset_licence_machine_readable.value\n",
    "    results[\"3.8 \\tAI / ML existing usage links\"] = ai_ml_existing_useage_links.value\n",
    "    results[\"3.9 \\tDataset useage recomendations\"] = usage_recomendations.value\n",
    "    results[\"4.1 \\tWhat is/are the major file formats\"] = dataset_file_formats.value\n",
    "    results[\"4.1.1 \\tMain data formats machine-readable\"] = dataset_file_formats_machine_readable.value\n",
    "    results[\"4.1.2 \\tData available in at least one open, non-proprietary format\"] = dataset_file_formats_non_proprietary.value\n",
    "    results[\"4.1.3 \\tData format conversion tools / services\"] = dataset_file_formats_conversion_tools.value\n",
    "    results[\"4.1.4 \\tData format conversion tools / services link\"] = dataset_file_formats_conversion_tools_link.value\n",
    "    results[\"4.2 \\tDataset requires authentication\"] = dataset_authentication.value\n",
    "    results[\"4.3 \\tDirect file download / order access\"] = dataset_direct_access.value\n",
    "    results[\"4.4 \\tAPI / webservice available\"] = dataset_api_available.value\n",
    "    results[\"4.4.1 \\tAPI follow an open standard protocol\"] = dataset_api_standard_protocol.value\n",
    "    results[\"4.4.2 \\tAPI documentation available\"] = dataset_api_documentation_available.value\n",
    "    results[\"4.4.3 \\tAPI documentation link \"] = dataset_api_documentation_link.value\n",
    "    results[\"4.5 \\tRestricted data with some access but appropriate protections\"] = dataset_restricted_protection.value\n",
    "    results[\"4.6 \\tData aggregated to reduce granularity\"] = dataset_aggregation.value\n",
    "    results[\"4.7 \\tData has been anonymized / de-identified\"] = dataset_anonymization.value\n",
    "    results[\"4.8 \\tSecure access to full dataset for authorized users\"] = dataset_secure_access.value\n",
    "    results[\"5.1 \\tNull values / gaps been filled\"] = dataset_null_values.value\n",
    "    results[\"5.2 \\tOutlier values been identified\"] = dataset_outliers.value\n",
    "    results[\"5.3 \\tIs the data gridded\"] = dataset_gridded.value\n",
    "    results[\"5.3.1 \\tIs gridded data transformed from original sampling\"] = dataset_gridded_transformed.value\n",
    "    results[\"5.3.2 \\tIf data is resampled, is the original sampling available\"] = dataset_gridded_original_sample.value\n",
    "    results[\"5.4 \\tAssociated targets or labels for supervised learning techniques\"] = dataset_targets_or_labels.value\n",
    "    results[\"5.4.1 \\tAre targets or labels community standards implimented\"] = dataset_targets_or_labels_standards.value\n",
    "    \n",
    "    # Print checklist results.      \n",
    "    with output:\n",
    "        clear_output()\n",
    "        print(\"\\n------ CHECKLIST RESULTS ------\\n\")\n",
    "        for key, value in results.items():\n",
    "            #if value != \"\":\n",
    "            print(f\"{key}: {value}\")\n",
    "        \n",
    "button_finished.on_click(generate_results)"
   ]
  },
  {
   "cell_type": "markdown",
   "id": "c760fc3b-f413-46e4-8a76-31684d83a2d2",
   "metadata": {},
   "source": [
    "---\n",
    "\n",
    "## **Appendix** - Definition of terms used in the checklist."
   ]
  },
  {
   "cell_type": "markdown",
   "id": "76b55144-23ad-41ed-bdb2-6b347026d278",
   "metadata": {},
   "source": [
    "### Quality\n",
    "* **Completeness**: the breadth of a dataset compared to an ideal 100% completion (spatial, temporal, demographic, etc.); important in avoiding sampling bias\n",
    "* **Consistency**: uniformity within the entire dataset or compared with similar data collections; for example, no changes in units or data types over time; the item measured against itself or its a counterpart in another dataset or database\n",
    "* **Bias**: a systematic tilt in the dataset when compared to a reference, caused for example by instrumentation, incorrect data processing, unrepresentative sampling, or human error; the exact nature of bias and how it is measured will vary depending on the type of data and the research domain.\n",
    "* **Uncertainty**: parameter, associated with the result of a measurement, that characterizes the dispersion of the values that could reasonably be attributed to the measurand.\n",
    "* **Timeliness**: the speed of data release, compared to when an event occurred or measurements were made; requirements will vary depending on the timeframe of the phenomenon (e.g., severe thunderstorms vs. climate change, or disease outbreaks vs. life expectancy trends)\n",
    "* **Provenance**: identification of the data sources, how it was processed, and who released it.\n",
    "* **Integrity**: verification that the data remains unchanged from the original; aka data fixity."
   ]
  },
  {
   "cell_type": "markdown",
   "id": "7e4e52d2-20ae-497a-8b99-3e219893c35f",
   "metadata": {},
   "source": [
    "### Documentation\n",
    "* **Dataset Metadata**: complete information about the dataset: quality, provenance, location, time period, responsible parties, purpose, etc.\n",
    "* **Data Dictionary/Codebook**: complete information about the individual variables / measures / parameters within a dataset: type, units, null value, etc.\n",
    "* **Identifier**: a code or number that uniquely identifies a dataset\n",
    "* **Ontology**: formalized definitions of concepts within a domain of knowledge, and the nature of the inter-relationships among those concepts"
   ]
  },
  {
   "cell_type": "markdown",
   "id": "d5efc4cd-4a6d-4226-a29e-314bcc526d22",
   "metadata": {},
   "source": [
    "### Data Access\n",
    "\n",
    "* **Formats**: standards that govern how information is stored in a computer file (e.g., CSV, JSON, GeoTIFF, etc.); different AI user communities will have different requirements, so the best practice is to provide several format options to meet the needs of multiple high priority user communities.\n",
    "* **Delivery Options**: mechanisms for publishing open data for public use (e.g., direct file download, Application Programming Interface (API), cloud services, etc.); different AI user communities will have different requirements, so the best practice is to provide several delivery options to meet the needs of multiple high priority user communities.\n",
    "* **License/Usage Rights**: information on who is allowed to use the data and for what purposes, including data sharing agreements, fees, etc.; some federal data needs to have restrictions and some will be fully open, so rights should be documented in detail\n",
    "* **Security/Privacy**: protection of data that is restricted in some way (privacy, proprietary/business information, national security, etc.)\n"
   ]
  }
 ],
 "metadata": {
  "kernelspec": {
   "display_name": "Python 3 (ipykernel)",
   "language": "python",
   "name": "python3"
  },
  "language_info": {
   "codemirror_mode": {
    "name": "ipython",
    "version": 3
   },
   "file_extension": ".py",
   "mimetype": "text/x-python",
   "name": "python",
   "nbconvert_exporter": "python",
   "pygments_lexer": "ipython3",
   "version": "3.11.8"
  },
  "widgets": {
   "application/vnd.jupyter.widget-state+json": {
    "state": {
     "00f3b41937d240608ae5ffe1bf55cde6": {
      "model_module": "@jupyter-widgets/controls",
      "model_module_version": "2.0.0",
      "model_name": "ToggleButtonsStyleModel",
      "state": {
       "button_width": "",
       "description_width": ""
      }
     },
     "02846c6da6004103a23afa736452c75a": {
      "model_module": "@jupyter-widgets/controls",
      "model_module_version": "2.0.0",
      "model_name": "DescriptionStyleModel",
      "state": {
       "description_width": ""
      }
     },
     "02d0bcec75614afc85f4805ef198b919": {
      "model_module": "@jupyter-widgets/base",
      "model_module_version": "2.0.0",
      "model_name": "LayoutModel",
      "state": {}
     },
     "04591dfa4c9a4257b8360aac2b26f05a": {
      "model_module": "@jupyter-widgets/controls",
      "model_module_version": "2.0.0",
      "model_name": "LabelModel",
      "state": {
       "layout": "IPY_MODEL_6cd9d11ffeae475a8e6196fbd1037988",
       "style": "IPY_MODEL_90346fe261804d5b8dd1697dbd84d271",
       "value": "If the data is gridded, was it transformed from a different original sampling?"
      }
     },
     "04c7210761a54f5bbf54a9c223ef4378": {
      "model_module": "@jupyter-widgets/base",
      "model_module_version": "2.0.0",
      "model_name": "LayoutModel",
      "state": {}
     },
     "05357eb79cac4a738141119ed6981d24": {
      "model_module": "@jupyter-widgets/controls",
      "model_module_version": "2.0.0",
      "model_name": "ToggleButtonsStyleModel",
      "state": {
       "button_width": "",
       "description_width": ""
      }
     },
     "073afc62293847c29bf6e99c322a03e8": {
      "model_module": "@jupyter-widgets/controls",
      "model_module_version": "2.0.0",
      "model_name": "TextModel",
      "state": {
       "layout": "IPY_MODEL_f360cabd586e47efbf58739316ee9003",
       "placeholder": "1.1 Dataset name",
       "style": "IPY_MODEL_fefd06da478947639d979954691d4846"
      }
     },
     "0796081bb92f4b53abb7a2eed50c5b90": {
      "model_module": "@jupyter-widgets/base",
      "model_module_version": "2.0.0",
      "model_name": "LayoutModel",
      "state": {}
     },
     "09467723065d4a0fab22e32dece025bb": {
      "model_module": "@jupyter-widgets/base",
      "model_module_version": "2.0.0",
      "model_name": "LayoutModel",
      "state": {
       "width": "500px"
      }
     },
     "0bd3e83042ee40ec80ba07dc7f23347e": {
      "model_module": "@jupyter-widgets/base",
      "model_module_version": "2.0.0",
      "model_name": "LayoutModel",
      "state": {}
     },
     "0c266109cc164d1aa5437a70fc4de60d": {
      "model_module": "@jupyter-widgets/controls",
      "model_module_version": "2.0.0",
      "model_name": "ToggleButtonsStyleModel",
      "state": {
       "button_width": "",
       "description_width": ""
      }
     },
     "0c302f5b07a649d88a81ba83caf3eaf4": {
      "model_module": "@jupyter-widgets/controls",
      "model_module_version": "2.0.0",
      "model_name": "ToggleButtonsModel",
      "state": {
       "_options_labels": [
        "Yes",
        "No",
        "N/A"
       ],
       "button_style": "",
       "description": "5.1 Have null values/gaps been filled?",
       "icons": [],
       "index": 2,
       "layout": "IPY_MODEL_0bd3e83042ee40ec80ba07dc7f23347e",
       "style": "IPY_MODEL_c24a5958f429475f8e49329c3fe5daa2",
       "tooltips": []
      }
     },
     "0ccfcd2cc39141418f93faed84452e9f": {
      "model_module": "@jupyter-widgets/controls",
      "model_module_version": "2.0.0",
      "model_name": "ToggleButtonsStyleModel",
      "state": {
       "button_width": "",
       "description_width": ""
      }
     },
     "0d3a3a1f587641fd9b4f3827a48b01ce": {
      "model_module": "@jupyter-widgets/controls",
      "model_module_version": "2.0.0",
      "model_name": "TextStyleModel",
      "state": {
       "description_width": "",
       "font_size": null,
       "text_color": null
      }
     },
     "0e64d77849c74cbb985979c2d48e8b9d": {
      "model_module": "@jupyter-widgets/controls",
      "model_module_version": "2.0.0",
      "model_name": "ToggleButtonsModel",
      "state": {
       "_options_labels": [
        "Yes",
        "No",
        "N/A"
       ],
       "button_style": "",
       "description": "3.9 Are there recommendations on the intended use of the data, and uses that are not recommended?",
       "icons": [],
       "index": 2,
       "layout": "IPY_MODEL_33a9d59a43ca48039bf958232363983c",
       "style": "IPY_MODEL_00f3b41937d240608ae5ffe1bf55cde6",
       "tooltips": []
      }
     },
     "0e6ef693c3c74ce7bae956be96b44137": {
      "model_module": "@jupyter-widgets/controls",
      "model_module_version": "2.0.0",
      "model_name": "ButtonModel",
      "state": {
       "button_style": "info",
       "description": "Print checklist",
       "layout": "IPY_MODEL_fe95d5560cfb41709a9bf4f91742ddd4",
       "style": "IPY_MODEL_b0dd34f9196b476fb3889e5810bf33a4",
       "tooltip": null
      }
     },
     "1009a9b6c280441d8888cb5b9205f10e": {
      "model_module": "@jupyter-widgets/base",
      "model_module_version": "2.0.0",
      "model_name": "LayoutModel",
      "state": {
       "width": "500px"
      }
     },
     "10272c2033ce49d4b3d9edb312b458d7": {
      "model_module": "@jupyter-widgets/controls",
      "model_module_version": "2.0.0",
      "model_name": "TextModel",
      "state": {
       "layout": "IPY_MODEL_7baeb230849b4a12bdb72e60cea08bc2",
       "placeholder": "1.2. Dataset version",
       "style": "IPY_MODEL_329bc7afd0a44fb59b903bce2f07ecbe"
      }
     },
     "12d43fedb3124e78b6737da234a0ffc1": {
      "model_module": "@jupyter-widgets/controls",
      "model_module_version": "2.0.0",
      "model_name": "ToggleButtonsModel",
      "state": {
       "_options_labels": [
        "Yes",
        "No",
        "N/A"
       ],
       "button_style": "",
       "description": "4.3 Can the file be accessed via direct file downloading or ordering?",
       "icons": [],
       "index": 2,
       "layout": "IPY_MODEL_75509986d4e240178dffacfa2ccb2fcb",
       "style": "IPY_MODEL_49719e23686e445ba5792b08adf3bcdd",
       "tooltips": []
      }
     },
     "1433fec121944bb8a06089e9a2fe0eb7": {
      "model_module": "@jupyter-widgets/base",
      "model_module_version": "2.0.0",
      "model_name": "LayoutModel",
      "state": {
       "display": "none",
       "width": "500px"
      }
     },
     "14ee9d4221494e3c9bc85e5f68a7f32f": {
      "model_module": "@jupyter-widgets/controls",
      "model_module_version": "2.0.0",
      "model_name": "TextareaModel",
      "state": {
       "layout": "IPY_MODEL_22ebb9a34d8843098a3f7fba32cabf5d",
       "placeholder": "3.8 Has this dataset already been used in AI or ML activities? Link to publications/reports",
       "style": "IPY_MODEL_3e57b3b9834842cdbb087cac732d1c29"
      }
     },
     "15b68f8447434f889cc4d1c380efbf57": {
      "model_module": "@jupyter-widgets/base",
      "model_module_version": "2.0.0",
      "model_name": "LayoutModel",
      "state": {
       "display": "none",
       "width": "500px"
      }
     },
     "15ba11b8ffa44bc0b4b9b481a8d58acc": {
      "model_module": "@jupyter-widgets/base",
      "model_module_version": "2.0.0",
      "model_name": "LayoutModel",
      "state": {
       "display": "none"
      }
     },
     "174f55ca1b1d403f9a4d0561d23030de": {
      "model_module": "@jupyter-widgets/controls",
      "model_module_version": "2.0.0",
      "model_name": "TextModel",
      "state": {
       "layout": "IPY_MODEL_1433fec121944bb8a06089e9a2fe0eb7",
       "placeholder": "(optional) Link to a bias-corrected or bias-reduced version of the dataset",
       "style": "IPY_MODEL_8cbb9dab60e14687b5ec1a2ada678e68"
      }
     },
     "17582f37cda2484880351f99625c944b": {
      "model_module": "@jupyter-widgets/controls",
      "model_module_version": "2.0.0",
      "model_name": "ToggleButtonsStyleModel",
      "state": {
       "button_width": "",
       "description_width": ""
      }
     },
     "17d5127f8db546ab87e8666504d9c2bf": {
      "model_module": "@jupyter-widgets/controls",
      "model_module_version": "2.0.0",
      "model_name": "ToggleButtonsModel",
      "state": {
       "_options_labels": [
        "Yes, tagged ",
        "Yes, removed",
        "No",
        "N/A"
       ],
       "button_style": "",
       "description": "5.2 Have outliers been identified?",
       "icons": [],
       "index": 3,
       "layout": "IPY_MODEL_77a90a50f9524267bb8869829f03fe98",
       "style": "IPY_MODEL_769650d6926a497bb91ab1bd97624ca1",
       "tooltips": []
      }
     },
     "18031244b3c84c92b4cdd93f87d6d423": {
      "model_module": "@jupyter-widgets/controls",
      "model_module_version": "2.0.0",
      "model_name": "TextStyleModel",
      "state": {
       "description_width": "",
       "font_size": null,
       "text_color": null
      }
     },
     "1823e1af24d045c1939610d521ab672e": {
      "model_module": "@jupyter-widgets/base",
      "model_module_version": "2.0.0",
      "model_name": "LayoutModel",
      "state": {
       "display": "none"
      }
     },
     "1858f781fe204e10b039b193bc8c766c": {
      "model_module": "@jupyter-widgets/base",
      "model_module_version": "2.0.0",
      "model_name": "LayoutModel",
      "state": {}
     },
     "18aaa9f46d8b42969853fc8b13e04243": {
      "model_module": "@jupyter-widgets/controls",
      "model_module_version": "2.0.0",
      "model_name": "ToggleButtonsModel",
      "state": {
       "_options_labels": [
        "Yes",
        "No",
        "N/A"
       ],
       "button_style": "",
       "description": "2.10 Are there published data quality procedures or reports?",
       "icons": [],
       "index": 2,
       "layout": "IPY_MODEL_fe767b9d9d1e43819396143e4b6ac7b6",
       "style": "IPY_MODEL_c3f39dc2476d41018bb5ade3a5ac20a5",
       "tooltips": []
      }
     },
     "1a3de260603a48a688f6326dad1ceac0": {
      "model_module": "@jupyter-widgets/controls",
      "model_module_version": "2.0.0",
      "model_name": "ToggleButtonsStyleModel",
      "state": {
       "button_width": "",
       "description_width": ""
      }
     },
     "1a845f2d6ac04a52ac1776787d0a7e1e": {
      "model_module": "@jupyter-widgets/base",
      "model_module_version": "2.0.0",
      "model_name": "LayoutModel",
      "state": {}
     },
     "1ab5c28e69d34fcfbacba082c5959fa4": {
      "model_module": "@jupyter-widgets/controls",
      "model_module_version": "2.0.0",
      "model_name": "LabelModel",
      "state": {
       "layout": "IPY_MODEL_8366d11cfdb14bfd956cd7fbc886eb7b",
       "style": "IPY_MODEL_3107c9eb103b4aa1a8e5709dc5db95cf",
       "value": "If there are associated targets/labels, are community labeling standards implemented?"
      }
     },
     "1cd31f28476e46e2aa9652cb5c4392e7": {
      "model_module": "@jupyter-widgets/controls",
      "model_module_version": "2.0.0",
      "model_name": "ToggleButtonsModel",
      "state": {
       "_options_labels": [
        "Complete",
        "Partial",
        "Unknown",
        "N/A"
       ],
       "button_style": "",
       "description": "2.4 How complete is the dataset compared to the expected temporal coverage?",
       "icons": [],
       "index": 2,
       "layout": "IPY_MODEL_fd77e4b00b264313adabb80fce0ab2cc",
       "style": "IPY_MODEL_2ad9377dd76841c4b2433d5e71e0d75a",
       "tooltips": []
      }
     },
     "1cfe170d247e48e0b82821bc3c609d3e": {
      "model_module": "@jupyter-widgets/controls",
      "model_module_version": "2.0.0",
      "model_name": "IntTextModel",
      "state": {
       "layout": "IPY_MODEL_28c6a49382214ec1a297ba806fca1a68",
       "step": 1,
       "style": "IPY_MODEL_51e142e18c99422e83b88b716963725a"
      }
     },
     "1f3857d5b7de4ba7bedece7dbcf9ecc9": {
      "model_module": "@jupyter-widgets/controls",
      "model_module_version": "2.0.0",
      "model_name": "TextStyleModel",
      "state": {
       "description_width": "",
       "font_size": null,
       "text_color": null
      }
     },
     "1f4b3d9d32914fdf947589e1125004b7": {
      "model_module": "@jupyter-widgets/base",
      "model_module_version": "2.0.0",
      "model_name": "LayoutModel",
      "state": {}
     },
     "1f63d239c459417bb7aa272e276b7d13": {
      "model_module": "@jupyter-widgets/controls",
      "model_module_version": "2.0.0",
      "model_name": "TextStyleModel",
      "state": {
       "description_width": "",
       "font_size": null,
       "text_color": null
      }
     },
     "203004d86b554ebfa13c06a43ccf314d": {
      "model_module": "@jupyter-widgets/base",
      "model_module_version": "2.0.0",
      "model_name": "LayoutModel",
      "state": {
       "display": "none"
      }
     },
     "205ce804631a421e8cf232937c15e658": {
      "model_module": "@jupyter-widgets/base",
      "model_module_version": "2.0.0",
      "model_name": "LayoutModel",
      "state": {}
     },
     "217c0526ccd3434cb552ee3af34a756c": {
      "model_module": "@jupyter-widgets/base",
      "model_module_version": "2.0.0",
      "model_name": "LayoutModel",
      "state": {}
     },
     "22ebb9a34d8843098a3f7fba32cabf5d": {
      "model_module": "@jupyter-widgets/base",
      "model_module_version": "2.0.0",
      "model_name": "LayoutModel",
      "state": {
       "width": "500px"
      }
     },
     "23c28c106bf048f49aa015139736aa70": {
      "model_module": "@jupyter-widgets/base",
      "model_module_version": "2.0.0",
      "model_name": "LayoutModel",
      "state": {}
     },
     "24723b20cbc44fe7bc2f69fc00f9ffca": {
      "model_module": "@jupyter-widgets/output",
      "model_module_version": "1.0.0",
      "model_name": "OutputModel",
      "state": {
       "layout": "IPY_MODEL_77ef1c7e78374d16b81ffb5f33dc03c4"
      }
     },
     "256839d4dc924474ba4261244865a3b4": {
      "model_module": "@jupyter-widgets/controls",
      "model_module_version": "2.0.0",
      "model_name": "ToggleButtonsStyleModel",
      "state": {
       "button_width": "",
       "description_width": ""
      }
     },
     "26320bb27bbf41348bb8666a7a167aaa": {
      "model_module": "@jupyter-widgets/base",
      "model_module_version": "2.0.0",
      "model_name": "LayoutModel",
      "state": {}
     },
     "277964fa2e8a41fbaf868394ce8a7c61": {
      "model_module": "@jupyter-widgets/controls",
      "model_module_version": "2.0.0",
      "model_name": "TextStyleModel",
      "state": {
       "description_width": "",
       "font_size": null,
       "text_color": null
      }
     },
     "28c6a49382214ec1a297ba806fca1a68": {
      "model_module": "@jupyter-widgets/base",
      "model_module_version": "2.0.0",
      "model_name": "LayoutModel",
      "state": {
       "width": "100px"
      }
     },
     "28ddc3b19a18417686d0dcabd089ccdb": {
      "model_module": "@jupyter-widgets/base",
      "model_module_version": "2.0.0",
      "model_name": "LayoutModel",
      "state": {
       "display": "none",
       "width": "500px"
      }
     },
     "29091b8e01354979b07d2137425ae535": {
      "model_module": "@jupyter-widgets/base",
      "model_module_version": "2.0.0",
      "model_name": "LayoutModel",
      "state": {}
     },
     "296eb116acce4c86bf390b207d598a9c": {
      "model_module": "@jupyter-widgets/controls",
      "model_module_version": "2.0.0",
      "model_name": "TextStyleModel",
      "state": {
       "description_width": "",
       "font_size": null,
       "text_color": null
      }
     },
     "2a2e487683ce4bfdb9894932a0db7ff1": {
      "model_module": "@jupyter-widgets/controls",
      "model_module_version": "2.0.0",
      "model_name": "ToggleButtonsModel",
      "state": {
       "_options_labels": [
        "Raw",
        "Derived",
        "Unknown"
       ],
       "button_style": "",
       "description": "6. Is this raw data or a derived/processed data product?",
       "icons": [],
       "index": 0,
       "layout": "IPY_MODEL_2e693eeb4c4546288ffbbf9056ee70df",
       "style": "IPY_MODEL_6929a2d6db674146a2cb1aa2f15dd972",
       "tooltips": []
      }
     },
     "2a6b9fe662d8482693c76cf65dbae74b": {
      "model_module": "@jupyter-widgets/controls",
      "model_module_version": "2.0.0",
      "model_name": "TextStyleModel",
      "state": {
       "description_width": "",
       "font_size": null,
       "text_color": null
      }
     },
     "2ad9377dd76841c4b2433d5e71e0d75a": {
      "model_module": "@jupyter-widgets/controls",
      "model_module_version": "2.0.0",
      "model_name": "ToggleButtonsStyleModel",
      "state": {
       "button_width": "",
       "description_width": ""
      }
     },
     "2e0709e8851740789ac4a1fde7730034": {
      "model_module": "@jupyter-widgets/controls",
      "model_module_version": "2.0.0",
      "model_name": "ToggleButtonsModel",
      "state": {
       "_options_labels": [
        "Yes",
        "No",
        "N/A"
       ],
       "button_style": "",
       "description": "4.6 Has the data been aggregated to reduce granularity?",
       "icons": [],
       "index": 2,
       "layout": "IPY_MODEL_1a845f2d6ac04a52ac1776787d0a7e1e",
       "style": "IPY_MODEL_f98b1a262bce4ca5b8b42e00a977d205",
       "tooltips": []
      }
     },
     "2e2cf69fa00847e4bddd96869a406d68": {
      "model_module": "@jupyter-widgets/controls",
      "model_module_version": "2.0.0",
      "model_name": "ToggleButtonsModel",
      "state": {
       "_options_labels": [
        "Yes",
        "No",
        "N/A"
       ],
       "button_style": "",
       "description": "Does it include details on the spatial and temporal extent?",
       "icons": [],
       "index": 2,
       "layout": "IPY_MODEL_88016924f1a94d858ccab1827e64a20a",
       "style": "IPY_MODEL_37e5558b24a049988d8540cb4a99917f",
       "tooltips": []
      }
     },
     "2e693eeb4c4546288ffbbf9056ee70df": {
      "model_module": "@jupyter-widgets/base",
      "model_module_version": "2.0.0",
      "model_name": "LayoutModel",
      "state": {}
     },
     "2e6cba980bc64988b8cac5f3ad47c000": {
      "model_module": "@jupyter-widgets/controls",
      "model_module_version": "2.0.0",
      "model_name": "DescriptionStyleModel",
      "state": {
       "description_width": ""
      }
     },
     "2e91b21ab849435e8114211e8dd80bc6": {
      "model_module": "@jupyter-widgets/controls",
      "model_module_version": "2.0.0",
      "model_name": "TextModel",
      "state": {
       "layout": "IPY_MODEL_f0f40f670e684829bf8756f8c1af2792",
       "placeholder": "If there is published quality information, please provide the link.",
       "style": "IPY_MODEL_7c60c2ab8efb406092b4cc5e8c7fc0a7"
      }
     },
     "307ad5752a784997876dac32a39f87ba": {
      "model_module": "@jupyter-widgets/base",
      "model_module_version": "2.0.0",
      "model_name": "LayoutModel",
      "state": {}
     },
     "3107c9eb103b4aa1a8e5709dc5db95cf": {
      "model_module": "@jupyter-widgets/controls",
      "model_module_version": "2.0.0",
      "model_name": "LabelStyleModel",
      "state": {
       "description_width": "",
       "font_family": null,
       "font_size": null,
       "font_style": null,
       "font_variant": null,
       "font_weight": null,
       "text_color": null,
       "text_decoration": null
      }
     },
     "326afaa12ae34b3abcbc2b529202f9d3": {
      "model_module": "@jupyter-widgets/controls",
      "model_module_version": "2.0.0",
      "model_name": "TextModel",
      "state": {
       "layout": "IPY_MODEL_ae7fd27aca934d339f62e92d4e5483fb",
       "placeholder": "If the parameters follow a defined standard, which standard it is??",
       "style": "IPY_MODEL_61159b9f955b4328bd4f5e17186dd584"
      }
     },
     "329bc7afd0a44fb59b903bce2f07ecbe": {
      "model_module": "@jupyter-widgets/controls",
      "model_module_version": "2.0.0",
      "model_name": "TextStyleModel",
      "state": {
       "description_width": "",
       "font_size": null,
       "text_color": null
      }
     },
     "32fefd8a5dc0410c9e47db75e686b37e": {
      "model_module": "@jupyter-widgets/base",
      "model_module_version": "2.0.0",
      "model_name": "LayoutModel",
      "state": {}
     },
     "33a9d59a43ca48039bf958232363983c": {
      "model_module": "@jupyter-widgets/base",
      "model_module_version": "2.0.0",
      "model_name": "LayoutModel",
      "state": {}
     },
     "36ac4a7add8f4a17a9149934a984dda9": {
      "model_module": "@jupyter-widgets/controls",
      "model_module_version": "2.0.0",
      "model_name": "TextStyleModel",
      "state": {
       "description_width": "",
       "font_size": null,
       "text_color": null
      }
     },
     "37e5558b24a049988d8540cb4a99917f": {
      "model_module": "@jupyter-widgets/controls",
      "model_module_version": "2.0.0",
      "model_name": "ToggleButtonsStyleModel",
      "state": {
       "button_width": "",
       "description_width": ""
      }
     },
     "37e5a316c20e427c9406676d9bf5228f": {
      "model_module": "@jupyter-widgets/base",
      "model_module_version": "2.0.0",
      "model_name": "LayoutModel",
      "state": {}
     },
     "3929af50f58d466982dee29b59a63e42": {
      "model_module": "@jupyter-widgets/controls",
      "model_module_version": "2.0.0",
      "model_name": "ToggleButtonsModel",
      "state": {
       "_options_labels": [
        "Observed",
        "Modeled",
        "Synthetic"
       ],
       "button_style": "",
       "description": "7. Is this observational data, simulation/model output, or synthetic data?",
       "icons": [],
       "index": 0,
       "layout": "IPY_MODEL_1f4b3d9d32914fdf947589e1125004b7",
       "style": "IPY_MODEL_675ba7674af34f579482839b11429e79",
       "tooltips": []
      }
     },
     "39b0c5a41dd54f70bcb322e0831e8bdf": {
      "model_module": "@jupyter-widgets/controls",
      "model_module_version": "2.0.0",
      "model_name": "ToggleButtonsStyleModel",
      "state": {
       "button_width": "",
       "description_width": ""
      }
     },
     "3af9562540004acaabee1e62a308a7a0": {
      "model_module": "@jupyter-widgets/controls",
      "model_module_version": "2.0.0",
      "model_name": "ToggleButtonsModel",
      "state": {
       "_options_labels": [
        "Yes",
        "No",
        "N/A"
       ],
       "button_style": "",
       "description": "Are parameters crosswalked in an ontology or common vocabulary (e.g. NIEM)?",
       "icons": [],
       "index": 2,
       "layout": "IPY_MODEL_5534545c9b7b4bf6a174936f06b86fa3",
       "style": "IPY_MODEL_0ccfcd2cc39141418f93faed84452e9f",
       "tooltips": []
      }
     },
     "3b31e1141ba94b788e901bdcf7a1aa54": {
      "model_module": "@jupyter-widgets/controls",
      "model_module_version": "2.0.0",
      "model_name": "TextModel",
      "state": {
       "layout": "IPY_MODEL_1009a9b6c280441d8888cb5b9205f10e",
       "placeholder": "3.7 What is the license for the data?",
       "style": "IPY_MODEL_1f3857d5b7de4ba7bedece7dbcf9ecc9"
      }
     },
     "3ba6254773dc4c24be456c8495a5df95": {
      "model_module": "@jupyter-widgets/controls",
      "model_module_version": "2.0.0",
      "model_name": "ToggleButtonsStyleModel",
      "state": {
       "button_width": "",
       "description_width": ""
      }
     },
     "3ce64f50dc0d4b65b2b7df290360a654": {
      "model_module": "@jupyter-widgets/base",
      "model_module_version": "2.0.0",
      "model_name": "LayoutModel",
      "state": {}
     },
     "3d0fbafbce114864b9c14f87dd5d2f39": {
      "model_module": "@jupyter-widgets/controls",
      "model_module_version": "2.0.0",
      "model_name": "TextStyleModel",
      "state": {
       "description_width": "",
       "font_size": null,
       "text_color": null
      }
     },
     "3e57b3b9834842cdbb087cac732d1c29": {
      "model_module": "@jupyter-widgets/controls",
      "model_module_version": "2.0.0",
      "model_name": "TextStyleModel",
      "state": {
       "description_width": "",
       "font_size": null,
       "text_color": null
      }
     },
     "3e91d00fb4a24f7089a67af9cb252dde": {
      "model_module": "@jupyter-widgets/controls",
      "model_module_version": "2.0.0",
      "model_name": "ToggleButtonsModel",
      "state": {
       "_options_labels": [
        "Yes",
        "No",
        "N/A"
       ],
       "button_style": "",
       "description": "3.2 Is there a comprehensive data dictionary/codebook that describes what each element of the dataset means? parameters?",
       "icons": [],
       "index": 2,
       "layout": "IPY_MODEL_307ad5752a784997876dac32a39f87ba",
       "style": "IPY_MODEL_d824825c1b3e486c81de8a8630b7eef9",
       "tooltips": []
      }
     },
     "3eb2b839ecea4617b99995edabc7a521": {
      "model_module": "@jupyter-widgets/controls",
      "model_module_version": "2.0.0",
      "model_name": "TextStyleModel",
      "state": {
       "description_width": "",
       "font_size": null,
       "text_color": null
      }
     },
     "4076cec20a8641f1b8896e627a87520d": {
      "model_module": "@jupyter-widgets/controls",
      "model_module_version": "2.0.0",
      "model_name": "TextStyleModel",
      "state": {
       "description_width": "",
       "font_size": null,
       "text_color": null
      }
     },
     "423947ad8ad44c0ab784260bbfbffc83": {
      "model_module": "@jupyter-widgets/controls",
      "model_module_version": "2.0.0",
      "model_name": "LabelStyleModel",
      "state": {
       "description_width": "",
       "font_family": null,
       "font_size": null,
       "font_style": null,
       "font_variant": null,
       "font_weight": null,
       "text_color": null,
       "text_decoration": null
      }
     },
     "42c47a7bb7c54acc80e3a191db1b9d93": {
      "model_module": "@jupyter-widgets/controls",
      "model_module_version": "2.0.0",
      "model_name": "ToggleButtonsStyleModel",
      "state": {
       "button_width": "",
       "description_width": ""
      }
     },
     "44dd3b4a88bf4d678f030a2d546a23b5": {
      "model_module": "@jupyter-widgets/controls",
      "model_module_version": "2.0.0",
      "model_name": "ToggleButtonsStyleModel",
      "state": {
       "button_width": "",
       "description_width": ""
      }
     },
     "458d0056546d431097694d1fac958e78": {
      "model_module": "@jupyter-widgets/base",
      "model_module_version": "2.0.0",
      "model_name": "LayoutModel",
      "state": {}
     },
     "459da68591fc46f39a05111a13f67c7d": {
      "model_module": "@jupyter-widgets/controls",
      "model_module_version": "2.0.0",
      "model_name": "HBoxModel",
      "state": {
       "children": [
        "IPY_MODEL_af38151111044b7ba564ca771883f2a7",
        "IPY_MODEL_1cfe170d247e48e0b82821bc3c609d3e"
       ],
       "layout": "IPY_MODEL_a64594d219cc44f2b6bcba0e407b53cd"
      }
     },
     "45f11f4f15ba41639002239b81eae023": {
      "model_module": "@jupyter-widgets/controls",
      "model_module_version": "2.0.0",
      "model_name": "ToggleButtonsModel",
      "state": {
       "_options_labels": [
        "Yes",
        "No",
        "N/A"
       ],
       "button_style": "",
       "description": "Is the data dictionary standardized?",
       "icons": [],
       "index": 2,
       "layout": "IPY_MODEL_94a649f0b5aa49a89db7d505b9b4c8b0",
       "style": "IPY_MODEL_b9d7b3309d23430d827b734cdc6fc643",
       "tooltips": []
      }
     },
     "48e1d8362be748efb211ebee61a3442d": {
      "model_module": "@jupyter-widgets/controls",
      "model_module_version": "2.0.0",
      "model_name": "ToggleButtonsModel",
      "state": {
       "_options_labels": [
        "Yes",
        "No",
        "N/A"
       ],
       "button_style": "",
       "description": "4.7 Has the data been anonymized / de-identified?",
       "icons": [],
       "index": 2,
       "layout": "IPY_MODEL_5daa5452ec42458180e652d8545468f3",
       "style": "IPY_MODEL_8fc8dfc6504641cbbd122dba7b87ee0e",
       "tooltips": []
      }
     },
     "49719e23686e445ba5792b08adf3bcdd": {
      "model_module": "@jupyter-widgets/controls",
      "model_module_version": "2.0.0",
      "model_name": "ToggleButtonsStyleModel",
      "state": {
       "button_width": "",
       "description_width": ""
      }
     },
     "49b2895ca33940a39ee55c3dcdde2456": {
      "model_module": "@jupyter-widgets/controls",
      "model_module_version": "2.0.0",
      "model_name": "ToggleButtonsStyleModel",
      "state": {
       "button_width": "",
       "description_width": ""
      }
     },
     "4f5f498486fe4eb59df6dd8f88db1e92": {
      "model_module": "@jupyter-widgets/controls",
      "model_module_version": "2.0.0",
      "model_name": "TextModel",
      "state": {
       "layout": "IPY_MODEL_15b68f8447434f889cc4d1c380efbf57",
       "placeholder": "Please provide a link to the document",
       "style": "IPY_MODEL_1f63d239c459417bb7aa272e276b7d13"
      }
     },
     "5003af6dadae480095cd5ca9f48c4860": {
      "model_module": "@jupyter-widgets/controls",
      "model_module_version": "2.0.0",
      "model_name": "TextareaModel",
      "state": {
       "layout": "IPY_MODEL_cfad0a0db0e74c448d19149017cb64c5",
       "placeholder": "If yes, what measures were used?",
       "style": "IPY_MODEL_59cd899436124fed91c29d58fba471eb"
      }
     },
     "5007867e93914f6098e936abf4511d04": {
      "model_module": "@jupyter-widgets/base",
      "model_module_version": "2.0.0",
      "model_name": "LayoutModel",
      "state": {
       "display": "none"
      }
     },
     "50ffb07e61bb46e99964ae1d1ec7a369": {
      "model_module": "@jupyter-widgets/controls",
      "model_module_version": "2.0.0",
      "model_name": "ToggleButtonsStyleModel",
      "state": {
       "button_width": "",
       "description_width": ""
      }
     },
     "51061a4440bf4069a8be2e38d1634fcb": {
      "model_module": "@jupyter-widgets/base",
      "model_module_version": "2.0.0",
      "model_name": "LayoutModel",
      "state": {
       "width": "100px"
      }
     },
     "5167f49714154e59aa469df724de7bc7": {
      "model_module": "@jupyter-widgets/controls",
      "model_module_version": "2.0.0",
      "model_name": "LabelModel",
      "state": {
       "layout": "IPY_MODEL_77311428c5424b08a286f93ee68b7755",
       "style": "IPY_MODEL_9ad21cfbc4b84dbc8df0bd566f80732b",
       "value": "Size of images:"
      }
     },
     "51e142e18c99422e83b88b716963725a": {
      "model_module": "@jupyter-widgets/controls",
      "model_module_version": "2.0.0",
      "model_name": "DescriptionStyleModel",
      "state": {
       "description_width": ""
      }
     },
     "5228651d24f14ffb9346fdb4d6a4d73f": {
      "model_module": "@jupyter-widgets/controls",
      "model_module_version": "2.0.0",
      "model_name": "ToggleButtonsModel",
      "state": {
       "_options_labels": [
        "Yes",
        "No",
        "N/A"
       ],
       "button_style": "",
       "description": "2.11 Is the provenance of the dataset tracked and documented?",
       "icons": [],
       "index": 2,
       "layout": "IPY_MODEL_fbde7905f5cb49c690a5883b077b6f10",
       "style": "IPY_MODEL_679324c2825a466383805d1f3d07b21b",
       "tooltips": []
      }
     },
     "529473998a7341c588ef085e69b7d259": {
      "model_module": "@jupyter-widgets/base",
      "model_module_version": "2.0.0",
      "model_name": "LayoutModel",
      "state": {}
     },
     "5308d2b990c246b09eea6f1ab50b25ee": {
      "model_module": "@jupyter-widgets/base",
      "model_module_version": "2.0.0",
      "model_name": "LayoutModel",
      "state": {}
     },
     "53cdc9a4af8a4b5c96558d5cdd842afd": {
      "model_module": "@jupyter-widgets/controls",
      "model_module_version": "2.0.0",
      "model_name": "ToggleButtonsModel",
      "state": {
       "_options_labels": [
        "Yes",
        "No",
        "N/A"
       ],
       "button_style": "",
       "description": "4.5 For restricted data, have measures been taken to provide some access while still applying appropriate protection for privacy and security?",
       "icons": [],
       "index": 2,
       "layout": "IPY_MODEL_02d0bcec75614afc85f4805ef198b919",
       "style": "IPY_MODEL_cab657a533324bc1b4b9295374070c42",
       "tooltips": []
      }
     },
     "550f625356e04ad4999c4c7ea2f4351c": {
      "model_module": "@jupyter-widgets/controls",
      "model_module_version": "2.0.0",
      "model_name": "LabelStyleModel",
      "state": {
       "description_width": "",
       "font_family": null,
       "font_size": null,
       "font_style": null,
       "font_variant": null,
       "font_weight": null,
       "text_color": null,
       "text_decoration": null
      }
     },
     "551cba05ce9a46a5bf65a1ec5bb065d0": {
      "model_module": "@jupyter-widgets/controls",
      "model_module_version": "2.0.0",
      "model_name": "ToggleButtonsModel",
      "state": {
       "_options_labels": [
        "Yes",
        "No",
        "N/A"
       ],
       "button_style": "",
       "description": "2.12 Are there checksums / other checks for data integrity? ",
       "icons": [],
       "index": 2,
       "layout": "IPY_MODEL_95e99909e5f7469ba2c167369371ed8e",
       "style": "IPY_MODEL_623454e068994718b38e2e465ea5592f",
       "tooltips": []
      }
     },
     "5534545c9b7b4bf6a174936f06b86fa3": {
      "model_module": "@jupyter-widgets/base",
      "model_module_version": "2.0.0",
      "model_name": "LayoutModel",
      "state": {
       "display": "none"
      }
     },
     "5566db11f7b84b11b3756727762fdc49": {
      "model_module": "@jupyter-widgets/controls",
      "model_module_version": "2.0.0",
      "model_name": "TextModel",
      "state": {
       "layout": "IPY_MODEL_86715a2c705c43b8a3af318f80f416b8",
       "placeholder": "If yes, provide the link to the tools/services",
       "style": "IPY_MODEL_e3a415aac49e4043827cc4e4ad43bed1"
      }
     },
     "583588f64c894b6194ed12de01f622af": {
      "model_module": "@jupyter-widgets/controls",
      "model_module_version": "2.0.0",
      "model_name": "BoxModel",
      "state": {
       "layout": "IPY_MODEL_e7f357ec40dc460c90a35e63a443f064"
      }
     },
     "595a980e5d3e4716989db8455e6aa37e": {
      "model_module": "@jupyter-widgets/controls",
      "model_module_version": "2.0.0",
      "model_name": "HBoxModel",
      "state": {
       "children": [
        "IPY_MODEL_8358992989424c77a359e365f6fc9b4f",
        "IPY_MODEL_a2efebdb8f18469ea8e04696b5b0eeff"
       ],
       "layout": "IPY_MODEL_930ca44ebd764d79ba428b81a3c95b6a"
      }
     },
     "595cdf87a62f486cbc46f810288c229b": {
      "model_module": "@jupyter-widgets/base",
      "model_module_version": "2.0.0",
      "model_name": "LayoutModel",
      "state": {}
     },
     "59cd899436124fed91c29d58fba471eb": {
      "model_module": "@jupyter-widgets/controls",
      "model_module_version": "2.0.0",
      "model_name": "TextStyleModel",
      "state": {
       "description_width": "",
       "font_size": null,
       "text_color": null
      }
     },
     "5b97a3671d7146078579b13a62f163fe": {
      "model_module": "@jupyter-widgets/controls",
      "model_module_version": "2.0.0",
      "model_name": "ToggleButtonsStyleModel",
      "state": {
       "button_width": "",
       "description_width": ""
      }
     },
     "5d9e63e340ab41b8829422d03cef43c9": {
      "model_module": "@jupyter-widgets/controls",
      "model_module_version": "2.0.0",
      "model_name": "ToggleButtonsStyleModel",
      "state": {
       "button_width": "",
       "description_width": ""
      }
     },
     "5daa5452ec42458180e652d8545468f3": {
      "model_module": "@jupyter-widgets/base",
      "model_module_version": "2.0.0",
      "model_name": "LayoutModel",
      "state": {}
     },
     "5e583e5a0f6f489b99295ddd8de63b4d": {
      "model_module": "@jupyter-widgets/controls",
      "model_module_version": "2.0.0",
      "model_name": "DescriptionStyleModel",
      "state": {
       "description_width": ""
      }
     },
     "5fabf624ff3d41ef83d6d170c33f7dca": {
      "model_module": "@jupyter-widgets/base",
      "model_module_version": "2.0.0",
      "model_name": "LayoutModel",
      "state": {}
     },
     "60ce774695994af7981fa1171808f9ac": {
      "model_module": "@jupyter-widgets/controls",
      "model_module_version": "2.0.0",
      "model_name": "TextModel",
      "state": {
       "layout": "IPY_MODEL_d0e193d396194e928aa5d09d360dae39",
       "placeholder": "If yes, please supply identifier",
       "style": "IPY_MODEL_3eb2b839ecea4617b99995edabc7a521"
      }
     },
     "61159b9f955b4328bd4f5e17186dd584": {
      "model_module": "@jupyter-widgets/controls",
      "model_module_version": "2.0.0",
      "model_name": "TextStyleModel",
      "state": {
       "description_width": "",
       "font_size": null,
       "text_color": null
      }
     },
     "61d614c6a4dc40c58583b331713bea60": {
      "model_module": "@jupyter-widgets/controls",
      "model_module_version": "2.0.0",
      "model_name": "ToggleButtonsModel",
      "state": {
       "_options_labels": [
        "Complete",
        "Partial",
        "Unknown",
        "N/A"
       ],
       "button_style": "",
       "description": "2.3 How complete is the dataset compared to the expected spatial coverage?",
       "icons": [],
       "index": 2,
       "layout": "IPY_MODEL_f4d3f25dacc94bfeb0ac3dad738044e8",
       "style": "IPY_MODEL_c38edd81edca4c8891a93bba612e63b6",
       "tooltips": []
      }
     },
     "623454e068994718b38e2e465ea5592f": {
      "model_module": "@jupyter-widgets/controls",
      "model_module_version": "2.0.0",
      "model_name": "ToggleButtonsStyleModel",
      "state": {
       "button_width": "",
       "description_width": ""
      }
     },
     "633c637a1b31426aa31bccf15335fd08": {
      "model_module": "@jupyter-widgets/controls",
      "model_module_version": "2.0.0",
      "model_name": "HBoxModel",
      "state": {
       "children": [
        "IPY_MODEL_6900ccb7a25c46fc999562c6ab48c10c",
        "IPY_MODEL_6ca103b3f15a4cccb3fa1836acf31b84"
       ],
       "layout": "IPY_MODEL_6c64a78eebd240b691df6903a066236a"
      }
     },
     "636aaaf78260482abd81f3d210039f8a": {
      "model_module": "@jupyter-widgets/controls",
      "model_module_version": "2.0.0",
      "model_name": "ToggleButtonsModel",
      "state": {
       "_options_labels": [
        "Yes",
        "No",
        "N/A"
       ],
       "button_style": "",
       "description": "3.1 Does the dataset metadata follow a community/domain standard or convention?",
       "icons": [],
       "index": 2,
       "layout": "IPY_MODEL_8c4e4052b6c647df909b1ac19e27fe50",
       "style": "IPY_MODEL_99f4756390bf42dab0fe42fe787576e4",
       "tooltips": []
      }
     },
     "65b30ddaf8074a4d87920e67198a21a0": {
      "model_module": "@jupyter-widgets/controls",
      "model_module_version": "2.0.0",
      "model_name": "ToggleButtonsModel",
      "state": {
       "_options_labels": [
        "Preliminary data first, then updated later",
        "Full record",
        "N/A"
       ],
       "button_style": "",
       "description": "Will there be different stages of the update?",
       "icons": [],
       "index": 2,
       "layout": "IPY_MODEL_bfd43322264a4644b0a26a4352b53976",
       "style": "IPY_MODEL_44dd3b4a88bf4d678f030a2d546a23b5",
       "tooltips": []
      }
     },
     "675ba7674af34f579482839b11429e79": {
      "model_module": "@jupyter-widgets/controls",
      "model_module_version": "2.0.0",
      "model_name": "ToggleButtonsStyleModel",
      "state": {
       "button_width": "",
       "description_width": ""
      }
     },
     "679324c2825a466383805d1f3d07b21b": {
      "model_module": "@jupyter-widgets/controls",
      "model_module_version": "2.0.0",
      "model_name": "ToggleButtonsStyleModel",
      "state": {
       "button_width": "",
       "description_width": ""
      }
     },
     "67c509c55aa246378b5cb72978bc8171": {
      "model_module": "@jupyter-widgets/controls",
      "model_module_version": "2.0.0",
      "model_name": "LabelStyleModel",
      "state": {
       "description_width": "",
       "font_family": null,
       "font_size": null,
       "font_style": null,
       "font_variant": null,
       "font_weight": null,
       "text_color": null,
       "text_decoration": null
      }
     },
     "6900ccb7a25c46fc999562c6ab48c10c": {
      "model_module": "@jupyter-widgets/controls",
      "model_module_version": "2.0.0",
      "model_name": "LabelModel",
      "state": {
       "layout": "IPY_MODEL_458d0056546d431097694d1fac958e78",
       "style": "IPY_MODEL_550f625356e04ad4999c4c7ea2f4351c",
       "value": "Number of data files:"
      }
     },
     "6929a2d6db674146a2cb1aa2f15dd972": {
      "model_module": "@jupyter-widgets/controls",
      "model_module_version": "2.0.0",
      "model_name": "ToggleButtonsStyleModel",
      "state": {
       "button_width": "",
       "description_width": ""
      }
     },
     "6a457eea91c147abb399559ca0db82f4": {
      "model_module": "@jupyter-widgets/controls",
      "model_module_version": "2.0.0",
      "model_name": "ToggleButtonsModel",
      "state": {
       "_options_labels": [
        "Yes",
        "No",
        "N/A"
       ],
       "button_style": "",
       "description": "2.9 Is there quantitative information about data resolution in space and time?",
       "icons": [],
       "index": 2,
       "layout": "IPY_MODEL_26320bb27bbf41348bb8666a7a167aaa",
       "style": "IPY_MODEL_a16cc240b42b4a849e118682ca844dde",
       "tooltips": []
      }
     },
     "6ac9f04d3fa6425ba066bd348d8639ad": {
      "model_module": "@jupyter-widgets/controls",
      "model_module_version": "2.0.0",
      "model_name": "TextModel",
      "state": {
       "layout": "IPY_MODEL_6d65106df07740d69bad22ba5248facf",
       "placeholder": "1.4. Assessor name",
       "style": "IPY_MODEL_2a6b9fe662d8482693c76cf65dbae74b"
      }
     },
     "6b12c6543cef4833b1517854497416e2": {
      "model_module": "@jupyter-widgets/base",
      "model_module_version": "2.0.0",
      "model_name": "LayoutModel",
      "state": {}
     },
     "6b65eb35b647405b83ea9ff56e92eddc": {
      "model_module": "@jupyter-widgets/controls",
      "model_module_version": "2.0.0",
      "model_name": "LabelStyleModel",
      "state": {
       "description_width": "",
       "font_family": null,
       "font_size": null,
       "font_style": null,
       "font_variant": null,
       "font_weight": null,
       "text_color": null,
       "text_decoration": null
      }
     },
     "6bb465483d034b9ca4007f9c78c0d0ed": {
      "model_module": "@jupyter-widgets/base",
      "model_module_version": "2.0.0",
      "model_name": "LayoutModel",
      "state": {}
     },
     "6c64a78eebd240b691df6903a066236a": {
      "model_module": "@jupyter-widgets/base",
      "model_module_version": "2.0.0",
      "model_name": "LayoutModel",
      "state": {}
     },
     "6ca103b3f15a4cccb3fa1836acf31b84": {
      "model_module": "@jupyter-widgets/controls",
      "model_module_version": "2.0.0",
      "model_name": "IntTextModel",
      "state": {
       "layout": "IPY_MODEL_f9a4b9f4c98f406aa4dd9ed37da699dc",
       "step": 1,
       "style": "IPY_MODEL_02846c6da6004103a23afa736452c75a"
      }
     },
     "6cd9d11ffeae475a8e6196fbd1037988": {
      "model_module": "@jupyter-widgets/base",
      "model_module_version": "2.0.0",
      "model_name": "LayoutModel",
      "state": {}
     },
     "6d50f177aa164ca5bb4076191c3f16e9": {
      "model_module": "@jupyter-widgets/controls",
      "model_module_version": "2.0.0",
      "model_name": "ToggleButtonsModel",
      "state": {
       "_options_labels": [
        "Yes",
        "No",
        "N/A"
       ],
       "button_style": "",
       "description": "2.6 Is this dataset’s units, data types, and parameter names consistent with similar data collections?",
       "icons": [],
       "index": 2,
       "layout": "IPY_MODEL_529473998a7341c588ef085e69b7d259",
       "style": "IPY_MODEL_17582f37cda2484880351f99625c944b",
       "tooltips": []
      }
     },
     "6d65106df07740d69bad22ba5248facf": {
      "model_module": "@jupyter-widgets/base",
      "model_module_version": "2.0.0",
      "model_name": "LayoutModel",
      "state": {}
     },
     "733f2c224254415fa015e449c4832422": {
      "model_module": "@jupyter-widgets/controls",
      "model_module_version": "2.0.0",
      "model_name": "ToggleButtonsModel",
      "state": {
       "_options_labels": [
        "Yes",
        "No",
        "N/A"
       ],
       "button_style": "",
       "description": "3.5 Is there a mechanism for user feedback and suggestions?",
       "icons": [],
       "index": 2,
       "layout": "IPY_MODEL_32fefd8a5dc0410c9e47db75e686b37e",
       "style": "IPY_MODEL_e76fa0c929a94718a2aa04a5108e803e",
       "tooltips": []
      }
     },
     "73757fdd1f5c45e2afc0a72d7f306650": {
      "model_module": "@jupyter-widgets/controls",
      "model_module_version": "2.0.0",
      "model_name": "LabelModel",
      "state": {
       "layout": "IPY_MODEL_87dc62a6fe15451fbbec6c2fe5cbda0a",
       "style": "IPY_MODEL_751246ef99b6494d97de793f486918fa",
       "value": "5.3 Is the data gridded (regularly sampled in time and space)?"
      }
     },
     "745fe4bb8d1c4e199a6f1a83b31daaa6": {
      "model_module": "@jupyter-widgets/controls",
      "model_module_version": "2.0.0",
      "model_name": "DescriptionStyleModel",
      "state": {
       "description_width": ""
      }
     },
     "751246ef99b6494d97de793f486918fa": {
      "model_module": "@jupyter-widgets/controls",
      "model_module_version": "2.0.0",
      "model_name": "LabelStyleModel",
      "state": {
       "description_width": "",
       "font_family": null,
       "font_size": null,
       "font_style": null,
       "font_variant": null,
       "font_weight": null,
       "text_color": null,
       "text_decoration": null
      }
     },
     "75509986d4e240178dffacfa2ccb2fcb": {
      "model_module": "@jupyter-widgets/base",
      "model_module_version": "2.0.0",
      "model_name": "LayoutModel",
      "state": {}
     },
     "75c0b303c6a44aa2b70d33911569c1c0": {
      "model_module": "@jupyter-widgets/controls",
      "model_module_version": "2.0.0",
      "model_name": "TextModel",
      "state": {
       "layout": "IPY_MODEL_ca696ccb87304acf9d0f6ee0d97885d8",
       "placeholder": "e.g., STAC label extension, ESA AIREO specification, etc.",
       "style": "IPY_MODEL_36ac4a7add8f4a17a9149934a984dda9"
      }
     },
     "760310fea33d4ce588be6b43e631f579": {
      "model_module": "@jupyter-widgets/controls",
      "model_module_version": "2.0.0",
      "model_name": "ToggleButtonsModel",
      "state": {
       "_options_labels": [
        "Yes",
        "No",
        "N/A"
       ],
       "button_style": "",
       "description": "If there is an API, does the API follow an open standard protocol (e.g., OGC)?",
       "icons": [],
       "index": 2,
       "layout": "IPY_MODEL_e425e096aec34339a751c36a39a269de",
       "style": "IPY_MODEL_50ffb07e61bb46e99964ae1d1ec7a369",
       "tooltips": []
      }
     },
     "769650d6926a497bb91ab1bd97624ca1": {
      "model_module": "@jupyter-widgets/controls",
      "model_module_version": "2.0.0",
      "model_name": "ToggleButtonsStyleModel",
      "state": {
       "button_width": "",
       "description_width": ""
      }
     },
     "7708f7ea6e024f0395bf0f7bc7291485": {
      "model_module": "@jupyter-widgets/controls",
      "model_module_version": "2.0.0",
      "model_name": "ToggleButtonsModel",
      "state": {
       "_options_labels": [
        "Yes",
        "No",
        "Only by request",
        "N/A"
       ],
       "button_style": "",
       "description": "If the data is resampled from the original sampling, is the data also available at the original sampling?",
       "icons": [],
       "index": 3,
       "layout": "IPY_MODEL_29091b8e01354979b07d2137425ae535",
       "style": "IPY_MODEL_8cfdf3e4ed7c43eea1bc752f0c981b4b",
       "tooltips": []
      }
     },
     "77311428c5424b08a286f93ee68b7755": {
      "model_module": "@jupyter-widgets/base",
      "model_module_version": "2.0.0",
      "model_name": "LayoutModel",
      "state": {}
     },
     "77a90a50f9524267bb8869829f03fe98": {
      "model_module": "@jupyter-widgets/base",
      "model_module_version": "2.0.0",
      "model_name": "LayoutModel",
      "state": {}
     },
     "77ef1c7e78374d16b81ffb5f33dc03c4": {
      "model_module": "@jupyter-widgets/base",
      "model_module_version": "2.0.0",
      "model_name": "LayoutModel",
      "state": {}
     },
     "7846a886c5c14d1790f82a05462c4f30": {
      "model_module": "@jupyter-widgets/base",
      "model_module_version": "2.0.0",
      "model_name": "LayoutModel",
      "state": {
       "display": "none",
       "width": "500px"
      }
     },
     "7aa424751e3d46718b2ab6ebcbec8a0e": {
      "model_module": "@jupyter-widgets/base",
      "model_module_version": "2.0.0",
      "model_name": "LayoutModel",
      "state": {}
     },
     "7b2dcbbba35d4d6680a2e8cbb0057ede": {
      "model_module": "@jupyter-widgets/base",
      "model_module_version": "2.0.0",
      "model_name": "LayoutModel",
      "state": {
       "display": "none"
      }
     },
     "7baeb230849b4a12bdb72e60cea08bc2": {
      "model_module": "@jupyter-widgets/base",
      "model_module_version": "2.0.0",
      "model_name": "LayoutModel",
      "state": {}
     },
     "7c60c2ab8efb406092b4cc5e8c7fc0a7": {
      "model_module": "@jupyter-widgets/controls",
      "model_module_version": "2.0.0",
      "model_name": "TextStyleModel",
      "state": {
       "description_width": "",
       "font_size": null,
       "text_color": null
      }
     },
     "7d36d953c9514e858251a57b013e9549": {
      "model_module": "@jupyter-widgets/controls",
      "model_module_version": "2.0.0",
      "model_name": "ToggleButtonsStyleModel",
      "state": {
       "button_width": "",
       "description_width": ""
      }
     },
     "7dfc9b765113453ab2c89eba7fc23d6e": {
      "model_module": "@jupyter-widgets/controls",
      "model_module_version": "2.0.0",
      "model_name": "ToggleButtonsModel",
      "state": {
       "_options_labels": [
        "Yes",
        "No",
        "N/A"
       ],
       "button_style": "",
       "description": "3.3 Does the dataset have a unique persistent identifier, e.g. DOI?",
       "icons": [],
       "index": 2,
       "layout": "IPY_MODEL_1858f781fe204e10b039b193bc8c766c",
       "style": "IPY_MODEL_9c3b73a745504d048860e762ec7907d7",
       "tooltips": []
      }
     },
     "7e489bcbb1e4406583cf5f63e3e7e84e": {
      "model_module": "@jupyter-widgets/base",
      "model_module_version": "2.0.0",
      "model_name": "LayoutModel",
      "state": {
       "width": "100px"
      }
     },
     "7ec285fd6a08480e8a6815a0cc1ac65f": {
      "model_module": "@jupyter-widgets/controls",
      "model_module_version": "2.0.0",
      "model_name": "ToggleButtonsStyleModel",
      "state": {
       "button_width": "",
       "description_width": ""
      }
     },
     "807d9249091145e7a2ff1ff3192db781": {
      "model_module": "@jupyter-widgets/controls",
      "model_module_version": "2.0.0",
      "model_name": "LabelModel",
      "state": {
       "layout": "IPY_MODEL_3ce64f50dc0d4b65b2b7df290360a654",
       "style": "IPY_MODEL_cc7510db7e2b4bcd8253525c29559124",
       "value": "4.1 What is/are the major file formats? (Use shift / Ctrl / CMD to select multiple)"
      }
     },
     "82c4d4a483394eb19e6a63fd4f714c1f": {
      "model_module": "@jupyter-widgets/base",
      "model_module_version": "2.0.0",
      "model_name": "LayoutModel",
      "state": {}
     },
     "8358992989424c77a359e365f6fc9b4f": {
      "model_module": "@jupyter-widgets/controls",
      "model_module_version": "2.0.0",
      "model_name": "LabelModel",
      "state": {
       "layout": "IPY_MODEL_04c7210761a54f5bbf54a9c223ef4378",
       "style": "IPY_MODEL_6b65eb35b647405b83ea9ff56e92eddc",
       "value": "Number of data dimensions:"
      }
     },
     "8366d11cfdb14bfd956cd7fbc886eb7b": {
      "model_module": "@jupyter-widgets/base",
      "model_module_version": "2.0.0",
      "model_name": "LayoutModel",
      "state": {}
     },
     "845c90721d7b441e8b9dc53639179ad6": {
      "model_module": "@jupyter-widgets/controls",
      "model_module_version": "2.0.0",
      "model_name": "ToggleButtonsModel",
      "state": {
       "_options_labels": [
        "Yes",
        "No",
        "N/A"
       ],
       "button_style": "",
       "description": "Should the new version of the dataset supersede the current version?",
       "icons": [],
       "index": 2,
       "layout": "IPY_MODEL_f688eff112884b50b07b58195a6b2310",
       "style": "IPY_MODEL_be0e165d5f80490aa4cb4331a8434e2b",
       "tooltips": []
      }
     },
     "84aefcbb86f44af984e1195d51067cad": {
      "model_module": "@jupyter-widgets/controls",
      "model_module_version": "2.0.0",
      "model_name": "ToggleButtonsModel",
      "state": {
       "_options_labels": [
        "Yes",
        "No",
        "N/A"
       ],
       "button_style": "",
       "description": "Is the dataset metadata machine-readable?",
       "icons": [],
       "index": 2,
       "layout": "IPY_MODEL_1823e1af24d045c1939610d521ab672e",
       "style": "IPY_MODEL_aa4b052e3aba4efc81f54b90988d4978",
       "tooltips": []
      }
     },
     "85b8c92b819645149a16fa39157b5cfd": {
      "model_module": "@jupyter-widgets/controls",
      "model_module_version": "2.0.0",
      "model_name": "ToggleButtonsModel",
      "state": {
       "_options_labels": [
        "Yes",
        "No",
        "N/A"
       ],
       "button_style": "",
       "description": "3.4 Is there contact information for subject-matter experts?",
       "icons": [],
       "index": 2,
       "layout": "IPY_MODEL_9159dbedd43243129ff81bad144acd7e",
       "style": "IPY_MODEL_3ba6254773dc4c24be456c8495a5df95",
       "tooltips": []
      }
     },
     "86715a2c705c43b8a3af318f80f416b8": {
      "model_module": "@jupyter-widgets/base",
      "model_module_version": "2.0.0",
      "model_name": "LayoutModel",
      "state": {
       "width": "500px"
      }
     },
     "878fc0de58424777b1be0bed3be91f79": {
      "model_module": "@jupyter-widgets/controls",
      "model_module_version": "2.0.0",
      "model_name": "ToggleButtonsStyleModel",
      "state": {
       "button_width": "",
       "description_width": ""
      }
     },
     "87dc62a6fe15451fbbec6c2fe5cbda0a": {
      "model_module": "@jupyter-widgets/base",
      "model_module_version": "2.0.0",
      "model_name": "LayoutModel",
      "state": {}
     },
     "88016924f1a94d858ccab1827e64a20a": {
      "model_module": "@jupyter-widgets/base",
      "model_module_version": "2.0.0",
      "model_name": "LayoutModel",
      "state": {
       "display": "none"
      }
     },
     "88915d83bd0c487a8984cd8f47278b8b": {
      "model_module": "@jupyter-widgets/controls",
      "model_module_version": "2.0.0",
      "model_name": "TextStyleModel",
      "state": {
       "description_width": "",
       "font_size": null,
       "text_color": null
      }
     },
     "889f9e53e70b4b84b8845236ca19a28b": {
      "model_module": "@jupyter-widgets/base",
      "model_module_version": "2.0.0",
      "model_name": "LayoutModel",
      "state": {}
     },
     "8ab54654d33f4ee08f1e49acea935359": {
      "model_module": "@jupyter-widgets/controls",
      "model_module_version": "2.0.0",
      "model_name": "ToggleButtonsModel",
      "state": {
       "_options_labels": [
        "Yes",
        "No",
        "N/A"
       ],
       "button_style": "",
       "description": "4.4 Is there an Application Programming Interface (API) or web service to access the data?",
       "icons": [],
       "index": 2,
       "layout": "IPY_MODEL_5308d2b990c246b09eea6f1ab50b25ee",
       "style": "IPY_MODEL_9c0f2e7f8b254f34aabcddcc5325dbd4",
       "tooltips": []
      }
     },
     "8c0513fa101d4d908333bd0c073febfb": {
      "model_module": "@jupyter-widgets/controls",
      "model_module_version": "2.0.0",
      "model_name": "ToggleButtonsModel",
      "state": {
       "_options_labels": [
        "Yes",
        "No",
        "N/A"
       ],
       "button_style": "",
       "description": "Is the license standardized and machine-readable (e.g. Creative Commons)?",
       "icons": [],
       "index": 2,
       "layout": "IPY_MODEL_5fabf624ff3d41ef83d6d170c33f7dca",
       "style": "IPY_MODEL_7ec285fd6a08480e8a6815a0cc1ac65f",
       "tooltips": []
      }
     },
     "8c4e4052b6c647df909b1ac19e27fe50": {
      "model_module": "@jupyter-widgets/base",
      "model_module_version": "2.0.0",
      "model_name": "LayoutModel",
      "state": {}
     },
     "8cbb9dab60e14687b5ec1a2ada678e68": {
      "model_module": "@jupyter-widgets/controls",
      "model_module_version": "2.0.0",
      "model_name": "TextStyleModel",
      "state": {
       "description_width": "",
       "font_size": null,
       "text_color": null
      }
     },
     "8cfdf3e4ed7c43eea1bc752f0c981b4b": {
      "model_module": "@jupyter-widgets/controls",
      "model_module_version": "2.0.0",
      "model_name": "ToggleButtonsStyleModel",
      "state": {
       "button_width": "",
       "description_width": ""
      }
     },
     "8d55b60ec5a94774ac82006890215be5": {
      "model_module": "@jupyter-widgets/controls",
      "model_module_version": "2.0.0",
      "model_name": "ToggleButtonsModel",
      "state": {
       "_options_labels": [
        "Yes",
        "No",
        "N/A"
       ],
       "button_style": "",
       "description": "2.7 Are there processes to monitor for units, data types, and parameter consistency?",
       "icons": [],
       "index": 2,
       "layout": "IPY_MODEL_b7e5d2278ded4097953fd309c706ff07",
       "style": "IPY_MODEL_05357eb79cac4a738141119ed6981d24",
       "tooltips": []
      }
     },
     "8fc8dfc6504641cbbd122dba7b87ee0e": {
      "model_module": "@jupyter-widgets/controls",
      "model_module_version": "2.0.0",
      "model_name": "ToggleButtonsStyleModel",
      "state": {
       "button_width": "",
       "description_width": ""
      }
     },
     "90346fe261804d5b8dd1697dbd84d271": {
      "model_module": "@jupyter-widgets/controls",
      "model_module_version": "2.0.0",
      "model_name": "LabelStyleModel",
      "state": {
       "description_width": "",
       "font_family": null,
       "font_size": null,
       "font_style": null,
       "font_variant": null,
       "font_weight": null,
       "text_color": null,
       "text_decoration": null
      }
     },
     "909b818935f541e2a6e6e0a53e46b9a0": {
      "model_module": "@jupyter-widgets/base",
      "model_module_version": "2.0.0",
      "model_name": "LayoutModel",
      "state": {}
     },
     "9159dbedd43243129ff81bad144acd7e": {
      "model_module": "@jupyter-widgets/base",
      "model_module_version": "2.0.0",
      "model_name": "LayoutModel",
      "state": {}
     },
     "917665e8dcfb499db0d83fb112943252": {
      "model_module": "@jupyter-widgets/controls",
      "model_module_version": "2.0.0",
      "model_name": "TextareaModel",
      "state": {
       "layout": "IPY_MODEL_a7a8872825bf4e2d9166be91e7d0057e",
       "placeholder": "Is the bias metrological traceable?",
       "style": "IPY_MODEL_296eb116acce4c86bf390b207d598a9c"
      }
     },
     "930ca44ebd764d79ba428b81a3c95b6a": {
      "model_module": "@jupyter-widgets/base",
      "model_module_version": "2.0.0",
      "model_name": "LayoutModel",
      "state": {}
     },
     "94a649f0b5aa49a89db7d505b9b4c8b0": {
      "model_module": "@jupyter-widgets/base",
      "model_module_version": "2.0.0",
      "model_name": "LayoutModel",
      "state": {
       "display": "none"
      }
     },
     "95e99909e5f7469ba2c167369371ed8e": {
      "model_module": "@jupyter-widgets/base",
      "model_module_version": "2.0.0",
      "model_name": "LayoutModel",
      "state": {}
     },
     "9809ed4ffa4d41258e2b76708524352a": {
      "model_module": "@jupyter-widgets/controls",
      "model_module_version": "2.0.0",
      "model_name": "IntTextModel",
      "state": {
       "layout": "IPY_MODEL_7e489bcbb1e4406583cf5f63e3e7e84e",
       "step": 1,
       "style": "IPY_MODEL_dc08b6f8c74c4311af11b0a98db6125d"
      }
     },
     "98a4bde4f50a499ea658f46a87b6d711": {
      "model_module": "@jupyter-widgets/base",
      "model_module_version": "2.0.0",
      "model_name": "LayoutModel",
      "state": {}
     },
     "98f2afc028aa43dbabf6978323fcf500": {
      "model_module": "@jupyter-widgets/controls",
      "model_module_version": "2.0.0",
      "model_name": "TextModel",
      "state": {
       "layout": "IPY_MODEL_c44eab4ea5714501920dd11494f7bdc0",
       "placeholder": "228 x 228",
       "style": "IPY_MODEL_d39ae0bfb81c4ab7964ec7df68d09de3"
      }
     },
     "99f4756390bf42dab0fe42fe787576e4": {
      "model_module": "@jupyter-widgets/controls",
      "model_module_version": "2.0.0",
      "model_name": "ToggleButtonsStyleModel",
      "state": {
       "button_width": "",
       "description_width": ""
      }
     },
     "9a79e79ca7474c32a49b781cc8bafc8f": {
      "model_module": "@jupyter-widgets/base",
      "model_module_version": "2.0.0",
      "model_name": "LayoutModel",
      "state": {}
     },
     "9ad21cfbc4b84dbc8df0bd566f80732b": {
      "model_module": "@jupyter-widgets/controls",
      "model_module_version": "2.0.0",
      "model_name": "LabelStyleModel",
      "state": {
       "description_width": "",
       "font_family": null,
       "font_size": null,
       "font_style": null,
       "font_variant": null,
       "font_weight": null,
       "text_color": null,
       "text_decoration": null
      }
     },
     "9c0f2e7f8b254f34aabcddcc5325dbd4": {
      "model_module": "@jupyter-widgets/controls",
      "model_module_version": "2.0.0",
      "model_name": "ToggleButtonsStyleModel",
      "state": {
       "button_width": "",
       "description_width": ""
      }
     },
     "9c3b73a745504d048860e762ec7907d7": {
      "model_module": "@jupyter-widgets/controls",
      "model_module_version": "2.0.0",
      "model_name": "ToggleButtonsStyleModel",
      "state": {
       "button_width": "",
       "description_width": ""
      }
     },
     "9ffbe4d123ef4e5c800f9e7c65da05aa": {
      "model_module": "@jupyter-widgets/controls",
      "model_module_version": "2.0.0",
      "model_name": "DescriptionStyleModel",
      "state": {
       "description_width": ""
      }
     },
     "a16cc240b42b4a849e118682ca844dde": {
      "model_module": "@jupyter-widgets/controls",
      "model_module_version": "2.0.0",
      "model_name": "ToggleButtonsStyleModel",
      "state": {
       "button_width": "",
       "description_width": ""
      }
     },
     "a2bd85257fe84290a58ba5e696efecc4": {
      "model_module": "@jupyter-widgets/controls",
      "model_module_version": "2.0.0",
      "model_name": "LabelStyleModel",
      "state": {
       "description_width": "",
       "font_family": null,
       "font_size": null,
       "font_style": null,
       "font_variant": null,
       "font_weight": null,
       "text_color": null,
       "text_decoration": null
      }
     },
     "a2efebdb8f18469ea8e04696b5b0eeff": {
      "model_module": "@jupyter-widgets/controls",
      "model_module_version": "2.0.0",
      "model_name": "IntTextModel",
      "state": {
       "layout": "IPY_MODEL_51061a4440bf4069a8be2e38d1634fcb",
       "step": 1,
       "style": "IPY_MODEL_745fe4bb8d1c4e199a6f1a83b31daaa6"
      }
     },
     "a4e4f388c0334524ad5c2ef7ea362151": {
      "model_module": "@jupyter-widgets/controls",
      "model_module_version": "2.0.0",
      "model_name": "ToggleButtonsModel",
      "state": {
       "_options_labels": [
        "Single-source",
        "Aggregated"
       ],
       "button_style": "",
       "description": "8. Is the data single-source or aggregated from several sources? ",
       "icons": [],
       "index": 0,
       "layout": "IPY_MODEL_6bb465483d034b9ca4007f9c78c0d0ed",
       "style": "IPY_MODEL_7d36d953c9514e858251a57b013e9549",
       "tooltips": []
      }
     },
     "a5343869f3fa4709add3485dd7ce3f78": {
      "model_module": "@jupyter-widgets/controls",
      "model_module_version": "2.0.0",
      "model_name": "ToggleButtonsStyleModel",
      "state": {
       "button_width": "",
       "description_width": ""
      }
     },
     "a55a4d9a2e68413dbd0b3911f48d34f8": {
      "model_module": "@jupyter-widgets/controls",
      "model_module_version": "2.0.0",
      "model_name": "ToggleButtonsStyleModel",
      "state": {
       "button_width": "",
       "description_width": ""
      }
     },
     "a5913b44f72044dd8333dc19052ea877": {
      "model_module": "@jupyter-widgets/controls",
      "model_module_version": "2.0.0",
      "model_name": "ToggleButtonsStyleModel",
      "state": {
       "button_width": "",
       "description_width": ""
      }
     },
     "a64594d219cc44f2b6bcba0e407b53cd": {
      "model_module": "@jupyter-widgets/base",
      "model_module_version": "2.0.0",
      "model_name": "LayoutModel",
      "state": {}
     },
     "a7a8872825bf4e2d9166be91e7d0057e": {
      "model_module": "@jupyter-widgets/base",
      "model_module_version": "2.0.0",
      "model_name": "LayoutModel",
      "state": {
       "display": "none",
       "width": "500px"
      }
     },
     "a8e75d63543c42f9a0e33e05a30afc86": {
      "model_module": "@jupyter-widgets/controls",
      "model_module_version": "2.0.0",
      "model_name": "ToggleButtonsModel",
      "state": {
       "_options_labels": [
        "Yes",
        "No"
       ],
       "button_style": "",
       "description": "2.1 Will the dataset be updated?",
       "icons": [],
       "index": 1,
       "layout": "IPY_MODEL_7aa424751e3d46718b2ab6ebcbec8a0e",
       "style": "IPY_MODEL_42c47a7bb7c54acc80e3a191db1b9d93",
       "tooltips": []
      }
     },
     "aa4b052e3aba4efc81f54b90988d4978": {
      "model_module": "@jupyter-widgets/controls",
      "model_module_version": "2.0.0",
      "model_name": "ToggleButtonsStyleModel",
      "state": {
       "button_width": "",
       "description_width": ""
      }
     },
     "ae7fd27aca934d339f62e92d4e5483fb": {
      "model_module": "@jupyter-widgets/base",
      "model_module_version": "2.0.0",
      "model_name": "LayoutModel",
      "state": {
       "display": "none",
       "width": "500px"
      }
     },
     "af38151111044b7ba564ca771883f2a7": {
      "model_module": "@jupyter-widgets/controls",
      "model_module_version": "2.0.0",
      "model_name": "LabelModel",
      "state": {
       "layout": "IPY_MODEL_37e5a316c20e427c9406676d9bf5228f",
       "style": "IPY_MODEL_423947ad8ad44c0ab784260bbfbffc83",
       "value": "Number of data table rows:"
      }
     },
     "b0dd34f9196b476fb3889e5810bf33a4": {
      "model_module": "@jupyter-widgets/controls",
      "model_module_version": "2.0.0",
      "model_name": "ButtonStyleModel",
      "state": {
       "font_family": null,
       "font_size": null,
       "font_style": null,
       "font_variant": null,
       "font_weight": null,
       "text_color": null,
       "text_decoration": null
      }
     },
     "b11cc85461f943c1b596603134ad908c": {
      "model_module": "@jupyter-widgets/controls",
      "model_module_version": "2.0.0",
      "model_name": "ToggleButtonsModel",
      "state": {
       "_options_labels": [
        "Yes",
        "No",
        "N/A"
       ],
       "button_style": "",
       "description": "3.6 Are there example codes / notebooks / toolkits available showing how the data can be used?",
       "icons": [],
       "index": 2,
       "layout": "IPY_MODEL_9a79e79ca7474c32a49b781cc8bafc8f",
       "style": "IPY_MODEL_878fc0de58424777b1be0bed3be91f79",
       "tooltips": []
      }
     },
     "b20fee114d674f8ba7d1758cfa669539": {
      "model_module": "@jupyter-widgets/controls",
      "model_module_version": "2.0.0",
      "model_name": "SelectModel",
      "state": {
       "_options_labels": [
        "Regularly gridded in space",
        "Constant time-frequency",
        "Regularly gridded in space and constant time-frequency",
        "Not gridded",
        "N/A"
       ],
       "index": 4,
       "layout": "IPY_MODEL_ba7f1afdf4e54786929b33dae82eeffe",
       "style": "IPY_MODEL_9ffbe4d123ef4e5c800f9e7c65da05aa"
      }
     },
     "b2ab20a2769748dbac3e3af7098b1e43": {
      "model_module": "@jupyter-widgets/controls",
      "model_module_version": "2.0.0",
      "model_name": "ToggleButtonsModel",
      "state": {
       "_options_labels": [
        "Yes",
        "No",
        "N/A"
       ],
       "button_style": "",
       "description": "Are the main formats machine-readable?",
       "icons": [],
       "index": 2,
       "layout": "IPY_MODEL_b60b5f1579934039b696c11ff0d197fd",
       "style": "IPY_MODEL_a5343869f3fa4709add3485dd7ce3f78",
       "tooltips": []
      }
     },
     "b45c074b46d8434fa160ae15b9bde74e": {
      "model_module": "@jupyter-widgets/controls",
      "model_module_version": "2.0.0",
      "model_name": "TextModel",
      "state": {
       "layout": "IPY_MODEL_e170e2e0777c4293b51c550b650dfd83",
       "placeholder": "1.5. Assessor email address",
       "style": "IPY_MODEL_c39f64dd69d74fa4b96b3e212add6f1d"
      }
     },
     "b45fe0f611634da0a1cfb0a392b5f3b1": {
      "model_module": "@jupyter-widgets/controls",
      "model_module_version": "2.0.0",
      "model_name": "ToggleButtonsModel",
      "state": {
       "_options_labels": [
        "Yes",
        "No",
        "N/A"
       ],
       "button_style": "",
       "description": "Do the parameters follow a defined standard?",
       "icons": [],
       "index": 2,
       "layout": "IPY_MODEL_5007867e93914f6098e936abf4511d04",
       "style": "IPY_MODEL_c170ba4ba90743428a53e83170da55ed",
       "tooltips": []
      }
     },
     "b48208ff960a468a8d61f22046cf8362": {
      "model_module": "@jupyter-widgets/base",
      "model_module_version": "2.0.0",
      "model_name": "LayoutModel",
      "state": {
       "display": "none",
       "width": "500px"
      }
     },
     "b60b5f1579934039b696c11ff0d197fd": {
      "model_module": "@jupyter-widgets/base",
      "model_module_version": "2.0.0",
      "model_name": "LayoutModel",
      "state": {}
     },
     "b6c23f7ce405492289375426b670aaeb": {
      "model_module": "@jupyter-widgets/controls",
      "model_module_version": "2.0.0",
      "model_name": "ToggleButtonsModel",
      "state": {
       "_options_labels": [
        "Yes",
        "No",
        "N/A"
       ],
       "button_style": "",
       "description": "Is the data dictionary machine-readable?",
       "icons": [],
       "index": 2,
       "layout": "IPY_MODEL_d4ec20b03fe8470289b1d2edd7ad9ef0",
       "style": "IPY_MODEL_39b0c5a41dd54f70bcb322e0831e8bdf",
       "tooltips": []
      }
     },
     "b7e5d2278ded4097953fd309c706ff07": {
      "model_module": "@jupyter-widgets/base",
      "model_module_version": "2.0.0",
      "model_name": "LayoutModel",
      "state": {}
     },
     "b9d7b3309d23430d827b734cdc6fc643": {
      "model_module": "@jupyter-widgets/controls",
      "model_module_version": "2.0.0",
      "model_name": "ToggleButtonsStyleModel",
      "state": {
       "button_width": "",
       "description_width": ""
      }
     },
     "ba7f1afdf4e54786929b33dae82eeffe": {
      "model_module": "@jupyter-widgets/base",
      "model_module_version": "2.0.0",
      "model_name": "LayoutModel",
      "state": {
       "width": "500px"
      }
     },
     "bb9f689d675b4e3a9b03f59b83730862": {
      "model_module": "@jupyter-widgets/controls",
      "model_module_version": "2.0.0",
      "model_name": "ToggleButtonsModel",
      "state": {
       "_options_labels": [
        "Yes",
        "No",
        "N/A"
       ],
       "button_style": "",
       "description": "Is the data available in at least one open, non-proprietary format?",
       "icons": [],
       "index": 2,
       "layout": "IPY_MODEL_0796081bb92f4b53abb7a2eed50c5b90",
       "style": "IPY_MODEL_faae97665b744117acbe24cd7cd1b9a8",
       "tooltips": []
      }
     },
     "bdddde8c705e47f5ad59744bf45d5b72": {
      "model_module": "@jupyter-widgets/base",
      "model_module_version": "2.0.0",
      "model_name": "LayoutModel",
      "state": {
       "display": "none"
      }
     },
     "be0e165d5f80490aa4cb4331a8434e2b": {
      "model_module": "@jupyter-widgets/controls",
      "model_module_version": "2.0.0",
      "model_name": "ToggleButtonsStyleModel",
      "state": {
       "button_width": "",
       "description_width": ""
      }
     },
     "bfd43322264a4644b0a26a4352b53976": {
      "model_module": "@jupyter-widgets/base",
      "model_module_version": "2.0.0",
      "model_name": "LayoutModel",
      "state": {
       "display": "none"
      }
     },
     "c1318d0c07a64fbf84db78748efcdd8d": {
      "model_module": "@jupyter-widgets/controls",
      "model_module_version": "2.0.0",
      "model_name": "SelectModel",
      "state": {
       "_options_labels": [
        "Yes, from irregular sampling",
        "Yes, from a different regular sampling",
        "No, this is the original sampling",
        "N/A"
       ],
       "index": 3,
       "layout": "IPY_MODEL_09467723065d4a0fab22e32dece025bb",
       "style": "IPY_MODEL_2e6cba980bc64988b8cac5f3ad47c000"
      }
     },
     "c148852a807a4deaa161bd2b27e40138": {
      "model_module": "@jupyter-widgets/controls",
      "model_module_version": "2.0.0",
      "model_name": "TextModel",
      "state": {
       "layout": "IPY_MODEL_28ddc3b19a18417686d0dcabd089ccdb",
       "placeholder": "If “Yes”, please provide a URL to the documentation.",
       "style": "IPY_MODEL_88915d83bd0c487a8984cd8f47278b8b"
      }
     },
     "c170ba4ba90743428a53e83170da55ed": {
      "model_module": "@jupyter-widgets/controls",
      "model_module_version": "2.0.0",
      "model_name": "ToggleButtonsStyleModel",
      "state": {
       "button_width": "",
       "description_width": ""
      }
     },
     "c18e77a738d84cd095db622002d5939d": {
      "model_module": "@jupyter-widgets/base",
      "model_module_version": "2.0.0",
      "model_name": "LayoutModel",
      "state": {
       "display": "none",
       "width": "500px"
      }
     },
     "c1e38a17b3a04484aee028637dd2af67": {
      "model_module": "@jupyter-widgets/controls",
      "model_module_version": "2.0.0",
      "model_name": "SelectMultipleModel",
      "state": {
       "_options_labels": [
        "CSV",
        "netCDF",
        "geoJSON",
        "Shapefile",
        "GRIB",
        "HDF",
        "GeoTIFF",
        "KML",
        "GINI",
        "Zarr",
        "Other"
       ],
       "index": [],
       "layout": "IPY_MODEL_217c0526ccd3434cb552ee3af34a756c",
       "rows": 11,
       "style": "IPY_MODEL_5e583e5a0f6f489b99295ddd8de63b4d"
      }
     },
     "c24a5958f429475f8e49329c3fe5daa2": {
      "model_module": "@jupyter-widgets/controls",
      "model_module_version": "2.0.0",
      "model_name": "ToggleButtonsStyleModel",
      "state": {
       "button_width": "",
       "description_width": ""
      }
     },
     "c331b7e170b041ab979bb8f6cd469183": {
      "model_module": "@jupyter-widgets/controls",
      "model_module_version": "2.0.0",
      "model_name": "ToggleButtonsStyleModel",
      "state": {
       "button_width": "",
       "description_width": ""
      }
     },
     "c38edd81edca4c8891a93bba612e63b6": {
      "model_module": "@jupyter-widgets/controls",
      "model_module_version": "2.0.0",
      "model_name": "ToggleButtonsStyleModel",
      "state": {
       "button_width": "",
       "description_width": ""
      }
     },
     "c39f64dd69d74fa4b96b3e212add6f1d": {
      "model_module": "@jupyter-widgets/controls",
      "model_module_version": "2.0.0",
      "model_name": "TextStyleModel",
      "state": {
       "description_width": "",
       "font_size": null,
       "text_color": null
      }
     },
     "c3f39dc2476d41018bb5ade3a5ac20a5": {
      "model_module": "@jupyter-widgets/controls",
      "model_module_version": "2.0.0",
      "model_name": "ToggleButtonsStyleModel",
      "state": {
       "button_width": "",
       "description_width": ""
      }
     },
     "c44eab4ea5714501920dd11494f7bdc0": {
      "model_module": "@jupyter-widgets/base",
      "model_module_version": "2.0.0",
      "model_name": "LayoutModel",
      "state": {}
     },
     "ca696ccb87304acf9d0f6ee0d97885d8": {
      "model_module": "@jupyter-widgets/base",
      "model_module_version": "2.0.0",
      "model_name": "LayoutModel",
      "state": {
       "width": "500px"
      }
     },
     "cab657a533324bc1b4b9295374070c42": {
      "model_module": "@jupyter-widgets/controls",
      "model_module_version": "2.0.0",
      "model_name": "ToggleButtonsStyleModel",
      "state": {
       "button_width": "",
       "description_width": ""
      }
     },
     "cc7510db7e2b4bcd8253525c29559124": {
      "model_module": "@jupyter-widgets/controls",
      "model_module_version": "2.0.0",
      "model_name": "LabelStyleModel",
      "state": {
       "description_width": "",
       "font_family": null,
       "font_size": null,
       "font_style": null,
       "font_variant": null,
       "font_weight": null,
       "text_color": null,
       "text_decoration": null
      }
     },
     "cca9416607d34bc5bb1abbf9b1f084e5": {
      "model_module": "@jupyter-widgets/controls",
      "model_module_version": "2.0.0",
      "model_name": "ToggleButtonsModel",
      "state": {
       "_options_labels": [
        "Yes",
        "No",
        "Unknown"
       ],
       "button_style": "",
       "description": "2.8 Is there known bias in the dataset?",
       "icons": [],
       "index": 2,
       "layout": "IPY_MODEL_dcc278f7167f407495128a0a63338378",
       "style": "IPY_MODEL_a55a4d9a2e68413dbd0b3911f48d34f8",
       "tooltips": []
      }
     },
     "cdea0d3ef12749a1a4706daf6a82de5e": {
      "model_module": "@jupyter-widgets/controls",
      "model_module_version": "2.0.0",
      "model_name": "ToggleButtonsModel",
      "state": {
       "_options_labels": [
        "Yes",
        "No",
        "N/A"
       ],
       "button_style": "",
       "description": "4.8 Is there secure access to the full dataset for authorized users? ",
       "icons": [],
       "index": 2,
       "layout": "IPY_MODEL_909b818935f541e2a6e6e0a53e46b9a0",
       "style": "IPY_MODEL_0c266109cc164d1aa5437a70fc4de60d",
       "tooltips": []
      }
     },
     "cfad0a0db0e74c448d19149017cb64c5": {
      "model_module": "@jupyter-widgets/base",
      "model_module_version": "2.0.0",
      "model_name": "LayoutModel",
      "state": {
       "display": "none",
       "width": "500px"
      }
     },
     "d0e193d396194e928aa5d09d360dae39": {
      "model_module": "@jupyter-widgets/base",
      "model_module_version": "2.0.0",
      "model_name": "LayoutModel",
      "state": {
       "width": "500px"
      }
     },
     "d37adb73664b4411b631516a751de157": {
      "model_module": "@jupyter-widgets/base",
      "model_module_version": "2.0.0",
      "model_name": "LayoutModel",
      "state": {}
     },
     "d39ae0bfb81c4ab7964ec7df68d09de3": {
      "model_module": "@jupyter-widgets/controls",
      "model_module_version": "2.0.0",
      "model_name": "TextStyleModel",
      "state": {
       "description_width": "",
       "font_size": null,
       "text_color": null
      }
     },
     "d4ec20b03fe8470289b1d2edd7ad9ef0": {
      "model_module": "@jupyter-widgets/base",
      "model_module_version": "2.0.0",
      "model_name": "LayoutModel",
      "state": {
       "display": "none"
      }
     },
     "d67c2676f4c64052a71d93ee7fa040d2": {
      "model_module": "@jupyter-widgets/controls",
      "model_module_version": "2.0.0",
      "model_name": "ToggleButtonsStyleModel",
      "state": {
       "button_width": "",
       "description_width": ""
      }
     },
     "d824825c1b3e486c81de8a8630b7eef9": {
      "model_module": "@jupyter-widgets/controls",
      "model_module_version": "2.0.0",
      "model_name": "ToggleButtonsStyleModel",
      "state": {
       "button_width": "",
       "description_width": ""
      }
     },
     "d841877c03c441ff8bd93b318c0494f9": {
      "model_module": "@jupyter-widgets/controls",
      "model_module_version": "2.0.0",
      "model_name": "TextModel",
      "state": {
       "layout": "IPY_MODEL_15ba11b8ffa44bc0b4b9b481a8d58acc",
       "placeholder": "Which standard is it? (CF, TBD, etc.)",
       "style": "IPY_MODEL_4076cec20a8641f1b8896e627a87520d"
      }
     },
     "db8c099bba87491f9ec757f04b105e53": {
      "model_module": "@jupyter-widgets/controls",
      "model_module_version": "2.0.0",
      "model_name": "ToggleButtonsModel",
      "state": {
       "_options_labels": [
        "No known bias",
        "Found and reported",
        "No info available",
        "N/A"
       ],
       "button_style": "",
       "description": "Is there reported bias in the data?",
       "icons": [],
       "index": 3,
       "layout": "IPY_MODEL_203004d86b554ebfa13c06a43ccf314d",
       "style": "IPY_MODEL_d67c2676f4c64052a71d93ee7fa040d2",
       "tooltips": []
      }
     },
     "dc08b6f8c74c4311af11b0a98db6125d": {
      "model_module": "@jupyter-widgets/controls",
      "model_module_version": "2.0.0",
      "model_name": "DescriptionStyleModel",
      "state": {
       "description_width": ""
      }
     },
     "dc27a23977b04e8a8370e8c1f0f67639": {
      "model_module": "@jupyter-widgets/base",
      "model_module_version": "2.0.0",
      "model_name": "LayoutModel",
      "state": {}
     },
     "dcc278f7167f407495128a0a63338378": {
      "model_module": "@jupyter-widgets/base",
      "model_module_version": "2.0.0",
      "model_name": "LayoutModel",
      "state": {}
     },
     "dfa5a854880b40e5a2f6e7b3312dd3e6": {
      "model_module": "@jupyter-widgets/controls",
      "model_module_version": "2.0.0",
      "model_name": "TextModel",
      "state": {
       "layout": "IPY_MODEL_b48208ff960a468a8d61f22046cf8362",
       "placeholder": "(optional) Link to tools available to reduce bias",
       "style": "IPY_MODEL_18031244b3c84c92b4cdd93f87d6d423"
      }
     },
     "e170e2e0777c4293b51c550b650dfd83": {
      "model_module": "@jupyter-widgets/base",
      "model_module_version": "2.0.0",
      "model_name": "LayoutModel",
      "state": {}
     },
     "e1e3f576baf24c8ab0121ccfa047c60d": {
      "model_module": "@jupyter-widgets/controls",
      "model_module_version": "2.0.0",
      "model_name": "ToggleButtonsModel",
      "state": {
       "_options_labels": [
        "Yes",
        "No",
        "Unknown",
        "N/A"
       ],
       "button_style": "",
       "description": "Have measures been taken to examine bias?",
       "icons": [],
       "index": 3,
       "layout": "IPY_MODEL_f729259fd68c4e0e8ecf5872154ce7c7",
       "style": "IPY_MODEL_49b2895ca33940a39ee55c3dcdde2456",
       "tooltips": []
      }
     },
     "e3a415aac49e4043827cc4e4ad43bed1": {
      "model_module": "@jupyter-widgets/controls",
      "model_module_version": "2.0.0",
      "model_name": "TextStyleModel",
      "state": {
       "description_width": "",
       "font_size": null,
       "text_color": null
      }
     },
     "e425e096aec34339a751c36a39a269de": {
      "model_module": "@jupyter-widgets/base",
      "model_module_version": "2.0.0",
      "model_name": "LayoutModel",
      "state": {
       "display": "none"
      }
     },
     "e4d0ba552e9d49438f0b18386128770f": {
      "model_module": "@jupyter-widgets/controls",
      "model_module_version": "2.0.0",
      "model_name": "TextStyleModel",
      "state": {
       "description_width": "",
       "font_size": null,
       "text_color": null
      }
     },
     "e5f94b7b5d6f42de83e87053aeb3fb5d": {
      "model_module": "@jupyter-widgets/controls",
      "model_module_version": "2.0.0",
      "model_name": "TextModel",
      "state": {
       "layout": "IPY_MODEL_c18e77a738d84cd095db622002d5939d",
       "placeholder": "If yes, what is the delay between different stages?",
       "style": "IPY_MODEL_fe8b18cd7c4f4473803dd9935ab847a2"
      }
     },
     "e691a2cd2ebf4f3b8e3cedd0e04daa08": {
      "model_module": "@jupyter-widgets/controls",
      "model_module_version": "2.0.0",
      "model_name": "ToggleButtonsModel",
      "state": {
       "_options_labels": [
        "When data updated",
        "Hourly",
        "Daily",
        "Weekly",
        "Monthly",
        "Annually",
        "Other",
        "N/A"
       ],
       "button_style": "",
       "description": "If the data will be updated, how often will it be updated?",
       "icons": [],
       "index": 7,
       "layout": "IPY_MODEL_bdddde8c705e47f5ad59744bf45d5b72",
       "style": "IPY_MODEL_5d9e63e340ab41b8829422d03cef43c9",
       "tooltips": []
      }
     },
     "e76fa0c929a94718a2aa04a5108e803e": {
      "model_module": "@jupyter-widgets/controls",
      "model_module_version": "2.0.0",
      "model_name": "ToggleButtonsStyleModel",
      "state": {
       "button_width": "",
       "description_width": ""
      }
     },
     "e7f357ec40dc460c90a35e63a443f064": {
      "model_module": "@jupyter-widgets/base",
      "model_module_version": "2.0.0",
      "model_name": "LayoutModel",
      "state": {
       "width": "20px"
      }
     },
     "ea8c1b1d726e46e8a54106304ac558cc": {
      "model_module": "@jupyter-widgets/controls",
      "model_module_version": "2.0.0",
      "model_name": "ToggleButtonsStyleModel",
      "state": {
       "button_width": "",
       "description_width": ""
      }
     },
     "eb8275fabc524eaeb5419018d2364117": {
      "model_module": "@jupyter-widgets/controls",
      "model_module_version": "2.0.0",
      "model_name": "ToggleButtonsModel",
      "state": {
       "_options_labels": [
        "Yes",
        "No"
       ],
       "button_style": "",
       "description": "2.2 Is there any documentation about the completeness of the dataset?",
       "icons": [],
       "index": 1,
       "layout": "IPY_MODEL_dc27a23977b04e8a8370e8c1f0f67639",
       "style": "IPY_MODEL_a5913b44f72044dd8333dc19052ea877",
       "tooltips": []
      }
     },
     "ebac129f85114ad58b40f15d3d088341": {
      "model_module": "@jupyter-widgets/controls",
      "model_module_version": "2.0.0",
      "model_name": "ToggleButtonsModel",
      "state": {
       "_options_labels": [
        "Yes",
        "No",
        "N/A"
       ],
       "button_style": "",
       "description": "Are there tools/services to support data format conversion?",
       "icons": [],
       "index": 2,
       "layout": "IPY_MODEL_23c28c106bf048f49aa015139736aa70",
       "style": "IPY_MODEL_256839d4dc924474ba4261244865a3b4",
       "tooltips": []
      }
     },
     "ed1bef8cf656457d9d50a9c2a8165d14": {
      "model_module": "@jupyter-widgets/controls",
      "model_module_version": "2.0.0",
      "model_name": "ToggleButtonsModel",
      "state": {
       "_options_labels": [
        "Yes",
        "No",
        "N/A"
       ],
       "button_style": "",
       "description": "5.4 Are there associated targets or labels for supervised learning techniques (i.e., can this be used as a training dataset for supervised learning techniques)?",
       "icons": [],
       "index": 2,
       "layout": "IPY_MODEL_98a4bde4f50a499ea658f46a87b6d711",
       "style": "IPY_MODEL_1a3de260603a48a688f6326dad1ceac0",
       "tooltips": []
      }
     },
     "eeb4a8884d98446c9b02d27367f73aac": {
      "model_module": "@jupyter-widgets/controls",
      "model_module_version": "2.0.0",
      "model_name": "TextModel",
      "state": {
       "layout": "IPY_MODEL_f109b7937954411b9aac1bd52b56b446",
       "placeholder": "Total data volumn:",
       "style": "IPY_MODEL_277964fa2e8a41fbaf868394ce8a7c61"
      }
     },
     "eecfd267603f4154a33ab0972474abdd": {
      "model_module": "@jupyter-widgets/controls",
      "model_module_version": "2.0.0",
      "model_name": "ToggleButtonsModel",
      "state": {
       "_options_labels": [
        "Yes",
        "No",
        "N/A"
       ],
       "button_style": "",
       "description": "2.5 Is this dataset self-consistent in that its units, data types, and parameter names do not change over time and space?",
       "icons": [],
       "index": 2,
       "layout": "IPY_MODEL_205ce804631a421e8cf232937c15e658",
       "style": "IPY_MODEL_c331b7e170b041ab979bb8f6cd469183",
       "tooltips": []
      }
     },
     "f0f40f670e684829bf8756f8c1af2792": {
      "model_module": "@jupyter-widgets/base",
      "model_module_version": "2.0.0",
      "model_name": "LayoutModel",
      "state": {
       "width": "500px"
      }
     },
     "f109b7937954411b9aac1bd52b56b446": {
      "model_module": "@jupyter-widgets/base",
      "model_module_version": "2.0.0",
      "model_name": "LayoutModel",
      "state": {}
     },
     "f190ce301cfe4338bae93dd492ed83bc": {
      "model_module": "@jupyter-widgets/controls",
      "model_module_version": "2.0.0",
      "model_name": "LabelModel",
      "state": {
       "layout": "IPY_MODEL_d37adb73664b4411b631516a751de157",
       "style": "IPY_MODEL_67c509c55aa246378b5cb72978bc8171",
       "value": "2.13 What is the size of the dataset? Depending on the resource, this might be:"
      }
     },
     "f218cf8b32274406a335efdbe6b49f72": {
      "model_module": "@jupyter-widgets/controls",
      "model_module_version": "2.0.0",
      "model_name": "ToggleButtonsModel",
      "state": {
       "_options_labels": [
        "Yes",
        "No",
        "N/A"
       ],
       "button_style": "",
       "description": "If there is an API, is there documentation for the API?",
       "icons": [],
       "index": 2,
       "layout": "IPY_MODEL_7b2dcbbba35d4d6680a2e8cbb0057ede",
       "style": "IPY_MODEL_5b97a3671d7146078579b13a62f163fe",
       "tooltips": []
      }
     },
     "f22b163ad73044b9a4279315a74b0a51": {
      "model_module": "@jupyter-widgets/base",
      "model_module_version": "2.0.0",
      "model_name": "LayoutModel",
      "state": {
       "display": "none",
       "width": "500px"
      }
     },
     "f360cabd586e47efbf58739316ee9003": {
      "model_module": "@jupyter-widgets/base",
      "model_module_version": "2.0.0",
      "model_name": "LayoutModel",
      "state": {}
     },
     "f493146dc2f14bcbbda4c30877661898": {
      "model_module": "@jupyter-widgets/controls",
      "model_module_version": "2.0.0",
      "model_name": "TextModel",
      "state": {
       "layout": "IPY_MODEL_7846a886c5c14d1790f82a05462c4f30",
       "placeholder": "(optional) Link to the report/document on the bias",
       "style": "IPY_MODEL_0d3a3a1f587641fd9b4f3827a48b01ce"
      }
     },
     "f4d3f25dacc94bfeb0ac3dad738044e8": {
      "model_module": "@jupyter-widgets/base",
      "model_module_version": "2.0.0",
      "model_name": "LayoutModel",
      "state": {}
     },
     "f4eea39f21824dcf9f7e7958f043ea53": {
      "model_module": "@jupyter-widgets/controls",
      "model_module_version": "2.0.0",
      "model_name": "TextModel",
      "state": {
       "layout": "IPY_MODEL_889f9e53e70b4b84b8845236ca19a28b",
       "placeholder": "1.3. Location / url link",
       "style": "IPY_MODEL_3d0fbafbce114864b9c14f87dd5d2f39"
      }
     },
     "f54ddb1f789b4914a8a830de9a131640": {
      "model_module": "@jupyter-widgets/controls",
      "model_module_version": "2.0.0",
      "model_name": "LabelModel",
      "state": {
       "layout": "IPY_MODEL_6b12c6543cef4833b1517854497416e2",
       "style": "IPY_MODEL_a2bd85257fe84290a58ba5e696efecc4",
       "value": "Number of images:"
      }
     },
     "f688eff112884b50b07b58195a6b2310": {
      "model_module": "@jupyter-widgets/base",
      "model_module_version": "2.0.0",
      "model_name": "LayoutModel",
      "state": {
       "display": "none"
      }
     },
     "f6f2143672ab41c19e260d691a6634e4": {
      "model_module": "@jupyter-widgets/controls",
      "model_module_version": "2.0.0",
      "model_name": "ToggleButtonsModel",
      "state": {
       "_options_labels": [
        "Yes",
        "No",
        "N/A"
       ],
       "button_style": "",
       "description": "4.2 Does data access require authentication (e.g., a registered user account)?",
       "icons": [],
       "index": 2,
       "layout": "IPY_MODEL_82c4d4a483394eb19e6a63fd4f714c1f",
       "style": "IPY_MODEL_ea8c1b1d726e46e8a54106304ac558cc",
       "tooltips": []
      }
     },
     "f729259fd68c4e0e8ecf5872154ce7c7": {
      "model_module": "@jupyter-widgets/base",
      "model_module_version": "2.0.0",
      "model_name": "LayoutModel",
      "state": {
       "display": "none"
      }
     },
     "f7a5de0016fd4420bf6cf36ebf8956bd": {
      "model_module": "@jupyter-widgets/controls",
      "model_module_version": "2.0.0",
      "model_name": "TextModel",
      "state": {
       "layout": "IPY_MODEL_f22b163ad73044b9a4279315a74b0a51",
       "placeholder": "If yes, what measures are taken? Manual review / Automated review etc.",
       "style": "IPY_MODEL_e4d0ba552e9d49438f0b18386128770f"
      }
     },
     "f82b1ccdf3f74b44b9bba3c357baeec0": {
      "model_module": "@jupyter-widgets/controls",
      "model_module_version": "2.0.0",
      "model_name": "HBoxModel",
      "state": {
       "children": [
        "IPY_MODEL_f54ddb1f789b4914a8a830de9a131640",
        "IPY_MODEL_9809ed4ffa4d41258e2b76708524352a",
        "IPY_MODEL_583588f64c894b6194ed12de01f622af",
        "IPY_MODEL_5167f49714154e59aa469df724de7bc7",
        "IPY_MODEL_98f2afc028aa43dbabf6978323fcf500"
       ],
       "layout": "IPY_MODEL_595cdf87a62f486cbc46f810288c229b"
      }
     },
     "f98b1a262bce4ca5b8b42e00a977d205": {
      "model_module": "@jupyter-widgets/controls",
      "model_module_version": "2.0.0",
      "model_name": "ToggleButtonsStyleModel",
      "state": {
       "button_width": "",
       "description_width": ""
      }
     },
     "f9a4b9f4c98f406aa4dd9ed37da699dc": {
      "model_module": "@jupyter-widgets/base",
      "model_module_version": "2.0.0",
      "model_name": "LayoutModel",
      "state": {
       "width": "100px"
      }
     },
     "faae97665b744117acbe24cd7cd1b9a8": {
      "model_module": "@jupyter-widgets/controls",
      "model_module_version": "2.0.0",
      "model_name": "ToggleButtonsStyleModel",
      "state": {
       "button_width": "",
       "description_width": ""
      }
     },
     "fbde7905f5cb49c690a5883b077b6f10": {
      "model_module": "@jupyter-widgets/base",
      "model_module_version": "2.0.0",
      "model_name": "LayoutModel",
      "state": {}
     },
     "fd77e4b00b264313adabb80fce0ab2cc": {
      "model_module": "@jupyter-widgets/base",
      "model_module_version": "2.0.0",
      "model_name": "LayoutModel",
      "state": {}
     },
     "fe767b9d9d1e43819396143e4b6ac7b6": {
      "model_module": "@jupyter-widgets/base",
      "model_module_version": "2.0.0",
      "model_name": "LayoutModel",
      "state": {}
     },
     "fe8b18cd7c4f4473803dd9935ab847a2": {
      "model_module": "@jupyter-widgets/controls",
      "model_module_version": "2.0.0",
      "model_name": "TextStyleModel",
      "state": {
       "description_width": "",
       "font_size": null,
       "text_color": null
      }
     },
     "fe95d5560cfb41709a9bf4f91742ddd4": {
      "model_module": "@jupyter-widgets/base",
      "model_module_version": "2.0.0",
      "model_name": "LayoutModel",
      "state": {}
     },
     "fefd06da478947639d979954691d4846": {
      "model_module": "@jupyter-widgets/controls",
      "model_module_version": "2.0.0",
      "model_name": "TextStyleModel",
      "state": {
       "description_width": "",
       "font_size": null,
       "text_color": null
      }
     }
    },
    "version_major": 2,
    "version_minor": 0
   }
  }
 },
 "nbformat": 4,
 "nbformat_minor": 5
}
