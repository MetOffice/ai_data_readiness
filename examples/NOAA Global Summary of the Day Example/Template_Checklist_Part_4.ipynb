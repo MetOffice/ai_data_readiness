{
 "cells": [
  {
   "cell_type": "markdown",
   "id": "1e08378b-6bbe-4203-8b90-1bed8c97a679",
   "metadata": {
    "editable": true,
    "slideshow": {
     "slide_type": ""
    },
    "tags": []
   },
   "source": [
    "\n",
    "<link rel=\"stylesheet\" href=\"https://unpkg.com/thebe@latest/lib/index.css\">\n",
    "<script src=\"https://unpkg.com/thebe@latest/lib/index.js\"></script>\n",
    "\n",
    "<script type=\"text/javascript\">\n",
    "  document.addEventListener(\"DOMContentLoaded\", function() {\n",
    "    thebelab.bootstrap({\n",
    "      requestKernel: true,\n",
    "      binderOptions: {\n",
    "        repo: \"your-repo/your-project\",\n",
    "        ref: \"main\",\n",
    "      },\n",
    "      codeMirrorConfig: {\n",
    "        theme: \"abcdef\",\n",
    "      },\n",
    "    });\n",
    "  });\n",
    "</script>\n"
   ]
  },
  {
   "cell_type": "markdown",
   "id": "f8198bd3-3e2a-444f-bff5-c9647a804ca9",
   "metadata": {
    "editable": true,
    "slideshow": {
     "slide_type": ""
    },
    "tags": []
   },
   "source": [
    "# **Data Readiness For AI Checklist - Part 4**\n",
    "\n",
    " * Creator(s) John Pill\n",
    " * Affiliation: UK Met Office\n",
    " * History: 1.0\n",
    " * Last update: 27 August 2024.\n",
    "\n",
    "\n",
    "---"
   ]
  },
  {
   "cell_type": "markdown",
   "id": "876a7a13-d1df-4430-9d4c-0edde6d17976",
   "metadata": {},
   "source": [
    "## **Tutorial Material**\n",
    "\n",
    "* **Run this Jupyter notebook locally using Jupyter Lab**\n",
    "* **Select 'Run All Cells' from the 'Run' menu to generate the checklist**.\n",
    "* **Remember to save your notebook regularly as you work through it to prevent loosing your answers.**\n",
    "\n",
    "\n",
    "## **Data section, optional**\n",
    "Scripts for pulling the data into the notebook assuming\n",
    "\n",
    "---"
   ]
  },
  {
   "cell_type": "markdown",
   "id": "f6840884-d7bb-43fa-a3e3-8c4106c435e5",
   "metadata": {},
   "source": [
    "## **Setup Notebook**"
   ]
  },
  {
   "cell_type": "code",
   "execution_count": 1,
   "id": "5b5a42bb-1da9-4460-a6a0-8d85063fd096",
   "metadata": {
    "editable": true,
    "slideshow": {
     "slide_type": ""
    },
    "tags": [
     "thebe-init"
    ]
   },
   "outputs": [],
   "source": [
    "import ipywidgets as widgets\n",
    "from IPython.display import display, clear_output\n",
    "import json\n",
    "import sys\n",
    "import os\n",
    "sys.path.append(os.path.abspath('../..')) # Add the parent directory to the system path\n",
    "from utils import *"
   ]
  },
  {
   "cell_type": "code",
   "execution_count": 2,
   "id": "0b769970-71ed-48a7-95fb-da873b6330c8",
   "metadata": {
    "editable": true,
    "slideshow": {
     "slide_type": ""
    },
    "tags": [
     "thebe-init"
    ]
   },
   "outputs": [],
   "source": [
    "# Load checklist from JSON file:\n",
    "checklist = load_checklist()"
   ]
  },
  {
   "cell_type": "markdown",
   "id": "087dd158-2a04-45b5-a0c0-599761f33f94",
   "metadata": {},
   "source": [
    "#### Reset stored answers to start again:"
   ]
  },
  {
   "cell_type": "code",
   "execution_count": 3,
   "id": "a467851d-ee03-46f7-a194-8e516c374b8e",
   "metadata": {
    "jupyter": {
     "source_hidden": true
    }
   },
   "outputs": [],
   "source": [
    "# Reset all checklist answers back to original blank answers for all sections.\n",
    "# Any completed information will be lost. \n",
    "\n",
    "# To reset the stored answers uncomment and run these lines of code below. Re-comment the lines afterwards to avoid them running again. \n",
    "# reset_checklist()\n",
    "# checklist = load_checklist()\n",
    "\n",
    "# You can then re-run each section to reload it on the reset data. "
   ]
  },
  {
   "cell_type": "code",
   "execution_count": 4,
   "id": "8a91cf5e-1967-4a77-98fb-c82e6d5ac2de",
   "metadata": {
    "jupyter": {
     "source_hidden": true
    }
   },
   "outputs": [
    {
     "name": "stdout",
     "output_type": "stream",
     "text": [
      "Dataset: NOAA Global Surface Summary of the Day (GSOD)\n",
      "Dataset link: https://www.ncei.noaa.gov/metadata/geoportal/rest/metadata/item/gov.noaa.ncdc:C00516/html\n",
      "Assessor: John Pill\n",
      "Assessor email: john.pill@metoffice.gov.uk\n"
     ]
    }
   ],
   "source": [
    "\n",
    "print(\"Dataset:\", checklist[\"GeneralInformation\"][\"DatasetName\"])\n",
    "print(\"Dataset link:\", checklist[\"GeneralInformation\"][\"DatasetLink\"])\n",
    "print(\"Assessor:\", checklist[\"GeneralInformation\"][\"AssessorName\"])\n",
    "print(\"Assessor email:\", checklist[\"GeneralInformation\"][\"AssessorEmailAddress\"])"
   ]
  },
  {
   "cell_type": "markdown",
   "id": "ead060fb-06f2-4aae-9078-bf85bc7d9228",
   "metadata": {},
   "source": [
    "---\n",
    "\n",
    "## **4. Data Access**"
   ]
  },
  {
   "cell_type": "markdown",
   "id": "12e3b61f-8d2d-45b1-84e5-edabefbf4277",
   "metadata": {},
   "source": [
    "### File formats"
   ]
  },
  {
   "cell_type": "code",
   "execution_count": 5,
   "id": "77ec0e3b-f57f-4b1a-ae3e-e11da3fd2cd0",
   "metadata": {
    "jupyter": {
     "source_hidden": true
    }
   },
   "outputs": [
    {
     "data": {
      "application/vnd.jupyter.widget-view+json": {
       "model_id": "98f0de2897764c90bb5090562e5db522",
       "version_major": 2,
       "version_minor": 0
      },
      "text/plain": [
       "Label(value='4.1 What is/are the major file formats? (Use shift / Ctrl / CMD to select multiple)')"
      ]
     },
     "metadata": {},
     "output_type": "display_data"
    },
    {
     "data": {
      "application/vnd.jupyter.widget-view+json": {
       "model_id": "e4dae8dae76d4e48a5eba5d8cb1d0620",
       "version_major": 2,
       "version_minor": 0
      },
      "text/plain": [
       "SelectMultiple(index=(0,), options=('CSV', 'netCDF', 'geoJSON', 'Shapefile', 'GRIB', 'HDF', 'GeoTIFF', 'KML', …"
      ]
     },
     "metadata": {},
     "output_type": "display_data"
    },
    {
     "data": {
      "application/vnd.jupyter.widget-view+json": {
       "model_id": "1894d6c0cb9b463d8cdd0b9bc5f8d30d",
       "version_major": 2,
       "version_minor": 0
      },
      "text/plain": [
       "Combobox(value='Yes', description='Are the main formats machine-readable?', layout=Layout(width='900px'), opti…"
      ]
     },
     "metadata": {},
     "output_type": "display_data"
    },
    {
     "data": {
      "application/vnd.jupyter.widget-view+json": {
       "model_id": "e67c56a449f04de5b5d99158ed250c23",
       "version_major": 2,
       "version_minor": 0
      },
      "text/plain": [
       "Combobox(value='Yes', description='Is the data available in at least one open, non-proprietary format?', layou…"
      ]
     },
     "metadata": {},
     "output_type": "display_data"
    },
    {
     "data": {
      "application/vnd.jupyter.widget-view+json": {
       "model_id": "286c91948a7a45e8b5d7b33a9399d6b8",
       "version_major": 2,
       "version_minor": 0
      },
      "text/plain": [
       "Combobox(value='Yes', description='Are there tools/services to support data format conversion?', layout=Layout…"
      ]
     },
     "metadata": {},
     "output_type": "display_data"
    },
    {
     "data": {
      "application/vnd.jupyter.widget-view+json": {
       "model_id": "bcc19190fb854d71b0018b9f0428a06e",
       "version_major": 2,
       "version_minor": 0
      },
      "text/plain": [
       "Text(value='https://pandas.pydata.org/ https://www.arcgis.com/home/index.html https://www.qgis.org/', descript…"
      ]
     },
     "metadata": {},
     "output_type": "display_data"
    }
   ],
   "source": [
    "\n",
    "dataset_file_formats_label = widgets.Label(\n",
    "    value = \"4.1 What is/are the major file formats? (Use shift / Ctrl / CMD to select multiple)\"\n",
    ")\n",
    "\n",
    "dataset_file_format_options = ['CSV', 'netCDF', 'geoJSON', 'Shapefile', 'GRIB', 'HDF', 'GeoTIFF', 'KML', 'GINI', 'Zarr', 'Other']\n",
    "\n",
    "dataset_file_formats = widgets.SelectMultiple(\n",
    "            value=checklist['DataAccess']['FileFormats'],\n",
    "            options=dataset_file_format_options,\n",
    "            rows=len(dataset_file_format_options),\n",
    ")\n",
    "\n",
    "dataset_file_formats_machine_readable = widgets.Combobox(\n",
    "            value=checklist['DataAccess']['FileFormatsMachineReadable'],\n",
    "            options=['Yes', 'No', 'N/A'],\n",
    "            description='Are the main formats machine-readable?',\n",
    "            placeholder=placeholder,\n",
    "            layout=widgets.Layout(width=widget_width),\n",
    "            style = description_style\n",
    "            )\n",
    "\n",
    "dataset_file_formats_non_proprietary = widgets.Combobox(\n",
    "            value=checklist['DataAccess']['OpenFormatAvailable'],\n",
    "            options=['Yes', 'No', 'N/A'],\n",
    "            description='Is the data available in at least one open, non-proprietary format?',\n",
    "            placeholder=placeholder,\n",
    "            layout=widgets.Layout(width=widget_width),\n",
    "            style = description_style\n",
    "            )\n",
    "\n",
    "dataset_file_formats_conversion_tools = widgets.Combobox(\n",
    "            value=checklist['DataAccess']['FormatConversionTools'],\n",
    "            options=['Yes', 'No', 'N/A'],\n",
    "            description='Are there tools/services to support data format conversion?',\n",
    "            placeholder=placeholder,\n",
    "            layout=widgets.Layout(width=widget_width),\n",
    "            style = description_style\n",
    "            )\n",
    "\n",
    "dataset_file_formats_conversion_tools_link = widgets.Text(\n",
    "            value=checklist['DataAccess']['ConversionToolsLink'],\n",
    "            description='Tools / services link:',\n",
    "            placeholder='If yes, provide the link to the tools/services',\n",
    "            layout=widgets.Layout(width=widget_width),\n",
    "            style = description_style\n",
    "            )\n",
    "\n",
    "def on_click_handler_sel_format(change):\n",
    "    \"\"\"\n",
    "    Completes various fields based on the file format selection.\n",
    "    \"\"\"\n",
    "    \n",
    "    selected_formats = change['new']\n",
    "    dataset_file_formats_conversion_tools_link_dict = {'CSV':['https://pandas.pydata.org/', 'https://www.qgis.org/', 'https://www.arcgis.com/home/index.html', ],\n",
    "                                                        'netCDF':['https://unidata.github.io/netcdf4-python/','https://scitools-iris.readthedocs.io/en/stable/index.html', 'https://docs.xarray.dev/en/stable/', 'https://www.giss.nasa.gov/tools/panoply/', 'https://www.unidata.ucar.edu/software/tds/', 'https://www.mathworks.com/products/matlab.html'],\n",
    "                                                        'geoJSON':['https://www.qgis.org/', 'https://www.arcgis.com/home/index.html', 'https://geopandas.org/en/stable/', 'https://shapely.readthedocs.io/en/stable/manual.html'],\n",
    "                                                        'Shapefile':['https://www.qgis.org/', 'https://www.arcgis.com/home/index.html', 'https://gdal.org/en/latest/', 'https://pypi.org/project/pyshp/', 'https://geopandas.org/en/stable/',], \n",
    "                                                        'GRIB':['https://scitools-iris.readthedocs.io/en/stable/index.html', 'https://www.giss.nasa.gov/tools/panoply/', 'https://www.qgis.org/', 'https://www.cpc.ncep.noaa.gov/products/wesley/wgrib2/', 'https://github.com/ecmwf/cfgrib'],\n",
    "                                                        'HDF':['https://www.h5py.org/', 'https://www.giss.nasa.gov/tools/panoply/','https://earth.esa.int/eogateway/tools/hdfview'],\n",
    "                                                        'GeoTIFF':['https://www.qgis.org/', 'https://www.arcgis.com/home/index.html','https://gdal.org/en/latest/','https://rasterio.readthedocs.io/en/stable/'],\n",
    "                                                        'KML':['https://www.qgis.org/', 'https://www.arcgis.com/home/index.html','https://fastkml.readthedocs.io/en/latest/','https://simplekml.readthedocs.io/en/latest/'],\n",
    "                                                        'GINI':['https://gdal.org/en/latest/', 'https://www.unidata.ucar.edu/software/metpy/'],\n",
    "                                                        'Zarr':['https://zarr.readthedocs.io/en/stable/', 'https://docs.xarray.dev/en/stable/','https://www.dask.org']}\n",
    "\n",
    "    if set(selected_formats) & {'CSV', 'netCDF', 'geoJSON', 'Shapefile', 'GRIB', 'HDF', 'GeoTIFF', 'KML', 'GINI', 'Zarr'}:\n",
    "        dataset_file_formats_machine_readable.value = 'Yes'\n",
    "    elif set(selected_formats) & {'Other'}:\n",
    "        dataset_file_formats_machine_readable.value = ''\n",
    "    else:\n",
    "        dataset_file_formats_machine_readable.value = 'No'\n",
    "    \n",
    "    if set(selected_formats) & {'CSV', 'netCDF', 'geoJSON', 'Shapefile', 'GRIB', 'HDF','GeoTIFF', 'Zarr'}:\n",
    "        dataset_file_formats_non_proprietary.value = 'Yes'\n",
    "    elif set(selected_formats) & {'Other'}:\n",
    "        dataset_file_formats_non_proprietary.value = ''\n",
    "    else:\n",
    "        dataset_file_formats_non_proprietary.value = 'No'\n",
    "    \n",
    "    # Determine if conversion tools are available\n",
    "    if set(selected_formats) & {'CSV', 'netCDF', 'geoJSON', 'Shapefile', 'GRIB', 'HDF', 'GeoTIFF', 'KML', 'GINI', 'Zarr'}:\n",
    "        dataset_file_formats_conversion_tools.value = 'Yes'\n",
    "        dataset_file_formats_conversion_tools_link_list = []\n",
    "        for format in list(set(selected_formats)):\n",
    "            [dataset_file_formats_conversion_tools_link_list.append(i) for i in dataset_file_formats_conversion_tools_link_dict[format]]\n",
    "        dataset_file_formats_conversion_tools_link.value = ' '.join(list(set(dataset_file_formats_conversion_tools_link_list)))\n",
    "    elif set(selected_formats) & {'Other'}:\n",
    "        dataset_file_formats_conversion_tools.value = ''\n",
    "        dataset_file_formats_conversion_tools_link.value = ''\n",
    "    else:\n",
    "        dataset_file_formats_conversion_tools.value = 'No'\n",
    "        dataset_file_formats_conversion_tools_link.value = ''\n",
    "\n",
    "dataset_file_formats.observe(on_click_handler_sel_format, names='value')\n",
    "\n",
    "display(dataset_file_formats_label, dataset_file_formats, dataset_file_formats_machine_readable, dataset_file_formats_non_proprietary, dataset_file_formats_conversion_tools, dataset_file_formats_conversion_tools_link)"
   ]
  },
  {
   "cell_type": "markdown",
   "id": "7e3bb476-ba1e-4507-b7f0-55db7ce9710a",
   "metadata": {},
   "source": [
    "### Data delivery"
   ]
  },
  {
   "cell_type": "code",
   "execution_count": 6,
   "id": "acf9768d-6572-4719-b5d3-b95e7e94d2f5",
   "metadata": {
    "jupyter": {
     "source_hidden": true
    }
   },
   "outputs": [
    {
     "data": {
      "application/vnd.jupyter.widget-view+json": {
       "model_id": "bbba707ef99d4100b4a05de95c51530a",
       "version_major": 2,
       "version_minor": 0
      },
      "text/plain": [
       "Combobox(value='No', description='4.2 Does data access require authentication (e.g., a registered user account…"
      ]
     },
     "metadata": {},
     "output_type": "display_data"
    },
    {
     "data": {
      "application/vnd.jupyter.widget-view+json": {
       "model_id": "486aa357b7a9459b9fdaf5caaf6b843b",
       "version_major": 2,
       "version_minor": 0
      },
      "text/plain": [
       "Combobox(value='Yes', description='4.3 Can the file be accessed via direct file downloading or ordering?', lay…"
      ]
     },
     "metadata": {},
     "output_type": "display_data"
    },
    {
     "data": {
      "application/vnd.jupyter.widget-view+json": {
       "model_id": "b063f2a66a064c14aeea454bbc076631",
       "version_major": 2,
       "version_minor": 0
      },
      "text/plain": [
       "Combobox(value='Yes', description='4.4 Is there an Application Programming Interface (API) or web service to a…"
      ]
     },
     "metadata": {},
     "output_type": "display_data"
    },
    {
     "data": {
      "application/vnd.jupyter.widget-view+json": {
       "model_id": "a8ba1239362340b58099b1e5bcc712c4",
       "version_major": 2,
       "version_minor": 0
      },
      "text/plain": [
       "Combobox(value='Yes', description='If there is an API, does the API follow an open standard protocol (e.g., OG…"
      ]
     },
     "metadata": {},
     "output_type": "display_data"
    },
    {
     "data": {
      "application/vnd.jupyter.widget-view+json": {
       "model_id": "52b84df6f31d4226a6353bee92b5a4b3",
       "version_major": 2,
       "version_minor": 0
      },
      "text/plain": [
       "Combobox(value='Yes', description='If there is an API, is there documentation for the API?', layout=Layout(dis…"
      ]
     },
     "metadata": {},
     "output_type": "display_data"
    },
    {
     "data": {
      "application/vnd.jupyter.widget-view+json": {
       "model_id": "fcd4827d0f3c4e238aa3eb96410ae7f5",
       "version_major": 2,
       "version_minor": 0
      },
      "text/plain": [
       "Text(value='https://www.ncei.noaa.gov/support/access-data-service-api-user-documentation', layout=Layout(displ…"
      ]
     },
     "metadata": {},
     "output_type": "display_data"
    }
   ],
   "source": [
    "\n",
    "dataset_authentication = widgets.Combobox(\n",
    "            value=checklist['DataAccess']['AuthenticationRequired'],\n",
    "            options=['Yes', 'No', 'N/A'],\n",
    "            description='4.2 Does data access require authentication (e.g., a registered user account)?',\n",
    "            placeholder=placeholder,\n",
    "            layout=widgets.Layout(width=widget_width),\n",
    "            style = description_style\n",
    "            )\n",
    "\n",
    "dataset_direct_access = widgets.Combobox(\n",
    "            value=checklist['DataAccess']['DirectDownloadAvailable'],\n",
    "            options=['Yes', 'No', 'N/A'],\n",
    "            description='4.3 Can the file be accessed via direct file downloading or ordering?',\n",
    "            placeholder=placeholder,\n",
    "            layout=widgets.Layout(width=widget_width),\n",
    "            style = description_style\n",
    "            )\n",
    "\n",
    "dataset_api_available = widgets.Combobox(\n",
    "            value=checklist['DataAccess']['APIorWebAvailable'],\n",
    "            options=['Yes', 'No', 'N/A'],\n",
    "            description='4.4 Is there an Application Programming Interface (API) or web service to access the data?',\n",
    "            placeholder=placeholder,\n",
    "            layout=widgets.Layout(width=widget_width),\n",
    "            style = description_style\n",
    "            )\n",
    "\n",
    "dataset_api_standard_protocol = widgets.Combobox(\n",
    "            value=checklist['DataAccess']['APIOpenStandard'],\n",
    "            options=['Yes', 'No', 'N/A'],\n",
    "            description='If there is an API, does the API follow an open standard protocol (e.g., OGC)?',\n",
    "            placeholder=placeholder,\n",
    "            layout=widgets.Layout(display=\"none\", width=widget_width),\n",
    "            style = description_style\n",
    "            )\n",
    "\n",
    "dataset_api_documentation_available = widgets.Combobox(\n",
    "            value=checklist['DataAccess']['APIDocumentation'],\n",
    "            options=['Yes', 'No', 'N/A'],\n",
    "            description='If there is an API, is there documentation for the API?',\n",
    "            placeholder=placeholder,\n",
    "            layout=widgets.Layout(display=\"none\", width=widget_width),\n",
    "            style = description_style\n",
    "            )\n",
    "\n",
    "dataset_api_documentation_link = widgets.Text(\n",
    "            value=checklist['DataAccess']['APIDocumentationLink'],\n",
    "            placeholder='If “Yes”, please provide a URL to the documentation.',\n",
    "            layout=widgets.Layout(display=\"none\", width=widget_width)\n",
    "            )\n",
    "\n",
    "\n",
    "\n",
    "# Function to change the display setting of the following UI components. \n",
    "def on_click_handler(change):    \n",
    "\n",
    "    # Show / hide main trunk of questions. \n",
    "    if dataset_api_available.value == \"Yes\":\n",
    "        dataset_api_standard_protocol.layout.display = ''\n",
    "        dataset_api_documentation_available.layout.display = ''\n",
    "        dataset_api_documentation_link.layout.display = ''\n",
    "\n",
    "    else:   \n",
    "        dataset_api_standard_protocol.layout.display = 'none'\n",
    "        dataset_api_documentation_available.layout.display = 'none'\n",
    "        dataset_api_documentation_link.layout.display = 'none'\n",
    "\n",
    "        dataset_api_standard_protocol.value = 'N/A'\n",
    "        dataset_api_documentation_available.value = 'N/A'\n",
    "        dataset_api_documentation_link.value = ''\n",
    "\n",
    "            \n",
    "# Display the UI components\n",
    "display(dataset_authentication, dataset_direct_access, dataset_api_available, dataset_api_standard_protocol, dataset_api_documentation_available, dataset_api_documentation_link)\n",
    "\n",
    "\n",
    "# Observe UI components for changes and call the on_click_handler function if value property changed. \n",
    "dataset_api_available.observe(on_click_handler, names=\"value\")\n",
    "\n"
   ]
  },
  {
   "cell_type": "markdown",
   "id": "5cb8b683-a629-4616-8074-65e696da6e9a",
   "metadata": {},
   "source": [
    "### Privacy and security\n"
   ]
  },
  {
   "cell_type": "code",
   "execution_count": 7,
   "id": "16e6258a-3aee-42fe-bc61-3161b89a499c",
   "metadata": {
    "jupyter": {
     "source_hidden": true
    }
   },
   "outputs": [
    {
     "data": {
      "application/vnd.jupyter.widget-view+json": {
       "model_id": "9b73369b2e22429e8defe2c80303f477",
       "version_major": 2,
       "version_minor": 0
      },
      "text/plain": [
       "Combobox(value='N/A', description='4.5 For restricted data, have measures been taken to provide some access wh…"
      ]
     },
     "metadata": {},
     "output_type": "display_data"
    },
    {
     "data": {
      "application/vnd.jupyter.widget-view+json": {
       "model_id": "e547beb4414a4ae59c9a0cabbb6f7c15",
       "version_major": 2,
       "version_minor": 0
      },
      "text/plain": [
       "Combobox(value='Yes', description='4.6 Has the data been aggregated to reduce granularity?', layout=Layout(wid…"
      ]
     },
     "metadata": {},
     "output_type": "display_data"
    },
    {
     "data": {
      "application/vnd.jupyter.widget-view+json": {
       "model_id": "a3c926ec9b00478c990a0f551c42f1ee",
       "version_major": 2,
       "version_minor": 0
      },
      "text/plain": [
       "Combobox(value='N/A', description='4.7 Has the data been anonymized / de-identified?', layout=Layout(width='90…"
      ]
     },
     "metadata": {},
     "output_type": "display_data"
    },
    {
     "data": {
      "application/vnd.jupyter.widget-view+json": {
       "model_id": "b15f6b2650b54deabcccfb20a7c968f8",
       "version_major": 2,
       "version_minor": 0
      },
      "text/plain": [
       "Combobox(value='N/A', description='4.8 Is there secure access to the full dataset for authorized users? ', lay…"
      ]
     },
     "metadata": {},
     "output_type": "display_data"
    }
   ],
   "source": [
    "\n",
    "dataset_restricted_protection = widgets.Combobox(\n",
    "            value=checklist['DataAccess']['SecurityMeasuresTaken'],\n",
    "            options=['Yes', 'No', 'N/A'],\n",
    "            description='4.5 For restricted data, have measures been taken to provide some access while still applying appropriate protection for privacy and security?',\n",
    "            placeholder=placeholder,\n",
    "            layout=widgets.Layout(width=widget_width),\n",
    "            style = description_style\n",
    "            \n",
    "            )\n",
    "\n",
    "dataset_aggregation = widgets.Combobox(\n",
    "            value=checklist['DataAccess']['DataAggregated'],\n",
    "            options=['Yes', 'No', 'N/A'],\n",
    "            description='4.6 Has the data been aggregated to reduce granularity?',\n",
    "            placeholder=placeholder,\n",
    "            layout=widgets.Layout(width=widget_width),\n",
    "            style = description_style\n",
    "            )\n",
    "\n",
    "dataset_anonymization = widgets.Combobox(\n",
    "            value=checklist['DataAccess']['DataAnonymized'],\n",
    "            options=['Yes', 'No', 'N/A'],\n",
    "            description='4.7 Has the data been anonymized / de-identified?',\n",
    "            placeholder=placeholder,\n",
    "            layout=widgets.Layout(width=widget_width),\n",
    "            style = description_style\n",
    "            )\n",
    "\n",
    "dataset_secure_access = widgets.Combobox(\n",
    "            value=checklist['DataAccess']['SecureAccessForAuthorizedUsers'],\n",
    "            options=['Yes', 'No', 'N/A'],\n",
    "            description='4.8 Is there secure access to the full dataset for authorized users? ',\n",
    "            placeholder=placeholder,\n",
    "            layout=widgets.Layout(width=widget_width),\n",
    "            style = description_style\n",
    "            )\n",
    "\n",
    "display(dataset_restricted_protection, dataset_aggregation, dataset_anonymization, dataset_secure_access)\n"
   ]
  },
  {
   "cell_type": "code",
   "execution_count": 8,
   "id": "739ddb16-9b20-4c19-8860-8e8636759965",
   "metadata": {
    "jupyter": {
     "source_hidden": true
    }
   },
   "outputs": [
    {
     "data": {
      "application/vnd.jupyter.widget-view+json": {
       "model_id": "29520388d06846c7afc8c98f157efa53",
       "version_major": 2,
       "version_minor": 0
      },
      "text/plain": [
       "Button(button_style='primary', description='Save Data Access Answers to json file', layout=Layout(flex='1 1 au…"
      ]
     },
     "metadata": {},
     "output_type": "display_data"
    }
   ],
   "source": [
    "\n",
    "# Save button\n",
    "save_button = widgets.Button(description=\"Save Data Access Answers to json file\",  button_style=\"primary\",  layout=widgets.Layout(flex='1 1 auto', width='auto'))\n",
    "\n",
    "def generate_updates_access():\n",
    "\n",
    "    updates = {\n",
    "        \"DataAccess\": {\n",
    "            #File Formats\n",
    "            \"FileFormats\": dataset_file_formats.value,\n",
    "            \"FileFormatsMachineReadable\": dataset_file_formats_machine_readable.value,\n",
    "            \"OpenFormatAvailable\": dataset_file_formats_non_proprietary.value,\n",
    "            \"FormatConversionTools\": dataset_file_formats_conversion_tools.value,\n",
    "            \"ConversionToolsLink\": dataset_file_formats_conversion_tools_link.value, \n",
    "\n",
    "            # Data Delivery\n",
    "            \"AuthenticationRequired\" : dataset_authentication.value,\n",
    "            \"DirectDownloadAvailable\" : dataset_direct_access.value,\n",
    "            \"APIorWebAvailable\" : dataset_api_available.value,\n",
    "            \"APIOpenStandard\" : dataset_api_standard_protocol.value,\n",
    "            \"APIDocumentation\" : dataset_api_documentation_available.value,\n",
    "            \"APIDocumentationLink\" : dataset_api_documentation_link.value,\n",
    "\n",
    "            # Privacy and Security\n",
    "            \"SecurityMeasuresTaken\" : dataset_restricted_protection.value,\n",
    "            \"DataAggregated\" : dataset_aggregation.value,\n",
    "            \"DataAnonymized\" : dataset_anonymization.value,\n",
    "            \"SecureAccessForAuthorizedUsers\" : dataset_secure_access.value,\n",
    "        }\n",
    "    }\n",
    "    return updates\n",
    "\n",
    "save_button.on_click(lambda b: update_checklist(b, generate_updates_access()))\n",
    "\n",
    "display(save_button)"
   ]
  },
  {
   "cell_type": "markdown",
   "id": "3824aa9e-9d66-4a2e-a1a2-60139f7c30dd",
   "metadata": {},
   "source": [
    "## Finished"
   ]
  },
  {
   "cell_type": "markdown",
   "id": "b917ce44-74fa-4290-8a31-931562746a4f",
   "metadata": {},
   "source": [
    "1. Make sure you saved your answers to the external json file using the buttons above. \n",
    "2. If you would like to view these saved answers use the button below. \n",
    "3. Move onto the notebook Template_Checklist_Part_5.ipynb covering Data Preparation"
   ]
  },
  {
   "cell_type": "code",
   "execution_count": 9,
   "id": "d35683fe-7d9f-40fa-81fa-99f926702fd6",
   "metadata": {
    "jupyter": {
     "source_hidden": true
    }
   },
   "outputs": [
    {
     "data": {
      "application/vnd.jupyter.widget-view+json": {
       "model_id": "42c43f5850a549ab969e34a2e5c43396",
       "version_major": 2,
       "version_minor": 0
      },
      "text/plain": [
       "Button(button_style='info', description='Print json results', layout=Layout(flex='1 1 auto', width='auto'), st…"
      ]
     },
     "metadata": {},
     "output_type": "display_data"
    },
    {
     "data": {
      "application/vnd.jupyter.widget-view+json": {
       "model_id": "8f15a0784d854593b841b44ef27f616d",
       "version_major": 2,
       "version_minor": 0
      },
      "text/plain": [
       "Output()"
      ]
     },
     "metadata": {},
     "output_type": "display_data"
    }
   ],
   "source": [
    "\n",
    "button_print_json = widgets.Button(description=\"Print json results\",  button_style='info', layout=widgets.Layout(flex='1 1 auto', width='auto'))\n",
    "output = widgets.Output()\n",
    "\n",
    "display(button_print_json, output)\n",
    "\n",
    "def print_json_info(b):\n",
    "    \"\"\"\n",
    "    Loads a copy of the json file to checklist variable. \n",
    "    Then prints the json file contents to Jupyter notebook cell output.\n",
    "\n",
    "    Arguments: b - represents the button calling the function. \n",
    "    \"\"\"\n",
    "    checklist = load_checklist()\n",
    "    with output:\n",
    "        clear_output()\n",
    "        for key, value in checklist.items():\n",
    "            print(f\"{key}:\")\n",
    "            if isinstance(value, dict):\n",
    "                for sub_key, sub_value in value.items():\n",
    "                    print(f\"  {sub_key}: {sub_value}\")\n",
    "            else:\n",
    "                print(f\"  {value}\")\n",
    "\n",
    "button_print_json.on_click(print_json_info)\n"
   ]
  },
  {
   "cell_type": "markdown",
   "id": "c760fc3b-f413-46e4-8a76-31684d83a2d2",
   "metadata": {},
   "source": [
    "---\n",
    "\n",
    "## **Appendix** - Definition of terms used in the checklist."
   ]
  },
  {
   "cell_type": "markdown",
   "id": "d5efc4cd-4a6d-4226-a29e-314bcc526d22",
   "metadata": {
    "editable": true,
    "slideshow": {
     "slide_type": ""
    },
    "tags": []
   },
   "source": [
    "### Data Access\n",
    "\n",
    "* **Formats**: standards that govern how information is stored in a computer file (e.g., CSV, JSON, GeoTIFF, etc.); different AI user communities will have different requirements, so the best practice is to provide several format options to meet the needs of multiple high priority user communities.\n",
    "* **Delivery Options**: mechanisms for publishing open data for public use (e.g., direct file download, Application Programming Interface (API), cloud services, etc.); different AI user communities will have different requirements, so the best practice is to provide several delivery options to meet the needs of multiple high priority user communities.\n",
    "* **License/Usage Rights**: information on who is allowed to use the data and for what purposes, including data sharing agreements, fees, etc.; some federal data needs to have restrictions and some will be fully open, so rights should be documented in detail\n",
    "* **Security/Privacy**: protection of data that is restricted in some way (privacy, proprietary/business information, national security, etc.)\n"
   ]
  }
 ],
 "metadata": {
  "kernelspec": {
   "display_name": "Python 3 (ipykernel)",
   "language": "python",
   "name": "python3"
  },
  "language_info": {
   "codemirror_mode": {
    "name": "ipython",
    "version": 3
   },
   "file_extension": ".py",
   "mimetype": "text/x-python",
   "name": "python",
   "nbconvert_exporter": "python",
   "pygments_lexer": "ipython3",
   "version": "3.11.8"
  },
  "widgets": {
   "application/vnd.jupyter.widget-state+json": {
    "state": {
     "019dc4eb465e4649bcb295d2aa4c5504": {
      "model_module": "@jupyter-widgets/controls",
      "model_module_version": "2.0.0",
      "model_name": "TextStyleModel",
      "state": {
       "description_width": "initial",
       "font_size": null,
       "text_color": null
      }
     },
     "05e3f3b0338f436fafe641d72b6d9374": {
      "model_module": "@jupyter-widgets/controls",
      "model_module_version": "2.0.0",
      "model_name": "TextStyleModel",
      "state": {
       "description_width": "initial",
       "font_size": null,
       "text_color": null
      }
     },
     "0b3057d53e8247ad97cbbb550f52cf3b": {
      "model_module": "@jupyter-widgets/controls",
      "model_module_version": "2.0.0",
      "model_name": "ButtonStyleModel",
      "state": {
       "font_family": null,
       "font_size": null,
       "font_style": null,
       "font_variant": null,
       "font_weight": null,
       "text_color": null,
       "text_decoration": null
      }
     },
     "0f8344ae0efc4bf3ab39d4f0fe61669b": {
      "model_module": "@jupyter-widgets/base",
      "model_module_version": "2.0.0",
      "model_name": "LayoutModel",
      "state": {}
     },
     "10bd33820a2d418c9d649f37ea0f9c6b": {
      "model_module": "@jupyter-widgets/controls",
      "model_module_version": "2.0.0",
      "model_name": "TextStyleModel",
      "state": {
       "description_width": "initial",
       "font_size": null,
       "text_color": null
      }
     },
     "14db99b329e64b1ea7501de0244048bd": {
      "model_module": "@jupyter-widgets/controls",
      "model_module_version": "2.0.0",
      "model_name": "TextStyleModel",
      "state": {
       "description_width": "initial",
       "font_size": null,
       "text_color": null
      }
     },
     "1894d6c0cb9b463d8cdd0b9bc5f8d30d": {
      "model_module": "@jupyter-widgets/controls",
      "model_module_version": "2.0.0",
      "model_name": "ComboboxModel",
      "state": {
       "description": "Are the main formats machine-readable?",
       "ensure_option": false,
       "layout": "IPY_MODEL_f10bab26915a442fa81a5707bec4df67",
       "options": [
        "Yes",
        "No",
        "N/A"
       ],
       "placeholder": "Click to select option",
       "style": "IPY_MODEL_ea806cf8ba4f43429d44d9ca33dbabd6",
       "value": "Yes"
      }
     },
     "19d0daf8a0064b1a957feee4528e90e3": {
      "model_module": "@jupyter-widgets/controls",
      "model_module_version": "2.0.0",
      "model_name": "TextStyleModel",
      "state": {
       "description_width": "initial",
       "font_size": null,
       "text_color": null
      }
     },
     "1c643c62c6b049ce871169d43e49c1e2": {
      "model_module": "@jupyter-widgets/base",
      "model_module_version": "2.0.0",
      "model_name": "LayoutModel",
      "state": {
       "display": "none",
       "width": "900px"
      }
     },
     "286c91948a7a45e8b5d7b33a9399d6b8": {
      "model_module": "@jupyter-widgets/controls",
      "model_module_version": "2.0.0",
      "model_name": "ComboboxModel",
      "state": {
       "description": "Are there tools/services to support data format conversion?",
       "ensure_option": false,
       "layout": "IPY_MODEL_2b3db37dc2684adaa0b61686e3acc379",
       "options": [
        "Yes",
        "No",
        "N/A"
       ],
       "placeholder": "Click to select option",
       "style": "IPY_MODEL_019dc4eb465e4649bcb295d2aa4c5504",
       "value": "Yes"
      }
     },
     "287553ba7c6e4f38b3335985a9a62950": {
      "model_module": "@jupyter-widgets/base",
      "model_module_version": "2.0.0",
      "model_name": "LayoutModel",
      "state": {
       "width": "900px"
      }
     },
     "29520388d06846c7afc8c98f157efa53": {
      "model_module": "@jupyter-widgets/controls",
      "model_module_version": "2.0.0",
      "model_name": "ButtonModel",
      "state": {
       "button_style": "primary",
       "description": "Save Data Access Answers to json file",
       "layout": "IPY_MODEL_9904562443784a8eb055bf85f4ff888d",
       "style": "IPY_MODEL_7d897762b62f4a6c95aa7b4b80a57240",
       "tooltip": null
      }
     },
     "2b3db37dc2684adaa0b61686e3acc379": {
      "model_module": "@jupyter-widgets/base",
      "model_module_version": "2.0.0",
      "model_name": "LayoutModel",
      "state": {
       "width": "900px"
      }
     },
     "42c43f5850a549ab969e34a2e5c43396": {
      "model_module": "@jupyter-widgets/controls",
      "model_module_version": "2.0.0",
      "model_name": "ButtonModel",
      "state": {
       "button_style": "info",
       "description": "Print json results",
       "layout": "IPY_MODEL_97e4adf6c2144606ba402af0df6077c2",
       "style": "IPY_MODEL_0b3057d53e8247ad97cbbb550f52cf3b",
       "tooltip": null
      }
     },
     "476be2ae29be4ba5abe65fbfb8481024": {
      "model_module": "@jupyter-widgets/base",
      "model_module_version": "2.0.0",
      "model_name": "LayoutModel",
      "state": {
       "width": "900px"
      }
     },
     "486aa357b7a9459b9fdaf5caaf6b843b": {
      "model_module": "@jupyter-widgets/controls",
      "model_module_version": "2.0.0",
      "model_name": "ComboboxModel",
      "state": {
       "description": "4.3 Can the file be accessed via direct file downloading or ordering?",
       "ensure_option": false,
       "layout": "IPY_MODEL_f9e1af3b73364881a933a397f8c82481",
       "options": [
        "Yes",
        "No",
        "N/A"
       ],
       "placeholder": "Click to select option",
       "style": "IPY_MODEL_5d28da99fa9c4391bfd46c86503592bb",
       "value": "Yes"
      }
     },
     "50ceb33c5e024c1db6c90b72da46f7ed": {
      "model_module": "@jupyter-widgets/base",
      "model_module_version": "2.0.0",
      "model_name": "LayoutModel",
      "state": {
       "width": "900px"
      }
     },
     "52b84df6f31d4226a6353bee92b5a4b3": {
      "model_module": "@jupyter-widgets/controls",
      "model_module_version": "2.0.0",
      "model_name": "ComboboxModel",
      "state": {
       "description": "If there is an API, is there documentation for the API?",
       "ensure_option": false,
       "layout": "IPY_MODEL_72f90b5b3939407e927e1dba8ca89207",
       "options": [
        "Yes",
        "No",
        "N/A"
       ],
       "placeholder": "Click to select option",
       "style": "IPY_MODEL_f8d74066b6a749d5807a6c34bc0926d2",
       "value": "Yes"
      }
     },
     "53482b97e22341b195643ee0224d12f4": {
      "model_module": "@jupyter-widgets/controls",
      "model_module_version": "2.0.0",
      "model_name": "TextStyleModel",
      "state": {
       "description_width": "initial",
       "font_size": null,
       "text_color": null
      }
     },
     "5cdfa2a4d28d4ab5879dbbbbc1f9b03a": {
      "model_module": "@jupyter-widgets/base",
      "model_module_version": "2.0.0",
      "model_name": "LayoutModel",
      "state": {}
     },
     "5d28da99fa9c4391bfd46c86503592bb": {
      "model_module": "@jupyter-widgets/controls",
      "model_module_version": "2.0.0",
      "model_name": "TextStyleModel",
      "state": {
       "description_width": "initial",
       "font_size": null,
       "text_color": null
      }
     },
     "72f90b5b3939407e927e1dba8ca89207": {
      "model_module": "@jupyter-widgets/base",
      "model_module_version": "2.0.0",
      "model_name": "LayoutModel",
      "state": {
       "display": "none",
       "width": "900px"
      }
     },
     "7483d8b4aa544842841d05d7214f8e10": {
      "model_module": "@jupyter-widgets/base",
      "model_module_version": "2.0.0",
      "model_name": "LayoutModel",
      "state": {
       "width": "900px"
      }
     },
     "7d897762b62f4a6c95aa7b4b80a57240": {
      "model_module": "@jupyter-widgets/controls",
      "model_module_version": "2.0.0",
      "model_name": "ButtonStyleModel",
      "state": {
       "font_family": null,
       "font_size": null,
       "font_style": null,
       "font_variant": null,
       "font_weight": null,
       "text_color": null,
       "text_decoration": null
      }
     },
     "8a80456227784e3d9cb3deea4e6de726": {
      "model_module": "@jupyter-widgets/base",
      "model_module_version": "2.0.0",
      "model_name": "LayoutModel",
      "state": {
       "display": "none",
       "width": "900px"
      }
     },
     "8e7b0767ca0449f5b15708c5df8195d8": {
      "model_module": "@jupyter-widgets/base",
      "model_module_version": "2.0.0",
      "model_name": "LayoutModel",
      "state": {
       "width": "900px"
      }
     },
     "8f15a0784d854593b841b44ef27f616d": {
      "model_module": "@jupyter-widgets/output",
      "model_module_version": "1.0.0",
      "model_name": "OutputModel",
      "state": {
       "layout": "IPY_MODEL_d66b178891ac4d5f876890583ef0d6d4",
       "outputs": [
        {
         "name": "stdout",
         "output_type": "stream",
         "text": "GeneralInformation:\n  DatasetName: NOAA Global Surface Summary of the Day (GSOD)\n  DatasetVersion: 2\n  DatasetLink: https://www.ncei.noaa.gov/metadata/geoportal/rest/metadata/item/gov.noaa.ncdc:C00516/html\n  AssessorName: John Pill\n  AssessorEmailAddress: john.pill@metoffice.gov.uk\n  RawOrDerived: Derived\n  ObservedModeledSyntheticData: Observed\n  DataSource: Aggregated\nDataQuality:\n  WillBeUpdated: Yes\n  WhenNewDataAdded: Daily\n  DifferentStages: Full record\n  DelayBetweenStages: \n  SupersedeCurrentVersion: \n  DocumentationAvailable: Yes\n  LinkToReport: https://www.ncei.noaa.gov/data/global-summary-of-the-day/doc/readme.txt\n  SpatialCoverage: Unknown\n  TemporalCoverage: Partial\n  SelfConsistent: Yes\n  ConsistentWithSimilarData: Yes\n  MonitoringProcessesExist: N/A\n  MonitoringProcessesDetails: \n  KnownBias: Unknown\n  BiasExamined: \n  BiasMeasures: \n  MetrologicalTraceability: \n  BiasReport: \n  ReportedBias: None\n  BiasReportLink: \n  BiasReductionToolsLink: \n  BiasCorrectedDatasetLink: \n  QuantitativeResolutionInfo: No\n  PublishedQualityProcedures: Yes\n  QualityInformationLink: https://www.ncei.noaa.gov/pub/data/inventories/ish-qc.pdf\n  ProvenanceTracked: Yes\n  DataIntegrityChecks: Yes\n  DatasetVolume: Variable\n  DatasetDimensions: 2\n  DatasetNumFiles: 0\n  DatasetNumRows: 0\n  DatasetNumImages: 0\n  DatasetImageSize: \nDataDocumentation:\n  MetadataStandard: Yes\n  MetadataStandardName: ISO 19115-2\n  MetadataMachineReadable: Yes\n  MetadataSpatialTemporalExtent: Yes\n  DataDictionaryExists: Yes\n  DataDictionaryStandardised: N/A\n  DataDictionaryMachineReadable: No\n  DataDictionaryParametersFollowStandard: No\n  DataDictionaryStandardName: \n  DataDictionaryParametersCrosswalked: N/A\n  IdentifierExists: Yes\n  Identifier: NCEI DSI 3505\n  ContactInformation: Yes\n  UserFeedbackMechanism: Yes\n  ExampleCodesAvailable: No\n  LicenseType: None / Open\n  LicenceMachineReadable: \n  UsedInAIorMLReports: None reported, but likely. \n  UsageRecommendations: No\nDataAccess:\n  FileFormats: ['CSV']\n  FileFormatsMachineReadable: Yes\n  OpenFormatAvailable: Yes\n  FormatConversionTools: Yes\n  ConversionToolsLink: https://pandas.pydata.org/ https://www.arcgis.com/home/index.html https://www.qgis.org/\n  AuthenticationRequired: No\n  DirectDownloadAvailable: Yes\n  APIorWebAvailable: Yes\n  APIOpenStandard: Yes\n  APIDocumentation: Yes\n  APIDocumentationLink: https://www.ncei.noaa.gov/support/access-data-service-api-user-documentation\n  SecurityMeasuresTaken: N/A\n  DataAggregated: Yes\n  DataAnonymized: N/A\n  SecureAccessForAuthorizedUsers: N/A\nDataPreparation:\n  NullValuesFilled: No\n  OutliersIdentified: No\n  Gridded: Not gridded\n  TransformedFromOriginal: \n  OriginalSamplingAvailable: \n  SupervisedLearningLabels: No\n  SupervisedLearningLabelStandards: \n"
        }
       ]
      }
     },
     "902c9228e006480ea43f30f6bd997a4e": {
      "model_module": "@jupyter-widgets/controls",
      "model_module_version": "2.0.0",
      "model_name": "DescriptionStyleModel",
      "state": {
       "description_width": ""
      }
     },
     "97e4adf6c2144606ba402af0df6077c2": {
      "model_module": "@jupyter-widgets/base",
      "model_module_version": "2.0.0",
      "model_name": "LayoutModel",
      "state": {
       "flex": "1 1 auto",
       "width": "auto"
      }
     },
     "98f0de2897764c90bb5090562e5db522": {
      "model_module": "@jupyter-widgets/controls",
      "model_module_version": "2.0.0",
      "model_name": "LabelModel",
      "state": {
       "layout": "IPY_MODEL_5cdfa2a4d28d4ab5879dbbbbc1f9b03a",
       "style": "IPY_MODEL_a5dec3376d9e41e98ee7797240f914ca",
       "value": "4.1 What is/are the major file formats? (Use shift / Ctrl / CMD to select multiple)"
      }
     },
     "9904562443784a8eb055bf85f4ff888d": {
      "model_module": "@jupyter-widgets/base",
      "model_module_version": "2.0.0",
      "model_name": "LayoutModel",
      "state": {
       "flex": "1 1 auto",
       "width": "auto"
      }
     },
     "996c4bdf221e4824b5e4aecf91d3831a": {
      "model_module": "@jupyter-widgets/base",
      "model_module_version": "2.0.0",
      "model_name": "LayoutModel",
      "state": {
       "width": "900px"
      }
     },
     "9b73369b2e22429e8defe2c80303f477": {
      "model_module": "@jupyter-widgets/controls",
      "model_module_version": "2.0.0",
      "model_name": "ComboboxModel",
      "state": {
       "description": "4.5 For restricted data, have measures been taken to provide some access while still applying appropriate protection for privacy and security?",
       "ensure_option": false,
       "layout": "IPY_MODEL_7483d8b4aa544842841d05d7214f8e10",
       "options": [
        "Yes",
        "No",
        "N/A"
       ],
       "placeholder": "Click to select option",
       "style": "IPY_MODEL_b53f59661cd644e1887040a5b6e3004a",
       "value": "N/A"
      }
     },
     "9e2ce7676e4d4a74a2c2cd07f2d3f196": {
      "model_module": "@jupyter-widgets/controls",
      "model_module_version": "2.0.0",
      "model_name": "TextStyleModel",
      "state": {
       "description_width": "",
       "font_size": null,
       "text_color": null
      }
     },
     "a3c926ec9b00478c990a0f551c42f1ee": {
      "model_module": "@jupyter-widgets/controls",
      "model_module_version": "2.0.0",
      "model_name": "ComboboxModel",
      "state": {
       "description": "4.7 Has the data been anonymized / de-identified?",
       "ensure_option": false,
       "layout": "IPY_MODEL_50ceb33c5e024c1db6c90b72da46f7ed",
       "options": [
        "Yes",
        "No",
        "N/A"
       ],
       "placeholder": "Click to select option",
       "style": "IPY_MODEL_10bd33820a2d418c9d649f37ea0f9c6b",
       "value": "N/A"
      }
     },
     "a5dec3376d9e41e98ee7797240f914ca": {
      "model_module": "@jupyter-widgets/controls",
      "model_module_version": "2.0.0",
      "model_name": "LabelStyleModel",
      "state": {
       "description_width": "",
       "font_family": null,
       "font_size": null,
       "font_style": null,
       "font_variant": null,
       "font_weight": null,
       "text_color": null,
       "text_decoration": null
      }
     },
     "a8ba1239362340b58099b1e5bcc712c4": {
      "model_module": "@jupyter-widgets/controls",
      "model_module_version": "2.0.0",
      "model_name": "ComboboxModel",
      "state": {
       "description": "If there is an API, does the API follow an open standard protocol (e.g., OGC)?",
       "ensure_option": false,
       "layout": "IPY_MODEL_1c643c62c6b049ce871169d43e49c1e2",
       "options": [
        "Yes",
        "No",
        "N/A"
       ],
       "placeholder": "Click to select option",
       "style": "IPY_MODEL_53482b97e22341b195643ee0224d12f4",
       "value": "Yes"
      }
     },
     "b063f2a66a064c14aeea454bbc076631": {
      "model_module": "@jupyter-widgets/controls",
      "model_module_version": "2.0.0",
      "model_name": "ComboboxModel",
      "state": {
       "description": "4.4 Is there an Application Programming Interface (API) or web service to access the data?",
       "ensure_option": false,
       "layout": "IPY_MODEL_996c4bdf221e4824b5e4aecf91d3831a",
       "options": [
        "Yes",
        "No",
        "N/A"
       ],
       "placeholder": "Click to select option",
       "style": "IPY_MODEL_e365680e2d5b45c3a03c06bc7a987f02",
       "value": "Yes"
      }
     },
     "b15f6b2650b54deabcccfb20a7c968f8": {
      "model_module": "@jupyter-widgets/controls",
      "model_module_version": "2.0.0",
      "model_name": "ComboboxModel",
      "state": {
       "description": "4.8 Is there secure access to the full dataset for authorized users? ",
       "ensure_option": false,
       "layout": "IPY_MODEL_8e7b0767ca0449f5b15708c5df8195d8",
       "options": [
        "Yes",
        "No",
        "N/A"
       ],
       "placeholder": "Click to select option",
       "style": "IPY_MODEL_f3a549e389044a1e9e42eb67024a5f94",
       "value": "N/A"
      }
     },
     "b53f59661cd644e1887040a5b6e3004a": {
      "model_module": "@jupyter-widgets/controls",
      "model_module_version": "2.0.0",
      "model_name": "TextStyleModel",
      "state": {
       "description_width": "initial",
       "font_size": null,
       "text_color": null
      }
     },
     "bbba707ef99d4100b4a05de95c51530a": {
      "model_module": "@jupyter-widgets/controls",
      "model_module_version": "2.0.0",
      "model_name": "ComboboxModel",
      "state": {
       "description": "4.2 Does data access require authentication (e.g., a registered user account)?",
       "ensure_option": false,
       "layout": "IPY_MODEL_c177894d96714a9caa659e8f26406721",
       "options": [
        "Yes",
        "No",
        "N/A"
       ],
       "placeholder": "Click to select option",
       "style": "IPY_MODEL_05e3f3b0338f436fafe641d72b6d9374",
       "value": "No"
      }
     },
     "bcc19190fb854d71b0018b9f0428a06e": {
      "model_module": "@jupyter-widgets/controls",
      "model_module_version": "2.0.0",
      "model_name": "TextModel",
      "state": {
       "description": "Tools / services link:",
       "layout": "IPY_MODEL_287553ba7c6e4f38b3335985a9a62950",
       "placeholder": "If yes, provide the link to the tools/services",
       "style": "IPY_MODEL_14db99b329e64b1ea7501de0244048bd",
       "value": "https://pandas.pydata.org/ https://www.arcgis.com/home/index.html https://www.qgis.org/"
      }
     },
     "c177894d96714a9caa659e8f26406721": {
      "model_module": "@jupyter-widgets/base",
      "model_module_version": "2.0.0",
      "model_name": "LayoutModel",
      "state": {
       "width": "900px"
      }
     },
     "d501aaee009a41ceb3b5584bf40d95f0": {
      "model_module": "@jupyter-widgets/controls",
      "model_module_version": "2.0.0",
      "model_name": "TextStyleModel",
      "state": {
       "description_width": "initial",
       "font_size": null,
       "text_color": null
      }
     },
     "d66b178891ac4d5f876890583ef0d6d4": {
      "model_module": "@jupyter-widgets/base",
      "model_module_version": "2.0.0",
      "model_name": "LayoutModel",
      "state": {}
     },
     "e365680e2d5b45c3a03c06bc7a987f02": {
      "model_module": "@jupyter-widgets/controls",
      "model_module_version": "2.0.0",
      "model_name": "TextStyleModel",
      "state": {
       "description_width": "initial",
       "font_size": null,
       "text_color": null
      }
     },
     "e4dae8dae76d4e48a5eba5d8cb1d0620": {
      "model_module": "@jupyter-widgets/controls",
      "model_module_version": "2.0.0",
      "model_name": "SelectMultipleModel",
      "state": {
       "_options_labels": [
        "CSV",
        "netCDF",
        "geoJSON",
        "Shapefile",
        "GRIB",
        "HDF",
        "GeoTIFF",
        "KML",
        "GINI",
        "Zarr",
        "Other"
       ],
       "index": [
        0
       ],
       "layout": "IPY_MODEL_0f8344ae0efc4bf3ab39d4f0fe61669b",
       "rows": 11,
       "style": "IPY_MODEL_902c9228e006480ea43f30f6bd997a4e"
      }
     },
     "e547beb4414a4ae59c9a0cabbb6f7c15": {
      "model_module": "@jupyter-widgets/controls",
      "model_module_version": "2.0.0",
      "model_name": "ComboboxModel",
      "state": {
       "description": "4.6 Has the data been aggregated to reduce granularity?",
       "ensure_option": false,
       "layout": "IPY_MODEL_f4e325ce194d4a3bbf4a618b4f482d06",
       "options": [
        "Yes",
        "No",
        "N/A"
       ],
       "placeholder": "Click to select option",
       "style": "IPY_MODEL_19d0daf8a0064b1a957feee4528e90e3",
       "value": "Yes"
      }
     },
     "e67c56a449f04de5b5d99158ed250c23": {
      "model_module": "@jupyter-widgets/controls",
      "model_module_version": "2.0.0",
      "model_name": "ComboboxModel",
      "state": {
       "description": "Is the data available in at least one open, non-proprietary format?",
       "ensure_option": false,
       "layout": "IPY_MODEL_476be2ae29be4ba5abe65fbfb8481024",
       "options": [
        "Yes",
        "No",
        "N/A"
       ],
       "placeholder": "Click to select option",
       "style": "IPY_MODEL_d501aaee009a41ceb3b5584bf40d95f0",
       "value": "Yes"
      }
     },
     "ea806cf8ba4f43429d44d9ca33dbabd6": {
      "model_module": "@jupyter-widgets/controls",
      "model_module_version": "2.0.0",
      "model_name": "TextStyleModel",
      "state": {
       "description_width": "initial",
       "font_size": null,
       "text_color": null
      }
     },
     "f10bab26915a442fa81a5707bec4df67": {
      "model_module": "@jupyter-widgets/base",
      "model_module_version": "2.0.0",
      "model_name": "LayoutModel",
      "state": {
       "width": "900px"
      }
     },
     "f3a549e389044a1e9e42eb67024a5f94": {
      "model_module": "@jupyter-widgets/controls",
      "model_module_version": "2.0.0",
      "model_name": "TextStyleModel",
      "state": {
       "description_width": "initial",
       "font_size": null,
       "text_color": null
      }
     },
     "f4e325ce194d4a3bbf4a618b4f482d06": {
      "model_module": "@jupyter-widgets/base",
      "model_module_version": "2.0.0",
      "model_name": "LayoutModel",
      "state": {
       "width": "900px"
      }
     },
     "f8d74066b6a749d5807a6c34bc0926d2": {
      "model_module": "@jupyter-widgets/controls",
      "model_module_version": "2.0.0",
      "model_name": "TextStyleModel",
      "state": {
       "description_width": "initial",
       "font_size": null,
       "text_color": null
      }
     },
     "f9e1af3b73364881a933a397f8c82481": {
      "model_module": "@jupyter-widgets/base",
      "model_module_version": "2.0.0",
      "model_name": "LayoutModel",
      "state": {
       "width": "900px"
      }
     },
     "fcd4827d0f3c4e238aa3eb96410ae7f5": {
      "model_module": "@jupyter-widgets/controls",
      "model_module_version": "2.0.0",
      "model_name": "TextModel",
      "state": {
       "layout": "IPY_MODEL_8a80456227784e3d9cb3deea4e6de726",
       "placeholder": "If “Yes”, please provide a URL to the documentation.",
       "style": "IPY_MODEL_9e2ce7676e4d4a74a2c2cd07f2d3f196",
       "value": "https://www.ncei.noaa.gov/support/access-data-service-api-user-documentation"
      }
     }
    },
    "version_major": 2,
    "version_minor": 0
   }
  }
 },
 "nbformat": 4,
 "nbformat_minor": 5
}
