{
 "cells": [
  {
   "cell_type": "markdown",
   "id": "1e08378b-6bbe-4203-8b90-1bed8c97a679",
   "metadata": {
    "editable": true,
    "slideshow": {
     "slide_type": ""
    },
    "tags": []
   },
   "source": [
    "\n",
    "<link rel=\"stylesheet\" href=\"https://unpkg.com/thebe@latest/lib/index.css\">\n",
    "<script src=\"https://unpkg.com/thebe@latest/lib/index.js\"></script>\n",
    "\n",
    "<script type=\"text/javascript\">\n",
    "  document.addEventListener(\"DOMContentLoaded\", function() {\n",
    "    thebelab.bootstrap({\n",
    "      requestKernel: true,\n",
    "      binderOptions: {\n",
    "        repo: \"your-repo/your-project\",\n",
    "        ref: \"main\",\n",
    "      },\n",
    "      codeMirrorConfig: {\n",
    "        theme: \"abcdef\",\n",
    "      },\n",
    "    });\n",
    "  });\n",
    "</script>\n"
   ]
  },
  {
   "cell_type": "markdown",
   "id": "f8198bd3-3e2a-444f-bff5-c9647a804ca9",
   "metadata": {
    "editable": true,
    "slideshow": {
     "slide_type": ""
    },
    "tags": []
   },
   "source": [
    "# **Data Readiness For AI Checklist - Part 5**\n",
    "\n",
    " * Creator(s) John Pill\n",
    " * Affiliation: UK Met Office\n",
    " * History: 1.0\n",
    " * Last update: 27 August 2024.\n",
    "\n",
    "\n",
    "---"
   ]
  },
  {
   "cell_type": "markdown",
   "id": "4eb841fa-aab5-401b-9e67-1c2e0723c6dd",
   "metadata": {},
   "source": [
    "## **Tutorial Material**\n",
    "\n",
    "* **Run this Jupyter notebook locally using Jupyter Lab**\n",
    "* **Select 'Run All Cells' from the 'Run' menu to generate the checklist**.\n",
    "* **Remember to save your notebook regularly as you work through it.**\n",
    "\n",
    "\n",
    "## **Data section, optional**\n",
    "Scripts for pulling the data into the notebook assuming\n",
    "\n",
    "---"
   ]
  },
  {
   "cell_type": "markdown",
   "id": "f6840884-d7bb-43fa-a3e3-8c4106c435e5",
   "metadata": {},
   "source": [
    "## **Setup Notebook**"
   ]
  },
  {
   "cell_type": "code",
   "execution_count": 1,
   "id": "5b5a42bb-1da9-4460-a6a0-8d85063fd096",
   "metadata": {
    "editable": true,
    "slideshow": {
     "slide_type": ""
    },
    "tags": [
     "thebe-init"
    ]
   },
   "outputs": [],
   "source": [
    "import ipywidgets as widgets\n",
    "from IPython.display import display, clear_output\n",
    "import json\n",
    "import sys\n",
    "import os\n",
    "sys.path.append(os.path.abspath('..')) # Add the parent directory to the system path\n",
    "from utils import *"
   ]
  },
  {
   "cell_type": "code",
   "execution_count": 2,
   "id": "0b769970-71ed-48a7-95fb-da873b6330c8",
   "metadata": {
    "editable": true,
    "slideshow": {
     "slide_type": ""
    },
    "tags": [
     "thebe-init"
    ]
   },
   "outputs": [],
   "source": [
    "# Load checklist from JSON file:\n",
    "checklist = load_checklist()"
   ]
  },
  {
   "cell_type": "markdown",
   "id": "087dd158-2a04-45b5-a0c0-599761f33f94",
   "metadata": {},
   "source": [
    "#### Reset stored answers to start again:"
   ]
  },
  {
   "cell_type": "code",
   "execution_count": 3,
   "id": "a467851d-ee03-46f7-a194-8e516c374b8e",
   "metadata": {
    "jupyter": {
     "source_hidden": true
    }
   },
   "outputs": [],
   "source": [
    "# Reset all checklist answers back to original blank answers for all sections.\n",
    "# Any completed information will be lost. \n",
    "\n",
    "# To reset the stored answers uncomment and run these lines of code below. Re-comment the lines afterwards to avoid them running again. \n",
    "# reset_checklist()\n",
    "# checklist = load_checklist()\n",
    "\n",
    "# You can then re-run each section to reload it on the reset data. "
   ]
  },
  {
   "cell_type": "code",
   "execution_count": 4,
   "id": "d23fc803-c02b-4a51-8d58-4f343b49c39b",
   "metadata": {
    "jupyter": {
     "source_hidden": true
    }
   },
   "outputs": [
    {
     "name": "stdout",
     "output_type": "stream",
     "text": [
      "Dataset: \n",
      "Dataset link: \n",
      "Assessor: \n",
      "Assessor email: \n"
     ]
    }
   ],
   "source": [
    "\n",
    "print(\"Dataset:\", checklist[\"GeneralInformation\"][\"DatasetName\"])\n",
    "print(\"Dataset link:\", checklist[\"GeneralInformation\"][\"DatasetLink\"])\n",
    "print(\"Assessor:\", checklist[\"GeneralInformation\"][\"AssessorName\"])\n",
    "print(\"Assessor email:\", checklist[\"GeneralInformation\"][\"AssessorEmailAddress\"])"
   ]
  },
  {
   "cell_type": "markdown",
   "id": "0ef2f783-495b-406e-8c25-5258c410520c",
   "metadata": {},
   "source": [
    "---\n",
    "\n",
    "## **5. Data Preparation**"
   ]
  },
  {
   "cell_type": "markdown",
   "id": "fc47836b-19bb-4d24-b500-884d9e754f78",
   "metadata": {},
   "source": [
    "### Null values"
   ]
  },
  {
   "cell_type": "code",
   "execution_count": 5,
   "id": "598d7fa2-f6c6-451e-9b12-a282d6a70be7",
   "metadata": {
    "jupyter": {
     "source_hidden": true
    }
   },
   "outputs": [
    {
     "data": {
      "application/vnd.jupyter.widget-view+json": {
       "model_id": "c6bc32cb0237407fa06fc788265354d8",
       "version_major": 2,
       "version_minor": 0
      },
      "text/plain": [
       "Combobox(value='', description='5.1 Have null values/gaps been filled?', layout=Layout(width='900px'), options…"
      ]
     },
     "metadata": {},
     "output_type": "display_data"
    }
   ],
   "source": [
    "\n",
    "dataset_null_values = widgets.Combobox(\n",
    "            value=checklist['DataPreparation']['NullValuesFilled'],\n",
    "            options=['Yes', 'No', 'N/A'],\n",
    "            description='5.1 Have null values/gaps been filled?',\n",
    "            placeholder=placeholder,\n",
    "            layout=widgets.Layout(width=widget_width),\n",
    "            style = description_style\n",
    "            )\n",
    "\n",
    "display(dataset_null_values)"
   ]
  },
  {
   "cell_type": "markdown",
   "id": "8cc450ae-d5bb-464d-bc4d-da3f09bcca06",
   "metadata": {},
   "source": [
    "### Outliers"
   ]
  },
  {
   "cell_type": "code",
   "execution_count": 6,
   "id": "8c912605-887f-4b59-b07a-34dfbdc2bc8d",
   "metadata": {
    "jupyter": {
     "source_hidden": true
    }
   },
   "outputs": [
    {
     "data": {
      "application/vnd.jupyter.widget-view+json": {
       "model_id": "b5d1bfabfe834213ba87723cdad91c9d",
       "version_major": 2,
       "version_minor": 0
      },
      "text/plain": [
       "Combobox(value='', description='5.2 Have outliers been identified?', layout=Layout(width='900px'), options=('Y…"
      ]
     },
     "metadata": {},
     "output_type": "display_data"
    }
   ],
   "source": [
    "\n",
    "dataset_outliers = widgets.Combobox(\n",
    "            value=checklist['DataPreparation']['OutliersIdentified'],\n",
    "            options=['Yes, tagged ', 'Yes, removed', 'No', 'N/A'],\n",
    "            description='5.2 Have outliers been identified?',\n",
    "            placeholder=placeholder,\n",
    "            layout=widgets.Layout(width=widget_width),\n",
    "            style = description_style\n",
    "            )\n",
    "\n",
    "display(dataset_outliers)\n"
   ]
  },
  {
   "cell_type": "markdown",
   "id": "ad80647b-e571-4b0c-a291-c75c76b867fd",
   "metadata": {},
   "source": [
    "### Gridded data\n"
   ]
  },
  {
   "cell_type": "code",
   "execution_count": 7,
   "id": "45f3adc6-7550-488b-923d-c3d17a912b89",
   "metadata": {
    "jupyter": {
     "source_hidden": true
    }
   },
   "outputs": [
    {
     "data": {
      "application/vnd.jupyter.widget-view+json": {
       "model_id": "0d7ac938022349c3a3148a8d109221a0",
       "version_major": 2,
       "version_minor": 0
      },
      "text/plain": [
       "Combobox(value='', description='5.3 Is the data gridded (regularly sampled in time and space)?', layout=Layout…"
      ]
     },
     "metadata": {},
     "output_type": "display_data"
    },
    {
     "data": {
      "application/vnd.jupyter.widget-view+json": {
       "model_id": "145964d024b645dab807668acee789e7",
       "version_major": 2,
       "version_minor": 0
      },
      "text/plain": [
       "Combobox(value='', description='If the data is gridded, was it transformed from a different original sampling?…"
      ]
     },
     "metadata": {},
     "output_type": "display_data"
    },
    {
     "data": {
      "application/vnd.jupyter.widget-view+json": {
       "model_id": "b2e97d0f09cf45a682558cb2b996c66c",
       "version_major": 2,
       "version_minor": 0
      },
      "text/plain": [
       "Combobox(value='', description='If the data is resampled from the original sampling, is the data also availabl…"
      ]
     },
     "metadata": {},
     "output_type": "display_data"
    }
   ],
   "source": [
    "\n",
    "dataset_gridded = widgets.Combobox(\n",
    "            value=checklist['DataPreparation']['Gridded'],\n",
    "            options=['Regularly gridded in space', 'Constant time-frequency', 'Regularly gridded in space and constant time-frequency', 'Not gridded', 'N/A'],\n",
    "            description='5.3 Is the data gridded (regularly sampled in time and space)?',\n",
    "            placeholder=placeholder,\n",
    "            layout=widgets.Layout(width=widget_width),\n",
    "            style = description_style\n",
    "            )\n",
    "\n",
    "dataset_gridded_transformed = widgets.Combobox(\n",
    "            value=checklist['DataPreparation']['TransformedFromOriginal'],\n",
    "            options=['Yes, from irregular sampling', 'Yes, from a different regular sampling', 'No, this is the original sampling', 'N/A'],\n",
    "            description='If the data is gridded, was it transformed from a different original sampling?',            \n",
    "            placeholder=placeholder,\n",
    "            layout=widgets.Layout(width=widget_width),\n",
    "            style = description_style\n",
    "            )\n",
    "\n",
    "\n",
    "dataset_gridded_original_sample = widgets.Combobox(\n",
    "            value=checklist['DataPreparation']['OriginalSamplingAvailable'],\n",
    "            options=['Yes', 'No', 'Only by request', 'N/A'],\n",
    "            description = 'If the data is resampled from the original sampling, is the data also available at the original sampling?',\n",
    "            placeholder=placeholder,\n",
    "            layout=widgets.Layout(width=widget_width),\n",
    "            style = description_style\n",
    "            )\n",
    "\n",
    "display(dataset_gridded, dataset_gridded_transformed, dataset_gridded_original_sample)"
   ]
  },
  {
   "cell_type": "markdown",
   "id": "55a87005-4929-45c3-a2f6-f0b4eec60de8",
   "metadata": {},
   "source": [
    "### Targets / labels for supervised learning"
   ]
  },
  {
   "cell_type": "code",
   "execution_count": 8,
   "id": "e7447fb9-566f-4b99-b5ec-afc9ccc05954",
   "metadata": {
    "jupyter": {
     "source_hidden": true
    }
   },
   "outputs": [
    {
     "data": {
      "application/vnd.jupyter.widget-view+json": {
       "model_id": "335f8ca1df614c428b11a79920f02d60",
       "version_major": 2,
       "version_minor": 0
      },
      "text/plain": [
       "Combobox(value='', description='5.4 Are there associated targets or labels for supervised learning techniques?…"
      ]
     },
     "metadata": {},
     "output_type": "display_data"
    },
    {
     "data": {
      "application/vnd.jupyter.widget-view+json": {
       "model_id": "bc241a78f7674efab614afdf397d5c07",
       "version_major": 2,
       "version_minor": 0
      },
      "text/plain": [
       "Label(value='If there are associated targets/labels, are community labeling standards implemented?')"
      ]
     },
     "metadata": {},
     "output_type": "display_data"
    },
    {
     "data": {
      "application/vnd.jupyter.widget-view+json": {
       "model_id": "04dc0f7d087e43d3bc9e7123d2929196",
       "version_major": 2,
       "version_minor": 0
      },
      "text/plain": [
       "Text(value='', layout=Layout(width='900px'), placeholder='e.g., STAC label extension, ESA AIREO specification,…"
      ]
     },
     "metadata": {},
     "output_type": "display_data"
    }
   ],
   "source": [
    "\n",
    "dataset_targets_or_labels = widgets.Combobox(\n",
    "            value=checklist['DataPreparation']['SupervisedLearningLabels'],\n",
    "            options=['Yes', 'No', 'N/A'],\n",
    "            description = '5.4 Are there associated targets or labels for supervised learning techniques?',\n",
    "            placeholder='Click to select option - (Can this be used as a training dataset)?',\n",
    "            layout=widgets.Layout(width=widget_width),\n",
    "            style = description_style\n",
    "            )\n",
    "\n",
    "dataset_targets_or_labels_standards_label = widgets.Label(\n",
    "    value = \"If there are associated targets/labels, are community labeling standards implemented?\"\n",
    ")\n",
    "\n",
    "dataset_targets_or_labels_standards = widgets.Text(\n",
    "            value=checklist['DataPreparation']['SupervisedLearningLabelStandards'],\n",
    "            placeholder = 'e.g., STAC label extension, ESA AIREO specification, etc.',\n",
    "            layout = widgets.Layout(width=widget_width)\n",
    ")\n",
    "\n",
    "display(dataset_targets_or_labels, dataset_targets_or_labels_standards_label, dataset_targets_or_labels_standards)"
   ]
  },
  {
   "cell_type": "code",
   "execution_count": 9,
   "id": "a12da54d-ed9f-4c2b-8f0d-dc19a82309e7",
   "metadata": {
    "jupyter": {
     "source_hidden": true
    }
   },
   "outputs": [
    {
     "data": {
      "application/vnd.jupyter.widget-view+json": {
       "model_id": "a9eef5015b374dcbb630b2c80592ccf3",
       "version_major": 2,
       "version_minor": 0
      },
      "text/plain": [
       "Button(button_style='primary', description='Save Data Access Answers to json file', layout=Layout(flex='1 1 au…"
      ]
     },
     "metadata": {},
     "output_type": "display_data"
    }
   ],
   "source": [
    "\n",
    "# Save button\n",
    "save_button = widgets.Button(description=\"Save Data Access Answers to json file\",  button_style=\"primary\",  layout=widgets.Layout(flex='1 1 auto', width='auto'))\n",
    "\n",
    "def generate_updates_preparation():\n",
    "\n",
    "    updates = {\n",
    "        \"DataPreparation\": {\n",
    "            \"NullValuesFilled\": dataset_null_values.value,\n",
    "            \"OutliersIdentified\": dataset_outliers.value,\n",
    "            \"Gridded\": dataset_gridded.value,\n",
    "            \"TransformedFromOriginal\": dataset_gridded_transformed.value,\n",
    "            \"OriginalSamplingAvailable\": dataset_gridded_original_sample.value, \n",
    "            \"SupervisedLearningLabels\" : dataset_targets_or_labels.value,\n",
    "            \"SupervisedLearningLabelStandards\" : dataset_targets_or_labels_standards.value,\n",
    "          \n",
    "        }\n",
    "    }\n",
    "    return updates\n",
    "\n",
    "save_button.on_click(lambda b: update_checklist(b, generate_updates_preparation()))\n",
    "\n",
    "display(save_button)"
   ]
  },
  {
   "cell_type": "markdown",
   "id": "3824aa9e-9d66-4a2e-a1a2-60139f7c30dd",
   "metadata": {},
   "source": [
    "## Finished"
   ]
  },
  {
   "cell_type": "code",
   "execution_count": 10,
   "id": "d35683fe-7d9f-40fa-81fa-99f926702fd6",
   "metadata": {
    "jupyter": {
     "source_hidden": true
    }
   },
   "outputs": [
    {
     "data": {
      "application/vnd.jupyter.widget-view+json": {
       "model_id": "80e42e8cf29040e1875fc7496c24632f",
       "version_major": 2,
       "version_minor": 0
      },
      "text/plain": [
       "Button(button_style='info', description='Print json results', layout=Layout(flex='1 1 auto', width='auto'), st…"
      ]
     },
     "metadata": {},
     "output_type": "display_data"
    },
    {
     "data": {
      "application/vnd.jupyter.widget-view+json": {
       "model_id": "845f678414914c1f883791c352a79363",
       "version_major": 2,
       "version_minor": 0
      },
      "text/plain": [
       "Output()"
      ]
     },
     "metadata": {},
     "output_type": "display_data"
    }
   ],
   "source": [
    "\n",
    "button_print_json = widgets.Button(description=\"Print json results\",  button_style='info', layout=widgets.Layout(flex='1 1 auto', width='auto'))\n",
    "output = widgets.Output()\n",
    "\n",
    "display(button_print_json, output)\n",
    "\n",
    "def print_json_info(b):\n",
    "    \"\"\"\n",
    "    Loads a copy of the json file to checklist variable. \n",
    "    Then prints the json file contents to Jupyter notebook cell output.\n",
    "\n",
    "    Arguments: b - represents the button calling the function. \n",
    "    \"\"\"\n",
    "    checklist = load_checklist()\n",
    "    with output:\n",
    "        clear_output()\n",
    "        for key, value in checklist.items():\n",
    "            print(f\"{key}:\")\n",
    "            if isinstance(value, dict):\n",
    "                for sub_key, sub_value in value.items():\n",
    "                    print(f\"  {sub_key}: {sub_value}\")\n",
    "            else:\n",
    "                print(f\"  {value}\")\n",
    "\n",
    "button_print_json.on_click(print_json_info)\n"
   ]
  },
  {
   "cell_type": "markdown",
   "id": "c760fc3b-f413-46e4-8a76-31684d83a2d2",
   "metadata": {},
   "source": [
    "---\n",
    "\n",
    "## **Appendix** - Definition of terms used in the checklist."
   ]
  }
 ],
 "metadata": {
  "kernelspec": {
   "display_name": "Python 3 (ipykernel)",
   "language": "python",
   "name": "python3"
  },
  "language_info": {
   "codemirror_mode": {
    "name": "ipython",
    "version": 3
   },
   "file_extension": ".py",
   "mimetype": "text/x-python",
   "name": "python",
   "nbconvert_exporter": "python",
   "pygments_lexer": "ipython3",
   "version": "3.11.8"
  },
  "widgets": {
   "application/vnd.jupyter.widget-state+json": {
    "state": {
     "04dc0f7d087e43d3bc9e7123d2929196": {
      "model_module": "@jupyter-widgets/controls",
      "model_module_version": "2.0.0",
      "model_name": "TextModel",
      "state": {
       "layout": "IPY_MODEL_4f2d3f0fc6af4f5baf19f31630b07b92",
       "placeholder": "e.g., STAC label extension, ESA AIREO specification, etc.",
       "style": "IPY_MODEL_4561d3cf526b4305b49f182305f5fe07"
      }
     },
     "078f6772d9904e48bc151de225f34b7a": {
      "model_module": "@jupyter-widgets/base",
      "model_module_version": "2.0.0",
      "model_name": "LayoutModel",
      "state": {
       "width": "900px"
      }
     },
     "0d7ac938022349c3a3148a8d109221a0": {
      "model_module": "@jupyter-widgets/controls",
      "model_module_version": "2.0.0",
      "model_name": "ComboboxModel",
      "state": {
       "description": "5.3 Is the data gridded (regularly sampled in time and space)?",
       "ensure_option": false,
       "layout": "IPY_MODEL_9d4f3eccbb1347a5a01cd8f395a24a7c",
       "options": [
        "Regularly gridded in space",
        "Constant time-frequency",
        "Regularly gridded in space and constant time-frequency",
        "Not gridded",
        "N/A"
       ],
       "placeholder": "Click to select option",
       "style": "IPY_MODEL_fc41608c1fe44348a4a9d739013607e3"
      }
     },
     "145964d024b645dab807668acee789e7": {
      "model_module": "@jupyter-widgets/controls",
      "model_module_version": "2.0.0",
      "model_name": "ComboboxModel",
      "state": {
       "description": "If the data is gridded, was it transformed from a different original sampling?",
       "ensure_option": false,
       "layout": "IPY_MODEL_401b7ef7db7445049d74048c85255c78",
       "options": [
        "Yes, from irregular sampling",
        "Yes, from a different regular sampling",
        "No, this is the original sampling",
        "N/A"
       ],
       "placeholder": "Click to select option",
       "style": "IPY_MODEL_5f1fbc994cbd461b812d2c46691222b0"
      }
     },
     "181e2d8d539c41549dbd9e3156ddea64": {
      "model_module": "@jupyter-widgets/base",
      "model_module_version": "2.0.0",
      "model_name": "LayoutModel",
      "state": {
       "flex": "1 1 auto",
       "width": "auto"
      }
     },
     "335f8ca1df614c428b11a79920f02d60": {
      "model_module": "@jupyter-widgets/controls",
      "model_module_version": "2.0.0",
      "model_name": "ComboboxModel",
      "state": {
       "description": "5.4 Are there associated targets or labels for supervised learning techniques?",
       "ensure_option": false,
       "layout": "IPY_MODEL_d232b8dddf804ef5a3951f9170750c00",
       "options": [
        "Yes",
        "No",
        "N/A"
       ],
       "placeholder": "Click to select option - (Can this be used as a training dataset)?",
       "style": "IPY_MODEL_fd95f5931ecf4fd49a6eeacc366d32d4"
      }
     },
     "393bfe54701d47988f302f8bf0781cd0": {
      "model_module": "@jupyter-widgets/base",
      "model_module_version": "2.0.0",
      "model_name": "LayoutModel",
      "state": {
       "width": "900px"
      }
     },
     "401b7ef7db7445049d74048c85255c78": {
      "model_module": "@jupyter-widgets/base",
      "model_module_version": "2.0.0",
      "model_name": "LayoutModel",
      "state": {
       "width": "900px"
      }
     },
     "4561d3cf526b4305b49f182305f5fe07": {
      "model_module": "@jupyter-widgets/controls",
      "model_module_version": "2.0.0",
      "model_name": "TextStyleModel",
      "state": {
       "description_width": "",
       "font_size": null,
       "text_color": null
      }
     },
     "4bd9437e5a3244cbaa7490d35a0b910f": {
      "model_module": "@jupyter-widgets/controls",
      "model_module_version": "2.0.0",
      "model_name": "ButtonStyleModel",
      "state": {
       "font_family": null,
       "font_size": null,
       "font_style": null,
       "font_variant": null,
       "font_weight": null,
       "text_color": null,
       "text_decoration": null
      }
     },
     "4f2d3f0fc6af4f5baf19f31630b07b92": {
      "model_module": "@jupyter-widgets/base",
      "model_module_version": "2.0.0",
      "model_name": "LayoutModel",
      "state": {
       "width": "900px"
      }
     },
     "4f98e315bcff4885bbaeaf04a02d85a6": {
      "model_module": "@jupyter-widgets/controls",
      "model_module_version": "2.0.0",
      "model_name": "TextStyleModel",
      "state": {
       "description_width": "initial",
       "font_size": null,
       "text_color": null
      }
     },
     "5f1fbc994cbd461b812d2c46691222b0": {
      "model_module": "@jupyter-widgets/controls",
      "model_module_version": "2.0.0",
      "model_name": "TextStyleModel",
      "state": {
       "description_width": "initial",
       "font_size": null,
       "text_color": null
      }
     },
     "6f53d4f0743f4b35a494950d583dc98e": {
      "model_module": "@jupyter-widgets/controls",
      "model_module_version": "2.0.0",
      "model_name": "LabelStyleModel",
      "state": {
       "description_width": "",
       "font_family": null,
       "font_size": null,
       "font_style": null,
       "font_variant": null,
       "font_weight": null,
       "text_color": null,
       "text_decoration": null
      }
     },
     "7c0f1ffe071b48e490ee2eb517ca6017": {
      "model_module": "@jupyter-widgets/controls",
      "model_module_version": "2.0.0",
      "model_name": "ButtonStyleModel",
      "state": {
       "font_family": null,
       "font_size": null,
       "font_style": null,
       "font_variant": null,
       "font_weight": null,
       "text_color": null,
       "text_decoration": null
      }
     },
     "80e42e8cf29040e1875fc7496c24632f": {
      "model_module": "@jupyter-widgets/controls",
      "model_module_version": "2.0.0",
      "model_name": "ButtonModel",
      "state": {
       "button_style": "info",
       "description": "Print json results",
       "layout": "IPY_MODEL_8de29a7ed0ca4aabbd8400c4378a3899",
       "style": "IPY_MODEL_7c0f1ffe071b48e490ee2eb517ca6017",
       "tooltip": null
      }
     },
     "845f678414914c1f883791c352a79363": {
      "model_module": "@jupyter-widgets/output",
      "model_module_version": "1.0.0",
      "model_name": "OutputModel",
      "state": {
       "layout": "IPY_MODEL_8517bf3bb2d94383a24a6ec54ff6d899"
      }
     },
     "8517bf3bb2d94383a24a6ec54ff6d899": {
      "model_module": "@jupyter-widgets/base",
      "model_module_version": "2.0.0",
      "model_name": "LayoutModel",
      "state": {}
     },
     "86069a9a2fbe4394b4cf1032c5c66d79": {
      "model_module": "@jupyter-widgets/controls",
      "model_module_version": "2.0.0",
      "model_name": "TextStyleModel",
      "state": {
       "description_width": "initial",
       "font_size": null,
       "text_color": null
      }
     },
     "8de29a7ed0ca4aabbd8400c4378a3899": {
      "model_module": "@jupyter-widgets/base",
      "model_module_version": "2.0.0",
      "model_name": "LayoutModel",
      "state": {
       "flex": "1 1 auto",
       "width": "auto"
      }
     },
     "9d4f3eccbb1347a5a01cd8f395a24a7c": {
      "model_module": "@jupyter-widgets/base",
      "model_module_version": "2.0.0",
      "model_name": "LayoutModel",
      "state": {
       "width": "900px"
      }
     },
     "a9eef5015b374dcbb630b2c80592ccf3": {
      "model_module": "@jupyter-widgets/controls",
      "model_module_version": "2.0.0",
      "model_name": "ButtonModel",
      "state": {
       "button_style": "primary",
       "description": "Save Data Access Answers to json file",
       "layout": "IPY_MODEL_181e2d8d539c41549dbd9e3156ddea64",
       "style": "IPY_MODEL_4bd9437e5a3244cbaa7490d35a0b910f",
       "tooltip": null
      }
     },
     "b2e97d0f09cf45a682558cb2b996c66c": {
      "model_module": "@jupyter-widgets/controls",
      "model_module_version": "2.0.0",
      "model_name": "ComboboxModel",
      "state": {
       "description": "If the data is resampled from the original sampling, is the data also available at the original sampling?",
       "ensure_option": false,
       "layout": "IPY_MODEL_393bfe54701d47988f302f8bf0781cd0",
       "options": [
        "Yes",
        "No",
        "Only by request",
        "N/A"
       ],
       "placeholder": "Click to select option",
       "style": "IPY_MODEL_d0bdc629ea2945639895dea62f59d62f"
      }
     },
     "b5d1bfabfe834213ba87723cdad91c9d": {
      "model_module": "@jupyter-widgets/controls",
      "model_module_version": "2.0.0",
      "model_name": "ComboboxModel",
      "state": {
       "description": "5.2 Have outliers been identified?",
       "ensure_option": false,
       "layout": "IPY_MODEL_bf6f53879ed9461fba1f02c5c3ca3ca0",
       "options": [
        "Yes, tagged ",
        "Yes, removed",
        "No",
        "N/A"
       ],
       "placeholder": "Click to select option",
       "style": "IPY_MODEL_86069a9a2fbe4394b4cf1032c5c66d79"
      }
     },
     "bc241a78f7674efab614afdf397d5c07": {
      "model_module": "@jupyter-widgets/controls",
      "model_module_version": "2.0.0",
      "model_name": "LabelModel",
      "state": {
       "layout": "IPY_MODEL_fd34d1cf738d4ead8ff689306b1ef4c4",
       "style": "IPY_MODEL_6f53d4f0743f4b35a494950d583dc98e",
       "value": "If there are associated targets/labels, are community labeling standards implemented?"
      }
     },
     "bf6f53879ed9461fba1f02c5c3ca3ca0": {
      "model_module": "@jupyter-widgets/base",
      "model_module_version": "2.0.0",
      "model_name": "LayoutModel",
      "state": {
       "width": "900px"
      }
     },
     "c6bc32cb0237407fa06fc788265354d8": {
      "model_module": "@jupyter-widgets/controls",
      "model_module_version": "2.0.0",
      "model_name": "ComboboxModel",
      "state": {
       "description": "5.1 Have null values/gaps been filled?",
       "ensure_option": false,
       "layout": "IPY_MODEL_078f6772d9904e48bc151de225f34b7a",
       "options": [
        "Yes",
        "No",
        "N/A"
       ],
       "placeholder": "Click to select option",
       "style": "IPY_MODEL_4f98e315bcff4885bbaeaf04a02d85a6"
      }
     },
     "d0bdc629ea2945639895dea62f59d62f": {
      "model_module": "@jupyter-widgets/controls",
      "model_module_version": "2.0.0",
      "model_name": "TextStyleModel",
      "state": {
       "description_width": "initial",
       "font_size": null,
       "text_color": null
      }
     },
     "d232b8dddf804ef5a3951f9170750c00": {
      "model_module": "@jupyter-widgets/base",
      "model_module_version": "2.0.0",
      "model_name": "LayoutModel",
      "state": {
       "width": "900px"
      }
     },
     "fc41608c1fe44348a4a9d739013607e3": {
      "model_module": "@jupyter-widgets/controls",
      "model_module_version": "2.0.0",
      "model_name": "TextStyleModel",
      "state": {
       "description_width": "initial",
       "font_size": null,
       "text_color": null
      }
     },
     "fd34d1cf738d4ead8ff689306b1ef4c4": {
      "model_module": "@jupyter-widgets/base",
      "model_module_version": "2.0.0",
      "model_name": "LayoutModel",
      "state": {}
     },
     "fd95f5931ecf4fd49a6eeacc366d32d4": {
      "model_module": "@jupyter-widgets/controls",
      "model_module_version": "2.0.0",
      "model_name": "TextStyleModel",
      "state": {
       "description_width": "initial",
       "font_size": null,
       "text_color": null
      }
     }
    },
    "version_major": 2,
    "version_minor": 0
   }
  }
 },
 "nbformat": 4,
 "nbformat_minor": 5
}
