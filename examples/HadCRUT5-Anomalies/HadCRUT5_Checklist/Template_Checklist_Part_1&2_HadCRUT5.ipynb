{
 "cells": [
  {
   "cell_type": "markdown",
   "id": "1e08378b-6bbe-4203-8b90-1bed8c97a679",
   "metadata": {
    "editable": true,
    "slideshow": {
     "slide_type": ""
    },
    "tags": []
   },
   "source": [
    "\n",
    "<link rel=\"stylesheet\" href=\"https://unpkg.com/thebe@latest/lib/index.css\">\n",
    "<script src=\"https://unpkg.com/thebe@latest/lib/index.js\"></script>\n",
    "\n",
    "<script type=\"text/javascript\">\n",
    "  document.addEventListener(\"DOMContentLoaded\", function() {\n",
    "    thebelab.bootstrap({\n",
    "      requestKernel: true,\n",
    "      binderOptions: {\n",
    "        repo: \"your-repo/your-project\",\n",
    "        ref: \"main\",\n",
    "      },\n",
    "      codeMirrorConfig: {\n",
    "        theme: \"abcdef\",\n",
    "      },\n",
    "    });\n",
    "  });\n",
    "</script>\n"
   ]
  },
  {
   "cell_type": "markdown",
   "id": "f8198bd3-3e2a-444f-bff5-c9647a804ca9",
   "metadata": {
    "editable": true,
    "slideshow": {
     "slide_type": ""
    },
    "tags": []
   },
   "source": [
    "# **Data Readiness For AI Checklist - Part 1 & 2**\n",
    "\n",
    " * Creator(s) John Pill\n",
    " * Affiliation: UK Met Office\n",
    " * History: 1.0\n",
    " * Last update: 27 August 2024.\n",
    "\n",
    "\n",
    "---"
   ]
  },
  {
   "cell_type": "markdown",
   "id": "6ac1eb47-ae19-48f9-8a66-268b970dc97c",
   "metadata": {},
   "source": [
    "## **Overview**\n",
    "The checklist is developed using the 2019 draft readiness matrix developed by the Office of Science and Technology Policy Subcommittee on Open Science as a basis. The checklist has been improved based on further research and user feedback. Definitions for some concepts are listed at the end of this document. This checklist is developed through a collaboration of ESIP Data Readiness Cluster members include representatives from NOAA, NASA, USGS, and other organizations. The checklist will be updated periodically to reflect community feedback.\n",
    "\n",
    "ESIP Data Readiness Cluster (2023): Checklist to Examine AI-readiness for Open Environmental Datasets v.1.0. ESIP. Online resource. https://doi.org/10.6084/m9.figshare.19983722.v1\n",
    "\n",
    "Readiness Matrix (2020): What is AI-Ready Open Data? NOAA. Online resource. https://www.star.nesdis.noaa.gov/star/documents/meetings/2020AI/presentations/202010/20201022_Christensen.pdf\n",
    "\n",
    "### Prerequisites\n",
    "Ideally for AI-ready assessment, a dataset should be defined as the minimum measurable bundle (i.e., a physical parameter/variable of observational datasets or model simulations). The assessment at this scale will enable better integration of data from different sources for research and development. However, it can be an intensive process for manual assessment without automation. Therefore, we recommend current assessments be done on the data file level. If the dataset has different versions, the checklist should be applied to each dataset type (e.g. raw, derived).\n",
    "\n",
    "### Learning Outcomes\n",
    "* Know how to check a range of dataset features. \n",
    "* Assess a wide range of dataset features, which will impact the dataset's 'readiness' for machine learning.  \n",
    "\n",
    "\n",
    "---"
   ]
  },
  {
   "cell_type": "markdown",
   "id": "f61ad742-0a6d-4b49-83f3-a4bb1828975e",
   "metadata": {},
   "source": [
    "## **Tutorial Material**\n",
    "\n",
    "* **Run this Jupyter notebook locally using Jupyter Lab**\n",
    "* **Select 'Run All Cells' from the 'Run' menu to generate the checklist**.\n",
    "* **Remember to save your notebook regularly as you work through it.**\n",
    "\n",
    "\n",
    "## **Data section, optional**\n",
    "Scripts for pulling the data into the notebook assuming\n",
    "\n",
    "---"
   ]
  },
  {
   "cell_type": "markdown",
   "id": "f6840884-d7bb-43fa-a3e3-8c4106c435e5",
   "metadata": {},
   "source": [
    "## **Setup Notebook**"
   ]
  },
  {
   "cell_type": "code",
   "execution_count": 1,
   "id": "5b5a42bb-1da9-4460-a6a0-8d85063fd096",
   "metadata": {
    "editable": true,
    "slideshow": {
     "slide_type": ""
    },
    "tags": [
     "thebe-init"
    ]
   },
   "outputs": [],
   "source": [
    "import ipywidgets as widgets\n",
    "from IPython.display import display, clear_output\n",
    "import json\n",
    "import sys\n",
    "import os\n",
    "from pathlib import Path\n",
    "\n",
    "# Get the absolute path to the 'src' directory before importing custom modules\n",
    "project_root = Path().resolve().parents[2]  # Adjust this if your project is deeper\n",
    "src_path = project_root / 'src'\n",
    "\n",
    "# Add 'src' directory to the system path\n",
    "sys.path.insert(0, str(src_path))\n",
    "\n",
    "from utils import *"
   ]
  },
  {
   "cell_type": "code",
   "execution_count": 2,
   "id": "0b769970-71ed-48a7-95fb-da873b6330c8",
   "metadata": {
    "editable": true,
    "slideshow": {
     "slide_type": ""
    },
    "tags": [
     "thebe-init"
    ]
   },
   "outputs": [],
   "source": [
    "# Load checklist from JSON file:\n",
    "checklist = load_checklist()"
   ]
  },
  {
   "cell_type": "markdown",
   "id": "087dd158-2a04-45b5-a0c0-599761f33f94",
   "metadata": {},
   "source": [
    "#### Reset stored answers to start again:"
   ]
  },
  {
   "cell_type": "code",
   "execution_count": 3,
   "id": "a467851d-ee03-46f7-a194-8e516c374b8e",
   "metadata": {
    "jupyter": {
     "source_hidden": true
    }
   },
   "outputs": [],
   "source": [
    "# Reset all checklist answers back to original blank answers for all sections.\n",
    "# Any completed information will be lost. \n",
    "\n",
    "# To reset the stored answers uncomment and run these lines of code below. Re-comment the lines afterwards to avoid them running again. \n",
    "# reset_checklist()\n",
    "# checklist = load_checklist()\n",
    "\n",
    "# You can then re-run each section to reload it on the reset data. "
   ]
  },
  {
   "cell_type": "markdown",
   "id": "3bf24dda-6822-45ae-a005-6d2f4138e7a8",
   "metadata": {
    "editable": true,
    "slideshow": {
     "slide_type": ""
    },
    "tags": []
   },
   "source": [
    "---\n",
    "\n",
    "## **1. Dataset General Info**\n"
   ]
  },
  {
   "cell_type": "markdown",
   "id": "6faea870-624c-4cb6-8bfa-d93a4a16aea0",
   "metadata": {
    "editable": true,
    "slideshow": {
     "slide_type": ""
    },
    "tags": []
   },
   "source": [
    "### Basic details"
   ]
  },
  {
   "cell_type": "code",
   "execution_count": 4,
   "id": "e6f9be9b-7e01-4210-8b77-8b0632be47a8",
   "metadata": {
    "editable": true,
    "jupyter": {
     "source_hidden": true
    },
    "slideshow": {
     "slide_type": ""
    },
    "tags": [
     "thebe-init"
    ]
   },
   "outputs": [
    {
     "data": {
      "application/vnd.jupyter.widget-view+json": {
       "model_id": "362a9aeba23146fd87b1aaa1f6f0865d",
       "version_major": 2,
       "version_minor": 0
      },
      "text/plain": [
       "Text(value='HadCRUT5', description='1.1 Dataset name:', layout=Layout(width='900px'), style=TextStyle(descript…"
      ]
     },
     "metadata": {},
     "output_type": "display_data"
    },
    {
     "data": {
      "application/vnd.jupyter.widget-view+json": {
       "model_id": "dc4e848e0e404b7d88c2c7e75c2816cf",
       "version_major": 2,
       "version_minor": 0
      },
      "text/plain": [
       "Text(value='5.0.2.0', description='1.2. Dataset version:', layout=Layout(width='900px'), style=TextStyle(descr…"
      ]
     },
     "metadata": {},
     "output_type": "display_data"
    },
    {
     "data": {
      "application/vnd.jupyter.widget-view+json": {
       "model_id": "5636a646a8d9440f96a6d284cbebd7b8",
       "version_major": 2,
       "version_minor": 0
      },
      "text/plain": [
       "Text(value='https://www.metoffice.gov.uk/hadobs/hadcrut5/', description='1.3. Location / url link:', layout=La…"
      ]
     },
     "metadata": {},
     "output_type": "display_data"
    },
    {
     "data": {
      "application/vnd.jupyter.widget-view+json": {
       "model_id": "0243c97de93a44d3878f4e6b6bb38b5e",
       "version_major": 2,
       "version_minor": 0
      },
      "text/plain": [
       "Text(value='John Pill', description='1.4. Assessor name:', layout=Layout(width='900px'), style=TextStyle(descr…"
      ]
     },
     "metadata": {},
     "output_type": "display_data"
    },
    {
     "data": {
      "application/vnd.jupyter.widget-view+json": {
       "model_id": "ab94495f5c084412970124d18c271b39",
       "version_major": 2,
       "version_minor": 0
      },
      "text/plain": [
       "Text(value='john.pill@metoffice.gov.uk', description='1.5. Assessor email address:', layout=Layout(width='900p…"
      ]
     },
     "metadata": {},
     "output_type": "display_data"
    }
   ],
   "source": [
    "\n",
    "dataset_name = widgets.Text(\n",
    "    description='1.1 Dataset name:',\n",
    "    value=checklist[\"GeneralInformation\"][\"DatasetName\"],\n",
    "    layout=widgets.Layout(width=widget_width),\n",
    "    style = description_style\n",
    ")\n",
    "\n",
    "dataset_version = widgets.Text(\n",
    "    value=checklist[\"GeneralInformation\"][\"DatasetVersion\"],\n",
    "    description='1.2. Dataset version:',\n",
    "    layout=widgets.Layout(width=widget_width),\n",
    "    style = description_style\n",
    ")\n",
    "\n",
    "dataset_link = widgets.Text(\n",
    "    value=checklist[\"GeneralInformation\"][\"DatasetLink\"],\n",
    "    description='1.3. Location / url link:',\n",
    "    layout=widgets.Layout(width=widget_width),\n",
    "    style = description_style\n",
    ")\n",
    "\n",
    "dataset_assessor_name = widgets.Text(\n",
    "    value=checklist[\"GeneralInformation\"][\"AssessorName\"],\n",
    "    description='1.4. Assessor name:',\n",
    "    layout=widgets.Layout(width=widget_width),\n",
    "    style = description_style\n",
    ")\n",
    "\n",
    "dataset_assessor_email = widgets.Text(\n",
    "    value=checklist[\"GeneralInformation\"][\"AssessorEmailAddress\"],\n",
    "    description='1.5. Assessor email address:',\n",
    "    layout=widgets.Layout(width=widget_width),\n",
    "    style = description_style\n",
    ")\n",
    "\n",
    "# Display all UI components.\n",
    "display(dataset_name, dataset_version, dataset_link, dataset_assessor_name, dataset_assessor_email)"
   ]
  },
  {
   "cell_type": "markdown",
   "id": "ab7b5096-fc94-4bbb-bf29-885026e712bf",
   "metadata": {
    "editable": true,
    "slideshow": {
     "slide_type": ""
    },
    "tags": []
   },
   "source": [
    "### Dataset details"
   ]
  },
  {
   "cell_type": "code",
   "execution_count": 5,
   "id": "f336d6cb-f3c8-4f62-a175-edafcd8c73f2",
   "metadata": {
    "editable": true,
    "jupyter": {
     "source_hidden": true
    },
    "slideshow": {
     "slide_type": ""
    },
    "tags": [
     "thebe-init"
    ]
   },
   "outputs": [
    {
     "data": {
      "application/vnd.jupyter.widget-view+json": {
       "model_id": "1bb1c50761f14f9ea834a36b74ea7cb7",
       "version_major": 2,
       "version_minor": 0
      },
      "text/plain": [
       "Label(value='Select from the list, or type your own answer if appropriate.')"
      ]
     },
     "metadata": {},
     "output_type": "display_data"
    },
    {
     "data": {
      "application/vnd.jupyter.widget-view+json": {
       "model_id": "54ae72069718489b9c62e41a929d42da",
       "version_major": 2,
       "version_minor": 0
      },
      "text/plain": [
       "Combobox(value='Derived', description='6. Is this raw data or a derived/processed data product?', layout=Layou…"
      ]
     },
     "metadata": {},
     "output_type": "display_data"
    },
    {
     "data": {
      "application/vnd.jupyter.widget-view+json": {
       "model_id": "a2330ecd88fb4ac2a49f15c98c50c0d2",
       "version_major": 2,
       "version_minor": 0
      },
      "text/plain": [
       "Combobox(value='Observed', description='7. Is this observational data, simulation/model output, or synthetic d…"
      ]
     },
     "metadata": {},
     "output_type": "display_data"
    },
    {
     "data": {
      "application/vnd.jupyter.widget-view+json": {
       "model_id": "9424281d17c74fcb8f400e64d9b58f06",
       "version_major": 2,
       "version_minor": 0
      },
      "text/plain": [
       "Combobox(value='Aggregated', description='8. Is the data single-source or aggregated from several sources? ', …"
      ]
     },
     "metadata": {},
     "output_type": "display_data"
    }
   ],
   "source": [
    "\n",
    "label = widgets.Label(value=\"Select from the list, or type your own answer if appropriate.\")\n",
    "\n",
    "raw_derived = widgets.Combobox(\n",
    "            value = checklist[\"GeneralInformation\"][\"RawOrDerived\"],\n",
    "            options=['Raw', 'Derived', 'Unknown'],\n",
    "            description='6. Is this raw data or a derived/processed data product?',\n",
    "            placeholder=placeholder,\n",
    "            layout=widgets.Layout(width=widget_width),\n",
    "            style = description_style\n",
    "            )\n",
    "\n",
    "observe_model_synthetic = widgets.Combobox(\n",
    "            value = checklist[\"GeneralInformation\"][\"ObservedModeledSyntheticData\"],\n",
    "            options=['Observed', 'Modeled', 'Synthetic'],\n",
    "            description='7. Is this observational data, simulation/model output, or synthetic data?',\n",
    "            placeholder=placeholder,\n",
    "            layout=widgets.Layout(width=widget_width),\n",
    "            style = description_style\n",
    "            )\n",
    "\n",
    "data_sources = widgets.Combobox(\n",
    "            value = checklist[\"GeneralInformation\"][\"DataSource\"],\n",
    "            options=['Single-source', 'Aggregated'],\n",
    "            description='8. Is the data single-source or aggregated from several sources? ',\n",
    "            placeholder=placeholder,\n",
    "            layout=widgets.Layout(width=widget_width),\n",
    "            style = description_style\n",
    "            )\n",
    "\n",
    "display(label, raw_derived, observe_model_synthetic, data_sources)"
   ]
  },
  {
   "cell_type": "code",
   "execution_count": 6,
   "id": "0fe05bfb-00c8-434d-858c-c4ae98c0efc9",
   "metadata": {
    "jupyter": {
     "source_hidden": true
    }
   },
   "outputs": [
    {
     "data": {
      "application/vnd.jupyter.widget-view+json": {
       "model_id": "ea9b0d85171f4bd6bdc2e7aa8a0659d4",
       "version_major": 2,
       "version_minor": 0
      },
      "text/plain": [
       "Button(button_style='primary', description='Save General Information Answers to json file', layout=Layout(flex…"
      ]
     },
     "metadata": {},
     "output_type": "display_data"
    }
   ],
   "source": [
    "\n",
    "# Save button\n",
    "save_button = widgets.Button(description=\"Save General Information Answers to json file\",  button_style=\"primary\",  layout=widgets.Layout(flex='1 1 auto', width='auto'))\n",
    "\n",
    "def generate_updates_general():\n",
    "    updates = {\n",
    "        \"GeneralInformation\": {\n",
    "            \"DatasetName\": dataset_name.value,\n",
    "            \"DatasetVersion\": dataset_version.value,\n",
    "            \"DatasetLink\": dataset_link.value,\n",
    "            \"AssessorName\": dataset_assessor_name.value,\n",
    "            \"AssessorEmailAddress\": dataset_assessor_email.value,\n",
    "            \"RawOrDerived\" : raw_derived.value,\n",
    "            \"ObservedModeledSyntheticData\" : observe_model_synthetic.value,\n",
    "            \"DataSource\" : data_sources.value,\n",
    "        }\n",
    "    }\n",
    "    return updates\n",
    "\n",
    "save_button.on_click(lambda b: update_checklist(b, generate_updates_general()))\n",
    "\n",
    "display(save_button)"
   ]
  },
  {
   "cell_type": "markdown",
   "id": "7b756c71-6015-4d1a-a019-8be3355438af",
   "metadata": {},
   "source": [
    "---\n",
    "\n",
    "## **2. Data Quality**"
   ]
  },
  {
   "cell_type": "markdown",
   "id": "c5444121-9f6b-4257-90eb-b3e280c227d4",
   "metadata": {
    "editable": true,
    "slideshow": {
     "slide_type": ""
    },
    "tags": []
   },
   "source": [
    "### Data timeliness    "
   ]
  },
  {
   "cell_type": "code",
   "execution_count": 7,
   "id": "72515fef-8b32-45f0-9bdf-8d0ee82e9a1b",
   "metadata": {
    "editable": true,
    "jupyter": {
     "source_hidden": true
    },
    "slideshow": {
     "slide_type": ""
    },
    "tags": [
     "thebe-init"
    ]
   },
   "outputs": [
    {
     "data": {
      "application/vnd.jupyter.widget-view+json": {
       "model_id": "5897212a30cd4ba19a7f4214f1c2b908",
       "version_major": 2,
       "version_minor": 0
      },
      "text/plain": [
       "Combobox(value='Yes', description='2.1 Will the dataset be updated?', layout=Layout(width='900px'), options=('…"
      ]
     },
     "metadata": {},
     "output_type": "display_data"
    },
    {
     "data": {
      "application/vnd.jupyter.widget-view+json": {
       "model_id": "8f056565ca1b4cd6899d3a11747b3618",
       "version_major": 2,
       "version_minor": 0
      },
      "text/plain": [
       "Combobox(value='When data updated', description='If the data will be updated, how often will it be updated?', …"
      ]
     },
     "metadata": {},
     "output_type": "display_data"
    },
    {
     "data": {
      "application/vnd.jupyter.widget-view+json": {
       "model_id": "7150eeebef744fcda9fa78da4bae7443",
       "version_major": 2,
       "version_minor": 0
      },
      "text/plain": [
       "Combobox(value='N/A', description='Will there be different stages of the update?', layout=Layout(display='none…"
      ]
     },
     "metadata": {},
     "output_type": "display_data"
    },
    {
     "data": {
      "application/vnd.jupyter.widget-view+json": {
       "model_id": "80f8c763f79d4f85b552b5db82b21111",
       "version_major": 2,
       "version_minor": 0
      },
      "text/plain": [
       "Text(value='', description='If yes, what is the delay between different stages?', layout=Layout(display='none'…"
      ]
     },
     "metadata": {},
     "output_type": "display_data"
    },
    {
     "data": {
      "application/vnd.jupyter.widget-view+json": {
       "model_id": "c668f134b9f04b1cb57bf8d38774be67",
       "version_major": 2,
       "version_minor": 0
      },
      "text/plain": [
       "Combobox(value='Yes', description='Should the new version of the dataset supersede the current version?', layo…"
      ]
     },
     "metadata": {},
     "output_type": "display_data"
    }
   ],
   "source": [
    "\n",
    "data_update = widgets.Combobox(\n",
    "            value=checklist['DataQuality']['WillBeUpdated'],\n",
    "            options=['Yes', 'No'],\n",
    "            description='2.1 Will the dataset be updated?',\n",
    "            placeholder=placeholder,\n",
    "            layout=widgets.Layout(width=widget_width),\n",
    "            style = description_style\n",
    "            )\n",
    "\n",
    "data_update_frequency = widgets.Combobox(\n",
    "            value=checklist[\"DataQuality\"][\"WhenNewDataAdded\"],\n",
    "            options=['When data updated', 'Hourly', 'Daily', 'Weekly', 'Monthly', 'Annually', 'Other', \"N/A\"],\n",
    "            description='If the data will be updated, how often will it be updated?',\n",
    "            placeholder=placeholder,\n",
    "            layout=widgets.Layout(display='none', width=widget_width),\n",
    "            style = description_style\n",
    "            )\n",
    "\n",
    "data_update_stages = widgets.Combobox(\n",
    "            value=checklist[\"DataQuality\"][\"DifferentStages\"],\n",
    "            options=['Preliminary data first, then updated later', 'Full record', \"N/A\"],\n",
    "            description='Will there be different stages of the update?',\n",
    "            placeholder=placeholder,\n",
    "            layout=widgets.Layout(display='none', width=widget_width),\n",
    "            style = description_style\n",
    "            )\n",
    "\n",
    "data_update_delay = widgets.Text(\n",
    "            value=checklist[\"DataQuality\"][\"DelayBetweenStages\"],\n",
    "            description='If yes, what is the delay between different stages?',\n",
    "            disabled=False,\n",
    "            layout=widgets.Layout(display='none', width=widget_width),\n",
    "            style = description_style\n",
    "            )\n",
    "\n",
    "data_update_supersede = widgets.Combobox(\n",
    "            value=checklist[\"DataQuality\"][\"SupersedeCurrentVersion\"],\n",
    "            options=['Yes', 'No', \"N/A\"],\n",
    "            description='Should the new version of the dataset supersede the current version?',\n",
    "            placeholder=placeholder,\n",
    "            layout=widgets.Layout(display='none', width=widget_width),\n",
    "            style = description_style\n",
    "            )\n",
    "\n",
    "# Function to change the display setting of the following UI components. \n",
    "def on_click_handler(change): \n",
    "    if change[\"new\"] == \"Yes\":\n",
    "        data_update_frequency.layout.display = ''\n",
    "        data_update_stages.layout.display = ''\n",
    "        data_update_delay.layout.display = ''\n",
    "        data_update_supersede.layout.display = ''\n",
    "    else:\n",
    "        data_update_frequency.layout.display = 'none'\n",
    "        data_update_stages.layout.display = 'none'\n",
    "        data_update_delay.layout.display = 'none'\n",
    "        data_update_supersede.layout.display = 'none'\n",
    "        \n",
    "        # Return the values back to default state if 1st option changed back.\n",
    "        data_update_frequency.value = None\n",
    "        data_update_stages.value = None\n",
    "        data_update_delay.value = \"\"\n",
    "        data_update_supersede.value = None\n",
    "        \n",
    "\n",
    "# Show UI components based on their display settings. \n",
    "display(data_update, data_update_frequency, data_update_stages, data_update_delay, data_update_supersede)\n",
    "\n",
    "# Observe the first UI component for changes and call the on_click_handler function if value property changed. \n",
    "data_update.observe(on_click_handler, names=\"value\")"
   ]
  },
  {
   "cell_type": "markdown",
   "id": "eea71f21-807f-481c-97bb-80c43427f270",
   "metadata": {},
   "source": [
    "### Data completeness"
   ]
  },
  {
   "cell_type": "code",
   "execution_count": 8,
   "id": "3884dd0c-7cc0-4c2d-9f37-4ee8e5eb5741",
   "metadata": {
    "editable": true,
    "jupyter": {
     "source_hidden": true
    },
    "slideshow": {
     "slide_type": ""
    },
    "tags": [
     "thebe-init"
    ]
   },
   "outputs": [
    {
     "data": {
      "application/vnd.jupyter.widget-view+json": {
       "model_id": "6f2ca08a12c5421db7ebbc5b6c3819b4",
       "version_major": 2,
       "version_minor": 0
      },
      "text/plain": [
       "Combobox(value='Yes', description='2.2 Is there any documentation about the completeness of the dataset?', lay…"
      ]
     },
     "metadata": {},
     "output_type": "display_data"
    },
    {
     "data": {
      "application/vnd.jupyter.widget-view+json": {
       "model_id": "8694ad30de234c88b0f3bf6468c9a677",
       "version_major": 2,
       "version_minor": 0
      },
      "text/plain": [
       "Text(value='https://agupubs.onlinelibrary.wiley.com/doi/full/10.1029/2019JD032361', description='Documentation…"
      ]
     },
     "metadata": {},
     "output_type": "display_data"
    },
    {
     "data": {
      "application/vnd.jupyter.widget-view+json": {
       "model_id": "44678f0ff66e48019e12f74bdb806757",
       "version_major": 2,
       "version_minor": 0
      },
      "text/plain": [
       "Combobox(value='Global on a 5 degree grid', description='2.3 How complete is the dataset compared to the expec…"
      ]
     },
     "metadata": {},
     "output_type": "display_data"
    },
    {
     "data": {
      "application/vnd.jupyter.widget-view+json": {
       "model_id": "0db26619fe26412ebd9c612c5fba6a5a",
       "version_major": 2,
       "version_minor": 0
      },
      "text/plain": [
       "Combobox(value='1961-1990, monthly.', description='2.4 How complete is the dataset compared to the expected te…"
      ]
     },
     "metadata": {},
     "output_type": "display_data"
    }
   ],
   "source": [
    "\n",
    "completeness_docs = widgets.Combobox(\n",
    "            value=checklist['DataQuality']['DocumentationAvailable'],\n",
    "            options=['Yes', 'No'],\n",
    "            description='2.2 Is there any documentation about the completeness of the dataset?',\n",
    "            placeholder=placeholder,\n",
    "            layout=widgets.Layout(width=widget_width),\n",
    "            style = description_style\n",
    "            )\n",
    "\n",
    "completeness_docs_link = widgets.Text(\n",
    "            value=checklist['DataQuality']['LinkToReport'],\n",
    "            description=\"Documentation link:\",\n",
    "            placeholder='Please provide a link to the document',\n",
    "            disabled=False,\n",
    "            layout=widgets.Layout(display='none', width=widget_width),\n",
    "            style = description_style\n",
    "            )\n",
    "\n",
    "expected_spatial_coverage = widgets.Combobox(\n",
    "            value=checklist['DataQuality']['SpatialCoverage'],\n",
    "            options=['Complete', 'Partial', 'Unknown', 'N/A'],\n",
    "            description='2.3 How complete is the dataset compared to the expected spatial coverage?',\n",
    "            placeholder=placeholder,\n",
    "            layout=widgets.Layout(width=widget_width),\n",
    "            style = description_style\n",
    "            )\n",
    "\n",
    "expected_temporal_coverage = widgets.Combobox(\n",
    "            value=checklist['DataQuality']['TemporalCoverage'],\n",
    "            options=['Complete', 'Partial', 'Unknown', 'N/A'],\n",
    "            description='2.4 How complete is the dataset compared to the expected temporal coverage?',\n",
    "            placeholder=placeholder,\n",
    "            layout=widgets.Layout(width=widget_width),\n",
    "            style = description_style\n",
    "            )\n",
    "\n",
    "# Function to change the display setting of the following UI components. \n",
    "def on_click_handler(change): \n",
    "    if change[\"new\"] == \"Yes\":\n",
    "        completeness_docs_link.layout.display = ''\n",
    "    else:\n",
    "        completeness_docs_link.layout.display = 'none'\n",
    "        \n",
    "        # Return the values back to default state if 1st option changed back.\n",
    "        completeness_docs_link.value = \"\"\n",
    "\n",
    "# Show UI components based on their display settings. \n",
    "display(completeness_docs, completeness_docs_link, expected_spatial_coverage, expected_temporal_coverage)\n",
    "\n",
    "# Observe the first UI component for changes and call the on_click_handler function if value property changed. \n",
    "completeness_docs.observe(on_click_handler, names=\"value\")\n"
   ]
  },
  {
   "cell_type": "markdown",
   "id": "5b56e1f9-6811-446a-a67b-67d04e932be0",
   "metadata": {},
   "source": [
    "### Data consistency"
   ]
  },
  {
   "cell_type": "code",
   "execution_count": 9,
   "id": "e5fcf4e2-015f-4daa-ba16-ac75ebf502f8",
   "metadata": {
    "jupyter": {
     "source_hidden": true
    },
    "scrolled": true
   },
   "outputs": [
    {
     "data": {
      "application/vnd.jupyter.widget-view+json": {
       "model_id": "993399f0210a45fea45d561294400189",
       "version_major": 2,
       "version_minor": 0
      },
      "text/plain": [
       "Combobox(value='Yes', description='2.5 Is this dataset self-consistent in that its units, data types, and para…"
      ]
     },
     "metadata": {},
     "output_type": "display_data"
    },
    {
     "data": {
      "application/vnd.jupyter.widget-view+json": {
       "model_id": "f5f305bee6454441adb2dd8df1182bd0",
       "version_major": 2,
       "version_minor": 0
      },
      "text/plain": [
       "Combobox(value='Yes', description='2.6 Is this dataset’s units, data types, and parameter names consistent wit…"
      ]
     },
     "metadata": {},
     "output_type": "display_data"
    },
    {
     "data": {
      "application/vnd.jupyter.widget-view+json": {
       "model_id": "5783b43785c64a5ca4018fc179579af0",
       "version_major": 2,
       "version_minor": 0
      },
      "text/plain": [
       "Combobox(value='N/A', description='2.7 Are there processes to monitor for units, data types, and parameter con…"
      ]
     },
     "metadata": {},
     "output_type": "display_data"
    },
    {
     "data": {
      "application/vnd.jupyter.widget-view+json": {
       "model_id": "1e077456dbfd420eac712961b5d48d9a",
       "version_major": 2,
       "version_minor": 0
      },
      "text/plain": [
       "Text(value='', description='Review measures:', layout=Layout(display='none', width='900px'), placeholder='If y…"
      ]
     },
     "metadata": {},
     "output_type": "display_data"
    }
   ],
   "source": [
    "\n",
    "self_consistent_units = widgets.Combobox(\n",
    "            value=checklist['DataQuality']['SelfConsistent'],\n",
    "            options=['Yes', 'No', 'N/A'],\n",
    "            description='2.5 Is this dataset self-consistent in that its units, data types, and parameter names do not change over time and space?',\n",
    "            placeholder=\"Click to select option\",\n",
    "            layout=widgets.Layout(width=widget_width),\n",
    "            style = description_style\n",
    "            )\n",
    "\n",
    "consistent_units = widgets.Combobox(\n",
    "            value=checklist['DataQuality']['ConsistentWithSimilarData'],\n",
    "            options=['Yes', 'No', 'N/A'],\n",
    "            description='2.6 Is this dataset’s units, data types, and parameter names consistent with similar data collections?',\n",
    "            placeholder=\"Click to select option\",\n",
    "            layout=widgets.Layout(width=widget_width),\n",
    "            style = description_style\n",
    "            )\n",
    "\n",
    "consistent_unit_monitoring = widgets.Combobox(\n",
    "            value=checklist['DataQuality']['MonitoringProcessesExist'],\n",
    "            options=['Yes', 'No', 'N/A'],\n",
    "            description='2.7 Are there processes to monitor for units, data types, and parameter consistency?',\n",
    "            placeholder=\"Click to select option\",\n",
    "            layout=widgets.Layout(width=widget_width),\n",
    "            style = description_style\n",
    "            )\n",
    "\n",
    "consistent_unit_review = widgets.Text(\n",
    "            value=checklist['DataQuality']['MonitoringProcessesDetails'],\n",
    "            description = 'Review measures:',\n",
    "            placeholder='If yes, what measures are taken? Manual review / Automated review etc.',\n",
    "            disabled=False,\n",
    "            layout=widgets.Layout(display='none', width=widget_width),\n",
    "            style = description_style\n",
    "            )\n",
    "\n",
    "# Function to change the display setting of the following UI components. \n",
    "def on_click_handler(change): \n",
    "    if change[\"new\"] == \"Yes\":\n",
    "        consistent_unit_review.layout.display = ''\n",
    "    else:\n",
    "        consistent_unit_review.layout.display = 'none'\n",
    "        \n",
    "        # Return the values back to default state if 1st option changed back.\n",
    "        consistent_unit_review.value = \"\"\n",
    "\n",
    "# Show UI components based on their display settings. \n",
    "display(self_consistent_units, consistent_units, consistent_unit_monitoring, consistent_unit_review)\n",
    "\n",
    "# Observe the first UI component for changes and call the on_click_handler function if value property changed. \n",
    "consistent_unit_monitoring.observe(on_click_handler, names=\"value\")\n"
   ]
  },
  {
   "cell_type": "code",
   "execution_count": 10,
   "id": "5fd9574a-becf-4556-a3bd-51aef40a5459",
   "metadata": {
    "jupyter": {
     "source_hidden": true
    }
   },
   "outputs": [
    {
     "data": {
      "application/vnd.jupyter.widget-view+json": {
       "model_id": "3dd3d8518923459395c028777174c081",
       "version_major": 2,
       "version_minor": 0
      },
      "text/plain": [
       "Button(button_style='primary', description='Save Timeliness, Completeness & Consistency Answers to json file',…"
      ]
     },
     "metadata": {},
     "output_type": "display_data"
    }
   ],
   "source": [
    "\n",
    "# Save button\n",
    "save_button = widgets.Button(description=\"Save Timeliness, Completeness & Consistency Answers to json file\",  button_style=\"primary\",  layout=widgets.Layout(flex='1 1 auto', width='auto'))\n",
    "\n",
    "def generate_updates_data_quality1():\n",
    "\n",
    "    updates = {\n",
    "        \"DataQuality\": {\n",
    "            \"WillBeUpdated\": data_update.value,\n",
    "            \"WhenNewDataAdded\": data_update_frequency.value,\n",
    "            \"DifferentStages\": data_update_stages.value,\n",
    "            \"DelayBetweenStages\": data_update_delay.value,\n",
    "            \"SupersedeCurrentVersion\": data_update_supersede.value,\n",
    "            \"DocumentationAvailable\" : completeness_docs.value,\n",
    "            \"LinkToReport\" : completeness_docs_link.value,\n",
    "            \"SpatialCoverage\" : expected_spatial_coverage.value,\n",
    "            \"TemporalCoverage\" : expected_temporal_coverage.value,\n",
    "            \"SelfConsistent\" : self_consistent_units.value,\n",
    "            \"ConsistentWithSimilarData\" : consistent_units.value,\n",
    "            \"MonitoringProcessesExist\" : consistent_unit_monitoring.value,\n",
    "            \"MonitoringProcessesDetails\" : consistent_unit_review.value            \n",
    "        }\n",
    "    }\n",
    "    return updates\n",
    "\n",
    "save_button.on_click(lambda b: update_checklist(b, generate_updates_data_quality1()))\n",
    "\n",
    "display(save_button)"
   ]
  },
  {
   "cell_type": "markdown",
   "id": "55405b83-c482-41d0-b1a4-df37191f1a9b",
   "metadata": {},
   "source": [
    "### Data bias"
   ]
  },
  {
   "cell_type": "code",
   "execution_count": 11,
   "id": "a792cb9e-46ab-46d6-b6d6-b2347322c904",
   "metadata": {
    "editable": true,
    "jupyter": {
     "source_hidden": true
    },
    "slideshow": {
     "slide_type": ""
    },
    "tags": []
   },
   "outputs": [
    {
     "data": {
      "application/vnd.jupyter.widget-view+json": {
       "model_id": "3abe50fdd36d446bb63825a319d6b8ed",
       "version_major": 2,
       "version_minor": 0
      },
      "text/plain": [
       "Combobox(value='Yes', description='2.8 Is there known bias in the dataset?', layout=Layout(width='900px'), opt…"
      ]
     },
     "metadata": {},
     "output_type": "display_data"
    },
    {
     "data": {
      "application/vnd.jupyter.widget-view+json": {
       "model_id": "6a309d8a120746ccae1e9bc5417f3526",
       "version_major": 2,
       "version_minor": 0
      },
      "text/plain": [
       "Combobox(value='Yes', description='Have measures been taken to examine bias?', layout=Layout(display='none', w…"
      ]
     },
     "metadata": {},
     "output_type": "display_data"
    },
    {
     "data": {
      "application/vnd.jupyter.widget-view+json": {
       "model_id": "023ecb1877904adba8152e1a4d7910e2",
       "version_major": 2,
       "version_minor": 0
      },
      "text/plain": [
       "Textarea(value='Bias adjustments.', layout=Layout(display='none', width='900px'), placeholder='If yes, what me…"
      ]
     },
     "metadata": {},
     "output_type": "display_data"
    },
    {
     "data": {
      "application/vnd.jupyter.widget-view+json": {
       "model_id": "a21f9fdfdbfe4cb8af1eff4463c26f10",
       "version_major": 2,
       "version_minor": 0
      },
      "text/plain": [
       "Textarea(value='Yes', layout=Layout(display='none', width='900px'), placeholder='Is the bias metrological trac…"
      ]
     },
     "metadata": {},
     "output_type": "display_data"
    },
    {
     "data": {
      "application/vnd.jupyter.widget-view+json": {
       "model_id": "bc9546fd2f5e4de9af232e45ea5ff3a3",
       "version_major": 2,
       "version_minor": 0
      },
      "text/plain": [
       "Combobox(value='Found and reported', description='Is there reported bias in the data?', layout=Layout(display=…"
      ]
     },
     "metadata": {},
     "output_type": "display_data"
    },
    {
     "data": {
      "application/vnd.jupyter.widget-view+json": {
       "model_id": "b7bc5ff0c4834e2786cb950b3f6fe545",
       "version_major": 2,
       "version_minor": 0
      },
      "text/plain": [
       "Text(value='https://agupubs.onlinelibrary.wiley.com/doi/full/10.1029/2019JD032361', layout=Layout(display='non…"
      ]
     },
     "metadata": {},
     "output_type": "display_data"
    },
    {
     "data": {
      "application/vnd.jupyter.widget-view+json": {
       "model_id": "aa1ca784cab849b79377d68a82c90646",
       "version_major": 2,
       "version_minor": 0
      },
      "text/plain": [
       "Text(value='', layout=Layout(display='none', width='900px'), placeholder='(optional) Link to a bias-corrected …"
      ]
     },
     "metadata": {},
     "output_type": "display_data"
    },
    {
     "data": {
      "application/vnd.jupyter.widget-view+json": {
       "model_id": "b3bccd22618748a1af0eb93b4235bab1",
       "version_major": 2,
       "version_minor": 0
      },
      "text/plain": [
       "Text(value='', layout=Layout(display='none', width='900px'), placeholder='(optional) Link to tools available t…"
      ]
     },
     "metadata": {},
     "output_type": "display_data"
    }
   ],
   "source": [
    "\n",
    "dataset_bias = widgets.Combobox(\n",
    "            value=checklist['DataQuality']['KnownBias'],\n",
    "            options=['Yes', 'No', 'Unknown'],\n",
    "            description='2.8 Is there known bias in the dataset?',\n",
    "            placeholder=placeholder,\n",
    "            layout=widgets.Layout(width=widget_width),\n",
    "            style = description_style\n",
    "            )\n",
    "\n",
    "dataset_bias_measures = widgets.Combobox(\n",
    "            value=checklist['DataQuality']['BiasExamined'],\n",
    "            options=['Yes', 'No', 'Unknown', 'N/A'],\n",
    "            description='Have measures been taken to examine bias?',\n",
    "            placeholder=placeholder,\n",
    "            layout=widgets.Layout(display=\"none\", width=widget_width),\n",
    "            style = description_style\n",
    "            )\n",
    "\n",
    "dataset_bias_measures_detail = widgets.Textarea(\n",
    "            value=checklist['DataQuality']['BiasMeasures'],\n",
    "            placeholder='If yes, what measures were used?',\n",
    "            layout=widgets.Layout(display=\"none\", width=widget_width),\n",
    "            )\n",
    "\n",
    "dataset_bias_metrological_traceable = widgets.Textarea(\n",
    "            value=checklist['DataQuality']['MetrologicalTraceability'],\n",
    "            placeholder='Is the bias metrological traceable?',\n",
    "            layout=widgets.Layout(display=\"none\", width=widget_width),\n",
    "            )\n",
    "\n",
    "dataset_bias_report = widgets.Combobox(\n",
    "            value=checklist['DataQuality']['BiasReport'],\n",
    "            options=['No known bias', 'Found and reported', 'No info available', 'N/A'],\n",
    "            description='Is there reported bias in the data?',\n",
    "            placeholder=placeholder,\n",
    "            layout=widgets.Layout(display=\"none\", width=widget_width),\n",
    "            style = description_style\n",
    "            )\n",
    "\n",
    "dataset_bias_report_link = widgets.Text(\n",
    "            value=checklist['DataQuality']['BiasReportLink'],\n",
    "            placeholder='(optional) Link to the report/document on the bias',\n",
    "            layout=widgets.Layout(display=\"none\", width=widget_width)\n",
    "            )\n",
    "\n",
    "dataset_bias_corrected_link = widgets.Text(\n",
    "            value=checklist['DataQuality']['BiasCorrectedDatasetLink'],\n",
    "            placeholder='(optional) Link to a bias-corrected or bias-reduced version of the dataset',\n",
    "            layout=widgets.Layout(display=\"none\", width=widget_width)\n",
    "            )\n",
    "\n",
    "dataset_bias_tools_link = widgets.Text(\n",
    "            value=checklist['DataQuality']['BiasReductionToolsLink'],\n",
    "            placeholder='(optional) Link to tools available to reduce bias',\n",
    "            layout=widgets.Layout(display=\"none\", width=widget_width)\n",
    "            )\n",
    "\n",
    "# Function to change the display setting of the following UI components. \n",
    "def on_click_handler(change):    \n",
    "\n",
    "    # Show / hide main trunk of questions. \n",
    "    if dataset_bias.value == \"Yes\":\n",
    "        dataset_bias_measures.layout.display = ''\n",
    "        dataset_bias_report.layout.display = ''\n",
    "        dataset_bias_metrological_traceable.layout.display = ''\n",
    "        dataset_bias_report_link.layout.display = ''\n",
    "        dataset_bias_corrected_link.layout.display = ''\n",
    "        dataset_bias_tools_link.layout.display = ''\n",
    "\n",
    "    else:   \n",
    "        dataset_bias_measures.layout.display = 'none'\n",
    "        dataset_bias_report.layout.display = 'none'\n",
    "        dataset_bias_report_link.layout.display = 'none'\n",
    "        dataset_bias_corrected_link.layout.display = 'none'\n",
    "        dataset_bias_tools_link.layout.display = 'none'\n",
    "        dataset_bias_measures.value = None\n",
    "        dataset_bias_report.value = None\n",
    "        dataset_bias_report_link.value = ''\n",
    "        dataset_bias_corrected_link.value = ''\n",
    "        dataset_bias_tools_link.value = ''\n",
    "\n",
    "    # Show / hide 2nd trunk of questions.\n",
    "    if dataset_bias_measures.value == \"Yes\":\n",
    "        dataset_bias_measures_detail.layout.display = ''\n",
    "        dataset_bias_metrological_traceable.layout.display = ''\n",
    "    else:\n",
    "        dataset_bias_measures_detail.layout.display = 'none'\n",
    "        dataset_bias_metrological_traceable.layout.display = 'none'\n",
    "        dataset_bias_measures_detail.value = ''\n",
    "        dataset_bias_metrological_traceable.value = ''\n",
    "        \n",
    "            \n",
    "# Display the UI components\n",
    "display(dataset_bias, dataset_bias_measures, dataset_bias_measures_detail, dataset_bias_metrological_traceable, dataset_bias_report, dataset_bias_report_link, dataset_bias_corrected_link, dataset_bias_tools_link)\n",
    "\n",
    "# Observe UI components for changes and call the on_click_handler function if value property changed. \n",
    "dataset_bias.observe(on_click_handler, names=\"value\")\n",
    "dataset_bias_measures.observe(on_click_handler, names=\"value\")\n",
    "\n"
   ]
  },
  {
   "cell_type": "markdown",
   "id": "1a20b72c-5a54-4ebf-a2c5-a420287bc975",
   "metadata": {},
   "source": [
    "### Data integrity"
   ]
  },
  {
   "cell_type": "code",
   "execution_count": 12,
   "id": "aacda1c4-d578-421e-9804-efcc75e53599",
   "metadata": {
    "jupyter": {
     "source_hidden": true
    }
   },
   "outputs": [
    {
     "data": {
      "application/vnd.jupyter.widget-view+json": {
       "model_id": "23039dbdb828429aaa3ba7d3305cc839",
       "version_major": 2,
       "version_minor": 0
      },
      "text/plain": [
       "Combobox(value='Yes', description='2.9 Is there quantitative information about data resolution in space and ti…"
      ]
     },
     "metadata": {},
     "output_type": "display_data"
    },
    {
     "data": {
      "application/vnd.jupyter.widget-view+json": {
       "model_id": "eddae03ef88d4621ba3358dae4476b44",
       "version_major": 2,
       "version_minor": 0
      },
      "text/plain": [
       "Combobox(value='Yes', description='2.10 Are there published data quality procedures or reports?', layout=Layou…"
      ]
     },
     "metadata": {},
     "output_type": "display_data"
    },
    {
     "data": {
      "application/vnd.jupyter.widget-view+json": {
       "model_id": "5dfa254a4def4cf8ba4427f14d262184",
       "version_major": 2,
       "version_minor": 0
      },
      "text/plain": [
       "Text(value='https://agupubs.onlinelibrary.wiley.com/doi/full/10.1029/2019JD032361', description='Quality infor…"
      ]
     },
     "metadata": {},
     "output_type": "display_data"
    },
    {
     "data": {
      "application/vnd.jupyter.widget-view+json": {
       "model_id": "e395e21b57774ac6985a86e366a7071e",
       "version_major": 2,
       "version_minor": 0
      },
      "text/plain": [
       "Combobox(value='Yes', description='2.11 Is the provenance of the dataset tracked and documented?', layout=Layo…"
      ]
     },
     "metadata": {},
     "output_type": "display_data"
    },
    {
     "data": {
      "application/vnd.jupyter.widget-view+json": {
       "model_id": "3f4bb72f2ad3464e965840a66e8275ac",
       "version_major": 2,
       "version_minor": 0
      },
      "text/plain": [
       "Combobox(value='Yes', description='2.12 Are there checksums / other checks for data integrity? ', layout=Layou…"
      ]
     },
     "metadata": {},
     "output_type": "display_data"
    }
   ],
   "source": [
    "\n",
    "data_resolution_info = widgets.Combobox(\n",
    "            value=checklist['DataQuality']['QuantitativeResolutionInfo'],\n",
    "            options=['Yes', 'No', 'N/A'],\n",
    "            description='2.9 Is there quantitative information about data resolution in space and time?',\n",
    "            placeholder=\"Click to select option\",\n",
    "            layout=widgets.Layout(width=widget_width),\n",
    "            style = description_style\n",
    "            )\n",
    "\n",
    "data_quality_report = widgets.Combobox(\n",
    "            value=checklist['DataQuality']['PublishedQualityProcedures'],\n",
    "            options=['Yes', 'No', 'N/A'],\n",
    "            description='2.10 Are there published data quality procedures or reports?',\n",
    "            placeholder=\"Click to select option\",\n",
    "            layout=widgets.Layout(width=widget_width),\n",
    "            style = description_style\n",
    "            )\n",
    "\n",
    "data_quality_report_link = widgets.Text(\n",
    "            value=checklist['DataQuality']['QualityInformationLink'],\n",
    "            description=\"Quality information link:\",\n",
    "            placeholder='If there is published quality information, please provide the link.',\n",
    "            layout=widgets.Layout(width=widget_width),\n",
    "            style=description_style\n",
    "            )\n",
    "\n",
    "dataset_provenance = widgets.Combobox(\n",
    "            value=checklist['DataQuality']['ProvenanceTracked'],\n",
    "            options=['Yes', 'No', 'N/A'],\n",
    "            description='2.11 Is the provenance of the dataset tracked and documented?',\n",
    "            placeholder=\"Click to select option\",\n",
    "            layout=widgets.Layout(width=widget_width),\n",
    "            style = description_style\n",
    "            )\n",
    "\n",
    "data_integrity = widgets.Combobox(\n",
    "            value=checklist['DataQuality']['DataIntegrityChecks'],\n",
    "            options=['Yes', 'No', 'N/A'],\n",
    "            description='2.12 Are there checksums / other checks for data integrity? ',\n",
    "            placeholder=\"Click to select option\",\n",
    "            layout=widgets.Layout(width=widget_width),\n",
    "            style = description_style\n",
    "            )\n",
    "\n",
    "display(data_resolution_info, data_quality_report, data_quality_report_link, dataset_provenance, data_integrity)"
   ]
  },
  {
   "cell_type": "markdown",
   "id": "814a9aa5-dcf0-4a2c-92ed-19de1aec05ea",
   "metadata": {},
   "source": [
    "### Dataset size"
   ]
  },
  {
   "cell_type": "code",
   "execution_count": 13,
   "id": "962fb6eb-a36f-4239-a613-daac8fefc77c",
   "metadata": {
    "jupyter": {
     "source_hidden": true
    }
   },
   "outputs": [
    {
     "data": {
      "application/vnd.jupyter.widget-view+json": {
       "model_id": "3b641b901fb94f6fb47242d28df5774e",
       "version_major": 2,
       "version_minor": 0
      },
      "text/plain": [
       "Label(value='2.13 What is the size of the dataset? Depending on the resource, this might be:')"
      ]
     },
     "metadata": {},
     "output_type": "display_data"
    },
    {
     "data": {
      "application/vnd.jupyter.widget-view+json": {
       "model_id": "d9b4481d476f475f94ccb30e5141c928",
       "version_major": 2,
       "version_minor": 0
      },
      "text/plain": [
       "Text(value='Variable', placeholder='Total data volume:')"
      ]
     },
     "metadata": {},
     "output_type": "display_data"
    },
    {
     "data": {
      "application/vnd.jupyter.widget-view+json": {
       "model_id": "03434ca0b6714cce9b8a5a498ae29c04",
       "version_major": 2,
       "version_minor": 0
      },
      "text/plain": [
       "HBox(children=(Label(value='Number of data files:'), IntText(value=0, layout=Layout(width='100px'))))"
      ]
     },
     "metadata": {},
     "output_type": "display_data"
    },
    {
     "data": {
      "application/vnd.jupyter.widget-view+json": {
       "model_id": "dddbccd0c37f4c99be020a5791d8117d",
       "version_major": 2,
       "version_minor": 0
      },
      "text/plain": [
       "HBox(children=(Label(value='Number of data table rows:'), IntText(value=0, layout=Layout(width='100px'))))"
      ]
     },
     "metadata": {},
     "output_type": "display_data"
    },
    {
     "data": {
      "application/vnd.jupyter.widget-view+json": {
       "model_id": "e84be74945c1415a88b58dbaf6239dec",
       "version_major": 2,
       "version_minor": 0
      },
      "text/plain": [
       "HBox(children=(Label(value='Number of data dimensions:'), IntText(value=0, layout=Layout(width='100px'))))"
      ]
     },
     "metadata": {},
     "output_type": "display_data"
    },
    {
     "data": {
      "application/vnd.jupyter.widget-view+json": {
       "model_id": "6580b1fe15884d388b24165a0a5e2cca",
       "version_major": 2,
       "version_minor": 0
      },
      "text/plain": [
       "HBox(children=(Label(value='Number of images:'), IntText(value=0, layout=Layout(width='100px')), Box(layout=La…"
      ]
     },
     "metadata": {},
     "output_type": "display_data"
    }
   ],
   "source": [
    "\n",
    "data_size_question = widgets.Label(\n",
    "    value = '2.13 What is the size of the dataset? Depending on the resource, this might be:'\n",
    ")\n",
    "\n",
    "spacer = widgets.Box(layout=widgets.Layout(width='20px'))\n",
    "\n",
    "total_data_volume = widgets.Text(\n",
    "    value = checklist['DataQuality']['DatasetVolume'],\n",
    "    placeholder='Total data volume:'\n",
    ")\n",
    "\n",
    "num_data_dimensions_label = widgets.Label(\n",
    "    value = \"Number of data dimensions:\"\n",
    ")\n",
    "\n",
    "num_data_dimensions = widgets.IntText(\n",
    "    value = checklist['DataQuality']['DatasetDimensions'],\n",
    "    layout = widgets.Layout(width=\"100px\")\n",
    ")\n",
    "\n",
    "dimensions = widgets.HBox([num_data_dimensions_label, num_data_dimensions])\n",
    "\n",
    "\n",
    "num_data_files_label = widgets.Label(\n",
    "    value = \"Number of data files:\"\n",
    ")\n",
    "\n",
    "num_data_files = widgets.IntText(\n",
    "    value = checklist['DataQuality']['DatasetNumFiles'],\n",
    "    layout = widgets.Layout(width=\"100px\")\n",
    ")\n",
    "\n",
    "data_files = widgets.HBox([num_data_files_label, num_data_files])\n",
    "\n",
    "num_data_rows_label = widgets.Label(\n",
    "    value = \"Number of data table rows:\"\n",
    ")\n",
    "\n",
    "num_data_rows = widgets.IntText(\n",
    "    value = checklist['DataQuality']['DatasetNumRows'],\n",
    "    layout = widgets.Layout(width=\"100px\")\n",
    ")\n",
    "\n",
    "data_rows = widgets.HBox([num_data_rows_label, num_data_rows])\n",
    "\n",
    "num_data_images_label = widgets.Label(\n",
    "    value = \"Number of images:\"\n",
    ")\n",
    "\n",
    "num_data_images = widgets.IntText(\n",
    "    value = checklist['DataQuality']['DatasetNumImages'],\n",
    "    layout = widgets.Layout(width=\"100px\")\n",
    ")\n",
    "\n",
    "num_data_images_size_label = widgets.Label(\n",
    "    value = \"Size of images:\"\n",
    ")\n",
    "\n",
    "num_data_images_size = widgets.Text(\n",
    "    value = checklist['DataQuality']['DatasetImageSize'],\n",
    "    placeholder='228 x 228'\n",
    ")\n",
    "\n",
    "images = widgets.HBox([num_data_images_label, num_data_images, spacer, num_data_images_size_label, num_data_images_size])\n",
    "\n",
    "\n",
    "display(data_size_question, total_data_volume, data_files, data_rows, dimensions, images)"
   ]
  },
  {
   "cell_type": "code",
   "execution_count": 14,
   "id": "2952b185-b950-49c2-b745-cb81dc6ab67f",
   "metadata": {
    "jupyter": {
     "source_hidden": true
    }
   },
   "outputs": [
    {
     "data": {
      "application/vnd.jupyter.widget-view+json": {
       "model_id": "567bd947942f472f80feaea2a237c955",
       "version_major": 2,
       "version_minor": 0
      },
      "text/plain": [
       "Button(button_style='primary', description='Save Bias, Integrity & Size Answers to json file', layout=Layout(f…"
      ]
     },
     "metadata": {},
     "output_type": "display_data"
    }
   ],
   "source": [
    "\n",
    "# Save button\n",
    "save_button = widgets.Button(description=\"Save Bias, Integrity & Size Answers to json file\",  button_style=\"primary\",  layout=widgets.Layout(flex='1 1 auto', width='auto'))\n",
    "\n",
    "def generate_updates_data_quality2():\n",
    "    \n",
    "    updates = {\n",
    "        \"DataQuality\": {\n",
    "            #Bias\n",
    "            \"KnownBias\": dataset_bias.value,\n",
    "            \"BiasExamined\": dataset_bias_measures.value,\n",
    "            \"BiasMeasures\": dataset_bias_measures_detail.value,\n",
    "            \"MetrologicalTraceability\": dataset_bias_metrological_traceable.value,\n",
    "            \"BiasReport\": dataset_bias_report.value,            \n",
    "            \"BiasReportLink\" : dataset_bias_report_link.value,\n",
    "            \"BiasCorrectedDatasetLink\" : dataset_bias_corrected_link.value,\n",
    "            \"BiasReductionToolsLink\" : dataset_bias_tools_link.value,\n",
    "            # Integrity\n",
    "            \"QuantitativeResolutionInfo\" : data_resolution_info.value,\n",
    "            \"PublishedQualityProcedures\" : data_quality_report.value,\n",
    "            \"QualityInformationLink\" : data_quality_report_link.value,\n",
    "            \"ProvenanceTracked\" : dataset_provenance.value,\n",
    "            \"DataIntegrityChecks\" : data_integrity.value,\n",
    "            # Size\n",
    "            \"DatasetVolume\" : total_data_volume.value,\n",
    "            \"DatasetNumFiles\" : num_data_files.value,\n",
    "            \"DatasetNumRows\" : num_data_rows.value,\n",
    "            \"DatasetDimensions\" : num_data_dimensions.value,\n",
    "            \"DatasetNumImages\" : num_data_images.value,\n",
    "            \"DatasetImageSize\" : num_data_images_size.value,\n",
    "        }\n",
    "    }\n",
    "    return updates\n",
    "\n",
    "save_button.on_click(lambda b: update_checklist(b, generate_updates_data_quality2()))\n",
    "\n",
    "display(save_button)"
   ]
  },
  {
   "cell_type": "markdown",
   "id": "3824aa9e-9d66-4a2e-a1a2-60139f7c30dd",
   "metadata": {},
   "source": [
    "## Finished"
   ]
  },
  {
   "cell_type": "markdown",
   "id": "a0150d53-a950-4ae0-ae60-ab109f817205",
   "metadata": {},
   "source": [
    "1. Make sure you saved your answers to the external json file using the buttons above. \n",
    "2. If you would like to view these saved answers use the button below. \n",
    "3. Move onto the notebook Template_Checklist_Part_3.ipynb covering Data Documentation"
   ]
  },
  {
   "cell_type": "code",
   "execution_count": 15,
   "id": "d35683fe-7d9f-40fa-81fa-99f926702fd6",
   "metadata": {
    "jupyter": {
     "source_hidden": true
    }
   },
   "outputs": [
    {
     "data": {
      "application/vnd.jupyter.widget-view+json": {
       "model_id": "40f21656711f4c658acd332ff686fe11",
       "version_major": 2,
       "version_minor": 0
      },
      "text/plain": [
       "Button(button_style='info', description='Print json results', layout=Layout(flex='1 1 auto', width='auto'), st…"
      ]
     },
     "metadata": {},
     "output_type": "display_data"
    },
    {
     "data": {
      "application/vnd.jupyter.widget-view+json": {
       "model_id": "fe25b60f5fde473783d9f67a383e9b7c",
       "version_major": 2,
       "version_minor": 0
      },
      "text/plain": [
       "Output()"
      ]
     },
     "metadata": {},
     "output_type": "display_data"
    }
   ],
   "source": [
    "\n",
    "button_print_json = widgets.Button(description=\"Print json results\",  button_style='info', layout=widgets.Layout(flex='1 1 auto', width='auto'))\n",
    "output = widgets.Output()\n",
    "\n",
    "display(button_print_json, output)\n",
    "\n",
    "def print_json_info(b):\n",
    "    \"\"\"\n",
    "    Loads a copy of the json file to checklist variable. \n",
    "    Then prints the json file contents to Jupyter notebook cell output.\n",
    "\n",
    "    Arguments: b - represents the button calling the function. \n",
    "    \"\"\"\n",
    "    checklist = load_checklist()\n",
    "    with output:\n",
    "        clear_output()\n",
    "        for key, value in checklist.items():\n",
    "            print(f\"{key}:\")\n",
    "            if isinstance(value, dict):\n",
    "                for sub_key, sub_value in value.items():\n",
    "                    print(f\"  {sub_key}: {sub_value}\")\n",
    "            else:\n",
    "                print(f\"  {value}\")\n",
    "\n",
    "button_print_json.on_click(print_json_info)\n"
   ]
  },
  {
   "cell_type": "markdown",
   "id": "c760fc3b-f413-46e4-8a76-31684d83a2d2",
   "metadata": {},
   "source": [
    "---\n",
    "\n",
    "## **Appendix** - Definition of terms used in the checklist."
   ]
  },
  {
   "cell_type": "markdown",
   "id": "76b55144-23ad-41ed-bdb2-6b347026d278",
   "metadata": {
    "jp-MarkdownHeadingCollapsed": true
   },
   "source": [
    "### Quality\n",
    "* **Completeness**: the breadth of a dataset compared to an ideal 100% completion (spatial, temporal, demographic, etc.); important in avoiding sampling bias\n",
    "* **Consistency**: uniformity within the entire dataset or compared with similar data collections; for example, no changes in units or data types over time; the item measured against itself or its a counterpart in another dataset or database\n",
    "* **Bias**: a systematic tilt in the dataset when compared to a reference, caused for example by instrumentation, incorrect data processing, unrepresentative sampling, or human error; the exact nature of bias and how it is measured will vary depending on the type of data and the research domain.\n",
    "* **Uncertainty**: parameter, associated with the result of a measurement, that characterizes the dispersion of the values that could reasonably be attributed to the measurand.\n",
    "* **Timeliness**: the speed of data release, compared to when an event occurred or measurements were made; requirements will vary depending on the timeframe of the phenomenon (e.g., severe thunderstorms vs. climate change, or disease outbreaks vs. life expectancy trends)\n",
    "* **Provenance**: identification of the data sources, how it was processed, and who released it.\n",
    "* **Integrity**: verification that the data remains unchanged from the original; aka data fixity."
   ]
  }
 ],
 "metadata": {
  "kernelspec": {
   "display_name": "Python 3 (ipykernel)",
   "language": "python",
   "name": "python3"
  },
  "language_info": {
   "codemirror_mode": {
    "name": "ipython",
    "version": 3
   },
   "file_extension": ".py",
   "mimetype": "text/x-python",
   "name": "python",
   "nbconvert_exporter": "python",
   "pygments_lexer": "ipython3",
   "version": "3.11.8"
  },
  "widgets": {
   "application/vnd.jupyter.widget-state+json": {
    "state": {
     "023ecb1877904adba8152e1a4d7910e2": {
      "model_module": "@jupyter-widgets/controls",
      "model_module_version": "2.0.0",
      "model_name": "TextareaModel",
      "state": {
       "layout": "IPY_MODEL_b0c626d1a491456c8e80152d36923858",
       "placeholder": "If yes, what measures were used?",
       "style": "IPY_MODEL_92ccda910c27468a9db20f8885b8567a",
       "value": "Bias adjustments."
      }
     },
     "0243c97de93a44d3878f4e6b6bb38b5e": {
      "model_module": "@jupyter-widgets/controls",
      "model_module_version": "2.0.0",
      "model_name": "TextModel",
      "state": {
       "description": "1.4. Assessor name:",
       "layout": "IPY_MODEL_2c5972b9e733412f83e6784cf74b4261",
       "style": "IPY_MODEL_a2896bc87ec94c4bbd10a6a5ab3a5dea",
       "value": "John Pill"
      }
     },
     "0314a156ce194502998ac2f714b3c494": {
      "model_module": "@jupyter-widgets/base",
      "model_module_version": "2.0.0",
      "model_name": "LayoutModel",
      "state": {
       "width": "900px"
      }
     },
     "03434ca0b6714cce9b8a5a498ae29c04": {
      "model_module": "@jupyter-widgets/controls",
      "model_module_version": "2.0.0",
      "model_name": "HBoxModel",
      "state": {
       "children": [
        "IPY_MODEL_15ad268beb104060b6c25760dd497b05",
        "IPY_MODEL_367c2c9d60af468681d300b82344cd13"
       ],
       "layout": "IPY_MODEL_210387fda0b946d98dfbfa7bbf9cd29a"
      }
     },
     "042f3272b32345539ff8b3a2499127c1": {
      "model_module": "@jupyter-widgets/base",
      "model_module_version": "2.0.0",
      "model_name": "LayoutModel",
      "state": {}
     },
     "05b105df170f454fb85229aedd0ec775": {
      "model_module": "@jupyter-widgets/base",
      "model_module_version": "2.0.0",
      "model_name": "LayoutModel",
      "state": {
       "width": "900px"
      }
     },
     "07926bf173714821af3d3849020cbf7e": {
      "model_module": "@jupyter-widgets/controls",
      "model_module_version": "2.0.0",
      "model_name": "TextStyleModel",
      "state": {
       "description_width": "initial",
       "font_size": null,
       "text_color": null
      }
     },
     "0cdb6a1d86a048b5bea189ee2f026ae0": {
      "model_module": "@jupyter-widgets/controls",
      "model_module_version": "2.0.0",
      "model_name": "TextStyleModel",
      "state": {
       "description_width": "",
       "font_size": null,
       "text_color": null
      }
     },
     "0d717085592440819b9f7d755019c477": {
      "model_module": "@jupyter-widgets/base",
      "model_module_version": "2.0.0",
      "model_name": "LayoutModel",
      "state": {
       "display": "none",
       "width": "900px"
      }
     },
     "0db26619fe26412ebd9c612c5fba6a5a": {
      "model_module": "@jupyter-widgets/controls",
      "model_module_version": "2.0.0",
      "model_name": "ComboboxModel",
      "state": {
       "description": "2.4 How complete is the dataset compared to the expected temporal coverage?",
       "ensure_option": false,
       "layout": "IPY_MODEL_a3d20d52f51d414084f864af9648c75a",
       "options": [
        "Complete",
        "Partial",
        "Unknown",
        "N/A"
       ],
       "placeholder": "Click to select option",
       "style": "IPY_MODEL_54974aa232494301b8546f09da5b8864",
       "value": "1961-1990, monthly."
      }
     },
     "118f2d1fb86b44fd964b6e06f6914f3e": {
      "model_module": "@jupyter-widgets/controls",
      "model_module_version": "2.0.0",
      "model_name": "LabelStyleModel",
      "state": {
       "description_width": "",
       "font_family": null,
       "font_size": null,
       "font_style": null,
       "font_variant": null,
       "font_weight": null,
       "text_color": null,
       "text_decoration": null
      }
     },
     "15ad268beb104060b6c25760dd497b05": {
      "model_module": "@jupyter-widgets/controls",
      "model_module_version": "2.0.0",
      "model_name": "LabelModel",
      "state": {
       "layout": "IPY_MODEL_44e8c1870961478c99043166ff5d9123",
       "style": "IPY_MODEL_fb752131ee34448aa442630556e2d5ef",
       "value": "Number of data files:"
      }
     },
     "16bc14b6beaf4518a2ffb86cb0eacc67": {
      "model_module": "@jupyter-widgets/base",
      "model_module_version": "2.0.0",
      "model_name": "LayoutModel",
      "state": {
       "width": "900px"
      }
     },
     "16fe0a79121c4ea58a1a9d95b86c1dc0": {
      "model_module": "@jupyter-widgets/base",
      "model_module_version": "2.0.0",
      "model_name": "LayoutModel",
      "state": {
       "width": "900px"
      }
     },
     "1a00066e7eb941c882c2e886938fc1c4": {
      "model_module": "@jupyter-widgets/controls",
      "model_module_version": "2.0.0",
      "model_name": "TextStyleModel",
      "state": {
       "description_width": "initial",
       "font_size": null,
       "text_color": null
      }
     },
     "1b5c0c2e894f47c8a72620161a65080a": {
      "model_module": "@jupyter-widgets/controls",
      "model_module_version": "2.0.0",
      "model_name": "DescriptionStyleModel",
      "state": {
       "description_width": ""
      }
     },
     "1b90d8a107e6459f95d92195eb127736": {
      "model_module": "@jupyter-widgets/controls",
      "model_module_version": "2.0.0",
      "model_name": "TextStyleModel",
      "state": {
       "description_width": "",
       "font_size": null,
       "text_color": null
      }
     },
     "1bb1c50761f14f9ea834a36b74ea7cb7": {
      "model_module": "@jupyter-widgets/controls",
      "model_module_version": "2.0.0",
      "model_name": "LabelModel",
      "state": {
       "layout": "IPY_MODEL_908722e3f9ca4c8ea30a81159707a484",
       "style": "IPY_MODEL_57fd1c6c4143440181bb750b99f17579",
       "value": "Select from the list, or type your own answer if appropriate."
      }
     },
     "1bc8d1caebac488986fdd8774a5fc4d6": {
      "model_module": "@jupyter-widgets/base",
      "model_module_version": "2.0.0",
      "model_name": "LayoutModel",
      "state": {
       "display": "none",
       "width": "900px"
      }
     },
     "1e077456dbfd420eac712961b5d48d9a": {
      "model_module": "@jupyter-widgets/controls",
      "model_module_version": "2.0.0",
      "model_name": "TextModel",
      "state": {
       "description": "Review measures:",
       "layout": "IPY_MODEL_99562c5352e242529ea172bbca01065f",
       "placeholder": "If yes, what measures are taken? Manual review / Automated review etc.",
       "style": "IPY_MODEL_8c95e75243dd4f619551a9347671424e"
      }
     },
     "1e8ba36075344240ae0ce288e12f8821": {
      "model_module": "@jupyter-widgets/controls",
      "model_module_version": "2.0.0",
      "model_name": "LabelStyleModel",
      "state": {
       "description_width": "",
       "font_family": null,
       "font_size": null,
       "font_style": null,
       "font_variant": null,
       "font_weight": null,
       "text_color": null,
       "text_decoration": null
      }
     },
     "205fcf478e1641f981de77d0112ed1ac": {
      "model_module": "@jupyter-widgets/controls",
      "model_module_version": "2.0.0",
      "model_name": "TextStyleModel",
      "state": {
       "description_width": "",
       "font_size": null,
       "text_color": null
      }
     },
     "210387fda0b946d98dfbfa7bbf9cd29a": {
      "model_module": "@jupyter-widgets/base",
      "model_module_version": "2.0.0",
      "model_name": "LayoutModel",
      "state": {}
     },
     "23039dbdb828429aaa3ba7d3305cc839": {
      "model_module": "@jupyter-widgets/controls",
      "model_module_version": "2.0.0",
      "model_name": "ComboboxModel",
      "state": {
       "description": "2.9 Is there quantitative information about data resolution in space and time?",
       "ensure_option": false,
       "layout": "IPY_MODEL_0314a156ce194502998ac2f714b3c494",
       "options": [
        "Yes",
        "No",
        "N/A"
       ],
       "placeholder": "Click to select option",
       "style": "IPY_MODEL_fb78bfd634994f1189b258921d36af2f",
       "value": "Yes"
      }
     },
     "251dbfdf0ef04a1e97266e05542a6117": {
      "model_module": "@jupyter-widgets/controls",
      "model_module_version": "2.0.0",
      "model_name": "TextStyleModel",
      "state": {
       "description_width": "initial",
       "font_size": null,
       "text_color": null
      }
     },
     "253eafc58d6c49889c5bd68b9ef937e6": {
      "model_module": "@jupyter-widgets/base",
      "model_module_version": "2.0.0",
      "model_name": "LayoutModel",
      "state": {
       "width": "20px"
      }
     },
     "29f22e110449410aac6df2c15f377795": {
      "model_module": "@jupyter-widgets/controls",
      "model_module_version": "2.0.0",
      "model_name": "ButtonStyleModel",
      "state": {
       "font_family": null,
       "font_size": null,
       "font_style": null,
       "font_variant": null,
       "font_weight": null,
       "text_color": null,
       "text_decoration": null
      }
     },
     "2c5972b9e733412f83e6784cf74b4261": {
      "model_module": "@jupyter-widgets/base",
      "model_module_version": "2.0.0",
      "model_name": "LayoutModel",
      "state": {
       "width": "900px"
      }
     },
     "30381202cc7d428e88802fb9036574d0": {
      "model_module": "@jupyter-widgets/controls",
      "model_module_version": "2.0.0",
      "model_name": "ButtonStyleModel",
      "state": {
       "font_family": null,
       "font_size": null,
       "font_style": null,
       "font_variant": null,
       "font_weight": null,
       "text_color": null,
       "text_decoration": null
      }
     },
     "3045ff645323436081984422575efd07": {
      "model_module": "@jupyter-widgets/base",
      "model_module_version": "2.0.0",
      "model_name": "LayoutModel",
      "state": {
       "width": "900px"
      }
     },
     "3055da4d62894fd7b19f5a4f9f08e3b6": {
      "model_module": "@jupyter-widgets/base",
      "model_module_version": "2.0.0",
      "model_name": "LayoutModel",
      "state": {
       "width": "900px"
      }
     },
     "3522291f3bfd4931a56a3cb1ed0e07f2": {
      "model_module": "@jupyter-widgets/base",
      "model_module_version": "2.0.0",
      "model_name": "LayoutModel",
      "state": {
       "width": "100px"
      }
     },
     "362a9aeba23146fd87b1aaa1f6f0865d": {
      "model_module": "@jupyter-widgets/controls",
      "model_module_version": "2.0.0",
      "model_name": "TextModel",
      "state": {
       "description": "1.1 Dataset name:",
       "layout": "IPY_MODEL_393c81f9b8184bcf850dbd4e6306c328",
       "style": "IPY_MODEL_5945424c80524586a896a4e0f67444f8",
       "value": "HadCRUT5"
      }
     },
     "367c2c9d60af468681d300b82344cd13": {
      "model_module": "@jupyter-widgets/controls",
      "model_module_version": "2.0.0",
      "model_name": "IntTextModel",
      "state": {
       "layout": "IPY_MODEL_dfffc7fbcc8743778cbae50a9a386cd8",
       "step": 1,
       "style": "IPY_MODEL_d8cba5a94613404ba16adc0642e4550a"
      }
     },
     "3756082f3bb44b88a6628886587c0362": {
      "model_module": "@jupyter-widgets/base",
      "model_module_version": "2.0.0",
      "model_name": "LayoutModel",
      "state": {}
     },
     "393c81f9b8184bcf850dbd4e6306c328": {
      "model_module": "@jupyter-widgets/base",
      "model_module_version": "2.0.0",
      "model_name": "LayoutModel",
      "state": {
       "width": "900px"
      }
     },
     "3941f2ce011845fd9a3da9bf7b6c066a": {
      "model_module": "@jupyter-widgets/controls",
      "model_module_version": "2.0.0",
      "model_name": "TextStyleModel",
      "state": {
       "description_width": "initial",
       "font_size": null,
       "text_color": null
      }
     },
     "3a13f1c8ca71450a8fa3a4ff1b2c8846": {
      "model_module": "@jupyter-widgets/base",
      "model_module_version": "2.0.0",
      "model_name": "LayoutModel",
      "state": {
       "display": "none",
       "width": "900px"
      }
     },
     "3abe50fdd36d446bb63825a319d6b8ed": {
      "model_module": "@jupyter-widgets/controls",
      "model_module_version": "2.0.0",
      "model_name": "ComboboxModel",
      "state": {
       "description": "2.8 Is there known bias in the dataset?",
       "ensure_option": false,
       "layout": "IPY_MODEL_3055da4d62894fd7b19f5a4f9f08e3b6",
       "options": [
        "Yes",
        "No",
        "Unknown"
       ],
       "placeholder": "Click to select option",
       "style": "IPY_MODEL_74fc8f47fed04addb279050cb521522d",
       "value": "Yes"
      }
     },
     "3b641b901fb94f6fb47242d28df5774e": {
      "model_module": "@jupyter-widgets/controls",
      "model_module_version": "2.0.0",
      "model_name": "LabelModel",
      "state": {
       "layout": "IPY_MODEL_f1f8ca731b3341cd9ad60c9f1a9f01a2",
       "style": "IPY_MODEL_1e8ba36075344240ae0ce288e12f8821",
       "value": "2.13 What is the size of the dataset? Depending on the resource, this might be:"
      }
     },
     "3bc981ba1cb942fa85b4cba9529a4582": {
      "model_module": "@jupyter-widgets/controls",
      "model_module_version": "2.0.0",
      "model_name": "TextStyleModel",
      "state": {
       "description_width": "initial",
       "font_size": null,
       "text_color": null
      }
     },
     "3bd53802dc9d45018194a47d287841f5": {
      "model_module": "@jupyter-widgets/controls",
      "model_module_version": "2.0.0",
      "model_name": "TextStyleModel",
      "state": {
       "description_width": "initial",
       "font_size": null,
       "text_color": null
      }
     },
     "3cfd6221729e442cb6331bb92cce236c": {
      "model_module": "@jupyter-widgets/base",
      "model_module_version": "2.0.0",
      "model_name": "LayoutModel",
      "state": {
       "width": "100px"
      }
     },
     "3dd3d8518923459395c028777174c081": {
      "model_module": "@jupyter-widgets/controls",
      "model_module_version": "2.0.0",
      "model_name": "ButtonModel",
      "state": {
       "button_style": "primary",
       "description": "Save Timeliness, Completeness & Consistency Answers to json file",
       "layout": "IPY_MODEL_44d1b92b84074efcb7b16f0e6110fa07",
       "style": "IPY_MODEL_30381202cc7d428e88802fb9036574d0",
       "tooltip": null
      }
     },
     "3ed347f71a3d4667930635b27bb8dffd": {
      "model_module": "@jupyter-widgets/base",
      "model_module_version": "2.0.0",
      "model_name": "LayoutModel",
      "state": {
       "width": "900px"
      }
     },
     "3f3f754e2df94ba0a431a1d970666eea": {
      "model_module": "@jupyter-widgets/base",
      "model_module_version": "2.0.0",
      "model_name": "LayoutModel",
      "state": {}
     },
     "3f4bb72f2ad3464e965840a66e8275ac": {
      "model_module": "@jupyter-widgets/controls",
      "model_module_version": "2.0.0",
      "model_name": "ComboboxModel",
      "state": {
       "description": "2.12 Are there checksums / other checks for data integrity? ",
       "ensure_option": false,
       "layout": "IPY_MODEL_16bc14b6beaf4518a2ffb86cb0eacc67",
       "options": [
        "Yes",
        "No",
        "N/A"
       ],
       "placeholder": "Click to select option",
       "style": "IPY_MODEL_b582151c2800452189bde0de2b79a1d5",
       "value": "Yes"
      }
     },
     "409ae5baf0ec49cca0559b4a80392a25": {
      "model_module": "@jupyter-widgets/base",
      "model_module_version": "2.0.0",
      "model_name": "LayoutModel",
      "state": {
       "display": "none",
       "width": "900px"
      }
     },
     "40f21656711f4c658acd332ff686fe11": {
      "model_module": "@jupyter-widgets/controls",
      "model_module_version": "2.0.0",
      "model_name": "ButtonModel",
      "state": {
       "button_style": "info",
       "description": "Print json results",
       "layout": "IPY_MODEL_f969db7e79b246029d2620130444b417",
       "style": "IPY_MODEL_c25c7cc2f87242cea14496e9036a1143",
       "tooltip": null
      }
     },
     "415e970e23fe4ed1bb833658d54878a2": {
      "model_module": "@jupyter-widgets/controls",
      "model_module_version": "2.0.0",
      "model_name": "TextStyleModel",
      "state": {
       "description_width": "initial",
       "font_size": null,
       "text_color": null
      }
     },
     "44678f0ff66e48019e12f74bdb806757": {
      "model_module": "@jupyter-widgets/controls",
      "model_module_version": "2.0.0",
      "model_name": "ComboboxModel",
      "state": {
       "description": "2.3 How complete is the dataset compared to the expected spatial coverage?",
       "ensure_option": false,
       "layout": "IPY_MODEL_5628e9ffe8db46da845b3a32aed8d370",
       "options": [
        "Complete",
        "Partial",
        "Unknown",
        "N/A"
       ],
       "placeholder": "Click to select option",
       "style": "IPY_MODEL_1a00066e7eb941c882c2e886938fc1c4",
       "value": "Global on a 5 degree grid"
      }
     },
     "44d1b92b84074efcb7b16f0e6110fa07": {
      "model_module": "@jupyter-widgets/base",
      "model_module_version": "2.0.0",
      "model_name": "LayoutModel",
      "state": {
       "flex": "1 1 auto",
       "width": "auto"
      }
     },
     "44e8c1870961478c99043166ff5d9123": {
      "model_module": "@jupyter-widgets/base",
      "model_module_version": "2.0.0",
      "model_name": "LayoutModel",
      "state": {}
     },
     "48f3a8c6af8d49b1932287d9239900fb": {
      "model_module": "@jupyter-widgets/base",
      "model_module_version": "2.0.0",
      "model_name": "LayoutModel",
      "state": {
       "display": "none",
       "width": "900px"
      }
     },
     "4c5243a8e36149b39d079699486e5751": {
      "model_module": "@jupyter-widgets/base",
      "model_module_version": "2.0.0",
      "model_name": "LayoutModel",
      "state": {
       "display": "none",
       "width": "900px"
      }
     },
     "4da0404acf4c4aa69a04bace93a69233": {
      "model_module": "@jupyter-widgets/base",
      "model_module_version": "2.0.0",
      "model_name": "LayoutModel",
      "state": {
       "display": "none",
       "width": "900px"
      }
     },
     "4e2b20201e814f37acad1f4abb44df9e": {
      "model_module": "@jupyter-widgets/controls",
      "model_module_version": "2.0.0",
      "model_name": "DescriptionStyleModel",
      "state": {
       "description_width": ""
      }
     },
     "4f6b8523cef2471aaa9db7223955daef": {
      "model_module": "@jupyter-widgets/controls",
      "model_module_version": "2.0.0",
      "model_name": "IntTextModel",
      "state": {
       "layout": "IPY_MODEL_e774a9541d474f319f7daff36c04483c",
       "step": 1,
       "style": "IPY_MODEL_4e2b20201e814f37acad1f4abb44df9e"
      }
     },
     "4fe48b675093468f9a2392193726ceb6": {
      "model_module": "@jupyter-widgets/base",
      "model_module_version": "2.0.0",
      "model_name": "LayoutModel",
      "state": {
       "flex": "1 1 auto",
       "width": "auto"
      }
     },
     "5072fdb0e78c4640bc0c47cca0f358b6": {
      "model_module": "@jupyter-widgets/controls",
      "model_module_version": "2.0.0",
      "model_name": "LabelModel",
      "state": {
       "layout": "IPY_MODEL_79de37fd8d7e40ce9b59e4524817da32",
       "style": "IPY_MODEL_89cb294526484f1eb0ed74d73e66ad75",
       "value": "Number of data table rows:"
      }
     },
     "507889c1b3804cc582e5ea7f8af255fa": {
      "model_module": "@jupyter-widgets/base",
      "model_module_version": "2.0.0",
      "model_name": "LayoutModel",
      "state": {
       "width": "900px"
      }
     },
     "52797008edee4823b5aae4935e9b8579": {
      "model_module": "@jupyter-widgets/base",
      "model_module_version": "2.0.0",
      "model_name": "LayoutModel",
      "state": {
       "width": "900px"
      }
     },
     "54974aa232494301b8546f09da5b8864": {
      "model_module": "@jupyter-widgets/controls",
      "model_module_version": "2.0.0",
      "model_name": "TextStyleModel",
      "state": {
       "description_width": "initial",
       "font_size": null,
       "text_color": null
      }
     },
     "54ae72069718489b9c62e41a929d42da": {
      "model_module": "@jupyter-widgets/controls",
      "model_module_version": "2.0.0",
      "model_name": "ComboboxModel",
      "state": {
       "description": "6. Is this raw data or a derived/processed data product?",
       "ensure_option": false,
       "layout": "IPY_MODEL_bddfcbfb45654f4b8a037c4354d59727",
       "options": [
        "Raw",
        "Derived",
        "Unknown"
       ],
       "placeholder": "Click to select option",
       "style": "IPY_MODEL_f3785922076d4266bfdd3eb0d7eeacb1",
       "value": "Derived"
      }
     },
     "5628e9ffe8db46da845b3a32aed8d370": {
      "model_module": "@jupyter-widgets/base",
      "model_module_version": "2.0.0",
      "model_name": "LayoutModel",
      "state": {
       "width": "900px"
      }
     },
     "5636a646a8d9440f96a6d284cbebd7b8": {
      "model_module": "@jupyter-widgets/controls",
      "model_module_version": "2.0.0",
      "model_name": "TextModel",
      "state": {
       "description": "1.3. Location / url link:",
       "layout": "IPY_MODEL_05b105df170f454fb85229aedd0ec775",
       "style": "IPY_MODEL_a01d34d749a542cca6d411bf69fcb259",
       "value": "https://www.metoffice.gov.uk/hadobs/hadcrut5/"
      }
     },
     "567bd947942f472f80feaea2a237c955": {
      "model_module": "@jupyter-widgets/controls",
      "model_module_version": "2.0.0",
      "model_name": "ButtonModel",
      "state": {
       "button_style": "primary",
       "description": "Save Bias, Integrity & Size Answers to json file",
       "layout": "IPY_MODEL_a68326a840c847ccb4017e3a9c1ab47f",
       "style": "IPY_MODEL_29f22e110449410aac6df2c15f377795",
       "tooltip": null
      }
     },
     "5783b43785c64a5ca4018fc179579af0": {
      "model_module": "@jupyter-widgets/controls",
      "model_module_version": "2.0.0",
      "model_name": "ComboboxModel",
      "state": {
       "description": "2.7 Are there processes to monitor for units, data types, and parameter consistency?",
       "ensure_option": false,
       "layout": "IPY_MODEL_507889c1b3804cc582e5ea7f8af255fa",
       "options": [
        "Yes",
        "No",
        "N/A"
       ],
       "placeholder": "Click to select option",
       "style": "IPY_MODEL_f7f828c5b31f4b50a51fad22a7727f41",
       "value": "N/A"
      }
     },
     "57fd1c6c4143440181bb750b99f17579": {
      "model_module": "@jupyter-widgets/controls",
      "model_module_version": "2.0.0",
      "model_name": "LabelStyleModel",
      "state": {
       "description_width": "",
       "font_family": null,
       "font_size": null,
       "font_style": null,
       "font_variant": null,
       "font_weight": null,
       "text_color": null,
       "text_decoration": null
      }
     },
     "5897212a30cd4ba19a7f4214f1c2b908": {
      "model_module": "@jupyter-widgets/controls",
      "model_module_version": "2.0.0",
      "model_name": "ComboboxModel",
      "state": {
       "description": "2.1 Will the dataset be updated?",
       "ensure_option": false,
       "layout": "IPY_MODEL_e5bf7d96ce7d4458a96cdce9b862cc6a",
       "options": [
        "Yes",
        "No"
       ],
       "placeholder": "Click to select option",
       "style": "IPY_MODEL_7a6378ef518445f5ad5a042da7c5531d",
       "value": "Yes"
      }
     },
     "5945424c80524586a896a4e0f67444f8": {
      "model_module": "@jupyter-widgets/controls",
      "model_module_version": "2.0.0",
      "model_name": "TextStyleModel",
      "state": {
       "description_width": "initial",
       "font_size": null,
       "text_color": null
      }
     },
     "5a0e6cf804b54dd392ce908345a75c2e": {
      "model_module": "@jupyter-widgets/controls",
      "model_module_version": "2.0.0",
      "model_name": "TextStyleModel",
      "state": {
       "description_width": "initial",
       "font_size": null,
       "text_color": null
      }
     },
     "5dfa254a4def4cf8ba4427f14d262184": {
      "model_module": "@jupyter-widgets/controls",
      "model_module_version": "2.0.0",
      "model_name": "TextModel",
      "state": {
       "description": "Quality information link:",
       "layout": "IPY_MODEL_64b1a5bdca1f445d84baf1895b6fefc0",
       "placeholder": "If there is published quality information, please provide the link.",
       "style": "IPY_MODEL_3bc981ba1cb942fa85b4cba9529a4582",
       "value": "https://agupubs.onlinelibrary.wiley.com/doi/full/10.1029/2019JD032361"
      }
     },
     "64b1a5bdca1f445d84baf1895b6fefc0": {
      "model_module": "@jupyter-widgets/base",
      "model_module_version": "2.0.0",
      "model_name": "LayoutModel",
      "state": {
       "width": "900px"
      }
     },
     "653e5306ae954387b006c53e170a9a62": {
      "model_module": "@jupyter-widgets/base",
      "model_module_version": "2.0.0",
      "model_name": "LayoutModel",
      "state": {
       "display": "none",
       "width": "900px"
      }
     },
     "6580b1fe15884d388b24165a0a5e2cca": {
      "model_module": "@jupyter-widgets/controls",
      "model_module_version": "2.0.0",
      "model_name": "HBoxModel",
      "state": {
       "children": [
        "IPY_MODEL_fae98cb0c67644f2b876ab62a8ca0b0a",
        "IPY_MODEL_cd8bb1fb065f4a76b05c796a4e1492ad",
        "IPY_MODEL_b8acd50d7c904c9db3bffd25092c125c",
        "IPY_MODEL_69412834c2134e93ba36383bfd3ce4a8",
        "IPY_MODEL_9426e79d40774765b62d057b67d40d02"
       ],
       "layout": "IPY_MODEL_3756082f3bb44b88a6628886587c0362"
      }
     },
     "66ec89ec70d54bdb97769e02455a2ab4": {
      "model_module": "@jupyter-widgets/controls",
      "model_module_version": "2.0.0",
      "model_name": "LabelStyleModel",
      "state": {
       "description_width": "",
       "font_family": null,
       "font_size": null,
       "font_style": null,
       "font_variant": null,
       "font_weight": null,
       "text_color": null,
       "text_decoration": null
      }
     },
     "67dee457c7184125ace60e571d59e299": {
      "model_module": "@jupyter-widgets/controls",
      "model_module_version": "2.0.0",
      "model_name": "TextStyleModel",
      "state": {
       "description_width": "",
       "font_size": null,
       "text_color": null
      }
     },
     "69412834c2134e93ba36383bfd3ce4a8": {
      "model_module": "@jupyter-widgets/controls",
      "model_module_version": "2.0.0",
      "model_name": "LabelModel",
      "state": {
       "layout": "IPY_MODEL_b06f750a55bd411090740cef29d35678",
       "style": "IPY_MODEL_d6b337946db8451cbc077c487f6913a3",
       "value": "Size of images:"
      }
     },
     "6a309d8a120746ccae1e9bc5417f3526": {
      "model_module": "@jupyter-widgets/controls",
      "model_module_version": "2.0.0",
      "model_name": "ComboboxModel",
      "state": {
       "description": "Have measures been taken to examine bias?",
       "ensure_option": false,
       "layout": "IPY_MODEL_4da0404acf4c4aa69a04bace93a69233",
       "options": [
        "Yes",
        "No",
        "Unknown",
        "N/A"
       ],
       "placeholder": "Click to select option",
       "style": "IPY_MODEL_82ee32bfdf154af3b28eef165e4879a5",
       "value": "Yes"
      }
     },
     "6c9072a7864b49969563418ec02218be": {
      "model_module": "@jupyter-widgets/base",
      "model_module_version": "2.0.0",
      "model_name": "LayoutModel",
      "state": {}
     },
     "6f2ca08a12c5421db7ebbc5b6c3819b4": {
      "model_module": "@jupyter-widgets/controls",
      "model_module_version": "2.0.0",
      "model_name": "ComboboxModel",
      "state": {
       "description": "2.2 Is there any documentation about the completeness of the dataset?",
       "ensure_option": false,
       "layout": "IPY_MODEL_3ed347f71a3d4667930635b27bb8dffd",
       "options": [
        "Yes",
        "No"
       ],
       "placeholder": "Click to select option",
       "style": "IPY_MODEL_3941f2ce011845fd9a3da9bf7b6c066a",
       "value": "Yes"
      }
     },
     "70f50fa3881049a1a1680fa2b9496a43": {
      "model_module": "@jupyter-widgets/base",
      "model_module_version": "2.0.0",
      "model_name": "LayoutModel",
      "state": {
       "width": "900px"
      }
     },
     "7150eeebef744fcda9fa78da4bae7443": {
      "model_module": "@jupyter-widgets/controls",
      "model_module_version": "2.0.0",
      "model_name": "ComboboxModel",
      "state": {
       "description": "Will there be different stages of the update?",
       "ensure_option": false,
       "layout": "IPY_MODEL_bec7bc248dab4227876b76b805d6a9f0",
       "options": [
        "Preliminary data first, then updated later",
        "Full record",
        "N/A"
       ],
       "placeholder": "Click to select option",
       "style": "IPY_MODEL_909b621da6ad4e06a633177131a83256",
       "value": "N/A"
      }
     },
     "74fc8f47fed04addb279050cb521522d": {
      "model_module": "@jupyter-widgets/controls",
      "model_module_version": "2.0.0",
      "model_name": "TextStyleModel",
      "state": {
       "description_width": "initial",
       "font_size": null,
       "text_color": null
      }
     },
     "75f2f593811348dda007d321b72c595e": {
      "model_module": "@jupyter-widgets/controls",
      "model_module_version": "2.0.0",
      "model_name": "DescriptionStyleModel",
      "state": {
       "description_width": ""
      }
     },
     "79de37fd8d7e40ce9b59e4524817da32": {
      "model_module": "@jupyter-widgets/base",
      "model_module_version": "2.0.0",
      "model_name": "LayoutModel",
      "state": {}
     },
     "7a6378ef518445f5ad5a042da7c5531d": {
      "model_module": "@jupyter-widgets/controls",
      "model_module_version": "2.0.0",
      "model_name": "TextStyleModel",
      "state": {
       "description_width": "initial",
       "font_size": null,
       "text_color": null
      }
     },
     "7d86d3ae62814696a4f7ede0e17a9fb7": {
      "model_module": "@jupyter-widgets/controls",
      "model_module_version": "2.0.0",
      "model_name": "ButtonStyleModel",
      "state": {
       "font_family": null,
       "font_size": null,
       "font_style": null,
       "font_variant": null,
       "font_weight": null,
       "text_color": null,
       "text_decoration": null
      }
     },
     "7fe2b67b5e19466d9c932e006c6136bb": {
      "model_module": "@jupyter-widgets/controls",
      "model_module_version": "2.0.0",
      "model_name": "TextStyleModel",
      "state": {
       "description_width": "initial",
       "font_size": null,
       "text_color": null
      }
     },
     "80f8c763f79d4f85b552b5db82b21111": {
      "model_module": "@jupyter-widgets/controls",
      "model_module_version": "2.0.0",
      "model_name": "TextModel",
      "state": {
       "description": "If yes, what is the delay between different stages?",
       "layout": "IPY_MODEL_0d717085592440819b9f7d755019c477",
       "style": "IPY_MODEL_3bd53802dc9d45018194a47d287841f5"
      }
     },
     "82850859e344412883a844bea9976ee2": {
      "model_module": "@jupyter-widgets/controls",
      "model_module_version": "2.0.0",
      "model_name": "TextStyleModel",
      "state": {
       "description_width": "",
       "font_size": null,
       "text_color": null
      }
     },
     "82ee32bfdf154af3b28eef165e4879a5": {
      "model_module": "@jupyter-widgets/controls",
      "model_module_version": "2.0.0",
      "model_name": "TextStyleModel",
      "state": {
       "description_width": "initial",
       "font_size": null,
       "text_color": null
      }
     },
     "8694ad30de234c88b0f3bf6468c9a677": {
      "model_module": "@jupyter-widgets/controls",
      "model_module_version": "2.0.0",
      "model_name": "TextModel",
      "state": {
       "description": "Documentation link:",
       "layout": "IPY_MODEL_3a13f1c8ca71450a8fa3a4ff1b2c8846",
       "placeholder": "Please provide a link to the document",
       "style": "IPY_MODEL_7fe2b67b5e19466d9c932e006c6136bb",
       "value": "https://agupubs.onlinelibrary.wiley.com/doi/full/10.1029/2019JD032361"
      }
     },
     "89cb294526484f1eb0ed74d73e66ad75": {
      "model_module": "@jupyter-widgets/controls",
      "model_module_version": "2.0.0",
      "model_name": "LabelStyleModel",
      "state": {
       "description_width": "",
       "font_family": null,
       "font_size": null,
       "font_style": null,
       "font_variant": null,
       "font_weight": null,
       "text_color": null,
       "text_decoration": null
      }
     },
     "8c8eed2c9efa4fbeb03bac3cbb9378ca": {
      "model_module": "@jupyter-widgets/controls",
      "model_module_version": "2.0.0",
      "model_name": "IntTextModel",
      "state": {
       "layout": "IPY_MODEL_3cfd6221729e442cb6331bb92cce236c",
       "step": 1,
       "style": "IPY_MODEL_75f2f593811348dda007d321b72c595e"
      }
     },
     "8c95e75243dd4f619551a9347671424e": {
      "model_module": "@jupyter-widgets/controls",
      "model_module_version": "2.0.0",
      "model_name": "TextStyleModel",
      "state": {
       "description_width": "initial",
       "font_size": null,
       "text_color": null
      }
     },
     "8cad21d65c464e05acd25c151c1da48b": {
      "model_module": "@jupyter-widgets/base",
      "model_module_version": "2.0.0",
      "model_name": "LayoutModel",
      "state": {}
     },
     "8e82a976d223433eb7cb0a6d9291944e": {
      "model_module": "@jupyter-widgets/controls",
      "model_module_version": "2.0.0",
      "model_name": "LabelModel",
      "state": {
       "layout": "IPY_MODEL_fe22854e54fc42b39f0e3535e8737073",
       "style": "IPY_MODEL_66ec89ec70d54bdb97769e02455a2ab4",
       "value": "Number of data dimensions:"
      }
     },
     "8f056565ca1b4cd6899d3a11747b3618": {
      "model_module": "@jupyter-widgets/controls",
      "model_module_version": "2.0.0",
      "model_name": "ComboboxModel",
      "state": {
       "description": "If the data will be updated, how often will it be updated?",
       "ensure_option": false,
       "layout": "IPY_MODEL_653e5306ae954387b006c53e170a9a62",
       "options": [
        "When data updated",
        "Hourly",
        "Daily",
        "Weekly",
        "Monthly",
        "Annually",
        "Other",
        "N/A"
       ],
       "placeholder": "Click to select option",
       "style": "IPY_MODEL_415e970e23fe4ed1bb833658d54878a2",
       "value": "When data updated"
      }
     },
     "908722e3f9ca4c8ea30a81159707a484": {
      "model_module": "@jupyter-widgets/base",
      "model_module_version": "2.0.0",
      "model_name": "LayoutModel",
      "state": {}
     },
     "909b621da6ad4e06a633177131a83256": {
      "model_module": "@jupyter-widgets/controls",
      "model_module_version": "2.0.0",
      "model_name": "TextStyleModel",
      "state": {
       "description_width": "initial",
       "font_size": null,
       "text_color": null
      }
     },
     "92ccda910c27468a9db20f8885b8567a": {
      "model_module": "@jupyter-widgets/controls",
      "model_module_version": "2.0.0",
      "model_name": "TextStyleModel",
      "state": {
       "description_width": "",
       "font_size": null,
       "text_color": null
      }
     },
     "9424281d17c74fcb8f400e64d9b58f06": {
      "model_module": "@jupyter-widgets/controls",
      "model_module_version": "2.0.0",
      "model_name": "ComboboxModel",
      "state": {
       "description": "8. Is the data single-source or aggregated from several sources? ",
       "ensure_option": false,
       "layout": "IPY_MODEL_52797008edee4823b5aae4935e9b8579",
       "options": [
        "Single-source",
        "Aggregated"
       ],
       "placeholder": "Click to select option",
       "style": "IPY_MODEL_b55faead2c9c45e780967e572a873dee",
       "value": "Aggregated"
      }
     },
     "9426e79d40774765b62d057b67d40d02": {
      "model_module": "@jupyter-widgets/controls",
      "model_module_version": "2.0.0",
      "model_name": "TextModel",
      "state": {
       "layout": "IPY_MODEL_b4fce2890d8b4a3db2d8e0e2a33c0798",
       "placeholder": "228 x 228",
       "style": "IPY_MODEL_67dee457c7184125ace60e571d59e299"
      }
     },
     "985f5f2abff64db39d0ef235e1eda0b9": {
      "model_module": "@jupyter-widgets/controls",
      "model_module_version": "2.0.0",
      "model_name": "TextStyleModel",
      "state": {
       "description_width": "initial",
       "font_size": null,
       "text_color": null
      }
     },
     "98931f9c73e24da8b9b8546cf130c743": {
      "model_module": "@jupyter-widgets/controls",
      "model_module_version": "2.0.0",
      "model_name": "TextStyleModel",
      "state": {
       "description_width": "initial",
       "font_size": null,
       "text_color": null
      }
     },
     "993399f0210a45fea45d561294400189": {
      "model_module": "@jupyter-widgets/controls",
      "model_module_version": "2.0.0",
      "model_name": "ComboboxModel",
      "state": {
       "description": "2.5 Is this dataset self-consistent in that its units, data types, and parameter names do not change over time and space?",
       "ensure_option": false,
       "layout": "IPY_MODEL_a5c085311b684c3d8593579a698d1ec4",
       "options": [
        "Yes",
        "No",
        "N/A"
       ],
       "placeholder": "Click to select option",
       "style": "IPY_MODEL_ff1bab7a6ce841a4879fac57b6785c57",
       "value": "Yes"
      }
     },
     "99562c5352e242529ea172bbca01065f": {
      "model_module": "@jupyter-widgets/base",
      "model_module_version": "2.0.0",
      "model_name": "LayoutModel",
      "state": {
       "display": "none",
       "width": "900px"
      }
     },
     "9f0084d3cc6c4298a0c1fc8ae08312bb": {
      "model_module": "@jupyter-widgets/controls",
      "model_module_version": "2.0.0",
      "model_name": "TextStyleModel",
      "state": {
       "description_width": "initial",
       "font_size": null,
       "text_color": null
      }
     },
     "a01d34d749a542cca6d411bf69fcb259": {
      "model_module": "@jupyter-widgets/controls",
      "model_module_version": "2.0.0",
      "model_name": "TextStyleModel",
      "state": {
       "description_width": "initial",
       "font_size": null,
       "text_color": null
      }
     },
     "a21f9fdfdbfe4cb8af1eff4463c26f10": {
      "model_module": "@jupyter-widgets/controls",
      "model_module_version": "2.0.0",
      "model_name": "TextareaModel",
      "state": {
       "layout": "IPY_MODEL_409ae5baf0ec49cca0559b4a80392a25",
       "placeholder": "Is the bias metrological traceable?",
       "style": "IPY_MODEL_1b90d8a107e6459f95d92195eb127736",
       "value": "Yes"
      }
     },
     "a2330ecd88fb4ac2a49f15c98c50c0d2": {
      "model_module": "@jupyter-widgets/controls",
      "model_module_version": "2.0.0",
      "model_name": "ComboboxModel",
      "state": {
       "description": "7. Is this observational data, simulation/model output, or synthetic data?",
       "ensure_option": false,
       "layout": "IPY_MODEL_3045ff645323436081984422575efd07",
       "options": [
        "Observed",
        "Modeled",
        "Synthetic"
       ],
       "placeholder": "Click to select option",
       "style": "IPY_MODEL_a277432418324d0b9c0f568c9086f1ca",
       "value": "Observed"
      }
     },
     "a277432418324d0b9c0f568c9086f1ca": {
      "model_module": "@jupyter-widgets/controls",
      "model_module_version": "2.0.0",
      "model_name": "TextStyleModel",
      "state": {
       "description_width": "initial",
       "font_size": null,
       "text_color": null
      }
     },
     "a2896bc87ec94c4bbd10a6a5ab3a5dea": {
      "model_module": "@jupyter-widgets/controls",
      "model_module_version": "2.0.0",
      "model_name": "TextStyleModel",
      "state": {
       "description_width": "initial",
       "font_size": null,
       "text_color": null
      }
     },
     "a3d20d52f51d414084f864af9648c75a": {
      "model_module": "@jupyter-widgets/base",
      "model_module_version": "2.0.0",
      "model_name": "LayoutModel",
      "state": {
       "width": "900px"
      }
     },
     "a5c085311b684c3d8593579a698d1ec4": {
      "model_module": "@jupyter-widgets/base",
      "model_module_version": "2.0.0",
      "model_name": "LayoutModel",
      "state": {
       "width": "900px"
      }
     },
     "a68326a840c847ccb4017e3a9c1ab47f": {
      "model_module": "@jupyter-widgets/base",
      "model_module_version": "2.0.0",
      "model_name": "LayoutModel",
      "state": {
       "flex": "1 1 auto",
       "width": "auto"
      }
     },
     "aa1ca784cab849b79377d68a82c90646": {
      "model_module": "@jupyter-widgets/controls",
      "model_module_version": "2.0.0",
      "model_name": "TextModel",
      "state": {
       "layout": "IPY_MODEL_48f3a8c6af8d49b1932287d9239900fb",
       "placeholder": "(optional) Link to a bias-corrected or bias-reduced version of the dataset",
       "style": "IPY_MODEL_205fcf478e1641f981de77d0112ed1ac"
      }
     },
     "ab94495f5c084412970124d18c271b39": {
      "model_module": "@jupyter-widgets/controls",
      "model_module_version": "2.0.0",
      "model_name": "TextModel",
      "state": {
       "description": "1.5. Assessor email address:",
       "layout": "IPY_MODEL_f5cd0bcba0c942348224a8cfe0045be0",
       "style": "IPY_MODEL_98931f9c73e24da8b9b8546cf130c743",
       "value": "john.pill@metoffice.gov.uk"
      }
     },
     "b06f750a55bd411090740cef29d35678": {
      "model_module": "@jupyter-widgets/base",
      "model_module_version": "2.0.0",
      "model_name": "LayoutModel",
      "state": {}
     },
     "b0c626d1a491456c8e80152d36923858": {
      "model_module": "@jupyter-widgets/base",
      "model_module_version": "2.0.0",
      "model_name": "LayoutModel",
      "state": {
       "display": "none",
       "width": "900px"
      }
     },
     "b1923d83773c425db5e5d987903ae562": {
      "model_module": "@jupyter-widgets/base",
      "model_module_version": "2.0.0",
      "model_name": "LayoutModel",
      "state": {
       "display": "none",
       "width": "900px"
      }
     },
     "b3bccd22618748a1af0eb93b4235bab1": {
      "model_module": "@jupyter-widgets/controls",
      "model_module_version": "2.0.0",
      "model_name": "TextModel",
      "state": {
       "layout": "IPY_MODEL_1bc8d1caebac488986fdd8774a5fc4d6",
       "placeholder": "(optional) Link to tools available to reduce bias",
       "style": "IPY_MODEL_ffc3839e6cbc436d89c8312404bbb2a6"
      }
     },
     "b4fce2890d8b4a3db2d8e0e2a33c0798": {
      "model_module": "@jupyter-widgets/base",
      "model_module_version": "2.0.0",
      "model_name": "LayoutModel",
      "state": {}
     },
     "b55faead2c9c45e780967e572a873dee": {
      "model_module": "@jupyter-widgets/controls",
      "model_module_version": "2.0.0",
      "model_name": "TextStyleModel",
      "state": {
       "description_width": "initial",
       "font_size": null,
       "text_color": null
      }
     },
     "b582151c2800452189bde0de2b79a1d5": {
      "model_module": "@jupyter-widgets/controls",
      "model_module_version": "2.0.0",
      "model_name": "TextStyleModel",
      "state": {
       "description_width": "initial",
       "font_size": null,
       "text_color": null
      }
     },
     "b7a8f34fb1e041169066d2a0addf5b94": {
      "model_module": "@jupyter-widgets/base",
      "model_module_version": "2.0.0",
      "model_name": "LayoutModel",
      "state": {
       "display": "none",
       "width": "900px"
      }
     },
     "b7bc5ff0c4834e2786cb950b3f6fe545": {
      "model_module": "@jupyter-widgets/controls",
      "model_module_version": "2.0.0",
      "model_name": "TextModel",
      "state": {
       "layout": "IPY_MODEL_b7a8f34fb1e041169066d2a0addf5b94",
       "placeholder": "(optional) Link to the report/document on the bias",
       "style": "IPY_MODEL_82850859e344412883a844bea9976ee2",
       "value": "https://agupubs.onlinelibrary.wiley.com/doi/full/10.1029/2019JD032361"
      }
     },
     "b8acd50d7c904c9db3bffd25092c125c": {
      "model_module": "@jupyter-widgets/controls",
      "model_module_version": "2.0.0",
      "model_name": "BoxModel",
      "state": {
       "layout": "IPY_MODEL_253eafc58d6c49889c5bd68b9ef937e6"
      }
     },
     "bc9546fd2f5e4de9af232e45ea5ff3a3": {
      "model_module": "@jupyter-widgets/controls",
      "model_module_version": "2.0.0",
      "model_name": "ComboboxModel",
      "state": {
       "description": "Is there reported bias in the data?",
       "ensure_option": false,
       "layout": "IPY_MODEL_4c5243a8e36149b39d079699486e5751",
       "options": [
        "No known bias",
        "Found and reported",
        "No info available",
        "N/A"
       ],
       "placeholder": "Click to select option",
       "style": "IPY_MODEL_ecea320c961e43e4a50968516faa32b7",
       "value": "Found and reported"
      }
     },
     "bddfcbfb45654f4b8a037c4354d59727": {
      "model_module": "@jupyter-widgets/base",
      "model_module_version": "2.0.0",
      "model_name": "LayoutModel",
      "state": {
       "width": "900px"
      }
     },
     "bec7bc248dab4227876b76b805d6a9f0": {
      "model_module": "@jupyter-widgets/base",
      "model_module_version": "2.0.0",
      "model_name": "LayoutModel",
      "state": {
       "display": "none",
       "width": "900px"
      }
     },
     "c25c7cc2f87242cea14496e9036a1143": {
      "model_module": "@jupyter-widgets/controls",
      "model_module_version": "2.0.0",
      "model_name": "ButtonStyleModel",
      "state": {
       "font_family": null,
       "font_size": null,
       "font_style": null,
       "font_variant": null,
       "font_weight": null,
       "text_color": null,
       "text_decoration": null
      }
     },
     "c668f134b9f04b1cb57bf8d38774be67": {
      "model_module": "@jupyter-widgets/controls",
      "model_module_version": "2.0.0",
      "model_name": "ComboboxModel",
      "state": {
       "description": "Should the new version of the dataset supersede the current version?",
       "ensure_option": false,
       "layout": "IPY_MODEL_b1923d83773c425db5e5d987903ae562",
       "options": [
        "Yes",
        "No",
        "N/A"
       ],
       "placeholder": "Click to select option",
       "style": "IPY_MODEL_251dbfdf0ef04a1e97266e05542a6117",
       "value": "Yes"
      }
     },
     "cd8bb1fb065f4a76b05c796a4e1492ad": {
      "model_module": "@jupyter-widgets/controls",
      "model_module_version": "2.0.0",
      "model_name": "IntTextModel",
      "state": {
       "layout": "IPY_MODEL_3522291f3bfd4931a56a3cb1ed0e07f2",
       "step": 1,
       "style": "IPY_MODEL_1b5c0c2e894f47c8a72620161a65080a"
      }
     },
     "d6b337946db8451cbc077c487f6913a3": {
      "model_module": "@jupyter-widgets/controls",
      "model_module_version": "2.0.0",
      "model_name": "LabelStyleModel",
      "state": {
       "description_width": "",
       "font_family": null,
       "font_size": null,
       "font_style": null,
       "font_variant": null,
       "font_weight": null,
       "text_color": null,
       "text_decoration": null
      }
     },
     "d8cba5a94613404ba16adc0642e4550a": {
      "model_module": "@jupyter-widgets/controls",
      "model_module_version": "2.0.0",
      "model_name": "DescriptionStyleModel",
      "state": {
       "description_width": ""
      }
     },
     "d9b4481d476f475f94ccb30e5141c928": {
      "model_module": "@jupyter-widgets/controls",
      "model_module_version": "2.0.0",
      "model_name": "TextModel",
      "state": {
       "layout": "IPY_MODEL_042f3272b32345539ff8b3a2499127c1",
       "placeholder": "Total data volume:",
       "style": "IPY_MODEL_0cdb6a1d86a048b5bea189ee2f026ae0",
       "value": "Variable"
      }
     },
     "dc1f4ff7500c4900966962480d5cbec8": {
      "model_module": "@jupyter-widgets/base",
      "model_module_version": "2.0.0",
      "model_name": "LayoutModel",
      "state": {}
     },
     "dc4e848e0e404b7d88c2c7e75c2816cf": {
      "model_module": "@jupyter-widgets/controls",
      "model_module_version": "2.0.0",
      "model_name": "TextModel",
      "state": {
       "description": "1.2. Dataset version:",
       "layout": "IPY_MODEL_16fe0a79121c4ea58a1a9d95b86c1dc0",
       "style": "IPY_MODEL_9f0084d3cc6c4298a0c1fc8ae08312bb",
       "value": "5.0.2.0"
      }
     },
     "dddbccd0c37f4c99be020a5791d8117d": {
      "model_module": "@jupyter-widgets/controls",
      "model_module_version": "2.0.0",
      "model_name": "HBoxModel",
      "state": {
       "children": [
        "IPY_MODEL_5072fdb0e78c4640bc0c47cca0f358b6",
        "IPY_MODEL_4f6b8523cef2471aaa9db7223955daef"
       ],
       "layout": "IPY_MODEL_6c9072a7864b49969563418ec02218be"
      }
     },
     "dfffc7fbcc8743778cbae50a9a386cd8": {
      "model_module": "@jupyter-widgets/base",
      "model_module_version": "2.0.0",
      "model_name": "LayoutModel",
      "state": {
       "width": "100px"
      }
     },
     "e09e3708debf4d319c0aa1ae01eaa5ea": {
      "model_module": "@jupyter-widgets/base",
      "model_module_version": "2.0.0",
      "model_name": "LayoutModel",
      "state": {
       "width": "900px"
      }
     },
     "e395e21b57774ac6985a86e366a7071e": {
      "model_module": "@jupyter-widgets/controls",
      "model_module_version": "2.0.0",
      "model_name": "ComboboxModel",
      "state": {
       "description": "2.11 Is the provenance of the dataset tracked and documented?",
       "ensure_option": false,
       "layout": "IPY_MODEL_e09e3708debf4d319c0aa1ae01eaa5ea",
       "options": [
        "Yes",
        "No",
        "N/A"
       ],
       "placeholder": "Click to select option",
       "style": "IPY_MODEL_5a0e6cf804b54dd392ce908345a75c2e",
       "value": "Yes"
      }
     },
     "e5bf7d96ce7d4458a96cdce9b862cc6a": {
      "model_module": "@jupyter-widgets/base",
      "model_module_version": "2.0.0",
      "model_name": "LayoutModel",
      "state": {
       "width": "900px"
      }
     },
     "e774a9541d474f319f7daff36c04483c": {
      "model_module": "@jupyter-widgets/base",
      "model_module_version": "2.0.0",
      "model_name": "LayoutModel",
      "state": {
       "width": "100px"
      }
     },
     "e84be74945c1415a88b58dbaf6239dec": {
      "model_module": "@jupyter-widgets/controls",
      "model_module_version": "2.0.0",
      "model_name": "HBoxModel",
      "state": {
       "children": [
        "IPY_MODEL_8e82a976d223433eb7cb0a6d9291944e",
        "IPY_MODEL_8c8eed2c9efa4fbeb03bac3cbb9378ca"
       ],
       "layout": "IPY_MODEL_dc1f4ff7500c4900966962480d5cbec8"
      }
     },
     "ea9b0d85171f4bd6bdc2e7aa8a0659d4": {
      "model_module": "@jupyter-widgets/controls",
      "model_module_version": "2.0.0",
      "model_name": "ButtonModel",
      "state": {
       "button_style": "primary",
       "description": "Save General Information Answers to json file",
       "layout": "IPY_MODEL_4fe48b675093468f9a2392193726ceb6",
       "style": "IPY_MODEL_7d86d3ae62814696a4f7ede0e17a9fb7",
       "tooltip": null
      }
     },
     "ecea320c961e43e4a50968516faa32b7": {
      "model_module": "@jupyter-widgets/controls",
      "model_module_version": "2.0.0",
      "model_name": "TextStyleModel",
      "state": {
       "description_width": "initial",
       "font_size": null,
       "text_color": null
      }
     },
     "ed344861da10479d91bf3813ac1235ca": {
      "model_module": "@jupyter-widgets/base",
      "model_module_version": "2.0.0",
      "model_name": "LayoutModel",
      "state": {
       "width": "900px"
      }
     },
     "eddae03ef88d4621ba3358dae4476b44": {
      "model_module": "@jupyter-widgets/controls",
      "model_module_version": "2.0.0",
      "model_name": "ComboboxModel",
      "state": {
       "description": "2.10 Are there published data quality procedures or reports?",
       "ensure_option": false,
       "layout": "IPY_MODEL_ed344861da10479d91bf3813ac1235ca",
       "options": [
        "Yes",
        "No",
        "N/A"
       ],
       "placeholder": "Click to select option",
       "style": "IPY_MODEL_07926bf173714821af3d3849020cbf7e",
       "value": "Yes"
      }
     },
     "f1f8ca731b3341cd9ad60c9f1a9f01a2": {
      "model_module": "@jupyter-widgets/base",
      "model_module_version": "2.0.0",
      "model_name": "LayoutModel",
      "state": {}
     },
     "f3785922076d4266bfdd3eb0d7eeacb1": {
      "model_module": "@jupyter-widgets/controls",
      "model_module_version": "2.0.0",
      "model_name": "TextStyleModel",
      "state": {
       "description_width": "initial",
       "font_size": null,
       "text_color": null
      }
     },
     "f5cd0bcba0c942348224a8cfe0045be0": {
      "model_module": "@jupyter-widgets/base",
      "model_module_version": "2.0.0",
      "model_name": "LayoutModel",
      "state": {
       "width": "900px"
      }
     },
     "f5f305bee6454441adb2dd8df1182bd0": {
      "model_module": "@jupyter-widgets/controls",
      "model_module_version": "2.0.0",
      "model_name": "ComboboxModel",
      "state": {
       "description": "2.6 Is this dataset’s units, data types, and parameter names consistent with similar data collections?",
       "ensure_option": false,
       "layout": "IPY_MODEL_70f50fa3881049a1a1680fa2b9496a43",
       "options": [
        "Yes",
        "No",
        "N/A"
       ],
       "placeholder": "Click to select option",
       "style": "IPY_MODEL_985f5f2abff64db39d0ef235e1eda0b9",
       "value": "Yes"
      }
     },
     "f7f828c5b31f4b50a51fad22a7727f41": {
      "model_module": "@jupyter-widgets/controls",
      "model_module_version": "2.0.0",
      "model_name": "TextStyleModel",
      "state": {
       "description_width": "initial",
       "font_size": null,
       "text_color": null
      }
     },
     "f969db7e79b246029d2620130444b417": {
      "model_module": "@jupyter-widgets/base",
      "model_module_version": "2.0.0",
      "model_name": "LayoutModel",
      "state": {
       "flex": "1 1 auto",
       "width": "auto"
      }
     },
     "fae98cb0c67644f2b876ab62a8ca0b0a": {
      "model_module": "@jupyter-widgets/controls",
      "model_module_version": "2.0.0",
      "model_name": "LabelModel",
      "state": {
       "layout": "IPY_MODEL_8cad21d65c464e05acd25c151c1da48b",
       "style": "IPY_MODEL_118f2d1fb86b44fd964b6e06f6914f3e",
       "value": "Number of images:"
      }
     },
     "fb752131ee34448aa442630556e2d5ef": {
      "model_module": "@jupyter-widgets/controls",
      "model_module_version": "2.0.0",
      "model_name": "LabelStyleModel",
      "state": {
       "description_width": "",
       "font_family": null,
       "font_size": null,
       "font_style": null,
       "font_variant": null,
       "font_weight": null,
       "text_color": null,
       "text_decoration": null
      }
     },
     "fb78bfd634994f1189b258921d36af2f": {
      "model_module": "@jupyter-widgets/controls",
      "model_module_version": "2.0.0",
      "model_name": "TextStyleModel",
      "state": {
       "description_width": "initial",
       "font_size": null,
       "text_color": null
      }
     },
     "fe22854e54fc42b39f0e3535e8737073": {
      "model_module": "@jupyter-widgets/base",
      "model_module_version": "2.0.0",
      "model_name": "LayoutModel",
      "state": {}
     },
     "fe25b60f5fde473783d9f67a383e9b7c": {
      "model_module": "@jupyter-widgets/output",
      "model_module_version": "1.0.0",
      "model_name": "OutputModel",
      "state": {
       "layout": "IPY_MODEL_3f3f754e2df94ba0a431a1d970666eea"
      }
     },
     "ff1bab7a6ce841a4879fac57b6785c57": {
      "model_module": "@jupyter-widgets/controls",
      "model_module_version": "2.0.0",
      "model_name": "TextStyleModel",
      "state": {
       "description_width": "initial",
       "font_size": null,
       "text_color": null
      }
     },
     "ffc3839e6cbc436d89c8312404bbb2a6": {
      "model_module": "@jupyter-widgets/controls",
      "model_module_version": "2.0.0",
      "model_name": "TextStyleModel",
      "state": {
       "description_width": "",
       "font_size": null,
       "text_color": null
      }
     }
    },
    "version_major": 2,
    "version_minor": 0
   }
  }
 },
 "nbformat": 4,
 "nbformat_minor": 5
}
