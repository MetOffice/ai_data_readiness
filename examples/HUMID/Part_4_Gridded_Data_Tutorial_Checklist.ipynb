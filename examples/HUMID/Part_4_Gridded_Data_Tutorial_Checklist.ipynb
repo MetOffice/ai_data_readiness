{
 "cells": [
  {
   "cell_type": "markdown",
   "id": "f8198bd3-3e2a-444f-bff5-c9647a804ca9",
   "metadata": {
    "editable": true,
    "slideshow": {
     "slide_type": ""
    },
    "tags": []
   },
   "source": [
    "# **Data Readiness For AI Checklist - Part 4**\n",
    "\n",
    " * Creator(s) John Pill\n",
    " * Affiliation: UK Met Office\n",
    " * History: 1.0\n",
    " * Last update: 27 August 2024.\n",
    "\n",
    "\n",
    "---"
   ]
  },
  {
   "cell_type": "markdown",
   "id": "876a7a13-d1df-4430-9d4c-0edde6d17976",
   "metadata": {},
   "source": [
    "## **Tutorial Material**\n",
    "\n",
    "* **Run this Jupyter notebook locally using Jupyter Lab**\n",
    "* **Select 'Run All Cells' from the 'Run' menu to generate the checklist**.\n",
    "* **Remember to save your notebook regularly as you work through it.**\n",
    "\n",
    "\n",
    "## **Data section, optional**\n",
    "Scripts for pulling the data into the notebook assuming\n",
    "\n",
    "---"
   ]
  },
  {
   "cell_type": "markdown",
   "id": "f6840884-d7bb-43fa-a3e3-8c4106c435e5",
   "metadata": {},
   "source": [
    "## **Setup Notebook**"
   ]
  },
  {
   "cell_type": "code",
   "execution_count": 1,
   "id": "5b5a42bb-1da9-4460-a6a0-8d85063fd096",
   "metadata": {
    "editable": true,
    "slideshow": {
     "slide_type": ""
    },
    "tags": [
     "thebe-init"
    ]
   },
   "outputs": [],
   "source": [
    "import ipywidgets as widgets\n",
    "from IPython.display import display, clear_output\n",
    "import json\n",
    "import sys\n",
    "import os\n",
    "from aidatareadiness import utils\n",
    "from aidatareadiness.utils import WIDGET_WIDTH, DESCRIPTION_STYLE, PLACEHOLDER  \n",
    "from aidatareadiness.checklist_auto import gridded "
   ]
  },
  {
   "cell_type": "markdown",
   "id": "09f0cd55-db85-40d3-8470-41693c4b9f99",
   "metadata": {},
   "source": [
    "## **Load Data**"
   ]
  },
  {
   "cell_type": "code",
   "execution_count": null,
   "id": "2a6b1a22-023b-42c2-8cc2-281eab915a85",
   "metadata": {},
   "outputs": [],
   "source": []
  },
  {
   "cell_type": "code",
   "execution_count": 2,
   "id": "713542c3-dada-49f1-8a8e-c1564b9f56b0",
   "metadata": {},
   "outputs": [],
   "source": [
    "# Use the following function to laod your dataset and check its file format is compatible. \n",
    "# Add the filename / file path of your gridded dataset below:\n",
    "\n",
    "gridded_file_path = \"add_your_dataset_path_here\"\n",
    "\n",
    "# Uncomment the lines below to check compatibility and load your dataset. \n",
    "# dataset = gridded.detect_gridded_format_and_open(gridded_file_path)\n",
    "# dataset"
   ]
  },
  {
   "cell_type": "code",
   "execution_count": 3,
   "id": "40b0d786-4517-4fbd-8397-6d9451f7cbbc",
   "metadata": {},
   "outputs": [],
   "source": [
    "# Load checklist from JSON file:\n",
    "checklist = utils.load_checklist()"
   ]
  },
  {
   "cell_type": "markdown",
   "id": "087dd158-2a04-45b5-a0c0-599761f33f94",
   "metadata": {},
   "source": [
    "#### Reset stored answers to start again:"
   ]
  },
  {
   "cell_type": "code",
   "execution_count": 4,
   "id": "a467851d-ee03-46f7-a194-8e516c374b8e",
   "metadata": {
    "jupyter": {
     "source_hidden": true
    }
   },
   "outputs": [],
   "source": [
    "# Reset all checklist answers back to original blank answers for all sections.\n",
    "# Any completed information will be lost. \n",
    "\n",
    "# To reset the stored answers uncomment and run these lines of code below. Re-comment the lines afterwards to avoid them running again. \n",
    "# utils.reset_checklist()\n",
    "# checklist = utils.load_checklist()\n",
    "\n",
    "# You can then re-run each section to reload it on the reset data. "
   ]
  },
  {
   "cell_type": "code",
   "execution_count": 5,
   "id": "8a91cf5e-1967-4a77-98fb-c82e6d5ac2de",
   "metadata": {
    "jupyter": {
     "source_hidden": true
    }
   },
   "outputs": [
    {
     "name": "stdout",
     "output_type": "stream",
     "text": [
      "Dataset: \n",
      "Dataset link: \n",
      "Assessor: \n",
      "Assessor email: \n"
     ]
    }
   ],
   "source": [
    "\n",
    "print(\"Dataset:\", checklist[\"GeneralInformation\"][\"DatasetName\"])\n",
    "print(\"Dataset link:\", checklist[\"GeneralInformation\"][\"DatasetLink\"])\n",
    "print(\"Assessor:\", checklist[\"GeneralInformation\"][\"AssessorName\"])\n",
    "print(\"Assessor email:\", checklist[\"GeneralInformation\"][\"AssessorEmailAddress\"])"
   ]
  },
  {
   "cell_type": "markdown",
   "id": "ead060fb-06f2-4aae-9078-bf85bc7d9228",
   "metadata": {},
   "source": [
    "---\n",
    "\n",
    "## **4. Data Access**"
   ]
  },
  {
   "cell_type": "markdown",
   "id": "12e3b61f-8d2d-45b1-84e5-edabefbf4277",
   "metadata": {},
   "source": [
    "### File formats"
   ]
  },
  {
   "cell_type": "code",
   "execution_count": 6,
   "id": "77ec0e3b-f57f-4b1a-ae3e-e11da3fd2cd0",
   "metadata": {
    "jupyter": {
     "source_hidden": true
    }
   },
   "outputs": [
    {
     "data": {
      "application/vnd.jupyter.widget-view+json": {
       "model_id": "ab43c69ab77d4d479dcce0742b9fd26b",
       "version_major": 2,
       "version_minor": 0
      },
      "text/plain": [
       "Label(value='4.1 What is/are the major file formats? (Use shift / Ctrl / CMD to select multiple)')"
      ]
     },
     "metadata": {},
     "output_type": "display_data"
    },
    {
     "data": {
      "application/vnd.jupyter.widget-view+json": {
       "model_id": "c6aceb2ac4c7462aab0ded3708907f3d",
       "version_major": 2,
       "version_minor": 0
      },
      "text/plain": [
       "SelectMultiple(options=('CSV', 'netCDF', 'geoJSON', 'Shapefile', 'GRIB', 'HDF', 'GeoTIFF', 'KML', 'GINI', 'Zar…"
      ]
     },
     "metadata": {},
     "output_type": "display_data"
    },
    {
     "data": {
      "application/vnd.jupyter.widget-view+json": {
       "model_id": "0e87e579e37a452290ea93b8a213a8a5",
       "version_major": 2,
       "version_minor": 0
      },
      "text/plain": [
       "Combobox(value='', description='Are the main formats machine-readable?', layout=Layout(width='900px'), options…"
      ]
     },
     "metadata": {},
     "output_type": "display_data"
    },
    {
     "data": {
      "application/vnd.jupyter.widget-view+json": {
       "model_id": "2784409fabf84021b50bac44862f557e",
       "version_major": 2,
       "version_minor": 0
      },
      "text/plain": [
       "Combobox(value='', description='Is the data available in at least one open, non-proprietary format?', layout=L…"
      ]
     },
     "metadata": {},
     "output_type": "display_data"
    },
    {
     "data": {
      "application/vnd.jupyter.widget-view+json": {
       "model_id": "c79fd368312b41328400526e47089c11",
       "version_major": 2,
       "version_minor": 0
      },
      "text/plain": [
       "Combobox(value='', description='Are there tools/services to support data format conversion?', layout=Layout(wi…"
      ]
     },
     "metadata": {},
     "output_type": "display_data"
    },
    {
     "data": {
      "application/vnd.jupyter.widget-view+json": {
       "model_id": "2d200e93a1d84f8da7e31eb91442087f",
       "version_major": 2,
       "version_minor": 0
      },
      "text/plain": [
       "Text(value='', description='Tools / services link:', layout=Layout(width='900px'), placeholder='If yes, provid…"
      ]
     },
     "metadata": {},
     "output_type": "display_data"
    }
   ],
   "source": [
    "\n",
    "dataset_file_formats_label = widgets.Label(\n",
    "    value = \"4.1 What is/are the major file formats? (Use shift / Ctrl / CMD to select multiple)\"\n",
    ")\n",
    "\n",
    "dataset_file_format_options = ['CSV', 'netCDF', 'geoJSON', 'Shapefile', 'GRIB', 'HDF', 'GeoTIFF', 'KML', 'GINI', 'Zarr', 'Other']\n",
    "\n",
    "dataset_file_formats = widgets.SelectMultiple(\n",
    "            value=checklist['DataAccess']['FileFormats'],\n",
    "            options=dataset_file_format_options,\n",
    "            rows=len(dataset_file_format_options),\n",
    ")\n",
    "\n",
    "dataset_file_formats_machine_readable = widgets.Combobox(\n",
    "            value=checklist['DataAccess']['FileFormatsMachineReadable'],\n",
    "            options=['Yes', 'No', 'N/A'],\n",
    "            description='Are the main formats machine-readable?',\n",
    "            placeholder=PLACEHOLDER,\n",
    "            layout=widgets.Layout(width=WIDGET_WIDTH),\n",
    "            style = DESCRIPTION_STYLE\n",
    "            )\n",
    "\n",
    "dataset_file_formats_non_proprietary = widgets.Combobox(\n",
    "            value=checklist['DataAccess']['OpenFormatAvailable'],\n",
    "            options=['Yes', 'No', 'N/A'],\n",
    "            description='Is the data available in at least one open, non-proprietary format?',\n",
    "            placeholder=PLACEHOLDER,\n",
    "            layout=widgets.Layout(width=WIDGET_WIDTH),\n",
    "            style = DESCRIPTION_STYLE\n",
    "            )\n",
    "\n",
    "dataset_file_formats_conversion_tools = widgets.Combobox(\n",
    "            value=checklist['DataAccess']['FormatConversionTools'],\n",
    "            options=['Yes', 'No', 'N/A'],\n",
    "            description='Are there tools/services to support data format conversion?',\n",
    "            placeholder=PLACEHOLDER,\n",
    "            layout=widgets.Layout(width=WIDGET_WIDTH),\n",
    "            style = DESCRIPTION_STYLE\n",
    "            )\n",
    "\n",
    "dataset_file_formats_conversion_tools_link = widgets.Text(\n",
    "            value=checklist['DataAccess']['ConversionToolsLink'],\n",
    "            description='Tools / services link:',\n",
    "            placeholder='If yes, provide the link to the tools/services',\n",
    "            layout=widgets.Layout(width=WIDGET_WIDTH),\n",
    "            style = DESCRIPTION_STYLE\n",
    "            )\n",
    "\n",
    "def on_click_handler_sel_format(change):\n",
    "    \"\"\"\n",
    "    Completes various fields based on the file format selection.\n",
    "    \"\"\"\n",
    "    \n",
    "    selected_formats = change['new']\n",
    "    dataset_file_formats_conversion_tools_link_dict = {'CSV':['https://pandas.pydata.org/', 'https://www.qgis.org/', 'https://www.arcgis.com/home/index.html', ],\n",
    "                                                        'netCDF':['https://unidata.github.io/netcdf4-python/','https://scitools-iris.readthedocs.io/en/stable/index.html', 'https://docs.xarray.dev/en/stable/', 'https://www.giss.nasa.gov/tools/panoply/', 'https://www.unidata.ucar.edu/software/tds/', 'https://www.mathworks.com/products/matlab.html'],\n",
    "                                                        'geoJSON':['https://www.qgis.org/', 'https://www.arcgis.com/home/index.html', 'https://geopandas.org/en/stable/', 'https://shapely.readthedocs.io/en/stable/manual.html'],\n",
    "                                                        'Shapefile':['https://www.qgis.org/', 'https://www.arcgis.com/home/index.html', 'https://gdal.org/en/latest/', 'https://pypi.org/project/pyshp/', 'https://geopandas.org/en/stable/',], \n",
    "                                                        'GRIB':['https://scitools-iris.readthedocs.io/en/stable/index.html', 'https://www.giss.nasa.gov/tools/panoply/', 'https://www.qgis.org/', 'https://www.cpc.ncep.noaa.gov/products/wesley/wgrib2/', 'https://github.com/ecmwf/cfgrib'],\n",
    "                                                        'HDF':['https://www.h5py.org/', 'https://www.giss.nasa.gov/tools/panoply/','https://earth.esa.int/eogateway/tools/hdfview'],\n",
    "                                                        'GeoTIFF':['https://www.qgis.org/', 'https://www.arcgis.com/home/index.html','https://gdal.org/en/latest/','https://rasterio.readthedocs.io/en/stable/'],\n",
    "                                                        'KML':['https://www.qgis.org/', 'https://www.arcgis.com/home/index.html','https://fastkml.readthedocs.io/en/latest/','https://simplekml.readthedocs.io/en/latest/'],\n",
    "                                                        'GINI':['https://gdal.org/en/latest/', 'https://www.unidata.ucar.edu/software/metpy/'],\n",
    "                                                        'Zarr':['https://zarr.readthedocs.io/en/stable/', 'https://docs.xarray.dev/en/stable/','https://www.dask.org']}\n",
    "\n",
    "    if set(selected_formats) & {'CSV', 'netCDF', 'geoJSON', 'Shapefile', 'GRIB', 'HDF', 'GeoTIFF', 'KML', 'GINI', 'Zarr'}:\n",
    "        dataset_file_formats_machine_readable.value = 'Yes'\n",
    "    elif set(selected_formats) & {'Other'}:\n",
    "        dataset_file_formats_machine_readable.value = ''\n",
    "    else:\n",
    "        dataset_file_formats_machine_readable.value = 'No'\n",
    "    \n",
    "    if set(selected_formats) & {'CSV', 'netCDF', 'geoJSON', 'Shapefile', 'GRIB', 'HDF','GeoTIFF', 'Zarr'}:\n",
    "        dataset_file_formats_non_proprietary.value = 'Yes'\n",
    "    elif set(selected_formats) & {'Other'}:\n",
    "        dataset_file_formats_non_proprietary.value = ''\n",
    "    else:\n",
    "        dataset_file_formats_non_proprietary.value = 'No'\n",
    "    \n",
    "    # Determine if conversion tools are available\n",
    "    if set(selected_formats) & {'CSV', 'netCDF', 'geoJSON', 'Shapefile', 'GRIB', 'HDF', 'GeoTIFF', 'KML', 'GINI', 'Zarr'}:\n",
    "        dataset_file_formats_conversion_tools.value = 'Yes'\n",
    "        dataset_file_formats_conversion_tools_link_list = []\n",
    "        for format in list(set(selected_formats)):\n",
    "            [dataset_file_formats_conversion_tools_link_list.append(i) for i in dataset_file_formats_conversion_tools_link_dict[format]]\n",
    "        dataset_file_formats_conversion_tools_link.value = ' '.join(list(set(dataset_file_formats_conversion_tools_link_list)))\n",
    "    elif set(selected_formats) & {'Other'}:\n",
    "        dataset_file_formats_conversion_tools.value = ''\n",
    "        dataset_file_formats_conversion_tools_link.value = ''\n",
    "    else:\n",
    "        dataset_file_formats_conversion_tools.value = 'No'\n",
    "        dataset_file_formats_conversion_tools_link.value = ''\n",
    "\n",
    "dataset_file_formats.observe(on_click_handler_sel_format, names='value')\n",
    "\n",
    "display(dataset_file_formats_label, dataset_file_formats, dataset_file_formats_machine_readable, dataset_file_formats_non_proprietary, dataset_file_formats_conversion_tools, dataset_file_formats_conversion_tools_link)"
   ]
  },
  {
   "cell_type": "markdown",
   "id": "7e3bb476-ba1e-4507-b7f0-55db7ce9710a",
   "metadata": {},
   "source": [
    "### Data delivery"
   ]
  },
  {
   "cell_type": "code",
   "execution_count": 7,
   "id": "acf9768d-6572-4719-b5d3-b95e7e94d2f5",
   "metadata": {
    "jupyter": {
     "source_hidden": true
    }
   },
   "outputs": [
    {
     "data": {
      "application/vnd.jupyter.widget-view+json": {
       "model_id": "94e754cfbf7143a981c5178213caeed8",
       "version_major": 2,
       "version_minor": 0
      },
      "text/plain": [
       "Combobox(value='', description='4.2 Does data access require authentication (e.g., a registered user account)?…"
      ]
     },
     "metadata": {},
     "output_type": "display_data"
    },
    {
     "data": {
      "application/vnd.jupyter.widget-view+json": {
       "model_id": "e746a089df3c4b7b91cffc9f4bd8cd10",
       "version_major": 2,
       "version_minor": 0
      },
      "text/plain": [
       "Combobox(value='', description='4.3 Can the file be accessed via direct file downloading or ordering?', layout…"
      ]
     },
     "metadata": {},
     "output_type": "display_data"
    },
    {
     "data": {
      "application/vnd.jupyter.widget-view+json": {
       "model_id": "50a1c55f51694b9d8646ea249cffc125",
       "version_major": 2,
       "version_minor": 0
      },
      "text/plain": [
       "Combobox(value='', description='4.4 Is there an Application Programming Interface (API) or web service to acce…"
      ]
     },
     "metadata": {},
     "output_type": "display_data"
    },
    {
     "data": {
      "application/vnd.jupyter.widget-view+json": {
       "model_id": "774584332e0a4b44a4cbb768f138b2d2",
       "version_major": 2,
       "version_minor": 0
      },
      "text/plain": [
       "Combobox(value='', description='If there is an API, does the API follow an open standard protocol (e.g., OGC)?…"
      ]
     },
     "metadata": {},
     "output_type": "display_data"
    },
    {
     "data": {
      "application/vnd.jupyter.widget-view+json": {
       "model_id": "e1b16f13f0ad47f99998e04204173843",
       "version_major": 2,
       "version_minor": 0
      },
      "text/plain": [
       "Combobox(value='', description='If there is an API, is there documentation for the API?', layout=Layout(displa…"
      ]
     },
     "metadata": {},
     "output_type": "display_data"
    },
    {
     "data": {
      "application/vnd.jupyter.widget-view+json": {
       "model_id": "ac8ac8db941545468580d59c98e20742",
       "version_major": 2,
       "version_minor": 0
      },
      "text/plain": [
       "Text(value='', layout=Layout(display='none', width='900px'), placeholder='If “Yes”, please provide a URL to th…"
      ]
     },
     "metadata": {},
     "output_type": "display_data"
    }
   ],
   "source": [
    "\n",
    "dataset_authentication = widgets.Combobox(\n",
    "            value=checklist['DataAccess']['AuthenticationRequired'],\n",
    "            options=['Yes', 'No', 'N/A'],\n",
    "            description='4.2 Does data access require authentication (e.g., a registered user account)?',\n",
    "            placeholder=PLACEHOLDER,\n",
    "            layout=widgets.Layout(width=WIDGET_WIDTH),\n",
    "            style = DESCRIPTION_STYLE\n",
    "            )\n",
    "\n",
    "dataset_direct_access = widgets.Combobox(\n",
    "            value=checklist['DataAccess']['DirectDownloadAvailable'],\n",
    "            options=['Yes', 'No', 'N/A'],\n",
    "            description='4.3 Can the file be accessed via direct file downloading or ordering?',\n",
    "            placeholder=PLACEHOLDER,\n",
    "            layout=widgets.Layout(width=WIDGET_WIDTH),\n",
    "            style = DESCRIPTION_STYLE\n",
    "            )\n",
    "\n",
    "dataset_api_available = widgets.Combobox(\n",
    "            value=checklist['DataAccess']['APIorWebAvailable'],\n",
    "            options=['Yes', 'No', 'N/A'],\n",
    "            description='4.4 Is there an Application Programming Interface (API) or web service to access the data?',\n",
    "            placeholder=PLACEHOLDER,\n",
    "            layout=widgets.Layout(width=WIDGET_WIDTH),\n",
    "            style = DESCRIPTION_STYLE\n",
    "            )\n",
    "\n",
    "dataset_api_standard_protocol = widgets.Combobox(\n",
    "            value=checklist['DataAccess']['APIOpenStandard'],\n",
    "            options=['Yes', 'No', 'N/A'],\n",
    "            description='If there is an API, does the API follow an open standard protocol (e.g., OGC)?',\n",
    "            placeholder=PLACEHOLDER,\n",
    "            layout=widgets.Layout(display=\"none\", width=WIDGET_WIDTH),\n",
    "            style = DESCRIPTION_STYLE\n",
    "            )\n",
    "\n",
    "dataset_api_documentation_available = widgets.Combobox(\n",
    "            value=checklist['DataAccess']['APIDocumentation'],\n",
    "            options=['Yes', 'No', 'N/A'],\n",
    "            description='If there is an API, is there documentation for the API?',\n",
    "            placeholder=PLACEHOLDER,\n",
    "            layout=widgets.Layout(display=\"none\", width=WIDGET_WIDTH),\n",
    "            style = DESCRIPTION_STYLE\n",
    "            )\n",
    "\n",
    "dataset_api_documentation_link = widgets.Text(\n",
    "            value=checklist['DataAccess']['APIDocumentationLink'],\n",
    "            placeholder='If “Yes”, please provide a URL to the documentation.',\n",
    "            layout=widgets.Layout(display=\"none\", width=WIDGET_WIDTH)\n",
    "            )\n",
    "\n",
    "\n",
    "\n",
    "# Function to change the display setting of the following UI components. \n",
    "def on_click_handler(change):    \n",
    "\n",
    "    # Show / hide main trunk of questions. \n",
    "    if dataset_api_available.value == \"Yes\":\n",
    "        dataset_api_standard_protocol.layout.display = ''\n",
    "        dataset_api_documentation_available.layout.display = ''\n",
    "        dataset_api_documentation_link.layout.display = ''\n",
    "\n",
    "    else:   \n",
    "        dataset_api_standard_protocol.layout.display = 'none'\n",
    "        dataset_api_documentation_available.layout.display = 'none'\n",
    "        dataset_api_documentation_link.layout.display = 'none'\n",
    "\n",
    "        dataset_api_standard_protocol.value = 'N/A'\n",
    "        dataset_api_documentation_available.value = 'N/A'\n",
    "        dataset_api_documentation_link.value = ''\n",
    "\n",
    "            \n",
    "# Display the UI components\n",
    "display(dataset_authentication, dataset_direct_access, dataset_api_available, dataset_api_standard_protocol, dataset_api_documentation_available, dataset_api_documentation_link)\n",
    "\n",
    "\n",
    "# Observe UI components for changes and call the on_click_handler function if value property changed. \n",
    "dataset_api_available.observe(on_click_handler, names=\"value\")\n",
    "\n"
   ]
  },
  {
   "cell_type": "markdown",
   "id": "5cb8b683-a629-4616-8074-65e696da6e9a",
   "metadata": {},
   "source": [
    "### Privacy and security\n"
   ]
  },
  {
   "cell_type": "code",
   "execution_count": 8,
   "id": "16e6258a-3aee-42fe-bc61-3161b89a499c",
   "metadata": {
    "jupyter": {
     "source_hidden": true
    }
   },
   "outputs": [
    {
     "data": {
      "application/vnd.jupyter.widget-view+json": {
       "model_id": "f67ba9245da2465fb6a228a43c228fc8",
       "version_major": 2,
       "version_minor": 0
      },
      "text/plain": [
       "Combobox(value='', description='4.5 For restricted data, have measures been taken to provide some access while…"
      ]
     },
     "metadata": {},
     "output_type": "display_data"
    },
    {
     "data": {
      "application/vnd.jupyter.widget-view+json": {
       "model_id": "5edafdc545024db8a5cecb33bfbd6ba2",
       "version_major": 2,
       "version_minor": 0
      },
      "text/plain": [
       "Combobox(value='', description='4.6 Has the data been aggregated to reduce granularity?', layout=Layout(width=…"
      ]
     },
     "metadata": {},
     "output_type": "display_data"
    },
    {
     "data": {
      "application/vnd.jupyter.widget-view+json": {
       "model_id": "50fdc0b0e3e346ad832f1524f36eac3c",
       "version_major": 2,
       "version_minor": 0
      },
      "text/plain": [
       "Combobox(value='', description='4.7 Has the data been anonymized / de-identified?', layout=Layout(width='900px…"
      ]
     },
     "metadata": {},
     "output_type": "display_data"
    },
    {
     "data": {
      "application/vnd.jupyter.widget-view+json": {
       "model_id": "5150c9aec86248148260b403cf354134",
       "version_major": 2,
       "version_minor": 0
      },
      "text/plain": [
       "Combobox(value='', description='4.8 Is there secure access to the full dataset for authorized users? ', layout…"
      ]
     },
     "metadata": {},
     "output_type": "display_data"
    }
   ],
   "source": [
    "\n",
    "dataset_restricted_protection = widgets.Combobox(\n",
    "            value=checklist['DataAccess']['SecurityMeasuresTaken'],\n",
    "            options=['Yes', 'No', 'N/A'],\n",
    "            description='4.5 For restricted data, have measures been taken to provide some access while still applying appropriate protection for privacy and security?',\n",
    "            placeholder=PLACEHOLDER,\n",
    "            layout=widgets.Layout(width=WIDGET_WIDTH),\n",
    "            style = DESCRIPTION_STYLE\n",
    "            \n",
    "            )\n",
    "\n",
    "dataset_aggregation = widgets.Combobox(\n",
    "            value=checklist['DataAccess']['DataAggregated'],\n",
    "            options=['Yes', 'No', 'N/A'],\n",
    "            description='4.6 Has the data been aggregated to reduce granularity?',\n",
    "            placeholder=PLACEHOLDER,\n",
    "            layout=widgets.Layout(width=WIDGET_WIDTH),\n",
    "            style = DESCRIPTION_STYLE\n",
    "            )\n",
    "\n",
    "dataset_anonymization = widgets.Combobox(\n",
    "            value=checklist['DataAccess']['DataAnonymized'],\n",
    "            options=['Yes', 'No', 'N/A'],\n",
    "            description='4.7 Has the data been anonymized / de-identified?',\n",
    "            placeholder=PLACEHOLDER,\n",
    "            layout=widgets.Layout(width=WIDGET_WIDTH),\n",
    "            style = DESCRIPTION_STYLE\n",
    "            )\n",
    "\n",
    "dataset_secure_access = widgets.Combobox(\n",
    "            value=checklist['DataAccess']['SecureAccessForAuthorizedUsers'],\n",
    "            options=['Yes', 'No', 'N/A'],\n",
    "            description='4.8 Is there secure access to the full dataset for authorized users? ',\n",
    "            placeholder=PLACEHOLDER,\n",
    "            layout=widgets.Layout(width=WIDGET_WIDTH),\n",
    "            style = DESCRIPTION_STYLE\n",
    "            )\n",
    "\n",
    "display(dataset_restricted_protection, dataset_aggregation, dataset_anonymization, dataset_secure_access)\n"
   ]
  },
  {
   "cell_type": "code",
   "execution_count": 9,
   "id": "739ddb16-9b20-4c19-8860-8e8636759965",
   "metadata": {
    "jupyter": {
     "source_hidden": true
    }
   },
   "outputs": [
    {
     "data": {
      "application/vnd.jupyter.widget-view+json": {
       "model_id": "e05113a898f1436abe39626832cd96c0",
       "version_major": 2,
       "version_minor": 0
      },
      "text/plain": [
       "Button(button_style='primary', description='Save Data Access Answers to json file', layout=Layout(flex='1 1 au…"
      ]
     },
     "metadata": {},
     "output_type": "display_data"
    }
   ],
   "source": [
    "\n",
    "# Save button\n",
    "save_button = widgets.Button(description=\"Save Data Access Answers to json file\",  button_style=\"primary\",  layout=widgets.Layout(flex='1 1 auto', width='auto'))\n",
    "\n",
    "def generate_updates_access():\n",
    "\n",
    "    updates = {\n",
    "        \"DataAccess\": {\n",
    "            #File Formats\n",
    "            \"FileFormats\": dataset_file_formats.value,\n",
    "            \"FileFormatsMachineReadable\": dataset_file_formats_machine_readable.value,\n",
    "            \"OpenFormatAvailable\": dataset_file_formats_non_proprietary.value,\n",
    "            \"FormatConversionTools\": dataset_file_formats_conversion_tools.value,\n",
    "            \"ConversionToolsLink\": dataset_file_formats_conversion_tools_link.value, \n",
    "\n",
    "            # Data Delivery\n",
    "            \"AuthenticationRequired\" : dataset_authentication.value,\n",
    "            \"DirectDownloadAvailable\" : dataset_direct_access.value,\n",
    "            \"APIorWebAvailable\" : dataset_api_available.value,\n",
    "            \"APIOpenStandard\" : dataset_api_standard_protocol.value,\n",
    "            \"APIDocumentation\" : dataset_api_documentation_available.value,\n",
    "            \"APIDocumentationLink\" : dataset_api_documentation_link.value,\n",
    "\n",
    "            # Privacy and Security\n",
    "            \"SecurityMeasuresTaken\" : dataset_restricted_protection.value,\n",
    "            \"DataAggregated\" : dataset_aggregation.value,\n",
    "            \"DataAnonymized\" : dataset_anonymization.value,\n",
    "            \"SecureAccessForAuthorizedUsers\" : dataset_secure_access.value,\n",
    "        }\n",
    "    }\n",
    "    return updates\n",
    "\n",
    "save_button.on_click(lambda b: utils.update_checklist(b, generate_updates_access()))\n",
    "\n",
    "display(save_button)"
   ]
  },
  {
   "cell_type": "markdown",
   "id": "3824aa9e-9d66-4a2e-a1a2-60139f7c30dd",
   "metadata": {},
   "source": [
    "## Finished"
   ]
  },
  {
   "cell_type": "markdown",
   "id": "b917ce44-74fa-4290-8a31-931562746a4f",
   "metadata": {},
   "source": [
    "1. Make sure you saved your answers to the external json file using the buttons above. \n",
    "2. If you would like to view these saved answers use the button below. \n",
    "3. Move onto the notebook Template_Checklist_Part_5.ipynb covering Data Preparation"
   ]
  },
  {
   "cell_type": "code",
   "execution_count": 10,
   "id": "d35683fe-7d9f-40fa-81fa-99f926702fd6",
   "metadata": {
    "jupyter": {
     "source_hidden": true
    }
   },
   "outputs": [
    {
     "data": {
      "application/vnd.jupyter.widget-view+json": {
       "model_id": "2048a60200b64617854d4cfdcd6dc944",
       "version_major": 2,
       "version_minor": 0
      },
      "text/plain": [
       "Button(button_style='info', description='Print json results', layout=Layout(flex='1 1 auto', width='auto'), st…"
      ]
     },
     "metadata": {},
     "output_type": "display_data"
    },
    {
     "data": {
      "application/vnd.jupyter.widget-view+json": {
       "model_id": "c71450fbaaef467688cfdbab6b90e2c2",
       "version_major": 2,
       "version_minor": 0
      },
      "text/plain": [
       "Output()"
      ]
     },
     "metadata": {},
     "output_type": "display_data"
    }
   ],
   "source": [
    "\n",
    "button_print_json = widgets.Button(description=\"Print json results\",  button_style='info', layout=widgets.Layout(flex='1 1 auto', width='auto'))\n",
    "output = widgets.Output()\n",
    "\n",
    "display(button_print_json, output)\n",
    "\n",
    "def print_json_info(b):\n",
    "    \"\"\"\n",
    "    Loads a copy of the json file to checklist variable. \n",
    "    Then prints the json file contents to Jupyter notebook cell output.\n",
    "\n",
    "    Arguments: b - represents the button calling the function. \n",
    "    \"\"\"\n",
    "    checklist = utils.load_checklist()\n",
    "    with output:\n",
    "        clear_output()\n",
    "        for key, value in checklist.items():\n",
    "            print(f\"{key}:\")\n",
    "            if isinstance(value, dict):\n",
    "                for sub_key, sub_value in value.items():\n",
    "                    print(f\"  {sub_key}: {sub_value}\")\n",
    "            else:\n",
    "                print(f\"  {value}\")\n",
    "\n",
    "button_print_json.on_click(print_json_info)\n"
   ]
  },
  {
   "cell_type": "markdown",
   "id": "c760fc3b-f413-46e4-8a76-31684d83a2d2",
   "metadata": {},
   "source": [
    "---\n",
    "\n",
    "## **Appendix** - Definition of terms used in the checklist."
   ]
  },
  {
   "cell_type": "markdown",
   "id": "d5efc4cd-4a6d-4226-a29e-314bcc526d22",
   "metadata": {
    "editable": true,
    "slideshow": {
     "slide_type": ""
    },
    "tags": []
   },
   "source": [
    "### Data Access\n",
    "\n",
    "* **Formats**: standards that govern how information is stored in a computer file (e.g., CSV, JSON, GeoTIFF, etc.); different AI user communities will have different requirements, so the best practice is to provide several format options to meet the needs of multiple high priority user communities.\n",
    "* **Delivery Options**: mechanisms for publishing open data for public use (e.g., direct file download, Application Programming Interface (API), cloud services, etc.); different AI user communities will have different requirements, so the best practice is to provide several delivery options to meet the needs of multiple high priority user communities.\n",
    "* **License/Usage Rights**: information on who is allowed to use the data and for what purposes, including data sharing agreements, fees, etc.; some federal data needs to have restrictions and some will be fully open, so rights should be documented in detail\n",
    "* **Security/Privacy**: protection of data that is restricted in some way (privacy, proprietary/business information, national security, etc.)\n"
   ]
  }
 ],
 "metadata": {
  "kernelspec": {
   "display_name": "Python 3 (ipykernel)",
   "language": "python",
   "name": "python3"
  },
  "language_info": {
   "codemirror_mode": {
    "name": "ipython",
    "version": 3
   },
   "file_extension": ".py",
   "mimetype": "text/x-python",
   "name": "python",
   "nbconvert_exporter": "python",
   "pygments_lexer": "ipython3",
   "version": "3.10.16"
  },
  "widgets": {
   "application/vnd.jupyter.widget-state+json": {
    "state": {
     "03cf8d230116473f96b9219534c767d6": {
      "model_module": "@jupyter-widgets/controls",
      "model_module_version": "2.0.0",
      "model_name": "ComboboxModel",
      "state": {
       "description": "4.8 Is there secure access to the full dataset for authorized users? ",
       "ensure_option": false,
       "layout": "IPY_MODEL_2a4412027af24430a829d7c277cad5a4",
       "options": [
        "Yes",
        "No",
        "N/A"
       ],
       "placeholder": "Click to select option",
       "style": "IPY_MODEL_27f167983c514f319d2bfa283132c427"
      }
     },
     "166d5587b0a0456ca8b34452ebe6f5c1": {
      "model_module": "@jupyter-widgets/controls",
      "model_module_version": "2.0.0",
      "model_name": "TextStyleModel",
      "state": {
       "description_width": "initial",
       "font_size": null,
       "text_color": null
      }
     },
     "16714672b02e4e3ea1823feef7bf6783": {
      "model_module": "@jupyter-widgets/base",
      "model_module_version": "2.0.0",
      "model_name": "LayoutModel",
      "state": {
       "width": "900px"
      }
     },
     "16822cb2467e4c84b411fe846d74ba0c": {
      "model_module": "@jupyter-widgets/base",
      "model_module_version": "2.0.0",
      "model_name": "LayoutModel",
      "state": {
       "display": "none",
       "width": "900px"
      }
     },
     "17f3c37e0b2a48008b2cefa7373fb5b5": {
      "model_module": "@jupyter-widgets/base",
      "model_module_version": "2.0.0",
      "model_name": "LayoutModel",
      "state": {
       "width": "900px"
      }
     },
     "183f8b0abe2a4e5598c2ca96bdd7c5a9": {
      "model_module": "@jupyter-widgets/controls",
      "model_module_version": "2.0.0",
      "model_name": "TextStyleModel",
      "state": {
       "description_width": "initial",
       "font_size": null,
       "text_color": null
      }
     },
     "18d36cd1be9e4f36b7c85cdda1f17cb7": {
      "model_module": "@jupyter-widgets/base",
      "model_module_version": "2.0.0",
      "model_name": "LayoutModel",
      "state": {
       "display": "none",
       "width": "900px"
      }
     },
     "1aeda5ec46e44d3cb14dfb78a8c7a0ee": {
      "model_module": "@jupyter-widgets/controls",
      "model_module_version": "2.0.0",
      "model_name": "ComboboxModel",
      "state": {
       "description": "If there is an API, is there documentation for the API?",
       "ensure_option": false,
       "layout": "IPY_MODEL_6862fa0a112942c9bc4e5d0b35564a9f",
       "options": [
        "Yes",
        "No",
        "N/A"
       ],
       "placeholder": "Click to select option",
       "style": "IPY_MODEL_166d5587b0a0456ca8b34452ebe6f5c1"
      }
     },
     "1f40eafc7a2140589f02854f9f4e8bbb": {
      "model_module": "@jupyter-widgets/controls",
      "model_module_version": "2.0.0",
      "model_name": "ComboboxModel",
      "state": {
       "description": "Is the data available in at least one open, non-proprietary format?",
       "ensure_option": false,
       "layout": "IPY_MODEL_7f4106a2c04c40528ae0147b0d27a49c",
       "options": [
        "Yes",
        "No",
        "N/A"
       ],
       "placeholder": "Click to select option",
       "style": "IPY_MODEL_3930377e568143008269a11c6d11cf5e"
      }
     },
     "27f167983c514f319d2bfa283132c427": {
      "model_module": "@jupyter-widgets/controls",
      "model_module_version": "2.0.0",
      "model_name": "TextStyleModel",
      "state": {
       "description_width": "initial",
       "font_size": null,
       "text_color": null
      }
     },
     "2a4412027af24430a829d7c277cad5a4": {
      "model_module": "@jupyter-widgets/base",
      "model_module_version": "2.0.0",
      "model_name": "LayoutModel",
      "state": {
       "width": "900px"
      }
     },
     "2b6c132479664ffc8a6715f2c57911ef": {
      "model_module": "@jupyter-widgets/controls",
      "model_module_version": "2.0.0",
      "model_name": "TextStyleModel",
      "state": {
       "description_width": "",
       "font_size": null,
       "text_color": null
      }
     },
     "33e0d7a0a68a40e7bbdb7b53d39aeca2": {
      "model_module": "@jupyter-widgets/controls",
      "model_module_version": "2.0.0",
      "model_name": "TextStyleModel",
      "state": {
       "description_width": "initial",
       "font_size": null,
       "text_color": null
      }
     },
     "3930377e568143008269a11c6d11cf5e": {
      "model_module": "@jupyter-widgets/controls",
      "model_module_version": "2.0.0",
      "model_name": "TextStyleModel",
      "state": {
       "description_width": "initial",
       "font_size": null,
       "text_color": null
      }
     },
     "426a48c1fa5b411c972a635a024e67a6": {
      "model_module": "@jupyter-widgets/controls",
      "model_module_version": "2.0.0",
      "model_name": "DescriptionStyleModel",
      "state": {
       "description_width": ""
      }
     },
     "464c904188604a2895864d4aa660ff23": {
      "model_module": "@jupyter-widgets/controls",
      "model_module_version": "2.0.0",
      "model_name": "ComboboxModel",
      "state": {
       "description": "4.7 Has the data been anonymized / de-identified?",
       "ensure_option": false,
       "layout": "IPY_MODEL_9d77a9d67ddb4a069498197fc79f38b0",
       "options": [
        "Yes",
        "No",
        "N/A"
       ],
       "placeholder": "Click to select option",
       "style": "IPY_MODEL_7d9961af45cf4a3da3417bc0d0a9e2b6"
      }
     },
     "4f389e1527a34c228c2515d21bf5f97a": {
      "model_module": "@jupyter-widgets/controls",
      "model_module_version": "2.0.0",
      "model_name": "ComboboxModel",
      "state": {
       "description": "4.5 For restricted data, have measures been taken to provide some access while still applying appropriate protection for privacy and security?",
       "ensure_option": false,
       "layout": "IPY_MODEL_66d716e9f43a4418b8b560fd6081a50f",
       "options": [
        "Yes",
        "No",
        "N/A"
       ],
       "placeholder": "Click to select option",
       "style": "IPY_MODEL_183f8b0abe2a4e5598c2ca96bdd7c5a9"
      }
     },
     "61734fa6a2214c968cffa45f79bd901b": {
      "model_module": "@jupyter-widgets/controls",
      "model_module_version": "2.0.0",
      "model_name": "LabelStyleModel",
      "state": {
       "description_width": "",
       "font_family": null,
       "font_size": null,
       "font_style": null,
       "font_variant": null,
       "font_weight": null,
       "text_color": null,
       "text_decoration": null
      }
     },
     "66d716e9f43a4418b8b560fd6081a50f": {
      "model_module": "@jupyter-widgets/base",
      "model_module_version": "2.0.0",
      "model_name": "LayoutModel",
      "state": {
       "width": "900px"
      }
     },
     "6862fa0a112942c9bc4e5d0b35564a9f": {
      "model_module": "@jupyter-widgets/base",
      "model_module_version": "2.0.0",
      "model_name": "LayoutModel",
      "state": {
       "display": "none",
       "width": "900px"
      }
     },
     "6aebaf4627014664bbac335f542c4008": {
      "model_module": "@jupyter-widgets/base",
      "model_module_version": "2.0.0",
      "model_name": "LayoutModel",
      "state": {
       "flex": "1 1 auto",
       "width": "auto"
      }
     },
     "7464106bc8ea499fabbcbfe2152fd3f3": {
      "model_module": "@jupyter-widgets/controls",
      "model_module_version": "2.0.0",
      "model_name": "TextModel",
      "state": {
       "description": "Tools / services link:",
       "layout": "IPY_MODEL_16714672b02e4e3ea1823feef7bf6783",
       "placeholder": "If yes, provide the link to the tools/services",
       "style": "IPY_MODEL_ce490233a82a4abebe1fa9d406f05965"
      }
     },
     "7d9961af45cf4a3da3417bc0d0a9e2b6": {
      "model_module": "@jupyter-widgets/controls",
      "model_module_version": "2.0.0",
      "model_name": "TextStyleModel",
      "state": {
       "description_width": "initial",
       "font_size": null,
       "text_color": null
      }
     },
     "7f4106a2c04c40528ae0147b0d27a49c": {
      "model_module": "@jupyter-widgets/base",
      "model_module_version": "2.0.0",
      "model_name": "LayoutModel",
      "state": {
       "width": "900px"
      }
     },
     "82c006d0000e411890bdd7627a5daec0": {
      "model_module": "@jupyter-widgets/base",
      "model_module_version": "2.0.0",
      "model_name": "LayoutModel",
      "state": {}
     },
     "8376eb573cea47cb8e4b4f509e63aa7e": {
      "model_module": "@jupyter-widgets/controls",
      "model_module_version": "2.0.0",
      "model_name": "ComboboxModel",
      "state": {
       "description": "4.3 Can the file be accessed via direct file downloading or ordering?",
       "ensure_option": false,
       "layout": "IPY_MODEL_17f3c37e0b2a48008b2cefa7373fb5b5",
       "options": [
        "Yes",
        "No",
        "N/A"
       ],
       "placeholder": "Click to select option",
       "style": "IPY_MODEL_9f49b8099cd143ae8b47043ed98f88e1"
      }
     },
     "83a3425c8a6e40348142a0d3435be1fd": {
      "model_module": "@jupyter-widgets/controls",
      "model_module_version": "2.0.0",
      "model_name": "ComboboxModel",
      "state": {
       "description": "4.6 Has the data been aggregated to reduce granularity?",
       "ensure_option": false,
       "layout": "IPY_MODEL_eaef55fbbbb34010a4683ebd3f34a343",
       "options": [
        "Yes",
        "No",
        "N/A"
       ],
       "placeholder": "Click to select option",
       "style": "IPY_MODEL_33e0d7a0a68a40e7bbdb7b53d39aeca2"
      }
     },
     "8a482b4b0edf446b82c93bb477782385": {
      "model_module": "@jupyter-widgets/controls",
      "model_module_version": "2.0.0",
      "model_name": "ButtonStyleModel",
      "state": {
       "font_family": null,
       "font_size": null,
       "font_style": null,
       "font_variant": null,
       "font_weight": null,
       "text_color": null,
       "text_decoration": null
      }
     },
     "972360b3c10346588f066195d4479378": {
      "model_module": "@jupyter-widgets/controls",
      "model_module_version": "2.0.0",
      "model_name": "ComboboxModel",
      "state": {
       "description": "4.2 Does data access require authentication (e.g., a registered user account)?",
       "ensure_option": false,
       "layout": "IPY_MODEL_bfecb4ea31dc43eeb2fc8f893c20ef50",
       "options": [
        "Yes",
        "No",
        "N/A"
       ],
       "placeholder": "Click to select option",
       "style": "IPY_MODEL_c12c10df12d74af3a5534341712f012e"
      }
     },
     "98b08e03d53642f5b545b44ca0a3aca4": {
      "model_module": "@jupyter-widgets/base",
      "model_module_version": "2.0.0",
      "model_name": "LayoutModel",
      "state": {}
     },
     "9d77a9d67ddb4a069498197fc79f38b0": {
      "model_module": "@jupyter-widgets/base",
      "model_module_version": "2.0.0",
      "model_name": "LayoutModel",
      "state": {
       "width": "900px"
      }
     },
     "9e4619d19cf643758d2e2cd29a0c7df5": {
      "model_module": "@jupyter-widgets/controls",
      "model_module_version": "2.0.0",
      "model_name": "ButtonModel",
      "state": {
       "button_style": "info",
       "description": "Print json results",
       "layout": "IPY_MODEL_cb6ea894ed9248318364633d67b4d961",
       "style": "IPY_MODEL_8a482b4b0edf446b82c93bb477782385",
       "tooltip": null
      }
     },
     "9f49b8099cd143ae8b47043ed98f88e1": {
      "model_module": "@jupyter-widgets/controls",
      "model_module_version": "2.0.0",
      "model_name": "TextStyleModel",
      "state": {
       "description_width": "initial",
       "font_size": null,
       "text_color": null
      }
     },
     "a435d5ee4ad7485eba038d4477db68fd": {
      "model_module": "@jupyter-widgets/controls",
      "model_module_version": "2.0.0",
      "model_name": "ButtonModel",
      "state": {
       "button_style": "primary",
       "description": "Save Data Access Answers to json file",
       "layout": "IPY_MODEL_6aebaf4627014664bbac335f542c4008",
       "style": "IPY_MODEL_fab9557870124a1db660e8447dbaba45",
       "tooltip": null
      }
     },
     "a6099f39384045fb9862bf18ba0ecd00": {
      "model_module": "@jupyter-widgets/controls",
      "model_module_version": "2.0.0",
      "model_name": "SelectMultipleModel",
      "state": {
       "_options_labels": [
        "CSV",
        "netCDF",
        "geoJSON",
        "Shapefile",
        "GRIB",
        "HDF",
        "GeoTIFF",
        "KML",
        "GINI",
        "Zarr",
        "Other"
       ],
       "index": [],
       "layout": "IPY_MODEL_82c006d0000e411890bdd7627a5daec0",
       "rows": 11,
       "style": "IPY_MODEL_426a48c1fa5b411c972a635a024e67a6"
      }
     },
     "aa67f8c0c625463eb1a9b54a492fb5bf": {
      "model_module": "@jupyter-widgets/controls",
      "model_module_version": "2.0.0",
      "model_name": "TextStyleModel",
      "state": {
       "description_width": "initial",
       "font_size": null,
       "text_color": null
      }
     },
     "adb29df3586d4333af3ef43538922f2a": {
      "model_module": "@jupyter-widgets/base",
      "model_module_version": "2.0.0",
      "model_name": "LayoutModel",
      "state": {
       "width": "900px"
      }
     },
     "aed2320431954af2b8424efa9781539f": {
      "model_module": "@jupyter-widgets/controls",
      "model_module_version": "2.0.0",
      "model_name": "ComboboxModel",
      "state": {
       "description": "4.4 Is there an Application Programming Interface (API) or web service to access the data?",
       "ensure_option": false,
       "layout": "IPY_MODEL_b497fde7409f4130a9b08c0e2dafd251",
       "options": [
        "Yes",
        "No",
        "N/A"
       ],
       "placeholder": "Click to select option",
       "style": "IPY_MODEL_f41bd2caee154609a21a52e01831dccb"
      }
     },
     "b0bf021e66f44030875900be647ce9a9": {
      "model_module": "@jupyter-widgets/controls",
      "model_module_version": "2.0.0",
      "model_name": "ComboboxModel",
      "state": {
       "description": "Are the main formats machine-readable?",
       "ensure_option": false,
       "layout": "IPY_MODEL_adb29df3586d4333af3ef43538922f2a",
       "options": [
        "Yes",
        "No",
        "N/A"
       ],
       "placeholder": "Click to select option",
       "style": "IPY_MODEL_bfad3c6461134b32bd521ae9074d98a7"
      }
     },
     "b497fde7409f4130a9b08c0e2dafd251": {
      "model_module": "@jupyter-widgets/base",
      "model_module_version": "2.0.0",
      "model_name": "LayoutModel",
      "state": {
       "width": "900px"
      }
     },
     "b4e7ab08b538467985959b4102a10428": {
      "model_module": "@jupyter-widgets/base",
      "model_module_version": "2.0.0",
      "model_name": "LayoutModel",
      "state": {}
     },
     "b93d107528c64300a2c32d2d1cdc8672": {
      "model_module": "@jupyter-widgets/controls",
      "model_module_version": "2.0.0",
      "model_name": "ComboboxModel",
      "state": {
       "description": "Are there tools/services to support data format conversion?",
       "ensure_option": false,
       "layout": "IPY_MODEL_e331e23895f34948862cc2b00056372d",
       "options": [
        "Yes",
        "No",
        "N/A"
       ],
       "placeholder": "Click to select option",
       "style": "IPY_MODEL_c3082449ba9e42e7af24d0741449a105"
      }
     },
     "bfad3c6461134b32bd521ae9074d98a7": {
      "model_module": "@jupyter-widgets/controls",
      "model_module_version": "2.0.0",
      "model_name": "TextStyleModel",
      "state": {
       "description_width": "initial",
       "font_size": null,
       "text_color": null
      }
     },
     "bfecb4ea31dc43eeb2fc8f893c20ef50": {
      "model_module": "@jupyter-widgets/base",
      "model_module_version": "2.0.0",
      "model_name": "LayoutModel",
      "state": {
       "width": "900px"
      }
     },
     "c12c10df12d74af3a5534341712f012e": {
      "model_module": "@jupyter-widgets/controls",
      "model_module_version": "2.0.0",
      "model_name": "TextStyleModel",
      "state": {
       "description_width": "initial",
       "font_size": null,
       "text_color": null
      }
     },
     "c2b5c49e2e384d1b9a795a1a1610adc0": {
      "model_module": "@jupyter-widgets/controls",
      "model_module_version": "2.0.0",
      "model_name": "ComboboxModel",
      "state": {
       "description": "If there is an API, does the API follow an open standard protocol (e.g., OGC)?",
       "ensure_option": false,
       "layout": "IPY_MODEL_18d36cd1be9e4f36b7c85cdda1f17cb7",
       "options": [
        "Yes",
        "No",
        "N/A"
       ],
       "placeholder": "Click to select option",
       "style": "IPY_MODEL_aa67f8c0c625463eb1a9b54a492fb5bf"
      }
     },
     "c3082449ba9e42e7af24d0741449a105": {
      "model_module": "@jupyter-widgets/controls",
      "model_module_version": "2.0.0",
      "model_name": "TextStyleModel",
      "state": {
       "description_width": "initial",
       "font_size": null,
       "text_color": null
      }
     },
     "c6339ccea52143558526c34440fd5c63": {
      "model_module": "@jupyter-widgets/controls",
      "model_module_version": "2.0.0",
      "model_name": "TextModel",
      "state": {
       "layout": "IPY_MODEL_16822cb2467e4c84b411fe846d74ba0c",
       "placeholder": "If “Yes”, please provide a URL to the documentation.",
       "style": "IPY_MODEL_2b6c132479664ffc8a6715f2c57911ef"
      }
     },
     "cb6ea894ed9248318364633d67b4d961": {
      "model_module": "@jupyter-widgets/base",
      "model_module_version": "2.0.0",
      "model_name": "LayoutModel",
      "state": {
       "flex": "1 1 auto",
       "width": "auto"
      }
     },
     "ce490233a82a4abebe1fa9d406f05965": {
      "model_module": "@jupyter-widgets/controls",
      "model_module_version": "2.0.0",
      "model_name": "TextStyleModel",
      "state": {
       "description_width": "initial",
       "font_size": null,
       "text_color": null
      }
     },
     "db1955684881417abeedc803f1fa7dd3": {
      "model_module": "@jupyter-widgets/output",
      "model_module_version": "1.0.0",
      "model_name": "OutputModel",
      "state": {
       "layout": "IPY_MODEL_b4e7ab08b538467985959b4102a10428"
      }
     },
     "e331e23895f34948862cc2b00056372d": {
      "model_module": "@jupyter-widgets/base",
      "model_module_version": "2.0.0",
      "model_name": "LayoutModel",
      "state": {
       "width": "900px"
      }
     },
     "eaef55fbbbb34010a4683ebd3f34a343": {
      "model_module": "@jupyter-widgets/base",
      "model_module_version": "2.0.0",
      "model_name": "LayoutModel",
      "state": {
       "width": "900px"
      }
     },
     "f41bd2caee154609a21a52e01831dccb": {
      "model_module": "@jupyter-widgets/controls",
      "model_module_version": "2.0.0",
      "model_name": "TextStyleModel",
      "state": {
       "description_width": "initial",
       "font_size": null,
       "text_color": null
      }
     },
     "fab9557870124a1db660e8447dbaba45": {
      "model_module": "@jupyter-widgets/controls",
      "model_module_version": "2.0.0",
      "model_name": "ButtonStyleModel",
      "state": {
       "font_family": null,
       "font_size": null,
       "font_style": null,
       "font_variant": null,
       "font_weight": null,
       "text_color": null,
       "text_decoration": null
      }
     },
     "fd0e9038c79c4e42a351b852af2ec294": {
      "model_module": "@jupyter-widgets/controls",
      "model_module_version": "2.0.0",
      "model_name": "LabelModel",
      "state": {
       "layout": "IPY_MODEL_98b08e03d53642f5b545b44ca0a3aca4",
       "style": "IPY_MODEL_61734fa6a2214c968cffa45f79bd901b",
       "value": "4.1 What is/are the major file formats? (Use shift / Ctrl / CMD to select multiple)"
      }
     }
    },
    "version_major": 2,
    "version_minor": 0
   }
  }
 },
 "nbformat": 4,
 "nbformat_minor": 5
}
