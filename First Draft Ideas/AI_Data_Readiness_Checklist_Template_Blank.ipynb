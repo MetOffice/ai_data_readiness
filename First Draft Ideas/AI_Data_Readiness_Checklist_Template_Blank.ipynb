{
 "cells": [
  {
   "cell_type": "markdown",
   "id": "f8198bd3-3e2a-444f-bff5-c9647a804ca9",
   "metadata": {
    "editable": true,
    "slideshow": {
     "slide_type": ""
    },
    "tags": []
   },
   "source": [
    "# **Data Readiness For AI Checklist**\n",
    "\n",
    " * Creator(s) John Pill & Lewis Lee\n",
    " * Affiliation: UK Met Office\n",
    " * History: 1.0\n",
    " * Last update: 27 August 2024.\n",
    "\n",
    "\n",
    "---"
   ]
  },
  {
   "cell_type": "markdown",
   "id": "6ac1eb47-ae19-48f9-8a66-268b970dc97c",
   "metadata": {},
   "source": [
    "## **Overview**\n",
    "The checklist is developed using the 2019 draft readiness matrix developed by the Office of Science and Technology Policy Subcommittee on Open Science as a basis. The checklist has been improved based on further research and user feedback. Definitions for some concepts are listed at the end of this document. This checklist is developed through a collaboration of ESIP Data Readiness Cluster members include representatives from NOAA, NASA, USGS, and other organizations. The checklist will be updated periodically to reflect community feedback.\n",
    "\n",
    "ESIP Data Readiness Cluster (2023): Checklist to Examine AI-readiness for Open Environmental Datasets v.1.0. ESIP. Online resource. https://doi.org/10.6084/m9.figshare.19983722.v1\n",
    "\n",
    "Readiness Matrix (2020): What is AI-Ready Open Data? NOAA. Online resource. https://www.star.nesdis.noaa.gov/star/documents/meetings/2020AI/presentations/202010/20201022_Christensen.pdf\n",
    "\n",
    "### Prerequisites\n",
    "Ideally for AI-ready assessment, a dataset should be defined as the minimum measurable bundle (i.e., a physical parameter/variable of observational datasets or model simulations). The assessment at this scale will enable better integration of data from different sources for research and development. However, it can be an intensive process for manual assessment without automation. Therefore, we recommend current assessments be done on the data file level. If the dataset has different versions, the checklist should be applied to each dataset type (e.g. raw, derived).\n",
    "\n",
    "### Learning Outcomes\n",
    "* Know how to check a range of dataset features. \n",
    "* Assess a wide range of dataset features, which will impact the dataset's 'readiness' for machine learning.  \n",
    "\n",
    "\n",
    "---"
   ]
  },
  {
   "cell_type": "markdown",
   "id": "f61ad742-0a6d-4b49-83f3-a4bb1828975e",
   "metadata": {},
   "source": [
    "## **Tutorial Material TODO**\n",
    "\n",
    "\n",
    "It is useful to **bold** your answers so they are more visable. Add 2 asterisks ```**around your text**``` to do so.\n",
    "\n",
    "\n",
    "### Data section, optional\n",
    "Scripts for pulling the data into the notebook assuming\n"
   ]
  },
  {
   "cell_type": "markdown",
   "id": "3bf24dda-6822-45ae-a005-6d2f4138e7a8",
   "metadata": {},
   "source": [
    "---\n",
    "\n",
    "## **Dataset General Info**\n"
   ]
  },
  {
   "cell_type": "markdown",
   "id": "6faea870-624c-4cb6-8bfa-d93a4a16aea0",
   "metadata": {},
   "source": [
    "### Basic details\n",
    "\n",
    "1. Dataset Name: \n",
    "\n",
    "2. Dataset Version:\n",
    "\n",
    "3. Dataset Location/Link:\n",
    "\n",
    "4. Assessor Name:\n",
    "\n",
    "5. Assessor Email:\n"
   ]
  },
  {
   "cell_type": "markdown",
   "id": "ab7b5096-fc94-4bbb-bf29-885026e712bf",
   "metadata": {},
   "source": [
    "### Dataset details\n",
    "\n",
    "6. Is this raw data or a derived/processed data product? Raw/Derived\n",
    "\n",
    "7. Is this observational data, simulation/model output, or synthetic data? Observed/Modeled/Synthetic\n",
    "\n",
    "8. Is the data single-source or aggregated from several sources? Is the data single-source or aggregated from several sources? Single-source/Aggregated"
   ]
  },
  {
   "cell_type": "markdown",
   "id": "7b756c71-6015-4d1a-a019-8be3355438af",
   "metadata": {},
   "source": [
    "---\n",
    "\n",
    "## **Data Quality**"
   ]
  },
  {
   "cell_type": "markdown",
   "id": "c5444121-9f6b-4257-90eb-b3e280c227d4",
   "metadata": {},
   "source": [
    "### Data timeliness\n",
    "\n",
    "1. Will the dataset be updated: Yes / No\n",
    "\n",
    "    * If the data will be updated, how often will it be updated: when new data added, frequency (weekly, monthly).\n",
    "       \n",
    "    * Will there be different stages of the update (e.g., updated with preliminary data first and replaced by a later update of the full record)?\n",
    "        \n",
    "    * If yes, what is the delay between different stages?\n",
    "    \n",
    "    * Should the new version of the dataset supersede the current version?\n",
    "    "
   ]
  },
  {
   "cell_type": "markdown",
   "id": "eea71f21-807f-481c-97bb-80c43427f270",
   "metadata": {},
   "source": [
    "### Data completeness\n",
    "\n",
    "2. Is there any documentation about the completeness of the dataset? Yes / No - (If yes, link to the report/document)\n",
    "\n",
    "3. How complete is the dataset compared to the expected spatial coverage? Complete / Partial / Unknown / Not applicable\n",
    "\n",
    "4. How complete is the dataset compared to the expected temporal coverage? Complete / Partial / Unknown / Not applicable\n",
    "\n"
   ]
  },
  {
   "cell_type": "markdown",
   "id": "5b56e1f9-6811-446a-a67b-67d04e932be0",
   "metadata": {},
   "source": [
    "### Data consistency"
   ]
  },
  {
   "cell_type": "markdown",
   "id": "5a6027cc-cf23-4827-84a9-bd480ad9b9dc",
   "metadata": {},
   "source": [
    "5. Is this dataset self-consistent in that its units, data types, and parameter names do not change over time and space? Yes / No / Not applicable\n",
    "\n",
    "6. Is this dataset’s units, data types, and parameter names consistent with similar data collections? Yes / No / Not applicable\n",
    "\n",
    "7. Are there processes to monitor for units, data types, and parameter consistency? Yes / No / Not applicable\n",
    "* If yes, what measures are taken? Manual review / Automated review\n"
   ]
  },
  {
   "cell_type": "markdown",
   "id": "55405b83-c482-41d0-b1a4-df37191f1a9b",
   "metadata": {},
   "source": [
    "### Data bias"
   ]
  },
  {
   "cell_type": "markdown",
   "id": "041009f6-cc3e-4c4a-8ec2-e84bddf20638",
   "metadata": {},
   "source": [
    "1. Is there known bias in the dataset? Yes / No - If yes provide information.\n",
    "\n",
    "2. Have measures been taken to examine bias? Yes / No\n",
    "    * If yes, what measures were used?\n",
    "    * Is the bias metrological traceable?\n",
    "\n",
    "\n",
    "3. Is there reported bias in the data? No known bias / Bias found and reported / No information available\n",
    "    * (optional) Link to the report/document on the bias\n",
    "    * (optional) Link to tools available to reduce bias\n",
    "    * (optional) Link to a bias-corrected or bias-reduced version of the dataset\n",
    "\n",
    "\n",
    "4. Is there quantitative information about data resolution in space and time? Yes / No / Not applicable\n",
    "\n",
    "5. Are there published data quality procedures or reports? Yes / No\n",
    "    * If there is published quality information, please provide the link to the information.\n",
    "\n",
    "\n",
    "6. Is the provenance of the dataset tracked and documented? Yes / No / Not applicable\n",
    "\n",
    "7. Are there checksums / other checks for data integrity? Yes / No / Not applicable\n",
    "\n",
    "8. What is the size of the dataset? Depending on the resource, this might be total data volume, dimensionality, number of images, data files, table rows, image size, etc. [Short Answer]\n",
    "\n",
    "\n"
   ]
  },
  {
   "cell_type": "markdown",
   "id": "7117d50a-3575-4662-b1a3-f8530ecf7242",
   "metadata": {},
   "source": [
    "### Data Quality Assessment Matrix\n",
    "\n",
    "<img src=\"Images/data_quality_matrix.png\" width=800 height=\"auto\" />"
   ]
  },
  {
   "cell_type": "markdown",
   "id": "f8636b2a-2be4-43ea-9517-048263170adb",
   "metadata": {},
   "source": [
    "---\n",
    "\n",
    "## **Data Documentation**"
   ]
  },
  {
   "cell_type": "markdown",
   "id": "0df26e30-b860-46de-8673-f13554eeab88",
   "metadata": {},
   "source": [
    "### Community standard or convention\n",
    "\n",
    "1. Does the dataset metadata follow a community/domain standard or convention? Yes / No / Not applicable\n",
    "      * If the metadata follows a community/domain standard, which standard is it? (CF, TBD, etc.)\n",
    "      * Is the dataset metadata machine-readable? Yes / No / Not applicable\n",
    "      * Does it include details on the spatial and temporal extent? Yes / No / Not applicable\n"
   ]
  },
  {
   "cell_type": "markdown",
   "id": "6623c23f-c9d6-47ba-b4f0-9c6e777d3d49",
   "metadata": {},
   "source": [
    "### Data dictionary\n",
    "\n",
    "2. Is there a comprehensive data dictionary/codebook that describes what each element of the dataset means? parameters? Yes / No / Not applicable\n",
    "    * Is the data dictionary standardized? Yes / No / Not applicable\n",
    "    * Is the data dictionary machine-readable? Yes / No / Not applicable\n",
    "    * Do the parameters follow a defined standard? Yes / No / Not applicable\n",
    "    * If the parameters follow a defined standard, which standard it is?\n",
    "    * Are parameters crosswalked in an ontology or common vocabulary (e.g. NIEM)? Yes / No / Not applicable"
   ]
  },
  {
   "cell_type": "markdown",
   "id": "0b169329-5852-44c5-adbb-6d0ce30812cf",
   "metadata": {},
   "source": [
    "### Unique persistent identifier\n",
    "\n",
    "3. Does the dataset have a unique persistent identifier, e.g. DOI? Yes, [supply identifier] / No / Not applicable\n"
   ]
  },
  {
   "cell_type": "markdown",
   "id": "fffa0c8f-cea1-4c94-8e21-93dcaa4f7cf3",
   "metadata": {},
   "source": [
    "### Contact information and feedback\n",
    "\n",
    "4. Is there contact information for subject-matter experts? Yes / No / Not applicable\n",
    "\n",
    "5. Is there a mechanism for user feedback and suggestions? Yes / No / Not applicable"
   ]
  },
  {
   "cell_type": "markdown",
   "id": "1ee9173d-e7cb-4959-bc32-ced1247122b9",
   "metadata": {},
   "source": [
    "### Examples codes / notebooks / toolkits\n",
    "\n",
    "6. Are there example codes / notebooks / toolkits available showing how the data can be used? Yes / No / Not applicable\n"
   ]
  },
  {
   "cell_type": "markdown",
   "id": "b80cff89-1971-426d-8ddc-c130b22d8294",
   "metadata": {},
   "source": [
    "### Licesnses\n",
    "\n",
    "7. What is the license for the data?\n",
    "\n",
    "    * Is the license standardized and machine-readable (e.g. Creative Commons)? Yes / No / Not applicable\n"
   ]
  },
  {
   "cell_type": "markdown",
   "id": "47b25bef-3f4d-4a88-b666-b1abefcbac18",
   "metadata": {},
   "source": [
    "### Dataset useage\n",
    "\n",
    "8. Has this dataset already been used in AI or ML activities? Link to publications/reports.\n",
    "\n",
    "9. Are there recommendations on the intended use of the data, and uses that are not recommended? Yes / No/ Not applicable\n"
   ]
  },
  {
   "cell_type": "markdown",
   "id": "7d83f99d-910f-4a87-b2d2-b995d26fddf2",
   "metadata": {},
   "source": [
    "### Data Documentation Assessment Matrix\n",
    "\n",
    "<img src=\"Images/data_documentation_matrix.png\" width=800 height=\"auto\" />"
   ]
  },
  {
   "cell_type": "markdown",
   "id": "ead060fb-06f2-4aae-9078-bf85bc7d9228",
   "metadata": {},
   "source": [
    "---\n",
    "\n",
    "## **Data Access**"
   ]
  },
  {
   "cell_type": "markdown",
   "id": "12e3b61f-8d2d-45b1-84e5-edabefbf4277",
   "metadata": {},
   "source": [
    "### File formats\n",
    "\n",
    "1. What is/are the major file formats? (CSV, netCDF, etc.)\n",
    "\n",
    "    * Is this format machine-readable? Yes / No / Not applicable\n",
    "    * Is the data available in at least one open, non-proprietary format? Yes / No / Not applicable\n",
    "    * Are there tools/services to support data format conversion? Yes / No\n",
    "    * If so, provide the link to the tools/services"
   ]
  },
  {
   "cell_type": "markdown",
   "id": "7e3bb476-ba1e-4507-b7f0-55db7ce9710a",
   "metadata": {},
   "source": [
    "### Data delivery\n",
    "2. Does data access require authentication (e.g., a registered user account)? Yes / No / Not applicable\n",
    "\n",
    "3. Can the file be accessed via direct file downloading or ordering? Yes / No / Not applicable\n",
    "\n",
    "4. Is there an Application Programming Interface (API) or web service to access the data? Yes / No / Not applicable. \n",
    "\n",
    "    * If there is an API, does the API follow an open standard protocol (e.g., OGC)? Yes / No\n",
    "    * If there is an API, is there documentation for the API? Yes / No\n",
    "    * If “Yes”, please provide a URL to the documentation."
   ]
  },
  {
   "cell_type": "markdown",
   "id": "5cb8b683-a629-4616-8074-65e696da6e9a",
   "metadata": {},
   "source": [
    "### Privacy and security\n",
    "\n",
    "5. For restricted data, have measures been taken to provide some access while still applying appropriate protection for privacy and security? Yes / No / Not Applicable\n",
    "\n",
    "    * Has the data been aggregated to reduce granularity? Yes / No / Not applicable\n",
    "    * Has the data been anonymized / de-identified? Yes / No / Not applicable\n",
    "    * Is there secure access to the full dataset for authorized users? Yes / No / Not applicable"
   ]
  },
  {
   "cell_type": "markdown",
   "id": "df576be3-39b4-49d3-9a70-223efa33a61a",
   "metadata": {},
   "source": [
    "### Data Access Assessment Matrix\n",
    "\n",
    "\n",
    "<img src=\"Images/data_access_matrix.png\" width=800 height=\"auto\" />"
   ]
  },
  {
   "cell_type": "markdown",
   "id": "0ef2f783-495b-406e-8c25-5258c410520c",
   "metadata": {},
   "source": [
    "---\n",
    "\n",
    "## **Data Preparation**"
   ]
  },
  {
   "cell_type": "markdown",
   "id": "fc47836b-19bb-4d24-b500-884d9e754f78",
   "metadata": {},
   "source": [
    "### Null values\n",
    "1. Have null values/gaps been filled? Yes / No / Not applicable"
   ]
  },
  {
   "cell_type": "markdown",
   "id": "8cc450ae-d5bb-464d-bc4d-da3f09bcca06",
   "metadata": {},
   "source": [
    "### Outliers\n",
    "\n",
    "2. Have outliers been identified? Yes, tagged / Yes, removed / No / Not applicable\n"
   ]
  },
  {
   "cell_type": "markdown",
   "id": "ad80647b-e571-4b0c-a291-c75c76b867fd",
   "metadata": {},
   "source": [
    "### Gridded data\n",
    "3. Is the data gridded (regularly sampled in time and space)?\n",
    "\n",
    "    * Regularly gridded in space / Constant time-frequency / Regularly gridded in space and constant time-frequency / Not gridded / Not applicable\n",
    "\n",
    "    * If the data is gridded, was it transformed from a different original sampling? Yes, from irregular sampling / Yes, from a different regular sampling / No, this is the original sampling\n",
    "\n",
    "    * If the data is resampled from the original sampling, is the data also available at the original sampling? Yes / No / Only available at request / Not applicable\n"
   ]
  },
  {
   "cell_type": "markdown",
   "id": "55a87005-4929-45c3-a2f6-f0b4eec60de8",
   "metadata": {},
   "source": [
    "### Targets / labels for supervised learning\n",
    "\n",
    "4. Are there associated targets or labels for supervised learning techniques (i.e., can this be used as a training dataset for supervised learning techniques)? Yes / No / Not applicable\n",
    "\n",
    "    * If there are associated targets/labels, are community labeling standards implemented (e.g., STAC label extension, ESA AIREO specification, etc)?\n"
   ]
  },
  {
   "cell_type": "markdown",
   "id": "c760fc3b-f413-46e4-8a76-31684d83a2d2",
   "metadata": {},
   "source": [
    "---\n",
    "\n",
    "## **Appendix** - Definition of terms used in the checklist."
   ]
  },
  {
   "cell_type": "markdown",
   "id": "76b55144-23ad-41ed-bdb2-6b347026d278",
   "metadata": {},
   "source": [
    "### Quality\n",
    "* **Completeness**: the breadth of a dataset compared to an ideal 100% completion (spatial, temporal, demographic, etc.); important in avoiding sampling bias\n",
    "* **Consistency**: uniformity within the entire dataset or compared with similar data collections; for example, no changes in units or data types over time; the item measured against itself or its a counterpart in another dataset or database\n",
    "* **Bias**: a systematic tilt in the dataset when compared to a reference, caused for example by instrumentation, incorrect data processing, unrepresentative sampling, or human error; the exact nature of bias and how it is measured will vary depending on the type of data and the research domain.\n",
    "* **Uncertainty**: parameter, associated with the result of a measurement, that characterizes the dispersion of the values that could reasonably be attributed to the measurand.\n",
    "* **Timeliness**: the speed of data release, compared to when an event occurred or measurements were made; requirements will vary depending on the timeframe of the phenomenon (e.g., severe thunderstorms vs. climate change, or disease outbreaks vs. life expectancy trends)\n",
    "* **Provenance**: identification of the data sources, how it was processed, and who released it.\n",
    "* **Integrity**: verification that the data remains unchanged from the original; aka data fixity."
   ]
  },
  {
   "cell_type": "markdown",
   "id": "7e4e52d2-20ae-497a-8b99-3e219893c35f",
   "metadata": {},
   "source": [
    "### Documentation\n",
    "* **Dataset Metadata**: complete information about the dataset: quality, provenance, location, time period, responsible parties, purpose, etc.\n",
    "* **Data Dictionary/Codebook**: complete information about the individual variables / measures / parameters within a dataset: type, units, null value, etc.\n",
    "* **Identifier**: a code or number that uniquely identifies a dataset\n",
    "* **Ontology**: formalized definitions of concepts within a domain of knowledge, and the nature of the inter-relationships among those concepts"
   ]
  },
  {
   "cell_type": "markdown",
   "id": "d5efc4cd-4a6d-4226-a29e-314bcc526d22",
   "metadata": {},
   "source": [
    "### Data Access\n",
    "\n",
    "* **Formats**: standards that govern how information is stored in a computer file (e.g., CSV, JSON, GeoTIFF, etc.); different AI user communities will have different requirements, so the best practice is to provide several format options to meet the needs of multiple high priority user communities.\n",
    "* **Delivery Options**: mechanisms for publishing open data for public use (e.g., direct file download, Application Programming Interface (API), cloud services, etc.); different AI user communities will have different requirements, so the best practice is to provide several delivery options to meet the needs of multiple high priority user communities.\n",
    "* **License/Usage Rights**: information on who is allowed to use the data and for what purposes, including data sharing agreements, fees, etc.; some federal data needs to have restrictions and some will be fully open, so rights should be documented in detail\n",
    "* **Security/Privacy**: protection of data that is restricted in some way (privacy, proprietary/business information, national security, etc.)\n"
   ]
  }
 ],
 "metadata": {
  "kernelspec": {
   "display_name": "Python 3 (ipykernel)",
   "language": "python",
   "name": "python3"
  },
  "language_info": {
   "codemirror_mode": {
    "name": "ipython",
    "version": 3
   },
   "file_extension": ".py",
   "mimetype": "text/x-python",
   "name": "python",
   "nbconvert_exporter": "python",
   "pygments_lexer": "ipython3",
   "version": "3.11.8"
  }
 },
 "nbformat": 4,
 "nbformat_minor": 5
}
